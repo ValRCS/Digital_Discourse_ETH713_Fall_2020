{
 "cells": [
  {
   "cell_type": "code",
   "execution_count": 2,
   "metadata": {},
   "outputs": [
    {
     "name": "stdout",
     "output_type": "stream",
     "text": [
      "Collecting selenium\n",
      "  Downloading selenium-3.141.0-py2.py3-none-any.whl (904 kB)\n",
      "Requirement already satisfied: urllib3 in c:\\users\\liga\\anaconda3\\lib\\site-packages (from selenium) (1.25.9)\n",
      "Installing collected packages: selenium\n",
      "Successfully installed selenium-3.141.0\n"
     ]
    }
   ],
   "source": [
    "!pip install selenium # only once!"
   ]
  },
  {
   "cell_type": "code",
   "execution_count": null,
   "metadata": {},
   "outputs": [],
   "source": [
    "# What is Selenium?\n",
    "# Selenium is a web automation tool that allows you to automate web browser interactions from Python.\n",
    "# Selenium is a tool that automates web browsers.\n",
    "# Selenium page: https://www.seleniumhq.org/"
   ]
  },
  {
   "cell_type": "code",
   "execution_count": 2,
   "metadata": {},
   "outputs": [
    {
     "name": "stdout",
     "output_type": "stream",
     "text": [
      "Requirement already satisfied: selenium in c:\\users\\val-wd\\appdata\\local\\programs\\python\\python310\\lib\\site-packages (4.6.1)\n",
      "Requirement already satisfied: certifi>=2021.10.8 in c:\\users\\val-wd\\appdata\\local\\programs\\python\\python310\\lib\\site-packages (from selenium) (2022.9.24)\n",
      "Requirement already satisfied: urllib3[socks]~=1.26 in c:\\users\\val-wd\\appdata\\local\\programs\\python\\python310\\lib\\site-packages (from selenium) (1.26.13)\n",
      "Requirement already satisfied: trio~=0.17 in c:\\users\\val-wd\\appdata\\local\\programs\\python\\python310\\lib\\site-packages (from selenium) (0.22.0)\n",
      "Requirement already satisfied: trio-websocket~=0.9 in c:\\users\\val-wd\\appdata\\local\\programs\\python\\python310\\lib\\site-packages (from selenium) (0.9.2)\n",
      "Requirement already satisfied: outcome in c:\\users\\val-wd\\appdata\\local\\programs\\python\\python310\\lib\\site-packages (from trio~=0.17->selenium) (1.2.0)\n",
      "Requirement already satisfied: cffi>=1.14 in c:\\users\\val-wd\\appdata\\local\\programs\\python\\python310\\lib\\site-packages (from trio~=0.17->selenium) (1.15.1)\n",
      "Requirement already satisfied: async-generator>=1.9 in c:\\users\\val-wd\\appdata\\local\\programs\\python\\python310\\lib\\site-packages (from trio~=0.17->selenium) (1.10)\n",
      "Requirement already satisfied: sniffio in c:\\users\\val-wd\\appdata\\local\\programs\\python\\python310\\lib\\site-packages (from trio~=0.17->selenium) (1.3.0)\n",
      "Requirement already satisfied: idna in c:\\users\\val-wd\\appdata\\local\\programs\\python\\python310\\lib\\site-packages (from trio~=0.17->selenium) (3.4)\n",
      "Requirement already satisfied: exceptiongroup>=1.0.0rc9 in c:\\users\\val-wd\\appdata\\local\\programs\\python\\python310\\lib\\site-packages (from trio~=0.17->selenium) (1.0.4)\n",
      "Requirement already satisfied: sortedcontainers in c:\\users\\val-wd\\appdata\\local\\programs\\python\\python310\\lib\\site-packages (from trio~=0.17->selenium) (2.4.0)\n",
      "Requirement already satisfied: attrs>=19.2.0 in c:\\users\\val-wd\\appdata\\local\\programs\\python\\python310\\lib\\site-packages (from trio~=0.17->selenium) (22.1.0)\n",
      "Requirement already satisfied: wsproto>=0.14 in c:\\users\\val-wd\\appdata\\local\\programs\\python\\python310\\lib\\site-packages (from trio-websocket~=0.9->selenium) (1.2.0)\n",
      "Requirement already satisfied: PySocks!=1.5.7,<2.0,>=1.5.6 in c:\\users\\val-wd\\appdata\\local\\programs\\python\\python310\\lib\\site-packages (from urllib3[socks]~=1.26->selenium) (1.7.1)\n",
      "Requirement already satisfied: pycparser in c:\\users\\val-wd\\appdata\\local\\programs\\python\\python310\\lib\\site-packages (from cffi>=1.14->trio~=0.17->selenium) (2.21)\n",
      "Requirement already satisfied: h11<1,>=0.9.0 in c:\\users\\val-wd\\appdata\\local\\programs\\python\\python310\\lib\\site-packages (from wsproto>=0.14->trio-websocket~=0.9->selenium) (0.14.0)\n"
     ]
    },
    {
     "name": "stderr",
     "output_type": "stream",
     "text": [
      "\n",
      "[notice] A new release of pip available: 22.2.2 -> 22.3.1\n",
      "[notice] To update, run: C:\\Users\\val-wd\\AppData\\Local\\Programs\\Python\\Python310\\python.exe -m pip install --upgrade pip\n"
     ]
    }
   ],
   "source": [
    "!pip install selenium"
   ]
  },
  {
   "cell_type": "code",
   "execution_count": 1,
   "metadata": {},
   "outputs": [],
   "source": [
    "# if import fails\n",
    "# 1. check if selenium is installed \n",
    "# if not install it with !pip install selenium\n",
    "# 2. check if the path to the driver is correct\n",
    "# 3. check if the driver is up to date\n",
    "\n",
    "\n",
    "from selenium import webdriver\n",
    "from selenium.webdriver.common.keys import Keys\n",
    "\n",
    "browser = webdriver.Chrome()\n",
    "# import to install driver: https://sites.google.com/a/chromium.org/chromedriver/downloads\n",
    "# list of drivers for all browsers: https://selenium-python.readthedocs.io/installation.html#drivers"
   ]
  },
  {
   "cell_type": "code",
   "execution_count": 2,
   "metadata": {},
   "outputs": [],
   "source": [
    "browser.get('http://www.ss.com')\n",
    "assert 'SS' in browser.title"
   ]
  },
  {
   "cell_type": "code",
   "execution_count": null,
   "metadata": {},
   "outputs": [],
   "source": [
    "# elem = browser.find_element_by_name('p')  # Find the search box\n",
    "# elem.send_keys('seleniumhq' + Keys.RETURN)"
   ]
  },
  {
   "cell_type": "code",
   "execution_count": 3,
   "metadata": {},
   "outputs": [
    {
     "data": {
      "text/plain": [
       "'https://www.ss.com/'"
      ]
     },
     "execution_count": 3,
     "metadata": {},
     "output_type": "execute_result"
    }
   ],
   "source": [
    "browser.current_url"
   ]
  },
  {
   "cell_type": "code",
   "execution_count": 6,
   "metadata": {},
   "outputs": [
    {
     "data": {
      "text/plain": [
       "selenium.webdriver.remote.webelement.WebElement"
      ]
     },
     "execution_count": 6,
     "metadata": {},
     "output_type": "execute_result"
    }
   ],
   "source": [
    "# find element by id using new syntax\n",
    "# import BY\n",
    "from selenium.webdriver.common.by import By\n",
    "cars = browser.find_element(By.ID, 'mtd_97') # just and example\n",
    "\n",
    "type(cars)"
   ]
  },
  {
   "cell_type": "code",
   "execution_count": 7,
   "metadata": {},
   "outputs": [
    {
     "data": {
      "text/plain": [
       "'https://www.ss.com/lv/transport/cars/'"
      ]
     },
     "execution_count": 7,
     "metadata": {},
     "output_type": "execute_result"
    }
   ],
   "source": [
    "cars.get_attribute('href')"
   ]
  },
  {
   "cell_type": "code",
   "execution_count": 8,
   "metadata": {},
   "outputs": [
    {
     "data": {
      "text/plain": [
       "'Vieglie auto'"
      ]
     },
     "execution_count": 8,
     "metadata": {},
     "output_type": "execute_result"
    }
   ],
   "source": [
    "cars.get_attribute('title')"
   ]
  },
  {
   "cell_type": "code",
   "execution_count": 9,
   "metadata": {},
   "outputs": [
    {
     "data": {
      "text/plain": [
       "'Vieglie auto'"
      ]
     },
     "execution_count": 9,
     "metadata": {},
     "output_type": "execute_result"
    }
   ],
   "source": [
    "cars.text"
   ]
  },
  {
   "cell_type": "code",
   "execution_count": 10,
   "metadata": {},
   "outputs": [],
   "source": [
    "# if i have the element I can click on it\n",
    "cars.click()"
   ]
  },
  {
   "cell_type": "code",
   "execution_count": null,
   "metadata": {},
   "outputs": [],
   "source": [
    "# so many methods are similar to beautiful soup\n",
    "# you have more options with selenium\n",
    "# you can click, you can scroll, you can take screenshots, you can automate the browser\n",
    "\n",
    "# very powerful if not a bit slow"
   ]
  },
  {
   "cell_type": "code",
   "execution_count": 9,
   "metadata": {},
   "outputs": [],
   "source": [
    "# https://devhints.io/xpath\n",
    "apart = browser.find_element_by_xpath('//a[@title=\"Dzīvokļi\"]') # XPath is very powerful tool for finding elements"
   ]
  },
  {
   "cell_type": "code",
   "execution_count": 10,
   "metadata": {},
   "outputs": [],
   "source": [
    "apart.click() # i can emulate a mouse click"
   ]
  },
  {
   "cell_type": "code",
   "execution_count": 11,
   "metadata": {},
   "outputs": [],
   "source": [
    "browser.back()"
   ]
  },
  {
   "cell_type": "code",
   "execution_count": 12,
   "metadata": {},
   "outputs": [],
   "source": [
    "browser.forward()"
   ]
  },
  {
   "cell_type": "code",
   "execution_count": 13,
   "metadata": {},
   "outputs": [
    {
     "data": {
      "text/plain": [
       "selenium.webdriver.remote.webelement.WebElement"
      ]
     },
     "execution_count": 13,
     "metadata": {},
     "output_type": "execute_result"
    }
   ],
   "source": [
    "riga = browser.find_element_by_xpath('//a[@title=\"Rīga, Sludinājumi\"]')\n",
    "type(riga)"
   ]
  },
  {
   "cell_type": "code",
   "execution_count": 14,
   "metadata": {},
   "outputs": [],
   "source": [
    "riga.click()"
   ]
  },
  {
   "cell_type": "code",
   "execution_count": 16,
   "metadata": {},
   "outputs": [
    {
     "data": {
      "text/plain": [
       "'https://www.ss.com/lv/real-estate/flats/riga/'"
      ]
     },
     "execution_count": 16,
     "metadata": {},
     "output_type": "execute_result"
    }
   ],
   "source": [
    "browser.current_url"
   ]
  },
  {
   "cell_type": "code",
   "execution_count": 17,
   "metadata": {},
   "outputs": [
    {
     "data": {
      "text/plain": [
       "{'width': 945, 'height': 1020}"
      ]
     },
     "execution_count": 17,
     "metadata": {},
     "output_type": "execute_result"
    }
   ],
   "source": [
    "browser.get_window_size()"
   ]
  },
  {
   "cell_type": "code",
   "execution_count": 18,
   "metadata": {
    "scrolled": true
   },
   "outputs": [
    {
     "data": {
      "text/plain": [
       "True"
      ]
     },
     "execution_count": 18,
     "metadata": {},
     "output_type": "execute_result"
    }
   ],
   "source": [
    "# save with Pillow graphibrowser.get_screenshot_as_png()\n",
    "\n",
    "browser.save_screenshot(\"page.png\")"
   ]
  },
  {
   "cell_type": "code",
   "execution_count": null,
   "metadata": {},
   "outputs": [],
   "source": []
  },
  {
   "cell_type": "code",
   "execution_count": 20,
   "metadata": {},
   "outputs": [],
   "source": [
    "myel = browser.find_element_by_id('ahc_1089')"
   ]
  },
  {
   "cell_type": "code",
   "execution_count": 21,
   "metadata": {},
   "outputs": [
    {
     "data": {
      "text/plain": [
       "'Bolderāja'"
      ]
     },
     "execution_count": 21,
     "metadata": {},
     "output_type": "execute_result"
    }
   ],
   "source": [
    "myel.text"
   ]
  },
  {
   "cell_type": "code",
   "execution_count": 24,
   "metadata": {},
   "outputs": [
    {
     "data": {
      "text/plain": [
       "[{'ATTRIBUTE_NODE': 2,\n",
       "  'CDATA_SECTION_NODE': 4,\n",
       "  'COMMENT_NODE': 8,\n",
       "  'DOCUMENT_FRAGMENT_NODE': 11,\n",
       "  'DOCUMENT_NODE': 9,\n",
       "  'DOCUMENT_POSITION_CONTAINED_BY': 16,\n",
       "  'DOCUMENT_POSITION_CONTAINS': 8,\n",
       "  'DOCUMENT_POSITION_DISCONNECTED': 1,\n",
       "  'DOCUMENT_POSITION_FOLLOWING': 4,\n",
       "  'DOCUMENT_POSITION_IMPLEMENTATION_SPECIFIC': 32,\n",
       "  'DOCUMENT_POSITION_PRECEDING': 2,\n",
       "  'DOCUMENT_TYPE_NODE': 10,\n",
       "  'ELEMENT_NODE': 1,\n",
       "  'ENTITY_NODE': 6,\n",
       "  'ENTITY_REFERENCE_NODE': 5,\n",
       "  'NOTATION_NODE': 12,\n",
       "  'PROCESSING_INSTRUCTION_NODE': 7,\n",
       "  'TEXT_NODE': 3,\n",
       "  'addEventListener': {},\n",
       "  'appendChild': {},\n",
       "  'baseURI': 'https://www.ss.com/',\n",
       "  'childNodes': [],\n",
       "  'cloneNode': {},\n",
       "  'compareDocumentPosition': {},\n",
       "  'contains': {},\n",
       "  'dispatchEvent': {},\n",
       "  'firstChild': None,\n",
       "  'getRootNode': {},\n",
       "  'hasChildNodes': {},\n",
       "  'insertBefore': {},\n",
       "  'isConnected': False,\n",
       "  'isDefaultNamespace': {},\n",
       "  'isEqualNode': {},\n",
       "  'isSameNode': {},\n",
       "  'lastChild': None,\n",
       "  'localName': 'id',\n",
       "  'lookupNamespaceURI': {},\n",
       "  'lookupPrefix': {},\n",
       "  'name': 'id',\n",
       "  'namespaceURI': None,\n",
       "  'nextSibling': None,\n",
       "  'nodeName': 'id',\n",
       "  'nodeType': 2,\n",
       "  'nodeValue': 'ahc_1089',\n",
       "  'normalize': {},\n",
       "  'ownerDocument': <selenium.webdriver.remote.webelement.WebElement (session=\"75c8f2028c6cf43417bc7309546a03dc\", element=\"6fd40361-01e7-4c87-8778-635ceed6f435\")>,\n",
       "  'ownerElement': <selenium.webdriver.remote.webelement.WebElement (session=\"75c8f2028c6cf43417bc7309546a03dc\", element=\"371b0fb0-ce40-4834-b6b1-fbcab8eed48b\")>,\n",
       "  'parentElement': None,\n",
       "  'parentNode': None,\n",
       "  'prefix': None,\n",
       "  'previousSibling': None,\n",
       "  'removeChild': {},\n",
       "  'removeEventListener': {},\n",
       "  'replaceChild': {},\n",
       "  'specified': True,\n",
       "  'textContent': 'ahc_1089',\n",
       "  'value': 'ahc_1089'},\n",
       " {'ATTRIBUTE_NODE': 2,\n",
       "  'CDATA_SECTION_NODE': 4,\n",
       "  'COMMENT_NODE': 8,\n",
       "  'DOCUMENT_FRAGMENT_NODE': 11,\n",
       "  'DOCUMENT_NODE': 9,\n",
       "  'DOCUMENT_POSITION_CONTAINED_BY': 16,\n",
       "  'DOCUMENT_POSITION_CONTAINS': 8,\n",
       "  'DOCUMENT_POSITION_DISCONNECTED': 1,\n",
       "  'DOCUMENT_POSITION_FOLLOWING': 4,\n",
       "  'DOCUMENT_POSITION_IMPLEMENTATION_SPECIFIC': 32,\n",
       "  'DOCUMENT_POSITION_PRECEDING': 2,\n",
       "  'DOCUMENT_TYPE_NODE': 10,\n",
       "  'ELEMENT_NODE': 1,\n",
       "  'ENTITY_NODE': 6,\n",
       "  'ENTITY_REFERENCE_NODE': 5,\n",
       "  'NOTATION_NODE': 12,\n",
       "  'PROCESSING_INSTRUCTION_NODE': 7,\n",
       "  'TEXT_NODE': 3,\n",
       "  'addEventListener': {},\n",
       "  'appendChild': {},\n",
       "  'baseURI': 'https://www.ss.com/',\n",
       "  'childNodes': [],\n",
       "  'cloneNode': {},\n",
       "  'compareDocumentPosition': {},\n",
       "  'contains': {},\n",
       "  'dispatchEvent': {},\n",
       "  'firstChild': None,\n",
       "  'getRootNode': {},\n",
       "  'hasChildNodes': {},\n",
       "  'insertBefore': {},\n",
       "  'isConnected': False,\n",
       "  'isDefaultNamespace': {},\n",
       "  'isEqualNode': {},\n",
       "  'isSameNode': {},\n",
       "  'lastChild': None,\n",
       "  'localName': 'href',\n",
       "  'lookupNamespaceURI': {},\n",
       "  'lookupPrefix': {},\n",
       "  'name': 'href',\n",
       "  'namespaceURI': None,\n",
       "  'nextSibling': None,\n",
       "  'nodeName': 'href',\n",
       "  'nodeType': 2,\n",
       "  'nodeValue': '/lv/real-estate/flats/riga/bolderaya/',\n",
       "  'normalize': {},\n",
       "  'ownerDocument': <selenium.webdriver.remote.webelement.WebElement (session=\"75c8f2028c6cf43417bc7309546a03dc\", element=\"6fd40361-01e7-4c87-8778-635ceed6f435\")>,\n",
       "  'ownerElement': <selenium.webdriver.remote.webelement.WebElement (session=\"75c8f2028c6cf43417bc7309546a03dc\", element=\"371b0fb0-ce40-4834-b6b1-fbcab8eed48b\")>,\n",
       "  'parentElement': None,\n",
       "  'parentNode': None,\n",
       "  'prefix': None,\n",
       "  'previousSibling': None,\n",
       "  'removeChild': {},\n",
       "  'removeEventListener': {},\n",
       "  'replaceChild': {},\n",
       "  'specified': True,\n",
       "  'textContent': '/lv/real-estate/flats/riga/bolderaya/',\n",
       "  'value': '/lv/real-estate/flats/riga/bolderaya/'},\n",
       " {'ATTRIBUTE_NODE': 2,\n",
       "  'CDATA_SECTION_NODE': 4,\n",
       "  'COMMENT_NODE': 8,\n",
       "  'DOCUMENT_FRAGMENT_NODE': 11,\n",
       "  'DOCUMENT_NODE': 9,\n",
       "  'DOCUMENT_POSITION_CONTAINED_BY': 16,\n",
       "  'DOCUMENT_POSITION_CONTAINS': 8,\n",
       "  'DOCUMENT_POSITION_DISCONNECTED': 1,\n",
       "  'DOCUMENT_POSITION_FOLLOWING': 4,\n",
       "  'DOCUMENT_POSITION_IMPLEMENTATION_SPECIFIC': 32,\n",
       "  'DOCUMENT_POSITION_PRECEDING': 2,\n",
       "  'DOCUMENT_TYPE_NODE': 10,\n",
       "  'ELEMENT_NODE': 1,\n",
       "  'ENTITY_NODE': 6,\n",
       "  'ENTITY_REFERENCE_NODE': 5,\n",
       "  'NOTATION_NODE': 12,\n",
       "  'PROCESSING_INSTRUCTION_NODE': 7,\n",
       "  'TEXT_NODE': 3,\n",
       "  'addEventListener': {},\n",
       "  'appendChild': {},\n",
       "  'baseURI': 'https://www.ss.com/',\n",
       "  'childNodes': [],\n",
       "  'cloneNode': {},\n",
       "  'compareDocumentPosition': {},\n",
       "  'contains': {},\n",
       "  'dispatchEvent': {},\n",
       "  'firstChild': None,\n",
       "  'getRootNode': {},\n",
       "  'hasChildNodes': {},\n",
       "  'insertBefore': {},\n",
       "  'isConnected': False,\n",
       "  'isDefaultNamespace': {},\n",
       "  'isEqualNode': {},\n",
       "  'isSameNode': {},\n",
       "  'lastChild': None,\n",
       "  'localName': 'class',\n",
       "  'lookupNamespaceURI': {},\n",
       "  'lookupPrefix': {},\n",
       "  'name': 'class',\n",
       "  'namespaceURI': None,\n",
       "  'nextSibling': None,\n",
       "  'nodeName': 'class',\n",
       "  'nodeType': 2,\n",
       "  'nodeValue': 'a_category',\n",
       "  'normalize': {},\n",
       "  'ownerDocument': <selenium.webdriver.remote.webelement.WebElement (session=\"75c8f2028c6cf43417bc7309546a03dc\", element=\"6fd40361-01e7-4c87-8778-635ceed6f435\")>,\n",
       "  'ownerElement': <selenium.webdriver.remote.webelement.WebElement (session=\"75c8f2028c6cf43417bc7309546a03dc\", element=\"371b0fb0-ce40-4834-b6b1-fbcab8eed48b\")>,\n",
       "  'parentElement': None,\n",
       "  'parentNode': None,\n",
       "  'prefix': None,\n",
       "  'previousSibling': None,\n",
       "  'removeChild': {},\n",
       "  'removeEventListener': {},\n",
       "  'replaceChild': {},\n",
       "  'specified': True,\n",
       "  'textContent': 'a_category',\n",
       "  'value': 'a_category'},\n",
       " {'ATTRIBUTE_NODE': 2,\n",
       "  'CDATA_SECTION_NODE': 4,\n",
       "  'COMMENT_NODE': 8,\n",
       "  'DOCUMENT_FRAGMENT_NODE': 11,\n",
       "  'DOCUMENT_NODE': 9,\n",
       "  'DOCUMENT_POSITION_CONTAINED_BY': 16,\n",
       "  'DOCUMENT_POSITION_CONTAINS': 8,\n",
       "  'DOCUMENT_POSITION_DISCONNECTED': 1,\n",
       "  'DOCUMENT_POSITION_FOLLOWING': 4,\n",
       "  'DOCUMENT_POSITION_IMPLEMENTATION_SPECIFIC': 32,\n",
       "  'DOCUMENT_POSITION_PRECEDING': 2,\n",
       "  'DOCUMENT_TYPE_NODE': 10,\n",
       "  'ELEMENT_NODE': 1,\n",
       "  'ENTITY_NODE': 6,\n",
       "  'ENTITY_REFERENCE_NODE': 5,\n",
       "  'NOTATION_NODE': 12,\n",
       "  'PROCESSING_INSTRUCTION_NODE': 7,\n",
       "  'TEXT_NODE': 3,\n",
       "  'addEventListener': {},\n",
       "  'appendChild': {},\n",
       "  'baseURI': 'https://www.ss.com/',\n",
       "  'childNodes': [],\n",
       "  'cloneNode': {},\n",
       "  'compareDocumentPosition': {},\n",
       "  'contains': {},\n",
       "  'dispatchEvent': {},\n",
       "  'firstChild': None,\n",
       "  'getRootNode': {},\n",
       "  'hasChildNodes': {},\n",
       "  'insertBefore': {},\n",
       "  'isConnected': False,\n",
       "  'isDefaultNamespace': {},\n",
       "  'isEqualNode': {},\n",
       "  'isSameNode': {},\n",
       "  'lastChild': None,\n",
       "  'localName': 'title',\n",
       "  'lookupNamespaceURI': {},\n",
       "  'lookupPrefix': {},\n",
       "  'name': 'title',\n",
       "  'namespaceURI': None,\n",
       "  'nextSibling': None,\n",
       "  'nodeName': 'title',\n",
       "  'nodeType': 2,\n",
       "  'nodeValue': 'Bolderāja, Sludinājumi',\n",
       "  'normalize': {},\n",
       "  'ownerDocument': <selenium.webdriver.remote.webelement.WebElement (session=\"75c8f2028c6cf43417bc7309546a03dc\", element=\"6fd40361-01e7-4c87-8778-635ceed6f435\")>,\n",
       "  'ownerElement': <selenium.webdriver.remote.webelement.WebElement (session=\"75c8f2028c6cf43417bc7309546a03dc\", element=\"371b0fb0-ce40-4834-b6b1-fbcab8eed48b\")>,\n",
       "  'parentElement': None,\n",
       "  'parentNode': None,\n",
       "  'prefix': None,\n",
       "  'previousSibling': None,\n",
       "  'removeChild': {},\n",
       "  'removeEventListener': {},\n",
       "  'replaceChild': {},\n",
       "  'specified': True,\n",
       "  'textContent': 'Bolderāja, Sludinājumi',\n",
       "  'value': 'Bolderāja, Sludinājumi'}]"
      ]
     },
     "execution_count": 24,
     "metadata": {},
     "output_type": "execute_result"
    }
   ],
   "source": [
    "myel.get_property('attributes')"
   ]
  }
 ],
 "metadata": {
  "kernelspec": {
   "display_name": "Python 3.10.7 64-bit",
   "language": "python",
   "name": "python3"
  },
  "language_info": {
   "codemirror_mode": {
    "name": "ipython",
    "version": 3
   },
   "file_extension": ".py",
   "mimetype": "text/x-python",
   "name": "python",
   "nbconvert_exporter": "python",
   "pygments_lexer": "ipython3",
   "version": "3.10.7"
  },
  "vscode": {
   "interpreter": {
    "hash": "47c451675a0654ad5e0a963e36439631235dc6723a5765b51cb05e7be179a59b"
   }
  }
 },
 "nbformat": 4,
 "nbformat_minor": 4
}
