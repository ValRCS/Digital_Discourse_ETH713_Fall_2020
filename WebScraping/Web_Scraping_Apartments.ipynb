{
  "nbformat": 4,
  "nbformat_minor": 0,
  "metadata": {
    "kernelspec": {
      "display_name": "Python 3",
      "language": "python",
      "name": "python3"
    },
    "language_info": {
      "codemirror_mode": {
        "name": "ipython",
        "version": 3
      },
      "file_extension": ".py",
      "mimetype": "text/x-python",
      "name": "python",
      "nbconvert_exporter": "python",
      "pygments_lexer": "ipython3",
      "version": "3.8.3"
    },
    "colab": {
      "name": "Web Scraping Apartments.ipynb",
      "provenance": []
    }
  },
  "cells": [
    {
      "cell_type": "code",
      "metadata": {
        "id": "5SJ3qMaAYKYK"
      },
      "source": [
        "# Requests for handling HTTP get and other requests\n",
        "import requests\n",
        "import time # import for playing nice and not getting blocked\n",
        "import pandas as pd\n",
        "from datetime import datetime\n",
        "# from BeautifulSoup4 import BeatifulSoup if installed through pip install BeautifulSoup4\n",
        "# \n",
        "from bs4 import BeautifulSoup # a library for parsing HTML (and XML) content"
      ],
      "execution_count": 65,
      "outputs": []
    },
    {
      "cell_type": "code",
      "metadata": {
        "id": "A_zAvVpgYKYN"
      },
      "source": [
        "# if bs4 not found install it with\n",
        "#  !pip install beatifulsoup4\n",
        "# https://www.crummy.com/software/BeautifulSoup/"
      ],
      "execution_count": null,
      "outputs": []
    },
    {
      "cell_type": "code",
      "metadata": {
        "id": "gVjj9o3rYKYO",
        "outputId": "914b39f6-798b-4b48-c896-5459f828cc96",
        "colab": {
          "base_uri": "https://localhost:8080/"
        }
      },
      "source": [
        "!dir\n",
        "# ar ! i can run command line commands"
      ],
      "execution_count": 2,
      "outputs": [
        {
          "output_type": "stream",
          "name": "stdout",
          "text": [
            "sample_data\n"
          ]
        }
      ]
    },
    {
      "cell_type": "code",
      "metadata": {
        "id": "v_7QIp4eYKYP",
        "outputId": "e769d76e-d5ab-4de6-de53-529c797bcec0",
        "colab": {
          "base_uri": "https://localhost:8080/",
          "height": 35
        }
      },
      "source": [
        "# centrs = \"https://www.ss.com/lv/real-estate/flats/riga/centre/sell/\"\n",
        "centrs = \"https://www.ss.com/en/real-estate/flats/riga/centre/hand_over/\"\n",
        "centrs"
      ],
      "execution_count": 4,
      "outputs": [
        {
          "output_type": "execute_result",
          "data": {
            "application/vnd.google.colaboratory.intrinsic+json": {
              "type": "string"
            },
            "text/plain": [
              "'https://www.ss.com/en/real-estate/flats/riga/centre/hand_over/'"
            ]
          },
          "metadata": {},
          "execution_count": 4
        }
      ]
    },
    {
      "cell_type": "code",
      "metadata": {
        "id": "Iy7JG1_7YKYP",
        "outputId": "b2a9d44a-5f8c-4f77-cc94-39bf29a7f42d",
        "colab": {
          "base_uri": "https://localhost:8080/"
        }
      },
      "source": [
        "# here we make a something called HTTP GET request to the url in centrs\n",
        "# so very similar to what the browser does\n",
        "req = requests.get(centrs)\n",
        "req.status_code\n",
        "# so where we could use our status_code to check if our request went through sucessfully\n",
        "# so 200 is the ALL OK code in HTTP, many 4xx and 5xxx failure codes"
      ],
      "execution_count": 5,
      "outputs": [
        {
          "output_type": "execute_result",
          "data": {
            "text/plain": [
              "200"
            ]
          },
          "metadata": {},
          "execution_count": 5
        }
      ]
    },
    {
      "cell_type": "code",
      "metadata": {
        "id": "eGl-qVaCYKYQ",
        "outputId": "6cf5739b-4e32-442b-c1a4-024b03141d13",
        "colab": {
          "base_uri": "https://localhost:8080/",
          "height": 71
        }
      },
      "source": [
        "req.text[:300] # first 300 text charactersb"
      ],
      "execution_count": 6,
      "outputs": [
        {
          "output_type": "execute_result",
          "data": {
            "application/vnd.google.colaboratory.intrinsic+json": {
              "type": "string"
            },
            "text/plain": [
              "'<!DOCTYPE html>\\r\\n<HTML><HEAD>\\r\\n<title>SS.COM Flats - Riga - Centre, Prices, Hand over - Advertisements</title>\\r\\n<meta http-equiv=\"Content-Type\" CONTENT=\"text/html; charset=UTF-8\">\\r\\n<meta name=\"viewport\" content=\"user-scalable=1, width=device-width, initial-scale=1.0\"/>\\r\\n<meta name=\"keywords\" content'"
            ]
          },
          "metadata": {},
          "execution_count": 6
        }
      ]
    },
    {
      "cell_type": "code",
      "metadata": {
        "id": "VabiFukFgDQf",
        "outputId": "1fd00bc9-3a56-4a4f-e719-7fcc14e5177a",
        "colab": {
          "base_uri": "https://localhost:8080/"
        }
      },
      "source": [
        "\"Alun\" in req.text"
      ],
      "execution_count": 7,
      "outputs": [
        {
          "output_type": "execute_result",
          "data": {
            "text/plain": [
              "True"
            ]
          },
          "metadata": {},
          "execution_count": 7
        }
      ]
    },
    {
      "cell_type": "code",
      "metadata": {
        "id": "NoB5LebpgGMC",
        "outputId": "fc0a2811-4de9-4cb8-dccd-85e7212a0110",
        "colab": {
          "base_uri": "https://localhost:8080/"
        }
      },
      "source": [
        "req.text.index(\"Alun\")"
      ],
      "execution_count": 8,
      "outputs": [
        {
          "output_type": "execute_result",
          "data": {
            "text/plain": [
              "13045"
            ]
          },
          "metadata": {},
          "execution_count": 8
        }
      ]
    },
    {
      "cell_type": "code",
      "metadata": {
        "id": "B_PgJtrYgJDH",
        "outputId": "ccd7edf6-7ae8-4cd7-e086-61319c0c446b",
        "colab": {
          "base_uri": "https://localhost:8080/",
          "height": 35
        }
      },
      "source": [
        "req.text[13045-30:13045+30] # getting some text around what I was looking forb"
      ],
      "execution_count": 9,
      "outputs": [
        {
          "output_type": "execute_result",
          "data": {
            "application/vnd.google.colaboratory.intrinsic+json": {
              "type": "string"
            },
            "text/plain": [
              "'</option><option value=\"4412\">Alunana</option><option value='"
            ]
          },
          "metadata": {},
          "execution_count": 9
        }
      ]
    },
    {
      "cell_type": "code",
      "metadata": {
        "id": "UUOR5JRbgTKE",
        "outputId": "efc9220d-272a-4a77-dd82-44bc46ce7019",
        "colab": {
          "base_uri": "https://localhost:8080/"
        }
      },
      "source": [
        "req.text.count(\"Alun\")"
      ],
      "execution_count": 10,
      "outputs": [
        {
          "output_type": "execute_result",
          "data": {
            "text/plain": [
              "3"
            ]
          },
          "metadata": {},
          "execution_count": 10
        }
      ]
    },
    {
      "cell_type": "code",
      "metadata": {
        "id": "QWagp5trgfdH"
      },
      "source": [
        "# we could actually get the whole table with pandas library"
      ],
      "execution_count": 11,
      "outputs": []
    },
    {
      "cell_type": "code",
      "metadata": {
        "id": "aNDPnoCLgjWA",
        "outputId": "ba120bc7-c9fc-407d-d476-b0383ea9299c",
        "colab": {
          "base_uri": "https://localhost:8080/"
        }
      },
      "source": [
        "data_frames = pd.read_html(centrs)  #this reads ALL the tables on the web page\n",
        "len(data_frames)"
      ],
      "execution_count": 12,
      "outputs": [
        {
          "output_type": "execute_result",
          "data": {
            "text/plain": [
              "7"
            ]
          },
          "metadata": {},
          "execution_count": 12
        }
      ]
    },
    {
      "cell_type": "code",
      "metadata": {
        "id": "Pt_7bmYcgzqj",
        "outputId": "49e1a0e7-4893-4f94-cd0b-3169acdcd509",
        "colab": {
          "base_uri": "https://localhost:8080/",
          "height": 293
        }
      },
      "source": [
        "df = data_frames[4]  # we want the 5th table\n",
        "df.head()"
      ],
      "execution_count": 13,
      "outputs": [
        {
          "output_type": "execute_result",
          "data": {
            "text/html": [
              "<div>\n",
              "<style scoped>\n",
              "    .dataframe tbody tr th:only-of-type {\n",
              "        vertical-align: middle;\n",
              "    }\n",
              "\n",
              "    .dataframe tbody tr th {\n",
              "        vertical-align: top;\n",
              "    }\n",
              "\n",
              "    .dataframe thead th {\n",
              "        text-align: right;\n",
              "    }\n",
              "</style>\n",
              "<table border=\"1\" class=\"dataframe\">\n",
              "  <thead>\n",
              "    <tr style=\"text-align: right;\">\n",
              "      <th></th>\n",
              "      <th>0</th>\n",
              "      <th>1</th>\n",
              "      <th>2</th>\n",
              "      <th>3</th>\n",
              "      <th>4</th>\n",
              "      <th>5</th>\n",
              "      <th>6</th>\n",
              "      <th>7</th>\n",
              "      <th>8</th>\n",
              "      <th>9</th>\n",
              "    </tr>\n",
              "  </thead>\n",
              "  <tbody>\n",
              "    <tr>\n",
              "      <th>0</th>\n",
              "      <td>Advertisements \\tdate</td>\n",
              "      <td>Advertisements \\tdate</td>\n",
              "      <td>Advertisements \\tdate</td>\n",
              "      <td>Street</td>\n",
              "      <td>R.</td>\n",
              "      <td>m2</td>\n",
              "      <td>Floor</td>\n",
              "      <td>Series</td>\n",
              "      <td>Price, m2</td>\n",
              "      <td>Price</td>\n",
              "    </tr>\n",
              "    <tr>\n",
              "      <th>1</th>\n",
              "      <td>NaN</td>\n",
              "      <td>NaN</td>\n",
              "      <td>Izīrē 2-istabu dzīvokli ilgtermiņa īrei Rīgas ...</td>\n",
              "      <td>Alunana 6</td>\n",
              "      <td>2</td>\n",
              "      <td>50</td>\n",
              "      <td>2/4</td>\n",
              "      <td>Pre-war house</td>\n",
              "      <td>8.60 €</td>\n",
              "      <td>430 €/mon.</td>\n",
              "    </tr>\n",
              "    <tr>\n",
              "      <th>2</th>\n",
              "      <td>NaN</td>\n",
              "      <td>NaN</td>\n",
              "      <td>Izīrējam ļoti mājīgu un plašu 90 m2 3-istabu d...</td>\n",
              "      <td>Ozolu 2</td>\n",
              "      <td>3</td>\n",
              "      <td>90</td>\n",
              "      <td>1/1</td>\n",
              "      <td>Priv.house</td>\n",
              "      <td>4.22 €</td>\n",
              "      <td>380 €/mon.</td>\n",
              "    </tr>\n",
              "    <tr>\n",
              "      <th>3</th>\n",
              "      <td>NaN</td>\n",
              "      <td>NaN</td>\n",
              "      <td>Izīrējam dzīvokli, klusais centrs Vēstniecību ...</td>\n",
              "      <td>Dzirnavu 6</td>\n",
              "      <td>3</td>\n",
              "      <td>60</td>\n",
              "      <td>2/5</td>\n",
              "      <td>Recon.</td>\n",
              "      <td>11.67 €</td>\n",
              "      <td>700 €/mon.</td>\n",
              "    </tr>\n",
              "    <tr>\n",
              "      <th>4</th>\n",
              "      <td>NaN</td>\n",
              "      <td>NaN</td>\n",
              "      <td>Fasādes māja, bezmaksas stāvvieta pagalmā. Iee...</td>\n",
              "      <td>Pernavas 11</td>\n",
              "      <td>2</td>\n",
              "      <td>65</td>\n",
              "      <td>6/7</td>\n",
              "      <td>Pre-war house</td>\n",
              "      <td>4.92 €</td>\n",
              "      <td>320 €/mon.</td>\n",
              "    </tr>\n",
              "  </tbody>\n",
              "</table>\n",
              "</div>"
            ],
            "text/plain": [
              "                       0                      1  ...          8           9\n",
              "0  Advertisements \\tdate  Advertisements \\tdate  ...  Price, m2       Price\n",
              "1                    NaN                    NaN  ...     8.60 €  430 €/mon.\n",
              "2                    NaN                    NaN  ...     4.22 €  380 €/mon.\n",
              "3                    NaN                    NaN  ...    11.67 €  700 €/mon.\n",
              "4                    NaN                    NaN  ...     4.92 €  320 €/mon.\n",
              "\n",
              "[5 rows x 10 columns]"
            ]
          },
          "metadata": {},
          "execution_count": 13
        }
      ]
    },
    {
      "cell_type": "code",
      "metadata": {
        "id": "YhUHrFFIhG1U"
      },
      "source": [
        "df.to_excel(\"riga_center_page1.xlsx\")"
      ],
      "execution_count": 14,
      "outputs": []
    },
    {
      "cell_type": "code",
      "metadata": {
        "id": "cTdu83GGYKYQ"
      },
      "source": [
        "# we could manually use text searching tools to work on the whole text of html but it would not convenient\n",
        "# many other people have already written tools to parse/structure this text"
      ],
      "execution_count": null,
      "outputs": []
    },
    {
      "cell_type": "code",
      "metadata": {
        "id": "MjIwfMKiYKYR",
        "outputId": "4bc89b45-7804-41db-d2ba-6b29097c0357",
        "colab": {
          "base_uri": "https://localhost:8080/"
        }
      },
      "source": [
        "# parser means structuring your text into some data structure\n",
        "soup = BeautifulSoup(req.text, 'lxml') # lxml is improved parser, a little bit more lenient towards badly structured HTML \n",
        "soup.title"
      ],
      "execution_count": 15,
      "outputs": [
        {
          "output_type": "execute_result",
          "data": {
            "text/plain": [
              "<title>SS.COM Flats - Riga - Centre, Prices, Hand over - Advertisements</title>"
            ]
          },
          "metadata": {},
          "execution_count": 15
        }
      ]
    },
    {
      "cell_type": "code",
      "metadata": {
        "id": "IU0IQX4eYKYR",
        "outputId": "1d117283-6c4c-42b7-b4f8-94db05c8da5b",
        "colab": {
          "base_uri": "https://localhost:8080/"
        }
      },
      "source": [
        "type(soup)  # so we have soup object which contains all the information about the page in a structured manner"
      ],
      "execution_count": 16,
      "outputs": [
        {
          "output_type": "execute_result",
          "data": {
            "text/plain": [
              "bs4.BeautifulSoup"
            ]
          },
          "metadata": {},
          "execution_count": 16
        }
      ]
    },
    {
      "cell_type": "code",
      "metadata": {
        "id": "Wku7epJziEtl"
      },
      "source": [
        "soup.find()"
      ],
      "execution_count": null,
      "outputs": []
    },
    {
      "cell_type": "code",
      "metadata": {
        "id": "zeGyxBmSYKYS",
        "outputId": "9ae71e31-0d94-4d52-c021-268d8b0eb46b",
        "colab": {
          "base_uri": "https://localhost:8080/"
        }
      },
      "source": [
        "# https://www.crummy.com/software/BeautifulSoup/bs4/doc/#find-all\n",
        "tables = soup.find_all(\"table\") # finds ALL elements matching our filter\n",
        "len(tables) # it will be a list of some length, possibly 0 if we did not find any elements "
      ],
      "execution_count": 17,
      "outputs": [
        {
          "output_type": "execute_result",
          "data": {
            "text/plain": [
              "7"
            ]
          },
          "metadata": {},
          "execution_count": 17
        }
      ]
    },
    {
      "cell_type": "code",
      "metadata": {
        "id": "v3SGJRJaYKYT"
      },
      "source": [
        "# Now we want to find what our column names should be no matter the type of ad"
      ],
      "execution_count": null,
      "outputs": []
    },
    {
      "cell_type": "code",
      "metadata": {
        "id": "mV25KtQAYKYT",
        "outputId": "3bc09005-ba41-4547-de44-3b595dd03609",
        "colab": {
          "base_uri": "https://localhost:8080/"
        }
      },
      "source": [
        "# find finds just one(first) match\n",
        "headline = soup.find(\"tr\", {\"id\":\"head_line\"}) # this is a shorter way of finding by tr AND this element having particular id\n",
        "headline"
      ],
      "execution_count": 18,
      "outputs": [
        {
          "output_type": "execute_result",
          "data": {
            "text/plain": [
              "<tr id=\"head_line\">\n",
              "<td class=\"msg_column\" colspan=\"3\" width=\"70%\">\n",
              "<span style=\"float:left;\"> Advertisements\n",
              "</span>\n",
              "<span align=\"right\" class=\"msg_column\" style=\"float:right;text-align:right;padding-right:3px;\">\n",
              "<noindex>\n",
              "<a class=\"a19\" href=\"/en/real-estate/flats/riga/centre/hand_over/fDgSeF4S.html\" rel=\"nofollow\">date</a></noindex></span>\n",
              "</td>\n",
              "<td class=\"msg_column_td\" nowrap=\"\"><noindex><a class=\"a18\" href=\"/en/real-estate/flats/riga/centre/hand_over/fDgSeF4SFDwT.html\" rel=\"nofollow\" title=\"\">Street</a></noindex></td><td class=\"msg_column_td\" nowrap=\"\"><noindex><a class=\"a18\" href=\"/en/real-estate/flats/riga/centre/hand_over/fDgSeF4SelM=.html\" rel=\"nofollow\" title=\"\">R.</a></noindex></td><td class=\"msg_column_td\" nowrap=\"\"><noindex><a class=\"a18\" href=\"/en/real-estate/flats/riga/centre/hand_over/fDgSeF4QelM=.html\" rel=\"nofollow\" title=\"\">m2</a></noindex></td><td class=\"msg_column_td\" nowrap=\"\"><noindex><a class=\"a18\" href=\"/en/real-estate/flats/riga/centre/hand_over/fDgSeF4XelM=.html\" rel=\"nofollow\" title=\"\">Floor</a></noindex></td><td class=\"msg_column_td\" nowrap=\"\"><noindex><a class=\"a18\" href=\"/en/real-estate/flats/riga/centre/hand_over/fDgSeF4VelM=.html\" rel=\"nofollow\" title=\"\">Series</a></noindex></td><td background=\"https://i.ss.com/img/pl.gif\" class=\"msg_column\" nowrap=\"\" style=\"border-left:1px #FFFFFF solid;\"><noindex><a class=\"a18\" href=\"/en/real-estate/flats/riga/centre/hand_over/fDgSeF4bRDwT.html\" rel=\"nofollow\">Price, m2</a></noindex></td><td class=\"msg_column_td\" nowrap=\"\"><noindex><a class=\"a18\" href=\"/en/real-estate/flats/riga/centre/hand_over/fDgSeF4belM=.html\" rel=\"nofollow\" title=\"\">Price</a></noindex></td></tr>"
            ]
          },
          "metadata": {},
          "execution_count": 18
        }
      ]
    },
    {
      "cell_type": "code",
      "metadata": {
        "id": "JQnnvgOkYKYT",
        "outputId": "766b80a8-052c-465c-83de-a88b5319c54f",
        "colab": {
          "base_uri": "https://localhost:8080/"
        }
      },
      "source": [
        "type(headline)"
      ],
      "execution_count": 19,
      "outputs": [
        {
          "output_type": "execute_result",
          "data": {
            "text/plain": [
              "bs4.element.Tag"
            ]
          },
          "metadata": {},
          "execution_count": 19
        }
      ]
    },
    {
      "cell_type": "code",
      "metadata": {
        "id": "BhVJvOjeYKYU",
        "outputId": "89afd12b-f1a5-44b2-f44a-cea67b6ef150",
        "colab": {
          "base_uri": "https://localhost:8080/"
        }
      },
      "source": [
        "# next we can search through the headling table row element and find individual table data elements\n",
        "headtds = headline.find_all(\"td\")\n",
        "# https://developer.mozilla.org/en-US/docs/Web/HTML/Element/td\n",
        "headtds  # a list of td elements"
      ],
      "execution_count": 20,
      "outputs": [
        {
          "output_type": "execute_result",
          "data": {
            "text/plain": [
              "[<td class=\"msg_column\" colspan=\"3\" width=\"70%\">\n",
              " <span style=\"float:left;\"> Advertisements\n",
              " </span>\n",
              " <span align=\"right\" class=\"msg_column\" style=\"float:right;text-align:right;padding-right:3px;\">\n",
              " <noindex>\n",
              " <a class=\"a19\" href=\"/en/real-estate/flats/riga/centre/hand_over/fDgSeF4S.html\" rel=\"nofollow\">date</a></noindex></span>\n",
              " </td>,\n",
              " <td class=\"msg_column_td\" nowrap=\"\"><noindex><a class=\"a18\" href=\"/en/real-estate/flats/riga/centre/hand_over/fDgSeF4SFDwT.html\" rel=\"nofollow\" title=\"\">Street</a></noindex></td>,\n",
              " <td class=\"msg_column_td\" nowrap=\"\"><noindex><a class=\"a18\" href=\"/en/real-estate/flats/riga/centre/hand_over/fDgSeF4SelM=.html\" rel=\"nofollow\" title=\"\">R.</a></noindex></td>,\n",
              " <td class=\"msg_column_td\" nowrap=\"\"><noindex><a class=\"a18\" href=\"/en/real-estate/flats/riga/centre/hand_over/fDgSeF4QelM=.html\" rel=\"nofollow\" title=\"\">m2</a></noindex></td>,\n",
              " <td class=\"msg_column_td\" nowrap=\"\"><noindex><a class=\"a18\" href=\"/en/real-estate/flats/riga/centre/hand_over/fDgSeF4XelM=.html\" rel=\"nofollow\" title=\"\">Floor</a></noindex></td>,\n",
              " <td class=\"msg_column_td\" nowrap=\"\"><noindex><a class=\"a18\" href=\"/en/real-estate/flats/riga/centre/hand_over/fDgSeF4VelM=.html\" rel=\"nofollow\" title=\"\">Series</a></noindex></td>,\n",
              " <td background=\"https://i.ss.com/img/pl.gif\" class=\"msg_column\" nowrap=\"\" style=\"border-left:1px #FFFFFF solid;\"><noindex><a class=\"a18\" href=\"/en/real-estate/flats/riga/centre/hand_over/fDgSeF4bRDwT.html\" rel=\"nofollow\">Price, m2</a></noindex></td>,\n",
              " <td class=\"msg_column_td\" nowrap=\"\"><noindex><a class=\"a18\" href=\"/en/real-estate/flats/riga/centre/hand_over/fDgSeF4belM=.html\" rel=\"nofollow\" title=\"\">Price</a></noindex></td>]"
            ]
          },
          "metadata": {},
          "execution_count": 20
        }
      ]
    },
    {
      "cell_type": "code",
      "metadata": {
        "id": "L_AhlCsGYKYU",
        "outputId": "f0c4fee1-db12-456b-b9b4-73806f70d089",
        "colab": {
          "base_uri": "https://localhost:8080/"
        }
      },
      "source": [
        "len(headtds) # so we have some of lements (could be 8, 10 depends on the type of ad)"
      ],
      "execution_count": 21,
      "outputs": [
        {
          "output_type": "execute_result",
          "data": {
            "text/plain": [
              "8"
            ]
          },
          "metadata": {},
          "execution_count": 21
        }
      ]
    },
    {
      "cell_type": "code",
      "metadata": {
        "id": "EZBbDRE4YKYU",
        "outputId": "94a18c3c-7690-4dfb-cc9b-382bac9e7b43",
        "colab": {
          "base_uri": "https://localhost:8080/",
          "height": 35
        }
      },
      "source": [
        "headline.text # the text is extracted from children, grandchildren, greatgrandchildren and so on"
      ],
      "execution_count": 22,
      "outputs": [
        {
          "output_type": "execute_result",
          "data": {
            "application/vnd.google.colaboratory.intrinsic+json": {
              "type": "string"
            },
            "text/plain": [
              "'\\n\\n\\xa0Advertisements\\r\\n\\n\\n\\ndate\\n\\nStreetR.m2FloorSeriesPrice, m2Price'"
            ]
          },
          "metadata": {},
          "execution_count": 22
        }
      ]
    },
    {
      "cell_type": "code",
      "metadata": {
        "id": "DGA3HmJGjXgp",
        "outputId": "95d91a9d-986f-485c-de79-ed47f7407ea2",
        "colab": {
          "base_uri": "https://localhost:8080/",
          "height": 35
        }
      },
      "source": [
        "headtds[3].text  # so text of 4th child of headline (which is tr with id headline) element"
      ],
      "execution_count": 24,
      "outputs": [
        {
          "output_type": "execute_result",
          "data": {
            "application/vnd.google.colaboratory.intrinsic+json": {
              "type": "string"
            },
            "text/plain": [
              "'m2'"
            ]
          },
          "metadata": {},
          "execution_count": 24
        }
      ]
    },
    {
      "cell_type": "code",
      "metadata": {
        "id": "v1e8IFIAYKYV",
        "outputId": "f4855021-75c5-49f0-ffda-a12abc565f0d",
        "colab": {
          "base_uri": "https://localhost:8080/"
        }
      },
      "source": [
        "# so we do not want announcements and data so we will skip the first TD with headtds[1:]\n",
        "headcolumns = [el.text for el in headtds[1:]] #.text gets us content even from children and grandchildren\n",
        "headcolumns"
      ],
      "execution_count": 25,
      "outputs": [
        {
          "output_type": "execute_result",
          "data": {
            "text/plain": [
              "['Street', 'R.', 'm2', 'Floor', 'Series', 'Price, m2', 'Price']"
            ]
          },
          "metadata": {},
          "execution_count": 25
        }
      ]
    },
    {
      "cell_type": "code",
      "metadata": {
        "id": "pHrY-tZYYKYV"
      },
      "source": [
        "# lets combine the above cells into a function which will always get us columns\n",
        "def getColList(soup):\n",
        "    column_list = [\"description\",\"url\"] # we decided to that we need these two column names no matter the html\n",
        "    headline = soup.find(\"tr\", {\"id\":\"head_line\"})\n",
        "    headtds = headline.find_all(\"td\")\n",
        "    headcolumns = [el.text for el in headtds[1:]] # this will get all column names starting with 2nd in HTML\n",
        "    column_list += headcolumns # we add the head columns to our initial column list\n",
        "    return column_list"
      ],
      "execution_count": 26,
      "outputs": []
    },
    {
      "cell_type": "code",
      "metadata": {
        "id": "GBrntlngYKYV",
        "outputId": "590c5b55-b090-433d-aa1b-47b4a5f6e6a4",
        "colab": {
          "base_uri": "https://localhost:8080/"
        }
      },
      "source": [
        "column_names = getColList(soup)\n",
        "column_names # so this should work no matter what type of SS.com page the soup is made of"
      ],
      "execution_count": 27,
      "outputs": [
        {
          "output_type": "execute_result",
          "data": {
            "text/plain": [
              "['description',\n",
              " 'url',\n",
              " 'Street',\n",
              " 'R.',\n",
              " 'm2',\n",
              " 'Floor',\n",
              " 'Series',\n",
              " 'Price, m2',\n",
              " 'Price']"
            ]
          },
          "metadata": {},
          "execution_count": 27
        }
      ]
    },
    {
      "cell_type": "code",
      "metadata": {
        "id": "qaysLv3bYKYV",
        "outputId": "b0ca2877-f039-40cf-a9c5-94f56675f219",
        "colab": {
          "base_uri": "https://localhost:8080/"
        }
      },
      "source": [
        "trows = soup.find_all('tr')  # so i want all table rows on the page\n",
        "len(trows)\n"
      ],
      "execution_count": 28,
      "outputs": [
        {
          "output_type": "execute_result",
          "data": {
            "text/plain": [
              "40"
            ]
          },
          "metadata": {},
          "execution_count": 28
        }
      ]
    },
    {
      "cell_type": "code",
      "metadata": {
        "id": "Iaxygi5dlfst",
        "outputId": "c4b3711d-ce2d-4061-e350-0ba1b095a4c4",
        "colab": {
          "base_uri": "https://localhost:8080/"
        }
      },
      "source": [
        "print(trows[5]) # our first ad so from trows[5] to trows[34 would work as well]"
      ],
      "execution_count": 30,
      "outputs": [
        {
          "output_type": "stream",
          "name": "stdout",
          "text": [
            "<tr id=\"tr_50739690\"><td class=\"msga2 pp0\"><input id=\"c50739690\" name=\"mid[]\" type=\"checkbox\" value=\"50739690_1106_0\"/></td><td class=\"msga2\"><a href=\"/msg/en/real-estate/flats/riga/centre/dgbkg.html\" id=\"im50739690\"><img alt=\"\" class=\"isfoto foto_list\" src=\"https://i.ss.com/gallery/4/767/191669/38333708.th2.jpg\"/></a></td><td class=\"msg2\"><div class=\"d1\"><a class=\"am\" data=\"JTgwJTg3JTlDJUE2JUE5JUIyJTlDJUFCeSU4RCU5OCU5RSVBOW0lOUMlQTl6JThEJTlBJTlFJUFBZiU5QiVBNQ==|HUdny6ku\" href=\"/msg/en/real-estate/flats/riga/centre/dgbkg.html\" id=\"dm_50739690\">Izīrē 2-istabu dzīvokli ilgtermiņa īrei Rīgas Klusajā centrā, vē</a></div></td><td c=\"1\" class=\"msga2-o pp6\" nowrap=\"\">Alunana 6</td><td c=\"1\" class=\"msga2-o pp6\" nowrap=\"\">2</td><td c=\"1\" class=\"msga2-o pp6\" nowrap=\"\">50</td><td c=\"1\" class=\"msga2-o pp6\" nowrap=\"\">2/4</td><td c=\"1\" class=\"msga2-o pp6\" nowrap=\"\">Pre-war house</td><td c=\"1\" class=\"msga2-o pp6\" nowrap=\"\">8.60 €</td><td c=\"1\" class=\"msga2-o pp6\" nowrap=\"\">430  €/mon.</td></tr>\n"
          ]
        }
      ]
    },
    {
      "cell_type": "code",
      "metadata": {
        "id": "P3xovQjElsC1",
        "outputId": "efde21e5-bcc0-433e-fc7e-b214716382a5",
        "colab": {
          "base_uri": "https://localhost:8080/"
        }
      },
      "source": [
        "# less flexible solution would be to hard code this\n",
        "all_ads = trows[5:35]\n",
        "all_ads[-1] # last one - 35"
      ],
      "execution_count": 33,
      "outputs": [
        {
          "output_type": "execute_result",
          "data": {
            "text/plain": [
              "<tr id=\"tr_50509794\"><td class=\"msga2 pp0\"><input id=\"c50509794\" name=\"mid[]\" type=\"checkbox\" value=\"50509794_1106_0\"/></td><td class=\"msga2\"><a href=\"/msg/en/real-estate/flats/riga/centre/aemmx.html\" id=\"im50509794\"><img alt=\"\" class=\"isfoto foto_list\" src=\"https://i.ss.com/gallery/5/869/217006/43401105.th2.jpg\"/></a></td><td class=\"msg2\"><div class=\"d1\"><a class=\"am\" data=\"eW8lOTV1JTgwJTdGJUFEZSU5OSU3RHpmJTlCJTdCeiU4M2JrJTk4JTdDd2glOTV0eA==|G6eDHN14cK\" href=\"/msg/en/real-estate/flats/riga/centre/aemmx.html\" id=\"dm_50509794\">Fasādes māja, kapitālais remonts, 2 istabas izolētas, studio tip</a></div></td><td c=\"1\" class=\"msga2-o pp6\" nowrap=\"\">Alunana 2A</td><td c=\"1\" class=\"msga2-o pp6\" nowrap=\"\">3</td><td c=\"1\" class=\"msga2-o pp6\" nowrap=\"\">70</td><td c=\"1\" class=\"msga2-o pp6\" nowrap=\"\">2/6</td><td c=\"1\" class=\"msga2-o pp6\" nowrap=\"\">Recon.</td><td c=\"1\" class=\"msga2-o pp6\" nowrap=\"\">7.86 €</td><td c=\"1\" class=\"msga2-o pp6\" nowrap=\"\">550  €/mon.</td></tr>"
            ]
          },
          "metadata": {},
          "execution_count": 33
        }
      ]
    },
    {
      "cell_type": "code",
      "metadata": {
        "id": "rSIIXq3aYKYW"
      },
      "source": [
        "# if i had no other choices I could find starting and end index by hand and hard code it\n",
        "# but that is liable to change between pages"
      ],
      "execution_count": null,
      "outputs": []
    },
    {
      "cell_type": "code",
      "metadata": {
        "id": "AcPPIkAbYKYW",
        "outputId": "24b59e05-bc1f-4a64-840c-4eb6a8e55faf",
        "colab": {
          "base_uri": "https://localhost:8080/"
        }
      },
      "source": [
        "# hardest part in this \n",
        "# how to filter only specific rows\n",
        "# we need to find something that is unique to our apartment rows but not to the extra rows\n",
        "# remember we id is not guaranteed, so \"\" gives us default value when there is no id\n",
        "# sometimes there were unusable rows with tr_bnr attribute\n",
        "apt_rows = [row for row in trows if row.get('id',\"\").startswith(\"tr_\") and not row.get('id',\"\").startswith(\"tr_bnr\") ]\n",
        "len(apt_rows)"
      ],
      "execution_count": 34,
      "outputs": [
        {
          "output_type": "execute_result",
          "data": {
            "text/plain": [
              "30"
            ]
          },
          "metadata": {},
          "execution_count": 34
        }
      ]
    },
    {
      "cell_type": "code",
      "metadata": {
        "id": "uAVywcBAYKYW",
        "outputId": "55e768b5-d769-4e5a-dc1c-ed0c25a4325e",
        "colab": {
          "base_uri": "https://localhost:8080/"
        }
      },
      "source": [
        "apt_rows[-1]"
      ],
      "execution_count": 35,
      "outputs": [
        {
          "output_type": "execute_result",
          "data": {
            "text/plain": [
              "<tr id=\"tr_50509794\"><td class=\"msga2 pp0\"><input id=\"c50509794\" name=\"mid[]\" type=\"checkbox\" value=\"50509794_1106_0\"/></td><td class=\"msga2\"><a href=\"/msg/en/real-estate/flats/riga/centre/aemmx.html\" id=\"im50509794\"><img alt=\"\" class=\"isfoto foto_list\" src=\"https://i.ss.com/gallery/5/869/217006/43401105.th2.jpg\"/></a></td><td class=\"msg2\"><div class=\"d1\"><a class=\"am\" data=\"eW8lOTV1JTgwJTdGJUFEZSU5OSU3RHpmJTlCJTdCeiU4M2JrJTk4JTdDd2glOTV0eA==|G6eDHN14cK\" href=\"/msg/en/real-estate/flats/riga/centre/aemmx.html\" id=\"dm_50509794\">Fasādes māja, kapitālais remonts, 2 istabas izolētas, studio tip</a></div></td><td c=\"1\" class=\"msga2-o pp6\" nowrap=\"\">Alunana 2A</td><td c=\"1\" class=\"msga2-o pp6\" nowrap=\"\">3</td><td c=\"1\" class=\"msga2-o pp6\" nowrap=\"\">70</td><td c=\"1\" class=\"msga2-o pp6\" nowrap=\"\">2/6</td><td c=\"1\" class=\"msga2-o pp6\" nowrap=\"\">Recon.</td><td c=\"1\" class=\"msga2-o pp6\" nowrap=\"\">7.86 €</td><td c=\"1\" class=\"msga2-o pp6\" nowrap=\"\">550  €/mon.</td></tr>"
            ]
          },
          "metadata": {},
          "execution_count": 35
        }
      ]
    },
    {
      "cell_type": "code",
      "metadata": {
        "id": "-SwgzEonYKYW",
        "outputId": "39b5cb2e-6dd6-47e7-e2ed-f35c0cff5c70"
      },
      "source": [
        "apt_rows[0]"
      ],
      "execution_count": null,
      "outputs": [
        {
          "data": {
            "text/plain": [
              "<tr id=\"tr_48694610\"><td class=\"msga2 pp0\"><input id=\"c48694610\" name=\"mid[]\" type=\"checkbox\" value=\"48694610_1106_0\"/></td><td class=\"msga2\"><a href=\"/msg/en/real-estate/flats/riga/centre/cxgjb.html\" id=\"im48694610\"><img alt=\"\" class=\"isfoto foto_list\" src=\"https://i.ss.com/gallery/4/721/180036/36007145.th2.jpg\"/></a></td><td class=\"msg2\"><div class=\"d1\"><a class=\"am\" data=\"ZiU4QSU4RiU5QiVDMyU4NCU4OWxoJThFJTkwJTlBJTgwJTg1JTg4bWElODklODklOUIlN0I=|1UXeGST7\" href=\"/msg/en/real-estate/flats/riga/centre/cxgjb.html\" id=\"dm_48694610\">Izīrē dzīvokli ar mājīgu un komfortablu iekārtojumu. Dzīvoklis s</a></div></td><td c=\"1\" class=\"msga2-o pp6\" nowrap=\"\">Stabu 49</td><td c=\"1\" class=\"msga2-o pp6\" nowrap=\"\">2</td><td c=\"1\" class=\"msga2-o pp6\" nowrap=\"\">50</td><td c=\"1\" class=\"msga2-o pp6\" nowrap=\"\">4/5</td><td c=\"1\" class=\"msga2-o pp6\" nowrap=\"\">Perewar</td><td c=\"1\" class=\"msga2-o pp6\" nowrap=\"\">6 €</td><td c=\"1\" class=\"msga2-o pp6\" nowrap=\"\">300  €/mon.</td></tr>"
            ]
          },
          "execution_count": 20,
          "metadata": {},
          "output_type": "execute_result"
        }
      ]
    },
    {
      "cell_type": "code",
      "metadata": {
        "id": "mkuplG_RYKYW"
      },
      "source": [
        "# lets make a function from the above doodle and make it work on most pages on SS\n",
        "def getRowList(soup):\n",
        "    trows = soup.find_all('tr')\n",
        "    aprows = [row for row in trows if row.get('id',\"\").startswith(\"tr_\") and not row.get('id',\"\").startswith(\"tr_bnr\") ]\n",
        "    return aprows"
      ],
      "execution_count": 36,
      "outputs": []
    },
    {
      "cell_type": "code",
      "metadata": {
        "id": "mhIGGYeqYKYX",
        "outputId": "2ed9f672-cf65-49d2-eb63-52a399d40cc8",
        "colab": {
          "base_uri": "https://localhost:8080/"
        }
      },
      "source": [
        "row_tds = apt_rows[0].find_all('td') # get all table data elements from first ad/row\n",
        "len(row_tds)"
      ],
      "execution_count": 37,
      "outputs": [
        {
          "output_type": "execute_result",
          "data": {
            "text/plain": [
              "10"
            ]
          },
          "metadata": {},
          "execution_count": 37
        }
      ]
    },
    {
      "cell_type": "code",
      "metadata": {
        "id": "N5vwDWLiYKYX",
        "outputId": "0fd9346f-57f3-4ed3-8c81-f2b2e8c17af9",
        "colab": {
          "base_uri": "https://localhost:8080/"
        }
      },
      "source": [
        "row_tds"
      ],
      "execution_count": 38,
      "outputs": [
        {
          "output_type": "execute_result",
          "data": {
            "text/plain": [
              "[<td class=\"msga2 pp0\"><input id=\"c50739690\" name=\"mid[]\" type=\"checkbox\" value=\"50739690_1106_0\"/></td>,\n",
              " <td class=\"msga2\"><a href=\"/msg/en/real-estate/flats/riga/centre/dgbkg.html\" id=\"im50739690\"><img alt=\"\" class=\"isfoto foto_list\" src=\"https://i.ss.com/gallery/4/767/191669/38333708.th2.jpg\"/></a></td>,\n",
              " <td class=\"msg2\"><div class=\"d1\"><a class=\"am\" data=\"JTgwJTg3JTlDJUE2JUE5JUIyJTlDJUFCeSU4RCU5OCU5RSVBOW0lOUMlQTl6JThEJTlBJTlFJUFBZiU5QiVBNQ==|HUdny6ku\" href=\"/msg/en/real-estate/flats/riga/centre/dgbkg.html\" id=\"dm_50739690\">Izīrē 2-istabu dzīvokli ilgtermiņa īrei Rīgas Klusajā centrā, vē</a></div></td>,\n",
              " <td c=\"1\" class=\"msga2-o pp6\" nowrap=\"\">Alunana 6</td>,\n",
              " <td c=\"1\" class=\"msga2-o pp6\" nowrap=\"\">2</td>,\n",
              " <td c=\"1\" class=\"msga2-o pp6\" nowrap=\"\">50</td>,\n",
              " <td c=\"1\" class=\"msga2-o pp6\" nowrap=\"\">2/4</td>,\n",
              " <td c=\"1\" class=\"msga2-o pp6\" nowrap=\"\">Pre-war house</td>,\n",
              " <td c=\"1\" class=\"msga2-o pp6\" nowrap=\"\">8.60 €</td>,\n",
              " <td c=\"1\" class=\"msga2-o pp6\" nowrap=\"\">430  €/mon.</td>]"
            ]
          },
          "metadata": {},
          "execution_count": 38
        }
      ]
    },
    {
      "cell_type": "code",
      "metadata": {
        "id": "iFYBzPQYYKYX",
        "outputId": "ab2769fa-5542-47ae-8519-bc00e7d1d16e"
      },
      "source": [
        "# this is the checkbox we want nothing from that\n",
        "row_tds[0].text"
      ],
      "execution_count": null,
      "outputs": [
        {
          "data": {
            "text/plain": [
              "''"
            ]
          },
          "execution_count": 24,
          "metadata": {},
          "output_type": "execute_result"
        }
      ]
    },
    {
      "cell_type": "code",
      "metadata": {
        "id": "D3qjAeIzYKYX",
        "outputId": "caad5020-6a94-4261-9cb3-d069bb4273f0",
        "colab": {
          "base_uri": "https://localhost:8080/",
          "height": 35
        }
      },
      "source": [
        "# second is the image table data cell\n",
        "row_tds[1].text"
      ],
      "execution_count": 39,
      "outputs": [
        {
          "output_type": "execute_result",
          "data": {
            "application/vnd.google.colaboratory.intrinsic+json": {
              "type": "string"
            },
            "text/plain": [
              "''"
            ]
          },
          "metadata": {},
          "execution_count": 39
        }
      ]
    },
    {
      "cell_type": "code",
      "metadata": {
        "id": "j633xfw2YKYX",
        "outputId": "cbdfdf74-a05e-4054-cde5-ceb80745be0e",
        "colab": {
          "base_uri": "https://localhost:8080/"
        }
      },
      "source": [
        "row_tds[1].attrs"
      ],
      "execution_count": 40,
      "outputs": [
        {
          "output_type": "execute_result",
          "data": {
            "text/plain": [
              "{'class': ['msga2']}"
            ]
          },
          "metadata": {},
          "execution_count": 40
        }
      ]
    },
    {
      "cell_type": "code",
      "metadata": {
        "id": "NXj3vKnWYKYY",
        "outputId": "733fba8b-ed57-4890-f0a1-69d6ef7f493c",
        "colab": {
          "base_uri": "https://localhost:8080/"
        }
      },
      "source": [
        "img = row_tds[1].find(\"img\")\n",
        "img"
      ],
      "execution_count": 41,
      "outputs": [
        {
          "output_type": "execute_result",
          "data": {
            "text/plain": [
              "<img alt=\"\" class=\"isfoto foto_list\" src=\"https://i.ss.com/gallery/4/767/191669/38333708.th2.jpg\"/>"
            ]
          },
          "metadata": {},
          "execution_count": 41
        }
      ]
    },
    {
      "cell_type": "code",
      "metadata": {
        "id": "G2WH9IQlYKYY",
        "outputId": "515c732f-e51d-4cc3-d092-415b7f8afb8b"
      },
      "source": [
        "img.get(\"src\")"
      ],
      "execution_count": null,
      "outputs": [
        {
          "data": {
            "text/plain": [
              "'https://i.ss.com/gallery/4/721/180036/36007145.th2.jpg'"
            ]
          },
          "execution_count": 28,
          "metadata": {},
          "output_type": "execute_result"
        }
      ]
    },
    {
      "cell_type": "code",
      "metadata": {
        "id": "eaZebzj8YKYY",
        "outputId": "24e53f1e-18d9-4bb4-92c3-09561c00cf6f",
        "colab": {
          "base_uri": "https://localhost:8080/",
          "height": 35
        }
      },
      "source": [
        "row_tds[2].text"
      ],
      "execution_count": 42,
      "outputs": [
        {
          "output_type": "execute_result",
          "data": {
            "application/vnd.google.colaboratory.intrinsic+json": {
              "type": "string"
            },
            "text/plain": [
              "'Izīrē 2-istabu dzīvokli ilgtermiņa īrei Rīgas Klusajā centrā, vē'"
            ]
          },
          "metadata": {},
          "execution_count": 42
        }
      ]
    },
    {
      "cell_type": "code",
      "metadata": {
        "id": "BagBoOlLYKYY",
        "outputId": "6afc0140-7cd7-4877-e92c-965770b8b803",
        "colab": {
          "base_uri": "https://localhost:8080/",
          "height": 35
        }
      },
      "source": [
        "# last one should be price\n",
        "row_tds[-1].text"
      ],
      "execution_count": 43,
      "outputs": [
        {
          "output_type": "execute_result",
          "data": {
            "application/vnd.google.colaboratory.intrinsic+json": {
              "type": "string"
            },
            "text/plain": [
              "'430  €/mon.'"
            ]
          },
          "metadata": {},
          "execution_count": 43
        }
      ]
    },
    {
      "cell_type": "code",
      "metadata": {
        "id": "_F9DGBwVYKYY",
        "outputId": "79e6deaf-3fb9-4f7b-a54e-11e0b2876f23",
        "colab": {
          "base_uri": "https://localhost:8080/"
        }
      },
      "source": [
        "# so second table data cell (which has alos has image) has anchor\n",
        "a = row_tds[1].find('a') # a tag is called anchor tag\n",
        "a"
      ],
      "execution_count": 45,
      "outputs": [
        {
          "output_type": "execute_result",
          "data": {
            "text/plain": [
              "<a href=\"/msg/en/real-estate/flats/riga/centre/dgbkg.html\" id=\"im50739690\"><img alt=\"\" class=\"isfoto foto_list\" src=\"https://i.ss.com/gallery/4/767/191669/38333708.th2.jpg\"/></a>"
            ]
          },
          "metadata": {},
          "execution_count": 45
        }
      ]
    },
    {
      "cell_type": "code",
      "metadata": {
        "id": "VMCXgsgnYKYY",
        "outputId": "bf2b3694-29ce-4e39-87ae-63fe99ca87a5",
        "colab": {
          "base_uri": "https://localhost:8080/"
        }
      },
      "source": [
        "a.attrs  # so i can read attributes as a dictionary"
      ],
      "execution_count": 47,
      "outputs": [
        {
          "output_type": "execute_result",
          "data": {
            "text/plain": [
              "{'href': '/msg/en/real-estate/flats/riga/centre/dgbkg.html',\n",
              " 'id': 'im50739690'}"
            ]
          },
          "metadata": {},
          "execution_count": 47
        }
      ]
    },
    {
      "cell_type": "code",
      "metadata": {
        "id": "Se5F8kF2YKYZ",
        "outputId": "efb8f2ed-287b-4e74-c649-55d83fcc5cd0",
        "colab": {
          "base_uri": "https://localhost:8080/"
        }
      },
      "source": [
        "a.get('href'), a['href'] # two ways of accesing this attribute\n",
        "# so all we need is to add http://www.ss.com in front"
      ],
      "execution_count": 48,
      "outputs": [
        {
          "output_type": "execute_result",
          "data": {
            "text/plain": [
              "('/msg/en/real-estate/flats/riga/centre/dgbkg.html',\n",
              " '/msg/en/real-estate/flats/riga/centre/dgbkg.html')"
            ]
          },
          "metadata": {},
          "execution_count": 48
        }
      ]
    },
    {
      "cell_type": "code",
      "metadata": {
        "id": "5CP9SKa1nXpc",
        "outputId": "f49c5b2a-a59c-4f06-b79f-850847b7c1e6",
        "colab": {
          "base_uri": "https://localhost:8080/"
        }
      },
      "source": [
        "column_names"
      ],
      "execution_count": 49,
      "outputs": [
        {
          "output_type": "execute_result",
          "data": {
            "text/plain": [
              "['description',\n",
              " 'url',\n",
              " 'Street',\n",
              " 'R.',\n",
              " 'm2',\n",
              " 'Floor',\n",
              " 'Series',\n",
              " 'Price, m2',\n",
              " 'Price']"
            ]
          },
          "metadata": {},
          "execution_count": 49
        }
      ]
    },
    {
      "cell_type": "code",
      "metadata": {
        "id": "v5xkZhZuYKYZ"
      },
      "source": [
        "# combining all of the above work into a function\n",
        "def getRow(row,colist=column_names):\n",
        "    row_tds = row.find_all('td')\n",
        "    rowDict = {}\n",
        "    if len(row_tds) <3: # a little sanity check\n",
        "        print(\"Hmm bad row\")\n",
        "        return rowDict\n",
        "    # first we save description\n",
        "    rowDict[colist[0]] = row_tds[2].text # so the big assumption is that we always get description in 3rd column\n",
        "    # then link to the ad\n",
        "    rowDict[colist[1]] = \"https://ss.com\" + row_tds[1].find('a').get('href')\n",
        "    # then we take the rest of the table data elements and use them as values for our dictionary with keys being the column names\n",
        "    for td,key in zip(row_tds[3:],colist[2:]): \n",
        "        rowDict[key] = td.text\n",
        "    return rowDict"
      ],
      "execution_count": 50,
      "outputs": []
    },
    {
      "cell_type": "code",
      "metadata": {
        "id": "HBfyiSwiYKYZ",
        "outputId": "bdfb3562-8662-4000-fb5a-3a487fac48ec",
        "colab": {
          "base_uri": "https://localhost:8080/"
        }
      },
      "source": [
        "apt_rows[0] # first row of ads"
      ],
      "execution_count": 51,
      "outputs": [
        {
          "output_type": "execute_result",
          "data": {
            "text/plain": [
              "<tr id=\"tr_50739690\"><td class=\"msga2 pp0\"><input id=\"c50739690\" name=\"mid[]\" type=\"checkbox\" value=\"50739690_1106_0\"/></td><td class=\"msga2\"><a href=\"/msg/en/real-estate/flats/riga/centre/dgbkg.html\" id=\"im50739690\"><img alt=\"\" class=\"isfoto foto_list\" src=\"https://i.ss.com/gallery/4/767/191669/38333708.th2.jpg\"/></a></td><td class=\"msg2\"><div class=\"d1\"><a class=\"am\" data=\"JTgwJTg3JTlDJUE2JUE5JUIyJTlDJUFCeSU4RCU5OCU5RSVBOW0lOUMlQTl6JThEJTlBJTlFJUFBZiU5QiVBNQ==|HUdny6ku\" href=\"/msg/en/real-estate/flats/riga/centre/dgbkg.html\" id=\"dm_50739690\">Izīrē 2-istabu dzīvokli ilgtermiņa īrei Rīgas Klusajā centrā, vē</a></div></td><td c=\"1\" class=\"msga2-o pp6\" nowrap=\"\">Alunana 6</td><td c=\"1\" class=\"msga2-o pp6\" nowrap=\"\">2</td><td c=\"1\" class=\"msga2-o pp6\" nowrap=\"\">50</td><td c=\"1\" class=\"msga2-o pp6\" nowrap=\"\">2/4</td><td c=\"1\" class=\"msga2-o pp6\" nowrap=\"\">Pre-war house</td><td c=\"1\" class=\"msga2-o pp6\" nowrap=\"\">8.60 €</td><td c=\"1\" class=\"msga2-o pp6\" nowrap=\"\">430  €/mon.</td></tr>"
            ]
          },
          "metadata": {},
          "execution_count": 51
        }
      ]
    },
    {
      "cell_type": "code",
      "metadata": {
        "id": "fKsZAmGXYKYZ",
        "outputId": "57d99c78-f25b-4693-eb42-3ac48261e695",
        "colab": {
          "base_uri": "https://localhost:8080/"
        }
      },
      "source": [
        "getRow(apt_rows[0])"
      ],
      "execution_count": 52,
      "outputs": [
        {
          "output_type": "execute_result",
          "data": {
            "text/plain": [
              "{'Floor': '2/4',\n",
              " 'Price': '430  €/mon.',\n",
              " 'Price, m2': '8.60 €',\n",
              " 'R.': '2',\n",
              " 'Series': 'Pre-war house',\n",
              " 'Street': 'Alunana 6',\n",
              " 'description': 'Izīrē 2-istabu dzīvokli ilgtermiņa īrei Rīgas Klusajā centrā, vē',\n",
              " 'm2': '50',\n",
              " 'url': 'https://ss.com/msg/en/real-estate/flats/riga/centre/dgbkg.html'}"
            ]
          },
          "metadata": {},
          "execution_count": 52
        }
      ]
    },
    {
      "cell_type": "code",
      "metadata": {
        "id": "ShHXUTSIYKYZ"
      },
      "source": [
        "def getRows(rowlist,colist=column_names):\n",
        "    return [getRow(row, colist=colist) for row in rowlist]\n"
      ],
      "execution_count": 54,
      "outputs": []
    },
    {
      "cell_type": "code",
      "metadata": {
        "id": "gZTquxXDYKYZ",
        "outputId": "c06ee08f-3026-42ef-eee2-c3fde37d8274",
        "colab": {
          "base_uri": "https://localhost:8080/"
        }
      },
      "source": [
        "row_ads = getRows(apt_rows)\n",
        "row_ads[-3:]"
      ],
      "execution_count": 55,
      "outputs": [
        {
          "output_type": "execute_result",
          "data": {
            "text/plain": [
              "[{'Floor': '5/6',\n",
              "  'Price': '260  €/mon.',\n",
              "  'Price, m2': '4.91 €',\n",
              "  'R.': '2',\n",
              "  'Series': 'Pre-war house',\n",
              "  'Street': 'Sadovnikova 37',\n",
              "  'description': 'Fasādes māja, renovēta māja, iežogota teritorija, vieta automašī',\n",
              "  'm2': '53',\n",
              "  'url': 'https://ss.com/msg/en/real-estate/flats/riga/centre/dmxpe.html'},\n",
              " {'Floor': '2/5',\n",
              "  'Price': '330  €/mon.',\n",
              "  'Price, m2': '6.23 €',\n",
              "  'R.': '2',\n",
              "  'Series': 'Pre-war house',\n",
              "  'Street': 'Bruninieku 66',\n",
              "  'description': 'Saimnieks izīrē 2 istabu dzīvokli ar izolētām istabām, ar visām ',\n",
              "  'm2': '53',\n",
              "  'url': 'https://ss.com/msg/en/real-estate/flats/riga/centre/hbnjn.html'},\n",
              " {'Floor': '2/6',\n",
              "  'Price': '550  €/mon.',\n",
              "  'Price, m2': '7.86 €',\n",
              "  'R.': '3',\n",
              "  'Series': 'Recon.',\n",
              "  'Street': 'Alunana 2A',\n",
              "  'description': 'Fasādes māja, kapitālais remonts, 2 istabas izolētas, studio tip',\n",
              "  'm2': '70',\n",
              "  'url': 'https://ss.com/msg/en/real-estate/flats/riga/centre/aemmx.html'}]"
            ]
          },
          "metadata": {},
          "execution_count": 55
        }
      ]
    },
    {
      "cell_type": "code",
      "metadata": {
        "id": "7PP8fCDzYKYZ",
        "outputId": "c49e089c-ad38-4ba6-940b-c0df2babf903",
        "colab": {
          "base_uri": "https://localhost:8080/"
        }
      },
      "source": [
        "type(row_ads) # so a list of dictionaries well suited for conversion to Pandas"
      ],
      "execution_count": 56,
      "outputs": [
        {
          "output_type": "execute_result",
          "data": {
            "text/plain": [
              "list"
            ]
          },
          "metadata": {},
          "execution_count": 56
        }
      ]
    },
    {
      "cell_type": "code",
      "metadata": {
        "id": "aueljk6PoIHf",
        "outputId": "f053d9b0-2f8a-4033-9308-027d8bc866a9",
        "colab": {
          "base_uri": "https://localhost:8080/"
        }
      },
      "source": [
        "row_ads[:2]  # first two ads"
      ],
      "execution_count": 57,
      "outputs": [
        {
          "output_type": "execute_result",
          "data": {
            "text/plain": [
              "[{'Floor': '2/4',\n",
              "  'Price': '430  €/mon.',\n",
              "  'Price, m2': '8.60 €',\n",
              "  'R.': '2',\n",
              "  'Series': 'Pre-war house',\n",
              "  'Street': 'Alunana 6',\n",
              "  'description': 'Izīrē 2-istabu dzīvokli ilgtermiņa īrei Rīgas Klusajā centrā, vē',\n",
              "  'm2': '50',\n",
              "  'url': 'https://ss.com/msg/en/real-estate/flats/riga/centre/dgbkg.html'},\n",
              " {'Floor': '1/1',\n",
              "  'Price': '380  €/mon.',\n",
              "  'Price, m2': '4.22 €',\n",
              "  'R.': '3',\n",
              "  'Series': 'Priv.house',\n",
              "  'Street': 'Ozolu 2',\n",
              "  'description': 'Izīrējam ļoti mājīgu un plašu 90 m2 3-istabu dzīvokli tuvu centr',\n",
              "  'm2': '90',\n",
              "  'url': 'https://ss.com/msg/en/real-estate/flats/riga/centre/bbfnp.html'}]"
            ]
          },
          "metadata": {},
          "execution_count": 57
        }
      ]
    },
    {
      "cell_type": "code",
      "metadata": {
        "id": "7r6m4zr1YKYa",
        "outputId": "85ac73b8-7dd5-442a-ea1b-5dfbce496cbe",
        "colab": {
          "base_uri": "https://localhost:8080/"
        }
      },
      "source": [
        "dtemp = pd.DataFrame(row_ads, columns=column_names)\n",
        "dtemp.shape"
      ],
      "execution_count": 58,
      "outputs": [
        {
          "output_type": "execute_result",
          "data": {
            "text/plain": [
              "(30, 9)"
            ]
          },
          "metadata": {},
          "execution_count": 58
        }
      ]
    },
    {
      "cell_type": "code",
      "metadata": {
        "id": "FdkVVg3FYKYa",
        "outputId": "d11d50aa-d1de-4222-d725-7b579ffa8815",
        "colab": {
          "base_uri": "https://localhost:8080/",
          "height": 310
        }
      },
      "source": [
        "dtemp.head()"
      ],
      "execution_count": 59,
      "outputs": [
        {
          "output_type": "execute_result",
          "data": {
            "text/html": [
              "<div>\n",
              "<style scoped>\n",
              "    .dataframe tbody tr th:only-of-type {\n",
              "        vertical-align: middle;\n",
              "    }\n",
              "\n",
              "    .dataframe tbody tr th {\n",
              "        vertical-align: top;\n",
              "    }\n",
              "\n",
              "    .dataframe thead th {\n",
              "        text-align: right;\n",
              "    }\n",
              "</style>\n",
              "<table border=\"1\" class=\"dataframe\">\n",
              "  <thead>\n",
              "    <tr style=\"text-align: right;\">\n",
              "      <th></th>\n",
              "      <th>description</th>\n",
              "      <th>url</th>\n",
              "      <th>Street</th>\n",
              "      <th>R.</th>\n",
              "      <th>m2</th>\n",
              "      <th>Floor</th>\n",
              "      <th>Series</th>\n",
              "      <th>Price, m2</th>\n",
              "      <th>Price</th>\n",
              "    </tr>\n",
              "  </thead>\n",
              "  <tbody>\n",
              "    <tr>\n",
              "      <th>0</th>\n",
              "      <td>Izīrē 2-istabu dzīvokli ilgtermiņa īrei Rīgas ...</td>\n",
              "      <td>https://ss.com/msg/en/real-estate/flats/riga/c...</td>\n",
              "      <td>Alunana 6</td>\n",
              "      <td>2</td>\n",
              "      <td>50</td>\n",
              "      <td>2/4</td>\n",
              "      <td>Pre-war house</td>\n",
              "      <td>8.60 €</td>\n",
              "      <td>430  €/mon.</td>\n",
              "    </tr>\n",
              "    <tr>\n",
              "      <th>1</th>\n",
              "      <td>Izīrējam ļoti mājīgu un plašu 90 m2 3-istabu d...</td>\n",
              "      <td>https://ss.com/msg/en/real-estate/flats/riga/c...</td>\n",
              "      <td>Ozolu 2</td>\n",
              "      <td>3</td>\n",
              "      <td>90</td>\n",
              "      <td>1/1</td>\n",
              "      <td>Priv.house</td>\n",
              "      <td>4.22 €</td>\n",
              "      <td>380  €/mon.</td>\n",
              "    </tr>\n",
              "    <tr>\n",
              "      <th>2</th>\n",
              "      <td>Izīrējam dzīvokli, klusais centrs Vēstniecību ...</td>\n",
              "      <td>https://ss.com/msg/en/real-estate/flats/riga/c...</td>\n",
              "      <td>Dzirnavu 6</td>\n",
              "      <td>3</td>\n",
              "      <td>60</td>\n",
              "      <td>2/5</td>\n",
              "      <td>Recon.</td>\n",
              "      <td>11.67 €</td>\n",
              "      <td>700  €/mon.</td>\n",
              "    </tr>\n",
              "    <tr>\n",
              "      <th>3</th>\n",
              "      <td>Fasādes māja, bezmaksas stāvvieta pagalmā. \\r\\...</td>\n",
              "      <td>https://ss.com/msg/en/real-estate/flats/riga/c...</td>\n",
              "      <td>Pernavas 11</td>\n",
              "      <td>2</td>\n",
              "      <td>65</td>\n",
              "      <td>6/7</td>\n",
              "      <td>Pre-war house</td>\n",
              "      <td>4.92 €</td>\n",
              "      <td>320  €/mon.</td>\n",
              "    </tr>\n",
              "    <tr>\n",
              "      <th>4</th>\n",
              "      <td>Izīrēju skaistu dzīvokli jaunā projekta ēkā. V...</td>\n",
              "      <td>https://ss.com/msg/en/real-estate/flats/riga/c...</td>\n",
              "      <td>Klusa 18</td>\n",
              "      <td>1</td>\n",
              "      <td>25</td>\n",
              "      <td>9/9</td>\n",
              "      <td>Recon.</td>\n",
              "      <td>1 €</td>\n",
              "      <td>25  €/day</td>\n",
              "    </tr>\n",
              "  </tbody>\n",
              "</table>\n",
              "</div>"
            ],
            "text/plain": [
              "                                         description  ...        Price\n",
              "0  Izīrē 2-istabu dzīvokli ilgtermiņa īrei Rīgas ...  ...  430  €/mon.\n",
              "1  Izīrējam ļoti mājīgu un plašu 90 m2 3-istabu d...  ...  380  €/mon.\n",
              "2  Izīrējam dzīvokli, klusais centrs Vēstniecību ...  ...  700  €/mon.\n",
              "3  Fasādes māja, bezmaksas stāvvieta pagalmā. \\r\\...  ...  320  €/mon.\n",
              "4  Izīrēju skaistu dzīvokli jaunā projekta ēkā. V...  ...    25  €/day\n",
              "\n",
              "[5 rows x 9 columns]"
            ]
          },
          "metadata": {},
          "execution_count": 59
        }
      ]
    },
    {
      "cell_type": "code",
      "metadata": {
        "id": "iE5SyzaRYKYa"
      },
      "source": [
        "dtemp.to_excel(\"centrs_30.xlsx\")"
      ],
      "execution_count": 60,
      "outputs": []
    },
    {
      "cell_type": "code",
      "metadata": {
        "id": "tKyMTZ9fYKYa",
        "outputId": "01c699c6-7b4e-4946-ed0e-cbb87565e4e0"
      },
      "source": [
        "centrs"
      ],
      "execution_count": null,
      "outputs": [
        {
          "data": {
            "text/plain": [
              "'https://www.ss.com/en/real-estate/flats/riga/centre/hand_over/'"
            ]
          },
          "execution_count": 44,
          "metadata": {},
          "output_type": "execute_result"
        }
      ]
    },
    {
      "cell_type": "code",
      "metadata": {
        "id": "NywnAmitYKYa",
        "outputId": "b9bf928d-3e57-48b3-9b90-08a263a520f2"
      },
      "source": [
        "tokens = centrs.split(\"/\")\n",
        "tokens"
      ],
      "execution_count": null,
      "outputs": [
        {
          "data": {
            "text/plain": [
              "['https:',\n",
              " '',\n",
              " 'www.ss.com',\n",
              " 'en',\n",
              " 'real-estate',\n",
              " 'flats',\n",
              " 'riga',\n",
              " 'centre',\n",
              " 'hand_over',\n",
              " '']"
            ]
          },
          "execution_count": 45,
          "metadata": {},
          "output_type": "execute_result"
        }
      ]
    },
    {
      "cell_type": "code",
      "metadata": {
        "id": "1NB08wgKYKYa",
        "outputId": "4378ecea-9b91-4b55-8933-24623778f005"
      },
      "source": [
        "prefix = tokens[-3]+\"_\"+tokens[-2]\n",
        "prefix"
      ],
      "execution_count": null,
      "outputs": [
        {
          "data": {
            "text/plain": [
              "'centre_hand_over'"
            ]
          },
          "execution_count": 46,
          "metadata": {},
          "output_type": "execute_result"
        }
      ]
    },
    {
      "cell_type": "code",
      "metadata": {
        "id": "pFZnYMEoYKYa"
      },
      "source": [
        "from datetime import datetime"
      ],
      "execution_count": null,
      "outputs": []
    },
    {
      "cell_type": "code",
      "metadata": {
        "id": "J7TQv09HYKYa",
        "outputId": "9235505a-4e2f-4e2d-909c-dc198ba1eb25"
      },
      "source": [
        "now = datetime.now()\n",
        "now.year, now.month, now.day, now.hour, now.minute"
      ],
      "execution_count": null,
      "outputs": [
        {
          "data": {
            "text/plain": [
              "(2020, 12, 2, 17, 54)"
            ]
          },
          "execution_count": 53,
          "metadata": {},
          "output_type": "execute_result"
        }
      ]
    },
    {
      "cell_type": "code",
      "metadata": {
        "id": "vMrAmR3kYKYb",
        "outputId": "517b2c37-9c91-4e20-e731-5b371eae5960"
      },
      "source": [
        "fname = f\"{prefix}_{now.month}_{now.day}_{ now.hour}_{ now.minute}.xlsx\"\n",
        "fname"
      ],
      "execution_count": null,
      "outputs": [
        {
          "data": {
            "text/plain": [
              "'centre_hand_over_12_2_17_54.xlsx'"
            ]
          },
          "execution_count": 56,
          "metadata": {},
          "output_type": "execute_result"
        }
      ]
    },
    {
      "cell_type": "code",
      "metadata": {
        "id": "-2fML2NTYKYb",
        "outputId": "ad208bbb-0138-45a6-ad24-25e5e347ce21"
      },
      "source": [
        "datetime.timestamp()"
      ],
      "execution_count": null,
      "outputs": [
        {
          "data": {
            "text/plain": [
              "<method 'timestamp' of 'datetime.datetime' objects>"
            ]
          },
          "execution_count": 51,
          "metadata": {},
          "output_type": "execute_result"
        }
      ]
    },
    {
      "cell_type": "code",
      "metadata": {
        "id": "UwZ8sSg0YKYb"
      },
      "source": [
        "def getDFfromURL(url, save_to_excel=False):\n",
        "    # print(\"getting data from\", url)\n",
        "    req = requests.get(url)\n",
        "    if req.status_code != 200:\n",
        "        print(\"Request Fail with\", req.status_code)\n",
        "        return None # maybe return empty dataframe here\n",
        "    soup = BeautifulSoup(req.text, 'lxml')\n",
        "    column_names = getColList(soup)\n",
        "    rowlist = getRowList(soup)\n",
        "    rows = getRows(rowlist,colist=column_names)\n",
        "    df = pd.DataFrame(rows, columns=column_names)\n",
        "    if save_to_excel:\n",
        "        tokens = url.split(\"/\")\n",
        "        prefix = tokens[-3]+\"_\"+tokens[-2]\n",
        "        now = datetime.now()\n",
        "        fname = f\"{prefix}_{now.month}_{now.day}_{now.hour}_{now.minute}.xlsx\"\n",
        "        df.to_excel(fname)\n",
        "    return df"
      ],
      "execution_count": 61,
      "outputs": []
    },
    {
      "cell_type": "code",
      "metadata": {
        "id": "BHq6UsNNYKYb",
        "outputId": "fee29f55-2d97-49d0-8ef2-da712e990253",
        "colab": {
          "base_uri": "https://localhost:8080/",
          "height": 35
        }
      },
      "source": [
        "centrs"
      ],
      "execution_count": 62,
      "outputs": [
        {
          "output_type": "execute_result",
          "data": {
            "application/vnd.google.colaboratory.intrinsic+json": {
              "type": "string"
            },
            "text/plain": [
              "'https://www.ss.com/en/real-estate/flats/riga/centre/hand_over/'"
            ]
          },
          "metadata": {},
          "execution_count": 62
        }
      ]
    },
    {
      "cell_type": "code",
      "metadata": {
        "id": "_XKSm2CTozDw",
        "outputId": "433b8643-168d-43d3-e8b0-95061d135fdf",
        "colab": {
          "base_uri": "https://localhost:8080/",
          "height": 35
        }
      },
      "source": [
        "agens = \"https://www.ss.com/lv/real-estate/flats/riga/agenskalns/hand_over/\"\n",
        "agens"
      ],
      "execution_count": 63,
      "outputs": [
        {
          "output_type": "execute_result",
          "data": {
            "application/vnd.google.colaboratory.intrinsic+json": {
              "type": "string"
            },
            "text/plain": [
              "'https://www.ss.com/lv/real-estate/flats/riga/agenskalns/hand_over/'"
            ]
          },
          "metadata": {},
          "execution_count": 63
        }
      ]
    },
    {
      "cell_type": "code",
      "metadata": {
        "id": "IhF0_693o3Uc",
        "outputId": "0d99119f-3179-4613-8725-a9e849d67dd6",
        "colab": {
          "base_uri": "https://localhost:8080/",
          "height": 554
        }
      },
      "source": [
        "agens_df = getDFfromURL(agens, save_to_excel=True)\n",
        "agens_df.head(10)  # see first 10 ads"
      ],
      "execution_count": 66,
      "outputs": [
        {
          "output_type": "execute_result",
          "data": {
            "text/html": [
              "<div>\n",
              "<style scoped>\n",
              "    .dataframe tbody tr th:only-of-type {\n",
              "        vertical-align: middle;\n",
              "    }\n",
              "\n",
              "    .dataframe tbody tr th {\n",
              "        vertical-align: top;\n",
              "    }\n",
              "\n",
              "    .dataframe thead th {\n",
              "        text-align: right;\n",
              "    }\n",
              "</style>\n",
              "<table border=\"1\" class=\"dataframe\">\n",
              "  <thead>\n",
              "    <tr style=\"text-align: right;\">\n",
              "      <th></th>\n",
              "      <th>description</th>\n",
              "      <th>url</th>\n",
              "      <th>Iela</th>\n",
              "      <th>Ist.</th>\n",
              "      <th>m2</th>\n",
              "      <th>Stāvs</th>\n",
              "      <th>Sērija</th>\n",
              "      <th>Cena, m2</th>\n",
              "      <th>Cena</th>\n",
              "    </tr>\n",
              "  </thead>\n",
              "  <tbody>\n",
              "    <tr>\n",
              "      <th>0</th>\n",
              "      <td>Īpašnieks izīrē nelielu mūsdienīgu dzīvoklīti ...</td>\n",
              "      <td>https://ss.com/msg/lv/real-estate/flats/riga/a...</td>\n",
              "      <td>Kristapa 8</td>\n",
              "      <td>1</td>\n",
              "      <td>21</td>\n",
              "      <td>1/4</td>\n",
              "      <td>Hrušč.</td>\n",
              "      <td>10.71 €</td>\n",
              "      <td>225  €/mēn.</td>\n",
              "    </tr>\n",
              "    <tr>\n",
              "      <th>1</th>\n",
              "      <td>Недавно закончили капитальный ремонт . Квартир...</td>\n",
              "      <td>https://ss.com/msg/lv/real-estate/flats/riga/a...</td>\n",
              "      <td>Kūdras 4</td>\n",
              "      <td>1</td>\n",
              "      <td>31</td>\n",
              "      <td>4/5</td>\n",
              "      <td>Specpr.</td>\n",
              "      <td>10.32 €</td>\n",
              "      <td>320  €/mēn.</td>\n",
              "    </tr>\n",
              "    <tr>\n",
              "      <th>2</th>\n",
              "      <td>Izīrē skaistu trīsistabu dzīvokli (viena istab...</td>\n",
              "      <td>https://ss.com/msg/lv/real-estate/flats/riga/a...</td>\n",
              "      <td>Kuldīgas 38</td>\n",
              "      <td>3</td>\n",
              "      <td>76</td>\n",
              "      <td>1/2</td>\n",
              "      <td>P. kara</td>\n",
              "      <td>5.79 €</td>\n",
              "      <td>440  €/mēn.</td>\n",
              "    </tr>\n",
              "    <tr>\n",
              "      <th>3</th>\n",
              "      <td>Сдаю 1 комнатную квартиру. \\r\\nМалогабаритная ...</td>\n",
              "      <td>https://ss.com/msg/lv/real-estate/flats/riga/a...</td>\n",
              "      <td>Kristapa 8</td>\n",
              "      <td>1</td>\n",
              "      <td>13</td>\n",
              "      <td>3/4</td>\n",
              "      <td>M. ģim.</td>\n",
              "      <td>11.54 €</td>\n",
              "      <td>150  €/mēn.</td>\n",
              "    </tr>\n",
              "    <tr>\n",
              "      <th>4</th>\n",
              "      <td>Izīrē ilgtermiņā divistabu dzīvokli ar kvalita...</td>\n",
              "      <td>https://ss.com/msg/lv/real-estate/flats/riga/a...</td>\n",
              "      <td>Zeļļu 3</td>\n",
              "      <td>2</td>\n",
              "      <td>54</td>\n",
              "      <td>4/4</td>\n",
              "      <td>P. kara</td>\n",
              "      <td>11.48 €</td>\n",
              "      <td>620  €/mēn.</td>\n",
              "    </tr>\n",
              "    <tr>\n",
              "      <th>5</th>\n",
              "      <td>Izīrē gaišu, koptu dzīvokli, klusā vietā pretī...</td>\n",
              "      <td>https://ss.com/msg/lv/real-estate/flats/riga/a...</td>\n",
              "      <td>Grīna bulv. 11</td>\n",
              "      <td>2</td>\n",
              "      <td>48</td>\n",
              "      <td>5/5</td>\n",
              "      <td>Specpr.</td>\n",
              "      <td>8.96 €</td>\n",
              "      <td>430  €/mēn.</td>\n",
              "    </tr>\n",
              "    <tr>\n",
              "      <th>6</th>\n",
              "      <td>Сдаётся тёплая квартира, квартира находится не...</td>\n",
              "      <td>https://ss.com/msg/lv/real-estate/flats/riga/a...</td>\n",
              "      <td>Valguma 35</td>\n",
              "      <td>1</td>\n",
              "      <td>30</td>\n",
              "      <td>3/4</td>\n",
              "      <td>Hrušč.</td>\n",
              "      <td>8.33 €</td>\n",
              "      <td>250  €/mēn.</td>\n",
              "    </tr>\n",
              "    <tr>\n",
              "      <th>7</th>\n",
              "      <td>Piedāvājam īrēt labiekārtotu un modernu viesnī...</td>\n",
              "      <td>https://ss.com/msg/lv/real-estate/flats/riga/a...</td>\n",
              "      <td>Nometņu 62</td>\n",
              "      <td>1</td>\n",
              "      <td>19</td>\n",
              "      <td>3/6</td>\n",
              "      <td>Renov.</td>\n",
              "      <td>18.42 €</td>\n",
              "      <td>350  €/mēn.</td>\n",
              "    </tr>\n",
              "    <tr>\n",
              "      <th>8</th>\n",
              "      <td>Izīrē plašu, mājīgu un gaišu 3 istabu dzīvokli...</td>\n",
              "      <td>https://ss.com/msg/lv/real-estate/flats/riga/a...</td>\n",
              "      <td>Nometņu 62</td>\n",
              "      <td>3</td>\n",
              "      <td>57</td>\n",
              "      <td>1/2</td>\n",
              "      <td>Priv. m.</td>\n",
              "      <td>5.88 €</td>\n",
              "      <td>335  €/mēn.</td>\n",
              "    </tr>\n",
              "    <tr>\n",
              "      <th>9</th>\n",
              "      <td>Piedāvājumā dzīvoklis vēsturiskā, atjaunotā un...</td>\n",
              "      <td>https://ss.com/msg/lv/real-estate/flats/riga/a...</td>\n",
              "      <td>Bišu 1</td>\n",
              "      <td>1</td>\n",
              "      <td>25</td>\n",
              "      <td>2/2</td>\n",
              "      <td>Priv. m.</td>\n",
              "      <td>8.80 €</td>\n",
              "      <td>220  €/mēn.</td>\n",
              "    </tr>\n",
              "  </tbody>\n",
              "</table>\n",
              "</div>"
            ],
            "text/plain": [
              "                                         description  ...         Cena\n",
              "0  Īpašnieks izīrē nelielu mūsdienīgu dzīvoklīti ...  ...  225  €/mēn.\n",
              "1  Недавно закончили капитальный ремонт . Квартир...  ...  320  €/mēn.\n",
              "2  Izīrē skaistu trīsistabu dzīvokli (viena istab...  ...  440  €/mēn.\n",
              "3  Сдаю 1 комнатную квартиру. \\r\\nМалогабаритная ...  ...  150  €/mēn.\n",
              "4  Izīrē ilgtermiņā divistabu dzīvokli ar kvalita...  ...  620  €/mēn.\n",
              "5  Izīrē gaišu, koptu dzīvokli, klusā vietā pretī...  ...  430  €/mēn.\n",
              "6  Сдаётся тёплая квартира, квартира находится не...  ...  250  €/mēn.\n",
              "7  Piedāvājam īrēt labiekārtotu un modernu viesnī...  ...  350  €/mēn.\n",
              "8  Izīrē plašu, mājīgu un gaišu 3 istabu dzīvokli...  ...  335  €/mēn.\n",
              "9  Piedāvājumā dzīvoklis vēsturiskā, atjaunotā un...  ...  220  €/mēn.\n",
              "\n",
              "[10 rows x 9 columns]"
            ]
          },
          "metadata": {},
          "execution_count": 66
        }
      ]
    },
    {
      "cell_type": "code",
      "metadata": {
        "id": "TIlXSG3xYKYb"
      },
      "source": [
        "df = getDFfromURL(centrs, save_to_excel=True)"
      ],
      "execution_count": null,
      "outputs": []
    },
    {
      "cell_type": "code",
      "metadata": {
        "id": "v7RQPAbWYKYb",
        "outputId": "90eea1dd-7641-4ed1-d400-10397883bfe0"
      },
      "source": [
        "df.shape"
      ],
      "execution_count": null,
      "outputs": [
        {
          "data": {
            "text/plain": [
              "(30, 9)"
            ]
          },
          "execution_count": 62,
          "metadata": {},
          "output_type": "execute_result"
        }
      ]
    },
    {
      "cell_type": "code",
      "metadata": {
        "id": "1bG8uy5pYKYb",
        "outputId": "f6983fc3-9e90-437a-83b2-52e01d2f75ea"
      },
      "source": [
        "df.head()"
      ],
      "execution_count": null,
      "outputs": [
        {
          "data": {
            "text/html": [
              "<div>\n",
              "<style scoped>\n",
              "    .dataframe tbody tr th:only-of-type {\n",
              "        vertical-align: middle;\n",
              "    }\n",
              "\n",
              "    .dataframe tbody tr th {\n",
              "        vertical-align: top;\n",
              "    }\n",
              "\n",
              "    .dataframe thead th {\n",
              "        text-align: right;\n",
              "    }\n",
              "</style>\n",
              "<table border=\"1\" class=\"dataframe\">\n",
              "  <thead>\n",
              "    <tr style=\"text-align: right;\">\n",
              "      <th></th>\n",
              "      <th>description</th>\n",
              "      <th>url</th>\n",
              "      <th>Street</th>\n",
              "      <th>R.</th>\n",
              "      <th>m2</th>\n",
              "      <th>Floor</th>\n",
              "      <th>Series</th>\n",
              "      <th>Price, m2</th>\n",
              "      <th>Price</th>\n",
              "    </tr>\n",
              "  </thead>\n",
              "  <tbody>\n",
              "    <tr>\n",
              "      <th>0</th>\n",
              "      <td>Divistabu dzīvoklis ar bezmaksas stāvvietu pie...</td>\n",
              "      <td>https://ss.com/msg/en/real-estate/flats/riga/c...</td>\n",
              "      <td>Miera 97</td>\n",
              "      <td>2</td>\n",
              "      <td>39</td>\n",
              "      <td>4/5</td>\n",
              "      <td>Chrusch.</td>\n",
              "      <td>8.46 €</td>\n",
              "      <td>330  €/mon.</td>\n",
              "    </tr>\n",
              "    <tr>\n",
              "      <th>1</th>\n",
              "      <td>Izīrē pilnībā mēbelētu dzīvokli jaunāja projek...</td>\n",
              "      <td>https://ss.com/msg/en/real-estate/flats/riga/c...</td>\n",
              "      <td>Terbatas 26a</td>\n",
              "      <td>2</td>\n",
              "      <td>31</td>\n",
              "      <td>2/5</td>\n",
              "      <td>New</td>\n",
              "      <td>14.52 €</td>\n",
              "      <td>450  €/mon.</td>\n",
              "    </tr>\n",
              "    <tr>\n",
              "      <th>2</th>\n",
              "      <td>Izīrē pilnībā mēbelētu dzīvokli pilsētas centr...</td>\n",
              "      <td>https://ss.com/msg/en/real-estate/flats/riga/c...</td>\n",
              "      <td>Terbatas 26a</td>\n",
              "      <td>2</td>\n",
              "      <td>43</td>\n",
              "      <td>1/6</td>\n",
              "      <td>New</td>\n",
              "      <td>10.47 €</td>\n",
              "      <td>450  €/mon.</td>\n",
              "    </tr>\n",
              "    <tr>\n",
              "      <th>3</th>\n",
              "      <td>Izīrē 2-istabu dzīvokli pēc kapitālā remonta a...</td>\n",
              "      <td>https://ss.com/msg/en/real-estate/flats/riga/c...</td>\n",
              "      <td>Chaka 148</td>\n",
              "      <td>2</td>\n",
              "      <td>60</td>\n",
              "      <td>3/5</td>\n",
              "      <td>Perewar</td>\n",
              "      <td>7.50 €</td>\n",
              "      <td>450  €/mon.</td>\n",
              "    </tr>\n",
              "    <tr>\n",
              "      <th>4</th>\n",
              "      <td>Īpašniece piedāvā īrei ērtu, studijas tipa dzī...</td>\n",
              "      <td>https://ss.com/msg/en/real-estate/flats/riga/c...</td>\n",
              "      <td>Artilerijas 19</td>\n",
              "      <td>1</td>\n",
              "      <td>35</td>\n",
              "      <td>3/4</td>\n",
              "      <td>Recon.</td>\n",
              "      <td>10.57 €</td>\n",
              "      <td>370  €/mon.</td>\n",
              "    </tr>\n",
              "  </tbody>\n",
              "</table>\n",
              "</div>"
            ],
            "text/plain": [
              "                                         description  \\\n",
              "0  Divistabu dzīvoklis ar bezmaksas stāvvietu pie...   \n",
              "1  Izīrē pilnībā mēbelētu dzīvokli jaunāja projek...   \n",
              "2  Izīrē pilnībā mēbelētu dzīvokli pilsētas centr...   \n",
              "3  Izīrē 2-istabu dzīvokli pēc kapitālā remonta a...   \n",
              "4  Īpašniece piedāvā īrei ērtu, studijas tipa dzī...   \n",
              "\n",
              "                                                 url          Street R.  m2  \\\n",
              "0  https://ss.com/msg/en/real-estate/flats/riga/c...        Miera 97  2  39   \n",
              "1  https://ss.com/msg/en/real-estate/flats/riga/c...    Terbatas 26a  2  31   \n",
              "2  https://ss.com/msg/en/real-estate/flats/riga/c...    Terbatas 26a  2  43   \n",
              "3  https://ss.com/msg/en/real-estate/flats/riga/c...       Chaka 148  2  60   \n",
              "4  https://ss.com/msg/en/real-estate/flats/riga/c...  Artilerijas 19  1  35   \n",
              "\n",
              "  Floor    Series Price, m2        Price  \n",
              "0   4/5  Chrusch.    8.46 €  330  €/mon.  \n",
              "1   2/5       New   14.52 €  450  €/mon.  \n",
              "2   1/6       New   10.47 €  450  €/mon.  \n",
              "3   3/5   Perewar    7.50 €  450  €/mon.  \n",
              "4   3/4    Recon.   10.57 €  370  €/mon.  "
            ]
          },
          "execution_count": 63,
          "metadata": {},
          "output_type": "execute_result"
        }
      ]
    },
    {
      "cell_type": "markdown",
      "metadata": {
        "id": "QQHubk-MYKYc"
      },
      "source": [
        "## Now we want to find all pages with the same ads from the area\n",
        "### some urls might have many ads some might have a single page"
      ]
    },
    {
      "cell_type": "code",
      "metadata": {
        "id": "0cEgFSorYKYc",
        "outputId": "de9fdf2a-4afa-4e42-fe2b-a1db47d8bb4b",
        "colab": {
          "base_uri": "https://localhost:8080/"
        }
      },
      "source": [
        "\n",
        "# https://developer.mozilla.org/en-US/docs/Web/HTML/Element/a\n",
        "anchors = soup.find_all(\"a\")\n",
        "len(anchors)"
      ],
      "execution_count": 89,
      "outputs": [
        {
          "output_type": "execute_result",
          "data": {
            "text/plain": [
              "99"
            ]
          },
          "metadata": {},
          "execution_count": 89
        }
      ]
    },
    {
      "cell_type": "code",
      "metadata": {
        "id": "QKInh_ZdYKYc",
        "outputId": "564db288-8e57-4509-bce8-9153688c78c3",
        "colab": {
          "base_uri": "https://localhost:8080/"
        }
      },
      "source": [
        "anchors[:5]"
      ],
      "execution_count": 68,
      "outputs": [
        {
          "output_type": "execute_result",
          "data": {
            "text/plain": [
              "[<a href=\"/\" title=\"Advertisements\"><img alt=\"Advertisements\" border=\"0\" class=\"page_header_logo\" src=\"https://i.ss.com/img/p.gif\"/></a>,\n",
              " <a class=\"a_menu\" href=\"/en/real-estate/flats/new/\" title=\"Post Advertisement\">Post Advertisement</a>,\n",
              " <a class=\"a_menu\" href=\"/en/login/\" title=\"My Adverts\">My Adverts</a>,\n",
              " <a class=\"a_menu\" href=\"/en/real-estate/flats/riga/centre/search/\" title=\"Search advertisement\">Search</a>,\n",
              " <a class=\"a_menu\" href=\"/en/favorites/\" title=\"Favorites\">Favorites</a>]"
            ]
          },
          "metadata": {},
          "execution_count": 68
        }
      ]
    },
    {
      "cell_type": "code",
      "metadata": {
        "id": "NQAs98w0YKYd",
        "outputId": "07763f3c-3bc3-4d42-af83-2247bf8788a2",
        "colab": {
          "base_uri": "https://localhost:8080/"
        }
      },
      "source": [
        "navs = [anchor for anchor in anchors if anchor.get(\"name\") == \"nav_id\"] # get will get us None if no \"name\" exists\n",
        "len(navs)"
      ],
      "execution_count": 90,
      "outputs": [
        {
          "output_type": "execute_result",
          "data": {
            "text/plain": [
              "10"
            ]
          },
          "metadata": {},
          "execution_count": 90
        }
      ]
    },
    {
      "cell_type": "code",
      "metadata": {
        "id": "q49de0zdYKYd",
        "outputId": "1824f365-42db-4ecb-b75c-bbd1026a8bcb",
        "colab": {
          "base_uri": "https://localhost:8080/"
        }
      },
      "source": [
        "navs[0]"
      ],
      "execution_count": 91,
      "outputs": [
        {
          "output_type": "execute_result",
          "data": {
            "text/plain": [
              "<a class=\"navi\" href=\"/en/real-estate/flats/riga/centre/hand_over/page21.html\" name=\"nav_id\" rel=\"prev\"><img border=\"0\" height=\"5\" src=\"https://i.ss.com/img/s_left.png\" style=\"padding-bottom:2px;\" width=\"9\"/> Previous</a>"
            ]
          },
          "metadata": {},
          "execution_count": 91
        }
      ]
    },
    {
      "cell_type": "code",
      "metadata": {
        "id": "KGNO8hd1YKYd",
        "outputId": "577678a5-2ec5-4bdb-fcba-034f63fc9f9c",
        "colab": {
          "base_uri": "https://localhost:8080/"
        }
      },
      "source": [
        "navs[0].attrs"
      ],
      "execution_count": 92,
      "outputs": [
        {
          "output_type": "execute_result",
          "data": {
            "text/plain": [
              "{'class': ['navi'],\n",
              " 'href': '/en/real-estate/flats/riga/centre/hand_over/page21.html',\n",
              " 'name': 'nav_id',\n",
              " 'rel': ['prev']}"
            ]
          },
          "metadata": {},
          "execution_count": 92
        }
      ]
    },
    {
      "cell_type": "code",
      "metadata": {
        "id": "HKtjox9FYKYd",
        "outputId": "dc25df6c-f538-42ab-eb29-f97b990aca5e",
        "colab": {
          "base_uri": "https://localhost:8080/",
          "height": 35
        }
      },
      "source": [
        "navs[0]['href']"
      ],
      "execution_count": 72,
      "outputs": [
        {
          "output_type": "execute_result",
          "data": {
            "application/vnd.google.colaboratory.intrinsic+json": {
              "type": "string"
            },
            "text/plain": [
              "'/en/real-estate/flats/riga/centre/hand_over/page21.html'"
            ]
          },
          "metadata": {},
          "execution_count": 72
        }
      ]
    },
    {
      "cell_type": "code",
      "metadata": {
        "id": "VL_P01qXYKYd",
        "outputId": "39ad8edb-05ac-4b28-bffd-60c04c4ee6b3",
        "colab": {
          "base_uri": "https://localhost:8080/",
          "height": 35
        }
      },
      "source": [
        "# could use regular expression here but we can use split \n",
        "afterpage = navs[0]['href'].split(\"/page\")[-1] # -1 might be safer than 1 in case there is region with name page\n",
        "afterpage"
      ],
      "execution_count": 93,
      "outputs": [
        {
          "output_type": "execute_result",
          "data": {
            "application/vnd.google.colaboratory.intrinsic+json": {
              "type": "string"
            },
            "text/plain": [
              "'21.html'"
            ]
          },
          "metadata": {},
          "execution_count": 93
        }
      ]
    },
    {
      "cell_type": "code",
      "metadata": {
        "id": "G6ITLcSaYKYd",
        "outputId": "679642eb-7d2b-4b38-96d9-c99a258b1798",
        "colab": {
          "base_uri": "https://localhost:8080/",
          "height": 35
        }
      },
      "source": [
        "beforedot = afterpage.split(\".html\")[0]\n",
        "beforedot"
      ],
      "execution_count": 94,
      "outputs": [
        {
          "output_type": "execute_result",
          "data": {
            "application/vnd.google.colaboratory.intrinsic+json": {
              "type": "string"
            },
            "text/plain": [
              "'21'"
            ]
          },
          "metadata": {},
          "execution_count": 94
        }
      ]
    },
    {
      "cell_type": "code",
      "metadata": {
        "id": "ZIcIWllRYKYd",
        "outputId": "df8f31a8-dc5e-4856-d661-5b77c0238c97",
        "colab": {
          "base_uri": "https://localhost:8080/"
        }
      },
      "source": [
        "lastpage = int(beforedot)  # need to cast this to integer\n",
        "lastpage"
      ],
      "execution_count": 95,
      "outputs": [
        {
          "output_type": "execute_result",
          "data": {
            "text/plain": [
              "21"
            ]
          },
          "metadata": {},
          "execution_count": 95
        }
      ]
    },
    {
      "cell_type": "code",
      "metadata": {
        "id": "rUbyf2sAYKYd"
      },
      "source": [
        "def getAllLocalUrls(url):\n",
        "    \"\"\"Get a list of all urls including paginated pages\"\"\"\n",
        "    results = [url] # default is just the url if no extra pages found like Boldaraja :)\n",
        "    req = requests.get(url)\n",
        "    if req.status_code != 200:\n",
        "        print(f\"Bad response! {req.status_code}\")\n",
        "        return []\n",
        "    soup = BeautifulSoup(req.text, 'lxml')\n",
        "    # we just need a one element\n",
        "    prevanchor = soup.find('a', {\"rel\":\"prev\"})\n",
        "    if prevanchor == None: # means there is only one page of ads\n",
        "        return results\n",
        "    href = prevanchor.attrs.get('href')\n",
        "    lastPageNum = int(href.split('/page')[-1].split('.html')[0])\n",
        "    print(\"Last page is\",lastPageNum)\n",
        "    nurls = [f\"{url}page{n}.html\" for n in range(2,lastPageNum+1)]\n",
        "    results += nurls\n",
        "    return results"
      ],
      "execution_count": 96,
      "outputs": []
    },
    {
      "cell_type": "code",
      "metadata": {
        "id": "_Za44yvCYKYd",
        "outputId": "165fec90-4f4e-4f00-c1dd-dea2255807e6",
        "colab": {
          "base_uri": "https://localhost:8080/",
          "height": 35
        }
      },
      "source": [
        "centrs"
      ],
      "execution_count": 97,
      "outputs": [
        {
          "output_type": "execute_result",
          "data": {
            "application/vnd.google.colaboratory.intrinsic+json": {
              "type": "string"
            },
            "text/plain": [
              "'https://www.ss.com/en/real-estate/flats/riga/centre/hand_over/'"
            ]
          },
          "metadata": {},
          "execution_count": 97
        }
      ]
    },
    {
      "cell_type": "code",
      "metadata": {
        "id": "SLRkVqWiYKYe",
        "outputId": "24dc86e6-40f2-4c3a-e425-ee9f06300b53",
        "colab": {
          "base_uri": "https://localhost:8080/"
        }
      },
      "source": [
        "local_urls = getAllLocalUrls(centrs)\n",
        "len(local_urls),local_urls[:3],local_urls[-3:]"
      ],
      "execution_count": 99,
      "outputs": [
        {
          "output_type": "stream",
          "name": "stdout",
          "text": [
            "Last page is 21\n"
          ]
        },
        {
          "output_type": "execute_result",
          "data": {
            "text/plain": [
              "(21,\n",
              " ['https://www.ss.com/en/real-estate/flats/riga/centre/hand_over/',\n",
              "  'https://www.ss.com/en/real-estate/flats/riga/centre/hand_over/page2.html',\n",
              "  'https://www.ss.com/en/real-estate/flats/riga/centre/hand_over/page3.html'],\n",
              " ['https://www.ss.com/en/real-estate/flats/riga/centre/hand_over/page19.html',\n",
              "  'https://www.ss.com/en/real-estate/flats/riga/centre/hand_over/page20.html',\n",
              "  'https://www.ss.com/en/real-estate/flats/riga/centre/hand_over/page21.html'])"
            ]
          },
          "metadata": {},
          "execution_count": 99
        }
      ]
    },
    {
      "cell_type": "code",
      "metadata": {
        "id": "sSP9aujbYKYe",
        "outputId": "9e56079b-d031-45c8-cc44-018a3757691c",
        "colab": {
          "base_uri": "https://localhost:8080/"
        }
      },
      "source": [
        "dlast = getDFfromURL(local_urls[-1])\n",
        "dlast.shape"
      ],
      "execution_count": 100,
      "outputs": [
        {
          "output_type": "execute_result",
          "data": {
            "text/plain": [
              "(8, 9)"
            ]
          },
          "metadata": {},
          "execution_count": 100
        }
      ]
    },
    {
      "cell_type": "code",
      "metadata": {
        "scrolled": true,
        "id": "mukROA1XYKYe",
        "outputId": "6c5a258e-1728-43a8-d7fd-fc5a65c40c65",
        "colab": {
          "base_uri": "https://localhost:8080/",
          "height": 456
        }
      },
      "source": [
        "dlast"
      ],
      "execution_count": 101,
      "outputs": [
        {
          "output_type": "execute_result",
          "data": {
            "text/html": [
              "<div>\n",
              "<style scoped>\n",
              "    .dataframe tbody tr th:only-of-type {\n",
              "        vertical-align: middle;\n",
              "    }\n",
              "\n",
              "    .dataframe tbody tr th {\n",
              "        vertical-align: top;\n",
              "    }\n",
              "\n",
              "    .dataframe thead th {\n",
              "        text-align: right;\n",
              "    }\n",
              "</style>\n",
              "<table border=\"1\" class=\"dataframe\">\n",
              "  <thead>\n",
              "    <tr style=\"text-align: right;\">\n",
              "      <th></th>\n",
              "      <th>description</th>\n",
              "      <th>url</th>\n",
              "      <th>Street</th>\n",
              "      <th>R.</th>\n",
              "      <th>m2</th>\n",
              "      <th>Floor</th>\n",
              "      <th>Series</th>\n",
              "      <th>Price, m2</th>\n",
              "      <th>Price</th>\n",
              "    </tr>\n",
              "  </thead>\n",
              "  <tbody>\n",
              "    <tr>\n",
              "      <th>0</th>\n",
              "      <td>Ilgtermiņā izīrē plašu 2 istabu dzīvokli Rīgas...</td>\n",
              "      <td>https://ss.com/msg/en/real-estate/flats/riga/c...</td>\n",
              "      <td>Birznieka-Upisha 2..</td>\n",
              "      <td>2</td>\n",
              "      <td>68</td>\n",
              "      <td>5/6</td>\n",
              "      <td>Recon.</td>\n",
              "      <td>4.71 €</td>\n",
              "      <td>320  €/mon.</td>\n",
              "    </tr>\n",
              "    <tr>\n",
              "      <th>1</th>\n",
              "      <td>Kluss pagalma dzīvoklis Centrā\\r\\n\\r\\nIzīrē pl...</td>\n",
              "      <td>https://ss.com/msg/en/real-estate/flats/riga/c...</td>\n",
              "      <td>Brivibas 39A</td>\n",
              "      <td>3</td>\n",
              "      <td>64</td>\n",
              "      <td>5/6</td>\n",
              "      <td>Pre-war house</td>\n",
              "      <td>9.06 €</td>\n",
              "      <td>580  €/mon.</td>\n",
              "    </tr>\n",
              "    <tr>\n",
              "      <th>2</th>\n",
              "      <td>Piedāvājam izīrēt dzīvokli Rīgas centrā. Bezma...</td>\n",
              "      <td>https://ss.com/msg/en/real-estate/flats/riga/c...</td>\n",
              "      <td>Gertrudes 61a</td>\n",
              "      <td>2</td>\n",
              "      <td>55</td>\n",
              "      <td>2/3</td>\n",
              "      <td>New</td>\n",
              "      <td>0.691 €</td>\n",
              "      <td>38  €/day</td>\n",
              "    </tr>\n",
              "    <tr>\n",
              "      <th>3</th>\n",
              "      <td>Сдаётся однокомнатная квартира со всеми удобст...</td>\n",
              "      <td>https://ss.com/msg/en/real-estate/flats/riga/c...</td>\n",
              "      <td>Artilerijas 44</td>\n",
              "      <td>1</td>\n",
              "      <td>34</td>\n",
              "      <td>2/5</td>\n",
              "      <td>Pre-war house</td>\n",
              "      <td>6.18 €</td>\n",
              "      <td>210  €/mon.</td>\n",
              "    </tr>\n",
              "    <tr>\n",
              "      <th>4</th>\n",
              "      <td>Izīrē jaunajā projektā komfortablu, kompaktu u...</td>\n",
              "      <td>https://ss.com/msg/en/real-estate/flats/riga/c...</td>\n",
              "      <td>Matisa 46</td>\n",
              "      <td>1</td>\n",
              "      <td>18</td>\n",
              "      <td>5/5</td>\n",
              "      <td>New</td>\n",
              "      <td>1.39 €</td>\n",
              "      <td>25  €/day</td>\n",
              "    </tr>\n",
              "    <tr>\n",
              "      <th>5</th>\n",
              "      <td>Izīrē īstermiņā, Vecrīga - ideāla atrašanās vi...</td>\n",
              "      <td>https://ss.com/msg/en/real-estate/flats/riga/c...</td>\n",
              "      <td>Tirgonu 17</td>\n",
              "      <td>2</td>\n",
              "      <td>67</td>\n",
              "      <td>4/5</td>\n",
              "      <td>Pre-war house</td>\n",
              "      <td>0.746 €</td>\n",
              "      <td>50  €/day</td>\n",
              "    </tr>\n",
              "    <tr>\n",
              "      <th>6</th>\n",
              "      <td>Rīgas centrs - ideāla atrašanās vieta, moderns...</td>\n",
              "      <td>https://ss.com/msg/en/real-estate/flats/riga/c...</td>\n",
              "      <td>Barona 24/26</td>\n",
              "      <td>2</td>\n",
              "      <td>46</td>\n",
              "      <td>6/6</td>\n",
              "      <td>Recon.</td>\n",
              "      <td>0.978 €</td>\n",
              "      <td>45  €/day</td>\n",
              "    </tr>\n",
              "    <tr>\n",
              "      <th>7</th>\n",
              "      <td>Istaba īsire. ilgtermiņā. virtuve, tualete un ...</td>\n",
              "      <td>https://ss.com/msg/en/real-estate/flats/riga/c...</td>\n",
              "      <td>Chaka 32</td>\n",
              "      <td>1</td>\n",
              "      <td>15</td>\n",
              "      <td>6/6</td>\n",
              "      <td>Pre-war house</td>\n",
              "      <td>1.33 €</td>\n",
              "      <td>20  €/day</td>\n",
              "    </tr>\n",
              "  </tbody>\n",
              "</table>\n",
              "</div>"
            ],
            "text/plain": [
              "                                         description  ...        Price\n",
              "0  Ilgtermiņā izīrē plašu 2 istabu dzīvokli Rīgas...  ...  320  €/mon.\n",
              "1  Kluss pagalma dzīvoklis Centrā\\r\\n\\r\\nIzīrē pl...  ...  580  €/mon.\n",
              "2  Piedāvājam izīrēt dzīvokli Rīgas centrā. Bezma...  ...    38  €/day\n",
              "3  Сдаётся однокомнатная квартира со всеми удобст...  ...  210  €/mon.\n",
              "4  Izīrē jaunajā projektā komfortablu, kompaktu u...  ...    25  €/day\n",
              "5  Izīrē īstermiņā, Vecrīga - ideāla atrašanās vi...  ...    50  €/day\n",
              "6  Rīgas centrs - ideāla atrašanās vieta, moderns...  ...    45  €/day\n",
              "7  Istaba īsire. ilgtermiņā. virtuve, tualete un ...  ...    20  €/day\n",
              "\n",
              "[8 rows x 9 columns]"
            ]
          },
          "metadata": {},
          "execution_count": 101
        }
      ]
    },
    {
      "cell_type": "code",
      "metadata": {
        "id": "8Opc2yqlYKYe"
      },
      "source": [
        "def get_all_ads_df(start_url, save_excel_path=None):\n",
        "    df_list=[] # so we will save our dataframes in a list\n",
        "    local_urls = getAllLocalUrls(start_url)\n",
        "    for url in local_urls:\n",
        "        print(f\"Gathering data from {url}\")\n",
        "        df_list.append(getDFfromURL(url))\n",
        "        time.sleep(0.3) # we need this to play nice! we want a little bit of delay (300ms here) to not overload the server\n",
        "    # https://pandas.pydata.org/pandas-docs/stable/reference/api/pandas.concat.html\n",
        "    big_df = pd.concat(df_list) # then make a big dataframe from all the small dataframes - tables\n",
        "    if save_excel_path:\n",
        "        big_df.to_excel(save_excel_path)\n",
        "    return big_df\n",
        "    "
      ],
      "execution_count": 102,
      "outputs": []
    },
    {
      "cell_type": "code",
      "metadata": {
        "id": "TbmYEd6ZYKYe",
        "outputId": "0c87b4c6-4f62-4fac-c115-d46d08539a02",
        "colab": {
          "base_uri": "https://localhost:8080/",
          "height": 35
        }
      },
      "source": [
        "centrs"
      ],
      "execution_count": 103,
      "outputs": [
        {
          "output_type": "execute_result",
          "data": {
            "application/vnd.google.colaboratory.intrinsic+json": {
              "type": "string"
            },
            "text/plain": [
              "'https://www.ss.com/en/real-estate/flats/riga/centre/hand_over/'"
            ]
          },
          "metadata": {},
          "execution_count": 103
        }
      ]
    },
    {
      "cell_type": "code",
      "metadata": {
        "id": "7nlcc_kBYKYe",
        "outputId": "5910481e-824d-4edd-eb28-4460c733e9e1",
        "colab": {
          "base_uri": "https://localhost:8080/"
        }
      },
      "source": [
        "df = get_all_ads_df(centrs, \"centrs_01_12_21.xlsx\")"
      ],
      "execution_count": 104,
      "outputs": [
        {
          "output_type": "stream",
          "name": "stdout",
          "text": [
            "Last page is 21\n",
            "Gathering data from https://www.ss.com/en/real-estate/flats/riga/centre/hand_over/\n",
            "Gathering data from https://www.ss.com/en/real-estate/flats/riga/centre/hand_over/page2.html\n",
            "Gathering data from https://www.ss.com/en/real-estate/flats/riga/centre/hand_over/page3.html\n",
            "Gathering data from https://www.ss.com/en/real-estate/flats/riga/centre/hand_over/page4.html\n",
            "Gathering data from https://www.ss.com/en/real-estate/flats/riga/centre/hand_over/page5.html\n",
            "Gathering data from https://www.ss.com/en/real-estate/flats/riga/centre/hand_over/page6.html\n",
            "Gathering data from https://www.ss.com/en/real-estate/flats/riga/centre/hand_over/page7.html\n",
            "Gathering data from https://www.ss.com/en/real-estate/flats/riga/centre/hand_over/page8.html\n",
            "Gathering data from https://www.ss.com/en/real-estate/flats/riga/centre/hand_over/page9.html\n",
            "Gathering data from https://www.ss.com/en/real-estate/flats/riga/centre/hand_over/page10.html\n",
            "Gathering data from https://www.ss.com/en/real-estate/flats/riga/centre/hand_over/page11.html\n",
            "Gathering data from https://www.ss.com/en/real-estate/flats/riga/centre/hand_over/page12.html\n",
            "Gathering data from https://www.ss.com/en/real-estate/flats/riga/centre/hand_over/page13.html\n",
            "Gathering data from https://www.ss.com/en/real-estate/flats/riga/centre/hand_over/page14.html\n",
            "Gathering data from https://www.ss.com/en/real-estate/flats/riga/centre/hand_over/page15.html\n",
            "Gathering data from https://www.ss.com/en/real-estate/flats/riga/centre/hand_over/page16.html\n",
            "Gathering data from https://www.ss.com/en/real-estate/flats/riga/centre/hand_over/page17.html\n",
            "Gathering data from https://www.ss.com/en/real-estate/flats/riga/centre/hand_over/page18.html\n",
            "Gathering data from https://www.ss.com/en/real-estate/flats/riga/centre/hand_over/page19.html\n",
            "Gathering data from https://www.ss.com/en/real-estate/flats/riga/centre/hand_over/page20.html\n",
            "Gathering data from https://www.ss.com/en/real-estate/flats/riga/centre/hand_over/page21.html\n"
          ]
        }
      ]
    },
    {
      "cell_type": "code",
      "metadata": {
        "id": "LS4bZ8muYKYe",
        "outputId": "37f31659-31ff-4f0f-b8f8-4183f068cfe1",
        "colab": {
          "base_uri": "https://localhost:8080/"
        }
      },
      "source": [
        "df.shape"
      ],
      "execution_count": 105,
      "outputs": [
        {
          "output_type": "execute_result",
          "data": {
            "text/plain": [
              "(608, 9)"
            ]
          },
          "metadata": {},
          "execution_count": 105
        }
      ]
    },
    {
      "cell_type": "code",
      "metadata": {
        "id": "4qfiJIE6YKYe",
        "outputId": "8cd0f230-2925-4d59-f63b-6dfdeb27a076",
        "colab": {
          "base_uri": "https://localhost:8080/",
          "height": 310
        }
      },
      "source": [
        "df.head()"
      ],
      "execution_count": 106,
      "outputs": [
        {
          "output_type": "execute_result",
          "data": {
            "text/html": [
              "<div>\n",
              "<style scoped>\n",
              "    .dataframe tbody tr th:only-of-type {\n",
              "        vertical-align: middle;\n",
              "    }\n",
              "\n",
              "    .dataframe tbody tr th {\n",
              "        vertical-align: top;\n",
              "    }\n",
              "\n",
              "    .dataframe thead th {\n",
              "        text-align: right;\n",
              "    }\n",
              "</style>\n",
              "<table border=\"1\" class=\"dataframe\">\n",
              "  <thead>\n",
              "    <tr style=\"text-align: right;\">\n",
              "      <th></th>\n",
              "      <th>description</th>\n",
              "      <th>url</th>\n",
              "      <th>Street</th>\n",
              "      <th>R.</th>\n",
              "      <th>m2</th>\n",
              "      <th>Floor</th>\n",
              "      <th>Series</th>\n",
              "      <th>Price, m2</th>\n",
              "      <th>Price</th>\n",
              "    </tr>\n",
              "  </thead>\n",
              "  <tbody>\n",
              "    <tr>\n",
              "      <th>0</th>\n",
              "      <td>Izīrē 2-istabu dzīvokli ilgtermiņa īrei Rīgas ...</td>\n",
              "      <td>https://ss.com/msg/en/real-estate/flats/riga/c...</td>\n",
              "      <td>Alunana 6</td>\n",
              "      <td>2</td>\n",
              "      <td>50</td>\n",
              "      <td>2/4</td>\n",
              "      <td>Pre-war house</td>\n",
              "      <td>8.60 €</td>\n",
              "      <td>430  €/mon.</td>\n",
              "    </tr>\n",
              "    <tr>\n",
              "      <th>1</th>\n",
              "      <td>Izīrējam ļoti mājīgu un plašu 90 m2 3-istabu d...</td>\n",
              "      <td>https://ss.com/msg/en/real-estate/flats/riga/c...</td>\n",
              "      <td>Ozolu 2</td>\n",
              "      <td>3</td>\n",
              "      <td>90</td>\n",
              "      <td>1/1</td>\n",
              "      <td>Priv.house</td>\n",
              "      <td>4.22 €</td>\n",
              "      <td>380  €/mon.</td>\n",
              "    </tr>\n",
              "    <tr>\n",
              "      <th>2</th>\n",
              "      <td>Izīrējam dzīvokli, klusais centrs Vēstniecību ...</td>\n",
              "      <td>https://ss.com/msg/en/real-estate/flats/riga/c...</td>\n",
              "      <td>Dzirnavu 6</td>\n",
              "      <td>3</td>\n",
              "      <td>60</td>\n",
              "      <td>2/5</td>\n",
              "      <td>Recon.</td>\n",
              "      <td>11.67 €</td>\n",
              "      <td>700  €/mon.</td>\n",
              "    </tr>\n",
              "    <tr>\n",
              "      <th>3</th>\n",
              "      <td>Fasādes māja, bezmaksas stāvvieta pagalmā. \\r\\...</td>\n",
              "      <td>https://ss.com/msg/en/real-estate/flats/riga/c...</td>\n",
              "      <td>Pernavas 11</td>\n",
              "      <td>2</td>\n",
              "      <td>65</td>\n",
              "      <td>6/7</td>\n",
              "      <td>Pre-war house</td>\n",
              "      <td>4.92 €</td>\n",
              "      <td>320  €/mon.</td>\n",
              "    </tr>\n",
              "    <tr>\n",
              "      <th>4</th>\n",
              "      <td>Izīrēju skaistu dzīvokli jaunā projekta ēkā. V...</td>\n",
              "      <td>https://ss.com/msg/en/real-estate/flats/riga/c...</td>\n",
              "      <td>Klusa 18</td>\n",
              "      <td>1</td>\n",
              "      <td>25</td>\n",
              "      <td>9/9</td>\n",
              "      <td>Recon.</td>\n",
              "      <td>1 €</td>\n",
              "      <td>25  €/day</td>\n",
              "    </tr>\n",
              "  </tbody>\n",
              "</table>\n",
              "</div>"
            ],
            "text/plain": [
              "                                         description  ...        Price\n",
              "0  Izīrē 2-istabu dzīvokli ilgtermiņa īrei Rīgas ...  ...  430  €/mon.\n",
              "1  Izīrējam ļoti mājīgu un plašu 90 m2 3-istabu d...  ...  380  €/mon.\n",
              "2  Izīrējam dzīvokli, klusais centrs Vēstniecību ...  ...  700  €/mon.\n",
              "3  Fasādes māja, bezmaksas stāvvieta pagalmā. \\r\\...  ...  320  €/mon.\n",
              "4  Izīrēju skaistu dzīvokli jaunā projekta ēkā. V...  ...    25  €/day\n",
              "\n",
              "[5 rows x 9 columns]"
            ]
          },
          "metadata": {},
          "execution_count": 106
        }
      ]
    },
    {
      "cell_type": "code",
      "metadata": {
        "id": "acis0HI8YKYe",
        "outputId": "a61cac7e-1ae8-4129-814a-67d0c5ccd011",
        "colab": {
          "base_uri": "https://localhost:8080/",
          "height": 310
        }
      },
      "source": [
        "df.tail()"
      ],
      "execution_count": 107,
      "outputs": [
        {
          "output_type": "execute_result",
          "data": {
            "text/html": [
              "<div>\n",
              "<style scoped>\n",
              "    .dataframe tbody tr th:only-of-type {\n",
              "        vertical-align: middle;\n",
              "    }\n",
              "\n",
              "    .dataframe tbody tr th {\n",
              "        vertical-align: top;\n",
              "    }\n",
              "\n",
              "    .dataframe thead th {\n",
              "        text-align: right;\n",
              "    }\n",
              "</style>\n",
              "<table border=\"1\" class=\"dataframe\">\n",
              "  <thead>\n",
              "    <tr style=\"text-align: right;\">\n",
              "      <th></th>\n",
              "      <th>description</th>\n",
              "      <th>url</th>\n",
              "      <th>Street</th>\n",
              "      <th>R.</th>\n",
              "      <th>m2</th>\n",
              "      <th>Floor</th>\n",
              "      <th>Series</th>\n",
              "      <th>Price, m2</th>\n",
              "      <th>Price</th>\n",
              "    </tr>\n",
              "  </thead>\n",
              "  <tbody>\n",
              "    <tr>\n",
              "      <th>3</th>\n",
              "      <td>Сдаётся однокомнатная квартира со всеми удобст...</td>\n",
              "      <td>https://ss.com/msg/en/real-estate/flats/riga/c...</td>\n",
              "      <td>Artilerijas 44</td>\n",
              "      <td>1</td>\n",
              "      <td>34</td>\n",
              "      <td>2/5</td>\n",
              "      <td>Pre-war house</td>\n",
              "      <td>6.18 €</td>\n",
              "      <td>210  €/mon.</td>\n",
              "    </tr>\n",
              "    <tr>\n",
              "      <th>4</th>\n",
              "      <td>Izīrē jaunajā projektā komfortablu, kompaktu u...</td>\n",
              "      <td>https://ss.com/msg/en/real-estate/flats/riga/c...</td>\n",
              "      <td>Matisa 46</td>\n",
              "      <td>1</td>\n",
              "      <td>18</td>\n",
              "      <td>5/5</td>\n",
              "      <td>New</td>\n",
              "      <td>1.39 €</td>\n",
              "      <td>25  €/day</td>\n",
              "    </tr>\n",
              "    <tr>\n",
              "      <th>5</th>\n",
              "      <td>Izīrē īstermiņā, Vecrīga - ideāla atrašanās vi...</td>\n",
              "      <td>https://ss.com/msg/en/real-estate/flats/riga/c...</td>\n",
              "      <td>Tirgonu 17</td>\n",
              "      <td>2</td>\n",
              "      <td>67</td>\n",
              "      <td>4/5</td>\n",
              "      <td>Pre-war house</td>\n",
              "      <td>0.746 €</td>\n",
              "      <td>50  €/day</td>\n",
              "    </tr>\n",
              "    <tr>\n",
              "      <th>6</th>\n",
              "      <td>Rīgas centrs - ideāla atrašanās vieta, moderns...</td>\n",
              "      <td>https://ss.com/msg/en/real-estate/flats/riga/c...</td>\n",
              "      <td>Barona 24/26</td>\n",
              "      <td>2</td>\n",
              "      <td>46</td>\n",
              "      <td>6/6</td>\n",
              "      <td>Recon.</td>\n",
              "      <td>0.978 €</td>\n",
              "      <td>45  €/day</td>\n",
              "    </tr>\n",
              "    <tr>\n",
              "      <th>7</th>\n",
              "      <td>Istaba īsire. ilgtermiņā. virtuve, tualete un ...</td>\n",
              "      <td>https://ss.com/msg/en/real-estate/flats/riga/c...</td>\n",
              "      <td>Chaka 32</td>\n",
              "      <td>1</td>\n",
              "      <td>15</td>\n",
              "      <td>6/6</td>\n",
              "      <td>Pre-war house</td>\n",
              "      <td>1.33 €</td>\n",
              "      <td>20  €/day</td>\n",
              "    </tr>\n",
              "  </tbody>\n",
              "</table>\n",
              "</div>"
            ],
            "text/plain": [
              "                                         description  ...        Price\n",
              "3  Сдаётся однокомнатная квартира со всеми удобст...  ...  210  €/mon.\n",
              "4  Izīrē jaunajā projektā komfortablu, kompaktu u...  ...    25  €/day\n",
              "5  Izīrē īstermiņā, Vecrīga - ideāla atrašanās vi...  ...    50  €/day\n",
              "6  Rīgas centrs - ideāla atrašanās vieta, moderns...  ...    45  €/day\n",
              "7  Istaba īsire. ilgtermiņā. virtuve, tualete un ...  ...    20  €/day\n",
              "\n",
              "[5 rows x 9 columns]"
            ]
          },
          "metadata": {},
          "execution_count": 107
        }
      ]
    },
    {
      "cell_type": "code",
      "metadata": {
        "id": "c5ssPKW4YKYe",
        "outputId": "15bf806d-540a-42f4-d566-0a253e409361",
        "colab": {
          "base_uri": "https://localhost:8080/"
        }
      },
      "source": [
        "df.shape"
      ],
      "execution_count": 87,
      "outputs": [
        {
          "output_type": "execute_result",
          "data": {
            "text/plain": [
              "(608, 9)"
            ]
          },
          "metadata": {},
          "execution_count": 87
        }
      ]
    },
    {
      "cell_type": "code",
      "metadata": {
        "id": "sZpR4prQYKYf",
        "outputId": "8c91d864-b0e9-40c9-e857-c04a78bee38e",
        "colab": {
          "base_uri": "https://localhost:8080/",
          "height": 310
        }
      },
      "source": [
        "#we can do more post processing - feature engineering using existing columns\n",
        "df[['CurFloor','MaxFloor']] = df.Floor.str.split(\"/\",expand=True) \n",
        "df.head()"
      ],
      "execution_count": 108,
      "outputs": [
        {
          "output_type": "execute_result",
          "data": {
            "text/html": [
              "<div>\n",
              "<style scoped>\n",
              "    .dataframe tbody tr th:only-of-type {\n",
              "        vertical-align: middle;\n",
              "    }\n",
              "\n",
              "    .dataframe tbody tr th {\n",
              "        vertical-align: top;\n",
              "    }\n",
              "\n",
              "    .dataframe thead th {\n",
              "        text-align: right;\n",
              "    }\n",
              "</style>\n",
              "<table border=\"1\" class=\"dataframe\">\n",
              "  <thead>\n",
              "    <tr style=\"text-align: right;\">\n",
              "      <th></th>\n",
              "      <th>description</th>\n",
              "      <th>url</th>\n",
              "      <th>Street</th>\n",
              "      <th>R.</th>\n",
              "      <th>m2</th>\n",
              "      <th>Floor</th>\n",
              "      <th>Series</th>\n",
              "      <th>Price, m2</th>\n",
              "      <th>Price</th>\n",
              "      <th>CurFloor</th>\n",
              "      <th>MaxFloor</th>\n",
              "    </tr>\n",
              "  </thead>\n",
              "  <tbody>\n",
              "    <tr>\n",
              "      <th>0</th>\n",
              "      <td>Izīrē 2-istabu dzīvokli ilgtermiņa īrei Rīgas ...</td>\n",
              "      <td>https://ss.com/msg/en/real-estate/flats/riga/c...</td>\n",
              "      <td>Alunana 6</td>\n",
              "      <td>2</td>\n",
              "      <td>50</td>\n",
              "      <td>2/4</td>\n",
              "      <td>Pre-war house</td>\n",
              "      <td>8.60 €</td>\n",
              "      <td>430  €/mon.</td>\n",
              "      <td>2</td>\n",
              "      <td>4</td>\n",
              "    </tr>\n",
              "    <tr>\n",
              "      <th>1</th>\n",
              "      <td>Izīrējam ļoti mājīgu un plašu 90 m2 3-istabu d...</td>\n",
              "      <td>https://ss.com/msg/en/real-estate/flats/riga/c...</td>\n",
              "      <td>Ozolu 2</td>\n",
              "      <td>3</td>\n",
              "      <td>90</td>\n",
              "      <td>1/1</td>\n",
              "      <td>Priv.house</td>\n",
              "      <td>4.22 €</td>\n",
              "      <td>380  €/mon.</td>\n",
              "      <td>1</td>\n",
              "      <td>1</td>\n",
              "    </tr>\n",
              "    <tr>\n",
              "      <th>2</th>\n",
              "      <td>Izīrējam dzīvokli, klusais centrs Vēstniecību ...</td>\n",
              "      <td>https://ss.com/msg/en/real-estate/flats/riga/c...</td>\n",
              "      <td>Dzirnavu 6</td>\n",
              "      <td>3</td>\n",
              "      <td>60</td>\n",
              "      <td>2/5</td>\n",
              "      <td>Recon.</td>\n",
              "      <td>11.67 €</td>\n",
              "      <td>700  €/mon.</td>\n",
              "      <td>2</td>\n",
              "      <td>5</td>\n",
              "    </tr>\n",
              "    <tr>\n",
              "      <th>3</th>\n",
              "      <td>Fasādes māja, bezmaksas stāvvieta pagalmā. \\r\\...</td>\n",
              "      <td>https://ss.com/msg/en/real-estate/flats/riga/c...</td>\n",
              "      <td>Pernavas 11</td>\n",
              "      <td>2</td>\n",
              "      <td>65</td>\n",
              "      <td>6/7</td>\n",
              "      <td>Pre-war house</td>\n",
              "      <td>4.92 €</td>\n",
              "      <td>320  €/mon.</td>\n",
              "      <td>6</td>\n",
              "      <td>7</td>\n",
              "    </tr>\n",
              "    <tr>\n",
              "      <th>4</th>\n",
              "      <td>Izīrēju skaistu dzīvokli jaunā projekta ēkā. V...</td>\n",
              "      <td>https://ss.com/msg/en/real-estate/flats/riga/c...</td>\n",
              "      <td>Klusa 18</td>\n",
              "      <td>1</td>\n",
              "      <td>25</td>\n",
              "      <td>9/9</td>\n",
              "      <td>Recon.</td>\n",
              "      <td>1 €</td>\n",
              "      <td>25  €/day</td>\n",
              "      <td>9</td>\n",
              "      <td>9</td>\n",
              "    </tr>\n",
              "  </tbody>\n",
              "</table>\n",
              "</div>"
            ],
            "text/plain": [
              "                                         description  ... MaxFloor\n",
              "0  Izīrē 2-istabu dzīvokli ilgtermiņa īrei Rīgas ...  ...        4\n",
              "1  Izīrējam ļoti mājīgu un plašu 90 m2 3-istabu d...  ...        1\n",
              "2  Izīrējam dzīvokli, klusais centrs Vēstniecību ...  ...        5\n",
              "3  Fasādes māja, bezmaksas stāvvieta pagalmā. \\r\\...  ...        7\n",
              "4  Izīrēju skaistu dzīvokli jaunā projekta ēkā. V...  ...        9\n",
              "\n",
              "[5 rows x 11 columns]"
            ]
          },
          "metadata": {},
          "execution_count": 108
        }
      ]
    },
    {
      "cell_type": "code",
      "metadata": {
        "id": "f_Q_Bg7-YKYf",
        "outputId": "cc0ac4de-903f-4d90-d194-bd50c5578600",
        "colab": {
          "base_uri": "https://localhost:8080/",
          "height": 310
        }
      },
      "source": [
        "df.sort_values(by=\"Floor\",ascending=False).head()"
      ],
      "execution_count": 109,
      "outputs": [
        {
          "output_type": "execute_result",
          "data": {
            "text/html": [
              "<div>\n",
              "<style scoped>\n",
              "    .dataframe tbody tr th:only-of-type {\n",
              "        vertical-align: middle;\n",
              "    }\n",
              "\n",
              "    .dataframe tbody tr th {\n",
              "        vertical-align: top;\n",
              "    }\n",
              "\n",
              "    .dataframe thead th {\n",
              "        text-align: right;\n",
              "    }\n",
              "</style>\n",
              "<table border=\"1\" class=\"dataframe\">\n",
              "  <thead>\n",
              "    <tr style=\"text-align: right;\">\n",
              "      <th></th>\n",
              "      <th>description</th>\n",
              "      <th>url</th>\n",
              "      <th>Street</th>\n",
              "      <th>R.</th>\n",
              "      <th>m2</th>\n",
              "      <th>Floor</th>\n",
              "      <th>Series</th>\n",
              "      <th>Price, m2</th>\n",
              "      <th>Price</th>\n",
              "      <th>CurFloor</th>\n",
              "      <th>MaxFloor</th>\n",
              "    </tr>\n",
              "  </thead>\n",
              "  <tbody>\n",
              "    <tr>\n",
              "      <th>4</th>\n",
              "      <td>Izīrēju skaistu dzīvokli jaunā projekta ēkā. V...</td>\n",
              "      <td>https://ss.com/msg/en/real-estate/flats/riga/c...</td>\n",
              "      <td>Klusa 18</td>\n",
              "      <td>1</td>\n",
              "      <td>25</td>\n",
              "      <td>9/9</td>\n",
              "      <td>Recon.</td>\n",
              "      <td>1 €</td>\n",
              "      <td>25  €/day</td>\n",
              "      <td>9</td>\n",
              "      <td>9</td>\n",
              "    </tr>\n",
              "    <tr>\n",
              "      <th>21</th>\n",
              "      <td>For rent 2-bedroom apartment in a new building...</td>\n",
              "      <td>https://ss.com/msg/en/real-estate/flats/riga/c...</td>\n",
              "      <td>Grostonas 21</td>\n",
              "      <td>3</td>\n",
              "      <td>87</td>\n",
              "      <td>7/9</td>\n",
              "      <td>New</td>\n",
              "      <td>11.49 €</td>\n",
              "      <td>1,000  €/mon.</td>\n",
              "      <td>7</td>\n",
              "      <td>9</td>\n",
              "    </tr>\n",
              "    <tr>\n",
              "      <th>29</th>\n",
              "      <td>Пентхаус с террасой и видом на город. \\r\\nKрас...</td>\n",
              "      <td>https://ss.com/msg/en/real-estate/flats/riga/c...</td>\n",
              "      <td>Pulkv. Briezha 21</td>\n",
              "      <td>5</td>\n",
              "      <td>265</td>\n",
              "      <td>7/7</td>\n",
              "      <td>New</td>\n",
              "      <td>11.32 €</td>\n",
              "      <td>3,000  €/mon.</td>\n",
              "      <td>7</td>\n",
              "      <td>7</td>\n",
              "    </tr>\n",
              "    <tr>\n",
              "      <th>1</th>\n",
              "      <td>Мансарда. Центр. Своё отопление. \\r\\nКрасиво, ...</td>\n",
              "      <td>https://ss.com/msg/en/real-estate/flats/riga/c...</td>\n",
              "      <td>Chaka 33</td>\n",
              "      <td>3</td>\n",
              "      <td>100</td>\n",
              "      <td>7/7</td>\n",
              "      <td>Pre-war house</td>\n",
              "      <td>9 €</td>\n",
              "      <td>900  €/mon.</td>\n",
              "      <td>7</td>\n",
              "      <td>7</td>\n",
              "    </tr>\n",
              "    <tr>\n",
              "      <th>20</th>\n",
              "      <td>Izīrējam dzīvokli Rīgas pilsētas centrā - \"Upī...</td>\n",
              "      <td>https://ss.com/msg/en/real-estate/flats/riga/c...</td>\n",
              "      <td>Marijas 16</td>\n",
              "      <td>2</td>\n",
              "      <td>47</td>\n",
              "      <td>7/7</td>\n",
              "      <td>Recon.</td>\n",
              "      <td>11.70 €</td>\n",
              "      <td>550  €/mon.</td>\n",
              "      <td>7</td>\n",
              "      <td>7</td>\n",
              "    </tr>\n",
              "  </tbody>\n",
              "</table>\n",
              "</div>"
            ],
            "text/plain": [
              "                                          description  ... MaxFloor\n",
              "4   Izīrēju skaistu dzīvokli jaunā projekta ēkā. V...  ...        9\n",
              "21  For rent 2-bedroom apartment in a new building...  ...        9\n",
              "29  Пентхаус с террасой и видом на город. \\r\\nKрас...  ...        7\n",
              "1   Мансарда. Центр. Своё отопление. \\r\\nКрасиво, ...  ...        7\n",
              "20  Izīrējam dzīvokli Rīgas pilsētas centrā - \"Upī...  ...        7\n",
              "\n",
              "[5 rows x 11 columns]"
            ]
          },
          "metadata": {},
          "execution_count": 109
        }
      ]
    },
    {
      "cell_type": "code",
      "metadata": {
        "id": "pzjFjI43YKYf"
      },
      "source": [
        "df.to_excel(\"c:/temp/my_apartments.xlsx\") # i could this with absolute path"
      ],
      "execution_count": null,
      "outputs": []
    },
    {
      "cell_type": "code",
      "metadata": {
        "id": "w_6yXvHAYKYf"
      },
      "source": [
        "from datetime import datetime as dt\n",
        "now = dt.now()\n",
        "now.month, now.day, now.hour, now.second"
      ],
      "execution_count": null,
      "outputs": []
    },
    {
      "cell_type": "code",
      "metadata": {
        "id": "AOujogaxYKYf"
      },
      "source": [
        "url = \"https://www.ss.com/lv/real-estate/flats/riga/sarkandaugava/hand_over/\"\n",
        "region = url.split(\"riga/\")[-1].split(\"/\")[0]\n",
        "now = dt.now()\n",
        "save_path = f\"../data/{region}_{now.day}_{now.month}__{now.hour}_{now.second}.xlsx\"\n",
        "save_path"
      ],
      "execution_count": null,
      "outputs": []
    },
    {
      "cell_type": "code",
      "metadata": {
        "id": "Zp2ezM3CYKYf"
      },
      "source": [
        "url = \"https://www.ss.com/lv/real-estate/flats/riga/sarkandaugava/hand_over/\"\n",
        "region = url.split(\"riga/\")[-1].split(\"/\")[0]\n",
        "now = dt.now()\n",
        "save_path = f\"../data/{region}_{now.day}_{now.month}__{now.hour}_{now.second}.xlsx\"\n",
        "\n",
        "df = get_all_ads_df(url, save_path)"
      ],
      "execution_count": null,
      "outputs": []
    },
    {
      "cell_type": "code",
      "metadata": {
        "id": "L4Q_pY9jYKYf"
      },
      "source": [
        "url = \"https://www.ss.com/lv/transport/cars/vaz/riga_f/\"\n",
        "df = get_all_ads_df(url, \"../data/vaz_25_11.xlsx\")"
      ],
      "execution_count": null,
      "outputs": []
    },
    {
      "cell_type": "code",
      "metadata": {
        "id": "gHdGSYgVsM2f",
        "outputId": "cb1f02bf-75de-4867-8d54-64417c6283a8",
        "colab": {
          "base_uri": "https://localhost:8080/",
          "height": 35
        }
      },
      "source": [
        "sarkandaugava_url = \"https://www.ss.com/lv/real-estate/flats/riga/sarkandaugava/hand_over/\"\n",
        "sarkandaugava_url"
      ],
      "execution_count": 110,
      "outputs": [
        {
          "output_type": "execute_result",
          "data": {
            "application/vnd.google.colaboratory.intrinsic+json": {
              "type": "string"
            },
            "text/plain": [
              "'https://www.ss.com/lv/real-estate/flats/riga/sarkandaugava/hand_over/'"
            ]
          },
          "metadata": {},
          "execution_count": 110
        }
      ]
    },
    {
      "cell_type": "code",
      "metadata": {
        "id": "x1joYPZysVOk",
        "outputId": "e33dd650-f347-422f-fe61-41b1c372ffc5",
        "colab": {
          "base_uri": "https://localhost:8080/",
          "height": 1000
        }
      },
      "source": [
        "sarkan_df = get_all_ads_df(sarkandaugava_url, \"sarkandaugava_01_12_21.xlsx\")\n",
        "sarkan_df"
      ],
      "execution_count": 111,
      "outputs": [
        {
          "output_type": "stream",
          "name": "stdout",
          "text": [
            "Last page is 2\n",
            "Gathering data from https://www.ss.com/lv/real-estate/flats/riga/sarkandaugava/hand_over/\n",
            "Gathering data from https://www.ss.com/lv/real-estate/flats/riga/sarkandaugava/hand_over/page2.html\n"
          ]
        },
        {
          "output_type": "execute_result",
          "data": {
            "text/html": [
              "<div>\n",
              "<style scoped>\n",
              "    .dataframe tbody tr th:only-of-type {\n",
              "        vertical-align: middle;\n",
              "    }\n",
              "\n",
              "    .dataframe tbody tr th {\n",
              "        vertical-align: top;\n",
              "    }\n",
              "\n",
              "    .dataframe thead th {\n",
              "        text-align: right;\n",
              "    }\n",
              "</style>\n",
              "<table border=\"1\" class=\"dataframe\">\n",
              "  <thead>\n",
              "    <tr style=\"text-align: right;\">\n",
              "      <th></th>\n",
              "      <th>description</th>\n",
              "      <th>url</th>\n",
              "      <th>Iela</th>\n",
              "      <th>Ist.</th>\n",
              "      <th>m2</th>\n",
              "      <th>Stāvs</th>\n",
              "      <th>Sērija</th>\n",
              "      <th>Cena, m2</th>\n",
              "      <th>Cena</th>\n",
              "    </tr>\n",
              "  </thead>\n",
              "  <tbody>\n",
              "    <tr>\n",
              "      <th>0</th>\n",
              "      <td>Saimniece izīrē divistaba dzīvokli ar malkas a...</td>\n",
              "      <td>https://ss.com/msg/lv/real-estate/flats/riga/s...</td>\n",
              "      <td>Ziemeļu 17</td>\n",
              "      <td>2</td>\n",
              "      <td>50</td>\n",
              "      <td>4/4</td>\n",
              "      <td>P. kara</td>\n",
              "      <td>4.80 €</td>\n",
              "      <td>240  €/mēn.</td>\n",
              "    </tr>\n",
              "    <tr>\n",
              "      <th>1</th>\n",
              "      <td>Сдается однокомнатная квартира со всеми удобст...</td>\n",
              "      <td>https://ss.com/msg/lv/real-estate/flats/riga/s...</td>\n",
              "      <td>Tilta 5/1</td>\n",
              "      <td>1</td>\n",
              "      <td>34</td>\n",
              "      <td>5/5</td>\n",
              "      <td>103.</td>\n",
              "      <td>6.47 €</td>\n",
              "      <td>220  €/mēn.</td>\n",
              "    </tr>\n",
              "    <tr>\n",
              "      <th>2</th>\n",
              "      <td>Квартира в сталинском доме, высокий первый эта...</td>\n",
              "      <td>https://ss.com/msg/lv/real-estate/flats/riga/s...</td>\n",
              "      <td>Sarkandaugavas 3</td>\n",
              "      <td>2</td>\n",
              "      <td>44</td>\n",
              "      <td>1/5</td>\n",
              "      <td>Staļina</td>\n",
              "      <td>6.82 €</td>\n",
              "      <td>300  €/mēn.</td>\n",
              "    </tr>\n",
              "    <tr>\n",
              "      <th>3</th>\n",
              "      <td>Izīrē dzīvokli ar visām ērtībām, tehniku, dīvā...</td>\n",
              "      <td>https://ss.com/msg/lv/real-estate/flats/riga/s...</td>\n",
              "      <td>Sarkandaugavas 26</td>\n",
              "      <td>2</td>\n",
              "      <td>43</td>\n",
              "      <td>5/5</td>\n",
              "      <td>Hrušč.</td>\n",
              "      <td>5.81 €</td>\n",
              "      <td>250  €/mēn.</td>\n",
              "    </tr>\n",
              "    <tr>\n",
              "      <th>4</th>\n",
              "      <td>Izīrē ērtu dzīvokli ar remontu un mēbelēm. Krā...</td>\n",
              "      <td>https://ss.com/msg/lv/real-estate/flats/riga/s...</td>\n",
              "      <td>Priežu 14a</td>\n",
              "      <td>1</td>\n",
              "      <td>27</td>\n",
              "      <td>2/3</td>\n",
              "      <td>P. kara</td>\n",
              "      <td>5.93 €</td>\n",
              "      <td>160  €/mēn.</td>\n",
              "    </tr>\n",
              "    <tr>\n",
              "      <th>5</th>\n",
              "      <td>Владелец сдаёт мебелированную, со всеми удобст...</td>\n",
              "      <td>https://ss.com/msg/lv/real-estate/flats/riga/s...</td>\n",
              "      <td>Viestura pr. 35</td>\n",
              "      <td>2</td>\n",
              "      <td>47</td>\n",
              "      <td>5/9</td>\n",
              "      <td>Specpr.</td>\n",
              "      <td>5.96 €</td>\n",
              "      <td>280  €/mēn.</td>\n",
              "    </tr>\n",
              "    <tr>\n",
              "      <th>6</th>\n",
              "      <td>Tikko pēc kosmētiska remonta. Istabas caurstai...</td>\n",
              "      <td>https://ss.com/msg/lv/real-estate/flats/riga/s...</td>\n",
              "      <td>Patversmes 26</td>\n",
              "      <td>2</td>\n",
              "      <td>41</td>\n",
              "      <td>2/5</td>\n",
              "      <td>Hrušč.</td>\n",
              "      <td>7.80 €</td>\n",
              "      <td>320  €/mēn.</td>\n",
              "    </tr>\n",
              "    <tr>\n",
              "      <th>7</th>\n",
              "      <td>Izīrē 2istabu dzīvokli Sarkandaugavā, Limbažu ...</td>\n",
              "      <td>https://ss.com/msg/lv/real-estate/flats/riga/s...</td>\n",
              "      <td>Limbažu 9</td>\n",
              "      <td>2</td>\n",
              "      <td>40</td>\n",
              "      <td>1/5</td>\n",
              "      <td>Hrušč.</td>\n",
              "      <td>5 €</td>\n",
              "      <td>200  €/mēn.</td>\n",
              "    </tr>\n",
              "    <tr>\n",
              "      <th>8</th>\n",
              "      <td>Izīrēju divistaba dzīvokli ar daļējām ērtībām ...</td>\n",
              "      <td>https://ss.com/msg/lv/real-estate/flats/riga/s...</td>\n",
              "      <td>Ziemeļu 17</td>\n",
              "      <td>2</td>\n",
              "      <td>36</td>\n",
              "      <td>3/4</td>\n",
              "      <td>P. kara</td>\n",
              "      <td>5 €</td>\n",
              "      <td>180  €/mēn.</td>\n",
              "    </tr>\n",
              "    <tr>\n",
              "      <th>9</th>\n",
              "      <td>Uz ilgtermiņa īri pieejams saulains, remontēts...</td>\n",
              "      <td>https://ss.com/msg/lv/real-estate/flats/riga/s...</td>\n",
              "      <td>Duntes 54</td>\n",
              "      <td>2</td>\n",
              "      <td>50</td>\n",
              "      <td>2/3</td>\n",
              "      <td>P. kara</td>\n",
              "      <td>6.60 €</td>\n",
              "      <td>330  €/mēn.</td>\n",
              "    </tr>\n",
              "    <tr>\n",
              "      <th>10</th>\n",
              "      <td>Īpašnieks izīrē uz ilgu laiku pilnībā mēbelēti...</td>\n",
              "      <td>https://ss.com/msg/lv/real-estate/flats/riga/s...</td>\n",
              "      <td>Tilta 11/3</td>\n",
              "      <td>2</td>\n",
              "      <td>44</td>\n",
              "      <td>2/5</td>\n",
              "      <td>LT proj.</td>\n",
              "      <td>6.48 €</td>\n",
              "      <td>285  €/mēn.</td>\n",
              "    </tr>\n",
              "    <tr>\n",
              "      <th>11</th>\n",
              "      <td>Piedāvājam īrei mēbelētu 3 istabu dzīvokli. Vi...</td>\n",
              "      <td>https://ss.com/msg/lv/real-estate/flats/riga/s...</td>\n",
              "      <td>Lāpstu 15</td>\n",
              "      <td>3</td>\n",
              "      <td>65</td>\n",
              "      <td>3/5</td>\n",
              "      <td>103.</td>\n",
              "      <td>4.62 €</td>\n",
              "      <td>300  €/mēn.</td>\n",
              "    </tr>\n",
              "    <tr>\n",
              "      <th>12</th>\n",
              "      <td>Сдается уютная, тёплая квартира, есть всё для ...</td>\n",
              "      <td>https://ss.com/msg/lv/real-estate/flats/riga/s...</td>\n",
              "      <td>Sarkandaugavas 26</td>\n",
              "      <td>1</td>\n",
              "      <td>30</td>\n",
              "      <td>4/5</td>\n",
              "      <td>Hrušč.</td>\n",
              "      <td>7.33 €</td>\n",
              "      <td>220  €/mēn.</td>\n",
              "    </tr>\n",
              "    <tr>\n",
              "      <th>13</th>\n",
              "      <td>Uz ilgterminu</td>\n",
              "      <td>https://ss.com/msg/lv/real-estate/flats/riga/s...</td>\n",
              "      <td>Viestura pr. 25</td>\n",
              "      <td>2</td>\n",
              "      <td>42</td>\n",
              "      <td>2/3</td>\n",
              "      <td>LT proj.</td>\n",
              "      <td>7.14 €</td>\n",
              "      <td>300  €/mēn.</td>\n",
              "    </tr>\n",
              "    <tr>\n",
              "      <th>14</th>\n",
              "      <td>\"Как мило. \"- воскликнете Вы, оказавшись в это...</td>\n",
              "      <td>https://ss.com/msg/lv/real-estate/flats/riga/s...</td>\n",
              "      <td>Sliežu 1</td>\n",
              "      <td>1</td>\n",
              "      <td>21</td>\n",
              "      <td>5/5</td>\n",
              "      <td>Jaun.</td>\n",
              "      <td>10.48 €</td>\n",
              "      <td>220  €/mēn.</td>\n",
              "    </tr>\n",
              "    <tr>\n",
              "      <th>15</th>\n",
              "      <td>Tiek izīrēts divistabu dzīvoklis Sarkandaugava...</td>\n",
              "      <td>https://ss.com/msg/lv/real-estate/flats/riga/s...</td>\n",
              "      <td>Tilta 5</td>\n",
              "      <td>2</td>\n",
              "      <td>34</td>\n",
              "      <td>5/5</td>\n",
              "      <td>103.</td>\n",
              "      <td>8.82 €</td>\n",
              "      <td>300  €/mēn.</td>\n",
              "    </tr>\n",
              "    <tr>\n",
              "      <th>16</th>\n",
              "      <td>Ar decembri izīrējam foršu 1 istabas dzīvokli ...</td>\n",
              "      <td>https://ss.com/msg/lv/real-estate/flats/riga/s...</td>\n",
              "      <td>Viestura pr. 37, k..</td>\n",
              "      <td>1</td>\n",
              "      <td>35</td>\n",
              "      <td>7/9</td>\n",
              "      <td>Specpr.</td>\n",
              "      <td>7.43 €</td>\n",
              "      <td>260  €/mēn.</td>\n",
              "    </tr>\n",
              "    <tr>\n",
              "      <th>17</th>\n",
              "      <td>Īpašnieks izīrē labiekārtotu vienistabas dzīvo...</td>\n",
              "      <td>https://ss.com/msg/lv/real-estate/flats/riga/s...</td>\n",
              "      <td>Tvaika 34</td>\n",
              "      <td>1</td>\n",
              "      <td>24</td>\n",
              "      <td>4/5</td>\n",
              "      <td>Renov.</td>\n",
              "      <td>7.08 €</td>\n",
              "      <td>170  €/mēn.</td>\n",
              "    </tr>\n",
              "    <tr>\n",
              "      <th>18</th>\n",
              "      <td>На срок по договоренности аккуратным, спокойны...</td>\n",
              "      <td>https://ss.com/msg/lv/real-estate/flats/riga/s...</td>\n",
              "      <td>Viestura pr. 67</td>\n",
              "      <td>2</td>\n",
              "      <td>48</td>\n",
              "      <td>5/5</td>\n",
              "      <td>Hrušč.</td>\n",
              "      <td>5.21 €</td>\n",
              "      <td>250  €/mēn.</td>\n",
              "    </tr>\n",
              "    <tr>\n",
              "      <th>19</th>\n",
              "      <td>Izīrē mēbelētu 1-istabas dzīvokli Sarkandaugav...</td>\n",
              "      <td>https://ss.com/msg/lv/real-estate/flats/riga/s...</td>\n",
              "      <td>Sarkandaugavas 26</td>\n",
              "      <td>1</td>\n",
              "      <td>29</td>\n",
              "      <td>4/5</td>\n",
              "      <td>Hrušč.</td>\n",
              "      <td>7.59 €</td>\n",
              "      <td>220  €/mēn.</td>\n",
              "    </tr>\n",
              "    <tr>\n",
              "      <th>20</th>\n",
              "      <td>Izīrē gaišu studio tipa divistabu dzīvokli jau...</td>\n",
              "      <td>https://ss.com/msg/lv/real-estate/flats/riga/s...</td>\n",
              "      <td>Sliežu 1</td>\n",
              "      <td>2</td>\n",
              "      <td>36</td>\n",
              "      <td>5/8</td>\n",
              "      <td>Jaun.</td>\n",
              "      <td>7.50 €</td>\n",
              "      <td>270  €/mēn.</td>\n",
              "    </tr>\n",
              "    <tr>\n",
              "      <th>21</th>\n",
              "      <td>Saimnieks izīrē kvalitatīvi izremontētu studio...</td>\n",
              "      <td>https://ss.com/msg/lv/real-estate/flats/riga/s...</td>\n",
              "      <td>Sliežu 1</td>\n",
              "      <td>1</td>\n",
              "      <td>21</td>\n",
              "      <td>4/7</td>\n",
              "      <td>Renov.</td>\n",
              "      <td>9.52 €</td>\n",
              "      <td>200  €/mēn.</td>\n",
              "    </tr>\n",
              "    <tr>\n",
              "      <th>22</th>\n",
              "      <td>Хозяйка сдаёт однокомнатную квартиру, печное о...</td>\n",
              "      <td>https://ss.com/msg/lv/real-estate/flats/riga/s...</td>\n",
              "      <td>Hāpsalas 11</td>\n",
              "      <td>1</td>\n",
              "      <td>30</td>\n",
              "      <td>1/2</td>\n",
              "      <td>P. kara</td>\n",
              "      <td>6.67 €</td>\n",
              "      <td>200  €/mēn.</td>\n",
              "    </tr>\n",
              "    <tr>\n",
              "      <th>23</th>\n",
              "      <td>Tiek izīrēts 1-ist. dzīvoklis pēc kap. remonta...</td>\n",
              "      <td>https://ss.com/msg/lv/real-estate/flats/riga/s...</td>\n",
              "      <td>Hāpsalas 12</td>\n",
              "      <td>1</td>\n",
              "      <td>25</td>\n",
              "      <td>1/3</td>\n",
              "      <td>Renov.</td>\n",
              "      <td>8 €</td>\n",
              "      <td>200  €/mēn.</td>\n",
              "    </tr>\n",
              "    <tr>\n",
              "      <th>24</th>\n",
              "      <td>Pagalma māja, labiekārtota apzaļumota teritori...</td>\n",
              "      <td>https://ss.com/msg/lv/real-estate/flats/riga/s...</td>\n",
              "      <td>Viestura pr. 53</td>\n",
              "      <td>2</td>\n",
              "      <td>46</td>\n",
              "      <td>3/9</td>\n",
              "      <td>467.</td>\n",
              "      <td>6.52 €</td>\n",
              "      <td>300  €/mēn.</td>\n",
              "    </tr>\n",
              "    <tr>\n",
              "      <th>25</th>\n",
              "      <td>Izīrē 2-istabu dzīvoklī Sarkandaugavā. Dzīvokl...</td>\n",
              "      <td>https://ss.com/msg/lv/real-estate/flats/riga/s...</td>\n",
              "      <td>Sarkandaugavas 33</td>\n",
              "      <td>2</td>\n",
              "      <td>49</td>\n",
              "      <td>5/6</td>\n",
              "      <td>Priv. m.</td>\n",
              "      <td>5.10 €</td>\n",
              "      <td>250  €/mēn.</td>\n",
              "    </tr>\n",
              "    <tr>\n",
              "      <th>26</th>\n",
              "      <td>Tiek izzīrēts saulains studiotipa dzīvoklis ar...</td>\n",
              "      <td>https://ss.com/msg/lv/real-estate/flats/riga/s...</td>\n",
              "      <td>Aptiekas 10</td>\n",
              "      <td>1</td>\n",
              "      <td>19</td>\n",
              "      <td>1/3</td>\n",
              "      <td>P. kara</td>\n",
              "      <td>11.58 €</td>\n",
              "      <td>220  €/mēn.</td>\n",
              "    </tr>\n",
              "    <tr>\n",
              "      <th>27</th>\n",
              "      <td>Сдаётся квартира на длительный срок. Район Сар...</td>\n",
              "      <td>https://ss.com/msg/lv/real-estate/flats/riga/s...</td>\n",
              "      <td>Ziemeļu 25</td>\n",
              "      <td>1</td>\n",
              "      <td>30</td>\n",
              "      <td>2/2</td>\n",
              "      <td>P. kara</td>\n",
              "      <td>6 €</td>\n",
              "      <td>180  €/mēn.</td>\n",
              "    </tr>\n",
              "    <tr>\n",
              "      <th>28</th>\n",
              "      <td>Lat - Eng / Īpašnieks izīrē labiekārtotu 38 kv...</td>\n",
              "      <td>https://ss.com/msg/lv/real-estate/flats/riga/s...</td>\n",
              "      <td>Duntes 56</td>\n",
              "      <td>2</td>\n",
              "      <td>38</td>\n",
              "      <td>5/6</td>\n",
              "      <td>P. kara</td>\n",
              "      <td>9.47 €</td>\n",
              "      <td>360  €/mēn.</td>\n",
              "    </tr>\n",
              "    <tr>\n",
              "      <th>29</th>\n",
              "      <td>Mājīgs, gaišs un ļoti silts dzīvoklis. Dzīvokl...</td>\n",
              "      <td>https://ss.com/msg/lv/real-estate/flats/riga/s...</td>\n",
              "      <td>Sarkandaugavas 26k..</td>\n",
              "      <td>2</td>\n",
              "      <td>42</td>\n",
              "      <td>1/5</td>\n",
              "      <td>Hrušč.</td>\n",
              "      <td>5.95 €</td>\n",
              "      <td>250  €/mēn.</td>\n",
              "    </tr>\n",
              "    <tr>\n",
              "      <th>0</th>\n",
              "      <td>Izīrēju vien istaba dzīvokli ar daļējām ērtībā...</td>\n",
              "      <td>https://ss.com/msg/lv/real-estate/flats/riga/s...</td>\n",
              "      <td>Ziemeļu 17</td>\n",
              "      <td>1</td>\n",
              "      <td>29</td>\n",
              "      <td>4/4</td>\n",
              "      <td>P. kara</td>\n",
              "      <td>5.52 €</td>\n",
              "      <td>160  €/mēn.</td>\n",
              "    </tr>\n",
              "    <tr>\n",
              "      <th>1</th>\n",
              "      <td>Tiek izīrēts mēbelēts dzīvoklis. 3, 5 istabas....</td>\n",
              "      <td>https://ss.com/msg/lv/real-estate/flats/riga/s...</td>\n",
              "      <td>Ziemeļu 3</td>\n",
              "      <td>3</td>\n",
              "      <td>96</td>\n",
              "      <td>5/5</td>\n",
              "      <td>Specpr.</td>\n",
              "      <td>8.85 €</td>\n",
              "      <td>850  €/mēn.</td>\n",
              "    </tr>\n",
              "    <tr>\n",
              "      <th>2</th>\n",
              "      <td>Сдается очень уютная 2-х комнатная квартира с ...</td>\n",
              "      <td>https://ss.com/msg/lv/real-estate/flats/riga/s...</td>\n",
              "      <td>Viestura pr. 23</td>\n",
              "      <td>2</td>\n",
              "      <td>46</td>\n",
              "      <td>2/3</td>\n",
              "      <td>Specpr.</td>\n",
              "      <td>6.30 €</td>\n",
              "      <td>290  €/mēn.</td>\n",
              "    </tr>\n",
              "    <tr>\n",
              "      <th>3</th>\n",
              "      <td>Kārtīgiem īrniekiem izīrē siltu 2-istabu dzīvo...</td>\n",
              "      <td>https://ss.com/msg/lv/real-estate/flats/riga/s...</td>\n",
              "      <td>Tilta 24</td>\n",
              "      <td>2</td>\n",
              "      <td>41</td>\n",
              "      <td>1/5</td>\n",
              "      <td>P. kara</td>\n",
              "      <td>7.32 €</td>\n",
              "      <td>300  €/mēn.</td>\n",
              "    </tr>\n",
              "    <tr>\n",
              "      <th>4</th>\n",
              "      <td>Īpašnieks ilgtermiņā izīrē tikko izremontētu, ...</td>\n",
              "      <td>https://ss.com/msg/lv/real-estate/flats/riga/s...</td>\n",
              "      <td>Limbažu 2</td>\n",
              "      <td>3</td>\n",
              "      <td>60</td>\n",
              "      <td>4/5</td>\n",
              "      <td>Specpr.</td>\n",
              "      <td>6.33 €</td>\n",
              "      <td>380  €/mēn.</td>\n",
              "    </tr>\n",
              "    <tr>\n",
              "      <th>5</th>\n",
              "      <td>Сдам квартиру на длительный срок с мебелью без...</td>\n",
              "      <td>https://ss.com/msg/lv/real-estate/flats/riga/s...</td>\n",
              "      <td>Patversmes 26</td>\n",
              "      <td>2</td>\n",
              "      <td>42</td>\n",
              "      <td>2/5</td>\n",
              "      <td>Hrušč.</td>\n",
              "      <td>5 €</td>\n",
              "      <td>210  €/mēn.</td>\n",
              "    </tr>\n",
              "    <tr>\n",
              "      <th>6</th>\n",
              "      <td>Burvīgais 2 istabu studio tipa dzīvoklis ar te...</td>\n",
              "      <td>https://ss.com/msg/lv/real-estate/flats/riga/s...</td>\n",
              "      <td>Duntes 28</td>\n",
              "      <td>2</td>\n",
              "      <td>42</td>\n",
              "      <td>3/16</td>\n",
              "      <td>Jaun.</td>\n",
              "      <td>0.833 €</td>\n",
              "      <td>35  €/dienā</td>\n",
              "    </tr>\n",
              "    <tr>\n",
              "      <th>7</th>\n",
              "      <td>Īpašniece izīrē, dzīvoklis mēbelēts, duškabīne...</td>\n",
              "      <td>https://ss.com/msg/lv/real-estate/flats/riga/s...</td>\n",
              "      <td>Alekša 8</td>\n",
              "      <td>1</td>\n",
              "      <td>28</td>\n",
              "      <td>3/4</td>\n",
              "      <td>P. kara</td>\n",
              "      <td>4.64 €</td>\n",
              "      <td>130  €/mēn.</td>\n",
              "    </tr>\n",
              "    <tr>\n",
              "      <th>8</th>\n",
              "      <td>Сдаем квартиру на улице Hapsalas 5, 5-ый этаж ...</td>\n",
              "      <td>https://ss.com/msg/lv/real-estate/flats/riga/s...</td>\n",
              "      <td>Hāpsalas 5</td>\n",
              "      <td>1</td>\n",
              "      <td>18</td>\n",
              "      <td>5/5</td>\n",
              "      <td>M. ģim.</td>\n",
              "      <td>9.44 €</td>\n",
              "      <td>170  €/mēn.</td>\n",
              "    </tr>\n",
              "    <tr>\n",
              "      <th>9</th>\n",
              "      <td>Izīrēju vienistabas dzīvokli saimnieka mājā. D...</td>\n",
              "      <td>https://ss.com/msg/lv/real-estate/flats/riga/s...</td>\n",
              "      <td>Duntes 48</td>\n",
              "      <td>1</td>\n",
              "      <td>28</td>\n",
              "      <td>4/5</td>\n",
              "      <td>P. kara</td>\n",
              "      <td>3.57 €</td>\n",
              "      <td>100  €/mēn.</td>\n",
              "    </tr>\n",
              "    <tr>\n",
              "      <th>10</th>\n",
              "      <td>Izīrē plašu, ekonomisku, svaigi remontētu 1.is...</td>\n",
              "      <td>https://ss.com/msg/lv/real-estate/flats/riga/s...</td>\n",
              "      <td>Tvaika 26</td>\n",
              "      <td>1</td>\n",
              "      <td>28</td>\n",
              "      <td>2/2</td>\n",
              "      <td>P. kara</td>\n",
              "      <td>5 €</td>\n",
              "      <td>140  €/mēn.</td>\n",
              "    </tr>\n",
              "    <tr>\n",
              "      <th>11</th>\n",
              "      <td>Tiek izīrēts 2-ist. dzīvoklis pēc kap. remonta...</td>\n",
              "      <td>https://ss.com/msg/lv/real-estate/flats/riga/s...</td>\n",
              "      <td>Hāpsalas 12</td>\n",
              "      <td>1</td>\n",
              "      <td>55</td>\n",
              "      <td>2/3</td>\n",
              "      <td>Renov.</td>\n",
              "      <td>5.09 €</td>\n",
              "      <td>280  €/mēn.</td>\n",
              "    </tr>\n",
              "    <tr>\n",
              "      <th>12</th>\n",
              "      <td>Īzīrē 1-istabas dzīvokli, īrniekam bez dzīvnie...</td>\n",
              "      <td>https://ss.com/msg/lv/real-estate/flats/riga/s...</td>\n",
              "      <td>Viestura pr. 97</td>\n",
              "      <td>1</td>\n",
              "      <td>32</td>\n",
              "      <td>3/9</td>\n",
              "      <td>Specpr.</td>\n",
              "      <td>5.63 €</td>\n",
              "      <td>180  €/mēn.</td>\n",
              "    </tr>\n",
              "    <tr>\n",
              "      <th>13</th>\n",
              "      <td>Labdien, \\r\\nIzīrējam vienu istabu dienesta dz...</td>\n",
              "      <td>https://ss.com/msg/lv/real-estate/flats/riga/s...</td>\n",
              "      <td>Ganību d. 19</td>\n",
              "      <td>1</td>\n",
              "      <td>19</td>\n",
              "      <td>2/2</td>\n",
              "      <td>Specpr.</td>\n",
              "      <td>5.79 €</td>\n",
              "      <td>110  €/mēn.</td>\n",
              "    </tr>\n",
              "    <tr>\n",
              "      <th>14</th>\n",
              "      <td>Izīrējam mājīgu dzīvokli, viena istaba izolēta...</td>\n",
              "      <td>https://ss.com/msg/lv/real-estate/flats/riga/s...</td>\n",
              "      <td>Alekša 7</td>\n",
              "      <td>2</td>\n",
              "      <td>39</td>\n",
              "      <td>2/5</td>\n",
              "      <td>P. kara</td>\n",
              "      <td>7.69 €</td>\n",
              "      <td>300  €/mēn.</td>\n",
              "    </tr>\n",
              "    <tr>\n",
              "      <th>15</th>\n",
              "      <td>Meklējam kārtīgus ilglaicīgus īrniekus saulain...</td>\n",
              "      <td>https://ss.com/msg/lv/real-estate/flats/riga/s...</td>\n",
              "      <td>Duntes 54</td>\n",
              "      <td>2</td>\n",
              "      <td>50</td>\n",
              "      <td>3/3</td>\n",
              "      <td>P. kara</td>\n",
              "      <td>8.40 €</td>\n",
              "      <td>420  €/mēn.</td>\n",
              "    </tr>\n",
              "    <tr>\n",
              "      <th>16</th>\n",
              "      <td>Īpašnieks izīrē gaišu, saulainu 2istabu dzīvok...</td>\n",
              "      <td>https://ss.com/msg/lv/real-estate/flats/riga/s...</td>\n",
              "      <td>Gaujienas 1</td>\n",
              "      <td>2</td>\n",
              "      <td>46</td>\n",
              "      <td>5/5</td>\n",
              "      <td>103.</td>\n",
              "      <td>6.52 €</td>\n",
              "      <td>300  €/mēn.</td>\n",
              "    </tr>\n",
              "    <tr>\n",
              "      <th>17</th>\n",
              "      <td>Izīrēju 48 m2 vienistabas dzīvokli. Visas ērtī...</td>\n",
              "      <td>https://ss.com/msg/lv/real-estate/flats/riga/s...</td>\n",
              "      <td>Hāpsalas 15</td>\n",
              "      <td>1</td>\n",
              "      <td>48</td>\n",
              "      <td>4/8</td>\n",
              "      <td>Specpr.</td>\n",
              "      <td>5.83 €</td>\n",
              "      <td>280  €/mēn.</td>\n",
              "    </tr>\n",
              "    <tr>\n",
              "      <th>18</th>\n",
              "      <td>Īpašnieks izīrē 3 istabu dzīvokli Rīgā, Viestu...</td>\n",
              "      <td>https://ss.com/msg/lv/real-estate/flats/riga/s...</td>\n",
              "      <td>Viestura pr. 49</td>\n",
              "      <td>3</td>\n",
              "      <td>47</td>\n",
              "      <td>2/9</td>\n",
              "      <td>Specpr.</td>\n",
              "      <td>6.81 €</td>\n",
              "      <td>320  €/mēn.</td>\n",
              "    </tr>\n",
              "  </tbody>\n",
              "</table>\n",
              "</div>"
            ],
            "text/plain": [
              "                                          description  ...         Cena\n",
              "0   Saimniece izīrē divistaba dzīvokli ar malkas a...  ...  240  €/mēn.\n",
              "1   Сдается однокомнатная квартира со всеми удобст...  ...  220  €/mēn.\n",
              "2   Квартира в сталинском доме, высокий первый эта...  ...  300  €/mēn.\n",
              "3   Izīrē dzīvokli ar visām ērtībām, tehniku, dīvā...  ...  250  €/mēn.\n",
              "4   Izīrē ērtu dzīvokli ar remontu un mēbelēm. Krā...  ...  160  €/mēn.\n",
              "5   Владелец сдаёт мебелированную, со всеми удобст...  ...  280  €/mēn.\n",
              "6   Tikko pēc kosmētiska remonta. Istabas caurstai...  ...  320  €/mēn.\n",
              "7   Izīrē 2istabu dzīvokli Sarkandaugavā, Limbažu ...  ...  200  €/mēn.\n",
              "8   Izīrēju divistaba dzīvokli ar daļējām ērtībām ...  ...  180  €/mēn.\n",
              "9   Uz ilgtermiņa īri pieejams saulains, remontēts...  ...  330  €/mēn.\n",
              "10  Īpašnieks izīrē uz ilgu laiku pilnībā mēbelēti...  ...  285  €/mēn.\n",
              "11  Piedāvājam īrei mēbelētu 3 istabu dzīvokli. Vi...  ...  300  €/mēn.\n",
              "12  Сдается уютная, тёплая квартира, есть всё для ...  ...  220  €/mēn.\n",
              "13                                      Uz ilgterminu  ...  300  €/mēn.\n",
              "14  \"Как мило. \"- воскликнете Вы, оказавшись в это...  ...  220  €/mēn.\n",
              "15  Tiek izīrēts divistabu dzīvoklis Sarkandaugava...  ...  300  €/mēn.\n",
              "16  Ar decembri izīrējam foršu 1 istabas dzīvokli ...  ...  260  €/mēn.\n",
              "17  Īpašnieks izīrē labiekārtotu vienistabas dzīvo...  ...  170  €/mēn.\n",
              "18  На срок по договоренности аккуратным, спокойны...  ...  250  €/mēn.\n",
              "19  Izīrē mēbelētu 1-istabas dzīvokli Sarkandaugav...  ...  220  €/mēn.\n",
              "20  Izīrē gaišu studio tipa divistabu dzīvokli jau...  ...  270  €/mēn.\n",
              "21  Saimnieks izīrē kvalitatīvi izremontētu studio...  ...  200  €/mēn.\n",
              "22  Хозяйка сдаёт однокомнатную квартиру, печное о...  ...  200  €/mēn.\n",
              "23  Tiek izīrēts 1-ist. dzīvoklis pēc kap. remonta...  ...  200  €/mēn.\n",
              "24  Pagalma māja, labiekārtota apzaļumota teritori...  ...  300  €/mēn.\n",
              "25  Izīrē 2-istabu dzīvoklī Sarkandaugavā. Dzīvokl...  ...  250  €/mēn.\n",
              "26  Tiek izzīrēts saulains studiotipa dzīvoklis ar...  ...  220  €/mēn.\n",
              "27  Сдаётся квартира на длительный срок. Район Сар...  ...  180  €/mēn.\n",
              "28  Lat - Eng / Īpašnieks izīrē labiekārtotu 38 kv...  ...  360  €/mēn.\n",
              "29  Mājīgs, gaišs un ļoti silts dzīvoklis. Dzīvokl...  ...  250  €/mēn.\n",
              "0   Izīrēju vien istaba dzīvokli ar daļējām ērtībā...  ...  160  €/mēn.\n",
              "1   Tiek izīrēts mēbelēts dzīvoklis. 3, 5 istabas....  ...  850  €/mēn.\n",
              "2   Сдается очень уютная 2-х комнатная квартира с ...  ...  290  €/mēn.\n",
              "3   Kārtīgiem īrniekiem izīrē siltu 2-istabu dzīvo...  ...  300  €/mēn.\n",
              "4   Īpašnieks ilgtermiņā izīrē tikko izremontētu, ...  ...  380  €/mēn.\n",
              "5   Сдам квартиру на длительный срок с мебелью без...  ...  210  €/mēn.\n",
              "6   Burvīgais 2 istabu studio tipa dzīvoklis ar te...  ...  35  €/dienā\n",
              "7   Īpašniece izīrē, dzīvoklis mēbelēts, duškabīne...  ...  130  €/mēn.\n",
              "8   Сдаем квартиру на улице Hapsalas 5, 5-ый этаж ...  ...  170  €/mēn.\n",
              "9   Izīrēju vienistabas dzīvokli saimnieka mājā. D...  ...  100  €/mēn.\n",
              "10  Izīrē plašu, ekonomisku, svaigi remontētu 1.is...  ...  140  €/mēn.\n",
              "11  Tiek izīrēts 2-ist. dzīvoklis pēc kap. remonta...  ...  280  €/mēn.\n",
              "12  Īzīrē 1-istabas dzīvokli, īrniekam bez dzīvnie...  ...  180  €/mēn.\n",
              "13  Labdien, \\r\\nIzīrējam vienu istabu dienesta dz...  ...  110  €/mēn.\n",
              "14  Izīrējam mājīgu dzīvokli, viena istaba izolēta...  ...  300  €/mēn.\n",
              "15  Meklējam kārtīgus ilglaicīgus īrniekus saulain...  ...  420  €/mēn.\n",
              "16  Īpašnieks izīrē gaišu, saulainu 2istabu dzīvok...  ...  300  €/mēn.\n",
              "17  Izīrēju 48 m2 vienistabas dzīvokli. Visas ērtī...  ...  280  €/mēn.\n",
              "18  Īpašnieks izīrē 3 istabu dzīvokli Rīgā, Viestu...  ...  320  €/mēn.\n",
              "\n",
              "[49 rows x 9 columns]"
            ]
          },
          "metadata": {},
          "execution_count": 111
        }
      ]
    },
    {
      "cell_type": "markdown",
      "metadata": {
        "id": "UYYQrjWjYKYf"
      },
      "source": [
        "# TODO \n",
        "# Try with different starting address not only centrs\n",
        "## Maybe combine regions\n",
        "## See how it would work with maybe cars\n",
        "## Data engineering make new columns based on existing ones, clean some columns\n",
        "### Changing floors 2/6 to columns 2 and 6, clean up Euro signs\n",
        "## Sorting, Describing, Grouping by regions etc"
      ]
    },
    {
      "cell_type": "code",
      "metadata": {
        "id": "Qh5rCPc8YKYg"
      },
      "source": [
        "df = pd.read_excel(\"centrs_25_11.xlsx\")\n",
        "df.head()"
      ],
      "execution_count": null,
      "outputs": []
    },
    {
      "cell_type": "code",
      "metadata": {
        "id": "gihpmcJWYKYg"
      },
      "source": [
        "df[\"price\"] = df.Cena.str.split(' ').str[0]\n",
        "df.head()"
      ],
      "execution_count": null,
      "outputs": []
    },
    {
      "cell_type": "code",
      "metadata": {
        "id": "u6Vj96lvYKYg"
      },
      "source": [
        "df.price = df.price.str.replace(\",\",\"\").astype('int32')\n",
        "df.head()"
      ],
      "execution_count": null,
      "outputs": []
    },
    {
      "cell_type": "code",
      "metadata": {
        "id": "-UBYyB1kYKYg"
      },
      "source": [
        "df.price.hist()"
      ],
      "execution_count": null,
      "outputs": []
    },
    {
      "cell_type": "code",
      "metadata": {
        "id": "c5AzJwfMYKYg"
      },
      "source": [
        "df[['Floor','MaxFloor']] = df.Stāvs.str.split(\"/\",expand=True) \n",
        "df.info()"
      ],
      "execution_count": null,
      "outputs": []
    },
    {
      "cell_type": "code",
      "metadata": {
        "id": "rUX7lQ3vYKYg"
      },
      "source": [
        "#typecasting example\n",
        "df.Floor = df.Floor.astype('int32')\n",
        "df.MaxFloor = df.MaxFloor.astype('int32')"
      ],
      "execution_count": null,
      "outputs": []
    },
    {
      "cell_type": "code",
      "metadata": {
        "id": "PCpbqkhBYKYg"
      },
      "source": [
        "df.describe().T # T is for transposing rows and columns"
      ],
      "execution_count": null,
      "outputs": []
    },
    {
      "cell_type": "code",
      "metadata": {
        "id": "L7ngCXgBYKYg"
      },
      "source": [
        "df.describe().T.to_csv(\"center_stats.csv\")"
      ],
      "execution_count": null,
      "outputs": []
    },
    {
      "cell_type": "code",
      "metadata": {
        "id": "rwFyw1aAYKYh"
      },
      "source": [
        "import plotly.express as px"
      ],
      "execution_count": null,
      "outputs": []
    },
    {
      "cell_type": "code",
      "metadata": {
        "id": "AxGQtCqjYKYh"
      },
      "source": [
        "fig = px.histogram(df, x=\"price\")\n",
        "fig.show()"
      ],
      "execution_count": null,
      "outputs": []
    },
    {
      "cell_type": "code",
      "metadata": {
        "id": "kbrHtZ1AYKYh"
      },
      "source": [
        "import seaborn as sns # seaborn sits on top of matplotlib with better defaults\n",
        "import matplotlib.pyplot as plt\n"
      ],
      "execution_count": null,
      "outputs": []
    },
    {
      "cell_type": "code",
      "metadata": {
        "id": "pU_lmKiQYKYh"
      },
      "source": [
        "# Basic correlogram\n",
        "sns.pairplot(df)\n",
        "\n"
      ],
      "execution_count": null,
      "outputs": []
    },
    {
      "cell_type": "code",
      "metadata": {
        "id": "SM0P-Z6CYKYh"
      },
      "source": [
        "# Basic correlogram\n",
        "sns.pairplot(df)\n",
        "\n"
      ],
      "execution_count": null,
      "outputs": []
    },
    {
      "cell_type": "code",
      "metadata": {
        "id": "sqWldOaWYKYh"
      },
      "source": [
        "volvo_url = \"https://www.ss.com/lv/transport/cars/volvo/sell/\"\n",
        "gr_auto = df.groupby([\"Gads\",\"Modelis\"])[\"Cena\"].agg([\"min\", \"max\", \"mean\"])  #.head(n = 10)\n"
      ],
      "execution_count": null,
      "outputs": []
    },
    {
      "cell_type": "code",
      "metadata": {
        "id": "WqZWMMqMYKYh"
      },
      "source": [
        "print(dt.today())"
      ],
      "execution_count": null,
      "outputs": []
    },
    {
      "cell_type": "code",
      "metadata": {
        "id": "zYtgR2E9YKYh"
      },
      "source": [
        "suzuki_url = \"https://www.ss.com/lv/transport/cars/suzuki/\"\n",
        "# sdf = get_all_ads_df(suzuki_url, f\"suzuki_{dt.today()}.xlsx\")\n",
        "sdf = get_all_ads_df(suzuki_url, f\"suzuki.xlsx\")\n",
        "sdf.head()"
      ],
      "execution_count": null,
      "outputs": []
    },
    {
      "cell_type": "code",
      "metadata": {
        "id": "d9hFm9ajYKYi"
      },
      "source": [
        "sdf.info()"
      ],
      "execution_count": null,
      "outputs": []
    },
    {
      "cell_type": "code",
      "metadata": {
        "id": "B7IeDi9-YKYi"
      },
      "source": [
        "sdf[\"Tilp.\"] = sdf[\"Tilp.\"].str.replace(\"\\w\",\"\", regex=True)\n",
        "sdf.head()"
      ],
      "execution_count": null,
      "outputs": []
    },
    {
      "cell_type": "code",
      "metadata": {
        "id": "tRYDCQWWYKYi"
      },
      "source": [
        "sdf[\"Nobrauk.\"] = sdf[\"Nobrauk.\"].str.replace(\"\\D\",\"\", regex=True) # so no digits removed\n",
        "sdf.head()"
      ],
      "execution_count": null,
      "outputs": []
    },
    {
      "cell_type": "code",
      "metadata": {
        "id": "5LyaXar4YKYi"
      },
      "source": [
        "sdf[\"Cena\"] = sdf[\"Cena\"].str.replace(\"\\D\",\"\", regex=True) # so no digits removed\n",
        "sdf.head()"
      ],
      "execution_count": null,
      "outputs": []
    },
    {
      "cell_type": "code",
      "metadata": {
        "id": "hnr6wPlXYKYi"
      },
      "source": [
        "sdf = sdf.dropna(how=\"any\", axis=0)\n",
        "sdf"
      ],
      "execution_count": null,
      "outputs": []
    },
    {
      "cell_type": "code",
      "metadata": {
        "id": "yOhQZ38fYKYi"
      },
      "source": [
        "sdf = sdf[sdf[\"Nobrauk.\"].str.len() > 0] # got rid of those empty rows finally\n",
        "sdf"
      ],
      "execution_count": null,
      "outputs": []
    },
    {
      "cell_type": "code",
      "metadata": {
        "id": "FrvtvzD7YKYi"
      },
      "source": [
        ""
      ],
      "execution_count": null,
      "outputs": []
    },
    {
      "cell_type": "code",
      "metadata": {
        "id": "VkOGf-VVYKYi"
      },
      "source": [
        "sdf[\"Cena\"] = sdf[\"Cena\"].astype(\"float32\")"
      ],
      "execution_count": null,
      "outputs": []
    },
    {
      "cell_type": "code",
      "metadata": {
        "id": "CusYD06AYKYi"
      },
      "source": [
        "gr_auto = sdf.groupby([\"Gads\",\"Modelis\"])[\"Cena\"].agg([\"count\",\"min\", \"max\", \"mean\"]) \n",
        "gr_auto"
      ],
      "execution_count": null,
      "outputs": []
    },
    {
      "cell_type": "code",
      "metadata": {
        "id": "hJnDbq4ZYKYj"
      },
      "source": [
        ""
      ],
      "execution_count": null,
      "outputs": []
    }
  ]
}