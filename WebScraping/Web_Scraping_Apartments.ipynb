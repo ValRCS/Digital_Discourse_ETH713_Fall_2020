{
  "cells": [
    {
      "cell_type": "code",
      "execution_count": 1,
      "metadata": {
        "id": "5SJ3qMaAYKYK"
      },
      "outputs": [],
      "source": [
        "# Requests for handling HTTP get and other requests\n",
        "import requests # this is external library often used for web scraping\n",
        "import time # import for playing nice and not getting blocked\n",
        "import pandas as pd\n",
        "from datetime import datetime # standard library for date and time\n",
        "# from BeautifulSoup4 import BeatifulSoup if installed through pip install BeautifulSoup4\n",
        "# \n",
        "from bs4 import BeautifulSoup # an external library for parsing HTML (and XML) content\n",
        "\n",
        "# all of the above should be available on Google Colab as well as your local machine"
      ]
    },
    {
      "cell_type": "code",
      "execution_count": null,
      "metadata": {
        "id": "A_zAvVpgYKYN"
      },
      "outputs": [],
      "source": [
        "# if bs4 not found install it with\n",
        "#  !pip install beatifulsoup4\n",
        "# https://www.crummy.com/software/BeautifulSoup/"
      ]
    },
    {
      "cell_type": "code",
      "execution_count": 2,
      "metadata": {
        "colab": {
          "base_uri": "https://localhost:8080/"
        },
        "id": "gVjj9o3rYKYO",
        "outputId": "914b39f6-798b-4b48-c896-5459f828cc96"
      },
      "outputs": [
        {
          "name": "stdout",
          "output_type": "stream",
          "text": [
            "sample_data\n"
          ]
        }
      ],
      "source": [
        "!dir\n",
        "# ar ! i can run command line commands"
      ]
    },
    {
      "cell_type": "code",
      "execution_count": 2,
      "metadata": {
        "colab": {
          "base_uri": "https://localhost:8080/",
          "height": 35
        },
        "id": "v_7QIp4eYKYP",
        "outputId": "e769d76e-d5ab-4de6-de53-529c797bcec0"
      },
      "outputs": [
        {
          "data": {
            "text/plain": [
              "'https://www.ss.com/en/real-estate/flats/riga/centre/sell/'"
            ]
          },
          "execution_count": 2,
          "metadata": {},
          "output_type": "execute_result"
        }
      ],
      "source": [
        "# first we get the url we want to scrape\n",
        "# centrs = \"https://www.ss.com/lv/real-estate/flats/riga/centre/sell/\"\n",
        "# centrs = \"https://www.ss.com/en/real-estate/flats/riga/centre/hand_over/\"\n",
        "centrs = \"https://www.ss.com/en/real-estate/flats/riga/centre/sell/\"\n",
        "centrs"
      ]
    },
    {
      "cell_type": "code",
      "execution_count": 3,
      "metadata": {
        "colab": {
          "base_uri": "https://localhost:8080/"
        },
        "id": "Iy7JG1_7YKYP",
        "outputId": "b2a9d44a-5f8c-4f77-cc94-39bf29a7f42d"
      },
      "outputs": [
        {
          "data": {
            "text/plain": [
              "200"
            ]
          },
          "execution_count": 3,
          "metadata": {},
          "output_type": "execute_result"
        }
      ],
      "source": [
        "# here we make a something called HTTP GET request to the url in centrs\n",
        "# so very similar to what the browser does\n",
        "req = requests.get(centrs) # here we make a request to the url in centrs, and store the response in req\n",
        "req.status_code\n",
        "# so where we could use our status_code to check if our request went through sucessfully\n",
        "# so 200 is the ALL OK code in HTTP, many 4xx and 5xxx failure codes"
      ]
    },
    {
      "cell_type": "code",
      "execution_count": null,
      "metadata": {},
      "outputs": [],
      "source": [
        "# list of HTTP response codes\n",
        "# https://en.wikipedia.org/wiki/List_of_HTTP_status_codes"
      ]
    },
    {
      "cell_type": "code",
      "execution_count": 4,
      "metadata": {
        "colab": {
          "base_uri": "https://localhost:8080/",
          "height": 71
        },
        "id": "eGl-qVaCYKYQ",
        "outputId": "6cf5739b-4e32-442b-c1a4-024b03141d13"
      },
      "outputs": [
        {
          "data": {
            "text/plain": [
              "'<!DOCTYPE html>\\r\\n<HTML><HEAD>\\r\\n<title>SS.COM Flats - Riga - Centre, Prices, Sell - Advertisements</title>\\r\\n<meta http-equiv=\"Content-Type\" CONTENT=\"text/html; charset=UTF-8\">\\r\\n<meta name=\"viewport\" content=\"user-scalable=1, width=device-width, initial-scale=1.0\"/>\\r\\n<meta name=\"keywords\" content=\"Adv'"
            ]
          },
          "execution_count": 4,
          "metadata": {},
          "output_type": "execute_result"
        }
      ],
      "source": [
        "# so now we can start working with the response without making additional requests\n",
        "req.text[:300] # first 300 text charactersb"
      ]
    },
    {
      "cell_type": "code",
      "execution_count": 5,
      "metadata": {
        "colab": {
          "base_uri": "https://localhost:8080/"
        },
        "id": "VabiFukFgDQf",
        "outputId": "1fd00bc9-3a56-4a4f-e719-7fcc14e5177a"
      },
      "outputs": [
        {
          "data": {
            "text/plain": [
              "True"
            ]
          },
          "execution_count": 5,
          "metadata": {},
          "output_type": "execute_result"
        }
      ],
      "source": [
        "# we could attempt to parse the text with the standard library, but it is not very time consuming\n",
        "\"Vald\" in req.text"
      ]
    },
    {
      "cell_type": "code",
      "execution_count": 6,
      "metadata": {
        "colab": {
          "base_uri": "https://localhost:8080/"
        },
        "id": "NoB5LebpgGMC",
        "outputId": "fc0a2811-4de9-4cb8-dccd-85e7212a0110"
      },
      "outputs": [
        {
          "data": {
            "text/plain": [
              "16089"
            ]
          },
          "execution_count": 6,
          "metadata": {},
          "output_type": "execute_result"
        }
      ],
      "source": [
        "req.text.index(\"Vald\")"
      ]
    },
    {
      "cell_type": "code",
      "execution_count": 7,
      "metadata": {
        "colab": {
          "base_uri": "https://localhost:8080/",
          "height": 35
        },
        "id": "B_PgJtrYgJDH",
        "outputId": "ccd7edf6-7ae8-4cd7-e086-61319c0c446b"
      },
      "outputs": [
        {
          "data": {
            "text/plain": [
              "'</option><option value=\"4545\">Valdemara</option><option valu'"
            ]
          },
          "execution_count": 7,
          "metadata": {},
          "output_type": "execute_result"
        }
      ],
      "source": [
        "req.text[16089-30:16089+30] # getting some text around what I was looking forb"
      ]
    },
    {
      "cell_type": "code",
      "execution_count": 8,
      "metadata": {
        "colab": {
          "base_uri": "https://localhost:8080/"
        },
        "id": "UUOR5JRbgTKE",
        "outputId": "efc9220d-272a-4a77-dd82-44bc46ce7019"
      },
      "outputs": [
        {
          "data": {
            "text/plain": [
              "5"
            ]
          },
          "execution_count": 8,
          "metadata": {},
          "output_type": "execute_result"
        }
      ],
      "source": [
        "req.text.count(\"Valdemara\")"
      ]
    },
    {
      "cell_type": "code",
      "execution_count": 11,
      "metadata": {
        "id": "QWagp5trgfdH"
      },
      "outputs": [],
      "source": [
        "# we could actually get the whole table with pandas library"
      ]
    },
    {
      "cell_type": "code",
      "execution_count": 12,
      "metadata": {
        "colab": {
          "base_uri": "https://localhost:8080/"
        },
        "id": "aNDPnoCLgjWA",
        "outputId": "ba120bc7-c9fc-407d-d476-b0383ea9299c"
      },
      "outputs": [
        {
          "data": {
            "text/plain": [
              "7"
            ]
          },
          "execution_count": 12,
          "metadata": {},
          "output_type": "execute_result"
        }
      ],
      "source": [
        "data_frames = pd.read_html(centrs)  #this reads ALL the tables on the web page\n",
        "len(data_frames)"
      ]
    },
    {
      "cell_type": "code",
      "execution_count": 13,
      "metadata": {
        "colab": {
          "base_uri": "https://localhost:8080/",
          "height": 293
        },
        "id": "Pt_7bmYcgzqj",
        "outputId": "49e1a0e7-4893-4f94-cd0b-3169acdcd509"
      },
      "outputs": [
        {
          "data": {
            "text/html": [
              "<div>\n",
              "<style scoped>\n",
              "    .dataframe tbody tr th:only-of-type {\n",
              "        vertical-align: middle;\n",
              "    }\n",
              "\n",
              "    .dataframe tbody tr th {\n",
              "        vertical-align: top;\n",
              "    }\n",
              "\n",
              "    .dataframe thead th {\n",
              "        text-align: right;\n",
              "    }\n",
              "</style>\n",
              "<table border=\"1\" class=\"dataframe\">\n",
              "  <thead>\n",
              "    <tr style=\"text-align: right;\">\n",
              "      <th></th>\n",
              "      <th>0</th>\n",
              "      <th>1</th>\n",
              "      <th>2</th>\n",
              "      <th>3</th>\n",
              "      <th>4</th>\n",
              "      <th>5</th>\n",
              "      <th>6</th>\n",
              "      <th>7</th>\n",
              "      <th>8</th>\n",
              "      <th>9</th>\n",
              "    </tr>\n",
              "  </thead>\n",
              "  <tbody>\n",
              "    <tr>\n",
              "      <th>0</th>\n",
              "      <td>Advertisements \\tdate</td>\n",
              "      <td>Advertisements \\tdate</td>\n",
              "      <td>Advertisements \\tdate</td>\n",
              "      <td>Street</td>\n",
              "      <td>R.</td>\n",
              "      <td>m2</td>\n",
              "      <td>Floor</td>\n",
              "      <td>Series</td>\n",
              "      <td>Price, m2</td>\n",
              "      <td>Price</td>\n",
              "    </tr>\n",
              "    <tr>\n",
              "      <th>1</th>\n",
              "      <td>NaN</td>\n",
              "      <td>NaN</td>\n",
              "      <td>Izīrē 2-istabu dzīvokli ilgtermiņa īrei Rīgas ...</td>\n",
              "      <td>Alunana 6</td>\n",
              "      <td>2</td>\n",
              "      <td>50</td>\n",
              "      <td>2/4</td>\n",
              "      <td>Pre-war house</td>\n",
              "      <td>8.60 €</td>\n",
              "      <td>430 €/mon.</td>\n",
              "    </tr>\n",
              "    <tr>\n",
              "      <th>2</th>\n",
              "      <td>NaN</td>\n",
              "      <td>NaN</td>\n",
              "      <td>Izīrējam ļoti mājīgu un plašu 90 m2 3-istabu d...</td>\n",
              "      <td>Ozolu 2</td>\n",
              "      <td>3</td>\n",
              "      <td>90</td>\n",
              "      <td>1/1</td>\n",
              "      <td>Priv.house</td>\n",
              "      <td>4.22 €</td>\n",
              "      <td>380 €/mon.</td>\n",
              "    </tr>\n",
              "    <tr>\n",
              "      <th>3</th>\n",
              "      <td>NaN</td>\n",
              "      <td>NaN</td>\n",
              "      <td>Izīrējam dzīvokli, klusais centrs Vēstniecību ...</td>\n",
              "      <td>Dzirnavu 6</td>\n",
              "      <td>3</td>\n",
              "      <td>60</td>\n",
              "      <td>2/5</td>\n",
              "      <td>Recon.</td>\n",
              "      <td>11.67 €</td>\n",
              "      <td>700 €/mon.</td>\n",
              "    </tr>\n",
              "    <tr>\n",
              "      <th>4</th>\n",
              "      <td>NaN</td>\n",
              "      <td>NaN</td>\n",
              "      <td>Fasādes māja, bezmaksas stāvvieta pagalmā. Iee...</td>\n",
              "      <td>Pernavas 11</td>\n",
              "      <td>2</td>\n",
              "      <td>65</td>\n",
              "      <td>6/7</td>\n",
              "      <td>Pre-war house</td>\n",
              "      <td>4.92 €</td>\n",
              "      <td>320 €/mon.</td>\n",
              "    </tr>\n",
              "  </tbody>\n",
              "</table>\n",
              "</div>"
            ],
            "text/plain": [
              "                       0                      1  ...          8           9\n",
              "0  Advertisements \\tdate  Advertisements \\tdate  ...  Price, m2       Price\n",
              "1                    NaN                    NaN  ...     8.60 €  430 €/mon.\n",
              "2                    NaN                    NaN  ...     4.22 €  380 €/mon.\n",
              "3                    NaN                    NaN  ...    11.67 €  700 €/mon.\n",
              "4                    NaN                    NaN  ...     4.92 €  320 €/mon.\n",
              "\n",
              "[5 rows x 10 columns]"
            ]
          },
          "execution_count": 13,
          "metadata": {},
          "output_type": "execute_result"
        }
      ],
      "source": [
        "df = data_frames[4]  # we want the 5th table\n",
        "df.head()"
      ]
    },
    {
      "cell_type": "code",
      "execution_count": 14,
      "metadata": {
        "id": "YhUHrFFIhG1U"
      },
      "outputs": [],
      "source": [
        "df.to_excel(\"riga_center_page1.xlsx\")"
      ]
    },
    {
      "cell_type": "code",
      "execution_count": null,
      "metadata": {
        "id": "cTdu83GGYKYQ"
      },
      "outputs": [],
      "source": [
        "# we could manually use text searching tools to work on the whole text of html but it would not convenient\n",
        "# many other people have already written tools to parse/structure this text"
      ]
    },
    {
      "cell_type": "code",
      "execution_count": 10,
      "metadata": {
        "colab": {
          "base_uri": "https://localhost:8080/"
        },
        "id": "MjIwfMKiYKYR",
        "outputId": "4bc89b45-7804-41db-d2ba-6b29097c0357"
      },
      "outputs": [
        {
          "data": {
            "text/plain": [
              "<title>SS.COM Flats - Riga - Centre, Prices, Sell - Advertisements</title>"
            ]
          },
          "execution_count": 10,
          "metadata": {},
          "output_type": "execute_result"
        }
      ],
      "source": [
        "# parser means structuring your text into some data structure\n",
        "# we pass the text of the response to the parser\n",
        "soup = BeautifulSoup(req.text, 'lxml') # lxml is improved parser, a little bit more lenient towards badly structured HTML \n",
        "# you could also use default parser\n",
        "# soup = BeautifulSoup(req.text)\n",
        "soup.title"
      ]
    },
    {
      "cell_type": "code",
      "execution_count": 11,
      "metadata": {
        "colab": {
          "base_uri": "https://localhost:8080/"
        },
        "id": "IU0IQX4eYKYR",
        "outputId": "1d117283-6c4c-42b7-b4f8-94db05c8da5b"
      },
      "outputs": [
        {
          "data": {
            "text/plain": [
              "bs4.BeautifulSoup"
            ]
          },
          "execution_count": 11,
          "metadata": {},
          "output_type": "execute_result"
        }
      ],
      "source": [
        "type(soup)  # so we have soup object which contains all the information about the page in a structured manner"
      ]
    },
    {
      "cell_type": "code",
      "execution_count": null,
      "metadata": {
        "id": "Wku7epJziEtl"
      },
      "outputs": [],
      "source": [
        "# using . notation on soup object we can access the different parts of the page"
      ]
    },
    {
      "cell_type": "code",
      "execution_count": 12,
      "metadata": {
        "colab": {
          "base_uri": "https://localhost:8080/"
        },
        "id": "zeGyxBmSYKYS",
        "outputId": "9ae71e31-0d94-4d52-c021-268d8b0eb46b"
      },
      "outputs": [
        {
          "data": {
            "text/plain": [
              "6"
            ]
          },
          "execution_count": 12,
          "metadata": {},
          "output_type": "execute_result"
        }
      ],
      "source": [
        "# https://www.crummy.com/software/BeautifulSoup/bs4/doc/#find-all\n",
        "tables = soup.find_all(\"table\") # finds ALL elements matching our filter\n",
        "len(tables) # it will be a list of some length, possibly 0 if we did not find any elements "
      ]
    },
    {
      "cell_type": "code",
      "execution_count": null,
      "metadata": {
        "id": "v3SGJRJaYKYT"
      },
      "outputs": [],
      "source": [
        "# Now we want to find what our column names should be no matter the type of ad\n",
        "# tr stands for table row\n",
        "# mdn tr documentation\n",
        "# https://developer.mozilla.org/en-US/docs/Web/HTML/Element/tr"
      ]
    },
    {
      "cell_type": "code",
      "execution_count": 13,
      "metadata": {
        "colab": {
          "base_uri": "https://localhost:8080/"
        },
        "id": "mV25KtQAYKYT",
        "outputId": "3bc09005-ba41-4547-de44-3b595dd03609"
      },
      "outputs": [
        {
          "data": {
            "text/plain": [
              "<tr id=\"head_line\">\n",
              "<td class=\"msg_column\" colspan=\"3\" width=\"70%\">\n",
              "<span style=\"float:left;\"> Advertisements\n",
              "</span>\n",
              "<span align=\"right\" class=\"msg_column\" style=\"float:right;text-align:right;padding-right:3px;\">\n",
              "<noindex>\n",
              "<a class=\"a19\" href=\"/en/real-estate/flats/riga/centre/sell/fDgSeF4S.html\" rel=\"nofollow\">date</a></noindex></span>\n",
              "</td>\n",
              "<td class=\"msg_column_td\" nowrap=\"\"><noindex><a class=\"a18\" href=\"/en/real-estate/flats/riga/centre/sell/fDgSeF4SFDwT.html\" rel=\"nofollow\" title=\"\">Street</a></noindex></td><td class=\"msg_column_td\" nowrap=\"\"><noindex><a class=\"a18\" href=\"/en/real-estate/flats/riga/centre/sell/fDgSeF4SelM=.html\" rel=\"nofollow\" title=\"\">R.</a></noindex></td><td class=\"msg_column_td\" nowrap=\"\"><noindex><a class=\"a18\" href=\"/en/real-estate/flats/riga/centre/sell/fDgSeF4QelM=.html\" rel=\"nofollow\" title=\"\">m2</a></noindex></td><td class=\"msg_column_td\" nowrap=\"\"><noindex><a class=\"a18\" href=\"/en/real-estate/flats/riga/centre/sell/fDgSeF4XelM=.html\" rel=\"nofollow\" title=\"\">Floor</a></noindex></td><td class=\"msg_column_td\" nowrap=\"\"><noindex><a class=\"a18\" href=\"/en/real-estate/flats/riga/centre/sell/fDgSeF4VelM=.html\" rel=\"nofollow\" title=\"\">Series</a></noindex></td><td background=\"https://i.ss.com/img/pl.gif\" class=\"msg_column\" nowrap=\"\" style=\"border-left:1px #FFFFFF solid;\"><noindex><a class=\"a18\" href=\"/en/real-estate/flats/riga/centre/sell/fDgSeF4bRDwT.html\" rel=\"nofollow\">Price, m2</a></noindex></td><td class=\"msg_column_td\" nowrap=\"\"><noindex><a class=\"a18\" href=\"/en/real-estate/flats/riga/centre/sell/fDgSeF4belM=.html\" rel=\"nofollow\" title=\"\">Price</a></noindex></td></tr>"
            ]
          },
          "execution_count": 13,
          "metadata": {},
          "output_type": "execute_result"
        }
      ],
      "source": [
        "# find finds just one(first) match\n",
        "headline = soup.find(\"tr\", {\"id\":\"head_line\"}) # this is a shorter way of finding by tr AND this element having particular id\n",
        "headline"
      ]
    },
    {
      "cell_type": "code",
      "execution_count": 14,
      "metadata": {
        "colab": {
          "base_uri": "https://localhost:8080/"
        },
        "id": "JQnnvgOkYKYT",
        "outputId": "766b80a8-052c-465c-83de-a88b5319c54f"
      },
      "outputs": [
        {
          "data": {
            "text/plain": [
              "bs4.element.Tag"
            ]
          },
          "execution_count": 14,
          "metadata": {},
          "output_type": "execute_result"
        }
      ],
      "source": [
        "type(headline)"
      ]
    },
    {
      "cell_type": "code",
      "execution_count": 15,
      "metadata": {
        "colab": {
          "base_uri": "https://localhost:8080/"
        },
        "id": "BhVJvOjeYKYU",
        "outputId": "89afd12b-f1a5-44b2-f44a-cea67b6ef150"
      },
      "outputs": [
        {
          "data": {
            "text/plain": [
              "[<td class=\"msg_column\" colspan=\"3\" width=\"70%\">\n",
              " <span style=\"float:left;\"> Advertisements\n",
              " </span>\n",
              " <span align=\"right\" class=\"msg_column\" style=\"float:right;text-align:right;padding-right:3px;\">\n",
              " <noindex>\n",
              " <a class=\"a19\" href=\"/en/real-estate/flats/riga/centre/sell/fDgSeF4S.html\" rel=\"nofollow\">date</a></noindex></span>\n",
              " </td>,\n",
              " <td class=\"msg_column_td\" nowrap=\"\"><noindex><a class=\"a18\" href=\"/en/real-estate/flats/riga/centre/sell/fDgSeF4SFDwT.html\" rel=\"nofollow\" title=\"\">Street</a></noindex></td>,\n",
              " <td class=\"msg_column_td\" nowrap=\"\"><noindex><a class=\"a18\" href=\"/en/real-estate/flats/riga/centre/sell/fDgSeF4SelM=.html\" rel=\"nofollow\" title=\"\">R.</a></noindex></td>,\n",
              " <td class=\"msg_column_td\" nowrap=\"\"><noindex><a class=\"a18\" href=\"/en/real-estate/flats/riga/centre/sell/fDgSeF4QelM=.html\" rel=\"nofollow\" title=\"\">m2</a></noindex></td>,\n",
              " <td class=\"msg_column_td\" nowrap=\"\"><noindex><a class=\"a18\" href=\"/en/real-estate/flats/riga/centre/sell/fDgSeF4XelM=.html\" rel=\"nofollow\" title=\"\">Floor</a></noindex></td>,\n",
              " <td class=\"msg_column_td\" nowrap=\"\"><noindex><a class=\"a18\" href=\"/en/real-estate/flats/riga/centre/sell/fDgSeF4VelM=.html\" rel=\"nofollow\" title=\"\">Series</a></noindex></td>,\n",
              " <td background=\"https://i.ss.com/img/pl.gif\" class=\"msg_column\" nowrap=\"\" style=\"border-left:1px #FFFFFF solid;\"><noindex><a class=\"a18\" href=\"/en/real-estate/flats/riga/centre/sell/fDgSeF4bRDwT.html\" rel=\"nofollow\">Price, m2</a></noindex></td>,\n",
              " <td class=\"msg_column_td\" nowrap=\"\"><noindex><a class=\"a18\" href=\"/en/real-estate/flats/riga/centre/sell/fDgSeF4belM=.html\" rel=\"nofollow\" title=\"\">Price</a></noindex></td>]"
            ]
          },
          "execution_count": 15,
          "metadata": {},
          "output_type": "execute_result"
        }
      ],
      "source": [
        "# next we can search through the headling table row element and find individual table data elements\n",
        "headtds = headline.find_all(\"td\")\n",
        "# https://developer.mozilla.org/en-US/docs/Web/HTML/Element/td\n",
        "headtds  # a list of td elements"
      ]
    },
    {
      "cell_type": "code",
      "execution_count": 16,
      "metadata": {
        "colab": {
          "base_uri": "https://localhost:8080/"
        },
        "id": "L_AhlCsGYKYU",
        "outputId": "f0c4fee1-db12-456b-b9b4-73806f70d089"
      },
      "outputs": [
        {
          "data": {
            "text/plain": [
              "8"
            ]
          },
          "execution_count": 16,
          "metadata": {},
          "output_type": "execute_result"
        }
      ],
      "source": [
        "len(headtds) # so we have some of lements (could be 8, 10 depends on the type of ad)"
      ]
    },
    {
      "cell_type": "code",
      "execution_count": 17,
      "metadata": {
        "colab": {
          "base_uri": "https://localhost:8080/",
          "height": 35
        },
        "id": "EZBbDRE4YKYU",
        "outputId": "94a18c3c-7690-4dfb-cc9b-382bac9e7b43"
      },
      "outputs": [
        {
          "data": {
            "text/plain": [
              "'\\n\\n\\xa0Advertisements\\r\\n\\n\\n\\ndate\\n\\nStreetR.m2FloorSeriesPrice, m2Price'"
            ]
          },
          "execution_count": 17,
          "metadata": {},
          "output_type": "execute_result"
        }
      ],
      "source": [
        "headline.text # the text is extracted from children, grandchildren, greatgrandchildren elements and so on"
      ]
    },
    {
      "cell_type": "code",
      "execution_count": 18,
      "metadata": {
        "colab": {
          "base_uri": "https://localhost:8080/",
          "height": 35
        },
        "id": "DGA3HmJGjXgp",
        "outputId": "95d91a9d-986f-485c-de79-ed47f7407ea2"
      },
      "outputs": [
        {
          "data": {
            "text/plain": [
              "'m2'"
            ]
          },
          "execution_count": 18,
          "metadata": {},
          "output_type": "execute_result"
        }
      ],
      "source": [
        "headtds[3].text  # so text of 4th child of headline (which is tr with id headline) element"
      ]
    },
    {
      "cell_type": "code",
      "execution_count": 19,
      "metadata": {
        "colab": {
          "base_uri": "https://localhost:8080/"
        },
        "id": "v1e8IFIAYKYV",
        "outputId": "f4855021-75c5-49f0-ffda-a12abc565f0d"
      },
      "outputs": [
        {
          "data": {
            "text/plain": [
              "['Street', 'R.', 'm2', 'Floor', 'Series', 'Price, m2', 'Price']"
            ]
          },
          "execution_count": 19,
          "metadata": {},
          "output_type": "execute_result"
        }
      ],
      "source": [
        "# so we do not want announcements and data so we will skip the first TD with headtds[1:]\n",
        "headcolumns = [el.text for el in headtds[1:]] #.text gets us content even from children and grandchildren\n",
        "headcolumns"
      ]
    },
    {
      "cell_type": "code",
      "execution_count": 20,
      "metadata": {
        "id": "pHrY-tZYYKYV"
      },
      "outputs": [],
      "source": [
        "# lets combine the above cells into a function which will always get us columns\n",
        "def getColList(soup):\n",
        "    column_list = [\"description\",\"url\"] # we decided to that we need these two column names no matter the html\n",
        "    headline = soup.find(\"tr\", {\"id\":\"head_line\"})\n",
        "    headtds = headline.find_all(\"td\")\n",
        "    headcolumns = [el.text for el in headtds[1:]] # this will get all column names starting with 2nd in HTML\n",
        "    column_list += headcolumns # we add the head columns to our initial column list\n",
        "    return column_list"
      ]
    },
    {
      "cell_type": "code",
      "execution_count": 21,
      "metadata": {
        "colab": {
          "base_uri": "https://localhost:8080/"
        },
        "id": "GBrntlngYKYV",
        "outputId": "590c5b55-b090-433d-aa1b-47b4a5f6e6a4"
      },
      "outputs": [
        {
          "data": {
            "text/plain": [
              "['description',\n",
              " 'url',\n",
              " 'Street',\n",
              " 'R.',\n",
              " 'm2',\n",
              " 'Floor',\n",
              " 'Series',\n",
              " 'Price, m2',\n",
              " 'Price']"
            ]
          },
          "execution_count": 21,
          "metadata": {},
          "output_type": "execute_result"
        }
      ],
      "source": [
        "# now that I have a function I can use it on any soup object\n",
        "column_names = getColList(soup)\n",
        "column_names # so this should work no matter what type of SS.com page the soup is made of"
      ]
    },
    {
      "cell_type": "code",
      "execution_count": 23,
      "metadata": {
        "colab": {
          "base_uri": "https://localhost:8080/"
        },
        "id": "qaysLv3bYKYV",
        "outputId": "b0ca2877-f039-40cf-a9c5-94f56675f219"
      },
      "outputs": [
        {
          "data": {
            "text/plain": [
              "39"
            ]
          },
          "execution_count": 23,
          "metadata": {},
          "output_type": "execute_result"
        }
      ],
      "source": [
        "trows = soup.find_all('tr')  # so i want all table rows on the page\n",
        "len(trows) # i get more than 30 rows, so I need to filter them\n"
      ]
    },
    {
      "cell_type": "code",
      "execution_count": 24,
      "metadata": {
        "colab": {
          "base_uri": "https://localhost:8080/"
        },
        "id": "Iaxygi5dlfst",
        "outputId": "c4b3711d-ce2d-4061-e350-0ba1b095a4c4"
      },
      "outputs": [
        {
          "name": "stdout",
          "output_type": "stream",
          "text": [
            "<tr id=\"tr_52107090\"><td class=\"msga2 pp0\"><input id=\"c52107090\" name=\"mid[]\" type=\"checkbox\" value=\"52107090_1106_0\"/></td><td class=\"msga2\"><a href=\"/msg/en/real-estate/flats/riga/centre/dhfdn.html\" id=\"im52107090\"><img alt=\"\" class=\"isfoto foto_list\" src=\"https://i.ss.com/gallery/5/986/246256/49251098.th2.jpg\"/></a></td><td class=\"msg2\"><div class=\"d1\"><a class=\"am\" data=\"JTlFZyU5OW8lOUJ4JUUzZyU5OGglQTQlN0UlOUVtJTk2bCU5RXolOUVpJTkyaCU5QnUlOTc=|g6b6kE\" href=\"/msg/en/real-estate/flats/riga/centre/dhfdn.html\" id=\"dm_52107090\">Двухкомнатная квартира с парковочным местом во дворе дома, с изо</a></div></td><td c=\"1\" class=\"msga2-o pp6\" nowrap=\"\">Valdemara 81</td><td c=\"1\" class=\"msga2-o pp6\" nowrap=\"\">2</td><td c=\"1\" class=\"msga2-o pp6\" nowrap=\"\">48</td><td c=\"1\" class=\"msga2-o pp6\" nowrap=\"\">2/5</td><td c=\"1\" class=\"msga2-o pp6\" nowrap=\"\">Pre-war house</td><td c=\"1\" class=\"msga2-o pp6\" nowrap=\"\">1,927 €</td><td c=\"1\" class=\"msga2-o pp6\" nowrap=\"\">92,500  €</td></tr>\n"
          ]
        }
      ],
      "source": [
        "print(trows[5]) # our first ad so from trows[5] to trows[34 would work as well]"
      ]
    },
    {
      "cell_type": "code",
      "execution_count": 25,
      "metadata": {
        "colab": {
          "base_uri": "https://localhost:8080/"
        },
        "id": "P3xovQjElsC1",
        "outputId": "efde21e5-bcc0-433e-fc7e-b214716382a5"
      },
      "outputs": [
        {
          "data": {
            "text/plain": [
              "<tr id=\"tr_52259765\"><td class=\"msga2 pp0\"><input id=\"c52259765\" name=\"mid[]\" type=\"checkbox\" value=\"52259765_1106_0\"/></td><td class=\"msga2\"><a href=\"/msg/en/real-estate/flats/riga/centre/aghmp.html\" id=\"im52259765\"><img alt=\"\" class=\"isfoto foto_list\" src=\"https://i.ss.com/gallery/5/997/249235/49846877.th2.jpg\"/></a></td><td class=\"msg2\"><div class=\"d1\"><a class=\"am\" data=\"JUFCcXMlQTMlQTklQUIlRUVpeCU5RCVBQSVBOCVBQW52JUEyJUE2JUE5JUFCa3IlQTIlQTMlQTglQTI=|r8Bmsx\" href=\"/msg/en/real-estate/flats/riga/centre/aghmp.html\" id=\"dm_52259765\">Pārdodas tikko izremontēts 2 istabu dzivoklis. Bezmāksās stavvie</a></div></td><td c=\"1\" class=\"msga2-o pp6\" nowrap=\"\">Barona 76</td><td c=\"1\" class=\"msga2-o pp6\" nowrap=\"\">2</td><td c=\"1\" class=\"msga2-o pp6\" nowrap=\"\">48</td><td c=\"1\" class=\"msga2-o pp6\" nowrap=\"\">5/5</td><td c=\"1\" class=\"msga2-o pp6\" nowrap=\"\">Pre-war house</td><td c=\"1\" class=\"msga2-o pp6\" nowrap=\"\">1,833 €</td><td c=\"1\" class=\"msga2-o pp6\" nowrap=\"\">87,999  €</td></tr>"
            ]
          },
          "execution_count": 25,
          "metadata": {},
          "output_type": "execute_result"
        }
      ],
      "source": [
        "# less flexible solution would be to hard code this\n",
        "all_ads = trows[5:35] # so starting from 6th element to 35th element\n",
        "all_ads[-1] # last one - 35"
      ]
    },
    {
      "cell_type": "code",
      "execution_count": null,
      "metadata": {
        "id": "rSIIXq3aYKYW"
      },
      "outputs": [],
      "source": [
        "# if i had no other choices I could find starting and end index by hand and hard code it\n",
        "# but that is liable to change between pages"
      ]
    },
    {
      "cell_type": "code",
      "execution_count": 26,
      "metadata": {
        "colab": {
          "base_uri": "https://localhost:8080/"
        },
        "id": "AcPPIkAbYKYW",
        "outputId": "24b59e05-bc1f-4a64-840c-4eb6a8e55faf"
      },
      "outputs": [
        {
          "data": {
            "text/plain": [
              "30"
            ]
          },
          "execution_count": 26,
          "metadata": {},
          "output_type": "execute_result"
        }
      ],
      "source": [
        "# hardest part in this \n",
        "# how to filter only specific rows\n",
        "# we need to find something that is unique to our apartment rows but not to the extra rows\n",
        "# remember we id is not guaranteed, so \"\" gives us default value when there is no id\n",
        "# because it is possible there is no id atrribute at all\n",
        "# sometimes there were unusable rows with tr_bnr attribute\n",
        "# in this recipe you would change the startswith to whatever you need in your case\n",
        "# and not row.get('id',\"\").startswith(\"tr_bnr\") is not needed anymore but left for legacy reasons\n",
        "apt_rows = [row for row in trows if row.get('id',\"\").startswith(\"tr_\") and not row.get('id',\"\").startswith(\"tr_bnr\") ]\n",
        "len(apt_rows)"
      ]
    },
    {
      "cell_type": "code",
      "execution_count": 27,
      "metadata": {
        "colab": {
          "base_uri": "https://localhost:8080/"
        },
        "id": "uAVywcBAYKYW",
        "outputId": "55e768b5-d769-4e5a-dc1c-ed0c25a4325e"
      },
      "outputs": [
        {
          "data": {
            "text/plain": [
              "<tr id=\"tr_52259765\"><td class=\"msga2 pp0\"><input id=\"c52259765\" name=\"mid[]\" type=\"checkbox\" value=\"52259765_1106_0\"/></td><td class=\"msga2\"><a href=\"/msg/en/real-estate/flats/riga/centre/aghmp.html\" id=\"im52259765\"><img alt=\"\" class=\"isfoto foto_list\" src=\"https://i.ss.com/gallery/5/997/249235/49846877.th2.jpg\"/></a></td><td class=\"msg2\"><div class=\"d1\"><a class=\"am\" data=\"JUFCcXMlQTMlQTklQUIlRUVpeCU5RCVBQSVBOCVBQW52JUEyJUE2JUE5JUFCa3IlQTIlQTMlQTglQTI=|r8Bmsx\" href=\"/msg/en/real-estate/flats/riga/centre/aghmp.html\" id=\"dm_52259765\">Pārdodas tikko izremontēts 2 istabu dzivoklis. Bezmāksās stavvie</a></div></td><td c=\"1\" class=\"msga2-o pp6\" nowrap=\"\">Barona 76</td><td c=\"1\" class=\"msga2-o pp6\" nowrap=\"\">2</td><td c=\"1\" class=\"msga2-o pp6\" nowrap=\"\">48</td><td c=\"1\" class=\"msga2-o pp6\" nowrap=\"\">5/5</td><td c=\"1\" class=\"msga2-o pp6\" nowrap=\"\">Pre-war house</td><td c=\"1\" class=\"msga2-o pp6\" nowrap=\"\">1,833 €</td><td c=\"1\" class=\"msga2-o pp6\" nowrap=\"\">87,999  €</td></tr>"
            ]
          },
          "execution_count": 27,
          "metadata": {},
          "output_type": "execute_result"
        }
      ],
      "source": [
        "apt_rows[-1]"
      ]
    },
    {
      "cell_type": "code",
      "execution_count": 28,
      "metadata": {
        "id": "-SwgzEonYKYW",
        "outputId": "39b5cb2e-6dd6-47e7-e2ed-f35c0cff5c70"
      },
      "outputs": [
        {
          "data": {
            "text/plain": [
              "<tr id=\"tr_52107090\"><td class=\"msga2 pp0\"><input id=\"c52107090\" name=\"mid[]\" type=\"checkbox\" value=\"52107090_1106_0\"/></td><td class=\"msga2\"><a href=\"/msg/en/real-estate/flats/riga/centre/dhfdn.html\" id=\"im52107090\"><img alt=\"\" class=\"isfoto foto_list\" src=\"https://i.ss.com/gallery/5/986/246256/49251098.th2.jpg\"/></a></td><td class=\"msg2\"><div class=\"d1\"><a class=\"am\" data=\"JTlFZyU5OW8lOUJ4JUUzZyU5OGglQTQlN0UlOUVtJTk2bCU5RXolOUVpJTkyaCU5QnUlOTc=|g6b6kE\" href=\"/msg/en/real-estate/flats/riga/centre/dhfdn.html\" id=\"dm_52107090\">Двухкомнатная квартира с парковочным местом во дворе дома, с изо</a></div></td><td c=\"1\" class=\"msga2-o pp6\" nowrap=\"\">Valdemara 81</td><td c=\"1\" class=\"msga2-o pp6\" nowrap=\"\">2</td><td c=\"1\" class=\"msga2-o pp6\" nowrap=\"\">48</td><td c=\"1\" class=\"msga2-o pp6\" nowrap=\"\">2/5</td><td c=\"1\" class=\"msga2-o pp6\" nowrap=\"\">Pre-war house</td><td c=\"1\" class=\"msga2-o pp6\" nowrap=\"\">1,927 €</td><td c=\"1\" class=\"msga2-o pp6\" nowrap=\"\">92,500  €</td></tr>"
            ]
          },
          "execution_count": 28,
          "metadata": {},
          "output_type": "execute_result"
        }
      ],
      "source": [
        "apt_rows[0]"
      ]
    },
    {
      "cell_type": "code",
      "execution_count": 29,
      "metadata": {
        "id": "mkuplG_RYKYW"
      },
      "outputs": [],
      "source": [
        "# lets make a function from the above doodle and make it work on most pages on SS\n",
        "def getRowList(soup):\n",
        "    trows = soup.find_all('tr')\n",
        "    aprows = [row for row in trows if row.get('id',\"\").startswith(\"tr_\") and not row.get('id',\"\").startswith(\"tr_bnr\") ]\n",
        "    return aprows"
      ]
    },
    {
      "cell_type": "code",
      "execution_count": 31,
      "metadata": {
        "colab": {
          "base_uri": "https://localhost:8080/"
        },
        "id": "mhIGGYeqYKYX",
        "outputId": "2ed9f672-cf65-49d2-eb63-52a399d40cc8"
      },
      "outputs": [
        {
          "data": {
            "text/plain": [
              "10"
            ]
          },
          "execution_count": 31,
          "metadata": {},
          "output_type": "execute_result"
        }
      ],
      "source": [
        "row_tds = apt_rows[0].find_all('td') # get all table data elements from first ad/row\n",
        "len(row_tds)"
      ]
    },
    {
      "cell_type": "code",
      "execution_count": 32,
      "metadata": {
        "colab": {
          "base_uri": "https://localhost:8080/"
        },
        "id": "N5vwDWLiYKYX",
        "outputId": "0fd9346f-57f3-4ed3-8c81-f2b2e8c17af9"
      },
      "outputs": [
        {
          "data": {
            "text/plain": [
              "[<td class=\"msga2 pp0\"><input id=\"c52107090\" name=\"mid[]\" type=\"checkbox\" value=\"52107090_1106_0\"/></td>,\n",
              " <td class=\"msga2\"><a href=\"/msg/en/real-estate/flats/riga/centre/dhfdn.html\" id=\"im52107090\"><img alt=\"\" class=\"isfoto foto_list\" src=\"https://i.ss.com/gallery/5/986/246256/49251098.th2.jpg\"/></a></td>,\n",
              " <td class=\"msg2\"><div class=\"d1\"><a class=\"am\" data=\"JTlFZyU5OW8lOUJ4JUUzZyU5OGglQTQlN0UlOUVtJTk2bCU5RXolOUVpJTkyaCU5QnUlOTc=|g6b6kE\" href=\"/msg/en/real-estate/flats/riga/centre/dhfdn.html\" id=\"dm_52107090\">Двухкомнатная квартира с парковочным местом во дворе дома, с изо</a></div></td>,\n",
              " <td c=\"1\" class=\"msga2-o pp6\" nowrap=\"\">Valdemara 81</td>,\n",
              " <td c=\"1\" class=\"msga2-o pp6\" nowrap=\"\">2</td>,\n",
              " <td c=\"1\" class=\"msga2-o pp6\" nowrap=\"\">48</td>,\n",
              " <td c=\"1\" class=\"msga2-o pp6\" nowrap=\"\">2/5</td>,\n",
              " <td c=\"1\" class=\"msga2-o pp6\" nowrap=\"\">Pre-war house</td>,\n",
              " <td c=\"1\" class=\"msga2-o pp6\" nowrap=\"\">1,927 €</td>,\n",
              " <td c=\"1\" class=\"msga2-o pp6\" nowrap=\"\">92,500  €</td>]"
            ]
          },
          "execution_count": 32,
          "metadata": {},
          "output_type": "execute_result"
        }
      ],
      "source": [
        "row_tds"
      ]
    },
    {
      "cell_type": "code",
      "execution_count": 33,
      "metadata": {
        "id": "iFYBzPQYYKYX",
        "outputId": "ab2769fa-5542-47ae-8519-bc00e7d1d16e"
      },
      "outputs": [
        {
          "data": {
            "text/plain": [
              "''"
            ]
          },
          "execution_count": 33,
          "metadata": {},
          "output_type": "execute_result"
        }
      ],
      "source": [
        "# this is the checkbox we want nothing from that\n",
        "row_tds[0].text"
      ]
    },
    {
      "cell_type": "code",
      "execution_count": 34,
      "metadata": {
        "colab": {
          "base_uri": "https://localhost:8080/",
          "height": 35
        },
        "id": "D3qjAeIzYKYX",
        "outputId": "caad5020-6a94-4261-9cb3-d069bb4273f0"
      },
      "outputs": [
        {
          "data": {
            "text/plain": [
              "''"
            ]
          },
          "execution_count": 34,
          "metadata": {},
          "output_type": "execute_result"
        }
      ],
      "source": [
        "# second is the image table data cell\n",
        "row_tds[1].text"
      ]
    },
    {
      "cell_type": "code",
      "execution_count": 35,
      "metadata": {
        "colab": {
          "base_uri": "https://localhost:8080/"
        },
        "id": "j633xfw2YKYX",
        "outputId": "cbdfdf74-a05e-4054-cde5-ceb80745be0e"
      },
      "outputs": [
        {
          "data": {
            "text/plain": [
              "{'class': ['msga2']}"
            ]
          },
          "execution_count": 35,
          "metadata": {},
          "output_type": "execute_result"
        }
      ],
      "source": [
        "row_tds[1].attrs"
      ]
    },
    {
      "cell_type": "code",
      "execution_count": 36,
      "metadata": {
        "colab": {
          "base_uri": "https://localhost:8080/"
        },
        "id": "NXj3vKnWYKYY",
        "outputId": "733fba8b-ed57-4890-f0a1-69d6ef7f493c"
      },
      "outputs": [
        {
          "data": {
            "text/plain": [
              "<img alt=\"\" class=\"isfoto foto_list\" src=\"https://i.ss.com/gallery/5/986/246256/49251098.th2.jpg\"/>"
            ]
          },
          "execution_count": 36,
          "metadata": {},
          "output_type": "execute_result"
        }
      ],
      "source": [
        "img = row_tds[1].find(\"img\")\n",
        "img"
      ]
    },
    {
      "cell_type": "code",
      "execution_count": 37,
      "metadata": {
        "id": "G2WH9IQlYKYY",
        "outputId": "515c732f-e51d-4cc3-d092-415b7f8afb8b"
      },
      "outputs": [
        {
          "data": {
            "text/plain": [
              "'https://i.ss.com/gallery/5/986/246256/49251098.th2.jpg'"
            ]
          },
          "execution_count": 37,
          "metadata": {},
          "output_type": "execute_result"
        }
      ],
      "source": [
        "img.get(\"src\")"
      ]
    },
    {
      "cell_type": "code",
      "execution_count": 38,
      "metadata": {
        "colab": {
          "base_uri": "https://localhost:8080/",
          "height": 35
        },
        "id": "eaZebzj8YKYY",
        "outputId": "24e53f1e-18d9-4bb4-92c3-09561c00cf6f"
      },
      "outputs": [
        {
          "data": {
            "text/plain": [
              "'Двухкомнатная квартира с парковочным местом во дворе дома, с изо'"
            ]
          },
          "execution_count": 38,
          "metadata": {},
          "output_type": "execute_result"
        }
      ],
      "source": [
        "row_tds[2].text"
      ]
    },
    {
      "cell_type": "code",
      "execution_count": 39,
      "metadata": {
        "colab": {
          "base_uri": "https://localhost:8080/",
          "height": 35
        },
        "id": "BagBoOlLYKYY",
        "outputId": "6afc0140-7cd7-4877-e92c-965770b8b803"
      },
      "outputs": [
        {
          "data": {
            "text/plain": [
              "'92,500  €'"
            ]
          },
          "execution_count": 39,
          "metadata": {},
          "output_type": "execute_result"
        }
      ],
      "source": [
        "# last one should be price\n",
        "row_tds[-1].text # notice this might need some cleaning to convert to number"
      ]
    },
    {
      "cell_type": "code",
      "execution_count": 40,
      "metadata": {
        "colab": {
          "base_uri": "https://localhost:8080/"
        },
        "id": "_F9DGBwVYKYY",
        "outputId": "79e6deaf-3fb9-4f7b-a54e-11e0b2876f23"
      },
      "outputs": [
        {
          "data": {
            "text/plain": [
              "<a href=\"/msg/en/real-estate/flats/riga/centre/dhfdn.html\" id=\"im52107090\"><img alt=\"\" class=\"isfoto foto_list\" src=\"https://i.ss.com/gallery/5/986/246256/49251098.th2.jpg\"/></a>"
            ]
          },
          "execution_count": 40,
          "metadata": {},
          "output_type": "execute_result"
        }
      ],
      "source": [
        "# so second table data cell (which has alos has image) has anchor\n",
        "a = row_tds[1].find('a') # a tag is called anchor tag\n",
        "a"
      ]
    },
    {
      "cell_type": "code",
      "execution_count": 41,
      "metadata": {
        "colab": {
          "base_uri": "https://localhost:8080/"
        },
        "id": "VMCXgsgnYKYY",
        "outputId": "bf2b3694-29ce-4e39-87ae-63fe99ca87a5"
      },
      "outputs": [
        {
          "data": {
            "text/plain": [
              "{'href': '/msg/en/real-estate/flats/riga/centre/dhfdn.html',\n",
              " 'id': 'im52107090'}"
            ]
          },
          "execution_count": 41,
          "metadata": {},
          "output_type": "execute_result"
        }
      ],
      "source": [
        "a.attrs  # so i can read attributes as a dictionary"
      ]
    },
    {
      "cell_type": "code",
      "execution_count": 42,
      "metadata": {
        "colab": {
          "base_uri": "https://localhost:8080/"
        },
        "id": "Se5F8kF2YKYZ",
        "outputId": "efb8f2ed-287b-4e74-c649-55d83fcc5cd0"
      },
      "outputs": [
        {
          "data": {
            "text/plain": [
              "('/msg/en/real-estate/flats/riga/centre/dhfdn.html',\n",
              " '/msg/en/real-estate/flats/riga/centre/dhfdn.html')"
            ]
          },
          "execution_count": 42,
          "metadata": {},
          "output_type": "execute_result"
        }
      ],
      "source": [
        "a.get('href'), a['href'] # two ways of accesing this attribute\n",
        "# so all we need is to add http://www.ss.com in front"
      ]
    },
    {
      "cell_type": "code",
      "execution_count": 43,
      "metadata": {
        "colab": {
          "base_uri": "https://localhost:8080/"
        },
        "id": "5CP9SKa1nXpc",
        "outputId": "f49c5b2a-a59c-4f06-b79f-850847b7c1e6"
      },
      "outputs": [
        {
          "data": {
            "text/plain": [
              "['description',\n",
              " 'url',\n",
              " 'Street',\n",
              " 'R.',\n",
              " 'm2',\n",
              " 'Floor',\n",
              " 'Series',\n",
              " 'Price, m2',\n",
              " 'Price']"
            ]
          },
          "execution_count": 43,
          "metadata": {},
          "output_type": "execute_result"
        }
      ],
      "source": [
        "column_names"
      ]
    },
    {
      "cell_type": "code",
      "execution_count": 45,
      "metadata": {
        "id": "v5xkZhZuYKYZ"
      },
      "outputs": [],
      "source": [
        "# combining all of the above work into a function\n",
        "def getRow(row,colist=column_names):\n",
        "    \"\"\"\n",
        "    row is a soup object representing a row of the table - tr element\n",
        "    inside row should be some table data elements which we will extract\n",
        "    along with the url and description\n",
        "    colist is a list of column names\n",
        "    \"\"\"\n",
        "    row_tds = row.find_all('td')  # find all table data elements\n",
        "    rowDict = {} # we will store our data in a dictionary, so we can easily convert it to dataframe\n",
        "    if len(row_tds) <3: # a little sanity check, if we have less than 3 table data elements we will skip this row\n",
        "        print(\"Hmm bad row\")\n",
        "        return rowDict\n",
        "    # first we save description\n",
        "    rowDict[colist[0]] = row_tds[2].text # so the big assumption is that we always get description in 3rd column\n",
        "    # then link to the ad\n",
        "    rowDict[colist[1]] = \"https://ss.com\" + row_tds[1].find('a').get('href')\n",
        "    # then we take the rest of the table data elements and use them as values for our dictionary with keys being the column names\n",
        "    for td,key in zip(row_tds[3:],colist[2:]): # we zip two lists together and iterate over them\n",
        "        rowDict[key] = td.text\n",
        "    return rowDict"
      ]
    },
    {
      "cell_type": "code",
      "execution_count": 46,
      "metadata": {
        "colab": {
          "base_uri": "https://localhost:8080/"
        },
        "id": "HBfyiSwiYKYZ",
        "outputId": "bdfb3562-8662-4000-fb5a-3a487fac48ec"
      },
      "outputs": [
        {
          "data": {
            "text/plain": [
              "<tr id=\"tr_52107090\"><td class=\"msga2 pp0\"><input id=\"c52107090\" name=\"mid[]\" type=\"checkbox\" value=\"52107090_1106_0\"/></td><td class=\"msga2\"><a href=\"/msg/en/real-estate/flats/riga/centre/dhfdn.html\" id=\"im52107090\"><img alt=\"\" class=\"isfoto foto_list\" src=\"https://i.ss.com/gallery/5/986/246256/49251098.th2.jpg\"/></a></td><td class=\"msg2\"><div class=\"d1\"><a class=\"am\" data=\"JTlFZyU5OW8lOUJ4JUUzZyU5OGglQTQlN0UlOUVtJTk2bCU5RXolOUVpJTkyaCU5QnUlOTc=|g6b6kE\" href=\"/msg/en/real-estate/flats/riga/centre/dhfdn.html\" id=\"dm_52107090\">Двухкомнатная квартира с парковочным местом во дворе дома, с изо</a></div></td><td c=\"1\" class=\"msga2-o pp6\" nowrap=\"\">Valdemara 81</td><td c=\"1\" class=\"msga2-o pp6\" nowrap=\"\">2</td><td c=\"1\" class=\"msga2-o pp6\" nowrap=\"\">48</td><td c=\"1\" class=\"msga2-o pp6\" nowrap=\"\">2/5</td><td c=\"1\" class=\"msga2-o pp6\" nowrap=\"\">Pre-war house</td><td c=\"1\" class=\"msga2-o pp6\" nowrap=\"\">1,927 €</td><td c=\"1\" class=\"msga2-o pp6\" nowrap=\"\">92,500  €</td></tr>"
            ]
          },
          "execution_count": 46,
          "metadata": {},
          "output_type": "execute_result"
        }
      ],
      "source": [
        "apt_rows[0] # first row of ads"
      ]
    },
    {
      "cell_type": "code",
      "execution_count": 47,
      "metadata": {
        "colab": {
          "base_uri": "https://localhost:8080/"
        },
        "id": "fKsZAmGXYKYZ",
        "outputId": "57d99c78-f25b-4693-eb42-3ac48261e695"
      },
      "outputs": [
        {
          "data": {
            "text/plain": [
              "{'description': 'Двухкомнатная квартира с парковочным местом во дворе дома, с изо',\n",
              " 'url': 'https://ss.com/msg/en/real-estate/flats/riga/centre/dhfdn.html',\n",
              " 'Street': 'Valdemara 81',\n",
              " 'R.': '2',\n",
              " 'm2': '48',\n",
              " 'Floor': '2/5',\n",
              " 'Series': 'Pre-war house',\n",
              " 'Price, m2': '1,927 €',\n",
              " 'Price': '92,500  €'}"
            ]
          },
          "execution_count": 47,
          "metadata": {},
          "output_type": "execute_result"
        }
      ],
      "source": [
        "getRow(apt_rows[0])"
      ]
    },
    {
      "cell_type": "code",
      "execution_count": 48,
      "metadata": {
        "id": "ShHXUTSIYKYZ"
      },
      "outputs": [],
      "source": [
        "# so if we can get a row we can get all rows\n",
        "def getRows(rowlist,colist=column_names):\n",
        "    \"\"\"\n",
        "    rowlist is a list of soup objects representing rows of the table\n",
        "    colist is a list of column names\n",
        "    \"\"\"\n",
        "    return [getRow(row, colist=colist) for row in rowlist]\n"
      ]
    },
    {
      "cell_type": "code",
      "execution_count": 49,
      "metadata": {
        "colab": {
          "base_uri": "https://localhost:8080/"
        },
        "id": "gZTquxXDYKYZ",
        "outputId": "c06ee08f-3026-42ef-eee2-c3fde37d8274"
      },
      "outputs": [
        {
          "data": {
            "text/plain": [
              "[{'description': 'Pieejams īpašums, kuru iespējams pārbūvēt par 4istabu dzīvokli, ',\n",
              "  'url': 'https://ss.com/msg/en/real-estate/flats/riga/centre/enecj.html',\n",
              "  'Street': 'Birznieka-Upisha 2..',\n",
              "  'R.': '4',\n",
              "  'm2': '98',\n",
              "  'Floor': '5/7',\n",
              "  'Series': 'New',\n",
              "  'Price, m2': '1,797 €',\n",
              "  'Price': '176,136  €'},\n",
              " {'description': 'Pārdodas tikko izremontēts 3 istabu dzivoklis, ir iespēja uztais',\n",
              "  'url': 'https://ss.com/msg/en/real-estate/flats/riga/centre/aennj.html',\n",
              "  'Street': 'Barona 70',\n",
              "  'R.': '3',\n",
              "  'm2': '78',\n",
              "  'Floor': '5/5',\n",
              "  'Series': 'Pre-war house',\n",
              "  'Price, m2': '2,308 €',\n",
              "  'Price': '179,999  €'},\n",
              " {'description': 'Pārdodas tikko izremontēts 2 istabu dzivoklis. Bezmāksās stavvie',\n",
              "  'url': 'https://ss.com/msg/en/real-estate/flats/riga/centre/aghmp.html',\n",
              "  'Street': 'Barona 76',\n",
              "  'R.': '2',\n",
              "  'm2': '48',\n",
              "  'Floor': '5/5',\n",
              "  'Series': 'Pre-war house',\n",
              "  'Price, m2': '1,833 €',\n",
              "  'Price': '87,999  €'}]"
            ]
          },
          "execution_count": 49,
          "metadata": {},
          "output_type": "execute_result"
        }
      ],
      "source": [
        "row_ads = getRows(apt_rows)\n",
        "row_ads[-3:] # check last three ads"
      ]
    },
    {
      "cell_type": "code",
      "execution_count": 50,
      "metadata": {
        "colab": {
          "base_uri": "https://localhost:8080/"
        },
        "id": "7PP8fCDzYKYZ",
        "outputId": "c49e089c-ad38-4ba6-940b-c0df2babf903"
      },
      "outputs": [
        {
          "data": {
            "text/plain": [
              "list"
            ]
          },
          "execution_count": 50,
          "metadata": {},
          "output_type": "execute_result"
        }
      ],
      "source": [
        "type(row_ads) # so a list of dictionaries well suited for conversion to Pandas"
      ]
    },
    {
      "cell_type": "code",
      "execution_count": 51,
      "metadata": {
        "colab": {
          "base_uri": "https://localhost:8080/"
        },
        "id": "aueljk6PoIHf",
        "outputId": "f053d9b0-2f8a-4033-9308-027d8bc866a9"
      },
      "outputs": [
        {
          "data": {
            "text/plain": [
              "[{'description': 'Двухкомнатная квартира с парковочным местом во дворе дома, с изо',\n",
              "  'url': 'https://ss.com/msg/en/real-estate/flats/riga/centre/dhfdn.html',\n",
              "  'Street': 'Valdemara 81',\n",
              "  'R.': '2',\n",
              "  'm2': '48',\n",
              "  'Floor': '2/5',\n",
              "  'Series': 'Pre-war house',\n",
              "  'Price, m2': '1,927 €',\n",
              "  'Price': '92,500  €'},\n",
              " {'description': 'Logi iziet uz abiem pagalmiem, dzīvoklis ir pietiekoši saulains.',\n",
              "  'url': 'https://ss.com/msg/en/real-estate/flats/riga/centre/acigj.html',\n",
              "  'Street': 'Blaumana 29',\n",
              "  'R.': '4',\n",
              "  'm2': '108',\n",
              "  'Floor': '1/5',\n",
              "  'Series': 'Pre-war house',\n",
              "  'Price, m2': '1,472 €',\n",
              "  'Price': '159,000  €'}]"
            ]
          },
          "execution_count": 51,
          "metadata": {},
          "output_type": "execute_result"
        }
      ],
      "source": [
        "row_ads[:2]  # first two ads"
      ]
    },
    {
      "cell_type": "code",
      "execution_count": 52,
      "metadata": {
        "colab": {
          "base_uri": "https://localhost:8080/"
        },
        "id": "7r6m4zr1YKYa",
        "outputId": "85ac73b8-7dd5-442a-ea1b-5dfbce496cbe"
      },
      "outputs": [
        {
          "data": {
            "text/plain": [
              "(30, 9)"
            ]
          },
          "execution_count": 52,
          "metadata": {},
          "output_type": "execute_result"
        }
      ],
      "source": [
        "# we can pass our list of dictionaries to pandas and create a dataframe\n",
        "dtemp = pd.DataFrame(row_ads, columns=column_names)\n",
        "dtemp.shape"
      ]
    },
    {
      "cell_type": "code",
      "execution_count": 53,
      "metadata": {
        "colab": {
          "base_uri": "https://localhost:8080/",
          "height": 310
        },
        "id": "FdkVVg3FYKYa",
        "outputId": "d11d50aa-d1de-4222-d725-7b579ffa8815"
      },
      "outputs": [
        {
          "data": {
            "text/html": [
              "<div>\n",
              "<style scoped>\n",
              "    .dataframe tbody tr th:only-of-type {\n",
              "        vertical-align: middle;\n",
              "    }\n",
              "\n",
              "    .dataframe tbody tr th {\n",
              "        vertical-align: top;\n",
              "    }\n",
              "\n",
              "    .dataframe thead th {\n",
              "        text-align: right;\n",
              "    }\n",
              "</style>\n",
              "<table border=\"1\" class=\"dataframe\">\n",
              "  <thead>\n",
              "    <tr style=\"text-align: right;\">\n",
              "      <th></th>\n",
              "      <th>description</th>\n",
              "      <th>url</th>\n",
              "      <th>Street</th>\n",
              "      <th>R.</th>\n",
              "      <th>m2</th>\n",
              "      <th>Floor</th>\n",
              "      <th>Series</th>\n",
              "      <th>Price, m2</th>\n",
              "      <th>Price</th>\n",
              "    </tr>\n",
              "  </thead>\n",
              "  <tbody>\n",
              "    <tr>\n",
              "      <th>0</th>\n",
              "      <td>Двухкомнатная квартира с парковочным местом во...</td>\n",
              "      <td>https://ss.com/msg/en/real-estate/flats/riga/c...</td>\n",
              "      <td>Valdemara 81</td>\n",
              "      <td>2</td>\n",
              "      <td>48</td>\n",
              "      <td>2/5</td>\n",
              "      <td>Pre-war house</td>\n",
              "      <td>1,927 €</td>\n",
              "      <td>92,500  €</td>\n",
              "    </tr>\n",
              "    <tr>\n",
              "      <th>1</th>\n",
              "      <td>Logi iziet uz abiem pagalmiem, dzīvoklis ir pi...</td>\n",
              "      <td>https://ss.com/msg/en/real-estate/flats/riga/c...</td>\n",
              "      <td>Blaumana 29</td>\n",
              "      <td>4</td>\n",
              "      <td>108</td>\n",
              "      <td>1/5</td>\n",
              "      <td>Pre-war house</td>\n",
              "      <td>1,472 €</td>\n",
              "      <td>159,000  €</td>\n",
              "    </tr>\n",
              "    <tr>\n",
              "      <th>2</th>\n",
              "      <td>Ekskluzīvs, gaišs, plašs un mājīgs 3-istabu dz...</td>\n",
              "      <td>https://ss.com/msg/en/real-estate/flats/riga/c...</td>\n",
              "      <td>Valdemara 49</td>\n",
              "      <td>3</td>\n",
              "      <td>93</td>\n",
              "      <td>2/3</td>\n",
              "      <td>Pre-war house</td>\n",
              "      <td>2,871 €</td>\n",
              "      <td>267,000  €</td>\n",
              "    </tr>\n",
              "    <tr>\n",
              "      <th>3</th>\n",
              "      <td>Īpašniece pārdod dzīvojamā mājā pirmajā stāvā ...</td>\n",
              "      <td>https://ss.com/msg/en/real-estate/flats/riga/c...</td>\n",
              "      <td>Stabu 84</td>\n",
              "      <td>2</td>\n",
              "      <td>82</td>\n",
              "      <td>1/4</td>\n",
              "      <td>Pre-war house</td>\n",
              "      <td>720 €</td>\n",
              "      <td>59,000  €</td>\n",
              "    </tr>\n",
              "    <tr>\n",
              "      <th>4</th>\n",
              "      <td>Предложение от застройщика. \\r\\n\\r\\nВ элитном ...</td>\n",
              "      <td>https://ss.com/msg/en/real-estate/flats/riga/c...</td>\n",
              "      <td>Merkela 2</td>\n",
              "      <td>2</td>\n",
              "      <td>49</td>\n",
              "      <td>3/6</td>\n",
              "      <td>Recon.</td>\n",
              "      <td>3,200 €</td>\n",
              "      <td>156,800  €</td>\n",
              "    </tr>\n",
              "  </tbody>\n",
              "</table>\n",
              "</div>"
            ],
            "text/plain": [
              "                                         description  \\\n",
              "0  Двухкомнатная квартира с парковочным местом во...   \n",
              "1  Logi iziet uz abiem pagalmiem, dzīvoklis ir pi...   \n",
              "2  Ekskluzīvs, gaišs, plašs un mājīgs 3-istabu dz...   \n",
              "3  Īpašniece pārdod dzīvojamā mājā pirmajā stāvā ...   \n",
              "4  Предложение от застройщика. \\r\\n\\r\\nВ элитном ...   \n",
              "\n",
              "                                                 url        Street R.   m2  \\\n",
              "0  https://ss.com/msg/en/real-estate/flats/riga/c...  Valdemara 81  2   48   \n",
              "1  https://ss.com/msg/en/real-estate/flats/riga/c...   Blaumana 29  4  108   \n",
              "2  https://ss.com/msg/en/real-estate/flats/riga/c...  Valdemara 49  3   93   \n",
              "3  https://ss.com/msg/en/real-estate/flats/riga/c...      Stabu 84  2   82   \n",
              "4  https://ss.com/msg/en/real-estate/flats/riga/c...     Merkela 2  2   49   \n",
              "\n",
              "  Floor         Series Price, m2       Price  \n",
              "0   2/5  Pre-war house   1,927 €   92,500  €  \n",
              "1   1/5  Pre-war house   1,472 €  159,000  €  \n",
              "2   2/3  Pre-war house   2,871 €  267,000  €  \n",
              "3   1/4  Pre-war house     720 €   59,000  €  \n",
              "4   3/6         Recon.   3,200 €  156,800  €  "
            ]
          },
          "execution_count": 53,
          "metadata": {},
          "output_type": "execute_result"
        }
      ],
      "source": [
        "dtemp.head()"
      ]
    },
    {
      "cell_type": "code",
      "execution_count": 60,
      "metadata": {
        "id": "iE5SyzaRYKYa"
      },
      "outputs": [],
      "source": [
        "# now you can save it to a file in a format you like, such as csv or excel\n",
        "dtemp.to_excel(\"centrs_30.xlsx\")"
      ]
    },
    {
      "cell_type": "code",
      "execution_count": null,
      "metadata": {
        "id": "tKyMTZ9fYKYa",
        "outputId": "01c699c6-7b4e-4946-ed0e-cbb87565e4e0"
      },
      "outputs": [
        {
          "data": {
            "text/plain": [
              "'https://www.ss.com/en/real-estate/flats/riga/centre/hand_over/'"
            ]
          },
          "execution_count": 44,
          "metadata": {},
          "output_type": "execute_result"
        }
      ],
      "source": [
        "centrs"
      ]
    },
    {
      "cell_type": "code",
      "execution_count": 57,
      "metadata": {
        "id": "NywnAmitYKYa",
        "outputId": "b9bf928d-3e57-48b3-9b90-08a263a520f2"
      },
      "outputs": [
        {
          "data": {
            "text/plain": [
              "['https:',\n",
              " '',\n",
              " 'www.ss.com',\n",
              " 'en',\n",
              " 'real-estate',\n",
              " 'flats',\n",
              " 'riga',\n",
              " 'centre',\n",
              " 'sell',\n",
              " '']"
            ]
          },
          "execution_count": 57,
          "metadata": {},
          "output_type": "execute_result"
        }
      ],
      "source": [
        "tokens = centrs.split(\"/\")\n",
        "tokens"
      ]
    },
    {
      "cell_type": "code",
      "execution_count": 58,
      "metadata": {
        "id": "1NB08wgKYKYa",
        "outputId": "4378ecea-9b91-4b55-8933-24623778f005"
      },
      "outputs": [
        {
          "data": {
            "text/plain": [
              "'centre_sell'"
            ]
          },
          "execution_count": 58,
          "metadata": {},
          "output_type": "execute_result"
        }
      ],
      "source": [
        "prefix = tokens[-3]+\"_\"+tokens[-2]\n",
        "prefix"
      ]
    },
    {
      "cell_type": "code",
      "execution_count": 54,
      "metadata": {
        "id": "pFZnYMEoYKYa"
      },
      "outputs": [],
      "source": [
        "# little aside on how to create file name with date and time in it\n",
        "from datetime import datetime"
      ]
    },
    {
      "cell_type": "code",
      "execution_count": 55,
      "metadata": {
        "id": "J7TQv09HYKYa",
        "outputId": "9235505a-4e2f-4e2d-909c-dc198ba1eb25"
      },
      "outputs": [
        {
          "data": {
            "text/plain": [
              "(2022, 11, 30, 17, 41)"
            ]
          },
          "execution_count": 55,
          "metadata": {},
          "output_type": "execute_result"
        }
      ],
      "source": [
        "now = datetime.now()\n",
        "now.year, now.month, now.day, now.hour, now.minute"
      ]
    },
    {
      "cell_type": "code",
      "execution_count": 59,
      "metadata": {
        "id": "vMrAmR3kYKYb",
        "outputId": "517b2c37-9c91-4e20-e731-5b371eae5960"
      },
      "outputs": [
        {
          "data": {
            "text/plain": [
              "'centre_sell_11_30_17_41.xlsx'"
            ]
          },
          "execution_count": 59,
          "metadata": {},
          "output_type": "execute_result"
        }
      ],
      "source": [
        "fname = f\"{prefix}_{now.month}_{now.day}_{ now.hour}_{ now.minute}.xlsx\"\n",
        "fname"
      ]
    },
    {
      "cell_type": "code",
      "execution_count": null,
      "metadata": {
        "id": "-2fML2NTYKYb",
        "outputId": "ad208bbb-0138-45a6-ad24-25e5e347ce21"
      },
      "outputs": [
        {
          "data": {
            "text/plain": [
              "<method 'timestamp' of 'datetime.datetime' objects>"
            ]
          },
          "execution_count": 51,
          "metadata": {},
          "output_type": "execute_result"
        }
      ],
      "source": [
        "datetime.timestamp()"
      ]
    },
    {
      "cell_type": "code",
      "execution_count": 61,
      "metadata": {
        "id": "UwZ8sSg0YKYb"
      },
      "outputs": [],
      "source": [
        "def getDFfromURL(url, save_to_excel=False):\n",
        "    \"\"\"\n",
        "    url is a string representing a url of a page on ss.com\n",
        "    save_to_excel is a boolean indicating if we want to save the data to excel file\n",
        "    \"\"\"\n",
        "    # print(\"getting data from\", url)\n",
        "    req = requests.get(url)\n",
        "    if req.status_code != 200: # check if we got a good response\n",
        "        print(\"Request Fail with\", req.status_code)\n",
        "        return None # maybe return empty dataframe here\n",
        "    soup = BeautifulSoup(req.text, 'lxml')\n",
        "    column_names = getColList(soup) # so we utilize the functions we created earlier\n",
        "    rowlist = getRowList(soup)\n",
        "    rows = getRows(rowlist,colist=column_names)\n",
        "    df = pd.DataFrame(rows, columns=column_names)\n",
        "    if save_to_excel:\n",
        "        tokens = url.split(\"/\") # split url by / to get the prefix for the file name\n",
        "        prefix = tokens[-3]+\"_\"+tokens[-2] # we get the prefix from the url\n",
        "        now = datetime.now() # get current date and time\n",
        "        fname = f\"{prefix}_{now.month}_{now.day}_{now.hour}_{now.minute}.xlsx\"\n",
        "        df.to_excel(fname)\n",
        "    return df"
      ]
    },
    {
      "cell_type": "code",
      "execution_count": 62,
      "metadata": {
        "colab": {
          "base_uri": "https://localhost:8080/",
          "height": 35
        },
        "id": "BHq6UsNNYKYb",
        "outputId": "fee29f55-2d97-49d0-8ef2-da712e990253"
      },
      "outputs": [
        {
          "data": {
            "text/plain": [
              "'https://www.ss.com/en/real-estate/flats/riga/centre/sell/'"
            ]
          },
          "execution_count": 62,
          "metadata": {},
          "output_type": "execute_result"
        }
      ],
      "source": [
        "centrs"
      ]
    },
    {
      "cell_type": "code",
      "execution_count": 63,
      "metadata": {
        "colab": {
          "base_uri": "https://localhost:8080/",
          "height": 35
        },
        "id": "_XKSm2CTozDw",
        "outputId": "433b8643-168d-43d3-e8b0-95061d135fdf"
      },
      "outputs": [
        {
          "data": {
            "text/plain": [
              "'https://www.ss.com/lv/real-estate/flats/riga/agenskalns/hand_over/'"
            ]
          },
          "execution_count": 63,
          "metadata": {},
          "output_type": "execute_result"
        }
      ],
      "source": [
        "agens = \"https://www.ss.com/lv/real-estate/flats/riga/agenskalns/hand_over/\"\n",
        "agens"
      ]
    },
    {
      "cell_type": "code",
      "execution_count": 64,
      "metadata": {
        "colab": {
          "base_uri": "https://localhost:8080/",
          "height": 554
        },
        "id": "IhF0_693o3Uc",
        "outputId": "0d99119f-3179-4613-8725-a9e849d67dd6"
      },
      "outputs": [
        {
          "data": {
            "text/html": [
              "<div>\n",
              "<style scoped>\n",
              "    .dataframe tbody tr th:only-of-type {\n",
              "        vertical-align: middle;\n",
              "    }\n",
              "\n",
              "    .dataframe tbody tr th {\n",
              "        vertical-align: top;\n",
              "    }\n",
              "\n",
              "    .dataframe thead th {\n",
              "        text-align: right;\n",
              "    }\n",
              "</style>\n",
              "<table border=\"1\" class=\"dataframe\">\n",
              "  <thead>\n",
              "    <tr style=\"text-align: right;\">\n",
              "      <th></th>\n",
              "      <th>description</th>\n",
              "      <th>url</th>\n",
              "      <th>Iela</th>\n",
              "      <th>Ist.</th>\n",
              "      <th>m2</th>\n",
              "      <th>Stāvs</th>\n",
              "      <th>Sērija</th>\n",
              "      <th>Cena, m2</th>\n",
              "      <th>Cena</th>\n",
              "    </tr>\n",
              "  </thead>\n",
              "  <tbody>\n",
              "    <tr>\n",
              "      <th>0</th>\n",
              "      <td>Ilgtermiņa īrei pieejams 3-istabu dzīvoklis Āg...</td>\n",
              "      <td>https://ss.com/msg/lv/real-estate/flats/riga/a...</td>\n",
              "      <td>Valentīna 16</td>\n",
              "      <td>3</td>\n",
              "      <td>68</td>\n",
              "      <td>2/4</td>\n",
              "      <td>Renov.</td>\n",
              "      <td>8.46 €</td>\n",
              "      <td>575  €/mēn.</td>\n",
              "    </tr>\n",
              "    <tr>\n",
              "      <th>1</th>\n",
              "      <td>Īpašnieks ilgtermiņā izīrē mēbelētu dzīvokli Ā...</td>\n",
              "      <td>https://ss.com/msg/lv/real-estate/flats/riga/a...</td>\n",
              "      <td>Gardenes 7</td>\n",
              "      <td>1</td>\n",
              "      <td>31</td>\n",
              "      <td>2/5</td>\n",
              "      <td>Hrušč.</td>\n",
              "      <td>10.32 €</td>\n",
              "      <td>320  €/mēn.</td>\n",
              "    </tr>\n",
              "    <tr>\n",
              "      <th>2</th>\n",
              "      <td>Tiek iznomāts pilnīgi jauns 2-istabu dzīvoklis...</td>\n",
              "      <td>https://ss.com/msg/lv/real-estate/flats/riga/a...</td>\n",
              "      <td>Raņķa d. 34</td>\n",
              "      <td>2</td>\n",
              "      <td>40</td>\n",
              "      <td>8/24</td>\n",
              "      <td>Jaun.</td>\n",
              "      <td>20 €</td>\n",
              "      <td>800  €/mēn.</td>\n",
              "    </tr>\n",
              "    <tr>\n",
              "      <th>3</th>\n",
              "      <td>Izīrē dzīvokli ar daļējām ērtībām par 110.0€ m...</td>\n",
              "      <td>https://ss.com/msg/lv/real-estate/flats/riga/a...</td>\n",
              "      <td>Augļu 4</td>\n",
              "      <td>1</td>\n",
              "      <td>16</td>\n",
              "      <td>1/2</td>\n",
              "      <td>Priv. m.</td>\n",
              "      <td>6.88 €</td>\n",
              "      <td>110  €/mēn.</td>\n",
              "    </tr>\n",
              "    <tr>\n",
              "      <th>4</th>\n",
              "      <td>Izīre 3 istabu, +ēdamistaba, dzīvokli tuvajā Ā...</td>\n",
              "      <td>https://ss.com/msg/lv/real-estate/flats/riga/a...</td>\n",
              "      <td>Nometņu 9</td>\n",
              "      <td>3</td>\n",
              "      <td>66</td>\n",
              "      <td>2/4</td>\n",
              "      <td>P. kara</td>\n",
              "      <td>6.06 €</td>\n",
              "      <td>400  €/mēn.</td>\n",
              "    </tr>\n",
              "    <tr>\n",
              "      <th>5</th>\n",
              "      <td>Izīrēju dzīvokli Nometņu un Meža ielas krustoj...</td>\n",
              "      <td>https://ss.com/msg/lv/real-estate/flats/riga/a...</td>\n",
              "      <td>Nometņu 1</td>\n",
              "      <td>2</td>\n",
              "      <td>60</td>\n",
              "      <td>2/3</td>\n",
              "      <td>P. kara</td>\n",
              "      <td>9.63 €</td>\n",
              "      <td>578  €/mēn.</td>\n",
              "    </tr>\n",
              "    <tr>\n",
              "      <th>6</th>\n",
              "      <td>Izīrēju ilgtermiņā 2-istabu dzīvokli Āgenskaln...</td>\n",
              "      <td>https://ss.com/msg/lv/real-estate/flats/riga/a...</td>\n",
              "      <td>Kristapa 12</td>\n",
              "      <td>2</td>\n",
              "      <td>41</td>\n",
              "      <td>4/5</td>\n",
              "      <td>Hrušč.</td>\n",
              "      <td>7.32 €</td>\n",
              "      <td>300  €/mēn.</td>\n",
              "    </tr>\n",
              "    <tr>\n",
              "      <th>7</th>\n",
              "      <td>Izīrējam izremontētu un apmēbelētu 1-istabu dz...</td>\n",
              "      <td>https://ss.com/msg/lv/real-estate/flats/riga/a...</td>\n",
              "      <td>Kokles 12B</td>\n",
              "      <td>1</td>\n",
              "      <td>33</td>\n",
              "      <td>2/4</td>\n",
              "      <td>Renov.</td>\n",
              "      <td>10.61 €</td>\n",
              "      <td>350  €/mēn.</td>\n",
              "    </tr>\n",
              "    <tr>\n",
              "      <th>8</th>\n",
              "      <td>Izīrējam izremontētu un apmēbelētu 2-istabu dz...</td>\n",
              "      <td>https://ss.com/msg/lv/real-estate/flats/riga/a...</td>\n",
              "      <td>Kokles 12B</td>\n",
              "      <td>2</td>\n",
              "      <td>51</td>\n",
              "      <td>1/4</td>\n",
              "      <td>Renov.</td>\n",
              "      <td>7.45 €</td>\n",
              "      <td>380  €/mēn.</td>\n",
              "    </tr>\n",
              "    <tr>\n",
              "      <th>9</th>\n",
              "      <td>Izīrējam izremontētu un apmēbelētu 1-istabu dz...</td>\n",
              "      <td>https://ss.com/msg/lv/real-estate/flats/riga/a...</td>\n",
              "      <td>Kokles 12B</td>\n",
              "      <td>1</td>\n",
              "      <td>21</td>\n",
              "      <td>3/4</td>\n",
              "      <td>Renov.</td>\n",
              "      <td>18.10 €</td>\n",
              "      <td>380  €/mēn.</td>\n",
              "    </tr>\n",
              "  </tbody>\n",
              "</table>\n",
              "</div>"
            ],
            "text/plain": [
              "                                         description  \\\n",
              "0  Ilgtermiņa īrei pieejams 3-istabu dzīvoklis Āg...   \n",
              "1  Īpašnieks ilgtermiņā izīrē mēbelētu dzīvokli Ā...   \n",
              "2  Tiek iznomāts pilnīgi jauns 2-istabu dzīvoklis...   \n",
              "3  Izīrē dzīvokli ar daļējām ērtībām par 110.0€ m...   \n",
              "4  Izīre 3 istabu, +ēdamistaba, dzīvokli tuvajā Ā...   \n",
              "5  Izīrēju dzīvokli Nometņu un Meža ielas krustoj...   \n",
              "6  Izīrēju ilgtermiņā 2-istabu dzīvokli Āgenskaln...   \n",
              "7  Izīrējam izremontētu un apmēbelētu 1-istabu dz...   \n",
              "8  Izīrējam izremontētu un apmēbelētu 2-istabu dz...   \n",
              "9  Izīrējam izremontētu un apmēbelētu 1-istabu dz...   \n",
              "\n",
              "                                                 url          Iela Ist.  m2  \\\n",
              "0  https://ss.com/msg/lv/real-estate/flats/riga/a...  Valentīna 16    3  68   \n",
              "1  https://ss.com/msg/lv/real-estate/flats/riga/a...    Gardenes 7    1  31   \n",
              "2  https://ss.com/msg/lv/real-estate/flats/riga/a...   Raņķa d. 34    2  40   \n",
              "3  https://ss.com/msg/lv/real-estate/flats/riga/a...       Augļu 4    1  16   \n",
              "4  https://ss.com/msg/lv/real-estate/flats/riga/a...     Nometņu 9    3  66   \n",
              "5  https://ss.com/msg/lv/real-estate/flats/riga/a...     Nometņu 1    2  60   \n",
              "6  https://ss.com/msg/lv/real-estate/flats/riga/a...   Kristapa 12    2  41   \n",
              "7  https://ss.com/msg/lv/real-estate/flats/riga/a...    Kokles 12B    1  33   \n",
              "8  https://ss.com/msg/lv/real-estate/flats/riga/a...    Kokles 12B    2  51   \n",
              "9  https://ss.com/msg/lv/real-estate/flats/riga/a...    Kokles 12B    1  21   \n",
              "\n",
              "  Stāvs    Sērija Cena, m2         Cena  \n",
              "0   2/4    Renov.   8.46 €  575  €/mēn.  \n",
              "1   2/5    Hrušč.  10.32 €  320  €/mēn.  \n",
              "2  8/24     Jaun.     20 €  800  €/mēn.  \n",
              "3   1/2  Priv. m.   6.88 €  110  €/mēn.  \n",
              "4   2/4   P. kara   6.06 €  400  €/mēn.  \n",
              "5   2/3   P. kara   9.63 €  578  €/mēn.  \n",
              "6   4/5    Hrušč.   7.32 €  300  €/mēn.  \n",
              "7   2/4    Renov.  10.61 €  350  €/mēn.  \n",
              "8   1/4    Renov.   7.45 €  380  €/mēn.  \n",
              "9   3/4    Renov.  18.10 €  380  €/mēn.  "
            ]
          },
          "execution_count": 64,
          "metadata": {},
          "output_type": "execute_result"
        }
      ],
      "source": [
        "agens_df = getDFfromURL(agens, save_to_excel=True)\n",
        "agens_df.head(10)  # see first 10 ads"
      ]
    },
    {
      "cell_type": "code",
      "execution_count": 65,
      "metadata": {},
      "outputs": [
        {
          "data": {
            "text/html": [
              "<div>\n",
              "<style scoped>\n",
              "    .dataframe tbody tr th:only-of-type {\n",
              "        vertical-align: middle;\n",
              "    }\n",
              "\n",
              "    .dataframe tbody tr th {\n",
              "        vertical-align: top;\n",
              "    }\n",
              "\n",
              "    .dataframe thead th {\n",
              "        text-align: right;\n",
              "    }\n",
              "</style>\n",
              "<table border=\"1\" class=\"dataframe\">\n",
              "  <thead>\n",
              "    <tr style=\"text-align: right;\">\n",
              "      <th></th>\n",
              "      <th>description</th>\n",
              "      <th>url</th>\n",
              "      <th>Iela</th>\n",
              "      <th>Ist.</th>\n",
              "      <th>m2</th>\n",
              "      <th>Stāvs</th>\n",
              "      <th>Sērija</th>\n",
              "      <th>Cena, m2</th>\n",
              "      <th>Cena</th>\n",
              "    </tr>\n",
              "  </thead>\n",
              "  <tbody>\n",
              "    <tr>\n",
              "      <th>0</th>\n",
              "      <td>Tiek pārdots 2- līmeņu dzīvoklis Āgenskalnā. D...</td>\n",
              "      <td>https://ss.com/msg/lv/real-estate/flats/riga/a...</td>\n",
              "      <td>M. Nometņu 1</td>\n",
              "      <td>5</td>\n",
              "      <td>160</td>\n",
              "      <td>2/8</td>\n",
              "      <td>Specpr.</td>\n",
              "      <td>1,406 €</td>\n",
              "      <td>225,000  €</td>\n",
              "    </tr>\n",
              "    <tr>\n",
              "      <th>1</th>\n",
              "      <td>Квартира с уникальным и красивым дизайном, кот...</td>\n",
              "      <td>https://ss.com/msg/lv/real-estate/flats/riga/a...</td>\n",
              "      <td>M. Nometņu 5</td>\n",
              "      <td>1</td>\n",
              "      <td>30</td>\n",
              "      <td>1/4</td>\n",
              "      <td>P. kara</td>\n",
              "      <td>2,663 €</td>\n",
              "      <td>79,900  €</td>\n",
              "    </tr>\n",
              "    <tr>\n",
              "      <th>2</th>\n",
              "      <td>Mūkusalas 56 ir pilnībā renovēta māja ar sakār...</td>\n",
              "      <td>https://ss.com/msg/lv/real-estate/flats/riga/a...</td>\n",
              "      <td>Mūkusalas 56</td>\n",
              "      <td>2</td>\n",
              "      <td>62</td>\n",
              "      <td>1/3</td>\n",
              "      <td>Renov.</td>\n",
              "      <td>1,315 €</td>\n",
              "      <td>81,500  €</td>\n",
              "    </tr>\n",
              "    <tr>\n",
              "      <th>3</th>\n",
              "      <td>Pārdod gaišu un saulainu, daļēji izremontētu 2...</td>\n",
              "      <td>https://ss.com/msg/lv/real-estate/flats/riga/a...</td>\n",
              "      <td>Tapešu 24</td>\n",
              "      <td>2</td>\n",
              "      <td>48</td>\n",
              "      <td>5/5</td>\n",
              "      <td>LT proj.</td>\n",
              "      <td>1,096 €</td>\n",
              "      <td>52,600  €</td>\n",
              "    </tr>\n",
              "    <tr>\n",
              "      <th>4</th>\n",
              "      <td>Pārdod Īres tiesības labi izremontētam 1 ist. ...</td>\n",
              "      <td>https://ss.com/msg/lv/real-estate/flats/riga/a...</td>\n",
              "      <td>Talsu 30A</td>\n",
              "      <td>1</td>\n",
              "      <td>35</td>\n",
              "      <td>4/5</td>\n",
              "      <td>Priv. m.</td>\n",
              "      <td>180 €</td>\n",
              "      <td>6,300  €</td>\n",
              "    </tr>\n",
              "    <tr>\n",
              "      <th>5</th>\n",
              "      <td>Divistabu dzīvoklis ar balkonu jaunajā projekt...</td>\n",
              "      <td>https://ss.com/msg/lv/real-estate/flats/riga/a...</td>\n",
              "      <td>Liepājas 2</td>\n",
              "      <td>2</td>\n",
              "      <td>64</td>\n",
              "      <td>3/6</td>\n",
              "      <td>Jaun.</td>\n",
              "      <td>2,594 €</td>\n",
              "      <td>166,000  €</td>\n",
              "    </tr>\n",
              "    <tr>\n",
              "      <th>6</th>\n",
              "      <td>Pārdod dzīvokli Āgenskalna centrā. Dzīvoklis a...</td>\n",
              "      <td>https://ss.com/msg/lv/real-estate/flats/riga/a...</td>\n",
              "      <td>Zeļļu 13</td>\n",
              "      <td>2</td>\n",
              "      <td>47</td>\n",
              "      <td>1/4</td>\n",
              "      <td>P. kara</td>\n",
              "      <td>1,056 €</td>\n",
              "      <td>49,630  €</td>\n",
              "    </tr>\n",
              "    <tr>\n",
              "      <th>7</th>\n",
              "      <td>Mūkusalas 56 mājai ir jaunizbūvēts siltummezgl...</td>\n",
              "      <td>https://ss.com/msg/lv/real-estate/flats/riga/a...</td>\n",
              "      <td>Mūkusalas 56</td>\n",
              "      <td>2</td>\n",
              "      <td>40</td>\n",
              "      <td>2/3</td>\n",
              "      <td>Renov.</td>\n",
              "      <td>2,388 €</td>\n",
              "      <td>95,500  €</td>\n",
              "    </tr>\n",
              "    <tr>\n",
              "      <th>8</th>\n",
              "      <td>Dzīvoklis ar baltu apdari (izņemot vannas ista...</td>\n",
              "      <td>https://ss.com/msg/lv/real-estate/flats/riga/a...</td>\n",
              "      <td>Āgenskalna 20</td>\n",
              "      <td>1</td>\n",
              "      <td>33</td>\n",
              "      <td>4/5</td>\n",
              "      <td>LT proj.</td>\n",
              "      <td>812 €</td>\n",
              "      <td>26,800  €</td>\n",
              "    </tr>\n",
              "    <tr>\n",
              "      <th>9</th>\n",
              "      <td>Īpašniece pārdod saulainu, izremontētu 1-istab...</td>\n",
              "      <td>https://ss.com/msg/lv/real-estate/flats/riga/a...</td>\n",
              "      <td>Valguma 6-9</td>\n",
              "      <td>1</td>\n",
              "      <td>26</td>\n",
              "      <td>3/3</td>\n",
              "      <td>P. kara</td>\n",
              "      <td>1,154 €</td>\n",
              "      <td>30,000  €</td>\n",
              "    </tr>\n",
              "  </tbody>\n",
              "</table>\n",
              "</div>"
            ],
            "text/plain": [
              "                                         description  \\\n",
              "0  Tiek pārdots 2- līmeņu dzīvoklis Āgenskalnā. D...   \n",
              "1  Квартира с уникальным и красивым дизайном, кот...   \n",
              "2  Mūkusalas 56 ir pilnībā renovēta māja ar sakār...   \n",
              "3  Pārdod gaišu un saulainu, daļēji izremontētu 2...   \n",
              "4  Pārdod Īres tiesības labi izremontētam 1 ist. ...   \n",
              "5  Divistabu dzīvoklis ar balkonu jaunajā projekt...   \n",
              "6  Pārdod dzīvokli Āgenskalna centrā. Dzīvoklis a...   \n",
              "7  Mūkusalas 56 mājai ir jaunizbūvēts siltummezgl...   \n",
              "8  Dzīvoklis ar baltu apdari (izņemot vannas ista...   \n",
              "9  Īpašniece pārdod saulainu, izremontētu 1-istab...   \n",
              "\n",
              "                                                 url           Iela Ist.   m2  \\\n",
              "0  https://ss.com/msg/lv/real-estate/flats/riga/a...   M. Nometņu 1    5  160   \n",
              "1  https://ss.com/msg/lv/real-estate/flats/riga/a...   M. Nometņu 5    1   30   \n",
              "2  https://ss.com/msg/lv/real-estate/flats/riga/a...   Mūkusalas 56    2   62   \n",
              "3  https://ss.com/msg/lv/real-estate/flats/riga/a...      Tapešu 24    2   48   \n",
              "4  https://ss.com/msg/lv/real-estate/flats/riga/a...      Talsu 30A    1   35   \n",
              "5  https://ss.com/msg/lv/real-estate/flats/riga/a...     Liepājas 2    2   64   \n",
              "6  https://ss.com/msg/lv/real-estate/flats/riga/a...       Zeļļu 13    2   47   \n",
              "7  https://ss.com/msg/lv/real-estate/flats/riga/a...   Mūkusalas 56    2   40   \n",
              "8  https://ss.com/msg/lv/real-estate/flats/riga/a...  Āgenskalna 20    1   33   \n",
              "9  https://ss.com/msg/lv/real-estate/flats/riga/a...    Valguma 6-9    1   26   \n",
              "\n",
              "  Stāvs    Sērija Cena, m2        Cena  \n",
              "0   2/8   Specpr.  1,406 €  225,000  €  \n",
              "1   1/4   P. kara  2,663 €   79,900  €  \n",
              "2   1/3    Renov.  1,315 €   81,500  €  \n",
              "3   5/5  LT proj.  1,096 €   52,600  €  \n",
              "4   4/5  Priv. m.    180 €    6,300  €  \n",
              "5   3/6     Jaun.  2,594 €  166,000  €  \n",
              "6   1/4   P. kara  1,056 €   49,630  €  \n",
              "7   2/3    Renov.  2,388 €   95,500  €  \n",
              "8   4/5  LT proj.    812 €   26,800  €  \n",
              "9   3/3   P. kara  1,154 €   30,000  €  "
            ]
          },
          "execution_count": 65,
          "metadata": {},
          "output_type": "execute_result"
        }
      ],
      "source": [
        "agens_sell = getDFfromURL(\"https://www.ss.com/lv/real-estate/flats/riga/agenskalns/sell/\")\n",
        "agens_sell.head(10)"
      ]
    },
    {
      "cell_type": "code",
      "execution_count": null,
      "metadata": {
        "id": "TIlXSG3xYKYb"
      },
      "outputs": [],
      "source": [
        "df = getDFfromURL(centrs, save_to_excel=True)"
      ]
    },
    {
      "cell_type": "code",
      "execution_count": null,
      "metadata": {
        "id": "v7RQPAbWYKYb",
        "outputId": "90eea1dd-7641-4ed1-d400-10397883bfe0"
      },
      "outputs": [
        {
          "data": {
            "text/plain": [
              "(30, 9)"
            ]
          },
          "execution_count": 62,
          "metadata": {},
          "output_type": "execute_result"
        }
      ],
      "source": [
        "df.shape"
      ]
    },
    {
      "cell_type": "code",
      "execution_count": null,
      "metadata": {
        "id": "1bG8uy5pYKYb",
        "outputId": "f6983fc3-9e90-437a-83b2-52e01d2f75ea"
      },
      "outputs": [
        {
          "data": {
            "text/html": [
              "<div>\n",
              "<style scoped>\n",
              "    .dataframe tbody tr th:only-of-type {\n",
              "        vertical-align: middle;\n",
              "    }\n",
              "\n",
              "    .dataframe tbody tr th {\n",
              "        vertical-align: top;\n",
              "    }\n",
              "\n",
              "    .dataframe thead th {\n",
              "        text-align: right;\n",
              "    }\n",
              "</style>\n",
              "<table border=\"1\" class=\"dataframe\">\n",
              "  <thead>\n",
              "    <tr style=\"text-align: right;\">\n",
              "      <th></th>\n",
              "      <th>description</th>\n",
              "      <th>url</th>\n",
              "      <th>Street</th>\n",
              "      <th>R.</th>\n",
              "      <th>m2</th>\n",
              "      <th>Floor</th>\n",
              "      <th>Series</th>\n",
              "      <th>Price, m2</th>\n",
              "      <th>Price</th>\n",
              "    </tr>\n",
              "  </thead>\n",
              "  <tbody>\n",
              "    <tr>\n",
              "      <th>0</th>\n",
              "      <td>Divistabu dzīvoklis ar bezmaksas stāvvietu pie...</td>\n",
              "      <td>https://ss.com/msg/en/real-estate/flats/riga/c...</td>\n",
              "      <td>Miera 97</td>\n",
              "      <td>2</td>\n",
              "      <td>39</td>\n",
              "      <td>4/5</td>\n",
              "      <td>Chrusch.</td>\n",
              "      <td>8.46 €</td>\n",
              "      <td>330  €/mon.</td>\n",
              "    </tr>\n",
              "    <tr>\n",
              "      <th>1</th>\n",
              "      <td>Izīrē pilnībā mēbelētu dzīvokli jaunāja projek...</td>\n",
              "      <td>https://ss.com/msg/en/real-estate/flats/riga/c...</td>\n",
              "      <td>Terbatas 26a</td>\n",
              "      <td>2</td>\n",
              "      <td>31</td>\n",
              "      <td>2/5</td>\n",
              "      <td>New</td>\n",
              "      <td>14.52 €</td>\n",
              "      <td>450  €/mon.</td>\n",
              "    </tr>\n",
              "    <tr>\n",
              "      <th>2</th>\n",
              "      <td>Izīrē pilnībā mēbelētu dzīvokli pilsētas centr...</td>\n",
              "      <td>https://ss.com/msg/en/real-estate/flats/riga/c...</td>\n",
              "      <td>Terbatas 26a</td>\n",
              "      <td>2</td>\n",
              "      <td>43</td>\n",
              "      <td>1/6</td>\n",
              "      <td>New</td>\n",
              "      <td>10.47 €</td>\n",
              "      <td>450  €/mon.</td>\n",
              "    </tr>\n",
              "    <tr>\n",
              "      <th>3</th>\n",
              "      <td>Izīrē 2-istabu dzīvokli pēc kapitālā remonta a...</td>\n",
              "      <td>https://ss.com/msg/en/real-estate/flats/riga/c...</td>\n",
              "      <td>Chaka 148</td>\n",
              "      <td>2</td>\n",
              "      <td>60</td>\n",
              "      <td>3/5</td>\n",
              "      <td>Perewar</td>\n",
              "      <td>7.50 €</td>\n",
              "      <td>450  €/mon.</td>\n",
              "    </tr>\n",
              "    <tr>\n",
              "      <th>4</th>\n",
              "      <td>Īpašniece piedāvā īrei ērtu, studijas tipa dzī...</td>\n",
              "      <td>https://ss.com/msg/en/real-estate/flats/riga/c...</td>\n",
              "      <td>Artilerijas 19</td>\n",
              "      <td>1</td>\n",
              "      <td>35</td>\n",
              "      <td>3/4</td>\n",
              "      <td>Recon.</td>\n",
              "      <td>10.57 €</td>\n",
              "      <td>370  €/mon.</td>\n",
              "    </tr>\n",
              "  </tbody>\n",
              "</table>\n",
              "</div>"
            ],
            "text/plain": [
              "                                         description  \\\n",
              "0  Divistabu dzīvoklis ar bezmaksas stāvvietu pie...   \n",
              "1  Izīrē pilnībā mēbelētu dzīvokli jaunāja projek...   \n",
              "2  Izīrē pilnībā mēbelētu dzīvokli pilsētas centr...   \n",
              "3  Izīrē 2-istabu dzīvokli pēc kapitālā remonta a...   \n",
              "4  Īpašniece piedāvā īrei ērtu, studijas tipa dzī...   \n",
              "\n",
              "                                                 url          Street R.  m2  \\\n",
              "0  https://ss.com/msg/en/real-estate/flats/riga/c...        Miera 97  2  39   \n",
              "1  https://ss.com/msg/en/real-estate/flats/riga/c...    Terbatas 26a  2  31   \n",
              "2  https://ss.com/msg/en/real-estate/flats/riga/c...    Terbatas 26a  2  43   \n",
              "3  https://ss.com/msg/en/real-estate/flats/riga/c...       Chaka 148  2  60   \n",
              "4  https://ss.com/msg/en/real-estate/flats/riga/c...  Artilerijas 19  1  35   \n",
              "\n",
              "  Floor    Series Price, m2        Price  \n",
              "0   4/5  Chrusch.    8.46 €  330  €/mon.  \n",
              "1   2/5       New   14.52 €  450  €/mon.  \n",
              "2   1/6       New   10.47 €  450  €/mon.  \n",
              "3   3/5   Perewar    7.50 €  450  €/mon.  \n",
              "4   3/4    Recon.   10.57 €  370  €/mon.  "
            ]
          },
          "execution_count": 63,
          "metadata": {},
          "output_type": "execute_result"
        }
      ],
      "source": [
        "df.head()"
      ]
    },
    {
      "cell_type": "markdown",
      "metadata": {
        "id": "QQHubk-MYKYc"
      },
      "source": [
        "## Now we want to find all pages with the same ads from the area\n",
        "### some urls might have many ads some might have a single page"
      ]
    },
    {
      "cell_type": "code",
      "execution_count": 66,
      "metadata": {
        "colab": {
          "base_uri": "https://localhost:8080/"
        },
        "id": "0cEgFSorYKYc",
        "outputId": "de9fdf2a-4afa-4e42-fe2b-a1db47d8bb4b"
      },
      "outputs": [
        {
          "data": {
            "text/plain": [
              "99"
            ]
          },
          "execution_count": 66,
          "metadata": {},
          "output_type": "execute_result"
        }
      ],
      "source": [
        "\n",
        "# https://developer.mozilla.org/en-US/docs/Web/HTML/Element/a\n",
        "anchors = soup.find_all(\"a\")\n",
        "len(anchors)\n",
        "# anchors are the basic building blocks of the web, so we have a lot of them"
      ]
    },
    {
      "cell_type": "code",
      "execution_count": 67,
      "metadata": {
        "colab": {
          "base_uri": "https://localhost:8080/"
        },
        "id": "QKInh_ZdYKYc",
        "outputId": "564db288-8e57-4509-bce8-9153688c78c3"
      },
      "outputs": [
        {
          "data": {
            "text/plain": [
              "[<a href=\"/en/\" title=\"Advertisements\"><img alt=\"Advertisements\" border=\"0\" class=\"page_header_logo\" src=\"https://i.ss.com/img/p.gif\"/></a>,\n",
              " <a class=\"a_menu\" href=\"/en/real-estate/flats/new/\" title=\"Post Advertisement\">Post Advertisement</a>,\n",
              " <a class=\"a_menu\" href=\"/en/login/\" title=\"My Adverts\">My Adverts</a>,\n",
              " <a class=\"a_menu\" href=\"/en/real-estate/flats/riga/centre/search/\" title=\"Search advertisement\">Search</a>,\n",
              " <a class=\"a_menu\" href=\"/en/favorites/\" title=\"Favorites\">Favorites</a>]"
            ]
          },
          "execution_count": 67,
          "metadata": {},
          "output_type": "execute_result"
        }
      ],
      "source": [
        "anchors[:5]"
      ]
    },
    {
      "cell_type": "code",
      "execution_count": 68,
      "metadata": {
        "colab": {
          "base_uri": "https://localhost:8080/"
        },
        "id": "NQAs98w0YKYd",
        "outputId": "07763f3c-3bc3-4d42-af83-2247bf8788a2"
      },
      "outputs": [
        {
          "data": {
            "text/plain": [
              "10"
            ]
          },
          "execution_count": 68,
          "metadata": {},
          "output_type": "execute_result"
        }
      ],
      "source": [
        "# we want the previous anchor it has a couple of attributes that we can use to find it\n",
        "# one way is to use name attribute and check if it is equal to nav_id\n",
        "navs = [anchor for anchor in anchors if anchor.get(\"name\") == \"nav_id\"] # get will get us None if no \"name\" exists\n",
        "len(navs)"
      ]
    },
    {
      "cell_type": "code",
      "execution_count": 69,
      "metadata": {
        "colab": {
          "base_uri": "https://localhost:8080/"
        },
        "id": "q49de0zdYKYd",
        "outputId": "1824f365-42db-4ecb-b75c-bbd1026a8bcb"
      },
      "outputs": [
        {
          "data": {
            "text/plain": [
              "<a class=\"navi\" href=\"/en/real-estate/flats/riga/centre/sell/page26.html\" name=\"nav_id\" rel=\"prev\"><img border=\"0\" height=\"5\" src=\"https://i.ss.com/img/s_left.png\" style=\"padding-bottom:2px;\" width=\"9\"/> Previous</a>"
            ]
          },
          "execution_count": 69,
          "metadata": {},
          "output_type": "execute_result"
        }
      ],
      "source": [
        "navs[0] # so the first one is the one we want"
      ]
    },
    {
      "cell_type": "code",
      "execution_count": 70,
      "metadata": {
        "colab": {
          "base_uri": "https://localhost:8080/"
        },
        "id": "KGNO8hd1YKYd",
        "outputId": "577678a5-2ec5-4bdb-fcba-034f63fc9f9c"
      },
      "outputs": [
        {
          "data": {
            "text/plain": [
              "{'name': 'nav_id',\n",
              " 'rel': ['prev'],\n",
              " 'class': ['navi'],\n",
              " 'href': '/en/real-estate/flats/riga/centre/sell/page26.html'}"
            ]
          },
          "execution_count": 70,
          "metadata": {},
          "output_type": "execute_result"
        }
      ],
      "source": [
        "navs[0].attrs"
      ]
    },
    {
      "cell_type": "code",
      "execution_count": 71,
      "metadata": {
        "colab": {
          "base_uri": "https://localhost:8080/",
          "height": 35
        },
        "id": "HKtjox9FYKYd",
        "outputId": "dc25df6c-f538-42ab-eb29-f97b990aca5e"
      },
      "outputs": [
        {
          "data": {
            "text/plain": [
              "'/en/real-estate/flats/riga/centre/sell/page26.html'"
            ]
          },
          "execution_count": 71,
          "metadata": {},
          "output_type": "execute_result"
        }
      ],
      "source": [
        "navs[0]['href'] # we can extract the link from the anchor"
      ]
    },
    {
      "cell_type": "code",
      "execution_count": 72,
      "metadata": {
        "colab": {
          "base_uri": "https://localhost:8080/",
          "height": 35
        },
        "id": "VL_P01qXYKYd",
        "outputId": "39ad8edb-05ac-4b28-bffd-60c04c4ee6b3"
      },
      "outputs": [
        {
          "data": {
            "text/plain": [
              "'26.html'"
            ]
          },
          "execution_count": 72,
          "metadata": {},
          "output_type": "execute_result"
        }
      ],
      "source": [
        "# could use regular expression here but we can use split \n",
        "afterpage = navs[0]['href'].split(\"/page\")[-1] # -1 might be safer than 1 in case there is region with name page\n",
        "afterpage"
      ]
    },
    {
      "cell_type": "code",
      "execution_count": 73,
      "metadata": {
        "colab": {
          "base_uri": "https://localhost:8080/",
          "height": 35
        },
        "id": "G6ITLcSaYKYd",
        "outputId": "679642eb-7d2b-4b38-96d9-c99a258b1798"
      },
      "outputs": [
        {
          "data": {
            "text/plain": [
              "'26'"
            ]
          },
          "execution_count": 73,
          "metadata": {},
          "output_type": "execute_result"
        }
      ],
      "source": [
        "beforedot = afterpage.split(\".html\")[0] # first part of the split\n",
        "beforedot"
      ]
    },
    {
      "cell_type": "code",
      "execution_count": 74,
      "metadata": {
        "colab": {
          "base_uri": "https://localhost:8080/"
        },
        "id": "ZIcIWllRYKYd",
        "outputId": "df8f31a8-dc5e-4856-d661-5b77c0238c97"
      },
      "outputs": [
        {
          "data": {
            "text/plain": [
              "26"
            ]
          },
          "execution_count": 74,
          "metadata": {},
          "output_type": "execute_result"
        }
      ],
      "source": [
        "# we have extracted the number of the page finally we need to convert it to integer\n",
        "lastpage = int(beforedot)  # need to cast this to integer\n",
        "lastpage"
      ]
    },
    {
      "cell_type": "code",
      "execution_count": null,
      "metadata": {},
      "outputs": [],
      "source": [
        "# now we can use that number to create a list of urls for all pages"
      ]
    },
    {
      "cell_type": "code",
      "execution_count": 75,
      "metadata": {
        "id": "rUbyf2sAYKYd"
      },
      "outputs": [],
      "source": [
        "def getAllLocalUrls(url):\n",
        "    \"\"\"Get a list of all urls including paginated pages\n",
        "    url is a string representing a url of a page on ss.com where we start\n",
        "    \"\"\"\n",
        "    results = [url] # default is just the url if no extra pages found like Boldaraja :)\n",
        "    req = requests.get(url)\n",
        "    if req.status_code != 200:\n",
        "        print(f\"Bad response! {req.status_code}\")\n",
        "        return []\n",
        "    soup = BeautifulSoup(req.text, 'lxml')\n",
        "    # we just need a one element\n",
        "    # instead of name attribute we use rel attribute\n",
        "    prevanchor = soup.find('a', {\"rel\":\"prev\"}) # this is specific to previous page anchor on ss.com\n",
        "    # you would need to adjust this to your needs\n",
        "    if prevanchor == None: # means there is only one page of ads\n",
        "        return results\n",
        "    # now we extact the number of the last page\n",
        "    href = prevanchor.attrs.get('href')\n",
        "    lastPageNum = int(href.split('/page')[-1].split('.html')[0])\n",
        "    print(\"Last page is\",lastPageNum)\n",
        "    # finally we use list comprehension to create a list of urls\n",
        "    # also note the use of f-string to create the url\n",
        "    nurls = [f\"{url}page{n}.html\" for n in range(2,lastPageNum+1)]\n",
        "    results += nurls\n",
        "    return results"
      ]
    },
    {
      "cell_type": "code",
      "execution_count": 76,
      "metadata": {
        "colab": {
          "base_uri": "https://localhost:8080/",
          "height": 35
        },
        "id": "_Za44yvCYKYd",
        "outputId": "165fec90-4f4e-4f00-c1dd-dea2255807e6"
      },
      "outputs": [
        {
          "data": {
            "text/plain": [
              "'https://www.ss.com/en/real-estate/flats/riga/centre/sell/'"
            ]
          },
          "execution_count": 76,
          "metadata": {},
          "output_type": "execute_result"
        }
      ],
      "source": [
        "centrs"
      ]
    },
    {
      "cell_type": "code",
      "execution_count": 77,
      "metadata": {
        "colab": {
          "base_uri": "https://localhost:8080/"
        },
        "id": "SLRkVqWiYKYe",
        "outputId": "24dc86e6-40f2-4c3a-e425-ee9f06300b53"
      },
      "outputs": [
        {
          "name": "stdout",
          "output_type": "stream",
          "text": [
            "Last page is 26\n"
          ]
        },
        {
          "data": {
            "text/plain": [
              "(26,\n",
              " ['https://www.ss.com/en/real-estate/flats/riga/centre/sell/',\n",
              "  'https://www.ss.com/en/real-estate/flats/riga/centre/sell/page2.html',\n",
              "  'https://www.ss.com/en/real-estate/flats/riga/centre/sell/page3.html'],\n",
              " ['https://www.ss.com/en/real-estate/flats/riga/centre/sell/page24.html',\n",
              "  'https://www.ss.com/en/real-estate/flats/riga/centre/sell/page25.html',\n",
              "  'https://www.ss.com/en/real-estate/flats/riga/centre/sell/page26.html'])"
            ]
          },
          "execution_count": 77,
          "metadata": {},
          "output_type": "execute_result"
        }
      ],
      "source": [
        "local_urls = getAllLocalUrls(centrs)\n",
        "len(local_urls),local_urls[:3],local_urls[-3:]"
      ]
    },
    {
      "cell_type": "code",
      "execution_count": 78,
      "metadata": {
        "colab": {
          "base_uri": "https://localhost:8080/"
        },
        "id": "sSP9aujbYKYe",
        "outputId": "9e56079b-d031-45c8-cc44-018a3757691c"
      },
      "outputs": [
        {
          "data": {
            "text/plain": [
              "(9, 9)"
            ]
          },
          "execution_count": 78,
          "metadata": {},
          "output_type": "execute_result"
        }
      ],
      "source": [
        "dlast = getDFfromURL(local_urls[-1])\n",
        "dlast.shape"
      ]
    },
    {
      "cell_type": "code",
      "execution_count": 79,
      "metadata": {
        "colab": {
          "base_uri": "https://localhost:8080/",
          "height": 456
        },
        "id": "mukROA1XYKYe",
        "outputId": "6c5a258e-1728-43a8-d7fd-fc5a65c40c65",
        "scrolled": true
      },
      "outputs": [
        {
          "data": {
            "text/html": [
              "<div>\n",
              "<style scoped>\n",
              "    .dataframe tbody tr th:only-of-type {\n",
              "        vertical-align: middle;\n",
              "    }\n",
              "\n",
              "    .dataframe tbody tr th {\n",
              "        vertical-align: top;\n",
              "    }\n",
              "\n",
              "    .dataframe thead th {\n",
              "        text-align: right;\n",
              "    }\n",
              "</style>\n",
              "<table border=\"1\" class=\"dataframe\">\n",
              "  <thead>\n",
              "    <tr style=\"text-align: right;\">\n",
              "      <th></th>\n",
              "      <th>description</th>\n",
              "      <th>url</th>\n",
              "      <th>Street</th>\n",
              "      <th>R.</th>\n",
              "      <th>m2</th>\n",
              "      <th>Floor</th>\n",
              "      <th>Series</th>\n",
              "      <th>Price, m2</th>\n",
              "      <th>Price</th>\n",
              "    </tr>\n",
              "  </thead>\n",
              "  <tbody>\n",
              "    <tr>\n",
              "      <th>0</th>\n",
              "      <td>Īpašnieks pārdod mājīgu, saulainu un romantisk...</td>\n",
              "      <td>https://ss.com/msg/en/real-estate/flats/riga/c...</td>\n",
              "      <td>Sporta 7</td>\n",
              "      <td>2</td>\n",
              "      <td>51</td>\n",
              "      <td>1/4</td>\n",
              "      <td>Pre-war house</td>\n",
              "      <td>2,353 €</td>\n",
              "      <td>120,000  €</td>\n",
              "    </tr>\n",
              "    <tr>\n",
              "      <th>1</th>\n",
              "      <td>Tiek pārdots dzīvoklis, ar privātmājas sajūtu ...</td>\n",
              "      <td>https://ss.com/msg/en/real-estate/flats/riga/c...</td>\n",
              "      <td>Chaka 62b</td>\n",
              "      <td>3</td>\n",
              "      <td>53</td>\n",
              "      <td>1/2</td>\n",
              "      <td>Pre-war house</td>\n",
              "      <td>1,226 €</td>\n",
              "      <td>65,000  €</td>\n",
              "    </tr>\n",
              "    <tr>\n",
              "      <th>2</th>\n",
              "      <td>Māja pēc pilnas rekonstrukcijas. Daļu no mājas...</td>\n",
              "      <td>https://ss.com/msg/en/real-estate/flats/riga/c...</td>\n",
              "      <td>Pulkv. Briezha 13</td>\n",
              "      <td>3</td>\n",
              "      <td>69</td>\n",
              "      <td>6/7</td>\n",
              "      <td>Recon.</td>\n",
              "      <td>2,884 €</td>\n",
              "      <td>199,000  €</td>\n",
              "    </tr>\n",
              "    <tr>\n",
              "      <th>3</th>\n",
              "      <td>Pārdodu saulainu dzīvokli jaunā projekta ēkā K...</td>\n",
              "      <td>https://ss.com/msg/en/real-estate/flats/riga/c...</td>\n",
              "      <td>Klijanu 2A</td>\n",
              "      <td>1</td>\n",
              "      <td>40</td>\n",
              "      <td>6/9</td>\n",
              "      <td>Recon.</td>\n",
              "      <td>950 €</td>\n",
              "      <td>38,000  €</td>\n",
              "    </tr>\n",
              "    <tr>\n",
              "      <th>4</th>\n",
              "      <td>Īpašnieks pārdod dzīvokli, blakus Vef tilts, ļ...</td>\n",
              "      <td>https://ss.com/msg/en/real-estate/flats/riga/c...</td>\n",
              "      <td>Brivibas 181</td>\n",
              "      <td>2</td>\n",
              "      <td>42</td>\n",
              "      <td>2/5</td>\n",
              "      <td>Chrusch.</td>\n",
              "      <td>1,857 €</td>\n",
              "      <td>78,000  €</td>\n",
              "    </tr>\n",
              "    <tr>\n",
              "      <th>5</th>\n",
              "      <td>Plašs, gaišs dzīvoklis ar elegantu plānojumu. ...</td>\n",
              "      <td>https://ss.com/msg/en/real-estate/flats/riga/c...</td>\n",
              "      <td>Skolas 30</td>\n",
              "      <td>4</td>\n",
              "      <td>115</td>\n",
              "      <td>3/5</td>\n",
              "      <td>Pre-war house</td>\n",
              "      <td>2,000 €</td>\n",
              "      <td>230,000  €</td>\n",
              "    </tr>\n",
              "    <tr>\n",
              "      <th>6</th>\n",
              "      <td>Labākais šāda veida piedāvājums centrā. \\r\\nKl...</td>\n",
              "      <td>https://ss.com/msg/en/real-estate/flats/riga/c...</td>\n",
              "      <td>Blaumana 21</td>\n",
              "      <td>6</td>\n",
              "      <td>166</td>\n",
              "      <td>3/5</td>\n",
              "      <td>Pre-war house</td>\n",
              "      <td>1,627 €</td>\n",
              "      <td>270,000  €</td>\n",
              "    </tr>\n",
              "    <tr>\n",
              "      <th>7</th>\n",
              "      <td>Pārdod 3 istabu dzīvokli projektā “Olive”. Zaļ...</td>\n",
              "      <td>https://ss.com/msg/en/real-estate/flats/riga/c...</td>\n",
              "      <td>Asara 9</td>\n",
              "      <td>3</td>\n",
              "      <td>109</td>\n",
              "      <td>4/6</td>\n",
              "      <td>New</td>\n",
              "      <td>2,200 €</td>\n",
              "      <td>239,800  €</td>\n",
              "    </tr>\n",
              "    <tr>\n",
              "      <th>8</th>\n",
              "      <td>Mēbelēts dzīvoklis ar divām istabām, kur viena...</td>\n",
              "      <td>https://ss.com/msg/en/real-estate/flats/riga/c...</td>\n",
              "      <td>Barona 140a</td>\n",
              "      <td>2</td>\n",
              "      <td>27</td>\n",
              "      <td>2/2</td>\n",
              "      <td>Pre-war house</td>\n",
              "      <td>1,000 €</td>\n",
              "      <td>27,000  €</td>\n",
              "    </tr>\n",
              "  </tbody>\n",
              "</table>\n",
              "</div>"
            ],
            "text/plain": [
              "                                         description  \\\n",
              "0  Īpašnieks pārdod mājīgu, saulainu un romantisk...   \n",
              "1  Tiek pārdots dzīvoklis, ar privātmājas sajūtu ...   \n",
              "2  Māja pēc pilnas rekonstrukcijas. Daļu no mājas...   \n",
              "3  Pārdodu saulainu dzīvokli jaunā projekta ēkā K...   \n",
              "4  Īpašnieks pārdod dzīvokli, blakus Vef tilts, ļ...   \n",
              "5  Plašs, gaišs dzīvoklis ar elegantu plānojumu. ...   \n",
              "6  Labākais šāda veida piedāvājums centrā. \\r\\nKl...   \n",
              "7  Pārdod 3 istabu dzīvokli projektā “Olive”. Zaļ...   \n",
              "8  Mēbelēts dzīvoklis ar divām istabām, kur viena...   \n",
              "\n",
              "                                                 url             Street R.  \\\n",
              "0  https://ss.com/msg/en/real-estate/flats/riga/c...           Sporta 7  2   \n",
              "1  https://ss.com/msg/en/real-estate/flats/riga/c...          Chaka 62b  3   \n",
              "2  https://ss.com/msg/en/real-estate/flats/riga/c...  Pulkv. Briezha 13  3   \n",
              "3  https://ss.com/msg/en/real-estate/flats/riga/c...         Klijanu 2A  1   \n",
              "4  https://ss.com/msg/en/real-estate/flats/riga/c...       Brivibas 181  2   \n",
              "5  https://ss.com/msg/en/real-estate/flats/riga/c...          Skolas 30  4   \n",
              "6  https://ss.com/msg/en/real-estate/flats/riga/c...        Blaumana 21  6   \n",
              "7  https://ss.com/msg/en/real-estate/flats/riga/c...            Asara 9  3   \n",
              "8  https://ss.com/msg/en/real-estate/flats/riga/c...        Barona 140a  2   \n",
              "\n",
              "    m2 Floor         Series Price, m2       Price  \n",
              "0   51   1/4  Pre-war house   2,353 €  120,000  €  \n",
              "1   53   1/2  Pre-war house   1,226 €   65,000  €  \n",
              "2   69   6/7         Recon.   2,884 €  199,000  €  \n",
              "3   40   6/9         Recon.     950 €   38,000  €  \n",
              "4   42   2/5       Chrusch.   1,857 €   78,000  €  \n",
              "5  115   3/5  Pre-war house   2,000 €  230,000  €  \n",
              "6  166   3/5  Pre-war house   1,627 €  270,000  €  \n",
              "7  109   4/6            New   2,200 €  239,800  €  \n",
              "8   27   2/2  Pre-war house   1,000 €   27,000  €  "
            ]
          },
          "execution_count": 79,
          "metadata": {},
          "output_type": "execute_result"
        }
      ],
      "source": [
        "dlast"
      ]
    },
    {
      "cell_type": "code",
      "execution_count": 80,
      "metadata": {
        "id": "8Opc2yqlYKYe"
      },
      "outputs": [],
      "source": [
        "def get_all_ads_df(start_url, save_excel_path=None):\n",
        "    \"\"\"Get a dataframe of all ads from a given url\n",
        "    start_url is a string representing a url of a page on ss.com where we start\n",
        "    save_excel_path is a string representing a path to save the excel file\n",
        "    \"\"\"\n",
        "    df_list=[] # so we will save our dataframes in a list\n",
        "    local_urls = getAllLocalUrls(start_url)\n",
        "    for url in local_urls:\n",
        "        print(f\"Gathering data from {url}\")\n",
        "        df_list.append(getDFfromURL(url))\n",
        "        time.sleep(0.3) # we need this to play nice! we want a little bit of delay (300ms here) to not overload the server\n",
        "    # https://pandas.pydata.org/pandas-docs/stable/reference/api/pandas.concat.html\n",
        "    big_df = pd.concat(df_list) # then make a big dataframe from all the small dataframes - tables\n",
        "    if save_excel_path:\n",
        "        big_df.to_excel(save_excel_path)\n",
        "    return big_df\n",
        "    "
      ]
    },
    {
      "cell_type": "code",
      "execution_count": 81,
      "metadata": {
        "colab": {
          "base_uri": "https://localhost:8080/",
          "height": 35
        },
        "id": "TbmYEd6ZYKYe",
        "outputId": "0c87b4c6-4f62-4fac-c115-d46d08539a02"
      },
      "outputs": [
        {
          "data": {
            "text/plain": [
              "'https://www.ss.com/en/real-estate/flats/riga/centre/sell/'"
            ]
          },
          "execution_count": 81,
          "metadata": {},
          "output_type": "execute_result"
        }
      ],
      "source": [
        "centrs"
      ]
    },
    {
      "cell_type": "code",
      "execution_count": 82,
      "metadata": {
        "colab": {
          "base_uri": "https://localhost:8080/"
        },
        "id": "7nlcc_kBYKYe",
        "outputId": "5910481e-824d-4edd-eb28-4460c733e9e1"
      },
      "outputs": [
        {
          "name": "stdout",
          "output_type": "stream",
          "text": [
            "Last page is 26\n",
            "Gathering data from https://www.ss.com/en/real-estate/flats/riga/centre/sell/\n",
            "Gathering data from https://www.ss.com/en/real-estate/flats/riga/centre/sell/page2.html\n",
            "Gathering data from https://www.ss.com/en/real-estate/flats/riga/centre/sell/page3.html\n",
            "Gathering data from https://www.ss.com/en/real-estate/flats/riga/centre/sell/page4.html\n",
            "Gathering data from https://www.ss.com/en/real-estate/flats/riga/centre/sell/page5.html\n",
            "Gathering data from https://www.ss.com/en/real-estate/flats/riga/centre/sell/page6.html\n",
            "Gathering data from https://www.ss.com/en/real-estate/flats/riga/centre/sell/page7.html\n",
            "Gathering data from https://www.ss.com/en/real-estate/flats/riga/centre/sell/page8.html\n",
            "Gathering data from https://www.ss.com/en/real-estate/flats/riga/centre/sell/page9.html\n",
            "Gathering data from https://www.ss.com/en/real-estate/flats/riga/centre/sell/page10.html\n",
            "Gathering data from https://www.ss.com/en/real-estate/flats/riga/centre/sell/page11.html\n",
            "Gathering data from https://www.ss.com/en/real-estate/flats/riga/centre/sell/page12.html\n",
            "Gathering data from https://www.ss.com/en/real-estate/flats/riga/centre/sell/page13.html\n",
            "Gathering data from https://www.ss.com/en/real-estate/flats/riga/centre/sell/page14.html\n",
            "Gathering data from https://www.ss.com/en/real-estate/flats/riga/centre/sell/page15.html\n",
            "Gathering data from https://www.ss.com/en/real-estate/flats/riga/centre/sell/page16.html\n",
            "Gathering data from https://www.ss.com/en/real-estate/flats/riga/centre/sell/page17.html\n",
            "Gathering data from https://www.ss.com/en/real-estate/flats/riga/centre/sell/page18.html\n",
            "Gathering data from https://www.ss.com/en/real-estate/flats/riga/centre/sell/page19.html\n",
            "Gathering data from https://www.ss.com/en/real-estate/flats/riga/centre/sell/page20.html\n",
            "Gathering data from https://www.ss.com/en/real-estate/flats/riga/centre/sell/page21.html\n",
            "Gathering data from https://www.ss.com/en/real-estate/flats/riga/centre/sell/page22.html\n",
            "Gathering data from https://www.ss.com/en/real-estate/flats/riga/centre/sell/page23.html\n",
            "Gathering data from https://www.ss.com/en/real-estate/flats/riga/centre/sell/page24.html\n",
            "Gathering data from https://www.ss.com/en/real-estate/flats/riga/centre/sell/page25.html\n",
            "Gathering data from https://www.ss.com/en/real-estate/flats/riga/centre/sell/page26.html\n"
          ]
        }
      ],
      "source": [
        "df = get_all_ads_df(centrs, \"centrs_30_11_2022.xlsx\")"
      ]
    },
    {
      "cell_type": "code",
      "execution_count": 83,
      "metadata": {
        "colab": {
          "base_uri": "https://localhost:8080/"
        },
        "id": "LS4bZ8muYKYe",
        "outputId": "37f31659-31ff-4f0f-b8f8-4183f068cfe1"
      },
      "outputs": [
        {
          "data": {
            "text/plain": [
              "(759, 9)"
            ]
          },
          "execution_count": 83,
          "metadata": {},
          "output_type": "execute_result"
        }
      ],
      "source": [
        "df.shape"
      ]
    },
    {
      "cell_type": "code",
      "execution_count": 84,
      "metadata": {
        "colab": {
          "base_uri": "https://localhost:8080/",
          "height": 310
        },
        "id": "4qfiJIE6YKYe",
        "outputId": "8cd0f230-2925-4d59-f63b-6dfdeb27a076"
      },
      "outputs": [
        {
          "data": {
            "text/html": [
              "<div>\n",
              "<style scoped>\n",
              "    .dataframe tbody tr th:only-of-type {\n",
              "        vertical-align: middle;\n",
              "    }\n",
              "\n",
              "    .dataframe tbody tr th {\n",
              "        vertical-align: top;\n",
              "    }\n",
              "\n",
              "    .dataframe thead th {\n",
              "        text-align: right;\n",
              "    }\n",
              "</style>\n",
              "<table border=\"1\" class=\"dataframe\">\n",
              "  <thead>\n",
              "    <tr style=\"text-align: right;\">\n",
              "      <th></th>\n",
              "      <th>description</th>\n",
              "      <th>url</th>\n",
              "      <th>Street</th>\n",
              "      <th>R.</th>\n",
              "      <th>m2</th>\n",
              "      <th>Floor</th>\n",
              "      <th>Series</th>\n",
              "      <th>Price, m2</th>\n",
              "      <th>Price</th>\n",
              "    </tr>\n",
              "  </thead>\n",
              "  <tbody>\n",
              "    <tr>\n",
              "      <th>0</th>\n",
              "      <td>Īpašnieks pārdod mūra-koka mājā vienistabas dz...</td>\n",
              "      <td>https://ss.com/msg/en/real-estate/flats/riga/c...</td>\n",
              "      <td>Petersalas 17</td>\n",
              "      <td>2</td>\n",
              "      <td>30</td>\n",
              "      <td>2/2</td>\n",
              "      <td>Spec. pr.</td>\n",
              "      <td>622 €</td>\n",
              "      <td>18,650  €</td>\n",
              "    </tr>\n",
              "    <tr>\n",
              "      <th>1</th>\n",
              "      <td>Lieliska iespēja iegādāties šo 2 istabu dzīvok...</td>\n",
              "      <td>https://ss.com/msg/en/real-estate/flats/riga/c...</td>\n",
              "      <td>Artilerijas 19</td>\n",
              "      <td>2</td>\n",
              "      <td>41</td>\n",
              "      <td>4/5</td>\n",
              "      <td>Pre-war house</td>\n",
              "      <td>1,927 €</td>\n",
              "      <td>79,000  €</td>\n",
              "    </tr>\n",
              "    <tr>\n",
              "      <th>2</th>\n",
              "      <td>Pārdod vienistabas dzīvokli ar lielisku plānoj...</td>\n",
              "      <td>https://ss.com/msg/en/real-estate/flats/riga/c...</td>\n",
              "      <td>Aluksnes 1</td>\n",
              "      <td>1</td>\n",
              "      <td>31</td>\n",
              "      <td>1/5</td>\n",
              "      <td>Recon.</td>\n",
              "      <td>2,255 €</td>\n",
              "      <td>69,900  €</td>\n",
              "    </tr>\n",
              "    <tr>\n",
              "      <th>3</th>\n",
              "      <td>Реновированный дом. Все удобства. Ремонт. Бесп...</td>\n",
              "      <td>https://ss.com/msg/en/real-estate/flats/riga/c...</td>\n",
              "      <td>Merkela 7</td>\n",
              "      <td>1</td>\n",
              "      <td>12</td>\n",
              "      <td>1/6</td>\n",
              "      <td>Pre-war house</td>\n",
              "      <td>898 €</td>\n",
              "      <td>10,777  €</td>\n",
              "    </tr>\n",
              "    <tr>\n",
              "      <th>4</th>\n",
              "      <td>Двухкомнатная квартира с парковочным местом во...</td>\n",
              "      <td>https://ss.com/msg/en/real-estate/flats/riga/c...</td>\n",
              "      <td>Valdemara 81</td>\n",
              "      <td>2</td>\n",
              "      <td>48</td>\n",
              "      <td>2/5</td>\n",
              "      <td>Pre-war house</td>\n",
              "      <td>1,927 €</td>\n",
              "      <td>92,500  €</td>\n",
              "    </tr>\n",
              "  </tbody>\n",
              "</table>\n",
              "</div>"
            ],
            "text/plain": [
              "                                         description  \\\n",
              "0  Īpašnieks pārdod mūra-koka mājā vienistabas dz...   \n",
              "1  Lieliska iespēja iegādāties šo 2 istabu dzīvok...   \n",
              "2  Pārdod vienistabas dzīvokli ar lielisku plānoj...   \n",
              "3  Реновированный дом. Все удобства. Ремонт. Бесп...   \n",
              "4  Двухкомнатная квартира с парковочным местом во...   \n",
              "\n",
              "                                                 url          Street R.  m2  \\\n",
              "0  https://ss.com/msg/en/real-estate/flats/riga/c...   Petersalas 17  2  30   \n",
              "1  https://ss.com/msg/en/real-estate/flats/riga/c...  Artilerijas 19  2  41   \n",
              "2  https://ss.com/msg/en/real-estate/flats/riga/c...      Aluksnes 1  1  31   \n",
              "3  https://ss.com/msg/en/real-estate/flats/riga/c...       Merkela 7  1  12   \n",
              "4  https://ss.com/msg/en/real-estate/flats/riga/c...    Valdemara 81  2  48   \n",
              "\n",
              "  Floor         Series Price, m2      Price  \n",
              "0   2/2      Spec. pr.     622 €  18,650  €  \n",
              "1   4/5  Pre-war house   1,927 €  79,000  €  \n",
              "2   1/5         Recon.   2,255 €  69,900  €  \n",
              "3   1/6  Pre-war house     898 €  10,777  €  \n",
              "4   2/5  Pre-war house   1,927 €  92,500  €  "
            ]
          },
          "execution_count": 84,
          "metadata": {},
          "output_type": "execute_result"
        }
      ],
      "source": [
        "df.head()"
      ]
    },
    {
      "cell_type": "code",
      "execution_count": null,
      "metadata": {},
      "outputs": [],
      "source": [
        "# so the steps of the process are:\n",
        "# 1. get the list of urls for all pages\n",
        "# 2. get the data from each page\n",
        "# 3. combine the data into one dataframe\n",
        "# 4. save the dataframe to excel for further analysis"
      ]
    },
    {
      "cell_type": "code",
      "execution_count": null,
      "metadata": {},
      "outputs": [],
      "source": [
        "# what is the limitation of BeautifulSoup?\n",
        "# it is not a browser, it does not execute javascript!\n",
        "# modern web pages are not just html, they are html + css + javascript quite often\n",
        "# often the page is not fully loaded until javascript is executed\n",
        "# that is where Selenium comes in\n",
        "# Selenium is a browser automation tool\n",
        "# this means you can use it to automate the browser\n",
        "# that is more powerful than BeautifulSoup but slower"
      ]
    },
    {
      "cell_type": "code",
      "execution_count": 107,
      "metadata": {
        "colab": {
          "base_uri": "https://localhost:8080/",
          "height": 310
        },
        "id": "acis0HI8YKYe",
        "outputId": "a61cac7e-1ae8-4129-814a-67d0c5ccd011"
      },
      "outputs": [
        {
          "data": {
            "text/html": [
              "<div>\n",
              "<style scoped>\n",
              "    .dataframe tbody tr th:only-of-type {\n",
              "        vertical-align: middle;\n",
              "    }\n",
              "\n",
              "    .dataframe tbody tr th {\n",
              "        vertical-align: top;\n",
              "    }\n",
              "\n",
              "    .dataframe thead th {\n",
              "        text-align: right;\n",
              "    }\n",
              "</style>\n",
              "<table border=\"1\" class=\"dataframe\">\n",
              "  <thead>\n",
              "    <tr style=\"text-align: right;\">\n",
              "      <th></th>\n",
              "      <th>description</th>\n",
              "      <th>url</th>\n",
              "      <th>Street</th>\n",
              "      <th>R.</th>\n",
              "      <th>m2</th>\n",
              "      <th>Floor</th>\n",
              "      <th>Series</th>\n",
              "      <th>Price, m2</th>\n",
              "      <th>Price</th>\n",
              "    </tr>\n",
              "  </thead>\n",
              "  <tbody>\n",
              "    <tr>\n",
              "      <th>3</th>\n",
              "      <td>Сдаётся однокомнатная квартира со всеми удобст...</td>\n",
              "      <td>https://ss.com/msg/en/real-estate/flats/riga/c...</td>\n",
              "      <td>Artilerijas 44</td>\n",
              "      <td>1</td>\n",
              "      <td>34</td>\n",
              "      <td>2/5</td>\n",
              "      <td>Pre-war house</td>\n",
              "      <td>6.18 €</td>\n",
              "      <td>210  €/mon.</td>\n",
              "    </tr>\n",
              "    <tr>\n",
              "      <th>4</th>\n",
              "      <td>Izīrē jaunajā projektā komfortablu, kompaktu u...</td>\n",
              "      <td>https://ss.com/msg/en/real-estate/flats/riga/c...</td>\n",
              "      <td>Matisa 46</td>\n",
              "      <td>1</td>\n",
              "      <td>18</td>\n",
              "      <td>5/5</td>\n",
              "      <td>New</td>\n",
              "      <td>1.39 €</td>\n",
              "      <td>25  €/day</td>\n",
              "    </tr>\n",
              "    <tr>\n",
              "      <th>5</th>\n",
              "      <td>Izīrē īstermiņā, Vecrīga - ideāla atrašanās vi...</td>\n",
              "      <td>https://ss.com/msg/en/real-estate/flats/riga/c...</td>\n",
              "      <td>Tirgonu 17</td>\n",
              "      <td>2</td>\n",
              "      <td>67</td>\n",
              "      <td>4/5</td>\n",
              "      <td>Pre-war house</td>\n",
              "      <td>0.746 €</td>\n",
              "      <td>50  €/day</td>\n",
              "    </tr>\n",
              "    <tr>\n",
              "      <th>6</th>\n",
              "      <td>Rīgas centrs - ideāla atrašanās vieta, moderns...</td>\n",
              "      <td>https://ss.com/msg/en/real-estate/flats/riga/c...</td>\n",
              "      <td>Barona 24/26</td>\n",
              "      <td>2</td>\n",
              "      <td>46</td>\n",
              "      <td>6/6</td>\n",
              "      <td>Recon.</td>\n",
              "      <td>0.978 €</td>\n",
              "      <td>45  €/day</td>\n",
              "    </tr>\n",
              "    <tr>\n",
              "      <th>7</th>\n",
              "      <td>Istaba īsire. ilgtermiņā. virtuve, tualete un ...</td>\n",
              "      <td>https://ss.com/msg/en/real-estate/flats/riga/c...</td>\n",
              "      <td>Chaka 32</td>\n",
              "      <td>1</td>\n",
              "      <td>15</td>\n",
              "      <td>6/6</td>\n",
              "      <td>Pre-war house</td>\n",
              "      <td>1.33 €</td>\n",
              "      <td>20  €/day</td>\n",
              "    </tr>\n",
              "  </tbody>\n",
              "</table>\n",
              "</div>"
            ],
            "text/plain": [
              "                                         description  ...        Price\n",
              "3  Сдаётся однокомнатная квартира со всеми удобст...  ...  210  €/mon.\n",
              "4  Izīrē jaunajā projektā komfortablu, kompaktu u...  ...    25  €/day\n",
              "5  Izīrē īstermiņā, Vecrīga - ideāla atrašanās vi...  ...    50  €/day\n",
              "6  Rīgas centrs - ideāla atrašanās vieta, moderns...  ...    45  €/day\n",
              "7  Istaba īsire. ilgtermiņā. virtuve, tualete un ...  ...    20  €/day\n",
              "\n",
              "[5 rows x 9 columns]"
            ]
          },
          "execution_count": 107,
          "metadata": {},
          "output_type": "execute_result"
        }
      ],
      "source": [
        "df.tail()"
      ]
    },
    {
      "cell_type": "code",
      "execution_count": 87,
      "metadata": {
        "colab": {
          "base_uri": "https://localhost:8080/"
        },
        "id": "c5ssPKW4YKYe",
        "outputId": "15bf806d-540a-42f4-d566-0a253e409361"
      },
      "outputs": [
        {
          "data": {
            "text/plain": [
              "(608, 9)"
            ]
          },
          "execution_count": 87,
          "metadata": {},
          "output_type": "execute_result"
        }
      ],
      "source": [
        "df.shape"
      ]
    },
    {
      "cell_type": "code",
      "execution_count": 108,
      "metadata": {
        "colab": {
          "base_uri": "https://localhost:8080/",
          "height": 310
        },
        "id": "sZpR4prQYKYf",
        "outputId": "8c91d864-b0e9-40c9-e857-c04a78bee38e"
      },
      "outputs": [
        {
          "data": {
            "text/html": [
              "<div>\n",
              "<style scoped>\n",
              "    .dataframe tbody tr th:only-of-type {\n",
              "        vertical-align: middle;\n",
              "    }\n",
              "\n",
              "    .dataframe tbody tr th {\n",
              "        vertical-align: top;\n",
              "    }\n",
              "\n",
              "    .dataframe thead th {\n",
              "        text-align: right;\n",
              "    }\n",
              "</style>\n",
              "<table border=\"1\" class=\"dataframe\">\n",
              "  <thead>\n",
              "    <tr style=\"text-align: right;\">\n",
              "      <th></th>\n",
              "      <th>description</th>\n",
              "      <th>url</th>\n",
              "      <th>Street</th>\n",
              "      <th>R.</th>\n",
              "      <th>m2</th>\n",
              "      <th>Floor</th>\n",
              "      <th>Series</th>\n",
              "      <th>Price, m2</th>\n",
              "      <th>Price</th>\n",
              "      <th>CurFloor</th>\n",
              "      <th>MaxFloor</th>\n",
              "    </tr>\n",
              "  </thead>\n",
              "  <tbody>\n",
              "    <tr>\n",
              "      <th>0</th>\n",
              "      <td>Izīrē 2-istabu dzīvokli ilgtermiņa īrei Rīgas ...</td>\n",
              "      <td>https://ss.com/msg/en/real-estate/flats/riga/c...</td>\n",
              "      <td>Alunana 6</td>\n",
              "      <td>2</td>\n",
              "      <td>50</td>\n",
              "      <td>2/4</td>\n",
              "      <td>Pre-war house</td>\n",
              "      <td>8.60 €</td>\n",
              "      <td>430  €/mon.</td>\n",
              "      <td>2</td>\n",
              "      <td>4</td>\n",
              "    </tr>\n",
              "    <tr>\n",
              "      <th>1</th>\n",
              "      <td>Izīrējam ļoti mājīgu un plašu 90 m2 3-istabu d...</td>\n",
              "      <td>https://ss.com/msg/en/real-estate/flats/riga/c...</td>\n",
              "      <td>Ozolu 2</td>\n",
              "      <td>3</td>\n",
              "      <td>90</td>\n",
              "      <td>1/1</td>\n",
              "      <td>Priv.house</td>\n",
              "      <td>4.22 €</td>\n",
              "      <td>380  €/mon.</td>\n",
              "      <td>1</td>\n",
              "      <td>1</td>\n",
              "    </tr>\n",
              "    <tr>\n",
              "      <th>2</th>\n",
              "      <td>Izīrējam dzīvokli, klusais centrs Vēstniecību ...</td>\n",
              "      <td>https://ss.com/msg/en/real-estate/flats/riga/c...</td>\n",
              "      <td>Dzirnavu 6</td>\n",
              "      <td>3</td>\n",
              "      <td>60</td>\n",
              "      <td>2/5</td>\n",
              "      <td>Recon.</td>\n",
              "      <td>11.67 €</td>\n",
              "      <td>700  €/mon.</td>\n",
              "      <td>2</td>\n",
              "      <td>5</td>\n",
              "    </tr>\n",
              "    <tr>\n",
              "      <th>3</th>\n",
              "      <td>Fasādes māja, bezmaksas stāvvieta pagalmā. \\r\\...</td>\n",
              "      <td>https://ss.com/msg/en/real-estate/flats/riga/c...</td>\n",
              "      <td>Pernavas 11</td>\n",
              "      <td>2</td>\n",
              "      <td>65</td>\n",
              "      <td>6/7</td>\n",
              "      <td>Pre-war house</td>\n",
              "      <td>4.92 €</td>\n",
              "      <td>320  €/mon.</td>\n",
              "      <td>6</td>\n",
              "      <td>7</td>\n",
              "    </tr>\n",
              "    <tr>\n",
              "      <th>4</th>\n",
              "      <td>Izīrēju skaistu dzīvokli jaunā projekta ēkā. V...</td>\n",
              "      <td>https://ss.com/msg/en/real-estate/flats/riga/c...</td>\n",
              "      <td>Klusa 18</td>\n",
              "      <td>1</td>\n",
              "      <td>25</td>\n",
              "      <td>9/9</td>\n",
              "      <td>Recon.</td>\n",
              "      <td>1 €</td>\n",
              "      <td>25  €/day</td>\n",
              "      <td>9</td>\n",
              "      <td>9</td>\n",
              "    </tr>\n",
              "  </tbody>\n",
              "</table>\n",
              "</div>"
            ],
            "text/plain": [
              "                                         description  ... MaxFloor\n",
              "0  Izīrē 2-istabu dzīvokli ilgtermiņa īrei Rīgas ...  ...        4\n",
              "1  Izīrējam ļoti mājīgu un plašu 90 m2 3-istabu d...  ...        1\n",
              "2  Izīrējam dzīvokli, klusais centrs Vēstniecību ...  ...        5\n",
              "3  Fasādes māja, bezmaksas stāvvieta pagalmā. \\r\\...  ...        7\n",
              "4  Izīrēju skaistu dzīvokli jaunā projekta ēkā. V...  ...        9\n",
              "\n",
              "[5 rows x 11 columns]"
            ]
          },
          "execution_count": 108,
          "metadata": {},
          "output_type": "execute_result"
        }
      ],
      "source": [
        "#we can do more post processing - feature engineering using existing columns\n",
        "df[['CurFloor','MaxFloor']] = df.Floor.str.split(\"/\",expand=True) \n",
        "df.head()"
      ]
    },
    {
      "cell_type": "code",
      "execution_count": 109,
      "metadata": {
        "colab": {
          "base_uri": "https://localhost:8080/",
          "height": 310
        },
        "id": "f_Q_Bg7-YKYf",
        "outputId": "cc0ac4de-903f-4d90-d194-bd50c5578600"
      },
      "outputs": [
        {
          "data": {
            "text/html": [
              "<div>\n",
              "<style scoped>\n",
              "    .dataframe tbody tr th:only-of-type {\n",
              "        vertical-align: middle;\n",
              "    }\n",
              "\n",
              "    .dataframe tbody tr th {\n",
              "        vertical-align: top;\n",
              "    }\n",
              "\n",
              "    .dataframe thead th {\n",
              "        text-align: right;\n",
              "    }\n",
              "</style>\n",
              "<table border=\"1\" class=\"dataframe\">\n",
              "  <thead>\n",
              "    <tr style=\"text-align: right;\">\n",
              "      <th></th>\n",
              "      <th>description</th>\n",
              "      <th>url</th>\n",
              "      <th>Street</th>\n",
              "      <th>R.</th>\n",
              "      <th>m2</th>\n",
              "      <th>Floor</th>\n",
              "      <th>Series</th>\n",
              "      <th>Price, m2</th>\n",
              "      <th>Price</th>\n",
              "      <th>CurFloor</th>\n",
              "      <th>MaxFloor</th>\n",
              "    </tr>\n",
              "  </thead>\n",
              "  <tbody>\n",
              "    <tr>\n",
              "      <th>4</th>\n",
              "      <td>Izīrēju skaistu dzīvokli jaunā projekta ēkā. V...</td>\n",
              "      <td>https://ss.com/msg/en/real-estate/flats/riga/c...</td>\n",
              "      <td>Klusa 18</td>\n",
              "      <td>1</td>\n",
              "      <td>25</td>\n",
              "      <td>9/9</td>\n",
              "      <td>Recon.</td>\n",
              "      <td>1 €</td>\n",
              "      <td>25  €/day</td>\n",
              "      <td>9</td>\n",
              "      <td>9</td>\n",
              "    </tr>\n",
              "    <tr>\n",
              "      <th>21</th>\n",
              "      <td>For rent 2-bedroom apartment in a new building...</td>\n",
              "      <td>https://ss.com/msg/en/real-estate/flats/riga/c...</td>\n",
              "      <td>Grostonas 21</td>\n",
              "      <td>3</td>\n",
              "      <td>87</td>\n",
              "      <td>7/9</td>\n",
              "      <td>New</td>\n",
              "      <td>11.49 €</td>\n",
              "      <td>1,000  €/mon.</td>\n",
              "      <td>7</td>\n",
              "      <td>9</td>\n",
              "    </tr>\n",
              "    <tr>\n",
              "      <th>29</th>\n",
              "      <td>Пентхаус с террасой и видом на город. \\r\\nKрас...</td>\n",
              "      <td>https://ss.com/msg/en/real-estate/flats/riga/c...</td>\n",
              "      <td>Pulkv. Briezha 21</td>\n",
              "      <td>5</td>\n",
              "      <td>265</td>\n",
              "      <td>7/7</td>\n",
              "      <td>New</td>\n",
              "      <td>11.32 €</td>\n",
              "      <td>3,000  €/mon.</td>\n",
              "      <td>7</td>\n",
              "      <td>7</td>\n",
              "    </tr>\n",
              "    <tr>\n",
              "      <th>1</th>\n",
              "      <td>Мансарда. Центр. Своё отопление. \\r\\nКрасиво, ...</td>\n",
              "      <td>https://ss.com/msg/en/real-estate/flats/riga/c...</td>\n",
              "      <td>Chaka 33</td>\n",
              "      <td>3</td>\n",
              "      <td>100</td>\n",
              "      <td>7/7</td>\n",
              "      <td>Pre-war house</td>\n",
              "      <td>9 €</td>\n",
              "      <td>900  €/mon.</td>\n",
              "      <td>7</td>\n",
              "      <td>7</td>\n",
              "    </tr>\n",
              "    <tr>\n",
              "      <th>20</th>\n",
              "      <td>Izīrējam dzīvokli Rīgas pilsētas centrā - \"Upī...</td>\n",
              "      <td>https://ss.com/msg/en/real-estate/flats/riga/c...</td>\n",
              "      <td>Marijas 16</td>\n",
              "      <td>2</td>\n",
              "      <td>47</td>\n",
              "      <td>7/7</td>\n",
              "      <td>Recon.</td>\n",
              "      <td>11.70 €</td>\n",
              "      <td>550  €/mon.</td>\n",
              "      <td>7</td>\n",
              "      <td>7</td>\n",
              "    </tr>\n",
              "  </tbody>\n",
              "</table>\n",
              "</div>"
            ],
            "text/plain": [
              "                                          description  ... MaxFloor\n",
              "4   Izīrēju skaistu dzīvokli jaunā projekta ēkā. V...  ...        9\n",
              "21  For rent 2-bedroom apartment in a new building...  ...        9\n",
              "29  Пентхаус с террасой и видом на город. \\r\\nKрас...  ...        7\n",
              "1   Мансарда. Центр. Своё отопление. \\r\\nКрасиво, ...  ...        7\n",
              "20  Izīrējam dzīvokli Rīgas pilsētas centrā - \"Upī...  ...        7\n",
              "\n",
              "[5 rows x 11 columns]"
            ]
          },
          "execution_count": 109,
          "metadata": {},
          "output_type": "execute_result"
        }
      ],
      "source": [
        "df.sort_values(by=\"Floor\",ascending=False).head()"
      ]
    },
    {
      "cell_type": "code",
      "execution_count": null,
      "metadata": {
        "id": "pzjFjI43YKYf"
      },
      "outputs": [],
      "source": [
        "df.to_excel(\"c:/temp/my_apartments.xlsx\") # i could this with absolute path"
      ]
    },
    {
      "cell_type": "code",
      "execution_count": null,
      "metadata": {
        "id": "w_6yXvHAYKYf"
      },
      "outputs": [],
      "source": [
        "from datetime import datetime as dt\n",
        "now = dt.now()\n",
        "now.month, now.day, now.hour, now.second"
      ]
    },
    {
      "cell_type": "code",
      "execution_count": null,
      "metadata": {
        "id": "AOujogaxYKYf"
      },
      "outputs": [],
      "source": [
        "url = \"https://www.ss.com/lv/real-estate/flats/riga/sarkandaugava/hand_over/\"\n",
        "region = url.split(\"riga/\")[-1].split(\"/\")[0]\n",
        "now = dt.now()\n",
        "save_path = f\"../data/{region}_{now.day}_{now.month}__{now.hour}_{now.second}.xlsx\"\n",
        "save_path"
      ]
    },
    {
      "cell_type": "code",
      "execution_count": null,
      "metadata": {
        "id": "Zp2ezM3CYKYf"
      },
      "outputs": [],
      "source": [
        "url = \"https://www.ss.com/lv/real-estate/flats/riga/sarkandaugava/hand_over/\"\n",
        "region = url.split(\"riga/\")[-1].split(\"/\")[0]\n",
        "now = dt.now()\n",
        "save_path = f\"../data/{region}_{now.day}_{now.month}__{now.hour}_{now.second}.xlsx\"\n",
        "\n",
        "df = get_all_ads_df(url, save_path)"
      ]
    },
    {
      "cell_type": "code",
      "execution_count": null,
      "metadata": {
        "id": "L4Q_pY9jYKYf"
      },
      "outputs": [],
      "source": [
        "url = \"https://www.ss.com/lv/transport/cars/vaz/riga_f/\"\n",
        "df = get_all_ads_df(url, \"../data/vaz_25_11.xlsx\")"
      ]
    },
    {
      "cell_type": "code",
      "execution_count": 110,
      "metadata": {
        "colab": {
          "base_uri": "https://localhost:8080/",
          "height": 35
        },
        "id": "gHdGSYgVsM2f",
        "outputId": "cb1f02bf-75de-4867-8d54-64417c6283a8"
      },
      "outputs": [
        {
          "data": {
            "application/vnd.google.colaboratory.intrinsic+json": {
              "type": "string"
            },
            "text/plain": [
              "'https://www.ss.com/lv/real-estate/flats/riga/sarkandaugava/hand_over/'"
            ]
          },
          "execution_count": 110,
          "metadata": {},
          "output_type": "execute_result"
        }
      ],
      "source": [
        "sarkandaugava_url = \"https://www.ss.com/lv/real-estate/flats/riga/sarkandaugava/hand_over/\"\n",
        "sarkandaugava_url"
      ]
    },
    {
      "cell_type": "code",
      "execution_count": 111,
      "metadata": {
        "colab": {
          "base_uri": "https://localhost:8080/",
          "height": 1000
        },
        "id": "x1joYPZysVOk",
        "outputId": "e33dd650-f347-422f-fe61-41b1c372ffc5"
      },
      "outputs": [
        {
          "name": "stdout",
          "output_type": "stream",
          "text": [
            "Last page is 2\n",
            "Gathering data from https://www.ss.com/lv/real-estate/flats/riga/sarkandaugava/hand_over/\n",
            "Gathering data from https://www.ss.com/lv/real-estate/flats/riga/sarkandaugava/hand_over/page2.html\n"
          ]
        },
        {
          "data": {
            "text/html": [
              "<div>\n",
              "<style scoped>\n",
              "    .dataframe tbody tr th:only-of-type {\n",
              "        vertical-align: middle;\n",
              "    }\n",
              "\n",
              "    .dataframe tbody tr th {\n",
              "        vertical-align: top;\n",
              "    }\n",
              "\n",
              "    .dataframe thead th {\n",
              "        text-align: right;\n",
              "    }\n",
              "</style>\n",
              "<table border=\"1\" class=\"dataframe\">\n",
              "  <thead>\n",
              "    <tr style=\"text-align: right;\">\n",
              "      <th></th>\n",
              "      <th>description</th>\n",
              "      <th>url</th>\n",
              "      <th>Iela</th>\n",
              "      <th>Ist.</th>\n",
              "      <th>m2</th>\n",
              "      <th>Stāvs</th>\n",
              "      <th>Sērija</th>\n",
              "      <th>Cena, m2</th>\n",
              "      <th>Cena</th>\n",
              "    </tr>\n",
              "  </thead>\n",
              "  <tbody>\n",
              "    <tr>\n",
              "      <th>0</th>\n",
              "      <td>Saimniece izīrē divistaba dzīvokli ar malkas a...</td>\n",
              "      <td>https://ss.com/msg/lv/real-estate/flats/riga/s...</td>\n",
              "      <td>Ziemeļu 17</td>\n",
              "      <td>2</td>\n",
              "      <td>50</td>\n",
              "      <td>4/4</td>\n",
              "      <td>P. kara</td>\n",
              "      <td>4.80 €</td>\n",
              "      <td>240  €/mēn.</td>\n",
              "    </tr>\n",
              "    <tr>\n",
              "      <th>1</th>\n",
              "      <td>Сдается однокомнатная квартира со всеми удобст...</td>\n",
              "      <td>https://ss.com/msg/lv/real-estate/flats/riga/s...</td>\n",
              "      <td>Tilta 5/1</td>\n",
              "      <td>1</td>\n",
              "      <td>34</td>\n",
              "      <td>5/5</td>\n",
              "      <td>103.</td>\n",
              "      <td>6.47 €</td>\n",
              "      <td>220  €/mēn.</td>\n",
              "    </tr>\n",
              "    <tr>\n",
              "      <th>2</th>\n",
              "      <td>Квартира в сталинском доме, высокий первый эта...</td>\n",
              "      <td>https://ss.com/msg/lv/real-estate/flats/riga/s...</td>\n",
              "      <td>Sarkandaugavas 3</td>\n",
              "      <td>2</td>\n",
              "      <td>44</td>\n",
              "      <td>1/5</td>\n",
              "      <td>Staļina</td>\n",
              "      <td>6.82 €</td>\n",
              "      <td>300  €/mēn.</td>\n",
              "    </tr>\n",
              "    <tr>\n",
              "      <th>3</th>\n",
              "      <td>Izīrē dzīvokli ar visām ērtībām, tehniku, dīvā...</td>\n",
              "      <td>https://ss.com/msg/lv/real-estate/flats/riga/s...</td>\n",
              "      <td>Sarkandaugavas 26</td>\n",
              "      <td>2</td>\n",
              "      <td>43</td>\n",
              "      <td>5/5</td>\n",
              "      <td>Hrušč.</td>\n",
              "      <td>5.81 €</td>\n",
              "      <td>250  €/mēn.</td>\n",
              "    </tr>\n",
              "    <tr>\n",
              "      <th>4</th>\n",
              "      <td>Izīrē ērtu dzīvokli ar remontu un mēbelēm. Krā...</td>\n",
              "      <td>https://ss.com/msg/lv/real-estate/flats/riga/s...</td>\n",
              "      <td>Priežu 14a</td>\n",
              "      <td>1</td>\n",
              "      <td>27</td>\n",
              "      <td>2/3</td>\n",
              "      <td>P. kara</td>\n",
              "      <td>5.93 €</td>\n",
              "      <td>160  €/mēn.</td>\n",
              "    </tr>\n",
              "    <tr>\n",
              "      <th>5</th>\n",
              "      <td>Владелец сдаёт мебелированную, со всеми удобст...</td>\n",
              "      <td>https://ss.com/msg/lv/real-estate/flats/riga/s...</td>\n",
              "      <td>Viestura pr. 35</td>\n",
              "      <td>2</td>\n",
              "      <td>47</td>\n",
              "      <td>5/9</td>\n",
              "      <td>Specpr.</td>\n",
              "      <td>5.96 €</td>\n",
              "      <td>280  €/mēn.</td>\n",
              "    </tr>\n",
              "    <tr>\n",
              "      <th>6</th>\n",
              "      <td>Tikko pēc kosmētiska remonta. Istabas caurstai...</td>\n",
              "      <td>https://ss.com/msg/lv/real-estate/flats/riga/s...</td>\n",
              "      <td>Patversmes 26</td>\n",
              "      <td>2</td>\n",
              "      <td>41</td>\n",
              "      <td>2/5</td>\n",
              "      <td>Hrušč.</td>\n",
              "      <td>7.80 €</td>\n",
              "      <td>320  €/mēn.</td>\n",
              "    </tr>\n",
              "    <tr>\n",
              "      <th>7</th>\n",
              "      <td>Izīrē 2istabu dzīvokli Sarkandaugavā, Limbažu ...</td>\n",
              "      <td>https://ss.com/msg/lv/real-estate/flats/riga/s...</td>\n",
              "      <td>Limbažu 9</td>\n",
              "      <td>2</td>\n",
              "      <td>40</td>\n",
              "      <td>1/5</td>\n",
              "      <td>Hrušč.</td>\n",
              "      <td>5 €</td>\n",
              "      <td>200  €/mēn.</td>\n",
              "    </tr>\n",
              "    <tr>\n",
              "      <th>8</th>\n",
              "      <td>Izīrēju divistaba dzīvokli ar daļējām ērtībām ...</td>\n",
              "      <td>https://ss.com/msg/lv/real-estate/flats/riga/s...</td>\n",
              "      <td>Ziemeļu 17</td>\n",
              "      <td>2</td>\n",
              "      <td>36</td>\n",
              "      <td>3/4</td>\n",
              "      <td>P. kara</td>\n",
              "      <td>5 €</td>\n",
              "      <td>180  €/mēn.</td>\n",
              "    </tr>\n",
              "    <tr>\n",
              "      <th>9</th>\n",
              "      <td>Uz ilgtermiņa īri pieejams saulains, remontēts...</td>\n",
              "      <td>https://ss.com/msg/lv/real-estate/flats/riga/s...</td>\n",
              "      <td>Duntes 54</td>\n",
              "      <td>2</td>\n",
              "      <td>50</td>\n",
              "      <td>2/3</td>\n",
              "      <td>P. kara</td>\n",
              "      <td>6.60 €</td>\n",
              "      <td>330  €/mēn.</td>\n",
              "    </tr>\n",
              "    <tr>\n",
              "      <th>10</th>\n",
              "      <td>Īpašnieks izīrē uz ilgu laiku pilnībā mēbelēti...</td>\n",
              "      <td>https://ss.com/msg/lv/real-estate/flats/riga/s...</td>\n",
              "      <td>Tilta 11/3</td>\n",
              "      <td>2</td>\n",
              "      <td>44</td>\n",
              "      <td>2/5</td>\n",
              "      <td>LT proj.</td>\n",
              "      <td>6.48 €</td>\n",
              "      <td>285  €/mēn.</td>\n",
              "    </tr>\n",
              "    <tr>\n",
              "      <th>11</th>\n",
              "      <td>Piedāvājam īrei mēbelētu 3 istabu dzīvokli. Vi...</td>\n",
              "      <td>https://ss.com/msg/lv/real-estate/flats/riga/s...</td>\n",
              "      <td>Lāpstu 15</td>\n",
              "      <td>3</td>\n",
              "      <td>65</td>\n",
              "      <td>3/5</td>\n",
              "      <td>103.</td>\n",
              "      <td>4.62 €</td>\n",
              "      <td>300  €/mēn.</td>\n",
              "    </tr>\n",
              "    <tr>\n",
              "      <th>12</th>\n",
              "      <td>Сдается уютная, тёплая квартира, есть всё для ...</td>\n",
              "      <td>https://ss.com/msg/lv/real-estate/flats/riga/s...</td>\n",
              "      <td>Sarkandaugavas 26</td>\n",
              "      <td>1</td>\n",
              "      <td>30</td>\n",
              "      <td>4/5</td>\n",
              "      <td>Hrušč.</td>\n",
              "      <td>7.33 €</td>\n",
              "      <td>220  €/mēn.</td>\n",
              "    </tr>\n",
              "    <tr>\n",
              "      <th>13</th>\n",
              "      <td>Uz ilgterminu</td>\n",
              "      <td>https://ss.com/msg/lv/real-estate/flats/riga/s...</td>\n",
              "      <td>Viestura pr. 25</td>\n",
              "      <td>2</td>\n",
              "      <td>42</td>\n",
              "      <td>2/3</td>\n",
              "      <td>LT proj.</td>\n",
              "      <td>7.14 €</td>\n",
              "      <td>300  €/mēn.</td>\n",
              "    </tr>\n",
              "    <tr>\n",
              "      <th>14</th>\n",
              "      <td>\"Как мило. \"- воскликнете Вы, оказавшись в это...</td>\n",
              "      <td>https://ss.com/msg/lv/real-estate/flats/riga/s...</td>\n",
              "      <td>Sliežu 1</td>\n",
              "      <td>1</td>\n",
              "      <td>21</td>\n",
              "      <td>5/5</td>\n",
              "      <td>Jaun.</td>\n",
              "      <td>10.48 €</td>\n",
              "      <td>220  €/mēn.</td>\n",
              "    </tr>\n",
              "    <tr>\n",
              "      <th>15</th>\n",
              "      <td>Tiek izīrēts divistabu dzīvoklis Sarkandaugava...</td>\n",
              "      <td>https://ss.com/msg/lv/real-estate/flats/riga/s...</td>\n",
              "      <td>Tilta 5</td>\n",
              "      <td>2</td>\n",
              "      <td>34</td>\n",
              "      <td>5/5</td>\n",
              "      <td>103.</td>\n",
              "      <td>8.82 €</td>\n",
              "      <td>300  €/mēn.</td>\n",
              "    </tr>\n",
              "    <tr>\n",
              "      <th>16</th>\n",
              "      <td>Ar decembri izīrējam foršu 1 istabas dzīvokli ...</td>\n",
              "      <td>https://ss.com/msg/lv/real-estate/flats/riga/s...</td>\n",
              "      <td>Viestura pr. 37, k..</td>\n",
              "      <td>1</td>\n",
              "      <td>35</td>\n",
              "      <td>7/9</td>\n",
              "      <td>Specpr.</td>\n",
              "      <td>7.43 €</td>\n",
              "      <td>260  €/mēn.</td>\n",
              "    </tr>\n",
              "    <tr>\n",
              "      <th>17</th>\n",
              "      <td>Īpašnieks izīrē labiekārtotu vienistabas dzīvo...</td>\n",
              "      <td>https://ss.com/msg/lv/real-estate/flats/riga/s...</td>\n",
              "      <td>Tvaika 34</td>\n",
              "      <td>1</td>\n",
              "      <td>24</td>\n",
              "      <td>4/5</td>\n",
              "      <td>Renov.</td>\n",
              "      <td>7.08 €</td>\n",
              "      <td>170  €/mēn.</td>\n",
              "    </tr>\n",
              "    <tr>\n",
              "      <th>18</th>\n",
              "      <td>На срок по договоренности аккуратным, спокойны...</td>\n",
              "      <td>https://ss.com/msg/lv/real-estate/flats/riga/s...</td>\n",
              "      <td>Viestura pr. 67</td>\n",
              "      <td>2</td>\n",
              "      <td>48</td>\n",
              "      <td>5/5</td>\n",
              "      <td>Hrušč.</td>\n",
              "      <td>5.21 €</td>\n",
              "      <td>250  €/mēn.</td>\n",
              "    </tr>\n",
              "    <tr>\n",
              "      <th>19</th>\n",
              "      <td>Izīrē mēbelētu 1-istabas dzīvokli Sarkandaugav...</td>\n",
              "      <td>https://ss.com/msg/lv/real-estate/flats/riga/s...</td>\n",
              "      <td>Sarkandaugavas 26</td>\n",
              "      <td>1</td>\n",
              "      <td>29</td>\n",
              "      <td>4/5</td>\n",
              "      <td>Hrušč.</td>\n",
              "      <td>7.59 €</td>\n",
              "      <td>220  €/mēn.</td>\n",
              "    </tr>\n",
              "    <tr>\n",
              "      <th>20</th>\n",
              "      <td>Izīrē gaišu studio tipa divistabu dzīvokli jau...</td>\n",
              "      <td>https://ss.com/msg/lv/real-estate/flats/riga/s...</td>\n",
              "      <td>Sliežu 1</td>\n",
              "      <td>2</td>\n",
              "      <td>36</td>\n",
              "      <td>5/8</td>\n",
              "      <td>Jaun.</td>\n",
              "      <td>7.50 €</td>\n",
              "      <td>270  €/mēn.</td>\n",
              "    </tr>\n",
              "    <tr>\n",
              "      <th>21</th>\n",
              "      <td>Saimnieks izīrē kvalitatīvi izremontētu studio...</td>\n",
              "      <td>https://ss.com/msg/lv/real-estate/flats/riga/s...</td>\n",
              "      <td>Sliežu 1</td>\n",
              "      <td>1</td>\n",
              "      <td>21</td>\n",
              "      <td>4/7</td>\n",
              "      <td>Renov.</td>\n",
              "      <td>9.52 €</td>\n",
              "      <td>200  €/mēn.</td>\n",
              "    </tr>\n",
              "    <tr>\n",
              "      <th>22</th>\n",
              "      <td>Хозяйка сдаёт однокомнатную квартиру, печное о...</td>\n",
              "      <td>https://ss.com/msg/lv/real-estate/flats/riga/s...</td>\n",
              "      <td>Hāpsalas 11</td>\n",
              "      <td>1</td>\n",
              "      <td>30</td>\n",
              "      <td>1/2</td>\n",
              "      <td>P. kara</td>\n",
              "      <td>6.67 €</td>\n",
              "      <td>200  €/mēn.</td>\n",
              "    </tr>\n",
              "    <tr>\n",
              "      <th>23</th>\n",
              "      <td>Tiek izīrēts 1-ist. dzīvoklis pēc kap. remonta...</td>\n",
              "      <td>https://ss.com/msg/lv/real-estate/flats/riga/s...</td>\n",
              "      <td>Hāpsalas 12</td>\n",
              "      <td>1</td>\n",
              "      <td>25</td>\n",
              "      <td>1/3</td>\n",
              "      <td>Renov.</td>\n",
              "      <td>8 €</td>\n",
              "      <td>200  €/mēn.</td>\n",
              "    </tr>\n",
              "    <tr>\n",
              "      <th>24</th>\n",
              "      <td>Pagalma māja, labiekārtota apzaļumota teritori...</td>\n",
              "      <td>https://ss.com/msg/lv/real-estate/flats/riga/s...</td>\n",
              "      <td>Viestura pr. 53</td>\n",
              "      <td>2</td>\n",
              "      <td>46</td>\n",
              "      <td>3/9</td>\n",
              "      <td>467.</td>\n",
              "      <td>6.52 €</td>\n",
              "      <td>300  €/mēn.</td>\n",
              "    </tr>\n",
              "    <tr>\n",
              "      <th>25</th>\n",
              "      <td>Izīrē 2-istabu dzīvoklī Sarkandaugavā. Dzīvokl...</td>\n",
              "      <td>https://ss.com/msg/lv/real-estate/flats/riga/s...</td>\n",
              "      <td>Sarkandaugavas 33</td>\n",
              "      <td>2</td>\n",
              "      <td>49</td>\n",
              "      <td>5/6</td>\n",
              "      <td>Priv. m.</td>\n",
              "      <td>5.10 €</td>\n",
              "      <td>250  €/mēn.</td>\n",
              "    </tr>\n",
              "    <tr>\n",
              "      <th>26</th>\n",
              "      <td>Tiek izzīrēts saulains studiotipa dzīvoklis ar...</td>\n",
              "      <td>https://ss.com/msg/lv/real-estate/flats/riga/s...</td>\n",
              "      <td>Aptiekas 10</td>\n",
              "      <td>1</td>\n",
              "      <td>19</td>\n",
              "      <td>1/3</td>\n",
              "      <td>P. kara</td>\n",
              "      <td>11.58 €</td>\n",
              "      <td>220  €/mēn.</td>\n",
              "    </tr>\n",
              "    <tr>\n",
              "      <th>27</th>\n",
              "      <td>Сдаётся квартира на длительный срок. Район Сар...</td>\n",
              "      <td>https://ss.com/msg/lv/real-estate/flats/riga/s...</td>\n",
              "      <td>Ziemeļu 25</td>\n",
              "      <td>1</td>\n",
              "      <td>30</td>\n",
              "      <td>2/2</td>\n",
              "      <td>P. kara</td>\n",
              "      <td>6 €</td>\n",
              "      <td>180  €/mēn.</td>\n",
              "    </tr>\n",
              "    <tr>\n",
              "      <th>28</th>\n",
              "      <td>Lat - Eng / Īpašnieks izīrē labiekārtotu 38 kv...</td>\n",
              "      <td>https://ss.com/msg/lv/real-estate/flats/riga/s...</td>\n",
              "      <td>Duntes 56</td>\n",
              "      <td>2</td>\n",
              "      <td>38</td>\n",
              "      <td>5/6</td>\n",
              "      <td>P. kara</td>\n",
              "      <td>9.47 €</td>\n",
              "      <td>360  €/mēn.</td>\n",
              "    </tr>\n",
              "    <tr>\n",
              "      <th>29</th>\n",
              "      <td>Mājīgs, gaišs un ļoti silts dzīvoklis. Dzīvokl...</td>\n",
              "      <td>https://ss.com/msg/lv/real-estate/flats/riga/s...</td>\n",
              "      <td>Sarkandaugavas 26k..</td>\n",
              "      <td>2</td>\n",
              "      <td>42</td>\n",
              "      <td>1/5</td>\n",
              "      <td>Hrušč.</td>\n",
              "      <td>5.95 €</td>\n",
              "      <td>250  €/mēn.</td>\n",
              "    </tr>\n",
              "    <tr>\n",
              "      <th>0</th>\n",
              "      <td>Izīrēju vien istaba dzīvokli ar daļējām ērtībā...</td>\n",
              "      <td>https://ss.com/msg/lv/real-estate/flats/riga/s...</td>\n",
              "      <td>Ziemeļu 17</td>\n",
              "      <td>1</td>\n",
              "      <td>29</td>\n",
              "      <td>4/4</td>\n",
              "      <td>P. kara</td>\n",
              "      <td>5.52 €</td>\n",
              "      <td>160  €/mēn.</td>\n",
              "    </tr>\n",
              "    <tr>\n",
              "      <th>1</th>\n",
              "      <td>Tiek izīrēts mēbelēts dzīvoklis. 3, 5 istabas....</td>\n",
              "      <td>https://ss.com/msg/lv/real-estate/flats/riga/s...</td>\n",
              "      <td>Ziemeļu 3</td>\n",
              "      <td>3</td>\n",
              "      <td>96</td>\n",
              "      <td>5/5</td>\n",
              "      <td>Specpr.</td>\n",
              "      <td>8.85 €</td>\n",
              "      <td>850  €/mēn.</td>\n",
              "    </tr>\n",
              "    <tr>\n",
              "      <th>2</th>\n",
              "      <td>Сдается очень уютная 2-х комнатная квартира с ...</td>\n",
              "      <td>https://ss.com/msg/lv/real-estate/flats/riga/s...</td>\n",
              "      <td>Viestura pr. 23</td>\n",
              "      <td>2</td>\n",
              "      <td>46</td>\n",
              "      <td>2/3</td>\n",
              "      <td>Specpr.</td>\n",
              "      <td>6.30 €</td>\n",
              "      <td>290  €/mēn.</td>\n",
              "    </tr>\n",
              "    <tr>\n",
              "      <th>3</th>\n",
              "      <td>Kārtīgiem īrniekiem izīrē siltu 2-istabu dzīvo...</td>\n",
              "      <td>https://ss.com/msg/lv/real-estate/flats/riga/s...</td>\n",
              "      <td>Tilta 24</td>\n",
              "      <td>2</td>\n",
              "      <td>41</td>\n",
              "      <td>1/5</td>\n",
              "      <td>P. kara</td>\n",
              "      <td>7.32 €</td>\n",
              "      <td>300  €/mēn.</td>\n",
              "    </tr>\n",
              "    <tr>\n",
              "      <th>4</th>\n",
              "      <td>Īpašnieks ilgtermiņā izīrē tikko izremontētu, ...</td>\n",
              "      <td>https://ss.com/msg/lv/real-estate/flats/riga/s...</td>\n",
              "      <td>Limbažu 2</td>\n",
              "      <td>3</td>\n",
              "      <td>60</td>\n",
              "      <td>4/5</td>\n",
              "      <td>Specpr.</td>\n",
              "      <td>6.33 €</td>\n",
              "      <td>380  €/mēn.</td>\n",
              "    </tr>\n",
              "    <tr>\n",
              "      <th>5</th>\n",
              "      <td>Сдам квартиру на длительный срок с мебелью без...</td>\n",
              "      <td>https://ss.com/msg/lv/real-estate/flats/riga/s...</td>\n",
              "      <td>Patversmes 26</td>\n",
              "      <td>2</td>\n",
              "      <td>42</td>\n",
              "      <td>2/5</td>\n",
              "      <td>Hrušč.</td>\n",
              "      <td>5 €</td>\n",
              "      <td>210  €/mēn.</td>\n",
              "    </tr>\n",
              "    <tr>\n",
              "      <th>6</th>\n",
              "      <td>Burvīgais 2 istabu studio tipa dzīvoklis ar te...</td>\n",
              "      <td>https://ss.com/msg/lv/real-estate/flats/riga/s...</td>\n",
              "      <td>Duntes 28</td>\n",
              "      <td>2</td>\n",
              "      <td>42</td>\n",
              "      <td>3/16</td>\n",
              "      <td>Jaun.</td>\n",
              "      <td>0.833 €</td>\n",
              "      <td>35  €/dienā</td>\n",
              "    </tr>\n",
              "    <tr>\n",
              "      <th>7</th>\n",
              "      <td>Īpašniece izīrē, dzīvoklis mēbelēts, duškabīne...</td>\n",
              "      <td>https://ss.com/msg/lv/real-estate/flats/riga/s...</td>\n",
              "      <td>Alekša 8</td>\n",
              "      <td>1</td>\n",
              "      <td>28</td>\n",
              "      <td>3/4</td>\n",
              "      <td>P. kara</td>\n",
              "      <td>4.64 €</td>\n",
              "      <td>130  €/mēn.</td>\n",
              "    </tr>\n",
              "    <tr>\n",
              "      <th>8</th>\n",
              "      <td>Сдаем квартиру на улице Hapsalas 5, 5-ый этаж ...</td>\n",
              "      <td>https://ss.com/msg/lv/real-estate/flats/riga/s...</td>\n",
              "      <td>Hāpsalas 5</td>\n",
              "      <td>1</td>\n",
              "      <td>18</td>\n",
              "      <td>5/5</td>\n",
              "      <td>M. ģim.</td>\n",
              "      <td>9.44 €</td>\n",
              "      <td>170  €/mēn.</td>\n",
              "    </tr>\n",
              "    <tr>\n",
              "      <th>9</th>\n",
              "      <td>Izīrēju vienistabas dzīvokli saimnieka mājā. D...</td>\n",
              "      <td>https://ss.com/msg/lv/real-estate/flats/riga/s...</td>\n",
              "      <td>Duntes 48</td>\n",
              "      <td>1</td>\n",
              "      <td>28</td>\n",
              "      <td>4/5</td>\n",
              "      <td>P. kara</td>\n",
              "      <td>3.57 €</td>\n",
              "      <td>100  €/mēn.</td>\n",
              "    </tr>\n",
              "    <tr>\n",
              "      <th>10</th>\n",
              "      <td>Izīrē plašu, ekonomisku, svaigi remontētu 1.is...</td>\n",
              "      <td>https://ss.com/msg/lv/real-estate/flats/riga/s...</td>\n",
              "      <td>Tvaika 26</td>\n",
              "      <td>1</td>\n",
              "      <td>28</td>\n",
              "      <td>2/2</td>\n",
              "      <td>P. kara</td>\n",
              "      <td>5 €</td>\n",
              "      <td>140  €/mēn.</td>\n",
              "    </tr>\n",
              "    <tr>\n",
              "      <th>11</th>\n",
              "      <td>Tiek izīrēts 2-ist. dzīvoklis pēc kap. remonta...</td>\n",
              "      <td>https://ss.com/msg/lv/real-estate/flats/riga/s...</td>\n",
              "      <td>Hāpsalas 12</td>\n",
              "      <td>1</td>\n",
              "      <td>55</td>\n",
              "      <td>2/3</td>\n",
              "      <td>Renov.</td>\n",
              "      <td>5.09 €</td>\n",
              "      <td>280  €/mēn.</td>\n",
              "    </tr>\n",
              "    <tr>\n",
              "      <th>12</th>\n",
              "      <td>Īzīrē 1-istabas dzīvokli, īrniekam bez dzīvnie...</td>\n",
              "      <td>https://ss.com/msg/lv/real-estate/flats/riga/s...</td>\n",
              "      <td>Viestura pr. 97</td>\n",
              "      <td>1</td>\n",
              "      <td>32</td>\n",
              "      <td>3/9</td>\n",
              "      <td>Specpr.</td>\n",
              "      <td>5.63 €</td>\n",
              "      <td>180  €/mēn.</td>\n",
              "    </tr>\n",
              "    <tr>\n",
              "      <th>13</th>\n",
              "      <td>Labdien, \\r\\nIzīrējam vienu istabu dienesta dz...</td>\n",
              "      <td>https://ss.com/msg/lv/real-estate/flats/riga/s...</td>\n",
              "      <td>Ganību d. 19</td>\n",
              "      <td>1</td>\n",
              "      <td>19</td>\n",
              "      <td>2/2</td>\n",
              "      <td>Specpr.</td>\n",
              "      <td>5.79 €</td>\n",
              "      <td>110  €/mēn.</td>\n",
              "    </tr>\n",
              "    <tr>\n",
              "      <th>14</th>\n",
              "      <td>Izīrējam mājīgu dzīvokli, viena istaba izolēta...</td>\n",
              "      <td>https://ss.com/msg/lv/real-estate/flats/riga/s...</td>\n",
              "      <td>Alekša 7</td>\n",
              "      <td>2</td>\n",
              "      <td>39</td>\n",
              "      <td>2/5</td>\n",
              "      <td>P. kara</td>\n",
              "      <td>7.69 €</td>\n",
              "      <td>300  €/mēn.</td>\n",
              "    </tr>\n",
              "    <tr>\n",
              "      <th>15</th>\n",
              "      <td>Meklējam kārtīgus ilglaicīgus īrniekus saulain...</td>\n",
              "      <td>https://ss.com/msg/lv/real-estate/flats/riga/s...</td>\n",
              "      <td>Duntes 54</td>\n",
              "      <td>2</td>\n",
              "      <td>50</td>\n",
              "      <td>3/3</td>\n",
              "      <td>P. kara</td>\n",
              "      <td>8.40 €</td>\n",
              "      <td>420  €/mēn.</td>\n",
              "    </tr>\n",
              "    <tr>\n",
              "      <th>16</th>\n",
              "      <td>Īpašnieks izīrē gaišu, saulainu 2istabu dzīvok...</td>\n",
              "      <td>https://ss.com/msg/lv/real-estate/flats/riga/s...</td>\n",
              "      <td>Gaujienas 1</td>\n",
              "      <td>2</td>\n",
              "      <td>46</td>\n",
              "      <td>5/5</td>\n",
              "      <td>103.</td>\n",
              "      <td>6.52 €</td>\n",
              "      <td>300  €/mēn.</td>\n",
              "    </tr>\n",
              "    <tr>\n",
              "      <th>17</th>\n",
              "      <td>Izīrēju 48 m2 vienistabas dzīvokli. Visas ērtī...</td>\n",
              "      <td>https://ss.com/msg/lv/real-estate/flats/riga/s...</td>\n",
              "      <td>Hāpsalas 15</td>\n",
              "      <td>1</td>\n",
              "      <td>48</td>\n",
              "      <td>4/8</td>\n",
              "      <td>Specpr.</td>\n",
              "      <td>5.83 €</td>\n",
              "      <td>280  €/mēn.</td>\n",
              "    </tr>\n",
              "    <tr>\n",
              "      <th>18</th>\n",
              "      <td>Īpašnieks izīrē 3 istabu dzīvokli Rīgā, Viestu...</td>\n",
              "      <td>https://ss.com/msg/lv/real-estate/flats/riga/s...</td>\n",
              "      <td>Viestura pr. 49</td>\n",
              "      <td>3</td>\n",
              "      <td>47</td>\n",
              "      <td>2/9</td>\n",
              "      <td>Specpr.</td>\n",
              "      <td>6.81 €</td>\n",
              "      <td>320  €/mēn.</td>\n",
              "    </tr>\n",
              "  </tbody>\n",
              "</table>\n",
              "</div>"
            ],
            "text/plain": [
              "                                          description  ...         Cena\n",
              "0   Saimniece izīrē divistaba dzīvokli ar malkas a...  ...  240  €/mēn.\n",
              "1   Сдается однокомнатная квартира со всеми удобст...  ...  220  €/mēn.\n",
              "2   Квартира в сталинском доме, высокий первый эта...  ...  300  €/mēn.\n",
              "3   Izīrē dzīvokli ar visām ērtībām, tehniku, dīvā...  ...  250  €/mēn.\n",
              "4   Izīrē ērtu dzīvokli ar remontu un mēbelēm. Krā...  ...  160  €/mēn.\n",
              "5   Владелец сдаёт мебелированную, со всеми удобст...  ...  280  €/mēn.\n",
              "6   Tikko pēc kosmētiska remonta. Istabas caurstai...  ...  320  €/mēn.\n",
              "7   Izīrē 2istabu dzīvokli Sarkandaugavā, Limbažu ...  ...  200  €/mēn.\n",
              "8   Izīrēju divistaba dzīvokli ar daļējām ērtībām ...  ...  180  €/mēn.\n",
              "9   Uz ilgtermiņa īri pieejams saulains, remontēts...  ...  330  €/mēn.\n",
              "10  Īpašnieks izīrē uz ilgu laiku pilnībā mēbelēti...  ...  285  €/mēn.\n",
              "11  Piedāvājam īrei mēbelētu 3 istabu dzīvokli. Vi...  ...  300  €/mēn.\n",
              "12  Сдается уютная, тёплая квартира, есть всё для ...  ...  220  €/mēn.\n",
              "13                                      Uz ilgterminu  ...  300  €/mēn.\n",
              "14  \"Как мило. \"- воскликнете Вы, оказавшись в это...  ...  220  €/mēn.\n",
              "15  Tiek izīrēts divistabu dzīvoklis Sarkandaugava...  ...  300  €/mēn.\n",
              "16  Ar decembri izīrējam foršu 1 istabas dzīvokli ...  ...  260  €/mēn.\n",
              "17  Īpašnieks izīrē labiekārtotu vienistabas dzīvo...  ...  170  €/mēn.\n",
              "18  На срок по договоренности аккуратным, спокойны...  ...  250  €/mēn.\n",
              "19  Izīrē mēbelētu 1-istabas dzīvokli Sarkandaugav...  ...  220  €/mēn.\n",
              "20  Izīrē gaišu studio tipa divistabu dzīvokli jau...  ...  270  €/mēn.\n",
              "21  Saimnieks izīrē kvalitatīvi izremontētu studio...  ...  200  €/mēn.\n",
              "22  Хозяйка сдаёт однокомнатную квартиру, печное о...  ...  200  €/mēn.\n",
              "23  Tiek izīrēts 1-ist. dzīvoklis pēc kap. remonta...  ...  200  €/mēn.\n",
              "24  Pagalma māja, labiekārtota apzaļumota teritori...  ...  300  €/mēn.\n",
              "25  Izīrē 2-istabu dzīvoklī Sarkandaugavā. Dzīvokl...  ...  250  €/mēn.\n",
              "26  Tiek izzīrēts saulains studiotipa dzīvoklis ar...  ...  220  €/mēn.\n",
              "27  Сдаётся квартира на длительный срок. Район Сар...  ...  180  €/mēn.\n",
              "28  Lat - Eng / Īpašnieks izīrē labiekārtotu 38 kv...  ...  360  €/mēn.\n",
              "29  Mājīgs, gaišs un ļoti silts dzīvoklis. Dzīvokl...  ...  250  €/mēn.\n",
              "0   Izīrēju vien istaba dzīvokli ar daļējām ērtībā...  ...  160  €/mēn.\n",
              "1   Tiek izīrēts mēbelēts dzīvoklis. 3, 5 istabas....  ...  850  €/mēn.\n",
              "2   Сдается очень уютная 2-х комнатная квартира с ...  ...  290  €/mēn.\n",
              "3   Kārtīgiem īrniekiem izīrē siltu 2-istabu dzīvo...  ...  300  €/mēn.\n",
              "4   Īpašnieks ilgtermiņā izīrē tikko izremontētu, ...  ...  380  €/mēn.\n",
              "5   Сдам квартиру на длительный срок с мебелью без...  ...  210  €/mēn.\n",
              "6   Burvīgais 2 istabu studio tipa dzīvoklis ar te...  ...  35  €/dienā\n",
              "7   Īpašniece izīrē, dzīvoklis mēbelēts, duškabīne...  ...  130  €/mēn.\n",
              "8   Сдаем квартиру на улице Hapsalas 5, 5-ый этаж ...  ...  170  €/mēn.\n",
              "9   Izīrēju vienistabas dzīvokli saimnieka mājā. D...  ...  100  €/mēn.\n",
              "10  Izīrē plašu, ekonomisku, svaigi remontētu 1.is...  ...  140  €/mēn.\n",
              "11  Tiek izīrēts 2-ist. dzīvoklis pēc kap. remonta...  ...  280  €/mēn.\n",
              "12  Īzīrē 1-istabas dzīvokli, īrniekam bez dzīvnie...  ...  180  €/mēn.\n",
              "13  Labdien, \\r\\nIzīrējam vienu istabu dienesta dz...  ...  110  €/mēn.\n",
              "14  Izīrējam mājīgu dzīvokli, viena istaba izolēta...  ...  300  €/mēn.\n",
              "15  Meklējam kārtīgus ilglaicīgus īrniekus saulain...  ...  420  €/mēn.\n",
              "16  Īpašnieks izīrē gaišu, saulainu 2istabu dzīvok...  ...  300  €/mēn.\n",
              "17  Izīrēju 48 m2 vienistabas dzīvokli. Visas ērtī...  ...  280  €/mēn.\n",
              "18  Īpašnieks izīrē 3 istabu dzīvokli Rīgā, Viestu...  ...  320  €/mēn.\n",
              "\n",
              "[49 rows x 9 columns]"
            ]
          },
          "execution_count": 111,
          "metadata": {},
          "output_type": "execute_result"
        }
      ],
      "source": [
        "sarkan_df = get_all_ads_df(sarkandaugava_url, \"sarkandaugava_01_12_21.xlsx\")\n",
        "sarkan_df"
      ]
    },
    {
      "cell_type": "markdown",
      "metadata": {
        "id": "UYYQrjWjYKYf"
      },
      "source": [
        "# TODO \n",
        "# Try with different starting address not only centrs\n",
        "## Maybe combine regions\n",
        "## See how it would work with maybe cars\n",
        "## Data engineering make new columns based on existing ones, clean some columns\n",
        "### Changing floors 2/6 to columns 2 and 6, clean up Euro signs\n",
        "## Sorting, Describing, Grouping by regions etc"
      ]
    },
    {
      "cell_type": "code",
      "execution_count": null,
      "metadata": {
        "id": "Qh5rCPc8YKYg"
      },
      "outputs": [],
      "source": [
        "df = pd.read_excel(\"centrs_25_11.xlsx\")\n",
        "df.head()"
      ]
    },
    {
      "cell_type": "code",
      "execution_count": null,
      "metadata": {
        "id": "gihpmcJWYKYg"
      },
      "outputs": [],
      "source": [
        "df[\"price\"] = df.Cena.str.split(' ').str[0]\n",
        "df.head()"
      ]
    },
    {
      "cell_type": "code",
      "execution_count": null,
      "metadata": {
        "id": "u6Vj96lvYKYg"
      },
      "outputs": [],
      "source": [
        "df.price = df.price.str.replace(\",\",\"\").astype('int32')\n",
        "df.head()"
      ]
    },
    {
      "cell_type": "code",
      "execution_count": null,
      "metadata": {
        "id": "-UBYyB1kYKYg"
      },
      "outputs": [],
      "source": [
        "df.price.hist()"
      ]
    },
    {
      "cell_type": "code",
      "execution_count": null,
      "metadata": {
        "id": "c5AzJwfMYKYg"
      },
      "outputs": [],
      "source": [
        "df[['Floor','MaxFloor']] = df.Stāvs.str.split(\"/\",expand=True) \n",
        "df.info()"
      ]
    },
    {
      "cell_type": "code",
      "execution_count": null,
      "metadata": {
        "id": "rUX7lQ3vYKYg"
      },
      "outputs": [],
      "source": [
        "#typecasting example\n",
        "df.Floor = df.Floor.astype('int32')\n",
        "df.MaxFloor = df.MaxFloor.astype('int32')"
      ]
    },
    {
      "cell_type": "code",
      "execution_count": null,
      "metadata": {
        "id": "PCpbqkhBYKYg"
      },
      "outputs": [],
      "source": [
        "df.describe().T # T is for transposing rows and columns"
      ]
    },
    {
      "cell_type": "code",
      "execution_count": null,
      "metadata": {
        "id": "L7ngCXgBYKYg"
      },
      "outputs": [],
      "source": [
        "df.describe().T.to_csv(\"center_stats.csv\")"
      ]
    },
    {
      "cell_type": "code",
      "execution_count": null,
      "metadata": {
        "id": "rwFyw1aAYKYh"
      },
      "outputs": [],
      "source": [
        "import plotly.express as px"
      ]
    },
    {
      "cell_type": "code",
      "execution_count": null,
      "metadata": {
        "id": "AxGQtCqjYKYh"
      },
      "outputs": [],
      "source": [
        "fig = px.histogram(df, x=\"price\")\n",
        "fig.show()"
      ]
    },
    {
      "cell_type": "code",
      "execution_count": null,
      "metadata": {
        "id": "kbrHtZ1AYKYh"
      },
      "outputs": [],
      "source": [
        "import seaborn as sns # seaborn sits on top of matplotlib with better defaults\n",
        "import matplotlib.pyplot as plt\n"
      ]
    },
    {
      "cell_type": "code",
      "execution_count": null,
      "metadata": {
        "id": "pU_lmKiQYKYh"
      },
      "outputs": [],
      "source": [
        "# Basic correlogram\n",
        "sns.pairplot(df)\n",
        "\n"
      ]
    },
    {
      "cell_type": "code",
      "execution_count": null,
      "metadata": {
        "id": "SM0P-Z6CYKYh"
      },
      "outputs": [],
      "source": [
        "# Basic correlogram\n",
        "sns.pairplot(df)\n",
        "\n"
      ]
    },
    {
      "cell_type": "code",
      "execution_count": null,
      "metadata": {
        "id": "sqWldOaWYKYh"
      },
      "outputs": [],
      "source": [
        "volvo_url = \"https://www.ss.com/lv/transport/cars/volvo/sell/\"\n",
        "gr_auto = df.groupby([\"Gads\",\"Modelis\"])[\"Cena\"].agg([\"min\", \"max\", \"mean\"])  #.head(n = 10)\n"
      ]
    },
    {
      "cell_type": "code",
      "execution_count": null,
      "metadata": {
        "id": "WqZWMMqMYKYh"
      },
      "outputs": [],
      "source": [
        "print(dt.today())"
      ]
    },
    {
      "cell_type": "code",
      "execution_count": null,
      "metadata": {
        "id": "zYtgR2E9YKYh"
      },
      "outputs": [],
      "source": [
        "suzuki_url = \"https://www.ss.com/lv/transport/cars/suzuki/\"\n",
        "# sdf = get_all_ads_df(suzuki_url, f\"suzuki_{dt.today()}.xlsx\")\n",
        "sdf = get_all_ads_df(suzuki_url, f\"suzuki.xlsx\")\n",
        "sdf.head()"
      ]
    },
    {
      "cell_type": "code",
      "execution_count": null,
      "metadata": {
        "id": "d9hFm9ajYKYi"
      },
      "outputs": [],
      "source": [
        "sdf.info()"
      ]
    },
    {
      "cell_type": "code",
      "execution_count": null,
      "metadata": {
        "id": "B7IeDi9-YKYi"
      },
      "outputs": [],
      "source": [
        "sdf[\"Tilp.\"] = sdf[\"Tilp.\"].str.replace(\"\\w\",\"\", regex=True)\n",
        "sdf.head()"
      ]
    },
    {
      "cell_type": "code",
      "execution_count": null,
      "metadata": {
        "id": "tRYDCQWWYKYi"
      },
      "outputs": [],
      "source": [
        "sdf[\"Nobrauk.\"] = sdf[\"Nobrauk.\"].str.replace(\"\\D\",\"\", regex=True) # so no digits removed\n",
        "sdf.head()"
      ]
    },
    {
      "cell_type": "code",
      "execution_count": null,
      "metadata": {
        "id": "5LyaXar4YKYi"
      },
      "outputs": [],
      "source": [
        "sdf[\"Cena\"] = sdf[\"Cena\"].str.replace(\"\\D\",\"\", regex=True) # so no digits removed\n",
        "sdf.head()"
      ]
    },
    {
      "cell_type": "code",
      "execution_count": null,
      "metadata": {
        "id": "hnr6wPlXYKYi"
      },
      "outputs": [],
      "source": [
        "sdf = sdf.dropna(how=\"any\", axis=0)\n",
        "sdf"
      ]
    },
    {
      "cell_type": "code",
      "execution_count": null,
      "metadata": {
        "id": "yOhQZ38fYKYi"
      },
      "outputs": [],
      "source": [
        "sdf = sdf[sdf[\"Nobrauk.\"].str.len() > 0] # got rid of those empty rows finally\n",
        "sdf"
      ]
    },
    {
      "cell_type": "code",
      "execution_count": null,
      "metadata": {
        "id": "FrvtvzD7YKYi"
      },
      "outputs": [],
      "source": []
    },
    {
      "cell_type": "code",
      "execution_count": null,
      "metadata": {
        "id": "VkOGf-VVYKYi"
      },
      "outputs": [],
      "source": [
        "sdf[\"Cena\"] = sdf[\"Cena\"].astype(\"float32\")"
      ]
    },
    {
      "cell_type": "code",
      "execution_count": null,
      "metadata": {
        "id": "CusYD06AYKYi"
      },
      "outputs": [],
      "source": [
        "gr_auto = sdf.groupby([\"Gads\",\"Modelis\"])[\"Cena\"].agg([\"count\",\"min\", \"max\", \"mean\"]) \n",
        "gr_auto"
      ]
    },
    {
      "cell_type": "code",
      "execution_count": null,
      "metadata": {
        "id": "hJnDbq4ZYKYj"
      },
      "outputs": [],
      "source": []
    }
  ],
  "metadata": {
    "colab": {
      "name": "Web Scraping Apartments.ipynb",
      "provenance": []
    },
    "kernelspec": {
      "display_name": "Python 3.9.0 64-bit",
      "language": "python",
      "name": "python3"
    },
    "language_info": {
      "codemirror_mode": {
        "name": "ipython",
        "version": 3
      },
      "file_extension": ".py",
      "mimetype": "text/x-python",
      "name": "python",
      "nbconvert_exporter": "python",
      "pygments_lexer": "ipython3",
      "version": "3.9.0"
    },
    "vscode": {
      "interpreter": {
        "hash": "11938c6bc6919ae2720b4d5011047913343b08a43b18698fd82dedb0d4417594"
      }
    }
  },
  "nbformat": 4,
  "nbformat_minor": 0
}
