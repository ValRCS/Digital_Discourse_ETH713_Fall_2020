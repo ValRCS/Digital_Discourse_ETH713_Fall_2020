{
 "cells": [
  {
   "cell_type": "code",
   "execution_count": 1,
   "metadata": {},
   "outputs": [],
   "source": [
    "# Requests for handling HTTP get and other requests\n",
    "import requests\n",
    "import time # import for playing nice and not getting blocked\n",
    "import pandas as pd\n",
    "# from BeautifulSoup4 import BeatifulSoup if installed through pip install BeautifulSoup4\n",
    "# \n",
    "from bs4 import BeautifulSoup"
   ]
  },
  {
   "cell_type": "code",
   "execution_count": null,
   "metadata": {},
   "outputs": [],
   "source": [
    "# if bs4 not found install it with\n",
    "#  !pip install beatifulsoup4\n",
    "# https://www.crummy.com/software/BeautifulSoup/"
   ]
  },
  {
   "cell_type": "code",
   "execution_count": 2,
   "metadata": {},
   "outputs": [
    {
     "name": "stdout",
     "output_type": "stream",
     "text": [
      " Volume in drive C has no label.\n",
      " Volume Serial Number is 3E6D-EE98\n",
      "\n",
      " Directory of C:\\Users\\liga\\Github\\Digital_Discourse_ETH713_Fall_2020\\WebScraping\n",
      "\n",
      "12/02/2020  05:07 PM    <DIR>          .\n",
      "12/02/2020  05:07 PM    <DIR>          ..\n",
      "12/02/2020  04:57 PM    <DIR>          .ipynb_checkpoints\n",
      "12/02/2020  05:05 PM             7,540 center.json\n",
      "12/02/2020  05:05 PM             8,458 center.xlsx\n",
      "12/02/2020  04:29 PM            16,664 Selenium.ipynb\n",
      "12/02/2020  04:29 PM         4,221,622 Web Scraping Apartments.ipynb\n",
      "12/02/2020  05:07 PM            42,215 Web Scraping with Pandas.ipynb\n",
      "12/02/2020  04:29 PM             2,539 WebScraping.ipynb\n",
      "               6 File(s)      4,299,038 bytes\n",
      "               3 Dir(s)  112,711,880,704 bytes free\n"
     ]
    }
   ],
   "source": [
    "!dir\n",
    "# ar ! i can run command line commands"
   ]
  },
  {
   "cell_type": "code",
   "execution_count": 3,
   "metadata": {},
   "outputs": [],
   "source": [
    "# centrs = \"https://www.ss.com/lv/real-estate/flats/riga/centre/sell/\"\n",
    "centrs = \"https://www.ss.com/en/real-estate/flats/riga/centre/hand_over/\""
   ]
  },
  {
   "cell_type": "code",
   "execution_count": 4,
   "metadata": {},
   "outputs": [
    {
     "data": {
      "text/plain": [
       "200"
      ]
     },
     "execution_count": 4,
     "metadata": {},
     "output_type": "execute_result"
    }
   ],
   "source": [
    "# here we make a something called HTTP GET request to the url in centrs\n",
    "# so very similar to what the browser does\n",
    "req = requests.get(centrs)\n",
    "req.status_code\n",
    "# so where we could use our status_code to check if our request went through sucessfully\n",
    "# so 200 is the ALL OK code in HTTP, many 4xx and 5xxx failure codes"
   ]
  },
  {
   "cell_type": "code",
   "execution_count": 5,
   "metadata": {},
   "outputs": [
    {
     "data": {
      "text/plain": [
       "'<!DOCTYPE html>\\r\\n<HTML><HEAD>\\r\\n<title>SS.COM Flats - Riga - Centre, Prices, Hand over - Ads</title>\\r\\n<meta http-equiv=\"Content-Type\" CONTENT=\"text/html; charset=UTF-8\">\\r\\n<meta name=\"viewport\" content=\"user-scalable=1, width=device-width, initial-scale=1.0\"/>\\r\\n<meta name=\"keywords\" content=\"Announcem'"
      ]
     },
     "execution_count": 5,
     "metadata": {},
     "output_type": "execute_result"
    }
   ],
   "source": [
    "req.text[:300]"
   ]
  },
  {
   "cell_type": "code",
   "execution_count": null,
   "metadata": {},
   "outputs": [],
   "source": [
    "# we could manually use text searching tools to work on the whole text of html but it would not convenient\n",
    "# many other people have already written tools to parse/structure this text"
   ]
  },
  {
   "cell_type": "code",
   "execution_count": 6,
   "metadata": {},
   "outputs": [
    {
     "data": {
      "text/plain": [
       "<title>SS.COM Flats - Riga - Centre, Prices, Hand over - Ads</title>"
      ]
     },
     "execution_count": 6,
     "metadata": {},
     "output_type": "execute_result"
    }
   ],
   "source": [
    "# parser means structuring your text into some data structure\n",
    "soup = BeautifulSoup(req.text, 'lxml') # lxml is improved parser, a little bit more lenient\n",
    "soup.title"
   ]
  },
  {
   "cell_type": "code",
   "execution_count": 7,
   "metadata": {},
   "outputs": [
    {
     "data": {
      "text/plain": [
       "bs4.BeautifulSoup"
      ]
     },
     "execution_count": 7,
     "metadata": {},
     "output_type": "execute_result"
    }
   ],
   "source": [
    "type(soup)"
   ]
  },
  {
   "cell_type": "code",
   "execution_count": 8,
   "metadata": {},
   "outputs": [
    {
     "data": {
      "text/plain": [
       "7"
      ]
     },
     "execution_count": 8,
     "metadata": {},
     "output_type": "execute_result"
    }
   ],
   "source": [
    "# https://www.crummy.com/software/BeautifulSoup/bs4/doc/#find-all\n",
    "tables = soup.find_all(\"table\") # finds ALL elements matching our filter\n",
    "len(tables) # it will be a list of some length, possibly 0 if we did not find any elements "
   ]
  },
  {
   "cell_type": "code",
   "execution_count": null,
   "metadata": {},
   "outputs": [],
   "source": [
    "# Now we want to find what our column names should be no matter the type of ad"
   ]
  },
  {
   "cell_type": "code",
   "execution_count": 9,
   "metadata": {},
   "outputs": [
    {
     "data": {
      "text/plain": [
       "<tr id=\"head_line\">\n",
       "<td class=\"msg_column\" colspan=\"3\" width=\"70%\">\n",
       "<span style=\"float:left;\"> Announcements\n",
       "</span>\n",
       "<span align=\"right\" class=\"msg_column\" style=\"float:right;text-align:right;padding-right:3px;\">\n",
       "<noindex>\n",
       "<a class=\"a19\" href=\"/en/real-estate/flats/riga/centre/hand_over/fDgSeF4S.html\" rel=\"nofollow\">date</a></noindex></span>\n",
       "</td>\n",
       "<td class=\"msg_column_td\" nowrap=\"\"><noindex><a class=\"a18\" href=\"/en/real-estate/flats/riga/centre/hand_over/fDgSeF4SFDwT.html\" rel=\"nofollow\" title=\"\">Street</a></noindex></td><td class=\"msg_column_td\" nowrap=\"\"><noindex><a class=\"a18\" href=\"/en/real-estate/flats/riga/centre/hand_over/fDgSeF4SelM=.html\" rel=\"nofollow\" title=\"\">R.</a></noindex></td><td class=\"msg_column_td\" nowrap=\"\"><noindex><a class=\"a18\" href=\"/en/real-estate/flats/riga/centre/hand_over/fDgSeF4QelM=.html\" rel=\"nofollow\" title=\"\">m2</a></noindex></td><td class=\"msg_column_td\" nowrap=\"\"><noindex><a class=\"a18\" href=\"/en/real-estate/flats/riga/centre/hand_over/fDgSeF4XelM=.html\" rel=\"nofollow\" title=\"\">Floor</a></noindex></td><td class=\"msg_column_td\" nowrap=\"\"><noindex><a class=\"a18\" href=\"/en/real-estate/flats/riga/centre/hand_over/fDgSeF4VelM=.html\" rel=\"nofollow\" title=\"\">Series</a></noindex></td><td background=\"https://i.ss.com/img/pl.gif\" class=\"msg_column\" nowrap=\"\" style=\"border-left:1px #FFFFFF solid;\"><noindex><a class=\"a18\" href=\"/en/real-estate/flats/riga/centre/hand_over/fDgSeF4bRDwT.html\" rel=\"nofollow\">Price, m2</a></noindex></td><td class=\"msg_column_td\" nowrap=\"\"><noindex><a class=\"a18\" href=\"/en/real-estate/flats/riga/centre/hand_over/fDgSeF4belM=.html\" rel=\"nofollow\" title=\"\">Price</a></noindex></td></tr>"
      ]
     },
     "execution_count": 9,
     "metadata": {},
     "output_type": "execute_result"
    }
   ],
   "source": [
    "# find finds just one(first) match\n",
    "headline = soup.find(\"tr\", {\"id\":\"head_line\"}) # this is a shorter way of finding by tr AND this element having particular id\n",
    "headline"
   ]
  },
  {
   "cell_type": "code",
   "execution_count": 10,
   "metadata": {},
   "outputs": [
    {
     "data": {
      "text/plain": [
       "bs4.element.Tag"
      ]
     },
     "execution_count": 10,
     "metadata": {},
     "output_type": "execute_result"
    }
   ],
   "source": [
    "type(headline)"
   ]
  },
  {
   "cell_type": "code",
   "execution_count": 11,
   "metadata": {},
   "outputs": [
    {
     "data": {
      "text/plain": [
       "[<td class=\"msg_column\" colspan=\"3\" width=\"70%\">\n",
       " <span style=\"float:left;\"> Announcements\n",
       " </span>\n",
       " <span align=\"right\" class=\"msg_column\" style=\"float:right;text-align:right;padding-right:3px;\">\n",
       " <noindex>\n",
       " <a class=\"a19\" href=\"/en/real-estate/flats/riga/centre/hand_over/fDgSeF4S.html\" rel=\"nofollow\">date</a></noindex></span>\n",
       " </td>,\n",
       " <td class=\"msg_column_td\" nowrap=\"\"><noindex><a class=\"a18\" href=\"/en/real-estate/flats/riga/centre/hand_over/fDgSeF4SFDwT.html\" rel=\"nofollow\" title=\"\">Street</a></noindex></td>,\n",
       " <td class=\"msg_column_td\" nowrap=\"\"><noindex><a class=\"a18\" href=\"/en/real-estate/flats/riga/centre/hand_over/fDgSeF4SelM=.html\" rel=\"nofollow\" title=\"\">R.</a></noindex></td>,\n",
       " <td class=\"msg_column_td\" nowrap=\"\"><noindex><a class=\"a18\" href=\"/en/real-estate/flats/riga/centre/hand_over/fDgSeF4QelM=.html\" rel=\"nofollow\" title=\"\">m2</a></noindex></td>,\n",
       " <td class=\"msg_column_td\" nowrap=\"\"><noindex><a class=\"a18\" href=\"/en/real-estate/flats/riga/centre/hand_over/fDgSeF4XelM=.html\" rel=\"nofollow\" title=\"\">Floor</a></noindex></td>,\n",
       " <td class=\"msg_column_td\" nowrap=\"\"><noindex><a class=\"a18\" href=\"/en/real-estate/flats/riga/centre/hand_over/fDgSeF4VelM=.html\" rel=\"nofollow\" title=\"\">Series</a></noindex></td>,\n",
       " <td background=\"https://i.ss.com/img/pl.gif\" class=\"msg_column\" nowrap=\"\" style=\"border-left:1px #FFFFFF solid;\"><noindex><a class=\"a18\" href=\"/en/real-estate/flats/riga/centre/hand_over/fDgSeF4bRDwT.html\" rel=\"nofollow\">Price, m2</a></noindex></td>,\n",
       " <td class=\"msg_column_td\" nowrap=\"\"><noindex><a class=\"a18\" href=\"/en/real-estate/flats/riga/centre/hand_over/fDgSeF4belM=.html\" rel=\"nofollow\" title=\"\">Price</a></noindex></td>]"
      ]
     },
     "execution_count": 11,
     "metadata": {},
     "output_type": "execute_result"
    }
   ],
   "source": [
    "# next we can search through the headling table row element and find individual table data elements\n",
    "headtds = headline.find_all(\"td\")\n",
    "# https://developer.mozilla.org/en-US/docs/Web/HTML/Element/td\n",
    "headtds"
   ]
  },
  {
   "cell_type": "code",
   "execution_count": 12,
   "metadata": {},
   "outputs": [
    {
     "data": {
      "text/plain": [
       "8"
      ]
     },
     "execution_count": 12,
     "metadata": {},
     "output_type": "execute_result"
    }
   ],
   "source": [
    "len(headtds) # so we have some of lements (could be 8, 10 depends on the type of ad)"
   ]
  },
  {
   "cell_type": "code",
   "execution_count": 13,
   "metadata": {},
   "outputs": [
    {
     "data": {
      "text/plain": [
       "'\\n\\n\\xa0Announcements\\r\\n\\n\\n\\ndate\\n\\nStreetR.m2FloorSeriesPrice, m2Price'"
      ]
     },
     "execution_count": 13,
     "metadata": {},
     "output_type": "execute_result"
    }
   ],
   "source": [
    "headline.text # the text is extracted from children, grandchildren, greatgrandchildren and so on"
   ]
  },
  {
   "cell_type": "code",
   "execution_count": 14,
   "metadata": {},
   "outputs": [
    {
     "data": {
      "text/plain": [
       "['Street', 'R.', 'm2', 'Floor', 'Series', 'Price, m2', 'Price']"
      ]
     },
     "execution_count": 14,
     "metadata": {},
     "output_type": "execute_result"
    }
   ],
   "source": [
    "# so we do not want announcements and data so we will skip the first TD with headtds[1:]\n",
    "headcolumns = [el.text for el in headtds[1:]] #.text gets us content even from children and grandchildren\n",
    "headcolumns"
   ]
  },
  {
   "cell_type": "code",
   "execution_count": 15,
   "metadata": {},
   "outputs": [],
   "source": [
    "# lets combine the above cells into a function which will always get us columns\n",
    "def getColList(soup):\n",
    "    column_list = [\"description\",\"url\"] # we decided to that we need these two column names no matter the html\n",
    "    headline = soup.find(\"tr\", {\"id\":\"head_line\"})\n",
    "    headtds = headline.find_all(\"td\")\n",
    "    headcolumns = [el.text for el in headtds[1:]] # this will get all column names starting with 2nd in HTML\n",
    "    column_list += headcolumns # we add the head columns to our initial column list\n",
    "    return column_list"
   ]
  },
  {
   "cell_type": "code",
   "execution_count": 16,
   "metadata": {},
   "outputs": [
    {
     "data": {
      "text/plain": [
       "['description',\n",
       " 'url',\n",
       " 'Street',\n",
       " 'R.',\n",
       " 'm2',\n",
       " 'Floor',\n",
       " 'Series',\n",
       " 'Price, m2',\n",
       " 'Price']"
      ]
     },
     "execution_count": 16,
     "metadata": {},
     "output_type": "execute_result"
    }
   ],
   "source": [
    "column_names = getColList(soup)\n",
    "column_names # so this should work no matter what type of SS.com page the soup is made of"
   ]
  },
  {
   "cell_type": "code",
   "execution_count": 17,
   "metadata": {},
   "outputs": [
    {
     "data": {
      "text/plain": [
       "39"
      ]
     },
     "execution_count": 17,
     "metadata": {},
     "output_type": "execute_result"
    }
   ],
   "source": [
    "trows = soup.find_all('tr')\n",
    "len(trows)\n"
   ]
  },
  {
   "cell_type": "code",
   "execution_count": null,
   "metadata": {},
   "outputs": [],
   "source": [
    "# if i had no other choices I could find starting and end index by hand and hard code it\n",
    "# but that is liable to change between pages"
   ]
  },
  {
   "cell_type": "code",
   "execution_count": 18,
   "metadata": {},
   "outputs": [
    {
     "data": {
      "text/plain": [
       "30"
      ]
     },
     "execution_count": 18,
     "metadata": {},
     "output_type": "execute_result"
    }
   ],
   "source": [
    "# hardest part in this \n",
    "# how to filter only specific rows\n",
    "# we need to find something that is unique to our apartment rows but not to the extra rows\n",
    "# remember we id is not guaranteed, so \"\" gives us default value when there is no id\n",
    "# sometimes there were unusable rows with tr_bnr attribute\n",
    "apt_rows = [row for row in trows if row.get('id',\"\").startswith(\"tr_\") and not row.get('id',\"\").startswith(\"tr_bnr\") ]\n",
    "len(apt_rows)"
   ]
  },
  {
   "cell_type": "code",
   "execution_count": 19,
   "metadata": {},
   "outputs": [
    {
     "data": {
      "text/plain": [
       "<tr id=\"tr_48553744\"><td class=\"msga2 pp0\"><input id=\"c48553744\" name=\"mid[]\" type=\"checkbox\" value=\"48553744_1106_0\"/></td><td class=\"msga2\"><a href=\"/msg/en/real-estate/flats/riga/centre/hdnkg.html\" id=\"im48553744\"><img alt=\"\" class=\"isfoto foto_list\" src=\"https://i.ss.com/gallery/4/710/177408/35481403.th2.jpg\"/></a></td><td class=\"msg2\"><div class=\"d1\"><a class=\"am\" data=\"JTdCJTlBJTlFdCU3RSVDQSVBQiU3QyU5OSU5OXclN0MlODMlQUMlN0UlOTklOUV1JTgwJTdFJUFCdyU5MiU5NQ==|GbeDHNz\" href=\"/msg/en/real-estate/flats/riga/centre/hdnkg.html\" id=\"dm_48553744\">Labs Piedavājums Par Labu Cenu\n",
       "Divistabas dzīvoklis izīrē Namīp</a></div></td><td c=\"1\" class=\"msga2-o pp6\" nowrap=\"\">Avotu 61</td><td c=\"1\" class=\"msga2-o pp6\" nowrap=\"\">2</td><td c=\"1\" class=\"msga2-o pp6\" nowrap=\"\">41</td><td c=\"1\" class=\"msga2-o pp6\" nowrap=\"\">1/2</td><td c=\"1\" class=\"msga2-o pp6\" nowrap=\"\">Stalin pr.</td><td c=\"1\" class=\"msga2-o pp6\" nowrap=\"\">4.02 €</td><td c=\"1\" class=\"msga2-o pp6\" nowrap=\"\">165  €/mon.</td></tr>"
      ]
     },
     "execution_count": 19,
     "metadata": {},
     "output_type": "execute_result"
    }
   ],
   "source": [
    "apt_rows[-1]"
   ]
  },
  {
   "cell_type": "code",
   "execution_count": 20,
   "metadata": {},
   "outputs": [
    {
     "data": {
      "text/plain": [
       "<tr id=\"tr_48694610\"><td class=\"msga2 pp0\"><input id=\"c48694610\" name=\"mid[]\" type=\"checkbox\" value=\"48694610_1106_0\"/></td><td class=\"msga2\"><a href=\"/msg/en/real-estate/flats/riga/centre/cxgjb.html\" id=\"im48694610\"><img alt=\"\" class=\"isfoto foto_list\" src=\"https://i.ss.com/gallery/4/721/180036/36007145.th2.jpg\"/></a></td><td class=\"msg2\"><div class=\"d1\"><a class=\"am\" data=\"ZiU4QSU4RiU5QiVDMyU4NCU4OWxoJThFJTkwJTlBJTgwJTg1JTg4bWElODklODklOUIlN0I=|1UXeGST7\" href=\"/msg/en/real-estate/flats/riga/centre/cxgjb.html\" id=\"dm_48694610\">Izīrē dzīvokli ar mājīgu un komfortablu iekārtojumu. Dzīvoklis s</a></div></td><td c=\"1\" class=\"msga2-o pp6\" nowrap=\"\">Stabu 49</td><td c=\"1\" class=\"msga2-o pp6\" nowrap=\"\">2</td><td c=\"1\" class=\"msga2-o pp6\" nowrap=\"\">50</td><td c=\"1\" class=\"msga2-o pp6\" nowrap=\"\">4/5</td><td c=\"1\" class=\"msga2-o pp6\" nowrap=\"\">Perewar</td><td c=\"1\" class=\"msga2-o pp6\" nowrap=\"\">6 €</td><td c=\"1\" class=\"msga2-o pp6\" nowrap=\"\">300  €/mon.</td></tr>"
      ]
     },
     "execution_count": 20,
     "metadata": {},
     "output_type": "execute_result"
    }
   ],
   "source": [
    "apt_rows[0]"
   ]
  },
  {
   "cell_type": "code",
   "execution_count": 21,
   "metadata": {},
   "outputs": [],
   "source": [
    "# lets make a function from the above doodle and make it work on most pages on SS\n",
    "def getRowList(soup):\n",
    "    trows = soup.find_all('tr')\n",
    "    aprows = [row for row in trows if row.get('id',\"\").startswith(\"tr_\") and not row.get('id',\"\").startswith(\"tr_bnr\") ]\n",
    "    return aprows"
   ]
  },
  {
   "cell_type": "code",
   "execution_count": 22,
   "metadata": {},
   "outputs": [
    {
     "data": {
      "text/plain": [
       "10"
      ]
     },
     "execution_count": 22,
     "metadata": {},
     "output_type": "execute_result"
    }
   ],
   "source": [
    "row_tds = apt_rows[0].find_all('td') # get all table data elements from first ad/row\n",
    "len(row_tds)"
   ]
  },
  {
   "cell_type": "code",
   "execution_count": 23,
   "metadata": {},
   "outputs": [
    {
     "data": {
      "text/plain": [
       "[<td class=\"msga2 pp0\"><input id=\"c48694610\" name=\"mid[]\" type=\"checkbox\" value=\"48694610_1106_0\"/></td>,\n",
       " <td class=\"msga2\"><a href=\"/msg/en/real-estate/flats/riga/centre/cxgjb.html\" id=\"im48694610\"><img alt=\"\" class=\"isfoto foto_list\" src=\"https://i.ss.com/gallery/4/721/180036/36007145.th2.jpg\"/></a></td>,\n",
       " <td class=\"msg2\"><div class=\"d1\"><a class=\"am\" data=\"ZiU4QSU4RiU5QiVDMyU4NCU4OWxoJThFJTkwJTlBJTgwJTg1JTg4bWElODklODklOUIlN0I=|1UXeGST7\" href=\"/msg/en/real-estate/flats/riga/centre/cxgjb.html\" id=\"dm_48694610\">Izīrē dzīvokli ar mājīgu un komfortablu iekārtojumu. Dzīvoklis s</a></div></td>,\n",
       " <td c=\"1\" class=\"msga2-o pp6\" nowrap=\"\">Stabu 49</td>,\n",
       " <td c=\"1\" class=\"msga2-o pp6\" nowrap=\"\">2</td>,\n",
       " <td c=\"1\" class=\"msga2-o pp6\" nowrap=\"\">50</td>,\n",
       " <td c=\"1\" class=\"msga2-o pp6\" nowrap=\"\">4/5</td>,\n",
       " <td c=\"1\" class=\"msga2-o pp6\" nowrap=\"\">Perewar</td>,\n",
       " <td c=\"1\" class=\"msga2-o pp6\" nowrap=\"\">6 €</td>,\n",
       " <td c=\"1\" class=\"msga2-o pp6\" nowrap=\"\">300  €/mon.</td>]"
      ]
     },
     "execution_count": 23,
     "metadata": {},
     "output_type": "execute_result"
    }
   ],
   "source": [
    "row_tds"
   ]
  },
  {
   "cell_type": "code",
   "execution_count": 24,
   "metadata": {},
   "outputs": [
    {
     "data": {
      "text/plain": [
       "''"
      ]
     },
     "execution_count": 24,
     "metadata": {},
     "output_type": "execute_result"
    }
   ],
   "source": [
    "# this is the checkbox we want nothing from that\n",
    "row_tds[0].text"
   ]
  },
  {
   "cell_type": "code",
   "execution_count": 25,
   "metadata": {},
   "outputs": [
    {
     "data": {
      "text/plain": [
       "''"
      ]
     },
     "execution_count": 25,
     "metadata": {},
     "output_type": "execute_result"
    }
   ],
   "source": [
    "# second is the image table data cell\n",
    "row_tds[1].text"
   ]
  },
  {
   "cell_type": "code",
   "execution_count": 26,
   "metadata": {},
   "outputs": [
    {
     "data": {
      "text/plain": [
       "{'class': ['msga2']}"
      ]
     },
     "execution_count": 26,
     "metadata": {},
     "output_type": "execute_result"
    }
   ],
   "source": [
    "row_tds[1].attrs"
   ]
  },
  {
   "cell_type": "code",
   "execution_count": 27,
   "metadata": {},
   "outputs": [
    {
     "data": {
      "text/plain": [
       "<img alt=\"\" class=\"isfoto foto_list\" src=\"https://i.ss.com/gallery/4/721/180036/36007145.th2.jpg\"/>"
      ]
     },
     "execution_count": 27,
     "metadata": {},
     "output_type": "execute_result"
    }
   ],
   "source": [
    "img = row_tds[1].find(\"img\")\n",
    "img"
   ]
  },
  {
   "cell_type": "code",
   "execution_count": 28,
   "metadata": {},
   "outputs": [
    {
     "data": {
      "text/plain": [
       "'https://i.ss.com/gallery/4/721/180036/36007145.th2.jpg'"
      ]
     },
     "execution_count": 28,
     "metadata": {},
     "output_type": "execute_result"
    }
   ],
   "source": [
    "img.get(\"src\")"
   ]
  },
  {
   "cell_type": "code",
   "execution_count": 29,
   "metadata": {},
   "outputs": [
    {
     "data": {
      "text/plain": [
       "'Izīrē dzīvokli ar mājīgu un komfortablu iekārtojumu. Dzīvoklis s'"
      ]
     },
     "execution_count": 29,
     "metadata": {},
     "output_type": "execute_result"
    }
   ],
   "source": [
    "row_tds[2].text"
   ]
  },
  {
   "cell_type": "code",
   "execution_count": 30,
   "metadata": {},
   "outputs": [
    {
     "data": {
      "text/plain": [
       "'300  €/mon.'"
      ]
     },
     "execution_count": 30,
     "metadata": {},
     "output_type": "execute_result"
    }
   ],
   "source": [
    "# last one should be price\n",
    "row_tds[-1].text"
   ]
  },
  {
   "cell_type": "code",
   "execution_count": 31,
   "metadata": {},
   "outputs": [
    {
     "data": {
      "text/plain": [
       "<a href=\"/msg/en/real-estate/flats/riga/centre/cxgjb.html\" id=\"im48694610\"><img alt=\"\" class=\"isfoto foto_list\" src=\"https://i.ss.com/gallery/4/721/180036/36007145.th2.jpg\"/></a>"
      ]
     },
     "execution_count": 31,
     "metadata": {},
     "output_type": "execute_result"
    }
   ],
   "source": [
    "# so second table data cell (which has alos has image) has anchor\n",
    "a = row_tds[1].find('a') # a tag is called anchor tag\n",
    "a"
   ]
  },
  {
   "cell_type": "code",
   "execution_count": 32,
   "metadata": {},
   "outputs": [
    {
     "data": {
      "text/plain": [
       "{'href': '/msg/en/real-estate/flats/riga/centre/cxgjb.html',\n",
       " 'id': 'im48694610'}"
      ]
     },
     "execution_count": 32,
     "metadata": {},
     "output_type": "execute_result"
    }
   ],
   "source": [
    "a.attrs"
   ]
  },
  {
   "cell_type": "code",
   "execution_count": 33,
   "metadata": {},
   "outputs": [
    {
     "data": {
      "text/plain": [
       "('/msg/en/real-estate/flats/riga/centre/cxgjb.html',\n",
       " '/msg/en/real-estate/flats/riga/centre/cxgjb.html')"
      ]
     },
     "execution_count": 33,
     "metadata": {},
     "output_type": "execute_result"
    }
   ],
   "source": [
    "a.get('href'), a['href'] # two ways of accesing this attribute\n",
    "# so all we need is to add http://www.ss.com in front"
   ]
  },
  {
   "cell_type": "code",
   "execution_count": 34,
   "metadata": {},
   "outputs": [],
   "source": [
    "# combining all of the above work into a function\n",
    "def getRow(row,colist=column_names):\n",
    "    row_tds = row.find_all('td')\n",
    "    rowDict = {}\n",
    "    if len(row_tds) <3: # a little sanity check\n",
    "        print(\"Hmm bad row\")\n",
    "        return rowDict\n",
    "    # first we save description\n",
    "    rowDict[colist[0]] = row_tds[2].text # so the big assumption is that we always get description in 3rd column\n",
    "    # then link to the ad\n",
    "    rowDict[colist[1]] = \"https://ss.com\" + row_tds[1].find('a').get('href')\n",
    "    \n",
    "    for td,key in zip(row_tds[3:],colist[2:]): \n",
    "        rowDict[key] = td.text\n",
    "    return rowDict"
   ]
  },
  {
   "cell_type": "code",
   "execution_count": 35,
   "metadata": {},
   "outputs": [
    {
     "data": {
      "text/plain": [
       "<tr id=\"tr_48694610\"><td class=\"msga2 pp0\"><input id=\"c48694610\" name=\"mid[]\" type=\"checkbox\" value=\"48694610_1106_0\"/></td><td class=\"msga2\"><a href=\"/msg/en/real-estate/flats/riga/centre/cxgjb.html\" id=\"im48694610\"><img alt=\"\" class=\"isfoto foto_list\" src=\"https://i.ss.com/gallery/4/721/180036/36007145.th2.jpg\"/></a></td><td class=\"msg2\"><div class=\"d1\"><a class=\"am\" data=\"ZiU4QSU4RiU5QiVDMyU4NCU4OWxoJThFJTkwJTlBJTgwJTg1JTg4bWElODklODklOUIlN0I=|1UXeGST7\" href=\"/msg/en/real-estate/flats/riga/centre/cxgjb.html\" id=\"dm_48694610\">Izīrē dzīvokli ar mājīgu un komfortablu iekārtojumu. Dzīvoklis s</a></div></td><td c=\"1\" class=\"msga2-o pp6\" nowrap=\"\">Stabu 49</td><td c=\"1\" class=\"msga2-o pp6\" nowrap=\"\">2</td><td c=\"1\" class=\"msga2-o pp6\" nowrap=\"\">50</td><td c=\"1\" class=\"msga2-o pp6\" nowrap=\"\">4/5</td><td c=\"1\" class=\"msga2-o pp6\" nowrap=\"\">Perewar</td><td c=\"1\" class=\"msga2-o pp6\" nowrap=\"\">6 €</td><td c=\"1\" class=\"msga2-o pp6\" nowrap=\"\">300  €/mon.</td></tr>"
      ]
     },
     "execution_count": 35,
     "metadata": {},
     "output_type": "execute_result"
    }
   ],
   "source": [
    "apt_rows[0] # first row of ads"
   ]
  },
  {
   "cell_type": "code",
   "execution_count": 36,
   "metadata": {},
   "outputs": [
    {
     "data": {
      "text/plain": [
       "{'description': 'Izīrē dzīvokli ar mājīgu un komfortablu iekārtojumu. Dzīvoklis s',\n",
       " 'url': 'https://ss.com/msg/en/real-estate/flats/riga/centre/cxgjb.html',\n",
       " 'Street': 'Stabu 49',\n",
       " 'R.': '2',\n",
       " 'm2': '50',\n",
       " 'Floor': '4/5',\n",
       " 'Series': 'Perewar',\n",
       " 'Price, m2': '6 €',\n",
       " 'Price': '300  €/mon.'}"
      ]
     },
     "execution_count": 36,
     "metadata": {},
     "output_type": "execute_result"
    }
   ],
   "source": [
    "getRow(apt_rows[0])"
   ]
  },
  {
   "cell_type": "code",
   "execution_count": 37,
   "metadata": {},
   "outputs": [],
   "source": [
    "def getRows(rowlist,colist=column_names):\n",
    "    return [getRow(row, colist=colist) for row in rowlist]\n"
   ]
  },
  {
   "cell_type": "code",
   "execution_count": 38,
   "metadata": {},
   "outputs": [
    {
     "data": {
      "text/plain": [
       "[{'description': 'Tiek iznomata 1 izoleta istaba 5-istabu dzīvoklī Rīgas centrā, L',\n",
       "  'url': 'https://ss.com/msg/en/real-estate/flats/riga/centre/dpilp.html',\n",
       "  'Street': 'Lachplesha 17',\n",
       "  'R.': '2',\n",
       "  'm2': '15',\n",
       "  'Floor': '1/4',\n",
       "  'Series': 'Spec. pr.',\n",
       "  'Price, m2': '12.67 €',\n",
       "  'Price': '190  €/mon.'},\n",
       " {'description': 'Kapitālais remonts, plastikāta stikla pakešu logi, mēbelēts, ieb',\n",
       "  'url': 'https://ss.com/msg/en/real-estate/flats/riga/centre/gjblo.html',\n",
       "  'Street': 'Avotu 66',\n",
       "  'R.': '1',\n",
       "  'm2': '25',\n",
       "  'Floor': '5/5',\n",
       "  'Series': 'Perewar',\n",
       "  'Price, m2': '7.20 €',\n",
       "  'Price': '180  €/mon.'},\n",
       " {'description': 'Labs Piedavājums Par Labu Cenu\\r\\nDivistabas dzīvoklis izīrē Namīp',\n",
       "  'url': 'https://ss.com/msg/en/real-estate/flats/riga/centre/hdnkg.html',\n",
       "  'Street': 'Avotu 61',\n",
       "  'R.': '2',\n",
       "  'm2': '41',\n",
       "  'Floor': '1/2',\n",
       "  'Series': 'Stalin pr.',\n",
       "  'Price, m2': '4.02 €',\n",
       "  'Price': '165  €/mon.'}]"
      ]
     },
     "execution_count": 38,
     "metadata": {},
     "output_type": "execute_result"
    }
   ],
   "source": [
    "row_ads = getRows(apt_rows)\n",
    "row_ads[-3:]"
   ]
  },
  {
   "cell_type": "code",
   "execution_count": 39,
   "metadata": {},
   "outputs": [
    {
     "data": {
      "text/plain": [
       "list"
      ]
     },
     "execution_count": 39,
     "metadata": {},
     "output_type": "execute_result"
    }
   ],
   "source": [
    "type(row_ads) # so a list of dictionaries well suited for conversion to Pandas"
   ]
  },
  {
   "cell_type": "code",
   "execution_count": 40,
   "metadata": {},
   "outputs": [
    {
     "data": {
      "text/plain": [
       "(30, 9)"
      ]
     },
     "execution_count": 40,
     "metadata": {},
     "output_type": "execute_result"
    }
   ],
   "source": [
    "dtemp = pd.DataFrame(row_ads, columns=column_names)\n",
    "dtemp.shape"
   ]
  },
  {
   "cell_type": "code",
   "execution_count": 41,
   "metadata": {},
   "outputs": [
    {
     "data": {
      "text/html": [
       "<div>\n",
       "<style scoped>\n",
       "    .dataframe tbody tr th:only-of-type {\n",
       "        vertical-align: middle;\n",
       "    }\n",
       "\n",
       "    .dataframe tbody tr th {\n",
       "        vertical-align: top;\n",
       "    }\n",
       "\n",
       "    .dataframe thead th {\n",
       "        text-align: right;\n",
       "    }\n",
       "</style>\n",
       "<table border=\"1\" class=\"dataframe\">\n",
       "  <thead>\n",
       "    <tr style=\"text-align: right;\">\n",
       "      <th></th>\n",
       "      <th>description</th>\n",
       "      <th>url</th>\n",
       "      <th>Street</th>\n",
       "      <th>R.</th>\n",
       "      <th>m2</th>\n",
       "      <th>Floor</th>\n",
       "      <th>Series</th>\n",
       "      <th>Price, m2</th>\n",
       "      <th>Price</th>\n",
       "    </tr>\n",
       "  </thead>\n",
       "  <tbody>\n",
       "    <tr>\n",
       "      <th>0</th>\n",
       "      <td>Izīrē dzīvokli ar mājīgu un komfortablu iekārt...</td>\n",
       "      <td>https://ss.com/msg/en/real-estate/flats/riga/c...</td>\n",
       "      <td>Stabu 49</td>\n",
       "      <td>2</td>\n",
       "      <td>50</td>\n",
       "      <td>4/5</td>\n",
       "      <td>Perewar</td>\n",
       "      <td>6 €</td>\n",
       "      <td>300  €/mon.</td>\n",
       "    </tr>\n",
       "    <tr>\n",
       "      <th>1</th>\n",
       "      <td>Tiek izīrēts lielisks 2 istabu dzīvoklis ar sk...</td>\n",
       "      <td>https://ss.com/msg/en/real-estate/flats/riga/c...</td>\n",
       "      <td>Merkela 17</td>\n",
       "      <td>2</td>\n",
       "      <td>49</td>\n",
       "      <td>4/5</td>\n",
       "      <td>Perewar</td>\n",
       "      <td>11.22 €</td>\n",
       "      <td>550  €/mon.</td>\n",
       "    </tr>\n",
       "    <tr>\n",
       "      <th>2</th>\n",
       "      <td>Īpašnieks izīrē , tiko pēc remonta , ar sadzīv...</td>\n",
       "      <td>https://ss.com/msg/en/real-estate/flats/riga/c...</td>\n",
       "      <td>Deglava 9</td>\n",
       "      <td>1</td>\n",
       "      <td>26</td>\n",
       "      <td>1/6</td>\n",
       "      <td>Recon.</td>\n",
       "      <td>13.42 €</td>\n",
       "      <td>349  €/mon.</td>\n",
       "    </tr>\n",
       "    <tr>\n",
       "      <th>3</th>\n",
       "      <td>Владелец сдает новую 2-уровневую квартиру (гос...</td>\n",
       "      <td>https://ss.com/msg/en/real-estate/flats/riga/c...</td>\n",
       "      <td>Brivibas 101</td>\n",
       "      <td>3</td>\n",
       "      <td>73</td>\n",
       "      <td>1/5</td>\n",
       "      <td>Perewar</td>\n",
       "      <td>6.85 €</td>\n",
       "      <td>500  €/mon.</td>\n",
       "    </tr>\n",
       "    <tr>\n",
       "      <th>4</th>\n",
       "      <td>Доступна уже сегодня. Владелец сдает новую ква...</td>\n",
       "      <td>https://ss.com/msg/en/real-estate/flats/riga/c...</td>\n",
       "      <td>Lachplesha 121</td>\n",
       "      <td>2</td>\n",
       "      <td>43</td>\n",
       "      <td>2/6</td>\n",
       "      <td>New</td>\n",
       "      <td>8.95 €</td>\n",
       "      <td>385  €/mon.</td>\n",
       "    </tr>\n",
       "  </tbody>\n",
       "</table>\n",
       "</div>"
      ],
      "text/plain": [
       "                                         description  \\\n",
       "0  Izīrē dzīvokli ar mājīgu un komfortablu iekārt...   \n",
       "1  Tiek izīrēts lielisks 2 istabu dzīvoklis ar sk...   \n",
       "2  Īpašnieks izīrē , tiko pēc remonta , ar sadzīv...   \n",
       "3  Владелец сдает новую 2-уровневую квартиру (гос...   \n",
       "4  Доступна уже сегодня. Владелец сдает новую ква...   \n",
       "\n",
       "                                                 url          Street R.  m2  \\\n",
       "0  https://ss.com/msg/en/real-estate/flats/riga/c...        Stabu 49  2  50   \n",
       "1  https://ss.com/msg/en/real-estate/flats/riga/c...      Merkela 17  2  49   \n",
       "2  https://ss.com/msg/en/real-estate/flats/riga/c...       Deglava 9  1  26   \n",
       "3  https://ss.com/msg/en/real-estate/flats/riga/c...    Brivibas 101  3  73   \n",
       "4  https://ss.com/msg/en/real-estate/flats/riga/c...  Lachplesha 121  2  43   \n",
       "\n",
       "  Floor   Series Price, m2        Price  \n",
       "0   4/5  Perewar       6 €  300  €/mon.  \n",
       "1   4/5  Perewar   11.22 €  550  €/mon.  \n",
       "2   1/6   Recon.   13.42 €  349  €/mon.  \n",
       "3   1/5  Perewar    6.85 €  500  €/mon.  \n",
       "4   2/6      New    8.95 €  385  €/mon.  "
      ]
     },
     "execution_count": 41,
     "metadata": {},
     "output_type": "execute_result"
    }
   ],
   "source": [
    "dtemp.head()"
   ]
  },
  {
   "cell_type": "code",
   "execution_count": 42,
   "metadata": {},
   "outputs": [],
   "source": [
    "dtemp.to_excel(\"centrs_30.xlsx\")"
   ]
  },
  {
   "cell_type": "code",
   "execution_count": 44,
   "metadata": {},
   "outputs": [
    {
     "data": {
      "text/plain": [
       "'https://www.ss.com/en/real-estate/flats/riga/centre/hand_over/'"
      ]
     },
     "execution_count": 44,
     "metadata": {},
     "output_type": "execute_result"
    }
   ],
   "source": [
    "centrs"
   ]
  },
  {
   "cell_type": "code",
   "execution_count": 45,
   "metadata": {},
   "outputs": [
    {
     "data": {
      "text/plain": [
       "['https:',\n",
       " '',\n",
       " 'www.ss.com',\n",
       " 'en',\n",
       " 'real-estate',\n",
       " 'flats',\n",
       " 'riga',\n",
       " 'centre',\n",
       " 'hand_over',\n",
       " '']"
      ]
     },
     "execution_count": 45,
     "metadata": {},
     "output_type": "execute_result"
    }
   ],
   "source": [
    "tokens = centrs.split(\"/\")\n",
    "tokens"
   ]
  },
  {
   "cell_type": "code",
   "execution_count": 46,
   "metadata": {},
   "outputs": [
    {
     "data": {
      "text/plain": [
       "'centre_hand_over'"
      ]
     },
     "execution_count": 46,
     "metadata": {},
     "output_type": "execute_result"
    }
   ],
   "source": [
    "prefix = tokens[-3]+\"_\"+tokens[-2]\n",
    "prefix"
   ]
  },
  {
   "cell_type": "code",
   "execution_count": 47,
   "metadata": {},
   "outputs": [],
   "source": [
    "from datetime import datetime"
   ]
  },
  {
   "cell_type": "code",
   "execution_count": 53,
   "metadata": {},
   "outputs": [
    {
     "data": {
      "text/plain": [
       "(2020, 12, 2, 17, 54)"
      ]
     },
     "execution_count": 53,
     "metadata": {},
     "output_type": "execute_result"
    }
   ],
   "source": [
    "now = datetime.now()\n",
    "now.year, now.month, now.day, now.hour, now.minute"
   ]
  },
  {
   "cell_type": "code",
   "execution_count": 56,
   "metadata": {},
   "outputs": [
    {
     "data": {
      "text/plain": [
       "'centre_hand_over_12_2_17_54.xlsx'"
      ]
     },
     "execution_count": 56,
     "metadata": {},
     "output_type": "execute_result"
    }
   ],
   "source": [
    "fname = f\"{prefix}_{now.month}_{now.day}_{ now.hour}_{ now.minute}.xlsx\"\n",
    "fname"
   ]
  },
  {
   "cell_type": "code",
   "execution_count": 51,
   "metadata": {},
   "outputs": [
    {
     "data": {
      "text/plain": [
       "<method 'timestamp' of 'datetime.datetime' objects>"
      ]
     },
     "execution_count": 51,
     "metadata": {},
     "output_type": "execute_result"
    }
   ],
   "source": [
    "datetime.timestamp()"
   ]
  },
  {
   "cell_type": "code",
   "execution_count": 60,
   "metadata": {},
   "outputs": [],
   "source": [
    "def getDFfromURL(url, save_to_excel=False):\n",
    "    # print(\"getting data from\", url)\n",
    "    req = requests.get(url)\n",
    "    if req.status_code != 200:\n",
    "        print(\"Request Fail with\", req.status_code)\n",
    "        return None # maybe return empty dataframe here\n",
    "    soup = BeautifulSoup(req.text, 'lxml')\n",
    "    column_names = getColList(soup)\n",
    "    rowlist = getRowList(soup)\n",
    "    rows = getRows(rowlist,colist=column_names)\n",
    "    df = pd.DataFrame(rows, columns=column_names)\n",
    "    if save_to_excel:\n",
    "        tokens = url.split(\"/\")\n",
    "        prefix = tokens[-3]+\"_\"+tokens[-2]\n",
    "        now = datetime.now()\n",
    "        fname = f\"{prefix}_{now.month}_{now.day}_{now.hour}_{now.minute}.xlsx\"\n",
    "        df.to_excel(fname)\n",
    "    return df"
   ]
  },
  {
   "cell_type": "code",
   "execution_count": null,
   "metadata": {},
   "outputs": [],
   "source": [
    "centrs"
   ]
  },
  {
   "cell_type": "code",
   "execution_count": 61,
   "metadata": {},
   "outputs": [],
   "source": [
    "df = getDFfromURL(centrs, save_to_excel=True)"
   ]
  },
  {
   "cell_type": "code",
   "execution_count": 62,
   "metadata": {},
   "outputs": [
    {
     "data": {
      "text/plain": [
       "(30, 9)"
      ]
     },
     "execution_count": 62,
     "metadata": {},
     "output_type": "execute_result"
    }
   ],
   "source": [
    "df.shape"
   ]
  },
  {
   "cell_type": "code",
   "execution_count": 63,
   "metadata": {},
   "outputs": [
    {
     "data": {
      "text/html": [
       "<div>\n",
       "<style scoped>\n",
       "    .dataframe tbody tr th:only-of-type {\n",
       "        vertical-align: middle;\n",
       "    }\n",
       "\n",
       "    .dataframe tbody tr th {\n",
       "        vertical-align: top;\n",
       "    }\n",
       "\n",
       "    .dataframe thead th {\n",
       "        text-align: right;\n",
       "    }\n",
       "</style>\n",
       "<table border=\"1\" class=\"dataframe\">\n",
       "  <thead>\n",
       "    <tr style=\"text-align: right;\">\n",
       "      <th></th>\n",
       "      <th>description</th>\n",
       "      <th>url</th>\n",
       "      <th>Street</th>\n",
       "      <th>R.</th>\n",
       "      <th>m2</th>\n",
       "      <th>Floor</th>\n",
       "      <th>Series</th>\n",
       "      <th>Price, m2</th>\n",
       "      <th>Price</th>\n",
       "    </tr>\n",
       "  </thead>\n",
       "  <tbody>\n",
       "    <tr>\n",
       "      <th>0</th>\n",
       "      <td>Divistabu dzīvoklis ar bezmaksas stāvvietu pie...</td>\n",
       "      <td>https://ss.com/msg/en/real-estate/flats/riga/c...</td>\n",
       "      <td>Miera 97</td>\n",
       "      <td>2</td>\n",
       "      <td>39</td>\n",
       "      <td>4/5</td>\n",
       "      <td>Chrusch.</td>\n",
       "      <td>8.46 €</td>\n",
       "      <td>330  €/mon.</td>\n",
       "    </tr>\n",
       "    <tr>\n",
       "      <th>1</th>\n",
       "      <td>Izīrē pilnībā mēbelētu dzīvokli jaunāja projek...</td>\n",
       "      <td>https://ss.com/msg/en/real-estate/flats/riga/c...</td>\n",
       "      <td>Terbatas 26a</td>\n",
       "      <td>2</td>\n",
       "      <td>31</td>\n",
       "      <td>2/5</td>\n",
       "      <td>New</td>\n",
       "      <td>14.52 €</td>\n",
       "      <td>450  €/mon.</td>\n",
       "    </tr>\n",
       "    <tr>\n",
       "      <th>2</th>\n",
       "      <td>Izīrē pilnībā mēbelētu dzīvokli pilsētas centr...</td>\n",
       "      <td>https://ss.com/msg/en/real-estate/flats/riga/c...</td>\n",
       "      <td>Terbatas 26a</td>\n",
       "      <td>2</td>\n",
       "      <td>43</td>\n",
       "      <td>1/6</td>\n",
       "      <td>New</td>\n",
       "      <td>10.47 €</td>\n",
       "      <td>450  €/mon.</td>\n",
       "    </tr>\n",
       "    <tr>\n",
       "      <th>3</th>\n",
       "      <td>Izīrē 2-istabu dzīvokli pēc kapitālā remonta a...</td>\n",
       "      <td>https://ss.com/msg/en/real-estate/flats/riga/c...</td>\n",
       "      <td>Chaka 148</td>\n",
       "      <td>2</td>\n",
       "      <td>60</td>\n",
       "      <td>3/5</td>\n",
       "      <td>Perewar</td>\n",
       "      <td>7.50 €</td>\n",
       "      <td>450  €/mon.</td>\n",
       "    </tr>\n",
       "    <tr>\n",
       "      <th>4</th>\n",
       "      <td>Īpašniece piedāvā īrei ērtu, studijas tipa dzī...</td>\n",
       "      <td>https://ss.com/msg/en/real-estate/flats/riga/c...</td>\n",
       "      <td>Artilerijas 19</td>\n",
       "      <td>1</td>\n",
       "      <td>35</td>\n",
       "      <td>3/4</td>\n",
       "      <td>Recon.</td>\n",
       "      <td>10.57 €</td>\n",
       "      <td>370  €/mon.</td>\n",
       "    </tr>\n",
       "  </tbody>\n",
       "</table>\n",
       "</div>"
      ],
      "text/plain": [
       "                                         description  \\\n",
       "0  Divistabu dzīvoklis ar bezmaksas stāvvietu pie...   \n",
       "1  Izīrē pilnībā mēbelētu dzīvokli jaunāja projek...   \n",
       "2  Izīrē pilnībā mēbelētu dzīvokli pilsētas centr...   \n",
       "3  Izīrē 2-istabu dzīvokli pēc kapitālā remonta a...   \n",
       "4  Īpašniece piedāvā īrei ērtu, studijas tipa dzī...   \n",
       "\n",
       "                                                 url          Street R.  m2  \\\n",
       "0  https://ss.com/msg/en/real-estate/flats/riga/c...        Miera 97  2  39   \n",
       "1  https://ss.com/msg/en/real-estate/flats/riga/c...    Terbatas 26a  2  31   \n",
       "2  https://ss.com/msg/en/real-estate/flats/riga/c...    Terbatas 26a  2  43   \n",
       "3  https://ss.com/msg/en/real-estate/flats/riga/c...       Chaka 148  2  60   \n",
       "4  https://ss.com/msg/en/real-estate/flats/riga/c...  Artilerijas 19  1  35   \n",
       "\n",
       "  Floor    Series Price, m2        Price  \n",
       "0   4/5  Chrusch.    8.46 €  330  €/mon.  \n",
       "1   2/5       New   14.52 €  450  €/mon.  \n",
       "2   1/6       New   10.47 €  450  €/mon.  \n",
       "3   3/5   Perewar    7.50 €  450  €/mon.  \n",
       "4   3/4    Recon.   10.57 €  370  €/mon.  "
      ]
     },
     "execution_count": 63,
     "metadata": {},
     "output_type": "execute_result"
    }
   ],
   "source": [
    "df.head()"
   ]
  },
  {
   "cell_type": "markdown",
   "metadata": {},
   "source": [
    "## Now we want to find all pages with the same ads from the area\n",
    "### some urls might have many ads some might have a single page"
   ]
  },
  {
   "cell_type": "code",
   "execution_count": null,
   "metadata": {},
   "outputs": [],
   "source": [
    "\n",
    "# https://developer.mozilla.org/en-US/docs/Web/HTML/Element/a\n",
    "anchors = soup.find_all(\"a\")\n",
    "len(anchors)"
   ]
  },
  {
   "cell_type": "code",
   "execution_count": null,
   "metadata": {},
   "outputs": [],
   "source": [
    "anchors[:5]"
   ]
  },
  {
   "cell_type": "code",
   "execution_count": null,
   "metadata": {},
   "outputs": [],
   "source": [
    "navs = [anchor for anchor in anchors if anchor.get(\"name\") == \"nav_id\"] # get will get us None if no \"name\" exists\n",
    "len(navs)"
   ]
  },
  {
   "cell_type": "code",
   "execution_count": null,
   "metadata": {},
   "outputs": [],
   "source": [
    "navs[0]"
   ]
  },
  {
   "cell_type": "code",
   "execution_count": null,
   "metadata": {},
   "outputs": [],
   "source": [
    "navs[0].attrs"
   ]
  },
  {
   "cell_type": "code",
   "execution_count": null,
   "metadata": {},
   "outputs": [],
   "source": [
    "navs[0]['href']"
   ]
  },
  {
   "cell_type": "code",
   "execution_count": null,
   "metadata": {},
   "outputs": [],
   "source": [
    "# could use regular expression here but we can use split \n",
    "afterpage = navs[0]['href'].split(\"/page\")[-1] # -1 might be safer than 1 in case there is region with name page\n",
    "afterpage"
   ]
  },
  {
   "cell_type": "code",
   "execution_count": null,
   "metadata": {},
   "outputs": [],
   "source": [
    "beforedot = afterpage.split(\".html\")[0]\n",
    "beforedot"
   ]
  },
  {
   "cell_type": "code",
   "execution_count": null,
   "metadata": {},
   "outputs": [],
   "source": [
    "lastpage = int(beforedot)\n",
    "lastpage"
   ]
  },
  {
   "cell_type": "code",
   "execution_count": null,
   "metadata": {},
   "outputs": [],
   "source": [
    "def getAllLocalUrls(url):\n",
    "    \"\"\"Get a list of all urls including paginated pages\"\"\"\n",
    "    results = [url] # default is just the url if no extra pages found\n",
    "    req = requests.get(url)\n",
    "    if req.status_code != 200:\n",
    "        print(f\"Bad response! {req.status_code}\")\n",
    "        return []\n",
    "    soup = BeautifulSoup(req.text, 'lxml')\n",
    "    # we just need a one element\n",
    "    prevanchor = soup.find('a', {\"rel\":\"prev\"})\n",
    "    if prevanchor == None: # means there is only one page of ads\n",
    "        return results\n",
    "    href = prevanchor.attrs.get('href')\n",
    "    lastPageNum = int(href.split('/page')[-1].split('.html')[0])\n",
    "    print(\"Last page is\",lastPageNum)\n",
    "    nurls = [f\"{url}page{n}.html\" for n in range(2,lastPageNum+1)]\n",
    "    results += nurls\n",
    "    return results"
   ]
  },
  {
   "cell_type": "code",
   "execution_count": null,
   "metadata": {},
   "outputs": [],
   "source": [
    "centrs"
   ]
  },
  {
   "cell_type": "code",
   "execution_count": null,
   "metadata": {},
   "outputs": [],
   "source": [
    "local_urls = getAllLocalUrls(centrs)\n",
    "len(local_urls),local_urls[:3],local_urls[-1]"
   ]
  },
  {
   "cell_type": "code",
   "execution_count": null,
   "metadata": {},
   "outputs": [],
   "source": [
    "dlast = getDFfromURL(local_urls[-1])\n",
    "dlast.shape"
   ]
  },
  {
   "cell_type": "code",
   "execution_count": null,
   "metadata": {
    "scrolled": true
   },
   "outputs": [],
   "source": [
    "dlast"
   ]
  },
  {
   "cell_type": "code",
   "execution_count": null,
   "metadata": {},
   "outputs": [],
   "source": [
    "def get_all_ads_df(start_url, save_excel_path=None):\n",
    "    df_list=[] # so we will save our dataframes in a list\n",
    "    local_urls = getAllLocalUrls(start_url)\n",
    "    for url in local_urls:\n",
    "        print(f\"Gathering data from {url}\")\n",
    "        df_list.append(getDFfromURL(url))\n",
    "        time.sleep(0.3) # we need this to play nice!\n",
    "    # https://pandas.pydata.org/pandas-docs/stable/reference/api/pandas.concat.html\n",
    "    big_df = pd.concat(df_list) # then make a big dataframe from all the small dataframes\n",
    "    if save_excel_path:\n",
    "        big_df.to_excel(save_excel_path)\n",
    "    return big_df\n",
    "    "
   ]
  },
  {
   "cell_type": "code",
   "execution_count": null,
   "metadata": {},
   "outputs": [],
   "source": [
    "centrs"
   ]
  },
  {
   "cell_type": "code",
   "execution_count": null,
   "metadata": {},
   "outputs": [],
   "source": [
    "df = get_all_ads_df(centrs, \"centrs_25_11.xlsx\")"
   ]
  },
  {
   "cell_type": "code",
   "execution_count": null,
   "metadata": {},
   "outputs": [],
   "source": [
    "df.shape"
   ]
  },
  {
   "cell_type": "code",
   "execution_count": null,
   "metadata": {},
   "outputs": [],
   "source": [
    "df.head()"
   ]
  },
  {
   "cell_type": "code",
   "execution_count": null,
   "metadata": {},
   "outputs": [],
   "source": [
    "df.tail()"
   ]
  },
  {
   "cell_type": "code",
   "execution_count": null,
   "metadata": {},
   "outputs": [],
   "source": [
    "df.shape"
   ]
  },
  {
   "cell_type": "code",
   "execution_count": null,
   "metadata": {},
   "outputs": [],
   "source": [
    "#we can do more post processing - feature engineering using existing columns\n",
    "df[['Floor','MaxFloor']] = df.Stāvs.str.split(\"/\",expand=True) \n",
    "df.head()"
   ]
  },
  {
   "cell_type": "code",
   "execution_count": null,
   "metadata": {},
   "outputs": [],
   "source": [
    "df.sort_values(by=\"Floor\",ascending=False).head()"
   ]
  },
  {
   "cell_type": "code",
   "execution_count": null,
   "metadata": {},
   "outputs": [],
   "source": [
    "df.to_excel(\"c:/temp/my_apartments.xlsx\") # i could this with absolute path"
   ]
  },
  {
   "cell_type": "code",
   "execution_count": null,
   "metadata": {},
   "outputs": [],
   "source": [
    "from datetime import datetime as dt\n",
    "now = dt.now()\n",
    "now.month, now.day, now.hour, now.second"
   ]
  },
  {
   "cell_type": "code",
   "execution_count": null,
   "metadata": {},
   "outputs": [],
   "source": [
    "url = \"https://www.ss.com/lv/real-estate/flats/riga/sarkandaugava/hand_over/\"\n",
    "region = url.split(\"riga/\")[-1].split(\"/\")[0]\n",
    "now = dt.now()\n",
    "save_path = f\"../data/{region}_{now.day}_{now.month}__{now.hour}_{now.second}.xlsx\"\n",
    "save_path"
   ]
  },
  {
   "cell_type": "code",
   "execution_count": null,
   "metadata": {},
   "outputs": [],
   "source": [
    "url = \"https://www.ss.com/lv/real-estate/flats/riga/sarkandaugava/hand_over/\"\n",
    "region = url.split(\"riga/\")[-1].split(\"/\")[0]\n",
    "now = dt.now()\n",
    "save_path = f\"../data/{region}_{now.day}_{now.month}__{now.hour}_{now.second}.xlsx\"\n",
    "\n",
    "df = get_all_ads_df(url, save_path)"
   ]
  },
  {
   "cell_type": "code",
   "execution_count": null,
   "metadata": {},
   "outputs": [],
   "source": [
    "url = \"https://www.ss.com/lv/transport/cars/vaz/riga_f/\"\n",
    "df = get_all_ads_df(url, \"../data/vaz_25_11.xlsx\")"
   ]
  },
  {
   "cell_type": "markdown",
   "metadata": {},
   "source": [
    "# TODO \n",
    "# Try with different starting address not only centrs\n",
    "## Maybe combine regions\n",
    "## See how it would work with maybe cars\n",
    "## Data engineering make new columns based on existing ones, clean some columns\n",
    "### Changing floors 2/6 to columns 2 and 6, clean up Euro signs\n",
    "## Sorting, Describing, Grouping by regions etc"
   ]
  },
  {
   "cell_type": "code",
   "execution_count": null,
   "metadata": {},
   "outputs": [],
   "source": [
    "df = pd.read_excel(\"centrs_25_11.xlsx\")\n",
    "df.head()"
   ]
  },
  {
   "cell_type": "code",
   "execution_count": null,
   "metadata": {},
   "outputs": [],
   "source": [
    "df[\"price\"] = df.Cena.str.split(' ').str[0]\n",
    "df.head()"
   ]
  },
  {
   "cell_type": "code",
   "execution_count": null,
   "metadata": {},
   "outputs": [],
   "source": [
    "df.price = df.price.str.replace(\",\",\"\").astype('int32')\n",
    "df.head()"
   ]
  },
  {
   "cell_type": "code",
   "execution_count": null,
   "metadata": {},
   "outputs": [],
   "source": [
    "df.price.hist()"
   ]
  },
  {
   "cell_type": "code",
   "execution_count": null,
   "metadata": {},
   "outputs": [],
   "source": [
    "df[['Floor','MaxFloor']] = df.Stāvs.str.split(\"/\",expand=True) \n",
    "df.info()"
   ]
  },
  {
   "cell_type": "code",
   "execution_count": null,
   "metadata": {},
   "outputs": [],
   "source": [
    "#typecasting example\n",
    "df.Floor = df.Floor.astype('int32')\n",
    "df.MaxFloor = df.MaxFloor.astype('int32')"
   ]
  },
  {
   "cell_type": "code",
   "execution_count": null,
   "metadata": {},
   "outputs": [],
   "source": [
    "df.describe().T # T is for transposing rows and columns"
   ]
  },
  {
   "cell_type": "code",
   "execution_count": null,
   "metadata": {},
   "outputs": [],
   "source": [
    "df.describe().T.to_csv(\"center_stats.csv\")"
   ]
  },
  {
   "cell_type": "code",
   "execution_count": null,
   "metadata": {},
   "outputs": [],
   "source": [
    "import plotly.express as px"
   ]
  },
  {
   "cell_type": "code",
   "execution_count": null,
   "metadata": {},
   "outputs": [],
   "source": [
    "fig = px.histogram(df, x=\"price\")\n",
    "fig.show()"
   ]
  },
  {
   "cell_type": "code",
   "execution_count": null,
   "metadata": {},
   "outputs": [],
   "source": [
    "import seaborn as sns # seaborn sits on top of matplotlib with better defaults\n",
    "import matplotlib.pyplot as plt\n"
   ]
  },
  {
   "cell_type": "code",
   "execution_count": null,
   "metadata": {},
   "outputs": [],
   "source": [
    "# Basic correlogram\n",
    "sns.pairplot(df)\n",
    "\n"
   ]
  },
  {
   "cell_type": "code",
   "execution_count": null,
   "metadata": {},
   "outputs": [],
   "source": [
    "# Basic correlogram\n",
    "sns.pairplot(df)\n",
    "\n"
   ]
  },
  {
   "cell_type": "code",
   "execution_count": null,
   "metadata": {},
   "outputs": [],
   "source": [
    "volvo_url = \"https://www.ss.com/lv/transport/cars/volvo/sell/\"\n",
    "gr_auto = df.groupby([\"Gads\",\"Modelis\"])[\"Cena\"].agg([\"min\", \"max\", \"mean\"])  #.head(n = 10)\n"
   ]
  },
  {
   "cell_type": "code",
   "execution_count": null,
   "metadata": {},
   "outputs": [],
   "source": [
    "print(dt.today())"
   ]
  },
  {
   "cell_type": "code",
   "execution_count": null,
   "metadata": {},
   "outputs": [],
   "source": [
    "suzuki_url = \"https://www.ss.com/lv/transport/cars/suzuki/\"\n",
    "# sdf = get_all_ads_df(suzuki_url, f\"suzuki_{dt.today()}.xlsx\")\n",
    "sdf = get_all_ads_df(suzuki_url, f\"suzuki.xlsx\")\n",
    "sdf.head()"
   ]
  },
  {
   "cell_type": "code",
   "execution_count": null,
   "metadata": {},
   "outputs": [],
   "source": [
    "sdf.info()"
   ]
  },
  {
   "cell_type": "code",
   "execution_count": null,
   "metadata": {},
   "outputs": [],
   "source": [
    "sdf[\"Tilp.\"] = sdf[\"Tilp.\"].str.replace(\"\\w\",\"\", regex=True)\n",
    "sdf.head()"
   ]
  },
  {
   "cell_type": "code",
   "execution_count": null,
   "metadata": {},
   "outputs": [],
   "source": [
    "sdf[\"Nobrauk.\"] = sdf[\"Nobrauk.\"].str.replace(\"\\D\",\"\", regex=True) # so no digits removed\n",
    "sdf.head()"
   ]
  },
  {
   "cell_type": "code",
   "execution_count": null,
   "metadata": {},
   "outputs": [],
   "source": [
    "sdf[\"Cena\"] = sdf[\"Cena\"].str.replace(\"\\D\",\"\", regex=True) # so no digits removed\n",
    "sdf.head()"
   ]
  },
  {
   "cell_type": "code",
   "execution_count": null,
   "metadata": {},
   "outputs": [],
   "source": [
    "sdf = sdf.dropna(how=\"any\", axis=0)\n",
    "sdf"
   ]
  },
  {
   "cell_type": "code",
   "execution_count": null,
   "metadata": {},
   "outputs": [],
   "source": [
    "sdf = sdf[sdf[\"Nobrauk.\"].str.len() > 0] # got rid of those empty rows finally\n",
    "sdf"
   ]
  },
  {
   "cell_type": "code",
   "execution_count": null,
   "metadata": {},
   "outputs": [],
   "source": []
  },
  {
   "cell_type": "code",
   "execution_count": null,
   "metadata": {},
   "outputs": [],
   "source": [
    "sdf[\"Cena\"] = sdf[\"Cena\"].astype(\"float32\")"
   ]
  },
  {
   "cell_type": "code",
   "execution_count": null,
   "metadata": {},
   "outputs": [],
   "source": [
    "gr_auto = sdf.groupby([\"Gads\",\"Modelis\"])[\"Cena\"].agg([\"count\",\"min\", \"max\", \"mean\"]) \n",
    "gr_auto"
   ]
  },
  {
   "cell_type": "code",
   "execution_count": null,
   "metadata": {},
   "outputs": [],
   "source": []
  }
 ],
 "metadata": {
  "kernelspec": {
   "display_name": "Python 3 (ipykernel)",
   "language": "python",
   "name": "python3"
  },
  "language_info": {
   "codemirror_mode": {
    "name": "ipython",
    "version": 3
   },
   "file_extension": ".py",
   "mimetype": "text/x-python",
   "name": "python",
   "nbconvert_exporter": "python",
   "pygments_lexer": "ipython3",
   "version": "3.9.7"
  }
 },
 "nbformat": 4,
 "nbformat_minor": 4
}
