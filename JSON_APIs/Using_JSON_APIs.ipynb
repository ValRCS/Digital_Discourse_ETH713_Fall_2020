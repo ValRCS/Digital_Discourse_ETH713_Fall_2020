{
  "cells": [
    {
      "cell_type": "markdown",
      "metadata": {
        "id": "hcZrk16fWH77"
      },
      "source": [
        "## JSON"
      ]
    },
    {
      "cell_type": "markdown",
      "metadata": {
        "id": "wC4Q4oGwWH79"
      },
      "source": [
        "# JSON - Javascript Object Notation\n",
        "#### Invented by Douglas Crockford when working at Yahoo in early 2000s.\n",
        "\n",
        "* Goal - Human Readable, Machine Parsable\n",
        "\n",
        "* Specification: https://www.json.org/"
      ]
    },
    {
      "cell_type": "markdown",
      "metadata": {
        "id": "_anQwgX4WH7-"
      },
      "source": [
        "JSON — short for JavaScript Object Notation — format for sharing data. \n",
        "\n",
        "JSON is derived from the JavaScript programming language\n",
        "\n",
        "Available for use by many languages including Python \n",
        "\n",
        "usually file extension is .json when stored\n",
        "\n"
      ]
    },
    {
      "cell_type": "code",
      "execution_count": null,
      "metadata": {
        "id": "HgVJQxmeWH7_"
      },
      "outputs": [],
      "source": [
        "# Sample JSON below from https://json.org/example.html\n",
        "# Question why is Syntax highlighting working properly ? :)"
      ]
    },
    {
      "cell_type": "code",
      "execution_count": 1,
      "metadata": {
        "colab": {
          "base_uri": "https://localhost:8080/"
        },
        "id": "UmLDxSmxWH8A",
        "outputId": "f3076cc4-26a2-4ac9-b380-aedd66304345"
      },
      "outputs": [
        {
          "data": {
            "text/plain": [
              "{'widget': {'debug': 'on',\n",
              "  'window': {'title': 'Sample Konfabulator Widget',\n",
              "   'name': 'main_window',\n",
              "   'width': 500,\n",
              "   'height': 500},\n",
              "  'image': {'src': 'Images/Sun.png',\n",
              "   'name': 'sun1',\n",
              "   'hOffset': 250,\n",
              "   'vOffset': 250,\n",
              "   'alignment': 'center'},\n",
              "  'text': {'data': 'Click Here',\n",
              "   'size': 36,\n",
              "   'style': 'bold',\n",
              "   'name': 'text1',\n",
              "   'hOffset': 250,\n",
              "   'vOffset': 100,\n",
              "   'alignment': 'center',\n",
              "   'onMouseUp': 'sun1.opacity = (sun1.opacity / 100) * 90;'}}}"
            ]
          },
          "execution_count": 1,
          "metadata": {},
          "output_type": "execute_result"
        }
      ],
      "source": [
        "{\"widget\": {\n",
        "    \"debug\": \"on\",\n",
        "    \"window\": {\n",
        "        \"title\": \"Sample Konfabulator Widget\",\n",
        "        \"name\": \"main_window\",\n",
        "        \"width\": 500,\n",
        "        \"height\": 500\n",
        "    },\n",
        "    \"image\": { \n",
        "        \"src\": \"Images/Sun.png\",\n",
        "        \"name\": \"sun1\",\n",
        "        \"hOffset\": 250,\n",
        "        \"vOffset\": 250,\n",
        "        \"alignment\": \"center\"\n",
        "    },\n",
        "    \"text\": {\n",
        "        \"data\": \"Click Here\",\n",
        "        \"size\": 36,\n",
        "        \"style\": \"bold\",\n",
        "        \"name\": \"text1\",\n",
        "        \"hOffset\": 250,\n",
        "        \"vOffset\": 100,\n",
        "        \"alignment\": \"center\",\n",
        "        \"onMouseUp\": \"sun1.opacity = (sun1.opacity / 100) * 90;\"\n",
        "    }\n",
        "}}    \n"
      ]
    },
    {
      "cell_type": "code",
      "execution_count": 2,
      "metadata": {
        "id": "IcaWfR6tWH8B"
      },
      "outputs": [],
      "source": [
        "# if this was string starting with { it would be our json\n",
        "mydata = {\n",
        "    \"firstName\": \"Jane\",\n",
        "    \"lastName\": \"Doe\",\n",
        "    \"hobbies\": [\"running\", \"sky diving\", \"dancing\"],\n",
        "    \"age\": 43,\n",
        "    \"children\": [\n",
        "        {\n",
        "            \"firstName\": \"Alice\",\n",
        "            \"age\": 7\n",
        "        },\n",
        "        {\n",
        "            \"firstName\": \"Bob\",\n",
        "            \"age\": 13\n",
        "        }\n",
        "    ]\n",
        "}"
      ]
    },
    {
      "cell_type": "code",
      "execution_count": 3,
      "metadata": {
        "colab": {
          "base_uri": "https://localhost:8080/"
        },
        "id": "DPnVWDchWH8B",
        "outputId": "83810193-04c5-40a1-adf6-07c077d5f976"
      },
      "outputs": [
        {
          "data": {
            "text/plain": [
              "dict"
            ]
          },
          "execution_count": 3,
          "metadata": {},
          "output_type": "execute_result"
        }
      ],
      "source": [
        "# now mydata is just a Python dictionary nothing to do with JSON \n",
        "# here we converted JSON text into Python dictionary\n",
        "type(mydata)"
      ]
    },
    {
      "cell_type": "code",
      "execution_count": 4,
      "metadata": {},
      "outputs": [],
      "source": [
        "# reminder that Python dictionary is just a collection of unordered key value pairs"
      ]
    },
    {
      "cell_type": "code",
      "execution_count": 5,
      "metadata": {
        "colab": {
          "base_uri": "https://localhost:8080/"
        },
        "id": "bgxBE896WH8C",
        "outputId": "c1856b8d-3f3d-4a11-bb32-dfbd611a8532"
      },
      "outputs": [
        {
          "name": "stdout",
          "output_type": "stream",
          "text": [
            "{'firstName': 'Jane', 'lastName': 'Doe', 'hobbies': ['running', 'sky diving', 'dancing'], 'age': 43, 'children': [{'firstName': 'Alice', 'age': 7}, {'firstName': 'Bob', 'age': 13}]}\n"
          ]
        }
      ],
      "source": [
        "print(mydata) # this is not JSON anymore this is just a Python dictionary(could have come from another source not only JSON)"
      ]
    },
    {
      "cell_type": "code",
      "execution_count": null,
      "metadata": {},
      "outputs": [],
      "source": [
        "# so mydata is just a Python dictionary nothing to do with JSON anymore\n",
        "# mydata contains keys and values\n",
        "# some of the values are strings, some are integers, some are lists, some are dictionaries\n",
        "# and some lists contain dictionaries and some dictionaries contain lists\n",
        "# it is very common for data obtained from JSON to be nested - hierarchically structured"
      ]
    },
    {
      "cell_type": "code",
      "execution_count": 6,
      "metadata": {
        "colab": {
          "base_uri": "https://localhost:8080/"
        },
        "id": "_9l4r1VQWH8C",
        "outputId": "f6891192-a519-44b5-9495-5efadc161430"
      },
      "outputs": [
        {
          "data": {
            "text/plain": [
              "[{'firstName': 'Alice', 'age': 7}, {'firstName': 'Bob', 'age': 13}]"
            ]
          },
          "execution_count": 6,
          "metadata": {},
          "output_type": "execute_result"
        }
      ],
      "source": [
        "mydata['children'] # we use key to get value in this case we get a list"
      ]
    },
    {
      "cell_type": "code",
      "execution_count": 7,
      "metadata": {
        "colab": {
          "base_uri": "https://localhost:8080/"
        },
        "id": "Rf_xj8jaWH8D",
        "outputId": "47e7bd6b-6d6e-4a01-b823-46817e26f54e"
      },
      "outputs": [
        {
          "data": {
            "text/plain": [
              "list"
            ]
          },
          "execution_count": 7,
          "metadata": {},
          "output_type": "execute_result"
        }
      ],
      "source": [
        "type(mydata['children']) # when you see square brackets in json expect a list in Python"
      ]
    },
    {
      "cell_type": "code",
      "execution_count": 8,
      "metadata": {
        "colab": {
          "base_uri": "https://localhost:8080/"
        },
        "id": "93BDG7zdWH8D",
        "outputId": "47feb18c-2958-4a35-b4d8-1c89452f6732"
      },
      "outputs": [
        {
          "data": {
            "text/plain": [
              "{'firstName': 'Alice', 'age': 7}"
            ]
          },
          "execution_count": 8,
          "metadata": {},
          "output_type": "execute_result"
        }
      ],
      "source": [
        "# we can get the first child from the list\n",
        "mydata['children'][0] # remember indexing starts with 0"
      ]
    },
    {
      "cell_type": "code",
      "execution_count": 9,
      "metadata": {
        "id": "M_NXdOwiWH8E",
        "outputId": "c11bc279-91d9-40f3-f572-a64dc30e5f3c"
      },
      "outputs": [
        {
          "data": {
            "text/plain": [
              "dict"
            ]
          },
          "execution_count": 9,
          "metadata": {},
          "output_type": "execute_result"
        }
      ],
      "source": [
        "type(mydata['children'][0]) # so first item in the list is another dictionary"
      ]
    },
    {
      "cell_type": "code",
      "execution_count": 10,
      "metadata": {
        "colab": {
          "base_uri": "https://localhost:8080/"
        },
        "id": "vJTIkc3xWH8E",
        "outputId": "a6e861bf-2432-4cce-b8e3-9f8f99fa6d1a"
      },
      "outputs": [
        {
          "data": {
            "text/plain": [
              "7"
            ]
          },
          "execution_count": 10,
          "metadata": {},
          "output_type": "execute_result"
        }
      ],
      "source": [
        "mydata['children'][0]['age'] # we can get the age of the first child by using key"
      ]
    },
    {
      "cell_type": "code",
      "execution_count": 12,
      "metadata": {
        "colab": {
          "base_uri": "https://localhost:8080/"
        },
        "id": "M37pG1pGZ2Dy",
        "outputId": "f150f5a3-0523-43d9-cc61-f5e36bcb3edc"
      },
      "outputs": [
        {
          "data": {
            "text/plain": [
              "dict_keys(['firstName', 'lastName', 'hobbies', 'age', 'children'])"
            ]
          },
          "execution_count": 12,
          "metadata": {},
          "output_type": "execute_result"
        }
      ],
      "source": [
        "mydata.keys()  # outer dictionary has 5 keys"
      ]
    },
    {
      "cell_type": "code",
      "execution_count": 11,
      "metadata": {
        "colab": {
          "base_uri": "https://localhost:8080/"
        },
        "id": "HaQ25u5tZzD6",
        "outputId": "f0a33344-983f-4e89-ef6c-101e4b307c22"
      },
      "outputs": [
        {
          "data": {
            "text/plain": [
              "dict_keys(['firstName', 'age'])"
            ]
          },
          "execution_count": 11,
          "metadata": {},
          "output_type": "execute_result"
        }
      ],
      "source": [
        "mydata['children'][0].keys() # inner dictionary has 2 keys"
      ]
    },
    {
      "cell_type": "code",
      "execution_count": null,
      "metadata": {},
      "outputs": [],
      "source": []
    },
    {
      "cell_type": "code",
      "execution_count": null,
      "metadata": {
        "id": "Kg5cQ60dWH8E",
        "outputId": "8cbfe23f-049c-4e23-daf0-f207c15bddcd"
      },
      "outputs": [
        {
          "data": {
            "text/plain": [
              "'Alice'"
            ]
          },
          "execution_count": 11,
          "metadata": {},
          "output_type": "execute_result"
        }
      ],
      "source": [
        "mydata['children'][0]['firstName'] \n",
        "# so how do we know there is name, well we had to investiage the structure first\n"
      ]
    },
    {
      "cell_type": "code",
      "execution_count": null,
      "metadata": {
        "id": "PqYeDZVxWH8F",
        "outputId": "4f1113f8-6fb0-46c2-b753-9ffa9dfa19d6"
      },
      "outputs": [
        {
          "data": {
            "text/plain": [
              "dict_keys(['firstName', 'age'])"
            ]
          },
          "execution_count": 12,
          "metadata": {},
          "output_type": "execute_result"
        }
      ],
      "source": [
        "mydata['children'][0].keys()"
      ]
    },
    {
      "cell_type": "code",
      "execution_count": 13,
      "metadata": {
        "colab": {
          "base_uri": "https://localhost:8080/"
        },
        "id": "ZUJb8BdfWH8F",
        "outputId": "d4e02034-15b6-446f-c882-c2ef84a6bdd8"
      },
      "outputs": [
        {
          "name": "stdout",
          "output_type": "stream",
          "text": [
            "firstName :: Bob\n",
            "age :: 13\n"
          ]
        }
      ],
      "source": [
        "# so for random dictionary we could have printed everything for 2nd child with\n",
        "for key, value in mydata['children'][1].items(): # 1 because indexing starts with 0\n",
        "    print(key, \"::\", value)"
      ]
    },
    {
      "cell_type": "code",
      "execution_count": 14,
      "metadata": {
        "colab": {
          "base_uri": "https://localhost:8080/"
        },
        "id": "1GNIe9JaaJEj",
        "outputId": "235654e9-abb3-4a3f-fbe4-ec09a39af09a"
      },
      "outputs": [
        {
          "name": "stdout",
          "output_type": "stream",
          "text": [
            "firstName :: Jane\n",
            "lastName :: Doe\n",
            "hobbies :: ['running', 'sky diving', 'dancing']\n",
            "age :: 43\n",
            "children :: [{'firstName': 'Alice', 'age': 7}, {'firstName': 'Bob', 'age': 13}]\n"
          ]
        }
      ],
      "source": [
        "for key, value in mydata.items():\n",
        "    print(key, \"::\", value)"
      ]
    },
    {
      "cell_type": "code",
      "execution_count": null,
      "metadata": {},
      "outputs": [],
      "source": [
        "# so one of the issues with dealing with data extraced from deeply nested JSON is that\n",
        "# you have to know the structure of the data before you can access it\n",
        "# even then you can't flatten it out into a table without some concessions"
      ]
    },
    {
      "cell_type": "code",
      "execution_count": 15,
      "metadata": {
        "colab": {
          "base_uri": "https://localhost:8080/"
        },
        "id": "ofF5aiigWH8F",
        "outputId": "2786657f-0958-4ff5-e3ed-4b3691a9d62c"
      },
      "outputs": [
        {
          "data": {
            "text/plain": [
              "13"
            ]
          },
          "execution_count": 15,
          "metadata": {},
          "output_type": "execute_result"
        }
      ],
      "source": [
        "mydata['children'][-1]['age']"
      ]
    },
    {
      "cell_type": "code",
      "execution_count": 16,
      "metadata": {
        "colab": {
          "base_uri": "https://localhost:8080/"
        },
        "id": "bqVgnlu6WH8F",
        "outputId": "36e444c6-7711-4f25-ec4d-d2a07863e92b"
      },
      "outputs": [
        {
          "data": {
            "text/plain": [
              "['running', 'sky diving', 'dancing']"
            ]
          },
          "execution_count": 16,
          "metadata": {},
          "output_type": "execute_result"
        }
      ],
      "source": [
        "# remember for dictionaries get method will not throw an error if key is not found\n",
        "mydata.get('hobbies') # get has the default value None if the key is not found"
      ]
    },
    {
      "cell_type": "code",
      "execution_count": 17,
      "metadata": {
        "colab": {
          "base_uri": "https://localhost:8080/",
          "height": 168
        },
        "id": "ypAjPvXkaZG9",
        "outputId": "64fa7dfe-a062-4bb6-f1cf-ff702f52c671"
      },
      "outputs": [
        {
          "ename": "KeyError",
          "evalue": "'car'",
          "output_type": "error",
          "traceback": [
            "\u001b[1;31m---------------------------------------------------------------------------\u001b[0m",
            "\u001b[1;31mKeyError\u001b[0m                                  Traceback (most recent call last)",
            "\u001b[1;32mc:\\Users\\val-wd\\Github\\Digital_Discourse_ETH713_Fall_2020\\JSON_APIs\\Using_JSON_APIs.ipynb Cell 26\u001b[0m in \u001b[0;36m<cell line: 1>\u001b[1;34m()\u001b[0m\n\u001b[1;32m----> <a href='vscode-notebook-cell:/c%3A/Users/val-wd/Github/Digital_Discourse_ETH713_Fall_2020/JSON_APIs/Using_JSON_APIs.ipynb#X30sZmlsZQ%3D%3D?line=0'>1</a>\u001b[0m mydata[\u001b[39m\"\u001b[39;49m\u001b[39mcar\u001b[39;49m\u001b[39m\"\u001b[39;49m]\n",
            "\u001b[1;31mKeyError\u001b[0m: 'car'"
          ]
        }
      ],
      "source": [
        "mydata[\"car\"] # bad key will throw an error so get would be a bit safer"
      ]
    },
    {
      "cell_type": "code",
      "execution_count": 18,
      "metadata": {
        "id": "c5ANGdWSacdD"
      },
      "outputs": [],
      "source": [
        "mydata.get(\"car\") # gives us None if not found"
      ]
    },
    {
      "cell_type": "code",
      "execution_count": null,
      "metadata": {},
      "outputs": [],
      "source": [
        "# JSON does not require any specific order of keys\n",
        "# no specific structure of data - convenient but not always easy to work with"
      ]
    },
    {
      "cell_type": "code",
      "execution_count": 20,
      "metadata": {
        "colab": {
          "base_uri": "https://localhost:8080/"
        },
        "id": "WDU7gQnJWH8G",
        "outputId": "9a57458e-0332-4209-cc26-f8c7ee04fee5"
      },
      "outputs": [
        {
          "data": {
            "text/plain": [
              "('dancing', 'dancing', 'dancing')"
            ]
          },
          "execution_count": 20,
          "metadata": {},
          "output_type": "execute_result"
        }
      ],
      "source": [
        "mydata.get('hobbies')[-1],mydata['hobbies'][-1],mydata['hobbies'][2]  # so 3 ways to access the same item"
      ]
    },
    {
      "cell_type": "code",
      "execution_count": null,
      "metadata": {
        "id": "tXIgqEp_WH8G"
      },
      "outputs": [],
      "source": [
        "# list has no get [1,2,3].get(2) get is dictionary specific not for lists!"
      ]
    },
    {
      "cell_type": "code",
      "execution_count": null,
      "metadata": {
        "id": "gkJmnuFAWH8H",
        "outputId": "7a88cac9-4a6e-459f-dabb-149141bb75af"
      },
      "outputs": [
        {
          "data": {
            "text/plain": [
              "30"
            ]
          },
          "execution_count": 18,
          "metadata": {},
          "output_type": "execute_result"
        }
      ],
      "source": [
        "{\"a\":43,\"b\":30}.get(\"b\")"
      ]
    },
    {
      "cell_type": "code",
      "execution_count": null,
      "metadata": {},
      "outputs": [],
      "source": [
        "# until now we have been dealing with data stored in a dictionary\n",
        "# now we are going to write data to a file in JSON format"
      ]
    },
    {
      "cell_type": "markdown",
      "metadata": {
        "id": "EY1ny3GqWH8H"
      },
      "source": [
        "The process of encoding JSON is usually called serialization. This term refers to the transformation of data into a series of bytes (hence serial) to be stored or transmitted across a network. You may also hear the term marshaling, but that’s a whole other discussion. Naturally, deserialization is the reciprocal process of decoding data that has been stored or delivered in the JSON standard.\n",
        "\n",
        "All we’re talking about here is reading and writing. Think of it like this: encoding is for writing data to disk, while decoding is for reading data into memory.\n",
        " https://realpython.com/python-json/"
      ]
    },
    {
      "cell_type": "code",
      "execution_count": 19,
      "metadata": {
        "colab": {
          "base_uri": "https://localhost:8080/"
        },
        "id": "9x3bi5UHWH8H",
        "outputId": "25d5a49f-428a-4145-be33-cdc7d9d44cf7"
      },
      "outputs": [
        {
          "data": {
            "text/plain": [
              "{'firstName': 'Jane',\n",
              " 'lastName': 'Doe',\n",
              " 'hobbies': ['running', 'sky diving', 'dancing'],\n",
              " 'age': 43,\n",
              " 'children': [{'firstName': 'Alice', 'age': 7},\n",
              "  {'firstName': 'Bob', 'age': 13}]}"
            ]
          },
          "execution_count": 19,
          "metadata": {},
          "output_type": "execute_result"
        }
      ],
      "source": [
        "mydata # simply a PYthon dictionary with some lists inside etc"
      ]
    },
    {
      "cell_type": "code",
      "execution_count": 20,
      "metadata": {
        "id": "abP2zk_6WH8H"
      },
      "outputs": [],
      "source": [
        "# we need a library for decoding and encoding json\n",
        "# json is built into any standard Python installation\n",
        "import json"
      ]
    },
    {
      "cell_type": "code",
      "execution_count": 21,
      "metadata": {
        "id": "EOdlGAfoWH8I"
      },
      "outputs": [],
      "source": [
        "# first we are going to dump our data into a text file\n",
        "# we will use with context manager to open and close the file for safety\n",
        "with open(\"data_file.json\", mode=\"w\") as write_file: # w means write\n",
        "    json.dump(mydata, write_file)\n",
        "# remember that stream is closed here and file is written by now"
      ]
    },
    {
      "cell_type": "code",
      "execution_count": 22,
      "metadata": {
        "id": "6h_P81wDWH8I"
      },
      "outputs": [],
      "source": [
        "# this will be nicer for humans to read\n",
        "with open(\"data_file_indented.json\", mode=\"w\") as write_file:\n",
        "    json.dump(mydata, write_file, indent=4) # so mydata could be aANY standard python data structure"
      ]
    },
    {
      "cell_type": "code",
      "execution_count": 24,
      "metadata": {
        "colab": {
          "base_uri": "https://localhost:8080/",
          "height": 53
        },
        "id": "YCrY2X86WH8I",
        "outputId": "ad56a5af-780a-4a4c-e7aa-2e6d99ac3d90"
      },
      "outputs": [
        {
          "data": {
            "text/plain": [
              "'{\\n    \"firstName\": \"Jane\",\\n    \"lastName\": \"Doe\",\\n    \"hobbies\": [\\n        \"running\",\\n        \"sky diving\",\\n        \"dancing\"\\n    ],\\n    \"age\": 43,\\n  '"
            ]
          },
          "execution_count": 24,
          "metadata": {},
          "output_type": "execute_result"
        }
      ],
      "source": [
        "# again .json files are just text files\n",
        "# so if we read the file we will get a string\n",
        "with open(\"data_file_indented.json\") as f:\n",
        "    raw_txt = f.read()\n",
        "raw_txt[:150] # so again raw JSON is just text"
      ]
    },
    {
      "cell_type": "code",
      "execution_count": 25,
      "metadata": {
        "colab": {
          "base_uri": "https://localhost:8080/"
        },
        "id": "6dCiqVxLWH8I",
        "outputId": "c3433504-f48f-4d6f-cb26-bf3dcddb55e4"
      },
      "outputs": [
        {
          "data": {
            "text/plain": [
              "str"
            ]
          },
          "execution_count": 25,
          "metadata": {},
          "output_type": "execute_result"
        }
      ],
      "source": [
        "type(raw_txt)"
      ]
    },
    {
      "cell_type": "code",
      "execution_count": 26,
      "metadata": {
        "colab": {
          "base_uri": "https://localhost:8080/"
        },
        "id": "TvXUKD4ycAJg",
        "outputId": "310d12c8-4b84-440d-9731-42ef47a9694e"
      },
      "outputs": [
        {
          "name": "stdout",
          "output_type": "stream",
          "text": [
            "{\n",
            "    \"firstName\": \"Jane\",\n",
            "    \"lastName\": \"Doe\",\n",
            "    \"hobbies\": [\n",
            "        \"running\",\n",
            "        \"sky diving\",\n",
            "        \"dancing\"\n",
            "    ],\n",
            "    \"age\": 43,\n",
            "    \"children\": [\n",
            "        {\n",
            "            \"firstName\": \"Alice\",\n",
            "            \"age\": 7\n",
            "        },\n",
            "        {\n",
            "            \"firstName\": \"Bob\",\n",
            "            \"age\": 13\n",
            "        }\n",
            "    ]\n",
            "}\n"
          ]
        }
      ],
      "source": [
        "print(raw_txt)"
      ]
    },
    {
      "cell_type": "code",
      "execution_count": null,
      "metadata": {},
      "outputs": [],
      "source": [
        "# deserialization - converting JSON text into Python(or other programming language) data structure\n",
        "# why would you want to do that?\n",
        "# because you want to work with the data in Python - and working with strings is not very convenient\n",
        "# we want the structure of the data to be preserved"
      ]
    },
    {
      "cell_type": "code",
      "execution_count": 27,
      "metadata": {
        "colab": {
          "base_uri": "https://localhost:8080/"
        },
        "id": "uYDLUD-2WH8I",
        "outputId": "9553d4b2-a0b2-4bba-8605-904216a5ffd6"
      },
      "outputs": [
        {
          "data": {
            "text/plain": [
              "dict"
            ]
          },
          "execution_count": 27,
          "metadata": {},
          "output_type": "execute_result"
        }
      ],
      "source": [
        "# deserialize, decode from json string into Python Data structure\n",
        "my_data = json.loads(raw_txt) # raw_txt is a string\n",
        "type(my_data)"
      ]
    },
    {
      "cell_type": "code",
      "execution_count": null,
      "metadata": {
        "id": "iVLi7xGLcZIs"
      },
      "outputs": [],
      "source": []
    },
    {
      "cell_type": "code",
      "execution_count": 28,
      "metadata": {
        "colab": {
          "base_uri": "https://localhost:8080/"
        },
        "id": "Vlx_ac2PWH8I",
        "outputId": "723f0f38-c4b9-4fe2-aceb-62bfc5334135"
      },
      "outputs": [
        {
          "data": {
            "text/plain": [
              "dict_keys(['firstName', 'lastName', 'hobbies', 'age', 'children'])"
            ]
          },
          "execution_count": 28,
          "metadata": {},
          "output_type": "execute_result"
        }
      ],
      "source": [
        "my_data.keys()"
      ]
    },
    {
      "cell_type": "code",
      "execution_count": 29,
      "metadata": {
        "colab": {
          "base_uri": "https://localhost:8080/"
        },
        "id": "nvbPEI_zWH8J",
        "outputId": "08cae0b3-8205-446f-b3e2-95717265223f"
      },
      "outputs": [
        {
          "data": {
            "text/plain": [
              "[{'firstName': 'Alice', 'age': 7}, {'firstName': 'Bob', 'age': 13}]"
            ]
          },
          "execution_count": 29,
          "metadata": {},
          "output_type": "execute_result"
        }
      ],
      "source": [
        "my_data['children']"
      ]
    },
    {
      "cell_type": "code",
      "execution_count": 30,
      "metadata": {
        "colab": {
          "base_uri": "https://localhost:8080/"
        },
        "id": "ozIrcT6ecbUj",
        "outputId": "275142a7-83c4-40a8-a1dd-faaea00b095e"
      },
      "outputs": [
        {
          "data": {
            "text/plain": [
              "{'age': 14, 'firstName': 'Čarlijs'}"
            ]
          },
          "execution_count": 30,
          "metadata": {},
          "output_type": "execute_result"
        }
      ],
      "source": [
        "charlie = {'age': 14, 'firstName': 'Čarlijs'}  # new dictionary  with 2 keys-value pairs\n",
        "charlie  #this dictionary is not in JSON format, it is not related to JSON at all"
      ]
    },
    {
      "cell_type": "code",
      "execution_count": 31,
      "metadata": {
        "colab": {
          "base_uri": "https://localhost:8080/"
        },
        "id": "uFU5Xoylc0Ho",
        "outputId": "6a797e39-5175-46ef-b2d4-e9531d93076b"
      },
      "outputs": [
        {
          "data": {
            "text/plain": [
              "list"
            ]
          },
          "execution_count": 31,
          "metadata": {},
          "output_type": "execute_result"
        }
      ],
      "source": [
        "type(my_data['children'])"
      ]
    },
    {
      "cell_type": "code",
      "execution_count": 32,
      "metadata": {
        "id": "qi3lHbrVct25"
      },
      "outputs": [],
      "source": [
        "my_data['children'].append(charlie)"
      ]
    },
    {
      "cell_type": "code",
      "execution_count": 33,
      "metadata": {
        "colab": {
          "base_uri": "https://localhost:8080/"
        },
        "id": "7GYz5B44c8AO",
        "outputId": "0ef9af57-f18e-4422-8f56-eac804942883"
      },
      "outputs": [
        {
          "data": {
            "text/plain": [
              "{'firstName': 'Jane',\n",
              " 'lastName': 'Doe',\n",
              " 'hobbies': ['running', 'sky diving', 'dancing'],\n",
              " 'age': 43,\n",
              " 'children': [{'firstName': 'Alice', 'age': 7},\n",
              "  {'firstName': 'Bob', 'age': 13},\n",
              "  {'age': 14, 'firstName': 'Čarlijs'}]}"
            ]
          },
          "execution_count": 33,
          "metadata": {},
          "output_type": "execute_result"
        }
      ],
      "source": [
        "my_data"
      ]
    },
    {
      "cell_type": "code",
      "execution_count": 34,
      "metadata": {
        "colab": {
          "base_uri": "https://localhost:8080/"
        },
        "id": "L9SrmcGac_5y",
        "outputId": "987fe045-07d3-4a9d-82b2-cbf0dd9b9f67"
      },
      "outputs": [
        {
          "data": {
            "text/plain": [
              "{'firstName': 'Jane',\n",
              " 'lastName': 'Doe',\n",
              " 'hobbies': ['running', 'sky diving', 'dancing', 'šahs'],\n",
              " 'age': 43,\n",
              " 'children': [{'firstName': 'Alice', 'age': 7},\n",
              "  {'firstName': 'Bob', 'age': 13},\n",
              "  {'age': 14, 'firstName': 'Čarlijs'}]}"
            ]
          },
          "execution_count": 34,
          "metadata": {},
          "output_type": "execute_result"
        }
      ],
      "source": [
        "my_data['hobbies'].append('šahs')  #šahs - chess in Latvian\n",
        "my_data"
      ]
    },
    {
      "cell_type": "code",
      "execution_count": 35,
      "metadata": {
        "colab": {
          "base_uri": "https://localhost:8080/"
        },
        "id": "a3t2iVcSdpxQ",
        "outputId": "b18f9a59-afa0-43af-eec9-1da42b6fcc04"
      },
      "outputs": [
        {
          "data": {
            "text/plain": [
              "{'firstName': 'Jane',\n",
              " 'lastName': 'Doe',\n",
              " 'hobbies': ['running', 'sky diving', 'dancing', 'šahs'],\n",
              " 'age': 43,\n",
              " 'children': [{'firstName': 'Alice', 'age': 7},\n",
              "  {'firstName': 'Bob', 'age': 13},\n",
              "  {'age': 14, 'firstName': 'Čarlijs'}],\n",
              " 'car': 'Ņiva'}"
            ]
          },
          "execution_count": 35,
          "metadata": {},
          "output_type": "execute_result"
        }
      ],
      "source": [
        "my_data[\"car\"] = \"Ņiva\" # i am trying to make a point about Unicode\n",
        "my_data"
      ]
    },
    {
      "cell_type": "code",
      "execution_count": 36,
      "metadata": {
        "id": "Zva7UdYWd6wi"
      },
      "outputs": [],
      "source": [
        "# so i will save the freshly updated data to a file\n",
        "# not everything is in English!\n",
        "with open(\"data_file_indented_ascii.json\", mode=\"w\") as f_stream:\n",
        "    json.dump(my_data, f_stream, indent=4)"
      ]
    },
    {
      "cell_type": "code",
      "execution_count": 37,
      "metadata": {
        "id": "z22GhigGfIFZ"
      },
      "outputs": [],
      "source": [
        "# so if we want to save in Unicode in UTF-8 encoding we need to specify it\n",
        "# this is the recipe to use if you want to save in Unicode\n",
        "with open(\"data_file_indented_unicode.json\", mode=\"w\", encoding=\"UTF-8\") as f_stream:\n",
        "    json.dump(my_data, f_stream, indent=4, ensure_ascii=False) # I want to see Unicode "
      ]
    },
    {
      "cell_type": "code",
      "execution_count": null,
      "metadata": {
        "id": "C-Pkq1kLdKtm"
      },
      "outputs": [],
      "source": [
        "# three are no strict restriction on what we append to our lists \n",
        "# in the previous example I could have added a number or another list, not necessarily a string\n"
      ]
    },
    {
      "cell_type": "code",
      "execution_count": 43,
      "metadata": {
        "id": "eqccVABvWH8J",
        "outputId": "ced53121-42ee-40e6-9e5c-b459af4a22df"
      },
      "outputs": [
        {
          "data": {
            "text/plain": [
              "dict"
            ]
          },
          "execution_count": 43,
          "metadata": {},
          "output_type": "execute_result"
        }
      ],
      "source": [
        "# more often we will load json immediately\n",
        "with open(\"data_file_indented_unicode.json\", encoding=\"utf-8\") as file_stream:\n",
        "    my_data_2 = json.load(file_stream) # if json is malformed then you will get some sort of error\n",
        "type(my_data_2)"
      ]
    },
    {
      "cell_type": "code",
      "execution_count": 44,
      "metadata": {},
      "outputs": [
        {
          "data": {
            "text/plain": [
              "{'firstName': 'Jane',\n",
              " 'lastName': 'Doe',\n",
              " 'hobbies': ['running', 'sky diving', 'dancing', 'šahs'],\n",
              " 'age': 43,\n",
              " 'children': [{'firstName': 'Alice', 'age': 7},\n",
              "  {'firstName': 'Bob', 'age': 13},\n",
              "  {'age': 14, 'firstName': 'Čarlijs'}],\n",
              " 'car': 'Ņiva'}"
            ]
          },
          "execution_count": 44,
          "metadata": {},
          "output_type": "execute_result"
        }
      ],
      "source": [
        "my_data_2"
      ]
    },
    {
      "cell_type": "code",
      "execution_count": 45,
      "metadata": {
        "id": "E6AHHdqmWH8J",
        "outputId": "5b23c20d-53fc-4856-d277-ead32ca93a93"
      },
      "outputs": [
        {
          "data": {
            "text/plain": [
              "(True, False)"
            ]
          },
          "execution_count": 45,
          "metadata": {},
          "output_type": "execute_result"
        }
      ],
      "source": [
        "# contents are the same but two different objects\n",
        "# contents are equal but not the same\n",
        "# like two shopping bags with the same contents, same milk, same bread, same eggs\n",
        "my_data == my_data_2, my_data is my_data_2"
      ]
    },
    {
      "cell_type": "code",
      "execution_count": 46,
      "metadata": {
        "id": "UZX9KK05WH8J",
        "outputId": "b963ff23-7f0e-4c8c-8fe9-fce12b4e410a"
      },
      "outputs": [
        {
          "data": {
            "text/plain": [
              "'{\"firstName\": \"Jane\", \"lastName\": \"Doe\", \"hobbies\": [\"running\", \"sky diving\", \"dancing\", \"\\\\u0161ahs\"'"
            ]
          },
          "execution_count": 46,
          "metadata": {},
          "output_type": "execute_result"
        }
      ],
      "source": [
        "my_json_string = json.dumps(my_data) # converst Python data structure into json string\n",
        "my_json_string[:100]"
      ]
    },
    {
      "cell_type": "code",
      "execution_count": 47,
      "metadata": {
        "id": "5anW74RyWH8J",
        "outputId": "72ea1c4e-65ec-4cd6-dfb8-f4e6b4619cbb"
      },
      "outputs": [
        {
          "data": {
            "text/plain": [
              "'\"Ka\\\\u0137is\"'"
            ]
          },
          "execution_count": 47,
          "metadata": {},
          "output_type": "execute_result"
        }
      ],
      "source": [
        "json.dumps(\"Kaķis\") # so non english characters get encoded into unicode special codes"
      ]
    },
    {
      "cell_type": "code",
      "execution_count": 48,
      "metadata": {
        "id": "75JXptFZWH8J",
        "outputId": "0fc3035b-7bba-4813-a0cd-b5f1368d1939"
      },
      "outputs": [
        {
          "data": {
            "text/plain": [
              "'\"Kaķis\"'"
            ]
          },
          "execution_count": 48,
          "metadata": {},
          "output_type": "execute_result"
        }
      ],
      "source": [
        "json.dumps(\"Kaķis\", ensure_ascii=False) # so now we can see non-English"
      ]
    },
    {
      "cell_type": "code",
      "execution_count": null,
      "metadata": {
        "id": "QBcpVFevWH8K",
        "outputId": "c23fa712-ed43-44be-e8af-9e4a255d755c"
      },
      "outputs": [
        {
          "data": {
            "text/plain": [
              "(311, 'ķ')"
            ]
          },
          "execution_count": 38,
          "metadata": {},
          "output_type": "execute_result"
        }
      ],
      "source": [
        "ord(\"ķ\"),chr(1*16*16+3*16+7) # that's how hexadecimal coding works"
      ]
    },
    {
      "cell_type": "code",
      "execution_count": null,
      "metadata": {
        "id": "6TASlUMHWH8K",
        "outputId": "a1399dee-a503-48c8-a227-2c16f7523015"
      },
      "outputs": [
        {
          "data": {
            "text/plain": [
              "str"
            ]
          },
          "execution_count": 39,
          "metadata": {},
          "output_type": "execute_result"
        }
      ],
      "source": [
        "type(my_json_string)"
      ]
    },
    {
      "cell_type": "code",
      "execution_count": null,
      "metadata": {
        "id": "Mj9YCW12WH8K",
        "outputId": "0b86b491-4c7b-41a5-dcbc-f04ab641f4ce"
      },
      "outputs": [
        {
          "data": {
            "text/plain": [
              "{'firstName': 'Jane',\n",
              " 'lastName': 'Doe',\n",
              " 'hobbies': ['running', 'sky diving', 'dancing'],\n",
              " 'age': 43,\n",
              " 'children': [{'firstName': 'Alice', 'age': 7},\n",
              "  {'firstName': 'Bob', 'age': 13}]}"
            ]
          },
          "execution_count": 40,
          "metadata": {},
          "output_type": "execute_result"
        }
      ],
      "source": [
        "json.loads(my_json_string)"
      ]
    },
    {
      "cell_type": "code",
      "execution_count": null,
      "metadata": {
        "id": "QeHMUIN_WH8K",
        "outputId": "95b03260-2a1e-4bd6-dacd-04f258fc64d0"
      },
      "outputs": [
        {
          "data": {
            "text/plain": [
              "'{\"firstName\": \"Jane\", \"lastName\": \"Doe\", \"hobbies\": [\"running\", \"sky diving\", \"dancing\"], \"age\": 43, \"children\": [{\"firstName\": \"Alice\", \"age\": 7}, {\"firstName\": \"Bob\", \"age\": 13}]}'"
            ]
          },
          "execution_count": 41,
          "metadata": {},
          "output_type": "execute_result"
        }
      ],
      "source": [
        "json.dumps(my_data)"
      ]
    },
    {
      "cell_type": "code",
      "execution_count": 43,
      "metadata": {
        "colab": {
          "base_uri": "https://localhost:8080/"
        },
        "id": "Pd4aoE0CgD7S",
        "outputId": "35c708a9-9da7-46bb-cbaa-989ccf2e7433"
      },
      "outputs": [
        {
          "data": {
            "text/plain": [
              "{'age': 43,\n",
              " 'car': 'Ņiva',\n",
              " 'children': [{'age': 7, 'firstName': 'Alice'},\n",
              "  {'age': 13, 'firstName': 'Bob'},\n",
              "  {'age': 14, 'firstName': 'Čarlijs'}],\n",
              " 'firstName': 'Jane',\n",
              " 'hobbies': ['running', 'sky diving', 'dancing', 'boxing'],\n",
              " 'lastName': 'Doe'}"
            ]
          },
          "execution_count": 43,
          "metadata": {},
          "output_type": "execute_result"
        }
      ],
      "source": [
        "with open(\"data_file_indented_unicode.json\", encoding=\"UTF-8\") as file_stream:\n",
        "  loaded_data = json.load(file_stream)\n",
        "loaded_data"
      ]
    },
    {
      "cell_type": "code",
      "execution_count": null,
      "metadata": {},
      "outputs": [],
      "source": [
        "# there is a mapping of Python data types to JSON data types\n",
        "# Python data type  JSON data type\n",
        "# dict              object\n",
        "# list, tuple       array\n",
        "# str               string\n",
        "# int, float        number\n",
        "# True              true\n",
        "# False             false\n",
        "# None              null\n",
        "\n",
        "# notice that JSON is more limited than Python\n",
        "# not everything can be converted to JSON without loss of information\n",
        "# for example tuples are converted to lists and you can't tell the difference\n",
        "\n",
        "# another limitation is that JSON does not allow for comments!\n",
        "# there have been recommendations to use JSON5 but it is not widely adopted"
      ]
    },
    {
      "cell_type": "code",
      "execution_count": null,
      "metadata": {},
      "outputs": [],
      "source": [
        "# uses of JSON\n",
        "\n",
        "# JSON is used for data interchange between web applications\n",
        "# also used for data interchange between web applications and mobile applications\n",
        "# also used for settings files, configuration files, data files\n",
        "# there are databases that use JSON as a data storage format\n",
        "# there are databases that use JSON as a query language\n",
        "\n",
        "# here we are interested in using JSON as a data interchange format \n",
        "# to obtain data from a web application / page"
      ]
    },
    {
      "cell_type": "code",
      "execution_count": null,
      "metadata": {},
      "outputs": [],
      "source": [
        "# API - Application Programming Interface, a set of functions that allow you to interact with an application\n",
        "# JSON API - a set of functions that allow you to interact with an application using JSON\n",
        "\n",
        "# extremely popular way to interact with web applications\n",
        "# why ? because it is simple and easy to use\n",
        "\n",
        "# there are more difficult ways to interact with web applications"
      ]
    },
    {
      "cell_type": "code",
      "execution_count": 50,
      "metadata": {
        "id": "nATV64imWH8K"
      },
      "outputs": [],
      "source": [
        "import requests # this library is not included with Python but is very popular and comes with Anaconda\n",
        "# pip install requests otherwise in a terminal\n"
      ]
    },
    {
      "cell_type": "code",
      "execution_count": 51,
      "metadata": {
        "colab": {
          "base_uri": "https://localhost:8080/"
        },
        "id": "docYXOG0iidq",
        "outputId": "86319173-31c9-4850-d725-f9840ce3a231"
      },
      "outputs": [
        {
          "name": "stdout",
          "output_type": "stream",
          "text": [
            "200\n"
          ]
        }
      ],
      "source": [
        "url = \"https://jsonplaceholder.typicode.com/users\" # this is a public API\n",
        "# url - uniform resource locator\n",
        "# uri - uniform resource identifier\n",
        "# url vs uri - https://stackoverflow.com/questions/176264/what-is-the-difference-between-a-uri-a-url-and-a-urn\n",
        "\n",
        "response = requests.get(url) # so this is a GET request similar to what happens when web browser loads a page\n",
        "# so get method returns a response object, it made a network request to the server at that url\n",
        "print(response.status_code) # Response Code 200 is good"
      ]
    },
    {
      "cell_type": "code",
      "execution_count": null,
      "metadata": {},
      "outputs": [],
      "source": [
        "# list of HTTP response codes\n",
        "# https://en.wikipedia.org/wiki/List_of_HTTP_status_codes\n",
        "# 404 - not found\n",
        "# 500 - internal server error\n",
        "# 200 - OK\n",
        "# 4xx - client error - it is our fault\n",
        "# 5xx - server error - it is the server's fault"
      ]
    },
    {
      "cell_type": "code",
      "execution_count": 52,
      "metadata": {
        "colab": {
          "base_uri": "https://localhost:8080/"
        },
        "id": "G2EGR1DLjGi8",
        "outputId": "d99999fe-579d-4f5a-e8ff-3584dde4748b"
      },
      "outputs": [
        {
          "name": "stdout",
          "output_type": "stream",
          "text": [
            "[\n",
            "  {\n",
            "    \"id\": 1,\n",
            "    \"name\": \"Leanne Graham\",\n",
            "    \"username\": \"Bret\",\n",
            "    \"email\": \"Sincere@april.biz\",\n",
            "    \"address\": {\n",
            "      \"street\": \"Kulas Light\",\n",
            "      \"suite\": \"Apt. 556\",\n",
            "      \"city\": \"Gwenborough\",\n",
            "      \"zipcode\": \"92998-3874\",\n",
            "      \"geo\": {\n",
            "        \"lat\": \"-37.3159\",\n",
            "        \"lng\": \"81.1496\"\n",
            "      }\n",
            "    },\n",
            "    \"phone\": \"1-770-736-8031 x56442\",\n",
            "    \"website\": \"hildegard.org\",\n",
            "    \"company\": {\n",
            "      \"name\": \"Romaguera-Crona\",\n",
            "      \"catchPhrase\": \"Multi-layered client-server neural-net\",\n",
            "      \"bs\": \"harness real-time e-markets\"\n",
            "    }\n",
            "  },\n",
            "  {\n",
            "    \"id\": 2,\n",
            "    \"name\": \"Ervin Howell\",\n",
            "    \"username\": \"Antonette\",\n",
            "    \"email\": \"Shanna@melissa.tv\",\n",
            "    \"address\": {\n",
            "      \"street\": \"Victor Plains\",\n",
            "      \"suite\": \"Suite 879\",\n",
            "      \"city\": \"Wisokyburgh\",\n",
            "      \"zipcode\": \"90566-7771\",\n",
            "      \"geo\": {\n",
            "        \"lat\": \"-43.9509\",\n",
            "        \"lng\": \"-34.4618\"\n",
            "      }\n",
            "    },\n",
            "    \"phone\": \"010-692-6593 x09125\",\n",
            "    \"website\": \"anastasia.net\",\n",
            "    \"company\": {\n",
            "      \"name\": \"Deckow-Crist\",\n",
            "      \"catchPhrase\": \"Proactive didactic contingency\",\n",
            "      \"bs\": \"synergize scalable supply-chains\"\n",
            "    }\n",
            "  },\n",
            "  {\n",
            "    \"id\": 3,\n",
            "    \"name\": \"Clementine Bauch\",\n",
            "    \"username\": \"Samantha\",\n",
            "    \"email\": \"Nathan@yesenia.net\",\n",
            "    \"address\": {\n",
            "      \"street\": \"Douglas Extension\",\n",
            "      \"suite\": \"Suite 847\",\n",
            "      \"city\": \"McKenziehaven\",\n",
            "      \"zipcode\": \"59590-4157\",\n",
            "      \"geo\": {\n",
            "        \"lat\": \"-68.6102\",\n",
            "        \"lng\": \"-47.0653\"\n",
            "      }\n",
            "    },\n",
            "    \"phone\": \"1-463-123-4447\",\n",
            "    \"website\": \"ramiro.info\",\n",
            "    \"company\": {\n",
            "      \"name\": \"Romaguera-Jacobson\",\n",
            "      \"catchPhrase\": \"Face to face bifurcated interface\",\n",
            "      \"bs\": \"e-enable strategic applications\"\n",
            "    }\n",
            "  },\n",
            "  {\n",
            "    \"id\": 4,\n",
            "    \"name\": \"Patricia Lebsack\",\n",
            "    \"username\": \"Karianne\",\n",
            "    \"email\": \"Julianne.OConner@kory.org\",\n",
            "    \"address\": {\n",
            "      \"street\": \"Hoeger Mall\",\n",
            "      \"suite\": \"Apt. 692\",\n",
            "      \"city\": \"South Elvis\",\n",
            "      \"zipcode\": \"53919-4257\",\n",
            "      \"geo\": {\n",
            "        \"lat\": \"29.4572\",\n",
            "        \"lng\": \"-164.2990\"\n",
            "      }\n",
            "    },\n",
            "    \"phone\": \"493-170-9623 x156\",\n",
            "    \"website\": \"kale.biz\",\n",
            "    \"company\": {\n",
            "      \"name\": \"Robel-Corkery\",\n",
            "      \"catchPhrase\": \"Multi-tiered zero tolerance productivity\",\n",
            "      \"bs\": \"transition cutting-edge web services\"\n",
            "    }\n",
            "  },\n",
            "  {\n",
            "    \"id\": 5,\n",
            "    \"name\": \"Chelsey Dietrich\",\n",
            "    \"username\": \"Kamren\",\n",
            "    \"email\": \"Lucio_Hettinger@annie.ca\",\n",
            "    \"address\": {\n",
            "      \"street\": \"Skiles Walks\",\n",
            "      \"suite\": \"Suite 351\",\n",
            "      \"city\": \"Roscoeview\",\n",
            "      \"zipcode\": \"33263\",\n",
            "      \"geo\": {\n",
            "        \"lat\": \"-31.8129\",\n",
            "        \"lng\": \"62.5342\"\n",
            "      }\n",
            "    },\n",
            "    \"phone\": \"(254)954-1289\",\n",
            "    \"website\": \"demarco.info\",\n",
            "    \"company\": {\n",
            "      \"name\": \"Keebler LLC\",\n",
            "      \"catchPhrase\": \"User-centric fault-tolerant solution\",\n",
            "      \"bs\": \"revolutionize end-to-end systems\"\n",
            "    }\n",
            "  },\n",
            "  {\n",
            "    \"id\": 6,\n",
            "    \"name\": \"Mrs. Dennis Schulist\",\n",
            "    \"username\": \"Leopoldo_Corkery\",\n",
            "    \"email\": \"Karley_Dach@jasper.info\",\n",
            "    \"address\": {\n",
            "      \"street\": \"Norberto Crossing\",\n",
            "      \"suite\": \"Apt. 950\",\n",
            "      \"city\": \"South Christy\",\n",
            "      \"zipcode\": \"23505-1337\",\n",
            "      \"geo\": {\n",
            "        \"lat\": \"-71.4197\",\n",
            "        \"lng\": \"71.7478\"\n",
            "      }\n",
            "    },\n",
            "    \"phone\": \"1-477-935-8478 x6430\",\n",
            "    \"website\": \"ola.org\",\n",
            "    \"company\": {\n",
            "      \"name\": \"Considine-Lockman\",\n",
            "      \"catchPhrase\": \"Synchronised bottom-line interface\",\n",
            "      \"bs\": \"e-enable innovative applications\"\n",
            "    }\n",
            "  },\n",
            "  {\n",
            "    \"id\": 7,\n",
            "    \"name\": \"Kurtis Weissnat\",\n",
            "    \"username\": \"Elwyn.Skiles\",\n",
            "    \"email\": \"Telly.Hoeger@billy.biz\",\n",
            "    \"address\": {\n",
            "      \"street\": \"Rex Trail\",\n",
            "      \"suite\": \"Suite 280\",\n",
            "      \"city\": \"Howemouth\",\n",
            "      \"zipcode\": \"58804-1099\",\n",
            "      \"geo\": {\n",
            "        \"lat\": \"24.8918\",\n",
            "        \"lng\": \"21.8984\"\n",
            "      }\n",
            "    },\n",
            "    \"phone\": \"210.067.6132\",\n",
            "    \"website\": \"elvis.io\",\n",
            "    \"company\": {\n",
            "      \"name\": \"Johns Group\",\n",
            "      \"catchPhrase\": \"Configurable multimedia task-force\",\n",
            "      \"bs\": \"generate enterprise e-tailers\"\n",
            "    }\n",
            "  },\n",
            "  {\n",
            "    \"id\": 8,\n",
            "    \"name\": \"Nicholas Runolfsdottir V\",\n",
            "    \"username\": \"Maxime_Nienow\",\n",
            "    \"email\": \"Sherwood@rosamond.me\",\n",
            "    \"address\": {\n",
            "      \"street\": \"Ellsworth Summit\",\n",
            "      \"suite\": \"Suite 729\",\n",
            "      \"city\": \"Aliyaview\",\n",
            "      \"zipcode\": \"45169\",\n",
            "      \"geo\": {\n",
            "        \"lat\": \"-14.3990\",\n",
            "        \"lng\": \"-120.7677\"\n",
            "      }\n",
            "    },\n",
            "    \"phone\": \"586.493.6943 x140\",\n",
            "    \"website\": \"jacynthe.com\",\n",
            "    \"company\": {\n",
            "      \"name\": \"Abernathy Group\",\n",
            "      \"catchPhrase\": \"Implemented secondary concept\",\n",
            "      \"bs\": \"e-enable extensible e-tailers\"\n",
            "    }\n",
            "  },\n",
            "  {\n",
            "    \"id\": 9,\n",
            "    \"name\": \"Glenna Reichert\",\n",
            "    \"username\": \"Delphine\",\n",
            "    \"email\": \"Chaim_McDermott@dana.io\",\n",
            "    \"address\": {\n",
            "      \"street\": \"Dayna Park\",\n",
            "      \"suite\": \"Suite 449\",\n",
            "      \"city\": \"Bartholomebury\",\n",
            "      \"zipcode\": \"76495-3109\",\n",
            "      \"geo\": {\n",
            "        \"lat\": \"24.6463\",\n",
            "        \"lng\": \"-168.8889\"\n",
            "      }\n",
            "    },\n",
            "    \"phone\": \"(775)976-6794 x41206\",\n",
            "    \"website\": \"conrad.com\",\n",
            "    \"company\": {\n",
            "      \"name\": \"Yost and Sons\",\n",
            "      \"catchPhrase\": \"Switchable contextually-based project\",\n",
            "      \"bs\": \"aggregate real-time technologies\"\n",
            "    }\n",
            "  },\n",
            "  {\n",
            "    \"id\": 10,\n",
            "    \"name\": \"Clementina DuBuque\",\n",
            "    \"username\": \"Moriah.Stanton\",\n",
            "    \"email\": \"Rey.Padberg@karina.biz\",\n",
            "    \"address\": {\n",
            "      \"street\": \"Kattie Turnpike\",\n",
            "      \"suite\": \"Suite 198\",\n",
            "      \"city\": \"Lebsackbury\",\n",
            "      \"zipcode\": \"31428-2261\",\n",
            "      \"geo\": {\n",
            "        \"lat\": \"-38.2386\",\n",
            "        \"lng\": \"57.2232\"\n",
            "      }\n",
            "    },\n",
            "    \"phone\": \"024-648-3804\",\n",
            "    \"website\": \"ambrose.net\",\n",
            "    \"company\": {\n",
            "      \"name\": \"Hoeger LLC\",\n",
            "      \"catchPhrase\": \"Centralized empowering task-force\",\n",
            "      \"bs\": \"target end-to-end models\"\n",
            "    }\n",
            "  }\n",
            "]\n"
          ]
        }
      ],
      "source": [
        "print(response.text) # .text is a string"
      ]
    },
    {
      "cell_type": "code",
      "execution_count": 53,
      "metadata": {
        "colab": {
          "base_uri": "https://localhost:8080/"
        },
        "id": "vYF2pfqNjRec",
        "outputId": "d814736a-b3e7-4f33-d57f-43ab8d069880"
      },
      "outputs": [
        {
          "data": {
            "text/plain": [
              "list"
            ]
          },
          "execution_count": 53,
          "metadata": {},
          "output_type": "execute_result"
        }
      ],
      "source": [
        "# it would be much easier to work with this data if it was in a Python data structure\n",
        "# so requests provides a method to convert the response text into a Python data structure\n",
        "# use this if you know that the response is in JSON format\n",
        "users = response.json() # this will work if we requested a JSON resource (NOT HTML!!)\n",
        "type(users)"
      ]
    },
    {
      "cell_type": "code",
      "execution_count": 54,
      "metadata": {
        "colab": {
          "base_uri": "https://localhost:8080/"
        },
        "id": "pu0wlFz5jzIq",
        "outputId": "d6c2ba3e-8a48-4ccb-e718-55b14d9fe72f"
      },
      "outputs": [
        {
          "data": {
            "text/plain": [
              "{'id': 10,\n",
              " 'name': 'Clementina DuBuque',\n",
              " 'username': 'Moriah.Stanton',\n",
              " 'email': 'Rey.Padberg@karina.biz',\n",
              " 'address': {'street': 'Kattie Turnpike',\n",
              "  'suite': 'Suite 198',\n",
              "  'city': 'Lebsackbury',\n",
              "  'zipcode': '31428-2261',\n",
              "  'geo': {'lat': '-38.2386', 'lng': '57.2232'}},\n",
              " 'phone': '024-648-3804',\n",
              " 'website': 'ambrose.net',\n",
              " 'company': {'name': 'Hoeger LLC',\n",
              "  'catchPhrase': 'Centralized empowering task-force',\n",
              "  'bs': 'target end-to-end models'}}"
            ]
          },
          "execution_count": 54,
          "metadata": {},
          "output_type": "execute_result"
        }
      ],
      "source": [
        "users[-1] # last user"
      ]
    },
    {
      "cell_type": "code",
      "execution_count": 55,
      "metadata": {
        "colab": {
          "base_uri": "https://localhost:8080/"
        },
        "id": "r9HPL4-Mj-Yl",
        "outputId": "4f520f82-3230-48ca-e0c9-c9c4451a56cb"
      },
      "outputs": [
        {
          "data": {
            "text/plain": [
              "dict"
            ]
          },
          "execution_count": 55,
          "metadata": {},
          "output_type": "execute_result"
        }
      ],
      "source": [
        "type(users[-1]) # will be a dictionary"
      ]
    },
    {
      "cell_type": "code",
      "execution_count": 56,
      "metadata": {
        "colab": {
          "base_uri": "https://localhost:8080/",
          "height": 35
        },
        "id": "b2ibYaqCkDti",
        "outputId": "b0a98c1c-17c6-49f4-ed6f-e169f151b893"
      },
      "outputs": [
        {
          "data": {
            "text/plain": [
              "'Clementina DuBuque'"
            ]
          },
          "execution_count": 56,
          "metadata": {},
          "output_type": "execute_result"
        }
      ],
      "source": [
        "users[-1]['name']  # a string "
      ]
    },
    {
      "cell_type": "code",
      "execution_count": null,
      "metadata": {
        "id": "SXQasFbEkcyb"
      },
      "outputs": [],
      "source": [
        "# how could we get first and last?"
      ]
    },
    {
      "cell_type": "code",
      "execution_count": 57,
      "metadata": {
        "colab": {
          "base_uri": "https://localhost:8080/",
          "height": 35
        },
        "id": "5miRrIiWkXjI",
        "outputId": "409f4509-62c8-450c-ea53-3cf325319e2b"
      },
      "outputs": [
        {
          "data": {
            "text/plain": [
              "'Clementina DuBuque'"
            ]
          },
          "execution_count": 57,
          "metadata": {},
          "output_type": "execute_result"
        }
      ],
      "source": [
        "last_user_names = users[-1]['name']\n",
        "last_user_names"
      ]
    },
    {
      "cell_type": "code",
      "execution_count": 58,
      "metadata": {
        "colab": {
          "base_uri": "https://localhost:8080/"
        },
        "id": "SC3RU_bDkiMi",
        "outputId": "f0f07858-6166-413d-98a9-48890db1e7a9"
      },
      "outputs": [
        {
          "data": {
            "text/plain": [
              "['Clementina', 'DuBuque']"
            ]
          },
          "execution_count": 58,
          "metadata": {},
          "output_type": "execute_result"
        }
      ],
      "source": [
        "name_list = last_user_names.split(\" \") # just a regular Python split method nothing to do with JSON\n",
        "name_list"
      ]
    },
    {
      "cell_type": "code",
      "execution_count": 59,
      "metadata": {
        "colab": {
          "base_uri": "https://localhost:8080/"
        },
        "id": "ikk4hxSNkqr0",
        "outputId": "3d71b68f-a22c-43b3-ceb9-0ffef4c423e3"
      },
      "outputs": [
        {
          "data": {
            "text/plain": [
              "('Clementina', 'DuBuque')"
            ]
          },
          "execution_count": 59,
          "metadata": {},
          "output_type": "execute_result"
        }
      ],
      "source": [
        "first_name = name_list[0]\n",
        "last_name = name_list[-1]\n",
        "first_name, last_name"
      ]
    },
    {
      "cell_type": "code",
      "execution_count": 60,
      "metadata": {
        "colab": {
          "base_uri": "https://localhost:8080/",
          "height": 35
        },
        "id": "2L1MuMOFk4lA",
        "outputId": "01331d32-6c4a-435e-d611-1ef63869373d"
      },
      "outputs": [
        {
          "data": {
            "text/plain": [
              "'-38.2386'"
            ]
          },
          "execution_count": 60,
          "metadata": {},
          "output_type": "execute_result"
        }
      ],
      "source": [
        "# so here latitute and longitude are strings\n",
        "# they are deeply nested in the data structure\n",
        "# list then dict then dict and one last dict\n",
        "# lattitude for the last user\n",
        "lat = users[-1]['address']['geo']['lat'] # so we have 3 levels of dictionaries here!!\n",
        "# it would be safer to use get method if you are not sure that the key exists\n",
        "lat # it is a string "
      ]
    },
    {
      "cell_type": "code",
      "execution_count": 61,
      "metadata": {
        "colab": {
          "base_uri": "https://localhost:8080/"
        },
        "id": "_kuCibmvlK_-",
        "outputId": "494f3c7e-7717-42ce-cae4-da529c9edef5"
      },
      "outputs": [
        {
          "data": {
            "text/plain": [
              "-38.2386"
            ]
          },
          "execution_count": 61,
          "metadata": {},
          "output_type": "execute_result"
        }
      ],
      "source": [
        "lat = float(lat)\n",
        "lat # now it is a number, floating (with a comma)"
      ]
    },
    {
      "cell_type": "code",
      "execution_count": null,
      "metadata": {},
      "outputs": [],
      "source": [
        "# not all APIs are free\n",
        "# many require API keys\n",
        "# those can be paid or free\n",
        "# you obtain keys from the service provider\n"
      ]
    },
    {
      "cell_type": "code",
      "execution_count": null,
      "metadata": {},
      "outputs": [],
      "source": [
        "# mockaroo.com is a free service that provides fake data similar to what you would get from a real API\n",
        "# you can use it to test your code\n",
        "# but to use it you it is recommended to register and get an API key"
      ]
    },
    {
      "cell_type": "code",
      "execution_count": 62,
      "metadata": {
        "colab": {
          "base_uri": "https://localhost:8080/"
        },
        "id": "Yi2E4qmPWH8K",
        "outputId": "db7aa452-f779-490f-f137-410106e79f6a"
      },
      "outputs": [
        {
          "name": "stdout",
          "output_type": "stream",
          "text": [
            "200\n"
          ]
        }
      ],
      "source": [
        "# we make a http request to a url and print the response code\n",
        "# url stands for uniform resource locator\n",
        "url = \"https://my.api.mockaroo.com/ageincluded.json?key=58227cb0\"  \n",
        "# careful with publishing your API keys - they can be used to make requests on your behalf\n",
        "# in this case this key was registered by me and is not a secret, long time ago I used it for a course\n",
        "# there are many horror stories about people publishing their API keys and then getting charged for requests\n",
        "# so you should get your own API key and not use mine in general\n",
        "response = requests.get(url)\n",
        "print(response.status_code) # Response Code 200 is good!"
      ]
    },
    {
      "cell_type": "markdown",
      "metadata": {
        "id": "E9EiYKZ4WH8K"
      },
      "source": [
        "### List of HTTP codes \n",
        "* 200 is OK - everything is as expected, we asked for resource and we got it\n",
        "* the most famous is 404 code for not found, most likely from typos or resource missing\n",
        "* https://en.wikipedia.org/wiki/List_of_HTTP_status_codes"
      ]
    },
    {
      "cell_type": "code",
      "execution_count": 63,
      "metadata": {
        "colab": {
          "base_uri": "https://localhost:8080/",
          "height": 35
        },
        "id": "z2596qDXWH8L",
        "outputId": "a6b11fd9-1e47-4141-82f6-500725d54665"
      },
      "outputs": [
        {
          "data": {
            "text/plain": [
              "'[{\"id\":1,\"first_name\":\"Ibbie\",\"last_name\":\"Bennoug'"
            ]
          },
          "execution_count": 63,
          "metadata": {},
          "output_type": "execute_result"
        }
      ],
      "source": [
        "response.text[:50]"
      ]
    },
    {
      "cell_type": "code",
      "execution_count": 64,
      "metadata": {
        "colab": {
          "base_uri": "https://localhost:8080/"
        },
        "id": "D9wTR8o8WH8L",
        "outputId": "0d6f95fd-587e-44af-b4c6-092c2bd62dd0"
      },
      "outputs": [
        {
          "data": {
            "text/plain": [
              "(list, 100)"
            ]
          },
          "execution_count": 64,
          "metadata": {},
          "output_type": "execute_result"
        }
      ],
      "source": [
        "data_from_json = response.json() # we do not need json.loads\n",
        "type(data_from_json), len(data_from_json)"
      ]
    },
    {
      "cell_type": "code",
      "execution_count": 65,
      "metadata": {
        "colab": {
          "base_uri": "https://localhost:8080/"
        },
        "id": "hxOqdBu8WH8L",
        "outputId": "d2f1994f-3078-47ff-c5c2-f891f200991d"
      },
      "outputs": [
        {
          "data": {
            "text/plain": [
              "(list, 100)"
            ]
          },
          "execution_count": 65,
          "metadata": {},
          "output_type": "execute_result"
        }
      ],
      "source": [
        "my_mock_data = json.loads(response.text) # kind of useless since we have response.json()\n",
        "type(my_mock_data), len(my_mock_data)"
      ]
    },
    {
      "cell_type": "code",
      "execution_count": 66,
      "metadata": {
        "colab": {
          "base_uri": "https://localhost:8080/"
        },
        "id": "KoQQLWOQWH8L",
        "outputId": "2ef2a990-d49f-4212-b5e7-9b93646373b6"
      },
      "outputs": [
        {
          "data": {
            "text/plain": [
              "(True, False)"
            ]
          },
          "execution_count": 66,
          "metadata": {},
          "output_type": "execute_result"
        }
      ],
      "source": [
        "data_from_json == my_mock_data, data_from_json is my_mock_data \n",
        "# again data is the same, but 2 different objects"
      ]
    },
    {
      "cell_type": "code",
      "execution_count": 68,
      "metadata": {},
      "outputs": [
        {
          "data": {
            "text/plain": [
              "list"
            ]
          },
          "execution_count": 68,
          "metadata": {},
          "output_type": "execute_result"
        }
      ],
      "source": [
        "type(my_mock_data) # this will be a list"
      ]
    },
    {
      "cell_type": "code",
      "execution_count": 69,
      "metadata": {},
      "outputs": [
        {
          "data": {
            "text/plain": [
              "dict"
            ]
          },
          "execution_count": 69,
          "metadata": {},
          "output_type": "execute_result"
        }
      ],
      "source": [
        "first_user = my_mock_data[0]\n",
        "type(first_user) # this will be a dictionary"
      ]
    },
    {
      "cell_type": "code",
      "execution_count": 70,
      "metadata": {},
      "outputs": [
        {
          "data": {
            "text/plain": [
              "66"
            ]
          },
          "execution_count": 70,
          "metadata": {},
          "output_type": "execute_result"
        }
      ],
      "source": [
        "age_first_user = first_user['age']\n",
        "age_first_user  # you will have different ages, different fake data"
      ]
    },
    {
      "cell_type": "code",
      "execution_count": 67,
      "metadata": {
        "colab": {
          "base_uri": "https://localhost:8080/"
        },
        "id": "m-MnSs-emRkY",
        "outputId": "9b9716a2-7389-4c80-a360-0fd10fc215cd"
      },
      "outputs": [
        {
          "name": "stdout",
          "output_type": "stream",
          "text": [
            "[{'id': 1, 'first_name': 'Ibbie', 'last_name': 'Bennough', 'email': 'ibennough0@flavors.me', 'gender': 'Female', 'ip_address': '117.74.74.198', 'age': 66}, {'id': 2, 'first_name': 'Rosalynd', 'last_name': 'Lovick', 'email': 'rlovick1@multiply.com', 'gender': 'Polygender', 'ip_address': '83.171.100.15', 'age': 41}, {'id': 3, 'first_name': 'Gardy', 'last_name': 'Collelton', 'email': 'gcollelton2@cbsnews.com', 'gender': 'Male', 'ip_address': '211.207.5.164', 'age': 71}, {'id': 4, 'first_name': 'Renate', 'last_name': 'Whiskerd', 'email': 'rwhiskerd3@webeden.co.uk', 'gender': 'Female', 'ip_address': '113.89.221.75', 'age': 94}, {'id': 5, 'first_name': 'Reta', 'last_name': 'Steljes', 'email': 'rsteljes4@163.com', 'gender': 'Female', 'ip_address': '31.183.217.60', 'age': 47}]\n"
          ]
        }
      ],
      "source": [
        "print(my_mock_data[:5])  # print first 5 entries"
      ]
    },
    {
      "cell_type": "code",
      "execution_count": null,
      "metadata": {},
      "outputs": [],
      "source": []
    },
    {
      "cell_type": "code",
      "execution_count": 71,
      "metadata": {
        "colab": {
          "base_uri": "https://localhost:8080/"
        },
        "id": "Awztns1emnDv",
        "outputId": "e5a7a776-61e4-4089-c0dc-1d82393c58af"
      },
      "outputs": [
        {
          "data": {
            "text/plain": [
              "[66,\n",
              " 41,\n",
              " 71,\n",
              " 94,\n",
              " 47,\n",
              " 19,\n",
              " 3,\n",
              " 97,\n",
              " 90,\n",
              " 57,\n",
              " 75,\n",
              " 25,\n",
              " 100,\n",
              " 56,\n",
              " 70,\n",
              " 60,\n",
              " 23,\n",
              " 64,\n",
              " 7,\n",
              " 35,\n",
              " 71,\n",
              " 64,\n",
              " 82,\n",
              " 99,\n",
              " 27,\n",
              " 39,\n",
              " 4,\n",
              " 98,\n",
              " 57,\n",
              " 49,\n",
              " 50,\n",
              " 16,\n",
              " 57,\n",
              " 55,\n",
              " 12,\n",
              " 81,\n",
              " 80,\n",
              " 22,\n",
              " 53,\n",
              " 30,\n",
              " 48,\n",
              " 21,\n",
              " 76,\n",
              " 78,\n",
              " 39,\n",
              " 43,\n",
              " 31,\n",
              " 3,\n",
              " 91,\n",
              " 39,\n",
              " 69,\n",
              " 76,\n",
              " 34,\n",
              " 32,\n",
              " 35,\n",
              " 84,\n",
              " 59,\n",
              " 10,\n",
              " 16,\n",
              " 47,\n",
              " 90,\n",
              " 31,\n",
              " 37,\n",
              " 92,\n",
              " 63,\n",
              " 95,\n",
              " 35,\n",
              " 57,\n",
              " 58,\n",
              " 81,\n",
              " 17,\n",
              " 72,\n",
              " 56,\n",
              " 64,\n",
              " 3,\n",
              " 63,\n",
              " 43,\n",
              " 33,\n",
              " 40,\n",
              " 6,\n",
              " 7,\n",
              " 69,\n",
              " 98,\n",
              " 73,\n",
              " 54,\n",
              " 31,\n",
              " 28,\n",
              " 97,\n",
              " 55,\n",
              " 36,\n",
              " 64,\n",
              " 38,\n",
              " 95,\n",
              " 3,\n",
              " 61,\n",
              " 57,\n",
              " 53,\n",
              " 28,\n",
              " 93,\n",
              " 57]"
            ]
          },
          "execution_count": 71,
          "metadata": {},
          "output_type": "execute_result"
        }
      ],
      "source": [
        "# let's get a list of all the ages\n",
        "age_list = [person[\"age\"] for person in my_mock_data]\n",
        "age_list"
      ]
    },
    {
      "cell_type": "code",
      "execution_count": null,
      "metadata": {
        "id": "f7SMIp1EnJUu"
      },
      "outputs": [],
      "source": []
    },
    {
      "cell_type": "code",
      "execution_count": 72,
      "metadata": {
        "colab": {
          "base_uri": "https://localhost:8080/"
        },
        "id": "aFNO2l5HmyiQ",
        "outputId": "5a3374de-e028-4969-fd6c-adaebf27bc12"
      },
      "outputs": [
        {
          "data": {
            "text/plain": [
              "52.1"
            ]
          },
          "execution_count": 72,
          "metadata": {},
          "output_type": "execute_result"
        }
      ],
      "source": [
        "average_age = sum(age_list)/len(age_list)\n",
        "average_age"
      ]
    },
    {
      "cell_type": "code",
      "execution_count": 73,
      "metadata": {
        "id": "N8jTOQaZWH8L"
      },
      "outputs": [],
      "source": [
        "import pandas as pd # Anaconda includes by default think of Excel on steroids"
      ]
    },
    {
      "cell_type": "code",
      "execution_count": 75,
      "metadata": {},
      "outputs": [],
      "source": [
        "# what is Pandas?\n",
        "\n",
        "# Pandas is a library for data analysis\n",
        "# it is built on top of NumPy\n",
        "# it is very popular in data science\n",
        "# it is very popular in data engineering\n",
        "# it is very popular in data analytics\n",
        "# it is very popular in data visualization\n",
        "# it is very popular in machine learning\n",
        "# it is very popular in deep learning\n",
        "# it is very popular in artificial intelligence\n",
        "\n",
        "# it can handle much larger data sets than Excel\n"
      ]
    },
    {
      "cell_type": "code",
      "execution_count": 76,
      "metadata": {
        "colab": {
          "base_uri": "https://localhost:8080/",
          "height": 206
        },
        "id": "SBUQCWVoWH8L",
        "outputId": "a06da104-ca43-4283-8755-ab5f80a89631"
      },
      "outputs": [
        {
          "data": {
            "text/html": [
              "<div>\n",
              "<style scoped>\n",
              "    .dataframe tbody tr th:only-of-type {\n",
              "        vertical-align: middle;\n",
              "    }\n",
              "\n",
              "    .dataframe tbody tr th {\n",
              "        vertical-align: top;\n",
              "    }\n",
              "\n",
              "    .dataframe thead th {\n",
              "        text-align: right;\n",
              "    }\n",
              "</style>\n",
              "<table border=\"1\" class=\"dataframe\">\n",
              "  <thead>\n",
              "    <tr style=\"text-align: right;\">\n",
              "      <th></th>\n",
              "      <th>id</th>\n",
              "      <th>first_name</th>\n",
              "      <th>last_name</th>\n",
              "      <th>email</th>\n",
              "      <th>gender</th>\n",
              "      <th>ip_address</th>\n",
              "      <th>age</th>\n",
              "    </tr>\n",
              "  </thead>\n",
              "  <tbody>\n",
              "    <tr>\n",
              "      <th>0</th>\n",
              "      <td>1</td>\n",
              "      <td>Moira</td>\n",
              "      <td>Ranger</td>\n",
              "      <td>mranger0@timesonline.co.uk</td>\n",
              "      <td>Female</td>\n",
              "      <td>58.163.121.253</td>\n",
              "      <td>31</td>\n",
              "    </tr>\n",
              "    <tr>\n",
              "      <th>1</th>\n",
              "      <td>2</td>\n",
              "      <td>Ragnar</td>\n",
              "      <td>O'Brogane</td>\n",
              "      <td>robrogane1@bing.com</td>\n",
              "      <td>Male</td>\n",
              "      <td>147.50.239.79</td>\n",
              "      <td>4</td>\n",
              "    </tr>\n",
              "    <tr>\n",
              "      <th>2</th>\n",
              "      <td>3</td>\n",
              "      <td>Marten</td>\n",
              "      <td>Bartke</td>\n",
              "      <td>mbartke2@blinklist.com</td>\n",
              "      <td>Male</td>\n",
              "      <td>18.217.103.111</td>\n",
              "      <td>99</td>\n",
              "    </tr>\n",
              "    <tr>\n",
              "      <th>3</th>\n",
              "      <td>4</td>\n",
              "      <td>Linnet</td>\n",
              "      <td>Semrad</td>\n",
              "      <td>lsemrad3@dagondesign.com</td>\n",
              "      <td>Female</td>\n",
              "      <td>126.13.65.83</td>\n",
              "      <td>1</td>\n",
              "    </tr>\n",
              "    <tr>\n",
              "      <th>4</th>\n",
              "      <td>5</td>\n",
              "      <td>Korry</td>\n",
              "      <td>Lindro</td>\n",
              "      <td>klindro4@google.cn</td>\n",
              "      <td>Female</td>\n",
              "      <td>51.165.30.218</td>\n",
              "      <td>77</td>\n",
              "    </tr>\n",
              "  </tbody>\n",
              "</table>\n",
              "</div>"
            ],
            "text/plain": [
              "   id first_name  last_name                       email  gender  \\\n",
              "0   1      Moira     Ranger  mranger0@timesonline.co.uk  Female   \n",
              "1   2     Ragnar  O'Brogane         robrogane1@bing.com    Male   \n",
              "2   3     Marten     Bartke      mbartke2@blinklist.com    Male   \n",
              "3   4     Linnet     Semrad    lsemrad3@dagondesign.com  Female   \n",
              "4   5      Korry     Lindro          klindro4@google.cn  Female   \n",
              "\n",
              "       ip_address  age  \n",
              "0  58.163.121.253   31  \n",
              "1   147.50.239.79    4  \n",
              "2  18.217.103.111   99  \n",
              "3    126.13.65.83    1  \n",
              "4   51.165.30.218   77  "
            ]
          },
          "execution_count": 76,
          "metadata": {},
          "output_type": "execute_result"
        }
      ],
      "source": [
        "df = pd.read_json(url) # so Pandas includes parsing JSON\n",
        "# so read_json made a network request to the server at that url\n",
        "# in this case this API gives you new data each time you make a request\n",
        "df.head()  # .head method will show you the first 5 rows, you can specify how many rows like .head(10)"
      ]
    },
    {
      "cell_type": "code",
      "execution_count": 77,
      "metadata": {
        "id": "LR0n1q_iWH8L"
      },
      "outputs": [],
      "source": [
        "# maybe we have to leave our work and we want to save the data\n",
        "df.to_csv(\"mock_data.csv\") # could go back to json, or perhaps xlsx or other formats such as database"
      ]
    },
    {
      "cell_type": "code",
      "execution_count": 78,
      "metadata": {
        "id": "-aK-2MvmnpHU"
      },
      "outputs": [],
      "source": [
        "df.to_excel(\"mock_data.xlsx\")  # saving to excel might require xlwt or openpyxl libraries to be installed\n",
        "# you can install them with pip install xlwt or pip install openpyxl"
      ]
    },
    {
      "cell_type": "code",
      "execution_count": 79,
      "metadata": {
        "colab": {
          "base_uri": "https://localhost:8080/"
        },
        "id": "796ms0RNm_vM",
        "outputId": "6614709c-51eb-4151-bf1c-8c1f9d3b494f"
      },
      "outputs": [
        {
          "data": {
            "text/plain": [
              "48.55"
            ]
          },
          "execution_count": 79,
          "metadata": {},
          "output_type": "execute_result"
        }
      ],
      "source": [
        "# now we can play around with some statistics\n",
        "# lets get the average age - age is a column in the dataframe\n",
        "df.age.mean()"
      ]
    },
    {
      "cell_type": "code",
      "execution_count": 80,
      "metadata": {
        "colab": {
          "base_uri": "https://localhost:8080/"
        },
        "id": "0lUhaItbnZK9",
        "outputId": "848ecbe3-7070-42eb-c2d8-a556cf31b3a7"
      },
      "outputs": [
        {
          "data": {
            "text/plain": [
              "Male           44\n",
              "Female         40\n",
              "Agender         5\n",
              "Bigender        3\n",
              "Polygender      3\n",
              "Genderqueer     3\n",
              "Genderfluid     1\n",
              "Non-binary      1\n",
              "Name: gender, dtype: int64"
            ]
          },
          "execution_count": 80,
          "metadata": {},
          "output_type": "execute_result"
        }
      ],
      "source": [
        "# let's check different gender counts\n",
        "df.gender.value_counts()"
      ]
    },
    {
      "cell_type": "code",
      "execution_count": 81,
      "metadata": {
        "colab": {
          "base_uri": "https://localhost:8080/"
        },
        "id": "9DtLqGlcWH8L",
        "outputId": "363547e0-fe07-45cb-c7d3-20ee72500c38"
      },
      "outputs": [
        {
          "data": {
            "text/plain": [
              "[{'id': 1,\n",
              "  'first_name': 'Ibbie',\n",
              "  'last_name': 'Bennough',\n",
              "  'email': 'ibennough0@flavors.me',\n",
              "  'gender': 'Female',\n",
              "  'ip_address': '117.74.74.198',\n",
              "  'age': 66},\n",
              " {'id': 2,\n",
              "  'first_name': 'Rosalynd',\n",
              "  'last_name': 'Lovick',\n",
              "  'email': 'rlovick1@multiply.com',\n",
              "  'gender': 'Polygender',\n",
              "  'ip_address': '83.171.100.15',\n",
              "  'age': 41}]"
            ]
          },
          "execution_count": 81,
          "metadata": {},
          "output_type": "execute_result"
        }
      ],
      "source": [
        "data_from_json[:2] # first two entries"
      ]
    },
    {
      "cell_type": "code",
      "execution_count": 83,
      "metadata": {
        "colab": {
          "base_uri": "https://localhost:8080/",
          "height": 536
        },
        "id": "TBJyhJzLWH8M",
        "outputId": "204cbeff-694c-4d9d-be1b-7c98e8931231"
      },
      "outputs": [
        {
          "data": {
            "text/html": [
              "<div>\n",
              "<style scoped>\n",
              "    .dataframe tbody tr th:only-of-type {\n",
              "        vertical-align: middle;\n",
              "    }\n",
              "\n",
              "    .dataframe tbody tr th {\n",
              "        vertical-align: top;\n",
              "    }\n",
              "\n",
              "    .dataframe thead th {\n",
              "        text-align: right;\n",
              "    }\n",
              "</style>\n",
              "<table border=\"1\" class=\"dataframe\">\n",
              "  <thead>\n",
              "    <tr style=\"text-align: right;\">\n",
              "      <th></th>\n",
              "      <th>id</th>\n",
              "      <th>first_name</th>\n",
              "      <th>last_name</th>\n",
              "      <th>email</th>\n",
              "      <th>gender</th>\n",
              "      <th>ip_address</th>\n",
              "      <th>age</th>\n",
              "    </tr>\n",
              "  </thead>\n",
              "  <tbody>\n",
              "    <tr>\n",
              "      <th>0</th>\n",
              "      <td>1</td>\n",
              "      <td>Ibbie</td>\n",
              "      <td>Bennough</td>\n",
              "      <td>ibennough0@flavors.me</td>\n",
              "      <td>Female</td>\n",
              "      <td>117.74.74.198</td>\n",
              "      <td>66</td>\n",
              "    </tr>\n",
              "    <tr>\n",
              "      <th>1</th>\n",
              "      <td>2</td>\n",
              "      <td>Rosalynd</td>\n",
              "      <td>Lovick</td>\n",
              "      <td>rlovick1@multiply.com</td>\n",
              "      <td>Polygender</td>\n",
              "      <td>83.171.100.15</td>\n",
              "      <td>41</td>\n",
              "    </tr>\n",
              "    <tr>\n",
              "      <th>2</th>\n",
              "      <td>3</td>\n",
              "      <td>Gardy</td>\n",
              "      <td>Collelton</td>\n",
              "      <td>gcollelton2@cbsnews.com</td>\n",
              "      <td>Male</td>\n",
              "      <td>211.207.5.164</td>\n",
              "      <td>71</td>\n",
              "    </tr>\n",
              "    <tr>\n",
              "      <th>3</th>\n",
              "      <td>4</td>\n",
              "      <td>Renate</td>\n",
              "      <td>Whiskerd</td>\n",
              "      <td>rwhiskerd3@webeden.co.uk</td>\n",
              "      <td>Female</td>\n",
              "      <td>113.89.221.75</td>\n",
              "      <td>94</td>\n",
              "    </tr>\n",
              "    <tr>\n",
              "      <th>4</th>\n",
              "      <td>5</td>\n",
              "      <td>Reta</td>\n",
              "      <td>Steljes</td>\n",
              "      <td>rsteljes4@163.com</td>\n",
              "      <td>Female</td>\n",
              "      <td>31.183.217.60</td>\n",
              "      <td>47</td>\n",
              "    </tr>\n",
              "  </tbody>\n",
              "</table>\n",
              "</div>"
            ],
            "text/plain": [
              "   id first_name  last_name                     email      gender  \\\n",
              "0   1      Ibbie   Bennough     ibennough0@flavors.me      Female   \n",
              "1   2   Rosalynd     Lovick     rlovick1@multiply.com  Polygender   \n",
              "2   3      Gardy  Collelton   gcollelton2@cbsnews.com        Male   \n",
              "3   4     Renate   Whiskerd  rwhiskerd3@webeden.co.uk      Female   \n",
              "4   5       Reta    Steljes         rsteljes4@163.com      Female   \n",
              "\n",
              "      ip_address  age  \n",
              "0  117.74.74.198   66  \n",
              "1  83.171.100.15   41  \n",
              "2  211.207.5.164   71  \n",
              "3  113.89.221.75   94  \n",
              "4  31.183.217.60   47  "
            ]
          },
          "execution_count": 83,
          "metadata": {},
          "output_type": "execute_result"
        }
      ],
      "source": [
        "# so instead of reading from a url we can read from a file here we pass a json data structure\n",
        "df2 = pd.DataFrame(data_from_json) # in this data_from_json is Python data structure list\n",
        "df2.head()"
      ]
    },
    {
      "cell_type": "code",
      "execution_count": 84,
      "metadata": {
        "id": "bbDEF3tTWH8M"
      },
      "outputs": [
        {
          "data": {
            "text/plain": [
              "50.25"
            ]
          },
          "execution_count": 84,
          "metadata": {},
          "output_type": "execute_result"
        }
      ],
      "source": [
        "# lets get average age of males in our dataframe \n",
        "\n",
        "df[df.gender == \"Male\"].age.mean() # so we are filtering the dataframe\n",
        "\n"
      ]
    },
    {
      "cell_type": "code",
      "execution_count": 86,
      "metadata": {},
      "outputs": [
        {
          "data": {
            "text/plain": [
              "39.175"
            ]
          },
          "execution_count": 86,
          "metadata": {},
          "output_type": "execute_result"
        }
      ],
      "source": [
        "# how about female average age?\n",
        "\n",
        "df[df.gender == \"Female\"].age.mean() # so we are filtering the dataframe"
      ]
    },
    {
      "cell_type": "code",
      "execution_count": 87,
      "metadata": {},
      "outputs": [
        {
          "data": {
            "text/html": [
              "<div>\n",
              "<style scoped>\n",
              "    .dataframe tbody tr th:only-of-type {\n",
              "        vertical-align: middle;\n",
              "    }\n",
              "\n",
              "    .dataframe tbody tr th {\n",
              "        vertical-align: top;\n",
              "    }\n",
              "\n",
              "    .dataframe thead th {\n",
              "        text-align: right;\n",
              "    }\n",
              "</style>\n",
              "<table border=\"1\" class=\"dataframe\">\n",
              "  <thead>\n",
              "    <tr style=\"text-align: right;\">\n",
              "      <th></th>\n",
              "      <th>id</th>\n",
              "      <th>age</th>\n",
              "    </tr>\n",
              "  </thead>\n",
              "  <tbody>\n",
              "    <tr>\n",
              "      <th>count</th>\n",
              "      <td>100.000000</td>\n",
              "      <td>100.000000</td>\n",
              "    </tr>\n",
              "    <tr>\n",
              "      <th>mean</th>\n",
              "      <td>50.500000</td>\n",
              "      <td>48.550000</td>\n",
              "    </tr>\n",
              "    <tr>\n",
              "      <th>std</th>\n",
              "      <td>29.011492</td>\n",
              "      <td>29.205083</td>\n",
              "    </tr>\n",
              "    <tr>\n",
              "      <th>min</th>\n",
              "      <td>1.000000</td>\n",
              "      <td>1.000000</td>\n",
              "    </tr>\n",
              "    <tr>\n",
              "      <th>25%</th>\n",
              "      <td>25.750000</td>\n",
              "      <td>19.000000</td>\n",
              "    </tr>\n",
              "    <tr>\n",
              "      <th>50%</th>\n",
              "      <td>50.500000</td>\n",
              "      <td>47.500000</td>\n",
              "    </tr>\n",
              "    <tr>\n",
              "      <th>75%</th>\n",
              "      <td>75.250000</td>\n",
              "      <td>75.000000</td>\n",
              "    </tr>\n",
              "    <tr>\n",
              "      <th>max</th>\n",
              "      <td>100.000000</td>\n",
              "      <td>99.000000</td>\n",
              "    </tr>\n",
              "  </tbody>\n",
              "</table>\n",
              "</div>"
            ],
            "text/plain": [
              "               id         age\n",
              "count  100.000000  100.000000\n",
              "mean    50.500000   48.550000\n",
              "std     29.011492   29.205083\n",
              "min      1.000000    1.000000\n",
              "25%     25.750000   19.000000\n",
              "50%     50.500000   47.500000\n",
              "75%     75.250000   75.000000\n",
              "max    100.000000   99.000000"
            ]
          },
          "execution_count": 87,
          "metadata": {},
          "output_type": "execute_result"
        }
      ],
      "source": [
        "# we can also generate some statistics for all the columns\n",
        "df.describe() "
      ]
    },
    {
      "cell_type": "code",
      "execution_count": 88,
      "metadata": {},
      "outputs": [
        {
          "name": "stdout",
          "output_type": "stream",
          "text": [
            "<class 'pandas.core.frame.DataFrame'>\n",
            "RangeIndex: 100 entries, 0 to 99\n",
            "Data columns (total 7 columns):\n",
            " #   Column      Non-Null Count  Dtype \n",
            "---  ------      --------------  ----- \n",
            " 0   id          100 non-null    int64 \n",
            " 1   first_name  100 non-null    object\n",
            " 2   last_name   100 non-null    object\n",
            " 3   email       100 non-null    object\n",
            " 4   gender      100 non-null    object\n",
            " 5   ip_address  100 non-null    object\n",
            " 6   age         100 non-null    int64 \n",
            "dtypes: int64(2), object(5)\n",
            "memory usage: 5.6+ KB\n"
          ]
        }
      ],
      "source": [
        "# in this case our dataframe in df only has two numeric columns\n",
        "df.info() # lets see what data types we have"
      ]
    },
    {
      "cell_type": "code",
      "execution_count": 89,
      "metadata": {},
      "outputs": [
        {
          "data": {
            "text/html": [
              "<div>\n",
              "<style scoped>\n",
              "    .dataframe tbody tr th:only-of-type {\n",
              "        vertical-align: middle;\n",
              "    }\n",
              "\n",
              "    .dataframe tbody tr th {\n",
              "        vertical-align: top;\n",
              "    }\n",
              "\n",
              "    .dataframe thead th {\n",
              "        text-align: right;\n",
              "    }\n",
              "</style>\n",
              "<table border=\"1\" class=\"dataframe\">\n",
              "  <thead>\n",
              "    <tr style=\"text-align: right;\">\n",
              "      <th></th>\n",
              "      <th>id</th>\n",
              "      <th>first_name</th>\n",
              "      <th>last_name</th>\n",
              "      <th>email</th>\n",
              "      <th>gender</th>\n",
              "      <th>ip_address</th>\n",
              "      <th>age</th>\n",
              "    </tr>\n",
              "  </thead>\n",
              "  <tbody>\n",
              "    <tr>\n",
              "      <th>count</th>\n",
              "      <td>100.000000</td>\n",
              "      <td>100</td>\n",
              "      <td>100</td>\n",
              "      <td>100</td>\n",
              "      <td>100</td>\n",
              "      <td>100</td>\n",
              "      <td>100.000000</td>\n",
              "    </tr>\n",
              "    <tr>\n",
              "      <th>unique</th>\n",
              "      <td>NaN</td>\n",
              "      <td>100</td>\n",
              "      <td>100</td>\n",
              "      <td>100</td>\n",
              "      <td>8</td>\n",
              "      <td>100</td>\n",
              "      <td>NaN</td>\n",
              "    </tr>\n",
              "    <tr>\n",
              "      <th>top</th>\n",
              "      <td>NaN</td>\n",
              "      <td>Paulina</td>\n",
              "      <td>Watmough</td>\n",
              "      <td>dgarstang1w@stanford.edu</td>\n",
              "      <td>Male</td>\n",
              "      <td>127.83.77.87</td>\n",
              "      <td>NaN</td>\n",
              "    </tr>\n",
              "    <tr>\n",
              "      <th>freq</th>\n",
              "      <td>NaN</td>\n",
              "      <td>1</td>\n",
              "      <td>1</td>\n",
              "      <td>1</td>\n",
              "      <td>44</td>\n",
              "      <td>1</td>\n",
              "      <td>NaN</td>\n",
              "    </tr>\n",
              "    <tr>\n",
              "      <th>mean</th>\n",
              "      <td>50.500000</td>\n",
              "      <td>NaN</td>\n",
              "      <td>NaN</td>\n",
              "      <td>NaN</td>\n",
              "      <td>NaN</td>\n",
              "      <td>NaN</td>\n",
              "      <td>48.550000</td>\n",
              "    </tr>\n",
              "    <tr>\n",
              "      <th>std</th>\n",
              "      <td>29.011492</td>\n",
              "      <td>NaN</td>\n",
              "      <td>NaN</td>\n",
              "      <td>NaN</td>\n",
              "      <td>NaN</td>\n",
              "      <td>NaN</td>\n",
              "      <td>29.205083</td>\n",
              "    </tr>\n",
              "    <tr>\n",
              "      <th>min</th>\n",
              "      <td>1.000000</td>\n",
              "      <td>NaN</td>\n",
              "      <td>NaN</td>\n",
              "      <td>NaN</td>\n",
              "      <td>NaN</td>\n",
              "      <td>NaN</td>\n",
              "      <td>1.000000</td>\n",
              "    </tr>\n",
              "    <tr>\n",
              "      <th>25%</th>\n",
              "      <td>25.750000</td>\n",
              "      <td>NaN</td>\n",
              "      <td>NaN</td>\n",
              "      <td>NaN</td>\n",
              "      <td>NaN</td>\n",
              "      <td>NaN</td>\n",
              "      <td>19.000000</td>\n",
              "    </tr>\n",
              "    <tr>\n",
              "      <th>50%</th>\n",
              "      <td>50.500000</td>\n",
              "      <td>NaN</td>\n",
              "      <td>NaN</td>\n",
              "      <td>NaN</td>\n",
              "      <td>NaN</td>\n",
              "      <td>NaN</td>\n",
              "      <td>47.500000</td>\n",
              "    </tr>\n",
              "    <tr>\n",
              "      <th>75%</th>\n",
              "      <td>75.250000</td>\n",
              "      <td>NaN</td>\n",
              "      <td>NaN</td>\n",
              "      <td>NaN</td>\n",
              "      <td>NaN</td>\n",
              "      <td>NaN</td>\n",
              "      <td>75.000000</td>\n",
              "    </tr>\n",
              "    <tr>\n",
              "      <th>max</th>\n",
              "      <td>100.000000</td>\n",
              "      <td>NaN</td>\n",
              "      <td>NaN</td>\n",
              "      <td>NaN</td>\n",
              "      <td>NaN</td>\n",
              "      <td>NaN</td>\n",
              "      <td>99.000000</td>\n",
              "    </tr>\n",
              "  </tbody>\n",
              "</table>\n",
              "</div>"
            ],
            "text/plain": [
              "                id first_name last_name                     email gender  \\\n",
              "count   100.000000        100       100                       100    100   \n",
              "unique         NaN        100       100                       100      8   \n",
              "top            NaN    Paulina  Watmough  dgarstang1w@stanford.edu   Male   \n",
              "freq           NaN          1         1                         1     44   \n",
              "mean     50.500000        NaN       NaN                       NaN    NaN   \n",
              "std      29.011492        NaN       NaN                       NaN    NaN   \n",
              "min       1.000000        NaN       NaN                       NaN    NaN   \n",
              "25%      25.750000        NaN       NaN                       NaN    NaN   \n",
              "50%      50.500000        NaN       NaN                       NaN    NaN   \n",
              "75%      75.250000        NaN       NaN                       NaN    NaN   \n",
              "max     100.000000        NaN       NaN                       NaN    NaN   \n",
              "\n",
              "          ip_address         age  \n",
              "count            100  100.000000  \n",
              "unique           100         NaN  \n",
              "top     127.83.77.87         NaN  \n",
              "freq               1         NaN  \n",
              "mean             NaN   48.550000  \n",
              "std              NaN   29.205083  \n",
              "min              NaN    1.000000  \n",
              "25%              NaN   19.000000  \n",
              "50%              NaN   47.500000  \n",
              "75%              NaN   75.000000  \n",
              "max              NaN   99.000000  "
            ]
          },
          "execution_count": 89,
          "metadata": {},
          "output_type": "execute_result"
        }
      ],
      "source": [
        "# if you want to describe non-numeric columns you can do this\n",
        "df.describe(include=\"all\") # this will include all columns"
      ]
    },
    {
      "cell_type": "code",
      "execution_count": 90,
      "metadata": {},
      "outputs": [
        {
          "data": {
            "text/html": [
              "<div>\n",
              "<style scoped>\n",
              "    .dataframe tbody tr th:only-of-type {\n",
              "        vertical-align: middle;\n",
              "    }\n",
              "\n",
              "    .dataframe tbody tr th {\n",
              "        vertical-align: top;\n",
              "    }\n",
              "\n",
              "    .dataframe thead th {\n",
              "        text-align: right;\n",
              "    }\n",
              "</style>\n",
              "<table border=\"1\" class=\"dataframe\">\n",
              "  <thead>\n",
              "    <tr style=\"text-align: right;\">\n",
              "      <th></th>\n",
              "      <th>count</th>\n",
              "      <th>unique</th>\n",
              "      <th>top</th>\n",
              "      <th>freq</th>\n",
              "      <th>mean</th>\n",
              "      <th>std</th>\n",
              "      <th>min</th>\n",
              "      <th>25%</th>\n",
              "      <th>50%</th>\n",
              "      <th>75%</th>\n",
              "      <th>max</th>\n",
              "    </tr>\n",
              "  </thead>\n",
              "  <tbody>\n",
              "    <tr>\n",
              "      <th>id</th>\n",
              "      <td>100.0</td>\n",
              "      <td>NaN</td>\n",
              "      <td>NaN</td>\n",
              "      <td>NaN</td>\n",
              "      <td>50.5</td>\n",
              "      <td>29.011492</td>\n",
              "      <td>1.0</td>\n",
              "      <td>25.75</td>\n",
              "      <td>50.5</td>\n",
              "      <td>75.25</td>\n",
              "      <td>100.0</td>\n",
              "    </tr>\n",
              "    <tr>\n",
              "      <th>first_name</th>\n",
              "      <td>100</td>\n",
              "      <td>100</td>\n",
              "      <td>Paulina</td>\n",
              "      <td>1</td>\n",
              "      <td>NaN</td>\n",
              "      <td>NaN</td>\n",
              "      <td>NaN</td>\n",
              "      <td>NaN</td>\n",
              "      <td>NaN</td>\n",
              "      <td>NaN</td>\n",
              "      <td>NaN</td>\n",
              "    </tr>\n",
              "    <tr>\n",
              "      <th>last_name</th>\n",
              "      <td>100</td>\n",
              "      <td>100</td>\n",
              "      <td>Watmough</td>\n",
              "      <td>1</td>\n",
              "      <td>NaN</td>\n",
              "      <td>NaN</td>\n",
              "      <td>NaN</td>\n",
              "      <td>NaN</td>\n",
              "      <td>NaN</td>\n",
              "      <td>NaN</td>\n",
              "      <td>NaN</td>\n",
              "    </tr>\n",
              "    <tr>\n",
              "      <th>email</th>\n",
              "      <td>100</td>\n",
              "      <td>100</td>\n",
              "      <td>dgarstang1w@stanford.edu</td>\n",
              "      <td>1</td>\n",
              "      <td>NaN</td>\n",
              "      <td>NaN</td>\n",
              "      <td>NaN</td>\n",
              "      <td>NaN</td>\n",
              "      <td>NaN</td>\n",
              "      <td>NaN</td>\n",
              "      <td>NaN</td>\n",
              "    </tr>\n",
              "    <tr>\n",
              "      <th>gender</th>\n",
              "      <td>100</td>\n",
              "      <td>8</td>\n",
              "      <td>Male</td>\n",
              "      <td>44</td>\n",
              "      <td>NaN</td>\n",
              "      <td>NaN</td>\n",
              "      <td>NaN</td>\n",
              "      <td>NaN</td>\n",
              "      <td>NaN</td>\n",
              "      <td>NaN</td>\n",
              "      <td>NaN</td>\n",
              "    </tr>\n",
              "    <tr>\n",
              "      <th>ip_address</th>\n",
              "      <td>100</td>\n",
              "      <td>100</td>\n",
              "      <td>127.83.77.87</td>\n",
              "      <td>1</td>\n",
              "      <td>NaN</td>\n",
              "      <td>NaN</td>\n",
              "      <td>NaN</td>\n",
              "      <td>NaN</td>\n",
              "      <td>NaN</td>\n",
              "      <td>NaN</td>\n",
              "      <td>NaN</td>\n",
              "    </tr>\n",
              "    <tr>\n",
              "      <th>age</th>\n",
              "      <td>100.0</td>\n",
              "      <td>NaN</td>\n",
              "      <td>NaN</td>\n",
              "      <td>NaN</td>\n",
              "      <td>48.55</td>\n",
              "      <td>29.205083</td>\n",
              "      <td>1.0</td>\n",
              "      <td>19.0</td>\n",
              "      <td>47.5</td>\n",
              "      <td>75.0</td>\n",
              "      <td>99.0</td>\n",
              "    </tr>\n",
              "  </tbody>\n",
              "</table>\n",
              "</div>"
            ],
            "text/plain": [
              "            count unique                       top freq   mean        std  \\\n",
              "id          100.0    NaN                       NaN  NaN   50.5  29.011492   \n",
              "first_name    100    100                   Paulina    1    NaN        NaN   \n",
              "last_name     100    100                  Watmough    1    NaN        NaN   \n",
              "email         100    100  dgarstang1w@stanford.edu    1    NaN        NaN   \n",
              "gender        100      8                      Male   44    NaN        NaN   \n",
              "ip_address    100    100              127.83.77.87    1    NaN        NaN   \n",
              "age         100.0    NaN                       NaN  NaN  48.55  29.205083   \n",
              "\n",
              "            min    25%   50%    75%    max  \n",
              "id          1.0  25.75  50.5  75.25  100.0  \n",
              "first_name  NaN    NaN   NaN    NaN    NaN  \n",
              "last_name   NaN    NaN   NaN    NaN    NaN  \n",
              "email       NaN    NaN   NaN    NaN    NaN  \n",
              "gender      NaN    NaN   NaN    NaN    NaN  \n",
              "ip_address  NaN    NaN   NaN    NaN    NaN  \n",
              "age         1.0   19.0  47.5   75.0   99.0  "
            ]
          },
          "execution_count": 90,
          "metadata": {},
          "output_type": "execute_result"
        }
      ],
      "source": [
        "# we can transpose the columns and rows\n",
        "df.describe(include=\"all\").T # NaN means not a number"
      ]
    },
    {
      "cell_type": "code",
      "execution_count": 91,
      "metadata": {},
      "outputs": [
        {
          "data": {
            "text/plain": [
              "<AxesSubplot:ylabel='Frequency'>"
            ]
          },
          "execution_count": 91,
          "metadata": {},
          "output_type": "execute_result"
        },
        {
          "data": {
            "image/png": "[encoded data removed]",
            "text/plain": [
              "<Figure size 432x288 with 1 Axes>"
            ]
          },
          "metadata": {
            "needs_background": "light"
          },
          "output_type": "display_data"
        }
      ],
      "source": [
        "# lets plot the data for ages\n",
        "df.age.plot(kind=\"hist\") # kind is the type of plot"
      ]
    },
    {
      "cell_type": "code",
      "execution_count": 92,
      "metadata": {},
      "outputs": [
        {
          "data": {
            "text/plain": [
              "<AxesSubplot:ylabel='Frequency'>"
            ]
          },
          "execution_count": 92,
          "metadata": {},
          "output_type": "execute_result"
        },
        {
          "data": {
            "image/png": "[encoded data removed]",
            "text/plain": [
              "<Figure size 432x288 with 1 Axes>"
            ]
          },
          "metadata": {
            "needs_background": "light"
          },
          "output_type": "display_data"
        }
      ],
      "source": [
        "# lets plot female and male age histograms in one plot\n",
        "\n",
        "males = df[df.gender == \"Male\"]\n",
        "females = df[df.gender == \"Female\"]\n",
        "\n",
        "# lets plot age distributions for males and females side by side\n",
        "\n",
        "males.plot(kind=\"hist\", y=\"age\", alpha=0.5) # alpha is transparency\n",
        "\n"
      ]
    },
    {
      "cell_type": "code",
      "execution_count": 93,
      "metadata": {},
      "outputs": [
        {
          "data": {
            "text/plain": [
              "<AxesSubplot:ylabel='Frequency'>"
            ]
          },
          "execution_count": 93,
          "metadata": {},
          "output_type": "execute_result"
        },
        {
          "data": {
            "image/png": "[encoded data removed]",
            "text/plain": [
              "<Figure size 432x288 with 1 Axes>"
            ]
          },
          "metadata": {
            "needs_background": "light"
          },
          "output_type": "display_data"
        }
      ],
      "source": [
        "females.plot(kind=\"hist\", y=\"age\", alpha=0.5) # alpha is transparency"
      ]
    },
    {
      "cell_type": "code",
      "execution_count": null,
      "metadata": {},
      "outputs": [],
      "source": [
        "# so this data looks quite suspicious - it is actually fake data\n",
        "# why is it suspicious?\n",
        "\n",
        "# because the age history is evenly distributed - not realistic"
      ]
    },
    {
      "cell_type": "code",
      "execution_count": 56,
      "metadata": {
        "colab": {
          "base_uri": "https://localhost:8080/"
        },
        "id": "XxkkJHQRWH8M",
        "outputId": "c718290c-209c-4911-aeff-14cc24c613a1"
      },
      "outputs": [
        {
          "data": {
            "text/plain": [
              "[{'address': {'city': 'Gwenborough',\n",
              "   'geo': {'lat': '-37.3159', 'lng': '81.1496'},\n",
              "   'street': 'Kulas Light',\n",
              "   'suite': 'Apt. 556',\n",
              "   'zipcode': '92998-3874'},\n",
              "  'company': {'bs': 'harness real-time e-markets',\n",
              "   'catchPhrase': 'Multi-layered client-server neural-net',\n",
              "   'name': 'Romaguera-Crona'},\n",
              "  'email': 'Sincere@april.biz',\n",
              "  'id': 1,\n",
              "  'name': 'Leanne Graham',\n",
              "  'phone': '1-770-736-8031 x56442',\n",
              "  'username': 'Bret',\n",
              "  'website': 'hildegard.org'},\n",
              " {'address': {'city': 'Wisokyburgh',\n",
              "   'geo': {'lat': '-43.9509', 'lng': '-34.4618'},\n",
              "   'street': 'Victor Plains',\n",
              "   'suite': 'Suite 879',\n",
              "   'zipcode': '90566-7771'},\n",
              "  'company': {'bs': 'synergize scalable supply-chains',\n",
              "   'catchPhrase': 'Proactive didactic contingency',\n",
              "   'name': 'Deckow-Crist'},\n",
              "  'email': 'Shanna@melissa.tv',\n",
              "  'id': 2,\n",
              "  'name': 'Ervin Howell',\n",
              "  'phone': '010-692-6593 x09125',\n",
              "  'username': 'Antonette',\n",
              "  'website': 'anastasia.net'},\n",
              " {'address': {'city': 'McKenziehaven',\n",
              "   'geo': {'lat': '-68.6102', 'lng': '-47.0653'},\n",
              "   'street': 'Douglas Extension',\n",
              "   'suite': 'Suite 847',\n",
              "   'zipcode': '59590-4157'},\n",
              "  'company': {'bs': 'e-enable strategic applications',\n",
              "   'catchPhrase': 'Face to face bifurcated interface',\n",
              "   'name': 'Romaguera-Jacobson'},\n",
              "  'email': 'Nathan@yesenia.net',\n",
              "  'id': 3,\n",
              "  'name': 'Clementine Bauch',\n",
              "  'phone': '1-463-123-4447',\n",
              "  'username': 'Samantha',\n",
              "  'website': 'ramiro.info'},\n",
              " {'address': {'city': 'South Elvis',\n",
              "   'geo': {'lat': '29.4572', 'lng': '-164.2990'},\n",
              "   'street': 'Hoeger Mall',\n",
              "   'suite': 'Apt. 692',\n",
              "   'zipcode': '53919-4257'},\n",
              "  'company': {'bs': 'transition cutting-edge web services',\n",
              "   'catchPhrase': 'Multi-tiered zero tolerance productivity',\n",
              "   'name': 'Robel-Corkery'},\n",
              "  'email': 'Julianne.OConner@kory.org',\n",
              "  'id': 4,\n",
              "  'name': 'Patricia Lebsack',\n",
              "  'phone': '493-170-9623 x156',\n",
              "  'username': 'Karianne',\n",
              "  'website': 'kale.biz'},\n",
              " {'address': {'city': 'Roscoeview',\n",
              "   'geo': {'lat': '-31.8129', 'lng': '62.5342'},\n",
              "   'street': 'Skiles Walks',\n",
              "   'suite': 'Suite 351',\n",
              "   'zipcode': '33263'},\n",
              "  'company': {'bs': 'revolutionize end-to-end systems',\n",
              "   'catchPhrase': 'User-centric fault-tolerant solution',\n",
              "   'name': 'Keebler LLC'},\n",
              "  'email': 'Lucio_Hettinger@annie.ca',\n",
              "  'id': 5,\n",
              "  'name': 'Chelsey Dietrich',\n",
              "  'phone': '(254)954-1289',\n",
              "  'username': 'Kamren',\n",
              "  'website': 'demarco.info'}]"
            ]
          },
          "execution_count": 56,
          "metadata": {},
          "output_type": "execute_result"
        }
      ],
      "source": [
        "data_from_json[:5]"
      ]
    },
    {
      "cell_type": "code",
      "execution_count": 57,
      "metadata": {
        "id": "SiNTESpQWH8M"
      },
      "outputs": [],
      "source": [
        "myjson = data_from_json # just an alias"
      ]
    },
    {
      "cell_type": "code",
      "execution_count": 58,
      "metadata": {
        "colab": {
          "base_uri": "https://localhost:8080/"
        },
        "id": "fdqFrFaMWH8M",
        "outputId": "8e1cfde2-b42f-4982-99bb-0c75b313611d"
      },
      "outputs": [
        {
          "data": {
            "text/plain": [
              "[]"
            ]
          },
          "execution_count": 58,
          "metadata": {},
          "output_type": "execute_result"
        }
      ],
      "source": [
        "japanese = [person for person in myjson if person.get('email').endswith('.jp')]\n",
        "# person is something I made up for the list comprehension above\n",
        "# potentially person.get('email') could return None then .endswith('.jp') would fail with error\n",
        "japanese"
      ]
    },
    {
      "cell_type": "code",
      "execution_count": 59,
      "metadata": {
        "colab": {
          "base_uri": "https://localhost:8080/"
        },
        "id": "fuAzyhRoWH8M",
        "outputId": "898df72f-ea2f-42fd-c803-ad7d66db629b"
      },
      "outputs": [
        {
          "data": {
            "text/plain": [
              "[]"
            ]
          },
          "execution_count": 59,
          "metadata": {},
          "output_type": "execute_result"
        }
      ],
      "source": [
        "japanese_men = [p for p in japanese if p.get('gender') == \"Male\"]\n",
        "# potentially person.get('email') could return None then .endswith('.jp') would fail with error\n",
        "japanese_men"
      ]
    },
    {
      "cell_type": "code",
      "execution_count": 60,
      "metadata": {
        "colab": {
          "base_uri": "https://localhost:8080/"
        },
        "id": "GAJVEVYsWH8M",
        "outputId": "e053fe77-f56c-453f-bfb7-41fe3b319877"
      },
      "outputs": [
        {
          "data": {
            "text/plain": [
              "[]"
            ]
          },
          "execution_count": 60,
          "metadata": {},
          "output_type": "execute_result"
        }
      ],
      "source": [
        "uk = [person for person in myjson if person.get('email',\"\").endswith('.uk')]\n",
        "# we added \"\" to get so that if there is no email the endswith does not fail\n",
        "uk"
      ]
    },
    {
      "cell_type": "code",
      "execution_count": 61,
      "metadata": {
        "colab": {
          "base_uri": "https://localhost:8080/"
        },
        "id": "YxW0u3lLWH8N",
        "outputId": "16974d38-efe8-4001-9a34-e820bb112304"
      },
      "outputs": [
        {
          "data": {
            "text/plain": [
              "[]"
            ]
          },
          "execution_count": 61,
          "metadata": {},
          "output_type": "execute_result"
        }
      ],
      "source": [
        "uk_ages = [(person.get('first_name'),int(person.get('age'))) for person in uk]\n",
        "uk_ages"
      ]
    },
    {
      "cell_type": "code",
      "execution_count": 62,
      "metadata": {
        "colab": {
          "base_uri": "https://localhost:8080/",
          "height": 49
        },
        "id": "YFW3vkFSWH8N",
        "outputId": "3a223f00-0c7d-42a6-b71f-ac57c36a05d1"
      },
      "outputs": [
        {
          "data": {
            "text/html": [
              "<div>\n",
              "<style scoped>\n",
              "    .dataframe tbody tr th:only-of-type {\n",
              "        vertical-align: middle;\n",
              "    }\n",
              "\n",
              "    .dataframe tbody tr th {\n",
              "        vertical-align: top;\n",
              "    }\n",
              "\n",
              "    .dataframe thead th {\n",
              "        text-align: right;\n",
              "    }\n",
              "</style>\n",
              "<table border=\"1\" class=\"dataframe\">\n",
              "  <thead>\n",
              "    <tr style=\"text-align: right;\">\n",
              "      <th></th>\n",
              "      <th>id</th>\n",
              "      <th>name</th>\n",
              "      <th>username</th>\n",
              "      <th>email</th>\n",
              "      <th>address</th>\n",
              "      <th>phone</th>\n",
              "      <th>website</th>\n",
              "      <th>company</th>\n",
              "    </tr>\n",
              "  </thead>\n",
              "  <tbody>\n",
              "  </tbody>\n",
              "</table>\n",
              "</div>"
            ],
            "text/plain": [
              "Empty DataFrame\n",
              "Columns: [id, name, username, email, address, phone, website, company]\n",
              "Index: []"
            ]
          },
          "execution_count": 62,
          "metadata": {},
          "output_type": "execute_result"
        }
      ],
      "source": [
        "uk_frame = df2[df2.email.str.endswith(\".uk\")]\n",
        "uk_frame"
      ]
    },
    {
      "cell_type": "code",
      "execution_count": 63,
      "metadata": {
        "colab": {
          "base_uri": "https://localhost:8080/",
          "height": 293
        },
        "id": "qSZ3kk1EWH8N",
        "outputId": "1dbad3c8-387e-412f-b3b2-93d54360d9d6"
      },
      "outputs": [
        {
          "ename": "AttributeError",
          "evalue": "ignored",
          "output_type": "error",
          "traceback": [
            "\u001b[0;31m---------------------------------------------------------------------------\u001b[0m",
            "\u001b[0;31mAttributeError\u001b[0m                            Traceback (most recent call last)",
            "\u001b[0;32m<ipython-input-63-c85f65f7d2d7>\u001b[0m in \u001b[0;36m<module>\u001b[0;34m()\u001b[0m\n\u001b[0;32m----> 1\u001b[0;31m \u001b[0muk_frame\u001b[0m\u001b[0;34m.\u001b[0m\u001b[0mage\u001b[0m\u001b[0;34m.\u001b[0m\u001b[0mdescribe\u001b[0m\u001b[0;34m(\u001b[0m\u001b[0;34m)\u001b[0m \u001b[0;31m# so we can get some statistics for pretty much free\u001b[0m\u001b[0;34m\u001b[0m\u001b[0;34m\u001b[0m\u001b[0m\n\u001b[0m",
            "\u001b[0;32m/usr/local/lib/python3.7/dist-packages/pandas/core/generic.py\u001b[0m in \u001b[0;36m__getattr__\u001b[0;34m(self, name)\u001b[0m\n\u001b[1;32m   5139\u001b[0m             \u001b[0;32mif\u001b[0m \u001b[0mself\u001b[0m\u001b[0;34m.\u001b[0m\u001b[0m_info_axis\u001b[0m\u001b[0;34m.\u001b[0m\u001b[0m_can_hold_identifiers_and_holds_name\u001b[0m\u001b[0;34m(\u001b[0m\u001b[0mname\u001b[0m\u001b[0;34m)\u001b[0m\u001b[0;34m:\u001b[0m\u001b[0;34m\u001b[0m\u001b[0;34m\u001b[0m\u001b[0m\n\u001b[1;32m   5140\u001b[0m                 \u001b[0;32mreturn\u001b[0m \u001b[0mself\u001b[0m\u001b[0;34m[\u001b[0m\u001b[0mname\u001b[0m\u001b[0;34m]\u001b[0m\u001b[0;34m\u001b[0m\u001b[0;34m\u001b[0m\u001b[0m\n\u001b[0;32m-> 5141\u001b[0;31m             \u001b[0;32mreturn\u001b[0m \u001b[0mobject\u001b[0m\u001b[0;34m.\u001b[0m\u001b[0m__getattribute__\u001b[0m\u001b[0;34m(\u001b[0m\u001b[0mself\u001b[0m\u001b[0;34m,\u001b[0m \u001b[0mname\u001b[0m\u001b[0;34m)\u001b[0m\u001b[0;34m\u001b[0m\u001b[0;34m\u001b[0m\u001b[0m\n\u001b[0m\u001b[1;32m   5142\u001b[0m \u001b[0;34m\u001b[0m\u001b[0m\n\u001b[1;32m   5143\u001b[0m     \u001b[0;32mdef\u001b[0m \u001b[0m__setattr__\u001b[0m\u001b[0;34m(\u001b[0m\u001b[0mself\u001b[0m\u001b[0;34m,\u001b[0m \u001b[0mname\u001b[0m\u001b[0;34m:\u001b[0m \u001b[0mstr\u001b[0m\u001b[0;34m,\u001b[0m \u001b[0mvalue\u001b[0m\u001b[0;34m)\u001b[0m \u001b[0;34m->\u001b[0m \u001b[0;32mNone\u001b[0m\u001b[0;34m:\u001b[0m\u001b[0;34m\u001b[0m\u001b[0;34m\u001b[0m\u001b[0m\n",
            "\u001b[0;31mAttributeError\u001b[0m: 'DataFrame' object has no attribute 'age'"
          ]
        }
      ],
      "source": [
        "uk_frame.age.describe() # so we can get some statistics for pretty much free"
      ]
    },
    {
      "cell_type": "code",
      "execution_count": null,
      "metadata": {
        "id": "6ijEJmfyWH8N"
      },
      "outputs": [],
      "source": [
        "age_sum = 0\n",
        "for person in uk_ages:\n",
        "    age_sum += person[1] # becauseuk ages are in format Name and age, so 2nd item is age with index 1\n",
        "print(\"Average age in UK is:\", age_sum/len(uk_ages))"
      ]
    },
    {
      "cell_type": "code",
      "execution_count": null,
      "metadata": {
        "id": "pfezgx5DWH8N"
      },
      "outputs": [],
      "source": [
        "jp_ages = [(person.get('first_name'),int(person.get('age'))) for person in japanese]\n",
        "jp_ages"
      ]
    },
    {
      "cell_type": "code",
      "execution_count": null,
      "metadata": {
        "id": "xIoIyr7HWH8N"
      },
      "outputs": [],
      "source": [
        "with open(\"uk_ages.json\", mode=\"w\") as fstream:\n",
        "    json.dump(uk_ages, fstream, indent=4)"
      ]
    },
    {
      "cell_type": "code",
      "execution_count": null,
      "metadata": {
        "id": "4gXfofAiWH8N"
      },
      "outputs": [],
      "source": [
        "# so we lose the tuple designed when writing to JSON and back\n",
        "with open(\"uk_ages.json\") as fstream:\n",
        "    uk_data = json.load(fstream)\n",
        "uk_data"
      ]
    },
    {
      "cell_type": "code",
      "execution_count": null,
      "metadata": {
        "id": "4uwYWLOzWH8N"
      },
      "outputs": [],
      "source": [
        "with open(\"jp_ages.json\", mode=\"w\") as fstream:\n",
        "    json.dump(jp_ages, fstream, indent=4)"
      ]
    },
    {
      "cell_type": "code",
      "execution_count": null,
      "metadata": {
        "id": "BLAWBFW4WH8O"
      },
      "outputs": [],
      "source": [
        "df2.head() "
      ]
    },
    {
      "cell_type": "code",
      "execution_count": null,
      "metadata": {
        "id": "PSZt13JuWH8O"
      },
      "outputs": [],
      "source": [
        "df2.describe(include=\"O\") # we can get some statistics on our strings and objects"
      ]
    },
    {
      "cell_type": "code",
      "execution_count": null,
      "metadata": {
        "id": "GjbuP6OpWH8O"
      },
      "outputs": [],
      "source": [
        "df2.describe() # for number analysis"
      ]
    },
    {
      "cell_type": "code",
      "execution_count": null,
      "metadata": {
        "id": "Xvo_agiWWH8O"
      },
      "outputs": [],
      "source": [
        "# so Hayward is the most common first name with 2, and 52 Males and 48 Females"
      ]
    },
    {
      "cell_type": "code",
      "execution_count": null,
      "metadata": {
        "id": "PthEchr6WH8O"
      },
      "outputs": [],
      "source": [
        "type(mydata)"
      ]
    },
    {
      "cell_type": "code",
      "execution_count": null,
      "metadata": {
        "id": "1958FO6qWH8O"
      },
      "outputs": [],
      "source": []
    },
    {
      "cell_type": "code",
      "execution_count": null,
      "metadata": {
        "id": "Z9ETededWH8O",
        "scrolled": true
      },
      "outputs": [],
      "source": [
        "type(json_string)"
      ]
    },
    {
      "cell_type": "code",
      "execution_count": null,
      "metadata": {
        "id": "V_lQnJ-IWH8O"
      },
      "outputs": [],
      "source": [
        "type(mydata)"
      ]
    },
    {
      "cell_type": "code",
      "execution_count": null,
      "metadata": {
        "id": "D1Q03ayMWH8O"
      },
      "outputs": [],
      "source": [
        "# Convert Json_string back to our Python Object\n",
        "my_obj = json.loads(json_string)\n",
        "my_obj"
      ]
    },
    {
      "cell_type": "code",
      "execution_count": null,
      "metadata": {
        "id": "sjzH-8mTWH8P"
      },
      "outputs": [],
      "source": [
        "my_obj.get('firstName')"
      ]
    },
    {
      "cell_type": "code",
      "execution_count": null,
      "metadata": {
        "id": "di_Bq04IWH8P"
      },
      "outputs": [],
      "source": [
        "mydata"
      ]
    },
    {
      "cell_type": "code",
      "execution_count": null,
      "metadata": {
        "id": "RWlpNdkRWH8P"
      },
      "outputs": [],
      "source": [
        "newlist = json.loads('[1,3,5,\"Valdis\"]')\n",
        "newlist"
      ]
    },
    {
      "cell_type": "code",
      "execution_count": null,
      "metadata": {
        "id": "vkTT54VOWH8P"
      },
      "outputs": [],
      "source": [
        "type(newlist)"
      ]
    },
    {
      "cell_type": "code",
      "execution_count": null,
      "metadata": {
        "id": "psAxIJjhWH8P"
      },
      "outputs": [],
      "source": [
        "badlist = json.loads('[1,3,5,\"Vald]\",334342]')\n",
        "badlist"
      ]
    },
    {
      "cell_type": "code",
      "execution_count": null,
      "metadata": {
        "id": "x8-HAWc3WH8P"
      },
      "outputs": [],
      "source": []
    },
    {
      "cell_type": "code",
      "execution_count": null,
      "metadata": {
        "id": "dzqINeS4WH8P"
      },
      "outputs": [],
      "source": [
        "type(json_string)"
      ]
    },
    {
      "cell_type": "code",
      "execution_count": null,
      "metadata": {
        "id": "64qKmDH8WH8P"
      },
      "outputs": [],
      "source": [
        "# Avove example JSON and Python object have the same syntax but there are some differences"
      ]
    },
    {
      "cell_type": "markdown",
      "metadata": {
        "id": "L-zd85CbWH8Q"
      },
      "source": [
        "![object](https://github.com/ValRCS/Digital_Discourse_ETH713_Fall_2020/blob/main/img/object.png?raw=1)"
      ]
    },
    {
      "cell_type": "markdown",
      "metadata": {
        "id": "VTHRiFc1WH8Q"
      },
      "source": [
        "![Array](https://github.com/ValRCS/Digital_Discourse_ETH713_Fall_2020/blob/main/img/array.png?raw=1)"
      ]
    },
    {
      "cell_type": "markdown",
      "metadata": {
        "id": "l0ZpV2R7WH8Q"
      },
      "source": [
        "![Value](https://github.com/ValRCS/Digital_Discourse_ETH713_Fall_2020/blob/main/img/value.png?raw=1)"
      ]
    },
    {
      "cell_type": "markdown",
      "metadata": {
        "id": "eIkqIanzWH8Q"
      },
      "source": [
        "Simple Python objects are translated to JSON according to a fairly intuitive conversion.\n",
        "\n",
        "Python\tJSON\n",
        "\n",
        "dict\tobject\n",
        "\n",
        "list, tuple\tarray\n",
        "\n",
        "str\tstring\n",
        "\n",
        "int, long, \n",
        "\n",
        "float\tnumber\n",
        "\n",
        "True\ttrue\n",
        "\n",
        "False\tfalse\n",
        "\n",
        "None\tnull"
      ]
    },
    {
      "cell_type": "code",
      "execution_count": 94,
      "metadata": {
        "id": "KgVxYuHrWH8Q"
      },
      "outputs": [
        {
          "data": {
            "text/plain": [
              "[True, 2, None, False, 555.333]"
            ]
          },
          "execution_count": 94,
          "metadata": {},
          "output_type": "execute_result"
        }
      ],
      "source": [
        "newlist = json.loads('[true,2,null, false, 555.333]')\n",
        "newlist"
      ]
    },
    {
      "cell_type": "code",
      "execution_count": 95,
      "metadata": {
        "id": "3I5-_s6tWH8Q"
      },
      "outputs": [
        {
          "data": {
            "text/plain": [
              "'{\"firstName\": \"Jane\", \"lastName\": \"Doe\", \"hobbies\": [\"running\", \"sky diving\", \"dancing\"], \"age\": 43, \"children\": [{\"firstName\": \"Alice\", \"age\": 7}, {\"firstName\": \"Bob\", \"age\": 13}]}'"
            ]
          },
          "execution_count": 95,
          "metadata": {},
          "output_type": "execute_result"
        }
      ],
      "source": [
        "# The first option most people want to change is whitespace. You can use the indent keyword argument to specify the indentation size for nested structures. Check out the difference for yourself by using data, which we defined above, and running the following commands in a console:\n",
        "\n",
        "json.dumps(mydata)\n"
      ]
    },
    {
      "cell_type": "code",
      "execution_count": null,
      "metadata": {
        "id": "ZZABW4b6WH8Q"
      },
      "outputs": [],
      "source": [
        "# very useful for visibility!\n",
        "print(json.dumps(mydata, indent=4))"
      ]
    },
    {
      "cell_type": "code",
      "execution_count": null,
      "metadata": {
        "id": "QviQDgymWH8Q"
      },
      "outputs": [],
      "source": [
        "with open(\"data_file.json\", \"w\") as write_file:\n",
        "    json.dump(mydata, write_file, indent=4)"
      ]
    },
    {
      "cell_type": "code",
      "execution_count": null,
      "metadata": {
        "id": "KzAmEVk3WH8Q"
      },
      "outputs": [],
      "source": [
        "# how to read json into our python data obj from file\n",
        "with open(\"data_file.json\", \"r\") as read_file:\n",
        "    data = json.load(read_file)\n",
        "data"
      ]
    },
    {
      "cell_type": "code",
      "execution_count": null,
      "metadata": {
        "id": "TIP7-_9nWH8R"
      },
      "outputs": [],
      "source": [
        "type(data)"
      ]
    },
    {
      "cell_type": "code",
      "execution_count": null,
      "metadata": {
        "id": "dtaw1xr4WH8R"
      },
      "outputs": [],
      "source": [
        "len(data)"
      ]
    },
    {
      "cell_type": "code",
      "execution_count": null,
      "metadata": {
        "id": "6qx2mKBPWH8R"
      },
      "outputs": [],
      "source": [
        "list(data.items())"
      ]
    },
    {
      "cell_type": "code",
      "execution_count": null,
      "metadata": {
        "id": "NFmKpVTvWH8R"
      },
      "outputs": [],
      "source": [
        "numberedlist = list(enumerate(data.items()))\n",
        "numberedlist"
      ]
    },
    {
      "cell_type": "code",
      "execution_count": null,
      "metadata": {
        "id": "lF__LcNAWH8R"
      },
      "outputs": [],
      "source": [
        "# save numberedlist with ident = 4 in file numberedlist.json\n",
        "with open('numberedlist.json', mode='w') as f:\n",
        "    json.dump(numberedlist, f, indent=4)\n"
      ]
    },
    {
      "cell_type": "markdown",
      "metadata": {
        "id": "BtrtMH6JWH8R"
      },
      "source": [
        "Keep in mind that the result of this method could return any of the allowed data types from the conversion table. This is only important if you’re loading in data you haven’t seen before. In most cases, the root object will be a dict or a list."
      ]
    },
    {
      "cell_type": "markdown",
      "metadata": {
        "id": "j4LmL2YGWH8R"
      },
      "source": [
        "If you've gotten JSON data in from another program or have otherwise obtained a string of JSON formatted data in Python, you can easily deserialize that with loads(), which naturally loads from a string:"
      ]
    },
    {
      "cell_type": "code",
      "execution_count": null,
      "metadata": {
        "id": "pWOLOhyGWH8R"
      },
      "outputs": [],
      "source": [
        "json_string = \"\"\"\n",
        "{\n",
        "    \"researcher\": {\n",
        "        \"name\": \"Ford Prefect\",\n",
        "        \"species\": \"Betelgeusian\",\n",
        "        \"relatives\": [\n",
        "            {\n",
        "                \"name\": \"Zaphod Beeblebrox\",\n",
        "                \"species\": \"Betelgeusian\"\n",
        "            }\n",
        "        ]\n",
        "    }\n",
        "}\n",
        "\"\"\"\n",
        "data = json.loads(json_string)\n",
        "data"
      ]
    },
    {
      "cell_type": "code",
      "execution_count": null,
      "metadata": {
        "id": "UKdE5Mz4WH8S"
      },
      "outputs": [],
      "source": [
        "# get value of relative's name\n",
        "data['researcher']"
      ]
    },
    {
      "cell_type": "code",
      "execution_count": null,
      "metadata": {
        "id": "o93ncXevWH8S"
      },
      "outputs": [],
      "source": [
        "# get value of relative's name\n",
        "data['researcher']['relatives']"
      ]
    },
    {
      "cell_type": "code",
      "execution_count": null,
      "metadata": {
        "id": "fM0cCv4OWH8S"
      },
      "outputs": [],
      "source": [
        "# get value of relative's name\n",
        "data['researcher']['relatives'][0]"
      ]
    },
    {
      "cell_type": "code",
      "execution_count": null,
      "metadata": {
        "id": "y1hN2XrxWH8S"
      },
      "outputs": [],
      "source": [
        "# get value of relative's name\n",
        "data['researcher']['relatives'][0]['name']"
      ]
    },
    {
      "cell_type": "code",
      "execution_count": null,
      "metadata": {
        "id": "g-1beUrsWH8S"
      },
      "outputs": [],
      "source": [
        "data['researcher']['relatives'][0]['name'].split()[0]"
      ]
    },
    {
      "cell_type": "code",
      "execution_count": null,
      "metadata": {
        "id": "hEYZ1ZSHWH8S"
      },
      "outputs": [],
      "source": [
        "data['researcher']['relatives'][0]['name'].split()[0][:4]"
      ]
    },
    {
      "cell_type": "code",
      "execution_count": null,
      "metadata": {
        "id": "BT7-5B5fWH8S"
      },
      "outputs": [],
      "source": [
        "type(data)"
      ]
    },
    {
      "cell_type": "code",
      "execution_count": null,
      "metadata": {
        "id": "OZ8GdDmcWH8T"
      },
      "outputs": [],
      "source": [
        "import json\n",
        "import requests"
      ]
    },
    {
      "cell_type": "code",
      "execution_count": null,
      "metadata": {
        "id": "8m0xl5V-WH8T"
      },
      "outputs": [],
      "source": [
        "## Lets get some data https://jsonplaceholder.typicode.com/"
      ]
    },
    {
      "cell_type": "code",
      "execution_count": null,
      "metadata": {
        "id": "Q8Vmgwz6WH8T"
      },
      "outputs": [],
      "source": [
        "response = requests.get(\"https://jsonplaceholder.typicode.com/todos\")\n",
        "if response.status_code != 200:\n",
        "    print(\"Bad Response: \", response.status_code)\n",
        "print(response.status_code)\n",
        "todos = json.loads(response.text)\n"
      ]
    },
    {
      "cell_type": "markdown",
      "metadata": {
        "id": "DnC302uXWH8T"
      },
      "source": [
        "can open https://jsonplaceholder.typicode.com/todos in regular browser too.."
      ]
    },
    {
      "cell_type": "code",
      "execution_count": null,
      "metadata": {
        "id": "YxE70PAFWH8T"
      },
      "outputs": [],
      "source": [
        "type(todos)"
      ]
    },
    {
      "cell_type": "code",
      "execution_count": null,
      "metadata": {
        "id": "faEztTB5WH8T"
      },
      "outputs": [],
      "source": [
        "len(todos)"
      ]
    },
    {
      "cell_type": "code",
      "execution_count": null,
      "metadata": {
        "id": "zonugQB8WH8T"
      },
      "outputs": [],
      "source": [
        "todos[:10]"
      ]
    },
    {
      "cell_type": "code",
      "execution_count": null,
      "metadata": {
        "id": "MBUH3nxpWH8T"
      },
      "outputs": [],
      "source": [
        "# completedworks = [el for el in todos if el['completed'] == True]\n",
        "completedworks = [el for el in todos if el.get('completed') == True]\n",
        "len(completedworks)"
      ]
    },
    {
      "cell_type": "code",
      "execution_count": null,
      "metadata": {
        "id": "lbFWqcN3WH8T"
      },
      "outputs": [],
      "source": [
        "completedworks[-10:]"
      ]
    },
    {
      "cell_type": "code",
      "execution_count": null,
      "metadata": {
        "id": "yeLvaBfNWH8U"
      },
      "outputs": [],
      "source": [
        "type(completedworks)"
      ]
    },
    {
      "cell_type": "code",
      "execution_count": null,
      "metadata": {
        "id": "tFZh6iiSWH8U"
      },
      "outputs": [],
      "source": [
        "users = {}\n",
        "for el in completedworks:\n",
        "    k = el['userId']\n",
        "    if k in users:\n",
        "        users[k] +=1\n",
        "    else:\n",
        "        users[k] = 1\n",
        "users"
      ]
    },
    {
      "cell_type": "code",
      "execution_count": null,
      "metadata": {
        "id": "ltR8WomIWH8U"
      },
      "outputs": [],
      "source": [
        "sorted(users.items(),key = lambda el: el[1], reverse=True)"
      ]
    },
    {
      "cell_type": "code",
      "execution_count": null,
      "metadata": {
        "id": "eHrzC45EWH8U"
      },
      "outputs": [],
      "source": [
        "from collections import Counter"
      ]
    },
    {
      "cell_type": "code",
      "execution_count": null,
      "metadata": {
        "id": "nAP6soJ7WH8U"
      },
      "outputs": [],
      "source": [
        "count = Counter([el['userId'] for el in completedworks])\n",
        "count.most_common()"
      ]
    },
    {
      "cell_type": "code",
      "execution_count": null,
      "metadata": {
        "id": "-FjjrA3qWH8U"
      },
      "outputs": [],
      "source": [
        "# lets do everything at once\n",
        "finishedcount = Counter([el.get('userId') for el in todos if el.get('completed') == True])\n",
        "finishedcount.most_common()"
      ]
    },
    {
      "cell_type": "code",
      "execution_count": null,
      "metadata": {
        "id": "0yRqAQv4WH8U"
      },
      "outputs": [],
      "source": [
        "import matplotlib.pyplot as plt"
      ]
    },
    {
      "cell_type": "code",
      "execution_count": null,
      "metadata": {
        "id": "doCXBdUfWH8V"
      },
      "outputs": [],
      "source": [
        "plt.bar(finishedcount.keys(), finishedcount.values())\n",
        "plt.show()"
      ]
    },
    {
      "cell_type": "code",
      "execution_count": null,
      "metadata": {
        "id": "pd67mSqpWH8V"
      },
      "outputs": [],
      "source": [
        "todos[-3:]"
      ]
    },
    {
      "cell_type": "code",
      "execution_count": null,
      "metadata": {
        "id": "xGRyELS7WH8V"
      },
      "outputs": [],
      "source": [
        "[1,2] + [3,4,6,6]"
      ]
    },
    {
      "cell_type": "code",
      "execution_count": null,
      "metadata": {
        "id": "HIIK0MnJWH8V"
      },
      "outputs": [],
      "source": [
        "todos += [{'completed':True},{'completed':True},{'completed':True},{'completed':True}]\n",
        "todos[-5:]"
      ]
    },
    {
      "cell_type": "code",
      "execution_count": null,
      "metadata": {
        "id": "9YKyEiDMWH8V"
      },
      "outputs": [],
      "source": [
        "# lets do everything at once\n",
        "finishedcount = Counter([el.get('userId') for el in todos if el.get('completed') == True])\n",
        "finishedcount.most_common()"
      ]
    },
    {
      "cell_type": "code",
      "execution_count": null,
      "metadata": {
        "id": "jYCovB-CWH8V"
      },
      "outputs": [],
      "source": [
        "myl = [('Valdis', 40), ('Alice',35), ('Bob', 23),('Carol',70)]"
      ]
    },
    {
      "cell_type": "code",
      "execution_count": null,
      "metadata": {
        "id": "Nyih_MzfWH8V"
      },
      "outputs": [],
      "source": [
        "# Lambda = anonymous function"
      ]
    },
    {
      "cell_type": "code",
      "execution_count": null,
      "metadata": {
        "id": "4pJFWPo9WH8V"
      },
      "outputs": [],
      "source": [
        "def myfun(el):\n",
        "    return el[1]\n",
        "# same as myfun = lambda el: el[1]"
      ]
    },
    {
      "cell_type": "code",
      "execution_count": null,
      "metadata": {
        "id": "ZeS-RcM4WH8W"
      },
      "outputs": [],
      "source": [
        "sorted(myl, key = lambda el: el[1], reverse=True)"
      ]
    },
    {
      "cell_type": "code",
      "execution_count": null,
      "metadata": {
        "id": "xR2W1EQVWH8W"
      },
      "outputs": [],
      "source": [
        "# Exercise find out top 3 users with most tasks completed!\n",
        "\n",
        "# TIPS\n",
        "# we need some sort of structure to store these user results before finding out top 3\n",
        "# at least two good data structure choices here :)\n",
        "# here the simplest might actually be the best if we consider userId values\n"
      ]
    },
    {
      "cell_type": "code",
      "execution_count": null,
      "metadata": {
        "id": "ft7YF4LrWH8W"
      },
      "outputs": [],
      "source": [
        "todos[0]"
      ]
    },
    {
      "cell_type": "code",
      "execution_count": null,
      "metadata": {
        "id": "Dd_3wkzSWH8W"
      },
      "outputs": [],
      "source": [
        "todos[0]['userId']"
      ]
    },
    {
      "cell_type": "code",
      "execution_count": null,
      "metadata": {
        "id": "UaLa3QlUWH8W"
      },
      "outputs": [],
      "source": [
        "todos[0]['completed']"
      ]
    },
    {
      "cell_type": "code",
      "execution_count": null,
      "metadata": {
        "id": "jrbNgreNWH8W"
      },
      "outputs": [],
      "source": [
        "# Here we create a new dictionary and and count the completed works by id\n",
        "newdict = {}\n",
        "for todo in todos:\n",
        "    if todo['completed'] == True:\n",
        "        if todo['userId'] in newdict:\n",
        "            newdict[todo['userId']] += 1\n",
        "        else:\n",
        "            newdict[todo['userId']] = 1"
      ]
    },
    {
      "cell_type": "code",
      "execution_count": null,
      "metadata": {
        "id": "emfMsjpuWH8W"
      },
      "outputs": [],
      "source": [
        "newdict"
      ]
    },
    {
      "cell_type": "code",
      "execution_count": null,
      "metadata": {
        "id": "ddPy3l_7WH8W"
      },
      "outputs": [],
      "source": [
        "sorted(newdict.items())"
      ]
    },
    {
      "cell_type": "code",
      "execution_count": null,
      "metadata": {
        "id": "Bmh1pUqoWH8X"
      },
      "outputs": [],
      "source": [
        "bestworkers = sorted(newdict.items(), key=lambda el: el[1], reverse=True)\n",
        "bestworkers[:3]"
      ]
    },
    {
      "cell_type": "code",
      "execution_count": null,
      "metadata": {
        "id": "05SGUrttWH8X"
      },
      "outputs": [],
      "source": [
        "users = [ el['userId'] for el in todos]\n",
        "len(users),users[:15]"
      ]
    },
    {
      "cell_type": "code",
      "execution_count": null,
      "metadata": {
        "id": "aL_Igi7_WH8X"
      },
      "outputs": [],
      "source": [
        "uniqusers = set(users)\n",
        "uniqusers"
      ]
    },
    {
      "cell_type": "code",
      "execution_count": null,
      "metadata": {
        "id": "zgkTUJotWH8X"
      },
      "outputs": [],
      "source": [
        "# dictionary comprehension but could live without one\n",
        "users = { el['userId'] : 0 for el in todos} "
      ]
    },
    {
      "cell_type": "code",
      "execution_count": null,
      "metadata": {
        "id": "5OAk9gI8WH8X"
      },
      "outputs": [],
      "source": [
        "users"
      ]
    },
    {
      "cell_type": "code",
      "execution_count": null,
      "metadata": {
        "id": "VbupiUi1WH8X"
      },
      "outputs": [],
      "source": [
        "users.keys()"
      ]
    },
    {
      "cell_type": "code",
      "execution_count": null,
      "metadata": {
        "id": "t2C-SNl1WH8X"
      },
      "outputs": [],
      "source": [
        "users.value"
      ]
    },
    {
      "cell_type": "code",
      "execution_count": null,
      "metadata": {
        "id": "bth7UJADWH8X"
      },
      "outputs": [],
      "source": [
        "#{'completed': True,\n",
        "# 'id': 8,\n",
        "#  'title': 'quo adipisci enim quam ut ab',\n",
        "#  'userId': 1}"
      ]
    },
    {
      "cell_type": "code",
      "execution_count": null,
      "metadata": {
        "id": "ITcwQoMRWH8X"
      },
      "outputs": [],
      "source": []
    },
    {
      "cell_type": "code",
      "execution_count": null,
      "metadata": {
        "id": "aIg3nbdpWH8X"
      },
      "outputs": [],
      "source": [
        "#idiomatic\n",
        "for el in todos:\n",
        "    users[el['userId']] += el['completed'] # Boolean False is 0 True is 1 obviously this might not be too readable"
      ]
    },
    {
      "cell_type": "code",
      "execution_count": null,
      "metadata": {
        "id": "kf39KryoWH8Y"
      },
      "outputs": [],
      "source": [
        "# same as above could be useful in more complicated cases\n",
        "for el in todos:\n",
        "    if el['completed'] == True:\n",
        "        users[el['userId']] += 1"
      ]
    },
    {
      "cell_type": "code",
      "execution_count": null,
      "metadata": {
        "id": "MsKztCZtWH8Y"
      },
      "outputs": [],
      "source": [
        "# there could be a one liner or a solution with from collections import Counter"
      ]
    },
    {
      "cell_type": "code",
      "execution_count": null,
      "metadata": {
        "id": "CdymA4UIWH8Y"
      },
      "outputs": [],
      "source": [
        "users.items()"
      ]
    },
    {
      "cell_type": "code",
      "execution_count": null,
      "metadata": {
        "id": "zisXXKl7WH8Y"
      },
      "outputs": [],
      "source": [
        "list(users.items())"
      ]
    },
    {
      "cell_type": "code",
      "execution_count": null,
      "metadata": {
        "id": "oTdol3PTWH8Y"
      },
      "outputs": [],
      "source": [
        "userlist=list(users.items())"
      ]
    },
    {
      "cell_type": "code",
      "execution_count": null,
      "metadata": {
        "id": "V53IRKf9WH8Y"
      },
      "outputs": [],
      "source": [
        "type(userlist[0])"
      ]
    },
    {
      "cell_type": "code",
      "execution_count": null,
      "metadata": {
        "id": "8D_BPSttWH8Y"
      },
      "outputs": [],
      "source": [
        "# we pass a key anonymous(lambda) function\n",
        "sorted(userlist, key=lambda el: el[1], reverse=True)[:3]"
      ]
    },
    {
      "cell_type": "code",
      "execution_count": null,
      "metadata": {
        "id": "2z03gQIWWH8Y"
      },
      "outputs": [],
      "source": [
        "# lets try a simple way"
      ]
    },
    {
      "cell_type": "code",
      "execution_count": null,
      "metadata": {
        "id": "xxbqAtaFWH8Y"
      },
      "outputs": [],
      "source": [
        "mylist=[0]\n",
        "mylist*=11"
      ]
    },
    {
      "cell_type": "code",
      "execution_count": null,
      "metadata": {
        "id": "fUVZVAgYWH8Y"
      },
      "outputs": [],
      "source": [
        "for el in todos:\n",
        "    if el['completed'] == True:\n",
        "        mylist[el['userId']] +=1"
      ]
    },
    {
      "cell_type": "code",
      "execution_count": null,
      "metadata": {
        "id": "0sZ9zgAvWH8Z"
      },
      "outputs": [],
      "source": [
        "mylist"
      ]
    },
    {
      "cell_type": "code",
      "execution_count": null,
      "metadata": {
        "id": "EdTiCx_-WH8Z"
      },
      "outputs": [],
      "source": [
        "mylist.index(max(mylist))"
      ]
    },
    {
      "cell_type": "code",
      "execution_count": null,
      "metadata": {
        "id": "kg_1_G_wWH8Z"
      },
      "outputs": [],
      "source": [
        "# kind of hard to get more values need to get tricky"
      ]
    },
    {
      "cell_type": "markdown",
      "metadata": {
        "id": "fad5Rx-RWH8Z"
      },
      "source": [
        "# How about Pandas and Json ?"
      ]
    },
    {
      "cell_type": "code",
      "execution_count": null,
      "metadata": {
        "id": "sjYBMIWcWH8Z"
      },
      "outputs": [],
      "source": [
        "import pandas as pd"
      ]
    },
    {
      "cell_type": "code",
      "execution_count": null,
      "metadata": {
        "id": "BPm4h93cWH8Z"
      },
      "outputs": [],
      "source": [
        "df = pd.read_json('https://jsonplaceholder.typicode.com/todos')"
      ]
    },
    {
      "cell_type": "code",
      "execution_count": null,
      "metadata": {
        "id": "EOzzkSQ2WH8Z",
        "outputId": "02835881-c31a-4bdb-ddaf-f49b39b0a87e"
      },
      "outputs": [
        {
          "data": {
            "text/html": [
              "<div>\n",
              "<style scoped>\n",
              "    .dataframe tbody tr th:only-of-type {\n",
              "        vertical-align: middle;\n",
              "    }\n",
              "\n",
              "    .dataframe tbody tr th {\n",
              "        vertical-align: top;\n",
              "    }\n",
              "\n",
              "    .dataframe thead th {\n",
              "        text-align: right;\n",
              "    }\n",
              "</style>\n",
              "<table border=\"1\" class=\"dataframe\">\n",
              "  <thead>\n",
              "    <tr style=\"text-align: right;\">\n",
              "      <th></th>\n",
              "      <th>userId</th>\n",
              "      <th>id</th>\n",
              "      <th>title</th>\n",
              "      <th>completed</th>\n",
              "    </tr>\n",
              "  </thead>\n",
              "  <tbody>\n",
              "    <tr>\n",
              "      <th>0</th>\n",
              "      <td>1</td>\n",
              "      <td>1</td>\n",
              "      <td>delectus aut autem</td>\n",
              "      <td>False</td>\n",
              "    </tr>\n",
              "    <tr>\n",
              "      <th>1</th>\n",
              "      <td>1</td>\n",
              "      <td>2</td>\n",
              "      <td>quis ut nam facilis et officia qui</td>\n",
              "      <td>False</td>\n",
              "    </tr>\n",
              "    <tr>\n",
              "      <th>2</th>\n",
              "      <td>1</td>\n",
              "      <td>3</td>\n",
              "      <td>fugiat veniam minus</td>\n",
              "      <td>False</td>\n",
              "    </tr>\n",
              "    <tr>\n",
              "      <th>3</th>\n",
              "      <td>1</td>\n",
              "      <td>4</td>\n",
              "      <td>et porro tempora</td>\n",
              "      <td>True</td>\n",
              "    </tr>\n",
              "    <tr>\n",
              "      <th>4</th>\n",
              "      <td>1</td>\n",
              "      <td>5</td>\n",
              "      <td>laboriosam mollitia et enim quasi adipisci qui...</td>\n",
              "      <td>False</td>\n",
              "    </tr>\n",
              "  </tbody>\n",
              "</table>\n",
              "</div>"
            ],
            "text/plain": [
              "   userId  id                                              title  completed\n",
              "0       1   1                                 delectus aut autem      False\n",
              "1       1   2                 quis ut nam facilis et officia qui      False\n",
              "2       1   3                                fugiat veniam minus      False\n",
              "3       1   4                                   et porro tempora       True\n",
              "4       1   5  laboriosam mollitia et enim quasi adipisci qui...      False"
            ]
          },
          "execution_count": 57,
          "metadata": {},
          "output_type": "execute_result"
        }
      ],
      "source": [
        "df.head()"
      ]
    },
    {
      "cell_type": "code",
      "execution_count": null,
      "metadata": {
        "id": "AaSv3vGfWH8Z"
      },
      "outputs": [],
      "source": [
        "df.to_csv('my_todos.csv')"
      ]
    },
    {
      "cell_type": "code",
      "execution_count": null,
      "metadata": {
        "id": "eHpudNyBWH8a",
        "outputId": "73980ce9-b5f0-439b-b8db-b5ecb7c08b0c"
      },
      "outputs": [
        {
          "data": {
            "text/plain": [
              "(200, 4)"
            ]
          },
          "execution_count": 59,
          "metadata": {},
          "output_type": "execute_result"
        }
      ],
      "source": [
        "df.shape"
      ]
    },
    {
      "cell_type": "code",
      "execution_count": null,
      "metadata": {
        "id": "VzgGtysDWH8a",
        "outputId": "4a729815-031f-443d-c96a-b935a4f10de5"
      },
      "outputs": [
        {
          "data": {
            "text/html": [
              "<div>\n",
              "<style scoped>\n",
              "    .dataframe tbody tr th:only-of-type {\n",
              "        vertical-align: middle;\n",
              "    }\n",
              "\n",
              "    .dataframe tbody tr th {\n",
              "        vertical-align: top;\n",
              "    }\n",
              "\n",
              "    .dataframe thead th {\n",
              "        text-align: right;\n",
              "    }\n",
              "</style>\n",
              "<table border=\"1\" class=\"dataframe\">\n",
              "  <thead>\n",
              "    <tr style=\"text-align: right;\">\n",
              "      <th></th>\n",
              "      <th>userId</th>\n",
              "      <th>id</th>\n",
              "    </tr>\n",
              "  </thead>\n",
              "  <tbody>\n",
              "    <tr>\n",
              "      <th>count</th>\n",
              "      <td>200.000000</td>\n",
              "      <td>200.000000</td>\n",
              "    </tr>\n",
              "    <tr>\n",
              "      <th>mean</th>\n",
              "      <td>5.500000</td>\n",
              "      <td>100.500000</td>\n",
              "    </tr>\n",
              "    <tr>\n",
              "      <th>std</th>\n",
              "      <td>2.879489</td>\n",
              "      <td>57.879185</td>\n",
              "    </tr>\n",
              "    <tr>\n",
              "      <th>min</th>\n",
              "      <td>1.000000</td>\n",
              "      <td>1.000000</td>\n",
              "    </tr>\n",
              "    <tr>\n",
              "      <th>25%</th>\n",
              "      <td>3.000000</td>\n",
              "      <td>50.750000</td>\n",
              "    </tr>\n",
              "    <tr>\n",
              "      <th>50%</th>\n",
              "      <td>5.500000</td>\n",
              "      <td>100.500000</td>\n",
              "    </tr>\n",
              "    <tr>\n",
              "      <th>75%</th>\n",
              "      <td>8.000000</td>\n",
              "      <td>150.250000</td>\n",
              "    </tr>\n",
              "    <tr>\n",
              "      <th>max</th>\n",
              "      <td>10.000000</td>\n",
              "      <td>200.000000</td>\n",
              "    </tr>\n",
              "  </tbody>\n",
              "</table>\n",
              "</div>"
            ],
            "text/plain": [
              "           userId          id\n",
              "count  200.000000  200.000000\n",
              "mean     5.500000  100.500000\n",
              "std      2.879489   57.879185\n",
              "min      1.000000    1.000000\n",
              "25%      3.000000   50.750000\n",
              "50%      5.500000  100.500000\n",
              "75%      8.000000  150.250000\n",
              "max     10.000000  200.000000"
            ]
          },
          "execution_count": 60,
          "metadata": {},
          "output_type": "execute_result"
        }
      ],
      "source": [
        "df.describe()"
      ]
    },
    {
      "cell_type": "code",
      "execution_count": null,
      "metadata": {
        "id": "8Qj8lKk3WH8a",
        "outputId": "8cef5d95-7064-4eea-d0e0-3d64c494d288"
      },
      "outputs": [
        {
          "data": {
            "text/html": [
              "<div>\n",
              "<style scoped>\n",
              "    .dataframe tbody tr th:only-of-type {\n",
              "        vertical-align: middle;\n",
              "    }\n",
              "\n",
              "    .dataframe tbody tr th {\n",
              "        vertical-align: top;\n",
              "    }\n",
              "\n",
              "    .dataframe thead th {\n",
              "        text-align: right;\n",
              "    }\n",
              "</style>\n",
              "<table border=\"1\" class=\"dataframe\">\n",
              "  <thead>\n",
              "    <tr style=\"text-align: right;\">\n",
              "      <th></th>\n",
              "      <th>title</th>\n",
              "    </tr>\n",
              "  </thead>\n",
              "  <tbody>\n",
              "    <tr>\n",
              "      <th>count</th>\n",
              "      <td>200</td>\n",
              "    </tr>\n",
              "    <tr>\n",
              "      <th>unique</th>\n",
              "      <td>200</td>\n",
              "    </tr>\n",
              "    <tr>\n",
              "      <th>top</th>\n",
              "      <td>occaecati adipisci est possimus totam</td>\n",
              "    </tr>\n",
              "    <tr>\n",
              "      <th>freq</th>\n",
              "      <td>1</td>\n",
              "    </tr>\n",
              "  </tbody>\n",
              "</table>\n",
              "</div>"
            ],
            "text/plain": [
              "                                        title\n",
              "count                                     200\n",
              "unique                                    200\n",
              "top     occaecati adipisci est possimus totam\n",
              "freq                                        1"
            ]
          },
          "execution_count": 61,
          "metadata": {},
          "output_type": "execute_result"
        }
      ],
      "source": [
        "df.describe(include=['O'])"
      ]
    },
    {
      "cell_type": "code",
      "execution_count": null,
      "metadata": {
        "id": "GafE-yT2WH8a",
        "outputId": "4b62c4ca-829e-4802-82a6-c4c15afe844b"
      },
      "outputs": [
        {
          "data": {
            "text/html": [
              "<div>\n",
              "<style scoped>\n",
              "    .dataframe tbody tr th:only-of-type {\n",
              "        vertical-align: middle;\n",
              "    }\n",
              "\n",
              "    .dataframe tbody tr th {\n",
              "        vertical-align: top;\n",
              "    }\n",
              "\n",
              "    .dataframe thead th {\n",
              "        text-align: right;\n",
              "    }\n",
              "</style>\n",
              "<table border=\"1\" class=\"dataframe\">\n",
              "  <thead>\n",
              "    <tr style=\"text-align: right;\">\n",
              "      <th></th>\n",
              "      <th>id</th>\n",
              "      <th>completed</th>\n",
              "    </tr>\n",
              "    <tr>\n",
              "      <th>userId</th>\n",
              "      <th></th>\n",
              "      <th></th>\n",
              "    </tr>\n",
              "  </thead>\n",
              "  <tbody>\n",
              "    <tr>\n",
              "      <th>1</th>\n",
              "      <td>210</td>\n",
              "      <td>11.0</td>\n",
              "    </tr>\n",
              "    <tr>\n",
              "      <th>2</th>\n",
              "      <td>610</td>\n",
              "      <td>8.0</td>\n",
              "    </tr>\n",
              "    <tr>\n",
              "      <th>3</th>\n",
              "      <td>1010</td>\n",
              "      <td>7.0</td>\n",
              "    </tr>\n",
              "    <tr>\n",
              "      <th>4</th>\n",
              "      <td>1410</td>\n",
              "      <td>6.0</td>\n",
              "    </tr>\n",
              "    <tr>\n",
              "      <th>5</th>\n",
              "      <td>1810</td>\n",
              "      <td>12.0</td>\n",
              "    </tr>\n",
              "    <tr>\n",
              "      <th>6</th>\n",
              "      <td>2210</td>\n",
              "      <td>6.0</td>\n",
              "    </tr>\n",
              "    <tr>\n",
              "      <th>7</th>\n",
              "      <td>2610</td>\n",
              "      <td>9.0</td>\n",
              "    </tr>\n",
              "    <tr>\n",
              "      <th>8</th>\n",
              "      <td>3010</td>\n",
              "      <td>11.0</td>\n",
              "    </tr>\n",
              "    <tr>\n",
              "      <th>9</th>\n",
              "      <td>3410</td>\n",
              "      <td>8.0</td>\n",
              "    </tr>\n",
              "    <tr>\n",
              "      <th>10</th>\n",
              "      <td>3810</td>\n",
              "      <td>12.0</td>\n",
              "    </tr>\n",
              "  </tbody>\n",
              "</table>\n",
              "</div>"
            ],
            "text/plain": [
              "          id  completed\n",
              "userId                 \n",
              "1        210       11.0\n",
              "2        610        8.0\n",
              "3       1010        7.0\n",
              "4       1410        6.0\n",
              "5       1810       12.0\n",
              "6       2210        6.0\n",
              "7       2610        9.0\n",
              "8       3010       11.0\n",
              "9       3410        8.0\n",
              "10      3810       12.0"
            ]
          },
          "execution_count": 62,
          "metadata": {},
          "output_type": "execute_result"
        }
      ],
      "source": [
        "# we see that completed\n",
        "df.groupby(['userId']).sum()"
      ]
    },
    {
      "cell_type": "code",
      "execution_count": null,
      "metadata": {
        "id": "8dWI3CAeWH8a",
        "outputId": "4eb62b9a-f19d-45f9-e006-0faa3c0b74f6"
      },
      "outputs": [
        {
          "data": {
            "text/plain": [
              "<matplotlib.axes._subplots.AxesSubplot at 0x16b6dd6a0d0>"
            ]
          },
          "execution_count": 63,
          "metadata": {},
          "output_type": "execute_result"
        },
        {
          "data": {
            "image/png": "[encoded data removed]",
            "text/plain": [
              "<Figure size 432x288 with 1 Axes>"
            ]
          },
          "metadata": {
            "needs_background": "light"
          },
          "output_type": "display_data"
        }
      ],
      "source": [
        "df.groupby(['userId']).sum()['completed'].plot(kind=\"bar\")"
      ]
    },
    {
      "cell_type": "code",
      "execution_count": null,
      "metadata": {
        "id": "syVJxNJPWH8a",
        "outputId": "5fb6d203-cec7-48d2-f96f-19dcc8d214c3"
      },
      "outputs": [
        {
          "data": {
            "text/plain": [
              "'{\"10\":12.0,\"5\":12.0,\"8\":11.0,\"1\":11.0,\"7\":9.0,\"9\":8.0,\"2\":8.0,\"3\":7.0,\"6\":6.0,\"4\":6.0}'"
            ]
          },
          "execution_count": 52,
          "metadata": {},
          "output_type": "execute_result"
        }
      ],
      "source": [
        "busyjson"
      ]
    },
    {
      "cell_type": "code",
      "execution_count": null,
      "metadata": {
        "id": "pF5BvBA4WH8a",
        "outputId": "33b2a74b-5582-4658-fa66-848be1741a83"
      },
      "outputs": [
        {
          "data": {
            "text/plain": [
              "userId\n",
              "1     11.0\n",
              "2      8.0\n",
              "3      7.0\n",
              "4      6.0\n",
              "5     12.0\n",
              "6      6.0\n",
              "7      9.0\n",
              "8     11.0\n",
              "9      8.0\n",
              "10    12.0\n",
              "Name: completed, dtype: float64"
            ]
          },
          "execution_count": 48,
          "metadata": {},
          "output_type": "execute_result"
        }
      ],
      "source": [
        "df.groupby(['userId'])['completed'].sum()"
      ]
    },
    {
      "cell_type": "code",
      "execution_count": null,
      "metadata": {
        "id": "n2HBmLqhWH8b",
        "outputId": "d6379cec-80a7-4770-b4ed-7ea25791bd3a"
      },
      "outputs": [
        {
          "data": {
            "text/html": [
              "<div>\n",
              "<style scoped>\n",
              "    .dataframe tbody tr th:only-of-type {\n",
              "        vertical-align: middle;\n",
              "    }\n",
              "\n",
              "    .dataframe tbody tr th {\n",
              "        vertical-align: top;\n",
              "    }\n",
              "\n",
              "    .dataframe thead th {\n",
              "        text-align: right;\n",
              "    }\n",
              "</style>\n",
              "<table border=\"1\" class=\"dataframe\">\n",
              "  <thead>\n",
              "    <tr style=\"text-align: right;\">\n",
              "      <th></th>\n",
              "      <th>completed</th>\n",
              "    </tr>\n",
              "    <tr>\n",
              "      <th>userId</th>\n",
              "      <th></th>\n",
              "    </tr>\n",
              "  </thead>\n",
              "  <tbody>\n",
              "    <tr>\n",
              "      <th>1</th>\n",
              "      <td>11.0</td>\n",
              "    </tr>\n",
              "    <tr>\n",
              "      <th>2</th>\n",
              "      <td>8.0</td>\n",
              "    </tr>\n",
              "    <tr>\n",
              "      <th>3</th>\n",
              "      <td>7.0</td>\n",
              "    </tr>\n",
              "    <tr>\n",
              "      <th>4</th>\n",
              "      <td>6.0</td>\n",
              "    </tr>\n",
              "    <tr>\n",
              "      <th>5</th>\n",
              "      <td>12.0</td>\n",
              "    </tr>\n",
              "    <tr>\n",
              "      <th>6</th>\n",
              "      <td>6.0</td>\n",
              "    </tr>\n",
              "    <tr>\n",
              "      <th>7</th>\n",
              "      <td>9.0</td>\n",
              "    </tr>\n",
              "    <tr>\n",
              "      <th>8</th>\n",
              "      <td>11.0</td>\n",
              "    </tr>\n",
              "    <tr>\n",
              "      <th>9</th>\n",
              "      <td>8.0</td>\n",
              "    </tr>\n",
              "    <tr>\n",
              "      <th>10</th>\n",
              "      <td>12.0</td>\n",
              "    </tr>\n",
              "  </tbody>\n",
              "</table>\n",
              "</div>"
            ],
            "text/plain": [
              "        completed\n",
              "userId           \n",
              "1            11.0\n",
              "2             8.0\n",
              "3             7.0\n",
              "4             6.0\n",
              "5            12.0\n",
              "6             6.0\n",
              "7             9.0\n",
              "8            11.0\n",
              "9             8.0\n",
              "10           12.0"
            ]
          },
          "execution_count": 98,
          "metadata": {},
          "output_type": "execute_result"
        }
      ],
      "source": [
        "# if we need a single column dataframe\n",
        "df.groupby(['userId'])[['completed']].sum()"
      ]
    },
    {
      "cell_type": "code",
      "execution_count": null,
      "metadata": {
        "id": "sgw98FWTWH8b",
        "outputId": "ed435251-aabf-42bc-b749-b6fdf21e65e3"
      },
      "outputs": [
        {
          "data": {
            "text/plain": [
              "userId\n",
              "4      6.0\n",
              "6      6.0\n",
              "3      7.0\n",
              "2      8.0\n",
              "9      8.0\n",
              "7      9.0\n",
              "1     11.0\n",
              "8     11.0\n",
              "5     12.0\n",
              "10    12.0\n",
              "Name: completed, dtype: float64"
            ]
          },
          "execution_count": 49,
          "metadata": {},
          "output_type": "execute_result"
        }
      ],
      "source": [
        "df.groupby(['userId'])['completed'].sum().sort_values()"
      ]
    },
    {
      "cell_type": "code",
      "execution_count": null,
      "metadata": {
        "id": "zprgNjwqWH8b",
        "outputId": "7adaca29-3eed-430c-c8d2-05332e0ec9dd"
      },
      "outputs": [
        {
          "data": {
            "text/plain": [
              "userId\n",
              "10    12.0\n",
              "5     12.0\n",
              "8     11.0\n",
              "1     11.0\n",
              "7      9.0\n",
              "9      8.0\n",
              "2      8.0\n",
              "3      7.0\n",
              "6      6.0\n",
              "4      6.0\n",
              "Name: completed, dtype: float64"
            ]
          },
          "execution_count": 50,
          "metadata": {},
          "output_type": "execute_result"
        }
      ],
      "source": [
        "df.groupby(['userId'])['completed'].sum().sort_values(ascending=False)"
      ]
    },
    {
      "cell_type": "code",
      "execution_count": null,
      "metadata": {
        "id": "fnKBHqrqWH8b"
      },
      "outputs": [],
      "source": [
        "busyjson = pd.read_json('https://jsonplaceholder.typicode.com/todos').groupby(['userId'])['completed'].sum().sort_values(ascending=False).to_json()"
      ]
    },
    {
      "cell_type": "code",
      "execution_count": null,
      "metadata": {
        "id": "GiwBcn5DWH8b"
      },
      "outputs": [],
      "source": [
        "def prettyJSON(myjson):\n",
        "    return json.dumps(json.loads(myjson), indent=4)"
      ]
    },
    {
      "cell_type": "code",
      "execution_count": null,
      "metadata": {
        "id": "mP9RAUPZWH8b",
        "outputId": "1ce429be-99d2-4ccc-818e-62f0f2e4c8f4"
      },
      "outputs": [
        {
          "data": {
            "text/plain": [
              "str"
            ]
          },
          "execution_count": 110,
          "metadata": {},
          "output_type": "execute_result"
        }
      ],
      "source": [
        "type(busyjson)"
      ]
    },
    {
      "cell_type": "code",
      "execution_count": null,
      "metadata": {
        "id": "a0WUodfCWH8b"
      },
      "outputs": [],
      "source": [
        "prettybusy = prettyJSON(busyjson)"
      ]
    },
    {
      "cell_type": "code",
      "execution_count": null,
      "metadata": {
        "id": "qZhsuRELWH8b"
      },
      "outputs": [],
      "source": [
        "with open('prettybusy.json', mode='w') as f:\n",
        "    f.write(prettybusy)"
      ]
    },
    {
      "cell_type": "markdown",
      "metadata": {
        "id": "hWNfcTfTWH8b"
      },
      "source": [
        "# Exercise Find Public JSON API get data and convert it into Pandas DataFrame\n",
        "\n",
        "## Many possible sources\n",
        "\n",
        "https://github.com/toddmotto/public-apis\n",
        "    \n",
        "### You want the ones without authorization and WITH CORS unless you are feeling adventurous and want to try with auth\n",
        "\n"
      ]
    },
    {
      "cell_type": "code",
      "execution_count": 96,
      "metadata": {
        "id": "MsIKva_WWH8c",
        "outputId": "79c4d66d-1dad-43e6-d8d0-3ed0830bb376"
      },
      "outputs": [
        {
          "ename": "HTTPError",
          "evalue": "HTTP Error 503: Service Unavailable",
          "output_type": "error",
          "traceback": [
            "\u001b[1;31m---------------------------------------------------------------------------\u001b[0m",
            "\u001b[1;31mHTTPError\u001b[0m                                 Traceback (most recent call last)",
            "\u001b[1;32mc:\\Users\\val-wd\\Github\\Digital_Discourse_ETH713_Fall_2020\\JSON_APIs\\Using_JSON_APIs.ipynb Cell 248\u001b[0m in \u001b[0;36m<cell line: 1>\u001b[1;34m()\u001b[0m\n\u001b[1;32m----> <a href='vscode-notebook-cell:/c%3A/Users/val-wd/Github/Digital_Discourse_ETH713_Fall_2020/JSON_APIs/Using_JSON_APIs.ipynb#Y432sZmlsZQ%3D%3D?line=0'>1</a>\u001b[0m df \u001b[39m=\u001b[39m pd\u001b[39m.\u001b[39;49mread_json(\u001b[39m'\u001b[39;49m\u001b[39mhttps://cat-fact.herokuapp.com/facts/random?animal_type=cat&amount=50\u001b[39;49m\u001b[39m'\u001b[39;49m)\n\u001b[0;32m      <a href='vscode-notebook-cell:/c%3A/Users/val-wd/Github/Digital_Discourse_ETH713_Fall_2020/JSON_APIs/Using_JSON_APIs.ipynb#Y432sZmlsZQ%3D%3D?line=1'>2</a>\u001b[0m df\u001b[39m.\u001b[39mhead()\n",
            "File \u001b[1;32m~\\AppData\\Roaming\\Python\\Python39\\site-packages\\pandas\\util\\_decorators.py:199\u001b[0m, in \u001b[0;36mdeprecate_kwarg.<locals>._deprecate_kwarg.<locals>.wrapper\u001b[1;34m(*args, **kwargs)\u001b[0m\n\u001b[0;32m    197\u001b[0m     \u001b[39melse\u001b[39;00m:\n\u001b[0;32m    198\u001b[0m         kwargs[new_arg_name] \u001b[39m=\u001b[39m new_arg_value\n\u001b[1;32m--> 199\u001b[0m \u001b[39mreturn\u001b[39;00m func(\u001b[39m*\u001b[39margs, \u001b[39m*\u001b[39m\u001b[39m*\u001b[39mkwargs)\n",
            "File \u001b[1;32m~\\AppData\\Roaming\\Python\\Python39\\site-packages\\pandas\\util\\_decorators.py:299\u001b[0m, in \u001b[0;36mdeprecate_nonkeyword_arguments.<locals>.decorate.<locals>.wrapper\u001b[1;34m(*args, **kwargs)\u001b[0m\n\u001b[0;32m    294\u001b[0m     msg \u001b[39m=\u001b[39m (\n\u001b[0;32m    295\u001b[0m         \u001b[39mf\u001b[39m\u001b[39m\"\u001b[39m\u001b[39mStarting with Pandas version \u001b[39m\u001b[39m{\u001b[39;00mversion\u001b[39m}\u001b[39;00m\u001b[39m all arguments of \u001b[39m\u001b[39m\"\u001b[39m\n\u001b[0;32m    296\u001b[0m         \u001b[39mf\u001b[39m\u001b[39m\"\u001b[39m\u001b[39m{\u001b[39;00mfunc\u001b[39m.\u001b[39m\u001b[39m__name__\u001b[39m\u001b[39m}\u001b[39;00m\u001b[39m{\u001b[39;00marguments\u001b[39m}\u001b[39;00m\u001b[39m will be keyword-only\u001b[39m\u001b[39m\"\u001b[39m\n\u001b[0;32m    297\u001b[0m     )\n\u001b[0;32m    298\u001b[0m     warnings\u001b[39m.\u001b[39mwarn(msg, \u001b[39mFutureWarning\u001b[39;00m, stacklevel\u001b[39m=\u001b[39mstacklevel)\n\u001b[1;32m--> 299\u001b[0m \u001b[39mreturn\u001b[39;00m func(\u001b[39m*\u001b[39margs, \u001b[39m*\u001b[39m\u001b[39m*\u001b[39mkwargs)\n",
            "File \u001b[1;32m~\\AppData\\Roaming\\Python\\Python39\\site-packages\\pandas\\io\\json\\_json.py:540\u001b[0m, in \u001b[0;36mread_json\u001b[1;34m(path_or_buf, orient, typ, dtype, convert_axes, convert_dates, keep_default_dates, numpy, precise_float, date_unit, encoding, lines, chunksize, compression, nrows, storage_options)\u001b[0m\n\u001b[0;32m    537\u001b[0m \u001b[39mif\u001b[39;00m convert_axes \u001b[39mis\u001b[39;00m \u001b[39mNone\u001b[39;00m \u001b[39mand\u001b[39;00m orient \u001b[39m!=\u001b[39m \u001b[39m\"\u001b[39m\u001b[39mtable\u001b[39m\u001b[39m\"\u001b[39m:\n\u001b[0;32m    538\u001b[0m     convert_axes \u001b[39m=\u001b[39m \u001b[39mTrue\u001b[39;00m\n\u001b[1;32m--> 540\u001b[0m json_reader \u001b[39m=\u001b[39m JsonReader(\n\u001b[0;32m    541\u001b[0m     path_or_buf,\n\u001b[0;32m    542\u001b[0m     orient\u001b[39m=\u001b[39;49morient,\n\u001b[0;32m    543\u001b[0m     typ\u001b[39m=\u001b[39;49mtyp,\n\u001b[0;32m    544\u001b[0m     dtype\u001b[39m=\u001b[39;49mdtype,\n\u001b[0;32m    545\u001b[0m     convert_axes\u001b[39m=\u001b[39;49mconvert_axes,\n\u001b[0;32m    546\u001b[0m     convert_dates\u001b[39m=\u001b[39;49mconvert_dates,\n\u001b[0;32m    547\u001b[0m     keep_default_dates\u001b[39m=\u001b[39;49mkeep_default_dates,\n\u001b[0;32m    548\u001b[0m     numpy\u001b[39m=\u001b[39;49mnumpy,\n\u001b[0;32m    549\u001b[0m     precise_float\u001b[39m=\u001b[39;49mprecise_float,\n\u001b[0;32m    550\u001b[0m     date_unit\u001b[39m=\u001b[39;49mdate_unit,\n\u001b[0;32m    551\u001b[0m     encoding\u001b[39m=\u001b[39;49mencoding,\n\u001b[0;32m    552\u001b[0m     lines\u001b[39m=\u001b[39;49mlines,\n\u001b[0;32m    553\u001b[0m     chunksize\u001b[39m=\u001b[39;49mchunksize,\n\u001b[0;32m    554\u001b[0m     compression\u001b[39m=\u001b[39;49mcompression,\n\u001b[0;32m    555\u001b[0m     nrows\u001b[39m=\u001b[39;49mnrows,\n\u001b[0;32m    556\u001b[0m     storage_options\u001b[39m=\u001b[39;49mstorage_options,\n\u001b[0;32m    557\u001b[0m )\n\u001b[0;32m    559\u001b[0m \u001b[39mif\u001b[39;00m chunksize:\n\u001b[0;32m    560\u001b[0m     \u001b[39mreturn\u001b[39;00m json_reader\n",
            "File \u001b[1;32m~\\AppData\\Roaming\\Python\\Python39\\site-packages\\pandas\\io\\json\\_json.py:622\u001b[0m, in \u001b[0;36mJsonReader.__init__\u001b[1;34m(self, filepath_or_buffer, orient, typ, dtype, convert_axes, convert_dates, keep_default_dates, numpy, precise_float, date_unit, encoding, lines, chunksize, compression, nrows, storage_options)\u001b[0m\n\u001b[0;32m    619\u001b[0m     \u001b[39mif\u001b[39;00m \u001b[39mnot\u001b[39;00m \u001b[39mself\u001b[39m\u001b[39m.\u001b[39mlines:\n\u001b[0;32m    620\u001b[0m         \u001b[39mraise\u001b[39;00m \u001b[39mValueError\u001b[39;00m(\u001b[39m\"\u001b[39m\u001b[39mnrows can only be passed if lines=True\u001b[39m\u001b[39m\"\u001b[39m)\n\u001b[1;32m--> 622\u001b[0m data \u001b[39m=\u001b[39m \u001b[39mself\u001b[39;49m\u001b[39m.\u001b[39;49m_get_data_from_filepath(filepath_or_buffer)\n\u001b[0;32m    623\u001b[0m \u001b[39mself\u001b[39m\u001b[39m.\u001b[39mdata \u001b[39m=\u001b[39m \u001b[39mself\u001b[39m\u001b[39m.\u001b[39m_preprocess_data(data)\n",
            "File \u001b[1;32m~\\AppData\\Roaming\\Python\\Python39\\site-packages\\pandas\\io\\json\\_json.py:659\u001b[0m, in \u001b[0;36mJsonReader._get_data_from_filepath\u001b[1;34m(self, filepath_or_buffer)\u001b[0m\n\u001b[0;32m    652\u001b[0m filepath_or_buffer \u001b[39m=\u001b[39m stringify_path(filepath_or_buffer)\n\u001b[0;32m    653\u001b[0m \u001b[39mif\u001b[39;00m (\n\u001b[0;32m    654\u001b[0m     \u001b[39mnot\u001b[39;00m \u001b[39misinstance\u001b[39m(filepath_or_buffer, \u001b[39mstr\u001b[39m)\n\u001b[0;32m    655\u001b[0m     \u001b[39mor\u001b[39;00m is_url(filepath_or_buffer)\n\u001b[0;32m    656\u001b[0m     \u001b[39mor\u001b[39;00m is_fsspec_url(filepath_or_buffer)\n\u001b[0;32m    657\u001b[0m     \u001b[39mor\u001b[39;00m file_exists(filepath_or_buffer)\n\u001b[0;32m    658\u001b[0m ):\n\u001b[1;32m--> 659\u001b[0m     \u001b[39mself\u001b[39m\u001b[39m.\u001b[39mhandles \u001b[39m=\u001b[39m get_handle(\n\u001b[0;32m    660\u001b[0m         filepath_or_buffer,\n\u001b[0;32m    661\u001b[0m         \u001b[39m\"\u001b[39;49m\u001b[39mr\u001b[39;49m\u001b[39m\"\u001b[39;49m,\n\u001b[0;32m    662\u001b[0m         encoding\u001b[39m=\u001b[39;49m\u001b[39mself\u001b[39;49m\u001b[39m.\u001b[39;49mencoding,\n\u001b[0;32m    663\u001b[0m         compression\u001b[39m=\u001b[39;49m\u001b[39mself\u001b[39;49m\u001b[39m.\u001b[39;49mcompression,\n\u001b[0;32m    664\u001b[0m         storage_options\u001b[39m=\u001b[39;49m\u001b[39mself\u001b[39;49m\u001b[39m.\u001b[39;49mstorage_options,\n\u001b[0;32m    665\u001b[0m     )\n\u001b[0;32m    666\u001b[0m     filepath_or_buffer \u001b[39m=\u001b[39m \u001b[39mself\u001b[39m\u001b[39m.\u001b[39mhandles\u001b[39m.\u001b[39mhandle\n\u001b[0;32m    668\u001b[0m \u001b[39mreturn\u001b[39;00m filepath_or_buffer\n",
            "File \u001b[1;32m~\\AppData\\Roaming\\Python\\Python39\\site-packages\\pandas\\io\\common.py:558\u001b[0m, in \u001b[0;36mget_handle\u001b[1;34m(path_or_buf, mode, encoding, compression, memory_map, is_text, errors, storage_options)\u001b[0m\n\u001b[0;32m    555\u001b[0m     mode \u001b[39m+\u001b[39m\u001b[39m=\u001b[39m \u001b[39m\"\u001b[39m\u001b[39mb\u001b[39m\u001b[39m\"\u001b[39m\n\u001b[0;32m    557\u001b[0m \u001b[39m# open URLs\u001b[39;00m\n\u001b[1;32m--> 558\u001b[0m ioargs \u001b[39m=\u001b[39m _get_filepath_or_buffer(\n\u001b[0;32m    559\u001b[0m     path_or_buf,\n\u001b[0;32m    560\u001b[0m     encoding\u001b[39m=\u001b[39;49mencoding,\n\u001b[0;32m    561\u001b[0m     compression\u001b[39m=\u001b[39;49mcompression,\n\u001b[0;32m    562\u001b[0m     mode\u001b[39m=\u001b[39;49mmode,\n\u001b[0;32m    563\u001b[0m     storage_options\u001b[39m=\u001b[39;49mstorage_options,\n\u001b[0;32m    564\u001b[0m )\n\u001b[0;32m    566\u001b[0m handle \u001b[39m=\u001b[39m ioargs\u001b[39m.\u001b[39mfilepath_or_buffer\n\u001b[0;32m    567\u001b[0m handles: List[Buffer]\n",
            "File \u001b[1;32m~\\AppData\\Roaming\\Python\\Python39\\site-packages\\pandas\\io\\common.py:289\u001b[0m, in \u001b[0;36m_get_filepath_or_buffer\u001b[1;34m(filepath_or_buffer, encoding, compression, mode, storage_options)\u001b[0m\n\u001b[0;32m    285\u001b[0m \u001b[39mif\u001b[39;00m storage_options:\n\u001b[0;32m    286\u001b[0m     \u001b[39mraise\u001b[39;00m \u001b[39mValueError\u001b[39;00m(\n\u001b[0;32m    287\u001b[0m         \u001b[39m\"\u001b[39m\u001b[39mstorage_options passed with file object or non-fsspec file path\u001b[39m\u001b[39m\"\u001b[39m\n\u001b[0;32m    288\u001b[0m     )\n\u001b[1;32m--> 289\u001b[0m req \u001b[39m=\u001b[39m urlopen(filepath_or_buffer)\n\u001b[0;32m    290\u001b[0m content_encoding \u001b[39m=\u001b[39m req\u001b[39m.\u001b[39mheaders\u001b[39m.\u001b[39mget(\u001b[39m\"\u001b[39m\u001b[39mContent-Encoding\u001b[39m\u001b[39m\"\u001b[39m, \u001b[39mNone\u001b[39;00m)\n\u001b[0;32m    291\u001b[0m \u001b[39mif\u001b[39;00m content_encoding \u001b[39m==\u001b[39m \u001b[39m\"\u001b[39m\u001b[39mgzip\u001b[39m\u001b[39m\"\u001b[39m:\n\u001b[0;32m    292\u001b[0m     \u001b[39m# Override compression based on Content-Encoding header\u001b[39;00m\n",
            "File \u001b[1;32m~\\AppData\\Roaming\\Python\\Python39\\site-packages\\pandas\\io\\common.py:195\u001b[0m, in \u001b[0;36murlopen\u001b[1;34m(*args, **kwargs)\u001b[0m\n\u001b[0;32m    189\u001b[0m \u001b[39m\"\"\"\u001b[39;00m\n\u001b[0;32m    190\u001b[0m \u001b[39mLazy-import wrapper for stdlib urlopen, as that imports a big chunk of\u001b[39;00m\n\u001b[0;32m    191\u001b[0m \u001b[39mthe stdlib.\u001b[39;00m\n\u001b[0;32m    192\u001b[0m \u001b[39m\"\"\"\u001b[39;00m\n\u001b[0;32m    193\u001b[0m \u001b[39mimport\u001b[39;00m \u001b[39murllib\u001b[39;00m\u001b[39m.\u001b[39;00m\u001b[39mrequest\u001b[39;00m\n\u001b[1;32m--> 195\u001b[0m \u001b[39mreturn\u001b[39;00m urllib\u001b[39m.\u001b[39mrequest\u001b[39m.\u001b[39murlopen(\u001b[39m*\u001b[39margs, \u001b[39m*\u001b[39m\u001b[39m*\u001b[39mkwargs)\n",
            "File \u001b[1;32mc:\\Program Files\\Python39\\lib\\urllib\\request.py:214\u001b[0m, in \u001b[0;36murlopen\u001b[1;34m(url, data, timeout, cafile, capath, cadefault, context)\u001b[0m\n\u001b[0;32m    212\u001b[0m \u001b[39melse\u001b[39;00m:\n\u001b[0;32m    213\u001b[0m     opener \u001b[39m=\u001b[39m _opener\n\u001b[1;32m--> 214\u001b[0m \u001b[39mreturn\u001b[39;00m opener\u001b[39m.\u001b[39;49mopen(url, data, timeout)\n",
            "File \u001b[1;32mc:\\Program Files\\Python39\\lib\\urllib\\request.py:523\u001b[0m, in \u001b[0;36mOpenerDirector.open\u001b[1;34m(self, fullurl, data, timeout)\u001b[0m\n\u001b[0;32m    521\u001b[0m \u001b[39mfor\u001b[39;00m processor \u001b[39min\u001b[39;00m \u001b[39mself\u001b[39m\u001b[39m.\u001b[39mprocess_response\u001b[39m.\u001b[39mget(protocol, []):\n\u001b[0;32m    522\u001b[0m     meth \u001b[39m=\u001b[39m \u001b[39mgetattr\u001b[39m(processor, meth_name)\n\u001b[1;32m--> 523\u001b[0m     response \u001b[39m=\u001b[39m meth(req, response)\n\u001b[0;32m    525\u001b[0m \u001b[39mreturn\u001b[39;00m response\n",
            "File \u001b[1;32mc:\\Program Files\\Python39\\lib\\urllib\\request.py:632\u001b[0m, in \u001b[0;36mHTTPErrorProcessor.http_response\u001b[1;34m(self, request, response)\u001b[0m\n\u001b[0;32m    629\u001b[0m \u001b[39m# According to RFC 2616, \"2xx\" code indicates that the client's\u001b[39;00m\n\u001b[0;32m    630\u001b[0m \u001b[39m# request was successfully received, understood, and accepted.\u001b[39;00m\n\u001b[0;32m    631\u001b[0m \u001b[39mif\u001b[39;00m \u001b[39mnot\u001b[39;00m (\u001b[39m200\u001b[39m \u001b[39m<\u001b[39m\u001b[39m=\u001b[39m code \u001b[39m<\u001b[39m \u001b[39m300\u001b[39m):\n\u001b[1;32m--> 632\u001b[0m     response \u001b[39m=\u001b[39m \u001b[39mself\u001b[39;49m\u001b[39m.\u001b[39;49mparent\u001b[39m.\u001b[39;49merror(\n\u001b[0;32m    633\u001b[0m         \u001b[39m'\u001b[39;49m\u001b[39mhttp\u001b[39;49m\u001b[39m'\u001b[39;49m, request, response, code, msg, hdrs)\n\u001b[0;32m    635\u001b[0m \u001b[39mreturn\u001b[39;00m response\n",
            "File \u001b[1;32mc:\\Program Files\\Python39\\lib\\urllib\\request.py:561\u001b[0m, in \u001b[0;36mOpenerDirector.error\u001b[1;34m(self, proto, *args)\u001b[0m\n\u001b[0;32m    559\u001b[0m \u001b[39mif\u001b[39;00m http_err:\n\u001b[0;32m    560\u001b[0m     args \u001b[39m=\u001b[39m (\u001b[39mdict\u001b[39m, \u001b[39m'\u001b[39m\u001b[39mdefault\u001b[39m\u001b[39m'\u001b[39m, \u001b[39m'\u001b[39m\u001b[39mhttp_error_default\u001b[39m\u001b[39m'\u001b[39m) \u001b[39m+\u001b[39m orig_args\n\u001b[1;32m--> 561\u001b[0m     \u001b[39mreturn\u001b[39;00m \u001b[39mself\u001b[39;49m\u001b[39m.\u001b[39;49m_call_chain(\u001b[39m*\u001b[39;49margs)\n",
            "File \u001b[1;32mc:\\Program Files\\Python39\\lib\\urllib\\request.py:494\u001b[0m, in \u001b[0;36mOpenerDirector._call_chain\u001b[1;34m(self, chain, kind, meth_name, *args)\u001b[0m\n\u001b[0;32m    492\u001b[0m \u001b[39mfor\u001b[39;00m handler \u001b[39min\u001b[39;00m handlers:\n\u001b[0;32m    493\u001b[0m     func \u001b[39m=\u001b[39m \u001b[39mgetattr\u001b[39m(handler, meth_name)\n\u001b[1;32m--> 494\u001b[0m     result \u001b[39m=\u001b[39m func(\u001b[39m*\u001b[39;49margs)\n\u001b[0;32m    495\u001b[0m     \u001b[39mif\u001b[39;00m result \u001b[39mis\u001b[39;00m \u001b[39mnot\u001b[39;00m \u001b[39mNone\u001b[39;00m:\n\u001b[0;32m    496\u001b[0m         \u001b[39mreturn\u001b[39;00m result\n",
            "File \u001b[1;32mc:\\Program Files\\Python39\\lib\\urllib\\request.py:641\u001b[0m, in \u001b[0;36mHTTPDefaultErrorHandler.http_error_default\u001b[1;34m(self, req, fp, code, msg, hdrs)\u001b[0m\n\u001b[0;32m    640\u001b[0m \u001b[39mdef\u001b[39;00m \u001b[39mhttp_error_default\u001b[39m(\u001b[39mself\u001b[39m, req, fp, code, msg, hdrs):\n\u001b[1;32m--> 641\u001b[0m     \u001b[39mraise\u001b[39;00m HTTPError(req\u001b[39m.\u001b[39mfull_url, code, msg, hdrs, fp)\n",
            "\u001b[1;31mHTTPError\u001b[0m: HTTP Error 503: Service Unavailable"
          ]
        }
      ],
      "source": [
        "df = pd.read_json('https://cat-fact.herokuapp.com/facts/random?animal_type=cat&amount=50')\n",
        "df.head()"
      ]
    },
    {
      "cell_type": "code",
      "execution_count": null,
      "metadata": {
        "id": "lsvAOSkwWH8c",
        "outputId": "937b00de-bd7c-4244-8d7c-677fa85ad2b9"
      },
      "outputs": [
        {
          "data": {
            "text/html": [
              "<div>\n",
              "<style scoped>\n",
              "    .dataframe tbody tr th:only-of-type {\n",
              "        vertical-align: middle;\n",
              "    }\n",
              "\n",
              "    .dataframe tbody tr th {\n",
              "        vertical-align: top;\n",
              "    }\n",
              "\n",
              "    .dataframe thead th {\n",
              "        text-align: right;\n",
              "    }\n",
              "</style>\n",
              "<table border=\"1\" class=\"dataframe\">\n",
              "  <thead>\n",
              "    <tr style=\"text-align: right;\">\n",
              "      <th></th>\n",
              "      <th>__v</th>\n",
              "      <th>_id</th>\n",
              "      <th>createdAt</th>\n",
              "      <th>deleted</th>\n",
              "      <th>source</th>\n",
              "      <th>status</th>\n",
              "      <th>text</th>\n",
              "      <th>type</th>\n",
              "      <th>updatedAt</th>\n",
              "      <th>used</th>\n",
              "      <th>user</th>\n",
              "    </tr>\n",
              "  </thead>\n",
              "  <tbody>\n",
              "    <tr>\n",
              "      <th>0</th>\n",
              "      <td>0</td>\n",
              "      <td>591f98783b90f7150a19c1ab</td>\n",
              "      <td>2018-01-04T01:10:54.673Z</td>\n",
              "      <td>False</td>\n",
              "      <td>api</td>\n",
              "      <td>{'verified': True, 'sentCount': 1}</td>\n",
              "      <td>Cats and kittens should be acquired in pairs w...</td>\n",
              "      <td>cat</td>\n",
              "      <td>2020-08-23T20:20:01.611Z</td>\n",
              "      <td>False</td>\n",
              "      <td>5a9ac18c7478810ea6c06381</td>\n",
              "    </tr>\n",
              "    <tr>\n",
              "      <th>1</th>\n",
              "      <td>0</td>\n",
              "      <td>5955792c7b77520020799431</td>\n",
              "      <td>2018-02-23T21:20:04.118Z</td>\n",
              "      <td>False</td>\n",
              "      <td>user</td>\n",
              "      <td>{'verified': True, 'sentCount': 1}</td>\n",
              "      <td>Cats \"knead\" because of seperation from their ...</td>\n",
              "      <td>cat</td>\n",
              "      <td>2020-08-23T20:20:01.611Z</td>\n",
              "      <td>False</td>\n",
              "      <td>595579027b77520020799430</td>\n",
              "    </tr>\n",
              "    <tr>\n",
              "      <th>2</th>\n",
              "      <td>0</td>\n",
              "      <td>5a038cdf8e3dbc001f719790</td>\n",
              "      <td>2018-02-01T21:20:02.808Z</td>\n",
              "      <td>False</td>\n",
              "      <td>user</td>\n",
              "      <td>{'verified': True, 'sentCount': 1}</td>\n",
              "      <td>The ability of a cat to reflexively twist its ...</td>\n",
              "      <td>cat</td>\n",
              "      <td>2020-08-23T20:20:01.611Z</td>\n",
              "      <td>False</td>\n",
              "      <td>5a9ac18c7478810ea6c06381</td>\n",
              "    </tr>\n",
              "    <tr>\n",
              "      <th>3</th>\n",
              "      <td>0</td>\n",
              "      <td>591f98783b90f7150a19c1da</td>\n",
              "      <td>2018-01-04T01:10:54.673Z</td>\n",
              "      <td>False</td>\n",
              "      <td>api</td>\n",
              "      <td>{'verified': True, 'sentCount': 1}</td>\n",
              "      <td>The cat appears to be the only domestic compan...</td>\n",
              "      <td>cat</td>\n",
              "      <td>2020-08-23T20:20:01.611Z</td>\n",
              "      <td>False</td>\n",
              "      <td>5a9ac18c7478810ea6c06381</td>\n",
              "    </tr>\n",
              "    <tr>\n",
              "      <th>4</th>\n",
              "      <td>0</td>\n",
              "      <td>591f98703b90f7150a19c15d</td>\n",
              "      <td>2018-01-04T01:10:54.673Z</td>\n",
              "      <td>False</td>\n",
              "      <td>api</td>\n",
              "      <td>{'verified': True, 'sentCount': 1}</td>\n",
              "      <td>Most cats killed on the road are un-neutered t...</td>\n",
              "      <td>cat</td>\n",
              "      <td>2020-08-23T20:20:01.611Z</td>\n",
              "      <td>False</td>\n",
              "      <td>5a9ac18c7478810ea6c06381</td>\n",
              "    </tr>\n",
              "  </tbody>\n",
              "</table>\n",
              "</div>"
            ],
            "text/plain": [
              "   __v                       _id                 createdAt  deleted source  \\\n",
              "0    0  591f98783b90f7150a19c1ab  2018-01-04T01:10:54.673Z    False    api   \n",
              "1    0  5955792c7b77520020799431  2018-02-23T21:20:04.118Z    False   user   \n",
              "2    0  5a038cdf8e3dbc001f719790  2018-02-01T21:20:02.808Z    False   user   \n",
              "3    0  591f98783b90f7150a19c1da  2018-01-04T01:10:54.673Z    False    api   \n",
              "4    0  591f98703b90f7150a19c15d  2018-01-04T01:10:54.673Z    False    api   \n",
              "\n",
              "                               status  \\\n",
              "0  {'verified': True, 'sentCount': 1}   \n",
              "1  {'verified': True, 'sentCount': 1}   \n",
              "2  {'verified': True, 'sentCount': 1}   \n",
              "3  {'verified': True, 'sentCount': 1}   \n",
              "4  {'verified': True, 'sentCount': 1}   \n",
              "\n",
              "                                                text type  \\\n",
              "0  Cats and kittens should be acquired in pairs w...  cat   \n",
              "1  Cats \"knead\" because of seperation from their ...  cat   \n",
              "2  The ability of a cat to reflexively twist its ...  cat   \n",
              "3  The cat appears to be the only domestic compan...  cat   \n",
              "4  Most cats killed on the road are un-neutered t...  cat   \n",
              "\n",
              "                  updatedAt   used                      user  \n",
              "0  2020-08-23T20:20:01.611Z  False  5a9ac18c7478810ea6c06381  \n",
              "1  2020-08-23T20:20:01.611Z  False  595579027b77520020799430  \n",
              "2  2020-08-23T20:20:01.611Z  False  5a9ac18c7478810ea6c06381  \n",
              "3  2020-08-23T20:20:01.611Z  False  5a9ac18c7478810ea6c06381  \n",
              "4  2020-08-23T20:20:01.611Z  False  5a9ac18c7478810ea6c06381  "
            ]
          },
          "execution_count": 54,
          "metadata": {},
          "output_type": "execute_result"
        }
      ],
      "source": [
        "df.columns = sorted(df.columns)\n",
        "df.head()"
      ]
    },
    {
      "cell_type": "code",
      "execution_count": null,
      "metadata": {
        "id": "N_CKc-ELWH8c",
        "outputId": "0faf4cad-fe86-49ed-9a1a-eab584351639"
      },
      "outputs": [
        {
          "name": "stdout",
          "output_type": "stream",
          "text": [
            "200\n"
          ]
        },
        {
          "data": {
            "text/plain": [
              "[{'used': False,\n",
              "  'source': 'api',\n",
              "  'type': 'cat',\n",
              "  'deleted': False,\n",
              "  '_id': '591f98783b90f7150a19c189',\n",
              "  '__v': 0,\n",
              "  'text': 'A cat has approximately 60 to 80 million olfactory cells (a human has between 5 and 20 million).',\n",
              "  'updatedAt': '2020-08-23T20:20:01.611Z',\n",
              "  'createdAt': '2018-01-04T01:10:54.673Z',\n",
              "  'status': {'verified': True, 'sentCount': 1},\n",
              "  'user': '5a9ac18c7478810ea6c06381'},\n",
              " {'used': False,\n",
              "  'source': 'api',\n",
              "  'type': 'cat',\n",
              "  'deleted': False,\n",
              "  '_id': '591f9858c5cbe314f7a7ad36',\n",
              "  '__v': 0,\n",
              "  'text': \"Cats respond better to women than to men, probably due to the fact that women's voices have a higher pitch.\",\n",
              "  'updatedAt': '2020-08-23T20:20:01.611Z',\n",
              "  'createdAt': '2018-05-18T20:20:03.088Z',\n",
              "  'status': {'verified': True, 'sentCount': 1},\n",
              "  'user': '5a9ac18c7478810ea6c06381'},\n",
              " {'used': False,\n",
              "  'source': 'user',\n",
              "  'type': 'cat',\n",
              "  'deleted': False,\n",
              "  '_id': '5a4d76916ef087002174c28b',\n",
              "  'updatedAt': '2020-08-23T20:20:01.611Z',\n",
              "  'createdAt': '2018-06-15T20:20:02.579Z',\n",
              "  'user': '5a9ac18c7478810ea6c06381',\n",
              "  'text': 'A cat’s nose pad is ridged with a unique pattern, just like the fingerprint of a human.',\n",
              "  '__v': 0,\n",
              "  'status': {'verified': True, 'sentCount': 1}}]"
            ]
          },
          "execution_count": 55,
          "metadata": {},
          "output_type": "execute_result"
        }
      ],
      "source": [
        "response = requests.get(\"https://cat-fact.herokuapp.com/facts/random?animal_type=cat&amount=50\")\n",
        "if response.status_code != 200:\n",
        "    print(\"Bad Response: \", response.status_code)\n",
        "print(response.status_code)\n",
        "cats = json.loads(response.text)\n",
        "cats[:3]"
      ]
    },
    {
      "cell_type": "code",
      "execution_count": null,
      "metadata": {
        "id": "hdYUV3q1WH8c",
        "outputId": "07fc5b4a-6798-42de-d6d3-822fbb5bf1c2"
      },
      "outputs": [
        {
          "name": "stdout",
          "output_type": "stream",
          "text": [
            "200\n"
          ]
        },
        {
          "data": {
            "text/plain": [
              "[{'used': False,\n",
              "  'source': 'user',\n",
              "  'type': 'cat',\n",
              "  'deleted': False,\n",
              "  '_id': '5c6097eee549020014533030',\n",
              "  'updatedAt': '2020-08-23T20:20:01.611Z',\n",
              "  'createdAt': '2019-02-10T21:30:22.033Z',\n",
              "  'user': '5a9ac18c7478810ea6c06381',\n",
              "  'text': 'Legend holds that the Chartreux once lived alongside the Carthusian monks of France.',\n",
              "  '__v': 0,\n",
              "  'status': {'verified': True, 'sentCount': 1}},\n",
              " {'used': False,\n",
              "  'source': 'user',\n",
              "  'type': 'cat',\n",
              "  'deleted': False,\n",
              "  '_id': '5c3552738e0b8d00148d45e6',\n",
              "  'updatedAt': '2020-08-23T20:20:01.611Z',\n",
              "  'createdAt': '2019-01-09T01:46:27.122Z',\n",
              "  'user': '5a9ac18c7478810ea6c06381',\n",
              "  'text': \"Cat's cannot see in total darkness, however their vision is much better than a human's in semidarkness because their retinas are much more sensitive to light.\",\n",
              "  '__v': 0,\n",
              "  'status': {'verified': True, 'sentCount': 1}},\n",
              " {'used': False,\n",
              "  'source': 'api',\n",
              "  'type': 'cat',\n",
              "  'deleted': False,\n",
              "  '_id': '591f9890d369931519ce3552',\n",
              "  '__v': 0,\n",
              "  'text': 'A steady diet of dog food may cause blindness in your cat - it lacks taurine.',\n",
              "  'updatedAt': '2020-08-23T20:20:01.611Z',\n",
              "  'createdAt': '2018-01-04T01:10:54.673Z',\n",
              "  'status': {'verified': True, 'sentCount': 1},\n",
              "  'user': '5a9ac18c7478810ea6c06381'}]"
            ]
          },
          "execution_count": 57,
          "metadata": {},
          "output_type": "execute_result"
        }
      ],
      "source": [
        "response = requests.get(\"https://cat-fact.herokuapp.com/facts/random\",\n",
        "                        params={\"animal_type\":\"cat\", \"amount\":20})\n",
        "if response.status_code != 200:\n",
        "    print(\"Bad Response: \", response.status_code)\n",
        "print(response.status_code)\n",
        "cats = json.loads(response.text) # simpler response.json() \n",
        "cats[:3]"
      ]
    },
    {
      "cell_type": "code",
      "execution_count": null,
      "metadata": {
        "id": "bx8bZMMJWH8c",
        "outputId": "8e0972b6-a965-463e-e0c0-eab747357f7e"
      },
      "outputs": [
        {
          "data": {
            "text/plain": [
              "20"
            ]
          },
          "execution_count": 58,
          "metadata": {},
          "output_type": "execute_result"
        }
      ],
      "source": [
        "len(cats)`"
      ]
    },
    {
      "cell_type": "code",
      "execution_count": null,
      "metadata": {
        "id": "VuCfEq0iWH8c",
        "outputId": "b51abae4-7518-4b43-c762-c24064a93fe5"
      },
      "outputs": [
        {
          "data": {
            "text/plain": [
              "200"
            ]
          },
          "execution_count": 60,
          "metadata": {},
          "output_type": "execute_result"
        }
      ],
      "source": [
        "response.status_code"
      ]
    },
    {
      "cell_type": "code",
      "execution_count": null,
      "metadata": {
        "id": "O_QLdxrcWH8c",
        "outputId": "7560b0c4-f0d3-4fa7-dd81-80c36d07e046"
      },
      "outputs": [
        {
          "data": {
            "text/plain": [
              "20"
            ]
          },
          "execution_count": 61,
          "metadata": {},
          "output_type": "execute_result"
        }
      ],
      "source": [
        "cats2 = response.json()\n",
        "len(cats2)"
      ]
    },
    {
      "cell_type": "code",
      "execution_count": null,
      "metadata": {
        "id": "D-ryDDccWH8c",
        "outputId": "c9e62fe3-789b-4654-ff23-bed5ff54f57e"
      },
      "outputs": [
        {
          "data": {
            "text/plain": [
              "(True, False)"
            ]
          },
          "execution_count": 64,
          "metadata": {},
          "output_type": "execute_result"
        }
      ],
      "source": [
        "cats2 == cats, cats2 is cats \n",
        "#data are the same we just have two different copies of them"
      ]
    },
    {
      "cell_type": "code",
      "execution_count": null,
      "metadata": {
        "id": "crTaX1IJWH8d"
      },
      "outputs": [],
      "source": []
    },
    {
      "cell_type": "code",
      "execution_count": null,
      "metadata": {
        "id": "zooNGrq0WH8d",
        "outputId": "5f453946-0582-4469-c911-9af4d999449e"
      },
      "outputs": [
        {
          "data": {
            "text/plain": [
              "'At 4 weeks, it is important to play with kittens so that they do not develope a fear of people.'"
            ]
          },
          "execution_count": 115,
          "metadata": {},
          "output_type": "execute_result"
        }
      ],
      "source": [
        "df.loc[0, 'text']"
      ]
    },
    {
      "cell_type": "code",
      "execution_count": null,
      "metadata": {
        "id": "lVQTSjAYWH8d"
      },
      "outputs": [],
      "source": [
        "## For authorization you generally need some sort of token(key)\n",
        "# One example for zendesk API  https://develop.zendesk.com/hc/en-us/community/posts/360001652447-API-auth-in-python\n",
        "\n",
        "\n",
        "# For an API token, append '/token' to your username and use the token as the password:\n",
        "## This will not work for those without zendesk access token\n",
        "\n",
        "url = 'https://your_subdomain.zendesk.com/api/v2/users/123.json'\n",
        "r = requests.get(url, auth=('user@example.com/token', 'your_token'))\n",
        "# For an OAuth token, set an Authorization header:\n",
        "\n",
        "bearer_token = 'Bearer ' + access_token\n",
        "header = {'Authorization': bearer_token}\n",
        "url = 'https://your_subdomain.zendesk.com/api/v2/users/123.json'\n",
        "r = requests.get(url, headers=header)"
      ]
    },
    {
      "cell_type": "code",
      "execution_count": null,
      "metadata": {
        "id": "29FBclU0WH8d"
      },
      "outputs": [],
      "source": [
        "def myReadJSON(url):\n",
        "    response = requests.get(url)\n",
        "    if response.status_code != 200:\n",
        "        print(\"Bad Response: \", response.status_code)\n",
        "    print(\"Status CODE\", response.status_code)\n",
        "    return json.loads(response.text)\n"
      ]
    },
    {
      "cell_type": "code",
      "execution_count": null,
      "metadata": {
        "id": "2T3eZBPwWH8d",
        "outputId": "0e2429ce-9bf8-4fd2-a262-a6e7bc9d8c93"
      },
      "outputs": [
        {
          "name": "stdout",
          "output_type": "stream",
          "text": [
            "Status CODE 200\n"
          ]
        },
        {
          "data": {
            "text/plain": [
              "dict"
            ]
          },
          "execution_count": 67,
          "metadata": {},
          "output_type": "execute_result"
        }
      ],
      "source": [
        "rawdrinks = myReadJSON(\"https://www.thecocktaildb.com/api/json/v1/1/search.php?s=margarita\")\n",
        "type(rawdrinks)"
      ]
    },
    {
      "cell_type": "code",
      "execution_count": null,
      "metadata": {
        "id": "Pp6eve3tWH8d",
        "outputId": "22405ff5-37c1-4861-dd20-700979f5e618"
      },
      "outputs": [
        {
          "data": {
            "text/plain": [
              "dict_keys(['drinks'])"
            ]
          },
          "execution_count": 68,
          "metadata": {},
          "output_type": "execute_result"
        }
      ],
      "source": [
        "rawdrinks.keys()"
      ]
    },
    {
      "cell_type": "code",
      "execution_count": null,
      "metadata": {
        "id": "1DF4fUd_WH8d",
        "outputId": "0e99e140-c361-433c-a861-35672c493f77"
      },
      "outputs": [
        {
          "data": {
            "text/html": [
              "<div>\n",
              "<style scoped>\n",
              "    .dataframe tbody tr th:only-of-type {\n",
              "        vertical-align: middle;\n",
              "    }\n",
              "\n",
              "    .dataframe tbody tr th {\n",
              "        vertical-align: top;\n",
              "    }\n",
              "\n",
              "    .dataframe thead th {\n",
              "        text-align: right;\n",
              "    }\n",
              "</style>\n",
              "<table border=\"1\" class=\"dataframe\">\n",
              "  <thead>\n",
              "    <tr style=\"text-align: right;\">\n",
              "      <th></th>\n",
              "      <th>dateModified</th>\n",
              "      <th>idDrink</th>\n",
              "      <th>strAlcoholic</th>\n",
              "      <th>strCategory</th>\n",
              "      <th>strCreativeCommonsConfirmed</th>\n",
              "      <th>strDrink</th>\n",
              "      <th>strDrinkAlternate</th>\n",
              "      <th>strDrinkDE</th>\n",
              "      <th>strDrinkES</th>\n",
              "      <th>strDrinkFR</th>\n",
              "      <th>...</th>\n",
              "      <th>strMeasure2</th>\n",
              "      <th>strMeasure3</th>\n",
              "      <th>strMeasure4</th>\n",
              "      <th>strMeasure5</th>\n",
              "      <th>strMeasure6</th>\n",
              "      <th>strMeasure7</th>\n",
              "      <th>strMeasure8</th>\n",
              "      <th>strMeasure9</th>\n",
              "      <th>strTags</th>\n",
              "      <th>strVideo</th>\n",
              "    </tr>\n",
              "  </thead>\n",
              "  <tbody>\n",
              "    <tr>\n",
              "      <th>0</th>\n",
              "      <td>2015-08-18 14:42:59</td>\n",
              "      <td>11007</td>\n",
              "      <td>Alcoholic</td>\n",
              "      <td>Ordinary Drink</td>\n",
              "      <td>Yes</td>\n",
              "      <td>Margarita</td>\n",
              "      <td>None</td>\n",
              "      <td>None</td>\n",
              "      <td>None</td>\n",
              "      <td>None</td>\n",
              "      <td>...</td>\n",
              "      <td>1/2 oz</td>\n",
              "      <td>1 oz</td>\n",
              "      <td>None</td>\n",
              "      <td>None</td>\n",
              "      <td>None</td>\n",
              "      <td>None</td>\n",
              "      <td>None</td>\n",
              "      <td>None</td>\n",
              "      <td>IBA,ContemporaryClassic</td>\n",
              "      <td>None</td>\n",
              "    </tr>\n",
              "    <tr>\n",
              "      <th>1</th>\n",
              "      <td>2015-08-18 14:51:53</td>\n",
              "      <td>11118</td>\n",
              "      <td>Alcoholic</td>\n",
              "      <td>Ordinary Drink</td>\n",
              "      <td>Yes</td>\n",
              "      <td>Blue Margarita</td>\n",
              "      <td>None</td>\n",
              "      <td>None</td>\n",
              "      <td>None</td>\n",
              "      <td>None</td>\n",
              "      <td>...</td>\n",
              "      <td>1 oz</td>\n",
              "      <td>1 oz</td>\n",
              "      <td>Coarse</td>\n",
              "      <td>None</td>\n",
              "      <td>None</td>\n",
              "      <td>None</td>\n",
              "      <td>None</td>\n",
              "      <td>None</td>\n",
              "      <td>None</td>\n",
              "      <td>None</td>\n",
              "    </tr>\n",
              "    <tr>\n",
              "      <th>2</th>\n",
              "      <td>2017-09-02 18:37:54</td>\n",
              "      <td>17216</td>\n",
              "      <td>Alcoholic</td>\n",
              "      <td>Ordinary Drink</td>\n",
              "      <td>No</td>\n",
              "      <td>Tommy's Margarita</td>\n",
              "      <td>None</td>\n",
              "      <td>None</td>\n",
              "      <td>None</td>\n",
              "      <td>None</td>\n",
              "      <td>...</td>\n",
              "      <td>1.5 cl</td>\n",
              "      <td>2 spoons</td>\n",
              "      <td>None</td>\n",
              "      <td>None</td>\n",
              "      <td>None</td>\n",
              "      <td>None</td>\n",
              "      <td>None</td>\n",
              "      <td>None</td>\n",
              "      <td>IBA,NewEra</td>\n",
              "      <td>None</td>\n",
              "    </tr>\n",
              "    <tr>\n",
              "      <th>3</th>\n",
              "      <td>2015-09-02 17:00:22</td>\n",
              "      <td>16158</td>\n",
              "      <td>Alcoholic</td>\n",
              "      <td>Other/Unknown</td>\n",
              "      <td>No</td>\n",
              "      <td>Whitecap Margarita</td>\n",
              "      <td>None</td>\n",
              "      <td>None</td>\n",
              "      <td>None</td>\n",
              "      <td>None</td>\n",
              "      <td>...</td>\n",
              "      <td>2 oz</td>\n",
              "      <td>1/4 cup</td>\n",
              "      <td>3 tblsp fresh</td>\n",
              "      <td>None</td>\n",
              "      <td>None</td>\n",
              "      <td>None</td>\n",
              "      <td>None</td>\n",
              "      <td>None</td>\n",
              "      <td>None</td>\n",
              "      <td>None</td>\n",
              "    </tr>\n",
              "    <tr>\n",
              "      <th>4</th>\n",
              "      <td>2015-08-18 14:41:51</td>\n",
              "      <td>12322</td>\n",
              "      <td>Alcoholic</td>\n",
              "      <td>Ordinary Drink</td>\n",
              "      <td>No</td>\n",
              "      <td>Strawberry Margarita</td>\n",
              "      <td>None</td>\n",
              "      <td>None</td>\n",
              "      <td>None</td>\n",
              "      <td>None</td>\n",
              "      <td>...</td>\n",
              "      <td>1 oz</td>\n",
              "      <td>1/2 oz</td>\n",
              "      <td>1 oz</td>\n",
              "      <td>1 oz</td>\n",
              "      <td>None</td>\n",
              "      <td>None</td>\n",
              "      <td>None</td>\n",
              "      <td>None</td>\n",
              "      <td>None</td>\n",
              "      <td>None</td>\n",
              "    </tr>\n",
              "  </tbody>\n",
              "</table>\n",
              "<p>5 rows × 53 columns</p>\n",
              "</div>"
            ],
            "text/plain": [
              "          dateModified idDrink strAlcoholic     strCategory  \\\n",
              "0  2015-08-18 14:42:59   11007    Alcoholic  Ordinary Drink   \n",
              "1  2015-08-18 14:51:53   11118    Alcoholic  Ordinary Drink   \n",
              "2  2017-09-02 18:37:54   17216    Alcoholic  Ordinary Drink   \n",
              "3  2015-09-02 17:00:22   16158    Alcoholic   Other/Unknown   \n",
              "4  2015-08-18 14:41:51   12322    Alcoholic  Ordinary Drink   \n",
              "\n",
              "  strCreativeCommonsConfirmed              strDrink strDrinkAlternate  \\\n",
              "0                         Yes             Margarita              None   \n",
              "1                         Yes        Blue Margarita              None   \n",
              "2                          No     Tommy's Margarita              None   \n",
              "3                          No    Whitecap Margarita              None   \n",
              "4                          No  Strawberry Margarita              None   \n",
              "\n",
              "  strDrinkDE strDrinkES strDrinkFR  ... strMeasure2 strMeasure3  \\\n",
              "0       None       None       None  ...     1/2 oz        1 oz    \n",
              "1       None       None       None  ...       1 oz        1 oz    \n",
              "2       None       None       None  ...      1.5 cl    2 spoons   \n",
              "3       None       None       None  ...       2 oz     1/4 cup    \n",
              "4       None       None       None  ...       1 oz      1/2 oz    \n",
              "\n",
              "      strMeasure4 strMeasure5 strMeasure6 strMeasure7 strMeasure8 strMeasure9  \\\n",
              "0            None        None        None        None        None        None   \n",
              "1         Coarse         None        None        None        None        None   \n",
              "2            None        None        None        None        None        None   \n",
              "3  3 tblsp fresh         None        None        None        None        None   \n",
              "4           1 oz        1 oz         None        None        None        None   \n",
              "\n",
              "                   strTags strVideo  \n",
              "0  IBA,ContemporaryClassic     None  \n",
              "1                     None     None  \n",
              "2               IBA,NewEra     None  \n",
              "3                     None     None  \n",
              "4                     None     None  \n",
              "\n",
              "[5 rows x 53 columns]"
            ]
          },
          "execution_count": 69,
          "metadata": {},
          "output_type": "execute_result"
        }
      ],
      "source": [
        "mydrinks = pd.DataFrame(rawdrinks['drinks'])\n",
        "mydrinks.head()"
      ]
    },
    {
      "cell_type": "code",
      "execution_count": null,
      "metadata": {
        "id": "1dpzF_RiWH8d",
        "outputId": "7c86526c-f106-481d-c1b6-db910290178d"
      },
      "outputs": [
        {
          "data": {
            "text/html": [
              "<div>\n",
              "<style scoped>\n",
              "    .dataframe tbody tr th:only-of-type {\n",
              "        vertical-align: middle;\n",
              "    }\n",
              "\n",
              "    .dataframe tbody tr th {\n",
              "        vertical-align: top;\n",
              "    }\n",
              "\n",
              "    .dataframe thead th {\n",
              "        text-align: right;\n",
              "    }\n",
              "</style>\n",
              "<table border=\"1\" class=\"dataframe\">\n",
              "  <thead>\n",
              "    <tr style=\"text-align: right;\">\n",
              "      <th></th>\n",
              "      <th>0</th>\n",
              "      <th>1</th>\n",
              "      <th>2</th>\n",
              "      <th>3</th>\n",
              "      <th>4</th>\n",
              "    </tr>\n",
              "  </thead>\n",
              "  <tbody>\n",
              "    <tr>\n",
              "      <th>dateModified</th>\n",
              "      <td>2015-08-18 14:42:59</td>\n",
              "      <td>2015-08-18 14:51:53</td>\n",
              "      <td>2017-09-02 18:37:54</td>\n",
              "      <td>2015-09-02 17:00:22</td>\n",
              "      <td>2015-08-18 14:41:51</td>\n",
              "    </tr>\n",
              "    <tr>\n",
              "      <th>idDrink</th>\n",
              "      <td>11007</td>\n",
              "      <td>11118</td>\n",
              "      <td>17216</td>\n",
              "      <td>16158</td>\n",
              "      <td>12322</td>\n",
              "    </tr>\n",
              "    <tr>\n",
              "      <th>strAlcoholic</th>\n",
              "      <td>Alcoholic</td>\n",
              "      <td>Alcoholic</td>\n",
              "      <td>Alcoholic</td>\n",
              "      <td>Alcoholic</td>\n",
              "      <td>Alcoholic</td>\n",
              "    </tr>\n",
              "    <tr>\n",
              "      <th>strCategory</th>\n",
              "      <td>Ordinary Drink</td>\n",
              "      <td>Ordinary Drink</td>\n",
              "      <td>Ordinary Drink</td>\n",
              "      <td>Other/Unknown</td>\n",
              "      <td>Ordinary Drink</td>\n",
              "    </tr>\n",
              "    <tr>\n",
              "      <th>strCreativeCommonsConfirmed</th>\n",
              "      <td>No</td>\n",
              "      <td>No</td>\n",
              "      <td>No</td>\n",
              "      <td>No</td>\n",
              "      <td>No</td>\n",
              "    </tr>\n",
              "    <tr>\n",
              "      <th>strDrink</th>\n",
              "      <td>Margarita</td>\n",
              "      <td>Blue Margarita</td>\n",
              "      <td>Tommy's Margarita</td>\n",
              "      <td>Whitecap Margarita</td>\n",
              "      <td>Strawberry Margarita</td>\n",
              "    </tr>\n",
              "    <tr>\n",
              "      <th>strDrinkAlternate</th>\n",
              "      <td>None</td>\n",
              "      <td>None</td>\n",
              "      <td>None</td>\n",
              "      <td>None</td>\n",
              "      <td>None</td>\n",
              "    </tr>\n",
              "    <tr>\n",
              "      <th>strDrinkDE</th>\n",
              "      <td>None</td>\n",
              "      <td>None</td>\n",
              "      <td>None</td>\n",
              "      <td>None</td>\n",
              "      <td>None</td>\n",
              "    </tr>\n",
              "    <tr>\n",
              "      <th>strDrinkES</th>\n",
              "      <td>None</td>\n",
              "      <td>None</td>\n",
              "      <td>None</td>\n",
              "      <td>None</td>\n",
              "      <td>None</td>\n",
              "    </tr>\n",
              "    <tr>\n",
              "      <th>strDrinkFR</th>\n",
              "      <td>None</td>\n",
              "      <td>None</td>\n",
              "      <td>None</td>\n",
              "      <td>None</td>\n",
              "      <td>None</td>\n",
              "    </tr>\n",
              "    <tr>\n",
              "      <th>strDrinkThumb</th>\n",
              "      <td>https://www.thecocktaildb.com/images/media/dri...</td>\n",
              "      <td>https://www.thecocktaildb.com/images/media/dri...</td>\n",
              "      <td>https://www.thecocktaildb.com/images/media/dri...</td>\n",
              "      <td>https://www.thecocktaildb.com/images/media/dri...</td>\n",
              "      <td>https://www.thecocktaildb.com/images/media/dri...</td>\n",
              "    </tr>\n",
              "    <tr>\n",
              "      <th>strDrinkZH-HANS</th>\n",
              "      <td>None</td>\n",
              "      <td>None</td>\n",
              "      <td>None</td>\n",
              "      <td>None</td>\n",
              "      <td>None</td>\n",
              "    </tr>\n",
              "    <tr>\n",
              "      <th>strDrinkZH-HANT</th>\n",
              "      <td>None</td>\n",
              "      <td>None</td>\n",
              "      <td>None</td>\n",
              "      <td>None</td>\n",
              "      <td>None</td>\n",
              "    </tr>\n",
              "    <tr>\n",
              "      <th>strGlass</th>\n",
              "      <td>Cocktail glass</td>\n",
              "      <td>Cocktail glass</td>\n",
              "      <td>Old-Fashioned glass</td>\n",
              "      <td>Margarita/Coupette glass</td>\n",
              "      <td>Cocktail glass</td>\n",
              "    </tr>\n",
              "    <tr>\n",
              "      <th>strIBA</th>\n",
              "      <td>Contemporary Classics</td>\n",
              "      <td>None</td>\n",
              "      <td>New Era Drinks</td>\n",
              "      <td>None</td>\n",
              "      <td>None</td>\n",
              "    </tr>\n",
              "    <tr>\n",
              "      <th>strIngredient1</th>\n",
              "      <td>Tequila</td>\n",
              "      <td>Tequila</td>\n",
              "      <td>Tequila</td>\n",
              "      <td>Ice</td>\n",
              "      <td>Strawberry schnapps</td>\n",
              "    </tr>\n",
              "    <tr>\n",
              "      <th>strIngredient10</th>\n",
              "      <td>None</td>\n",
              "      <td>None</td>\n",
              "      <td>None</td>\n",
              "      <td>None</td>\n",
              "      <td>None</td>\n",
              "    </tr>\n",
              "    <tr>\n",
              "      <th>strIngredient11</th>\n",
              "      <td>None</td>\n",
              "      <td>None</td>\n",
              "      <td>None</td>\n",
              "      <td>None</td>\n",
              "      <td>None</td>\n",
              "    </tr>\n",
              "    <tr>\n",
              "      <th>strIngredient12</th>\n",
              "      <td>None</td>\n",
              "      <td>None</td>\n",
              "      <td>None</td>\n",
              "      <td>None</td>\n",
              "      <td>None</td>\n",
              "    </tr>\n",
              "    <tr>\n",
              "      <th>strIngredient13</th>\n",
              "      <td>None</td>\n",
              "      <td>None</td>\n",
              "      <td>None</td>\n",
              "      <td>None</td>\n",
              "      <td>None</td>\n",
              "    </tr>\n",
              "    <tr>\n",
              "      <th>strIngredient14</th>\n",
              "      <td>None</td>\n",
              "      <td>None</td>\n",
              "      <td>None</td>\n",
              "      <td>None</td>\n",
              "      <td>None</td>\n",
              "    </tr>\n",
              "    <tr>\n",
              "      <th>strIngredient15</th>\n",
              "      <td>None</td>\n",
              "      <td>None</td>\n",
              "      <td>None</td>\n",
              "      <td>None</td>\n",
              "      <td>None</td>\n",
              "    </tr>\n",
              "    <tr>\n",
              "      <th>strIngredient2</th>\n",
              "      <td>Triple sec</td>\n",
              "      <td>Blue Curacao</td>\n",
              "      <td>Lime Juice</td>\n",
              "      <td>Tequila</td>\n",
              "      <td>Tequila</td>\n",
              "    </tr>\n",
              "    <tr>\n",
              "      <th>strIngredient3</th>\n",
              "      <td>Lime juice</td>\n",
              "      <td>Lime juice</td>\n",
              "      <td>Agave syrup</td>\n",
              "      <td>Cream of coconut</td>\n",
              "      <td>Triple sec</td>\n",
              "    </tr>\n",
              "    <tr>\n",
              "      <th>strIngredient4</th>\n",
              "      <td>Salt</td>\n",
              "      <td>Salt</td>\n",
              "      <td>None</td>\n",
              "      <td>Lime juice</td>\n",
              "      <td>Lemon juice</td>\n",
              "    </tr>\n",
              "    <tr>\n",
              "      <th>strIngredient5</th>\n",
              "      <td>None</td>\n",
              "      <td>None</td>\n",
              "      <td>None</td>\n",
              "      <td>None</td>\n",
              "      <td>Strawberries</td>\n",
              "    </tr>\n",
              "    <tr>\n",
              "      <th>strIngredient6</th>\n",
              "      <td>None</td>\n",
              "      <td>None</td>\n",
              "      <td>None</td>\n",
              "      <td>None</td>\n",
              "      <td>Salt</td>\n",
              "    </tr>\n",
              "    <tr>\n",
              "      <th>strIngredient7</th>\n",
              "      <td>None</td>\n",
              "      <td>None</td>\n",
              "      <td>None</td>\n",
              "      <td>None</td>\n",
              "      <td>None</td>\n",
              "    </tr>\n",
              "    <tr>\n",
              "      <th>strIngredient8</th>\n",
              "      <td>None</td>\n",
              "      <td>None</td>\n",
              "      <td>None</td>\n",
              "      <td>None</td>\n",
              "      <td>None</td>\n",
              "    </tr>\n",
              "    <tr>\n",
              "      <th>strIngredient9</th>\n",
              "      <td>None</td>\n",
              "      <td>None</td>\n",
              "      <td>None</td>\n",
              "      <td>None</td>\n",
              "      <td>None</td>\n",
              "    </tr>\n",
              "    <tr>\n",
              "      <th>strInstructions</th>\n",
              "      <td>Rub the rim of the glass with the lime slice t...</td>\n",
              "      <td>Rub rim of cocktail glass with lime juice. Dip...</td>\n",
              "      <td>Shake and strain into a chilled cocktail glass.</td>\n",
              "      <td>Place all ingredients in a blender and blend u...</td>\n",
              "      <td>Rub rim of cocktail glass with lemon juice and...</td>\n",
              "    </tr>\n",
              "    <tr>\n",
              "      <th>strInstructionsDE</th>\n",
              "      <td>Reiben Sie den Rand des Glases mit der Limette...</td>\n",
              "      <td>Den Rand des Cocktailglases mit Limettensaft e...</td>\n",
              "      <td>Schütteln und in ein gekühltes Cocktailglas ab...</td>\n",
              "      <td>Alle Zutaten in einen Mixer geben und mischen.</td>\n",
              "      <td>Cocktailglasrand mit Zitronensaft und Tauchran...</td>\n",
              "    </tr>\n",
              "    <tr>\n",
              "      <th>strInstructionsES</th>\n",
              "      <td>None</td>\n",
              "      <td>None</td>\n",
              "      <td>None</td>\n",
              "      <td>None</td>\n",
              "      <td>None</td>\n",
              "    </tr>\n",
              "    <tr>\n",
              "      <th>strInstructionsFR</th>\n",
              "      <td>None</td>\n",
              "      <td>None</td>\n",
              "      <td>None</td>\n",
              "      <td>None</td>\n",
              "      <td>None</td>\n",
              "    </tr>\n",
              "    <tr>\n",
              "      <th>strInstructionsZH-HANS</th>\n",
              "      <td>None</td>\n",
              "      <td>None</td>\n",
              "      <td>None</td>\n",
              "      <td>None</td>\n",
              "      <td>None</td>\n",
              "    </tr>\n",
              "    <tr>\n",
              "      <th>strInstructionsZH-HANT</th>\n",
              "      <td>None</td>\n",
              "      <td>None</td>\n",
              "      <td>None</td>\n",
              "      <td>None</td>\n",
              "      <td>None</td>\n",
              "    </tr>\n",
              "    <tr>\n",
              "      <th>strMeasure1</th>\n",
              "      <td>1 1/2 oz</td>\n",
              "      <td>1 1/2 oz</td>\n",
              "      <td>4.5 cl</td>\n",
              "      <td>1 cup</td>\n",
              "      <td>1/2 oz</td>\n",
              "    </tr>\n",
              "    <tr>\n",
              "      <th>strMeasure10</th>\n",
              "      <td>None</td>\n",
              "      <td>None</td>\n",
              "      <td>None</td>\n",
              "      <td>None</td>\n",
              "      <td>None</td>\n",
              "    </tr>\n",
              "    <tr>\n",
              "      <th>strMeasure11</th>\n",
              "      <td>None</td>\n",
              "      <td>None</td>\n",
              "      <td>None</td>\n",
              "      <td>None</td>\n",
              "      <td>None</td>\n",
              "    </tr>\n",
              "    <tr>\n",
              "      <th>strMeasure12</th>\n",
              "      <td>None</td>\n",
              "      <td>None</td>\n",
              "      <td>None</td>\n",
              "      <td>None</td>\n",
              "      <td>None</td>\n",
              "    </tr>\n",
              "    <tr>\n",
              "      <th>strMeasure13</th>\n",
              "      <td>None</td>\n",
              "      <td>None</td>\n",
              "      <td>None</td>\n",
              "      <td>None</td>\n",
              "      <td>None</td>\n",
              "    </tr>\n",
              "    <tr>\n",
              "      <th>strMeasure14</th>\n",
              "      <td>None</td>\n",
              "      <td>None</td>\n",
              "      <td>None</td>\n",
              "      <td>None</td>\n",
              "      <td>None</td>\n",
              "    </tr>\n",
              "    <tr>\n",
              "      <th>strMeasure15</th>\n",
              "      <td>None</td>\n",
              "      <td>None</td>\n",
              "      <td>None</td>\n",
              "      <td>None</td>\n",
              "      <td>None</td>\n",
              "    </tr>\n",
              "    <tr>\n",
              "      <th>strMeasure2</th>\n",
              "      <td>1/2 oz</td>\n",
              "      <td>1 oz</td>\n",
              "      <td>1.5 cl</td>\n",
              "      <td>2 oz</td>\n",
              "      <td>1 oz</td>\n",
              "    </tr>\n",
              "    <tr>\n",
              "      <th>strMeasure3</th>\n",
              "      <td>1 oz</td>\n",
              "      <td>1 oz</td>\n",
              "      <td>2 spoons</td>\n",
              "      <td>1/4 cup</td>\n",
              "      <td>1/2 oz</td>\n",
              "    </tr>\n",
              "    <tr>\n",
              "      <th>strMeasure4</th>\n",
              "      <td>None</td>\n",
              "      <td>Coarse</td>\n",
              "      <td>None</td>\n",
              "      <td>3 tblsp fresh</td>\n",
              "      <td>1 oz</td>\n",
              "    </tr>\n",
              "    <tr>\n",
              "      <th>strMeasure5</th>\n",
              "      <td>None</td>\n",
              "      <td>None</td>\n",
              "      <td>None</td>\n",
              "      <td>None</td>\n",
              "      <td>1 oz</td>\n",
              "    </tr>\n",
              "    <tr>\n",
              "      <th>strMeasure6</th>\n",
              "      <td>None</td>\n",
              "      <td>None</td>\n",
              "      <td>None</td>\n",
              "      <td>None</td>\n",
              "      <td>None</td>\n",
              "    </tr>\n",
              "    <tr>\n",
              "      <th>strMeasure7</th>\n",
              "      <td>None</td>\n",
              "      <td>None</td>\n",
              "      <td>None</td>\n",
              "      <td>None</td>\n",
              "      <td>None</td>\n",
              "    </tr>\n",
              "    <tr>\n",
              "      <th>strMeasure8</th>\n",
              "      <td>None</td>\n",
              "      <td>None</td>\n",
              "      <td>None</td>\n",
              "      <td>None</td>\n",
              "      <td>None</td>\n",
              "    </tr>\n",
              "    <tr>\n",
              "      <th>strMeasure9</th>\n",
              "      <td>None</td>\n",
              "      <td>None</td>\n",
              "      <td>None</td>\n",
              "      <td>None</td>\n",
              "      <td>None</td>\n",
              "    </tr>\n",
              "    <tr>\n",
              "      <th>strTags</th>\n",
              "      <td>IBA,ContemporaryClassic</td>\n",
              "      <td>None</td>\n",
              "      <td>IBA,NewEra</td>\n",
              "      <td>None</td>\n",
              "      <td>None</td>\n",
              "    </tr>\n",
              "    <tr>\n",
              "      <th>strVideo</th>\n",
              "      <td>None</td>\n",
              "      <td>None</td>\n",
              "      <td>None</td>\n",
              "      <td>None</td>\n",
              "      <td>None</td>\n",
              "    </tr>\n",
              "  </tbody>\n",
              "</table>\n",
              "</div>"
            ],
            "text/plain": [
              "                                                                             0  \\\n",
              "dateModified                                               2015-08-18 14:42:59   \n",
              "idDrink                                                                  11007   \n",
              "strAlcoholic                                                         Alcoholic   \n",
              "strCategory                                                     Ordinary Drink   \n",
              "strCreativeCommonsConfirmed                                                 No   \n",
              "strDrink                                                             Margarita   \n",
              "strDrinkAlternate                                                         None   \n",
              "strDrinkDE                                                                None   \n",
              "strDrinkES                                                                None   \n",
              "strDrinkFR                                                                None   \n",
              "strDrinkThumb                https://www.thecocktaildb.com/images/media/dri...   \n",
              "strDrinkZH-HANS                                                           None   \n",
              "strDrinkZH-HANT                                                           None   \n",
              "strGlass                                                        Cocktail glass   \n",
              "strIBA                                                   Contemporary Classics   \n",
              "strIngredient1                                                         Tequila   \n",
              "strIngredient10                                                           None   \n",
              "strIngredient11                                                           None   \n",
              "strIngredient12                                                           None   \n",
              "strIngredient13                                                           None   \n",
              "strIngredient14                                                           None   \n",
              "strIngredient15                                                           None   \n",
              "strIngredient2                                                      Triple sec   \n",
              "strIngredient3                                                      Lime juice   \n",
              "strIngredient4                                                            Salt   \n",
              "strIngredient5                                                            None   \n",
              "strIngredient6                                                            None   \n",
              "strIngredient7                                                            None   \n",
              "strIngredient8                                                            None   \n",
              "strIngredient9                                                            None   \n",
              "strInstructions              Rub the rim of the glass with the lime slice t...   \n",
              "strInstructionsDE            Reiben Sie den Rand des Glases mit der Limette...   \n",
              "strInstructionsES                                                         None   \n",
              "strInstructionsFR                                                         None   \n",
              "strInstructionsZH-HANS                                                    None   \n",
              "strInstructionsZH-HANT                                                    None   \n",
              "strMeasure1                                                          1 1/2 oz    \n",
              "strMeasure10                                                              None   \n",
              "strMeasure11                                                              None   \n",
              "strMeasure12                                                              None   \n",
              "strMeasure13                                                              None   \n",
              "strMeasure14                                                              None   \n",
              "strMeasure15                                                              None   \n",
              "strMeasure2                                                            1/2 oz    \n",
              "strMeasure3                                                              1 oz    \n",
              "strMeasure4                                                               None   \n",
              "strMeasure5                                                               None   \n",
              "strMeasure6                                                               None   \n",
              "strMeasure7                                                               None   \n",
              "strMeasure8                                                               None   \n",
              "strMeasure9                                                               None   \n",
              "strTags                                                IBA,ContemporaryClassic   \n",
              "strVideo                                                                  None   \n",
              "\n",
              "                                                                             1  \\\n",
              "dateModified                                               2015-08-18 14:51:53   \n",
              "idDrink                                                                  11118   \n",
              "strAlcoholic                                                         Alcoholic   \n",
              "strCategory                                                     Ordinary Drink   \n",
              "strCreativeCommonsConfirmed                                                 No   \n",
              "strDrink                                                        Blue Margarita   \n",
              "strDrinkAlternate                                                         None   \n",
              "strDrinkDE                                                                None   \n",
              "strDrinkES                                                                None   \n",
              "strDrinkFR                                                                None   \n",
              "strDrinkThumb                https://www.thecocktaildb.com/images/media/dri...   \n",
              "strDrinkZH-HANS                                                           None   \n",
              "strDrinkZH-HANT                                                           None   \n",
              "strGlass                                                        Cocktail glass   \n",
              "strIBA                                                                    None   \n",
              "strIngredient1                                                         Tequila   \n",
              "strIngredient10                                                           None   \n",
              "strIngredient11                                                           None   \n",
              "strIngredient12                                                           None   \n",
              "strIngredient13                                                           None   \n",
              "strIngredient14                                                           None   \n",
              "strIngredient15                                                           None   \n",
              "strIngredient2                                                    Blue Curacao   \n",
              "strIngredient3                                                      Lime juice   \n",
              "strIngredient4                                                            Salt   \n",
              "strIngredient5                                                            None   \n",
              "strIngredient6                                                            None   \n",
              "strIngredient7                                                            None   \n",
              "strIngredient8                                                            None   \n",
              "strIngredient9                                                            None   \n",
              "strInstructions              Rub rim of cocktail glass with lime juice. Dip...   \n",
              "strInstructionsDE            Den Rand des Cocktailglases mit Limettensaft e...   \n",
              "strInstructionsES                                                         None   \n",
              "strInstructionsFR                                                         None   \n",
              "strInstructionsZH-HANS                                                    None   \n",
              "strInstructionsZH-HANT                                                    None   \n",
              "strMeasure1                                                          1 1/2 oz    \n",
              "strMeasure10                                                              None   \n",
              "strMeasure11                                                              None   \n",
              "strMeasure12                                                              None   \n",
              "strMeasure13                                                              None   \n",
              "strMeasure14                                                              None   \n",
              "strMeasure15                                                              None   \n",
              "strMeasure2                                                              1 oz    \n",
              "strMeasure3                                                              1 oz    \n",
              "strMeasure4                                                            Coarse    \n",
              "strMeasure5                                                               None   \n",
              "strMeasure6                                                               None   \n",
              "strMeasure7                                                               None   \n",
              "strMeasure8                                                               None   \n",
              "strMeasure9                                                               None   \n",
              "strTags                                                                   None   \n",
              "strVideo                                                                  None   \n",
              "\n",
              "                                                                             2  \\\n",
              "dateModified                                               2017-09-02 18:37:54   \n",
              "idDrink                                                                  17216   \n",
              "strAlcoholic                                                         Alcoholic   \n",
              "strCategory                                                     Ordinary Drink   \n",
              "strCreativeCommonsConfirmed                                                 No   \n",
              "strDrink                                                     Tommy's Margarita   \n",
              "strDrinkAlternate                                                         None   \n",
              "strDrinkDE                                                                None   \n",
              "strDrinkES                                                                None   \n",
              "strDrinkFR                                                                None   \n",
              "strDrinkThumb                https://www.thecocktaildb.com/images/media/dri...   \n",
              "strDrinkZH-HANS                                                           None   \n",
              "strDrinkZH-HANT                                                           None   \n",
              "strGlass                                                   Old-Fashioned glass   \n",
              "strIBA                                                          New Era Drinks   \n",
              "strIngredient1                                                         Tequila   \n",
              "strIngredient10                                                           None   \n",
              "strIngredient11                                                           None   \n",
              "strIngredient12                                                           None   \n",
              "strIngredient13                                                           None   \n",
              "strIngredient14                                                           None   \n",
              "strIngredient15                                                           None   \n",
              "strIngredient2                                                      Lime Juice   \n",
              "strIngredient3                                                     Agave syrup   \n",
              "strIngredient4                                                            None   \n",
              "strIngredient5                                                            None   \n",
              "strIngredient6                                                            None   \n",
              "strIngredient7                                                            None   \n",
              "strIngredient8                                                            None   \n",
              "strIngredient9                                                            None   \n",
              "strInstructions                Shake and strain into a chilled cocktail glass.   \n",
              "strInstructionsDE            Schütteln und in ein gekühltes Cocktailglas ab...   \n",
              "strInstructionsES                                                         None   \n",
              "strInstructionsFR                                                         None   \n",
              "strInstructionsZH-HANS                                                    None   \n",
              "strInstructionsZH-HANT                                                    None   \n",
              "strMeasure1                                                             4.5 cl   \n",
              "strMeasure10                                                              None   \n",
              "strMeasure11                                                              None   \n",
              "strMeasure12                                                              None   \n",
              "strMeasure13                                                              None   \n",
              "strMeasure14                                                              None   \n",
              "strMeasure15                                                              None   \n",
              "strMeasure2                                                             1.5 cl   \n",
              "strMeasure3                                                           2 spoons   \n",
              "strMeasure4                                                               None   \n",
              "strMeasure5                                                               None   \n",
              "strMeasure6                                                               None   \n",
              "strMeasure7                                                               None   \n",
              "strMeasure8                                                               None   \n",
              "strMeasure9                                                               None   \n",
              "strTags                                                             IBA,NewEra   \n",
              "strVideo                                                                  None   \n",
              "\n",
              "                                                                             3  \\\n",
              "dateModified                                               2015-09-02 17:00:22   \n",
              "idDrink                                                                  16158   \n",
              "strAlcoholic                                                         Alcoholic   \n",
              "strCategory                                                      Other/Unknown   \n",
              "strCreativeCommonsConfirmed                                                 No   \n",
              "strDrink                                                    Whitecap Margarita   \n",
              "strDrinkAlternate                                                         None   \n",
              "strDrinkDE                                                                None   \n",
              "strDrinkES                                                                None   \n",
              "strDrinkFR                                                                None   \n",
              "strDrinkThumb                https://www.thecocktaildb.com/images/media/dri...   \n",
              "strDrinkZH-HANS                                                           None   \n",
              "strDrinkZH-HANT                                                           None   \n",
              "strGlass                                              Margarita/Coupette glass   \n",
              "strIBA                                                                    None   \n",
              "strIngredient1                                                             Ice   \n",
              "strIngredient10                                                           None   \n",
              "strIngredient11                                                           None   \n",
              "strIngredient12                                                           None   \n",
              "strIngredient13                                                           None   \n",
              "strIngredient14                                                           None   \n",
              "strIngredient15                                                           None   \n",
              "strIngredient2                                                         Tequila   \n",
              "strIngredient3                                                Cream of coconut   \n",
              "strIngredient4                                                      Lime juice   \n",
              "strIngredient5                                                            None   \n",
              "strIngredient6                                                            None   \n",
              "strIngredient7                                                            None   \n",
              "strIngredient8                                                            None   \n",
              "strIngredient9                                                            None   \n",
              "strInstructions              Place all ingredients in a blender and blend u...   \n",
              "strInstructionsDE               Alle Zutaten in einen Mixer geben und mischen.   \n",
              "strInstructionsES                                                         None   \n",
              "strInstructionsFR                                                         None   \n",
              "strInstructionsZH-HANS                                                    None   \n",
              "strInstructionsZH-HANT                                                    None   \n",
              "strMeasure1                                                             1 cup    \n",
              "strMeasure10                                                              None   \n",
              "strMeasure11                                                              None   \n",
              "strMeasure12                                                              None   \n",
              "strMeasure13                                                              None   \n",
              "strMeasure14                                                              None   \n",
              "strMeasure15                                                              None   \n",
              "strMeasure2                                                              2 oz    \n",
              "strMeasure3                                                           1/4 cup    \n",
              "strMeasure4                                                     3 tblsp fresh    \n",
              "strMeasure5                                                               None   \n",
              "strMeasure6                                                               None   \n",
              "strMeasure7                                                               None   \n",
              "strMeasure8                                                               None   \n",
              "strMeasure9                                                               None   \n",
              "strTags                                                                   None   \n",
              "strVideo                                                                  None   \n",
              "\n",
              "                                                                             4  \n",
              "dateModified                                               2015-08-18 14:41:51  \n",
              "idDrink                                                                  12322  \n",
              "strAlcoholic                                                         Alcoholic  \n",
              "strCategory                                                     Ordinary Drink  \n",
              "strCreativeCommonsConfirmed                                                 No  \n",
              "strDrink                                                  Strawberry Margarita  \n",
              "strDrinkAlternate                                                         None  \n",
              "strDrinkDE                                                                None  \n",
              "strDrinkES                                                                None  \n",
              "strDrinkFR                                                                None  \n",
              "strDrinkThumb                https://www.thecocktaildb.com/images/media/dri...  \n",
              "strDrinkZH-HANS                                                           None  \n",
              "strDrinkZH-HANT                                                           None  \n",
              "strGlass                                                        Cocktail glass  \n",
              "strIBA                                                                    None  \n",
              "strIngredient1                                             Strawberry schnapps  \n",
              "strIngredient10                                                           None  \n",
              "strIngredient11                                                           None  \n",
              "strIngredient12                                                           None  \n",
              "strIngredient13                                                           None  \n",
              "strIngredient14                                                           None  \n",
              "strIngredient15                                                           None  \n",
              "strIngredient2                                                         Tequila  \n",
              "strIngredient3                                                      Triple sec  \n",
              "strIngredient4                                                     Lemon juice  \n",
              "strIngredient5                                                    Strawberries  \n",
              "strIngredient6                                                            Salt  \n",
              "strIngredient7                                                            None  \n",
              "strIngredient8                                                            None  \n",
              "strIngredient9                                                            None  \n",
              "strInstructions              Rub rim of cocktail glass with lemon juice and...  \n",
              "strInstructionsDE            Cocktailglasrand mit Zitronensaft und Tauchran...  \n",
              "strInstructionsES                                                         None  \n",
              "strInstructionsFR                                                         None  \n",
              "strInstructionsZH-HANS                                                    None  \n",
              "strInstructionsZH-HANT                                                    None  \n",
              "strMeasure1                                                            1/2 oz   \n",
              "strMeasure10                                                              None  \n",
              "strMeasure11                                                              None  \n",
              "strMeasure12                                                              None  \n",
              "strMeasure13                                                              None  \n",
              "strMeasure14                                                              None  \n",
              "strMeasure15                                                              None  \n",
              "strMeasure2                                                              1 oz   \n",
              "strMeasure3                                                            1/2 oz   \n",
              "strMeasure4                                                              1 oz   \n",
              "strMeasure5                                                              1 oz   \n",
              "strMeasure6                                                               None  \n",
              "strMeasure7                                                               None  \n",
              "strMeasure8                                                               None  \n",
              "strMeasure9                                                               None  \n",
              "strTags                                                                   None  \n",
              "strVideo                                                                  None  "
            ]
          },
          "execution_count": 132,
          "metadata": {},
          "output_type": "execute_result"
        }
      ],
      "source": [
        "# we can Transpose to get a sense of all columns\n",
        "mydrinks.head().T"
      ]
    },
    {
      "cell_type": "code",
      "execution_count": null,
      "metadata": {
        "id": "MWqvgpnbWH8d",
        "outputId": "39035625-804a-4b99-e5db-e58204c8fece"
      },
      "outputs": [
        {
          "data": {
            "text/html": [
              "<div>\n",
              "<style scoped>\n",
              "    .dataframe tbody tr th:only-of-type {\n",
              "        vertical-align: middle;\n",
              "    }\n",
              "\n",
              "    .dataframe tbody tr th {\n",
              "        vertical-align: top;\n",
              "    }\n",
              "\n",
              "    .dataframe thead th {\n",
              "        text-align: right;\n",
              "    }\n",
              "</style>\n",
              "<table border=\"1\" class=\"dataframe\">\n",
              "  <thead>\n",
              "    <tr style=\"text-align: right;\">\n",
              "      <th></th>\n",
              "      <th>drinks</th>\n",
              "    </tr>\n",
              "  </thead>\n",
              "  <tbody>\n",
              "    <tr>\n",
              "      <th>0</th>\n",
              "      <td>{'idDrink': '11007', 'strDrink': 'Margarita', ...</td>\n",
              "    </tr>\n",
              "    <tr>\n",
              "      <th>1</th>\n",
              "      <td>{'idDrink': '11118', 'strDrink': 'Blue Margari...</td>\n",
              "    </tr>\n",
              "    <tr>\n",
              "      <th>2</th>\n",
              "      <td>{'idDrink': '17216', 'strDrink': 'Tommy's Marg...</td>\n",
              "    </tr>\n",
              "    <tr>\n",
              "      <th>3</th>\n",
              "      <td>{'idDrink': '16158', 'strDrink': 'Whitecap Mar...</td>\n",
              "    </tr>\n",
              "    <tr>\n",
              "      <th>4</th>\n",
              "      <td>{'idDrink': '12322', 'strDrink': 'Strawberry M...</td>\n",
              "    </tr>\n",
              "  </tbody>\n",
              "</table>\n",
              "</div>"
            ],
            "text/plain": [
              "                                              drinks\n",
              "0  {'idDrink': '11007', 'strDrink': 'Margarita', ...\n",
              "1  {'idDrink': '11118', 'strDrink': 'Blue Margari...\n",
              "2  {'idDrink': '17216', 'strDrink': 'Tommy's Marg...\n",
              "3  {'idDrink': '16158', 'strDrink': 'Whitecap Mar...\n",
              "4  {'idDrink': '12322', 'strDrink': 'Strawberry M..."
            ]
          },
          "execution_count": 124,
          "metadata": {},
          "output_type": "execute_result"
        }
      ],
      "source": [
        "drinks = pd.read_json(\"https://www.thecocktaildb.com/api/json/v1/1/search.php?s=margarita\")\n",
        "drinks.head()"
      ]
    },
    {
      "cell_type": "code",
      "execution_count": null,
      "metadata": {
        "id": "lWPT_NW3WH8e"
      },
      "outputs": [],
      "source": [
        "# requests also works with post type of requests"
      ]
    },
    {
      "cell_type": "code",
      "execution_count": null,
      "metadata": {
        "id": "ZlP6h2GcWH8e"
      },
      "outputs": [],
      "source": [
        "url = \"http://www.recipepuppy.com/api/?i=onions,garlic&q=omelet&p=3\""
      ]
    },
    {
      "cell_type": "code",
      "execution_count": null,
      "metadata": {
        "id": "8FzRFfsRWH8e",
        "outputId": "15150ce0-490e-4924-8344-a3e25c36d97f"
      },
      "outputs": [
        {
          "data": {
            "text/plain": [
              "200"
            ]
          },
          "execution_count": 44,
          "metadata": {},
          "output_type": "execute_result"
        }
      ],
      "source": [
        "response = requests.get(url)\n",
        "response.status_code"
      ]
    },
    {
      "cell_type": "code",
      "execution_count": null,
      "metadata": {
        "id": "a8p5C0QVWH8e",
        "outputId": "542b7e4a-5859-432e-a952-3b36f3688666"
      },
      "outputs": [
        {
          "data": {
            "text/plain": [
              "dict"
            ]
          },
          "execution_count": 45,
          "metadata": {},
          "output_type": "execute_result"
        }
      ],
      "source": [
        "o_data = response.json()\n",
        "type(o_data)"
      ]
    },
    {
      "cell_type": "code",
      "execution_count": null,
      "metadata": {
        "id": "dT69VrKpWH8e",
        "outputId": "16a73030-154c-4ece-81dc-6dffc4066f35"
      },
      "outputs": [
        {
          "data": {
            "text/plain": [
              "list"
            ]
          },
          "execution_count": 46,
          "metadata": {},
          "output_type": "execute_result"
        }
      ],
      "source": [
        "o_recipes = o_data.get('results')\n",
        "type(o_recipes)"
      ]
    },
    {
      "cell_type": "code",
      "execution_count": null,
      "metadata": {
        "id": "qBEl6ol7WH8e",
        "outputId": "034867d2-dfe2-48ae-8eec-bdf8dfbed43c"
      },
      "outputs": [
        {
          "data": {
            "text/plain": [
              "[{'title': 'Vegetable-Pasta Oven Omelet',\n",
              "  'href': 'http://find.myrecipes.com/recipes/recipefinder.dyn?action=displayRecipe&recipe_id=520763',\n",
              "  'ingredients': 'tomato, onions, red pepper, garlic, olive oil, zucchini, cream cheese, vermicelli, eggs, parmesan cheese, milk, italian seasoning, salt, black pepper',\n",
              "  'thumbnail': 'http://img.recipepuppy.com/560556.jpg'},\n",
              " {'title': 'Roasted Pepper and Bacon Omelet',\n",
              "  'href': 'http://www.bigoven.com/43919-Roasted-Pepper-and-Bacon-Omelet-recipe.html',\n",
              "  'ingredients': 'eggs, salt, black pepper, butter, black pepper, bacon, onions, garlic, roasted red peppers, oregano, black pepper',\n",
              "  'thumbnail': ''},\n",
              " {'title': '\\nBroccoli Oven Omelet Recipe\\n\\n',\n",
              "  'href': 'http://cookeatshare.com/recipes/broccoli-oven-omelet-92851',\n",
              "  'ingredients': 'eggs, broccoli, onions, parmesan cheese, lowfat milk, salt, basil, garlic, tomato, parmesan cheese',\n",
              "  'thumbnail': ''}]"
            ]
          },
          "execution_count": 47,
          "metadata": {},
          "output_type": "execute_result"
        }
      ],
      "source": [
        "o_recipes[:3]"
      ]
    },
    {
      "cell_type": "code",
      "execution_count": null,
      "metadata": {
        "id": "fi0rji7vWH8e"
      },
      "outputs": [],
      "source": [
        "# for 100 suggestion is to use time.sleep(0.2)\n",
        "# it is good manners to sleep a little to avoid DDOS attack on API server\n",
        "import time\n",
        "time.sleep(0.5) # half a second delay"
      ]
    },
    {
      "cell_type": "code",
      "execution_count": null,
      "metadata": {
        "id": "tlagcnx_WH8e",
        "outputId": "2e53c5a4-ebf5-4bcc-f7a9-dba67d509a67"
      },
      "outputs": [
        {
          "data": {
            "text/plain": [
              "200"
            ]
          },
          "execution_count": 42,
          "metadata": {},
          "output_type": "execute_result"
        }
      ],
      "source": [
        "url = \"https://data.gov.lv/dati/lv/api/3/action/datastore_search?resource_id=27fcc5ec-c63b-4bfd-bb08-01f073a52d04&limit=5\"\n",
        "r = requests.get(url)\n",
        "r.status_code"
      ]
    },
    {
      "cell_type": "code",
      "execution_count": null,
      "metadata": {
        "id": "xMvzQcFGWH8f",
        "outputId": "201f7edd-e37d-4371-eb33-18d7d87889ad"
      },
      "outputs": [
        {
          "data": {
            "text/plain": [
              "'{\"help\": \"https://data.gov.lv/dati/api/3/action/help_show?name=datastore_search\", \"success\": true, \"result\": {\"include_total\": true, \"resource_id\": \"27fcc5ec-c63b-4bfd-bb08-01f073a52d04\", \"fields\": [{\"type\": \"int\", \"id\": \"_id\"}, {\"type\": \"numeric\", \"id\": \"id\"}, {\"type\": \"numeric\", \"id\": \"file_id\"}, {\"type\": \"numeric\", \"id\": \"legal_entity_registration_number\"}, {\"type\": \"text\", \"id\": \"source_schema\"}, {\"type\": \"text\", \"id\": \"source_type\"}, {\"type\": \"numeric\", \"id\": \"year\"}, {\"type\": \"timestamp\", \"id\": \"year_started_on\"}, {\"type\": \"timestamp\", \"id\": \"year_ended_on\"}, {\"type\": \"numeric\", \"id\": \"employees\"}, {\"type\": \"text\", \"id\": \"rounded_to_nearest\"}, {\"type\": \"text\", \"id\": \"currency\"}, {\"type\": \"timestamp\", \"id\": \"created_at\"}], \"records_format\": \"objects\", \"records\": [{\"_id\":1,\"id\":709390,\"file_id\":16544390,\"legal_entity_registration_number\":40103504912,\"source_schema\":\"DokGPUIENv1\",\"source_type\":\"UGP\",\"year\":2016,\"year_started_on\":\"2016-01-01T00:00:00\",\"year_ended_on\":\"2016-12-31T00:00:00\",\"employees\":0,\"rounded_to_nearest\":\"ONES\",\"currency\":\"EUR\",\"created_at\":\"2020-10-30T23:33:27\"},{\"_id\":2,\"id\":709391,\"file_id\":16544392,\"legal_entity_registration_number\":40103466358,\"source_schema\":\"DokGPUIENv1\",\"source_type\":\"UGP\",\"year\":2016,\"year_started_on\":\"2016-01-01T00:00:00\",\"year_ended_on\":\"2016-12-31T00:00:00\",\"employees\":1,\"rounded_to_nearest\":\"ONES\",\"currency\":\"EUR\",\"created_at\":\"2020-10-30T23:33:31\"},{\"_id\":3,\"id\":709392,\"file_id\":16544401,\"legal_entity_registration_number\":40103476182,\"source_schema\":\"DokGPUIENv1\",\"source_type\":\"UGP\",\"year\":2016,\"year_started_on\":\"2016-01-01T00:00:00\",\"year_ended_on\":\"2016-12-31T00:00:00\",\"employees\":2,\"rounded_to_nearest\":\"ONES\",\"currency\":\"EUR\",\"created_at\":\"2020-10-30T23:33:34\"},{\"_id\":4,\"id\":709393,\"file_id\":16544404,\"legal_entity_registration_number\":40103863270,\"source_schema\":\"DokUGP2008v1\",\"source_type\":\"\",\"year\":2015,\"year_started_on\":\"2015-01-21T00:00:00\",\"year_ended_on\":\"2015-12-31T00:00:00\",\"employees\":5,\"rounded_to_nearest\":\"ONES\",\"currency\":\"EUR\",\"created_at\":\"2020-10-30T23:33:37\"},{\"_id\":5,\"id\":709394,\"file_id\":16544411,\"legal_entity_registration_number\":40008010613,\"source_schema\":\"DokGPUIENv1\",\"source_type\":\"BNAGP\",\"year\":2016,\"year_started_on\":\"2016-01-01T00:00:00\",\"year_ended_on\":\"2016-12-31T00:00:00\",\"employees\":0,\"rounded_to_nearest\":\"ONES\",\"currency\":\"EUR\",\"created_at\":\"2020-10-30T23:33:40\"}], \"limit\": 5, \"_links\": {\"start\": \"/api/3/action/datastore_search?limit=5&resource_id=27fcc5ec-c63b-4bfd-bb08-01f073a52d04\", \"next\": \"/api/3/action/datastore_search?offset=5&limit=5&resource_id=27fcc5ec-c63b-4bfd-bb08-01f073a52d04\"}, \"total\": 1113887}}'"
            ]
          },
          "execution_count": 43,
          "metadata": {},
          "output_type": "execute_result"
        }
      ],
      "source": [
        "r.text"
      ]
    },
    {
      "cell_type": "code",
      "execution_count": null,
      "metadata": {
        "id": "6I1zW4KSWH8f"
      },
      "outputs": [],
      "source": [
        "with open(\"ur_yearly.json\", \"w\", encoding=\"utf-8\") as f:\n",
        "    f.write(r.text)"
      ]
    },
    {
      "cell_type": "code",
      "execution_count": null,
      "metadata": {
        "id": "p2X-FJRoWH8f"
      },
      "outputs": [],
      "source": [
        "urdata = r.json()"
      ]
    },
    {
      "cell_type": "code",
      "execution_count": null,
      "metadata": {
        "id": "FRRxpPfJWH8f"
      },
      "outputs": [],
      "source": [
        "with open(\"ur_yearly_indent.json\", \"w\", encoding=\"utf-8\") as f:\n",
        "    json.dump(r.json(), f, indent=4)"
      ]
    },
    {
      "cell_type": "code",
      "execution_count": null,
      "metadata": {
        "id": "2FlFuEHAWH8f",
        "outputId": "38dc5e0c-5bcc-4462-d0f3-ef6fbb1b2cd2"
      },
      "outputs": [
        {
          "data": {
            "text/plain": [
              "dict"
            ]
          },
          "execution_count": 46,
          "metadata": {},
          "output_type": "execute_result"
        }
      ],
      "source": [
        "type(urdata)"
      ]
    },
    {
      "cell_type": "code",
      "execution_count": null,
      "metadata": {
        "id": "YxORtfszWH8f",
        "outputId": "5fd32aee-9dc2-413a-abac-8751cdbbc2a6"
      },
      "outputs": [
        {
          "data": {
            "text/plain": [
              "'/api/3/action/datastore_search?offset=5&limit=5&resource_id=27fcc5ec-c63b-4bfd-bb08-01f073a52d04'"
            ]
          },
          "execution_count": 49,
          "metadata": {},
          "output_type": "execute_result"
        }
      ],
      "source": [
        "next_url = urdata['result'][\"_links\"][\"next\"]\n",
        "next_url"
      ]
    },
    {
      "cell_type": "code",
      "execution_count": null,
      "metadata": {},
      "outputs": [],
      "source": [
        "# how about Twitter JSON API ?\n",
        "\n",
        "# https://developer.twitter.com/en/docs/tweets/timelines/api-reference/get-statuses-user_timeline.html\n",
        "# https://developer.twitter.com/en/docs/twitter-api/v1/data-dictionary/overview\n",
        "\n",
        "# over the years Twitter has been changing their API\n",
        "# so you need to check the documentation for the version you are using\n",
        "# also you would need to register for a developer account and get a token - think of it as a key\n",
        "# Academic research is free, but you need to apply for it\n",
        "# site to apply for academic research https://developer.twitter.com/en/apply-for-access"
      ]
    },
    {
      "cell_type": "code",
      "execution_count": null,
      "metadata": {},
      "outputs": [],
      "source": [
        "# there are Python libraries for Twitter API which make it easier to use\n",
        "# you could use tweepy or twitter libraries\n",
        "# but for this example we will use requests library\n",
        "\n",
        "\n",
        "# in any case with any key you are going to be limited in the number of requests you can make per day\n",
        "# so do not expect to obtain a lot of data"
      ]
    },
    {
      "cell_type": "code",
      "execution_count": null,
      "metadata": {},
      "outputs": [],
      "source": [
        "# next week we will look at what to do when there is NO JSON API available"
      ]
    }
  ],
  "metadata": {
    "colab": {
      "name": "Using_JSON_APIs.ipynb",
      "provenance": []
    },
    "kernelspec": {
      "display_name": "Python 3.9.0 64-bit",
      "language": "python",
      "name": "python3"
    },
    "language_info": {
      "codemirror_mode": {
        "name": "ipython",
        "version": 3
      },
      "file_extension": ".py",
      "mimetype": "text/x-python",
      "name": "python",
      "nbconvert_exporter": "python",
      "pygments_lexer": "ipython3",
      "version": "3.9.0"
    },
    "vscode": {
      "interpreter": {
        "hash": "11938c6bc6919ae2720b4d5011047913343b08a43b18698fd82dedb0d4417594"
      }
    }
  },
  "nbformat": 4,
  "nbformat_minor": 0
}
