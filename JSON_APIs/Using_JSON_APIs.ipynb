{
 "cells": [
  {
   "cell_type": "markdown",
   "metadata": {
    "id": "hcZrk16fWH77"
   },
   "source": [
    "# JSON\n",
    "\n",
    "## Lesson Objectives\n",
    "\n",
    "1. Understand what JSON is.\n",
    "2. Understand the structure of JSON.\n",
    "3. Use JSON in Python.\n",
    "4. Use JSON as a data interchange format from APIs\n",
    "5. JSON in Digital Discourse\n",
    "\n",
    "## Brief Introduction\n",
    "\n",
    "JSON (JavaScript Object Notation) is a lightweight data-interchange format. It is easy for humans to read and write. It is easy for machines to parse and generate. It is based on a subset of the JavaScript Programming Language, Standard ECMA-262 3rd Edition - December 1999. JSON is a text format that is completely language independent but uses conventions that are familiar to programmers of  Python and also of the C-family of languages, including C, C++, C#, Java, JavaScript, Perl, and many others. These properties make JSON an ideal data-interchange language.\n",
    "\n",
    "## JSON in Digital Discourse\n",
    "\n",
    "JSON is used in many places in digital discourse. It is used in APIs to send and receive data from platforms such as Twitter, Facebook, and Google. It is used in web development to store and send data between the client and server. It is used in data storage and retrieval in databases. It is used in configuration files for applications. It is used in many other places as well.\n",
    "\n",
    "Many popular social media and communication platforms such as Twitter, Reddit, Mastodon, Telegram, and others provide APIs that allow developers to interact with their platforms programmatically. These APIs return data in JSON format. This data can be used to build applications that interact with these platforms.\n",
    "\n",
    "Sadly, many of these platforms have shifted to only providing high cost access to their APIs. This has made it difficult for students and researchers to access data from these platforms. However, there are still some platforms that provide free access to their APIs. "
   ]
  },
  {
   "cell_type": "markdown",
   "metadata": {
    "id": "wC4Q4oGwWH79"
   },
   "source": [
    "##  JSON - Javascript Object Notation - What is it?\n",
    "\n",
    "### Invented by Douglas Crockford when working at Yahoo in early 2000s.\n",
    "\n",
    "* Goal - Human Readable, Machine Parsable\n",
    "\n",
    "* Specification: https://www.json.org/"
   ]
  },
  {
   "cell_type": "markdown",
   "metadata": {
    "id": "_anQwgX4WH7-"
   },
   "source": [
    "JSON — short for JavaScript Object Notation — format for sharing data.\n",
    "\n",
    "JSON is derived from the JavaScript programming language\n",
    "\n",
    "Available for use by many languages including Python\n",
    "\n",
    "usually file extension is .json when stored\n",
    "\n"
   ]
  },
  {
   "cell_type": "code",
   "execution_count": 1,
   "metadata": {
    "id": "HgVJQxmeWH7_"
   },
   "outputs": [],
   "source": [
    "# Sample JSON below from https://json.org/example.html\n",
    "# Question why is Syntax highlighting working properly ? :)"
   ]
  },
  {
   "cell_type": "code",
   "execution_count": 2,
   "metadata": {
    "colab": {
     "base_uri": "https://localhost:8080/"
    },
    "id": "UmLDxSmxWH8A",
    "outputId": "ed2dc2b8-7bb7-49f3-fa15-cc6ae488e103"
   },
   "outputs": [
    {
     "data": {
      "text/plain": [
       "{'widget': {'debug': 'on',\n",
       "  'window': {'title': 'Sample Konfabulator Widget',\n",
       "   'name': 'main_window',\n",
       "   'width': 500,\n",
       "   'height': 500},\n",
       "  'image': {'src': 'Images/Sun.png',\n",
       "   'name': 'sun1',\n",
       "   'hOffset': 250,\n",
       "   'vOffset': 250,\n",
       "   'alignment': 'center'},\n",
       "  'text': {'data': 'Click Here',\n",
       "   'size': 36,\n",
       "   'style': 'bold',\n",
       "   'name': 'text1',\n",
       "   'hOffset': 250,\n",
       "   'vOffset': 100,\n",
       "   'alignment': 'center',\n",
       "   'onMouseUp': 'sun1.opacity = (sun1.opacity / 100) * 90;'}}}"
      ]
     },
     "execution_count": 2,
     "metadata": {},
     "output_type": "execute_result"
    }
   ],
   "source": [
    "# what data structure in Python does this look like?\n",
    "{\"widget\": {\n",
    "    \"debug\": \"on\",\n",
    "    \"window\": {\n",
    "        \"title\": \"Sample Konfabulator Widget\",\n",
    "        \"name\": \"main_window\",\n",
    "        \"width\": 500,\n",
    "        \"height\": 500\n",
    "    },\n",
    "    \"image\": {\n",
    "        \"src\": \"Images/Sun.png\",\n",
    "        \"name\": \"sun1\",\n",
    "        \"hOffset\": 250,\n",
    "        \"vOffset\": 250,\n",
    "        \"alignment\": \"center\"\n",
    "    },\n",
    "    \"text\": {\n",
    "        \"data\": \"Click Here\",\n",
    "        \"size\": 36,\n",
    "        \"style\": \"bold\",\n",
    "        \"name\": \"text1\",\n",
    "        \"hOffset\": 250,\n",
    "        \"vOffset\": 100,\n",
    "        \"alignment\": \"center\",\n",
    "        \"onMouseUp\": \"sun1.opacity = (sun1.opacity / 100) * 90;\"\n",
    "    }\n",
    "}}\n"
   ]
  },
  {
   "cell_type": "code",
   "execution_count": 3,
   "metadata": {
    "id": "IcaWfR6tWH8B"
   },
   "outputs": [],
   "source": [
    "# if this was string starting with { it would be our json\n",
    "mydata = {\n",
    "    \"firstName\": \"Jane\",\n",
    "    \"lastName\": \"Doe\",\n",
    "    \"hobbies\": [\"running\", \"sky diving\", \"dancing\"],\n",
    "    \"age\": 43,\n",
    "    \"children\": [\n",
    "        {\n",
    "            \"firstName\": \"Alice\",\n",
    "            \"age\": 7\n",
    "        },\n",
    "        {\n",
    "            \"firstName\": \"Bob\",\n",
    "            \"age\": 13\n",
    "        }\n",
    "    ]\n",
    "}"
   ]
  },
  {
   "cell_type": "code",
   "execution_count": 4,
   "metadata": {
    "colab": {
     "base_uri": "https://localhost:8080/"
    },
    "id": "DPnVWDchWH8B",
    "outputId": "17cf8359-c873-4b58-b16e-e39ab4a6f924"
   },
   "outputs": [
    {
     "data": {
      "text/plain": [
       "dict"
      ]
     },
     "execution_count": 4,
     "metadata": {},
     "output_type": "execute_result"
    }
   ],
   "source": [
    "# now mydata is just a Python dictionary nothing to do with JSON\n",
    "# here we converted JSON text into Python dictionary\n",
    "type(mydata)"
   ]
  },
  {
   "cell_type": "code",
   "execution_count": null,
   "metadata": {
    "id": "gwNYvntYzFp_"
   },
   "outputs": [],
   "source": [
    "# reminder that Python dictionary is just a collection of unordered key value pairs"
   ]
  },
  {
   "cell_type": "code",
   "execution_count": 5,
   "metadata": {
    "colab": {
     "base_uri": "https://localhost:8080/"
    },
    "id": "bgxBE896WH8C",
    "outputId": "afb1cacd-360a-4d33-ee74-f152616e4caa"
   },
   "outputs": [
    {
     "name": "stdout",
     "output_type": "stream",
     "text": [
      "{'firstName': 'Jane', 'lastName': 'Doe', 'hobbies': ['running', 'sky diving', 'dancing'], 'age': 43, 'children': [{'firstName': 'Alice', 'age': 7}, {'firstName': 'Bob', 'age': 13}]}\n"
     ]
    }
   ],
   "source": [
    "print(mydata) # this is not JSON anymore this is just a Python dictionary(could have come from another source not only JSON)"
   ]
  },
  {
   "cell_type": "code",
   "execution_count": null,
   "metadata": {
    "id": "LbXI3hHxzFqA"
   },
   "outputs": [],
   "source": [
    "# so mydata is just a Python dictionary nothing to do with JSON anymore\n",
    "# mydata contains keys and values\n",
    "# some of the values are strings, some are integers, some are lists, some are dictionaries\n",
    "# and some lists contain dictionaries and some dictionaries contain lists\n",
    "# it is very common for data obtained from JSON to be nested - hierarchically structured"
   ]
  },
  {
   "cell_type": "code",
   "execution_count": 6,
   "metadata": {
    "colab": {
     "base_uri": "https://localhost:8080/"
    },
    "id": "_9l4r1VQWH8C",
    "outputId": "2e181357-254b-4639-aea3-e4515159db66"
   },
   "outputs": [
    {
     "data": {
      "text/plain": [
       "[{'firstName': 'Alice', 'age': 7}, {'firstName': 'Bob', 'age': 13}]"
      ]
     },
     "execution_count": 6,
     "metadata": {},
     "output_type": "execute_result"
    }
   ],
   "source": [
    "mydata['children'] # we use key to get value in this case we get a list"
   ]
  },
  {
   "cell_type": "code",
   "execution_count": 7,
   "metadata": {
    "colab": {
     "base_uri": "https://localhost:8080/"
    },
    "id": "Rf_xj8jaWH8D",
    "outputId": "04d8b100-635a-4f1a-abca-940e11208fc7"
   },
   "outputs": [
    {
     "data": {
      "text/plain": [
       "list"
      ]
     },
     "execution_count": 7,
     "metadata": {},
     "output_type": "execute_result"
    }
   ],
   "source": [
    "type(mydata['children']) # when you see square brackets in json expect a list in Python"
   ]
  },
  {
   "cell_type": "code",
   "execution_count": 8,
   "metadata": {
    "colab": {
     "base_uri": "https://localhost:8080/"
    },
    "id": "93BDG7zdWH8D",
    "outputId": "9e8ee554-b322-4ba2-88a8-182820815b11"
   },
   "outputs": [
    {
     "data": {
      "text/plain": [
       "{'firstName': 'Alice', 'age': 7}"
      ]
     },
     "execution_count": 8,
     "metadata": {},
     "output_type": "execute_result"
    }
   ],
   "source": [
    "# we can get the first child from the list\n",
    "mydata['children'][0] # remember indexing starts with 0"
   ]
  },
  {
   "cell_type": "code",
   "execution_count": 9,
   "metadata": {
    "colab": {
     "base_uri": "https://localhost:8080/"
    },
    "id": "M_NXdOwiWH8E",
    "outputId": "2dbd53b4-5fa5-45d1-c373-05548139ad34"
   },
   "outputs": [
    {
     "data": {
      "text/plain": [
       "dict"
      ]
     },
     "execution_count": 9,
     "metadata": {},
     "output_type": "execute_result"
    }
   ],
   "source": [
    "type(mydata['children'][0]) # so first item in the list is another dictionary"
   ]
  },
  {
   "cell_type": "code",
   "execution_count": 10,
   "metadata": {
    "colab": {
     "base_uri": "https://localhost:8080/"
    },
    "id": "vJTIkc3xWH8E",
    "outputId": "8896c73c-e7be-40cb-8efa-3f4752f1c303"
   },
   "outputs": [
    {
     "data": {
      "text/plain": [
       "7"
      ]
     },
     "execution_count": 10,
     "metadata": {},
     "output_type": "execute_result"
    }
   ],
   "source": [
    "mydata['children'][0]['age'] # we can get the age of the first child by using key"
   ]
  },
  {
   "cell_type": "code",
   "execution_count": null,
   "metadata": {
    "colab": {
     "base_uri": "https://localhost:8080/"
    },
    "id": "mEovVJ-H2MYE",
    "outputId": "9a7bb4b9-6585-474f-ba27-39325446114c"
   },
   "outputs": [
    {
     "name": "stdout",
     "output_type": "stream",
     "text": [
      "Alice is 7 years old\n"
     ]
    }
   ],
   "source": [
    "# we could save this data into a variable and so on\n",
    "alices_age = mydata['children'][0]['age']\n",
    "print(f\"Alice is {alices_age} years old\")"
   ]
  },
  {
   "cell_type": "code",
   "execution_count": 12,
   "metadata": {
    "colab": {
     "base_uri": "https://localhost:8080/"
    },
    "id": "M37pG1pGZ2Dy",
    "outputId": "f150f5a3-0523-43d9-cc61-f5e36bcb3edc"
   },
   "outputs": [
    {
     "data": {
      "text/plain": [
       "dict_keys(['firstName', 'lastName', 'hobbies', 'age', 'children'])"
      ]
     },
     "execution_count": 12,
     "metadata": {},
     "output_type": "execute_result"
    }
   ],
   "source": [
    "mydata.keys()  # outer dictionary has 5 keys"
   ]
  },
  {
   "cell_type": "code",
   "execution_count": 13,
   "metadata": {
    "colab": {
     "base_uri": "https://localhost:8080/"
    },
    "id": "HaQ25u5tZzD6",
    "outputId": "f0a33344-983f-4e89-ef6c-101e4b307c22"
   },
   "outputs": [
    {
     "data": {
      "text/plain": [
       "dict_keys(['firstName', 'age'])"
      ]
     },
     "execution_count": 13,
     "metadata": {},
     "output_type": "execute_result"
    }
   ],
   "source": [
    "mydata['children'][0].keys() # inner dictionary has 2 keys"
   ]
  },
  {
   "cell_type": "code",
   "execution_count": null,
   "metadata": {
    "id": "PO6kHXb-zFqC"
   },
   "outputs": [],
   "source": []
  },
  {
   "cell_type": "code",
   "execution_count": 14,
   "metadata": {
    "colab": {
     "base_uri": "https://localhost:8080/",
     "height": 35
    },
    "id": "Kg5cQ60dWH8E",
    "outputId": "c33fc1c3-9ade-4e74-d6c0-a4aadc1917b7"
   },
   "outputs": [
    {
     "data": {
      "application/vnd.google.colaboratory.intrinsic+json": {
       "type": "string"
      },
      "text/plain": [
       "'Alice'"
      ]
     },
     "execution_count": 14,
     "metadata": {},
     "output_type": "execute_result"
    }
   ],
   "source": [
    "mydata['children'][0]['firstName']\n",
    "# so how do we know there is name, well we had to investiage the structure first\n"
   ]
  },
  {
   "cell_type": "code",
   "execution_count": null,
   "metadata": {
    "id": "PqYeDZVxWH8F",
    "outputId": "4f1113f8-6fb0-46c2-b753-9ffa9dfa19d6"
   },
   "outputs": [
    {
     "data": {
      "text/plain": [
       "dict_keys(['firstName', 'age'])"
      ]
     },
     "execution_count": 12,
     "metadata": {},
     "output_type": "execute_result"
    }
   ],
   "source": [
    "mydata['children'][0].keys()"
   ]
  },
  {
   "cell_type": "code",
   "execution_count": 15,
   "metadata": {
    "colab": {
     "base_uri": "https://localhost:8080/"
    },
    "id": "ZUJb8BdfWH8F",
    "outputId": "422603cf-728e-40a7-9f8f-ad2e373d1bdd"
   },
   "outputs": [
    {
     "name": "stdout",
     "output_type": "stream",
     "text": [
      "firstName :: Bob\n",
      "age :: 13\n"
     ]
    }
   ],
   "source": [
    "# so for random dictionary we could have printed everything for 2nd child with\n",
    "for key, value in mydata['children'][1].items(): # 1 because indexing starts with 0\n",
    "    print(key, \"::\", value)"
   ]
  },
  {
   "cell_type": "code",
   "execution_count": null,
   "metadata": {
    "colab": {
     "base_uri": "https://localhost:8080/"
    },
    "id": "1GNIe9JaaJEj",
    "outputId": "235654e9-abb3-4a3f-fbe4-ec09a39af09a"
   },
   "outputs": [
    {
     "name": "stdout",
     "output_type": "stream",
     "text": [
      "firstName :: Jane\n",
      "lastName :: Doe\n",
      "hobbies :: ['running', 'sky diving', 'dancing']\n",
      "age :: 43\n",
      "children :: [{'firstName': 'Alice', 'age': 7}, {'firstName': 'Bob', 'age': 13}]\n"
     ]
    }
   ],
   "source": [
    "for key, value in mydata.items():\n",
    "    print(key, \"::\", value)"
   ]
  },
  {
   "cell_type": "code",
   "execution_count": null,
   "metadata": {
    "id": "pvNGdlsRzFqD"
   },
   "outputs": [],
   "source": [
    "# so one of the issues with dealing with data extraced from deeply nested JSON is that\n",
    "# you have to know the structure of the data before you can access it\n",
    "# even then you can't flatten it out into a table without some concessions"
   ]
  },
  {
   "cell_type": "code",
   "execution_count": null,
   "metadata": {
    "colab": {
     "base_uri": "https://localhost:8080/"
    },
    "id": "ofF5aiigWH8F",
    "outputId": "2786657f-0958-4ff5-e3ed-4b3691a9d62c"
   },
   "outputs": [
    {
     "data": {
      "text/plain": [
       "13"
      ]
     },
     "execution_count": 15,
     "metadata": {},
     "output_type": "execute_result"
    }
   ],
   "source": [
    "mydata['children'][-1]['age']"
   ]
  },
  {
   "cell_type": "code",
   "execution_count": 18,
   "metadata": {
    "colab": {
     "base_uri": "https://localhost:8080/"
    },
    "id": "bqVgnlu6WH8F",
    "outputId": "d085f18b-33d8-41cc-80ac-4182fdd11cde"
   },
   "outputs": [
    {
     "data": {
      "text/plain": [
       "['running', 'sky diving', 'dancing']"
      ]
     },
     "execution_count": 18,
     "metadata": {},
     "output_type": "execute_result"
    }
   ],
   "source": [
    "# remember for dictionaries get method will not throw an error if key is not found\n",
    "mydata.get('hobbies') # get has the default value None if the key is not found"
   ]
  },
  {
   "cell_type": "code",
   "execution_count": 14,
   "metadata": {
    "colab": {
     "base_uri": "https://localhost:8080/",
     "height": 178
    },
    "id": "ypAjPvXkaZG9",
    "outputId": "bc9b4085-a5a5-43ea-dbd2-3716638d8d3d"
   },
   "outputs": [
    {
     "name": "stdout",
     "output_type": "stream",
     "text": [
      "KeyError: 'car'\n"
     ]
    }
   ],
   "source": [
    "try:\n",
    "    print(mydata['car'])\n",
    "except KeyError as e:\n",
    "    print(\"KeyError:\", e)"
   ]
  },
  {
   "cell_type": "code",
   "execution_count": 20,
   "metadata": {
    "id": "c5ANGdWSacdD"
   },
   "outputs": [],
   "source": [
    "mydata.get(\"car\") # gives us None if not found"
   ]
  },
  {
   "cell_type": "code",
   "execution_count": null,
   "metadata": {
    "id": "0WUiK7wEzFqE"
   },
   "outputs": [],
   "source": [
    "# JSON does not require any specific order of keys\n",
    "# no specific structure of data - convenient but not always easy to work with"
   ]
  },
  {
   "cell_type": "code",
   "execution_count": 21,
   "metadata": {
    "colab": {
     "base_uri": "https://localhost:8080/"
    },
    "id": "WDU7gQnJWH8G",
    "outputId": "49e7d319-e6fc-483f-dcb9-a8ffb7d95f83"
   },
   "outputs": [
    {
     "data": {
      "text/plain": [
       "('dancing', 'dancing', 'dancing')"
      ]
     },
     "execution_count": 21,
     "metadata": {},
     "output_type": "execute_result"
    }
   ],
   "source": [
    "mydata.get('hobbies')[-1],mydata['hobbies'][-1],mydata['hobbies'][2]  # so 3 ways to access the same item"
   ]
  },
  {
   "cell_type": "code",
   "execution_count": null,
   "metadata": {
    "id": "tXIgqEp_WH8G"
   },
   "outputs": [],
   "source": [
    "# list has no get [1,2,3].get(2) get is dictionary specific not for lists!"
   ]
  },
  {
   "cell_type": "code",
   "execution_count": null,
   "metadata": {
    "id": "zQ3Zu6oazFqE"
   },
   "outputs": [],
   "source": [
    "# until now we have been dealing with data stored in a dictionary\n",
    "# now we are going to write data to a file in JSON format"
   ]
  },
  {
   "cell_type": "markdown",
   "metadata": {
    "id": "7bKJgKRQ3fTA"
   },
   "source": [
    "## Serialization - encoding Python data to JSON\n"
   ]
  },
  {
   "cell_type": "markdown",
   "metadata": {
    "id": "EY1ny3GqWH8H"
   },
   "source": [
    "The process of encoding JSON is usually called serialization. This term refers to the transformation of data into a series of bytes (hence serial) to be stored or transmitted across a network. You may also hear the term marshaling, but that’s a whole other discussion. Naturally, deserialization is the reciprocal process of decoding data that has been stored or delivered in the JSON standard.\n",
    "\n",
    "All we’re talking about here is reading and writing. Think of it like this: encoding is for writing data to disk, while decoding is for reading data into memory.\n",
    " https://realpython.com/python-json/"
   ]
  },
  {
   "cell_type": "code",
   "execution_count": 15,
   "metadata": {
    "colab": {
     "base_uri": "https://localhost:8080/"
    },
    "id": "9x3bi5UHWH8H",
    "outputId": "110e67c1-7ddb-46a9-9b0d-7c187a730484"
   },
   "outputs": [
    {
     "data": {
      "text/plain": [
       "{'firstName': 'Jane',\n",
       " 'lastName': 'Doe',\n",
       " 'hobbies': ['running', 'sky diving', 'dancing'],\n",
       " 'age': 43,\n",
       " 'children': [{'firstName': 'Alice', 'age': 7},\n",
       "  {'firstName': 'Bob', 'age': 13}]}"
      ]
     },
     "execution_count": 15,
     "metadata": {},
     "output_type": "execute_result"
    }
   ],
   "source": [
    "mydata # simply a PYthon dictionary with some lists inside etc\n",
    "# theoretically I could copy and paste the output here into a text file and it would be valid JSOn\n",
    "# however that is not always going to be the case due to small differences\n",
    "# also it is not very practical especially for bigger data amounts"
   ]
  },
  {
   "cell_type": "code",
   "execution_count": 16,
   "metadata": {
    "id": "abP2zk_6WH8H"
   },
   "outputs": [],
   "source": [
    "# we need a library for decoding and encoding json\n",
    "# json is built into any standard Python installation\n",
    "import json # part of Standard Library\n",
    "# need to only import once per script / notebook"
   ]
  },
  {
   "cell_type": "code",
   "execution_count": 17,
   "metadata": {},
   "outputs": [
    {
     "data": {
      "text/plain": [
       "'{\"firstName\": \"Jane\", \"lastName\": \"Doe\", \"hobbies\": [\"running\", \"sky diving\", \"dancing\"], \"age\": 43, \"children\": [{\"firstName\": \"Alice\", \"age\": 7}, {\"firstName\": \"Bob\", \"age\": 13}]}'"
      ]
     },
     "execution_count": 17,
     "metadata": {},
     "output_type": "execute_result"
    }
   ],
   "source": [
    "# let's create a json string out of mydata\n",
    "json_data = json.dumps(mydata) # dumps is short for dump string\n",
    "json_data"
   ]
  },
  {
   "cell_type": "code",
   "execution_count": 18,
   "metadata": {},
   "outputs": [
    {
     "name": "stdout",
     "output_type": "stream",
     "text": [
      "Type of mydata: <class 'dict'>\n",
      "Type of json_data: <class 'str'>\n"
     ]
    }
   ],
   "source": [
    "# so again we have mydata which is a Python dictionary\n",
    "# and json_data which is a string in JSON format - matches the JSON format specification\n",
    "print(f\"Type of mydata: {type(mydata)}\")\n",
    "print(f\"Type of json_data: {type(json_data)}\")"
   ]
  },
  {
   "cell_type": "code",
   "execution_count": 19,
   "metadata": {
    "id": "EOdlGAfoWH8I"
   },
   "outputs": [],
   "source": [
    "# first we are going to dump our data into a text file\n",
    "# we will use with context manager to open and close the file for safety\n",
    "# instead of \"data_file.json\" any normal file name would do\n",
    "# it is not required that you use .json extension but it would certainly make the most sense here\n",
    "# technically it is going to be just a text file\n",
    "with open(\"data_file.json\", mode=\"w\") as write_file: # w means write\n",
    "    json.dump(mydata, write_file) # so mydata is going to be written here\n",
    "    # mydata will typically be dictionary or list - which can have more inside\n",
    "    # but technically it could be a string  (then you would get a normal text file)\n",
    "    # or  single number but that would be very tiny json file :)\n",
    "# remember that stream is closed here and file is written by now"
   ]
  },
  {
   "cell_type": "markdown",
   "metadata": {},
   "source": [
    "### Saving indented JSON to a file\n",
    "\n"
   ]
  },
  {
   "cell_type": "code",
   "execution_count": 20,
   "metadata": {
    "id": "6h_P81wDWH8I"
   },
   "outputs": [],
   "source": [
    "# this will be nicer for humans to read\n",
    "with open(\"data_file_indented.json\", mode=\"w\") as write_file:\n",
    "    json.dump(mydata, write_file, indent=4) # so mydata could be aANY standard python data structure"
   ]
  },
  {
   "cell_type": "code",
   "execution_count": 21,
   "metadata": {
    "colab": {
     "base_uri": "https://localhost:8080/",
     "height": 53
    },
    "id": "YCrY2X86WH8I",
    "outputId": "ba7283d2-c084-4fb5-97af-7f67949000a4"
   },
   "outputs": [
    {
     "data": {
      "text/plain": [
       "'{\\n    \"firstName\": \"Jane\",\\n    \"lastName\": \"Doe\",\\n    \"hobbies\": [\\n        \"running\",\\n        \"sky diving\",\\n        \"dancing\"\\n    ],\\n    \"age\": 43,\\n  '"
      ]
     },
     "execution_count": 21,
     "metadata": {},
     "output_type": "execute_result"
    }
   ],
   "source": [
    "# again .json files are just text files\n",
    "# so if we read the file we will get a string\n",
    "with open(\"data_file_indented.json\") as f:\n",
    "    raw_txt = f.read()\n",
    "raw_txt[:150] # so again raw JSON is just text"
   ]
  },
  {
   "cell_type": "code",
   "execution_count": 22,
   "metadata": {
    "colab": {
     "base_uri": "https://localhost:8080/"
    },
    "id": "6dCiqVxLWH8I",
    "outputId": "046c8554-cf93-4e1a-e817-4e2b41309f04"
   },
   "outputs": [
    {
     "data": {
      "text/plain": [
       "str"
      ]
     },
     "execution_count": 22,
     "metadata": {},
     "output_type": "execute_result"
    }
   ],
   "source": [
    "type(raw_txt)"
   ]
  },
  {
   "cell_type": "code",
   "execution_count": 23,
   "metadata": {
    "colab": {
     "base_uri": "https://localhost:8080/"
    },
    "id": "TvXUKD4ycAJg",
    "outputId": "0ba48f1c-cc84-4453-9884-eea03beb4c66"
   },
   "outputs": [
    {
     "name": "stdout",
     "output_type": "stream",
     "text": [
      "{\n",
      "    \"firstName\": \"Jane\",\n",
      "    \"lastName\": \"Doe\",\n",
      "    \"hobbies\": [\n",
      "        \"running\",\n",
      "        \"sky diving\",\n",
      "        \"dancing\"\n",
      "    ],\n",
      "    \"age\": 43,\n",
      "    \"children\": [\n",
      "        {\n",
      "            \"firstName\": \"Alice\",\n",
      "            \"age\": 7\n",
      "        },\n",
      "        {\n",
      "            \"firstName\": \"Bob\",\n",
      "            \"age\": 13\n",
      "        }\n",
      "    ]\n",
      "}\n"
     ]
    }
   ],
   "source": [
    "print(raw_txt)"
   ]
  },
  {
   "cell_type": "code",
   "execution_count": null,
   "metadata": {
    "id": "97DMdidSzFqK"
   },
   "outputs": [],
   "source": [
    "# deserialization - converting JSON text into Python(or other programming language) data structure\n",
    "# why would you want to do that?\n",
    "# because you want to work with the data in Python - and working with strings is not very convenient\n",
    "# we want the structure of the data to be preserved"
   ]
  },
  {
   "cell_type": "markdown",
   "metadata": {
    "id": "tyz2k4Fh5m_R"
   },
   "source": [
    "## Deserializing, decoding raw JSON text into Python data format"
   ]
  },
  {
   "cell_type": "code",
   "execution_count": 25,
   "metadata": {
    "colab": {
     "base_uri": "https://localhost:8080/"
    },
    "id": "uYDLUD-2WH8I",
    "outputId": "994263db-38f3-46e8-8bb2-5ea93150ec02"
   },
   "outputs": [
    {
     "name": "stdout",
     "output_type": "stream",
     "text": [
      "The type of my_data_decoded is <class 'dict'>\n"
     ]
    }
   ],
   "source": [
    "# parse, deserialize, decode from json string into Python Data structure\n",
    "# this is if you have a string that meets JSON format specification\n",
    "my_data_decoded = json.loads(raw_txt) # raw_txt is a string\n",
    "print(f\"The type of my_data_decoded is {type(my_data_decoded)}\")\n",
    "# typically we will be using json.load for reading json from files not strings"
   ]
  },
  {
   "cell_type": "code",
   "execution_count": 27,
   "metadata": {
    "colab": {
     "base_uri": "https://localhost:8080/"
    },
    "id": "Vlx_ac2PWH8I",
    "outputId": "723f0f38-c4b9-4fe2-aceb-62bfc5334135"
   },
   "outputs": [
    {
     "data": {
      "text/plain": [
       "dict_keys(['firstName', 'lastName', 'hobbies', 'age', 'children'])"
      ]
     },
     "execution_count": 27,
     "metadata": {},
     "output_type": "execute_result"
    }
   ],
   "source": [
    "my_data_decoded.keys()"
   ]
  },
  {
   "cell_type": "code",
   "execution_count": 28,
   "metadata": {
    "colab": {
     "base_uri": "https://localhost:8080/"
    },
    "id": "nvbPEI_zWH8J",
    "outputId": "cdc14cd5-dcc6-45e7-bd1d-086038d2d800"
   },
   "outputs": [
    {
     "data": {
      "text/plain": [
       "[{'firstName': 'Alice', 'age': 7}, {'firstName': 'Bob', 'age': 13}]"
      ]
     },
     "execution_count": 28,
     "metadata": {},
     "output_type": "execute_result"
    }
   ],
   "source": [
    "my_data_decoded['children']"
   ]
  },
  {
   "cell_type": "code",
   "execution_count": 33,
   "metadata": {
    "colab": {
     "base_uri": "https://localhost:8080/"
    },
    "id": "ozIrcT6ecbUj",
    "outputId": "31470571-5fdd-430a-fcbe-2364495d0c08"
   },
   "outputs": [
    {
     "data": {
      "text/plain": [
       "{'firstName': 'Čarlijs', 'age': 14}"
      ]
     },
     "execution_count": 33,
     "metadata": {},
     "output_type": "execute_result"
    }
   ],
   "source": [
    "charlie = {'firstName': 'Čarlijs','age': 14 }  # new dictionary  with 2 keys-value pairs\n",
    "charlie  #this dictionary is not in JSON format, it is not related to JSON at all\n",
    "# so this will apply to any non English language that uses Unicode characters beyond 255"
   ]
  },
  {
   "cell_type": "code",
   "execution_count": 34,
   "metadata": {
    "colab": {
     "base_uri": "https://localhost:8080/"
    },
    "id": "uFU5Xoylc0Ho",
    "outputId": "858a4e1c-e583-4bbc-f973-eb2d8a0ce956"
   },
   "outputs": [
    {
     "name": "stdout",
     "output_type": "stream",
     "text": [
      "Type of my_data_decoded['children']: <class 'list'>\n"
     ]
    }
   ],
   "source": [
    "# now my_data_decoded has a key children which is a list of dictionaries\n",
    "print(\"Type of my_data_decoded['children']:\", type(my_data_decoded['children']))"
   ]
  },
  {
   "cell_type": "code",
   "execution_count": 35,
   "metadata": {
    "id": "qi3lHbrVct25"
   },
   "outputs": [],
   "source": [
    "# let me only keep the first two children in the list\n",
    "my_data_decoded['children'] = my_data_decoded['children'][:2] # we do not want the old charlie in the list\n",
    "# we can use good old append method to add a new dictionary to the list\n",
    "my_data_decoded['children'].append(charlie)"
   ]
  },
  {
   "cell_type": "code",
   "execution_count": 36,
   "metadata": {
    "colab": {
     "base_uri": "https://localhost:8080/"
    },
    "id": "7GYz5B44c8AO",
    "outputId": "0ef9af57-f18e-4422-8f56-eac804942883"
   },
   "outputs": [
    {
     "data": {
      "text/plain": [
       "{'firstName': 'Jane',\n",
       " 'lastName': 'Doe',\n",
       " 'hobbies': ['running', 'sky diving', 'dancing'],\n",
       " 'age': 43,\n",
       " 'children': [{'firstName': 'Alice', 'age': 7},\n",
       "  {'firstName': 'Bob', 'age': 13},\n",
       "  {'firstName': 'Čarlijs', 'age': 14}]}"
      ]
     },
     "execution_count": 36,
     "metadata": {},
     "output_type": "execute_result"
    }
   ],
   "source": [
    "my_data_decoded"
   ]
  },
  {
   "cell_type": "code",
   "execution_count": 37,
   "metadata": {
    "colab": {
     "base_uri": "https://localhost:8080/"
    },
    "id": "L9SrmcGac_5y",
    "outputId": "3dae0f64-648a-4b10-8f69-cc483bf2c48f"
   },
   "outputs": [],
   "source": [
    "my_data_decoded['hobbies'].append('šahs')  #šahs - chess in Latvian\n",
    "my_data_decoded['hobbies'].append('šūpošanās') # šūpoles - swings in Latvian"
   ]
  },
  {
   "cell_type": "code",
   "execution_count": 38,
   "metadata": {
    "colab": {
     "base_uri": "https://localhost:8080/"
    },
    "id": "a3t2iVcSdpxQ",
    "outputId": "762f3fc5-33c7-4179-8629-faedf252fe49"
   },
   "outputs": [
    {
     "data": {
      "text/plain": [
       "{'firstName': 'Jane',\n",
       " 'lastName': 'Doe',\n",
       " 'hobbies': ['running', 'sky diving', 'dancing', 'šahs', 'šūpošanās'],\n",
       " 'age': 43,\n",
       " 'children': [{'firstName': 'Alice', 'age': 7},\n",
       "  {'firstName': 'Bob', 'age': 13},\n",
       "  {'firstName': 'Čarlijs', 'age': 14}],\n",
       " 'car': 'Ņiva'}"
      ]
     },
     "execution_count": 38,
     "metadata": {},
     "output_type": "execute_result"
    }
   ],
   "source": [
    "# I am adding a new key-value pair to the dictionary\n",
    "my_data_decoded[\"car\"] = \"Ņiva\" # i am trying to make a point about Unicode\n",
    "my_data_decoded"
   ]
  },
  {
   "cell_type": "code",
   "execution_count": 39,
   "metadata": {
    "id": "Zva7UdYWd6wi"
   },
   "outputs": [],
   "source": [
    "# so i will save the freshly updated data to a file\n",
    "# not everything is in English!\n",
    "with open(\"data_file_indented_ascii.json\", mode=\"w\") as f_stream:\n",
    "    json.dump(my_data_decoded, f_stream, indent=4)"
   ]
  },
  {
   "cell_type": "markdown",
   "metadata": {},
   "source": [
    "### Saving indented JSON with UTF-8 encoding to a file"
   ]
  },
  {
   "cell_type": "code",
   "execution_count": 40,
   "metadata": {
    "id": "z22GhigGfIFZ"
   },
   "outputs": [],
   "source": [
    "# so if we want to save data that contains Unicode\n",
    "# in UTF-8 encoding we need to specify it\n",
    "# this is the recipe to use if you want to save in Unicode\n",
    "with open(\"data_file_indented_unicode.json\", mode=\"w\", encoding=\"UTF-8\") as f_stream:\n",
    "    json.dump(my_data_decoded, f_stream, indent=4, ensure_ascii=False) # I want to see Unicode"
   ]
  },
  {
   "cell_type": "code",
   "execution_count": null,
   "metadata": {
    "id": "C-Pkq1kLdKtm"
   },
   "outputs": [],
   "source": [
    "# three are no strict restriction on what we append to our lists\n",
    "# in the previous example I could have added a number or another list, not necessarily a string\n"
   ]
  },
  {
   "cell_type": "markdown",
   "metadata": {
    "id": "wMVxyrdJ62KB"
   },
   "source": [
    "## Loading data from JSON file immediately into memory"
   ]
  },
  {
   "cell_type": "code",
   "execution_count": 41,
   "metadata": {
    "colab": {
     "base_uri": "https://localhost:8080/"
    },
    "id": "eqccVABvWH8J",
    "outputId": "c7386bfc-3cd7-424b-e9ea-4aa5c8058b0a"
   },
   "outputs": [
    {
     "name": "stdout",
     "output_type": "stream",
     "text": [
      "Type of my_data_2: <class 'dict'>\n"
     ]
    }
   ],
   "source": [
    "# more often we will load json immediately\n",
    "with open(\"data_file_indented_unicode.json\", encoding=\"utf-8\") as file_stream:\n",
    "    my_data_2 = json.load(file_stream) # if json is malformed then you will get some sort of error\n",
    "print(f\"Type of my_data_2: {type(my_data_2)}\")"
   ]
  },
  {
   "cell_type": "code",
   "execution_count": 42,
   "metadata": {
    "colab": {
     "base_uri": "https://localhost:8080/"
    },
    "id": "T50B-x-lzFqM",
    "outputId": "0c3ee2d8-09a5-4019-c639-318186c905b8"
   },
   "outputs": [
    {
     "data": {
      "text/plain": [
       "{'firstName': 'Jane',\n",
       " 'lastName': 'Doe',\n",
       " 'hobbies': ['running', 'sky diving', 'dancing', 'šahs', 'šūpošanās'],\n",
       " 'age': 43,\n",
       " 'children': [{'firstName': 'Alice', 'age': 7},\n",
       "  {'firstName': 'Bob', 'age': 13},\n",
       "  {'firstName': 'Čarlijs', 'age': 14}],\n",
       " 'car': 'Ņiva'}"
      ]
     },
     "execution_count": 42,
     "metadata": {},
     "output_type": "execute_result"
    }
   ],
   "source": [
    "my_data_2"
   ]
  },
  {
   "cell_type": "code",
   "execution_count": 45,
   "metadata": {
    "colab": {
     "base_uri": "https://localhost:8080/"
    },
    "id": "E6AHHdqmWH8J",
    "outputId": "7ba4e0f3-0cbf-4db9-ec02-796f38595c55"
   },
   "outputs": [
    {
     "name": "stdout",
     "output_type": "stream",
     "text": [
      "Contents of my_data_decoded and my_data_2 are same? True\n",
      "Objects holding data are same in memory? False\n"
     ]
    }
   ],
   "source": [
    "# contents are the same but two different objects\n",
    "# contents are equal but not the same\n",
    "# like two shopping bags with the same contents, same milk, same bread, same eggs\n",
    "print(\"Contents of my_data_decoded and my_data_2 are same?\", my_data_decoded == my_data_2)\n",
    "# so == checks that the contents are the same\n",
    "print(\"Objects holding data are same in memory?\", my_data_decoded is my_data_2) \n",
    "# is checks that they are the same object in memory"
   ]
  },
  {
   "cell_type": "markdown",
   "metadata": {},
   "source": [
    "## Mapping JSON to Python Data Types and vice versa\n",
    "\n",
    "Let's show a table of mapping between JSON and Python data types\n",
    "\n",
    "| JSON | Python |\n",
    "|------|--------|\n",
    "| object | dict |\n",
    "| array | list |\n",
    "| string | str |\n",
    "| number (int) | int |\n",
    "| number (real) | float |\n",
    "| true | True |\n",
    "| false | False |\n",
    "| null | None |\n",
    "\n",
    "#### Now Python to JSON\n",
    "\n",
    "| Python | JSON |\n",
    "|--------|------|\n",
    "| dict | object |\n",
    "| list, tuple | array |\n",
    "| str | string |\n",
    "| int, float | number |\n",
    "| True | true |\n",
    "| False | false |\n",
    "| None | null |\n"
   ]
  },
  {
   "cell_type": "code",
   "execution_count": null,
   "metadata": {
    "id": "asQLeIY6zFqO"
   },
   "outputs": [],
   "source": [
    "# there is a mapping of Python data types to JSON data types\n",
    "# Python data type  JSON data type\n",
    "# dict              object\n",
    "# list, tuple       array\n",
    "# str               string\n",
    "# int, float        number\n",
    "# True              true\n",
    "# False             false\n",
    "# None              null\n",
    "\n",
    "# notice that JSON is more limited than Python\n",
    "# not everything can be converted to JSON without loss of information\n",
    "# for example tuples are converted to lists and you can't tell the difference\n",
    "\n",
    "# another limitation is that JSON does not allow for comments!\n",
    "# there have been recommendations to use JSON5 but it is not widely adopted"
   ]
  },
  {
   "cell_type": "markdown",
   "metadata": {},
   "source": [
    "### Additions to JSON\n",
    "\n",
    "There have been some proposals that include comments and other features to JSON. These are not part of the JSON standard. However, there are some libraries that allow for these features."
   ]
  },
  {
   "cell_type": "code",
   "execution_count": null,
   "metadata": {
    "id": "wQpS5ukBzFqO"
   },
   "outputs": [],
   "source": [
    "# uses of JSON\n",
    "\n",
    "# JSON is used for data interchange between web applications\n",
    "# also used for data interchange between web applications and mobile applications\n",
    "# also used for settings files, configuration files, data files\n",
    "# there are databases that use JSON as a data storage format\n",
    "# there are databases that use JSON as a query language\n",
    "\n",
    "# here we are interested in using JSON as a data interchange format\n",
    "# to obtain data from a web application / page"
   ]
  },
  {
   "cell_type": "markdown",
   "metadata": {
    "id": "5w_ZMBAV85Sn"
   },
   "source": [
    "## API  in general - JSON APIs"
   ]
  },
  {
   "cell_type": "code",
   "execution_count": null,
   "metadata": {
    "id": "v5z7BWClzFqO"
   },
   "outputs": [],
   "source": [
    "# API - Application Programming Interface, a set of functions that allow you to interact with an application\n",
    "# JSON API - a set of functions that allow you to interact with an application using JSON\n",
    "\n",
    "# extremely popular way to interact with web applications\n",
    "# why ? because it is simple and easy to use\n",
    "\n",
    "# there are more difficult ways to interact with web applications"
   ]
  },
  {
   "cell_type": "code",
   "execution_count": 46,
   "metadata": {
    "id": "nATV64imWH8K"
   },
   "outputs": [
    {
     "name": "stdout",
     "output_type": "stream",
     "text": [
      "requests library is installed and is version: 2.31.0\n"
     ]
    }
   ],
   "source": [
    "try:\n",
    "    import requests\n",
    "    print(\"requests library is installed and is version:\", requests.__version__)\n",
    "except ImportError as e:\n",
    "    print(\"requests library is not installed\")\n",
    "    print(\"pip install requests from a terminal\")\n",
    "    print(\"on Jupyter you can use !pip install requests\")\n",
    "    print(\"https://pypi.org/project/requests/\")\n",
    "    print(\"https://requests.readthedocs.io/en/master/\")\n",
    "\n",
    "# this library is not included with Python but is very popular and comes with Anaconda\n",
    "# requests bundles the standard library urllib3 and adds some convenience functions\n",
    "# requests is also included with Google Colab\n",
    "# pip install requests otherwise in a terminal\n",
    "# above would be line on local machine\n",
    "# more on requests: https://pypi.org/project/requests/\n"
   ]
  },
  {
   "cell_type": "markdown",
   "metadata": {
    "id": "h_VghUE_94xl"
   },
   "source": [
    "### Making a web get request using requests library"
   ]
  },
  {
   "cell_type": "code",
   "execution_count": 47,
   "metadata": {},
   "outputs": [
    {
     "name": "stdout",
     "output_type": "stream",
     "text": [
      "URL: https://jsonplaceholder.typicode.com/users\n"
     ]
    }
   ],
   "source": [
    "url = \"https://jsonplaceholder.typicode.com/users\" # this is a public API\n",
    "# url - uniform resource locator\n",
    "# uri - uniform resource identifier\n",
    "# url vs uri - https://stackoverflow.com/questions/176264/what-is-the-difference-between-a-uri-a-url-and-a-uri\n",
    "print(\"URL:\", url)"
   ]
  },
  {
   "cell_type": "markdown",
   "metadata": {},
   "source": [
    "### Basic Requests Workflow\n",
    "\n",
    "* Import the requests library\n",
    "* Use the requests.get() method to make a GET request to the API\n",
    "* Check the status code of the response to ensure the request was successful\n",
    "* Use the .json() method to convert the response to a JSON object\n",
    "* Use the JSON object to access the data returned by the API"
   ]
  },
  {
   "cell_type": "code",
   "execution_count": 48,
   "metadata": {
    "colab": {
     "base_uri": "https://localhost:8080/"
    },
    "id": "docYXOG0iidq",
    "outputId": "55509642-77f8-4bc4-e862-ff62ef655996"
   },
   "outputs": [
    {
     "name": "stdout",
     "output_type": "stream",
     "text": [
      "200\n"
     ]
    }
   ],
   "source": [
    "# basic requests workflow\n",
    "\n",
    "response = requests.get(url) # so this is a GET request similar to what happens when web browser loads a page\n",
    "# so get method returns a response object, it made a network request to the server at that url\n",
    "print(response.status_code) # Response Code 200 is good\n",
    "# in your notebooks you might want to include something like assert or if statement\n",
    "assert response.status_code == 200 # this would give you error if response is not 200\n",
    "# idea is to stop your notebook if you are running All code sells from top to bottom\n",
    "# assert does nothing if the evaluation is True"
   ]
  },
  {
   "cell_type": "code",
   "execution_count": null,
   "metadata": {
    "id": "prE1LCXMzFqO"
   },
   "outputs": [],
   "source": [
    "# list of HTTP response codes\n",
    "# https://en.wikipedia.org/wiki/List_of_HTTP_status_codes\n",
    "# 404 - not found\n",
    "# 500 - internal server error\n",
    "# 200 - OK\n",
    "# 4xx - client error - it is our fault\n",
    "# 5xx - server error - it is the server's fault"
   ]
  },
  {
   "cell_type": "code",
   "execution_count": 49,
   "metadata": {
    "colab": {
     "base_uri": "https://localhost:8080/"
    },
    "id": "G2EGR1DLjGi8",
    "outputId": "55128f13-2ef9-48e6-93d3-89abbd5df13f"
   },
   "outputs": [
    {
     "name": "stdout",
     "output_type": "stream",
     "text": [
      "First 200 characters of the response: [\n",
      "  {\n",
      "    \"id\": 1,\n",
      "    \"name\": \"Leanne Graham\",\n",
      "    \"username\": \"Bret\",\n",
      "    \"email\": \"Sincere@april.biz\",\n",
      "    \"address\": {\n",
      "      \"street\": \"Kulas Light\",\n",
      "      \"suite\": \"Apt. 556\",\n",
      "      \"city\": \"Gwen\n"
     ]
    }
   ],
   "source": [
    "# let's print first 200 characters of the response\n",
    "print(f\"First 200 characters of the response: {response.text[:200]}\")"
   ]
  },
  {
   "cell_type": "code",
   "execution_count": 50,
   "metadata": {
    "colab": {
     "base_uri": "https://localhost:8080/"
    },
    "id": "vYF2pfqNjRec",
    "outputId": "5fc4ae14-04df-4e78-e895-e8a49e70cdb0"
   },
   "outputs": [
    {
     "name": "stdout",
     "output_type": "stream",
     "text": [
      "Type of users: <class 'list'>\n",
      "Got 10 users\n"
     ]
    }
   ],
   "source": [
    "# it would be much easier to work with this data if it was in a Python data structure\n",
    "# so requests provides a method to convert the response text into a Python data structure\n",
    "# use this if you know that the response is in JSON format\n",
    "users = response.json() # this will work if we requested a JSON resource (NOT HTML!!)\n",
    "print(f\"Type of users: {type(users)}\")\n",
    "print(f\"Got {len(users)} users\")\n",
    "\n",
    "# you can get an idea beforehand by peaking at first character of JSON text { -> dict, [ -> list"
   ]
  },
  {
   "cell_type": "code",
   "execution_count": 51,
   "metadata": {
    "colab": {
     "base_uri": "https://localhost:8080/"
    },
    "id": "pu0wlFz5jzIq",
    "outputId": "56536c9f-3e50-4810-ca92-4dcd9d362814"
   },
   "outputs": [
    {
     "data": {
      "text/plain": [
       "{'id': 10,\n",
       " 'name': 'Clementina DuBuque',\n",
       " 'username': 'Moriah.Stanton',\n",
       " 'email': 'Rey.Padberg@karina.biz',\n",
       " 'address': {'street': 'Kattie Turnpike',\n",
       "  'suite': 'Suite 198',\n",
       "  'city': 'Lebsackbury',\n",
       "  'zipcode': '31428-2261',\n",
       "  'geo': {'lat': '-38.2386', 'lng': '57.2232'}},\n",
       " 'phone': '024-648-3804',\n",
       " 'website': 'ambrose.net',\n",
       " 'company': {'name': 'Hoeger LLC',\n",
       "  'catchPhrase': 'Centralized empowering task-force',\n",
       "  'bs': 'target end-to-end models'}}"
      ]
     },
     "execution_count": 51,
     "metadata": {},
     "output_type": "execute_result"
    }
   ],
   "source": [
    "# now we just do regular Python things with the data\n",
    "# the web server has sent us a list of dictionaries after converting it to Python data structure\n",
    "users[-1] # last user"
   ]
  },
  {
   "cell_type": "code",
   "execution_count": 51,
   "metadata": {
    "colab": {
     "base_uri": "https://localhost:8080/"
    },
    "id": "r9HPL4-Mj-Yl",
    "outputId": "b934c01d-c3a9-4003-dfc8-8ac943785368"
   },
   "outputs": [
    {
     "data": {
      "text/plain": [
       "dict"
      ]
     },
     "execution_count": 51,
     "metadata": {},
     "output_type": "execute_result"
    }
   ],
   "source": [
    "type(users[-1]) # will be a dictionary"
   ]
  },
  {
   "cell_type": "markdown",
   "metadata": {
    "id": "qLN--vwn_xuE"
   },
   "source": [
    "### List of dictionaries\n",
    "\n",
    "Lists of dictionaries are often used to present data that was originally in tables\n",
    "Each row is an entry in list, then each entry is a dictionary\n",
    "and then each column name is key and each column value for that row is the value"
   ]
  },
  {
   "cell_type": "code",
   "execution_count": 52,
   "metadata": {
    "colab": {
     "base_uri": "https://localhost:8080/",
     "height": 35
    },
    "id": "b2ibYaqCkDti",
    "outputId": "69ed10b5-b64a-48be-b228-4cedf7a62eda"
   },
   "outputs": [
    {
     "data": {
      "text/plain": [
       "'Clementina DuBuque'"
      ]
     },
     "execution_count": 52,
     "metadata": {},
     "output_type": "execute_result"
    }
   ],
   "source": [
    "users[-1]['name']  # a string"
   ]
  },
  {
   "cell_type": "code",
   "execution_count": null,
   "metadata": {
    "id": "SXQasFbEkcyb"
   },
   "outputs": [],
   "source": [
    "# how could we get first and last?"
   ]
  },
  {
   "cell_type": "code",
   "execution_count": 53,
   "metadata": {
    "colab": {
     "base_uri": "https://localhost:8080/",
     "height": 35
    },
    "id": "5miRrIiWkXjI",
    "outputId": "78512a9f-2515-4e6b-bbd3-eda71c465e06"
   },
   "outputs": [
    {
     "data": {
      "text/plain": [
       "'Clementina DuBuque'"
      ]
     },
     "execution_count": 53,
     "metadata": {},
     "output_type": "execute_result"
    }
   ],
   "source": [
    "last_user_names = users[-1]['name']\n",
    "last_user_names"
   ]
  },
  {
   "cell_type": "code",
   "execution_count": 54,
   "metadata": {
    "colab": {
     "base_uri": "https://localhost:8080/"
    },
    "id": "SC3RU_bDkiMi",
    "outputId": "7323958f-a5e7-4a86-8b9b-7910ae7c6b75"
   },
   "outputs": [
    {
     "data": {
      "text/plain": [
       "['Clementina', 'DuBuque']"
      ]
     },
     "execution_count": 54,
     "metadata": {},
     "output_type": "execute_result"
    }
   ],
   "source": [
    "# now I could creata first and last name list\n",
    "name_list = last_user_names.split() # just a regular Python split method nothing to do with JSON\n",
    "name_list"
   ]
  },
  {
   "cell_type": "code",
   "execution_count": 55,
   "metadata": {
    "colab": {
     "base_uri": "https://localhost:8080/"
    },
    "id": "ikk4hxSNkqr0",
    "outputId": "cb96dfa2-f84e-4dbb-a8e8-f353e4968ec7"
   },
   "outputs": [
    {
     "data": {
      "text/plain": [
       "('Clementina', 'DuBuque')"
      ]
     },
     "execution_count": 55,
     "metadata": {},
     "output_type": "execute_result"
    }
   ],
   "source": [
    "first_name = name_list[0]\n",
    "last_name = name_list[-1]\n",
    "first_name, last_name"
   ]
  },
  {
   "cell_type": "code",
   "execution_count": 56,
   "metadata": {
    "colab": {
     "base_uri": "https://localhost:8080/",
     "height": 35
    },
    "id": "2L1MuMOFk4lA",
    "outputId": "939867b1-7e6b-4c79-b2e5-3684aef4fc7b"
   },
   "outputs": [
    {
     "data": {
      "text/plain": [
       "'-38.2386'"
      ]
     },
     "execution_count": 56,
     "metadata": {},
     "output_type": "execute_result"
    }
   ],
   "source": [
    "# so here latitute and longitude are strings\n",
    "# they are deeply nested in the data structure\n",
    "# list then dict then dict and one last dict\n",
    "# lattitude for the last user\n",
    "lat = users[-1]['address']['geo']['lat'] # so we have 3 levels of dictionaries here!!\n",
    "# it would be safer to use get method if you are not sure that the key exists\n",
    "lat # it is a string"
   ]
  },
  {
   "cell_type": "code",
   "execution_count": 60,
   "metadata": {
    "colab": {
     "base_uri": "https://localhost:8080/"
    },
    "id": "_kuCibmvlK_-",
    "outputId": "cc0b75c3-8ef2-41bb-cf0b-267463b51411"
   },
   "outputs": [
    {
     "data": {
      "text/plain": [
       "-38.2386"
      ]
     },
     "execution_count": 60,
     "metadata": {},
     "output_type": "execute_result"
    }
   ],
   "source": [
    "lat = float(lat) # another common issue is that often JSON numbers are actually strings\n",
    "# so check whether number is in quotes as in here\n",
    "lat # now it is a number, floating (with a comma)"
   ]
  },
  {
   "cell_type": "code",
   "execution_count": null,
   "metadata": {
    "id": "d_9V2BpLzFqR"
   },
   "outputs": [],
   "source": [
    "# not all APIs are free\n",
    "# many require API keys\n",
    "# those can be paid or free\n",
    "# you obtain keys from the service provider\n",
    "# in general\n",
    "# API keys should not be shown in public notebooks!\n",
    "# especially the paid ones\n",
    "# if you publicly share your Amazon AWS key expect a VERY LARGE BILL SOON - or a very long talk with your provider\n"
   ]
  },
  {
   "cell_type": "code",
   "execution_count": null,
   "metadata": {
    "id": "8N261nYUzFqR"
   },
   "outputs": [],
   "source": [
    "# mockaroo.com is a free service that provides fake data similar to what you would get from a real API\n",
    "# you can use it to test your code\n",
    "# but to use it you it is recommended to register and get an API key"
   ]
  },
  {
   "cell_type": "code",
   "execution_count": 58,
   "metadata": {
    "colab": {
     "base_uri": "https://localhost:8080/"
    },
    "id": "Yi2E4qmPWH8K",
    "outputId": "6786c769-a14a-4091-8948-5f7641cce6dd"
   },
   "outputs": [
    {
     "name": "stdout",
     "output_type": "stream",
     "text": [
      "URL: https://my.api.mockaroo.com/ageincluded.json?key=58227cb0\n"
     ]
    }
   ],
   "source": [
    "# we make a http request to a url and print the response code\n",
    "# url stands for uniform resource locator\n",
    "url = \"https://my.api.mockaroo.com/ageincluded.json?key=58227cb0\"\n",
    "# careful with publishing your API keys - they can be used to make requests on your behalf\n",
    "# in this case this key was registered by me and is not a secret, long time ago I used it for a course\n",
    "# there are many horror stories about people publishing their API keys and then getting charged for requests\n",
    "# so you should get your own API key and not use mine in general\n",
    "print(\"URL:\", url)\n",
    "# response = requests.get(url)\n",
    "# print(response.status_code) # Response Code 200 is good!"
   ]
  },
  {
   "cell_type": "markdown",
   "metadata": {
    "id": "E9EiYKZ4WH8K"
   },
   "source": [
    "### List of HTTP codes\n",
    "* 200 is OK - everything is as expected, we asked for resource and we got it\n",
    "* the most famous is 404 code for not found, most likely from typos or resource missing\n",
    "* https://en.wikipedia.org/wiki/List_of_HTTP_status_codes"
   ]
  },
  {
   "cell_type": "markdown",
   "metadata": {
    "id": "DnC302uXWH8T"
   },
   "source": [
    "can open https://jsonplaceholder.typicode.com/todos in regular browser too.."
   ]
  },
  {
   "cell_type": "markdown",
   "metadata": {
    "id": "9qJOgsygDR-i"
   },
   "source": [
    "### Passing URL parameters using requests"
   ]
  },
  {
   "cell_type": "code",
   "execution_count": null,
   "metadata": {
    "colab": {
     "base_uri": "https://localhost:8080/"
    },
    "id": "hdYUV3q1WH8c",
    "outputId": "1fed7e26-8967-45b6-9ee9-7990e3d1c313"
   },
   "outputs": [
    {
     "name": "stdout",
     "output_type": "stream",
     "text": [
      "Response code 200\n"
     ]
    },
    {
     "data": {
      "text/plain": [
       "[{'status': {'verified': None, 'sentCount': 0},\n",
       "  '_id': '641ec20d8023fe33f6a13bd6',\n",
       "  'user': '640603b3ebdaaca99be7edd5',\n",
       "  'text': 'Лплорпдоп.',\n",
       "  'type': 'cat',\n",
       "  'deleted': False,\n",
       "  'createdAt': '2023-03-25T09:42:37.023Z',\n",
       "  'updatedAt': '2023-03-25T09:42:37.023Z',\n",
       "  '__v': 0},\n",
       " {'status': {'verified': None, 'sentCount': 0},\n",
       "  '_id': '618a432d717216c55a0464e6',\n",
       "  'user': '618a4300717216c55a0464ae',\n",
       "  'text': 'Postman.',\n",
       "  'type': 'cat',\n",
       "  'deleted': False,\n",
       "  'createdAt': '2021-11-09T09:45:17.638Z',\n",
       "  'updatedAt': '2021-11-09T09:45:17.638Z',\n",
       "  '__v': 0},\n",
       " {'status': {'verified': True, 'sentCount': 1},\n",
       "  '_id': '591f98703b90f7150a19c15d',\n",
       "  '__v': 0,\n",
       "  'text': 'Most cats killed on the road are un-neutered toms, as they are more likely to roam further afield and cross busy roads.',\n",
       "  'source': 'api',\n",
       "  'updatedAt': '2020-08-23T20:20:01.611Z',\n",
       "  'type': 'cat',\n",
       "  'createdAt': '2018-01-04T01:10:54.673Z',\n",
       "  'deleted': False,\n",
       "  'used': False,\n",
       "  'user': '5a9ac18c7478810ea6c06381'}]"
      ]
     },
     "execution_count": 59,
     "metadata": {},
     "output_type": "execute_result"
    }
   ],
   "source": [
    "response = requests.get(\"https://cat-fact.herokuapp.com/facts/random\",\n",
    "                        params={\"animal_type\":\"cat\", \"amount\":20}) \n",
    "# of course the particular API has to support these parameters\n",
    "# you would have to look at the documentation\n",
    "if response.status_code != 200:\n",
    "    print(\"Bad Response: \", response.status_code)\n",
    "print(\"Response code\", response.status_code)\n",
    "# cats = json.loads(response.text)\n",
    "# simpler response.json()\n",
    "cats = response.json()\n",
    "cats[:3]"
   ]
  },
  {
   "cell_type": "code",
   "execution_count": null,
   "metadata": {
    "id": "lVQTSjAYWH8d"
   },
   "outputs": [],
   "source": [
    "## For authorization you generally need some sort of token(key)\n",
    "# One example for zendesk API  https://develop.zendesk.com/hc/en-us/community/posts/360001652447-API-auth-in-python\n",
    "\n",
    "\n",
    "# For an API token, append '/token' to your username and use the token as the password:\n",
    "## This will not work for those without zendesk access token\n",
    "\n",
    "# url = 'https://your_subdomain.zendesk.com/api/v2/users/123.json'\n",
    "# r = requests.get(url, auth=('user@example.com/token', 'your_token'))\n",
    "# # For an OAuth token, set an Authorization header:\n",
    "\n",
    "# bearer_token = 'Bearer ' + access_token\n",
    "# header = {'Authorization': bearer_token}\n",
    "# url = 'https://your_subdomain.zendesk.com/api/v2/users/123.json'\n",
    "# r = requests.get(url, headers=header)"
   ]
  },
  {
   "cell_type": "markdown",
   "metadata": {
    "id": "3jM0o9LoE0z-"
   },
   "source": [
    "### Function to read JSON from url"
   ]
  },
  {
   "cell_type": "code",
   "execution_count": 60,
   "metadata": {
    "id": "29FBclU0WH8d"
   },
   "outputs": [],
   "source": [
    "def read_JSON(url):\n",
    "    \"\"\"Simple wrapper function around requests\n",
    "    Argument: url - what you want to access\n",
    "    Returns: Python data structure parsed from JSON response\n",
    "    Returns NONE if non 200 response\n",
    "    \"\"\"\n",
    "    response = requests.get(url)\n",
    "    if response.status_code != 200:\n",
    "        print(\"Bad Response: \", response.status_code)\n",
    "        return None\n",
    "    print(\"Status CODE\", response.status_code)\n",
    "    return response.json() # easier than json.loads(response.text)\n"
   ]
  },
  {
   "cell_type": "code",
   "execution_count": 62,
   "metadata": {
    "colab": {
     "base_uri": "https://localhost:8080/"
    },
    "id": "2T3eZBPwWH8d",
    "outputId": "701002c6-1dba-4447-859e-f7c53a863762"
   },
   "outputs": [
    {
     "name": "stdout",
     "output_type": "stream",
     "text": [
      "Status CODE 200\n",
      "Type of rawdrinks: <class 'dict'>\n"
     ]
    }
   ],
   "source": [
    "rawdrinks = read_JSON(\"https://www.thecocktaildb.com/api/json/v1/1/search.php?s=margarita\")\n",
    "print(\"Type of rawdrinks:\", type(rawdrinks))"
   ]
  },
  {
   "cell_type": "code",
   "execution_count": 63,
   "metadata": {
    "colab": {
     "base_uri": "https://localhost:8080/"
    },
    "id": "Pp6eve3tWH8d",
    "outputId": "81b5abd0-65b5-4e0f-c7f5-7b179fdb6ba0"
   },
   "outputs": [
    {
     "data": {
      "text/plain": [
       "dict_keys(['drinks'])"
      ]
     },
     "execution_count": 63,
     "metadata": {},
     "output_type": "execute_result"
    }
   ],
   "source": [
    "rawdrinks.keys() # turns out we have an outer dictionary with a single key"
   ]
  },
  {
   "cell_type": "code",
   "execution_count": 64,
   "metadata": {
    "colab": {
     "base_uri": "https://localhost:8080/"
    },
    "id": "CQg55sccFgQ_",
    "outputId": "4e5fd9bb-2738-4325-ba4e-1ad062ea9012"
   },
   "outputs": [
    {
     "name": "stdout",
     "output_type": "stream",
     "text": [
      "container is of type <class 'list'>\n",
      "Items are of type <class 'dict'>\n"
     ]
    }
   ],
   "source": [
    "# let's remove this outer wrapper and get to the list of drinks\n",
    "raw_drinks_list = rawdrinks['drinks']\n",
    "# so we have our desired list of dictionary\n",
    "print(\"container is of type\", type(raw_drinks_list))\n",
    "print(\"Items are of type\", type(raw_drinks_list[0]))"
   ]
  },
  {
   "cell_type": "code",
   "execution_count": null,
   "metadata": {
    "colab": {
     "base_uri": "https://localhost:8080/"
    },
    "id": "Limm4ASnGalL",
    "outputId": "22babc48-4ed3-4387-fc4d-411472e704a8"
   },
   "outputs": [
    {
     "name": "stdout",
     "output_type": "stream",
     "text": [
      "LEngth of list 6\n"
     ]
    }
   ],
   "source": [
    "# how many drinks to we have?\n",
    "print(\"Length of list\", len(raw_drinks_list))"
   ]
  },
  {
   "cell_type": "code",
   "execution_count": null,
   "metadata": {
    "id": "fi0rji7vWH8e"
   },
   "outputs": [],
   "source": [
    "# for 100 suggestion is to use time.sleep(0.2)\n",
    "# it is good manners to sleep a little to avoid DDOS attack on API server\n",
    "import time\n",
    "time.sleep(0.5) # half a second delay"
   ]
  },
  {
   "cell_type": "markdown",
   "metadata": {},
   "source": [
    "## Tip - Use Delay (Sleep) in API Calls\n",
    "\n",
    "Small amount of sleep between multiple API calls to avoid getting blocked by the server\n",
    "\n",
    "Most API services have rate limits to prevent abuse.\n",
    "\n",
    "Could be 1 request per second, 10 requests per minute, etc. you would need to check the API documentation"
   ]
  },
  {
   "cell_type": "code",
   "execution_count": 66,
   "metadata": {
    "colab": {
     "base_uri": "https://localhost:8080/"
    },
    "id": "tlagcnx_WH8e",
    "outputId": "34fc4807-139a-4e06-eea9-94e675110f18"
   },
   "outputs": [
    {
     "data": {
      "text/plain": [
       "200"
      ]
     },
     "execution_count": 66,
     "metadata": {},
     "output_type": "execute_result"
    }
   ],
   "source": [
    "url = \"https://data.gov.lv/dati/lv/api/3/action/datastore_search?resource_id=27fcc5ec-c63b-4bfd-bb08-01f073a52d04&limit=5\"\n",
    "r = requests.get(url)\n",
    "r.status_code"
   ]
  },
  {
   "cell_type": "code",
   "execution_count": 90,
   "metadata": {
    "colab": {
     "base_uri": "https://localhost:8080/",
     "height": 159
    },
    "id": "xMvzQcFGWH8f",
    "outputId": "dee8eade-a990-414c-c326-b457bbe2e7e5"
   },
   "outputs": [
    {
     "data": {
      "application/vnd.google.colaboratory.intrinsic+json": {
       "type": "string"
      },
      "text/plain": [
       "'{\"help\": \"https://data.gov.lv/dati/lv/api/3/action/help_show?name=datastore_search\", \"success\": true, \"result\": {\"include_total\": true, \"resource_id\": \"27fcc5ec-c63b-4bfd-bb08-01f073a52d04\", \"fields\": [{\"type\": \"int\", \"id\": \"_id\"}, {\"type\": \"numeric\", \"id\": \"id\"}, {\"type\": \"numeric\", \"id\": \"file_id\"}, {\"type\": \"numeric\", \"id\": \"legal_entity_registration_number\"}, {\"type\": \"text\", \"id\": \"source_schema\"}, {\"type\": \"text\", \"id\": \"source_type\"}, {\"type\": \"numeric\", \"id\": \"year\"}, {\"type\": \"timestamp\", \"id\": \"year_started_on\"}, {\"type\": \"timestamp\", \"id\": \"year_ended_on\"}, {\"type\": \"numeric\", \"id\": \"employees\"}, {\"type\": \"text\", \"id\": \"rounded_to_nearest\"}, {\"type\": \"text\", \"id\": \"currency\"}, {\"type\": \"timestamp\", \"id\": \"created_at\"}], \"records_format\": \"objects\", \"records\": [{\"_id\":1,\"id\":709390,\"file_id\":16544390,\"legal_entity_registration_number\":40103504912,\"source_schema\":\"DokGPUIENv1\",\"source_type\":\"UGP\",\"year\":2016,\"year_started_on\":\"2016-01-01T00:00:00\",\"year_ended_on\":\"2016-12-31T00:00:00\",\"employees\":0,\"rounded_to_nearest\":\"ONES\",\"currency\":\"EUR\",\"created_at\":\"2020-10-30T23:33:27\"},{\"_id\":2,\"id\":709391,\"file_id\":16544392,\"legal_entity_registration_number\":40103466358,\"source_schema\":\"DokGPUIENv1\",\"source_type\":\"UGP\",\"year\":2016,\"year_started_on\":\"2016-01-01T00:00:00\",\"year_ended_on\":\"2016-12-31T00:00:00\",\"employees\":1,\"rounded_to_nearest\":\"ONES\",\"currency\":\"EUR\",\"created_at\":\"2020-10-30T23:33:31\"},{\"_id\":3,\"id\":709392,\"file_id\":16544401,\"legal_entity_registration_number\":40103476182,\"source_schema\":\"DokGPUIENv1\",\"source_type\":\"UGP\",\"year\":2016,\"year_started_on\":\"2016-01-01T00:00:00\",\"year_ended_on\":\"2016-12-31T00:00:00\",\"employees\":2,\"rounded_to_nearest\":\"ONES\",\"currency\":\"EUR\",\"created_at\":\"2020-10-30T23:33:34\"},{\"_id\":4,\"id\":709393,\"file_id\":16544404,\"legal_entity_registration_number\":40103863270,\"source_schema\":\"DokUGP2008v1\",\"source_type\":\"\",\"year\":2015,\"year_started_on\":\"2015-01-21T00:00:00\",\"year_ended_on\":\"2015-12-31T00:00:00\",\"employees\":5,\"rounded_to_nearest\":\"ONES\",\"currency\":\"EUR\",\"created_at\":\"2020-10-30T23:33:37\"},{\"_id\":5,\"id\":709394,\"file_id\":16544411,\"legal_entity_registration_number\":40008010613,\"source_schema\":\"DokGPUIENv1\",\"source_type\":\"BNAGP\",\"year\":2016,\"year_started_on\":\"2016-01-01T00:00:00\",\"year_ended_on\":\"2016-12-31T00:00:00\",\"employees\":0,\"rounded_to_nearest\":\"ONES\",\"currency\":\"EUR\",\"created_at\":\"2020-10-30T23:33:40\"}], \"limit\": 5, \"_links\": {\"start\": \"/api/3/action/datastore_search?limit=5&resource_id=27fcc5ec-c63b-4bfd-bb08-01f073a52d04\", \"next\": \"/api/3/action/datastore_search?offset=5&limit=5&resource_id=27fcc5ec-c63b-4bfd-bb08-01f073a52d04\"}, \"total\": 29500}}'"
      ]
     },
     "execution_count": 90,
     "metadata": {},
     "output_type": "execute_result"
    }
   ],
   "source": [
    "r.text"
   ]
  },
  {
   "cell_type": "code",
   "execution_count": null,
   "metadata": {
    "id": "6I1zW4KSWH8f"
   },
   "outputs": [],
   "source": [
    "with open(\"ur_yearly.json\", \"w\", encoding=\"utf-8\") as f:\n",
    "    f.write(r.text)"
   ]
  },
  {
   "cell_type": "code",
   "execution_count": null,
   "metadata": {
    "id": "z1M5kldFzFq0"
   },
   "outputs": [],
   "source": [
    "# how about Twitter JSON API ?\n",
    "\n",
    "# https://developer.twitter.com/en/docs/tweets/timelines/api-reference/get-statuses-user_timeline.html\n",
    "# https://developer.twitter.com/en/docs/twitter-api/v1/data-dictionary/overview\n",
    "\n",
    "# over the years Twitter has been changing their API\n",
    "# so you need to check the documentation for the version you are using\n",
    "# also you would need to register for a developer account and get a token - think of it as a key\n",
    "# Academic research is free, but you need to apply for it\n",
    "# site to apply for academic research https://developer.twitter.com/en/apply-for-access"
   ]
  },
  {
   "cell_type": "code",
   "execution_count": null,
   "metadata": {
    "id": "nevzYhdLzFq0"
   },
   "outputs": [],
   "source": [
    "# there are Python libraries for Twitter API which make it easier to use\n",
    "# you could use tweepy or twitter libraries\n",
    "# but for this example we will use requests library\n",
    "\n",
    "\n",
    "# in any case with any key you are going to be limited in the number of requests you can make per day\n",
    "# so do not expect to obtain a lot of data"
   ]
  },
  {
   "cell_type": "markdown",
   "metadata": {},
   "source": [
    "## JSON APIs for Digital Discourse\n",
    "\n",
    "### Social Networks and Communication Platforms\n",
    "\n",
    "* Twitter API - https://developer.twitter.com/en/docs - paid only :(\n",
    "* Reddit API - https://www.reddit.com/dev/api/ - free but very limited, paid for more\n",
    "* Mastodon API - https://docs.joinmastodon.org/api/ - free, but authorization needed, a bit complex\n",
    "* Telegram API - https://core.telegram.org/bots/api - free, but authorization needed, a bit complex\n",
    "* Instagram API - https://www.instagram.com/developer/ - paid only after December 4th, 2024:(\n",
    "\n",
    "### News and Media Platforms\n",
    "\n",
    "* New York Times API - https://developer.nytimes.com/apis - free, but authorization needed, might be rate limited\n",
    "* The Guardian API - https://open-platform.theguardian.com/documentation/ - free, but authorization needed, might be rate limited Sign up for key here -https://open-platform.theguardian.com/access/\n",
    "\n",
    "### Public API directories\n",
    "\n",
    "* Awesome API Github list - https://github.com/burningtree/awesome-json - many APIs listed here\n",
    "* Public APIs - https://publicapis.io - many APIs listed here\n",
    "\n",
    "### APIs used for Large Language Models\n",
    "\n",
    "Most of the large language models such as GPT-4, Claude, Gemini, BERT, etc. are available as APIs. These APIs can be used to generate text, summarize text, translate text, etc. These APIs are paid and require authorization.\n",
    "\n",
    "### API aggregrators\n",
    "\n",
    "For LLMS, there are services that offer to aggregate multiple APIs into one. These services provide a single API that can be used to access multiple APIs. These services are paid and require authorization.\n",
    "\n",
    "Personal recommendation: https://openrouter.ai/docs/quick-start - same price as buying directly from OpenAI, but you get access to multiple APIs."
   ]
  },
  {
   "cell_type": "code",
   "execution_count": null,
   "metadata": {
    "id": "SrGWcv22zFq1"
   },
   "outputs": [],
   "source": []
  }
 ],
 "metadata": {
  "colab": {
   "name": "Using_JSON_APIs.ipynb",
   "provenance": []
  },
  "kernelspec": {
   "display_name": "Python 3",
   "language": "python",
   "name": "python3"
  },
  "language_info": {
   "codemirror_mode": {
    "name": "ipython",
    "version": 3
   },
   "file_extension": ".py",
   "mimetype": "text/x-python",
   "name": "python",
   "nbconvert_exporter": "python",
   "pygments_lexer": "ipython3",
   "version": "3.11.4"
  }
 },
 "nbformat": 4,
 "nbformat_minor": 0
}
