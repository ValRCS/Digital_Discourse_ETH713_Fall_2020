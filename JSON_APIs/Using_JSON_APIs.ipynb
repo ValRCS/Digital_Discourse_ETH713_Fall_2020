{
  "cells": [
    {
      "cell_type": "markdown",
      "metadata": {
        "id": "hcZrk16fWH77"
      },
      "source": [
        "## JSON"
      ]
    },
    {
      "cell_type": "markdown",
      "metadata": {
        "id": "wC4Q4oGwWH79"
      },
      "source": [
        "# JSON - Javascript Object Notation\n",
        "#### Invented by Douglas Crockford when working at Yahoo in early 2000s.\n",
        "\n",
        "* Goal - Human Readable, Machine Parsable\n",
        "\n",
        "* Specification: https://www.json.org/"
      ]
    },
    {
      "cell_type": "markdown",
      "metadata": {
        "id": "_anQwgX4WH7-"
      },
      "source": [
        "JSON — short for JavaScript Object Notation — format for sharing data.\n",
        "\n",
        "JSON is derived from the JavaScript programming language\n",
        "\n",
        "Available for use by many languages including Python\n",
        "\n",
        "usually file extension is .json when stored\n",
        "\n"
      ]
    },
    {
      "cell_type": "code",
      "execution_count": null,
      "metadata": {
        "id": "HgVJQxmeWH7_"
      },
      "outputs": [],
      "source": [
        "# Sample JSON below from https://json.org/example.html\n",
        "# Question why is Syntax highlighting working properly ? :)"
      ]
    },
    {
      "cell_type": "code",
      "execution_count": 1,
      "metadata": {
        "colab": {
          "base_uri": "https://localhost:8080/"
        },
        "id": "UmLDxSmxWH8A",
        "outputId": "ed2dc2b8-7bb7-49f3-fa15-cc6ae488e103"
      },
      "outputs": [
        {
          "output_type": "execute_result",
          "data": {
            "text/plain": [
              "{'widget': {'debug': 'on',\n",
              "  'window': {'title': 'Sample Konfabulator Widget',\n",
              "   'name': 'main_window',\n",
              "   'width': 500,\n",
              "   'height': 500},\n",
              "  'image': {'src': 'Images/Sun.png',\n",
              "   'name': 'sun1',\n",
              "   'hOffset': 250,\n",
              "   'vOffset': 250,\n",
              "   'alignment': 'center'},\n",
              "  'text': {'data': 'Click Here',\n",
              "   'size': 36,\n",
              "   'style': 'bold',\n",
              "   'name': 'text1',\n",
              "   'hOffset': 250,\n",
              "   'vOffset': 100,\n",
              "   'alignment': 'center',\n",
              "   'onMouseUp': 'sun1.opacity = (sun1.opacity / 100) * 90;'}}}"
            ]
          },
          "metadata": {},
          "execution_count": 1
        }
      ],
      "source": [
        "{\"widget\": {\n",
        "    \"debug\": \"on\",\n",
        "    \"window\": {\n",
        "        \"title\": \"Sample Konfabulator Widget\",\n",
        "        \"name\": \"main_window\",\n",
        "        \"width\": 500,\n",
        "        \"height\": 500\n",
        "    },\n",
        "    \"image\": {\n",
        "        \"src\": \"Images/Sun.png\",\n",
        "        \"name\": \"sun1\",\n",
        "        \"hOffset\": 250,\n",
        "        \"vOffset\": 250,\n",
        "        \"alignment\": \"center\"\n",
        "    },\n",
        "    \"text\": {\n",
        "        \"data\": \"Click Here\",\n",
        "        \"size\": 36,\n",
        "        \"style\": \"bold\",\n",
        "        \"name\": \"text1\",\n",
        "        \"hOffset\": 250,\n",
        "        \"vOffset\": 100,\n",
        "        \"alignment\": \"center\",\n",
        "        \"onMouseUp\": \"sun1.opacity = (sun1.opacity / 100) * 90;\"\n",
        "    }\n",
        "}}\n"
      ]
    },
    {
      "cell_type": "code",
      "execution_count": 2,
      "metadata": {
        "id": "IcaWfR6tWH8B"
      },
      "outputs": [],
      "source": [
        "# if this was string starting with { it would be our json\n",
        "mydata = {\n",
        "    \"firstName\": \"Jane\",\n",
        "    \"lastName\": \"Doe\",\n",
        "    \"hobbies\": [\"running\", \"sky diving\", \"dancing\"],\n",
        "    \"age\": 43,\n",
        "    \"children\": [\n",
        "        {\n",
        "            \"firstName\": \"Alice\",\n",
        "            \"age\": 7\n",
        "        },\n",
        "        {\n",
        "            \"firstName\": \"Bob\",\n",
        "            \"age\": 13\n",
        "        }\n",
        "    ]\n",
        "}"
      ]
    },
    {
      "cell_type": "code",
      "execution_count": 3,
      "metadata": {
        "colab": {
          "base_uri": "https://localhost:8080/"
        },
        "id": "DPnVWDchWH8B",
        "outputId": "17cf8359-c873-4b58-b16e-e39ab4a6f924"
      },
      "outputs": [
        {
          "output_type": "execute_result",
          "data": {
            "text/plain": [
              "dict"
            ]
          },
          "metadata": {},
          "execution_count": 3
        }
      ],
      "source": [
        "# now mydata is just a Python dictionary nothing to do with JSON\n",
        "# here we converted JSON text into Python dictionary\n",
        "type(mydata)"
      ]
    },
    {
      "cell_type": "code",
      "execution_count": null,
      "metadata": {
        "id": "gwNYvntYzFp_"
      },
      "outputs": [],
      "source": [
        "# reminder that Python dictionary is just a collection of unordered key value pairs"
      ]
    },
    {
      "cell_type": "code",
      "execution_count": 4,
      "metadata": {
        "colab": {
          "base_uri": "https://localhost:8080/"
        },
        "id": "bgxBE896WH8C",
        "outputId": "afb1cacd-360a-4d33-ee74-f152616e4caa"
      },
      "outputs": [
        {
          "output_type": "stream",
          "name": "stdout",
          "text": [
            "{'firstName': 'Jane', 'lastName': 'Doe', 'hobbies': ['running', 'sky diving', 'dancing'], 'age': 43, 'children': [{'firstName': 'Alice', 'age': 7}, {'firstName': 'Bob', 'age': 13}]}\n"
          ]
        }
      ],
      "source": [
        "print(mydata) # this is not JSON anymore this is just a Python dictionary(could have come from another source not only JSON)"
      ]
    },
    {
      "cell_type": "code",
      "execution_count": null,
      "metadata": {
        "id": "LbXI3hHxzFqA"
      },
      "outputs": [],
      "source": [
        "# so mydata is just a Python dictionary nothing to do with JSON anymore\n",
        "# mydata contains keys and values\n",
        "# some of the values are strings, some are integers, some are lists, some are dictionaries\n",
        "# and some lists contain dictionaries and some dictionaries contain lists\n",
        "# it is very common for data obtained from JSON to be nested - hierarchically structured"
      ]
    },
    {
      "cell_type": "code",
      "execution_count": 5,
      "metadata": {
        "colab": {
          "base_uri": "https://localhost:8080/"
        },
        "id": "_9l4r1VQWH8C",
        "outputId": "2e181357-254b-4639-aea3-e4515159db66"
      },
      "outputs": [
        {
          "output_type": "execute_result",
          "data": {
            "text/plain": [
              "[{'firstName': 'Alice', 'age': 7}, {'firstName': 'Bob', 'age': 13}]"
            ]
          },
          "metadata": {},
          "execution_count": 5
        }
      ],
      "source": [
        "mydata['children'] # we use key to get value in this case we get a list"
      ]
    },
    {
      "cell_type": "code",
      "execution_count": 6,
      "metadata": {
        "colab": {
          "base_uri": "https://localhost:8080/"
        },
        "id": "Rf_xj8jaWH8D",
        "outputId": "04d8b100-635a-4f1a-abca-940e11208fc7"
      },
      "outputs": [
        {
          "output_type": "execute_result",
          "data": {
            "text/plain": [
              "list"
            ]
          },
          "metadata": {},
          "execution_count": 6
        }
      ],
      "source": [
        "type(mydata['children']) # when you see square brackets in json expect a list in Python"
      ]
    },
    {
      "cell_type": "code",
      "execution_count": 8,
      "metadata": {
        "colab": {
          "base_uri": "https://localhost:8080/"
        },
        "id": "93BDG7zdWH8D",
        "outputId": "9e8ee554-b322-4ba2-88a8-182820815b11"
      },
      "outputs": [
        {
          "output_type": "execute_result",
          "data": {
            "text/plain": [
              "{'firstName': 'Alice', 'age': 7}"
            ]
          },
          "metadata": {},
          "execution_count": 8
        }
      ],
      "source": [
        "# we can get the first child from the list\n",
        "mydata['children'][0] # remember indexing starts with 0"
      ]
    },
    {
      "cell_type": "code",
      "execution_count": 9,
      "metadata": {
        "id": "M_NXdOwiWH8E",
        "outputId": "2dbd53b4-5fa5-45d1-c373-05548139ad34",
        "colab": {
          "base_uri": "https://localhost:8080/"
        }
      },
      "outputs": [
        {
          "output_type": "execute_result",
          "data": {
            "text/plain": [
              "dict"
            ]
          },
          "metadata": {},
          "execution_count": 9
        }
      ],
      "source": [
        "type(mydata['children'][0]) # so first item in the list is another dictionary"
      ]
    },
    {
      "cell_type": "code",
      "execution_count": 10,
      "metadata": {
        "colab": {
          "base_uri": "https://localhost:8080/"
        },
        "id": "vJTIkc3xWH8E",
        "outputId": "8896c73c-e7be-40cb-8efa-3f4752f1c303"
      },
      "outputs": [
        {
          "output_type": "execute_result",
          "data": {
            "text/plain": [
              "7"
            ]
          },
          "metadata": {},
          "execution_count": 10
        }
      ],
      "source": [
        "mydata['children'][0]['age'] # we can get the age of the first child by using key"
      ]
    },
    {
      "cell_type": "code",
      "source": [
        "alices_age = mydata['children'][0]['age']\n",
        "print(f\"Alice is {alices_age} years old\")"
      ],
      "metadata": {
        "id": "mEovVJ-H2MYE",
        "outputId": "9a7bb4b9-6585-474f-ba27-39325446114c",
        "colab": {
          "base_uri": "https://localhost:8080/"
        }
      },
      "execution_count": 12,
      "outputs": [
        {
          "output_type": "stream",
          "name": "stdout",
          "text": [
            "Alice is 7 years old\n"
          ]
        }
      ]
    },
    {
      "cell_type": "code",
      "execution_count": null,
      "metadata": {
        "colab": {
          "base_uri": "https://localhost:8080/"
        },
        "id": "M37pG1pGZ2Dy",
        "outputId": "f150f5a3-0523-43d9-cc61-f5e36bcb3edc"
      },
      "outputs": [
        {
          "data": {
            "text/plain": [
              "dict_keys(['firstName', 'lastName', 'hobbies', 'age', 'children'])"
            ]
          },
          "execution_count": 12,
          "metadata": {},
          "output_type": "execute_result"
        }
      ],
      "source": [
        "mydata.keys()  # outer dictionary has 5 keys"
      ]
    },
    {
      "cell_type": "code",
      "execution_count": null,
      "metadata": {
        "colab": {
          "base_uri": "https://localhost:8080/"
        },
        "id": "HaQ25u5tZzD6",
        "outputId": "f0a33344-983f-4e89-ef6c-101e4b307c22"
      },
      "outputs": [
        {
          "data": {
            "text/plain": [
              "dict_keys(['firstName', 'age'])"
            ]
          },
          "execution_count": 11,
          "metadata": {},
          "output_type": "execute_result"
        }
      ],
      "source": [
        "mydata['children'][0].keys() # inner dictionary has 2 keys"
      ]
    },
    {
      "cell_type": "code",
      "execution_count": null,
      "metadata": {
        "id": "PO6kHXb-zFqC"
      },
      "outputs": [],
      "source": []
    },
    {
      "cell_type": "code",
      "execution_count": 14,
      "metadata": {
        "id": "Kg5cQ60dWH8E",
        "outputId": "c33fc1c3-9ade-4e74-d6c0-a4aadc1917b7",
        "colab": {
          "base_uri": "https://localhost:8080/",
          "height": 35
        }
      },
      "outputs": [
        {
          "output_type": "execute_result",
          "data": {
            "text/plain": [
              "'Alice'"
            ],
            "application/vnd.google.colaboratory.intrinsic+json": {
              "type": "string"
            }
          },
          "metadata": {},
          "execution_count": 14
        }
      ],
      "source": [
        "mydata['children'][0]['firstName']\n",
        "# so how do we know there is name, well we had to investiage the structure first\n"
      ]
    },
    {
      "cell_type": "code",
      "execution_count": null,
      "metadata": {
        "id": "PqYeDZVxWH8F",
        "outputId": "4f1113f8-6fb0-46c2-b753-9ffa9dfa19d6"
      },
      "outputs": [
        {
          "data": {
            "text/plain": [
              "dict_keys(['firstName', 'age'])"
            ]
          },
          "execution_count": 12,
          "metadata": {},
          "output_type": "execute_result"
        }
      ],
      "source": [
        "mydata['children'][0].keys()"
      ]
    },
    {
      "cell_type": "code",
      "execution_count": 15,
      "metadata": {
        "colab": {
          "base_uri": "https://localhost:8080/"
        },
        "id": "ZUJb8BdfWH8F",
        "outputId": "422603cf-728e-40a7-9f8f-ad2e373d1bdd"
      },
      "outputs": [
        {
          "output_type": "stream",
          "name": "stdout",
          "text": [
            "firstName :: Bob\n",
            "age :: 13\n"
          ]
        }
      ],
      "source": [
        "# so for random dictionary we could have printed everything for 2nd child with\n",
        "for key, value in mydata['children'][1].items(): # 1 because indexing starts with 0\n",
        "    print(key, \"::\", value)"
      ]
    },
    {
      "cell_type": "code",
      "execution_count": null,
      "metadata": {
        "colab": {
          "base_uri": "https://localhost:8080/"
        },
        "id": "1GNIe9JaaJEj",
        "outputId": "235654e9-abb3-4a3f-fbe4-ec09a39af09a"
      },
      "outputs": [
        {
          "name": "stdout",
          "output_type": "stream",
          "text": [
            "firstName :: Jane\n",
            "lastName :: Doe\n",
            "hobbies :: ['running', 'sky diving', 'dancing']\n",
            "age :: 43\n",
            "children :: [{'firstName': 'Alice', 'age': 7}, {'firstName': 'Bob', 'age': 13}]\n"
          ]
        }
      ],
      "source": [
        "for key, value in mydata.items():\n",
        "    print(key, \"::\", value)"
      ]
    },
    {
      "cell_type": "code",
      "execution_count": null,
      "metadata": {
        "id": "pvNGdlsRzFqD"
      },
      "outputs": [],
      "source": [
        "# so one of the issues with dealing with data extraced from deeply nested JSON is that\n",
        "# you have to know the structure of the data before you can access it\n",
        "# even then you can't flatten it out into a table without some concessions"
      ]
    },
    {
      "cell_type": "code",
      "execution_count": null,
      "metadata": {
        "colab": {
          "base_uri": "https://localhost:8080/"
        },
        "id": "ofF5aiigWH8F",
        "outputId": "2786657f-0958-4ff5-e3ed-4b3691a9d62c"
      },
      "outputs": [
        {
          "data": {
            "text/plain": [
              "13"
            ]
          },
          "execution_count": 15,
          "metadata": {},
          "output_type": "execute_result"
        }
      ],
      "source": [
        "mydata['children'][-1]['age']"
      ]
    },
    {
      "cell_type": "code",
      "execution_count": 18,
      "metadata": {
        "colab": {
          "base_uri": "https://localhost:8080/"
        },
        "id": "bqVgnlu6WH8F",
        "outputId": "d085f18b-33d8-41cc-80ac-4182fdd11cde"
      },
      "outputs": [
        {
          "output_type": "execute_result",
          "data": {
            "text/plain": [
              "['running', 'sky diving', 'dancing']"
            ]
          },
          "metadata": {},
          "execution_count": 18
        }
      ],
      "source": [
        "# remember for dictionaries get method will not throw an error if key is not found\n",
        "mydata.get('hobbies') # get has the default value None if the key is not found"
      ]
    },
    {
      "cell_type": "code",
      "execution_count": 19,
      "metadata": {
        "colab": {
          "base_uri": "https://localhost:8080/",
          "height": 178
        },
        "id": "ypAjPvXkaZG9",
        "outputId": "bc9b4085-a5a5-43ea-dbd2-3716638d8d3d"
      },
      "outputs": [
        {
          "output_type": "error",
          "ename": "KeyError",
          "evalue": "ignored",
          "traceback": [
            "\u001b[0;31m---------------------------------------------------------------------------\u001b[0m",
            "\u001b[0;31mKeyError\u001b[0m                                  Traceback (most recent call last)",
            "\u001b[0;32m<ipython-input-19-a093bd4bb6f9>\u001b[0m in \u001b[0;36m<cell line: 1>\u001b[0;34m()\u001b[0m\n\u001b[0;32m----> 1\u001b[0;31m \u001b[0mmydata\u001b[0m\u001b[0;34m[\u001b[0m\u001b[0;34m\"car\"\u001b[0m\u001b[0;34m]\u001b[0m \u001b[0;31m# bad key will throw an error so get would be a bit safer\u001b[0m\u001b[0;34m\u001b[0m\u001b[0;34m\u001b[0m\u001b[0m\n\u001b[0m",
            "\u001b[0;31mKeyError\u001b[0m: 'car'"
          ]
        }
      ],
      "source": [
        "mydata[\"car\"] # bad key will throw an error so get would be a bit safer"
      ]
    },
    {
      "cell_type": "code",
      "execution_count": 20,
      "metadata": {
        "id": "c5ANGdWSacdD"
      },
      "outputs": [],
      "source": [
        "mydata.get(\"car\") # gives us None if not found"
      ]
    },
    {
      "cell_type": "code",
      "execution_count": null,
      "metadata": {
        "id": "0WUiK7wEzFqE"
      },
      "outputs": [],
      "source": [
        "# JSON does not require any specific order of keys\n",
        "# no specific structure of data - convenient but not always easy to work with"
      ]
    },
    {
      "cell_type": "code",
      "execution_count": 21,
      "metadata": {
        "colab": {
          "base_uri": "https://localhost:8080/"
        },
        "id": "WDU7gQnJWH8G",
        "outputId": "49e7d319-e6fc-483f-dcb9-a8ffb7d95f83"
      },
      "outputs": [
        {
          "output_type": "execute_result",
          "data": {
            "text/plain": [
              "('dancing', 'dancing', 'dancing')"
            ]
          },
          "metadata": {},
          "execution_count": 21
        }
      ],
      "source": [
        "mydata.get('hobbies')[-1],mydata['hobbies'][-1],mydata['hobbies'][2]  # so 3 ways to access the same item"
      ]
    },
    {
      "cell_type": "code",
      "execution_count": null,
      "metadata": {
        "id": "tXIgqEp_WH8G"
      },
      "outputs": [],
      "source": [
        "# list has no get [1,2,3].get(2) get is dictionary specific not for lists!"
      ]
    },
    {
      "cell_type": "code",
      "execution_count": null,
      "metadata": {
        "id": "gkJmnuFAWH8H",
        "outputId": "7a88cac9-4a6e-459f-dabb-149141bb75af"
      },
      "outputs": [
        {
          "data": {
            "text/plain": [
              "30"
            ]
          },
          "execution_count": 18,
          "metadata": {},
          "output_type": "execute_result"
        }
      ],
      "source": [
        "{\"a\":43,\"b\":30}.get(\"b\")"
      ]
    },
    {
      "cell_type": "code",
      "execution_count": null,
      "metadata": {
        "id": "zQ3Zu6oazFqE"
      },
      "outputs": [],
      "source": [
        "# until now we have been dealing with data stored in a dictionary\n",
        "# now we are going to write data to a file in JSON format"
      ]
    },
    {
      "cell_type": "markdown",
      "source": [
        "## Serialization - encoding Python data to JSON\n"
      ],
      "metadata": {
        "id": "7bKJgKRQ3fTA"
      }
    },
    {
      "cell_type": "markdown",
      "metadata": {
        "id": "EY1ny3GqWH8H"
      },
      "source": [
        "The process of encoding JSON is usually called serialization. This term refers to the transformation of data into a series of bytes (hence serial) to be stored or transmitted across a network. You may also hear the term marshaling, but that’s a whole other discussion. Naturally, deserialization is the reciprocal process of decoding data that has been stored or delivered in the JSON standard.\n",
        "\n",
        "All we’re talking about here is reading and writing. Think of it like this: encoding is for writing data to disk, while decoding is for reading data into memory.\n",
        " https://realpython.com/python-json/"
      ]
    },
    {
      "cell_type": "code",
      "execution_count": 22,
      "metadata": {
        "colab": {
          "base_uri": "https://localhost:8080/"
        },
        "id": "9x3bi5UHWH8H",
        "outputId": "110e67c1-7ddb-46a9-9b0d-7c187a730484"
      },
      "outputs": [
        {
          "output_type": "execute_result",
          "data": {
            "text/plain": [
              "{'firstName': 'Jane',\n",
              " 'lastName': 'Doe',\n",
              " 'hobbies': ['running', 'sky diving', 'dancing'],\n",
              " 'age': 43,\n",
              " 'children': [{'firstName': 'Alice', 'age': 7},\n",
              "  {'firstName': 'Bob', 'age': 13}]}"
            ]
          },
          "metadata": {},
          "execution_count": 22
        }
      ],
      "source": [
        "mydata # simply a PYthon dictionary with some lists inside etc\n",
        "# theoretically I could copy and paste the output here into a text file and it would be valid JSOn\n",
        "# however that is not always going to be the case due to small differences\n",
        "# also it is not very practical especially for bigger data amounts"
      ]
    },
    {
      "cell_type": "code",
      "execution_count": 23,
      "metadata": {
        "id": "abP2zk_6WH8H"
      },
      "outputs": [],
      "source": [
        "# we need a library for decoding and encoding json\n",
        "# json is built into any standard Python installation\n",
        "import json"
      ]
    },
    {
      "cell_type": "code",
      "execution_count": 24,
      "metadata": {
        "id": "EOdlGAfoWH8I"
      },
      "outputs": [],
      "source": [
        "# first we are going to dump our data into a text file\n",
        "# we will use with context manager to open and close the file for safety\n",
        "# instead of \"data_file.json\" any normal file name would do\n",
        "# it is not required that you use .json extension but it would certainly make the most sense here\n",
        "# technically it is going to be just a text file\n",
        "with open(\"data_file.json\", mode=\"w\") as write_file: # w means write\n",
        "    json.dump(mydata, write_file) # so mydata is going to be written here\n",
        "    # mydata will typically be dictionary or list - which can have more inside\n",
        "    # but technically it could be a string  (then you would get a normal text file)\n",
        "    # or  single number but that would be very tiny json file :)\n",
        "# remember that stream is closed here and file is written by now"
      ]
    },
    {
      "cell_type": "code",
      "execution_count": 25,
      "metadata": {
        "id": "6h_P81wDWH8I"
      },
      "outputs": [],
      "source": [
        "# this will be nicer for humans to read\n",
        "with open(\"data_file_indented.json\", mode=\"w\") as write_file:\n",
        "    json.dump(mydata, write_file, indent=4) # so mydata could be aANY standard python data structure"
      ]
    },
    {
      "cell_type": "code",
      "execution_count": 26,
      "metadata": {
        "colab": {
          "base_uri": "https://localhost:8080/",
          "height": 53
        },
        "id": "YCrY2X86WH8I",
        "outputId": "ba7283d2-c084-4fb5-97af-7f67949000a4"
      },
      "outputs": [
        {
          "output_type": "execute_result",
          "data": {
            "text/plain": [
              "'{\\n    \"firstName\": \"Jane\",\\n    \"lastName\": \"Doe\",\\n    \"hobbies\": [\\n        \"running\",\\n        \"sky diving\",\\n        \"dancing\"\\n    ],\\n    \"age\": 43,\\n  '"
            ],
            "application/vnd.google.colaboratory.intrinsic+json": {
              "type": "string"
            }
          },
          "metadata": {},
          "execution_count": 26
        }
      ],
      "source": [
        "# again .json files are just text files\n",
        "# so if we read the file we will get a string\n",
        "with open(\"data_file_indented.json\") as f:\n",
        "    raw_txt = f.read()\n",
        "raw_txt[:150] # so again raw JSON is just text"
      ]
    },
    {
      "cell_type": "code",
      "execution_count": 27,
      "metadata": {
        "colab": {
          "base_uri": "https://localhost:8080/"
        },
        "id": "6dCiqVxLWH8I",
        "outputId": "046c8554-cf93-4e1a-e817-4e2b41309f04"
      },
      "outputs": [
        {
          "output_type": "execute_result",
          "data": {
            "text/plain": [
              "str"
            ]
          },
          "metadata": {},
          "execution_count": 27
        }
      ],
      "source": [
        "type(raw_txt)"
      ]
    },
    {
      "cell_type": "code",
      "execution_count": 28,
      "metadata": {
        "colab": {
          "base_uri": "https://localhost:8080/"
        },
        "id": "TvXUKD4ycAJg",
        "outputId": "0ba48f1c-cc84-4453-9884-eea03beb4c66"
      },
      "outputs": [
        {
          "output_type": "stream",
          "name": "stdout",
          "text": [
            "{\n",
            "    \"firstName\": \"Jane\",\n",
            "    \"lastName\": \"Doe\",\n",
            "    \"hobbies\": [\n",
            "        \"running\",\n",
            "        \"sky diving\",\n",
            "        \"dancing\"\n",
            "    ],\n",
            "    \"age\": 43,\n",
            "    \"children\": [\n",
            "        {\n",
            "            \"firstName\": \"Alice\",\n",
            "            \"age\": 7\n",
            "        },\n",
            "        {\n",
            "            \"firstName\": \"Bob\",\n",
            "            \"age\": 13\n",
            "        }\n",
            "    ]\n",
            "}\n"
          ]
        }
      ],
      "source": [
        "print(raw_txt)"
      ]
    },
    {
      "cell_type": "code",
      "execution_count": null,
      "metadata": {
        "id": "97DMdidSzFqK"
      },
      "outputs": [],
      "source": [
        "# deserialization - converting JSON text into Python(or other programming language) data structure\n",
        "# why would you want to do that?\n",
        "# because you want to work with the data in Python - and working with strings is not very convenient\n",
        "# we want the structure of the data to be preserved"
      ]
    },
    {
      "cell_type": "markdown",
      "source": [
        "## Deserializing, decoding raw JSON text into Python data format"
      ],
      "metadata": {
        "id": "tyz2k4Fh5m_R"
      }
    },
    {
      "cell_type": "code",
      "execution_count": 29,
      "metadata": {
        "colab": {
          "base_uri": "https://localhost:8080/"
        },
        "id": "uYDLUD-2WH8I",
        "outputId": "994263db-38f3-46e8-8bb2-5ea93150ec02"
      },
      "outputs": [
        {
          "output_type": "execute_result",
          "data": {
            "text/plain": [
              "dict"
            ]
          },
          "metadata": {},
          "execution_count": 29
        }
      ],
      "source": [
        "# parse, deserialize, decode from json string into Python Data structure\n",
        "my_data = json.loads(raw_txt) # raw_txt is a string\n",
        "type(my_data)\n",
        "# typically we will be using json.load for reading json from files not strings"
      ]
    },
    {
      "cell_type": "code",
      "execution_count": null,
      "metadata": {
        "id": "iVLi7xGLcZIs"
      },
      "outputs": [],
      "source": []
    },
    {
      "cell_type": "code",
      "execution_count": null,
      "metadata": {
        "colab": {
          "base_uri": "https://localhost:8080/"
        },
        "id": "Vlx_ac2PWH8I",
        "outputId": "723f0f38-c4b9-4fe2-aceb-62bfc5334135"
      },
      "outputs": [
        {
          "data": {
            "text/plain": [
              "dict_keys(['firstName', 'lastName', 'hobbies', 'age', 'children'])"
            ]
          },
          "execution_count": 28,
          "metadata": {},
          "output_type": "execute_result"
        }
      ],
      "source": [
        "my_data.keys()"
      ]
    },
    {
      "cell_type": "code",
      "execution_count": 31,
      "metadata": {
        "colab": {
          "base_uri": "https://localhost:8080/"
        },
        "id": "nvbPEI_zWH8J",
        "outputId": "cdc14cd5-dcc6-45e7-bd1d-086038d2d800"
      },
      "outputs": [
        {
          "output_type": "execute_result",
          "data": {
            "text/plain": [
              "[{'firstName': 'Alice', 'age': 7}, {'firstName': 'Bob', 'age': 13}]"
            ]
          },
          "metadata": {},
          "execution_count": 31
        }
      ],
      "source": [
        "my_data['children']"
      ]
    },
    {
      "cell_type": "code",
      "execution_count": 32,
      "metadata": {
        "colab": {
          "base_uri": "https://localhost:8080/"
        },
        "id": "ozIrcT6ecbUj",
        "outputId": "31470571-5fdd-430a-fcbe-2364495d0c08"
      },
      "outputs": [
        {
          "output_type": "execute_result",
          "data": {
            "text/plain": [
              "{'age': 14, 'firstName': 'Čarlijs'}"
            ]
          },
          "metadata": {},
          "execution_count": 32
        }
      ],
      "source": [
        "charlie = {'age': 14, 'firstName': 'Čarlijs'}  # new dictionary  with 2 keys-value pairs\n",
        "charlie  #this dictionary is not in JSON format, it is not related to JSON at all\n",
        "# so this will apply to any non English language that uses Unicode characters beyond 255"
      ]
    },
    {
      "cell_type": "code",
      "execution_count": 33,
      "metadata": {
        "colab": {
          "base_uri": "https://localhost:8080/"
        },
        "id": "uFU5Xoylc0Ho",
        "outputId": "858a4e1c-e583-4bbc-f973-eb2d8a0ce956"
      },
      "outputs": [
        {
          "output_type": "execute_result",
          "data": {
            "text/plain": [
              "list"
            ]
          },
          "metadata": {},
          "execution_count": 33
        }
      ],
      "source": [
        "type(my_data['children'])"
      ]
    },
    {
      "cell_type": "code",
      "execution_count": 34,
      "metadata": {
        "id": "qi3lHbrVct25"
      },
      "outputs": [],
      "source": [
        "my_data['children'].append(charlie)"
      ]
    },
    {
      "cell_type": "code",
      "execution_count": null,
      "metadata": {
        "colab": {
          "base_uri": "https://localhost:8080/"
        },
        "id": "7GYz5B44c8AO",
        "outputId": "0ef9af57-f18e-4422-8f56-eac804942883"
      },
      "outputs": [
        {
          "data": {
            "text/plain": [
              "{'firstName': 'Jane',\n",
              " 'lastName': 'Doe',\n",
              " 'hobbies': ['running', 'sky diving', 'dancing'],\n",
              " 'age': 43,\n",
              " 'children': [{'firstName': 'Alice', 'age': 7},\n",
              "  {'firstName': 'Bob', 'age': 13},\n",
              "  {'age': 14, 'firstName': 'Čarlijs'}]}"
            ]
          },
          "execution_count": 33,
          "metadata": {},
          "output_type": "execute_result"
        }
      ],
      "source": [
        "my_data"
      ]
    },
    {
      "cell_type": "code",
      "execution_count": 35,
      "metadata": {
        "colab": {
          "base_uri": "https://localhost:8080/"
        },
        "id": "L9SrmcGac_5y",
        "outputId": "3dae0f64-648a-4b10-8f69-cc483bf2c48f"
      },
      "outputs": [
        {
          "output_type": "execute_result",
          "data": {
            "text/plain": [
              "{'firstName': 'Jane',\n",
              " 'lastName': 'Doe',\n",
              " 'hobbies': ['running', 'sky diving', 'dancing', 'šahs'],\n",
              " 'age': 43,\n",
              " 'children': [{'firstName': 'Alice', 'age': 7},\n",
              "  {'firstName': 'Bob', 'age': 13},\n",
              "  {'age': 14, 'firstName': 'Čarlijs'}]}"
            ]
          },
          "metadata": {},
          "execution_count": 35
        }
      ],
      "source": [
        "my_data['hobbies'].append('šahs')  #šahs - chess in Latvian\n",
        "my_data"
      ]
    },
    {
      "cell_type": "code",
      "execution_count": 36,
      "metadata": {
        "colab": {
          "base_uri": "https://localhost:8080/"
        },
        "id": "a3t2iVcSdpxQ",
        "outputId": "762f3fc5-33c7-4179-8629-faedf252fe49"
      },
      "outputs": [
        {
          "output_type": "execute_result",
          "data": {
            "text/plain": [
              "{'firstName': 'Jane',\n",
              " 'lastName': 'Doe',\n",
              " 'hobbies': ['running', 'sky diving', 'dancing', 'šahs'],\n",
              " 'age': 43,\n",
              " 'children': [{'firstName': 'Alice', 'age': 7},\n",
              "  {'firstName': 'Bob', 'age': 13},\n",
              "  {'age': 14, 'firstName': 'Čarlijs'}],\n",
              " 'car': 'Ņiva'}"
            ]
          },
          "metadata": {},
          "execution_count": 36
        }
      ],
      "source": [
        "my_data[\"car\"] = \"Ņiva\" # i am trying to make a point about Unicode\n",
        "my_data"
      ]
    },
    {
      "cell_type": "code",
      "execution_count": 37,
      "metadata": {
        "id": "Zva7UdYWd6wi"
      },
      "outputs": [],
      "source": [
        "# so i will save the freshly updated data to a file\n",
        "# not everything is in English!\n",
        "with open(\"data_file_indented_ascii.json\", mode=\"w\") as f_stream:\n",
        "    json.dump(my_data, f_stream, indent=4)"
      ]
    },
    {
      "cell_type": "code",
      "execution_count": 38,
      "metadata": {
        "id": "z22GhigGfIFZ"
      },
      "outputs": [],
      "source": [
        "# so if we want to save in Unicode in UTF-8 encoding we need to specify it\n",
        "# this is the recipe to use if you want to save in Unicode\n",
        "with open(\"data_file_indented_unicode.json\", mode=\"w\", encoding=\"UTF-8\") as f_stream:\n",
        "    json.dump(my_data, f_stream, indent=4, ensure_ascii=False) # I want to see Unicode"
      ]
    },
    {
      "cell_type": "code",
      "execution_count": null,
      "metadata": {
        "id": "C-Pkq1kLdKtm"
      },
      "outputs": [],
      "source": [
        "# three are no strict restriction on what we append to our lists\n",
        "# in the previous example I could have added a number or another list, not necessarily a string\n"
      ]
    },
    {
      "cell_type": "markdown",
      "source": [
        "## Loading data from JSON file immediately into memory"
      ],
      "metadata": {
        "id": "wMVxyrdJ62KB"
      }
    },
    {
      "cell_type": "code",
      "execution_count": 39,
      "metadata": {
        "id": "eqccVABvWH8J",
        "outputId": "c7386bfc-3cd7-424b-e9ea-4aa5c8058b0a",
        "colab": {
          "base_uri": "https://localhost:8080/"
        }
      },
      "outputs": [
        {
          "output_type": "execute_result",
          "data": {
            "text/plain": [
              "dict"
            ]
          },
          "metadata": {},
          "execution_count": 39
        }
      ],
      "source": [
        "# more often we will load json immediately\n",
        "with open(\"data_file_indented_unicode.json\", encoding=\"utf-8\") as file_stream:\n",
        "    my_data_2 = json.load(file_stream) # if json is malformed then you will get some sort of error\n",
        "type(my_data_2)"
      ]
    },
    {
      "cell_type": "code",
      "execution_count": 40,
      "metadata": {
        "id": "T50B-x-lzFqM",
        "outputId": "0c3ee2d8-09a5-4019-c639-318186c905b8",
        "colab": {
          "base_uri": "https://localhost:8080/"
        }
      },
      "outputs": [
        {
          "output_type": "execute_result",
          "data": {
            "text/plain": [
              "{'firstName': 'Jane',\n",
              " 'lastName': 'Doe',\n",
              " 'hobbies': ['running', 'sky diving', 'dancing', 'šahs'],\n",
              " 'age': 43,\n",
              " 'children': [{'firstName': 'Alice', 'age': 7},\n",
              "  {'firstName': 'Bob', 'age': 13},\n",
              "  {'age': 14, 'firstName': 'Čarlijs'}],\n",
              " 'car': 'Ņiva'}"
            ]
          },
          "metadata": {},
          "execution_count": 40
        }
      ],
      "source": [
        "my_data_2"
      ]
    },
    {
      "cell_type": "code",
      "execution_count": 42,
      "metadata": {
        "id": "E6AHHdqmWH8J",
        "outputId": "7ba4e0f3-0cbf-4db9-ec02-796f38595c55",
        "colab": {
          "base_uri": "https://localhost:8080/"
        }
      },
      "outputs": [
        {
          "output_type": "stream",
          "name": "stdout",
          "text": [
            "Contents of my_data and my_data_2 are same? True\n",
            "Objects holding data are same? False\n"
          ]
        }
      ],
      "source": [
        "# contents are the same but two different objects\n",
        "# contents are equal but not the same\n",
        "# like two shopping bags with the same contents, same milk, same bread, same eggs\n",
        "print(\"Contents of my_data and my_data_2 are same?\", my_data == my_data_2)\n",
        "print(\"Objects holding data are same?\", my_data is my_data_2)"
      ]
    },
    {
      "cell_type": "code",
      "execution_count": null,
      "metadata": {
        "id": "UZX9KK05WH8J",
        "outputId": "b963ff23-7f0e-4c8c-8fe9-fce12b4e410a"
      },
      "outputs": [
        {
          "data": {
            "text/plain": [
              "'{\"firstName\": \"Jane\", \"lastName\": \"Doe\", \"hobbies\": [\"running\", \"sky diving\", \"dancing\", \"\\\\u0161ahs\"'"
            ]
          },
          "execution_count": 46,
          "metadata": {},
          "output_type": "execute_result"
        }
      ],
      "source": [
        "my_json_string = json.dumps(my_data) # converst Python data structure into json string\n",
        "my_json_string[:100]"
      ]
    },
    {
      "cell_type": "code",
      "execution_count": null,
      "metadata": {
        "id": "5anW74RyWH8J",
        "outputId": "72ea1c4e-65ec-4cd6-dfb8-f4e6b4619cbb"
      },
      "outputs": [
        {
          "data": {
            "text/plain": [
              "'\"Ka\\\\u0137is\"'"
            ]
          },
          "execution_count": 47,
          "metadata": {},
          "output_type": "execute_result"
        }
      ],
      "source": [
        "json.dumps(\"Kaķis\") # so non english characters get encoded into unicode special codes"
      ]
    },
    {
      "cell_type": "code",
      "execution_count": null,
      "metadata": {
        "id": "75JXptFZWH8J",
        "outputId": "0fc3035b-7bba-4813-a0cd-b5f1368d1939"
      },
      "outputs": [
        {
          "data": {
            "text/plain": [
              "'\"Kaķis\"'"
            ]
          },
          "execution_count": 48,
          "metadata": {},
          "output_type": "execute_result"
        }
      ],
      "source": [
        "json.dumps(\"Kaķis\", ensure_ascii=False) # so now we can see non-English"
      ]
    },
    {
      "cell_type": "code",
      "execution_count": null,
      "metadata": {
        "id": "QBcpVFevWH8K",
        "outputId": "c23fa712-ed43-44be-e8af-9e4a255d755c"
      },
      "outputs": [
        {
          "data": {
            "text/plain": [
              "(311, 'ķ')"
            ]
          },
          "execution_count": 38,
          "metadata": {},
          "output_type": "execute_result"
        }
      ],
      "source": [
        "ord(\"ķ\"),chr(1*16*16+3*16+7) # that's how hexadecimal coding works"
      ]
    },
    {
      "cell_type": "code",
      "execution_count": null,
      "metadata": {
        "id": "6TASlUMHWH8K",
        "outputId": "a1399dee-a503-48c8-a227-2c16f7523015"
      },
      "outputs": [
        {
          "data": {
            "text/plain": [
              "str"
            ]
          },
          "execution_count": 39,
          "metadata": {},
          "output_type": "execute_result"
        }
      ],
      "source": [
        "type(my_json_string)"
      ]
    },
    {
      "cell_type": "code",
      "execution_count": null,
      "metadata": {
        "id": "Mj9YCW12WH8K",
        "outputId": "0b86b491-4c7b-41a5-dcbc-f04ab641f4ce"
      },
      "outputs": [
        {
          "data": {
            "text/plain": [
              "{'firstName': 'Jane',\n",
              " 'lastName': 'Doe',\n",
              " 'hobbies': ['running', 'sky diving', 'dancing'],\n",
              " 'age': 43,\n",
              " 'children': [{'firstName': 'Alice', 'age': 7},\n",
              "  {'firstName': 'Bob', 'age': 13}]}"
            ]
          },
          "execution_count": 40,
          "metadata": {},
          "output_type": "execute_result"
        }
      ],
      "source": [
        "json.loads(my_json_string)"
      ]
    },
    {
      "cell_type": "code",
      "execution_count": null,
      "metadata": {
        "id": "QeHMUIN_WH8K",
        "outputId": "95b03260-2a1e-4bd6-dacd-04f258fc64d0"
      },
      "outputs": [
        {
          "data": {
            "text/plain": [
              "'{\"firstName\": \"Jane\", \"lastName\": \"Doe\", \"hobbies\": [\"running\", \"sky diving\", \"dancing\"], \"age\": 43, \"children\": [{\"firstName\": \"Alice\", \"age\": 7}, {\"firstName\": \"Bob\", \"age\": 13}]}'"
            ]
          },
          "execution_count": 41,
          "metadata": {},
          "output_type": "execute_result"
        }
      ],
      "source": [
        "json.dumps(my_data)"
      ]
    },
    {
      "cell_type": "code",
      "execution_count": null,
      "metadata": {
        "colab": {
          "base_uri": "https://localhost:8080/"
        },
        "id": "Pd4aoE0CgD7S",
        "outputId": "35c708a9-9da7-46bb-cbaa-989ccf2e7433"
      },
      "outputs": [
        {
          "data": {
            "text/plain": [
              "{'age': 43,\n",
              " 'car': 'Ņiva',\n",
              " 'children': [{'age': 7, 'firstName': 'Alice'},\n",
              "  {'age': 13, 'firstName': 'Bob'},\n",
              "  {'age': 14, 'firstName': 'Čarlijs'}],\n",
              " 'firstName': 'Jane',\n",
              " 'hobbies': ['running', 'sky diving', 'dancing', 'boxing'],\n",
              " 'lastName': 'Doe'}"
            ]
          },
          "execution_count": 43,
          "metadata": {},
          "output_type": "execute_result"
        }
      ],
      "source": [
        "with open(\"data_file_indented_unicode.json\", encoding=\"UTF-8\") as file_stream:\n",
        "  loaded_data = json.load(file_stream)\n",
        "loaded_data"
      ]
    },
    {
      "cell_type": "code",
      "execution_count": null,
      "metadata": {
        "id": "asQLeIY6zFqO"
      },
      "outputs": [],
      "source": [
        "# there is a mapping of Python data types to JSON data types\n",
        "# Python data type  JSON data type\n",
        "# dict              object\n",
        "# list, tuple       array\n",
        "# str               string\n",
        "# int, float        number\n",
        "# True              true\n",
        "# False             false\n",
        "# None              null\n",
        "\n",
        "# notice that JSON is more limited than Python\n",
        "# not everything can be converted to JSON without loss of information\n",
        "# for example tuples are converted to lists and you can't tell the difference\n",
        "\n",
        "# another limitation is that JSON does not allow for comments!\n",
        "# there have been recommendations to use JSON5 but it is not widely adopted"
      ]
    },
    {
      "cell_type": "code",
      "execution_count": null,
      "metadata": {
        "id": "wQpS5ukBzFqO"
      },
      "outputs": [],
      "source": [
        "# uses of JSON\n",
        "\n",
        "# JSON is used for data interchange between web applications\n",
        "# also used for data interchange between web applications and mobile applications\n",
        "# also used for settings files, configuration files, data files\n",
        "# there are databases that use JSON as a data storage format\n",
        "# there are databases that use JSON as a query language\n",
        "\n",
        "# here we are interested in using JSON as a data interchange format\n",
        "# to obtain data from a web application / page"
      ]
    },
    {
      "cell_type": "markdown",
      "source": [
        "## API  in general - JSON APIs"
      ],
      "metadata": {
        "id": "5w_ZMBAV85Sn"
      }
    },
    {
      "cell_type": "code",
      "execution_count": null,
      "metadata": {
        "id": "v5z7BWClzFqO"
      },
      "outputs": [],
      "source": [
        "# API - Application Programming Interface, a set of functions that allow you to interact with an application\n",
        "# JSON API - a set of functions that allow you to interact with an application using JSON\n",
        "\n",
        "# extremely popular way to interact with web applications\n",
        "# why ? because it is simple and easy to use\n",
        "\n",
        "# there are more difficult ways to interact with web applications"
      ]
    },
    {
      "cell_type": "code",
      "execution_count": 44,
      "metadata": {
        "id": "nATV64imWH8K"
      },
      "outputs": [],
      "source": [
        "import requests # this library is not included with Python but is very popular and comes with Anaconda\n",
        "# requests is also included with Google Colab\n",
        "# pip install requests otherwise in a terminal\n",
        "# above would be line on local machine\n",
        "# more on requests: https://pypi.org/project/requests/\n"
      ]
    },
    {
      "cell_type": "markdown",
      "source": [
        "### Making a web get request using requests library"
      ],
      "metadata": {
        "id": "h_VghUE_94xl"
      }
    },
    {
      "cell_type": "code",
      "execution_count": 46,
      "metadata": {
        "colab": {
          "base_uri": "https://localhost:8080/"
        },
        "id": "docYXOG0iidq",
        "outputId": "55509642-77f8-4bc4-e862-ff62ef655996"
      },
      "outputs": [
        {
          "output_type": "stream",
          "name": "stdout",
          "text": [
            "200\n"
          ]
        }
      ],
      "source": [
        "url = \"https://jsonplaceholder.typicode.com/users\" # this is a public API\n",
        "# url - uniform resource locator\n",
        "# uri - uniform resource identifier\n",
        "# url vs uri - https://stackoverflow.com/questions/176264/what-is-the-difference-between-a-uri-a-url-and-a-urn\n",
        "\n",
        "response = requests.get(url) # so this is a GET request similar to what happens when web browser loads a page\n",
        "# so get method returns a response object, it made a network request to the server at that url\n",
        "print(response.status_code) # Response Code 200 is good\n",
        "# in your notebooks you might want to include something like assert or if statement\n",
        "assert response.status_code == 200 # this would give you error if response is not 200\n",
        "# idea is to stop your notebook if you are running All code sells from top to bottom\n",
        "# assert does nothing if the evaluation is True"
      ]
    },
    {
      "cell_type": "code",
      "execution_count": null,
      "metadata": {
        "id": "prE1LCXMzFqO"
      },
      "outputs": [],
      "source": [
        "# list of HTTP response codes\n",
        "# https://en.wikipedia.org/wiki/List_of_HTTP_status_codes\n",
        "# 404 - not found\n",
        "# 500 - internal server error\n",
        "# 200 - OK\n",
        "# 4xx - client error - it is our fault\n",
        "# 5xx - server error - it is the server's fault"
      ]
    },
    {
      "cell_type": "code",
      "execution_count": 47,
      "metadata": {
        "colab": {
          "base_uri": "https://localhost:8080/"
        },
        "id": "G2EGR1DLjGi8",
        "outputId": "55128f13-2ef9-48e6-93d3-89abbd5df13f"
      },
      "outputs": [
        {
          "output_type": "stream",
          "name": "stdout",
          "text": [
            "[\n",
            "  {\n",
            "    \"id\": 1,\n",
            "    \"name\": \"Leanne Graham\",\n",
            "    \"username\": \"Bret\",\n",
            "    \"email\": \"Sincere@april.biz\",\n",
            "    \"address\": {\n",
            "      \"street\": \"Kulas Light\",\n",
            "      \"suite\": \"Apt. 556\",\n",
            "      \"city\": \"Gwenborough\",\n",
            "      \"zipcode\": \"92998-3874\",\n",
            "      \"geo\": {\n",
            "        \"lat\": \"-37.3159\",\n",
            "        \"lng\": \"81.1496\"\n",
            "      }\n",
            "    },\n",
            "    \"phone\": \"1-770-736-8031 x56442\",\n",
            "    \"website\": \"hildegard.org\",\n",
            "    \"company\": {\n",
            "      \"name\": \"Romaguera-Crona\",\n",
            "      \"catchPhrase\": \"Multi-layered client-server neural-net\",\n",
            "      \"bs\": \"harness real-time e-markets\"\n",
            "    }\n",
            "  },\n",
            "  {\n",
            "    \"id\": 2,\n",
            "    \"name\": \"Ervin Howell\",\n",
            "    \"username\": \"Antonette\",\n",
            "    \"email\": \"Shanna@melissa.tv\",\n",
            "    \"address\": {\n",
            "      \"street\": \"Victor Plains\",\n",
            "      \"suite\": \"Suite 879\",\n",
            "      \"city\": \"Wisokyburgh\",\n",
            "      \"zipcode\": \"90566-7771\",\n",
            "      \"geo\": {\n",
            "        \"lat\": \"-43.9509\",\n",
            "        \"lng\": \"-34.4618\"\n",
            "      }\n",
            "    },\n",
            "    \"phone\": \"010-692-6593 x09125\",\n",
            "    \"website\": \"anastasia.net\",\n",
            "    \"company\": {\n",
            "      \"name\": \"Deckow-Crist\",\n",
            "      \"catchPhrase\": \"Proactive didactic contingency\",\n",
            "      \"bs\": \"synergize scalable supply-chains\"\n",
            "    }\n",
            "  },\n",
            "  {\n",
            "    \"id\": 3,\n",
            "    \"name\": \"Clementine Bauch\",\n",
            "    \"username\": \"Samantha\",\n",
            "    \"email\": \"Nathan@yesenia.net\",\n",
            "    \"address\": {\n",
            "      \"street\": \"Douglas Extension\",\n",
            "      \"suite\": \"Suite 847\",\n",
            "      \"city\": \"McKenziehaven\",\n",
            "      \"zipcode\": \"59590-4157\",\n",
            "      \"geo\": {\n",
            "        \"lat\": \"-68.6102\",\n",
            "        \"lng\": \"-47.0653\"\n",
            "      }\n",
            "    },\n",
            "    \"phone\": \"1-463-123-4447\",\n",
            "    \"website\": \"ramiro.info\",\n",
            "    \"company\": {\n",
            "      \"name\": \"Romaguera-Jacobson\",\n",
            "      \"catchPhrase\": \"Face to face bifurcated interface\",\n",
            "      \"bs\": \"e-enable strategic applications\"\n",
            "    }\n",
            "  },\n",
            "  {\n",
            "    \"id\": 4,\n",
            "    \"name\": \"Patricia Lebsack\",\n",
            "    \"username\": \"Karianne\",\n",
            "    \"email\": \"Julianne.OConner@kory.org\",\n",
            "    \"address\": {\n",
            "      \"street\": \"Hoeger Mall\",\n",
            "      \"suite\": \"Apt. 692\",\n",
            "      \"city\": \"South Elvis\",\n",
            "      \"zipcode\": \"53919-4257\",\n",
            "      \"geo\": {\n",
            "        \"lat\": \"29.4572\",\n",
            "        \"lng\": \"-164.2990\"\n",
            "      }\n",
            "    },\n",
            "    \"phone\": \"493-170-9623 x156\",\n",
            "    \"website\": \"kale.biz\",\n",
            "    \"company\": {\n",
            "      \"name\": \"Robel-Corkery\",\n",
            "      \"catchPhrase\": \"Multi-tiered zero tolerance productivity\",\n",
            "      \"bs\": \"transition cutting-edge web services\"\n",
            "    }\n",
            "  },\n",
            "  {\n",
            "    \"id\": 5,\n",
            "    \"name\": \"Chelsey Dietrich\",\n",
            "    \"username\": \"Kamren\",\n",
            "    \"email\": \"Lucio_Hettinger@annie.ca\",\n",
            "    \"address\": {\n",
            "      \"street\": \"Skiles Walks\",\n",
            "      \"suite\": \"Suite 351\",\n",
            "      \"city\": \"Roscoeview\",\n",
            "      \"zipcode\": \"33263\",\n",
            "      \"geo\": {\n",
            "        \"lat\": \"-31.8129\",\n",
            "        \"lng\": \"62.5342\"\n",
            "      }\n",
            "    },\n",
            "    \"phone\": \"(254)954-1289\",\n",
            "    \"website\": \"demarco.info\",\n",
            "    \"company\": {\n",
            "      \"name\": \"Keebler LLC\",\n",
            "      \"catchPhrase\": \"User-centric fault-tolerant solution\",\n",
            "      \"bs\": \"revolutionize end-to-end systems\"\n",
            "    }\n",
            "  },\n",
            "  {\n",
            "    \"id\": 6,\n",
            "    \"name\": \"Mrs. Dennis Schulist\",\n",
            "    \"username\": \"Leopoldo_Corkery\",\n",
            "    \"email\": \"Karley_Dach@jasper.info\",\n",
            "    \"address\": {\n",
            "      \"street\": \"Norberto Crossing\",\n",
            "      \"suite\": \"Apt. 950\",\n",
            "      \"city\": \"South Christy\",\n",
            "      \"zipcode\": \"23505-1337\",\n",
            "      \"geo\": {\n",
            "        \"lat\": \"-71.4197\",\n",
            "        \"lng\": \"71.7478\"\n",
            "      }\n",
            "    },\n",
            "    \"phone\": \"1-477-935-8478 x6430\",\n",
            "    \"website\": \"ola.org\",\n",
            "    \"company\": {\n",
            "      \"name\": \"Considine-Lockman\",\n",
            "      \"catchPhrase\": \"Synchronised bottom-line interface\",\n",
            "      \"bs\": \"e-enable innovative applications\"\n",
            "    }\n",
            "  },\n",
            "  {\n",
            "    \"id\": 7,\n",
            "    \"name\": \"Kurtis Weissnat\",\n",
            "    \"username\": \"Elwyn.Skiles\",\n",
            "    \"email\": \"Telly.Hoeger@billy.biz\",\n",
            "    \"address\": {\n",
            "      \"street\": \"Rex Trail\",\n",
            "      \"suite\": \"Suite 280\",\n",
            "      \"city\": \"Howemouth\",\n",
            "      \"zipcode\": \"58804-1099\",\n",
            "      \"geo\": {\n",
            "        \"lat\": \"24.8918\",\n",
            "        \"lng\": \"21.8984\"\n",
            "      }\n",
            "    },\n",
            "    \"phone\": \"210.067.6132\",\n",
            "    \"website\": \"elvis.io\",\n",
            "    \"company\": {\n",
            "      \"name\": \"Johns Group\",\n",
            "      \"catchPhrase\": \"Configurable multimedia task-force\",\n",
            "      \"bs\": \"generate enterprise e-tailers\"\n",
            "    }\n",
            "  },\n",
            "  {\n",
            "    \"id\": 8,\n",
            "    \"name\": \"Nicholas Runolfsdottir V\",\n",
            "    \"username\": \"Maxime_Nienow\",\n",
            "    \"email\": \"Sherwood@rosamond.me\",\n",
            "    \"address\": {\n",
            "      \"street\": \"Ellsworth Summit\",\n",
            "      \"suite\": \"Suite 729\",\n",
            "      \"city\": \"Aliyaview\",\n",
            "      \"zipcode\": \"45169\",\n",
            "      \"geo\": {\n",
            "        \"lat\": \"-14.3990\",\n",
            "        \"lng\": \"-120.7677\"\n",
            "      }\n",
            "    },\n",
            "    \"phone\": \"586.493.6943 x140\",\n",
            "    \"website\": \"jacynthe.com\",\n",
            "    \"company\": {\n",
            "      \"name\": \"Abernathy Group\",\n",
            "      \"catchPhrase\": \"Implemented secondary concept\",\n",
            "      \"bs\": \"e-enable extensible e-tailers\"\n",
            "    }\n",
            "  },\n",
            "  {\n",
            "    \"id\": 9,\n",
            "    \"name\": \"Glenna Reichert\",\n",
            "    \"username\": \"Delphine\",\n",
            "    \"email\": \"Chaim_McDermott@dana.io\",\n",
            "    \"address\": {\n",
            "      \"street\": \"Dayna Park\",\n",
            "      \"suite\": \"Suite 449\",\n",
            "      \"city\": \"Bartholomebury\",\n",
            "      \"zipcode\": \"76495-3109\",\n",
            "      \"geo\": {\n",
            "        \"lat\": \"24.6463\",\n",
            "        \"lng\": \"-168.8889\"\n",
            "      }\n",
            "    },\n",
            "    \"phone\": \"(775)976-6794 x41206\",\n",
            "    \"website\": \"conrad.com\",\n",
            "    \"company\": {\n",
            "      \"name\": \"Yost and Sons\",\n",
            "      \"catchPhrase\": \"Switchable contextually-based project\",\n",
            "      \"bs\": \"aggregate real-time technologies\"\n",
            "    }\n",
            "  },\n",
            "  {\n",
            "    \"id\": 10,\n",
            "    \"name\": \"Clementina DuBuque\",\n",
            "    \"username\": \"Moriah.Stanton\",\n",
            "    \"email\": \"Rey.Padberg@karina.biz\",\n",
            "    \"address\": {\n",
            "      \"street\": \"Kattie Turnpike\",\n",
            "      \"suite\": \"Suite 198\",\n",
            "      \"city\": \"Lebsackbury\",\n",
            "      \"zipcode\": \"31428-2261\",\n",
            "      \"geo\": {\n",
            "        \"lat\": \"-38.2386\",\n",
            "        \"lng\": \"57.2232\"\n",
            "      }\n",
            "    },\n",
            "    \"phone\": \"024-648-3804\",\n",
            "    \"website\": \"ambrose.net\",\n",
            "    \"company\": {\n",
            "      \"name\": \"Hoeger LLC\",\n",
            "      \"catchPhrase\": \"Centralized empowering task-force\",\n",
            "      \"bs\": \"target end-to-end models\"\n",
            "    }\n",
            "  }\n",
            "]\n"
          ]
        }
      ],
      "source": [
        "print(response.text) # .text is a string"
      ]
    },
    {
      "cell_type": "code",
      "execution_count": 49,
      "metadata": {
        "colab": {
          "base_uri": "https://localhost:8080/"
        },
        "id": "vYF2pfqNjRec",
        "outputId": "5fc4ae14-04df-4e78-e895-e8a49e70cdb0"
      },
      "outputs": [
        {
          "output_type": "execute_result",
          "data": {
            "text/plain": [
              "list"
            ]
          },
          "metadata": {},
          "execution_count": 49
        }
      ],
      "source": [
        "# it would be much easier to work with this data if it was in a Python data structure\n",
        "# so requests provides a method to convert the response text into a Python data structure\n",
        "# use this if you know that the response is in JSON format\n",
        "users = response.json() # this will work if we requested a JSON resource (NOT HTML!!)\n",
        "type(users) # so users is just Python data structure (most likely list or dictionary)\n",
        "# you can get an idea beforehand by peaking at first character of JSON text { -> dict, [ -> list"
      ]
    },
    {
      "cell_type": "code",
      "execution_count": 50,
      "metadata": {
        "colab": {
          "base_uri": "https://localhost:8080/"
        },
        "id": "pu0wlFz5jzIq",
        "outputId": "56536c9f-3e50-4810-ca92-4dcd9d362814"
      },
      "outputs": [
        {
          "output_type": "execute_result",
          "data": {
            "text/plain": [
              "{'id': 10,\n",
              " 'name': 'Clementina DuBuque',\n",
              " 'username': 'Moriah.Stanton',\n",
              " 'email': 'Rey.Padberg@karina.biz',\n",
              " 'address': {'street': 'Kattie Turnpike',\n",
              "  'suite': 'Suite 198',\n",
              "  'city': 'Lebsackbury',\n",
              "  'zipcode': '31428-2261',\n",
              "  'geo': {'lat': '-38.2386', 'lng': '57.2232'}},\n",
              " 'phone': '024-648-3804',\n",
              " 'website': 'ambrose.net',\n",
              " 'company': {'name': 'Hoeger LLC',\n",
              "  'catchPhrase': 'Centralized empowering task-force',\n",
              "  'bs': 'target end-to-end models'}}"
            ]
          },
          "metadata": {},
          "execution_count": 50
        }
      ],
      "source": [
        "users[-1] # last user"
      ]
    },
    {
      "cell_type": "code",
      "execution_count": 51,
      "metadata": {
        "colab": {
          "base_uri": "https://localhost:8080/"
        },
        "id": "r9HPL4-Mj-Yl",
        "outputId": "b934c01d-c3a9-4003-dfc8-8ac943785368"
      },
      "outputs": [
        {
          "output_type": "execute_result",
          "data": {
            "text/plain": [
              "dict"
            ]
          },
          "metadata": {},
          "execution_count": 51
        }
      ],
      "source": [
        "type(users[-1]) # will be a dictionary"
      ]
    },
    {
      "cell_type": "markdown",
      "source": [
        "### List of dictionaries\n",
        "\n",
        "Lists of dictionaries are often used to present data that was originally in tables\n",
        "Each row is an entry in list, then each entry is a dictionary\n",
        "and then each column name is key and each column value for that row is the value"
      ],
      "metadata": {
        "id": "qLN--vwn_xuE"
      }
    },
    {
      "cell_type": "code",
      "execution_count": 52,
      "metadata": {
        "colab": {
          "base_uri": "https://localhost:8080/",
          "height": 35
        },
        "id": "b2ibYaqCkDti",
        "outputId": "69ed10b5-b64a-48be-b228-4cedf7a62eda"
      },
      "outputs": [
        {
          "output_type": "execute_result",
          "data": {
            "text/plain": [
              "'Clementina DuBuque'"
            ],
            "application/vnd.google.colaboratory.intrinsic+json": {
              "type": "string"
            }
          },
          "metadata": {},
          "execution_count": 52
        }
      ],
      "source": [
        "users[-1]['name']  # a string"
      ]
    },
    {
      "cell_type": "code",
      "execution_count": null,
      "metadata": {
        "id": "SXQasFbEkcyb"
      },
      "outputs": [],
      "source": [
        "# how could we get first and last?"
      ]
    },
    {
      "cell_type": "code",
      "execution_count": 53,
      "metadata": {
        "colab": {
          "base_uri": "https://localhost:8080/",
          "height": 35
        },
        "id": "5miRrIiWkXjI",
        "outputId": "78512a9f-2515-4e6b-bbd3-eda71c465e06"
      },
      "outputs": [
        {
          "output_type": "execute_result",
          "data": {
            "text/plain": [
              "'Clementina DuBuque'"
            ],
            "application/vnd.google.colaboratory.intrinsic+json": {
              "type": "string"
            }
          },
          "metadata": {},
          "execution_count": 53
        }
      ],
      "source": [
        "last_user_names = users[-1]['name']\n",
        "last_user_names"
      ]
    },
    {
      "cell_type": "code",
      "execution_count": 54,
      "metadata": {
        "colab": {
          "base_uri": "https://localhost:8080/"
        },
        "id": "SC3RU_bDkiMi",
        "outputId": "7323958f-a5e7-4a86-8b9b-7910ae7c6b75"
      },
      "outputs": [
        {
          "output_type": "execute_result",
          "data": {
            "text/plain": [
              "['Clementina', 'DuBuque']"
            ]
          },
          "metadata": {},
          "execution_count": 54
        }
      ],
      "source": [
        "name_list = last_user_names.split(\" \") # just a regular Python split method nothing to do with JSON\n",
        "name_list"
      ]
    },
    {
      "cell_type": "code",
      "execution_count": 55,
      "metadata": {
        "colab": {
          "base_uri": "https://localhost:8080/"
        },
        "id": "ikk4hxSNkqr0",
        "outputId": "cb96dfa2-f84e-4dbb-a8e8-f353e4968ec7"
      },
      "outputs": [
        {
          "output_type": "execute_result",
          "data": {
            "text/plain": [
              "('Clementina', 'DuBuque')"
            ]
          },
          "metadata": {},
          "execution_count": 55
        }
      ],
      "source": [
        "first_name = name_list[0]\n",
        "last_name = name_list[-1]\n",
        "first_name, last_name"
      ]
    },
    {
      "cell_type": "code",
      "execution_count": 59,
      "metadata": {
        "colab": {
          "base_uri": "https://localhost:8080/",
          "height": 35
        },
        "id": "2L1MuMOFk4lA",
        "outputId": "939867b1-7e6b-4c79-b2e5-3684aef4fc7b"
      },
      "outputs": [
        {
          "output_type": "execute_result",
          "data": {
            "text/plain": [
              "'-38.2386'"
            ],
            "application/vnd.google.colaboratory.intrinsic+json": {
              "type": "string"
            }
          },
          "metadata": {},
          "execution_count": 59
        }
      ],
      "source": [
        "# so here latitute and longitude are strings\n",
        "# they are deeply nested in the data structure\n",
        "# list then dict then dict and one last dict\n",
        "# lattitude for the last user\n",
        "lat = users[-1]['address']['geo']['lat'] # so we have 3 levels of dictionaries here!!\n",
        "# it would be safer to use get method if you are not sure that the key exists\n",
        "lat # it is a string"
      ]
    },
    {
      "cell_type": "code",
      "execution_count": 60,
      "metadata": {
        "colab": {
          "base_uri": "https://localhost:8080/"
        },
        "id": "_kuCibmvlK_-",
        "outputId": "cc0b75c3-8ef2-41bb-cf0b-267463b51411"
      },
      "outputs": [
        {
          "output_type": "execute_result",
          "data": {
            "text/plain": [
              "-38.2386"
            ]
          },
          "metadata": {},
          "execution_count": 60
        }
      ],
      "source": [
        "lat = float(lat) # another common issue is that often JSON numbers are actually strings\n",
        "# so check whether number is in quotes as in here\n",
        "lat # now it is a number, floating (with a comma)"
      ]
    },
    {
      "cell_type": "code",
      "execution_count": null,
      "metadata": {
        "id": "d_9V2BpLzFqR"
      },
      "outputs": [],
      "source": [
        "# not all APIs are free\n",
        "# many require API keys\n",
        "# those can be paid or free\n",
        "# you obtain keys from the service provider\n",
        "# in general\n",
        "# API keys should not be shown in public notebooks!\n",
        "# especially the paid ones\n",
        "# if you publicly share your Amazon AWS key expect a VERY LARGE BILL SOON - or a very long talk with your provider\n"
      ]
    },
    {
      "cell_type": "code",
      "execution_count": null,
      "metadata": {
        "id": "8N261nYUzFqR"
      },
      "outputs": [],
      "source": [
        "# mockaroo.com is a free service that provides fake data similar to what you would get from a real API\n",
        "# you can use it to test your code\n",
        "# but to use it you it is recommended to register and get an API key"
      ]
    },
    {
      "cell_type": "code",
      "execution_count": 61,
      "metadata": {
        "colab": {
          "base_uri": "https://localhost:8080/"
        },
        "id": "Yi2E4qmPWH8K",
        "outputId": "6786c769-a14a-4091-8948-5f7641cce6dd"
      },
      "outputs": [
        {
          "output_type": "stream",
          "name": "stdout",
          "text": [
            "200\n"
          ]
        }
      ],
      "source": [
        "# we make a http request to a url and print the response code\n",
        "# url stands for uniform resource locator\n",
        "url = \"https://my.api.mockaroo.com/ageincluded.json?key=58227cb0\"\n",
        "# careful with publishing your API keys - they can be used to make requests on your behalf\n",
        "# in this case this key was registered by me and is not a secret, long time ago I used it for a course\n",
        "# there are many horror stories about people publishing their API keys and then getting charged for requests\n",
        "# so you should get your own API key and not use mine in general\n",
        "response = requests.get(url)\n",
        "print(response.status_code) # Response Code 200 is good!"
      ]
    },
    {
      "cell_type": "markdown",
      "metadata": {
        "id": "E9EiYKZ4WH8K"
      },
      "source": [
        "### List of HTTP codes\n",
        "* 200 is OK - everything is as expected, we asked for resource and we got it\n",
        "* the most famous is 404 code for not found, most likely from typos or resource missing\n",
        "* https://en.wikipedia.org/wiki/List_of_HTTP_status_codes"
      ]
    },
    {
      "cell_type": "code",
      "execution_count": null,
      "metadata": {
        "colab": {
          "base_uri": "https://localhost:8080/",
          "height": 35
        },
        "id": "z2596qDXWH8L",
        "outputId": "a6b11fd9-1e47-4141-82f6-500725d54665"
      },
      "outputs": [
        {
          "data": {
            "text/plain": [
              "'[{\"id\":1,\"first_name\":\"Ibbie\",\"last_name\":\"Bennoug'"
            ]
          },
          "execution_count": 63,
          "metadata": {},
          "output_type": "execute_result"
        }
      ],
      "source": [
        "response.text[:50]"
      ]
    },
    {
      "cell_type": "code",
      "execution_count": null,
      "metadata": {
        "colab": {
          "base_uri": "https://localhost:8080/"
        },
        "id": "D9wTR8o8WH8L",
        "outputId": "0d6f95fd-587e-44af-b4c6-092c2bd62dd0"
      },
      "outputs": [
        {
          "data": {
            "text/plain": [
              "(list, 100)"
            ]
          },
          "execution_count": 64,
          "metadata": {},
          "output_type": "execute_result"
        }
      ],
      "source": [
        "data_from_json = response.json() # we do not need json.loads\n",
        "type(data_from_json), len(data_from_json)"
      ]
    },
    {
      "cell_type": "code",
      "execution_count": null,
      "metadata": {
        "colab": {
          "base_uri": "https://localhost:8080/"
        },
        "id": "hxOqdBu8WH8L",
        "outputId": "d2f1994f-3078-47ff-c5c2-f891f200991d"
      },
      "outputs": [
        {
          "data": {
            "text/plain": [
              "(list, 100)"
            ]
          },
          "execution_count": 65,
          "metadata": {},
          "output_type": "execute_result"
        }
      ],
      "source": [
        "my_mock_data = json.loads(response.text) # kind of useless since we have response.json()\n",
        "type(my_mock_data), len(my_mock_data)"
      ]
    },
    {
      "cell_type": "code",
      "execution_count": null,
      "metadata": {
        "colab": {
          "base_uri": "https://localhost:8080/"
        },
        "id": "KoQQLWOQWH8L",
        "outputId": "2ef2a990-d49f-4212-b5e7-9b93646373b6"
      },
      "outputs": [
        {
          "data": {
            "text/plain": [
              "(True, False)"
            ]
          },
          "execution_count": 66,
          "metadata": {},
          "output_type": "execute_result"
        }
      ],
      "source": [
        "data_from_json == my_mock_data, data_from_json is my_mock_data\n",
        "# again data is the same, but 2 different objects"
      ]
    },
    {
      "cell_type": "code",
      "execution_count": null,
      "metadata": {
        "id": "A0BOXe86zFqS",
        "outputId": "a6ccd020-8efa-4d12-f0b5-ea8f8135d1c4"
      },
      "outputs": [
        {
          "data": {
            "text/plain": [
              "list"
            ]
          },
          "execution_count": 68,
          "metadata": {},
          "output_type": "execute_result"
        }
      ],
      "source": [
        "type(my_mock_data) # this will be a list"
      ]
    },
    {
      "cell_type": "code",
      "execution_count": null,
      "metadata": {
        "id": "CFQu7bjJzFqS",
        "outputId": "f6026cb5-b69b-44be-ab89-e11566adb9a4"
      },
      "outputs": [
        {
          "data": {
            "text/plain": [
              "dict"
            ]
          },
          "execution_count": 69,
          "metadata": {},
          "output_type": "execute_result"
        }
      ],
      "source": [
        "first_user = my_mock_data[0]\n",
        "type(first_user) # this will be a dictionary"
      ]
    },
    {
      "cell_type": "code",
      "execution_count": null,
      "metadata": {
        "id": "6NP0t_7BzFqS",
        "outputId": "fd7c55d0-1042-40c3-ac13-3a13d9ca5ef3"
      },
      "outputs": [
        {
          "data": {
            "text/plain": [
              "66"
            ]
          },
          "execution_count": 70,
          "metadata": {},
          "output_type": "execute_result"
        }
      ],
      "source": [
        "age_first_user = first_user['age']\n",
        "age_first_user  # you will have different ages, different fake data"
      ]
    },
    {
      "cell_type": "code",
      "execution_count": null,
      "metadata": {
        "colab": {
          "base_uri": "https://localhost:8080/"
        },
        "id": "m-MnSs-emRkY",
        "outputId": "9b9716a2-7389-4c80-a360-0fd10fc215cd"
      },
      "outputs": [
        {
          "name": "stdout",
          "output_type": "stream",
          "text": [
            "[{'id': 1, 'first_name': 'Ibbie', 'last_name': 'Bennough', 'email': 'ibennough0@flavors.me', 'gender': 'Female', 'ip_address': '117.74.74.198', 'age': 66}, {'id': 2, 'first_name': 'Rosalynd', 'last_name': 'Lovick', 'email': 'rlovick1@multiply.com', 'gender': 'Polygender', 'ip_address': '83.171.100.15', 'age': 41}, {'id': 3, 'first_name': 'Gardy', 'last_name': 'Collelton', 'email': 'gcollelton2@cbsnews.com', 'gender': 'Male', 'ip_address': '211.207.5.164', 'age': 71}, {'id': 4, 'first_name': 'Renate', 'last_name': 'Whiskerd', 'email': 'rwhiskerd3@webeden.co.uk', 'gender': 'Female', 'ip_address': '113.89.221.75', 'age': 94}, {'id': 5, 'first_name': 'Reta', 'last_name': 'Steljes', 'email': 'rsteljes4@163.com', 'gender': 'Female', 'ip_address': '31.183.217.60', 'age': 47}]\n"
          ]
        }
      ],
      "source": [
        "print(my_mock_data[:5])  # print first 5 entries"
      ]
    },
    {
      "cell_type": "code",
      "execution_count": null,
      "metadata": {
        "id": "gJOVNjKxzFqT"
      },
      "outputs": [],
      "source": []
    },
    {
      "cell_type": "code",
      "execution_count": null,
      "metadata": {
        "colab": {
          "base_uri": "https://localhost:8080/"
        },
        "id": "Awztns1emnDv",
        "outputId": "e5a7a776-61e4-4089-c0dc-1d82393c58af"
      },
      "outputs": [
        {
          "data": {
            "text/plain": [
              "[66,\n",
              " 41,\n",
              " 71,\n",
              " 94,\n",
              " 47,\n",
              " 19,\n",
              " 3,\n",
              " 97,\n",
              " 90,\n",
              " 57,\n",
              " 75,\n",
              " 25,\n",
              " 100,\n",
              " 56,\n",
              " 70,\n",
              " 60,\n",
              " 23,\n",
              " 64,\n",
              " 7,\n",
              " 35,\n",
              " 71,\n",
              " 64,\n",
              " 82,\n",
              " 99,\n",
              " 27,\n",
              " 39,\n",
              " 4,\n",
              " 98,\n",
              " 57,\n",
              " 49,\n",
              " 50,\n",
              " 16,\n",
              " 57,\n",
              " 55,\n",
              " 12,\n",
              " 81,\n",
              " 80,\n",
              " 22,\n",
              " 53,\n",
              " 30,\n",
              " 48,\n",
              " 21,\n",
              " 76,\n",
              " 78,\n",
              " 39,\n",
              " 43,\n",
              " 31,\n",
              " 3,\n",
              " 91,\n",
              " 39,\n",
              " 69,\n",
              " 76,\n",
              " 34,\n",
              " 32,\n",
              " 35,\n",
              " 84,\n",
              " 59,\n",
              " 10,\n",
              " 16,\n",
              " 47,\n",
              " 90,\n",
              " 31,\n",
              " 37,\n",
              " 92,\n",
              " 63,\n",
              " 95,\n",
              " 35,\n",
              " 57,\n",
              " 58,\n",
              " 81,\n",
              " 17,\n",
              " 72,\n",
              " 56,\n",
              " 64,\n",
              " 3,\n",
              " 63,\n",
              " 43,\n",
              " 33,\n",
              " 40,\n",
              " 6,\n",
              " 7,\n",
              " 69,\n",
              " 98,\n",
              " 73,\n",
              " 54,\n",
              " 31,\n",
              " 28,\n",
              " 97,\n",
              " 55,\n",
              " 36,\n",
              " 64,\n",
              " 38,\n",
              " 95,\n",
              " 3,\n",
              " 61,\n",
              " 57,\n",
              " 53,\n",
              " 28,\n",
              " 93,\n",
              " 57]"
            ]
          },
          "execution_count": 71,
          "metadata": {},
          "output_type": "execute_result"
        }
      ],
      "source": [
        "# let's get a list of all the ages\n",
        "age_list = [person[\"age\"] for person in my_mock_data]\n",
        "age_list"
      ]
    },
    {
      "cell_type": "code",
      "execution_count": null,
      "metadata": {
        "id": "f7SMIp1EnJUu"
      },
      "outputs": [],
      "source": []
    },
    {
      "cell_type": "code",
      "execution_count": null,
      "metadata": {
        "colab": {
          "base_uri": "https://localhost:8080/"
        },
        "id": "aFNO2l5HmyiQ",
        "outputId": "5a3374de-e028-4969-fd6c-adaebf27bc12"
      },
      "outputs": [
        {
          "data": {
            "text/plain": [
              "52.1"
            ]
          },
          "execution_count": 72,
          "metadata": {},
          "output_type": "execute_result"
        }
      ],
      "source": [
        "average_age = sum(age_list)/len(age_list)\n",
        "average_age"
      ]
    },
    {
      "cell_type": "code",
      "execution_count": null,
      "metadata": {
        "id": "N8jTOQaZWH8L"
      },
      "outputs": [],
      "source": [
        "import pandas as pd # Anaconda includes by default think of Excel on steroids"
      ]
    },
    {
      "cell_type": "code",
      "execution_count": null,
      "metadata": {
        "id": "rQWU0LIbzFqT"
      },
      "outputs": [],
      "source": [
        "# what is Pandas?\n",
        "\n",
        "# Pandas is a library for data analysis\n",
        "# it is built on top of NumPy\n",
        "# it is very popular in data science\n",
        "# it is very popular in data engineering\n",
        "# it is very popular in data analytics\n",
        "# it is very popular in data visualization\n",
        "# it is very popular in machine learning\n",
        "# it is very popular in deep learning\n",
        "# it is very popular in artificial intelligence\n",
        "\n",
        "# it can handle much larger data sets than Excel\n"
      ]
    },
    {
      "cell_type": "code",
      "execution_count": null,
      "metadata": {
        "colab": {
          "base_uri": "https://localhost:8080/",
          "height": 206
        },
        "id": "SBUQCWVoWH8L",
        "outputId": "a06da104-ca43-4283-8755-ab5f80a89631"
      },
      "outputs": [
        {
          "data": {
            "text/html": [
              "<div>\n",
              "<style scoped>\n",
              "    .dataframe tbody tr th:only-of-type {\n",
              "        vertical-align: middle;\n",
              "    }\n",
              "\n",
              "    .dataframe tbody tr th {\n",
              "        vertical-align: top;\n",
              "    }\n",
              "\n",
              "    .dataframe thead th {\n",
              "        text-align: right;\n",
              "    }\n",
              "</style>\n",
              "<table border=\"1\" class=\"dataframe\">\n",
              "  <thead>\n",
              "    <tr style=\"text-align: right;\">\n",
              "      <th></th>\n",
              "      <th>id</th>\n",
              "      <th>first_name</th>\n",
              "      <th>last_name</th>\n",
              "      <th>email</th>\n",
              "      <th>gender</th>\n",
              "      <th>ip_address</th>\n",
              "      <th>age</th>\n",
              "    </tr>\n",
              "  </thead>\n",
              "  <tbody>\n",
              "    <tr>\n",
              "      <th>0</th>\n",
              "      <td>1</td>\n",
              "      <td>Moira</td>\n",
              "      <td>Ranger</td>\n",
              "      <td>mranger0@timesonline.co.uk</td>\n",
              "      <td>Female</td>\n",
              "      <td>58.163.121.253</td>\n",
              "      <td>31</td>\n",
              "    </tr>\n",
              "    <tr>\n",
              "      <th>1</th>\n",
              "      <td>2</td>\n",
              "      <td>Ragnar</td>\n",
              "      <td>O'Brogane</td>\n",
              "      <td>robrogane1@bing.com</td>\n",
              "      <td>Male</td>\n",
              "      <td>147.50.239.79</td>\n",
              "      <td>4</td>\n",
              "    </tr>\n",
              "    <tr>\n",
              "      <th>2</th>\n",
              "      <td>3</td>\n",
              "      <td>Marten</td>\n",
              "      <td>Bartke</td>\n",
              "      <td>mbartke2@blinklist.com</td>\n",
              "      <td>Male</td>\n",
              "      <td>18.217.103.111</td>\n",
              "      <td>99</td>\n",
              "    </tr>\n",
              "    <tr>\n",
              "      <th>3</th>\n",
              "      <td>4</td>\n",
              "      <td>Linnet</td>\n",
              "      <td>Semrad</td>\n",
              "      <td>lsemrad3@dagondesign.com</td>\n",
              "      <td>Female</td>\n",
              "      <td>126.13.65.83</td>\n",
              "      <td>1</td>\n",
              "    </tr>\n",
              "    <tr>\n",
              "      <th>4</th>\n",
              "      <td>5</td>\n",
              "      <td>Korry</td>\n",
              "      <td>Lindro</td>\n",
              "      <td>klindro4@google.cn</td>\n",
              "      <td>Female</td>\n",
              "      <td>51.165.30.218</td>\n",
              "      <td>77</td>\n",
              "    </tr>\n",
              "  </tbody>\n",
              "</table>\n",
              "</div>"
            ],
            "text/plain": [
              "   id first_name  last_name                       email  gender  \\\n",
              "0   1      Moira     Ranger  mranger0@timesonline.co.uk  Female   \n",
              "1   2     Ragnar  O'Brogane         robrogane1@bing.com    Male   \n",
              "2   3     Marten     Bartke      mbartke2@blinklist.com    Male   \n",
              "3   4     Linnet     Semrad    lsemrad3@dagondesign.com  Female   \n",
              "4   5      Korry     Lindro          klindro4@google.cn  Female   \n",
              "\n",
              "       ip_address  age  \n",
              "0  58.163.121.253   31  \n",
              "1   147.50.239.79    4  \n",
              "2  18.217.103.111   99  \n",
              "3    126.13.65.83    1  \n",
              "4   51.165.30.218   77  "
            ]
          },
          "execution_count": 76,
          "metadata": {},
          "output_type": "execute_result"
        }
      ],
      "source": [
        "df = pd.read_json(url) # so Pandas includes parsing JSON\n",
        "# so read_json made a network request to the server at that url\n",
        "# in this case this API gives you new data each time you make a request\n",
        "df.head()  # .head method will show you the first 5 rows, you can specify how many rows like .head(10)"
      ]
    },
    {
      "cell_type": "code",
      "execution_count": null,
      "metadata": {
        "id": "LR0n1q_iWH8L"
      },
      "outputs": [],
      "source": [
        "# maybe we have to leave our work and we want to save the data\n",
        "df.to_csv(\"mock_data.csv\") # could go back to json, or perhaps xlsx or other formats such as database"
      ]
    },
    {
      "cell_type": "code",
      "execution_count": null,
      "metadata": {
        "id": "-aK-2MvmnpHU"
      },
      "outputs": [],
      "source": [
        "df.to_excel(\"mock_data.xlsx\")  # saving to excel might require xlwt or openpyxl libraries to be installed\n",
        "# you can install them with pip install xlwt or pip install openpyxl"
      ]
    },
    {
      "cell_type": "code",
      "execution_count": null,
      "metadata": {
        "colab": {
          "base_uri": "https://localhost:8080/"
        },
        "id": "796ms0RNm_vM",
        "outputId": "6614709c-51eb-4151-bf1c-8c1f9d3b494f"
      },
      "outputs": [
        {
          "data": {
            "text/plain": [
              "48.55"
            ]
          },
          "execution_count": 79,
          "metadata": {},
          "output_type": "execute_result"
        }
      ],
      "source": [
        "# now we can play around with some statistics\n",
        "# lets get the average age - age is a column in the dataframe\n",
        "df.age.mean()"
      ]
    },
    {
      "cell_type": "code",
      "execution_count": null,
      "metadata": {
        "colab": {
          "base_uri": "https://localhost:8080/"
        },
        "id": "0lUhaItbnZK9",
        "outputId": "848ecbe3-7070-42eb-c2d8-a556cf31b3a7"
      },
      "outputs": [
        {
          "data": {
            "text/plain": [
              "Male           44\n",
              "Female         40\n",
              "Agender         5\n",
              "Bigender        3\n",
              "Polygender      3\n",
              "Genderqueer     3\n",
              "Genderfluid     1\n",
              "Non-binary      1\n",
              "Name: gender, dtype: int64"
            ]
          },
          "execution_count": 80,
          "metadata": {},
          "output_type": "execute_result"
        }
      ],
      "source": [
        "# let's check different gender counts\n",
        "df.gender.value_counts()"
      ]
    },
    {
      "cell_type": "code",
      "execution_count": null,
      "metadata": {
        "colab": {
          "base_uri": "https://localhost:8080/"
        },
        "id": "9DtLqGlcWH8L",
        "outputId": "363547e0-fe07-45cb-c7d3-20ee72500c38"
      },
      "outputs": [
        {
          "data": {
            "text/plain": [
              "[{'id': 1,\n",
              "  'first_name': 'Ibbie',\n",
              "  'last_name': 'Bennough',\n",
              "  'email': 'ibennough0@flavors.me',\n",
              "  'gender': 'Female',\n",
              "  'ip_address': '117.74.74.198',\n",
              "  'age': 66},\n",
              " {'id': 2,\n",
              "  'first_name': 'Rosalynd',\n",
              "  'last_name': 'Lovick',\n",
              "  'email': 'rlovick1@multiply.com',\n",
              "  'gender': 'Polygender',\n",
              "  'ip_address': '83.171.100.15',\n",
              "  'age': 41}]"
            ]
          },
          "execution_count": 81,
          "metadata": {},
          "output_type": "execute_result"
        }
      ],
      "source": [
        "data_from_json[:2] # first two entries"
      ]
    },
    {
      "cell_type": "code",
      "execution_count": null,
      "metadata": {
        "colab": {
          "base_uri": "https://localhost:8080/",
          "height": 536
        },
        "id": "TBJyhJzLWH8M",
        "outputId": "204cbeff-694c-4d9d-be1b-7c98e8931231"
      },
      "outputs": [
        {
          "data": {
            "text/html": [
              "<div>\n",
              "<style scoped>\n",
              "    .dataframe tbody tr th:only-of-type {\n",
              "        vertical-align: middle;\n",
              "    }\n",
              "\n",
              "    .dataframe tbody tr th {\n",
              "        vertical-align: top;\n",
              "    }\n",
              "\n",
              "    .dataframe thead th {\n",
              "        text-align: right;\n",
              "    }\n",
              "</style>\n",
              "<table border=\"1\" class=\"dataframe\">\n",
              "  <thead>\n",
              "    <tr style=\"text-align: right;\">\n",
              "      <th></th>\n",
              "      <th>id</th>\n",
              "      <th>first_name</th>\n",
              "      <th>last_name</th>\n",
              "      <th>email</th>\n",
              "      <th>gender</th>\n",
              "      <th>ip_address</th>\n",
              "      <th>age</th>\n",
              "    </tr>\n",
              "  </thead>\n",
              "  <tbody>\n",
              "    <tr>\n",
              "      <th>0</th>\n",
              "      <td>1</td>\n",
              "      <td>Ibbie</td>\n",
              "      <td>Bennough</td>\n",
              "      <td>ibennough0@flavors.me</td>\n",
              "      <td>Female</td>\n",
              "      <td>117.74.74.198</td>\n",
              "      <td>66</td>\n",
              "    </tr>\n",
              "    <tr>\n",
              "      <th>1</th>\n",
              "      <td>2</td>\n",
              "      <td>Rosalynd</td>\n",
              "      <td>Lovick</td>\n",
              "      <td>rlovick1@multiply.com</td>\n",
              "      <td>Polygender</td>\n",
              "      <td>83.171.100.15</td>\n",
              "      <td>41</td>\n",
              "    </tr>\n",
              "    <tr>\n",
              "      <th>2</th>\n",
              "      <td>3</td>\n",
              "      <td>Gardy</td>\n",
              "      <td>Collelton</td>\n",
              "      <td>gcollelton2@cbsnews.com</td>\n",
              "      <td>Male</td>\n",
              "      <td>211.207.5.164</td>\n",
              "      <td>71</td>\n",
              "    </tr>\n",
              "    <tr>\n",
              "      <th>3</th>\n",
              "      <td>4</td>\n",
              "      <td>Renate</td>\n",
              "      <td>Whiskerd</td>\n",
              "      <td>rwhiskerd3@webeden.co.uk</td>\n",
              "      <td>Female</td>\n",
              "      <td>113.89.221.75</td>\n",
              "      <td>94</td>\n",
              "    </tr>\n",
              "    <tr>\n",
              "      <th>4</th>\n",
              "      <td>5</td>\n",
              "      <td>Reta</td>\n",
              "      <td>Steljes</td>\n",
              "      <td>rsteljes4@163.com</td>\n",
              "      <td>Female</td>\n",
              "      <td>31.183.217.60</td>\n",
              "      <td>47</td>\n",
              "    </tr>\n",
              "  </tbody>\n",
              "</table>\n",
              "</div>"
            ],
            "text/plain": [
              "   id first_name  last_name                     email      gender  \\\n",
              "0   1      Ibbie   Bennough     ibennough0@flavors.me      Female   \n",
              "1   2   Rosalynd     Lovick     rlovick1@multiply.com  Polygender   \n",
              "2   3      Gardy  Collelton   gcollelton2@cbsnews.com        Male   \n",
              "3   4     Renate   Whiskerd  rwhiskerd3@webeden.co.uk      Female   \n",
              "4   5       Reta    Steljes         rsteljes4@163.com      Female   \n",
              "\n",
              "      ip_address  age  \n",
              "0  117.74.74.198   66  \n",
              "1  83.171.100.15   41  \n",
              "2  211.207.5.164   71  \n",
              "3  113.89.221.75   94  \n",
              "4  31.183.217.60   47  "
            ]
          },
          "execution_count": 83,
          "metadata": {},
          "output_type": "execute_result"
        }
      ],
      "source": [
        "# so instead of reading from a url we can read from a file here we pass a json data structure\n",
        "df2 = pd.DataFrame(data_from_json) # in this data_from_json is Python data structure list\n",
        "df2.head()"
      ]
    },
    {
      "cell_type": "code",
      "execution_count": null,
      "metadata": {
        "id": "bbDEF3tTWH8M",
        "outputId": "d3ebaac5-d9f0-42f7-a3a4-e193d99a7ed5"
      },
      "outputs": [
        {
          "data": {
            "text/plain": [
              "50.25"
            ]
          },
          "execution_count": 84,
          "metadata": {},
          "output_type": "execute_result"
        }
      ],
      "source": [
        "# lets get average age of males in our dataframe\n",
        "\n",
        "df[df.gender == \"Male\"].age.mean() # so we are filtering the dataframe\n",
        "\n"
      ]
    },
    {
      "cell_type": "code",
      "execution_count": null,
      "metadata": {
        "id": "3ZwSaMftzFqX",
        "outputId": "675c2ea3-8a3a-48b5-e7f0-c3c56ae7fa45"
      },
      "outputs": [
        {
          "data": {
            "text/plain": [
              "39.175"
            ]
          },
          "execution_count": 86,
          "metadata": {},
          "output_type": "execute_result"
        }
      ],
      "source": [
        "# how about female average age?\n",
        "\n",
        "df[df.gender == \"Female\"].age.mean() # so we are filtering the dataframe"
      ]
    },
    {
      "cell_type": "code",
      "execution_count": null,
      "metadata": {
        "id": "sv5gEgMyzFqY",
        "outputId": "574cd07c-7808-4812-a157-85483d5ac77a"
      },
      "outputs": [
        {
          "data": {
            "text/html": [
              "<div>\n",
              "<style scoped>\n",
              "    .dataframe tbody tr th:only-of-type {\n",
              "        vertical-align: middle;\n",
              "    }\n",
              "\n",
              "    .dataframe tbody tr th {\n",
              "        vertical-align: top;\n",
              "    }\n",
              "\n",
              "    .dataframe thead th {\n",
              "        text-align: right;\n",
              "    }\n",
              "</style>\n",
              "<table border=\"1\" class=\"dataframe\">\n",
              "  <thead>\n",
              "    <tr style=\"text-align: right;\">\n",
              "      <th></th>\n",
              "      <th>id</th>\n",
              "      <th>age</th>\n",
              "    </tr>\n",
              "  </thead>\n",
              "  <tbody>\n",
              "    <tr>\n",
              "      <th>count</th>\n",
              "      <td>100.000000</td>\n",
              "      <td>100.000000</td>\n",
              "    </tr>\n",
              "    <tr>\n",
              "      <th>mean</th>\n",
              "      <td>50.500000</td>\n",
              "      <td>48.550000</td>\n",
              "    </tr>\n",
              "    <tr>\n",
              "      <th>std</th>\n",
              "      <td>29.011492</td>\n",
              "      <td>29.205083</td>\n",
              "    </tr>\n",
              "    <tr>\n",
              "      <th>min</th>\n",
              "      <td>1.000000</td>\n",
              "      <td>1.000000</td>\n",
              "    </tr>\n",
              "    <tr>\n",
              "      <th>25%</th>\n",
              "      <td>25.750000</td>\n",
              "      <td>19.000000</td>\n",
              "    </tr>\n",
              "    <tr>\n",
              "      <th>50%</th>\n",
              "      <td>50.500000</td>\n",
              "      <td>47.500000</td>\n",
              "    </tr>\n",
              "    <tr>\n",
              "      <th>75%</th>\n",
              "      <td>75.250000</td>\n",
              "      <td>75.000000</td>\n",
              "    </tr>\n",
              "    <tr>\n",
              "      <th>max</th>\n",
              "      <td>100.000000</td>\n",
              "      <td>99.000000</td>\n",
              "    </tr>\n",
              "  </tbody>\n",
              "</table>\n",
              "</div>"
            ],
            "text/plain": [
              "               id         age\n",
              "count  100.000000  100.000000\n",
              "mean    50.500000   48.550000\n",
              "std     29.011492   29.205083\n",
              "min      1.000000    1.000000\n",
              "25%     25.750000   19.000000\n",
              "50%     50.500000   47.500000\n",
              "75%     75.250000   75.000000\n",
              "max    100.000000   99.000000"
            ]
          },
          "execution_count": 87,
          "metadata": {},
          "output_type": "execute_result"
        }
      ],
      "source": [
        "# we can also generate some statistics for all the columns\n",
        "df.describe()"
      ]
    },
    {
      "cell_type": "code",
      "execution_count": null,
      "metadata": {
        "id": "a_Gc45TmzFqZ",
        "outputId": "e1fb4d13-6914-4040-e142-a9ef33b888de"
      },
      "outputs": [
        {
          "name": "stdout",
          "output_type": "stream",
          "text": [
            "<class 'pandas.core.frame.DataFrame'>\n",
            "RangeIndex: 100 entries, 0 to 99\n",
            "Data columns (total 7 columns):\n",
            " #   Column      Non-Null Count  Dtype \n",
            "---  ------      --------------  ----- \n",
            " 0   id          100 non-null    int64 \n",
            " 1   first_name  100 non-null    object\n",
            " 2   last_name   100 non-null    object\n",
            " 3   email       100 non-null    object\n",
            " 4   gender      100 non-null    object\n",
            " 5   ip_address  100 non-null    object\n",
            " 6   age         100 non-null    int64 \n",
            "dtypes: int64(2), object(5)\n",
            "memory usage: 5.6+ KB\n"
          ]
        }
      ],
      "source": [
        "# in this case our dataframe in df only has two numeric columns\n",
        "df.info() # lets see what data types we have"
      ]
    },
    {
      "cell_type": "code",
      "execution_count": null,
      "metadata": {
        "id": "53voSSOGzFqZ",
        "outputId": "a7277538-5d15-4e9c-ad62-4ea07cfea738"
      },
      "outputs": [
        {
          "data": {
            "text/html": [
              "<div>\n",
              "<style scoped>\n",
              "    .dataframe tbody tr th:only-of-type {\n",
              "        vertical-align: middle;\n",
              "    }\n",
              "\n",
              "    .dataframe tbody tr th {\n",
              "        vertical-align: top;\n",
              "    }\n",
              "\n",
              "    .dataframe thead th {\n",
              "        text-align: right;\n",
              "    }\n",
              "</style>\n",
              "<table border=\"1\" class=\"dataframe\">\n",
              "  <thead>\n",
              "    <tr style=\"text-align: right;\">\n",
              "      <th></th>\n",
              "      <th>id</th>\n",
              "      <th>first_name</th>\n",
              "      <th>last_name</th>\n",
              "      <th>email</th>\n",
              "      <th>gender</th>\n",
              "      <th>ip_address</th>\n",
              "      <th>age</th>\n",
              "    </tr>\n",
              "  </thead>\n",
              "  <tbody>\n",
              "    <tr>\n",
              "      <th>count</th>\n",
              "      <td>100.000000</td>\n",
              "      <td>100</td>\n",
              "      <td>100</td>\n",
              "      <td>100</td>\n",
              "      <td>100</td>\n",
              "      <td>100</td>\n",
              "      <td>100.000000</td>\n",
              "    </tr>\n",
              "    <tr>\n",
              "      <th>unique</th>\n",
              "      <td>NaN</td>\n",
              "      <td>100</td>\n",
              "      <td>100</td>\n",
              "      <td>100</td>\n",
              "      <td>8</td>\n",
              "      <td>100</td>\n",
              "      <td>NaN</td>\n",
              "    </tr>\n",
              "    <tr>\n",
              "      <th>top</th>\n",
              "      <td>NaN</td>\n",
              "      <td>Paulina</td>\n",
              "      <td>Watmough</td>\n",
              "      <td>dgarstang1w@stanford.edu</td>\n",
              "      <td>Male</td>\n",
              "      <td>127.83.77.87</td>\n",
              "      <td>NaN</td>\n",
              "    </tr>\n",
              "    <tr>\n",
              "      <th>freq</th>\n",
              "      <td>NaN</td>\n",
              "      <td>1</td>\n",
              "      <td>1</td>\n",
              "      <td>1</td>\n",
              "      <td>44</td>\n",
              "      <td>1</td>\n",
              "      <td>NaN</td>\n",
              "    </tr>\n",
              "    <tr>\n",
              "      <th>mean</th>\n",
              "      <td>50.500000</td>\n",
              "      <td>NaN</td>\n",
              "      <td>NaN</td>\n",
              "      <td>NaN</td>\n",
              "      <td>NaN</td>\n",
              "      <td>NaN</td>\n",
              "      <td>48.550000</td>\n",
              "    </tr>\n",
              "    <tr>\n",
              "      <th>std</th>\n",
              "      <td>29.011492</td>\n",
              "      <td>NaN</td>\n",
              "      <td>NaN</td>\n",
              "      <td>NaN</td>\n",
              "      <td>NaN</td>\n",
              "      <td>NaN</td>\n",
              "      <td>29.205083</td>\n",
              "    </tr>\n",
              "    <tr>\n",
              "      <th>min</th>\n",
              "      <td>1.000000</td>\n",
              "      <td>NaN</td>\n",
              "      <td>NaN</td>\n",
              "      <td>NaN</td>\n",
              "      <td>NaN</td>\n",
              "      <td>NaN</td>\n",
              "      <td>1.000000</td>\n",
              "    </tr>\n",
              "    <tr>\n",
              "      <th>25%</th>\n",
              "      <td>25.750000</td>\n",
              "      <td>NaN</td>\n",
              "      <td>NaN</td>\n",
              "      <td>NaN</td>\n",
              "      <td>NaN</td>\n",
              "      <td>NaN</td>\n",
              "      <td>19.000000</td>\n",
              "    </tr>\n",
              "    <tr>\n",
              "      <th>50%</th>\n",
              "      <td>50.500000</td>\n",
              "      <td>NaN</td>\n",
              "      <td>NaN</td>\n",
              "      <td>NaN</td>\n",
              "      <td>NaN</td>\n",
              "      <td>NaN</td>\n",
              "      <td>47.500000</td>\n",
              "    </tr>\n",
              "    <tr>\n",
              "      <th>75%</th>\n",
              "      <td>75.250000</td>\n",
              "      <td>NaN</td>\n",
              "      <td>NaN</td>\n",
              "      <td>NaN</td>\n",
              "      <td>NaN</td>\n",
              "      <td>NaN</td>\n",
              "      <td>75.000000</td>\n",
              "    </tr>\n",
              "    <tr>\n",
              "      <th>max</th>\n",
              "      <td>100.000000</td>\n",
              "      <td>NaN</td>\n",
              "      <td>NaN</td>\n",
              "      <td>NaN</td>\n",
              "      <td>NaN</td>\n",
              "      <td>NaN</td>\n",
              "      <td>99.000000</td>\n",
              "    </tr>\n",
              "  </tbody>\n",
              "</table>\n",
              "</div>"
            ],
            "text/plain": [
              "                id first_name last_name                     email gender  \\\n",
              "count   100.000000        100       100                       100    100   \n",
              "unique         NaN        100       100                       100      8   \n",
              "top            NaN    Paulina  Watmough  dgarstang1w@stanford.edu   Male   \n",
              "freq           NaN          1         1                         1     44   \n",
              "mean     50.500000        NaN       NaN                       NaN    NaN   \n",
              "std      29.011492        NaN       NaN                       NaN    NaN   \n",
              "min       1.000000        NaN       NaN                       NaN    NaN   \n",
              "25%      25.750000        NaN       NaN                       NaN    NaN   \n",
              "50%      50.500000        NaN       NaN                       NaN    NaN   \n",
              "75%      75.250000        NaN       NaN                       NaN    NaN   \n",
              "max     100.000000        NaN       NaN                       NaN    NaN   \n",
              "\n",
              "          ip_address         age  \n",
              "count            100  100.000000  \n",
              "unique           100         NaN  \n",
              "top     127.83.77.87         NaN  \n",
              "freq               1         NaN  \n",
              "mean             NaN   48.550000  \n",
              "std              NaN   29.205083  \n",
              "min              NaN    1.000000  \n",
              "25%              NaN   19.000000  \n",
              "50%              NaN   47.500000  \n",
              "75%              NaN   75.000000  \n",
              "max              NaN   99.000000  "
            ]
          },
          "execution_count": 89,
          "metadata": {},
          "output_type": "execute_result"
        }
      ],
      "source": [
        "# if you want to describe non-numeric columns you can do this\n",
        "df.describe(include=\"all\") # this will include all columns"
      ]
    },
    {
      "cell_type": "code",
      "execution_count": null,
      "metadata": {
        "id": "7L7ckg9EzFqZ",
        "outputId": "04b5be0f-701d-4574-94f4-dddf0792b87f"
      },
      "outputs": [
        {
          "data": {
            "text/html": [
              "<div>\n",
              "<style scoped>\n",
              "    .dataframe tbody tr th:only-of-type {\n",
              "        vertical-align: middle;\n",
              "    }\n",
              "\n",
              "    .dataframe tbody tr th {\n",
              "        vertical-align: top;\n",
              "    }\n",
              "\n",
              "    .dataframe thead th {\n",
              "        text-align: right;\n",
              "    }\n",
              "</style>\n",
              "<table border=\"1\" class=\"dataframe\">\n",
              "  <thead>\n",
              "    <tr style=\"text-align: right;\">\n",
              "      <th></th>\n",
              "      <th>count</th>\n",
              "      <th>unique</th>\n",
              "      <th>top</th>\n",
              "      <th>freq</th>\n",
              "      <th>mean</th>\n",
              "      <th>std</th>\n",
              "      <th>min</th>\n",
              "      <th>25%</th>\n",
              "      <th>50%</th>\n",
              "      <th>75%</th>\n",
              "      <th>max</th>\n",
              "    </tr>\n",
              "  </thead>\n",
              "  <tbody>\n",
              "    <tr>\n",
              "      <th>id</th>\n",
              "      <td>100.0</td>\n",
              "      <td>NaN</td>\n",
              "      <td>NaN</td>\n",
              "      <td>NaN</td>\n",
              "      <td>50.5</td>\n",
              "      <td>29.011492</td>\n",
              "      <td>1.0</td>\n",
              "      <td>25.75</td>\n",
              "      <td>50.5</td>\n",
              "      <td>75.25</td>\n",
              "      <td>100.0</td>\n",
              "    </tr>\n",
              "    <tr>\n",
              "      <th>first_name</th>\n",
              "      <td>100</td>\n",
              "      <td>100</td>\n",
              "      <td>Paulina</td>\n",
              "      <td>1</td>\n",
              "      <td>NaN</td>\n",
              "      <td>NaN</td>\n",
              "      <td>NaN</td>\n",
              "      <td>NaN</td>\n",
              "      <td>NaN</td>\n",
              "      <td>NaN</td>\n",
              "      <td>NaN</td>\n",
              "    </tr>\n",
              "    <tr>\n",
              "      <th>last_name</th>\n",
              "      <td>100</td>\n",
              "      <td>100</td>\n",
              "      <td>Watmough</td>\n",
              "      <td>1</td>\n",
              "      <td>NaN</td>\n",
              "      <td>NaN</td>\n",
              "      <td>NaN</td>\n",
              "      <td>NaN</td>\n",
              "      <td>NaN</td>\n",
              "      <td>NaN</td>\n",
              "      <td>NaN</td>\n",
              "    </tr>\n",
              "    <tr>\n",
              "      <th>email</th>\n",
              "      <td>100</td>\n",
              "      <td>100</td>\n",
              "      <td>dgarstang1w@stanford.edu</td>\n",
              "      <td>1</td>\n",
              "      <td>NaN</td>\n",
              "      <td>NaN</td>\n",
              "      <td>NaN</td>\n",
              "      <td>NaN</td>\n",
              "      <td>NaN</td>\n",
              "      <td>NaN</td>\n",
              "      <td>NaN</td>\n",
              "    </tr>\n",
              "    <tr>\n",
              "      <th>gender</th>\n",
              "      <td>100</td>\n",
              "      <td>8</td>\n",
              "      <td>Male</td>\n",
              "      <td>44</td>\n",
              "      <td>NaN</td>\n",
              "      <td>NaN</td>\n",
              "      <td>NaN</td>\n",
              "      <td>NaN</td>\n",
              "      <td>NaN</td>\n",
              "      <td>NaN</td>\n",
              "      <td>NaN</td>\n",
              "    </tr>\n",
              "    <tr>\n",
              "      <th>ip_address</th>\n",
              "      <td>100</td>\n",
              "      <td>100</td>\n",
              "      <td>127.83.77.87</td>\n",
              "      <td>1</td>\n",
              "      <td>NaN</td>\n",
              "      <td>NaN</td>\n",
              "      <td>NaN</td>\n",
              "      <td>NaN</td>\n",
              "      <td>NaN</td>\n",
              "      <td>NaN</td>\n",
              "      <td>NaN</td>\n",
              "    </tr>\n",
              "    <tr>\n",
              "      <th>age</th>\n",
              "      <td>100.0</td>\n",
              "      <td>NaN</td>\n",
              "      <td>NaN</td>\n",
              "      <td>NaN</td>\n",
              "      <td>48.55</td>\n",
              "      <td>29.205083</td>\n",
              "      <td>1.0</td>\n",
              "      <td>19.0</td>\n",
              "      <td>47.5</td>\n",
              "      <td>75.0</td>\n",
              "      <td>99.0</td>\n",
              "    </tr>\n",
              "  </tbody>\n",
              "</table>\n",
              "</div>"
            ],
            "text/plain": [
              "            count unique                       top freq   mean        std  \\\n",
              "id          100.0    NaN                       NaN  NaN   50.5  29.011492   \n",
              "first_name    100    100                   Paulina    1    NaN        NaN   \n",
              "last_name     100    100                  Watmough    1    NaN        NaN   \n",
              "email         100    100  dgarstang1w@stanford.edu    1    NaN        NaN   \n",
              "gender        100      8                      Male   44    NaN        NaN   \n",
              "ip_address    100    100              127.83.77.87    1    NaN        NaN   \n",
              "age         100.0    NaN                       NaN  NaN  48.55  29.205083   \n",
              "\n",
              "            min    25%   50%    75%    max  \n",
              "id          1.0  25.75  50.5  75.25  100.0  \n",
              "first_name  NaN    NaN   NaN    NaN    NaN  \n",
              "last_name   NaN    NaN   NaN    NaN    NaN  \n",
              "email       NaN    NaN   NaN    NaN    NaN  \n",
              "gender      NaN    NaN   NaN    NaN    NaN  \n",
              "ip_address  NaN    NaN   NaN    NaN    NaN  \n",
              "age         1.0   19.0  47.5   75.0   99.0  "
            ]
          },
          "execution_count": 90,
          "metadata": {},
          "output_type": "execute_result"
        }
      ],
      "source": [
        "# we can transpose the columns and rows\n",
        "df.describe(include=\"all\").T # NaN means not a number"
      ]
    },
    {
      "cell_type": "code",
      "execution_count": null,
      "metadata": {
        "id": "zzZWFZ-TzFqZ",
        "outputId": "95f756f7-840d-4532-ea19-f26ca89d82c9"
      },
      "outputs": [
        {
          "data": {
            "text/plain": [
              "<AxesSubplot:ylabel='Frequency'>"
            ]
          },
          "execution_count": 91,
          "metadata": {},
          "output_type": "execute_result"
        },
        {
          "data": {
            "image/png": "[encoded data removed]",
            "text/plain": [
              "<Figure size 432x288 with 1 Axes>"
            ]
          },
          "metadata": {
            "needs_background": "light"
          },
          "output_type": "display_data"
        }
      ],
      "source": [
        "# lets plot the data for ages\n",
        "df.age.plot(kind=\"hist\") # kind is the type of plot"
      ]
    },
    {
      "cell_type": "code",
      "execution_count": null,
      "metadata": {
        "id": "uNgpxFsUzFqa",
        "outputId": "a45fcd5c-6f9a-49aa-dbdc-52f304e58145"
      },
      "outputs": [
        {
          "data": {
            "text/plain": [
              "<AxesSubplot:ylabel='Frequency'>"
            ]
          },
          "execution_count": 92,
          "metadata": {},
          "output_type": "execute_result"
        },
        {
          "data": {
            "image/png": "[encoded data removed]",
            "text/plain": [
              "<Figure size 432x288 with 1 Axes>"
            ]
          },
          "metadata": {
            "needs_background": "light"
          },
          "output_type": "display_data"
        }
      ],
      "source": [
        "# lets plot female and male age histograms in one plot\n",
        "\n",
        "males = df[df.gender == \"Male\"]\n",
        "females = df[df.gender == \"Female\"]\n",
        "\n",
        "# lets plot age distributions for males and females side by side\n",
        "\n",
        "males.plot(kind=\"hist\", y=\"age\", alpha=0.5) # alpha is transparency\n",
        "\n"
      ]
    },
    {
      "cell_type": "code",
      "execution_count": null,
      "metadata": {
        "id": "O2yn-nPBzFqa",
        "outputId": "83c7cb32-1942-47ef-8238-8965204bd3f5"
      },
      "outputs": [
        {
          "data": {
            "text/plain": [
              "<AxesSubplot:ylabel='Frequency'>"
            ]
          },
          "execution_count": 93,
          "metadata": {},
          "output_type": "execute_result"
        },
        {
          "data": {
            "image/png": "[encoded data removed]",
            "text/plain": [
              "<Figure size 432x288 with 1 Axes>"
            ]
          },
          "metadata": {
            "needs_background": "light"
          },
          "output_type": "display_data"
        }
      ],
      "source": [
        "females.plot(kind=\"hist\", y=\"age\", alpha=0.5) # alpha is transparency"
      ]
    },
    {
      "cell_type": "code",
      "execution_count": null,
      "metadata": {
        "id": "wT7YGr7QzFqb"
      },
      "outputs": [],
      "source": [
        "# so this data looks quite suspicious - it is actually fake data\n",
        "# why is it suspicious?\n",
        "\n",
        "# because the age history is evenly distributed - not realistic"
      ]
    },
    {
      "cell_type": "code",
      "execution_count": null,
      "metadata": {
        "colab": {
          "base_uri": "https://localhost:8080/"
        },
        "id": "XxkkJHQRWH8M",
        "outputId": "c718290c-209c-4911-aeff-14cc24c613a1"
      },
      "outputs": [
        {
          "data": {
            "text/plain": [
              "[{'address': {'city': 'Gwenborough',\n",
              "   'geo': {'lat': '-37.3159', 'lng': '81.1496'},\n",
              "   'street': 'Kulas Light',\n",
              "   'suite': 'Apt. 556',\n",
              "   'zipcode': '92998-3874'},\n",
              "  'company': {'bs': 'harness real-time e-markets',\n",
              "   'catchPhrase': 'Multi-layered client-server neural-net',\n",
              "   'name': 'Romaguera-Crona'},\n",
              "  'email': 'Sincere@april.biz',\n",
              "  'id': 1,\n",
              "  'name': 'Leanne Graham',\n",
              "  'phone': '1-770-736-8031 x56442',\n",
              "  'username': 'Bret',\n",
              "  'website': 'hildegard.org'},\n",
              " {'address': {'city': 'Wisokyburgh',\n",
              "   'geo': {'lat': '-43.9509', 'lng': '-34.4618'},\n",
              "   'street': 'Victor Plains',\n",
              "   'suite': 'Suite 879',\n",
              "   'zipcode': '90566-7771'},\n",
              "  'company': {'bs': 'synergize scalable supply-chains',\n",
              "   'catchPhrase': 'Proactive didactic contingency',\n",
              "   'name': 'Deckow-Crist'},\n",
              "  'email': 'Shanna@melissa.tv',\n",
              "  'id': 2,\n",
              "  'name': 'Ervin Howell',\n",
              "  'phone': '010-692-6593 x09125',\n",
              "  'username': 'Antonette',\n",
              "  'website': 'anastasia.net'},\n",
              " {'address': {'city': 'McKenziehaven',\n",
              "   'geo': {'lat': '-68.6102', 'lng': '-47.0653'},\n",
              "   'street': 'Douglas Extension',\n",
              "   'suite': 'Suite 847',\n",
              "   'zipcode': '59590-4157'},\n",
              "  'company': {'bs': 'e-enable strategic applications',\n",
              "   'catchPhrase': 'Face to face bifurcated interface',\n",
              "   'name': 'Romaguera-Jacobson'},\n",
              "  'email': 'Nathan@yesenia.net',\n",
              "  'id': 3,\n",
              "  'name': 'Clementine Bauch',\n",
              "  'phone': '1-463-123-4447',\n",
              "  'username': 'Samantha',\n",
              "  'website': 'ramiro.info'},\n",
              " {'address': {'city': 'South Elvis',\n",
              "   'geo': {'lat': '29.4572', 'lng': '-164.2990'},\n",
              "   'street': 'Hoeger Mall',\n",
              "   'suite': 'Apt. 692',\n",
              "   'zipcode': '53919-4257'},\n",
              "  'company': {'bs': 'transition cutting-edge web services',\n",
              "   'catchPhrase': 'Multi-tiered zero tolerance productivity',\n",
              "   'name': 'Robel-Corkery'},\n",
              "  'email': 'Julianne.OConner@kory.org',\n",
              "  'id': 4,\n",
              "  'name': 'Patricia Lebsack',\n",
              "  'phone': '493-170-9623 x156',\n",
              "  'username': 'Karianne',\n",
              "  'website': 'kale.biz'},\n",
              " {'address': {'city': 'Roscoeview',\n",
              "   'geo': {'lat': '-31.8129', 'lng': '62.5342'},\n",
              "   'street': 'Skiles Walks',\n",
              "   'suite': 'Suite 351',\n",
              "   'zipcode': '33263'},\n",
              "  'company': {'bs': 'revolutionize end-to-end systems',\n",
              "   'catchPhrase': 'User-centric fault-tolerant solution',\n",
              "   'name': 'Keebler LLC'},\n",
              "  'email': 'Lucio_Hettinger@annie.ca',\n",
              "  'id': 5,\n",
              "  'name': 'Chelsey Dietrich',\n",
              "  'phone': '(254)954-1289',\n",
              "  'username': 'Kamren',\n",
              "  'website': 'demarco.info'}]"
            ]
          },
          "execution_count": 56,
          "metadata": {},
          "output_type": "execute_result"
        }
      ],
      "source": [
        "data_from_json[:5]"
      ]
    },
    {
      "cell_type": "code",
      "execution_count": null,
      "metadata": {
        "id": "SiNTESpQWH8M"
      },
      "outputs": [],
      "source": [
        "myjson = data_from_json # just an alias"
      ]
    },
    {
      "cell_type": "code",
      "execution_count": null,
      "metadata": {
        "colab": {
          "base_uri": "https://localhost:8080/"
        },
        "id": "fdqFrFaMWH8M",
        "outputId": "8e1cfde2-b42f-4982-99bb-0c75b313611d"
      },
      "outputs": [
        {
          "data": {
            "text/plain": [
              "[]"
            ]
          },
          "execution_count": 58,
          "metadata": {},
          "output_type": "execute_result"
        }
      ],
      "source": [
        "japanese = [person for person in myjson if person.get('email').endswith('.jp')]\n",
        "# person is something I made up for the list comprehension above\n",
        "# potentially person.get('email') could return None then .endswith('.jp') would fail with error\n",
        "japanese"
      ]
    },
    {
      "cell_type": "code",
      "execution_count": null,
      "metadata": {
        "colab": {
          "base_uri": "https://localhost:8080/"
        },
        "id": "fuAzyhRoWH8M",
        "outputId": "898df72f-ea2f-42fd-c803-ad7d66db629b"
      },
      "outputs": [
        {
          "data": {
            "text/plain": [
              "[]"
            ]
          },
          "execution_count": 59,
          "metadata": {},
          "output_type": "execute_result"
        }
      ],
      "source": [
        "japanese_men = [p for p in japanese if p.get('gender') == \"Male\"]\n",
        "# potentially person.get('email') could return None then .endswith('.jp') would fail with error\n",
        "japanese_men"
      ]
    },
    {
      "cell_type": "code",
      "execution_count": null,
      "metadata": {
        "colab": {
          "base_uri": "https://localhost:8080/"
        },
        "id": "GAJVEVYsWH8M",
        "outputId": "e053fe77-f56c-453f-bfb7-41fe3b319877"
      },
      "outputs": [
        {
          "data": {
            "text/plain": [
              "[]"
            ]
          },
          "execution_count": 60,
          "metadata": {},
          "output_type": "execute_result"
        }
      ],
      "source": [
        "uk = [person for person in myjson if person.get('email',\"\").endswith('.uk')]\n",
        "# we added \"\" to get so that if there is no email the endswith does not fail\n",
        "uk"
      ]
    },
    {
      "cell_type": "code",
      "execution_count": null,
      "metadata": {
        "colab": {
          "base_uri": "https://localhost:8080/"
        },
        "id": "YxW0u3lLWH8N",
        "outputId": "16974d38-efe8-4001-9a34-e820bb112304"
      },
      "outputs": [
        {
          "data": {
            "text/plain": [
              "[]"
            ]
          },
          "execution_count": 61,
          "metadata": {},
          "output_type": "execute_result"
        }
      ],
      "source": [
        "uk_ages = [(person.get('first_name'),int(person.get('age'))) for person in uk]\n",
        "uk_ages"
      ]
    },
    {
      "cell_type": "code",
      "execution_count": null,
      "metadata": {
        "colab": {
          "base_uri": "https://localhost:8080/",
          "height": 49
        },
        "id": "YFW3vkFSWH8N",
        "outputId": "3a223f00-0c7d-42a6-b71f-ac57c36a05d1"
      },
      "outputs": [
        {
          "data": {
            "text/html": [
              "<div>\n",
              "<style scoped>\n",
              "    .dataframe tbody tr th:only-of-type {\n",
              "        vertical-align: middle;\n",
              "    }\n",
              "\n",
              "    .dataframe tbody tr th {\n",
              "        vertical-align: top;\n",
              "    }\n",
              "\n",
              "    .dataframe thead th {\n",
              "        text-align: right;\n",
              "    }\n",
              "</style>\n",
              "<table border=\"1\" class=\"dataframe\">\n",
              "  <thead>\n",
              "    <tr style=\"text-align: right;\">\n",
              "      <th></th>\n",
              "      <th>id</th>\n",
              "      <th>name</th>\n",
              "      <th>username</th>\n",
              "      <th>email</th>\n",
              "      <th>address</th>\n",
              "      <th>phone</th>\n",
              "      <th>website</th>\n",
              "      <th>company</th>\n",
              "    </tr>\n",
              "  </thead>\n",
              "  <tbody>\n",
              "  </tbody>\n",
              "</table>\n",
              "</div>"
            ],
            "text/plain": [
              "Empty DataFrame\n",
              "Columns: [id, name, username, email, address, phone, website, company]\n",
              "Index: []"
            ]
          },
          "execution_count": 62,
          "metadata": {},
          "output_type": "execute_result"
        }
      ],
      "source": [
        "uk_frame = df2[df2.email.str.endswith(\".uk\")]\n",
        "uk_frame"
      ]
    },
    {
      "cell_type": "code",
      "execution_count": null,
      "metadata": {
        "colab": {
          "base_uri": "https://localhost:8080/",
          "height": 293
        },
        "id": "qSZ3kk1EWH8N",
        "outputId": "1dbad3c8-387e-412f-b3b2-93d54360d9d6"
      },
      "outputs": [
        {
          "ename": "AttributeError",
          "evalue": "ignored",
          "output_type": "error",
          "traceback": [
            "\u001b[0;31m---------------------------------------------------------------------------\u001b[0m",
            "\u001b[0;31mAttributeError\u001b[0m                            Traceback (most recent call last)",
            "\u001b[0;32m<ipython-input-63-c85f65f7d2d7>\u001b[0m in \u001b[0;36m<module>\u001b[0;34m()\u001b[0m\n\u001b[0;32m----> 1\u001b[0;31m \u001b[0muk_frame\u001b[0m\u001b[0;34m.\u001b[0m\u001b[0mage\u001b[0m\u001b[0;34m.\u001b[0m\u001b[0mdescribe\u001b[0m\u001b[0;34m(\u001b[0m\u001b[0;34m)\u001b[0m \u001b[0;31m# so we can get some statistics for pretty much free\u001b[0m\u001b[0;34m\u001b[0m\u001b[0;34m\u001b[0m\u001b[0m\n\u001b[0m",
            "\u001b[0;32m/usr/local/lib/python3.7/dist-packages/pandas/core/generic.py\u001b[0m in \u001b[0;36m__getattr__\u001b[0;34m(self, name)\u001b[0m\n\u001b[1;32m   5139\u001b[0m             \u001b[0;32mif\u001b[0m \u001b[0mself\u001b[0m\u001b[0;34m.\u001b[0m\u001b[0m_info_axis\u001b[0m\u001b[0;34m.\u001b[0m\u001b[0m_can_hold_identifiers_and_holds_name\u001b[0m\u001b[0;34m(\u001b[0m\u001b[0mname\u001b[0m\u001b[0;34m)\u001b[0m\u001b[0;34m:\u001b[0m\u001b[0;34m\u001b[0m\u001b[0;34m\u001b[0m\u001b[0m\n\u001b[1;32m   5140\u001b[0m                 \u001b[0;32mreturn\u001b[0m \u001b[0mself\u001b[0m\u001b[0;34m[\u001b[0m\u001b[0mname\u001b[0m\u001b[0;34m]\u001b[0m\u001b[0;34m\u001b[0m\u001b[0;34m\u001b[0m\u001b[0m\n\u001b[0;32m-> 5141\u001b[0;31m             \u001b[0;32mreturn\u001b[0m \u001b[0mobject\u001b[0m\u001b[0;34m.\u001b[0m\u001b[0m__getattribute__\u001b[0m\u001b[0;34m(\u001b[0m\u001b[0mself\u001b[0m\u001b[0;34m,\u001b[0m \u001b[0mname\u001b[0m\u001b[0;34m)\u001b[0m\u001b[0;34m\u001b[0m\u001b[0;34m\u001b[0m\u001b[0m\n\u001b[0m\u001b[1;32m   5142\u001b[0m \u001b[0;34m\u001b[0m\u001b[0m\n\u001b[1;32m   5143\u001b[0m     \u001b[0;32mdef\u001b[0m \u001b[0m__setattr__\u001b[0m\u001b[0;34m(\u001b[0m\u001b[0mself\u001b[0m\u001b[0;34m,\u001b[0m \u001b[0mname\u001b[0m\u001b[0;34m:\u001b[0m \u001b[0mstr\u001b[0m\u001b[0;34m,\u001b[0m \u001b[0mvalue\u001b[0m\u001b[0;34m)\u001b[0m \u001b[0;34m->\u001b[0m \u001b[0;32mNone\u001b[0m\u001b[0;34m:\u001b[0m\u001b[0;34m\u001b[0m\u001b[0;34m\u001b[0m\u001b[0m\n",
            "\u001b[0;31mAttributeError\u001b[0m: 'DataFrame' object has no attribute 'age'"
          ]
        }
      ],
      "source": [
        "uk_frame.age.describe() # so we can get some statistics for pretty much free"
      ]
    },
    {
      "cell_type": "code",
      "execution_count": null,
      "metadata": {
        "id": "6ijEJmfyWH8N"
      },
      "outputs": [],
      "source": [
        "age_sum = 0\n",
        "for person in uk_ages:\n",
        "    age_sum += person[1] # becauseuk ages are in format Name and age, so 2nd item is age with index 1\n",
        "print(\"Average age in UK is:\", age_sum/len(uk_ages))"
      ]
    },
    {
      "cell_type": "code",
      "execution_count": null,
      "metadata": {
        "id": "pfezgx5DWH8N"
      },
      "outputs": [],
      "source": [
        "jp_ages = [(person.get('first_name'),int(person.get('age'))) for person in japanese]\n",
        "jp_ages"
      ]
    },
    {
      "cell_type": "code",
      "execution_count": null,
      "metadata": {
        "id": "xIoIyr7HWH8N"
      },
      "outputs": [],
      "source": [
        "with open(\"uk_ages.json\", mode=\"w\") as fstream:\n",
        "    json.dump(uk_ages, fstream, indent=4)"
      ]
    },
    {
      "cell_type": "code",
      "execution_count": null,
      "metadata": {
        "id": "4gXfofAiWH8N"
      },
      "outputs": [],
      "source": [
        "# so we lose the tuple designed when writing to JSON and back\n",
        "with open(\"uk_ages.json\") as fstream:\n",
        "    uk_data = json.load(fstream)\n",
        "uk_data"
      ]
    },
    {
      "cell_type": "code",
      "execution_count": null,
      "metadata": {
        "id": "4uwYWLOzWH8N"
      },
      "outputs": [],
      "source": [
        "with open(\"jp_ages.json\", mode=\"w\") as fstream:\n",
        "    json.dump(jp_ages, fstream, indent=4)"
      ]
    },
    {
      "cell_type": "code",
      "execution_count": null,
      "metadata": {
        "id": "BLAWBFW4WH8O"
      },
      "outputs": [],
      "source": [
        "df2.head()"
      ]
    },
    {
      "cell_type": "code",
      "execution_count": null,
      "metadata": {
        "id": "PSZt13JuWH8O"
      },
      "outputs": [],
      "source": [
        "df2.describe(include=\"O\") # we can get some statistics on our strings and objects"
      ]
    },
    {
      "cell_type": "code",
      "execution_count": null,
      "metadata": {
        "id": "GjbuP6OpWH8O"
      },
      "outputs": [],
      "source": [
        "df2.describe() # for number analysis"
      ]
    },
    {
      "cell_type": "code",
      "execution_count": null,
      "metadata": {
        "id": "Xvo_agiWWH8O"
      },
      "outputs": [],
      "source": [
        "# so Hayward is the most common first name with 2, and 52 Males and 48 Females"
      ]
    },
    {
      "cell_type": "code",
      "execution_count": null,
      "metadata": {
        "id": "PthEchr6WH8O"
      },
      "outputs": [],
      "source": [
        "type(mydata)"
      ]
    },
    {
      "cell_type": "code",
      "execution_count": null,
      "metadata": {
        "id": "1958FO6qWH8O"
      },
      "outputs": [],
      "source": []
    },
    {
      "cell_type": "code",
      "execution_count": null,
      "metadata": {
        "id": "Z9ETededWH8O",
        "scrolled": true
      },
      "outputs": [],
      "source": [
        "type(json_string)"
      ]
    },
    {
      "cell_type": "code",
      "execution_count": null,
      "metadata": {
        "id": "V_lQnJ-IWH8O"
      },
      "outputs": [],
      "source": [
        "type(mydata)"
      ]
    },
    {
      "cell_type": "code",
      "execution_count": null,
      "metadata": {
        "id": "D1Q03ayMWH8O"
      },
      "outputs": [],
      "source": [
        "# Convert Json_string back to our Python Object\n",
        "my_obj = json.loads(json_string)\n",
        "my_obj"
      ]
    },
    {
      "cell_type": "code",
      "execution_count": null,
      "metadata": {
        "id": "sjzH-8mTWH8P"
      },
      "outputs": [],
      "source": [
        "my_obj.get('firstName')"
      ]
    },
    {
      "cell_type": "code",
      "execution_count": null,
      "metadata": {
        "id": "di_Bq04IWH8P"
      },
      "outputs": [],
      "source": [
        "mydata"
      ]
    },
    {
      "cell_type": "code",
      "execution_count": null,
      "metadata": {
        "id": "RWlpNdkRWH8P"
      },
      "outputs": [],
      "source": [
        "newlist = json.loads('[1,3,5,\"Valdis\"]')\n",
        "newlist"
      ]
    },
    {
      "cell_type": "code",
      "execution_count": null,
      "metadata": {
        "id": "vkTT54VOWH8P"
      },
      "outputs": [],
      "source": [
        "type(newlist)"
      ]
    },
    {
      "cell_type": "code",
      "execution_count": null,
      "metadata": {
        "id": "psAxIJjhWH8P"
      },
      "outputs": [],
      "source": [
        "badlist = json.loads('[1,3,5,\"Vald]\",334342]')\n",
        "badlist"
      ]
    },
    {
      "cell_type": "code",
      "execution_count": null,
      "metadata": {
        "id": "x8-HAWc3WH8P"
      },
      "outputs": [],
      "source": []
    },
    {
      "cell_type": "code",
      "execution_count": null,
      "metadata": {
        "id": "dzqINeS4WH8P"
      },
      "outputs": [],
      "source": [
        "type(json_string)"
      ]
    },
    {
      "cell_type": "code",
      "execution_count": null,
      "metadata": {
        "id": "64qKmDH8WH8P"
      },
      "outputs": [],
      "source": [
        "# Avove example JSON and Python object have the same syntax but there are some differences"
      ]
    },
    {
      "cell_type": "markdown",
      "metadata": {
        "id": "L-zd85CbWH8Q"
      },
      "source": [
        "![object](https://github.com/ValRCS/Digital_Discourse_ETH713_Fall_2020/blob/main/img/object.png?raw=1)"
      ]
    },
    {
      "cell_type": "markdown",
      "metadata": {
        "id": "VTHRiFc1WH8Q"
      },
      "source": [
        "![Array](https://github.com/ValRCS/Digital_Discourse_ETH713_Fall_2020/blob/main/img/array.png?raw=1)"
      ]
    },
    {
      "cell_type": "markdown",
      "metadata": {
        "id": "l0ZpV2R7WH8Q"
      },
      "source": [
        "![Value](https://github.com/ValRCS/Digital_Discourse_ETH713_Fall_2020/blob/main/img/value.png?raw=1)"
      ]
    },
    {
      "cell_type": "markdown",
      "metadata": {
        "id": "eIkqIanzWH8Q"
      },
      "source": [
        "Simple Python objects are translated to JSON according to a fairly intuitive conversion.\n",
        "\n",
        "Python\tJSON\n",
        "\n",
        "dict\tobject\n",
        "\n",
        "list, tuple\tarray\n",
        "\n",
        "str\tstring\n",
        "\n",
        "int, long,\n",
        "\n",
        "float\tnumber\n",
        "\n",
        "True\ttrue\n",
        "\n",
        "False\tfalse\n",
        "\n",
        "None\tnull"
      ]
    },
    {
      "cell_type": "code",
      "execution_count": null,
      "metadata": {
        "id": "KgVxYuHrWH8Q",
        "outputId": "d23ceb27-aeea-419e-87f9-060558608cc2"
      },
      "outputs": [
        {
          "data": {
            "text/plain": [
              "[True, 2, None, False, 555.333]"
            ]
          },
          "execution_count": 94,
          "metadata": {},
          "output_type": "execute_result"
        }
      ],
      "source": [
        "newlist = json.loads('[true,2,null, false, 555.333]')\n",
        "newlist"
      ]
    },
    {
      "cell_type": "code",
      "execution_count": null,
      "metadata": {
        "id": "3I5-_s6tWH8Q",
        "outputId": "fc3f2849-61a9-48b6-acab-39f92de618c3"
      },
      "outputs": [
        {
          "data": {
            "text/plain": [
              "'{\"firstName\": \"Jane\", \"lastName\": \"Doe\", \"hobbies\": [\"running\", \"sky diving\", \"dancing\"], \"age\": 43, \"children\": [{\"firstName\": \"Alice\", \"age\": 7}, {\"firstName\": \"Bob\", \"age\": 13}]}'"
            ]
          },
          "execution_count": 95,
          "metadata": {},
          "output_type": "execute_result"
        }
      ],
      "source": [
        "# The first option most people want to change is whitespace. You can use the indent keyword argument to specify the indentation size for nested structures. Check out the difference for yourself by using data, which we defined above, and running the following commands in a console:\n",
        "\n",
        "json.dumps(mydata)\n"
      ]
    },
    {
      "cell_type": "code",
      "execution_count": null,
      "metadata": {
        "id": "ZZABW4b6WH8Q"
      },
      "outputs": [],
      "source": [
        "# very useful for visibility!\n",
        "print(json.dumps(mydata, indent=4))"
      ]
    },
    {
      "cell_type": "code",
      "execution_count": null,
      "metadata": {
        "id": "QviQDgymWH8Q"
      },
      "outputs": [],
      "source": [
        "with open(\"data_file.json\", \"w\") as write_file:\n",
        "    json.dump(mydata, write_file, indent=4)"
      ]
    },
    {
      "cell_type": "code",
      "execution_count": null,
      "metadata": {
        "id": "KzAmEVk3WH8Q"
      },
      "outputs": [],
      "source": [
        "# how to read json into our python data obj from file\n",
        "with open(\"data_file.json\", \"r\") as read_file:\n",
        "    data = json.load(read_file)\n",
        "data"
      ]
    },
    {
      "cell_type": "code",
      "execution_count": null,
      "metadata": {
        "id": "TIP7-_9nWH8R"
      },
      "outputs": [],
      "source": [
        "type(data)"
      ]
    },
    {
      "cell_type": "code",
      "execution_count": null,
      "metadata": {
        "id": "dtaw1xr4WH8R"
      },
      "outputs": [],
      "source": [
        "len(data)"
      ]
    },
    {
      "cell_type": "code",
      "execution_count": null,
      "metadata": {
        "id": "6qx2mKBPWH8R"
      },
      "outputs": [],
      "source": [
        "list(data.items())"
      ]
    },
    {
      "cell_type": "code",
      "execution_count": null,
      "metadata": {
        "id": "NFmKpVTvWH8R"
      },
      "outputs": [],
      "source": [
        "numberedlist = list(enumerate(data.items()))\n",
        "numberedlist"
      ]
    },
    {
      "cell_type": "code",
      "execution_count": null,
      "metadata": {
        "id": "lF__LcNAWH8R"
      },
      "outputs": [],
      "source": [
        "# save numberedlist with ident = 4 in file numberedlist.json\n",
        "with open('numberedlist.json', mode='w') as f:\n",
        "    json.dump(numberedlist, f, indent=4)\n"
      ]
    },
    {
      "cell_type": "markdown",
      "metadata": {
        "id": "BtrtMH6JWH8R"
      },
      "source": [
        "Keep in mind that the result of this method could return any of the allowed data types from the conversion table. This is only important if you’re loading in data you haven’t seen before. In most cases, the root object will be a dict or a list."
      ]
    },
    {
      "cell_type": "markdown",
      "metadata": {
        "id": "j4LmL2YGWH8R"
      },
      "source": [
        "If you've gotten JSON data in from another program or have otherwise obtained a string of JSON formatted data in Python, you can easily deserialize that with loads(), which naturally loads from a string:"
      ]
    },
    {
      "cell_type": "code",
      "execution_count": null,
      "metadata": {
        "id": "pWOLOhyGWH8R"
      },
      "outputs": [],
      "source": [
        "json_string = \"\"\"\n",
        "{\n",
        "    \"researcher\": {\n",
        "        \"name\": \"Ford Prefect\",\n",
        "        \"species\": \"Betelgeusian\",\n",
        "        \"relatives\": [\n",
        "            {\n",
        "                \"name\": \"Zaphod Beeblebrox\",\n",
        "                \"species\": \"Betelgeusian\"\n",
        "            }\n",
        "        ]\n",
        "    }\n",
        "}\n",
        "\"\"\"\n",
        "data = json.loads(json_string)\n",
        "data"
      ]
    },
    {
      "cell_type": "code",
      "execution_count": null,
      "metadata": {
        "id": "UKdE5Mz4WH8S"
      },
      "outputs": [],
      "source": [
        "# get value of relative's name\n",
        "data['researcher']"
      ]
    },
    {
      "cell_type": "code",
      "execution_count": null,
      "metadata": {
        "id": "o93ncXevWH8S"
      },
      "outputs": [],
      "source": [
        "# get value of relative's name\n",
        "data['researcher']['relatives']"
      ]
    },
    {
      "cell_type": "code",
      "execution_count": null,
      "metadata": {
        "id": "fM0cCv4OWH8S"
      },
      "outputs": [],
      "source": [
        "# get value of relative's name\n",
        "data['researcher']['relatives'][0]"
      ]
    },
    {
      "cell_type": "code",
      "execution_count": null,
      "metadata": {
        "id": "y1hN2XrxWH8S"
      },
      "outputs": [],
      "source": [
        "# get value of relative's name\n",
        "data['researcher']['relatives'][0]['name']"
      ]
    },
    {
      "cell_type": "code",
      "execution_count": null,
      "metadata": {
        "id": "g-1beUrsWH8S"
      },
      "outputs": [],
      "source": [
        "data['researcher']['relatives'][0]['name'].split()[0]"
      ]
    },
    {
      "cell_type": "code",
      "execution_count": null,
      "metadata": {
        "id": "hEYZ1ZSHWH8S"
      },
      "outputs": [],
      "source": [
        "data['researcher']['relatives'][0]['name'].split()[0][:4]"
      ]
    },
    {
      "cell_type": "code",
      "execution_count": null,
      "metadata": {
        "id": "BT7-5B5fWH8S"
      },
      "outputs": [],
      "source": [
        "type(data)"
      ]
    },
    {
      "cell_type": "code",
      "execution_count": null,
      "metadata": {
        "id": "OZ8GdDmcWH8T"
      },
      "outputs": [],
      "source": [
        "import json\n",
        "import requests"
      ]
    },
    {
      "cell_type": "code",
      "execution_count": null,
      "metadata": {
        "id": "8m0xl5V-WH8T"
      },
      "outputs": [],
      "source": [
        "## Lets get some data https://jsonplaceholder.typicode.com/"
      ]
    },
    {
      "cell_type": "code",
      "execution_count": null,
      "metadata": {
        "id": "Q8Vmgwz6WH8T"
      },
      "outputs": [],
      "source": [
        "response = requests.get(\"https://jsonplaceholder.typicode.com/todos\")\n",
        "if response.status_code != 200:\n",
        "    print(\"Bad Response: \", response.status_code)\n",
        "print(response.status_code)\n",
        "todos = json.loads(response.text)\n"
      ]
    },
    {
      "cell_type": "markdown",
      "metadata": {
        "id": "DnC302uXWH8T"
      },
      "source": [
        "can open https://jsonplaceholder.typicode.com/todos in regular browser too.."
      ]
    },
    {
      "cell_type": "code",
      "execution_count": null,
      "metadata": {
        "id": "YxE70PAFWH8T"
      },
      "outputs": [],
      "source": [
        "type(todos)"
      ]
    },
    {
      "cell_type": "code",
      "execution_count": null,
      "metadata": {
        "id": "faEztTB5WH8T"
      },
      "outputs": [],
      "source": [
        "len(todos)"
      ]
    },
    {
      "cell_type": "code",
      "execution_count": null,
      "metadata": {
        "id": "zonugQB8WH8T"
      },
      "outputs": [],
      "source": [
        "todos[:10]"
      ]
    },
    {
      "cell_type": "code",
      "execution_count": null,
      "metadata": {
        "id": "MBUH3nxpWH8T"
      },
      "outputs": [],
      "source": [
        "# completedworks = [el for el in todos if el['completed'] == True]\n",
        "completedworks = [el for el in todos if el.get('completed') == True]\n",
        "len(completedworks)"
      ]
    },
    {
      "cell_type": "code",
      "execution_count": null,
      "metadata": {
        "id": "lbFWqcN3WH8T"
      },
      "outputs": [],
      "source": [
        "completedworks[-10:]"
      ]
    },
    {
      "cell_type": "code",
      "execution_count": null,
      "metadata": {
        "id": "yeLvaBfNWH8U"
      },
      "outputs": [],
      "source": [
        "type(completedworks)"
      ]
    },
    {
      "cell_type": "code",
      "execution_count": null,
      "metadata": {
        "id": "tFZh6iiSWH8U"
      },
      "outputs": [],
      "source": [
        "users = {}\n",
        "for el in completedworks:\n",
        "    k = el['userId']\n",
        "    if k in users:\n",
        "        users[k] +=1\n",
        "    else:\n",
        "        users[k] = 1\n",
        "users"
      ]
    },
    {
      "cell_type": "code",
      "execution_count": null,
      "metadata": {
        "id": "ltR8WomIWH8U"
      },
      "outputs": [],
      "source": [
        "sorted(users.items(),key = lambda el: el[1], reverse=True)"
      ]
    },
    {
      "cell_type": "code",
      "execution_count": null,
      "metadata": {
        "id": "eHrzC45EWH8U"
      },
      "outputs": [],
      "source": [
        "from collections import Counter"
      ]
    },
    {
      "cell_type": "code",
      "execution_count": null,
      "metadata": {
        "id": "nAP6soJ7WH8U"
      },
      "outputs": [],
      "source": [
        "count = Counter([el['userId'] for el in completedworks])\n",
        "count.most_common()"
      ]
    },
    {
      "cell_type": "code",
      "execution_count": null,
      "metadata": {
        "id": "-FjjrA3qWH8U"
      },
      "outputs": [],
      "source": [
        "# lets do everything at once\n",
        "finishedcount = Counter([el.get('userId') for el in todos if el.get('completed') == True])\n",
        "finishedcount.most_common()"
      ]
    },
    {
      "cell_type": "code",
      "execution_count": null,
      "metadata": {
        "id": "0yRqAQv4WH8U"
      },
      "outputs": [],
      "source": [
        "import matplotlib.pyplot as plt"
      ]
    },
    {
      "cell_type": "code",
      "execution_count": null,
      "metadata": {
        "id": "doCXBdUfWH8V"
      },
      "outputs": [],
      "source": [
        "plt.bar(finishedcount.keys(), finishedcount.values())\n",
        "plt.show()"
      ]
    },
    {
      "cell_type": "code",
      "execution_count": null,
      "metadata": {
        "id": "pd67mSqpWH8V"
      },
      "outputs": [],
      "source": [
        "todos[-3:]"
      ]
    },
    {
      "cell_type": "code",
      "execution_count": null,
      "metadata": {
        "id": "xGRyELS7WH8V"
      },
      "outputs": [],
      "source": [
        "[1,2] + [3,4,6,6]"
      ]
    },
    {
      "cell_type": "code",
      "execution_count": null,
      "metadata": {
        "id": "HIIK0MnJWH8V"
      },
      "outputs": [],
      "source": [
        "todos += [{'completed':True},{'completed':True},{'completed':True},{'completed':True}]\n",
        "todos[-5:]"
      ]
    },
    {
      "cell_type": "code",
      "execution_count": null,
      "metadata": {
        "id": "9YKyEiDMWH8V"
      },
      "outputs": [],
      "source": [
        "# lets do everything at once\n",
        "finishedcount = Counter([el.get('userId') for el in todos if el.get('completed') == True])\n",
        "finishedcount.most_common()"
      ]
    },
    {
      "cell_type": "code",
      "execution_count": null,
      "metadata": {
        "id": "jYCovB-CWH8V"
      },
      "outputs": [],
      "source": [
        "myl = [('Valdis', 40), ('Alice',35), ('Bob', 23),('Carol',70)]"
      ]
    },
    {
      "cell_type": "code",
      "execution_count": null,
      "metadata": {
        "id": "Nyih_MzfWH8V"
      },
      "outputs": [],
      "source": [
        "# Lambda = anonymous function"
      ]
    },
    {
      "cell_type": "code",
      "execution_count": null,
      "metadata": {
        "id": "4pJFWPo9WH8V"
      },
      "outputs": [],
      "source": [
        "def myfun(el):\n",
        "    return el[1]\n",
        "# same as myfun = lambda el: el[1]"
      ]
    },
    {
      "cell_type": "code",
      "execution_count": null,
      "metadata": {
        "id": "ZeS-RcM4WH8W"
      },
      "outputs": [],
      "source": [
        "sorted(myl, key = lambda el: el[1], reverse=True)"
      ]
    },
    {
      "cell_type": "code",
      "execution_count": null,
      "metadata": {
        "id": "xR2W1EQVWH8W"
      },
      "outputs": [],
      "source": [
        "# Exercise find out top 3 users with most tasks completed!\n",
        "\n",
        "# TIPS\n",
        "# we need some sort of structure to store these user results before finding out top 3\n",
        "# at least two good data structure choices here :)\n",
        "# here the simplest might actually be the best if we consider userId values\n"
      ]
    },
    {
      "cell_type": "code",
      "execution_count": null,
      "metadata": {
        "id": "ft7YF4LrWH8W"
      },
      "outputs": [],
      "source": [
        "todos[0]"
      ]
    },
    {
      "cell_type": "code",
      "execution_count": null,
      "metadata": {
        "id": "Dd_3wkzSWH8W"
      },
      "outputs": [],
      "source": [
        "todos[0]['userId']"
      ]
    },
    {
      "cell_type": "code",
      "execution_count": null,
      "metadata": {
        "id": "UaLa3QlUWH8W"
      },
      "outputs": [],
      "source": [
        "todos[0]['completed']"
      ]
    },
    {
      "cell_type": "code",
      "execution_count": null,
      "metadata": {
        "id": "jrbNgreNWH8W"
      },
      "outputs": [],
      "source": [
        "# Here we create a new dictionary and and count the completed works by id\n",
        "newdict = {}\n",
        "for todo in todos:\n",
        "    if todo['completed'] == True:\n",
        "        if todo['userId'] in newdict:\n",
        "            newdict[todo['userId']] += 1\n",
        "        else:\n",
        "            newdict[todo['userId']] = 1"
      ]
    },
    {
      "cell_type": "code",
      "execution_count": null,
      "metadata": {
        "id": "emfMsjpuWH8W"
      },
      "outputs": [],
      "source": [
        "newdict"
      ]
    },
    {
      "cell_type": "code",
      "execution_count": null,
      "metadata": {
        "id": "ddPy3l_7WH8W"
      },
      "outputs": [],
      "source": [
        "sorted(newdict.items())"
      ]
    },
    {
      "cell_type": "code",
      "execution_count": null,
      "metadata": {
        "id": "Bmh1pUqoWH8X"
      },
      "outputs": [],
      "source": [
        "bestworkers = sorted(newdict.items(), key=lambda el: el[1], reverse=True)\n",
        "bestworkers[:3]"
      ]
    },
    {
      "cell_type": "code",
      "execution_count": null,
      "metadata": {
        "id": "05SGUrttWH8X"
      },
      "outputs": [],
      "source": [
        "users = [ el['userId'] for el in todos]\n",
        "len(users),users[:15]"
      ]
    },
    {
      "cell_type": "code",
      "execution_count": null,
      "metadata": {
        "id": "aL_Igi7_WH8X"
      },
      "outputs": [],
      "source": [
        "uniqusers = set(users)\n",
        "uniqusers"
      ]
    },
    {
      "cell_type": "code",
      "execution_count": null,
      "metadata": {
        "id": "zgkTUJotWH8X"
      },
      "outputs": [],
      "source": [
        "# dictionary comprehension but could live without one\n",
        "users = { el['userId'] : 0 for el in todos}"
      ]
    },
    {
      "cell_type": "code",
      "execution_count": null,
      "metadata": {
        "id": "5OAk9gI8WH8X"
      },
      "outputs": [],
      "source": [
        "users"
      ]
    },
    {
      "cell_type": "code",
      "execution_count": null,
      "metadata": {
        "id": "VbupiUi1WH8X"
      },
      "outputs": [],
      "source": [
        "users.keys()"
      ]
    },
    {
      "cell_type": "code",
      "execution_count": null,
      "metadata": {
        "id": "t2C-SNl1WH8X"
      },
      "outputs": [],
      "source": [
        "users.value"
      ]
    },
    {
      "cell_type": "code",
      "execution_count": null,
      "metadata": {
        "id": "bth7UJADWH8X"
      },
      "outputs": [],
      "source": [
        "#{'completed': True,\n",
        "# 'id': 8,\n",
        "#  'title': 'quo adipisci enim quam ut ab',\n",
        "#  'userId': 1}"
      ]
    },
    {
      "cell_type": "code",
      "execution_count": null,
      "metadata": {
        "id": "ITcwQoMRWH8X"
      },
      "outputs": [],
      "source": []
    },
    {
      "cell_type": "code",
      "execution_count": null,
      "metadata": {
        "id": "aIg3nbdpWH8X"
      },
      "outputs": [],
      "source": [
        "#idiomatic\n",
        "for el in todos:\n",
        "    users[el['userId']] += el['completed'] # Boolean False is 0 True is 1 obviously this might not be too readable"
      ]
    },
    {
      "cell_type": "code",
      "execution_count": null,
      "metadata": {
        "id": "kf39KryoWH8Y"
      },
      "outputs": [],
      "source": [
        "# same as above could be useful in more complicated cases\n",
        "for el in todos:\n",
        "    if el['completed'] == True:\n",
        "        users[el['userId']] += 1"
      ]
    },
    {
      "cell_type": "code",
      "execution_count": null,
      "metadata": {
        "id": "MsKztCZtWH8Y"
      },
      "outputs": [],
      "source": [
        "# there could be a one liner or a solution with from collections import Counter"
      ]
    },
    {
      "cell_type": "code",
      "execution_count": null,
      "metadata": {
        "id": "CdymA4UIWH8Y"
      },
      "outputs": [],
      "source": [
        "users.items()"
      ]
    },
    {
      "cell_type": "code",
      "execution_count": null,
      "metadata": {
        "id": "zisXXKl7WH8Y"
      },
      "outputs": [],
      "source": [
        "list(users.items())"
      ]
    },
    {
      "cell_type": "code",
      "execution_count": null,
      "metadata": {
        "id": "oTdol3PTWH8Y"
      },
      "outputs": [],
      "source": [
        "userlist=list(users.items())"
      ]
    },
    {
      "cell_type": "code",
      "execution_count": null,
      "metadata": {
        "id": "V53IRKf9WH8Y"
      },
      "outputs": [],
      "source": [
        "type(userlist[0])"
      ]
    },
    {
      "cell_type": "code",
      "execution_count": null,
      "metadata": {
        "id": "8D_BPSttWH8Y"
      },
      "outputs": [],
      "source": [
        "# we pass a key anonymous(lambda) function\n",
        "sorted(userlist, key=lambda el: el[1], reverse=True)[:3]"
      ]
    },
    {
      "cell_type": "code",
      "execution_count": null,
      "metadata": {
        "id": "2z03gQIWWH8Y"
      },
      "outputs": [],
      "source": [
        "# lets try a simple way"
      ]
    },
    {
      "cell_type": "code",
      "execution_count": null,
      "metadata": {
        "id": "xxbqAtaFWH8Y"
      },
      "outputs": [],
      "source": [
        "mylist=[0]\n",
        "mylist*=11"
      ]
    },
    {
      "cell_type": "code",
      "execution_count": null,
      "metadata": {
        "id": "fUVZVAgYWH8Y"
      },
      "outputs": [],
      "source": [
        "for el in todos:\n",
        "    if el['completed'] == True:\n",
        "        mylist[el['userId']] +=1"
      ]
    },
    {
      "cell_type": "code",
      "execution_count": null,
      "metadata": {
        "id": "0sZ9zgAvWH8Z"
      },
      "outputs": [],
      "source": [
        "mylist"
      ]
    },
    {
      "cell_type": "code",
      "execution_count": null,
      "metadata": {
        "id": "EdTiCx_-WH8Z"
      },
      "outputs": [],
      "source": [
        "mylist.index(max(mylist))"
      ]
    },
    {
      "cell_type": "code",
      "execution_count": null,
      "metadata": {
        "id": "kg_1_G_wWH8Z"
      },
      "outputs": [],
      "source": [
        "# kind of hard to get more values need to get tricky"
      ]
    },
    {
      "cell_type": "markdown",
      "metadata": {
        "id": "fad5Rx-RWH8Z"
      },
      "source": [
        "# How about Pandas and Json ?\n",
        "\n",
        "Pandas is a big data analysis library in Python\n",
        "It is included with Google Colab\n",
        "Otherwise you would have to install it with pip install pandas"
      ]
    },
    {
      "cell_type": "code",
      "execution_count": 62,
      "metadata": {
        "id": "sjYBMIWcWH8Z"
      },
      "outputs": [],
      "source": [
        "import pandas as pd"
      ]
    },
    {
      "cell_type": "code",
      "execution_count": 63,
      "metadata": {
        "id": "BPm4h93cWH8Z"
      },
      "outputs": [],
      "source": [
        "df = pd.read_json('https://jsonplaceholder.typicode.com/todos')\n",
        "# again this will particularly well with lists of dictionaries in Python terms\n",
        "# or in JSON terms Array of Objects"
      ]
    },
    {
      "cell_type": "code",
      "execution_count": 65,
      "metadata": {
        "id": "EOzzkSQ2WH8Z",
        "outputId": "5c427003-1da9-47d6-d8fb-b5fbb2a6ac28",
        "colab": {
          "base_uri": "https://localhost:8080/",
          "height": 206
        }
      },
      "outputs": [
        {
          "output_type": "execute_result",
          "data": {
            "text/plain": [
              "   userId  id                                              title  completed\n",
              "0       1   1                                 delectus aut autem      False\n",
              "1       1   2                 quis ut nam facilis et officia qui      False\n",
              "2       1   3                                fugiat veniam minus      False\n",
              "3       1   4                                   et porro tempora       True\n",
              "4       1   5  laboriosam mollitia et enim quasi adipisci qui...      False"
            ],
            "text/html": [
              "\n",
              "  <div id=\"df-e2bcf915-47d0-47cc-9769-af8a76d37292\" class=\"colab-df-container\">\n",
              "    <div>\n",
              "<style scoped>\n",
              "    .dataframe tbody tr th:only-of-type {\n",
              "        vertical-align: middle;\n",
              "    }\n",
              "\n",
              "    .dataframe tbody tr th {\n",
              "        vertical-align: top;\n",
              "    }\n",
              "\n",
              "    .dataframe thead th {\n",
              "        text-align: right;\n",
              "    }\n",
              "</style>\n",
              "<table border=\"1\" class=\"dataframe\">\n",
              "  <thead>\n",
              "    <tr style=\"text-align: right;\">\n",
              "      <th></th>\n",
              "      <th>userId</th>\n",
              "      <th>id</th>\n",
              "      <th>title</th>\n",
              "      <th>completed</th>\n",
              "    </tr>\n",
              "  </thead>\n",
              "  <tbody>\n",
              "    <tr>\n",
              "      <th>0</th>\n",
              "      <td>1</td>\n",
              "      <td>1</td>\n",
              "      <td>delectus aut autem</td>\n",
              "      <td>False</td>\n",
              "    </tr>\n",
              "    <tr>\n",
              "      <th>1</th>\n",
              "      <td>1</td>\n",
              "      <td>2</td>\n",
              "      <td>quis ut nam facilis et officia qui</td>\n",
              "      <td>False</td>\n",
              "    </tr>\n",
              "    <tr>\n",
              "      <th>2</th>\n",
              "      <td>1</td>\n",
              "      <td>3</td>\n",
              "      <td>fugiat veniam minus</td>\n",
              "      <td>False</td>\n",
              "    </tr>\n",
              "    <tr>\n",
              "      <th>3</th>\n",
              "      <td>1</td>\n",
              "      <td>4</td>\n",
              "      <td>et porro tempora</td>\n",
              "      <td>True</td>\n",
              "    </tr>\n",
              "    <tr>\n",
              "      <th>4</th>\n",
              "      <td>1</td>\n",
              "      <td>5</td>\n",
              "      <td>laboriosam mollitia et enim quasi adipisci qui...</td>\n",
              "      <td>False</td>\n",
              "    </tr>\n",
              "  </tbody>\n",
              "</table>\n",
              "</div>\n",
              "    <div class=\"colab-df-buttons\">\n",
              "\n",
              "  <div class=\"colab-df-container\">\n",
              "    <button class=\"colab-df-convert\" onclick=\"convertToInteractive('df-e2bcf915-47d0-47cc-9769-af8a76d37292')\"\n",
              "            title=\"Convert this dataframe to an interactive table.\"\n",
              "            style=\"display:none;\">\n",
              "\n",
              "  <svg xmlns=\"http://www.w3.org/2000/svg\" height=\"24px\" viewBox=\"0 -960 960 960\">\n",
              "    <path d=\"M120-120v-720h720v720H120Zm60-500h600v-160H180v160Zm220 220h160v-160H400v160Zm0 220h160v-160H400v160ZM180-400h160v-160H180v160Zm440 0h160v-160H620v160ZM180-180h160v-160H180v160Zm440 0h160v-160H620v160Z\"/>\n",
              "  </svg>\n",
              "    </button>\n",
              "\n",
              "  <style>\n",
              "    .colab-df-container {\n",
              "      display:flex;\n",
              "      gap: 12px;\n",
              "    }\n",
              "\n",
              "    .colab-df-convert {\n",
              "      background-color: #E8F0FE;\n",
              "      border: none;\n",
              "      border-radius: 50%;\n",
              "      cursor: pointer;\n",
              "      display: none;\n",
              "      fill: #1967D2;\n",
              "      height: 32px;\n",
              "      padding: 0 0 0 0;\n",
              "      width: 32px;\n",
              "    }\n",
              "\n",
              "    .colab-df-convert:hover {\n",
              "      background-color: #E2EBFA;\n",
              "      box-shadow: 0px 1px 2px rgba(60, 64, 67, 0.3), 0px 1px 3px 1px rgba(60, 64, 67, 0.15);\n",
              "      fill: #174EA6;\n",
              "    }\n",
              "\n",
              "    .colab-df-buttons div {\n",
              "      margin-bottom: 4px;\n",
              "    }\n",
              "\n",
              "    [theme=dark] .colab-df-convert {\n",
              "      background-color: #3B4455;\n",
              "      fill: #D2E3FC;\n",
              "    }\n",
              "\n",
              "    [theme=dark] .colab-df-convert:hover {\n",
              "      background-color: #434B5C;\n",
              "      box-shadow: 0px 1px 3px 1px rgba(0, 0, 0, 0.15);\n",
              "      filter: drop-shadow(0px 1px 2px rgba(0, 0, 0, 0.3));\n",
              "      fill: #FFFFFF;\n",
              "    }\n",
              "  </style>\n",
              "\n",
              "    <script>\n",
              "      const buttonEl =\n",
              "        document.querySelector('#df-e2bcf915-47d0-47cc-9769-af8a76d37292 button.colab-df-convert');\n",
              "      buttonEl.style.display =\n",
              "        google.colab.kernel.accessAllowed ? 'block' : 'none';\n",
              "\n",
              "      async function convertToInteractive(key) {\n",
              "        const element = document.querySelector('#df-e2bcf915-47d0-47cc-9769-af8a76d37292');\n",
              "        const dataTable =\n",
              "          await google.colab.kernel.invokeFunction('convertToInteractive',\n",
              "                                                    [key], {});\n",
              "        if (!dataTable) return;\n",
              "\n",
              "        const docLinkHtml = 'Like what you see? Visit the ' +\n",
              "          '<a target=\"_blank\" href=https://colab.research.google.com/notebooks/data_table.ipynb>data table notebook</a>'\n",
              "          + ' to learn more about interactive tables.';\n",
              "        element.innerHTML = '';\n",
              "        dataTable['output_type'] = 'display_data';\n",
              "        await google.colab.output.renderOutput(dataTable, element);\n",
              "        const docLink = document.createElement('div');\n",
              "        docLink.innerHTML = docLinkHtml;\n",
              "        element.appendChild(docLink);\n",
              "      }\n",
              "    </script>\n",
              "  </div>\n",
              "\n",
              "\n",
              "<div id=\"df-f3f5368e-320e-4671-81d8-40a6167524a2\">\n",
              "  <button class=\"colab-df-quickchart\" onclick=\"quickchart('df-f3f5368e-320e-4671-81d8-40a6167524a2')\"\n",
              "            title=\"Suggest charts\"\n",
              "            style=\"display:none;\">\n",
              "\n",
              "<svg xmlns=\"http://www.w3.org/2000/svg\" height=\"24px\"viewBox=\"0 0 24 24\"\n",
              "     width=\"24px\">\n",
              "    <g>\n",
              "        <path d=\"M19 3H5c-1.1 0-2 .9-2 2v14c0 1.1.9 2 2 2h14c1.1 0 2-.9 2-2V5c0-1.1-.9-2-2-2zM9 17H7v-7h2v7zm4 0h-2V7h2v10zm4 0h-2v-4h2v4z\"/>\n",
              "    </g>\n",
              "</svg>\n",
              "  </button>\n",
              "\n",
              "<style>\n",
              "  .colab-df-quickchart {\n",
              "      --bg-color: #E8F0FE;\n",
              "      --fill-color: #1967D2;\n",
              "      --hover-bg-color: #E2EBFA;\n",
              "      --hover-fill-color: #174EA6;\n",
              "      --disabled-fill-color: #AAA;\n",
              "      --disabled-bg-color: #DDD;\n",
              "  }\n",
              "\n",
              "  [theme=dark] .colab-df-quickchart {\n",
              "      --bg-color: #3B4455;\n",
              "      --fill-color: #D2E3FC;\n",
              "      --hover-bg-color: #434B5C;\n",
              "      --hover-fill-color: #FFFFFF;\n",
              "      --disabled-bg-color: #3B4455;\n",
              "      --disabled-fill-color: #666;\n",
              "  }\n",
              "\n",
              "  .colab-df-quickchart {\n",
              "    background-color: var(--bg-color);\n",
              "    border: none;\n",
              "    border-radius: 50%;\n",
              "    cursor: pointer;\n",
              "    display: none;\n",
              "    fill: var(--fill-color);\n",
              "    height: 32px;\n",
              "    padding: 0;\n",
              "    width: 32px;\n",
              "  }\n",
              "\n",
              "  .colab-df-quickchart:hover {\n",
              "    background-color: var(--hover-bg-color);\n",
              "    box-shadow: 0 1px 2px rgba(60, 64, 67, 0.3), 0 1px 3px 1px rgba(60, 64, 67, 0.15);\n",
              "    fill: var(--button-hover-fill-color);\n",
              "  }\n",
              "\n",
              "  .colab-df-quickchart-complete:disabled,\n",
              "  .colab-df-quickchart-complete:disabled:hover {\n",
              "    background-color: var(--disabled-bg-color);\n",
              "    fill: var(--disabled-fill-color);\n",
              "    box-shadow: none;\n",
              "  }\n",
              "\n",
              "  .colab-df-spinner {\n",
              "    border: 2px solid var(--fill-color);\n",
              "    border-color: transparent;\n",
              "    border-bottom-color: var(--fill-color);\n",
              "    animation:\n",
              "      spin 1s steps(1) infinite;\n",
              "  }\n",
              "\n",
              "  @keyframes spin {\n",
              "    0% {\n",
              "      border-color: transparent;\n",
              "      border-bottom-color: var(--fill-color);\n",
              "      border-left-color: var(--fill-color);\n",
              "    }\n",
              "    20% {\n",
              "      border-color: transparent;\n",
              "      border-left-color: var(--fill-color);\n",
              "      border-top-color: var(--fill-color);\n",
              "    }\n",
              "    30% {\n",
              "      border-color: transparent;\n",
              "      border-left-color: var(--fill-color);\n",
              "      border-top-color: var(--fill-color);\n",
              "      border-right-color: var(--fill-color);\n",
              "    }\n",
              "    40% {\n",
              "      border-color: transparent;\n",
              "      border-right-color: var(--fill-color);\n",
              "      border-top-color: var(--fill-color);\n",
              "    }\n",
              "    60% {\n",
              "      border-color: transparent;\n",
              "      border-right-color: var(--fill-color);\n",
              "    }\n",
              "    80% {\n",
              "      border-color: transparent;\n",
              "      border-right-color: var(--fill-color);\n",
              "      border-bottom-color: var(--fill-color);\n",
              "    }\n",
              "    90% {\n",
              "      border-color: transparent;\n",
              "      border-bottom-color: var(--fill-color);\n",
              "    }\n",
              "  }\n",
              "</style>\n",
              "\n",
              "  <script>\n",
              "    async function quickchart(key) {\n",
              "      const quickchartButtonEl =\n",
              "        document.querySelector('#' + key + ' button');\n",
              "      quickchartButtonEl.disabled = true;  // To prevent multiple clicks.\n",
              "      quickchartButtonEl.classList.add('colab-df-spinner');\n",
              "      try {\n",
              "        const charts = await google.colab.kernel.invokeFunction(\n",
              "            'suggestCharts', [key], {});\n",
              "      } catch (error) {\n",
              "        console.error('Error during call to suggestCharts:', error);\n",
              "      }\n",
              "      quickchartButtonEl.classList.remove('colab-df-spinner');\n",
              "      quickchartButtonEl.classList.add('colab-df-quickchart-complete');\n",
              "    }\n",
              "    (() => {\n",
              "      let quickchartButtonEl =\n",
              "        document.querySelector('#df-f3f5368e-320e-4671-81d8-40a6167524a2 button');\n",
              "      quickchartButtonEl.style.display =\n",
              "        google.colab.kernel.accessAllowed ? 'block' : 'none';\n",
              "    })();\n",
              "  </script>\n",
              "</div>\n",
              "    </div>\n",
              "  </div>\n"
            ]
          },
          "metadata": {},
          "execution_count": 65
        }
      ],
      "source": [
        "df.head()"
      ]
    },
    {
      "cell_type": "code",
      "execution_count": 66,
      "metadata": {
        "id": "AaSv3vGfWH8Z"
      },
      "outputs": [],
      "source": [
        "# We can export to tabular format such as csv\n",
        "df.to_csv('my_todos.csv')\n",
        "# again good for flat 2d type of data even if it was originally in JSON"
      ]
    },
    {
      "cell_type": "code",
      "execution_count": null,
      "metadata": {
        "id": "eHpudNyBWH8a",
        "outputId": "73980ce9-b5f0-439b-b8db-b5ecb7c08b0c"
      },
      "outputs": [
        {
          "data": {
            "text/plain": [
              "(200, 4)"
            ]
          },
          "execution_count": 59,
          "metadata": {},
          "output_type": "execute_result"
        }
      ],
      "source": [
        "df.shape"
      ]
    },
    {
      "cell_type": "code",
      "execution_count": null,
      "metadata": {
        "id": "VzgGtysDWH8a",
        "outputId": "4a729815-031f-443d-c96a-b935a4f10de5"
      },
      "outputs": [
        {
          "data": {
            "text/html": [
              "<div>\n",
              "<style scoped>\n",
              "    .dataframe tbody tr th:only-of-type {\n",
              "        vertical-align: middle;\n",
              "    }\n",
              "\n",
              "    .dataframe tbody tr th {\n",
              "        vertical-align: top;\n",
              "    }\n",
              "\n",
              "    .dataframe thead th {\n",
              "        text-align: right;\n",
              "    }\n",
              "</style>\n",
              "<table border=\"1\" class=\"dataframe\">\n",
              "  <thead>\n",
              "    <tr style=\"text-align: right;\">\n",
              "      <th></th>\n",
              "      <th>userId</th>\n",
              "      <th>id</th>\n",
              "    </tr>\n",
              "  </thead>\n",
              "  <tbody>\n",
              "    <tr>\n",
              "      <th>count</th>\n",
              "      <td>200.000000</td>\n",
              "      <td>200.000000</td>\n",
              "    </tr>\n",
              "    <tr>\n",
              "      <th>mean</th>\n",
              "      <td>5.500000</td>\n",
              "      <td>100.500000</td>\n",
              "    </tr>\n",
              "    <tr>\n",
              "      <th>std</th>\n",
              "      <td>2.879489</td>\n",
              "      <td>57.879185</td>\n",
              "    </tr>\n",
              "    <tr>\n",
              "      <th>min</th>\n",
              "      <td>1.000000</td>\n",
              "      <td>1.000000</td>\n",
              "    </tr>\n",
              "    <tr>\n",
              "      <th>25%</th>\n",
              "      <td>3.000000</td>\n",
              "      <td>50.750000</td>\n",
              "    </tr>\n",
              "    <tr>\n",
              "      <th>50%</th>\n",
              "      <td>5.500000</td>\n",
              "      <td>100.500000</td>\n",
              "    </tr>\n",
              "    <tr>\n",
              "      <th>75%</th>\n",
              "      <td>8.000000</td>\n",
              "      <td>150.250000</td>\n",
              "    </tr>\n",
              "    <tr>\n",
              "      <th>max</th>\n",
              "      <td>10.000000</td>\n",
              "      <td>200.000000</td>\n",
              "    </tr>\n",
              "  </tbody>\n",
              "</table>\n",
              "</div>"
            ],
            "text/plain": [
              "           userId          id\n",
              "count  200.000000  200.000000\n",
              "mean     5.500000  100.500000\n",
              "std      2.879489   57.879185\n",
              "min      1.000000    1.000000\n",
              "25%      3.000000   50.750000\n",
              "50%      5.500000  100.500000\n",
              "75%      8.000000  150.250000\n",
              "max     10.000000  200.000000"
            ]
          },
          "execution_count": 60,
          "metadata": {},
          "output_type": "execute_result"
        }
      ],
      "source": [
        "df.describe()"
      ]
    },
    {
      "cell_type": "code",
      "execution_count": null,
      "metadata": {
        "id": "8Qj8lKk3WH8a",
        "outputId": "8cef5d95-7064-4eea-d0e0-3d64c494d288"
      },
      "outputs": [
        {
          "data": {
            "text/html": [
              "<div>\n",
              "<style scoped>\n",
              "    .dataframe tbody tr th:only-of-type {\n",
              "        vertical-align: middle;\n",
              "    }\n",
              "\n",
              "    .dataframe tbody tr th {\n",
              "        vertical-align: top;\n",
              "    }\n",
              "\n",
              "    .dataframe thead th {\n",
              "        text-align: right;\n",
              "    }\n",
              "</style>\n",
              "<table border=\"1\" class=\"dataframe\">\n",
              "  <thead>\n",
              "    <tr style=\"text-align: right;\">\n",
              "      <th></th>\n",
              "      <th>title</th>\n",
              "    </tr>\n",
              "  </thead>\n",
              "  <tbody>\n",
              "    <tr>\n",
              "      <th>count</th>\n",
              "      <td>200</td>\n",
              "    </tr>\n",
              "    <tr>\n",
              "      <th>unique</th>\n",
              "      <td>200</td>\n",
              "    </tr>\n",
              "    <tr>\n",
              "      <th>top</th>\n",
              "      <td>occaecati adipisci est possimus totam</td>\n",
              "    </tr>\n",
              "    <tr>\n",
              "      <th>freq</th>\n",
              "      <td>1</td>\n",
              "    </tr>\n",
              "  </tbody>\n",
              "</table>\n",
              "</div>"
            ],
            "text/plain": [
              "                                        title\n",
              "count                                     200\n",
              "unique                                    200\n",
              "top     occaecati adipisci est possimus totam\n",
              "freq                                        1"
            ]
          },
          "execution_count": 61,
          "metadata": {},
          "output_type": "execute_result"
        }
      ],
      "source": [
        "df.describe(include=['O'])"
      ]
    },
    {
      "cell_type": "code",
      "execution_count": null,
      "metadata": {
        "id": "GafE-yT2WH8a",
        "outputId": "4b62c4ca-829e-4802-82a6-c4c15afe844b"
      },
      "outputs": [
        {
          "data": {
            "text/html": [
              "<div>\n",
              "<style scoped>\n",
              "    .dataframe tbody tr th:only-of-type {\n",
              "        vertical-align: middle;\n",
              "    }\n",
              "\n",
              "    .dataframe tbody tr th {\n",
              "        vertical-align: top;\n",
              "    }\n",
              "\n",
              "    .dataframe thead th {\n",
              "        text-align: right;\n",
              "    }\n",
              "</style>\n",
              "<table border=\"1\" class=\"dataframe\">\n",
              "  <thead>\n",
              "    <tr style=\"text-align: right;\">\n",
              "      <th></th>\n",
              "      <th>id</th>\n",
              "      <th>completed</th>\n",
              "    </tr>\n",
              "    <tr>\n",
              "      <th>userId</th>\n",
              "      <th></th>\n",
              "      <th></th>\n",
              "    </tr>\n",
              "  </thead>\n",
              "  <tbody>\n",
              "    <tr>\n",
              "      <th>1</th>\n",
              "      <td>210</td>\n",
              "      <td>11.0</td>\n",
              "    </tr>\n",
              "    <tr>\n",
              "      <th>2</th>\n",
              "      <td>610</td>\n",
              "      <td>8.0</td>\n",
              "    </tr>\n",
              "    <tr>\n",
              "      <th>3</th>\n",
              "      <td>1010</td>\n",
              "      <td>7.0</td>\n",
              "    </tr>\n",
              "    <tr>\n",
              "      <th>4</th>\n",
              "      <td>1410</td>\n",
              "      <td>6.0</td>\n",
              "    </tr>\n",
              "    <tr>\n",
              "      <th>5</th>\n",
              "      <td>1810</td>\n",
              "      <td>12.0</td>\n",
              "    </tr>\n",
              "    <tr>\n",
              "      <th>6</th>\n",
              "      <td>2210</td>\n",
              "      <td>6.0</td>\n",
              "    </tr>\n",
              "    <tr>\n",
              "      <th>7</th>\n",
              "      <td>2610</td>\n",
              "      <td>9.0</td>\n",
              "    </tr>\n",
              "    <tr>\n",
              "      <th>8</th>\n",
              "      <td>3010</td>\n",
              "      <td>11.0</td>\n",
              "    </tr>\n",
              "    <tr>\n",
              "      <th>9</th>\n",
              "      <td>3410</td>\n",
              "      <td>8.0</td>\n",
              "    </tr>\n",
              "    <tr>\n",
              "      <th>10</th>\n",
              "      <td>3810</td>\n",
              "      <td>12.0</td>\n",
              "    </tr>\n",
              "  </tbody>\n",
              "</table>\n",
              "</div>"
            ],
            "text/plain": [
              "          id  completed\n",
              "userId                 \n",
              "1        210       11.0\n",
              "2        610        8.0\n",
              "3       1010        7.0\n",
              "4       1410        6.0\n",
              "5       1810       12.0\n",
              "6       2210        6.0\n",
              "7       2610        9.0\n",
              "8       3010       11.0\n",
              "9       3410        8.0\n",
              "10      3810       12.0"
            ]
          },
          "execution_count": 62,
          "metadata": {},
          "output_type": "execute_result"
        }
      ],
      "source": [
        "# we see that completed\n",
        "df.groupby(['userId']).sum()"
      ]
    },
    {
      "cell_type": "code",
      "execution_count": null,
      "metadata": {
        "id": "8dWI3CAeWH8a",
        "outputId": "4eb62b9a-f19d-45f9-e006-0faa3c0b74f6"
      },
      "outputs": [
        {
          "data": {
            "text/plain": [
              "<matplotlib.axes._subplots.AxesSubplot at 0x16b6dd6a0d0>"
            ]
          },
          "execution_count": 63,
          "metadata": {},
          "output_type": "execute_result"
        },
        {
          "data": {
            "image/png": "[encoded data removed]",
            "text/plain": [
              "<Figure size 432x288 with 1 Axes>"
            ]
          },
          "metadata": {
            "needs_background": "light"
          },
          "output_type": "display_data"
        }
      ],
      "source": [
        "df.groupby(['userId']).sum()['completed'].plot(kind=\"bar\")"
      ]
    },
    {
      "cell_type": "code",
      "execution_count": null,
      "metadata": {
        "id": "syVJxNJPWH8a",
        "outputId": "5fb6d203-cec7-48d2-f96f-19dcc8d214c3"
      },
      "outputs": [
        {
          "data": {
            "text/plain": [
              "'{\"10\":12.0,\"5\":12.0,\"8\":11.0,\"1\":11.0,\"7\":9.0,\"9\":8.0,\"2\":8.0,\"3\":7.0,\"6\":6.0,\"4\":6.0}'"
            ]
          },
          "execution_count": 52,
          "metadata": {},
          "output_type": "execute_result"
        }
      ],
      "source": [
        "busyjson"
      ]
    },
    {
      "cell_type": "code",
      "execution_count": null,
      "metadata": {
        "id": "pF5BvBA4WH8a",
        "outputId": "33b2a74b-5582-4658-fa66-848be1741a83"
      },
      "outputs": [
        {
          "data": {
            "text/plain": [
              "userId\n",
              "1     11.0\n",
              "2      8.0\n",
              "3      7.0\n",
              "4      6.0\n",
              "5     12.0\n",
              "6      6.0\n",
              "7      9.0\n",
              "8     11.0\n",
              "9      8.0\n",
              "10    12.0\n",
              "Name: completed, dtype: float64"
            ]
          },
          "execution_count": 48,
          "metadata": {},
          "output_type": "execute_result"
        }
      ],
      "source": [
        "df.groupby(['userId'])['completed'].sum()"
      ]
    },
    {
      "cell_type": "code",
      "execution_count": null,
      "metadata": {
        "id": "n2HBmLqhWH8b",
        "outputId": "d6379cec-80a7-4770-b4ed-7ea25791bd3a"
      },
      "outputs": [
        {
          "data": {
            "text/html": [
              "<div>\n",
              "<style scoped>\n",
              "    .dataframe tbody tr th:only-of-type {\n",
              "        vertical-align: middle;\n",
              "    }\n",
              "\n",
              "    .dataframe tbody tr th {\n",
              "        vertical-align: top;\n",
              "    }\n",
              "\n",
              "    .dataframe thead th {\n",
              "        text-align: right;\n",
              "    }\n",
              "</style>\n",
              "<table border=\"1\" class=\"dataframe\">\n",
              "  <thead>\n",
              "    <tr style=\"text-align: right;\">\n",
              "      <th></th>\n",
              "      <th>completed</th>\n",
              "    </tr>\n",
              "    <tr>\n",
              "      <th>userId</th>\n",
              "      <th></th>\n",
              "    </tr>\n",
              "  </thead>\n",
              "  <tbody>\n",
              "    <tr>\n",
              "      <th>1</th>\n",
              "      <td>11.0</td>\n",
              "    </tr>\n",
              "    <tr>\n",
              "      <th>2</th>\n",
              "      <td>8.0</td>\n",
              "    </tr>\n",
              "    <tr>\n",
              "      <th>3</th>\n",
              "      <td>7.0</td>\n",
              "    </tr>\n",
              "    <tr>\n",
              "      <th>4</th>\n",
              "      <td>6.0</td>\n",
              "    </tr>\n",
              "    <tr>\n",
              "      <th>5</th>\n",
              "      <td>12.0</td>\n",
              "    </tr>\n",
              "    <tr>\n",
              "      <th>6</th>\n",
              "      <td>6.0</td>\n",
              "    </tr>\n",
              "    <tr>\n",
              "      <th>7</th>\n",
              "      <td>9.0</td>\n",
              "    </tr>\n",
              "    <tr>\n",
              "      <th>8</th>\n",
              "      <td>11.0</td>\n",
              "    </tr>\n",
              "    <tr>\n",
              "      <th>9</th>\n",
              "      <td>8.0</td>\n",
              "    </tr>\n",
              "    <tr>\n",
              "      <th>10</th>\n",
              "      <td>12.0</td>\n",
              "    </tr>\n",
              "  </tbody>\n",
              "</table>\n",
              "</div>"
            ],
            "text/plain": [
              "        completed\n",
              "userId           \n",
              "1            11.0\n",
              "2             8.0\n",
              "3             7.0\n",
              "4             6.0\n",
              "5            12.0\n",
              "6             6.0\n",
              "7             9.0\n",
              "8            11.0\n",
              "9             8.0\n",
              "10           12.0"
            ]
          },
          "execution_count": 98,
          "metadata": {},
          "output_type": "execute_result"
        }
      ],
      "source": [
        "# if we need a single column dataframe\n",
        "df.groupby(['userId'])[['completed']].sum()"
      ]
    },
    {
      "cell_type": "code",
      "execution_count": null,
      "metadata": {
        "id": "sgw98FWTWH8b",
        "outputId": "ed435251-aabf-42bc-b749-b6fdf21e65e3"
      },
      "outputs": [
        {
          "data": {
            "text/plain": [
              "userId\n",
              "4      6.0\n",
              "6      6.0\n",
              "3      7.0\n",
              "2      8.0\n",
              "9      8.0\n",
              "7      9.0\n",
              "1     11.0\n",
              "8     11.0\n",
              "5     12.0\n",
              "10    12.0\n",
              "Name: completed, dtype: float64"
            ]
          },
          "execution_count": 49,
          "metadata": {},
          "output_type": "execute_result"
        }
      ],
      "source": [
        "df.groupby(['userId'])['completed'].sum().sort_values()"
      ]
    },
    {
      "cell_type": "code",
      "execution_count": null,
      "metadata": {
        "id": "zprgNjwqWH8b",
        "outputId": "7adaca29-3eed-430c-c8d2-05332e0ec9dd"
      },
      "outputs": [
        {
          "data": {
            "text/plain": [
              "userId\n",
              "10    12.0\n",
              "5     12.0\n",
              "8     11.0\n",
              "1     11.0\n",
              "7      9.0\n",
              "9      8.0\n",
              "2      8.0\n",
              "3      7.0\n",
              "6      6.0\n",
              "4      6.0\n",
              "Name: completed, dtype: float64"
            ]
          },
          "execution_count": 50,
          "metadata": {},
          "output_type": "execute_result"
        }
      ],
      "source": [
        "df.groupby(['userId'])['completed'].sum().sort_values(ascending=False)"
      ]
    },
    {
      "cell_type": "code",
      "execution_count": null,
      "metadata": {
        "id": "fnKBHqrqWH8b"
      },
      "outputs": [],
      "source": [
        "busyjson = pd.read_json('https://jsonplaceholder.typicode.com/todos').groupby(['userId'])['completed'].sum().sort_values(ascending=False).to_json()"
      ]
    },
    {
      "cell_type": "code",
      "execution_count": null,
      "metadata": {
        "id": "GiwBcn5DWH8b"
      },
      "outputs": [],
      "source": [
        "def prettyJSON(myjson):\n",
        "    return json.dumps(json.loads(myjson), indent=4)"
      ]
    },
    {
      "cell_type": "code",
      "execution_count": null,
      "metadata": {
        "id": "mP9RAUPZWH8b",
        "outputId": "1ce429be-99d2-4ccc-818e-62f0f2e4c8f4"
      },
      "outputs": [
        {
          "data": {
            "text/plain": [
              "str"
            ]
          },
          "execution_count": 110,
          "metadata": {},
          "output_type": "execute_result"
        }
      ],
      "source": [
        "type(busyjson)"
      ]
    },
    {
      "cell_type": "code",
      "execution_count": null,
      "metadata": {
        "id": "a0WUodfCWH8b"
      },
      "outputs": [],
      "source": [
        "prettybusy = prettyJSON(busyjson)"
      ]
    },
    {
      "cell_type": "code",
      "execution_count": null,
      "metadata": {
        "id": "qZhsuRELWH8b"
      },
      "outputs": [],
      "source": [
        "with open('prettybusy.json', mode='w') as f:\n",
        "    f.write(prettybusy)"
      ]
    },
    {
      "cell_type": "markdown",
      "metadata": {
        "id": "hWNfcTfTWH8b"
      },
      "source": [
        "# Exercise Find Public JSON API get data and convert it into Pandas DataFrame\n",
        "\n",
        "## Many possible sources\n",
        "\n",
        "https://github.com/toddmotto/public-apis\n",
        "    \n",
        "### You want the ones without authorization and WITH CORS unless you are feeling adventurous and want to try with auth\n",
        "\n"
      ]
    },
    {
      "cell_type": "code",
      "execution_count": 67,
      "metadata": {
        "id": "MsIKva_WWH8c",
        "outputId": "ee2f5bec-4979-4169-db5a-6879a6a233b0",
        "colab": {
          "base_uri": "https://localhost:8080/",
          "height": 486
        }
      },
      "outputs": [
        {
          "output_type": "execute_result",
          "data": {
            "text/plain": [
              "                               status                       _id  __v  \\\n",
              "0  {'verified': True, 'sentCount': 1}  591f98703b90f7150a19c17e    0   \n",
              "1  {'verified': None, 'sentCount': 0}  6272129b6703b1868318af94    0   \n",
              "2  {'verified': None, 'sentCount': 0}  64f224ae69ed1d2d4b098c09    0   \n",
              "3  {'verified': None, 'sentCount': 0}  6435330ba95eb114b956b97d    0   \n",
              "4  {'verified': None, 'sentCount': 0}  640acfc72c4c3955079aab14    0   \n",
              "\n",
              "                                                text source  \\\n",
              "0  Sir Isaac Newton is not only credited with the...    api   \n",
              "1                         $$$1721672167hjXJK%&%%$#&.    NaN   \n",
              "2                           Cats are not colorblind.    NaN   \n",
              "3                        \"animalType\": \"crocodiles\".    NaN   \n",
              "4                               Are they still here.    NaN   \n",
              "\n",
              "                  updatedAt type                 createdAt  deleted  used  \\\n",
              "0  2020-08-23T20:20:01.611Z  cat  2018-01-04T01:10:54.673Z    False   0.0   \n",
              "1  2022-05-04T05:43:55.728Z  cat  2022-05-04T05:43:55.728Z    False   NaN   \n",
              "2  2023-09-01T17:51:42.600Z  cat  2023-09-01T17:51:42.600Z    False   NaN   \n",
              "3  2023-04-11T10:14:35.456Z  cat  2023-04-11T10:14:35.456Z    False   NaN   \n",
              "4  2023-03-10T06:35:51.083Z  cat  2023-03-10T06:35:51.083Z    False   NaN   \n",
              "\n",
              "                       user  \n",
              "0  5a9ac18c7478810ea6c06381  \n",
              "1  6264e6a2b09884b2f29747f1  \n",
              "2  64e4ff9cd68f81b4ae85405d  \n",
              "3  641e13557f1cdc6e3922f768  \n",
              "4  64045ce87ef7aa816f4ae9f1  "
            ],
            "text/html": [
              "\n",
              "  <div id=\"df-657d9fbf-2452-4368-a069-b645ae873769\" class=\"colab-df-container\">\n",
              "    <div>\n",
              "<style scoped>\n",
              "    .dataframe tbody tr th:only-of-type {\n",
              "        vertical-align: middle;\n",
              "    }\n",
              "\n",
              "    .dataframe tbody tr th {\n",
              "        vertical-align: top;\n",
              "    }\n",
              "\n",
              "    .dataframe thead th {\n",
              "        text-align: right;\n",
              "    }\n",
              "</style>\n",
              "<table border=\"1\" class=\"dataframe\">\n",
              "  <thead>\n",
              "    <tr style=\"text-align: right;\">\n",
              "      <th></th>\n",
              "      <th>status</th>\n",
              "      <th>_id</th>\n",
              "      <th>__v</th>\n",
              "      <th>text</th>\n",
              "      <th>source</th>\n",
              "      <th>updatedAt</th>\n",
              "      <th>type</th>\n",
              "      <th>createdAt</th>\n",
              "      <th>deleted</th>\n",
              "      <th>used</th>\n",
              "      <th>user</th>\n",
              "    </tr>\n",
              "  </thead>\n",
              "  <tbody>\n",
              "    <tr>\n",
              "      <th>0</th>\n",
              "      <td>{'verified': True, 'sentCount': 1}</td>\n",
              "      <td>591f98703b90f7150a19c17e</td>\n",
              "      <td>0</td>\n",
              "      <td>Sir Isaac Newton is not only credited with the...</td>\n",
              "      <td>api</td>\n",
              "      <td>2020-08-23T20:20:01.611Z</td>\n",
              "      <td>cat</td>\n",
              "      <td>2018-01-04T01:10:54.673Z</td>\n",
              "      <td>False</td>\n",
              "      <td>0.0</td>\n",
              "      <td>5a9ac18c7478810ea6c06381</td>\n",
              "    </tr>\n",
              "    <tr>\n",
              "      <th>1</th>\n",
              "      <td>{'verified': None, 'sentCount': 0}</td>\n",
              "      <td>6272129b6703b1868318af94</td>\n",
              "      <td>0</td>\n",
              "      <td>$$$1721672167hjXJK%&amp;%%$#&amp;.</td>\n",
              "      <td>NaN</td>\n",
              "      <td>2022-05-04T05:43:55.728Z</td>\n",
              "      <td>cat</td>\n",
              "      <td>2022-05-04T05:43:55.728Z</td>\n",
              "      <td>False</td>\n",
              "      <td>NaN</td>\n",
              "      <td>6264e6a2b09884b2f29747f1</td>\n",
              "    </tr>\n",
              "    <tr>\n",
              "      <th>2</th>\n",
              "      <td>{'verified': None, 'sentCount': 0}</td>\n",
              "      <td>64f224ae69ed1d2d4b098c09</td>\n",
              "      <td>0</td>\n",
              "      <td>Cats are not colorblind.</td>\n",
              "      <td>NaN</td>\n",
              "      <td>2023-09-01T17:51:42.600Z</td>\n",
              "      <td>cat</td>\n",
              "      <td>2023-09-01T17:51:42.600Z</td>\n",
              "      <td>False</td>\n",
              "      <td>NaN</td>\n",
              "      <td>64e4ff9cd68f81b4ae85405d</td>\n",
              "    </tr>\n",
              "    <tr>\n",
              "      <th>3</th>\n",
              "      <td>{'verified': None, 'sentCount': 0}</td>\n",
              "      <td>6435330ba95eb114b956b97d</td>\n",
              "      <td>0</td>\n",
              "      <td>\"animalType\": \"crocodiles\".</td>\n",
              "      <td>NaN</td>\n",
              "      <td>2023-04-11T10:14:35.456Z</td>\n",
              "      <td>cat</td>\n",
              "      <td>2023-04-11T10:14:35.456Z</td>\n",
              "      <td>False</td>\n",
              "      <td>NaN</td>\n",
              "      <td>641e13557f1cdc6e3922f768</td>\n",
              "    </tr>\n",
              "    <tr>\n",
              "      <th>4</th>\n",
              "      <td>{'verified': None, 'sentCount': 0}</td>\n",
              "      <td>640acfc72c4c3955079aab14</td>\n",
              "      <td>0</td>\n",
              "      <td>Are they still here.</td>\n",
              "      <td>NaN</td>\n",
              "      <td>2023-03-10T06:35:51.083Z</td>\n",
              "      <td>cat</td>\n",
              "      <td>2023-03-10T06:35:51.083Z</td>\n",
              "      <td>False</td>\n",
              "      <td>NaN</td>\n",
              "      <td>64045ce87ef7aa816f4ae9f1</td>\n",
              "    </tr>\n",
              "  </tbody>\n",
              "</table>\n",
              "</div>\n",
              "    <div class=\"colab-df-buttons\">\n",
              "\n",
              "  <div class=\"colab-df-container\">\n",
              "    <button class=\"colab-df-convert\" onclick=\"convertToInteractive('df-657d9fbf-2452-4368-a069-b645ae873769')\"\n",
              "            title=\"Convert this dataframe to an interactive table.\"\n",
              "            style=\"display:none;\">\n",
              "\n",
              "  <svg xmlns=\"http://www.w3.org/2000/svg\" height=\"24px\" viewBox=\"0 -960 960 960\">\n",
              "    <path d=\"M120-120v-720h720v720H120Zm60-500h600v-160H180v160Zm220 220h160v-160H400v160Zm0 220h160v-160H400v160ZM180-400h160v-160H180v160Zm440 0h160v-160H620v160ZM180-180h160v-160H180v160Zm440 0h160v-160H620v160Z\"/>\n",
              "  </svg>\n",
              "    </button>\n",
              "\n",
              "  <style>\n",
              "    .colab-df-container {\n",
              "      display:flex;\n",
              "      gap: 12px;\n",
              "    }\n",
              "\n",
              "    .colab-df-convert {\n",
              "      background-color: #E8F0FE;\n",
              "      border: none;\n",
              "      border-radius: 50%;\n",
              "      cursor: pointer;\n",
              "      display: none;\n",
              "      fill: #1967D2;\n",
              "      height: 32px;\n",
              "      padding: 0 0 0 0;\n",
              "      width: 32px;\n",
              "    }\n",
              "\n",
              "    .colab-df-convert:hover {\n",
              "      background-color: #E2EBFA;\n",
              "      box-shadow: 0px 1px 2px rgba(60, 64, 67, 0.3), 0px 1px 3px 1px rgba(60, 64, 67, 0.15);\n",
              "      fill: #174EA6;\n",
              "    }\n",
              "\n",
              "    .colab-df-buttons div {\n",
              "      margin-bottom: 4px;\n",
              "    }\n",
              "\n",
              "    [theme=dark] .colab-df-convert {\n",
              "      background-color: #3B4455;\n",
              "      fill: #D2E3FC;\n",
              "    }\n",
              "\n",
              "    [theme=dark] .colab-df-convert:hover {\n",
              "      background-color: #434B5C;\n",
              "      box-shadow: 0px 1px 3px 1px rgba(0, 0, 0, 0.15);\n",
              "      filter: drop-shadow(0px 1px 2px rgba(0, 0, 0, 0.3));\n",
              "      fill: #FFFFFF;\n",
              "    }\n",
              "  </style>\n",
              "\n",
              "    <script>\n",
              "      const buttonEl =\n",
              "        document.querySelector('#df-657d9fbf-2452-4368-a069-b645ae873769 button.colab-df-convert');\n",
              "      buttonEl.style.display =\n",
              "        google.colab.kernel.accessAllowed ? 'block' : 'none';\n",
              "\n",
              "      async function convertToInteractive(key) {\n",
              "        const element = document.querySelector('#df-657d9fbf-2452-4368-a069-b645ae873769');\n",
              "        const dataTable =\n",
              "          await google.colab.kernel.invokeFunction('convertToInteractive',\n",
              "                                                    [key], {});\n",
              "        if (!dataTable) return;\n",
              "\n",
              "        const docLinkHtml = 'Like what you see? Visit the ' +\n",
              "          '<a target=\"_blank\" href=https://colab.research.google.com/notebooks/data_table.ipynb>data table notebook</a>'\n",
              "          + ' to learn more about interactive tables.';\n",
              "        element.innerHTML = '';\n",
              "        dataTable['output_type'] = 'display_data';\n",
              "        await google.colab.output.renderOutput(dataTable, element);\n",
              "        const docLink = document.createElement('div');\n",
              "        docLink.innerHTML = docLinkHtml;\n",
              "        element.appendChild(docLink);\n",
              "      }\n",
              "    </script>\n",
              "  </div>\n",
              "\n",
              "\n",
              "<div id=\"df-7d9d358e-74d4-4902-a9d3-aa022a514352\">\n",
              "  <button class=\"colab-df-quickchart\" onclick=\"quickchart('df-7d9d358e-74d4-4902-a9d3-aa022a514352')\"\n",
              "            title=\"Suggest charts\"\n",
              "            style=\"display:none;\">\n",
              "\n",
              "<svg xmlns=\"http://www.w3.org/2000/svg\" height=\"24px\"viewBox=\"0 0 24 24\"\n",
              "     width=\"24px\">\n",
              "    <g>\n",
              "        <path d=\"M19 3H5c-1.1 0-2 .9-2 2v14c0 1.1.9 2 2 2h14c1.1 0 2-.9 2-2V5c0-1.1-.9-2-2-2zM9 17H7v-7h2v7zm4 0h-2V7h2v10zm4 0h-2v-4h2v4z\"/>\n",
              "    </g>\n",
              "</svg>\n",
              "  </button>\n",
              "\n",
              "<style>\n",
              "  .colab-df-quickchart {\n",
              "      --bg-color: #E8F0FE;\n",
              "      --fill-color: #1967D2;\n",
              "      --hover-bg-color: #E2EBFA;\n",
              "      --hover-fill-color: #174EA6;\n",
              "      --disabled-fill-color: #AAA;\n",
              "      --disabled-bg-color: #DDD;\n",
              "  }\n",
              "\n",
              "  [theme=dark] .colab-df-quickchart {\n",
              "      --bg-color: #3B4455;\n",
              "      --fill-color: #D2E3FC;\n",
              "      --hover-bg-color: #434B5C;\n",
              "      --hover-fill-color: #FFFFFF;\n",
              "      --disabled-bg-color: #3B4455;\n",
              "      --disabled-fill-color: #666;\n",
              "  }\n",
              "\n",
              "  .colab-df-quickchart {\n",
              "    background-color: var(--bg-color);\n",
              "    border: none;\n",
              "    border-radius: 50%;\n",
              "    cursor: pointer;\n",
              "    display: none;\n",
              "    fill: var(--fill-color);\n",
              "    height: 32px;\n",
              "    padding: 0;\n",
              "    width: 32px;\n",
              "  }\n",
              "\n",
              "  .colab-df-quickchart:hover {\n",
              "    background-color: var(--hover-bg-color);\n",
              "    box-shadow: 0 1px 2px rgba(60, 64, 67, 0.3), 0 1px 3px 1px rgba(60, 64, 67, 0.15);\n",
              "    fill: var(--button-hover-fill-color);\n",
              "  }\n",
              "\n",
              "  .colab-df-quickchart-complete:disabled,\n",
              "  .colab-df-quickchart-complete:disabled:hover {\n",
              "    background-color: var(--disabled-bg-color);\n",
              "    fill: var(--disabled-fill-color);\n",
              "    box-shadow: none;\n",
              "  }\n",
              "\n",
              "  .colab-df-spinner {\n",
              "    border: 2px solid var(--fill-color);\n",
              "    border-color: transparent;\n",
              "    border-bottom-color: var(--fill-color);\n",
              "    animation:\n",
              "      spin 1s steps(1) infinite;\n",
              "  }\n",
              "\n",
              "  @keyframes spin {\n",
              "    0% {\n",
              "      border-color: transparent;\n",
              "      border-bottom-color: var(--fill-color);\n",
              "      border-left-color: var(--fill-color);\n",
              "    }\n",
              "    20% {\n",
              "      border-color: transparent;\n",
              "      border-left-color: var(--fill-color);\n",
              "      border-top-color: var(--fill-color);\n",
              "    }\n",
              "    30% {\n",
              "      border-color: transparent;\n",
              "      border-left-color: var(--fill-color);\n",
              "      border-top-color: var(--fill-color);\n",
              "      border-right-color: var(--fill-color);\n",
              "    }\n",
              "    40% {\n",
              "      border-color: transparent;\n",
              "      border-right-color: var(--fill-color);\n",
              "      border-top-color: var(--fill-color);\n",
              "    }\n",
              "    60% {\n",
              "      border-color: transparent;\n",
              "      border-right-color: var(--fill-color);\n",
              "    }\n",
              "    80% {\n",
              "      border-color: transparent;\n",
              "      border-right-color: var(--fill-color);\n",
              "      border-bottom-color: var(--fill-color);\n",
              "    }\n",
              "    90% {\n",
              "      border-color: transparent;\n",
              "      border-bottom-color: var(--fill-color);\n",
              "    }\n",
              "  }\n",
              "</style>\n",
              "\n",
              "  <script>\n",
              "    async function quickchart(key) {\n",
              "      const quickchartButtonEl =\n",
              "        document.querySelector('#' + key + ' button');\n",
              "      quickchartButtonEl.disabled = true;  // To prevent multiple clicks.\n",
              "      quickchartButtonEl.classList.add('colab-df-spinner');\n",
              "      try {\n",
              "        const charts = await google.colab.kernel.invokeFunction(\n",
              "            'suggestCharts', [key], {});\n",
              "      } catch (error) {\n",
              "        console.error('Error during call to suggestCharts:', error);\n",
              "      }\n",
              "      quickchartButtonEl.classList.remove('colab-df-spinner');\n",
              "      quickchartButtonEl.classList.add('colab-df-quickchart-complete');\n",
              "    }\n",
              "    (() => {\n",
              "      let quickchartButtonEl =\n",
              "        document.querySelector('#df-7d9d358e-74d4-4902-a9d3-aa022a514352 button');\n",
              "      quickchartButtonEl.style.display =\n",
              "        google.colab.kernel.accessAllowed ? 'block' : 'none';\n",
              "    })();\n",
              "  </script>\n",
              "</div>\n",
              "    </div>\n",
              "  </div>\n"
            ]
          },
          "metadata": {},
          "execution_count": 67
        }
      ],
      "source": [
        "df = pd.read_json('https://cat-fact.herokuapp.com/facts/random?animal_type=cat&amount=50')\n",
        "# you could prepera the above url using f-strings by inserting animal_type and amount\n",
        "df.head()"
      ]
    },
    {
      "cell_type": "code",
      "execution_count": null,
      "metadata": {
        "id": "lsvAOSkwWH8c",
        "outputId": "937b00de-bd7c-4244-8d7c-677fa85ad2b9"
      },
      "outputs": [
        {
          "data": {
            "text/html": [
              "<div>\n",
              "<style scoped>\n",
              "    .dataframe tbody tr th:only-of-type {\n",
              "        vertical-align: middle;\n",
              "    }\n",
              "\n",
              "    .dataframe tbody tr th {\n",
              "        vertical-align: top;\n",
              "    }\n",
              "\n",
              "    .dataframe thead th {\n",
              "        text-align: right;\n",
              "    }\n",
              "</style>\n",
              "<table border=\"1\" class=\"dataframe\">\n",
              "  <thead>\n",
              "    <tr style=\"text-align: right;\">\n",
              "      <th></th>\n",
              "      <th>__v</th>\n",
              "      <th>_id</th>\n",
              "      <th>createdAt</th>\n",
              "      <th>deleted</th>\n",
              "      <th>source</th>\n",
              "      <th>status</th>\n",
              "      <th>text</th>\n",
              "      <th>type</th>\n",
              "      <th>updatedAt</th>\n",
              "      <th>used</th>\n",
              "      <th>user</th>\n",
              "    </tr>\n",
              "  </thead>\n",
              "  <tbody>\n",
              "    <tr>\n",
              "      <th>0</th>\n",
              "      <td>0</td>\n",
              "      <td>591f98783b90f7150a19c1ab</td>\n",
              "      <td>2018-01-04T01:10:54.673Z</td>\n",
              "      <td>False</td>\n",
              "      <td>api</td>\n",
              "      <td>{'verified': True, 'sentCount': 1}</td>\n",
              "      <td>Cats and kittens should be acquired in pairs w...</td>\n",
              "      <td>cat</td>\n",
              "      <td>2020-08-23T20:20:01.611Z</td>\n",
              "      <td>False</td>\n",
              "      <td>5a9ac18c7478810ea6c06381</td>\n",
              "    </tr>\n",
              "    <tr>\n",
              "      <th>1</th>\n",
              "      <td>0</td>\n",
              "      <td>5955792c7b77520020799431</td>\n",
              "      <td>2018-02-23T21:20:04.118Z</td>\n",
              "      <td>False</td>\n",
              "      <td>user</td>\n",
              "      <td>{'verified': True, 'sentCount': 1}</td>\n",
              "      <td>Cats \"knead\" because of seperation from their ...</td>\n",
              "      <td>cat</td>\n",
              "      <td>2020-08-23T20:20:01.611Z</td>\n",
              "      <td>False</td>\n",
              "      <td>595579027b77520020799430</td>\n",
              "    </tr>\n",
              "    <tr>\n",
              "      <th>2</th>\n",
              "      <td>0</td>\n",
              "      <td>5a038cdf8e3dbc001f719790</td>\n",
              "      <td>2018-02-01T21:20:02.808Z</td>\n",
              "      <td>False</td>\n",
              "      <td>user</td>\n",
              "      <td>{'verified': True, 'sentCount': 1}</td>\n",
              "      <td>The ability of a cat to reflexively twist its ...</td>\n",
              "      <td>cat</td>\n",
              "      <td>2020-08-23T20:20:01.611Z</td>\n",
              "      <td>False</td>\n",
              "      <td>5a9ac18c7478810ea6c06381</td>\n",
              "    </tr>\n",
              "    <tr>\n",
              "      <th>3</th>\n",
              "      <td>0</td>\n",
              "      <td>591f98783b90f7150a19c1da</td>\n",
              "      <td>2018-01-04T01:10:54.673Z</td>\n",
              "      <td>False</td>\n",
              "      <td>api</td>\n",
              "      <td>{'verified': True, 'sentCount': 1}</td>\n",
              "      <td>The cat appears to be the only domestic compan...</td>\n",
              "      <td>cat</td>\n",
              "      <td>2020-08-23T20:20:01.611Z</td>\n",
              "      <td>False</td>\n",
              "      <td>5a9ac18c7478810ea6c06381</td>\n",
              "    </tr>\n",
              "    <tr>\n",
              "      <th>4</th>\n",
              "      <td>0</td>\n",
              "      <td>591f98703b90f7150a19c15d</td>\n",
              "      <td>2018-01-04T01:10:54.673Z</td>\n",
              "      <td>False</td>\n",
              "      <td>api</td>\n",
              "      <td>{'verified': True, 'sentCount': 1}</td>\n",
              "      <td>Most cats killed on the road are un-neutered t...</td>\n",
              "      <td>cat</td>\n",
              "      <td>2020-08-23T20:20:01.611Z</td>\n",
              "      <td>False</td>\n",
              "      <td>5a9ac18c7478810ea6c06381</td>\n",
              "    </tr>\n",
              "  </tbody>\n",
              "</table>\n",
              "</div>"
            ],
            "text/plain": [
              "   __v                       _id                 createdAt  deleted source  \\\n",
              "0    0  591f98783b90f7150a19c1ab  2018-01-04T01:10:54.673Z    False    api   \n",
              "1    0  5955792c7b77520020799431  2018-02-23T21:20:04.118Z    False   user   \n",
              "2    0  5a038cdf8e3dbc001f719790  2018-02-01T21:20:02.808Z    False   user   \n",
              "3    0  591f98783b90f7150a19c1da  2018-01-04T01:10:54.673Z    False    api   \n",
              "4    0  591f98703b90f7150a19c15d  2018-01-04T01:10:54.673Z    False    api   \n",
              "\n",
              "                               status  \\\n",
              "0  {'verified': True, 'sentCount': 1}   \n",
              "1  {'verified': True, 'sentCount': 1}   \n",
              "2  {'verified': True, 'sentCount': 1}   \n",
              "3  {'verified': True, 'sentCount': 1}   \n",
              "4  {'verified': True, 'sentCount': 1}   \n",
              "\n",
              "                                                text type  \\\n",
              "0  Cats and kittens should be acquired in pairs w...  cat   \n",
              "1  Cats \"knead\" because of seperation from their ...  cat   \n",
              "2  The ability of a cat to reflexively twist its ...  cat   \n",
              "3  The cat appears to be the only domestic compan...  cat   \n",
              "4  Most cats killed on the road are un-neutered t...  cat   \n",
              "\n",
              "                  updatedAt   used                      user  \n",
              "0  2020-08-23T20:20:01.611Z  False  5a9ac18c7478810ea6c06381  \n",
              "1  2020-08-23T20:20:01.611Z  False  595579027b77520020799430  \n",
              "2  2020-08-23T20:20:01.611Z  False  5a9ac18c7478810ea6c06381  \n",
              "3  2020-08-23T20:20:01.611Z  False  5a9ac18c7478810ea6c06381  \n",
              "4  2020-08-23T20:20:01.611Z  False  5a9ac18c7478810ea6c06381  "
            ]
          },
          "execution_count": 54,
          "metadata": {},
          "output_type": "execute_result"
        }
      ],
      "source": [
        "df.columns = sorted(df.columns)\n",
        "df.head()"
      ]
    },
    {
      "cell_type": "code",
      "source": [
        "# lets save our cats into csv\n",
        "df.to_csv(\"cat_facts.csv\")"
      ],
      "metadata": {
        "id": "-XuumnlkD_9A"
      },
      "execution_count": 75,
      "outputs": []
    },
    {
      "cell_type": "code",
      "execution_count": 76,
      "metadata": {
        "id": "N_CKc-ELWH8c",
        "outputId": "4708f6b4-5140-4651-d2e3-e7451929d3a8",
        "colab": {
          "base_uri": "https://localhost:8080/"
        }
      },
      "outputs": [
        {
          "output_type": "stream",
          "name": "stdout",
          "text": [
            "200\n"
          ]
        },
        {
          "output_type": "execute_result",
          "data": {
            "text/plain": [
              "[{'status': {'verified': None, 'sentCount': 0},\n",
              "  '_id': '63c6b8de220958920a6fc640',\n",
              "  'user': '63c15de69dd5b79e64cfb2a7',\n",
              "  'text': 'Я люблю фиолетовых котов.',\n",
              "  'type': 'cat',\n",
              "  'deleted': False,\n",
              "  'createdAt': '2023-01-17T15:03:58.191Z',\n",
              "  'updatedAt': '2023-01-17T15:03:58.191Z',\n",
              "  '__v': 0},\n",
              " {'status': {'verified': None, 'sentCount': 0},\n",
              "  '_id': '62694d04b37b2b9a2cf2bfe1',\n",
              "  'user': '62655552b09884b2f29780f6',\n",
              "  'text': \"Cats don't drink water.\",\n",
              "  'type': 'cat',\n",
              "  'deleted': False,\n",
              "  'createdAt': '2022-04-27T14:02:44.509Z',\n",
              "  'updatedAt': '2022-04-27T14:02:44.509Z',\n",
              "  '__v': 0},\n",
              " {'status': {'verified': None, 'sentCount': 0},\n",
              "  '_id': '62664e24327911238679026e',\n",
              "  'user': '6265441eb09884b2f29778a5',\n",
              "  'text': 'Животные сильно различаются по продолжительности жизни.',\n",
              "  'type': 'cat',\n",
              "  'deleted': False,\n",
              "  'createdAt': '2022-04-25T07:30:44.907Z',\n",
              "  'updatedAt': '2022-04-25T07:30:44.907Z',\n",
              "  '__v': 0}]"
            ]
          },
          "metadata": {},
          "execution_count": 76
        }
      ],
      "source": [
        "response = requests.get(\"https://cat-fact.herokuapp.com/facts/random?animal_type=cat&amount=50\")\n",
        "if response.status_code != 200: # alternative to assert\n",
        "    print(\"Bad Response: \", response.status_code)\n",
        "print(response.status_code)\n",
        "cats = json.loads(response.text)\n",
        "cats[:3]"
      ]
    },
    {
      "cell_type": "markdown",
      "source": [
        "### Passing URL parameters using requests"
      ],
      "metadata": {
        "id": "9qJOgsygDR-i"
      }
    },
    {
      "cell_type": "code",
      "execution_count": 77,
      "metadata": {
        "id": "hdYUV3q1WH8c",
        "outputId": "1fed7e26-8967-45b6-9ee9-7990e3d1c313",
        "colab": {
          "base_uri": "https://localhost:8080/"
        }
      },
      "outputs": [
        {
          "output_type": "stream",
          "name": "stdout",
          "text": [
            "Response code 200\n"
          ]
        },
        {
          "output_type": "execute_result",
          "data": {
            "text/plain": [
              "[{'status': {'verified': None, 'sentCount': 0},\n",
              "  '_id': '626c32c941f4aa428ac1c535',\n",
              "  'user': '6262fc13f782346dbf6643ac',\n",
              "  'text': 'Ddddddddddddddddddddddddddddddddddddddddddddddddddo.',\n",
              "  'type': 'cat',\n",
              "  'deleted': False,\n",
              "  'createdAt': '2022-04-29T18:47:37.698Z',\n",
              "  'updatedAt': '2022-04-29T18:47:37.698Z',\n",
              "  '__v': 0},\n",
              " {'status': {'verified': None, 'sentCount': 0},\n",
              "  '_id': '6269395bb37b2b9a2cf29378',\n",
              "  'user': '6268e9df4514425908fd3773',\n",
              "  'text': 'Horses very like people.',\n",
              "  'type': 'cat',\n",
              "  'deleted': False,\n",
              "  'createdAt': '2022-04-27T12:38:51.063Z',\n",
              "  'updatedAt': '2022-04-27T12:38:51.063Z',\n",
              "  '__v': 0},\n",
              " {'status': {'verified': None, 'sentCount': 0},\n",
              "  '_id': '623f6bca71e71c79959d66dc',\n",
              "  'user': '623b03d11fbf24e1ca594a70',\n",
              "  'text': 'У кошек 9 жизней.',\n",
              "  'type': 'cat',\n",
              "  'deleted': False,\n",
              "  'createdAt': '2022-03-26T19:38:50.278Z',\n",
              "  'updatedAt': '2022-03-26T19:38:50.278Z',\n",
              "  '__v': 0}]"
            ]
          },
          "metadata": {},
          "execution_count": 77
        }
      ],
      "source": [
        "response = requests.get(\"https://cat-fact.herokuapp.com/facts/random\",\n",
        "                        params={\"animal_type\":\"cat\", \"amount\":20})\n",
        "if response.status_code != 200:\n",
        "    print(\"Bad Response: \", response.status_code)\n",
        "print(\"Response code\", response.status_code)\n",
        "# cats = json.loads(response.text)\n",
        "# simpler response.json()\n",
        "cats = response.json()\n",
        "cats[:3]"
      ]
    },
    {
      "cell_type": "code",
      "execution_count": 72,
      "metadata": {
        "id": "bx8bZMMJWH8c",
        "outputId": "2d7b99c9-aef6-448b-f520-735f526d6097",
        "colab": {
          "base_uri": "https://localhost:8080/"
        }
      },
      "outputs": [
        {
          "output_type": "execute_result",
          "data": {
            "text/plain": [
              "20"
            ]
          },
          "metadata": {},
          "execution_count": 72
        }
      ],
      "source": [
        "len(cats)\n"
      ]
    },
    {
      "cell_type": "code",
      "source": [
        "# last cat fact\n",
        "cats[-1]"
      ],
      "metadata": {
        "id": "mz8RoAySD2Kg",
        "outputId": "1029be6d-5e0f-4f46-ff20-5cb3f05c169b",
        "colab": {
          "base_uri": "https://localhost:8080/"
        }
      },
      "execution_count": 78,
      "outputs": [
        {
          "output_type": "execute_result",
          "data": {
            "text/plain": [
              "{'status': {'verified': None, 'sentCount': 0},\n",
              " '_id': '646ad1b96e5a8ad793173335',\n",
              " 'user': '646ad1ab6e5a8ad793173328',\n",
              " 'text': '英短.',\n",
              " 'type': 'cat',\n",
              " 'deleted': False,\n",
              " 'createdAt': '2023-05-22T02:21:45.540Z',\n",
              " 'updatedAt': '2023-05-22T02:21:45.540Z',\n",
              " '__v': 0}"
            ]
          },
          "metadata": {},
          "execution_count": 78
        }
      ]
    },
    {
      "cell_type": "code",
      "execution_count": null,
      "metadata": {
        "id": "VuCfEq0iWH8c",
        "outputId": "b51abae4-7518-4b43-c762-c24064a93fe5"
      },
      "outputs": [
        {
          "data": {
            "text/plain": [
              "200"
            ]
          },
          "execution_count": 60,
          "metadata": {},
          "output_type": "execute_result"
        }
      ],
      "source": [
        "response.status_code"
      ]
    },
    {
      "cell_type": "code",
      "execution_count": null,
      "metadata": {
        "id": "O_QLdxrcWH8c",
        "outputId": "7560b0c4-f0d3-4fa7-dd81-80c36d07e046"
      },
      "outputs": [
        {
          "data": {
            "text/plain": [
              "20"
            ]
          },
          "execution_count": 61,
          "metadata": {},
          "output_type": "execute_result"
        }
      ],
      "source": [
        "cats2 = response.json()\n",
        "len(cats2)"
      ]
    },
    {
      "cell_type": "code",
      "execution_count": null,
      "metadata": {
        "id": "D-ryDDccWH8c",
        "outputId": "c9e62fe3-789b-4654-ff23-bed5ff54f57e"
      },
      "outputs": [
        {
          "data": {
            "text/plain": [
              "(True, False)"
            ]
          },
          "execution_count": 64,
          "metadata": {},
          "output_type": "execute_result"
        }
      ],
      "source": [
        "cats2 == cats, cats2 is cats\n",
        "#data are the same we just have two different copies of them"
      ]
    },
    {
      "cell_type": "code",
      "execution_count": null,
      "metadata": {
        "id": "crTaX1IJWH8d"
      },
      "outputs": [],
      "source": []
    },
    {
      "cell_type": "code",
      "execution_count": 73,
      "metadata": {
        "id": "zooNGrq0WH8d",
        "outputId": "53f55d04-5cd5-440e-fabc-9b99c142e858",
        "colab": {
          "base_uri": "https://localhost:8080/",
          "height": 35
        }
      },
      "outputs": [
        {
          "output_type": "execute_result",
          "data": {
            "text/plain": [
              "'Sir Isaac Newton is not only credited with the laws of gravity but is also credited with inventing the cat flap.'"
            ],
            "application/vnd.google.colaboratory.intrinsic+json": {
              "type": "string"
            }
          },
          "metadata": {},
          "execution_count": 73
        }
      ],
      "source": [
        "df.loc[0, 'text']"
      ]
    },
    {
      "cell_type": "code",
      "execution_count": null,
      "metadata": {
        "id": "lVQTSjAYWH8d"
      },
      "outputs": [],
      "source": [
        "## For authorization you generally need some sort of token(key)\n",
        "# One example for zendesk API  https://develop.zendesk.com/hc/en-us/community/posts/360001652447-API-auth-in-python\n",
        "\n",
        "\n",
        "# For an API token, append '/token' to your username and use the token as the password:\n",
        "## This will not work for those without zendesk access token\n",
        "\n",
        "url = 'https://your_subdomain.zendesk.com/api/v2/users/123.json'\n",
        "r = requests.get(url, auth=('user@example.com/token', 'your_token'))\n",
        "# For an OAuth token, set an Authorization header:\n",
        "\n",
        "bearer_token = 'Bearer ' + access_token\n",
        "header = {'Authorization': bearer_token}\n",
        "url = 'https://your_subdomain.zendesk.com/api/v2/users/123.json'\n",
        "r = requests.get(url, headers=header)"
      ]
    },
    {
      "cell_type": "markdown",
      "source": [
        "### Function to read JSON from url"
      ],
      "metadata": {
        "id": "3jM0o9LoE0z-"
      }
    },
    {
      "cell_type": "code",
      "execution_count": 79,
      "metadata": {
        "id": "29FBclU0WH8d"
      },
      "outputs": [],
      "source": [
        "def myReadJSON(url):\n",
        "    \"\"\"Simple wrapper function around requests\n",
        "    Argument: url - what you want to access\n",
        "    Returns: Python data structure parsed from JSON response\n",
        "    Returns NONE if non 200 response\n",
        "    \"\"\"\n",
        "    response = requests.get(url)\n",
        "    if response.status_code != 200:\n",
        "        print(\"Bad Response: \", response.status_code)\n",
        "        return None\n",
        "    print(\"Status CODE\", response.status_code)\n",
        "    return json.loads(response.text)\n"
      ]
    },
    {
      "cell_type": "code",
      "execution_count": 81,
      "metadata": {
        "id": "2T3eZBPwWH8d",
        "outputId": "701002c6-1dba-4447-859e-f7c53a863762",
        "colab": {
          "base_uri": "https://localhost:8080/"
        }
      },
      "outputs": [
        {
          "output_type": "stream",
          "name": "stdout",
          "text": [
            "Status CODE 200\n"
          ]
        },
        {
          "output_type": "execute_result",
          "data": {
            "text/plain": [
              "dict"
            ]
          },
          "metadata": {},
          "execution_count": 81
        }
      ],
      "source": [
        "rawdrinks = myReadJSON(\"https://www.thecocktaildb.com/api/json/v1/1/search.php?s=margarita\")\n",
        "type(rawdrinks)"
      ]
    },
    {
      "cell_type": "code",
      "execution_count": 82,
      "metadata": {
        "id": "Pp6eve3tWH8d",
        "outputId": "81b5abd0-65b5-4e0f-c7f5-7b179fdb6ba0",
        "colab": {
          "base_uri": "https://localhost:8080/"
        }
      },
      "outputs": [
        {
          "output_type": "execute_result",
          "data": {
            "text/plain": [
              "dict_keys(['drinks'])"
            ]
          },
          "metadata": {},
          "execution_count": 82
        }
      ],
      "source": [
        "rawdrinks.keys() # turns out we have an outer dictionary with a single key"
      ]
    },
    {
      "cell_type": "code",
      "source": [
        "raw_drinks_list = rawdrinks['drinks']\n",
        "# so we have our desired list of dictionary\n",
        "print(\"container is of type\", type(raw_drinks_list))\n",
        "print(\"Items are of type\", type(raw_drinks_list[0]))"
      ],
      "metadata": {
        "id": "CQg55sccFgQ_",
        "outputId": "4e5fd9bb-2738-4325-ba4e-1ad062ea9012",
        "colab": {
          "base_uri": "https://localhost:8080/"
        }
      },
      "execution_count": 83,
      "outputs": [
        {
          "output_type": "stream",
          "name": "stdout",
          "text": [
            "container is of type <class 'list'>\n",
            "Items are of type <class 'dict'>\n"
          ]
        }
      ]
    },
    {
      "cell_type": "code",
      "source": [
        "# how many drinks to we have?\n",
        "print(\"LEngth of list\", len(raw_drinks_list))"
      ],
      "metadata": {
        "id": "Limm4ASnGalL",
        "outputId": "22babc48-4ed3-4387-fc4d-411472e704a8",
        "colab": {
          "base_uri": "https://localhost:8080/"
        }
      },
      "execution_count": 87,
      "outputs": [
        {
          "output_type": "stream",
          "name": "stdout",
          "text": [
            "LEngth of list 6\n"
          ]
        }
      ]
    },
    {
      "cell_type": "code",
      "execution_count": 88,
      "metadata": {
        "id": "1DF4fUd_WH8d",
        "outputId": "f473c322-e69f-4cc8-e25d-d3d629242b10",
        "colab": {
          "base_uri": "https://localhost:8080/",
          "height": 530
        }
      },
      "outputs": [
        {
          "output_type": "execute_result",
          "data": {
            "text/plain": [
              "  idDrink                      strDrink strDrinkAlternate  \\\n",
              "0   11007                     Margarita              None   \n",
              "1   11118                Blue Margarita              None   \n",
              "2   17216             Tommy's Margarita              None   \n",
              "3   16158            Whitecap Margarita              None   \n",
              "4   12322          Strawberry Margarita              None   \n",
              "5  178332  Smashed Watermelon Margarita              None   \n",
              "\n",
              "                   strTags strVideo      strCategory                 strIBA  \\\n",
              "0  IBA,ContemporaryClassic     None   Ordinary Drink  Contemporary Classics   \n",
              "1                     None     None   Ordinary Drink                   None   \n",
              "2               IBA,NewEra     None   Ordinary Drink         New Era Drinks   \n",
              "3                     None     None  Other / Unknown                   None   \n",
              "4                     None     None   Ordinary Drink                   None   \n",
              "5                     None     None         Cocktail                   None   \n",
              "\n",
              "  strAlcoholic                  strGlass  \\\n",
              "0    Alcoholic            Cocktail glass   \n",
              "1    Alcoholic            Cocktail glass   \n",
              "2    Alcoholic       Old-Fashioned glass   \n",
              "3    Alcoholic  Margarita/Coupette glass   \n",
              "4    Alcoholic            Cocktail glass   \n",
              "5    Alcoholic             Collins glass   \n",
              "\n",
              "                                     strInstructions  ... strMeasure10  \\\n",
              "0  Rub the rim of the glass with the lime slice t...  ...         None   \n",
              "1  Rub rim of cocktail glass with lime juice. Dip...  ...         None   \n",
              "2    Shake and strain into a chilled cocktail glass.  ...         None   \n",
              "3  Place all ingredients in a blender and blend u...  ...         None   \n",
              "4  Rub rim of cocktail glass with lemon juice and...  ...         None   \n",
              "5  In a mason jar muddle the watermelon and 5 min...  ...         None   \n",
              "\n",
              "  strMeasure11 strMeasure12 strMeasure13 strMeasure14 strMeasure15  \\\n",
              "0         None         None         None         None         None   \n",
              "1         None         None         None         None         None   \n",
              "2         None         None         None         None         None   \n",
              "3         None         None         None         None         None   \n",
              "4         None         None         None         None         None   \n",
              "5         None         None         None         None         None   \n",
              "\n",
              "                                      strImageSource strImageAttribution  \\\n",
              "0  https://commons.wikimedia.org/wiki/File:Klassi...      Cocktailmarler   \n",
              "1                                               None                None   \n",
              "2                                               None                None   \n",
              "3                                               None                None   \n",
              "4                                               None                None   \n",
              "5                                               None                None   \n",
              "\n",
              "  strCreativeCommonsConfirmed         dateModified  \n",
              "0                         Yes  2015-08-18 14:42:59  \n",
              "1                         Yes  2015-08-18 14:51:53  \n",
              "2                          No  2017-09-02 18:37:54  \n",
              "3                          No  2015-09-02 17:00:22  \n",
              "4                          No  2015-08-18 14:41:51  \n",
              "5                          No                 None  \n",
              "\n",
              "[6 rows x 51 columns]"
            ],
            "text/html": [
              "\n",
              "  <div id=\"df-0a5a53ae-b00e-478c-9750-42dd8e96df39\" class=\"colab-df-container\">\n",
              "    <div>\n",
              "<style scoped>\n",
              "    .dataframe tbody tr th:only-of-type {\n",
              "        vertical-align: middle;\n",
              "    }\n",
              "\n",
              "    .dataframe tbody tr th {\n",
              "        vertical-align: top;\n",
              "    }\n",
              "\n",
              "    .dataframe thead th {\n",
              "        text-align: right;\n",
              "    }\n",
              "</style>\n",
              "<table border=\"1\" class=\"dataframe\">\n",
              "  <thead>\n",
              "    <tr style=\"text-align: right;\">\n",
              "      <th></th>\n",
              "      <th>idDrink</th>\n",
              "      <th>strDrink</th>\n",
              "      <th>strDrinkAlternate</th>\n",
              "      <th>strTags</th>\n",
              "      <th>strVideo</th>\n",
              "      <th>strCategory</th>\n",
              "      <th>strIBA</th>\n",
              "      <th>strAlcoholic</th>\n",
              "      <th>strGlass</th>\n",
              "      <th>strInstructions</th>\n",
              "      <th>...</th>\n",
              "      <th>strMeasure10</th>\n",
              "      <th>strMeasure11</th>\n",
              "      <th>strMeasure12</th>\n",
              "      <th>strMeasure13</th>\n",
              "      <th>strMeasure14</th>\n",
              "      <th>strMeasure15</th>\n",
              "      <th>strImageSource</th>\n",
              "      <th>strImageAttribution</th>\n",
              "      <th>strCreativeCommonsConfirmed</th>\n",
              "      <th>dateModified</th>\n",
              "    </tr>\n",
              "  </thead>\n",
              "  <tbody>\n",
              "    <tr>\n",
              "      <th>0</th>\n",
              "      <td>11007</td>\n",
              "      <td>Margarita</td>\n",
              "      <td>None</td>\n",
              "      <td>IBA,ContemporaryClassic</td>\n",
              "      <td>None</td>\n",
              "      <td>Ordinary Drink</td>\n",
              "      <td>Contemporary Classics</td>\n",
              "      <td>Alcoholic</td>\n",
              "      <td>Cocktail glass</td>\n",
              "      <td>Rub the rim of the glass with the lime slice t...</td>\n",
              "      <td>...</td>\n",
              "      <td>None</td>\n",
              "      <td>None</td>\n",
              "      <td>None</td>\n",
              "      <td>None</td>\n",
              "      <td>None</td>\n",
              "      <td>None</td>\n",
              "      <td>https://commons.wikimedia.org/wiki/File:Klassi...</td>\n",
              "      <td>Cocktailmarler</td>\n",
              "      <td>Yes</td>\n",
              "      <td>2015-08-18 14:42:59</td>\n",
              "    </tr>\n",
              "    <tr>\n",
              "      <th>1</th>\n",
              "      <td>11118</td>\n",
              "      <td>Blue Margarita</td>\n",
              "      <td>None</td>\n",
              "      <td>None</td>\n",
              "      <td>None</td>\n",
              "      <td>Ordinary Drink</td>\n",
              "      <td>None</td>\n",
              "      <td>Alcoholic</td>\n",
              "      <td>Cocktail glass</td>\n",
              "      <td>Rub rim of cocktail glass with lime juice. Dip...</td>\n",
              "      <td>...</td>\n",
              "      <td>None</td>\n",
              "      <td>None</td>\n",
              "      <td>None</td>\n",
              "      <td>None</td>\n",
              "      <td>None</td>\n",
              "      <td>None</td>\n",
              "      <td>None</td>\n",
              "      <td>None</td>\n",
              "      <td>Yes</td>\n",
              "      <td>2015-08-18 14:51:53</td>\n",
              "    </tr>\n",
              "    <tr>\n",
              "      <th>2</th>\n",
              "      <td>17216</td>\n",
              "      <td>Tommy's Margarita</td>\n",
              "      <td>None</td>\n",
              "      <td>IBA,NewEra</td>\n",
              "      <td>None</td>\n",
              "      <td>Ordinary Drink</td>\n",
              "      <td>New Era Drinks</td>\n",
              "      <td>Alcoholic</td>\n",
              "      <td>Old-Fashioned glass</td>\n",
              "      <td>Shake and strain into a chilled cocktail glass.</td>\n",
              "      <td>...</td>\n",
              "      <td>None</td>\n",
              "      <td>None</td>\n",
              "      <td>None</td>\n",
              "      <td>None</td>\n",
              "      <td>None</td>\n",
              "      <td>None</td>\n",
              "      <td>None</td>\n",
              "      <td>None</td>\n",
              "      <td>No</td>\n",
              "      <td>2017-09-02 18:37:54</td>\n",
              "    </tr>\n",
              "    <tr>\n",
              "      <th>3</th>\n",
              "      <td>16158</td>\n",
              "      <td>Whitecap Margarita</td>\n",
              "      <td>None</td>\n",
              "      <td>None</td>\n",
              "      <td>None</td>\n",
              "      <td>Other / Unknown</td>\n",
              "      <td>None</td>\n",
              "      <td>Alcoholic</td>\n",
              "      <td>Margarita/Coupette glass</td>\n",
              "      <td>Place all ingredients in a blender and blend u...</td>\n",
              "      <td>...</td>\n",
              "      <td>None</td>\n",
              "      <td>None</td>\n",
              "      <td>None</td>\n",
              "      <td>None</td>\n",
              "      <td>None</td>\n",
              "      <td>None</td>\n",
              "      <td>None</td>\n",
              "      <td>None</td>\n",
              "      <td>No</td>\n",
              "      <td>2015-09-02 17:00:22</td>\n",
              "    </tr>\n",
              "    <tr>\n",
              "      <th>4</th>\n",
              "      <td>12322</td>\n",
              "      <td>Strawberry Margarita</td>\n",
              "      <td>None</td>\n",
              "      <td>None</td>\n",
              "      <td>None</td>\n",
              "      <td>Ordinary Drink</td>\n",
              "      <td>None</td>\n",
              "      <td>Alcoholic</td>\n",
              "      <td>Cocktail glass</td>\n",
              "      <td>Rub rim of cocktail glass with lemon juice and...</td>\n",
              "      <td>...</td>\n",
              "      <td>None</td>\n",
              "      <td>None</td>\n",
              "      <td>None</td>\n",
              "      <td>None</td>\n",
              "      <td>None</td>\n",
              "      <td>None</td>\n",
              "      <td>None</td>\n",
              "      <td>None</td>\n",
              "      <td>No</td>\n",
              "      <td>2015-08-18 14:41:51</td>\n",
              "    </tr>\n",
              "    <tr>\n",
              "      <th>5</th>\n",
              "      <td>178332</td>\n",
              "      <td>Smashed Watermelon Margarita</td>\n",
              "      <td>None</td>\n",
              "      <td>None</td>\n",
              "      <td>None</td>\n",
              "      <td>Cocktail</td>\n",
              "      <td>None</td>\n",
              "      <td>Alcoholic</td>\n",
              "      <td>Collins glass</td>\n",
              "      <td>In a mason jar muddle the watermelon and 5 min...</td>\n",
              "      <td>...</td>\n",
              "      <td>None</td>\n",
              "      <td>None</td>\n",
              "      <td>None</td>\n",
              "      <td>None</td>\n",
              "      <td>None</td>\n",
              "      <td>None</td>\n",
              "      <td>None</td>\n",
              "      <td>None</td>\n",
              "      <td>No</td>\n",
              "      <td>None</td>\n",
              "    </tr>\n",
              "  </tbody>\n",
              "</table>\n",
              "<p>6 rows × 51 columns</p>\n",
              "</div>\n",
              "    <div class=\"colab-df-buttons\">\n",
              "\n",
              "  <div class=\"colab-df-container\">\n",
              "    <button class=\"colab-df-convert\" onclick=\"convertToInteractive('df-0a5a53ae-b00e-478c-9750-42dd8e96df39')\"\n",
              "            title=\"Convert this dataframe to an interactive table.\"\n",
              "            style=\"display:none;\">\n",
              "\n",
              "  <svg xmlns=\"http://www.w3.org/2000/svg\" height=\"24px\" viewBox=\"0 -960 960 960\">\n",
              "    <path d=\"M120-120v-720h720v720H120Zm60-500h600v-160H180v160Zm220 220h160v-160H400v160Zm0 220h160v-160H400v160ZM180-400h160v-160H180v160Zm440 0h160v-160H620v160ZM180-180h160v-160H180v160Zm440 0h160v-160H620v160Z\"/>\n",
              "  </svg>\n",
              "    </button>\n",
              "\n",
              "  <style>\n",
              "    .colab-df-container {\n",
              "      display:flex;\n",
              "      gap: 12px;\n",
              "    }\n",
              "\n",
              "    .colab-df-convert {\n",
              "      background-color: #E8F0FE;\n",
              "      border: none;\n",
              "      border-radius: 50%;\n",
              "      cursor: pointer;\n",
              "      display: none;\n",
              "      fill: #1967D2;\n",
              "      height: 32px;\n",
              "      padding: 0 0 0 0;\n",
              "      width: 32px;\n",
              "    }\n",
              "\n",
              "    .colab-df-convert:hover {\n",
              "      background-color: #E2EBFA;\n",
              "      box-shadow: 0px 1px 2px rgba(60, 64, 67, 0.3), 0px 1px 3px 1px rgba(60, 64, 67, 0.15);\n",
              "      fill: #174EA6;\n",
              "    }\n",
              "\n",
              "    .colab-df-buttons div {\n",
              "      margin-bottom: 4px;\n",
              "    }\n",
              "\n",
              "    [theme=dark] .colab-df-convert {\n",
              "      background-color: #3B4455;\n",
              "      fill: #D2E3FC;\n",
              "    }\n",
              "\n",
              "    [theme=dark] .colab-df-convert:hover {\n",
              "      background-color: #434B5C;\n",
              "      box-shadow: 0px 1px 3px 1px rgba(0, 0, 0, 0.15);\n",
              "      filter: drop-shadow(0px 1px 2px rgba(0, 0, 0, 0.3));\n",
              "      fill: #FFFFFF;\n",
              "    }\n",
              "  </style>\n",
              "\n",
              "    <script>\n",
              "      const buttonEl =\n",
              "        document.querySelector('#df-0a5a53ae-b00e-478c-9750-42dd8e96df39 button.colab-df-convert');\n",
              "      buttonEl.style.display =\n",
              "        google.colab.kernel.accessAllowed ? 'block' : 'none';\n",
              "\n",
              "      async function convertToInteractive(key) {\n",
              "        const element = document.querySelector('#df-0a5a53ae-b00e-478c-9750-42dd8e96df39');\n",
              "        const dataTable =\n",
              "          await google.colab.kernel.invokeFunction('convertToInteractive',\n",
              "                                                    [key], {});\n",
              "        if (!dataTable) return;\n",
              "\n",
              "        const docLinkHtml = 'Like what you see? Visit the ' +\n",
              "          '<a target=\"_blank\" href=https://colab.research.google.com/notebooks/data_table.ipynb>data table notebook</a>'\n",
              "          + ' to learn more about interactive tables.';\n",
              "        element.innerHTML = '';\n",
              "        dataTable['output_type'] = 'display_data';\n",
              "        await google.colab.output.renderOutput(dataTable, element);\n",
              "        const docLink = document.createElement('div');\n",
              "        docLink.innerHTML = docLinkHtml;\n",
              "        element.appendChild(docLink);\n",
              "      }\n",
              "    </script>\n",
              "  </div>\n",
              "\n",
              "\n",
              "<div id=\"df-df4e9195-2a73-487b-95ce-7b837d69ab00\">\n",
              "  <button class=\"colab-df-quickchart\" onclick=\"quickchart('df-df4e9195-2a73-487b-95ce-7b837d69ab00')\"\n",
              "            title=\"Suggest charts\"\n",
              "            style=\"display:none;\">\n",
              "\n",
              "<svg xmlns=\"http://www.w3.org/2000/svg\" height=\"24px\"viewBox=\"0 0 24 24\"\n",
              "     width=\"24px\">\n",
              "    <g>\n",
              "        <path d=\"M19 3H5c-1.1 0-2 .9-2 2v14c0 1.1.9 2 2 2h14c1.1 0 2-.9 2-2V5c0-1.1-.9-2-2-2zM9 17H7v-7h2v7zm4 0h-2V7h2v10zm4 0h-2v-4h2v4z\"/>\n",
              "    </g>\n",
              "</svg>\n",
              "  </button>\n",
              "\n",
              "<style>\n",
              "  .colab-df-quickchart {\n",
              "      --bg-color: #E8F0FE;\n",
              "      --fill-color: #1967D2;\n",
              "      --hover-bg-color: #E2EBFA;\n",
              "      --hover-fill-color: #174EA6;\n",
              "      --disabled-fill-color: #AAA;\n",
              "      --disabled-bg-color: #DDD;\n",
              "  }\n",
              "\n",
              "  [theme=dark] .colab-df-quickchart {\n",
              "      --bg-color: #3B4455;\n",
              "      --fill-color: #D2E3FC;\n",
              "      --hover-bg-color: #434B5C;\n",
              "      --hover-fill-color: #FFFFFF;\n",
              "      --disabled-bg-color: #3B4455;\n",
              "      --disabled-fill-color: #666;\n",
              "  }\n",
              "\n",
              "  .colab-df-quickchart {\n",
              "    background-color: var(--bg-color);\n",
              "    border: none;\n",
              "    border-radius: 50%;\n",
              "    cursor: pointer;\n",
              "    display: none;\n",
              "    fill: var(--fill-color);\n",
              "    height: 32px;\n",
              "    padding: 0;\n",
              "    width: 32px;\n",
              "  }\n",
              "\n",
              "  .colab-df-quickchart:hover {\n",
              "    background-color: var(--hover-bg-color);\n",
              "    box-shadow: 0 1px 2px rgba(60, 64, 67, 0.3), 0 1px 3px 1px rgba(60, 64, 67, 0.15);\n",
              "    fill: var(--button-hover-fill-color);\n",
              "  }\n",
              "\n",
              "  .colab-df-quickchart-complete:disabled,\n",
              "  .colab-df-quickchart-complete:disabled:hover {\n",
              "    background-color: var(--disabled-bg-color);\n",
              "    fill: var(--disabled-fill-color);\n",
              "    box-shadow: none;\n",
              "  }\n",
              "\n",
              "  .colab-df-spinner {\n",
              "    border: 2px solid var(--fill-color);\n",
              "    border-color: transparent;\n",
              "    border-bottom-color: var(--fill-color);\n",
              "    animation:\n",
              "      spin 1s steps(1) infinite;\n",
              "  }\n",
              "\n",
              "  @keyframes spin {\n",
              "    0% {\n",
              "      border-color: transparent;\n",
              "      border-bottom-color: var(--fill-color);\n",
              "      border-left-color: var(--fill-color);\n",
              "    }\n",
              "    20% {\n",
              "      border-color: transparent;\n",
              "      border-left-color: var(--fill-color);\n",
              "      border-top-color: var(--fill-color);\n",
              "    }\n",
              "    30% {\n",
              "      border-color: transparent;\n",
              "      border-left-color: var(--fill-color);\n",
              "      border-top-color: var(--fill-color);\n",
              "      border-right-color: var(--fill-color);\n",
              "    }\n",
              "    40% {\n",
              "      border-color: transparent;\n",
              "      border-right-color: var(--fill-color);\n",
              "      border-top-color: var(--fill-color);\n",
              "    }\n",
              "    60% {\n",
              "      border-color: transparent;\n",
              "      border-right-color: var(--fill-color);\n",
              "    }\n",
              "    80% {\n",
              "      border-color: transparent;\n",
              "      border-right-color: var(--fill-color);\n",
              "      border-bottom-color: var(--fill-color);\n",
              "    }\n",
              "    90% {\n",
              "      border-color: transparent;\n",
              "      border-bottom-color: var(--fill-color);\n",
              "    }\n",
              "  }\n",
              "</style>\n",
              "\n",
              "  <script>\n",
              "    async function quickchart(key) {\n",
              "      const quickchartButtonEl =\n",
              "        document.querySelector('#' + key + ' button');\n",
              "      quickchartButtonEl.disabled = true;  // To prevent multiple clicks.\n",
              "      quickchartButtonEl.classList.add('colab-df-spinner');\n",
              "      try {\n",
              "        const charts = await google.colab.kernel.invokeFunction(\n",
              "            'suggestCharts', [key], {});\n",
              "      } catch (error) {\n",
              "        console.error('Error during call to suggestCharts:', error);\n",
              "      }\n",
              "      quickchartButtonEl.classList.remove('colab-df-spinner');\n",
              "      quickchartButtonEl.classList.add('colab-df-quickchart-complete');\n",
              "    }\n",
              "    (() => {\n",
              "      let quickchartButtonEl =\n",
              "        document.querySelector('#df-df4e9195-2a73-487b-95ce-7b837d69ab00 button');\n",
              "      quickchartButtonEl.style.display =\n",
              "        google.colab.kernel.accessAllowed ? 'block' : 'none';\n",
              "    })();\n",
              "  </script>\n",
              "</div>\n",
              "    </div>\n",
              "  </div>\n"
            ]
          },
          "metadata": {},
          "execution_count": 88
        }
      ],
      "source": [
        "# mydrinks = pd.DataFrame(rawdrinks['drinks'])\n",
        "mydrinks = pd.DataFrame(raw_drinks_list) # same as above but we already have a variable\n",
        "mydrinks.head(10)"
      ]
    },
    {
      "cell_type": "code",
      "source": [
        "# again I could save the data to flat format such as excel\n",
        "mydrinks.to_excel(\"my_drinks.xlsx\")"
      ],
      "metadata": {
        "id": "MkF1aCYoF_VE"
      },
      "execution_count": 85,
      "outputs": []
    },
    {
      "cell_type": "code",
      "source": [
        "# again I could save the data to flat format such as excel\n",
        "mydrinks.to_csv(\"my_drinks.csv\")"
      ],
      "metadata": {
        "id": "M-eXY34PGIno"
      },
      "execution_count": 86,
      "outputs": []
    },
    {
      "cell_type": "code",
      "execution_count": null,
      "metadata": {
        "id": "1dpzF_RiWH8d",
        "outputId": "7c86526c-f106-481d-c1b6-db910290178d"
      },
      "outputs": [
        {
          "data": {
            "text/html": [
              "<div>\n",
              "<style scoped>\n",
              "    .dataframe tbody tr th:only-of-type {\n",
              "        vertical-align: middle;\n",
              "    }\n",
              "\n",
              "    .dataframe tbody tr th {\n",
              "        vertical-align: top;\n",
              "    }\n",
              "\n",
              "    .dataframe thead th {\n",
              "        text-align: right;\n",
              "    }\n",
              "</style>\n",
              "<table border=\"1\" class=\"dataframe\">\n",
              "  <thead>\n",
              "    <tr style=\"text-align: right;\">\n",
              "      <th></th>\n",
              "      <th>0</th>\n",
              "      <th>1</th>\n",
              "      <th>2</th>\n",
              "      <th>3</th>\n",
              "      <th>4</th>\n",
              "    </tr>\n",
              "  </thead>\n",
              "  <tbody>\n",
              "    <tr>\n",
              "      <th>dateModified</th>\n",
              "      <td>2015-08-18 14:42:59</td>\n",
              "      <td>2015-08-18 14:51:53</td>\n",
              "      <td>2017-09-02 18:37:54</td>\n",
              "      <td>2015-09-02 17:00:22</td>\n",
              "      <td>2015-08-18 14:41:51</td>\n",
              "    </tr>\n",
              "    <tr>\n",
              "      <th>idDrink</th>\n",
              "      <td>11007</td>\n",
              "      <td>11118</td>\n",
              "      <td>17216</td>\n",
              "      <td>16158</td>\n",
              "      <td>12322</td>\n",
              "    </tr>\n",
              "    <tr>\n",
              "      <th>strAlcoholic</th>\n",
              "      <td>Alcoholic</td>\n",
              "      <td>Alcoholic</td>\n",
              "      <td>Alcoholic</td>\n",
              "      <td>Alcoholic</td>\n",
              "      <td>Alcoholic</td>\n",
              "    </tr>\n",
              "    <tr>\n",
              "      <th>strCategory</th>\n",
              "      <td>Ordinary Drink</td>\n",
              "      <td>Ordinary Drink</td>\n",
              "      <td>Ordinary Drink</td>\n",
              "      <td>Other/Unknown</td>\n",
              "      <td>Ordinary Drink</td>\n",
              "    </tr>\n",
              "    <tr>\n",
              "      <th>strCreativeCommonsConfirmed</th>\n",
              "      <td>No</td>\n",
              "      <td>No</td>\n",
              "      <td>No</td>\n",
              "      <td>No</td>\n",
              "      <td>No</td>\n",
              "    </tr>\n",
              "    <tr>\n",
              "      <th>strDrink</th>\n",
              "      <td>Margarita</td>\n",
              "      <td>Blue Margarita</td>\n",
              "      <td>Tommy's Margarita</td>\n",
              "      <td>Whitecap Margarita</td>\n",
              "      <td>Strawberry Margarita</td>\n",
              "    </tr>\n",
              "    <tr>\n",
              "      <th>strDrinkAlternate</th>\n",
              "      <td>None</td>\n",
              "      <td>None</td>\n",
              "      <td>None</td>\n",
              "      <td>None</td>\n",
              "      <td>None</td>\n",
              "    </tr>\n",
              "    <tr>\n",
              "      <th>strDrinkDE</th>\n",
              "      <td>None</td>\n",
              "      <td>None</td>\n",
              "      <td>None</td>\n",
              "      <td>None</td>\n",
              "      <td>None</td>\n",
              "    </tr>\n",
              "    <tr>\n",
              "      <th>strDrinkES</th>\n",
              "      <td>None</td>\n",
              "      <td>None</td>\n",
              "      <td>None</td>\n",
              "      <td>None</td>\n",
              "      <td>None</td>\n",
              "    </tr>\n",
              "    <tr>\n",
              "      <th>strDrinkFR</th>\n",
              "      <td>None</td>\n",
              "      <td>None</td>\n",
              "      <td>None</td>\n",
              "      <td>None</td>\n",
              "      <td>None</td>\n",
              "    </tr>\n",
              "    <tr>\n",
              "      <th>strDrinkThumb</th>\n",
              "      <td>https://www.thecocktaildb.com/images/media/dri...</td>\n",
              "      <td>https://www.thecocktaildb.com/images/media/dri...</td>\n",
              "      <td>https://www.thecocktaildb.com/images/media/dri...</td>\n",
              "      <td>https://www.thecocktaildb.com/images/media/dri...</td>\n",
              "      <td>https://www.thecocktaildb.com/images/media/dri...</td>\n",
              "    </tr>\n",
              "    <tr>\n",
              "      <th>strDrinkZH-HANS</th>\n",
              "      <td>None</td>\n",
              "      <td>None</td>\n",
              "      <td>None</td>\n",
              "      <td>None</td>\n",
              "      <td>None</td>\n",
              "    </tr>\n",
              "    <tr>\n",
              "      <th>strDrinkZH-HANT</th>\n",
              "      <td>None</td>\n",
              "      <td>None</td>\n",
              "      <td>None</td>\n",
              "      <td>None</td>\n",
              "      <td>None</td>\n",
              "    </tr>\n",
              "    <tr>\n",
              "      <th>strGlass</th>\n",
              "      <td>Cocktail glass</td>\n",
              "      <td>Cocktail glass</td>\n",
              "      <td>Old-Fashioned glass</td>\n",
              "      <td>Margarita/Coupette glass</td>\n",
              "      <td>Cocktail glass</td>\n",
              "    </tr>\n",
              "    <tr>\n",
              "      <th>strIBA</th>\n",
              "      <td>Contemporary Classics</td>\n",
              "      <td>None</td>\n",
              "      <td>New Era Drinks</td>\n",
              "      <td>None</td>\n",
              "      <td>None</td>\n",
              "    </tr>\n",
              "    <tr>\n",
              "      <th>strIngredient1</th>\n",
              "      <td>Tequila</td>\n",
              "      <td>Tequila</td>\n",
              "      <td>Tequila</td>\n",
              "      <td>Ice</td>\n",
              "      <td>Strawberry schnapps</td>\n",
              "    </tr>\n",
              "    <tr>\n",
              "      <th>strIngredient10</th>\n",
              "      <td>None</td>\n",
              "      <td>None</td>\n",
              "      <td>None</td>\n",
              "      <td>None</td>\n",
              "      <td>None</td>\n",
              "    </tr>\n",
              "    <tr>\n",
              "      <th>strIngredient11</th>\n",
              "      <td>None</td>\n",
              "      <td>None</td>\n",
              "      <td>None</td>\n",
              "      <td>None</td>\n",
              "      <td>None</td>\n",
              "    </tr>\n",
              "    <tr>\n",
              "      <th>strIngredient12</th>\n",
              "      <td>None</td>\n",
              "      <td>None</td>\n",
              "      <td>None</td>\n",
              "      <td>None</td>\n",
              "      <td>None</td>\n",
              "    </tr>\n",
              "    <tr>\n",
              "      <th>strIngredient13</th>\n",
              "      <td>None</td>\n",
              "      <td>None</td>\n",
              "      <td>None</td>\n",
              "      <td>None</td>\n",
              "      <td>None</td>\n",
              "    </tr>\n",
              "    <tr>\n",
              "      <th>strIngredient14</th>\n",
              "      <td>None</td>\n",
              "      <td>None</td>\n",
              "      <td>None</td>\n",
              "      <td>None</td>\n",
              "      <td>None</td>\n",
              "    </tr>\n",
              "    <tr>\n",
              "      <th>strIngredient15</th>\n",
              "      <td>None</td>\n",
              "      <td>None</td>\n",
              "      <td>None</td>\n",
              "      <td>None</td>\n",
              "      <td>None</td>\n",
              "    </tr>\n",
              "    <tr>\n",
              "      <th>strIngredient2</th>\n",
              "      <td>Triple sec</td>\n",
              "      <td>Blue Curacao</td>\n",
              "      <td>Lime Juice</td>\n",
              "      <td>Tequila</td>\n",
              "      <td>Tequila</td>\n",
              "    </tr>\n",
              "    <tr>\n",
              "      <th>strIngredient3</th>\n",
              "      <td>Lime juice</td>\n",
              "      <td>Lime juice</td>\n",
              "      <td>Agave syrup</td>\n",
              "      <td>Cream of coconut</td>\n",
              "      <td>Triple sec</td>\n",
              "    </tr>\n",
              "    <tr>\n",
              "      <th>strIngredient4</th>\n",
              "      <td>Salt</td>\n",
              "      <td>Salt</td>\n",
              "      <td>None</td>\n",
              "      <td>Lime juice</td>\n",
              "      <td>Lemon juice</td>\n",
              "    </tr>\n",
              "    <tr>\n",
              "      <th>strIngredient5</th>\n",
              "      <td>None</td>\n",
              "      <td>None</td>\n",
              "      <td>None</td>\n",
              "      <td>None</td>\n",
              "      <td>Strawberries</td>\n",
              "    </tr>\n",
              "    <tr>\n",
              "      <th>strIngredient6</th>\n",
              "      <td>None</td>\n",
              "      <td>None</td>\n",
              "      <td>None</td>\n",
              "      <td>None</td>\n",
              "      <td>Salt</td>\n",
              "    </tr>\n",
              "    <tr>\n",
              "      <th>strIngredient7</th>\n",
              "      <td>None</td>\n",
              "      <td>None</td>\n",
              "      <td>None</td>\n",
              "      <td>None</td>\n",
              "      <td>None</td>\n",
              "    </tr>\n",
              "    <tr>\n",
              "      <th>strIngredient8</th>\n",
              "      <td>None</td>\n",
              "      <td>None</td>\n",
              "      <td>None</td>\n",
              "      <td>None</td>\n",
              "      <td>None</td>\n",
              "    </tr>\n",
              "    <tr>\n",
              "      <th>strIngredient9</th>\n",
              "      <td>None</td>\n",
              "      <td>None</td>\n",
              "      <td>None</td>\n",
              "      <td>None</td>\n",
              "      <td>None</td>\n",
              "    </tr>\n",
              "    <tr>\n",
              "      <th>strInstructions</th>\n",
              "      <td>Rub the rim of the glass with the lime slice t...</td>\n",
              "      <td>Rub rim of cocktail glass with lime juice. Dip...</td>\n",
              "      <td>Shake and strain into a chilled cocktail glass.</td>\n",
              "      <td>Place all ingredients in a blender and blend u...</td>\n",
              "      <td>Rub rim of cocktail glass with lemon juice and...</td>\n",
              "    </tr>\n",
              "    <tr>\n",
              "      <th>strInstructionsDE</th>\n",
              "      <td>Reiben Sie den Rand des Glases mit der Limette...</td>\n",
              "      <td>Den Rand des Cocktailglases mit Limettensaft e...</td>\n",
              "      <td>Schütteln und in ein gekühltes Cocktailglas ab...</td>\n",
              "      <td>Alle Zutaten in einen Mixer geben und mischen.</td>\n",
              "      <td>Cocktailglasrand mit Zitronensaft und Tauchran...</td>\n",
              "    </tr>\n",
              "    <tr>\n",
              "      <th>strInstructionsES</th>\n",
              "      <td>None</td>\n",
              "      <td>None</td>\n",
              "      <td>None</td>\n",
              "      <td>None</td>\n",
              "      <td>None</td>\n",
              "    </tr>\n",
              "    <tr>\n",
              "      <th>strInstructionsFR</th>\n",
              "      <td>None</td>\n",
              "      <td>None</td>\n",
              "      <td>None</td>\n",
              "      <td>None</td>\n",
              "      <td>None</td>\n",
              "    </tr>\n",
              "    <tr>\n",
              "      <th>strInstructionsZH-HANS</th>\n",
              "      <td>None</td>\n",
              "      <td>None</td>\n",
              "      <td>None</td>\n",
              "      <td>None</td>\n",
              "      <td>None</td>\n",
              "    </tr>\n",
              "    <tr>\n",
              "      <th>strInstructionsZH-HANT</th>\n",
              "      <td>None</td>\n",
              "      <td>None</td>\n",
              "      <td>None</td>\n",
              "      <td>None</td>\n",
              "      <td>None</td>\n",
              "    </tr>\n",
              "    <tr>\n",
              "      <th>strMeasure1</th>\n",
              "      <td>1 1/2 oz</td>\n",
              "      <td>1 1/2 oz</td>\n",
              "      <td>4.5 cl</td>\n",
              "      <td>1 cup</td>\n",
              "      <td>1/2 oz</td>\n",
              "    </tr>\n",
              "    <tr>\n",
              "      <th>strMeasure10</th>\n",
              "      <td>None</td>\n",
              "      <td>None</td>\n",
              "      <td>None</td>\n",
              "      <td>None</td>\n",
              "      <td>None</td>\n",
              "    </tr>\n",
              "    <tr>\n",
              "      <th>strMeasure11</th>\n",
              "      <td>None</td>\n",
              "      <td>None</td>\n",
              "      <td>None</td>\n",
              "      <td>None</td>\n",
              "      <td>None</td>\n",
              "    </tr>\n",
              "    <tr>\n",
              "      <th>strMeasure12</th>\n",
              "      <td>None</td>\n",
              "      <td>None</td>\n",
              "      <td>None</td>\n",
              "      <td>None</td>\n",
              "      <td>None</td>\n",
              "    </tr>\n",
              "    <tr>\n",
              "      <th>strMeasure13</th>\n",
              "      <td>None</td>\n",
              "      <td>None</td>\n",
              "      <td>None</td>\n",
              "      <td>None</td>\n",
              "      <td>None</td>\n",
              "    </tr>\n",
              "    <tr>\n",
              "      <th>strMeasure14</th>\n",
              "      <td>None</td>\n",
              "      <td>None</td>\n",
              "      <td>None</td>\n",
              "      <td>None</td>\n",
              "      <td>None</td>\n",
              "    </tr>\n",
              "    <tr>\n",
              "      <th>strMeasure15</th>\n",
              "      <td>None</td>\n",
              "      <td>None</td>\n",
              "      <td>None</td>\n",
              "      <td>None</td>\n",
              "      <td>None</td>\n",
              "    </tr>\n",
              "    <tr>\n",
              "      <th>strMeasure2</th>\n",
              "      <td>1/2 oz</td>\n",
              "      <td>1 oz</td>\n",
              "      <td>1.5 cl</td>\n",
              "      <td>2 oz</td>\n",
              "      <td>1 oz</td>\n",
              "    </tr>\n",
              "    <tr>\n",
              "      <th>strMeasure3</th>\n",
              "      <td>1 oz</td>\n",
              "      <td>1 oz</td>\n",
              "      <td>2 spoons</td>\n",
              "      <td>1/4 cup</td>\n",
              "      <td>1/2 oz</td>\n",
              "    </tr>\n",
              "    <tr>\n",
              "      <th>strMeasure4</th>\n",
              "      <td>None</td>\n",
              "      <td>Coarse</td>\n",
              "      <td>None</td>\n",
              "      <td>3 tblsp fresh</td>\n",
              "      <td>1 oz</td>\n",
              "    </tr>\n",
              "    <tr>\n",
              "      <th>strMeasure5</th>\n",
              "      <td>None</td>\n",
              "      <td>None</td>\n",
              "      <td>None</td>\n",
              "      <td>None</td>\n",
              "      <td>1 oz</td>\n",
              "    </tr>\n",
              "    <tr>\n",
              "      <th>strMeasure6</th>\n",
              "      <td>None</td>\n",
              "      <td>None</td>\n",
              "      <td>None</td>\n",
              "      <td>None</td>\n",
              "      <td>None</td>\n",
              "    </tr>\n",
              "    <tr>\n",
              "      <th>strMeasure7</th>\n",
              "      <td>None</td>\n",
              "      <td>None</td>\n",
              "      <td>None</td>\n",
              "      <td>None</td>\n",
              "      <td>None</td>\n",
              "    </tr>\n",
              "    <tr>\n",
              "      <th>strMeasure8</th>\n",
              "      <td>None</td>\n",
              "      <td>None</td>\n",
              "      <td>None</td>\n",
              "      <td>None</td>\n",
              "      <td>None</td>\n",
              "    </tr>\n",
              "    <tr>\n",
              "      <th>strMeasure9</th>\n",
              "      <td>None</td>\n",
              "      <td>None</td>\n",
              "      <td>None</td>\n",
              "      <td>None</td>\n",
              "      <td>None</td>\n",
              "    </tr>\n",
              "    <tr>\n",
              "      <th>strTags</th>\n",
              "      <td>IBA,ContemporaryClassic</td>\n",
              "      <td>None</td>\n",
              "      <td>IBA,NewEra</td>\n",
              "      <td>None</td>\n",
              "      <td>None</td>\n",
              "    </tr>\n",
              "    <tr>\n",
              "      <th>strVideo</th>\n",
              "      <td>None</td>\n",
              "      <td>None</td>\n",
              "      <td>None</td>\n",
              "      <td>None</td>\n",
              "      <td>None</td>\n",
              "    </tr>\n",
              "  </tbody>\n",
              "</table>\n",
              "</div>"
            ],
            "text/plain": [
              "                                                                             0  \\\n",
              "dateModified                                               2015-08-18 14:42:59   \n",
              "idDrink                                                                  11007   \n",
              "strAlcoholic                                                         Alcoholic   \n",
              "strCategory                                                     Ordinary Drink   \n",
              "strCreativeCommonsConfirmed                                                 No   \n",
              "strDrink                                                             Margarita   \n",
              "strDrinkAlternate                                                         None   \n",
              "strDrinkDE                                                                None   \n",
              "strDrinkES                                                                None   \n",
              "strDrinkFR                                                                None   \n",
              "strDrinkThumb                https://www.thecocktaildb.com/images/media/dri...   \n",
              "strDrinkZH-HANS                                                           None   \n",
              "strDrinkZH-HANT                                                           None   \n",
              "strGlass                                                        Cocktail glass   \n",
              "strIBA                                                   Contemporary Classics   \n",
              "strIngredient1                                                         Tequila   \n",
              "strIngredient10                                                           None   \n",
              "strIngredient11                                                           None   \n",
              "strIngredient12                                                           None   \n",
              "strIngredient13                                                           None   \n",
              "strIngredient14                                                           None   \n",
              "strIngredient15                                                           None   \n",
              "strIngredient2                                                      Triple sec   \n",
              "strIngredient3                                                      Lime juice   \n",
              "strIngredient4                                                            Salt   \n",
              "strIngredient5                                                            None   \n",
              "strIngredient6                                                            None   \n",
              "strIngredient7                                                            None   \n",
              "strIngredient8                                                            None   \n",
              "strIngredient9                                                            None   \n",
              "strInstructions              Rub the rim of the glass with the lime slice t...   \n",
              "strInstructionsDE            Reiben Sie den Rand des Glases mit der Limette...   \n",
              "strInstructionsES                                                         None   \n",
              "strInstructionsFR                                                         None   \n",
              "strInstructionsZH-HANS                                                    None   \n",
              "strInstructionsZH-HANT                                                    None   \n",
              "strMeasure1                                                          1 1/2 oz    \n",
              "strMeasure10                                                              None   \n",
              "strMeasure11                                                              None   \n",
              "strMeasure12                                                              None   \n",
              "strMeasure13                                                              None   \n",
              "strMeasure14                                                              None   \n",
              "strMeasure15                                                              None   \n",
              "strMeasure2                                                            1/2 oz    \n",
              "strMeasure3                                                              1 oz    \n",
              "strMeasure4                                                               None   \n",
              "strMeasure5                                                               None   \n",
              "strMeasure6                                                               None   \n",
              "strMeasure7                                                               None   \n",
              "strMeasure8                                                               None   \n",
              "strMeasure9                                                               None   \n",
              "strTags                                                IBA,ContemporaryClassic   \n",
              "strVideo                                                                  None   \n",
              "\n",
              "                                                                             1  \\\n",
              "dateModified                                               2015-08-18 14:51:53   \n",
              "idDrink                                                                  11118   \n",
              "strAlcoholic                                                         Alcoholic   \n",
              "strCategory                                                     Ordinary Drink   \n",
              "strCreativeCommonsConfirmed                                                 No   \n",
              "strDrink                                                        Blue Margarita   \n",
              "strDrinkAlternate                                                         None   \n",
              "strDrinkDE                                                                None   \n",
              "strDrinkES                                                                None   \n",
              "strDrinkFR                                                                None   \n",
              "strDrinkThumb                https://www.thecocktaildb.com/images/media/dri...   \n",
              "strDrinkZH-HANS                                                           None   \n",
              "strDrinkZH-HANT                                                           None   \n",
              "strGlass                                                        Cocktail glass   \n",
              "strIBA                                                                    None   \n",
              "strIngredient1                                                         Tequila   \n",
              "strIngredient10                                                           None   \n",
              "strIngredient11                                                           None   \n",
              "strIngredient12                                                           None   \n",
              "strIngredient13                                                           None   \n",
              "strIngredient14                                                           None   \n",
              "strIngredient15                                                           None   \n",
              "strIngredient2                                                    Blue Curacao   \n",
              "strIngredient3                                                      Lime juice   \n",
              "strIngredient4                                                            Salt   \n",
              "strIngredient5                                                            None   \n",
              "strIngredient6                                                            None   \n",
              "strIngredient7                                                            None   \n",
              "strIngredient8                                                            None   \n",
              "strIngredient9                                                            None   \n",
              "strInstructions              Rub rim of cocktail glass with lime juice. Dip...   \n",
              "strInstructionsDE            Den Rand des Cocktailglases mit Limettensaft e...   \n",
              "strInstructionsES                                                         None   \n",
              "strInstructionsFR                                                         None   \n",
              "strInstructionsZH-HANS                                                    None   \n",
              "strInstructionsZH-HANT                                                    None   \n",
              "strMeasure1                                                          1 1/2 oz    \n",
              "strMeasure10                                                              None   \n",
              "strMeasure11                                                              None   \n",
              "strMeasure12                                                              None   \n",
              "strMeasure13                                                              None   \n",
              "strMeasure14                                                              None   \n",
              "strMeasure15                                                              None   \n",
              "strMeasure2                                                              1 oz    \n",
              "strMeasure3                                                              1 oz    \n",
              "strMeasure4                                                            Coarse    \n",
              "strMeasure5                                                               None   \n",
              "strMeasure6                                                               None   \n",
              "strMeasure7                                                               None   \n",
              "strMeasure8                                                               None   \n",
              "strMeasure9                                                               None   \n",
              "strTags                                                                   None   \n",
              "strVideo                                                                  None   \n",
              "\n",
              "                                                                             2  \\\n",
              "dateModified                                               2017-09-02 18:37:54   \n",
              "idDrink                                                                  17216   \n",
              "strAlcoholic                                                         Alcoholic   \n",
              "strCategory                                                     Ordinary Drink   \n",
              "strCreativeCommonsConfirmed                                                 No   \n",
              "strDrink                                                     Tommy's Margarita   \n",
              "strDrinkAlternate                                                         None   \n",
              "strDrinkDE                                                                None   \n",
              "strDrinkES                                                                None   \n",
              "strDrinkFR                                                                None   \n",
              "strDrinkThumb                https://www.thecocktaildb.com/images/media/dri...   \n",
              "strDrinkZH-HANS                                                           None   \n",
              "strDrinkZH-HANT                                                           None   \n",
              "strGlass                                                   Old-Fashioned glass   \n",
              "strIBA                                                          New Era Drinks   \n",
              "strIngredient1                                                         Tequila   \n",
              "strIngredient10                                                           None   \n",
              "strIngredient11                                                           None   \n",
              "strIngredient12                                                           None   \n",
              "strIngredient13                                                           None   \n",
              "strIngredient14                                                           None   \n",
              "strIngredient15                                                           None   \n",
              "strIngredient2                                                      Lime Juice   \n",
              "strIngredient3                                                     Agave syrup   \n",
              "strIngredient4                                                            None   \n",
              "strIngredient5                                                            None   \n",
              "strIngredient6                                                            None   \n",
              "strIngredient7                                                            None   \n",
              "strIngredient8                                                            None   \n",
              "strIngredient9                                                            None   \n",
              "strInstructions                Shake and strain into a chilled cocktail glass.   \n",
              "strInstructionsDE            Schütteln und in ein gekühltes Cocktailglas ab...   \n",
              "strInstructionsES                                                         None   \n",
              "strInstructionsFR                                                         None   \n",
              "strInstructionsZH-HANS                                                    None   \n",
              "strInstructionsZH-HANT                                                    None   \n",
              "strMeasure1                                                             4.5 cl   \n",
              "strMeasure10                                                              None   \n",
              "strMeasure11                                                              None   \n",
              "strMeasure12                                                              None   \n",
              "strMeasure13                                                              None   \n",
              "strMeasure14                                                              None   \n",
              "strMeasure15                                                              None   \n",
              "strMeasure2                                                             1.5 cl   \n",
              "strMeasure3                                                           2 spoons   \n",
              "strMeasure4                                                               None   \n",
              "strMeasure5                                                               None   \n",
              "strMeasure6                                                               None   \n",
              "strMeasure7                                                               None   \n",
              "strMeasure8                                                               None   \n",
              "strMeasure9                                                               None   \n",
              "strTags                                                             IBA,NewEra   \n",
              "strVideo                                                                  None   \n",
              "\n",
              "                                                                             3  \\\n",
              "dateModified                                               2015-09-02 17:00:22   \n",
              "idDrink                                                                  16158   \n",
              "strAlcoholic                                                         Alcoholic   \n",
              "strCategory                                                      Other/Unknown   \n",
              "strCreativeCommonsConfirmed                                                 No   \n",
              "strDrink                                                    Whitecap Margarita   \n",
              "strDrinkAlternate                                                         None   \n",
              "strDrinkDE                                                                None   \n",
              "strDrinkES                                                                None   \n",
              "strDrinkFR                                                                None   \n",
              "strDrinkThumb                https://www.thecocktaildb.com/images/media/dri...   \n",
              "strDrinkZH-HANS                                                           None   \n",
              "strDrinkZH-HANT                                                           None   \n",
              "strGlass                                              Margarita/Coupette glass   \n",
              "strIBA                                                                    None   \n",
              "strIngredient1                                                             Ice   \n",
              "strIngredient10                                                           None   \n",
              "strIngredient11                                                           None   \n",
              "strIngredient12                                                           None   \n",
              "strIngredient13                                                           None   \n",
              "strIngredient14                                                           None   \n",
              "strIngredient15                                                           None   \n",
              "strIngredient2                                                         Tequila   \n",
              "strIngredient3                                                Cream of coconut   \n",
              "strIngredient4                                                      Lime juice   \n",
              "strIngredient5                                                            None   \n",
              "strIngredient6                                                            None   \n",
              "strIngredient7                                                            None   \n",
              "strIngredient8                                                            None   \n",
              "strIngredient9                                                            None   \n",
              "strInstructions              Place all ingredients in a blender and blend u...   \n",
              "strInstructionsDE               Alle Zutaten in einen Mixer geben und mischen.   \n",
              "strInstructionsES                                                         None   \n",
              "strInstructionsFR                                                         None   \n",
              "strInstructionsZH-HANS                                                    None   \n",
              "strInstructionsZH-HANT                                                    None   \n",
              "strMeasure1                                                             1 cup    \n",
              "strMeasure10                                                              None   \n",
              "strMeasure11                                                              None   \n",
              "strMeasure12                                                              None   \n",
              "strMeasure13                                                              None   \n",
              "strMeasure14                                                              None   \n",
              "strMeasure15                                                              None   \n",
              "strMeasure2                                                              2 oz    \n",
              "strMeasure3                                                           1/4 cup    \n",
              "strMeasure4                                                     3 tblsp fresh    \n",
              "strMeasure5                                                               None   \n",
              "strMeasure6                                                               None   \n",
              "strMeasure7                                                               None   \n",
              "strMeasure8                                                               None   \n",
              "strMeasure9                                                               None   \n",
              "strTags                                                                   None   \n",
              "strVideo                                                                  None   \n",
              "\n",
              "                                                                             4  \n",
              "dateModified                                               2015-08-18 14:41:51  \n",
              "idDrink                                                                  12322  \n",
              "strAlcoholic                                                         Alcoholic  \n",
              "strCategory                                                     Ordinary Drink  \n",
              "strCreativeCommonsConfirmed                                                 No  \n",
              "strDrink                                                  Strawberry Margarita  \n",
              "strDrinkAlternate                                                         None  \n",
              "strDrinkDE                                                                None  \n",
              "strDrinkES                                                                None  \n",
              "strDrinkFR                                                                None  \n",
              "strDrinkThumb                https://www.thecocktaildb.com/images/media/dri...  \n",
              "strDrinkZH-HANS                                                           None  \n",
              "strDrinkZH-HANT                                                           None  \n",
              "strGlass                                                        Cocktail glass  \n",
              "strIBA                                                                    None  \n",
              "strIngredient1                                             Strawberry schnapps  \n",
              "strIngredient10                                                           None  \n",
              "strIngredient11                                                           None  \n",
              "strIngredient12                                                           None  \n",
              "strIngredient13                                                           None  \n",
              "strIngredient14                                                           None  \n",
              "strIngredient15                                                           None  \n",
              "strIngredient2                                                         Tequila  \n",
              "strIngredient3                                                      Triple sec  \n",
              "strIngredient4                                                     Lemon juice  \n",
              "strIngredient5                                                    Strawberries  \n",
              "strIngredient6                                                            Salt  \n",
              "strIngredient7                                                            None  \n",
              "strIngredient8                                                            None  \n",
              "strIngredient9                                                            None  \n",
              "strInstructions              Rub rim of cocktail glass with lemon juice and...  \n",
              "strInstructionsDE            Cocktailglasrand mit Zitronensaft und Tauchran...  \n",
              "strInstructionsES                                                         None  \n",
              "strInstructionsFR                                                         None  \n",
              "strInstructionsZH-HANS                                                    None  \n",
              "strInstructionsZH-HANT                                                    None  \n",
              "strMeasure1                                                            1/2 oz   \n",
              "strMeasure10                                                              None  \n",
              "strMeasure11                                                              None  \n",
              "strMeasure12                                                              None  \n",
              "strMeasure13                                                              None  \n",
              "strMeasure14                                                              None  \n",
              "strMeasure15                                                              None  \n",
              "strMeasure2                                                              1 oz   \n",
              "strMeasure3                                                            1/2 oz   \n",
              "strMeasure4                                                              1 oz   \n",
              "strMeasure5                                                              1 oz   \n",
              "strMeasure6                                                               None  \n",
              "strMeasure7                                                               None  \n",
              "strMeasure8                                                               None  \n",
              "strMeasure9                                                               None  \n",
              "strTags                                                                   None  \n",
              "strVideo                                                                  None  "
            ]
          },
          "execution_count": 132,
          "metadata": {},
          "output_type": "execute_result"
        }
      ],
      "source": [
        "# we can Transpose to get a sense of all columns\n",
        "mydrinks.head().T"
      ]
    },
    {
      "cell_type": "code",
      "execution_count": null,
      "metadata": {
        "id": "MWqvgpnbWH8d",
        "outputId": "39035625-804a-4b99-e5db-e58204c8fece"
      },
      "outputs": [
        {
          "data": {
            "text/html": [
              "<div>\n",
              "<style scoped>\n",
              "    .dataframe tbody tr th:only-of-type {\n",
              "        vertical-align: middle;\n",
              "    }\n",
              "\n",
              "    .dataframe tbody tr th {\n",
              "        vertical-align: top;\n",
              "    }\n",
              "\n",
              "    .dataframe thead th {\n",
              "        text-align: right;\n",
              "    }\n",
              "</style>\n",
              "<table border=\"1\" class=\"dataframe\">\n",
              "  <thead>\n",
              "    <tr style=\"text-align: right;\">\n",
              "      <th></th>\n",
              "      <th>drinks</th>\n",
              "    </tr>\n",
              "  </thead>\n",
              "  <tbody>\n",
              "    <tr>\n",
              "      <th>0</th>\n",
              "      <td>{'idDrink': '11007', 'strDrink': 'Margarita', ...</td>\n",
              "    </tr>\n",
              "    <tr>\n",
              "      <th>1</th>\n",
              "      <td>{'idDrink': '11118', 'strDrink': 'Blue Margari...</td>\n",
              "    </tr>\n",
              "    <tr>\n",
              "      <th>2</th>\n",
              "      <td>{'idDrink': '17216', 'strDrink': 'Tommy's Marg...</td>\n",
              "    </tr>\n",
              "    <tr>\n",
              "      <th>3</th>\n",
              "      <td>{'idDrink': '16158', 'strDrink': 'Whitecap Mar...</td>\n",
              "    </tr>\n",
              "    <tr>\n",
              "      <th>4</th>\n",
              "      <td>{'idDrink': '12322', 'strDrink': 'Strawberry M...</td>\n",
              "    </tr>\n",
              "  </tbody>\n",
              "</table>\n",
              "</div>"
            ],
            "text/plain": [
              "                                              drinks\n",
              "0  {'idDrink': '11007', 'strDrink': 'Margarita', ...\n",
              "1  {'idDrink': '11118', 'strDrink': 'Blue Margari...\n",
              "2  {'idDrink': '17216', 'strDrink': 'Tommy's Marg...\n",
              "3  {'idDrink': '16158', 'strDrink': 'Whitecap Mar...\n",
              "4  {'idDrink': '12322', 'strDrink': 'Strawberry M..."
            ]
          },
          "execution_count": 124,
          "metadata": {},
          "output_type": "execute_result"
        }
      ],
      "source": [
        "drinks = pd.read_json(\"https://www.thecocktaildb.com/api/json/v1/1/search.php?s=margarita\")\n",
        "drinks.head()"
      ]
    },
    {
      "cell_type": "code",
      "execution_count": null,
      "metadata": {
        "id": "lWPT_NW3WH8e"
      },
      "outputs": [],
      "source": [
        "# requests also works with post type of requests"
      ]
    },
    {
      "cell_type": "code",
      "execution_count": null,
      "metadata": {
        "id": "ZlP6h2GcWH8e"
      },
      "outputs": [],
      "source": [
        "url = \"http://www.recipepuppy.com/api/?i=onions,garlic&q=omelet&p=3\""
      ]
    },
    {
      "cell_type": "code",
      "execution_count": null,
      "metadata": {
        "id": "8FzRFfsRWH8e",
        "outputId": "15150ce0-490e-4924-8344-a3e25c36d97f"
      },
      "outputs": [
        {
          "data": {
            "text/plain": [
              "200"
            ]
          },
          "execution_count": 44,
          "metadata": {},
          "output_type": "execute_result"
        }
      ],
      "source": [
        "response = requests.get(url)\n",
        "response.status_code"
      ]
    },
    {
      "cell_type": "code",
      "execution_count": null,
      "metadata": {
        "id": "a8p5C0QVWH8e",
        "outputId": "542b7e4a-5859-432e-a952-3b36f3688666"
      },
      "outputs": [
        {
          "data": {
            "text/plain": [
              "dict"
            ]
          },
          "execution_count": 45,
          "metadata": {},
          "output_type": "execute_result"
        }
      ],
      "source": [
        "o_data = response.json()\n",
        "type(o_data)"
      ]
    },
    {
      "cell_type": "code",
      "execution_count": null,
      "metadata": {
        "id": "dT69VrKpWH8e",
        "outputId": "16a73030-154c-4ece-81dc-6dffc4066f35"
      },
      "outputs": [
        {
          "data": {
            "text/plain": [
              "list"
            ]
          },
          "execution_count": 46,
          "metadata": {},
          "output_type": "execute_result"
        }
      ],
      "source": [
        "o_recipes = o_data.get('results')\n",
        "type(o_recipes)"
      ]
    },
    {
      "cell_type": "code",
      "execution_count": null,
      "metadata": {
        "id": "qBEl6ol7WH8e",
        "outputId": "034867d2-dfe2-48ae-8eec-bdf8dfbed43c"
      },
      "outputs": [
        {
          "data": {
            "text/plain": [
              "[{'title': 'Vegetable-Pasta Oven Omelet',\n",
              "  'href': 'http://find.myrecipes.com/recipes/recipefinder.dyn?action=displayRecipe&recipe_id=520763',\n",
              "  'ingredients': 'tomato, onions, red pepper, garlic, olive oil, zucchini, cream cheese, vermicelli, eggs, parmesan cheese, milk, italian seasoning, salt, black pepper',\n",
              "  'thumbnail': 'http://img.recipepuppy.com/560556.jpg'},\n",
              " {'title': 'Roasted Pepper and Bacon Omelet',\n",
              "  'href': 'http://www.bigoven.com/43919-Roasted-Pepper-and-Bacon-Omelet-recipe.html',\n",
              "  'ingredients': 'eggs, salt, black pepper, butter, black pepper, bacon, onions, garlic, roasted red peppers, oregano, black pepper',\n",
              "  'thumbnail': ''},\n",
              " {'title': '\\nBroccoli Oven Omelet Recipe\\n\\n',\n",
              "  'href': 'http://cookeatshare.com/recipes/broccoli-oven-omelet-92851',\n",
              "  'ingredients': 'eggs, broccoli, onions, parmesan cheese, lowfat milk, salt, basil, garlic, tomato, parmesan cheese',\n",
              "  'thumbnail': ''}]"
            ]
          },
          "execution_count": 47,
          "metadata": {},
          "output_type": "execute_result"
        }
      ],
      "source": [
        "o_recipes[:3]"
      ]
    },
    {
      "cell_type": "code",
      "execution_count": null,
      "metadata": {
        "id": "fi0rji7vWH8e"
      },
      "outputs": [],
      "source": [
        "# for 100 suggestion is to use time.sleep(0.2)\n",
        "# it is good manners to sleep a little to avoid DDOS attack on API server\n",
        "import time\n",
        "time.sleep(0.5) # half a second delay"
      ]
    },
    {
      "cell_type": "code",
      "execution_count": 89,
      "metadata": {
        "id": "tlagcnx_WH8e",
        "outputId": "34fc4807-139a-4e06-eea9-94e675110f18",
        "colab": {
          "base_uri": "https://localhost:8080/"
        }
      },
      "outputs": [
        {
          "output_type": "execute_result",
          "data": {
            "text/plain": [
              "200"
            ]
          },
          "metadata": {},
          "execution_count": 89
        }
      ],
      "source": [
        "url = \"https://data.gov.lv/dati/lv/api/3/action/datastore_search?resource_id=27fcc5ec-c63b-4bfd-bb08-01f073a52d04&limit=5\"\n",
        "r = requests.get(url)\n",
        "r.status_code"
      ]
    },
    {
      "cell_type": "code",
      "execution_count": 90,
      "metadata": {
        "id": "xMvzQcFGWH8f",
        "outputId": "dee8eade-a990-414c-c326-b457bbe2e7e5",
        "colab": {
          "base_uri": "https://localhost:8080/",
          "height": 159
        }
      },
      "outputs": [
        {
          "output_type": "execute_result",
          "data": {
            "text/plain": [
              "'{\"help\": \"https://data.gov.lv/dati/lv/api/3/action/help_show?name=datastore_search\", \"success\": true, \"result\": {\"include_total\": true, \"resource_id\": \"27fcc5ec-c63b-4bfd-bb08-01f073a52d04\", \"fields\": [{\"type\": \"int\", \"id\": \"_id\"}, {\"type\": \"numeric\", \"id\": \"id\"}, {\"type\": \"numeric\", \"id\": \"file_id\"}, {\"type\": \"numeric\", \"id\": \"legal_entity_registration_number\"}, {\"type\": \"text\", \"id\": \"source_schema\"}, {\"type\": \"text\", \"id\": \"source_type\"}, {\"type\": \"numeric\", \"id\": \"year\"}, {\"type\": \"timestamp\", \"id\": \"year_started_on\"}, {\"type\": \"timestamp\", \"id\": \"year_ended_on\"}, {\"type\": \"numeric\", \"id\": \"employees\"}, {\"type\": \"text\", \"id\": \"rounded_to_nearest\"}, {\"type\": \"text\", \"id\": \"currency\"}, {\"type\": \"timestamp\", \"id\": \"created_at\"}], \"records_format\": \"objects\", \"records\": [{\"_id\":1,\"id\":709390,\"file_id\":16544390,\"legal_entity_registration_number\":40103504912,\"source_schema\":\"DokGPUIENv1\",\"source_type\":\"UGP\",\"year\":2016,\"year_started_on\":\"2016-01-01T00:00:00\",\"year_ended_on\":\"2016-12-31T00:00:00\",\"employees\":0,\"rounded_to_nearest\":\"ONES\",\"currency\":\"EUR\",\"created_at\":\"2020-10-30T23:33:27\"},{\"_id\":2,\"id\":709391,\"file_id\":16544392,\"legal_entity_registration_number\":40103466358,\"source_schema\":\"DokGPUIENv1\",\"source_type\":\"UGP\",\"year\":2016,\"year_started_on\":\"2016-01-01T00:00:00\",\"year_ended_on\":\"2016-12-31T00:00:00\",\"employees\":1,\"rounded_to_nearest\":\"ONES\",\"currency\":\"EUR\",\"created_at\":\"2020-10-30T23:33:31\"},{\"_id\":3,\"id\":709392,\"file_id\":16544401,\"legal_entity_registration_number\":40103476182,\"source_schema\":\"DokGPUIENv1\",\"source_type\":\"UGP\",\"year\":2016,\"year_started_on\":\"2016-01-01T00:00:00\",\"year_ended_on\":\"2016-12-31T00:00:00\",\"employees\":2,\"rounded_to_nearest\":\"ONES\",\"currency\":\"EUR\",\"created_at\":\"2020-10-30T23:33:34\"},{\"_id\":4,\"id\":709393,\"file_id\":16544404,\"legal_entity_registration_number\":40103863270,\"source_schema\":\"DokUGP2008v1\",\"source_type\":\"\",\"year\":2015,\"year_started_on\":\"2015-01-21T00:00:00\",\"year_ended_on\":\"2015-12-31T00:00:00\",\"employees\":5,\"rounded_to_nearest\":\"ONES\",\"currency\":\"EUR\",\"created_at\":\"2020-10-30T23:33:37\"},{\"_id\":5,\"id\":709394,\"file_id\":16544411,\"legal_entity_registration_number\":40008010613,\"source_schema\":\"DokGPUIENv1\",\"source_type\":\"BNAGP\",\"year\":2016,\"year_started_on\":\"2016-01-01T00:00:00\",\"year_ended_on\":\"2016-12-31T00:00:00\",\"employees\":0,\"rounded_to_nearest\":\"ONES\",\"currency\":\"EUR\",\"created_at\":\"2020-10-30T23:33:40\"}], \"limit\": 5, \"_links\": {\"start\": \"/api/3/action/datastore_search?limit=5&resource_id=27fcc5ec-c63b-4bfd-bb08-01f073a52d04\", \"next\": \"/api/3/action/datastore_search?offset=5&limit=5&resource_id=27fcc5ec-c63b-4bfd-bb08-01f073a52d04\"}, \"total\": 29500}}'"
            ],
            "application/vnd.google.colaboratory.intrinsic+json": {
              "type": "string"
            }
          },
          "metadata": {},
          "execution_count": 90
        }
      ],
      "source": [
        "r.text"
      ]
    },
    {
      "cell_type": "code",
      "execution_count": null,
      "metadata": {
        "id": "6I1zW4KSWH8f"
      },
      "outputs": [],
      "source": [
        "with open(\"ur_yearly.json\", \"w\", encoding=\"utf-8\") as f:\n",
        "    f.write(r.text)"
      ]
    },
    {
      "cell_type": "code",
      "execution_count": null,
      "metadata": {
        "id": "p2X-FJRoWH8f"
      },
      "outputs": [],
      "source": [
        "urdata = r.json()"
      ]
    },
    {
      "cell_type": "code",
      "execution_count": null,
      "metadata": {
        "id": "FRRxpPfJWH8f"
      },
      "outputs": [],
      "source": [
        "with open(\"ur_yearly_indent.json\", \"w\", encoding=\"utf-8\") as f:\n",
        "    json.dump(r.json(), f, indent=4)"
      ]
    },
    {
      "cell_type": "code",
      "execution_count": null,
      "metadata": {
        "id": "2FlFuEHAWH8f",
        "outputId": "38dc5e0c-5bcc-4462-d0f3-ef6fbb1b2cd2"
      },
      "outputs": [
        {
          "data": {
            "text/plain": [
              "dict"
            ]
          },
          "execution_count": 46,
          "metadata": {},
          "output_type": "execute_result"
        }
      ],
      "source": [
        "type(urdata)"
      ]
    },
    {
      "cell_type": "code",
      "execution_count": null,
      "metadata": {
        "id": "YxORtfszWH8f",
        "outputId": "5fd32aee-9dc2-413a-abac-8751cdbbc2a6"
      },
      "outputs": [
        {
          "data": {
            "text/plain": [
              "'/api/3/action/datastore_search?offset=5&limit=5&resource_id=27fcc5ec-c63b-4bfd-bb08-01f073a52d04'"
            ]
          },
          "execution_count": 49,
          "metadata": {},
          "output_type": "execute_result"
        }
      ],
      "source": [
        "next_url = urdata['result'][\"_links\"][\"next\"]\n",
        "next_url"
      ]
    },
    {
      "cell_type": "code",
      "execution_count": null,
      "metadata": {
        "id": "z1M5kldFzFq0"
      },
      "outputs": [],
      "source": [
        "# how about Twitter JSON API ?\n",
        "\n",
        "# https://developer.twitter.com/en/docs/tweets/timelines/api-reference/get-statuses-user_timeline.html\n",
        "# https://developer.twitter.com/en/docs/twitter-api/v1/data-dictionary/overview\n",
        "\n",
        "# over the years Twitter has been changing their API\n",
        "# so you need to check the documentation for the version you are using\n",
        "# also you would need to register for a developer account and get a token - think of it as a key\n",
        "# Academic research is free, but you need to apply for it\n",
        "# site to apply for academic research https://developer.twitter.com/en/apply-for-access"
      ]
    },
    {
      "cell_type": "code",
      "execution_count": null,
      "metadata": {
        "id": "nevzYhdLzFq0"
      },
      "outputs": [],
      "source": [
        "# there are Python libraries for Twitter API which make it easier to use\n",
        "# you could use tweepy or twitter libraries\n",
        "# but for this example we will use requests library\n",
        "\n",
        "\n",
        "# in any case with any key you are going to be limited in the number of requests you can make per day\n",
        "# so do not expect to obtain a lot of data"
      ]
    },
    {
      "cell_type": "code",
      "execution_count": null,
      "metadata": {
        "id": "SrGWcv22zFq1"
      },
      "outputs": [],
      "source": [
        "# next week we will look at what to do when there is NO JSON API available"
      ]
    }
  ],
  "metadata": {
    "colab": {
      "name": "Using_JSON_APIs.ipynb",
      "provenance": []
    },
    "kernelspec": {
      "display_name": "Python 3.9.0 64-bit",
      "language": "python",
      "name": "python3"
    },
    "language_info": {
      "codemirror_mode": {
        "name": "ipython",
        "version": 3
      },
      "file_extension": ".py",
      "mimetype": "text/x-python",
      "name": "python",
      "nbconvert_exporter": "python",
      "pygments_lexer": "ipython3",
      "version": "3.9.0"
    },
    "vscode": {
      "interpreter": {
        "hash": "11938c6bc6919ae2720b4d5011047913343b08a43b18698fd82dedb0d4417594"
      }
    }
  },
  "nbformat": 4,
  "nbformat_minor": 0
}