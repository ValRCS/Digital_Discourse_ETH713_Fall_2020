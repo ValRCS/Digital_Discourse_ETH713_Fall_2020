{
 "cells": [
  {
   "cell_type": "markdown",
   "metadata": {},
   "source": [
    "# Basic Discourse Analysis\n",
    "\n",
    "Today we will use Python standard library to perform a basic discourse analysis on a text. We will use the text of the book \"Alice's Adventures in Wonderland\" by Lewis Carroll. \n",
    "\n",
    "We will use various standard modules to perform analysis. \n",
    "\n"
   ]
  },
  {
   "cell_type": "code",
   "execution_count": null,
   "metadata": {
    "id": "6NuEjNf3v3Sm"
   },
   "outputs": [],
   "source": [
    "# Assignment: Count Most Frequently used words in Veidenbaums.txt\n",
    "# For English let's use Alice in Wonderland"
   ]
  },
  {
   "cell_type": "markdown",
   "metadata": {},
   "source": [
    "## Getting the data\n",
    "\n",
    "1. We could download from the internet.\n",
    "2. We could use the `requests` module to download the text. - later\n",
    "3. We could use the `urllib` module to download the text. \n"
   ]
  },
  {
   "cell_type": "code",
   "execution_count": null,
   "metadata": {},
   "outputs": [
    {
     "data": {
      "text/plain": [
       "('Alice_Wonderland.txt', <http.client.HTTPMessage at 0x2dd07a73710>)"
      ]
     },
     "execution_count": 1,
     "metadata": {},
     "output_type": "execute_result"
    }
   ],
   "source": [
    "# let's use built in urrlib model to download the text file and save it in current directory\n",
    "import urllib.request # this is standard library for downloading files from the internet\n",
    "# major alternative is requests library, which is more user friendly, but not part of standard library\n",
    "url = 'https://raw.githubusercontent.com/ValRCS/Digital_Discourse_ETH713_Fall_2020/refs/heads/main/data/Alice_Wonderland.txt'\n",
    "urllib.request.urlretrieve(url, 'Alice_Wonderland.txt')\n",
    "# Plan B: if you can't download the file, you can always download it manually and place it in the same directory as this script\n"
   ]
  },
  {
   "cell_type": "markdown",
   "metadata": {},
   "source": [
    "## Verifying the data\n",
    "\n",
    "Some things we can do to verify the data:\n",
    "\n",
    "1. Check the length of the text.\n",
    "2. Check the first few lines of the text.\n",
    "3. Check the last few lines of the text."
   ]
  },
  {
   "cell_type": "code",
   "execution_count": null,
   "metadata": {},
   "outputs": [
    {
     "name": "stdout",
     "output_type": "stream",
     "text": [
      "Absolute Path: d:\\Github\\Digital_Discourse_ETH713_Fall_2020\\TextProcessing\n"
     ]
    }
   ],
   "source": [
    "# let's see what is in our current directory\n",
    "# we can Path from pathlib library to work with files and directories\n",
    "from pathlib import Path\n",
    "# let's see what is in our current directory\n",
    "current_dir = Path.cwd() # it is OS agnostic works on all platforms Linux, Windows, MacOS\n",
    "# some other ways of doing it might fail on some platforms\n",
    "print(\"Absolute Current Path:\", current_dir)"
   ]
  },
  {
   "cell_type": "markdown",
   "metadata": {},
   "source": [
    "### Meaning of Absolute Path\n",
    "\n",
    "Absolute Path represents the path of the file from the root directory.\n",
    "This means it is the complete path of the file from the root directory. There can only be one absolute path for a specific file."
   ]
  },
  {
   "cell_type": "code",
   "execution_count": 7,
   "metadata": {},
   "outputs": [
    {
     "name": "stdout",
     "output_type": "stream",
     "text": [
      "Files in current directory:\n",
      ".ipynb_checkpoints 0.0 KB 1675013548.3718455\n",
      "Alice_clean.txt 151.0 KB 1668610470.4490378\n",
      "Alice_Wonderland.txt 170.6 KB 1731687849.920705\n",
      "alice_word_count.tsv 26.5 KB 1668613790.2345233\n",
      "CountingWords.ipynb 9.6 KB 1657528800.2265394\n",
      "CountingWords_final.ipynb 196.2 KB 1731688009.4946368\n",
      "my_folder 0.0 KB 1668610598.6784487\n",
      "README.md 0.0 KB 1635868828.7869132\n",
      "word_count.tsv 57.9 KB 1635868828.7879076\n"
     ]
    }
   ],
   "source": [
    "from time import strftime\n",
    "# now since we have our current directory, let's read see what files we have\n",
    "print(\"Files in current directory:\")\n",
    "# let's print size and date of last modification as well\n",
    "for file in current_dir.iterdir():\n",
    "    # print(file.name, file.stat().st_size, file.stat().st_mtime)\n",
    "    # let's use user friendly format for size and time\n",
    "    file_size_KB = file.stat().st_size / 1024\n",
    "    # let's use strftime to format time\n",
    "\n",
    "    # \"%Y-%m-%d_%H:%M:%S\" is how you want to show the time\n",
    "    # you can change it to your liking as you see fit\n",
    "    # file_time = strftime(\"%Y-%m-%d %H:%M:%S\", file.stat().st_mtime)\n",
    "    # format st_mtime as current time in human readable format\n",
    "    # st_mtime is float number of milliseconds since epoch - 1.1.1970\n",
    "    # TODO see how we can convert it to human readable format\n",
    "    print(file.name, f\"{file_size_KB:.1f} KB\", file.stat().st_mtime)"
   ]
  },
  {
   "cell_type": "code",
   "execution_count": 8,
   "metadata": {},
   "outputs": [
    {
     "name": "stdout",
     "output_type": "stream",
     "text": [
      "Text files in current directory:\n",
      "Alice_clean.txt\n",
      "Alice_Wonderland.txt\n"
     ]
    }
   ],
   "source": [
    "# let's see how you would get a list of txt files in the current folder\n",
    "# we can use glob in pathlib\n",
    "txt_files = list(current_dir.glob(\"*.txt\")) # very similar to how we use wildcards in bash, windows explorer, finder\n",
    "print(\"Text files in current directory:\")\n",
    "for txt_file in txt_files:\n",
    "    print(txt_file.name)"
   ]
  },
  {
   "cell_type": "code",
   "execution_count": null,
   "metadata": {},
   "outputs": [
    {
     "name": "stdout",
     "output_type": "stream",
     "text": [
      "<class 'list'>\n",
      "<class 'pathlib.WindowsPath'>\n"
     ]
    }
   ],
   "source": [
    "# our individual files are Path objects, we need to convert them to strings to open them\n",
    "# print type of txt_files\n",
    "print(type(txt_files))\n",
    "# first one type\n",
    "print(type(txt_files[0])) # will print Windows or PosixPath"
   ]
  },
  {
   "cell_type": "code",
   "execution_count": null,
   "metadata": {},
   "outputs": [
    {
     "name": "stdout",
     "output_type": "stream",
     "text": [
      "['d:\\\\Github\\\\Digital_Discourse_ETH713_Fall_2020\\\\TextProcessing\\\\Alice_clean.txt', 'd:\\\\Github\\\\Digital_Discourse_ETH713_Fall_2020\\\\TextProcessing\\\\Alice_Wonderland.txt']\n",
      "Alice_Wonderland.txt file exists in current directory\n"
     ]
    }
   ],
   "source": [
    "# so our assertion is that we have Alice_Wonderland.txt in our current directory\n",
    "assert Path(\"Alice_Wonderland.txt\").exists(), \"Alice_Wonderland.txt file does not exist in current directory\"\n",
    "# another way would be to check txt_files list\n",
    "# assert \"Alice_Wonderland.txt\" in txt_files, \"Alice_Wonderland.txt file does not exist in current directory\"\n",
    "# above would fail becaus txt_files contains Path objects, not strings\n",
    "# instead we can convert Path objects to strings\n",
    "\n",
    "txt_files_str = [str(txt_file) for txt_file in txt_files]\n",
    "print(txt_files_str)\n",
    "# now these are strings of full absolute paths\n",
    "# then we could check using loop\n",
    "for txt_file in txt_files_str:\n",
    "    if \"Alice_Wonderland.txt\" in txt_file:\n",
    "        # we found the file\n",
    "        print(\"Alice_Wonderland.txt file exists in current directory\")\n",
    "        break\n",
    "else:\n",
    "    # this is executed if we did not break out of the loop\n",
    "    print(\"Alice_Wonderland.txt file does not exist in current directory\")\n",
    "# print string names of our txt_files\n"
   ]
  },
  {
   "cell_type": "markdown",
   "metadata": {},
   "source": [
    "## Assertions as means of checking the data\n",
    "\n",
    "assert is a debugging aid that tests a condition as an expression. If the condition is true, it does nothing and your program just continues to execute. But if the condition is false, it raises an AssertionError exception with an optional error message."
   ]
  },
  {
   "cell_type": "code",
   "execution_count": null,
   "metadata": {},
   "outputs": [],
   "source": [
    "# so we could open the file as absolute path or relative path\n",
    "\n",
    "# relative path is relative to current directory\n",
    "# in this case the path would very simple - Alice_Wonderland.txt that is it"
   ]
  },
  {
   "cell_type": "markdown",
   "metadata": {},
   "source": [
    "## Opening File\n",
    "\n",
    "We will try both relative and absolute path to open the file.\n",
    "\n",
    "Again absolute path is the path of the file from the root directory.\n",
    "\n",
    "Relative path is the path of the file from the current directory."
   ]
  },
  {
   "cell_type": "code",
   "execution_count": null,
   "metadata": {},
   "outputs": [
    {
     "name": "stdout",
     "output_type": "stream",
     "text": [
      "Number of characters in the text: 164410\n"
     ]
    }
   ],
   "source": [
    "# we will use relative path\n",
    "relative_path = \"Alice_Wonderland.txt\"\n",
    "# let's open the file and read ALL contents into a string\n",
    "# we will use with statement to open the file\n",
    "\n",
    "# with is so called context manager\n",
    "# it will automatically close the file when we are done with it\n",
    "# with open(relative_path) as file: # reading is default mode\n",
    "# unfortunately by default we read encoded in ascii meaning basically only english characters\n",
    "# most often we want to read in utf-8 encoding\n",
    "# utf-8 supports all characters in all languages, including emojis etc.\n",
    "# best part is if you are reading ascii text it will be the same as ascii\n",
    "# this means it will not hurt to put encoding=\"utf-8\" even if you are reading ascii text\n",
    "# there are other encodings but utf-8 is most common by far\n",
    "\n",
    "with open(relative_path, mode=\"r\", encoding=\"utf-8\") as file:\n",
    "    # file is an file stream object - think of something like a pipe or stream of water\n",
    "    # in this case it is stream of characters\n",
    "    # read all contents of the file into a string\n",
    "    text = file.read() # here we read the whole file into a string\n",
    "    # here file is still open\n",
    "# here file is closed\n",
    "\n",
    "# let's print how many characters we have\n",
    "print(\"Number of characters in the text:\", len(text))\n",
    "# so we have the entire text as a single string in our text variable residing in memory"
   ]
  },
  {
   "cell_type": "code",
   "execution_count": null,
   "metadata": {
    "id": "Xa96ou89v3Sp"
   },
   "outputs": [],
   "source": [
    "# Open File - Get Data\n",
    "# Read Text\n",
    "# Split Text into word tokens\n",
    "# Count these tokens (we need to figure out how to)\n",
    "# Save/Print Results"
   ]
  },
  {
   "cell_type": "code",
   "execution_count": null,
   "metadata": {
    "id": "eKJ3mftbv3Sp"
   },
   "outputs": [],
   "source": [
    "# File is under /data/Veidenbaums.txt\n",
    "# Alice is under /data/Alice_Wonderland.txt\n",
    "# we are under /TextProcessing/CountingWords.ipynb"
   ]
  },
  {
   "cell_type": "code",
   "execution_count": null,
   "metadata": {
    "id": "NCQJ1vBlv3Sq"
   },
   "outputs": [],
   "source": [
    "# This means one level up and then again down into data\n",
    "# \"../data/Veidenbaums.txt\"\n",
    "# So called relative path\n"
   ]
  },
  {
   "cell_type": "code",
   "execution_count": 1,
   "metadata": {
    "colab": {
     "base_uri": "https://localhost:8080/",
     "height": 35
    },
    "id": "ZmjnfXSWxMjl",
    "outputId": "70ebb860-b1d8-42da-d311-215cbc8adcf5"
   },
   "outputs": [
    {
     "data": {
      "application/vnd.google.colaboratory.intrinsic+json": {
       "type": "string"
      },
      "text/plain": [
       "'/content'"
      ]
     },
     "execution_count": 1,
     "metadata": {},
     "output_type": "execute_result"
    }
   ],
   "source": [
    "import os\n",
    "current_path = os.getcwd()\n",
    "current_path"
   ]
  },
  {
   "cell_type": "code",
   "execution_count": 3,
   "metadata": {
    "colab": {
     "base_uri": "https://localhost:8080/"
    },
    "id": "CisEgvnAxfAx",
    "outputId": "a79584be-6b1b-4c1d-f524-193990b49575"
   },
   "outputs": [
    {
     "data": {
      "text/plain": [
       "[PosixPath('Alice_Wonderland.txt')]"
      ]
     },
     "execution_count": 3,
     "metadata": {},
     "output_type": "execute_result"
    }
   ],
   "source": [
    "from pathlib import Path\n",
    "files = list([f for f in Path(\"./\").glob(\"*.txt\")])\n",
    "files"
   ]
  },
  {
   "cell_type": "code",
   "execution_count": 5,
   "metadata": {
    "colab": {
     "base_uri": "https://localhost:8080/"
    },
    "id": "5-mxgogLv3Sr",
    "outputId": "f7ac16c1-91f3-445b-c762-1e3a1c9a385e"
   },
   "outputs": [
    {
     "data": {
      "text/plain": [
       "164410"
      ]
     },
     "execution_count": 5,
     "metadata": {},
     "output_type": "execute_result"
    }
   ],
   "source": [
    "# filePath = \"../data/Veidenbaums.txt\"\n",
    "# .. means one level up\n",
    "# data folder is a sibling of TextProcessing\n",
    "# filePath = \"../data/Alice_Wonderland.txt\"\n",
    "filePath = \"Alice_Wonderland.txt\" # this is relative to your current working directory\n",
    "# with is so called context manager\n",
    "# it will automatically close the file - otherwise you need to do it manually - which everyone forgets to do :)\n",
    "# with open(filePath, encoding=\"utf-8\") as fstream: # openign a filestream\n",
    "with open(\"Alice_Wonderland.txt\", encoding=\"utf-8\") as fstream: # openign a filestream\n",
    "    mytext = fstream.read() # here our textual data is read into memory\n",
    "    # as with most things in Python after : you need to indent\n",
    "    # fstream is still open here\n",
    "    # there are other ways to read files - but this is the most common one\n",
    "    # who said that you can't step into the same river twice?\n",
    "    # you can - but it will be a different river\n",
    "    # which Greek philosopher said that?\n",
    "    # Heraclitus - one of the pre-Socratics\n",
    "    # with file streams we can reset the pointer to the beginning of the file\n",
    "    # fstream.seek(0) - rare that you would need to do this\n",
    "    # usually you read the file once and then do something with it - like count words\n",
    "    # you do not need to read the file again - maybe you will want to write it again but that is a different story\n",
    "# once indentation ends here fstream is closed automatically for you\n",
    "len(mytext) # how many symbols are in our text"
   ]
  },
  {
   "cell_type": "code",
   "execution_count": 6,
   "metadata": {
    "colab": {
     "base_uri": "https://localhost:8080/"
    },
    "id": "AkoibvcEye1z",
    "outputId": "c1022253-3443-4301-e3f1-a54d81801718"
   },
   "outputs": [
    {
     "name": "stdout",
     "output_type": "stream",
     "text": [
      "This directory includes a few sample datasets to get you started.\n",
      "\n",
      "*   `california_housing_data*.csv` is California housing data from the 1990 US\n",
      "    Census; more information is available at:\n",
      "    https://developers.google.com/machine-learning/crash-course/california-housing-data-description\n",
      "\n",
      "*   `mnist_*.csv` is a small sample of the\n",
      "    [MNIST database](https://en.wikipedia.org/wiki/MNIST_database), which is\n",
      "    described at: http://yann.lecun.com/exdb/mnist/\n",
      "\n",
      "*   `anscombe.json` contains a copy of\n",
      "    [Anscombe's quartet](https://en.wikipedia.org/wiki/Anscombe%27s_quartet); it\n",
      "    was originally described in\n",
      "\n",
      "    Anscombe, F. J. (1973). 'Graphs in Statistical Analysis'. American\n",
      "    Statistician. 27 (1): 17-21. JSTOR 2682899.\n",
      "\n",
      "    and our copy was prepared by the\n",
      "    [vega_datasets library](https://github.com/altair-viz/vega_datasets/blob/4f67bdaad10f45e3549984e17e1b3088c731503d/vega_datasets/_data/anscombe.json).\n",
      "\n"
     ]
    }
   ],
   "source": [
    "with open(\"sample_data/README.md\", encoding=\"utf-8\") as file_stream:\n",
    "    readme_text = file_stream.read() # so reads all of it into memory\n",
    "    # file_stream is still open but completely read here\n",
    "# here file is closed completely\n",
    "print(readme_text)"
   ]
  },
  {
   "cell_type": "code",
   "execution_count": 14,
   "metadata": {
    "colab": {
     "base_uri": "https://localhost:8080/",
     "height": 53
    },
    "id": "Xrvb0AaFv3Ss",
    "outputId": "a8a42943-47f6-46cd-ecc5-255e4cbdf921"
   },
   "outputs": [
    {
     "data": {
      "application/vnd.google.colaboratory.intrinsic+json": {
       "type": "string"
      },
      "text/plain": [
       "'\\ufeffThe Project Gutenberg EBook of Alice’s Adventures in Wonderland, by Lewis Carroll\\n\\nThis eBook is for the use of anyone '"
      ]
     },
     "execution_count": 14,
     "metadata": {},
     "output_type": "execute_result"
    }
   ],
   "source": [
    "mytext[:120] # first 120 symbols from our text"
   ]
  },
  {
   "cell_type": "code",
   "execution_count": 15,
   "metadata": {
    "colab": {
     "base_uri": "https://localhost:8080/",
     "height": 53
    },
    "id": "n2QUr7QRv3St",
    "outputId": "ff8a1400-86ce-4f17-a389-2e7d713d2856"
   },
   "outputs": [
    {
     "data": {
      "application/vnd.google.colaboratory.intrinsic+json": {
       "type": "string"
      },
      "text/plain": [
       "'-tm,\\nincluding how to make donations to the Project Gutenberg Literary\\nArchive Foundation, how to help produce our new eBooks, and how to\\nsubscribe to our email newsletter to hear about new eBooks.\\n\\n\\n'"
      ]
     },
     "execution_count": 15,
     "metadata": {},
     "output_type": "execute_result"
    }
   ],
   "source": [
    "mytext[-200:] # last two hundred symbols of our text"
   ]
  },
  {
   "cell_type": "code",
   "execution_count": 16,
   "metadata": {
    "colab": {
     "base_uri": "https://localhost:8080/"
    },
    "id": "XyB71vkev3St",
    "outputId": "844d06e2-c5b0-4a09-f333-8e2fb0aa7e3c"
   },
   "outputs": [
    {
     "name": "stdout",
     "output_type": "stream",
     "text": [
      "The Project Gutenberg EBook of Alice’s Adventures in Wonderland, by Lewis Carroll\n",
      "\n",
      "This eBook is for the use of anyone anywhere in the United States and most\n",
      "other parts of the world at no cost and with almost no restrictions\n",
      "whatsoever.  You may copy it, give it away or re-use it under the terms o\n"
     ]
    }
   ],
   "source": [
    "print(mytext[:300]) # print first 300 symbols\n",
    "# print gives your more human readable output than just typing the variable name - which is more suitable for debugging"
   ]
  },
  {
   "cell_type": "code",
   "execution_count": null,
   "metadata": {
    "id": "nXYmTzYbv3Su"
   },
   "outputs": [],
   "source": [
    "# so one issue is that pretty much any data source will need additional cleaning\n",
    "# here we have header and footer sections with some legal data\n",
    "# this meta-data would distort our analysis\n",
    "# for one we would get mentions of Mr. Gutenberg\n",
    "# which Mr. Lewis Carrol did not intend\n"
   ]
  },
  {
   "cell_type": "code",
   "execution_count": 17,
   "metadata": {
    "colab": {
     "base_uri": "https://localhost:8080/"
    },
    "id": "Hy28VsWMv3Su",
    "outputId": "d5733fdb-974f-4d8e-b2ff-f280a080bfd6"
   },
   "outputs": [
    {
     "data": {
      "text/plain": [
       "str"
      ]
     },
     "execution_count": 17,
     "metadata": {},
     "output_type": "execute_result"
    }
   ],
   "source": [
    "# type of mytext is string\n",
    "type(mytext)"
   ]
  },
  {
   "cell_type": "code",
   "execution_count": 18,
   "metadata": {
    "colab": {
     "base_uri": "https://localhost:8080/"
    },
    "id": "gXViJpY6v3Sv",
    "outputId": "b77be118-10b4-4641-c21f-27505894e3ee"
   },
   "outputs": [
    {
     "data": {
      "text/plain": [
       "145459"
      ]
     },
     "execution_count": 18,
     "metadata": {},
     "output_type": "execute_result"
    }
   ],
   "source": [
    "# so we need to do some cleaning first\n",
    "# ideas on getting rid of header and footer sections\n",
    "#\n",
    "mytext.index(\"End of Project Gutenberg\")\n",
    "#this will the index of the first mention of the string"
   ]
  },
  {
   "cell_type": "code",
   "execution_count": 19,
   "metadata": {
    "colab": {
     "base_uri": "https://localhost:8080/"
    },
    "id": "H_am9W9Bv3Sv",
    "outputId": "c4d9d7da-05d4-4699-b85c-e931205ac7be"
   },
   "outputs": [
    {
     "data": {
      "text/plain": [
       "164410"
      ]
     },
     "execution_count": 19,
     "metadata": {},
     "output_type": "execute_result"
    }
   ],
   "source": [
    "len(mytext)"
   ]
  },
  {
   "cell_type": "markdown",
   "metadata": {},
   "source": [
    "## Checking start and end of our text"
   ]
  },
  {
   "cell_type": "code",
   "execution_count": 22,
   "metadata": {},
   "outputs": [
    {
     "name": "stdout",
     "output_type": "stream",
     "text": [
      "The Project Gutenberg EBook of Alice’s Adventures in Wonderland, by Lewis Carroll\n",
      "\n",
      "This eBook is for the use of anyone anywhere in the United States and most\n",
      "other parts of the world at no cost and with almost no restrictions\n",
      "whatsoever.  You may copy it, give it away or re-use it under the terms of\n",
      "the Project Gutenberg License included with this eBook or online at\n",
      "www.gutenberg.org.  If you are not located in the United States, you'll have\n",
      "to check the laws of the country where you are located before using this ebook.\n",
      "\n",
      "Title: Alice’s Adventures in Wonderland\n",
      "\n",
      "Author: Lewis Carroll\n",
      "\n",
      "Release Date: June 25, 2008 [EBook #11]\n",
      "[Most recently updated: October 12, 2020]\n",
      "\n",
      "Language: English\n",
      "\n",
      "Character set encoding: UTF-8\n",
      "\n",
      "*** START OF THIS PROJECT GUTENBERG EBOOK ALICE’S ADVENTURES IN WONDERLAND ***\n",
      "\n",
      "\n",
      "\n",
      "Produced by Arthur DiBianca and David Widger\n",
      "\n",
      "[Illustration]\n",
      "\n",
      "\n",
      "\n",
      "\n",
      "Alice’s Adventures in Wonderland\n",
      "\n",
      "by Lewis Carroll\n",
      "\n",
      "THE MILLENNIUM FULCRUM EDITION 3.0\n",
      "\n",
      "Contents\n",
      "\n",
      " CHAPTER I.     Down the Rabbit-Hole\n",
      " CHAPTER II.    The Pool of Tears\n",
      " CHAPTER III.   A Caucus-Race and a Long Tale\n",
      " CHAPTER IV.    The Rabbit Sends in a Little Bill\n",
      " CHAPTER V.     Advice from a Caterpillar\n",
      " CHAPTER VI.    Pig a\n"
     ]
    }
   ],
   "source": [
    "# let's print first N symbols\n",
    "N = 1_200\n",
    "print(text[:N]) # so simple slicing works on strings"
   ]
  },
  {
   "cell_type": "code",
   "execution_count": 23,
   "metadata": {},
   "outputs": [
    {
     "name": "stdout",
     "output_type": "stream",
     "text": [
      "nberg Web pages for current donation\n",
      "methods and addresses. Donations are accepted in a number of other\n",
      "ways including checks, online payments and credit card donations. To\n",
      "donate, please visit: www.gutenberg.org/donate\n",
      "\n",
      "Section 5. General Information About Project Gutenberg-tm electronic works.\n",
      "\n",
      "Professor Michael S. Hart was the originator of the Project\n",
      "Gutenberg-tm concept of a library of electronic works that could be\n",
      "freely shared with anyone. For forty years, he produced and\n",
      "distributed Project Gutenberg-tm eBooks with only a loose network of\n",
      "volunteer support.\n",
      "\n",
      "Project Gutenberg-tm eBooks are often created from several printed\n",
      "editions, all of which are confirmed as not protected by copyright in\n",
      "the U.S. unless a copyright notice is included. Thus, we do not\n",
      "necessarily keep eBooks in compliance with any particular paper\n",
      "edition.\n",
      "\n",
      "Most people start at our Web site which has the main PG search\n",
      "facility: www.gutenberg.org\n",
      "\n",
      "This Web site includes information about Project Gutenberg-tm,\n",
      "including how to make donations to the Project Gutenberg Literary\n",
      "Archive Foundation, how to help produce our new eBooks, and how to\n",
      "subscribe to our email newsletter to hear about new eBooks.\n",
      "\n",
      "\n",
      "\n"
     ]
    }
   ],
   "source": [
    "## how about last N symbols\n",
    "print(text[-N:]) # so simple slicing works on strings"
   ]
  },
  {
   "cell_type": "markdown",
   "metadata": {},
   "source": [
    "## Getting rid of header\n",
    "\n",
    "So we have determined that header ends with 4 new lines. That gives us a way to get rid of the header automatically."
   ]
  },
  {
   "cell_type": "code",
   "execution_count": 24,
   "metadata": {},
   "outputs": [
    {
     "name": "stdout",
     "output_type": "stream",
     "text": [
      "Start of the text: 867\n"
     ]
    }
   ],
   "source": [
    "# we want to keep the original so we will use a new variable for this\n",
    "# we want find the first place where 5 newlines are in a row\n",
    "# we can use find method in string\n",
    "# so our needle will be 5 newlines in a row\n",
    "needle = \"\\n\\n\\n\\n\\n\" # so we escape newline with \\n\n",
    "\n",
    "# where is it\n",
    "start = text.find(needle) # so find returns -1 if it does not find anything\n",
    "# we could have used index method as well which raises an exception if it does not find anything\n",
    "print(f\"Start of the text: {start}\")"
   ]
  },
  {
   "cell_type": "code",
   "execution_count": 25,
   "metadata": {},
   "outputs": [
    {
     "name": "stdout",
     "output_type": "stream",
     "text": [
      "Print first 1200 symbols after the needle\n",
      "\n",
      "\n",
      "\n",
      "\n",
      "\n",
      "Alice’s Adventures in Wonderland\n",
      "\n",
      "by Lewis Carroll\n",
      "\n",
      "THE MILLENNIUM FULCRUM EDITION 3.0\n",
      "\n",
      "Contents\n",
      "\n",
      " CHAPTER I.     Down the Rabbit-Hole\n",
      " CHAPTER II.    The Pool of Tears\n",
      " CHAPTER III.   A Caucus-Race and a Long Tale\n",
      " CHAPTER IV.    The Rabbit Sends in a Little Bill\n",
      " CHAPTER V.     Advice from a Caterpillar\n",
      " CHAPTER VI.    Pig and Pepper\n",
      " CHAPTER VII.   A Mad Tea-Party\n",
      " CHAPTER VIII.  The Queen’s Croquet-Ground\n",
      " CHAPTER IX.    The Mock Turtle’s Story\n",
      " CHAPTER X.     The Lobster Quadrille\n",
      " CHAPTER XI.    Who Stole the Tarts?\n",
      " CHAPTER XII.   Alice’s Evidence\n",
      "\n",
      "\n",
      "\n",
      "\n",
      "CHAPTER I.\n",
      "Down the Rabbit-Hole\n",
      "\n",
      "\n",
      "Alice was beginning to get very tired of sitting by her sister on the\n",
      "bank, and of having nothing to do: once or twice she had peeped into\n",
      "the book her sister was reading, but it had no pictures or\n",
      "conversations in it, “and what is the use of a book,” thought Alice\n",
      "“without pictures or conversations?”\n",
      "\n",
      "So she was considering in her own mind (as well as she could, for the\n",
      "hot day made her feel very sleepy and stupid), whether the pleasure of\n",
      "making a daisy-chain would be worth the trouble of getting up and\n",
      "picking the daisies, when suddenly a White Rabbit with pink eyes ran\n",
      "close by her.\n",
      "\n",
      "T\n"
     ]
    }
   ],
   "source": [
    "# print N symbols after the needle\n",
    "print(f\"Print first {N} symbols after the needle\")\n",
    "print(text[start:start+N]) # so simple slicing works on strings"
   ]
  },
  {
   "cell_type": "code",
   "execution_count": 26,
   "metadata": {},
   "outputs": [
    {
     "name": "stdout",
     "output_type": "stream",
     "text": [
      "Start of the text: 1437\n"
     ]
    }
   ],
   "source": [
    "# it turned out that we want the 2nd occurence of the needle to be the cut off point\n",
    "# we could use loop to find the 2nd occurence\n",
    "needle = \"\\n\\n\\n\\n\\n\" # so we escape newline with \\n\n",
    "occurence = 2\n",
    "start = 0\n",
    "for i in range(occurence):\n",
    "    # we will keep advancing the start index each time we find the needle\n",
    "    # we add len(needle) to start to skip the needle itself\n",
    "    start = text.find(needle, start) + len(needle)\n",
    "    if start == -1: # if we do not find it\n",
    "        break\n",
    "# print the start index\n",
    "print(f\"Start of the text: {start}\")"
   ]
  },
  {
   "cell_type": "code",
   "execution_count": 27,
   "metadata": {},
   "outputs": [
    {
     "name": "stdout",
     "output_type": "stream",
     "text": [
      "Print first 1200 symbols after the needle\n",
      "CHAPTER I.\n",
      "Down the Rabbit-Hole\n",
      "\n",
      "\n",
      "Alice was beginning to get very tired of sitting by her sister on the\n",
      "bank, and of having nothing to do: once or twice she had peeped into\n",
      "the book her sister was reading, but it had no pictures or\n",
      "conversations in it, “and what is the use of a book,” thought Alice\n",
      "“without pictures or conversations?”\n",
      "\n",
      "So she was considering in her own mind (as well as she could, for the\n",
      "hot day made her feel very sleepy and stupid), whether the pleasure of\n",
      "making a daisy-chain would be worth the trouble of getting up and\n",
      "picking the daisies, when suddenly a White Rabbit with pink eyes ran\n",
      "close by her.\n",
      "\n",
      "There was nothing so _very_ remarkable in that; nor did Alice think it\n",
      "so _very_ much out of the way to hear the Rabbit say to itself, “Oh\n",
      "dear! Oh dear! I shall be late!” (when she thought it over afterwards,\n",
      "it occurred to her that she ought to have wondered at this, but at the\n",
      "time it all seemed quite natural); but when the Rabbit actually _took a\n",
      "watch out of its waistcoat-pocket_, and looked at it, and then hurried\n",
      "on, Alice started to her feet, for it flashed across her mind that she\n",
      "had never before seen a rabbit with either a waistcoat-pocket, or a\n",
      "watch to\n"
     ]
    }
   ],
   "source": [
    "# let's print first N symbols after the needle\n",
    "print(f\"Print first {N} symbols after the needle\")\n",
    "print(text[start:start+N]) # so simple slicing works on strings"
   ]
  },
  {
   "cell_type": "markdown",
   "metadata": {},
   "source": [
    "## Using end marker to find the end\n",
    "\n",
    "Similarly we can use the end marker to find the end of the text.\n",
    "\n",
    "In case of Project Gutenberg, the end marker is \"End of Project Gutenberg\" which should work for any Project Gutenberg text."
   ]
  },
  {
   "cell_type": "code",
   "execution_count": 28,
   "metadata": {},
   "outputs": [
    {
     "name": "stdout",
     "output_type": "stream",
     "text": [
      "End of the text: 145459\n"
     ]
    }
   ],
   "source": [
    "end_of_text = \"End of Project Gutenberg\"\n",
    "end_index = text.find(end_of_text) # first occurence of the end_of_text will suit us fine\n",
    "print(f\"End of the text: {end_index}\")"
   ]
  },
  {
   "cell_type": "code",
   "execution_count": null,
   "metadata": {},
   "outputs": [
    {
     "name": "stdout",
     "output_type": "stream",
     "text": [
      "Show 100 characters around the end_index\n",
      " in all\n",
      "their simple joys, remembering her own child-life, and the happy summer\n",
      "days.\n",
      "\n",
      "THE END \n",
      "\n",
      "\n",
      "\n",
      "\n",
      "End of Project Gutenberg’s Alice’s Adventures in Wonderland, by Lewis Carroll\n",
      "\n",
      "*** END OF THIS PROJE\n"
     ]
    }
   ],
   "source": [
    "# let's look at some characters around this end_index\n",
    "# this is called context\n",
    "# we will use context_window variable to say how many characters we want to see around the end_index\n",
    "context_window = 100\n",
    "print(f\"Show {context_window} characters around the end_index\")\n",
    "print(text[end_index-context_window:end_index+context_window]) # so simple slicing"
   ]
  },
  {
   "cell_type": "code",
   "execution_count": 30,
   "metadata": {},
   "outputs": [
    {
     "name": "stdout",
     "output_type": "stream",
     "text": [
      "Length of clean text: 144022\n"
     ]
    }
   ],
   "source": [
    "# let's cut the text at start and end index\n",
    "clean_text = text[start:end_index] # simple slicing\n",
    "# how long is our clean text\n",
    "print(f\"Length of clean text: {len(clean_text)}\")"
   ]
  },
  {
   "cell_type": "markdown",
   "metadata": {},
   "source": [
    "## Cleaning whitespace\n",
    "\n",
    "We probably want to get rid of starting and ending whitespace. We can use the `strip` method for that."
   ]
  },
  {
   "cell_type": "code",
   "execution_count": 31,
   "metadata": {},
   "outputs": [
    {
     "name": "stdout",
     "output_type": "stream",
     "text": [
      "ORIGINAL length before cleaning: 164410\n",
      "CUT length after cutting start and end: 144022\n",
      "CLEANED Length of clean text: 144016\n"
     ]
    }
   ],
   "source": [
    "print(f\"ORIGINAL length before cleaning: {len(text)}\")\n",
    "print(f\"CUT length after cutting start and end: {len(clean_text)}\")\n",
    "# now let's strip the text of leading and trailing whitespaces\n",
    "clean_text = clean_text.strip() # strip removes leading and trailing whitespaces including newlines and tabs\n",
    "# how long is our clean text\n",
    "print(f\"CLEANED Length of clean text: {len(clean_text)}\")"
   ]
  },
  {
   "cell_type": "markdown",
   "metadata": {},
   "source": [
    "## Getting rid of extra newlines\n",
    "\n",
    "You  might want to get rid of extra newlines. We can use the `replace` method for that.\n",
    "\n",
    "First let's count how many newlines we have.\n",
    "For that we actually need the text split into lines.\n"
   ]
  },
  {
   "cell_type": "code",
   "execution_count": 32,
   "metadata": {},
   "outputs": [
    {
     "name": "stdout",
     "output_type": "stream",
     "text": [
      "Number of lines: 3351\n"
     ]
    }
   ],
   "source": [
    "# so let's split our text into lines\n",
    "# we will use splitlines method\n",
    "# this is a very common operation\n",
    "# we will split our text into lines\n",
    "\n",
    "rows = clean_text.splitlines() # so we split our text into lines\n",
    "# if you want to keep newlines at the end of each line you can use split(\"\\n\")\n",
    "# let's see how many lines we have\n",
    "print(f\"Number of lines: {len(rows)}\")"
   ]
  },
  {
   "cell_type": "code",
   "execution_count": 33,
   "metadata": {},
   "outputs": [
    {
     "name": "stdout",
     "output_type": "stream",
     "text": [
      "Number of empty lines: 874\n"
     ]
    }
   ],
   "source": [
    "## let's check if we have any completely empty lines\n",
    "empty_lines = [row for row in rows if row == \"\"] # remember in this case we did not keep newline symbols\n",
    "# print how many empty lines we have\n",
    "print(f\"Number of empty lines: {len(empty_lines)}\")"
   ]
  },
  {
   "cell_type": "code",
   "execution_count": null,
   "metadata": {},
   "outputs": [
    {
     "name": "stdout",
     "output_type": "stream",
     "text": [
      "Number of full lines: 2477\n"
     ]
    }
   ],
   "source": [
    "# so now you have an option of getting rid of these newlines, or keeping them\n",
    "# you should write your justification for keeping - keeps structure of the text a bit better\n",
    "# in this case for word analysis we do not need them so I will show how to get rid of them\n",
    "full_lines = [row for row in rows if row != \"\"] # so we keep only non-empty lines\n",
    "# how many full rows do we have\n",
    "print(f\"Number of full lines: {len(full_lines)}\")\n",
    "# this might be a number to be used in your analysis for each document"
   ]
  },
  {
   "cell_type": "markdown",
   "metadata": {},
   "source": [
    "## Analysing Full Text\n",
    "\n",
    "Now that we have full lines let's go back to full text - that is one string."
   ]
  },
  {
   "cell_type": "code",
   "execution_count": 35,
   "metadata": {},
   "outputs": [
    {
     "name": "stdout",
     "output_type": "stream",
     "text": [
      "Number of characters in full_text: 143142\n"
     ]
    }
   ],
   "source": [
    "# now we will join all the strings together into a single string\n",
    "full_text = \"\\n\".join(full_lines) # so we join all the lines with newline symbol because we did not keep it\n",
    "# if we had newlines at end of each line we would use \"\".join(full_lines) to join them without any separator\n",
    "\n",
    "# let's see how many characters we have in our full_text\n",
    "print(f\"Number of characters in full_text: {len(full_text)}\")"
   ]
  },
  {
   "cell_type": "markdown",
   "metadata": {},
   "source": [
    "## Getting sentence information\n",
    "\n",
    "We could use the `nltk` module to get sentence information. 'nlkt' is a natural language processing library in Python. There are many other libraries that can be used for this purpose.\n",
    "\n",
    "Today we are going use standard library to get sentence information.\n",
    "\n",
    "So sentence is sequence of words that is terminated by a period, question mark or exclamation mark.\n",
    "\n",
    "So for our purposes we will split by period, question mark or exclamation mark."
   ]
  },
  {
   "cell_type": "code",
   "execution_count": 36,
   "metadata": {},
   "outputs": [
    {
     "name": "stdout",
     "output_type": "stream",
     "text": [
      "Number of sentences: 1642\n"
     ]
    }
   ],
   "source": [
    "# let's get sentences\n",
    "# we will use period, exclamation mark and question mark as sentence separators - this is very rough but will do for now\n",
    "\n",
    "# we will use regular expressions to split the text into sentences\n",
    "import re # regular expressions module - very powerful but also complex \n",
    "# we will use findall method to find all sentences\n",
    "# we will use regular expression to find all sentences\n",
    "# so we supplied 3 possible sentence endings using square brackets [.!]\n",
    "sentences = re.split(r\"[.!?]\", full_text) # so we split the text into sentences\n",
    "# let's see how many sentences we have\n",
    "print(f\"Number of sentences: {len(sentences)}\")"
   ]
  },
  {
   "cell_type": "code",
   "execution_count": 37,
   "metadata": {},
   "outputs": [
    {
     "name": "stdout",
     "output_type": "stream",
     "text": [
      "Sentence 0: CHAPTER I\n",
      "Sentence 1: \n",
      "Down the Rabbit-Hole\n",
      "Alice was beginning to get very tired of sitting by her sister on the\n",
      "bank, and of having nothing to do: once or twice she had peeped into\n",
      "the book her sister was reading, but it had no pictures or\n",
      "conversations in it, “and what is the use of a book,” thought Alice\n",
      "“without pictures or conversations\n",
      "Sentence 2: ”\n",
      "So she was considering in her own mind (as well as she could, for the\n",
      "hot day made her feel very sleepy and stupid), whether the pleasure of\n",
      "making a daisy-chain would be worth the trouble of getting up and\n",
      "picking the daisies, when suddenly a White Rabbit with pink eyes ran\n",
      "close by her\n",
      "Sentence 3: \n",
      "There was nothing so _very_ remarkable in that; nor did Alice think it\n",
      "so _very_ much out of the way to hear the Rabbit say to itself, “Oh\n",
      "dear\n",
      "Sentence 4:  Oh dear\n"
     ]
    }
   ],
   "source": [
    "# let's print our first N sentences\n",
    "N = 5\n",
    "for i, sentence in enumerate(sentences[:N]): # so we use enumerate to get both index and sentence\n",
    "    print(f\"Sentence {i}: {sentence}\") # so we print each sentence"
   ]
  },
  {
   "cell_type": "code",
   "execution_count": 38,
   "metadata": {},
   "outputs": [
    {
     "name": "stdout",
     "output_type": "stream",
     "text": [
      "Sentence 0: \n",
      "But her sister sat still just as she left her, leaning her head on her\n",
      "hand, watching the setting sun, and thinking of little Alice and all\n",
      "her wonderful Adventures, till she too began dreaming after a fashion,\n",
      "and this was her dream:—\n",
      "First, she dreamed of little Alice herself, and once again the tiny\n",
      "hands were clasped upon her knee, and the bright eager eyes were\n",
      "looking up into hers—she could hear the very tones of her voice, and\n",
      "see that queer little toss of her head to keep back the wandering hair\n",
      "that _would_ always get into her eyes—and still as she listened, or\n",
      "seemed to listen, the whole place around her became alive with the\n",
      "strange creatures of her little sister’s dream\n",
      "Sentence 1: \n",
      "The long grass rustled at her feet as the White Rabbit hurried by—the\n",
      "frightened Mouse splashed his way through the neighbouring pool—she\n",
      "could hear the rattle of the teacups as the March Hare and his friends\n",
      "shared their never-ending meal, and the shrill voice of the Queen\n",
      "ordering off her unfortunate guests to execution—once more the pig-baby\n",
      "was sneezing on the Duchess’s knee, while plates and dishes crashed\n",
      "around it—once more the shriek of the Gryphon, the squeaking of the\n",
      "Lizard’s slate-pencil, and the choking of the suppressed guinea-pigs,\n",
      "filled the air, mixed up with the distant sobs of the miserable Mock\n",
      "Turtle\n",
      "Sentence 2: \n",
      "So she sat on, with closed eyes, and half believed herself in\n",
      "Wonderland, though she knew she had but to open them again, and all\n",
      "would change to dull reality—the grass would be only rustling in the\n",
      "wind, and the pool rippling to the waving of the reeds—the rattling\n",
      "teacups would change to tinkling sheep-bells, and the Queen’s shrill\n",
      "cries to the voice of the shepherd boy—and the sneeze of the baby, the\n",
      "shriek of the Gryphon, and all the other queer noises, would change\n",
      "(she knew) to the confused clamour of the busy farm-yard—while the\n",
      "lowing of the cattle in the distance would take the place of the Mock\n",
      "Turtle’s heavy sobs\n",
      "Sentence 3: \n",
      "Lastly, she pictured to herself how this same little sister of hers\n",
      "would, in the after-time, be herself a grown woman; and how she would\n",
      "keep, through all her riper years, the simple and loving heart of her\n",
      "childhood: and how she would gather about her other little children,\n",
      "and make _their_ eyes bright and eager with many a strange tale,\n",
      "perhaps even with the dream of Wonderland of long ago: and how she\n",
      "would feel with all their simple sorrows, and find a pleasure in all\n",
      "their simple joys, remembering her own child-life, and the happy summer\n",
      "days\n",
      "Sentence 4: \n",
      "THE END\n"
     ]
    }
   ],
   "source": [
    "# now last N sentences\n",
    "N = 5\n",
    "for i, sentence in enumerate(sentences[-N:]): # so we use enumerate to get both index and sentence\n",
    "    print(f\"Sentence {i}: {sentence}\") # so we print each"
   ]
  },
  {
   "cell_type": "code",
   "execution_count": 39,
   "metadata": {},
   "outputs": [
    {
     "name": "stdout",
     "output_type": "stream",
     "text": [
      "Max words in a sentence: 179\n",
      "Min words in a sentence: 1\n",
      "Average words in a sentence: 16.52\n"
     ]
    }
   ],
   "source": [
    "# we could analyze how many words we have in each sentence\n",
    "# to get a word without using external libraries we could use split method - good but not perfect\n",
    "sentence_lengths = []\n",
    "for sentence in sentences:\n",
    "    words = sentence.split() # so we split the sentence into words\n",
    "    sentence_lengths.append(len(words)) # so we append the number of words in the sentence\n",
    "# let's what is the most and least number of words in a sentence and what is the average\n",
    "max_words = max(sentence_lengths) # so we find the maximum number of words in a sentence\n",
    "min_words = min(sentence_lengths) # so we find the minimum number of words in a sentence\n",
    "average_words = sum(sentence_lengths) / len(sentence_lengths) # so we find the average number of words in a sentence\n",
    "\n",
    "# let's print the results\n",
    "print(f\"Max words in a sentence: {max_words}\")\n",
    "print(f\"Min words in a sentence: {min_words}\")\n",
    "print(f\"Average words in a sentence: {average_words:.2f}\")"
   ]
  },
  {
   "cell_type": "code",
   "execution_count": 40,
   "metadata": {},
   "outputs": [
    {
     "name": "stdout",
     "output_type": "stream",
     "text": [
      "Eureka! We found the longest sentence\n",
      "Hardly knowing what she did, she picked up a little bit of stick, and held it out to the puppy; whereupon the puppy jumped into the air off all its feet at once, with a yelp of delight, and rushed at the stick, and made believe to worry it; then Alice dodged behind a great thistle, to keep herself from being run over; and the moment she appeared on the other side, the puppy made another rush at the stick, and tumbled head over heels in its hurry to get hold of it; then Alice, thinking it was very like having a game of play with a cart-horse, and expecting every moment to be trampled under its feet, ran round the thistle again; then the puppy began a series of short charges at the stick, running a very little way forwards each time and a long way back, and barking hoarsely all the while, till at last it sat down a good way off, panting, with its tongue hanging out of its mouth, and its great eyes half shut\n"
     ]
    }
   ],
   "source": [
    "# we did not save the words so let's generate the actual sentences with words\n",
    "sentence_words = []\n",
    "for sentence in sentences:\n",
    "    words = sentence.split() # so we split the sentence into words\n",
    "    sentence_words.append(words) # so we append the words in the sentence\n",
    "\n",
    "# now let's find that sentence that is length of max_words\n",
    "max_words_sentence = None\n",
    "for words in sentence_words:\n",
    "    if len(words) == max_words:\n",
    "        max_words_sentence = words\n",
    "        print(\"Eureka! We found the longest sentence\")\n",
    "        break\n",
    "\n",
    "# let's print the longest sentence\n",
    "print(\" \".join(max_words_sentence))"
   ]
  },
  {
   "cell_type": "markdown",
   "metadata": {},
   "source": [
    "Now you could analyse these outlier sentences to see if they are actually sentences or not. Provide your own logic to determine if they are sentences or not."
   ]
  },
  {
   "cell_type": "markdown",
   "metadata": {},
   "source": [
    "## Counting words\n",
    "\n",
    "If we can split individual sentences into words, we can also split the whole text into words.\n"
   ]
  },
  {
   "cell_type": "code",
   "execution_count": null,
   "metadata": {},
   "outputs": [],
   "source": [
    "# so our full_text is a single string"
   ]
  },
  {
   "cell_type": "markdown",
   "metadata": {},
   "source": [
    "### Normalizing words\n",
    "\n",
    "We might want to lowercase all the words to make sure we are not counting the same word twice because of different case.\n",
    "\n",
    "Also we might want to get rid of all punctuation.\n",
    "\n",
    "Let's do both of these tasks"
   ]
  },
  {
   "cell_type": "code",
   "execution_count": 41,
   "metadata": {},
   "outputs": [
    {
     "name": "stdout",
     "output_type": "stream",
     "text": [
      "Number of characters in full_text: 143142\n",
      "Number of characters in full_text_lower: 143142\n"
     ]
    }
   ],
   "source": [
    "# lowercase all the text\n",
    "print(f\"Number of characters in full_text: {len(full_text)}\")\n",
    "full_text_lower = full_text.lower() # so we convert all text to lowercase\n",
    "print(f\"Number of characters in full_text_lower: {len(full_text_lower)}\")"
   ]
  },
  {
   "cell_type": "code",
   "execution_count": null,
   "metadata": {},
   "outputs": [
    {
     "name": "stdout",
     "output_type": "stream",
     "text": [
      "Removing these characters: !\"#$%&'()*+,-./:;<=>?@[\\]^_`{|}~\n",
      "Number of characters in full_text_lower WITH punctuation: 143142\n",
      "Number of characters in full_text_lower WITHOUT punctuation: 137891\n"
     ]
    }
   ],
   "source": [
    "# now let's get rid of all punctuation\n",
    "# we will use a simple loop\n",
    "import string # string module has all the punctuation symbols - well there are some exceptions\n",
    "# we could use translate method to get rid of punctuation but it is a bit more complex\n",
    "# so we will use a simple loop\n",
    "bad_chars = string.punctuation # so we get all punctuation symbols\n",
    "print(f\"Removing these characters: {bad_chars}\")\n",
    "\n",
    "# let's see how many characters we have now\n",
    "print(f\"Number of characters in full_text_lower WITH punctuation: {len(full_text_lower)}\")\n",
    "for char in bad_chars:\n",
    "    full_text_lower = full_text_lower.replace(char, \"\") # so we replace each punctuation symbol with empty string\n",
    "\n",
    "# let's see how many characters we have now\n",
    "print(f\"Number of characters in full_text_lower WITHOUT punctuation: {len(full_text_lower)}\")\n",
    "\n",
    "# punctuation is gone\n",
    "# for your analysis you might want to keep some punctuation, maybe you want to analyse exclamation marks for one"
   ]
  },
  {
   "cell_type": "code",
   "execution_count": null,
   "metadata": {},
   "outputs": [
    {
     "name": "stdout",
     "output_type": "stream",
     "text": [
      "Number of words: 26381\n",
      "['again', 'and', 'even', 'went', 'you', 'on', 'minute', 'solemnly', 'upon', 'have']\n"
     ]
    }
   ],
   "source": [
    "# now let's check the word usage\n",
    "# we will use split method to split all of the text into words\n",
    "words = full_text_lower.split() # so we split the text into words\n",
    "# how many words do we have after splitting\n",
    "print(f\"Number of words: {len(words)}\")\n",
    "\n",
    "# let's print a random sample of 10 words\n",
    "import random # random module is part of standard library\n",
    "\n",
    "# we will use sample method to get a random sample of 10 words\n",
    "sample_words = random.sample(words, 10) # so we get a random sample of 10 words\n",
    "# let's print the sample\n",
    "print(sample_words)\n",
    "# sampling allows us to check whether our cleaning was successful and if we have any weird words\n",
    "# should sample 50-100 words to get a good idea"
   ]
  },
  {
   "cell_type": "code",
   "execution_count": 46,
   "metadata": {},
   "outputs": [
    {
     "name": "stdout",
     "output_type": "stream",
     "text": [
      "the: 1608\n",
      "and: 787\n",
      "to: 710\n",
      "a: 615\n",
      "she: 532\n",
      "of: 493\n",
      "said: 457\n",
      "it: 446\n",
      "alice: 383\n",
      "in: 353\n",
      "was: 351\n",
      "you: 296\n",
      "i: 265\n",
      "as: 254\n",
      "her: 247\n",
      "that: 234\n",
      "at: 205\n",
      "on: 181\n",
      "had: 177\n",
      "with: 175\n",
      "all: 168\n",
      "for: 141\n",
      "very: 139\n",
      "be: 139\n",
      "so: 136\n"
     ]
    }
   ],
   "source": [
    "# counting is easy we use counter from collections module\n",
    "from collections import Counter # so we import Counter class from collections module\n",
    "# we will use Counter to count the words\n",
    "word_counts = Counter(words) # so we count the words\n",
    "# let's see what are the N most common words\n",
    "# we will use most_common method\n",
    "N = 25\n",
    "most_common_words = word_counts.most_common(N) # so we get N most common words\n",
    "# let's print the most common words\n",
    "for word, count in most_common_words:\n",
    "    print(f\"{word}: {count}\")"
   ]
  },
  {
   "cell_type": "code",
   "execution_count": 48,
   "metadata": {},
   "outputs": [
    {
     "name": "stdout",
     "output_type": "stream",
     "text": [
      "alice: 383\n",
      "little: 125\n",
      "about: 92\n",
      "herself: 83\n",
      "could: 77\n",
      "would: 77\n",
      "thought: 74\n",
      "again: 68\n",
      "there: 67\n",
      "queen: 65\n",
      "began: 57\n",
      "quite: 55\n",
      "gryphon: 55\n",
      "hatter: 54\n",
      "turtle: 54\n",
      "don’t: 53\n",
      "their: 51\n",
      "voice: 46\n",
      "looked: 45\n",
      "first: 44\n",
      "which: 44\n",
      "think: 43\n",
      "rabbit: 42\n",
      "never: 41\n",
      "after: 40\n",
      "round: 40\n",
      "thing: 40\n",
      "great: 39\n",
      "other: 38\n",
      "duchess: 37\n",
      "“what: 36\n",
      "dormouse: 36\n",
      "mouse: 35\n",
      "before: 33\n",
      "large: 33\n",
      "march: 32\n",
      "white: 30\n",
      "looking: 30\n",
      "nothing: 29\n",
      "found: 29\n",
      "heard: 29\n",
      "replied: 29\n",
      "moment: 28\n",
      "might: 28\n",
      "seemed: 27\n",
      "going: 27\n",
      "should: 27\n",
      "can’t: 27\n",
      "caterpillar: 27\n",
      "that”: 26\n",
      "right: 25\n",
      "rather: 25\n",
      "without: 24\n",
      "while: 24\n",
      "three: 24\n",
      "“it’s: 23\n",
      "added: 23\n",
      "shall: 22\n",
      "another: 22\n",
      "things: 22\n",
      "“well: 22\n",
      "won’t: 22\n",
      "getting: 21\n",
      "know”: 21\n",
      "cried: 20\n",
      "minute: 20\n",
      "tried: 19\n",
      "however: 19\n",
      "being: 19\n",
      "anything: 18\n",
      "that’s: 17\n",
      "words: 17\n",
      "you’re: 17\n",
      "table: 17\n",
      "curious: 17\n",
      "house: 17\n",
      "something: 17\n",
      "course: 17\n",
      "asked: 17\n",
      "under: 16\n",
      "turned: 16\n",
      "there’s: 16\n",
      "hastily: 16\n",
      "doesn’t: 16\n",
      "spoke: 16\n",
      "“that’s: 16\n",
      "wonder: 15\n",
      "please: 15\n",
      "talking: 15\n",
      "question: 15\n",
      "“come: 15\n",
      "“that: 15\n",
      "called: 15\n",
      "court: 15\n",
      "itself: 14\n",
      "ought: 14\n",
      "saying: 14\n",
      "enough: 14\n",
      "anxiously: 14\n",
      "“i’ve: 14\n",
      "suddenly: 13\n",
      "close: 13\n",
      "still: 13\n",
      "through: 13\n",
      "garden: 13\n",
      "here”: 13\n",
      "these: 13\n",
      "whole: 13\n",
      "chapter: 12\n",
      "wouldn’t: 12\n",
      "among: 12\n",
      "people: 12\n",
      "perhaps: 12\n",
      "remember: 12\n",
      "behind: 12\n",
      "trying: 12\n",
      "every: 12\n",
      "because: 12\n",
      "hardly: 12\n",
      "hands: 12\n",
      "again”: 12\n",
      "change: 12\n",
      "always: 12\n",
      "silence: 12\n",
      "turning: 12\n",
      "“then: 12\n",
      "pigeon: 12\n",
      "beginning: 11\n",
      "whether: 11\n",
      "hurried: 11\n",
      "though: 11\n",
      "didn’t: 11\n",
      "afraid: 11\n",
      "alice’s: 11\n",
      "hurry: 11\n",
      "waited: 11\n",
      "minutes: 11\n",
      "then”: 11\n",
      "tears: 11\n",
      "makes: 11\n",
      "speak: 11\n",
      "better: 11\n",
      "wasn’t: 11\n",
      "beautiful: 11\n",
      "dance: 11\n",
      "sitting: 10\n",
      "having: 10\n",
      "dinah: 10\n",
      "sight: 10\n",
      "walked: 10\n",
      "small: 10\n",
      "opened: 10\n",
      "those: 10\n",
      "bottle: 10\n",
      "certainly: 10\n",
      "children: 10\n",
      "finished: 10\n",
      "growing: 10\n",
      "them”: 10\n",
      "gloves: 10\n",
      "queer: 10\n",
      "everything: 10\n",
      "thinking: 10\n",
      "nearly: 10\n",
      "where: 10\n",
      "mouth: 10\n",
      "repeated: 10\n",
      "they’re: 10\n",
      "footman: 10\n",
      "remarked: 10\n",
      "remark: 10\n",
      "soldiers: 10\n",
      "majesty”: 10\n",
      "heads: 9\n",
      "couldn’t: 9\n",
      "glass: 9\n",
      "really: 9\n",
      "against: 9\n",
      "“they: 9\n",
      "suppose: 9\n",
      "thing”: 9\n",
      "offended: 9\n",
      "conversation: 9\n",
      "birds: 9\n",
      "continued: 9\n",
      "angrily: 9\n",
      "shook: 9\n",
      "reason: 9\n",
      "shouted: 9\n",
      "timidly: 9\n",
      "puzzled: 9\n",
      "interrupted: 9\n",
      "knave: 9\n",
      "sister: 8\n",
      "making: 8\n",
      "either: 8\n",
      "slowly: 8\n",
      "noticed: 8\n",
      "time”: 8\n",
      "opportunity: 8\n",
      "answer: 8\n",
      "matter: 8\n",
      "waiting: 8\n",
      "followed: 8\n",
      "lying: 8\n",
      "ready: 8\n",
      "changed: 8\n",
      "you’d: 8\n",
      "indeed”: 8\n",
      "eagerly: 8\n",
      "creatures: 8\n",
      "party: 8\n",
      "meaning: 8\n",
      "believe: 8\n",
      "explain: 8\n",
      "running: 8\n",
      "least: 8\n",
      "place: 8\n",
      "begin: 8\n",
      "appeared: 8\n",
      "“there’s: 8\n",
      "hearts: 8\n",
      "gardeners: 8\n",
      "tired: 7\n",
      "world: 7\n",
      "happen: 7\n",
      "coming: 7\n",
      "listen: 7\n",
      "it’ll: 7\n",
      "think”: 7\n",
      "middle: 7\n",
      "wondering: 7\n",
      "golden: 7\n",
      "larger: 7\n",
      "bright: 7\n",
      "happened: 7\n",
      "indeed: 7\n",
      "leave: 7\n",
      "generally: 7\n",
      "surprised: 7\n",
      "distance: 7\n",
      "frightened: 7\n",
      "hadn’t: 7\n",
      "much”: 7\n",
      "course”: 7\n",
      "stood: 7\n",
      "grown: 7\n",
      "trees: 7\n",
      "mushroom: 7\n",
      "haven’t: 7\n",
      "silent: 7\n",
      "pleased: 7\n",
      "head”: 7\n",
      "asleep: 7\n",
      "queen’s: 7\n",
      "hedgehog: 7\n",
      "moral: 7\n",
      "tarts: 7\n",
      "slates: 7\n",
      "watch: 6\n",
      "lessons: 6\n",
      "manage: 6\n",
      "written: 6\n",
      "begun: 6\n",
      "leaves: 6\n",
      "jumped: 6\n",
      "inches: 6\n",
      "marked: 6\n",
      "forgotten: 6\n",
      "almost: 6\n",
      "child: 6\n",
      "himself: 6\n",
      "feeling: 6\n",
      "different: 6\n",
      "times: 6\n",
      "repeat: 6\n",
      "learn: 6\n",
      "understand: 6\n",
      "history: 6\n",
      "“don’t: 6\n",
      "trembling: 6\n",
      "“there: 6\n",
      "politely: 6\n",
      "melancholy: 6\n",
      "yourself: 6\n",
      "exactly: 6\n",
      "trial: 6\n",
      "others: 6\n",
      "“you’re: 6\n",
      "nobody: 6\n",
      "broken: 6\n",
      "together: 6\n",
      "sharp: 6\n",
      "puppy: 6\n",
      "father: 6\n",
      "pepper: 6\n",
      "sneezing: 6\n",
      "between: 6\n",
      "like”: 6\n",
      "cheshire: 6\n",
      "everybody: 6\n",
      "dreadfully: 6\n",
      "isn’t: 6\n",
      "exclaimed: 6\n",
      "lobster: 6\n",
      "lobsters: 6\n",
      "soo—oop: 6\n",
      "sleepy: 5\n",
      "trouble: 5\n",
      "across: 5\n",
      "curiosity: 5\n",
      "passed: 5\n",
      "somebody: 5\n",
      "aloud: 5\n",
      "asking: 5\n",
      "sometimes: 5\n",
      "dream: 5\n",
      "walking: 5\n",
      "along: 5\n",
      "simple: 5\n",
      "finger: 5\n",
      "nervous: 5\n",
      "altogether: 5\n",
      "fancy: 5\n",
      "remembered: 5\n",
      "shoes: 5\n",
      "shan’t: 5\n",
      "dropped: 5\n",
      "seven: 5\n",
      "sounded: 5\n",
      "strange: 5\n",
      "dear”: 5\n",
      "sudden: 5\n",
      "number: 5\n",
      "nearer: 5\n",
      "“would: 5\n",
      "speaking: 5\n",
      "sentence: 5\n",
      "pardon”: 5\n",
      "shrill: 5\n",
      "angry: 5\n",
      "subject: 5\n",
      "fetch: 5\n",
      "crowded: 5\n",
      "what”: 5\n",
      "notice: 5\n",
      "liked: 5\n",
      "chorus: 5\n",
      "confusion: 5\n",
      "reply: 5\n",
      "finish: 5\n",
      "impatiently: 5\n",
      "sighed: 5\n",
      "young: 5\n",
      "moved: 5\n",
      "executed: 5\n",
      "window: 5\n",
      "interesting: 5\n",
      "become: 5\n",
      "“when: 5\n",
      "write: 5\n",
      "shouldn’t: 5\n",
      "taking: 5\n",
      "shriek: 5\n",
      "instantly: 5\n",
      "“i’ll: 5\n",
      "surprise: 5\n",
      "lizard: 5\n",
      "height: 5\n",
      "quietly: 5\n",
      "hookah: 5\n",
      "things”: 5\n",
      "stand: 5\n",
      "right”: 5\n",
      "often: 5\n",
      "sleep: 5\n",
      "you’ve: 5\n",
      "waving: 5\n",
      "breadandbutter: 5\n",
      "piece: 5\n",
      "faces: 5\n",
      "whispered: 5\n",
      "flamingo: 5\n",
      "executioner: 5\n",
      "witness”: 5\n",
      "witness: 5\n",
      "twice: 4\n",
      "pictures: 4\n",
      "worth: 4\n",
      "natural: 4\n",
      "sides: 4\n",
      "managed: 4\n",
      "they’ll: 4\n",
      "likely: 4\n",
      "fallen: 4\n",
      "earth: 4\n",
      "several: 4\n",
      "sound: 4\n",
      "passage: 4\n",
      "sadly: 4\n",
      "except: 4\n",
      "second: 4\n",
      "shoulders: 4\n",
      "begin”: 4\n",
      "“which: 4\n",
      "before”: 4\n",
      "paper: 4\n",
      "first”: 4\n",
      "taught: 4\n",
      "deeply: 4\n",
      "drink: 4\n",
      "ventured: 4\n",
      "reach: 4\n",
      "sharply: 4\n",
      "severely: 4\n",
      "happens: 4\n",
      "english: 4\n",
      "myself: 4\n",
      "yourself”: 4\n",
      "until: 4\n",
      "violently: 4\n",
      "usual: 4\n",
      "morning: 4\n",
      "mabel: 4\n",
      "she’s: 4\n",
      "puzzling: 4\n",
      "twelve: 4\n",
      "capital: 4\n",
      "wrong: 4\n",
      "seems: 4\n",
      "shrinking: 4\n",
      "water: 4\n",
      "you’ll: 4\n",
      "animals: 4\n",
      "uncomfortable: 4\n",
      "argument: 4\n",
      "wanted: 4\n",
      "frowning: 4\n",
      "solemnly: 4\n",
      "“why”: 4\n",
      "pointing: 4\n",
      "confused: 4\n",
      "pocket: 4\n",
      "“only: 4\n",
      "short: 4\n",
      "bowed: 4\n",
      "nonsense”: 4\n",
      "“please: 4\n",
      "story”: 4\n",
      "story: 4\n",
      "since: 4\n",
      "vanished: 4\n",
      "chimney: 4\n",
      "chance: 4\n",
      "answered: 4\n",
      "“sure: 4\n",
      "sounds: 4\n",
      "hearing: 4\n",
      "down”: 4\n",
      "with”: 4\n",
      "doubt: 4\n",
      "crowd: 4\n",
      "difficulty: 4\n",
      "stick: 4\n",
      "grass: 4\n",
      "perfectly: 4\n",
      "decidedly: 4\n",
      "thoughtfully: 4\n",
      "green: 4\n",
      "serpent: 4\n",
      "screamed: 4\n",
      "indignantly: 4\n",
      "taken: 4\n",
      "kitchen: 4\n",
      "jumping: 4\n",
      "carried: 4\n",
      "business”: 4\n",
      "hours: 4\n",
      "meant: 4\n",
      "busily: 4\n",
      "creature: 4\n",
      "grunted: 4\n",
      "“call: 4\n",
      "“very: 4\n",
      "well”: 4\n",
      "shoulder: 4\n",
      "twinkling: 4\n",
      "know—”: 4\n",
      "twinkle: 4\n",
      "bottom: 4\n",
      "begins: 4\n",
      "rosetree: 4\n",
      "procession: 4\n",
      "child”: 4\n",
      "“yes”: 4\n",
      "arches: 4\n",
      "players: 4\n",
      "school: 4\n",
      "lessons”: 4\n",
      "whiting: 4\n",
      "whiting”: 4\n",
      "adventures: 4\n",
      "beau—ootiful: 4\n",
      "writing: 4\n",
      "officers: 4\n",
      "suppressed: 4\n",
      "evidence: 4\n",
      "jurymen: 4\n",
      "rabbithole: 3\n",
      "peeped: 3\n",
      "reading: 3\n",
      "considering: 3\n",
      "filled: 3\n",
      "miles: 3\n",
      "think—”: 3\n",
      "knowledge: 3\n",
      "grand: 3\n",
      "funny: 3\n",
      "listening: 3\n",
      "she’ll: 3\n",
      "catch: 3\n",
      "wonder”: 3\n",
      "cats”: 3\n",
      "corner: 3\n",
      "hanging: 3\n",
      "delight: 3\n",
      "outoftheway: 3\n",
      "impossible: 3\n",
      "hoping: 3\n",
      "rules: 3\n",
      "“drink: 3\n",
      "certain: 3\n",
      "later: 3\n",
      "finding: 3\n",
      "further: 3\n",
      "candle: 3\n",
      "decided: 3\n",
      "possibly: 3\n",
      "croquet: 3\n",
      "smaller: 3\n",
      "holding: 3\n",
      "remained: 3\n",
      "expecting: 3\n",
      "opening: 3\n",
      "dears: 3\n",
      "boots: 3\n",
      "directions: 3\n",
      "pattering: 3\n",
      "muttering: 3\n",
      "savage: 3\n",
      "timid: 3\n",
      "yesterday: 3\n",
      "night: 3\n",
      "sorts: 3\n",
      "besides: 3\n",
      "let’s: 3\n",
      "crossed: 3\n",
      "hoarse: 3\n",
      "spread: 3\n",
      "gently: 3\n",
      "putting: 3\n",
      "person: 3\n",
      "alone: 3\n",
      "rabbit’s: 3\n",
      "guess: 3\n",
      "cause: 3\n",
      "worse: 3\n",
      "slipped: 3\n",
      "general: 3\n",
      "digging: 3\n",
      "“perhaps: 3\n",
      "french: 3\n",
      "william: 3\n",
      "notion: 3\n",
      "throw: 3\n",
      "passion: 3\n",
      "shore: 3\n",
      "eaglet: 3\n",
      "sulky: 3\n",
      "better”: 3\n",
      "enough”: 3\n",
      "important: 3\n",
      "means: 3\n",
      "crown: 3\n",
      "away”: 3\n",
      "over”: 3\n",
      "pressed: 3\n",
      "prizes”: 3\n",
      "handed: 3\n",
      "gravely: 3\n",
      "speech: 3\n",
      "cheered: 3\n",
      "grave: 3\n",
      "solemn: 3\n",
      "noise: 3\n",
      "choked: 3\n",
      "whisper: 3\n",
      "sighing: 3\n",
      "certainly”: 3\n",
      "judge: 3\n",
      "pleaded: 3\n",
      "easily: 3\n",
      "joined: 3\n",
      "“hold: 3\n",
      "particular: 3\n",
      "venture: 3\n",
      "carefully: 3\n",
      "remarking: 3\n",
      "mentioned: 3\n",
      "guessed: 3\n",
      "hunting: 3\n",
      "doing: 3\n",
      "direction: 3\n",
      "mistake: 3\n",
      "plate: 3\n",
      "they’d: 3\n",
      "floor: 3\n",
      "effect: 3\n",
      "ordered: 3\n",
      "stopped: 3\n",
      "forgetting: 3\n",
      "window”: 3\n",
      "this”: 3\n",
      "business: 3\n",
      "bill’s: 3\n",
      "master: 3\n",
      "above: 3\n",
      "“this: 3\n",
      "bill”: 3\n",
      "sense: 3\n",
      "moving: 3\n",
      "suppose”: 3\n",
      "guineapigs: 3\n",
      "hungry: 3\n",
      "picked: 3\n",
      "escape: 3\n",
      "breath: 3\n",
      "immediately: 3\n",
      "folded: 3\n",
      "“because: 3\n",
      "different”: 3\n",
      "brought: 3\n",
      "youth”: 3\n",
      "youth: 3\n",
      "life”: 3\n",
      "questions: 3\n",
      "temper: 3\n",
      "mind”: 3\n",
      "shaking: 3\n",
      "succeeded: 3\n",
      "serpent”: 3\n",
      "serpents: 3\n",
      "girls: 3\n",
      "settled: 3\n",
      "pieces: 3\n",
      "nibbling: 3\n",
      "bringing: 3\n",
      "livery: 3\n",
      "considered: 3\n",
      "otherwise: 3\n",
      "loudly: 3\n",
      "letter: 3\n",
      "croquet”: 3\n",
      "ground: 3\n",
      "staring: 3\n",
      "howling: 3\n",
      "instance: 3\n",
      "repeating: 3\n",
      "nursing: 3\n",
      "soup”: 3\n",
      "courage: 3\n",
      "grinned: 3\n",
      "growl: 3\n",
      "“just: 3\n",
      "tossing: 3\n",
      "queen”: 3\n",
      "caught: 3\n",
      "proper: 3\n",
      "“they’re: 3\n",
      "dormouse”: 3\n",
      "“have: 3\n",
      "civil: 3\n",
      "o’clock: 3\n",
      "mine”: 3\n",
      "myself”: 3\n",
      "“what’s: 3\n",
      "cautiously: 3\n",
      "verse”: 3\n",
      "done”: 3\n",
      "lived: 3\n",
      "upset: 3\n",
      "“really: 3\n",
      "croquetground: 3\n",
      "watching: 3\n",
      "checked: 3\n",
      "eager: 3\n",
      "guests: 3\n",
      "needn’t: 3\n",
      "“consider: 3\n",
      "unfortunate: 3\n",
      "“she’s: 3\n",
      "didn’t”: 3\n",
      "said—”: 3\n",
      "hedgehogs: 3\n",
      "tucked: 3\n",
      "turns: 3\n",
      "friend: 3\n",
      "anxious: 3\n",
      "duchess’s: 3\n",
      "“thank: 3\n",
      "quadrille: 3\n",
      "snail: 3\n",
      "tails: 3\n",
      "mouths: 3\n",
      "obliged: 3\n",
      "around: 3\n",
      "panther: 3\n",
      "e—e—evening: 3\n",
      "trial’s: 3\n",
      "trumpet: 3\n",
      "jurors: 3\n",
      "court”: 3\n",
      "spectacles: 3\n",
      "verdict”: 3\n",
      "teacup: 3\n",
      "wrote: 3\n",
      "“give: 3\n",
      "evidence”: 3\n",
      "jurybox: 3\n",
      "“nothing: 3\n",
      "verses: 3\n",
      "book”: 2\n",
      "stupid: 2\n",
      "pleasure: 2\n",
      "picking: 2\n",
      "remarkable: 2\n",
      "late”: 2\n",
      "occurred: 2\n",
      "waistcoatpocket: 2\n",
      "started: 2\n",
      "straight: 2\n",
      "dipped: 2\n",
      "falling: 2\n",
      "plenty: 2\n",
      "cupboards: 2\n",
      "underneath: 2\n",
      "“after: 2\n",
      "tumbling: 2\n",
      "stairs: 2\n",
      "thousand: 2\n",
      "learnt: 2\n",
      "showing: 2\n",
      "latitude: 2\n",
      "longitude: 2\n",
      "presently: 2\n",
      "somewhere”: 2\n",
      "teatime: 2\n",
      "earnestly: 2\n",
      "thump: 2\n",
      "whiskers: 2\n",
      "longer: 2\n",
      "doors: 2\n",
      "threelegged: 2\n",
      "locks: 2\n",
      "longed: 2\n",
      "flowers: 2\n",
      "fountains: 2\n",
      "telescope: 2\n",
      "shutting: 2\n",
      "label: 2\n",
      "beautifully: 2\n",
      "beasts: 2\n",
      "unpleasant: 2\n",
      "friends: 2\n",
      "knife: 2\n",
      "usually: 2\n",
      "“poison”: 2\n",
      "sooner: 2\n",
      "taste: 2\n",
      "mixed: 2\n",
      "brightened: 2\n",
      "lovely: 2\n",
      "crying: 2\n",
      "advice: 2\n",
      "bring: 2\n",
      "playing: 2\n",
      "forgot: 2\n",
      "sending: 2\n",
      "presents: 2\n",
      "nonsense: 2\n",
      "struck: 2\n",
      "ashamed: 2\n",
      "trotting: 2\n",
      "today: 2\n",
      "ringlets: 2\n",
      "knows: 2\n",
      "and—oh: 2\n",
      "paris: 2\n",
      "neatly: 2\n",
      "claws: 2\n",
      "smiling: 2\n",
      "words”: 2\n",
      "‘come: 2\n",
      "rapidly: 2\n",
      "narrow: 2\n",
      "ever”: 2\n",
      "declare: 2\n",
      "conclusion: 2\n",
      "wherever: 2\n",
      "today”: 2\n",
      "splashing: 2\n",
      "swimming: 2\n",
      "mouse”: 2\n",
      "english”: 2\n",
      "clear: 2\n",
      "fright: 2\n",
      "feelings: 2\n",
      "quiet: 2\n",
      "purring: 2\n",
      "nicely: 2\n",
      "catching: 2\n",
      "dogs”: 2\n",
      "brown: 2\n",
      "them—and: 2\n",
      "belongs: 2\n",
      "useful: 2\n",
      "sorrowful: 2\n",
      "assembled: 2\n",
      "older: 2\n",
      "allow: 2\n",
      "knowing: 2\n",
      "authority: 2\n",
      "whose: 2\n",
      "morcar: 2\n",
      "earls: 2\n",
      "mercia: 2\n",
      "archbishop: 2\n",
      "“found: 2\n",
      "hurriedly: 2\n",
      "offer: 2\n",
      "“speak: 2\n",
      "what’s: 2\n",
      "smile: 2\n",
      "caucusrace”: 2\n",
      "panting: 2\n",
      "forehead: 2\n",
      "position: 2\n",
      "“everybody: 2\n",
      "voices: 2\n",
      "comfits: 2\n",
      "luckily: 2\n",
      "thimble”: 2\n",
      "thimble: 2\n",
      "absurd: 2\n",
      "simply: 2\n",
      "caused: 2\n",
      "this—: 2\n",
      "wasting: 2\n",
      "‘i’ll: 2\n",
      "humbly: 2\n",
      "sort”: 2\n",
      "temper”: 2\n",
      "tongue: 2\n",
      "back”: 2\n",
      "question”: 2\n",
      "sensation: 2\n",
      "throat”: 2\n",
      "“nobody: 2\n",
      "more”: 2\n",
      "lonely: 2\n",
      "footsteps: 2\n",
      "ferrets: 2\n",
      "nowhere: 2\n",
      "quick: 2\n",
      "messages: 2\n",
      "directly: 2\n",
      "nurse: 2\n",
      "ordering: 2\n",
      "drunk: 2\n",
      "stoop: 2\n",
      "elbow: 2\n",
      "curled: 2\n",
      "unhappy: 2\n",
      "home”: 2\n",
      "fancied: 2\n",
      "“shall: 2\n",
      "outside: 2\n",
      "“fetch: 2\n",
      "trembled: 2\n",
      "proved: 2\n",
      "won’t”: 2\n",
      "snatch: 2\n",
      "crash: 2\n",
      "concluded: 2\n",
      "apples: 2\n",
      "honour”: 2\n",
      "“here: 2\n",
      "goose: 2\n",
      "honour: 2\n",
      "little”: 2\n",
      "fellow: 2\n",
      "feeble: 2\n",
      "squeaking: 2\n",
      "comes: 2\n",
      "fellow”: 2\n",
      "barrowful: 2\n",
      "shower: 2\n",
      "pebbles: 2\n",
      "rattling: 2\n",
      "“you’d: 2\n",
      "cakes: 2\n",
      "delighted: 2\n",
      "giving: 2\n",
      "wandered: 2\n",
      "plan”: 2\n",
      "excellent: 2\n",
      "smallest: 2\n",
      "stretching: 2\n",
      "coaxing: 2\n",
      "thistle: 2\n",
      "stretched: 2\n",
      "tiptoe: 2\n",
      "smoking: 2\n",
      "addressed: 2\n",
      "encouraging: 2\n",
      "“explain: 2\n",
      "contemptuously: 2\n",
      "remarks: 2\n",
      "anger: 2\n",
      "unfolded: 2\n",
      "together”: 2\n",
      "william”: 2\n",
      "lasted: 2\n",
      "stuff: 2\n",
      "changing: 2\n",
      "wretched: 2\n",
      "“you’ll: 2\n",
      "patiently: 2\n",
      "yawned: 2\n",
      "merely: 2\n",
      "taller: 2\n",
      "difficult: 2\n",
      "broke: 2\n",
      "nibbled: 2\n",
      "righthand: 2\n",
      "violent: 2\n",
      "lefthand: 2\n",
      "alarm: 2\n",
      "below: 2\n",
      "follow: 2\n",
      "distant: 2\n",
      "wandering: 2\n",
      "beating: 2\n",
      "about”: 2\n",
      "attending: 2\n",
      "doubtfully: 2\n",
      "changes: 2\n",
      "telling: 2\n",
      "tasted: 2\n",
      "matters: 2\n",
      "yours: 2\n",
      "entangled: 2\n",
      "branches: 2\n",
      "lives: 2\n",
      "there”: 2\n",
      "fishfootman: 2\n",
      "invitation: 2\n",
      "order: 2\n",
      "laughed: 2\n",
      "knocking”: 2\n",
      "secondly: 2\n",
      "inside: 2\n",
      "extraordinary: 2\n",
      "constant: 2\n",
      "“till: 2\n",
      "muttered: 2\n",
      "leaning: 2\n",
      "stirring: 2\n",
      "cauldron: 2\n",
      "moment’s: 2\n",
      "pause: 2\n",
      "sneeze: 2\n",
      "again—: 2\n",
      "grin”: 2\n",
      "introduce: 2\n",
      "throwing: 2\n",
      "plates: 2\n",
      "dishes: 2\n",
      "already: 2\n",
      "doing”: 2\n",
      "faster: 2\n",
      "takes: 2\n",
      "singing: 2\n",
      "sneezes: 2\n",
      "words—: 2\n",
      "thoroughly: 2\n",
      "threw: 2\n",
      "missed: 2\n",
      "twist: 2\n",
      "neither: 2\n",
      "startled: 2\n",
      "explanation: 2\n",
      "denied: 2\n",
      "direction”: 2\n",
      "“lives: 2\n",
      "became: 2\n",
      "appear: 2\n",
      "raving: 2\n",
      "giddy”: 2\n",
      "shaped: 2\n",
      "raised: 2\n",
      "“suppose: 2\n",
      "teaparty: 2\n",
      "front: 2\n",
      "using: 2\n",
      "cushion: 2\n",
      "resting: 2\n",
      "room”: 2\n",
      "wine”: 2\n",
      "“your: 2\n",
      "wants: 2\n",
      "personal: 2\n",
      "“exactly: 2\n",
      "mean”: 2\n",
      "break: 2\n",
      "month: 2\n",
      "uneasily: 2\n",
      "butter: 2\n",
      "meekly: 2\n",
      "watch”: 2\n",
      "tells: 2\n",
      "“does: 2\n",
      "music”: 2\n",
      "clock: 2\n",
      "halfpast: 2\n",
      "perhaps”: 2\n",
      "spoon: 2\n",
      "pinch: 2\n",
      "we’ve: 2\n",
      "yawning: 2\n",
      "“wake: 2\n",
      "pinched: 2\n",
      "“tell: 2\n",
      "were”: 2\n",
      "“take: 2\n",
      "triumphantly: 2\n",
      "sulkily: 2\n",
      "learning: 2\n",
      "draw”: 2\n",
      "“treacle”: 2\n",
      "“let’s: 2\n",
      "advantage: 2\n",
      "treacle: 2\n",
      "from”: 2\n",
      "interrupting: 2\n",
      "rubbing: 2\n",
      "manner: 2\n",
      "closed: 2\n",
      "talk”: 2\n",
      "curious”: 2\n",
      "once”: 2\n",
      "roses: 2\n",
      "painting: 2\n",
      "beheaded”: 2\n",
      "instead: 2\n",
      "themselves: 2\n",
      "carrying: 2\n",
      "courtiers: 2\n",
      "ornamented: 2\n",
      "royal: 2\n",
      "king’s: 2\n",
      "crimson: 2\n",
      "doubtful: 2\n",
      "smiled: 2\n",
      "cards: 2\n",
      "“turn: 2\n",
      "“leave: 2\n",
      "duchess”: 2\n",
      "hush”: 2\n",
      "‘what: 2\n",
      "scream: 2\n",
      "laughing: 2\n",
      "unrolled: 2\n",
      "quarrelling: 2\n",
      "stamping: 2\n",
      "shouting: 2\n",
      "dispute: 2\n",
      "confusing: 2\n",
      "alive: 2\n",
      "game”: 2\n",
      "cat’s: 2\n",
      "removed”: 2\n",
      "fight: 2\n",
      "collected: 2\n",
      "entirely: 2\n",
      "disappeared: 2\n",
      "wildly: 2\n",
      "turtle’s: 2\n",
      "forget: 2\n",
      "hasn’t: 2\n",
      "keeping: 2\n",
      "“’tis: 2\n",
      "mustard: 2\n",
      "agree: 2\n",
      "imagine: 2\n",
      "custody: 2\n",
      "executions: 2\n",
      "watched: 2\n",
      "never”: 2\n",
      "heart: 2\n",
      "finished”: 2\n",
      "heavy: 2\n",
      "sobbing: 2\n",
      "tortoise: 2\n",
      "tongue”: 2\n",
      "proud: 2\n",
      "relief: 2\n",
      "regular: 2\n",
      "recovered: 2\n",
      "delightful: 2\n",
      "turtles: 2\n",
      "advance: 2\n",
      "figure”: 2\n",
      "dance”: 2\n",
      "sing”: 2\n",
      "treading: 2\n",
      "porpoise: 2\n",
      "kindly: 2\n",
      "crumbs”: 2\n",
      "shoes”: 2\n",
      "thoughts: 2\n",
      "toes”: 2\n",
      "editions: 2\n",
      "follows: 2\n",
      "tones: 2\n",
      "persisted: 2\n",
      "“beautiful: 2\n",
      "evening: 2\n",
      "cares: 2\n",
      "beginning”: 2\n",
      "stole: 2\n",
      "scroll: 2\n",
      "parchment: 2\n",
      "“stupid: 2\n",
      "quickly: 2\n",
      "slate: 2\n",
      "blasts: 2\n",
      "summer: 2\n",
      "singers: 2\n",
      "“—and: 2\n",
      "remember”: 2\n",
      "miserable: 2\n",
      "guineapig: 2\n",
      "outside”: 2\n",
      "majesty: 2\n",
      "crossexamine: 2\n",
      "undertone: 2\n",
      "goldfish: 2\n",
      "accident: 2\n",
      "whatever”: 2\n",
      "“unimportant: 2\n",
      "notebook: 2\n",
      "high”: 2\n",
      "directed: 2\n",
      "signed: 2\n",
      "proves: 2\n",
      "returned: 2\n",
      "wonderful: 2\n",
      "teacups: 2\n",
      "wonderland: 2\n",
      "conversations: 1\n",
      "“without: 1\n",
      "conversations”: 1\n",
      "daisychain: 1\n",
      "daisies: 1\n",
      "afterwards: 1\n",
      "wondered: 1\n",
      "actually: 1\n",
      "flashed: 1\n",
      "burning: 1\n",
      "field: 1\n",
      "fortunately: 1\n",
      "hedge: 1\n",
      "tunnel: 1\n",
      "stopping: 1\n",
      "bookshelves: 1\n",
      "shelves: 1\n",
      "labelled: 1\n",
      "“orange: 1\n",
      "marmalade”: 1\n",
      "disappointment: 1\n",
      "empty: 1\n",
      "killing: 1\n",
      "“well”: 1\n",
      "brave: 1\n",
      "house”: 1\n",
      "somewhere: 1\n",
      "centre: 1\n",
      "schoolroom: 1\n",
      "practice: 1\n",
      "“—yes: 1\n",
      "distance—but: 1\n",
      "downward: 1\n",
      "antipathies: 1\n",
      "“—but: 1\n",
      "country: 1\n",
      "ma’am: 1\n",
      "zealand: 1\n",
      "australia”: 1\n",
      "curtsey: 1\n",
      "spoke—fancy: 1\n",
      "curtseying: 1\n",
      "ignorant: 1\n",
      "“dinah’ll: 1\n",
      "tonight: 1\n",
      "saucer: 1\n",
      "dreamy: 1\n",
      "bats”: 1\n",
      "dozing: 1\n",
      "truth: 1\n",
      "sticks: 1\n",
      "overhead: 1\n",
      "hurrying: 1\n",
      "getting”: 1\n",
      "lamps: 1\n",
      "locked: 1\n",
      "solid: 1\n",
      "belong: 1\n",
      "curtain: 1\n",
      "fifteen: 1\n",
      "fitted: 1\n",
      "rathole: 1\n",
      "knelt: 1\n",
      "loveliest: 1\n",
      "wander: 1\n",
      "doorway: 1\n",
      "through”: 1\n",
      "lately: 1\n",
      "telescopes: 1\n",
      "printed: 1\n",
      "letters: 1\n",
      "‘poison’: 1\n",
      "histories: 1\n",
      "burnt: 1\n",
      "eaten: 1\n",
      "redhot: 1\n",
      "poker: 1\n",
      "bleeds: 1\n",
      "disagree: 1\n",
      "flavour: 1\n",
      "cherrytart: 1\n",
      "custard: 1\n",
      "pineapple: 1\n",
      "roast: 1\n",
      "turkey: 1\n",
      "toffee: 1\n",
      "buttered: 1\n",
      "toast: 1\n",
      "feeling”: 1\n",
      "telescope”: 1\n",
      "shrink: 1\n",
      "flame: 1\n",
      "blown: 1\n",
      "plainly: 1\n",
      "climb: 1\n",
      "slippery: 1\n",
      "advise: 1\n",
      "minute”: 1\n",
      "seldom: 1\n",
      "scolded: 1\n",
      "cheated: 1\n",
      "pretending: 1\n",
      "pretend: 1\n",
      "respectable: 1\n",
      "person”: 1\n",
      "currants: 1\n",
      "creep: 1\n",
      "happens”: 1\n",
      "common: 1\n",
      "“curiouser: 1\n",
      "curiouser”: 1\n",
      "largest: 1\n",
      "goodbye: 1\n",
      "feet”: 1\n",
      "stockings: 1\n",
      "can—but: 1\n",
      "christmas”: 1\n",
      "planning: 1\n",
      "carrier”: 1\n",
      "one’s: 1\n",
      "hearthrug: 1\n",
      "fender: 1\n",
      "talking”: 1\n",
      "hopeless: 1\n",
      "shedding: 1\n",
      "gallons: 1\n",
      "reaching: 1\n",
      "dried: 1\n",
      "returning: 1\n",
      "splendidly: 1\n",
      "dressed: 1\n",
      "waiting”: 1\n",
      "desperate: 1\n",
      "sir—”: 1\n",
      "skurried: 1\n",
      "darkness: 1\n",
      "fanning: 1\n",
      "“dear: 1\n",
      "puzzle”: 1\n",
      "thirteen: 1\n",
      "is—oh: 1\n",
      "twenty: 1\n",
      "multiplication: 1\n",
      "signify: 1\n",
      "geography: 1\n",
      "london: 1\n",
      "rome—no: 1\n",
      "little—’”: 1\n",
      "crocodile: 1\n",
      "improve: 1\n",
      "shining: 1\n",
      "waters: 1\n",
      "scale: 1\n",
      "cheerfully: 1\n",
      "welcome: 1\n",
      "fishes: 1\n",
      "jaws”: 1\n",
      "dear’: 1\n",
      "else’—but: 1\n",
      "burst: 1\n",
      "measure: 1\n",
      "avoid: 1\n",
      "escape”: 1\n",
      "existence: 1\n",
      "garden”: 1\n",
      "speed: 1\n",
      "splash: 1\n",
      "somehow: 1\n",
      "railway”: 1\n",
      "seaside: 1\n",
      "coast: 1\n",
      "bathing: 1\n",
      "machines: 1\n",
      "wooden: 1\n",
      "spades: 1\n",
      "lodging: 1\n",
      "houses: 1\n",
      "railway: 1\n",
      "station: 1\n",
      "punished: 1\n",
      "drowned: 1\n",
      "walrus: 1\n",
      "hippopotamus: 1\n",
      "trying”: 1\n",
      "brother’s: 1\n",
      "latin: 1\n",
      "grammar: 1\n",
      "mouse—of: 1\n",
      "mouse—to: 1\n",
      "mouse—a: 1\n",
      "mouse—o: 1\n",
      "inquisitively: 1\n",
      "daresay: 1\n",
      "conqueror”: 1\n",
      "chatte”: 1\n",
      "lessonbook: 1\n",
      "quiver: 1\n",
      "animal’s: 1\n",
      "passionate: 1\n",
      "soothing: 1\n",
      "lazily: 1\n",
      "licking: 1\n",
      "washing: 1\n",
      "face—and: 1\n",
      "nurse—and: 1\n",
      "mice—oh: 1\n",
      "bristling: 1\n",
      "family: 1\n",
      "hated: 1\n",
      "nasty: 1\n",
      "vulgar: 1\n",
      "you—are: 1\n",
      "fond—of—of: 1\n",
      "brighteyed: 1\n",
      "terrier: 1\n",
      "curly: 1\n",
      "dinner: 1\n",
      "things—i: 1\n",
      "farmer: 1\n",
      "hundred: 1\n",
      "pounds: 1\n",
      "kills: 1\n",
      "commotion: 1\n",
      "softly: 1\n",
      "“mouse: 1\n",
      "caucusrace: 1\n",
      "queerlooking: 1\n",
      "bank—the: 1\n",
      "draggled: 1\n",
      "feathers: 1\n",
      "clinging: 1\n",
      "dripping: 1\n",
      "cross: 1\n",
      "consultation: 1\n",
      "familiarly: 1\n",
      "known: 1\n",
      "positively: 1\n",
      "refused: 1\n",
      "fixed: 1\n",
      "“ahem”: 1\n",
      "driest: 1\n",
      "‘william: 1\n",
      "conqueror: 1\n",
      "favoured: 1\n",
      "submitted: 1\n",
      "leaders: 1\n",
      "accustomed: 1\n",
      "usurpation: 1\n",
      "conquest: 1\n",
      "edwin: 1\n",
      "northumbria—’”: 1\n",
      "“ugh”: 1\n",
      "shiver: 1\n",
      "speak”: 1\n",
      "proceed: 1\n",
      "‘edwin: 1\n",
      "northumbria: 1\n",
      "declared: 1\n",
      "stigand: 1\n",
      "patriotic: 1\n",
      "canterbury: 1\n",
      "advisable—’”: 1\n",
      "crossly: 1\n",
      "means”: 1\n",
      "find”: 1\n",
      "“‘—found: 1\n",
      "advisable: 1\n",
      "edgar: 1\n",
      "atheling: 1\n",
      "william’s: 1\n",
      "conduct: 1\n",
      "moderate: 1\n",
      "insolence: 1\n",
      "normans—’: 1\n",
      "case”: 1\n",
      "rising: 1\n",
      "meeting: 1\n",
      "adjourn: 1\n",
      "immediate: 1\n",
      "adoption: 1\n",
      "energetic: 1\n",
      "remedies—”: 1\n",
      "either”: 1\n",
      "tittered: 1\n",
      "audibly: 1\n",
      "paused: 1\n",
      "inclined: 1\n",
      "winter: 1\n",
      "racecourse: 1\n",
      "circle: 1\n",
      "exact: 1\n",
      "shape: 1\n",
      "matter”: 1\n",
      "placed: 1\n",
      "shakespeare: 1\n",
      "calling: 1\n",
      "“prizes: 1\n",
      "despair: 1\n",
      "pulled: 1\n",
      "prizes: 1\n",
      "apiece: 1\n",
      "prize: 1\n",
      "pocket”: 1\n",
      "“hand: 1\n",
      "presented: 1\n",
      "acceptance: 1\n",
      "elegant: 1\n",
      "laugh: 1\n",
      "complained: 1\n",
      "theirs: 1\n",
      "patted: 1\n",
      "begged: 1\n",
      "promised: 1\n",
      "hate—c: 1\n",
      "“mine: 1\n",
      "tale”: 1\n",
      "mouse’s: 1\n",
      "“fury: 1\n",
      "prosecute: 1\n",
      "you—come: 1\n",
      "denial: 1\n",
      "‘such: 1\n",
      "breath’: 1\n",
      "jury’: 1\n",
      "cunning: 1\n",
      "condemn: 1\n",
      "death’”: 1\n",
      "attending”: 1\n",
      "fifth: 1\n",
      "knot”: 1\n",
      "insult: 1\n",
      "growled: 1\n",
      "quicker: 1\n",
      "stay”: 1\n",
      "daughter: 1\n",
      "lesson: 1\n",
      "snappishly: 1\n",
      "patience: 1\n",
      "oyster”: 1\n",
      "addressing: 1\n",
      "“she’d: 1\n",
      "“dinah’s: 1\n",
      "magpie: 1\n",
      "wrapping: 1\n",
      "nightair: 1\n",
      "canary: 1\n",
      "various: 1\n",
      "pretexts: 1\n",
      "dinah”: 1\n",
      "lowspirited: 1\n",
      "sends: 1\n",
      "goodnaturedly: 1\n",
      "seen—everything: 1\n",
      "completely: 1\n",
      "pointed: 1\n",
      "housemaid”: 1\n",
      "he’ll: 1\n",
      "finds: 1\n",
      "gloves—that: 1\n",
      "brass: 1\n",
      "rabbit”: 1\n",
      "engraved: 1\n",
      "knocking: 1\n",
      "upstairs: 1\n",
      "seems”: 1\n",
      "dinah’ll: 1\n",
      "next”: 1\n",
      "fancying: 1\n",
      "“‘miss: 1\n",
      "walk’: 1\n",
      "‘coming: 1\n",
      "hoped: 1\n",
      "pairs: 1\n",
      "lookingglass: 1\n",
      "nevertheless: 1\n",
      "uncorked: 1\n",
      "happen”: 1\n",
      "“whenever: 1\n",
      "expected: 1\n",
      "pressing: 1\n",
      "ceiling: 1\n",
      "enough—i: 1\n",
      "more—as: 1\n",
      "door—i: 1\n",
      "kneel: 1\n",
      "resource: 1\n",
      "whatever: 1\n",
      "magic: 1\n",
      "pleasanter: 1\n",
      "rabbits: 1\n",
      "rabbithole—and: 1\n",
      "yet—and: 1\n",
      "yet—it’s: 1\n",
      "fairytales: 1\n",
      "one—but: 1\n",
      "that’ll: 1\n",
      "comfort: 1\n",
      "way—never: 1\n",
      "woman—but: 1\n",
      "then—always: 1\n",
      "foolish: 1\n",
      "alice”: 1\n",
      "lessonbooks”: 1\n",
      "“mary: 1\n",
      "moment”: 1\n",
      "inwards: 1\n",
      "attempt: 1\n",
      "failure: 1\n",
      "possible: 1\n",
      "cucumberframe: 1\n",
      "voice—the: 1\n",
      "rabbit’s—“pat: 1\n",
      "“digging: 1\n",
      "pronounced: 1\n",
      "“arrum”: 1\n",
      "fills: 1\n",
      "whispers: 1\n",
      "coward”: 1\n",
      "shrieks: 1\n",
      "cucumberframes: 1\n",
      "pulling: 1\n",
      "longer”: 1\n",
      "rumbling: 1\n",
      "cartwheels: 1\n",
      "“where’s: 1\n",
      "ladder—why: 1\n",
      "other—bill: 1\n",
      "lad—here: 1\n",
      "corner—no: 1\n",
      "first—they: 1\n",
      "yet—oh: 1\n",
      "particular—here: 1\n",
      "rope—will: 1\n",
      "bear—mind: 1\n",
      "loose: 1\n",
      "slate—oh: 1\n",
      "below”: 1\n",
      "crash—“now: 1\n",
      "that—it: 1\n",
      "fancy—who’s: 1\n",
      "chimney—nay: 1\n",
      "it—that: 1\n",
      "then—bill’s: 1\n",
      "down—here: 1\n",
      "chimney”: 1\n",
      "fireplace: 1\n",
      "animal: 1\n",
      "scratching: 1\n",
      "scrambling: 1\n",
      "along—“catch: 1\n",
      "hedge”: 1\n",
      "voices—“hold: 1\n",
      "head—brandy: 1\n",
      "now—don’t: 1\n",
      "choke: 1\n",
      "him—how: 1\n",
      "know—no: 1\n",
      "thank: 1\n",
      "now—but: 1\n",
      "flustered: 1\n",
      "you—all: 1\n",
      "jackinthebox: 1\n",
      "skyrocket”: 1\n",
      "produced: 1\n",
      "cakes”: 1\n",
      "swallowed: 1\n",
      "thick: 1\n",
      "arranged: 1\n",
      "peering: 1\n",
      "enormous: 1\n",
      "feebly: 1\n",
      "touch: 1\n",
      "“poor: 1\n",
      "whistle: 1\n",
      "terribly: 1\n",
      "spite: 1\n",
      "whereupon: 1\n",
      "rushed: 1\n",
      "worry: 1\n",
      "dodged: 1\n",
      "tumbled: 1\n",
      "heels: 1\n",
      "carthorse: 1\n",
      "trampled: 1\n",
      "series: 1\n",
      "charges: 1\n",
      "forwards: 1\n",
      "barking: 1\n",
      "hoarsely: 1\n",
      "puppy’s: 1\n",
      "faint: 1\n",
      "leant: 1\n",
      "buttercup: 1\n",
      "fanned: 1\n",
      "teaching: 1\n",
      "tricks: 1\n",
      "if—if: 1\n",
      "see—how: 1\n",
      "blades: 1\n",
      "circumstances: 1\n",
      "languid: 1\n",
      "shyly: 1\n",
      "present—at: 1\n",
      "sternly: 1\n",
      "clearly”: 1\n",
      "sizes: 1\n",
      "confusing”: 1\n",
      "isn’t”: 1\n",
      "chrysalis—you: 1\n",
      "know—and: 1\n",
      "butterfly: 1\n",
      "“you”: 1\n",
      "irritated: 1\n",
      "caterpillar’s: 1\n",
      "state: 1\n",
      "promising: 1\n",
      "“keep: 1\n",
      "swallowing: 1\n",
      "puffed: 1\n",
      "used—and: 1\n",
      "“can’t: 1\n",
      "“repeat: 1\n",
      "william’”: 1\n",
      "began—: 1\n",
      "incessantly: 1\n",
      "head—: 1\n",
      "feared: 1\n",
      "injure: 1\n",
      "brain: 1\n",
      "uncommonly: 1\n",
      "backsomersault: 1\n",
      "door—: 1\n",
      "limbs: 1\n",
      "supple: 1\n",
      "ointment—one: 1\n",
      "shilling: 1\n",
      "couple”: 1\n",
      "tougher: 1\n",
      "bones: 1\n",
      "beak—: 1\n",
      "argued: 1\n",
      "muscular: 1\n",
      "strength: 1\n",
      "steady: 1\n",
      "balanced: 1\n",
      "nose—: 1\n",
      "awfully: 1\n",
      "clever”: 1\n",
      "stairs”: 1\n",
      "afraid”: 1\n",
      "“some: 1\n",
      "altered”: 1\n",
      "size”: 1\n",
      "contradicted: 1\n",
      "losing: 1\n",
      "content: 1\n",
      "“three: 1\n",
      "rearing: 1\n",
      "upright: 1\n",
      "piteous: 1\n",
      "offended”: 1\n",
      "chose: 1\n",
      "crawled: 1\n",
      "shorter”: 1\n",
      "mushroom”: 1\n",
      "which”: 1\n",
      "closely: 1\n",
      "swallow: 1\n",
      "morsel: 1\n",
      "head’s: 1\n",
      "last”: 1\n",
      "immense: 1\n",
      "length: 1\n",
      "stalk: 1\n",
      "result: 1\n",
      "curving: 1\n",
      "graceful: 1\n",
      "zigzag: 1\n",
      "flown: 1\n",
      "wings: 1\n",
      "“serpent”: 1\n",
      "alone”: 1\n",
      "“serpent: 1\n",
      "subdued: 1\n",
      "roots: 1\n",
      "banks: 1\n",
      "hedges”: 1\n",
      "pleasing: 1\n",
      "hatching: 1\n",
      "eggs”: 1\n",
      "lookout: 1\n",
      "weeks”: 1\n",
      "sorry: 1\n",
      "annoyed”: 1\n",
      "highest: 1\n",
      "wood”: 1\n",
      "raising: 1\n",
      "needs: 1\n",
      "wriggling: 1\n",
      "a—i’m: 1\n",
      "invent: 1\n",
      "something”: 1\n",
      "“i—i’m: 1\n",
      "girl”: 1\n",
      "deepest: 1\n",
      "contempt: 1\n",
      "denying: 1\n",
      "truthful: 1\n",
      "adding: 1\n",
      "crouched: 1\n",
      "untwist: 1\n",
      "shorter: 1\n",
      "garden—how: 1\n",
      "“whoever: 1\n",
      "“it’ll: 1\n",
      "frighten: 1\n",
      "wits”: 1\n",
      "wood—she: 1\n",
      "judging: 1\n",
      "fish—and: 1\n",
      "rapped: 1\n",
      "knuckles: 1\n",
      "footmen: 1\n",
      "powdered: 1\n",
      "crept: 1\n",
      "producing: 1\n",
      "frogfootman: 1\n",
      "“from: 1\n",
      "curls: 1\n",
      "stupidly: 1\n",
      "knocked: 1\n",
      "reasons: 1\n",
      "within—a: 1\n",
      "kettle: 1\n",
      "knock: 1\n",
      "uncivil: 1\n",
      "questions—how: 1\n",
      "tomorrow—”: 1\n",
      "skimming: 1\n",
      "footman’s: 1\n",
      "grazed: 1\n",
      "maybe”: 1\n",
      "louder: 1\n",
      "dreadful”: 1\n",
      "argue: 1\n",
      "drive: 1\n",
      "crazy”: 1\n",
      "variations: 1\n",
      "days”: 1\n",
      "“anything: 1\n",
      "whistling: 1\n",
      "desperately: 1\n",
      "“he’s: 1\n",
      "idiotic”: 1\n",
      "smoke: 1\n",
      "stool: 1\n",
      "sneezed: 1\n",
      "occasionally: 1\n",
      "alternately: 1\n",
      "hearth: 1\n",
      "grinning: 1\n",
      "manners: 1\n",
      "grins: 1\n",
      "violence: 1\n",
      "fact”: 1\n",
      "within: 1\n",
      "baby—the: 1\n",
      "fireirons: 1\n",
      "saucepans: 1\n",
      "blows: 1\n",
      "agony: 1\n",
      "terror: 1\n",
      "precious: 1\n",
      "nose”: 1\n",
      "unusually: 1\n",
      "saucepan: 1\n",
      "minded: 1\n",
      "does”: 1\n",
      "advantage”: 1\n",
      "twentyfour: 1\n",
      "axis—”: 1\n",
      "“talking: 1\n",
      "axes”: 1\n",
      "“chop: 1\n",
      "glanced: 1\n",
      "“twentyfour: 1\n",
      "bother: 1\n",
      "abide: 1\n",
      "figures”: 1\n",
      "lullaby: 1\n",
      "shake: 1\n",
      "roughly: 1\n",
      "annoy: 1\n",
      "teases”: 1\n",
      "verse: 1\n",
      "howled: 1\n",
      "enjoy: 1\n",
      "pleases”: 1\n",
      "flinging: 1\n",
      "fryingpan: 1\n",
      "queershaped: 1\n",
      "starfish”: 1\n",
      "snorting: 1\n",
      "steamengine: 1\n",
      "doubling: 1\n",
      "straightening: 1\n",
      "tight: 1\n",
      "prevent: 1\n",
      "undoing: 1\n",
      "murder: 1\n",
      "behind”: 1\n",
      "grunt”: 1\n",
      "expressing: 1\n",
      "turnup: 1\n",
      "snout: 1\n",
      "extremely: 1\n",
      "sobbing”: 1\n",
      "seriously: 1\n",
      "sobbed: 1\n",
      "carry: 1\n",
      "relieved: 1\n",
      "handsome: 1\n",
      "them—”: 1\n",
      "seeing: 1\n",
      "bough: 1\n",
      "yards: 1\n",
      "goodnatured: 1\n",
      "teeth: 1\n",
      "treated: 1\n",
      "respect: 1\n",
      "“cheshire: 1\n",
      "puss”: 1\n",
      "wider: 1\n",
      "depends: 1\n",
      "where—”: 1\n",
      "visit: 1\n",
      "people”: 1\n",
      "“we’re: 1\n",
      "dog’s: 1\n",
      "grant: 1\n",
      "growls: 1\n",
      "therefore: 1\n",
      "growling”: 1\n",
      "invited: 1\n",
      "happening: 1\n",
      "“bythebye: 1\n",
      "baby”: 1\n",
      "would”: 1\n",
      "hatters: 1\n",
      "mad—at: 1\n",
      "march”: 1\n",
      "branch: 1\n",
      "appearing: 1\n",
      "vanishing: 1\n",
      "ending: 1\n",
      "farther: 1\n",
      "chimneys: 1\n",
      "thatched: 1\n",
      "towards: 1\n",
      "instead”: 1\n",
      "elbows: 1\n",
      "armchair: 1\n",
      "invited”: 1\n",
      "table”: 1\n",
      "three”: 1\n",
      "cutting”: 1\n",
      "remarks”: 1\n",
      "severity: 1\n",
      "rude”: 1\n",
      "raven: 1\n",
      "writingdesk”: 1\n",
      "they’ve: 1\n",
      "riddles—i: 1\n",
      "least—at: 1\n",
      "say—that’s: 1\n",
      "see’”: 1\n",
      "like’”: 1\n",
      "breathe: 1\n",
      "sleep’: 1\n",
      "breathe’”: 1\n",
      "ravens: 1\n",
      "writingdesks: 1\n",
      "fourth”: 1\n",
      "wrong”: 1\n",
      "works”: 1\n",
      "butter”: 1\n",
      "crumbs: 1\n",
      "grumbled: 1\n",
      "breadknife”: 1\n",
      "gloomily: 1\n",
      "readily: 1\n",
      "stays: 1\n",
      "hatter’s: 1\n",
      "poured: 1\n",
      "riddle: 1\n",
      "answer”: 1\n",
      "slightest: 1\n",
      "idea”: 1\n",
      "wearily: 1\n",
      "“than: 1\n",
      "waste: 1\n",
      "riddles: 1\n",
      "answers”: 1\n",
      "don’t”: 1\n",
      "accounts: 1\n",
      "terms: 1\n",
      "dinner”: 1\n",
      "then—i: 1\n",
      "liked”: 1\n",
      "manage”: 1\n",
      "mournfully: 1\n",
      "quarrelled: 1\n",
      "march—just: 1\n",
      "concert: 1\n",
      "given: 1\n",
      "‘twinkle: 1\n",
      "teatray: 1\n",
      "twinkle—’”: 1\n",
      "“twinkle: 1\n",
      "twinkle—”: 1\n",
      "bawled: 1\n",
      "‘he’s: 1\n",
      "murdering: 1\n",
      "head’”: 1\n",
      "savage”: 1\n",
      "mournful: 1\n",
      "teathings: 1\n",
      "whiles”: 1\n",
      "subject”: 1\n",
      "alarmed: 1\n",
      "proposal: 1\n",
      "shall”: 1\n",
      "asleep”: 1\n",
      "fellows: 1\n",
      "saying”: 1\n",
      "“once: 1\n",
      "sisters”: 1\n",
      "names: 1\n",
      "elsie: 1\n",
      "lacie: 1\n",
      "tillie: 1\n",
      "well—”: 1\n",
      "interest: 1\n",
      "eating: 1\n",
      "drinking: 1\n",
      "treacle”: 1\n",
      "“they’d: 1\n",
      "living: 1\n",
      "less”: 1\n",
      "nothing”: 1\n",
      "opinion”: 1\n",
      "“who’s: 1\n",
      "helped: 1\n",
      "treaclewell”: 1\n",
      "interrupt: 1\n",
      "consented: 1\n",
      "sisters—they: 1\n",
      "promise: 1\n",
      "clean: 1\n",
      "dormouse’s: 1\n",
      "unwillingly: 1\n",
      "milkjug: 1\n",
      "offend: 1\n",
      "waterwell”: 1\n",
      "treaclewell—eh: 1\n",
      "stupid”: 1\n",
      "choosing: 1\n",
      "“—well: 1\n",
      "things—everything: 1\n",
      "“—that: 1\n",
      "mousetraps: 1\n",
      "memory: 1\n",
      "muchness—you: 1\n",
      "“much: 1\n",
      "muchness”—did: 1\n",
      "drawing: 1\n",
      "muchness”: 1\n",
      "rudeness: 1\n",
      "disgust: 1\n",
      "teapot: 1\n",
      "stupidest: 1\n",
      "leading: 1\n",
      "everything’s: 1\n",
      "unlocking: 1\n",
      "then—she: 1\n",
      "flowerbeds: 1\n",
      "entrance: 1\n",
      "“look: 1\n",
      "paint: 1\n",
      "“seven: 1\n",
      "jogged: 1\n",
      "elbow”: 1\n",
      "blame: 1\n",
      "others”: 1\n",
      "deserved: 1\n",
      "spoken: 1\n",
      "him—it: 1\n",
      "tuliproots: 1\n",
      "onions”: 1\n",
      "flung: 1\n",
      "brush: 1\n",
      "unjust: 1\n",
      "things—”: 1\n",
      "chanced: 1\n",
      "roses”: 1\n",
      "we’re: 1\n",
      "afore: 1\n",
      "clubs: 1\n",
      "oblong: 1\n",
      "corners: 1\n",
      "diamonds: 1\n",
      "merrily: 1\n",
      "couples: 1\n",
      "mostly: 1\n",
      "kings: 1\n",
      "queens: 1\n",
      "recognised: 1\n",
      "noticing: 1\n",
      "velvet: 1\n",
      "processions: 1\n",
      "procession”: 1\n",
      "opposite: 1\n",
      "“idiot”: 1\n",
      "these”: 1\n",
      "pattern: 1\n",
      "backs: 1\n",
      "glaring: 1\n",
      "beast: 1\n",
      "off—”: 1\n",
      "“nonsense”: 1\n",
      "bowing: 1\n",
      "humble: 1\n",
      "trying—”: 1\n",
      "meanwhile: 1\n",
      "examining: 1\n",
      "heads”: 1\n",
      "remaining: 1\n",
      "execute: 1\n",
      "protection: 1\n",
      "flowerpot: 1\n",
      "marched: 1\n",
      "“their: 1\n",
      "evidently: 1\n",
      "roared: 1\n",
      "“it’s—it’s: 1\n",
      "peeping: 1\n",
      "“very”: 1\n",
      "“—where’s: 1\n",
      "“hush: 1\n",
      "execution”: 1\n",
      "pity’”: 1\n",
      "for’”: 1\n",
      "boxed: 1\n",
      "ears—”: 1\n",
      "laughter: 1\n",
      "places”: 1\n",
      "thunder: 1\n",
      "ridges: 1\n",
      "furrows: 1\n",
      "balls: 1\n",
      "mallets: 1\n",
      "flamingoes: 1\n",
      "double: 1\n",
      "chief: 1\n",
      "managing: 1\n",
      "comfortably: 1\n",
      "straightened: 1\n",
      "expression: 1\n",
      "bursting: 1\n",
      "provoking: 1\n",
      "crawling: 1\n",
      "ridge: 1\n",
      "furrow: 1\n",
      "doubledup: 1\n",
      "parts: 1\n",
      "played: 1\n",
      "fighting: 1\n",
      "furious: 1\n",
      "uneasy: 1\n",
      "beheading: 1\n",
      "alive”: 1\n",
      "appearance: 1\n",
      "nodded: 1\n",
      "account: 1\n",
      "someone: 1\n",
      "fairly”: 1\n",
      "complaining: 1\n",
      "quarrel: 1\n",
      "oneself: 1\n",
      "speak—and: 1\n",
      "attends: 1\n",
      "ground—and: 1\n",
      "croqueted: 1\n",
      "coming”: 1\n",
      "extremely—”: 1\n",
      "“—likely: 1\n",
      "finishing: 1\n",
      "mine—a: 1\n",
      "“allow: 1\n",
      "“however: 1\n",
      "likes”: 1\n",
      "impertinent”: 1\n",
      "king”: 1\n",
      "where”: 1\n",
      "passing: 1\n",
      "settling: 1\n",
      "difficulties: 1\n",
      "screaming: 1\n",
      "search: 1\n",
      "engaged: 1\n",
      "croqueting: 1\n",
      "helpless: 1\n",
      "ground”: 1\n",
      "appealed: 1\n",
      "settle: 1\n",
      "arguments: 1\n",
      "executioner’s: 1\n",
      "unless: 1\n",
      "beheaded: 1\n",
      "weren’t: 1\n",
      "she’d: 1\n",
      "prison”: 1\n",
      "arrow: 1\n",
      "fading: 1\n",
      "affectionately: 1\n",
      "pleasant: 1\n",
      "hopeful: 1\n",
      "without—maybe: 1\n",
      "hottempered”: 1\n",
      "vinegar: 1\n",
      "sour—and: 1\n",
      "camomile: 1\n",
      "bitter—and—and: 1\n",
      "barleysugar: 1\n",
      "sweettempered: 1\n",
      "stingy: 1\n",
      "“everything’s: 1\n",
      "squeezed: 1\n",
      "closer: 1\n",
      "uncomfortably: 1\n",
      "game’s: 1\n",
      "is—‘oh: 1\n",
      "round’”: 1\n",
      "“somebody: 1\n",
      "said”: 1\n",
      "minding: 1\n",
      "is—‘take: 1\n",
      "themselves’”: 1\n",
      "morals: 1\n",
      "waist”: 1\n",
      "experiment”: 1\n",
      "bite”: 1\n",
      "experiment: 1\n",
      "true”: 1\n",
      "“flamingoes: 1\n",
      "is—‘birds: 1\n",
      "feather: 1\n",
      "flock: 1\n",
      "together’”: 1\n",
      "bird”: 1\n",
      "“right: 1\n",
      "usual”: 1\n",
      "mineral: 1\n",
      "mustardmine: 1\n",
      "is—‘the: 1\n",
      "yours’”: 1\n",
      "attended: 1\n",
      "vegetable: 1\n",
      "is—‘be: 1\n",
      "be’—or: 1\n",
      "simply—‘never: 1\n",
      "otherwise’”: 1\n",
      "chose”: 1\n",
      "“pray: 1\n",
      "trouble”: 1\n",
      "present: 1\n",
      "cheap: 1\n",
      "present”: 1\n",
      "birthday: 1\n",
      "“thinking: 1\n",
      "worried: 1\n",
      "favourite: 1\n",
      "‘moral’: 1\n",
      "linked: 1\n",
      "tremble: 1\n",
      "thunderstorm: 1\n",
      "warning”: 1\n",
      "“either: 1\n",
      "choice”: 1\n",
      "choice: 1\n",
      "absence: 1\n",
      "shade: 1\n",
      "delay: 1\n",
      "sentenced: 1\n",
      "execution: 1\n",
      "history”: 1\n",
      "company: 1\n",
      "pardoned”: 1\n",
      "picture: 1\n",
      "ordered”: 1\n",
      "leaving: 1\n",
      "rubbed: 1\n",
      "chuckled: 1\n",
      "executes: 1\n",
      "ledge: 1\n",
      "pitied: 1\n",
      "sorrow”: 1\n",
      "sorrow: 1\n",
      "lady”: 1\n",
      "hollow: 1\n",
      "“once”: 1\n",
      "turtle”: 1\n",
      "occasional: 1\n",
      "exclamation: 1\n",
      "“hjckrrh”: 1\n",
      "calmly: 1\n",
      "turtle—we: 1\n",
      "tortoise—”: 1\n",
      "dull”: 1\n",
      "“drive: 1\n",
      "mayn’t: 1\n",
      "educations—in: 1\n",
      "day—”: 1\n",
      "dayschool: 1\n",
      "“with: 1\n",
      "extras”: 1\n",
      "learned: 1\n",
      "washing”: 1\n",
      "“certainly: 1\n",
      "school”: 1\n",
      "‘french: 1\n",
      "music: 1\n",
      "washing—extra’”: 1\n",
      "“living: 1\n",
      "afford: 1\n",
      "inquired: 1\n",
      "“reeling: 1\n",
      "writhing: 1\n",
      "arithmetic—ambition: 1\n",
      "distraction: 1\n",
      "uglification: 1\n",
      "derision”: 1\n",
      "‘uglification’”: 1\n",
      "lifted: 1\n",
      "uglifying”: 1\n",
      "beautify: 1\n",
      "means—to—make—anything—prettier”: 1\n",
      "uglify: 1\n",
      "simpleton”: 1\n",
      "encouraged: 1\n",
      "learn”: 1\n",
      "mystery”: 1\n",
      "counting: 1\n",
      "subjects: 1\n",
      "flappers: 1\n",
      "“—mystery: 1\n",
      "ancient: 1\n",
      "modern: 1\n",
      "seaography: 1\n",
      "drawling—the: 1\n",
      "drawlingmaster: 1\n",
      "congereel: 1\n",
      "drawling: 1\n",
      "fainting: 1\n",
      "coils”: 1\n",
      "stiff: 1\n",
      "“hadn’t: 1\n",
      "classics: 1\n",
      "grief: 1\n",
      "“nine: 1\n",
      "lessen: 1\n",
      "eleventh: 1\n",
      "holiday”: 1\n",
      "twelfth”: 1\n",
      "games: 1\n",
      "flapper: 1\n",
      "“same: 1\n",
      "punching: 1\n",
      "cheeks: 1\n",
      "sea—”: 1\n",
      "haven’t”: 1\n",
      "alice—“and: 1\n",
      "introduced: 1\n",
      "lobster—”: 1\n",
      "tasted—”: 1\n",
      "seashore—”: 1\n",
      "lines”: 1\n",
      "“seals: 1\n",
      "salmon: 1\n",
      "cleared: 1\n",
      "jellyfish: 1\n",
      "way—”: 1\n",
      "“—you: 1\n",
      "twice—”: 1\n",
      "“each: 1\n",
      "partner”: 1\n",
      "“advance: 1\n",
      "partners—”: 1\n",
      "“—change: 1\n",
      "retire: 1\n",
      "order”: 1\n",
      "the—”: 1\n",
      "lobsters”: 1\n",
      "bound: 1\n",
      "can—”: 1\n",
      "“swim: 1\n",
      "somersault: 1\n",
      "capering: 1\n",
      "“change: 1\n",
      "yelled: 1\n",
      "“back: 1\n",
      "dropping: 1\n",
      "pretty: 1\n",
      "dancing: 1\n",
      "forepaws: 1\n",
      "sadly—: 1\n",
      "“will: 1\n",
      "faster”: 1\n",
      "shingle—will: 1\n",
      "askance—: 1\n",
      "thanked: 1\n",
      "scaly: 1\n",
      "england: 1\n",
      "france—: 1\n",
      "beloved: 1\n",
      "“they—you’ve: 1\n",
      "dinn—”: 1\n",
      "mouths—and: 1\n",
      "“crumbs: 1\n",
      "eyes—“tell: 1\n",
      "thrown: 1\n",
      "shiny”: 1\n",
      "blacking: 1\n",
      "believe”: 1\n",
      "“boots: 1\n",
      "“soles: 1\n",
      "shrimp: 1\n",
      "‘keep: 1\n",
      "anywhere: 1\n",
      "porpoise”: 1\n",
      "“wouldn’t: 1\n",
      "really”: 1\n",
      "journey: 1\n",
      "‘with: 1\n",
      "porpoise’”: 1\n",
      "‘purpose’”: 1\n",
      "adventures”: 1\n",
      "adventures—beginning: 1\n",
      "morning”: 1\n",
      "impatient: 1\n",
      "“explanations: 1\n",
      "dreadful: 1\n",
      "gained: 1\n",
      "listeners: 1\n",
      "“stand: 1\n",
      "‘’tis: 1\n",
      "sluggard’”: 1\n",
      "indeed—: 1\n",
      "baked: 1\n",
      "sugar: 1\n",
      "hair”: 1\n",
      "eyelids: 1\n",
      "trims: 1\n",
      "buttons: 1\n",
      "sands: 1\n",
      "contemptuous: 1\n",
      "shark: 1\n",
      "rises: 1\n",
      "sharks: 1\n",
      "tremulous: 1\n",
      "uncommon: 1\n",
      "explained”: 1\n",
      "dancing”: 1\n",
      "garden’”: 1\n",
      "disobey: 1\n",
      "voice—: 1\n",
      "sharing: 1\n",
      "pie—”: 1\n",
      "piecrust: 1\n",
      "gravy: 1\n",
      "share: 1\n",
      "treat: 1\n",
      "permitted: 1\n",
      "received: 1\n",
      "banquet—: 1\n",
      "stuff”: 1\n",
      "heard”: 1\n",
      "figure: 1\n",
      "quadrille”: 1\n",
      "song”: 1\n",
      "kind”: 1\n",
      "accounting: 1\n",
      "tastes: 1\n",
      "‘turtle: 1\n",
      "soup’: 1\n",
      "tureen: 1\n",
      "dainties: 1\n",
      "ennyworth: 1\n",
      "pennyworth: 1\n",
      "beauti—ful: 1\n",
      "“chorus: 1\n",
      "panted: 1\n",
      "faintly: 1\n",
      "breeze: 1\n",
      "“soo—oop: 1\n",
      "seated: 1\n",
      "throne: 1\n",
      "arrived: 1\n",
      "them—all: 1\n",
      "standing: 1\n",
      "chains: 1\n",
      "soldier: 1\n",
      "guard: 1\n",
      "them—“i: 1\n",
      "refreshments”: 1\n",
      "justice: 1\n",
      "books: 1\n",
      "judge”: 1\n",
      "frontispiece: 1\n",
      "comfortable: 1\n",
      "becoming: 1\n",
      "jurybox”: 1\n",
      "creatures”: 1\n",
      "“creatures”: 1\n",
      "jurors”: 1\n",
      "rightly: 1\n",
      "“jurymen”: 1\n",
      "begun”: 1\n",
      "names”: 1\n",
      "trial”: 1\n",
      "indignant: 1\n",
      "“silence: 1\n",
      "spell: 1\n",
      "“stupid”: 1\n",
      "neighbour: 1\n",
      "muddle: 1\n",
      "slates’ll: 1\n",
      "pencil: 1\n",
      "squeaked: 1\n",
      "juror: 1\n",
      "“herald: 1\n",
      "accusation”: 1\n",
      "follows—: 1\n",
      "“first: 1\n",
      "pardon: 1\n",
      "arminarm: 1\n",
      "“fourteenth: 1\n",
      "“fifteenth”: 1\n",
      "“sixteenth”: 1\n",
      "“write: 1\n",
      "dates: 1\n",
      "reduced: 1\n",
      "shillings: 1\n",
      "pence: 1\n",
      "“stolen”: 1\n",
      "memorandum: 1\n",
      "sell”: 1\n",
      "hatter”: 1\n",
      "fidgeted: 1\n",
      "spot”: 1\n",
      "encourage: 1\n",
      "shifting: 1\n",
      "remain: 1\n",
      "squeeze: 1\n",
      "breathe”: 1\n",
      "growing”: 1\n",
      "“you’ve: 1\n",
      "boldly: 1\n",
      "reasonable: 1\n",
      "pace”: 1\n",
      "ridiculous: 1\n",
      "fashion”: 1\n",
      "“bring: 1\n",
      "concert”: 1\n",
      "tea—not: 1\n",
      "so—and: 1\n",
      "thin—and: 1\n",
      "tea—”: 1\n",
      "dunce: 1\n",
      "twinkled: 1\n",
      "that—only: 1\n",
      "denies: 1\n",
      "part”: 1\n",
      "breadandbutter—”: 1\n",
      "executed”: 1\n",
      "speaker”: 1\n",
      "canvas: 1\n",
      "strings: 1\n",
      "newspapers: 1\n",
      "trials: 1\n",
      "attempts: 1\n",
      "applause: 1\n",
      "understood: 1\n",
      "lower”: 1\n",
      "guineapigs”: 1\n",
      "officer: 1\n",
      "pepperbox: 1\n",
      "“shan’t”: 1\n",
      "must”: 1\n",
      "folding: 1\n",
      "“pepper: 1\n",
      "mostly”: 1\n",
      "“collar: 1\n",
      "shrieked: 1\n",
      "“behead: 1\n",
      "suppress: 1\n",
      "whiskers”: 1\n",
      "“never: 1\n",
      "ache”: 1\n",
      "fumbled: 1\n",
      "“—for: 1\n",
      "“alice”: 1\n",
      "“here”: 1\n",
      "flurry: 1\n",
      "tipped: 1\n",
      "skirt: 1\n",
      "upsetting: 1\n",
      "sprawling: 1\n",
      "reminding: 1\n",
      "globe: 1\n",
      "accidentally: 1\n",
      "dismay: 1\n",
      "vague: 1\n",
      "cannot: 1\n",
      "proceed”: 1\n",
      "“until: 1\n",
      "places—all”: 1\n",
      "emphasis: 1\n",
      "haste: 1\n",
      "downwards: 1\n",
      "unable: 1\n",
      "signifies: 1\n",
      "other”: 1\n",
      "shock: 1\n",
      "pencils: 1\n",
      "diligently: 1\n",
      "overcome: 1\n",
      "gazing: 1\n",
      "“nothing”: 1\n",
      "important”: 1\n",
      "respectful: 1\n",
      "meant”: 1\n",
      "“important—unimportant—unimportant—important—”: 1\n",
      "“important”: 1\n",
      "“unimportant”: 1\n",
      "cackled: 1\n",
      "“silence”: 1\n",
      "“rule: 1\n",
      "fortytwo: 1\n",
      "persons: 1\n",
      "“nearly: 1\n",
      "rate”: 1\n",
      "“besides: 1\n",
      "invented: 1\n",
      "oldest: 1\n",
      "prisoner: 1\n",
      "to—to: 1\n",
      "somebody”: 1\n",
      "“unless: 1\n",
      "verses”: 1\n",
      "prisoner’s: 1\n",
      "handwriting”: 1\n",
      "queerest: 1\n",
      "imitated: 1\n",
      "else’s: 1\n",
      "hand”: 1\n",
      "prove: 1\n",
      "mischief: 1\n",
      "honest: 1\n",
      "clapping: 1\n",
      "clever: 1\n",
      "guilt”: 1\n",
      "“read: 1\n",
      "“where: 1\n",
      "“begin: 1\n",
      "stop”: 1\n",
      "read—: 1\n",
      "character: 1\n",
      "involved: 1\n",
      "affair: 1\n",
      "trusts: 1\n",
      "obstacle: 1\n",
      "ourselves: 1\n",
      "secret: 1\n",
      "jury—”: 1\n",
      "sixpence: 1\n",
      "attempted: 1\n",
      "saves: 1\n",
      "spreading: 1\n",
      "“—said: 1\n",
      "swim—”: 1\n",
      "cardboard: 1\n",
      "true—’: 1\n",
      "course—‘i: 1\n",
      "two—’: 1\n",
      "‘they: 1\n",
      "you’”: 1\n",
      "clearer: 1\n",
      "again—‘before: 1\n",
      "fit—’: 1\n",
      "“never”: 1\n",
      "furiously: 1\n",
      "inkstand: 1\n",
      "trickling: 1\n",
      "consider: 1\n",
      "twentieth: 1\n",
      "“sentence: 1\n",
      "first—verdict: 1\n",
      "afterwards”: 1\n",
      "“stuff: 1\n",
      "purple: 1\n",
      "cards”: 1\n",
      "flying: 1\n",
      "brushing: 1\n",
      "fluttered: 1\n",
      "dream”: 1\n",
      "kissed: 1\n",
      "setting: 1\n",
      "dreaming: 1\n",
      "fashion: 1\n",
      "dream—: 1\n",
      "dreamed: 1\n",
      "clasped: 1\n",
      "hers—she: 1\n",
      "eyes—and: 1\n",
      "listened: 1\n",
      "sister’s: 1\n",
      "rustled: 1\n",
      "by—the: 1\n",
      "splashed: 1\n",
      "neighbouring: 1\n",
      "pool—she: 1\n",
      "rattle: 1\n",
      "shared: 1\n",
      "neverending: 1\n",
      "execution—once: 1\n",
      "pigbaby: 1\n",
      "crashed: 1\n",
      "it—once: 1\n",
      "lizard’s: 1\n",
      "slatepencil: 1\n",
      "choking: 1\n",
      "believed: 1\n",
      "reality—the: 1\n",
      "rustling: 1\n",
      "rippling: 1\n",
      "reeds—the: 1\n",
      "tinkling: 1\n",
      "sheepbells: 1\n",
      "cries: 1\n",
      "shepherd: 1\n",
      "boy—and: 1\n",
      "noises: 1\n",
      "clamour: 1\n",
      "farmyard—while: 1\n",
      "lowing: 1\n",
      "cattle: 1\n",
      "lastly: 1\n",
      "pictured: 1\n",
      "aftertime: 1\n",
      "woman: 1\n",
      "riper: 1\n",
      "years: 1\n",
      "loving: 1\n",
      "childhood: 1\n",
      "gather: 1\n",
      "sorrows: 1\n",
      "remembering: 1\n",
      "childlife: 1\n",
      "happy: 1\n"
     ]
    }
   ],
   "source": [
    "# now we could remove stopwords\n",
    "# for now let's check most common words that are X characters long or longer\n",
    "all_top_words = word_counts.most_common() # so we get all the words\n",
    "# all_top_words is a list of tuples - word and count\n",
    "X = 5\n",
    "most_common_long_words = [(word, count) for word, count in all_top_words if len(word) >= X]\n",
    "# let's print the N most common long words\n",
    "for word, count in most_common_long_words:\n",
    "    print(f\"{word}: {count}\")"
   ]
  },
  {
   "cell_type": "markdown",
   "metadata": {},
   "source": [
    "## Analyzing the word counts\n",
    "\n",
    "Now you could provide some basic analysis of the word counts.\n",
    "\n",
    "### TODO in near future\n",
    "\n",
    "1. Find the most common word.\n",
    "2. Find the least common word.\n",
    "3. Find unique words. - what is the vocabulary of the text? perhaps compare with other texts.\n",
    "4. How would we find normal word forms? - hint: stemming or lemmatization"
   ]
  },
  {
   "cell_type": "code",
   "execution_count": null,
   "metadata": {
    "id": "Eh3X1q5Jv3Sv"
   },
   "outputs": [],
   "source": [
    "# so there are about 17000 symbols between the end of the book and the end of the file\n",
    "# we can use this to get rid of the footer\n",
    "# we can also use this to get rid of the header\n"
   ]
  },
  {
   "cell_type": "code",
   "execution_count": 24,
   "metadata": {
    "colab": {
     "base_uri": "https://localhost:8080/",
     "height": 178
    },
    "id": "_KRriyG20eQp",
    "outputId": "4bbbb518-2c87-4912-9e8a-87ae8f9d0635"
   },
   "outputs": [
    {
     "ename": "ValueError",
     "evalue": "ignored",
     "output_type": "error",
     "traceback": [
      "\u001b[0;31m---------------------------------------------------------------------------\u001b[0m",
      "\u001b[0;31mValueError\u001b[0m                                Traceback (most recent call last)",
      "\u001b[0;32m<ipython-input-24-25747fe91969>\u001b[0m in \u001b[0;36m<cell line: 1>\u001b[0;34m()\u001b[0m\n\u001b[0;32m----> 1\u001b[0;31m \u001b[0mmytext\u001b[0m\u001b[0;34m.\u001b[0m\u001b[0mindex\u001b[0m\u001b[0;34m(\u001b[0m\u001b[0;34m\"NotEnd of Project Gutenberg\"\u001b[0m\u001b[0;34m)\u001b[0m \u001b[0;31m# raises Error\u001b[0m\u001b[0;34m\u001b[0m\u001b[0;34m\u001b[0m\u001b[0m\n\u001b[0m",
      "\u001b[0;31mValueError\u001b[0m: substring not found"
     ]
    }
   ],
   "source": [
    "mytext.index(\"NotEnd of Project Gutenberg\") # raises Error"
   ]
  },
  {
   "cell_type": "code",
   "execution_count": 23,
   "metadata": {
    "colab": {
     "base_uri": "https://localhost:8080/"
    },
    "id": "ONMnHDQO0Xwa",
    "outputId": "17d009cf-cf37-4d8c-80c2-5aa0fcfb5652"
   },
   "outputs": [
    {
     "data": {
      "text/plain": [
       "-1"
      ]
     },
     "execution_count": 23,
     "metadata": {},
     "output_type": "execute_result"
    }
   ],
   "source": [
    "mytext.find(\"NotEnd of Project Gutenberg\") # gives you -1"
   ]
  },
  {
   "cell_type": "code",
   "execution_count": 25,
   "metadata": {
    "colab": {
     "base_uri": "https://localhost:8080/"
    },
    "id": "a5FXR8Umv3Sv",
    "outputId": "3f8309f7-e9be-457b-c003-d6d690bd5469"
   },
   "outputs": [
    {
     "data": {
      "text/plain": [
       "145459"
      ]
     },
     "execution_count": 25,
     "metadata": {},
     "output_type": "execute_result"
    }
   ],
   "source": [
    "# so cleanend will be a new string containing only the text of the book from the start of the book to the end of the book\n",
    "# we use slicing to get the text we want\n",
    "cleanend = mytext[:mytext.find(\"End of Project Gutenberg\")]\n",
    "# cleanend = mytext[:mytext.index(\"End of Project Gutenberg\")] # would raise error if not found\n",
    "\n",
    "# of course this assumes we know the sentinel value for our end of the book\n",
    "# so this will cut and save text to last character\n",
    "# before the above text is found\n",
    "len(cleanend)"
   ]
  },
  {
   "cell_type": "code",
   "execution_count": 26,
   "metadata": {
    "colab": {
     "base_uri": "https://localhost:8080/"
    },
    "id": "iY4XnM2-v3Sv",
    "outputId": "b01deb28-042e-4073-d0b5-2b6f9cf2db38"
   },
   "outputs": [
    {
     "name": "stdout",
     "output_type": "stream",
     "text": [
      "of Wonderland of long ago: and how she\n",
      "would feel with all their simple sorrows, and find a pleasure in all\n",
      "their simple joys, remembering her own child-life, and the happy summer\n",
      "days.\n",
      "\n",
      "THE END \n",
      "\n",
      "\n",
      "\n",
      "\n",
      "\n"
     ]
    }
   ],
   "source": [
    "print(cleanend[-200:]) # last 200 characters"
   ]
  },
  {
   "cell_type": "code",
   "execution_count": 28,
   "metadata": {
    "colab": {
     "base_uri": "https://localhost:8080/"
    },
    "id": "kZcQyLzsv3Sw",
    "outputId": "ef30376b-14a3-455a-890e-1d73c35a832b"
   },
   "outputs": [
    {
     "data": {
      "text/plain": [
       "729"
      ]
     },
     "execution_count": 28,
     "metadata": {},
     "output_type": "execute_result"
    }
   ],
   "source": [
    "# first we find out where the header ends\n",
    "start_index = cleanend.index(\"START OF THIS PROJECT GUTENBERG EBOOK\")\n",
    "start_index"
   ]
  },
  {
   "cell_type": "code",
   "execution_count": 30,
   "metadata": {
    "colab": {
     "base_uri": "https://localhost:8080/"
    },
    "id": "kTXcLNYWv3Sw",
    "outputId": "0f23f934-b3b0-4fb6-c8a0-adb8d10f7b3d"
   },
   "outputs": [
    {
     "data": {
      "text/plain": [
       "37"
      ]
     },
     "execution_count": 30,
     "metadata": {},
     "output_type": "execute_result"
    }
   ],
   "source": [
    "# we also need to know how many characters to skip\n",
    "skip = len(\"START OF THIS PROJECT GUTENBERG EBOOK\")\n",
    "skip"
   ]
  },
  {
   "cell_type": "code",
   "execution_count": 31,
   "metadata": {
    "colab": {
     "base_uri": "https://localhost:8080/"
    },
    "id": "Lj_IveVRv3Sw",
    "outputId": "94bd97d2-e1b4-4939-e94b-3ae9fdee79ec"
   },
   "outputs": [
    {
     "name": "stdout",
     "output_type": "stream",
     "text": [
      " ALICE’S ADVENTURES IN WONDERLAND ***\n",
      "\n",
      "\n",
      "\n",
      "Produced by Arthur DiBianca and David Widger\n",
      "\n",
      "[Illustration]\n",
      "\n",
      "\n",
      "\n",
      "\n",
      "Alice’s Adventures in Wonderland\n",
      "\n",
      "by Lewis Carroll\n",
      "\n",
      "THE MILLENNIUM FULCRUM EDITION 3.0\n",
      "\n",
      "Contents\n",
      "\n",
      " CHAPTER I.     Down the Rabbit-Hole\n",
      " CHAPTER \n"
     ]
    }
   ],
   "source": [
    "cleanall = cleanend[start_index+skip:] # so we want everything from the index+skip\n",
    "print(cleanall[:250]) # print first 250 characters of our cleaned text"
   ]
  },
  {
   "cell_type": "code",
   "execution_count": 32,
   "metadata": {
    "colab": {
     "base_uri": "https://localhost:8080/"
    },
    "id": "QIlm3n-b1sZR",
    "outputId": "c41d9d6a-b81c-4926-fbfc-8de0bfa9cb7b"
   },
   "outputs": [
    {
     "data": {
      "text/plain": [
       "1"
      ]
     },
     "execution_count": 32,
     "metadata": {},
     "output_type": "execute_result"
    }
   ],
   "source": [
    "cleanall.count(\"Illustration\")"
   ]
  },
  {
   "cell_type": "code",
   "execution_count": 33,
   "metadata": {
    "id": "7RBBbwjb2EWM"
   },
   "outputs": [],
   "source": [
    "#reallyclean = cleanall[cleanall.find(\"Illustration\")+len(\"Illustration\")]\n",
    "def cut_off_start(text, sentinel):\n",
    "    if sentinel not in text:\n",
    "        print(f\"nothing to do no {sentinel} found!\")\n",
    "        return text # nothing to do\n",
    "    start = text.find(sentinel)\n",
    "    skip = len(sentinel)\n",
    "    new_text = text[start+skip:] # so new text is everything after start + skip number of characters\n",
    "    return new_text\n"
   ]
  },
  {
   "cell_type": "code",
   "execution_count": 34,
   "metadata": {
    "colab": {
     "base_uri": "https://localhost:8080/"
    },
    "id": "BI03r6uh2_fY",
    "outputId": "2ef010d6-b476-44f6-95dd-4f88960f1784"
   },
   "outputs": [
    {
     "data": {
      "text/plain": [
       "144593"
      ]
     },
     "execution_count": 34,
     "metadata": {},
     "output_type": "execute_result"
    }
   ],
   "source": [
    "really_clean_text = cut_off_start(cleanall, \"Illustration\")\n",
    "len(really_clean_text)"
   ]
  },
  {
   "cell_type": "code",
   "execution_count": 37,
   "metadata": {
    "colab": {
     "base_uri": "https://localhost:8080/"
    },
    "id": "7pbnWl-33QlW",
    "outputId": "d83bd06c-6ae9-4b79-9da1-ee51644e3c73"
   },
   "outputs": [
    {
     "data": {
      "text/plain": [
       "144587"
      ]
     },
     "execution_count": 37,
     "metadata": {},
     "output_type": "execute_result"
    }
   ],
   "source": [
    "# remember strip method on strings, let's get rid of any whitespace in beginning and end\n",
    "trimmed_text = really_clean_text.strip()\n",
    "len(trimmed_text)"
   ]
  },
  {
   "cell_type": "code",
   "execution_count": null,
   "metadata": {
    "id": "LkUNGy1J3fRu"
   },
   "outputs": [],
   "source": []
  },
  {
   "cell_type": "code",
   "execution_count": 38,
   "metadata": {
    "id": "LstMF-q-v3Sw"
   },
   "outputs": [],
   "source": [
    "# i will open/create a new file with name Alice_cleaned.txt\n",
    "# notice it is in the same folder as current notebook\n",
    "# mode is w - which means write\n",
    "# encoding is utf-8 - we might have some non-ascii characters\n",
    "# file_out is arbitrary name for our filestream object\n",
    "with open('Alice_clean.txt', mode=\"w\", encoding=\"utf-8\") as file_out:\n",
    "    file_out.write(trimmed_text)\n",
    "# so this recipe will create/overwrite 'Alice_clean.txt'\n",
    "# using utf-8 encoding\n",
    "# will write ALL of the text that is in trimmed_text variable"
   ]
  },
  {
   "cell_type": "code",
   "execution_count": null,
   "metadata": {
    "id": "XV-t1WQxv3Sw"
   },
   "outputs": [],
   "source": [
    "# i could also save the file in a different folder in this case like data which is our sibling folder\n",
    "with open('../data/Alice_clean.txt', mode=\"w\", encoding=\"utf-8\") as file_out:\n",
    "    file_out.write(cleanall)\n",
    "# so this recipe will create/overwrite 'Alice_clean.txt' in data\n",
    "# using utf-8 encoding\n",
    "# will write ALL of the text that is in cleanall variable"
   ]
  },
  {
   "cell_type": "code",
   "execution_count": 39,
   "metadata": {
    "id": "xQrDK-TMv3Sw"
   },
   "outputs": [],
   "source": [
    "# how to create a folder if it does not exist?\n",
    "# we can use pathlib\n",
    "# pathlib is a new module in Python 3\n",
    "# it is a bit more advanced than os\n",
    "\n",
    "# we can use pathlib to create a folder if it does not exist\n",
    "# we can also use it to check if a folder exists\n",
    "\n",
    "# from pathlib import Path # import Path from pathlib module need to import only once\n",
    "# we can create a path object\n",
    "\n",
    "# create folder my_folder if it does not exist\n",
    "Path(\"my_folder\").mkdir(exist_ok=True) # exist_ok=True means do not throw an error if folder exists\n",
    "# in this case it will be a child folder of current folderb\n",
    "# next time i run it it will not throw an error"
   ]
  },
  {
   "cell_type": "code",
   "execution_count": 40,
   "metadata": {
    "id": "r-5Dp2cE4SUR"
   },
   "outputs": [],
   "source": [
    "# so this is how I would copy the same data into a folder and then file name\n",
    "with open('my_folder/Alice_clean.txt', mode=\"w\", encoding=\"utf-8\") as file_out:\n",
    "    file_out.write(cleanall)"
   ]
  },
  {
   "cell_type": "code",
   "execution_count": null,
   "metadata": {
    "id": "9xodZJ7Vv3Sx",
    "outputId": "86486d88-c766-4dbe-a8dd-5f9ac7001e21"
   },
   "outputs": [
    {
     "name": "stdout",
     "output_type": "stream",
     "text": [
      "[' ALICE’S ADVENTURES IN WONDERLAND ***\\n', '\\n', '\\n', '\\n', 'Produced by Arthur DiBianca and David Widger\\n', '\\n', '[Illustration]\\n', '\\n', '\\n', '\\n', '\\n', 'Alice’s Adventures in Wonderland\\n', '\\n', 'by Lewis Carroll\\n', '\\n', 'THE MILLENNIUM FULCRUM EDITION 3.0\\n', '\\n', 'Contents\\n', '\\n', ' CHAPTER I.     Down the Rabbit-Hole\\n']\n"
     ]
    }
   ],
   "source": [
    "# lets pretend i do not have cleanall in memory\n",
    "# i can load text from my clean file\n",
    "# mode r is read which is default so not really needed\n",
    "with open('../data/Alice_clean.txt', mode=\"r\", encoding=\"utf-8\") as file:\n",
    "    # mytext = file.read() # so reads everything\n",
    "    # alterantively we can read line by line\n",
    "    # this is useful if we have a very large file\n",
    "    # we can read line by line and process it\n",
    "    text_lines = file.readlines() # this will read all lines into a list\n",
    "# print first 10 lines\n",
    "print(text_lines[:20])"
   ]
  },
  {
   "cell_type": "code",
   "execution_count": null,
   "metadata": {
    "id": "eq5ovdQLv3Sx"
   },
   "outputs": [],
   "source": []
  },
  {
   "cell_type": "markdown",
   "metadata": {
    "id": "RgEM-BYQ57aD"
   },
   "source": [
    "## Mounting and reading / writing from Google Drive"
   ]
  },
  {
   "cell_type": "code",
   "execution_count": 41,
   "metadata": {
    "colab": {
     "base_uri": "https://localhost:8080/"
    },
    "id": "vmkJHpgT5nXU",
    "outputId": "45e2f9d8-9b1d-4b5a-a48a-3e24711c50a2"
   },
   "outputs": [
    {
     "name": "stdout",
     "output_type": "stream",
     "text": [
      "Mounted at /content/drive\n"
     ]
    }
   ],
   "source": [
    "from google.colab import drive\n",
    "drive.mount('/content/drive')"
   ]
  },
  {
   "cell_type": "code",
   "execution_count": 42,
   "metadata": {
    "colab": {
     "base_uri": "https://localhost:8080/"
    },
    "id": "x0xb8psp5_lx",
    "outputId": "535201de-8910-4770-cb76-20c8b763cb7a"
   },
   "outputs": [
    {
     "data": {
      "text/plain": [
       "[PosixPath('drive/MyDrive/13177-8.txt'),\n",
       " PosixPath('drive/MyDrive/example_results.txt')]"
      ]
     },
     "execution_count": 42,
     "metadata": {},
     "output_type": "execute_result"
    }
   ],
   "source": [
    "text_files = list([f for f in Path(\"drive/MyDrive\").glob(\"*.txt\")])\n",
    "text_files"
   ]
  },
  {
   "cell_type": "code",
   "execution_count": 45,
   "metadata": {
    "colab": {
     "base_uri": "https://localhost:8080/",
     "height": 53
    },
    "id": "Af2gVCsT6TkL",
    "outputId": "b1cc96a6-fa87-4a6e-ed51-ecbb96aab51e"
   },
   "outputs": [
    {
     "name": "stdout",
     "output_type": "stream",
     "text": [
      "163074\n"
     ]
    },
    {
     "data": {
      "application/vnd.google.colaboratory.intrinsic+json": {
       "type": "string"
      },
      "text/plain": [
       "'The Project Gutenberg EBook of Chocolate and Cocoa Recipes and Home Made\\nCandy Recipes, by Miss Parl'"
      ]
     },
     "execution_count": 45,
     "metadata": {},
     "output_type": "execute_result"
    }
   ],
   "source": [
    "# so lets open up first file from my results and see whats inside\n",
    "# turns out this uses older 90s encoding ISO-8859-1\n",
    "# all encodings supported: https://docs.python.org/3/library/codecs.html#standard-encodings\n",
    "with open(text_files[0], encoding=\"ISO-8859-1\") as f:\n",
    "    unknown_text = f.read()\n",
    "print(len(unknown_text))\n",
    "unknown_text[:100]\n"
   ]
  },
  {
   "cell_type": "markdown",
   "metadata": {
    "id": "QUzjCK2B8Y04"
   },
   "source": [
    "## Tokenization"
   ]
  },
  {
   "cell_type": "code",
   "execution_count": null,
   "metadata": {
    "id": "GVNs311-v3Sx"
   },
   "outputs": [],
   "source": [
    "# so let's see about tokenization\n",
    "# one is to use split using white space"
   ]
  },
  {
   "cell_type": "code",
   "execution_count": 46,
   "metadata": {
    "colab": {
     "base_uri": "https://localhost:8080/"
    },
    "id": "ClIzzgLDv3Sx",
    "outputId": "80c28795-503d-4205-eb92-fe6e4ebc0495"
   },
   "outputs": [
    {
     "name": "stdout",
     "output_type": "stream",
     "text": [
      "A quick brown fox    jumped \t over the   \n",
      " \n",
      " sleepy dog\n"
     ]
    }
   ],
   "source": [
    "mysentence = \"A quick brown fox    jumped \\t over the   \\n \\n sleepy dog\"\n",
    "# we have some newlines and some tabs in our sentence\n",
    "print(mysentence)"
   ]
  },
  {
   "cell_type": "code",
   "execution_count": 47,
   "metadata": {
    "colab": {
     "base_uri": "https://localhost:8080/"
    },
    "id": "PRhjXe7Sv3Sx",
    "outputId": "cdd0ad5e-ae47-42b3-b0ea-93805e817bce"
   },
   "outputs": [
    {
     "data": {
      "text/plain": [
       "['A', 'quick', 'brown', 'fox', 'jumped', 'over', 'the', 'sleepy', 'dog']"
      ]
     },
     "execution_count": 47,
     "metadata": {},
     "output_type": "execute_result"
    }
   ],
   "source": [
    "# Python string has a split method which will split a string into a list of strings\n",
    "mysentence.split()  # so we split by white space, including newlines and tabs\n",
    "# you can consider split a type of tokenization"
   ]
  },
  {
   "cell_type": "code",
   "execution_count": 48,
   "metadata": {
    "colab": {
     "base_uri": "https://localhost:8080/"
    },
    "id": "2qAZgHl0v3Sx",
    "outputId": "6738071e-bf3b-4319-a9d1-d8397fda4e8e"
   },
   "outputs": [
    {
     "data": {
      "text/plain": [
       "['A',\n",
       " 'quick',\n",
       " 'brown',\n",
       " 'fox',\n",
       " '',\n",
       " '',\n",
       " '',\n",
       " 'jumped',\n",
       " '\\t',\n",
       " 'over',\n",
       " 'the',\n",
       " '',\n",
       " '',\n",
       " '\\n',\n",
       " '\\n',\n",
       " 'sleepy',\n",
       " 'dog']"
      ]
     },
     "execution_count": 48,
     "metadata": {},
     "output_type": "execute_result"
    }
   ],
   "source": [
    "mysentence.split(\" \") # so we split by single white space, this might not be what we want"
   ]
  },
  {
   "cell_type": "code",
   "execution_count": 50,
   "metadata": {
    "colab": {
     "base_uri": "https://localhost:8080/"
    },
    "id": "jvtr3rxgv3Sx",
    "outputId": "e45391b9-346e-4b39-8f3a-60b711e6044f"
   },
   "outputs": [
    {
     "data": {
      "text/plain": [
       "26537"
      ]
     },
     "execution_count": 50,
     "metadata": {},
     "output_type": "execute_result"
    }
   ],
   "source": [
    "# we could try splitting already but we will get dirty data(words)\n",
    "mywords = cleanall.split() # so any white space will be a delimiter\n",
    "len(mywords)"
   ]
  },
  {
   "cell_type": "code",
   "execution_count": 51,
   "metadata": {
    "colab": {
     "base_uri": "https://localhost:8080/"
    },
    "id": "gzZxziIGv3Sx",
    "outputId": "49668278-45a1-4128-c7ea-3c4684fd0c25"
   },
   "outputs": [
    {
     "data": {
      "text/plain": [
       "['ALICE’S',\n",
       " 'ADVENTURES',\n",
       " 'IN',\n",
       " 'WONDERLAND',\n",
       " '***',\n",
       " 'Produced',\n",
       " 'by',\n",
       " 'Arthur',\n",
       " 'DiBianca',\n",
       " 'and',\n",
       " 'David',\n",
       " 'Widger',\n",
       " '[Illustration]',\n",
       " 'Alice’s',\n",
       " 'Adventures',\n",
       " 'in',\n",
       " 'Wonderland',\n",
       " 'by',\n",
       " 'Lewis',\n",
       " 'Carroll',\n",
       " 'THE',\n",
       " 'MILLENNIUM',\n",
       " 'FULCRUM',\n",
       " 'EDITION',\n",
       " '3.0']"
      ]
     },
     "execution_count": 51,
     "metadata": {},
     "output_type": "execute_result"
    }
   ],
   "source": [
    "mywords[:25]"
   ]
  },
  {
   "cell_type": "code",
   "execution_count": null,
   "metadata": {
    "id": "PmJ8VSeQv3Sy"
   },
   "outputs": [],
   "source": [
    "# so we need to get rid of some \\n which split did not\n",
    "# so how could we do this?\n",
    "# replace to rescue!\n"
   ]
  },
  {
   "cell_type": "code",
   "execution_count": 53,
   "metadata": {
    "colab": {
     "base_uri": "https://localhost:8080/",
     "height": 35
    },
    "id": "2oDLinYfv3Sy",
    "outputId": "6c7dbe24-6bf8-43ef-a8a6-8f6896ced803"
   },
   "outputs": [
    {
     "data": {
      "application/vnd.google.colaboratory.intrinsic+json": {
       "type": "string"
      },
      "text/plain": [
       "']     Alice’s Adventures in Wonderland  by Lewis Carroll  THE MILLENNIUM FULCRUM EDITION 3.0  Conten'"
      ]
     },
     "execution_count": 53,
     "metadata": {},
     "output_type": "execute_result"
    }
   ],
   "source": [
    "# so replacing every new line with something in this case one whitespace\n",
    "clean_text = trimmed_text.replace(\"\\n\", \" \") # why not nothing \"\"?\n",
    "# replacing with \"\" we run the risk of combining words across lines\n",
    "clean_text[:100]"
   ]
  },
  {
   "cell_type": "code",
   "execution_count": 54,
   "metadata": {
    "colab": {
     "base_uri": "https://localhost:8080/"
    },
    "id": "W5R-C-uuv3Sy",
    "outputId": "41fd1cd7-b179-4f86-8735-4dfffcedf93c"
   },
   "outputs": [
    {
     "name": "stdout",
     "output_type": "stream",
     "text": [
      " BOB’S ADVENTURES IN WONDERLAND ***\n",
      "\n",
      "\n",
      "\n",
      "Produced by Arthur DiBianca and David Widger\n",
      "\n",
      "[Illustration]\n",
      "\n"
     ]
    }
   ],
   "source": [
    "# remember replace is a string method it returns a new string\n",
    "# so we need to assign it to a variable\n",
    "# we can use it to replace multiple characters or strings\n",
    "# we can also use it to replace with nothing\n",
    "\n",
    "# for example\n",
    "bob_adventures = cleanall.replace(\"ALICE\", \"BOB\").replace(\"Alice\", \"Bob\")\n",
    "# so for example we can replace all mentions of Alice with Bob\n",
    "print(bob_adventures[:100])"
   ]
  },
  {
   "cell_type": "code",
   "execution_count": 55,
   "metadata": {
    "colab": {
     "base_uri": "https://localhost:8080/"
    },
    "id": "4wew04Cov3Sy",
    "outputId": "7b8dd019-7b3a-4b4d-abff-e7616a469d01"
   },
   "outputs": [
    {
     "data": {
      "text/plain": [
       "399"
      ]
     },
     "execution_count": 55,
     "metadata": {},
     "output_type": "execute_result"
    }
   ],
   "source": [
    "# count Bob\n",
    "bob_adventures.count(\"Bob\")"
   ]
  },
  {
   "cell_type": "code",
   "execution_count": null,
   "metadata": {
    "id": "XWzGWstnv3Sy",
    "outputId": "69e19eca-9a83-4edd-9d58-287cc4ea25b8"
   },
   "outputs": [
    {
     "data": {
      "text/plain": [
       "800"
      ]
     },
     "execution_count": 34,
     "metadata": {},
     "output_type": "execute_result"
    }
   ],
   "source": [
    "len(cleanall)-len(bob_adventures) # so we have lost some characters"
   ]
  },
  {
   "cell_type": "code",
   "execution_count": null,
   "metadata": {
    "id": "7Jlf5MUZv3Sy"
   },
   "outputs": [],
   "source": [
    "# TODO\n",
    "# before we split we might want to normalize our text - make it all lower case\n",
    "# we also might want to remove punctuation\n",
    "# we can use string.punctuation to get a list of punctuation symbols\n",
    "# also we can use string.whitespace to get a list of whitespace symbols"
   ]
  },
  {
   "cell_type": "markdown",
   "metadata": {
    "id": "bURQ8esU8UVi"
   },
   "source": [
    "## Normalization"
   ]
  },
  {
   "cell_type": "code",
   "execution_count": 57,
   "metadata": {
    "id": "rStNtQUd8rB3"
   },
   "outputs": [],
   "source": [
    "clean_text = clean_text[1:] # simple hack to get rid of first character\n",
    "clean_text = clean_text.strip()"
   ]
  },
  {
   "cell_type": "code",
   "execution_count": 58,
   "metadata": {
    "colab": {
     "base_uri": "https://localhost:8080/"
    },
    "id": "bEarssJkv3Sy",
    "outputId": "7ee6bd3e-4f83-4ad8-c8fd-b31b98ed244f"
   },
   "outputs": [
    {
     "name": "stdout",
     "output_type": "stream",
     "text": [
      "alice’s adventures in wonderland  by lewis carroll  the millennium fulcrum edition 3.0  contents   c\n"
     ]
    }
   ],
   "source": [
    "# normalize to lower case\n",
    "alice_lower = clean_text.lower()\n",
    "print(alice_lower[:100])\n",
    "# idea is to make all words lower case so that we do not count the same word twice\n",
    "# with lowercase you should be aware of some issues\n",
    "# for example in English we have words like \"I\" and \"i\"\n",
    "# in Latvia we have city Ogre and ogre the mythical creature"
   ]
  },
  {
   "cell_type": "code",
   "execution_count": 59,
   "metadata": {
    "colab": {
     "base_uri": "https://localhost:8080/",
     "height": 35
    },
    "id": "IEUlXbcPv3Sy",
    "outputId": "babb8e21-a887-4b88-be18-e9a390cc540e"
   },
   "outputs": [
    {
     "data": {
      "application/vnd.google.colaboratory.intrinsic+json": {
       "type": "string"
      },
      "text/plain": [
       "'!\"#$%&\\'()*+,-./:;<=>?@[\\\\]^_`{|}~'"
      ]
     },
     "execution_count": 59,
     "metadata": {},
     "output_type": "execute_result"
    }
   ],
   "source": [
    "# next step is usually to remove punctuation\n",
    "# we can use string.punctuation to get a list of punctuation symbols\n",
    "import string\n",
    "string.punctuation"
   ]
  },
  {
   "cell_type": "code",
   "execution_count": 60,
   "metadata": {
    "colab": {
     "base_uri": "https://localhost:8080/"
    },
    "id": "cTTD5oSgv3Sz",
    "outputId": "a20f7daf-5ff4-457a-986b-07c4f3f911d4"
   },
   "outputs": [
    {
     "name": "stdout",
     "output_type": "stream",
     "text": [
      "!\"#$%&'()*+,-./:;<=>?@[\\]^_`{|}~“”‘’*\n"
     ]
    }
   ],
   "source": [
    "# i can make my own string of punctuation symbols\n",
    "my_punctuation = string.punctuation + \"“”‘’*\" # you could add numbers etc\n",
    "print(my_punctuation)"
   ]
  },
  {
   "cell_type": "code",
   "execution_count": 61,
   "metadata": {
    "colab": {
     "base_uri": "https://localhost:8080/"
    },
    "id": "pVHFIXv9v3Sz",
    "outputId": "27835c14-e4da-41e4-a077-4dd6078d85e1"
   },
   "outputs": [
    {
     "name": "stdout",
     "output_type": "stream",
     "text": [
      "alice s adventures in wonderland  by lewis carroll  the millennium fulcrum edition 3 0  contents   c\n"
     ]
    }
   ],
   "source": [
    "# now we want to remove all symbols in my_punctuation from alice_lower\n",
    "# we can use translate method\n",
    "# we need to create a translation table\n",
    "# we can use maketrans method\n",
    "# we need to pass 3 arguments\n",
    "# first is a string of characters we want to replace\n",
    "# second is a string of characters we want to replace with\n",
    "# third is a string of characters we want to remove\n",
    "# so we want to replace all punctuation with nothing\n",
    "# we also want to remove all newlines\n",
    "\n",
    "# so we can create a translation table\n",
    "\n",
    "# translation_table = str.maketrans(my_punctuation, \" \"*len(my_punctuation), \"\\n\")\n",
    "# translation_table = str.maketrans(my_punctuation, \" \"*len(my_punctuation), \"\")\n",
    "translation_table = str.maketrans(my_punctuation, \" \"*len(my_punctuation), \"\")\n",
    "# use the translation table to translate alice_lower\n",
    "alice_clean_no_punct = alice_lower.translate(translation_table)\n",
    "print(alice_clean_no_punct[:100])"
   ]
  },
  {
   "cell_type": "code",
   "execution_count": null,
   "metadata": {
    "id": "HBW8t_38v3S3",
    "outputId": "526a5c52-8ff3-4fba-fc45-db9482c874e1"
   },
   "outputs": [
    {
     "name": "stdout",
     "output_type": "stream",
     "text": [
      "V\n",
      "a\n",
      "l\n",
      "d\n",
      "i\n",
      "s\n"
     ]
    }
   ],
   "source": [
    "# for loops let us iterate over a sequence\n",
    "for my_char in \"Valdis\":\n",
    "    print(my_char)"
   ]
  },
  {
   "cell_type": "code",
   "execution_count": null,
   "metadata": {
    "id": "2B0vFGmJv3S4",
    "outputId": "2a6cf7a0-c71c-4383-d0de-e789f665c40a"
   },
   "outputs": [
    {
     "name": "stdout",
     "output_type": "stream",
     "text": [
      "1\n",
      "2\n",
      "3\n",
      "4\n",
      "5\n"
     ]
    }
   ],
   "source": [
    "# similarly we can iterate any sequence\n",
    "for my_number in [1,2,3,4,5]:\n",
    "    print(my_number)"
   ]
  },
  {
   "cell_type": "code",
   "execution_count": 62,
   "metadata": {
    "colab": {
     "base_uri": "https://localhost:8080/"
    },
    "id": "IV_6jRtvv3S5",
    "outputId": "d1aae956-72a2-4bce-f1a5-7f5d128b0e36"
   },
   "outputs": [
    {
     "name": "stdout",
     "output_type": "stream",
     "text": [
      "Replacing ! with nothing\n",
      "Replacing \" with nothing\n",
      "Replacing # with nothing\n",
      "Replacing $ with nothing\n",
      "Replacing % with nothing\n",
      "Replacing & with nothing\n",
      "Replacing ' with nothing\n",
      "Replacing ( with nothing\n",
      "Replacing ) with nothing\n",
      "Replacing * with nothing\n",
      "Replacing + with nothing\n",
      "Replacing , with nothing\n",
      "Replacing - with nothing\n",
      "Replacing . with nothing\n",
      "Replacing / with nothing\n",
      "Replacing : with nothing\n",
      "Replacing ; with nothing\n",
      "Replacing < with nothing\n",
      "Replacing = with nothing\n",
      "Replacing > with nothing\n",
      "Replacing ? with nothing\n",
      "Replacing @ with nothing\n",
      "Replacing [ with nothing\n",
      "Replacing \\ with nothing\n",
      "Replacing ] with nothing\n",
      "Replacing ^ with nothing\n",
      "Replacing _ with nothing\n",
      "Replacing ` with nothing\n",
      "Replacing { with nothing\n",
      "Replacing | with nothing\n",
      "Replacing } with nothing\n",
      "Replacing ~ with nothing\n",
      "Replacing “ with nothing\n",
      "Replacing ” with nothing\n",
      "Replacing ‘ with nothing\n",
      "Replacing ’ with nothing\n",
      "Replacing * with nothing\n"
     ]
    }
   ],
   "source": [
    "for bad_char in my_punctuation:\n",
    "    print(f\"Replacing {bad_char} with nothing\")"
   ]
  },
  {
   "cell_type": "code",
   "execution_count": 63,
   "metadata": {
    "colab": {
     "base_uri": "https://localhost:8080/"
    },
    "id": "eO-dLB9Yv3S6",
    "outputId": "e2fd9120-4c3a-4a19-de80-b83c128a100e"
   },
   "outputs": [
    {
     "name": "stdout",
     "output_type": "stream",
     "text": [
      "Replacing ! with ( )\n",
      "Replacing \" with ( )\n",
      "Replacing # with ( )\n",
      "Replacing $ with ( )\n",
      "Replacing % with ( )\n",
      "Replacing & with ( )\n",
      "Replacing ' with ( )\n",
      "Replacing ( with ( )\n",
      "Replacing ) with ( )\n",
      "Replacing * with ( )\n",
      "Replacing + with ( )\n",
      "Replacing , with ( )\n",
      "Replacing - with ( )\n",
      "Replacing . with ( )\n",
      "Replacing / with ( )\n",
      "Replacing : with ( )\n",
      "Replacing ; with ( )\n",
      "Replacing < with ( )\n",
      "Replacing = with ( )\n",
      "Replacing > with ( )\n",
      "Replacing ? with ( )\n",
      "Replacing @ with ( )\n",
      "Replacing [ with ( )\n",
      "Replacing \\ with ( )\n",
      "Replacing ] with ( )\n",
      "Replacing ^ with ( )\n",
      "Replacing _ with ( )\n",
      "Replacing ` with ( )\n",
      "Replacing { with ( )\n",
      "Replacing | with ( )\n",
      "Replacing } with ( )\n",
      "Replacing ~ with ( )\n",
      "Replacing “ with ( )\n",
      "Replacing ” with ( )\n",
      "Replacing ‘ with ( )\n",
      "Replacing ’ with ( )\n",
      "Replacing * with ( )\n",
      "After cleaning we have 144581 characters\n"
     ]
    }
   ],
   "source": [
    "# instead we can use a loop\n",
    "# we can use a loop to remove all punctuation\n",
    "\n",
    "# we go through each symbol in my_punctuation and replace it with nothing in alice_lower\n",
    "REPLACE_CHAR = \" \" # you can change this to \"\" if you want to remove punctuation with nothing\n",
    "alice_clean_no_punct = alice_lower # we need to start with an alice_lower\n",
    "for symbol in my_punctuation:\n",
    "    print(f\"Replacing {symbol} with ({REPLACE_CHAR})\")\n",
    "    alice_clean_no_punct = alice_clean_no_punct.replace(symbol, REPLACE_CHAR)\n",
    "print(f\"After cleaning we have {len(alice_clean_no_punct)} characters\")"
   ]
  },
  {
   "cell_type": "code",
   "execution_count": 64,
   "metadata": {
    "colab": {
     "base_uri": "https://localhost:8080/"
    },
    "id": "8_QZ5pAOv3S6",
    "outputId": "5eab0b46-ed2e-4ecb-d220-524b9d980f4d"
   },
   "outputs": [
    {
     "data": {
      "text/plain": [
       "-1"
      ]
     },
     "execution_count": 64,
     "metadata": {},
     "output_type": "execute_result"
    }
   ],
   "source": [
    "alice_clean_no_punct.find(\"*\")"
   ]
  },
  {
   "cell_type": "code",
   "execution_count": null,
   "metadata": {
    "id": "6HXizCGEv3S7"
   },
   "outputs": [],
   "source": [
    "# we could also remove all stop words\n",
    "# stop words are words that do not add much meaning to the text\n",
    "# for now we will leave them in"
   ]
  },
  {
   "cell_type": "code",
   "execution_count": 67,
   "metadata": {
    "colab": {
     "base_uri": "https://localhost:8080/"
    },
    "id": "T0xBemrMv3S7",
    "outputId": "e5367f61-3ad7-4ec4-9328-7c12db949a8b"
   },
   "outputs": [
    {
     "name": "stdout",
     "output_type": "stream",
     "text": [
      "We have 27324 words\n"
     ]
    }
   ],
   "source": [
    "# we can finally split\n",
    "alice_words = alice_clean_no_punct.split()\n",
    "print(f\"We have {len(alice_words)} words\")"
   ]
  },
  {
   "cell_type": "code",
   "execution_count": 68,
   "metadata": {
    "colab": {
     "base_uri": "https://localhost:8080/"
    },
    "id": "ohLB7tIlv3S7",
    "outputId": "c0659968-bcc4-47d7-9be1-73597b2fbb5d"
   },
   "outputs": [
    {
     "data": {
      "text/plain": [
       "399"
      ]
     },
     "execution_count": 68,
     "metadata": {},
     "output_type": "execute_result"
    }
   ],
   "source": [
    "# alice_words is a list of strings\n",
    "# we can use list methods to work with it\n",
    "# we could count how many times each word appears\n",
    "alice_words.count(\"alice\") # 399 because ALICE and Alice merged into alice"
   ]
  },
  {
   "cell_type": "code",
   "execution_count": null,
   "metadata": {
    "id": "dYPnv4tMv3S8"
   },
   "outputs": [],
   "source": [
    "# here we could do additionalal cleaning by checking for maybe bad words\n",
    "# bad characters\n",
    "# unneeded words such stop words , meaning words which do not contribute to the meaning\n"
   ]
  },
  {
   "cell_type": "code",
   "execution_count": null,
   "metadata": {
    "id": "tKdB19Wrv3S8"
   },
   "outputs": [],
   "source": [
    "# so how could we count the occurences of each word?\n",
    "# we could use something like a dictionary with words being keys and value being\n",
    "# number of occurences"
   ]
  },
  {
   "cell_type": "code",
   "execution_count": 69,
   "metadata": {
    "colab": {
     "base_uri": "https://localhost:8080/"
    },
    "id": "421HTkoe9_od",
    "outputId": "d0aecd02-9097-4917-8d6e-f75a1b23833a"
   },
   "outputs": [
    {
     "data": {
      "text/plain": [
       "list"
      ]
     },
     "execution_count": 69,
     "metadata": {},
     "output_type": "execute_result"
    }
   ],
   "source": [
    "# so alice words is a list of strings\n",
    "type(alice_words)"
   ]
  },
  {
   "cell_type": "code",
   "execution_count": 70,
   "metadata": {
    "colab": {
     "base_uri": "https://localhost:8080/"
    },
    "id": "xv2wpBnY-DpT",
    "outputId": "a4e544ca-ab1a-4125-fdf1-4e3475949123"
   },
   "outputs": [
    {
     "data": {
      "text/plain": [
       "['alice', 's', 'adventures', 'in', 'wonderland']"
      ]
     },
     "execution_count": 70,
     "metadata": {},
     "output_type": "execute_result"
    }
   ],
   "source": [
    "# first 5 words\n",
    "alice_words[:5]"
   ]
  },
  {
   "cell_type": "code",
   "execution_count": 71,
   "metadata": {
    "colab": {
     "base_uri": "https://localhost:8080/"
    },
    "id": "SBXqGiIhv3S8",
    "outputId": "36c64cc2-1a43-4381-8caa-701ad5b65de0"
   },
   "outputs": [
    {
     "data": {
      "text/plain": [
       "[('alice', 399),\n",
       " ('s', 202),\n",
       " ('adventures', 6),\n",
       " ('in', 369),\n",
       " ('wonderland', 3),\n",
       " ('by', 58),\n",
       " ('lewis', 1),\n",
       " ('carroll', 1),\n",
       " ('the', 1643),\n",
       " ('millennium', 1),\n",
       " ('fulcrum', 1),\n",
       " ('edition', 1),\n",
       " ('3', 1),\n",
       " ('0', 1),\n",
       " ('contents', 1),\n",
       " ('chapter', 24),\n",
       " ('i', 534),\n",
       " ('down', 102),\n",
       " ('rabbit', 53),\n",
       " ('hole', 5)]"
      ]
     },
     "execution_count": 71,
     "metadata": {},
     "output_type": "execute_result"
    }
   ],
   "source": [
    "\n",
    "word_dict = {} # {} is an empty dictionary\n",
    "# what is a dictionary?\n",
    "# a dictionary is a collection of key value pairs\n",
    "# each key is unique - usually a string or number(less common)\n",
    "# key idea is that we have near instant access to the value by key\n",
    "# values can be repeated\n",
    "# so we will loop/iterate over all words in alice_words\n",
    "# we will check if the word is in the dictionary\n",
    "# if it is we will increment the value by 1\n",
    "# if it is not we will add it to the dictionary with value 1\n",
    "\n",
    "for word in alice_words:\n",
    "    if word in word_dict.keys():\n",
    "        word_dict[word] += 1 # increase count for each occurence\n",
    "    else:\n",
    "        word_dict[word] = 1 # so first occurence you count as 1\n",
    "    # below is just a shorter version of the above\n",
    "#     word_dict[word] = word_dict.get(word, 0) + 1\n",
    "list(word_dict.items())[:20]"
   ]
  },
  {
   "cell_type": "code",
   "execution_count": 72,
   "metadata": {
    "colab": {
     "base_uri": "https://localhost:8080/"
    },
    "id": "ZsAWUv0qv3S8",
    "outputId": "8cbada3f-ede7-42f0-f51a-f826a56df23d"
   },
   "outputs": [
    {
     "data": {
      "text/plain": [
       "[('the', 1643),\n",
       " ('and', 851),\n",
       " ('to', 724),\n",
       " ('a', 632),\n",
       " ('it', 588),\n",
       " ('she', 550),\n",
       " ('i', 534),\n",
       " ('of', 512),\n",
       " ('said', 459),\n",
       " ('you', 405),\n",
       " ('alice', 399),\n",
       " ('in', 369),\n",
       " ('was', 357),\n",
       " ('that', 311),\n",
       " ('as', 261),\n",
       " ('her', 248),\n",
       " ('t', 218),\n",
       " ('at', 209),\n",
       " ('s', 202),\n",
       " ('on', 193),\n",
       " ('with', 181),\n",
       " ('all', 180),\n",
       " ('had', 178),\n",
       " ('but', 163),\n",
       " ('for', 152)]"
      ]
     },
     "execution_count": 72,
     "metadata": {},
     "output_type": "execute_result"
    }
   ],
   "source": [
    "# since counting is so common we can use Counter from collections\n",
    "# you do not have to write loops yourself :)\n",
    "from collections import Counter # python already provides counter!\n",
    "word_count = Counter(alice_words) # give a list of tokens\n",
    "word_count.most_common(25) # and you can get results immediately"
   ]
  },
  {
   "cell_type": "code",
   "execution_count": 73,
   "metadata": {
    "colab": {
     "base_uri": "https://localhost:8080/"
    },
    "id": "PGR38nNbv3S8",
    "outputId": "f9e57898-c560-4ca6-e423-c555a81e5800"
   },
   "outputs": [
    {
     "name": "stdout",
     "output_type": "stream",
     "text": [
      "We have 14227 words that are 4 letters or more\n"
     ]
    }
   ],
   "source": [
    "# how about most common words that are 4 letters or more?\n",
    "# we can use a list comprehension\n",
    "# list comprehension is a way to create a list from another list\n",
    "# we can use it to filter out words that are too short\n",
    "# we can also use it to convert all words to lower case\n",
    "# we can also use it to remove stop words\n",
    "\n",
    "# we can use a list comprehension to create a list of words that are 4 letters or more\n",
    "alice_4plus = [word for word in alice_words if len(word) >= 4]\n",
    "print(f\"We have {len(alice_4plus)} words that are 4 letters or more\")"
   ]
  },
  {
   "cell_type": "code",
   "execution_count": 74,
   "metadata": {
    "colab": {
     "base_uri": "https://localhost:8080/"
    },
    "id": "YCKgkaqov3S8",
    "outputId": "d7c49e81-2950-4613-9438-1daadf2e681c"
   },
   "outputs": [
    {
     "name": "stdout",
     "output_type": "stream",
     "text": [
      "We have 14227 words that are 4 letters or more\n"
     ]
    }
   ],
   "source": [
    "# alternative would be to use a for loop\n",
    "alice_4plus = [] # create an empty list\n",
    "for word in alice_words:\n",
    "    if len(word) >= 4:\n",
    "        alice_4plus.append(word) # add word to the list\n",
    "# same result but more code\n",
    "# advantage of list comprehension is that it is more compact\n",
    "# advantage of loop is that you can add more code inside the loop\n",
    "print(f\"We have {len(alice_4plus)} words that are 4 letters or more\")"
   ]
  },
  {
   "cell_type": "code",
   "execution_count": 75,
   "metadata": {
    "colab": {
     "base_uri": "https://localhost:8080/"
    },
    "id": "5mn01I7tv3S9",
    "outputId": "4c65613e-1f60-440c-9d09-2cf3fa548bbe"
   },
   "outputs": [
    {
     "data": {
      "text/plain": [
       "[('said', 459),\n",
       " ('alice', 399),\n",
       " ('that', 311),\n",
       " ('with', 181),\n",
       " ('they', 149),\n",
       " ('very', 144),\n",
       " ('what', 141),\n",
       " ('this', 134),\n",
       " ('little', 129),\n",
       " ('down', 102),\n",
       " ('there', 99),\n",
       " ('about', 94),\n",
       " ('then', 92),\n",
       " ('like', 85),\n",
       " ('were', 85),\n",
       " ('would', 83),\n",
       " ('went', 83),\n",
       " ('herself', 83),\n",
       " ('them', 83),\n",
       " ('again', 82),\n",
       " ('know', 81),\n",
       " ('have', 80),\n",
       " ('when', 79),\n",
       " ('could', 77),\n",
       " ('queen', 76)]"
      ]
     },
     "execution_count": 75,
     "metadata": {},
     "output_type": "execute_result"
    }
   ],
   "source": [
    "# count the most common words\n",
    "alice_4plus_count = Counter(alice_4plus)\n",
    "alice_4plus_count.most_common(25)   # still a lot of stop words at least we have removed punctuation"
   ]
  },
  {
   "cell_type": "code",
   "execution_count": null,
   "metadata": {
    "id": "woRTmFbJv3S9"
   },
   "outputs": [],
   "source": [
    "# so Counters are dictionaries with benefits as I like to say\n",
    "# we can use them to get most common words\n",
    "\n",
    "\n"
   ]
  },
  {
   "cell_type": "code",
   "execution_count": 76,
   "metadata": {
    "id": "e_cQQWT5v3S9"
   },
   "outputs": [],
   "source": [
    "# lets save all of the counter as a tsv file starting with most common\n",
    "# we can use a with statement to open a file\n",
    "# of course we could use another format like csv or json - json will be covered later\n",
    "\n",
    "# will save in current directory\n",
    "with open(\"alice_word_count.tsv\", \"w\", encoding=\"utf-8\") as f:\n",
    "    # first lets write a header\n",
    "    f.write(\"word\\tcount\\n\") # \\t is a tab character, \\n is a newline\n",
    "    # we go through all words and counts in alice_4plus_count starting with most common\n",
    "    for word, count in alice_4plus_count.most_common():\n",
    "        # then we write each word and count to the file\n",
    "        f.write(f\"{word}\\t{count}\\n\")"
   ]
  },
  {
   "cell_type": "code",
   "execution_count": 77,
   "metadata": {
    "id": "CQ1Vaw3R_EIR"
   },
   "outputs": [],
   "source": [
    "# will save in current google drive (if it is mounted)\n",
    "with open(\"drive/MyDrive/data/alice_word_count.tsv\", \"w\", encoding=\"utf-8\") as f:\n",
    "    # first lets write a header\n",
    "    f.write(\"word\\tcount\\n\") # \\t is a tab character, \\n is a newline\n",
    "    # we go through all words and counts in alice_4plus_count starting with most common\n",
    "    for word, count in alice_4plus_count.most_common():\n",
    "        # then we write each word and count to the file\n",
    "        f.write(f\"{word}\\t{count}\\n\")"
   ]
  },
  {
   "cell_type": "code",
   "execution_count": 79,
   "metadata": {
    "colab": {
     "base_uri": "https://localhost:8080/",
     "height": 909
    },
    "id": "0EVh7boBv3S9",
    "outputId": "df3adf38-331d-46ab-83b4-9930273ef5f3"
   },
   "outputs": [
    {
     "data": {
      "image/png": "[encoded data removed]",
      "text/plain": [
       "<Figure size 1000x1000 with 1 Axes>"
      ]
     },
     "metadata": {},
     "output_type": "display_data"
    }
   ],
   "source": [
    "# lets plot most common 50 words and their counts\n",
    "\n",
    "# we can use matplotlib to plot\n",
    "# most popular visualization library\n",
    "# included in Colab install it otherwise locally\n",
    "# https://matplotlib.org/\n",
    "\n",
    "import matplotlib.pyplot as plt\n",
    "\n",
    "# we can use a list comprehension to get the counts and words separately\n",
    "counts = [count for word, count in alice_4plus_count.most_common(50)]\n",
    "words = [word for word, count in alice_4plus_count.most_common(50)]\n",
    "\n",
    "# alternative would be to use a for loop\n",
    "# counts = []\n",
    "# words = []\n",
    "# for word, count in alice_4plus_count.most_common(50):\n",
    "#     counts.append(count)\n",
    "#     words.append(word)\n",
    "\n",
    "# now we can plot\n",
    "\n",
    "plt.figure(figsize=(10,10)) # we can set the size of the figure\n",
    "plt.bar(words, counts) # vertical bar chart\n",
    "# add title and labels\n",
    "plt.title(\"Most common words in Alice in Wonderland\")\n",
    "plt.xlabel(\"Count\")\n",
    "plt.ylabel(\"Word\")\n",
    "plt.xticks(rotation=45)\n",
    "plt.show()"
   ]
  },
  {
   "cell_type": "code",
   "execution_count": 82,
   "metadata": {
    "colab": {
     "base_uri": "https://localhost:8080/",
     "height": 902
    },
    "id": "-PmuGySdv3S-",
    "outputId": "0c0b744e-eeb3-4df3-9cc8-97715aa42539"
   },
   "outputs": [
    {
     "data": {
      "image/png": "[encoded data removed]",
      "text/plain": [
       "<Figure size 1000x1000 with 1 Axes>"
      ]
     },
     "metadata": {},
     "output_type": "display_data"
    }
   ],
   "source": [
    "# plot top 20 words and their counts\n",
    "TOP_COUNT = 20\n",
    "plt.figure(figsize=(10,10)) # we can set the size of the figure\n",
    "plt.bar(words[:TOP_COUNT], counts[:TOP_COUNT]) # vertical bar chart\n",
    "# add title and labels\n",
    "plt.title(f\"Most common {TOP_COUNT} words in Alice in Wonderland\")\n",
    "plt.xlabel(\"Count\")\n",
    "plt.ylabel(\"Word\")\n",
    "plt.xticks(rotation=45)\n",
    "plt.savefig(\"top_20_alice.png\")\n",
    "plt.show()"
   ]
  },
  {
   "cell_type": "code",
   "execution_count": null,
   "metadata": {
    "id": "OX4rP60-v3S-"
   },
   "outputs": [],
   "source": [
    "# looks like Zipf's law is holding up\n",
    "# link to wikipedia https://en.wikipedia.org/wiki/Zipf%27s_law"
   ]
  },
  {
   "cell_type": "code",
   "execution_count": null,
   "metadata": {
    "id": "eEi2RyR9v3S-",
    "outputId": "b60ded05-fff0-4ca5-a839-9256fd0415a7"
   },
   "outputs": [
    {
     "data": {
      "text/plain": [
       "list"
      ]
     },
     "execution_count": 67,
     "metadata": {},
     "output_type": "execute_result"
    }
   ],
   "source": [
    "type(alice_4plus_count.most_common())"
   ]
  },
  {
   "cell_type": "code",
   "execution_count": null,
   "metadata": {
    "id": "oqHZP-bIv3S-"
   },
   "outputs": [],
   "source": [
    "# most common returns a list of tuples\n",
    "# what is a tuple?\n",
    "# a tuple is a list that is immutable\n",
    "# you can not change the values in a tuple, you can not add or remove values\n",
    "# so list of tuples is roughly analogous to a 2D array"
   ]
  },
  {
   "cell_type": "code",
   "execution_count": null,
   "metadata": {
    "id": "Cv97JH-mv3S-"
   },
   "outputs": [],
   "source": [
    "# so now that we have some prelimenary results in\n",
    "# we could start thinking about stripping stopwords\n",
    "# maybe getting rid of very short words"
   ]
  },
  {
   "cell_type": "code",
   "execution_count": null,
   "metadata": {
    "id": "ajlrZRbmv3S-",
    "outputId": "21ed2871-fcb3-4e47-b7c6-3622181c3de9"
   },
   "outputs": [
    {
     "data": {
      "text/plain": [
       "485"
      ]
     },
     "execution_count": 31,
     "metadata": {},
     "output_type": "execute_result"
    }
   ],
   "source": [
    "word_count[\"she\"] # turns out Counter is just a dictionary with some benefits"
   ]
  },
  {
   "cell_type": "code",
   "execution_count": null,
   "metadata": {
    "id": "0BZu2Jp5v3S_",
    "outputId": "673f8fac-cd72-4953-dbe7-93b8d4df1b8f"
   },
   "outputs": [
    {
     "data": {
      "text/plain": [
       "94"
      ]
     },
     "execution_count": 32,
     "metadata": {},
     "output_type": "execute_result"
    }
   ],
   "source": [
    "word_count[\"he\"]"
   ]
  },
  {
   "cell_type": "code",
   "execution_count": null,
   "metadata": {
    "id": "BhOGQJP0v3S_"
   },
   "outputs": [],
   "source": [
    "import csv"
   ]
  },
  {
   "cell_type": "code",
   "execution_count": null,
   "metadata": {
    "id": "Sl7JMmEgv3S_"
   },
   "outputs": [],
   "source": [
    "with open(\"word_count.tsv\", mode=\"w\", encoding=\"utf-8\") as f:\n",
    "    f.write(\"word\\tcount\\n\") # so we add newlines by hand\n",
    "    for word,count in word_count.most_common():\n",
    "        f.write(f\"{word}\\t{count}\\n\")"
   ]
  },
  {
   "cell_type": "code",
   "execution_count": null,
   "metadata": {
    "id": "b7wKJdnFv3S_"
   },
   "outputs": [],
   "source": [
    "# we can use libraries such as CSV and Pandas to take care of writing\n",
    "#"
   ]
  },
  {
   "cell_type": "code",
   "execution_count": null,
   "metadata": {
    "id": "GPzII11yv3S_"
   },
   "outputs": [],
   "source": [
    "# to continue we will need to perform some additional cleaning\n",
    "# maybe think about some visualization of some of this data"
   ]
  },
  {
   "cell_type": "markdown",
   "metadata": {
    "id": "aAowzTEdAK5c"
   },
   "source": [
    "## Latvian version of word count for Veidenbaums"
   ]
  },
  {
   "cell_type": "code",
   "execution_count": null,
   "metadata": {
    "id": "G8Gqxw7av3S_"
   },
   "outputs": [],
   "source": [
    "# we will need to clean all lines which contain *** as ending characters\n",
    "# so lets try reading lines\n",
    "# filePath = \"../data/Veidenbaums.txt\"\n",
    "# with open(filePath, encoding=\"utf-8\") as fstream:\n",
    "#     mylines = fstream.readlines()\n",
    "# len(mylines)"
   ]
  },
  {
   "cell_type": "code",
   "execution_count": null,
   "metadata": {
    "id": "fAzhZi9qv3S_"
   },
   "outputs": [],
   "source": [
    "mylines[:15]"
   ]
  },
  {
   "cell_type": "code",
   "execution_count": null,
   "metadata": {
    "id": "xReXBb6Fv3S_"
   },
   "outputs": [],
   "source": [
    "cleanlines = [line for line in mylines if line[0]!='\\n']\n",
    "len(cleanlines)"
   ]
  },
  {
   "cell_type": "code",
   "execution_count": null,
   "metadata": {
    "id": "ns7zY31Hv3TA"
   },
   "outputs": [],
   "source": [
    "cleanlines[:5]"
   ]
  },
  {
   "cell_type": "code",
   "execution_count": null,
   "metadata": {
    "id": "bB7cnnMHv3TA"
   },
   "outputs": [],
   "source": [
    "# we do not want the lines which end with ***\\n\n",
    "headlines = [line for line in cleanlines if line.endswith(\"***\\n\")]\n",
    "headlines[:5]\n",
    "# we do not need the headlines!"
   ]
  },
  {
   "cell_type": "code",
   "execution_count": null,
   "metadata": {
    "id": "XqF6hQIxv3TA"
   },
   "outputs": [],
   "source": [
    "# we do not want the lines which end with ***\\n\n",
    "noheadlines = [line for line in cleanlines if not line.endswith(\"***\\n\")]\n",
    "noheadlines[:5]"
   ]
  },
  {
   "cell_type": "code",
   "execution_count": null,
   "metadata": {
    "id": "J3nRNruEv3TA"
   },
   "outputs": [],
   "source": [
    "# we could save the results\n",
    "savePath = \"../data/noHeadVeidenbaums.txt\"\n",
    "with open(savePath, mode=\"w\", encoding=\"utf-8\") as fstream:\n",
    "    fstream.writelines(noheadlines)"
   ]
  },
  {
   "cell_type": "code",
   "execution_count": null,
   "metadata": {
    "id": "o3dQEYiVv3TA",
    "outputId": "4a70f8f5-0f78-4e04-8b11-6f3d5babcfdd"
   },
   "outputs": [
    {
     "data": {
      "text/plain": [
       "366"
      ]
     },
     "execution_count": 1,
     "metadata": {},
     "output_type": "execute_result"
    }
   ],
   "source": [
    "# May 6th lets start with noheadlines\n",
    "myPath = \"../data/noHeadVeidenbaums.txt\"\n",
    "with open(myPath, encoding=\"utf-8\") as fstream:\n",
    "    noheadlines = fstream.readlines()\n",
    "len(noheadlines)"
   ]
  },
  {
   "cell_type": "code",
   "execution_count": null,
   "metadata": {
    "id": "MYMNaX_pv3TA",
    "outputId": "73cfd8d8-9008-4dd1-8d93-8c44d7bc687d"
   },
   "outputs": [
    {
     "data": {
      "text/plain": [
       "365"
      ]
     },
     "execution_count": 13,
     "metadata": {},
     "output_type": "execute_result"
    }
   ],
   "source": [
    "#\n",
    "noheadlines = [line for line in noheadlines if not \"Treimanim\" in line]\n",
    "len(noheadlines)"
   ]
  },
  {
   "cell_type": "code",
   "execution_count": null,
   "metadata": {
    "id": "ZqUn_LI-v3TB"
   },
   "outputs": [],
   "source": [
    "spaceChars = \"\\n-\"\n",
    "stopChars = \"\"\"!?.,\"':;()…\"\"\"\n"
   ]
  },
  {
   "cell_type": "code",
   "execution_count": null,
   "metadata": {
    "id": "MSbin1AIv3TB"
   },
   "outputs": [],
   "source": [
    "for char in stopChars:\n",
    "    print(char)"
   ]
  },
  {
   "cell_type": "code",
   "execution_count": null,
   "metadata": {
    "id": "vUxh57hnv3TB",
    "outputId": "84778af0-3767-4ac8-e686-18843ab03597"
   },
   "outputs": [
    {
     "data": {
      "text/plain": [
       "'Pēc ideāliem cenšas lielie gari,\\nBet dzīvē ieņemt vietu'"
      ]
     },
     "execution_count": 25,
     "metadata": {},
     "output_type": "execute_result"
    }
   ],
   "source": [
    "# One big text from many lines\n",
    "textNoHead = \"\".join(noheadlines) # we could have used fstream.read earlier\n",
    "textNoHead[:55]"
   ]
  },
  {
   "cell_type": "code",
   "execution_count": null,
   "metadata": {
    "id": "G0hwml-ov3TB",
    "outputId": "155eeab4-71b1-4008-f74a-99dc7596c830"
   },
   "outputs": [
    {
     "name": "stdout",
     "output_type": "stream",
     "text": [
      "Replacing \n",
      " with space\n",
      "Replacing - with space\n"
     ]
    },
    {
     "data": {
      "text/plain": [
       "'Pēc ideāliem cenšas lielie gari, Bet dzīvē ieņemt vietu pirmie Tie neiespēj'"
      ]
     },
     "execution_count": 26,
     "metadata": {},
     "output_type": "execute_result"
    }
   ],
   "source": [
    "# take off spacy Characters replace with space (why space ? :)\n",
    "for char in spaceChars:\n",
    "    print(f\"Replacing {char} with space\")\n",
    "    textNoHead = textNoHead.replace(char, \" \")\n",
    "#     print(textNoHead[:75])\n",
    "textNoHead[:75]"
   ]
  },
  {
   "cell_type": "code",
   "execution_count": null,
   "metadata": {
    "id": "wGb4U3N4v3TB"
   },
   "outputs": [],
   "source": []
  },
  {
   "cell_type": "code",
   "execution_count": null,
   "metadata": {
    "id": "kTZB1vlzv3TB",
    "outputId": "09958ef6-f5fb-4643-e462-0f120e8e2fab"
   },
   "outputs": [
    {
     "name": "stdout",
     "output_type": "stream",
     "text": [
      "Replacing ! with nothing\n",
      "Replacing ? with nothing\n",
      "Replacing . with nothing\n",
      "Replacing , with nothing\n",
      "Replacing \" with nothing\n",
      "Replacing ' with nothing\n",
      "Replacing : with nothing\n",
      "Replacing ; with nothing\n",
      "Replacing ( with nothing\n",
      "Replacing ) with nothing\n",
      "Replacing … with nothing\n"
     ]
    },
    {
     "data": {
      "text/plain": [
       "'Pēc ideāliem cenšas lielie gari Bet dzīvē ieņemt vietu '"
      ]
     },
     "execution_count": 27,
     "metadata": {},
     "output_type": "execute_result"
    }
   ],
   "source": [
    "for char in stopChars:\n",
    "    print(f\"Replacing {char} with nothing\")\n",
    "    textNoHead = textNoHead.replace(char, \"\")\n",
    "textNoHead[:55]"
   ]
  },
  {
   "cell_type": "code",
   "execution_count": null,
   "metadata": {
    "id": "0f46yRaqv3TC"
   },
   "outputs": [],
   "source": [
    "savePath = \"../data/noHeadVeidenbaumsOneLine.txt\"\n",
    "with open(savePath, mode=\"w\", encoding=\"utf-8\") as fstream:\n",
    "    fstream.write(textNoHead)"
   ]
  },
  {
   "cell_type": "code",
   "execution_count": null,
   "metadata": {
    "id": "lJjCgM9Xv3TC",
    "outputId": "e43b62fd-72b0-4933-9702-fd2f1c8a489a"
   },
   "outputs": [
    {
     "ename": "ValueError",
     "evalue": "substring not found",
     "output_type": "error",
     "traceback": [
      "\u001b[1;31m---------------------------------------------------------------------------\u001b[0m",
      "\u001b[1;31mValueError\u001b[0m                                Traceback (most recent call last)",
      "\u001b[1;32m<ipython-input-20-cadf8a59266b>\u001b[0m in \u001b[0;36m<module>\u001b[1;34m\u001b[0m\n\u001b[1;32m----> 1\u001b[1;33m \u001b[0mtextNoHead\u001b[0m\u001b[1;33m.\u001b[0m\u001b[0mindex\u001b[0m\u001b[1;33m(\u001b[0m\u001b[1;34m\"Vēstule\"\u001b[0m\u001b[1;33m)\u001b[0m\u001b[1;33m\u001b[0m\u001b[1;33m\u001b[0m\u001b[0m\n\u001b[0m\u001b[0;32m      2\u001b[0m \u001b[1;31m# nothing found thats good\u001b[0m\u001b[1;33m\u001b[0m\u001b[1;33m\u001b[0m\u001b[1;33m\u001b[0m\u001b[0m\n",
      "\u001b[1;31mValueError\u001b[0m: substring not found"
     ]
    }
   ],
   "source": [
    "textNoHead.index(\"Vēstule\")\n",
    "# nothing found thats good"
   ]
  },
  {
   "cell_type": "code",
   "execution_count": null,
   "metadata": {
    "id": "Qs9fwbQ6v3TC",
    "outputId": "208e9b42-3ece-44f1-b7dd-efe01a3e68e1"
   },
   "outputs": [
    {
     "data": {
      "text/plain": [
       "'eiz zaļoja jaunība cerības pla'"
      ]
     },
     "execution_count": 29,
     "metadata": {},
     "output_type": "execute_result"
    }
   ],
   "source": [
    "textNoHead[5400:5430]"
   ]
  },
  {
   "cell_type": "code",
   "execution_count": null,
   "metadata": {
    "id": "ctTwMH5Xv3TC",
    "outputId": "3afcdd16-8703-485d-e2a5-bd5bff3d9015"
   },
   "outputs": [
    {
     "data": {
      "text/plain": [
       "{' ',\n",
       " 'A',\n",
       " 'B',\n",
       " 'C',\n",
       " 'D',\n",
       " 'E',\n",
       " 'G',\n",
       " 'I',\n",
       " 'J',\n",
       " 'K',\n",
       " 'L',\n",
       " 'M',\n",
       " 'N',\n",
       " 'O',\n",
       " 'P',\n",
       " 'R',\n",
       " 'S',\n",
       " 'T',\n",
       " 'U',\n",
       " 'V',\n",
       " 'Z',\n",
       " 'a',\n",
       " 'b',\n",
       " 'c',\n",
       " 'd',\n",
       " 'e',\n",
       " 'f',\n",
       " 'g',\n",
       " 'i',\n",
       " 'j',\n",
       " 'k',\n",
       " 'l',\n",
       " 'm',\n",
       " 'n',\n",
       " 'o',\n",
       " 'p',\n",
       " 'r',\n",
       " 's',\n",
       " 't',\n",
       " 'u',\n",
       " 'v',\n",
       " 'z',\n",
       " 'Ā',\n",
       " 'ā',\n",
       " 'č',\n",
       " 'Ē',\n",
       " 'ē',\n",
       " 'ģ',\n",
       " 'Ī',\n",
       " 'ī',\n",
       " 'ķ',\n",
       " 'ļ',\n",
       " 'ņ',\n",
       " 'Š',\n",
       " 'š',\n",
       " 'ū',\n",
       " 'ž'}"
      ]
     },
     "execution_count": 30,
     "metadata": {},
     "output_type": "execute_result"
    }
   ],
   "source": [
    "# charSet that's Camelcase another style\n",
    "char_set = set(textNoHead)\n",
    "char_set"
   ]
  },
  {
   "cell_type": "code",
   "execution_count": null,
   "metadata": {
    "id": "Xp10CK-dv3TC",
    "outputId": "ff458714-8112-4161-ed1a-47ae027d0d76"
   },
   "outputs": [
    {
     "data": {
      "text/plain": [
       "8230"
      ]
     },
     "execution_count": 23,
     "metadata": {},
     "output_type": "execute_result"
    }
   ],
   "source": [
    "ord(\"…\")"
   ]
  },
  {
   "cell_type": "code",
   "execution_count": null,
   "metadata": {
    "id": "hYtnzvbIv3TC",
    "outputId": "6583c618-ab40-4d1f-f10c-d8a123520a73"
   },
   "outputs": [
    {
     "data": {
      "text/plain": [
       "['Pēc', 'ideāliem', 'cenšas', 'lielie', 'gari']"
      ]
     },
     "execution_count": 31,
     "metadata": {},
     "output_type": "execute_result"
    }
   ],
   "source": [
    "words = textNoHead.split()\n",
    "words[:5]"
   ]
  },
  {
   "cell_type": "code",
   "execution_count": null,
   "metadata": {
    "id": "wx0ynv4Ev3TD",
    "outputId": "ab231a93-251c-48b7-e557-3fab08c6ab98"
   },
   "outputs": [
    {
     "data": {
      "text/plain": [
       "['pēc', 'ideāliem', 'cenšas', 'lielie', 'gari']"
      ]
     },
     "execution_count": 33,
     "metadata": {},
     "output_type": "execute_result"
    }
   ],
   "source": [
    "# we need to convert to lower case\n",
    "# for word in words:\n",
    "words_lower = [word.lower() for word in words]\n",
    "words_lower[:5]\n"
   ]
  },
  {
   "cell_type": "code",
   "execution_count": null,
   "metadata": {
    "id": "P_8T01nvv3TD",
    "outputId": "0f729685-3d2b-4d29-cc3e-ece26f24c170"
   },
   "outputs": [
    {
     "data": {
      "text/plain": [
       "1865"
      ]
     },
     "execution_count": 34,
     "metadata": {},
     "output_type": "execute_result"
    }
   ],
   "source": [
    "len(words_lower)"
   ]
  },
  {
   "cell_type": "code",
   "execution_count": null,
   "metadata": {
    "id": "byJNCEgGv3TD"
   },
   "outputs": [],
   "source": [
    "# if we want to do it ourselves\n",
    "# we could store it in a dictionary word and count\n",
    "# {'pēc':5, 'ideālie':1, 'cenšas':3}"
   ]
  },
  {
   "cell_type": "code",
   "execution_count": null,
   "metadata": {
    "id": "Tzu_3fGqv3TD",
    "outputId": "c111ee58-7d90-4524-f764-8bb1b0761d48"
   },
   "outputs": [
    {
     "data": {
      "text/plain": [
       "1064"
      ]
     },
     "execution_count": 35,
     "metadata": {},
     "output_type": "execute_result"
    }
   ],
   "source": [
    "unique_words = set(words_lower)\n",
    "len(unique_words)"
   ]
  },
  {
   "cell_type": "code",
   "execution_count": null,
   "metadata": {
    "id": "2B4cstZtv3TD",
    "outputId": "9720bbb8-4f36-4c61-dc6d-19b4efab7ccb"
   },
   "outputs": [
    {
     "data": {
      "text/plain": [
       "0"
      ]
     },
     "execution_count": 36,
     "metadata": {},
     "output_type": "execute_result"
    }
   ],
   "source": [
    "# i create a dictionary of unique words and set counter to 0\n",
    "my_counter_dict = {word:0 for word in list(unique_words)}\n",
    "my_counter_dict['pēc']"
   ]
  },
  {
   "cell_type": "code",
   "execution_count": null,
   "metadata": {
    "id": "aBTXZJRxv3TD"
   },
   "outputs": [],
   "source": [
    "for word in words_lower:\n",
    "    my_counter_dict[word] += 1 # each time i add 1 to right box(key)"
   ]
  },
  {
   "cell_type": "code",
   "execution_count": null,
   "metadata": {
    "id": "bb3xz8X-v3TD",
    "outputId": "73d7e282-a9f2-4189-fb49-d9d3536a2de2"
   },
   "outputs": [
    {
     "data": {
      "text/plain": [
       "11"
      ]
     },
     "execution_count": 52,
     "metadata": {},
     "output_type": "execute_result"
    }
   ],
   "source": [
    "my_counter_dict['pēc']"
   ]
  },
  {
   "cell_type": "code",
   "execution_count": null,
   "metadata": {
    "id": "nVlPlkW_v3TE",
    "outputId": "cd574137-8f60-4e11-b1a8-73a49ecda2ae"
   },
   "outputs": [
    {
     "data": {
      "text/plain": [
       "[('apkakli', 1), ('šūpulis', 1), ('aša', 1), ('līdz', 8), ('tiesas', 1)]"
      ]
     },
     "execution_count": 53,
     "metadata": {},
     "output_type": "execute_result"
    }
   ],
   "source": [
    "my_list_tuples = [(key, value) for key,value in my_counter_dict.items()]\n",
    "my_list_tuples[:5]"
   ]
  },
  {
   "cell_type": "code",
   "execution_count": null,
   "metadata": {
    "id": "85Qsf3RNv3TE",
    "outputId": "b620b0fd-678e-4396-b23f-27d393bf9679"
   },
   "outputs": [
    {
     "data": {
      "text/plain": [
       "[('acs', 1), ('agrāk', 1), ('aiz', 1), ('aizgāja', 1), ('aizmirsts', 1)]"
      ]
     },
     "execution_count": 54,
     "metadata": {},
     "output_type": "execute_result"
    }
   ],
   "source": [
    "sorted(my_list_tuples)[:5]\n",
    "# not quite what we need because it sorts by the first item alphabetically"
   ]
  },
  {
   "cell_type": "code",
   "execution_count": null,
   "metadata": {
    "id": "NkpI2rN5v3TE",
    "outputId": "94c32355-6953-4475-99bd-a276a9d3db92"
   },
   "outputs": [
    {
     "data": {
      "text/plain": [
       "[('un', 76),\n",
       " ('ir', 24),\n",
       " ('vēl', 22),\n",
       " ('tu', 21),\n",
       " ('tik', 21),\n",
       " ('bet', 15),\n",
       " ('kas', 15),\n",
       " ('nav', 14),\n",
       " ('man', 14),\n",
       " ('kā', 13)]"
      ]
     },
     "execution_count": 57,
     "metadata": {},
     "output_type": "execute_result"
    }
   ],
   "source": [
    "# solution we pass a function to show how to sort\n",
    "my_most_common = sorted(my_list_tuples,key=lambda mytuple: mytuple[1], reverse=True)\n",
    "my_most_common[:10]"
   ]
  },
  {
   "cell_type": "code",
   "execution_count": null,
   "metadata": {
    "id": "bNDLfS77v3TE"
   },
   "outputs": [],
   "source": [
    "# so sorting is possible but my recommendation is to use Counter"
   ]
  },
  {
   "cell_type": "code",
   "execution_count": null,
   "metadata": {
    "id": "ragMi5w1v3TE"
   },
   "outputs": [],
   "source": [
    "# well and now I would to like sort\n",
    "# its possible then I need to create a list from dictionary and then sort by key value\n",
    "# solution use a library"
   ]
  },
  {
   "cell_type": "code",
   "execution_count": null,
   "metadata": {
    "id": "BDETRNq3v3TE"
   },
   "outputs": [],
   "source": [
    "# Batteries are included no need to write our own counter\n",
    "from collections import Counter"
   ]
  },
  {
   "cell_type": "code",
   "execution_count": null,
   "metadata": {
    "id": "d5qrNHkXv3TE"
   },
   "outputs": [],
   "source": [
    "mycounter = Counter(words_lower)\n"
   ]
  },
  {
   "cell_type": "code",
   "execution_count": null,
   "metadata": {
    "id": "vqYfkWLiv3TE",
    "outputId": "5d859ccd-cc03-49d0-c556-968affc8853d"
   },
   "outputs": [
    {
     "data": {
      "text/plain": [
       "[('un', 76),\n",
       " ('ir', 24),\n",
       " ('vēl', 22),\n",
       " ('tik', 21),\n",
       " ('tu', 21),\n",
       " ('bet', 15),\n",
       " ('kas', 15),\n",
       " ('nav', 14),\n",
       " ('man', 14),\n",
       " ('par', 13)]"
      ]
     },
     "execution_count": 41,
     "metadata": {},
     "output_type": "execute_result"
    }
   ],
   "source": [
    "mycounter.most_common(10)"
   ]
  },
  {
   "cell_type": "code",
   "execution_count": null,
   "metadata": {
    "id": "nuaiTQ0Zv3TF",
    "outputId": "eb90bd9d-a7ba-4805-afea-7c789fd4d7c0"
   },
   "outputs": [
    {
     "data": {
      "text/plain": [
       "list"
      ]
     },
     "execution_count": 42,
     "metadata": {},
     "output_type": "execute_result"
    }
   ],
   "source": [
    "type(mycounter.most_common(10))"
   ]
  },
  {
   "cell_type": "code",
   "execution_count": null,
   "metadata": {
    "id": "2B1HM9Q9v3TF",
    "outputId": "5ef45cbb-6f9e-44d0-fab7-84f2db3bf47b"
   },
   "outputs": [
    {
     "data": {
      "text/plain": [
       "1283"
      ]
     },
     "execution_count": 44,
     "metadata": {},
     "output_type": "execute_result"
    }
   ],
   "source": [
    "# how to get only words 4 chars or longer ? :)\n",
    "long_words = [word for word in words_lower if len(word) >= 4 ]\n",
    "len(long_words)"
   ]
  },
  {
   "cell_type": "code",
   "execution_count": null,
   "metadata": {
    "id": "ARcgnBXkv3TF",
    "outputId": "fe8af05e-84f7-4741-a929-0af60ec09a70"
   },
   "outputs": [
    {
     "data": {
      "text/plain": [
       "[('reiz', 10),\n",
       " ('viss', 9),\n",
       " ('līdz', 8),\n",
       " ('mums', 7),\n",
       " ('sauc', 6),\n",
       " ('gars', 6),\n",
       " ('projām', 6),\n",
       " ('laiks', 5),\n",
       " ('sirds', 5),\n",
       " ('tomēr', 5)]"
      ]
     },
     "execution_count": 45,
     "metadata": {},
     "output_type": "execute_result"
    }
   ],
   "source": [
    "long_counter = Counter(long_words)\n",
    "long_counter.most_common(10)"
   ]
  },
  {
   "cell_type": "code",
   "execution_count": null,
   "metadata": {
    "id": "ap_EzlVsv3TF",
    "outputId": "3429fd35-9c49-42d7-a4ec-0adbbe2cd920"
   },
   "outputs": [
    {
     "data": {
      "text/plain": [
       "True"
      ]
     },
     "execution_count": 46,
     "metadata": {},
     "output_type": "execute_result"
    }
   ],
   "source": [
    "'alus' in long_counter"
   ]
  },
  {
   "cell_type": "code",
   "execution_count": null,
   "metadata": {
    "id": "meqNjfyDv3TF",
    "outputId": "bc6c0e6a-93c4-4810-dc4b-3cecfddbb22a"
   },
   "outputs": [
    {
     "data": {
      "text/plain": [
       "collections.Counter"
      ]
     },
     "execution_count": 47,
     "metadata": {},
     "output_type": "execute_result"
    }
   ],
   "source": [
    "type(long_counter)"
   ]
  },
  {
   "cell_type": "code",
   "execution_count": null,
   "metadata": {
    "id": "NBSvO0_3v3TF",
    "outputId": "e7ca24fc-6e56-4712-a47a-ac7ca5fd750f"
   },
   "outputs": [
    {
     "data": {
      "text/plain": [
       "(2, 2)"
      ]
     },
     "execution_count": 49,
     "metadata": {},
     "output_type": "execute_result"
    }
   ],
   "source": [
    "long_counter.get('alus'), long_counter['alus'] #2nd would throw error if no beer existed"
   ]
  },
  {
   "cell_type": "code",
   "execution_count": null,
   "metadata": {
    "id": "mVYNR2ODv3TF",
    "outputId": "f976918a-dbe7-4474-e0e6-789b25ddc177"
   },
   "outputs": [
    {
     "data": {
      "text/plain": [
       "[('laiks', 5),\n",
       " ('sirds', 5),\n",
       " ('tomēr', 5),\n",
       " ('likumīgi', 5),\n",
       " ('dzīves', 5),\n",
       " ('iedzer', 5)]"
      ]
     },
     "execution_count": 51,
     "metadata": {},
     "output_type": "execute_result"
    }
   ],
   "source": [
    "# we only get 5 letter words here\n",
    "word_counter_5 = [mytuple for mytuple in long_counter.most_common() if mytuple[1] == 5]\n",
    "word_counter_5"
   ]
  },
  {
   "cell_type": "code",
   "execution_count": null,
   "metadata": {
    "id": "Pnzltvvhv3TG"
   },
   "outputs": [],
   "source": [
    "import json"
   ]
  },
  {
   "cell_type": "code",
   "execution_count": null,
   "metadata": {
    "id": "Zqt3NPbov3TG"
   },
   "outputs": [],
   "source": [
    "with open('most_common.json', mode='w', encoding='utf-8') as fstream:\n",
    "    json.dump(mycounter.most_common(), fstream, indent=2)"
   ]
  },
  {
   "cell_type": "code",
   "execution_count": null,
   "metadata": {
    "id": "JS8vCpmzv3TG"
   },
   "outputs": [],
   "source": [
    "# if we want to save our Latvian or other languages besides ENglish we set\n",
    "# turn off ascii\n",
    "# https://stackoverflow.com/questions/18337407/saving-utf-8-texts-in-json-dumps-as-utf8-not-as-u-escape-sequence\n",
    "with open('most_common.json', mode='w', encoding='utf-8') as fstream:\n",
    "    json.dump(mycounter.most_common(), fstream, indent=2, ensure_ascii=False)"
   ]
  },
  {
   "cell_type": "code",
   "execution_count": null,
   "metadata": {
    "id": "poBh5EDSv3TG"
   },
   "outputs": [],
   "source": []
  }
 ],
 "metadata": {
  "colab": {
   "provenance": [],
   "toc_visible": true
  },
  "kernelspec": {
   "display_name": "Python 3",
   "language": "python",
   "name": "python3"
  },
  "language_info": {
   "codemirror_mode": {
    "name": "ipython",
    "version": 3
   },
   "file_extension": ".py",
   "mimetype": "text/x-python",
   "name": "python",
   "nbconvert_exporter": "python",
   "pygments_lexer": "ipython3",
   "version": "3.11.4"
  }
 },
 "nbformat": 4,
 "nbformat_minor": 0
}
