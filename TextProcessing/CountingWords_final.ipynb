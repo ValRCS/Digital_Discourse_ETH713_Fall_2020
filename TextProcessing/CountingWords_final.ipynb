{
 "cells": [
  {
   "cell_type": "markdown",
   "metadata": {},
   "source": [
    "# Basic Discourse Analysis\n",
    "\n",
    "Today we will use Python standard library to perform a basic discourse analysis on a text. We will use the text of the book \"Alice's Adventures in Wonderland\" by Lewis Carroll. \n",
    "\n",
    "We will use various standard modules to perform analysis. \n",
    "\n"
   ]
  },
  {
   "cell_type": "code",
   "execution_count": null,
   "metadata": {
    "id": "6NuEjNf3v3Sm"
   },
   "outputs": [],
   "source": [
    "# Assignment: Count Most Frequently used words in Veidenbaums.txt\n",
    "# For English let's use Alice in Wonderland"
   ]
  },
  {
   "cell_type": "markdown",
   "metadata": {},
   "source": [
    "## Getting the data\n",
    "\n",
    "1. We could download from the internet.\n",
    "2. We could use the `requests` module to download the text. - later\n",
    "3. We could use the `urllib` module to download the text. \n"
   ]
  },
  {
   "cell_type": "code",
   "execution_count": null,
   "metadata": {},
   "outputs": [
    {
     "data": {
      "text/plain": [
       "('Alice_Wonderland.txt', <http.client.HTTPMessage at 0x2dd07a73710>)"
      ]
     },
     "execution_count": 1,
     "metadata": {},
     "output_type": "execute_result"
    }
   ],
   "source": [
    "# let's use built in urrlib model to download the text file and save it in current directory\n",
    "import urllib.request # this is standard library for downloading files from the internet\n",
    "# major alternative is requests library, which is more user friendly, but not part of standard library\n",
    "url = 'https://raw.githubusercontent.com/ValRCS/Digital_Discourse_ETH713_Fall_2020/refs/heads/main/data/Alice_Wonderland.txt'\n",
    "urllib.request.urlretrieve(url, 'Alice_Wonderland.txt')\n",
    "# Plan B: if you can't download the file, you can always download it manually and place it in the same directory as this script\n"
   ]
  },
  {
   "cell_type": "markdown",
   "metadata": {},
   "source": [
    "## Verifying the data\n",
    "\n",
    "Some things we can do to verify the data:\n",
    "\n",
    "1. Check the length of the text.\n",
    "2. Check the first few lines of the text.\n",
    "3. Check the last few lines of the text."
   ]
  },
  {
   "cell_type": "code",
   "execution_count": null,
   "metadata": {},
   "outputs": [
    {
     "name": "stdout",
     "output_type": "stream",
     "text": [
      "Absolute Path: d:\\Github\\Digital_Discourse_ETH713_Fall_2020\\TextProcessing\n"
     ]
    }
   ],
   "source": [
    "# let's see what is in our current directory\n",
    "# we can Path from pathlib library to work with files and directories\n",
    "from pathlib import Path\n",
    "# let's see what is in our current directory\n",
    "current_dir = Path.cwd() # it is OS agnostic works on all platforms Linux, Windows, MacOS\n",
    "# some other ways of doing it might fail on some platforms\n",
    "print(\"Absolute Current Path:\", current_dir)"
   ]
  },
  {
   "cell_type": "markdown",
   "metadata": {},
   "source": [
    "### Meaning of Absolute Path\n",
    "\n",
    "Absolute Path represents the path of the file from the root directory.\n",
    "This means it is the complete path of the file from the root directory. There can only be one absolute path for a specific file."
   ]
  },
  {
   "cell_type": "code",
   "execution_count": 7,
   "metadata": {},
   "outputs": [
    {
     "name": "stdout",
     "output_type": "stream",
     "text": [
      "Files in current directory:\n",
      ".ipynb_checkpoints 0.0 KB 1675013548.3718455\n",
      "Alice_clean.txt 151.0 KB 1668610470.4490378\n",
      "Alice_Wonderland.txt 170.6 KB 1731687849.920705\n",
      "alice_word_count.tsv 26.5 KB 1668613790.2345233\n",
      "CountingWords.ipynb 9.6 KB 1657528800.2265394\n",
      "CountingWords_final.ipynb 196.2 KB 1731688009.4946368\n",
      "my_folder 0.0 KB 1668610598.6784487\n",
      "README.md 0.0 KB 1635868828.7869132\n",
      "word_count.tsv 57.9 KB 1635868828.7879076\n"
     ]
    }
   ],
   "source": [
    "from time import strftime\n",
    "# now since we have our current directory, let's read see what files we have\n",
    "print(\"Files in current directory:\")\n",
    "# let's print size and date of last modification as well\n",
    "for file in current_dir.iterdir():\n",
    "    # print(file.name, file.stat().st_size, file.stat().st_mtime)\n",
    "    # let's use user friendly format for size and time\n",
    "    file_size_KB = file.stat().st_size / 1024\n",
    "    # let's use strftime to format time\n",
    "\n",
    "    # \"%Y-%m-%d_%H:%M:%S\" is how you want to show the time\n",
    "    # you can change it to your liking as you see fit\n",
    "    # file_time = strftime(\"%Y-%m-%d %H:%M:%S\", file.stat().st_mtime)\n",
    "    # format st_mtime as current time in human readable format\n",
    "    # st_mtime is float number of milliseconds since epoch - 1.1.1970\n",
    "    # TODO see how we can convert it to human readable format\n",
    "    print(file.name, f\"{file_size_KB:.1f} KB\", file.stat().st_mtime)"
   ]
  },
  {
   "cell_type": "code",
   "execution_count": 8,
   "metadata": {},
   "outputs": [
    {
     "name": "stdout",
     "output_type": "stream",
     "text": [
      "Text files in current directory:\n",
      "Alice_clean.txt\n",
      "Alice_Wonderland.txt\n"
     ]
    }
   ],
   "source": [
    "# let's see how you would get a list of txt files in the current folder\n",
    "# we can use glob in pathlib\n",
    "txt_files = list(current_dir.glob(\"*.txt\")) # very similar to how we use wildcards in bash, windows explorer, finder\n",
    "print(\"Text files in current directory:\")\n",
    "for txt_file in txt_files:\n",
    "    print(txt_file.name)"
   ]
  },
  {
   "cell_type": "code",
   "execution_count": null,
   "metadata": {},
   "outputs": [
    {
     "name": "stdout",
     "output_type": "stream",
     "text": [
      "<class 'list'>\n",
      "<class 'pathlib.WindowsPath'>\n"
     ]
    }
   ],
   "source": [
    "# our individual files are Path objects, we need to convert them to strings to open them\n",
    "# print type of txt_files\n",
    "print(type(txt_files))\n",
    "# first one type\n",
    "print(type(txt_files[0])) # will print Windows or PosixPath"
   ]
  },
  {
   "cell_type": "code",
   "execution_count": null,
   "metadata": {},
   "outputs": [
    {
     "name": "stdout",
     "output_type": "stream",
     "text": [
      "['d:\\\\Github\\\\Digital_Discourse_ETH713_Fall_2020\\\\TextProcessing\\\\Alice_clean.txt', 'd:\\\\Github\\\\Digital_Discourse_ETH713_Fall_2020\\\\TextProcessing\\\\Alice_Wonderland.txt']\n",
      "Alice_Wonderland.txt file exists in current directory\n"
     ]
    }
   ],
   "source": [
    "# so our assertion is that we have Alice_Wonderland.txt in our current directory\n",
    "assert Path(\"Alice_Wonderland.txt\").exists(), \"Alice_Wonderland.txt file does not exist in current directory\"\n",
    "# another way would be to check txt_files list\n",
    "# assert \"Alice_Wonderland.txt\" in txt_files, \"Alice_Wonderland.txt file does not exist in current directory\"\n",
    "# above would fail becaus txt_files contains Path objects, not strings\n",
    "# instead we can convert Path objects to strings\n",
    "\n",
    "txt_files_str = [str(txt_file) for txt_file in txt_files]\n",
    "print(txt_files_str)\n",
    "# now these are strings of full absolute paths\n",
    "# then we could check using loop\n",
    "for txt_file in txt_files_str:\n",
    "    if \"Alice_Wonderland.txt\" in txt_file:\n",
    "        # we found the file\n",
    "        print(\"Alice_Wonderland.txt file exists in current directory\")\n",
    "        break\n",
    "else:\n",
    "    # this is executed if we did not break out of the loop\n",
    "    print(\"Alice_Wonderland.txt file does not exist in current directory\")\n",
    "# print string names of our txt_files\n"
   ]
  },
  {
   "cell_type": "markdown",
   "metadata": {},
   "source": [
    "## Assertions as means of checking the data\n",
    "\n",
    "assert is a debugging aid that tests a condition as an expression. If the condition is true, it does nothing and your program just continues to execute. But if the condition is false, it raises an AssertionError exception with an optional error message."
   ]
  },
  {
   "cell_type": "code",
   "execution_count": null,
   "metadata": {},
   "outputs": [],
   "source": [
    "# so we could open the file as absolute path or relative path\n",
    "\n",
    "# relative path is relative to current directory\n",
    "# in this case the path would very simple - Alice_Wonderland.txt that is it"
   ]
  },
  {
   "cell_type": "markdown",
   "metadata": {},
   "source": [
    "## Opening File\n",
    "\n",
    "We will try both relative and absolute path to open the file.\n",
    "\n",
    "Again absolute path is the path of the file from the root directory.\n",
    "\n",
    "Relative path is the path of the file from the current directory."
   ]
  },
  {
   "cell_type": "code",
   "execution_count": null,
   "metadata": {},
   "outputs": [
    {
     "name": "stdout",
     "output_type": "stream",
     "text": [
      "Number of characters in the text: 164410\n"
     ]
    }
   ],
   "source": [
    "# we will use relative path\n",
    "relative_path = \"Alice_Wonderland.txt\"\n",
    "# let's open the file and read ALL contents into a string\n",
    "# we will use with statement to open the file\n",
    "\n",
    "# with is so called context manager\n",
    "# it will automatically close the file when we are done with it\n",
    "# with open(relative_path) as file: # reading is default mode\n",
    "# unfortunately by default we read encoded in ascii meaning basically only english characters\n",
    "# most often we want to read in utf-8 encoding\n",
    "# utf-8 supports all characters in all languages, including emojis etc.\n",
    "# best part is if you are reading ascii text it will be the same as ascii\n",
    "# this means it will not hurt to put encoding=\"utf-8\" even if you are reading ascii text\n",
    "# there are other encodings but utf-8 is most common by far\n",
    "\n",
    "with open(relative_path, mode=\"r\", encoding=\"utf-8\") as file:\n",
    "    # file is an file stream object - think of something like a pipe or stream of water\n",
    "    # in this case it is stream of characters\n",
    "    # read all contents of the file into a string\n",
    "    text = file.read() # here we read the whole file into a string\n",
    "    # here file is still open\n",
    "# here file is closed\n",
    "\n",
    "# let's print how many characters we have\n",
    "print(\"Number of characters in the text:\", len(text))\n",
    "# so we have the entire text as a single string in our text variable residing in memory"
   ]
  },
  {
   "cell_type": "code",
   "execution_count": null,
   "metadata": {
    "id": "Xa96ou89v3Sp"
   },
   "outputs": [],
   "source": [
    "# Open File - Get Data\n",
    "# Read Text\n",
    "# Split Text into word tokens\n",
    "# Count these tokens (we need to figure out how to)\n",
    "# Save/Print Results"
   ]
  },
  {
   "cell_type": "code",
   "execution_count": null,
   "metadata": {
    "id": "eKJ3mftbv3Sp"
   },
   "outputs": [],
   "source": [
    "# File is under /data/Veidenbaums.txt\n",
    "# Alice is under /data/Alice_Wonderland.txt\n",
    "# we are under /TextProcessing/CountingWords.ipynb"
   ]
  },
  {
   "cell_type": "code",
   "execution_count": null,
   "metadata": {
    "id": "NCQJ1vBlv3Sq"
   },
   "outputs": [],
   "source": [
    "# This means one level up and then again down into data\n",
    "# \"../data/Veidenbaums.txt\"\n",
    "# So called relative path\n"
   ]
  },
  {
   "cell_type": "code",
   "execution_count": 1,
   "metadata": {
    "colab": {
     "base_uri": "https://localhost:8080/",
     "height": 35
    },
    "id": "ZmjnfXSWxMjl",
    "outputId": "70ebb860-b1d8-42da-d311-215cbc8adcf5"
   },
   "outputs": [
    {
     "data": {
      "application/vnd.google.colaboratory.intrinsic+json": {
       "type": "string"
      },
      "text/plain": [
       "'/content'"
      ]
     },
     "execution_count": 1,
     "metadata": {},
     "output_type": "execute_result"
    }
   ],
   "source": [
    "import os\n",
    "current_path = os.getcwd()\n",
    "current_path"
   ]
  },
  {
   "cell_type": "code",
   "execution_count": 3,
   "metadata": {
    "colab": {
     "base_uri": "https://localhost:8080/"
    },
    "id": "CisEgvnAxfAx",
    "outputId": "a79584be-6b1b-4c1d-f524-193990b49575"
   },
   "outputs": [
    {
     "data": {
      "text/plain": [
       "[PosixPath('Alice_Wonderland.txt')]"
      ]
     },
     "execution_count": 3,
     "metadata": {},
     "output_type": "execute_result"
    }
   ],
   "source": [
    "from pathlib import Path\n",
    "files = list([f for f in Path(\"./\").glob(\"*.txt\")])\n",
    "files"
   ]
  },
  {
   "cell_type": "code",
   "execution_count": 5,
   "metadata": {
    "colab": {
     "base_uri": "https://localhost:8080/"
    },
    "id": "5-mxgogLv3Sr",
    "outputId": "f7ac16c1-91f3-445b-c762-1e3a1c9a385e"
   },
   "outputs": [
    {
     "data": {
      "text/plain": [
       "164410"
      ]
     },
     "execution_count": 5,
     "metadata": {},
     "output_type": "execute_result"
    }
   ],
   "source": [
    "# filePath = \"../data/Veidenbaums.txt\"\n",
    "# .. means one level up\n",
    "# data folder is a sibling of TextProcessing\n",
    "# filePath = \"../data/Alice_Wonderland.txt\"\n",
    "filePath = \"Alice_Wonderland.txt\" # this is relative to your current working directory\n",
    "# with is so called context manager\n",
    "# it will automatically close the file - otherwise you need to do it manually - which everyone forgets to do :)\n",
    "# with open(filePath, encoding=\"utf-8\") as fstream: # openign a filestream\n",
    "with open(\"Alice_Wonderland.txt\", encoding=\"utf-8\") as fstream: # openign a filestream\n",
    "    mytext = fstream.read() # here our textual data is read into memory\n",
    "    # as with most things in Python after : you need to indent\n",
    "    # fstream is still open here\n",
    "    # there are other ways to read files - but this is the most common one\n",
    "    # who said that you can't step into the same river twice?\n",
    "    # you can - but it will be a different river\n",
    "    # which Greek philosopher said that?\n",
    "    # Heraclitus - one of the pre-Socratics\n",
    "    # with file streams we can reset the pointer to the beginning of the file\n",
    "    # fstream.seek(0) - rare that you would need to do this\n",
    "    # usually you read the file once and then do something with it - like count words\n",
    "    # you do not need to read the file again - maybe you will want to write it again but that is a different story\n",
    "# once indentation ends here fstream is closed automatically for you\n",
    "len(mytext) # how many symbols are in our text"
   ]
  },
  {
   "cell_type": "code",
   "execution_count": 6,
   "metadata": {
    "colab": {
     "base_uri": "https://localhost:8080/"
    },
    "id": "AkoibvcEye1z",
    "outputId": "c1022253-3443-4301-e3f1-a54d81801718"
   },
   "outputs": [
    {
     "name": "stdout",
     "output_type": "stream",
     "text": [
      "This directory includes a few sample datasets to get you started.\n",
      "\n",
      "*   `california_housing_data*.csv` is California housing data from the 1990 US\n",
      "    Census; more information is available at:\n",
      "    https://developers.google.com/machine-learning/crash-course/california-housing-data-description\n",
      "\n",
      "*   `mnist_*.csv` is a small sample of the\n",
      "    [MNIST database](https://en.wikipedia.org/wiki/MNIST_database), which is\n",
      "    described at: http://yann.lecun.com/exdb/mnist/\n",
      "\n",
      "*   `anscombe.json` contains a copy of\n",
      "    [Anscombe's quartet](https://en.wikipedia.org/wiki/Anscombe%27s_quartet); it\n",
      "    was originally described in\n",
      "\n",
      "    Anscombe, F. J. (1973). 'Graphs in Statistical Analysis'. American\n",
      "    Statistician. 27 (1): 17-21. JSTOR 2682899.\n",
      "\n",
      "    and our copy was prepared by the\n",
      "    [vega_datasets library](https://github.com/altair-viz/vega_datasets/blob/4f67bdaad10f45e3549984e17e1b3088c731503d/vega_datasets/_data/anscombe.json).\n",
      "\n"
     ]
    }
   ],
   "source": [
    "with open(\"sample_data/README.md\", encoding=\"utf-8\") as file_stream:\n",
    "    readme_text = file_stream.read() # so reads all of it into memory\n",
    "    # file_stream is still open but completely read here\n",
    "# here file is closed completely\n",
    "print(readme_text)"
   ]
  },
  {
   "cell_type": "code",
   "execution_count": 14,
   "metadata": {
    "colab": {
     "base_uri": "https://localhost:8080/",
     "height": 53
    },
    "id": "Xrvb0AaFv3Ss",
    "outputId": "a8a42943-47f6-46cd-ecc5-255e4cbdf921"
   },
   "outputs": [
    {
     "data": {
      "application/vnd.google.colaboratory.intrinsic+json": {
       "type": "string"
      },
      "text/plain": [
       "'\\ufeffThe Project Gutenberg EBook of Alice’s Adventures in Wonderland, by Lewis Carroll\\n\\nThis eBook is for the use of anyone '"
      ]
     },
     "execution_count": 14,
     "metadata": {},
     "output_type": "execute_result"
    }
   ],
   "source": [
    "mytext[:120] # first 120 symbols from our text"
   ]
  },
  {
   "cell_type": "code",
   "execution_count": 15,
   "metadata": {
    "colab": {
     "base_uri": "https://localhost:8080/",
     "height": 53
    },
    "id": "n2QUr7QRv3St",
    "outputId": "ff8a1400-86ce-4f17-a389-2e7d713d2856"
   },
   "outputs": [
    {
     "data": {
      "application/vnd.google.colaboratory.intrinsic+json": {
       "type": "string"
      },
      "text/plain": [
       "'-tm,\\nincluding how to make donations to the Project Gutenberg Literary\\nArchive Foundation, how to help produce our new eBooks, and how to\\nsubscribe to our email newsletter to hear about new eBooks.\\n\\n\\n'"
      ]
     },
     "execution_count": 15,
     "metadata": {},
     "output_type": "execute_result"
    }
   ],
   "source": [
    "mytext[-200:] # last two hundred symbols of our text"
   ]
  },
  {
   "cell_type": "code",
   "execution_count": 16,
   "metadata": {
    "colab": {
     "base_uri": "https://localhost:8080/"
    },
    "id": "XyB71vkev3St",
    "outputId": "844d06e2-c5b0-4a09-f333-8e2fb0aa7e3c"
   },
   "outputs": [
    {
     "name": "stdout",
     "output_type": "stream",
     "text": [
      "The Project Gutenberg EBook of Alice’s Adventures in Wonderland, by Lewis Carroll\n",
      "\n",
      "This eBook is for the use of anyone anywhere in the United States and most\n",
      "other parts of the world at no cost and with almost no restrictions\n",
      "whatsoever.  You may copy it, give it away or re-use it under the terms o\n"
     ]
    }
   ],
   "source": [
    "print(mytext[:300]) # print first 300 symbols\n",
    "# print gives your more human readable output than just typing the variable name - which is more suitable for debugging"
   ]
  },
  {
   "cell_type": "code",
   "execution_count": null,
   "metadata": {
    "id": "nXYmTzYbv3Su"
   },
   "outputs": [],
   "source": [
    "# so one issue is that pretty much any data source will need additional cleaning\n",
    "# here we have header and footer sections with some legal data\n",
    "# this meta-data would distort our analysis\n",
    "# for one we would get mentions of Mr. Gutenberg\n",
    "# which Mr. Lewis Carrol did not intend\n"
   ]
  },
  {
   "cell_type": "code",
   "execution_count": 17,
   "metadata": {
    "colab": {
     "base_uri": "https://localhost:8080/"
    },
    "id": "Hy28VsWMv3Su",
    "outputId": "d5733fdb-974f-4d8e-b2ff-f280a080bfd6"
   },
   "outputs": [
    {
     "data": {
      "text/plain": [
       "str"
      ]
     },
     "execution_count": 17,
     "metadata": {},
     "output_type": "execute_result"
    }
   ],
   "source": [
    "# type of mytext is string\n",
    "type(mytext)"
   ]
  },
  {
   "cell_type": "code",
   "execution_count": 18,
   "metadata": {
    "colab": {
     "base_uri": "https://localhost:8080/"
    },
    "id": "gXViJpY6v3Sv",
    "outputId": "b77be118-10b4-4641-c21f-27505894e3ee"
   },
   "outputs": [
    {
     "data": {
      "text/plain": [
       "145459"
      ]
     },
     "execution_count": 18,
     "metadata": {},
     "output_type": "execute_result"
    }
   ],
   "source": [
    "# so we need to do some cleaning first\n",
    "# ideas on getting rid of header and footer sections\n",
    "#\n",
    "mytext.index(\"End of Project Gutenberg\")\n",
    "#this will the index of the first mention of the string"
   ]
  },
  {
   "cell_type": "code",
   "execution_count": 19,
   "metadata": {
    "colab": {
     "base_uri": "https://localhost:8080/"
    },
    "id": "H_am9W9Bv3Sv",
    "outputId": "c4d9d7da-05d4-4699-b85c-e931205ac7be"
   },
   "outputs": [
    {
     "data": {
      "text/plain": [
       "164410"
      ]
     },
     "execution_count": 19,
     "metadata": {},
     "output_type": "execute_result"
    }
   ],
   "source": [
    "len(mytext)"
   ]
  },
  {
   "cell_type": "markdown",
   "metadata": {},
   "source": [
    "## Checking start and end of our text"
   ]
  },
  {
   "cell_type": "code",
   "execution_count": 22,
   "metadata": {},
   "outputs": [
    {
     "name": "stdout",
     "output_type": "stream",
     "text": [
      "The Project Gutenberg EBook of Alice’s Adventures in Wonderland, by Lewis Carroll\n",
      "\n",
      "This eBook is for the use of anyone anywhere in the United States and most\n",
      "other parts of the world at no cost and with almost no restrictions\n",
      "whatsoever.  You may copy it, give it away or re-use it under the terms of\n",
      "the Project Gutenberg License included with this eBook or online at\n",
      "www.gutenberg.org.  If you are not located in the United States, you'll have\n",
      "to check the laws of the country where you are located before using this ebook.\n",
      "\n",
      "Title: Alice’s Adventures in Wonderland\n",
      "\n",
      "Author: Lewis Carroll\n",
      "\n",
      "Release Date: June 25, 2008 [EBook #11]\n",
      "[Most recently updated: October 12, 2020]\n",
      "\n",
      "Language: English\n",
      "\n",
      "Character set encoding: UTF-8\n",
      "\n",
      "*** START OF THIS PROJECT GUTENBERG EBOOK ALICE’S ADVENTURES IN WONDERLAND ***\n",
      "\n",
      "\n",
      "\n",
      "Produced by Arthur DiBianca and David Widger\n",
      "\n",
      "[Illustration]\n",
      "\n",
      "\n",
      "\n",
      "\n",
      "Alice’s Adventures in Wonderland\n",
      "\n",
      "by Lewis Carroll\n",
      "\n",
      "THE MILLENNIUM FULCRUM EDITION 3.0\n",
      "\n",
      "Contents\n",
      "\n",
      " CHAPTER I.     Down the Rabbit-Hole\n",
      " CHAPTER II.    The Pool of Tears\n",
      " CHAPTER III.   A Caucus-Race and a Long Tale\n",
      " CHAPTER IV.    The Rabbit Sends in a Little Bill\n",
      " CHAPTER V.     Advice from a Caterpillar\n",
      " CHAPTER VI.    Pig a\n"
     ]
    }
   ],
   "source": [
    "# let's print first N symbols\n",
    "N = 1_200\n",
    "print(text[:N]) # so simple slicing works on strings"
   ]
  },
  {
   "cell_type": "code",
   "execution_count": 23,
   "metadata": {},
   "outputs": [
    {
     "name": "stdout",
     "output_type": "stream",
     "text": [
      "nberg Web pages for current donation\n",
      "methods and addresses. Donations are accepted in a number of other\n",
      "ways including checks, online payments and credit card donations. To\n",
      "donate, please visit: www.gutenberg.org/donate\n",
      "\n",
      "Section 5. General Information About Project Gutenberg-tm electronic works.\n",
      "\n",
      "Professor Michael S. Hart was the originator of the Project\n",
      "Gutenberg-tm concept of a library of electronic works that could be\n",
      "freely shared with anyone. For forty years, he produced and\n",
      "distributed Project Gutenberg-tm eBooks with only a loose network of\n",
      "volunteer support.\n",
      "\n",
      "Project Gutenberg-tm eBooks are often created from several printed\n",
      "editions, all of which are confirmed as not protected by copyright in\n",
      "the U.S. unless a copyright notice is included. Thus, we do not\n",
      "necessarily keep eBooks in compliance with any particular paper\n",
      "edition.\n",
      "\n",
      "Most people start at our Web site which has the main PG search\n",
      "facility: www.gutenberg.org\n",
      "\n",
      "This Web site includes information about Project Gutenberg-tm,\n",
      "including how to make donations to the Project Gutenberg Literary\n",
      "Archive Foundation, how to help produce our new eBooks, and how to\n",
      "subscribe to our email newsletter to hear about new eBooks.\n",
      "\n",
      "\n",
      "\n"
     ]
    }
   ],
   "source": [
    "## how about last N symbols\n",
    "print(text[-N:]) # so simple slicing works on strings"
   ]
  },
  {
   "cell_type": "markdown",
   "metadata": {},
   "source": [
    "## Getting rid of header\n",
    "\n",
    "So we have determined that header ends with 4 new lines. That gives us a way to get rid of the header automatically."
   ]
  },
  {
   "cell_type": "code",
   "execution_count": null,
   "metadata": {
    "id": "Eh3X1q5Jv3Sv"
   },
   "outputs": [],
   "source": [
    "# so there are about 17000 symbols between the end of the book and the end of the file\n",
    "# we can use this to get rid of the footer\n",
    "# we can also use this to get rid of the header\n"
   ]
  },
  {
   "cell_type": "code",
   "execution_count": 24,
   "metadata": {
    "colab": {
     "base_uri": "https://localhost:8080/",
     "height": 178
    },
    "id": "_KRriyG20eQp",
    "outputId": "4bbbb518-2c87-4912-9e8a-87ae8f9d0635"
   },
   "outputs": [
    {
     "ename": "ValueError",
     "evalue": "ignored",
     "output_type": "error",
     "traceback": [
      "\u001b[0;31m---------------------------------------------------------------------------\u001b[0m",
      "\u001b[0;31mValueError\u001b[0m                                Traceback (most recent call last)",
      "\u001b[0;32m<ipython-input-24-25747fe91969>\u001b[0m in \u001b[0;36m<cell line: 1>\u001b[0;34m()\u001b[0m\n\u001b[0;32m----> 1\u001b[0;31m \u001b[0mmytext\u001b[0m\u001b[0;34m.\u001b[0m\u001b[0mindex\u001b[0m\u001b[0;34m(\u001b[0m\u001b[0;34m\"NotEnd of Project Gutenberg\"\u001b[0m\u001b[0;34m)\u001b[0m \u001b[0;31m# raises Error\u001b[0m\u001b[0;34m\u001b[0m\u001b[0;34m\u001b[0m\u001b[0m\n\u001b[0m",
      "\u001b[0;31mValueError\u001b[0m: substring not found"
     ]
    }
   ],
   "source": [
    "mytext.index(\"NotEnd of Project Gutenberg\") # raises Error"
   ]
  },
  {
   "cell_type": "code",
   "execution_count": 23,
   "metadata": {
    "colab": {
     "base_uri": "https://localhost:8080/"
    },
    "id": "ONMnHDQO0Xwa",
    "outputId": "17d009cf-cf37-4d8c-80c2-5aa0fcfb5652"
   },
   "outputs": [
    {
     "data": {
      "text/plain": [
       "-1"
      ]
     },
     "execution_count": 23,
     "metadata": {},
     "output_type": "execute_result"
    }
   ],
   "source": [
    "mytext.find(\"NotEnd of Project Gutenberg\") # gives you -1"
   ]
  },
  {
   "cell_type": "code",
   "execution_count": 25,
   "metadata": {
    "colab": {
     "base_uri": "https://localhost:8080/"
    },
    "id": "a5FXR8Umv3Sv",
    "outputId": "3f8309f7-e9be-457b-c003-d6d690bd5469"
   },
   "outputs": [
    {
     "data": {
      "text/plain": [
       "145459"
      ]
     },
     "execution_count": 25,
     "metadata": {},
     "output_type": "execute_result"
    }
   ],
   "source": [
    "# so cleanend will be a new string containing only the text of the book from the start of the book to the end of the book\n",
    "# we use slicing to get the text we want\n",
    "cleanend = mytext[:mytext.find(\"End of Project Gutenberg\")]\n",
    "# cleanend = mytext[:mytext.index(\"End of Project Gutenberg\")] # would raise error if not found\n",
    "\n",
    "# of course this assumes we know the sentinel value for our end of the book\n",
    "# so this will cut and save text to last character\n",
    "# before the above text is found\n",
    "len(cleanend)"
   ]
  },
  {
   "cell_type": "code",
   "execution_count": 26,
   "metadata": {
    "colab": {
     "base_uri": "https://localhost:8080/"
    },
    "id": "iY4XnM2-v3Sv",
    "outputId": "b01deb28-042e-4073-d0b5-2b6f9cf2db38"
   },
   "outputs": [
    {
     "name": "stdout",
     "output_type": "stream",
     "text": [
      "of Wonderland of long ago: and how she\n",
      "would feel with all their simple sorrows, and find a pleasure in all\n",
      "their simple joys, remembering her own child-life, and the happy summer\n",
      "days.\n",
      "\n",
      "THE END \n",
      "\n",
      "\n",
      "\n",
      "\n",
      "\n"
     ]
    }
   ],
   "source": [
    "print(cleanend[-200:]) # last 200 characters"
   ]
  },
  {
   "cell_type": "code",
   "execution_count": 28,
   "metadata": {
    "colab": {
     "base_uri": "https://localhost:8080/"
    },
    "id": "kZcQyLzsv3Sw",
    "outputId": "ef30376b-14a3-455a-890e-1d73c35a832b"
   },
   "outputs": [
    {
     "data": {
      "text/plain": [
       "729"
      ]
     },
     "execution_count": 28,
     "metadata": {},
     "output_type": "execute_result"
    }
   ],
   "source": [
    "# first we find out where the header ends\n",
    "start_index = cleanend.index(\"START OF THIS PROJECT GUTENBERG EBOOK\")\n",
    "start_index"
   ]
  },
  {
   "cell_type": "code",
   "execution_count": 30,
   "metadata": {
    "colab": {
     "base_uri": "https://localhost:8080/"
    },
    "id": "kTXcLNYWv3Sw",
    "outputId": "0f23f934-b3b0-4fb6-c8a0-adb8d10f7b3d"
   },
   "outputs": [
    {
     "data": {
      "text/plain": [
       "37"
      ]
     },
     "execution_count": 30,
     "metadata": {},
     "output_type": "execute_result"
    }
   ],
   "source": [
    "# we also need to know how many characters to skip\n",
    "skip = len(\"START OF THIS PROJECT GUTENBERG EBOOK\")\n",
    "skip"
   ]
  },
  {
   "cell_type": "code",
   "execution_count": 31,
   "metadata": {
    "colab": {
     "base_uri": "https://localhost:8080/"
    },
    "id": "Lj_IveVRv3Sw",
    "outputId": "94bd97d2-e1b4-4939-e94b-3ae9fdee79ec"
   },
   "outputs": [
    {
     "name": "stdout",
     "output_type": "stream",
     "text": [
      " ALICE’S ADVENTURES IN WONDERLAND ***\n",
      "\n",
      "\n",
      "\n",
      "Produced by Arthur DiBianca and David Widger\n",
      "\n",
      "[Illustration]\n",
      "\n",
      "\n",
      "\n",
      "\n",
      "Alice’s Adventures in Wonderland\n",
      "\n",
      "by Lewis Carroll\n",
      "\n",
      "THE MILLENNIUM FULCRUM EDITION 3.0\n",
      "\n",
      "Contents\n",
      "\n",
      " CHAPTER I.     Down the Rabbit-Hole\n",
      " CHAPTER \n"
     ]
    }
   ],
   "source": [
    "cleanall = cleanend[start_index+skip:] # so we want everything from the index+skip\n",
    "print(cleanall[:250]) # print first 250 characters of our cleaned text"
   ]
  },
  {
   "cell_type": "code",
   "execution_count": 32,
   "metadata": {
    "colab": {
     "base_uri": "https://localhost:8080/"
    },
    "id": "QIlm3n-b1sZR",
    "outputId": "c41d9d6a-b81c-4926-fbfc-8de0bfa9cb7b"
   },
   "outputs": [
    {
     "data": {
      "text/plain": [
       "1"
      ]
     },
     "execution_count": 32,
     "metadata": {},
     "output_type": "execute_result"
    }
   ],
   "source": [
    "cleanall.count(\"Illustration\")"
   ]
  },
  {
   "cell_type": "code",
   "execution_count": 33,
   "metadata": {
    "id": "7RBBbwjb2EWM"
   },
   "outputs": [],
   "source": [
    "#reallyclean = cleanall[cleanall.find(\"Illustration\")+len(\"Illustration\")]\n",
    "def cut_off_start(text, sentinel):\n",
    "    if sentinel not in text:\n",
    "        print(f\"nothing to do no {sentinel} found!\")\n",
    "        return text # nothing to do\n",
    "    start = text.find(sentinel)\n",
    "    skip = len(sentinel)\n",
    "    new_text = text[start+skip:] # so new text is everything after start + skip number of characters\n",
    "    return new_text\n"
   ]
  },
  {
   "cell_type": "code",
   "execution_count": 34,
   "metadata": {
    "colab": {
     "base_uri": "https://localhost:8080/"
    },
    "id": "BI03r6uh2_fY",
    "outputId": "2ef010d6-b476-44f6-95dd-4f88960f1784"
   },
   "outputs": [
    {
     "data": {
      "text/plain": [
       "144593"
      ]
     },
     "execution_count": 34,
     "metadata": {},
     "output_type": "execute_result"
    }
   ],
   "source": [
    "really_clean_text = cut_off_start(cleanall, \"Illustration\")\n",
    "len(really_clean_text)"
   ]
  },
  {
   "cell_type": "code",
   "execution_count": 37,
   "metadata": {
    "colab": {
     "base_uri": "https://localhost:8080/"
    },
    "id": "7pbnWl-33QlW",
    "outputId": "d83bd06c-6ae9-4b79-9da1-ee51644e3c73"
   },
   "outputs": [
    {
     "data": {
      "text/plain": [
       "144587"
      ]
     },
     "execution_count": 37,
     "metadata": {},
     "output_type": "execute_result"
    }
   ],
   "source": [
    "# remember strip method on strings, let's get rid of any whitespace in beginning and end\n",
    "trimmed_text = really_clean_text.strip()\n",
    "len(trimmed_text)"
   ]
  },
  {
   "cell_type": "code",
   "execution_count": null,
   "metadata": {
    "id": "LkUNGy1J3fRu"
   },
   "outputs": [],
   "source": []
  },
  {
   "cell_type": "code",
   "execution_count": 38,
   "metadata": {
    "id": "LstMF-q-v3Sw"
   },
   "outputs": [],
   "source": [
    "# i will open/create a new file with name Alice_cleaned.txt\n",
    "# notice it is in the same folder as current notebook\n",
    "# mode is w - which means write\n",
    "# encoding is utf-8 - we might have some non-ascii characters\n",
    "# file_out is arbitrary name for our filestream object\n",
    "with open('Alice_clean.txt', mode=\"w\", encoding=\"utf-8\") as file_out:\n",
    "    file_out.write(trimmed_text)\n",
    "# so this recipe will create/overwrite 'Alice_clean.txt'\n",
    "# using utf-8 encoding\n",
    "# will write ALL of the text that is in trimmed_text variable"
   ]
  },
  {
   "cell_type": "code",
   "execution_count": null,
   "metadata": {
    "id": "XV-t1WQxv3Sw"
   },
   "outputs": [],
   "source": [
    "# i could also save the file in a different folder in this case like data which is our sibling folder\n",
    "with open('../data/Alice_clean.txt', mode=\"w\", encoding=\"utf-8\") as file_out:\n",
    "    file_out.write(cleanall)\n",
    "# so this recipe will create/overwrite 'Alice_clean.txt' in data\n",
    "# using utf-8 encoding\n",
    "# will write ALL of the text that is in cleanall variable"
   ]
  },
  {
   "cell_type": "code",
   "execution_count": 39,
   "metadata": {
    "id": "xQrDK-TMv3Sw"
   },
   "outputs": [],
   "source": [
    "# how to create a folder if it does not exist?\n",
    "# we can use pathlib\n",
    "# pathlib is a new module in Python 3\n",
    "# it is a bit more advanced than os\n",
    "\n",
    "# we can use pathlib to create a folder if it does not exist\n",
    "# we can also use it to check if a folder exists\n",
    "\n",
    "# from pathlib import Path # import Path from pathlib module need to import only once\n",
    "# we can create a path object\n",
    "\n",
    "# create folder my_folder if it does not exist\n",
    "Path(\"my_folder\").mkdir(exist_ok=True) # exist_ok=True means do not throw an error if folder exists\n",
    "# in this case it will be a child folder of current folderb\n",
    "# next time i run it it will not throw an error"
   ]
  },
  {
   "cell_type": "code",
   "execution_count": 40,
   "metadata": {
    "id": "r-5Dp2cE4SUR"
   },
   "outputs": [],
   "source": [
    "# so this is how I would copy the same data into a folder and then file name\n",
    "with open('my_folder/Alice_clean.txt', mode=\"w\", encoding=\"utf-8\") as file_out:\n",
    "    file_out.write(cleanall)"
   ]
  },
  {
   "cell_type": "code",
   "execution_count": null,
   "metadata": {
    "id": "9xodZJ7Vv3Sx",
    "outputId": "86486d88-c766-4dbe-a8dd-5f9ac7001e21"
   },
   "outputs": [
    {
     "name": "stdout",
     "output_type": "stream",
     "text": [
      "[' ALICE’S ADVENTURES IN WONDERLAND ***\\n', '\\n', '\\n', '\\n', 'Produced by Arthur DiBianca and David Widger\\n', '\\n', '[Illustration]\\n', '\\n', '\\n', '\\n', '\\n', 'Alice’s Adventures in Wonderland\\n', '\\n', 'by Lewis Carroll\\n', '\\n', 'THE MILLENNIUM FULCRUM EDITION 3.0\\n', '\\n', 'Contents\\n', '\\n', ' CHAPTER I.     Down the Rabbit-Hole\\n']\n"
     ]
    }
   ],
   "source": [
    "# lets pretend i do not have cleanall in memory\n",
    "# i can load text from my clean file\n",
    "# mode r is read which is default so not really needed\n",
    "with open('../data/Alice_clean.txt', mode=\"r\", encoding=\"utf-8\") as file:\n",
    "    # mytext = file.read() # so reads everything\n",
    "    # alterantively we can read line by line\n",
    "    # this is useful if we have a very large file\n",
    "    # we can read line by line and process it\n",
    "    text_lines = file.readlines() # this will read all lines into a list\n",
    "# print first 10 lines\n",
    "print(text_lines[:20])"
   ]
  },
  {
   "cell_type": "code",
   "execution_count": null,
   "metadata": {
    "id": "eq5ovdQLv3Sx"
   },
   "outputs": [],
   "source": []
  },
  {
   "cell_type": "markdown",
   "metadata": {
    "id": "RgEM-BYQ57aD"
   },
   "source": [
    "## Mounting and reading / writing from Google Drive"
   ]
  },
  {
   "cell_type": "code",
   "execution_count": 41,
   "metadata": {
    "colab": {
     "base_uri": "https://localhost:8080/"
    },
    "id": "vmkJHpgT5nXU",
    "outputId": "45e2f9d8-9b1d-4b5a-a48a-3e24711c50a2"
   },
   "outputs": [
    {
     "name": "stdout",
     "output_type": "stream",
     "text": [
      "Mounted at /content/drive\n"
     ]
    }
   ],
   "source": [
    "from google.colab import drive\n",
    "drive.mount('/content/drive')"
   ]
  },
  {
   "cell_type": "code",
   "execution_count": 42,
   "metadata": {
    "colab": {
     "base_uri": "https://localhost:8080/"
    },
    "id": "x0xb8psp5_lx",
    "outputId": "535201de-8910-4770-cb76-20c8b763cb7a"
   },
   "outputs": [
    {
     "data": {
      "text/plain": [
       "[PosixPath('drive/MyDrive/13177-8.txt'),\n",
       " PosixPath('drive/MyDrive/example_results.txt')]"
      ]
     },
     "execution_count": 42,
     "metadata": {},
     "output_type": "execute_result"
    }
   ],
   "source": [
    "text_files = list([f for f in Path(\"drive/MyDrive\").glob(\"*.txt\")])\n",
    "text_files"
   ]
  },
  {
   "cell_type": "code",
   "execution_count": 45,
   "metadata": {
    "colab": {
     "base_uri": "https://localhost:8080/",
     "height": 53
    },
    "id": "Af2gVCsT6TkL",
    "outputId": "b1cc96a6-fa87-4a6e-ed51-ecbb96aab51e"
   },
   "outputs": [
    {
     "name": "stdout",
     "output_type": "stream",
     "text": [
      "163074\n"
     ]
    },
    {
     "data": {
      "application/vnd.google.colaboratory.intrinsic+json": {
       "type": "string"
      },
      "text/plain": [
       "'The Project Gutenberg EBook of Chocolate and Cocoa Recipes and Home Made\\nCandy Recipes, by Miss Parl'"
      ]
     },
     "execution_count": 45,
     "metadata": {},
     "output_type": "execute_result"
    }
   ],
   "source": [
    "# so lets open up first file from my results and see whats inside\n",
    "# turns out this uses older 90s encoding ISO-8859-1\n",
    "# all encodings supported: https://docs.python.org/3/library/codecs.html#standard-encodings\n",
    "with open(text_files[0], encoding=\"ISO-8859-1\") as f:\n",
    "    unknown_text = f.read()\n",
    "print(len(unknown_text))\n",
    "unknown_text[:100]\n"
   ]
  },
  {
   "cell_type": "markdown",
   "metadata": {
    "id": "QUzjCK2B8Y04"
   },
   "source": [
    "## Tokenization"
   ]
  },
  {
   "cell_type": "code",
   "execution_count": null,
   "metadata": {
    "id": "GVNs311-v3Sx"
   },
   "outputs": [],
   "source": [
    "# so let's see about tokenization\n",
    "# one is to use split using white space"
   ]
  },
  {
   "cell_type": "code",
   "execution_count": 46,
   "metadata": {
    "colab": {
     "base_uri": "https://localhost:8080/"
    },
    "id": "ClIzzgLDv3Sx",
    "outputId": "80c28795-503d-4205-eb92-fe6e4ebc0495"
   },
   "outputs": [
    {
     "name": "stdout",
     "output_type": "stream",
     "text": [
      "A quick brown fox    jumped \t over the   \n",
      " \n",
      " sleepy dog\n"
     ]
    }
   ],
   "source": [
    "mysentence = \"A quick brown fox    jumped \\t over the   \\n \\n sleepy dog\"\n",
    "# we have some newlines and some tabs in our sentence\n",
    "print(mysentence)"
   ]
  },
  {
   "cell_type": "code",
   "execution_count": 47,
   "metadata": {
    "colab": {
     "base_uri": "https://localhost:8080/"
    },
    "id": "PRhjXe7Sv3Sx",
    "outputId": "cdd0ad5e-ae47-42b3-b0ea-93805e817bce"
   },
   "outputs": [
    {
     "data": {
      "text/plain": [
       "['A', 'quick', 'brown', 'fox', 'jumped', 'over', 'the', 'sleepy', 'dog']"
      ]
     },
     "execution_count": 47,
     "metadata": {},
     "output_type": "execute_result"
    }
   ],
   "source": [
    "# Python string has a split method which will split a string into a list of strings\n",
    "mysentence.split()  # so we split by white space, including newlines and tabs\n",
    "# you can consider split a type of tokenization"
   ]
  },
  {
   "cell_type": "code",
   "execution_count": 48,
   "metadata": {
    "colab": {
     "base_uri": "https://localhost:8080/"
    },
    "id": "2qAZgHl0v3Sx",
    "outputId": "6738071e-bf3b-4319-a9d1-d8397fda4e8e"
   },
   "outputs": [
    {
     "data": {
      "text/plain": [
       "['A',\n",
       " 'quick',\n",
       " 'brown',\n",
       " 'fox',\n",
       " '',\n",
       " '',\n",
       " '',\n",
       " 'jumped',\n",
       " '\\t',\n",
       " 'over',\n",
       " 'the',\n",
       " '',\n",
       " '',\n",
       " '\\n',\n",
       " '\\n',\n",
       " 'sleepy',\n",
       " 'dog']"
      ]
     },
     "execution_count": 48,
     "metadata": {},
     "output_type": "execute_result"
    }
   ],
   "source": [
    "mysentence.split(\" \") # so we split by single white space, this might not be what we want"
   ]
  },
  {
   "cell_type": "code",
   "execution_count": 50,
   "metadata": {
    "colab": {
     "base_uri": "https://localhost:8080/"
    },
    "id": "jvtr3rxgv3Sx",
    "outputId": "e45391b9-346e-4b39-8f3a-60b711e6044f"
   },
   "outputs": [
    {
     "data": {
      "text/plain": [
       "26537"
      ]
     },
     "execution_count": 50,
     "metadata": {},
     "output_type": "execute_result"
    }
   ],
   "source": [
    "# we could try splitting already but we will get dirty data(words)\n",
    "mywords = cleanall.split() # so any white space will be a delimiter\n",
    "len(mywords)"
   ]
  },
  {
   "cell_type": "code",
   "execution_count": 51,
   "metadata": {
    "colab": {
     "base_uri": "https://localhost:8080/"
    },
    "id": "gzZxziIGv3Sx",
    "outputId": "49668278-45a1-4128-c7ea-3c4684fd0c25"
   },
   "outputs": [
    {
     "data": {
      "text/plain": [
       "['ALICE’S',\n",
       " 'ADVENTURES',\n",
       " 'IN',\n",
       " 'WONDERLAND',\n",
       " '***',\n",
       " 'Produced',\n",
       " 'by',\n",
       " 'Arthur',\n",
       " 'DiBianca',\n",
       " 'and',\n",
       " 'David',\n",
       " 'Widger',\n",
       " '[Illustration]',\n",
       " 'Alice’s',\n",
       " 'Adventures',\n",
       " 'in',\n",
       " 'Wonderland',\n",
       " 'by',\n",
       " 'Lewis',\n",
       " 'Carroll',\n",
       " 'THE',\n",
       " 'MILLENNIUM',\n",
       " 'FULCRUM',\n",
       " 'EDITION',\n",
       " '3.0']"
      ]
     },
     "execution_count": 51,
     "metadata": {},
     "output_type": "execute_result"
    }
   ],
   "source": [
    "mywords[:25]"
   ]
  },
  {
   "cell_type": "code",
   "execution_count": null,
   "metadata": {
    "id": "PmJ8VSeQv3Sy"
   },
   "outputs": [],
   "source": [
    "# so we need to get rid of some \\n which split did not\n",
    "# so how could we do this?\n",
    "# replace to rescue!\n"
   ]
  },
  {
   "cell_type": "code",
   "execution_count": 53,
   "metadata": {
    "colab": {
     "base_uri": "https://localhost:8080/",
     "height": 35
    },
    "id": "2oDLinYfv3Sy",
    "outputId": "6c7dbe24-6bf8-43ef-a8a6-8f6896ced803"
   },
   "outputs": [
    {
     "data": {
      "application/vnd.google.colaboratory.intrinsic+json": {
       "type": "string"
      },
      "text/plain": [
       "']     Alice’s Adventures in Wonderland  by Lewis Carroll  THE MILLENNIUM FULCRUM EDITION 3.0  Conten'"
      ]
     },
     "execution_count": 53,
     "metadata": {},
     "output_type": "execute_result"
    }
   ],
   "source": [
    "# so replacing every new line with something in this case one whitespace\n",
    "clean_text = trimmed_text.replace(\"\\n\", \" \") # why not nothing \"\"?\n",
    "# replacing with \"\" we run the risk of combining words across lines\n",
    "clean_text[:100]"
   ]
  },
  {
   "cell_type": "code",
   "execution_count": 54,
   "metadata": {
    "colab": {
     "base_uri": "https://localhost:8080/"
    },
    "id": "W5R-C-uuv3Sy",
    "outputId": "41fd1cd7-b179-4f86-8735-4dfffcedf93c"
   },
   "outputs": [
    {
     "name": "stdout",
     "output_type": "stream",
     "text": [
      " BOB’S ADVENTURES IN WONDERLAND ***\n",
      "\n",
      "\n",
      "\n",
      "Produced by Arthur DiBianca and David Widger\n",
      "\n",
      "[Illustration]\n",
      "\n"
     ]
    }
   ],
   "source": [
    "# remember replace is a string method it returns a new string\n",
    "# so we need to assign it to a variable\n",
    "# we can use it to replace multiple characters or strings\n",
    "# we can also use it to replace with nothing\n",
    "\n",
    "# for example\n",
    "bob_adventures = cleanall.replace(\"ALICE\", \"BOB\").replace(\"Alice\", \"Bob\")\n",
    "# so for example we can replace all mentions of Alice with Bob\n",
    "print(bob_adventures[:100])"
   ]
  },
  {
   "cell_type": "code",
   "execution_count": 55,
   "metadata": {
    "colab": {
     "base_uri": "https://localhost:8080/"
    },
    "id": "4wew04Cov3Sy",
    "outputId": "7b8dd019-7b3a-4b4d-abff-e7616a469d01"
   },
   "outputs": [
    {
     "data": {
      "text/plain": [
       "399"
      ]
     },
     "execution_count": 55,
     "metadata": {},
     "output_type": "execute_result"
    }
   ],
   "source": [
    "# count Bob\n",
    "bob_adventures.count(\"Bob\")"
   ]
  },
  {
   "cell_type": "code",
   "execution_count": null,
   "metadata": {
    "id": "XWzGWstnv3Sy",
    "outputId": "69e19eca-9a83-4edd-9d58-287cc4ea25b8"
   },
   "outputs": [
    {
     "data": {
      "text/plain": [
       "800"
      ]
     },
     "execution_count": 34,
     "metadata": {},
     "output_type": "execute_result"
    }
   ],
   "source": [
    "len(cleanall)-len(bob_adventures) # so we have lost some characters"
   ]
  },
  {
   "cell_type": "code",
   "execution_count": null,
   "metadata": {
    "id": "7Jlf5MUZv3Sy"
   },
   "outputs": [],
   "source": [
    "# TODO\n",
    "# before we split we might want to normalize our text - make it all lower case\n",
    "# we also might want to remove punctuation\n",
    "# we can use string.punctuation to get a list of punctuation symbols\n",
    "# also we can use string.whitespace to get a list of whitespace symbols"
   ]
  },
  {
   "cell_type": "markdown",
   "metadata": {
    "id": "bURQ8esU8UVi"
   },
   "source": [
    "## Normalization"
   ]
  },
  {
   "cell_type": "code",
   "execution_count": 57,
   "metadata": {
    "id": "rStNtQUd8rB3"
   },
   "outputs": [],
   "source": [
    "clean_text = clean_text[1:] # simple hack to get rid of first character\n",
    "clean_text = clean_text.strip()"
   ]
  },
  {
   "cell_type": "code",
   "execution_count": 58,
   "metadata": {
    "colab": {
     "base_uri": "https://localhost:8080/"
    },
    "id": "bEarssJkv3Sy",
    "outputId": "7ee6bd3e-4f83-4ad8-c8fd-b31b98ed244f"
   },
   "outputs": [
    {
     "name": "stdout",
     "output_type": "stream",
     "text": [
      "alice’s adventures in wonderland  by lewis carroll  the millennium fulcrum edition 3.0  contents   c\n"
     ]
    }
   ],
   "source": [
    "# normalize to lower case\n",
    "alice_lower = clean_text.lower()\n",
    "print(alice_lower[:100])\n",
    "# idea is to make all words lower case so that we do not count the same word twice\n",
    "# with lowercase you should be aware of some issues\n",
    "# for example in English we have words like \"I\" and \"i\"\n",
    "# in Latvia we have city Ogre and ogre the mythical creature"
   ]
  },
  {
   "cell_type": "code",
   "execution_count": 59,
   "metadata": {
    "colab": {
     "base_uri": "https://localhost:8080/",
     "height": 35
    },
    "id": "IEUlXbcPv3Sy",
    "outputId": "babb8e21-a887-4b88-be18-e9a390cc540e"
   },
   "outputs": [
    {
     "data": {
      "application/vnd.google.colaboratory.intrinsic+json": {
       "type": "string"
      },
      "text/plain": [
       "'!\"#$%&\\'()*+,-./:;<=>?@[\\\\]^_`{|}~'"
      ]
     },
     "execution_count": 59,
     "metadata": {},
     "output_type": "execute_result"
    }
   ],
   "source": [
    "# next step is usually to remove punctuation\n",
    "# we can use string.punctuation to get a list of punctuation symbols\n",
    "import string\n",
    "string.punctuation"
   ]
  },
  {
   "cell_type": "code",
   "execution_count": 60,
   "metadata": {
    "colab": {
     "base_uri": "https://localhost:8080/"
    },
    "id": "cTTD5oSgv3Sz",
    "outputId": "a20f7daf-5ff4-457a-986b-07c4f3f911d4"
   },
   "outputs": [
    {
     "name": "stdout",
     "output_type": "stream",
     "text": [
      "!\"#$%&'()*+,-./:;<=>?@[\\]^_`{|}~“”‘’*\n"
     ]
    }
   ],
   "source": [
    "# i can make my own string of punctuation symbols\n",
    "my_punctuation = string.punctuation + \"“”‘’*\" # you could add numbers etc\n",
    "print(my_punctuation)"
   ]
  },
  {
   "cell_type": "code",
   "execution_count": 61,
   "metadata": {
    "colab": {
     "base_uri": "https://localhost:8080/"
    },
    "id": "pVHFIXv9v3Sz",
    "outputId": "27835c14-e4da-41e4-a077-4dd6078d85e1"
   },
   "outputs": [
    {
     "name": "stdout",
     "output_type": "stream",
     "text": [
      "alice s adventures in wonderland  by lewis carroll  the millennium fulcrum edition 3 0  contents   c\n"
     ]
    }
   ],
   "source": [
    "# now we want to remove all symbols in my_punctuation from alice_lower\n",
    "# we can use translate method\n",
    "# we need to create a translation table\n",
    "# we can use maketrans method\n",
    "# we need to pass 3 arguments\n",
    "# first is a string of characters we want to replace\n",
    "# second is a string of characters we want to replace with\n",
    "# third is a string of characters we want to remove\n",
    "# so we want to replace all punctuation with nothing\n",
    "# we also want to remove all newlines\n",
    "\n",
    "# so we can create a translation table\n",
    "\n",
    "# translation_table = str.maketrans(my_punctuation, \" \"*len(my_punctuation), \"\\n\")\n",
    "# translation_table = str.maketrans(my_punctuation, \" \"*len(my_punctuation), \"\")\n",
    "translation_table = str.maketrans(my_punctuation, \" \"*len(my_punctuation), \"\")\n",
    "# use the translation table to translate alice_lower\n",
    "alice_clean_no_punct = alice_lower.translate(translation_table)\n",
    "print(alice_clean_no_punct[:100])"
   ]
  },
  {
   "cell_type": "code",
   "execution_count": null,
   "metadata": {
    "id": "HBW8t_38v3S3",
    "outputId": "526a5c52-8ff3-4fba-fc45-db9482c874e1"
   },
   "outputs": [
    {
     "name": "stdout",
     "output_type": "stream",
     "text": [
      "V\n",
      "a\n",
      "l\n",
      "d\n",
      "i\n",
      "s\n"
     ]
    }
   ],
   "source": [
    "# for loops let us iterate over a sequence\n",
    "for my_char in \"Valdis\":\n",
    "    print(my_char)"
   ]
  },
  {
   "cell_type": "code",
   "execution_count": null,
   "metadata": {
    "id": "2B0vFGmJv3S4",
    "outputId": "2a6cf7a0-c71c-4383-d0de-e789f665c40a"
   },
   "outputs": [
    {
     "name": "stdout",
     "output_type": "stream",
     "text": [
      "1\n",
      "2\n",
      "3\n",
      "4\n",
      "5\n"
     ]
    }
   ],
   "source": [
    "# similarly we can iterate any sequence\n",
    "for my_number in [1,2,3,4,5]:\n",
    "    print(my_number)"
   ]
  },
  {
   "cell_type": "code",
   "execution_count": 62,
   "metadata": {
    "colab": {
     "base_uri": "https://localhost:8080/"
    },
    "id": "IV_6jRtvv3S5",
    "outputId": "d1aae956-72a2-4bce-f1a5-7f5d128b0e36"
   },
   "outputs": [
    {
     "name": "stdout",
     "output_type": "stream",
     "text": [
      "Replacing ! with nothing\n",
      "Replacing \" with nothing\n",
      "Replacing # with nothing\n",
      "Replacing $ with nothing\n",
      "Replacing % with nothing\n",
      "Replacing & with nothing\n",
      "Replacing ' with nothing\n",
      "Replacing ( with nothing\n",
      "Replacing ) with nothing\n",
      "Replacing * with nothing\n",
      "Replacing + with nothing\n",
      "Replacing , with nothing\n",
      "Replacing - with nothing\n",
      "Replacing . with nothing\n",
      "Replacing / with nothing\n",
      "Replacing : with nothing\n",
      "Replacing ; with nothing\n",
      "Replacing < with nothing\n",
      "Replacing = with nothing\n",
      "Replacing > with nothing\n",
      "Replacing ? with nothing\n",
      "Replacing @ with nothing\n",
      "Replacing [ with nothing\n",
      "Replacing \\ with nothing\n",
      "Replacing ] with nothing\n",
      "Replacing ^ with nothing\n",
      "Replacing _ with nothing\n",
      "Replacing ` with nothing\n",
      "Replacing { with nothing\n",
      "Replacing | with nothing\n",
      "Replacing } with nothing\n",
      "Replacing ~ with nothing\n",
      "Replacing “ with nothing\n",
      "Replacing ” with nothing\n",
      "Replacing ‘ with nothing\n",
      "Replacing ’ with nothing\n",
      "Replacing * with nothing\n"
     ]
    }
   ],
   "source": [
    "for bad_char in my_punctuation:\n",
    "    print(f\"Replacing {bad_char} with nothing\")"
   ]
  },
  {
   "cell_type": "code",
   "execution_count": 63,
   "metadata": {
    "colab": {
     "base_uri": "https://localhost:8080/"
    },
    "id": "eO-dLB9Yv3S6",
    "outputId": "e2fd9120-4c3a-4a19-de80-b83c128a100e"
   },
   "outputs": [
    {
     "name": "stdout",
     "output_type": "stream",
     "text": [
      "Replacing ! with ( )\n",
      "Replacing \" with ( )\n",
      "Replacing # with ( )\n",
      "Replacing $ with ( )\n",
      "Replacing % with ( )\n",
      "Replacing & with ( )\n",
      "Replacing ' with ( )\n",
      "Replacing ( with ( )\n",
      "Replacing ) with ( )\n",
      "Replacing * with ( )\n",
      "Replacing + with ( )\n",
      "Replacing , with ( )\n",
      "Replacing - with ( )\n",
      "Replacing . with ( )\n",
      "Replacing / with ( )\n",
      "Replacing : with ( )\n",
      "Replacing ; with ( )\n",
      "Replacing < with ( )\n",
      "Replacing = with ( )\n",
      "Replacing > with ( )\n",
      "Replacing ? with ( )\n",
      "Replacing @ with ( )\n",
      "Replacing [ with ( )\n",
      "Replacing \\ with ( )\n",
      "Replacing ] with ( )\n",
      "Replacing ^ with ( )\n",
      "Replacing _ with ( )\n",
      "Replacing ` with ( )\n",
      "Replacing { with ( )\n",
      "Replacing | with ( )\n",
      "Replacing } with ( )\n",
      "Replacing ~ with ( )\n",
      "Replacing “ with ( )\n",
      "Replacing ” with ( )\n",
      "Replacing ‘ with ( )\n",
      "Replacing ’ with ( )\n",
      "Replacing * with ( )\n",
      "After cleaning we have 144581 characters\n"
     ]
    }
   ],
   "source": [
    "# instead we can use a loop\n",
    "# we can use a loop to remove all punctuation\n",
    "\n",
    "# we go through each symbol in my_punctuation and replace it with nothing in alice_lower\n",
    "REPLACE_CHAR = \" \" # you can change this to \"\" if you want to remove punctuation with nothing\n",
    "alice_clean_no_punct = alice_lower # we need to start with an alice_lower\n",
    "for symbol in my_punctuation:\n",
    "    print(f\"Replacing {symbol} with ({REPLACE_CHAR})\")\n",
    "    alice_clean_no_punct = alice_clean_no_punct.replace(symbol, REPLACE_CHAR)\n",
    "print(f\"After cleaning we have {len(alice_clean_no_punct)} characters\")"
   ]
  },
  {
   "cell_type": "code",
   "execution_count": 64,
   "metadata": {
    "colab": {
     "base_uri": "https://localhost:8080/"
    },
    "id": "8_QZ5pAOv3S6",
    "outputId": "5eab0b46-ed2e-4ecb-d220-524b9d980f4d"
   },
   "outputs": [
    {
     "data": {
      "text/plain": [
       "-1"
      ]
     },
     "execution_count": 64,
     "metadata": {},
     "output_type": "execute_result"
    }
   ],
   "source": [
    "alice_clean_no_punct.find(\"*\")"
   ]
  },
  {
   "cell_type": "code",
   "execution_count": null,
   "metadata": {
    "id": "6HXizCGEv3S7"
   },
   "outputs": [],
   "source": [
    "# we could also remove all stop words\n",
    "# stop words are words that do not add much meaning to the text\n",
    "# for now we will leave them in"
   ]
  },
  {
   "cell_type": "code",
   "execution_count": 67,
   "metadata": {
    "colab": {
     "base_uri": "https://localhost:8080/"
    },
    "id": "T0xBemrMv3S7",
    "outputId": "e5367f61-3ad7-4ec4-9328-7c12db949a8b"
   },
   "outputs": [
    {
     "name": "stdout",
     "output_type": "stream",
     "text": [
      "We have 27324 words\n"
     ]
    }
   ],
   "source": [
    "# we can finally split\n",
    "alice_words = alice_clean_no_punct.split()\n",
    "print(f\"We have {len(alice_words)} words\")"
   ]
  },
  {
   "cell_type": "code",
   "execution_count": 68,
   "metadata": {
    "colab": {
     "base_uri": "https://localhost:8080/"
    },
    "id": "ohLB7tIlv3S7",
    "outputId": "c0659968-bcc4-47d7-9be1-73597b2fbb5d"
   },
   "outputs": [
    {
     "data": {
      "text/plain": [
       "399"
      ]
     },
     "execution_count": 68,
     "metadata": {},
     "output_type": "execute_result"
    }
   ],
   "source": [
    "# alice_words is a list of strings\n",
    "# we can use list methods to work with it\n",
    "# we could count how many times each word appears\n",
    "alice_words.count(\"alice\") # 399 because ALICE and Alice merged into alice"
   ]
  },
  {
   "cell_type": "code",
   "execution_count": null,
   "metadata": {
    "id": "dYPnv4tMv3S8"
   },
   "outputs": [],
   "source": [
    "# here we could do additionalal cleaning by checking for maybe bad words\n",
    "# bad characters\n",
    "# unneeded words such stop words , meaning words which do not contribute to the meaning\n"
   ]
  },
  {
   "cell_type": "code",
   "execution_count": null,
   "metadata": {
    "id": "tKdB19Wrv3S8"
   },
   "outputs": [],
   "source": [
    "# so how could we count the occurences of each word?\n",
    "# we could use something like a dictionary with words being keys and value being\n",
    "# number of occurences"
   ]
  },
  {
   "cell_type": "code",
   "execution_count": 69,
   "metadata": {
    "colab": {
     "base_uri": "https://localhost:8080/"
    },
    "id": "421HTkoe9_od",
    "outputId": "d0aecd02-9097-4917-8d6e-f75a1b23833a"
   },
   "outputs": [
    {
     "data": {
      "text/plain": [
       "list"
      ]
     },
     "execution_count": 69,
     "metadata": {},
     "output_type": "execute_result"
    }
   ],
   "source": [
    "# so alice words is a list of strings\n",
    "type(alice_words)"
   ]
  },
  {
   "cell_type": "code",
   "execution_count": 70,
   "metadata": {
    "colab": {
     "base_uri": "https://localhost:8080/"
    },
    "id": "xv2wpBnY-DpT",
    "outputId": "a4e544ca-ab1a-4125-fdf1-4e3475949123"
   },
   "outputs": [
    {
     "data": {
      "text/plain": [
       "['alice', 's', 'adventures', 'in', 'wonderland']"
      ]
     },
     "execution_count": 70,
     "metadata": {},
     "output_type": "execute_result"
    }
   ],
   "source": [
    "# first 5 words\n",
    "alice_words[:5]"
   ]
  },
  {
   "cell_type": "code",
   "execution_count": 71,
   "metadata": {
    "colab": {
     "base_uri": "https://localhost:8080/"
    },
    "id": "SBXqGiIhv3S8",
    "outputId": "36c64cc2-1a43-4381-8caa-701ad5b65de0"
   },
   "outputs": [
    {
     "data": {
      "text/plain": [
       "[('alice', 399),\n",
       " ('s', 202),\n",
       " ('adventures', 6),\n",
       " ('in', 369),\n",
       " ('wonderland', 3),\n",
       " ('by', 58),\n",
       " ('lewis', 1),\n",
       " ('carroll', 1),\n",
       " ('the', 1643),\n",
       " ('millennium', 1),\n",
       " ('fulcrum', 1),\n",
       " ('edition', 1),\n",
       " ('3', 1),\n",
       " ('0', 1),\n",
       " ('contents', 1),\n",
       " ('chapter', 24),\n",
       " ('i', 534),\n",
       " ('down', 102),\n",
       " ('rabbit', 53),\n",
       " ('hole', 5)]"
      ]
     },
     "execution_count": 71,
     "metadata": {},
     "output_type": "execute_result"
    }
   ],
   "source": [
    "\n",
    "word_dict = {} # {} is an empty dictionary\n",
    "# what is a dictionary?\n",
    "# a dictionary is a collection of key value pairs\n",
    "# each key is unique - usually a string or number(less common)\n",
    "# key idea is that we have near instant access to the value by key\n",
    "# values can be repeated\n",
    "# so we will loop/iterate over all words in alice_words\n",
    "# we will check if the word is in the dictionary\n",
    "# if it is we will increment the value by 1\n",
    "# if it is not we will add it to the dictionary with value 1\n",
    "\n",
    "for word in alice_words:\n",
    "    if word in word_dict.keys():\n",
    "        word_dict[word] += 1 # increase count for each occurence\n",
    "    else:\n",
    "        word_dict[word] = 1 # so first occurence you count as 1\n",
    "    # below is just a shorter version of the above\n",
    "#     word_dict[word] = word_dict.get(word, 0) + 1\n",
    "list(word_dict.items())[:20]"
   ]
  },
  {
   "cell_type": "code",
   "execution_count": 72,
   "metadata": {
    "colab": {
     "base_uri": "https://localhost:8080/"
    },
    "id": "ZsAWUv0qv3S8",
    "outputId": "8cbada3f-ede7-42f0-f51a-f826a56df23d"
   },
   "outputs": [
    {
     "data": {
      "text/plain": [
       "[('the', 1643),\n",
       " ('and', 851),\n",
       " ('to', 724),\n",
       " ('a', 632),\n",
       " ('it', 588),\n",
       " ('she', 550),\n",
       " ('i', 534),\n",
       " ('of', 512),\n",
       " ('said', 459),\n",
       " ('you', 405),\n",
       " ('alice', 399),\n",
       " ('in', 369),\n",
       " ('was', 357),\n",
       " ('that', 311),\n",
       " ('as', 261),\n",
       " ('her', 248),\n",
       " ('t', 218),\n",
       " ('at', 209),\n",
       " ('s', 202),\n",
       " ('on', 193),\n",
       " ('with', 181),\n",
       " ('all', 180),\n",
       " ('had', 178),\n",
       " ('but', 163),\n",
       " ('for', 152)]"
      ]
     },
     "execution_count": 72,
     "metadata": {},
     "output_type": "execute_result"
    }
   ],
   "source": [
    "# since counting is so common we can use Counter from collections\n",
    "# you do not have to write loops yourself :)\n",
    "from collections import Counter # python already provides counter!\n",
    "word_count = Counter(alice_words) # give a list of tokens\n",
    "word_count.most_common(25) # and you can get results immediately"
   ]
  },
  {
   "cell_type": "code",
   "execution_count": 73,
   "metadata": {
    "colab": {
     "base_uri": "https://localhost:8080/"
    },
    "id": "PGR38nNbv3S8",
    "outputId": "f9e57898-c560-4ca6-e423-c555a81e5800"
   },
   "outputs": [
    {
     "name": "stdout",
     "output_type": "stream",
     "text": [
      "We have 14227 words that are 4 letters or more\n"
     ]
    }
   ],
   "source": [
    "# how about most common words that are 4 letters or more?\n",
    "# we can use a list comprehension\n",
    "# list comprehension is a way to create a list from another list\n",
    "# we can use it to filter out words that are too short\n",
    "# we can also use it to convert all words to lower case\n",
    "# we can also use it to remove stop words\n",
    "\n",
    "# we can use a list comprehension to create a list of words that are 4 letters or more\n",
    "alice_4plus = [word for word in alice_words if len(word) >= 4]\n",
    "print(f\"We have {len(alice_4plus)} words that are 4 letters or more\")"
   ]
  },
  {
   "cell_type": "code",
   "execution_count": 74,
   "metadata": {
    "colab": {
     "base_uri": "https://localhost:8080/"
    },
    "id": "YCKgkaqov3S8",
    "outputId": "d7c49e81-2950-4613-9438-1daadf2e681c"
   },
   "outputs": [
    {
     "name": "stdout",
     "output_type": "stream",
     "text": [
      "We have 14227 words that are 4 letters or more\n"
     ]
    }
   ],
   "source": [
    "# alternative would be to use a for loop\n",
    "alice_4plus = [] # create an empty list\n",
    "for word in alice_words:\n",
    "    if len(word) >= 4:\n",
    "        alice_4plus.append(word) # add word to the list\n",
    "# same result but more code\n",
    "# advantage of list comprehension is that it is more compact\n",
    "# advantage of loop is that you can add more code inside the loop\n",
    "print(f\"We have {len(alice_4plus)} words that are 4 letters or more\")"
   ]
  },
  {
   "cell_type": "code",
   "execution_count": 75,
   "metadata": {
    "colab": {
     "base_uri": "https://localhost:8080/"
    },
    "id": "5mn01I7tv3S9",
    "outputId": "4c65613e-1f60-440c-9d09-2cf3fa548bbe"
   },
   "outputs": [
    {
     "data": {
      "text/plain": [
       "[('said', 459),\n",
       " ('alice', 399),\n",
       " ('that', 311),\n",
       " ('with', 181),\n",
       " ('they', 149),\n",
       " ('very', 144),\n",
       " ('what', 141),\n",
       " ('this', 134),\n",
       " ('little', 129),\n",
       " ('down', 102),\n",
       " ('there', 99),\n",
       " ('about', 94),\n",
       " ('then', 92),\n",
       " ('like', 85),\n",
       " ('were', 85),\n",
       " ('would', 83),\n",
       " ('went', 83),\n",
       " ('herself', 83),\n",
       " ('them', 83),\n",
       " ('again', 82),\n",
       " ('know', 81),\n",
       " ('have', 80),\n",
       " ('when', 79),\n",
       " ('could', 77),\n",
       " ('queen', 76)]"
      ]
     },
     "execution_count": 75,
     "metadata": {},
     "output_type": "execute_result"
    }
   ],
   "source": [
    "# count the most common words\n",
    "alice_4plus_count = Counter(alice_4plus)\n",
    "alice_4plus_count.most_common(25)   # still a lot of stop words at least we have removed punctuation"
   ]
  },
  {
   "cell_type": "code",
   "execution_count": null,
   "metadata": {
    "id": "woRTmFbJv3S9"
   },
   "outputs": [],
   "source": [
    "# so Counters are dictionaries with benefits as I like to say\n",
    "# we can use them to get most common words\n",
    "\n",
    "\n"
   ]
  },
  {
   "cell_type": "code",
   "execution_count": 76,
   "metadata": {
    "id": "e_cQQWT5v3S9"
   },
   "outputs": [],
   "source": [
    "# lets save all of the counter as a tsv file starting with most common\n",
    "# we can use a with statement to open a file\n",
    "# of course we could use another format like csv or json - json will be covered later\n",
    "\n",
    "# will save in current directory\n",
    "with open(\"alice_word_count.tsv\", \"w\", encoding=\"utf-8\") as f:\n",
    "    # first lets write a header\n",
    "    f.write(\"word\\tcount\\n\") # \\t is a tab character, \\n is a newline\n",
    "    # we go through all words and counts in alice_4plus_count starting with most common\n",
    "    for word, count in alice_4plus_count.most_common():\n",
    "        # then we write each word and count to the file\n",
    "        f.write(f\"{word}\\t{count}\\n\")"
   ]
  },
  {
   "cell_type": "code",
   "execution_count": 77,
   "metadata": {
    "id": "CQ1Vaw3R_EIR"
   },
   "outputs": [],
   "source": [
    "# will save in current google drive (if it is mounted)\n",
    "with open(\"drive/MyDrive/data/alice_word_count.tsv\", \"w\", encoding=\"utf-8\") as f:\n",
    "    # first lets write a header\n",
    "    f.write(\"word\\tcount\\n\") # \\t is a tab character, \\n is a newline\n",
    "    # we go through all words and counts in alice_4plus_count starting with most common\n",
    "    for word, count in alice_4plus_count.most_common():\n",
    "        # then we write each word and count to the file\n",
    "        f.write(f\"{word}\\t{count}\\n\")"
   ]
  },
  {
   "cell_type": "code",
   "execution_count": 79,
   "metadata": {
    "colab": {
     "base_uri": "https://localhost:8080/",
     "height": 909
    },
    "id": "0EVh7boBv3S9",
    "outputId": "df3adf38-331d-46ab-83b4-9930273ef5f3"
   },
   "outputs": [
    {
     "data": {
      "image/png": "[encoded data removed]",
      "text/plain": [
       "<Figure size 1000x1000 with 1 Axes>"
      ]
     },
     "metadata": {},
     "output_type": "display_data"
    }
   ],
   "source": [
    "# lets plot most common 50 words and their counts\n",
    "\n",
    "# we can use matplotlib to plot\n",
    "# most popular visualization library\n",
    "# included in Colab install it otherwise locally\n",
    "# https://matplotlib.org/\n",
    "\n",
    "import matplotlib.pyplot as plt\n",
    "\n",
    "# we can use a list comprehension to get the counts and words separately\n",
    "counts = [count for word, count in alice_4plus_count.most_common(50)]\n",
    "words = [word for word, count in alice_4plus_count.most_common(50)]\n",
    "\n",
    "# alternative would be to use a for loop\n",
    "# counts = []\n",
    "# words = []\n",
    "# for word, count in alice_4plus_count.most_common(50):\n",
    "#     counts.append(count)\n",
    "#     words.append(word)\n",
    "\n",
    "# now we can plot\n",
    "\n",
    "plt.figure(figsize=(10,10)) # we can set the size of the figure\n",
    "plt.bar(words, counts) # vertical bar chart\n",
    "# add title and labels\n",
    "plt.title(\"Most common words in Alice in Wonderland\")\n",
    "plt.xlabel(\"Count\")\n",
    "plt.ylabel(\"Word\")\n",
    "plt.xticks(rotation=45)\n",
    "plt.show()"
   ]
  },
  {
   "cell_type": "code",
   "execution_count": 82,
   "metadata": {
    "colab": {
     "base_uri": "https://localhost:8080/",
     "height": 902
    },
    "id": "-PmuGySdv3S-",
    "outputId": "0c0b744e-eeb3-4df3-9cc8-97715aa42539"
   },
   "outputs": [
    {
     "data": {
      "image/png": "[encoded data removed]",
      "text/plain": [
       "<Figure size 1000x1000 with 1 Axes>"
      ]
     },
     "metadata": {},
     "output_type": "display_data"
    }
   ],
   "source": [
    "# plot top 20 words and their counts\n",
    "TOP_COUNT = 20\n",
    "plt.figure(figsize=(10,10)) # we can set the size of the figure\n",
    "plt.bar(words[:TOP_COUNT], counts[:TOP_COUNT]) # vertical bar chart\n",
    "# add title and labels\n",
    "plt.title(f\"Most common {TOP_COUNT} words in Alice in Wonderland\")\n",
    "plt.xlabel(\"Count\")\n",
    "plt.ylabel(\"Word\")\n",
    "plt.xticks(rotation=45)\n",
    "plt.savefig(\"top_20_alice.png\")\n",
    "plt.show()"
   ]
  },
  {
   "cell_type": "code",
   "execution_count": null,
   "metadata": {
    "id": "OX4rP60-v3S-"
   },
   "outputs": [],
   "source": [
    "# looks like Zipf's law is holding up\n",
    "# link to wikipedia https://en.wikipedia.org/wiki/Zipf%27s_law"
   ]
  },
  {
   "cell_type": "code",
   "execution_count": null,
   "metadata": {
    "id": "eEi2RyR9v3S-",
    "outputId": "b60ded05-fff0-4ca5-a839-9256fd0415a7"
   },
   "outputs": [
    {
     "data": {
      "text/plain": [
       "list"
      ]
     },
     "execution_count": 67,
     "metadata": {},
     "output_type": "execute_result"
    }
   ],
   "source": [
    "type(alice_4plus_count.most_common())"
   ]
  },
  {
   "cell_type": "code",
   "execution_count": null,
   "metadata": {
    "id": "oqHZP-bIv3S-"
   },
   "outputs": [],
   "source": [
    "# most common returns a list of tuples\n",
    "# what is a tuple?\n",
    "# a tuple is a list that is immutable\n",
    "# you can not change the values in a tuple, you can not add or remove values\n",
    "# so list of tuples is roughly analogous to a 2D array"
   ]
  },
  {
   "cell_type": "code",
   "execution_count": null,
   "metadata": {
    "id": "Cv97JH-mv3S-"
   },
   "outputs": [],
   "source": [
    "# so now that we have some prelimenary results in\n",
    "# we could start thinking about stripping stopwords\n",
    "# maybe getting rid of very short words"
   ]
  },
  {
   "cell_type": "code",
   "execution_count": null,
   "metadata": {
    "id": "ajlrZRbmv3S-",
    "outputId": "21ed2871-fcb3-4e47-b7c6-3622181c3de9"
   },
   "outputs": [
    {
     "data": {
      "text/plain": [
       "485"
      ]
     },
     "execution_count": 31,
     "metadata": {},
     "output_type": "execute_result"
    }
   ],
   "source": [
    "word_count[\"she\"] # turns out Counter is just a dictionary with some benefits"
   ]
  },
  {
   "cell_type": "code",
   "execution_count": null,
   "metadata": {
    "id": "0BZu2Jp5v3S_",
    "outputId": "673f8fac-cd72-4953-dbe7-93b8d4df1b8f"
   },
   "outputs": [
    {
     "data": {
      "text/plain": [
       "94"
      ]
     },
     "execution_count": 32,
     "metadata": {},
     "output_type": "execute_result"
    }
   ],
   "source": [
    "word_count[\"he\"]"
   ]
  },
  {
   "cell_type": "code",
   "execution_count": null,
   "metadata": {
    "id": "BhOGQJP0v3S_"
   },
   "outputs": [],
   "source": [
    "import csv"
   ]
  },
  {
   "cell_type": "code",
   "execution_count": null,
   "metadata": {
    "id": "Sl7JMmEgv3S_"
   },
   "outputs": [],
   "source": [
    "with open(\"word_count.tsv\", mode=\"w\", encoding=\"utf-8\") as f:\n",
    "    f.write(\"word\\tcount\\n\") # so we add newlines by hand\n",
    "    for word,count in word_count.most_common():\n",
    "        f.write(f\"{word}\\t{count}\\n\")"
   ]
  },
  {
   "cell_type": "code",
   "execution_count": null,
   "metadata": {
    "id": "b7wKJdnFv3S_"
   },
   "outputs": [],
   "source": [
    "# we can use libraries such as CSV and Pandas to take care of writing\n",
    "#"
   ]
  },
  {
   "cell_type": "code",
   "execution_count": null,
   "metadata": {
    "id": "GPzII11yv3S_"
   },
   "outputs": [],
   "source": [
    "# to continue we will need to perform some additional cleaning\n",
    "# maybe think about some visualization of some of this data"
   ]
  },
  {
   "cell_type": "markdown",
   "metadata": {
    "id": "aAowzTEdAK5c"
   },
   "source": [
    "## Latvian version of word count for Veidenbaums"
   ]
  },
  {
   "cell_type": "code",
   "execution_count": null,
   "metadata": {
    "id": "G8Gqxw7av3S_"
   },
   "outputs": [],
   "source": [
    "# we will need to clean all lines which contain *** as ending characters\n",
    "# so lets try reading lines\n",
    "# filePath = \"../data/Veidenbaums.txt\"\n",
    "# with open(filePath, encoding=\"utf-8\") as fstream:\n",
    "#     mylines = fstream.readlines()\n",
    "# len(mylines)"
   ]
  },
  {
   "cell_type": "code",
   "execution_count": null,
   "metadata": {
    "id": "fAzhZi9qv3S_"
   },
   "outputs": [],
   "source": [
    "mylines[:15]"
   ]
  },
  {
   "cell_type": "code",
   "execution_count": null,
   "metadata": {
    "id": "xReXBb6Fv3S_"
   },
   "outputs": [],
   "source": [
    "cleanlines = [line for line in mylines if line[0]!='\\n']\n",
    "len(cleanlines)"
   ]
  },
  {
   "cell_type": "code",
   "execution_count": null,
   "metadata": {
    "id": "ns7zY31Hv3TA"
   },
   "outputs": [],
   "source": [
    "cleanlines[:5]"
   ]
  },
  {
   "cell_type": "code",
   "execution_count": null,
   "metadata": {
    "id": "bB7cnnMHv3TA"
   },
   "outputs": [],
   "source": [
    "# we do not want the lines which end with ***\\n\n",
    "headlines = [line for line in cleanlines if line.endswith(\"***\\n\")]\n",
    "headlines[:5]\n",
    "# we do not need the headlines!"
   ]
  },
  {
   "cell_type": "code",
   "execution_count": null,
   "metadata": {
    "id": "XqF6hQIxv3TA"
   },
   "outputs": [],
   "source": [
    "# we do not want the lines which end with ***\\n\n",
    "noheadlines = [line for line in cleanlines if not line.endswith(\"***\\n\")]\n",
    "noheadlines[:5]"
   ]
  },
  {
   "cell_type": "code",
   "execution_count": null,
   "metadata": {
    "id": "J3nRNruEv3TA"
   },
   "outputs": [],
   "source": [
    "# we could save the results\n",
    "savePath = \"../data/noHeadVeidenbaums.txt\"\n",
    "with open(savePath, mode=\"w\", encoding=\"utf-8\") as fstream:\n",
    "    fstream.writelines(noheadlines)"
   ]
  },
  {
   "cell_type": "code",
   "execution_count": null,
   "metadata": {
    "id": "o3dQEYiVv3TA",
    "outputId": "4a70f8f5-0f78-4e04-8b11-6f3d5babcfdd"
   },
   "outputs": [
    {
     "data": {
      "text/plain": [
       "366"
      ]
     },
     "execution_count": 1,
     "metadata": {},
     "output_type": "execute_result"
    }
   ],
   "source": [
    "# May 6th lets start with noheadlines\n",
    "myPath = \"../data/noHeadVeidenbaums.txt\"\n",
    "with open(myPath, encoding=\"utf-8\") as fstream:\n",
    "    noheadlines = fstream.readlines()\n",
    "len(noheadlines)"
   ]
  },
  {
   "cell_type": "code",
   "execution_count": null,
   "metadata": {
    "id": "MYMNaX_pv3TA",
    "outputId": "73cfd8d8-9008-4dd1-8d93-8c44d7bc687d"
   },
   "outputs": [
    {
     "data": {
      "text/plain": [
       "365"
      ]
     },
     "execution_count": 13,
     "metadata": {},
     "output_type": "execute_result"
    }
   ],
   "source": [
    "#\n",
    "noheadlines = [line for line in noheadlines if not \"Treimanim\" in line]\n",
    "len(noheadlines)"
   ]
  },
  {
   "cell_type": "code",
   "execution_count": null,
   "metadata": {
    "id": "ZqUn_LI-v3TB"
   },
   "outputs": [],
   "source": [
    "spaceChars = \"\\n-\"\n",
    "stopChars = \"\"\"!?.,\"':;()…\"\"\"\n"
   ]
  },
  {
   "cell_type": "code",
   "execution_count": null,
   "metadata": {
    "id": "MSbin1AIv3TB"
   },
   "outputs": [],
   "source": [
    "for char in stopChars:\n",
    "    print(char)"
   ]
  },
  {
   "cell_type": "code",
   "execution_count": null,
   "metadata": {
    "id": "vUxh57hnv3TB",
    "outputId": "84778af0-3767-4ac8-e686-18843ab03597"
   },
   "outputs": [
    {
     "data": {
      "text/plain": [
       "'Pēc ideāliem cenšas lielie gari,\\nBet dzīvē ieņemt vietu'"
      ]
     },
     "execution_count": 25,
     "metadata": {},
     "output_type": "execute_result"
    }
   ],
   "source": [
    "# One big text from many lines\n",
    "textNoHead = \"\".join(noheadlines) # we could have used fstream.read earlier\n",
    "textNoHead[:55]"
   ]
  },
  {
   "cell_type": "code",
   "execution_count": null,
   "metadata": {
    "id": "G0hwml-ov3TB",
    "outputId": "155eeab4-71b1-4008-f74a-99dc7596c830"
   },
   "outputs": [
    {
     "name": "stdout",
     "output_type": "stream",
     "text": [
      "Replacing \n",
      " with space\n",
      "Replacing - with space\n"
     ]
    },
    {
     "data": {
      "text/plain": [
       "'Pēc ideāliem cenšas lielie gari, Bet dzīvē ieņemt vietu pirmie Tie neiespēj'"
      ]
     },
     "execution_count": 26,
     "metadata": {},
     "output_type": "execute_result"
    }
   ],
   "source": [
    "# take off spacy Characters replace with space (why space ? :)\n",
    "for char in spaceChars:\n",
    "    print(f\"Replacing {char} with space\")\n",
    "    textNoHead = textNoHead.replace(char, \" \")\n",
    "#     print(textNoHead[:75])\n",
    "textNoHead[:75]"
   ]
  },
  {
   "cell_type": "code",
   "execution_count": null,
   "metadata": {
    "id": "wGb4U3N4v3TB"
   },
   "outputs": [],
   "source": []
  },
  {
   "cell_type": "code",
   "execution_count": null,
   "metadata": {
    "id": "kTZB1vlzv3TB",
    "outputId": "09958ef6-f5fb-4643-e462-0f120e8e2fab"
   },
   "outputs": [
    {
     "name": "stdout",
     "output_type": "stream",
     "text": [
      "Replacing ! with nothing\n",
      "Replacing ? with nothing\n",
      "Replacing . with nothing\n",
      "Replacing , with nothing\n",
      "Replacing \" with nothing\n",
      "Replacing ' with nothing\n",
      "Replacing : with nothing\n",
      "Replacing ; with nothing\n",
      "Replacing ( with nothing\n",
      "Replacing ) with nothing\n",
      "Replacing … with nothing\n"
     ]
    },
    {
     "data": {
      "text/plain": [
       "'Pēc ideāliem cenšas lielie gari Bet dzīvē ieņemt vietu '"
      ]
     },
     "execution_count": 27,
     "metadata": {},
     "output_type": "execute_result"
    }
   ],
   "source": [
    "for char in stopChars:\n",
    "    print(f\"Replacing {char} with nothing\")\n",
    "    textNoHead = textNoHead.replace(char, \"\")\n",
    "textNoHead[:55]"
   ]
  },
  {
   "cell_type": "code",
   "execution_count": null,
   "metadata": {
    "id": "0f46yRaqv3TC"
   },
   "outputs": [],
   "source": [
    "savePath = \"../data/noHeadVeidenbaumsOneLine.txt\"\n",
    "with open(savePath, mode=\"w\", encoding=\"utf-8\") as fstream:\n",
    "    fstream.write(textNoHead)"
   ]
  },
  {
   "cell_type": "code",
   "execution_count": null,
   "metadata": {
    "id": "lJjCgM9Xv3TC",
    "outputId": "e43b62fd-72b0-4933-9702-fd2f1c8a489a"
   },
   "outputs": [
    {
     "ename": "ValueError",
     "evalue": "substring not found",
     "output_type": "error",
     "traceback": [
      "\u001b[1;31m---------------------------------------------------------------------------\u001b[0m",
      "\u001b[1;31mValueError\u001b[0m                                Traceback (most recent call last)",
      "\u001b[1;32m<ipython-input-20-cadf8a59266b>\u001b[0m in \u001b[0;36m<module>\u001b[1;34m\u001b[0m\n\u001b[1;32m----> 1\u001b[1;33m \u001b[0mtextNoHead\u001b[0m\u001b[1;33m.\u001b[0m\u001b[0mindex\u001b[0m\u001b[1;33m(\u001b[0m\u001b[1;34m\"Vēstule\"\u001b[0m\u001b[1;33m)\u001b[0m\u001b[1;33m\u001b[0m\u001b[1;33m\u001b[0m\u001b[0m\n\u001b[0m\u001b[0;32m      2\u001b[0m \u001b[1;31m# nothing found thats good\u001b[0m\u001b[1;33m\u001b[0m\u001b[1;33m\u001b[0m\u001b[1;33m\u001b[0m\u001b[0m\n",
      "\u001b[1;31mValueError\u001b[0m: substring not found"
     ]
    }
   ],
   "source": [
    "textNoHead.index(\"Vēstule\")\n",
    "# nothing found thats good"
   ]
  },
  {
   "cell_type": "code",
   "execution_count": null,
   "metadata": {
    "id": "Qs9fwbQ6v3TC",
    "outputId": "208e9b42-3ece-44f1-b7dd-efe01a3e68e1"
   },
   "outputs": [
    {
     "data": {
      "text/plain": [
       "'eiz zaļoja jaunība cerības pla'"
      ]
     },
     "execution_count": 29,
     "metadata": {},
     "output_type": "execute_result"
    }
   ],
   "source": [
    "textNoHead[5400:5430]"
   ]
  },
  {
   "cell_type": "code",
   "execution_count": null,
   "metadata": {
    "id": "ctTwMH5Xv3TC",
    "outputId": "3afcdd16-8703-485d-e2a5-bd5bff3d9015"
   },
   "outputs": [
    {
     "data": {
      "text/plain": [
       "{' ',\n",
       " 'A',\n",
       " 'B',\n",
       " 'C',\n",
       " 'D',\n",
       " 'E',\n",
       " 'G',\n",
       " 'I',\n",
       " 'J',\n",
       " 'K',\n",
       " 'L',\n",
       " 'M',\n",
       " 'N',\n",
       " 'O',\n",
       " 'P',\n",
       " 'R',\n",
       " 'S',\n",
       " 'T',\n",
       " 'U',\n",
       " 'V',\n",
       " 'Z',\n",
       " 'a',\n",
       " 'b',\n",
       " 'c',\n",
       " 'd',\n",
       " 'e',\n",
       " 'f',\n",
       " 'g',\n",
       " 'i',\n",
       " 'j',\n",
       " 'k',\n",
       " 'l',\n",
       " 'm',\n",
       " 'n',\n",
       " 'o',\n",
       " 'p',\n",
       " 'r',\n",
       " 's',\n",
       " 't',\n",
       " 'u',\n",
       " 'v',\n",
       " 'z',\n",
       " 'Ā',\n",
       " 'ā',\n",
       " 'č',\n",
       " 'Ē',\n",
       " 'ē',\n",
       " 'ģ',\n",
       " 'Ī',\n",
       " 'ī',\n",
       " 'ķ',\n",
       " 'ļ',\n",
       " 'ņ',\n",
       " 'Š',\n",
       " 'š',\n",
       " 'ū',\n",
       " 'ž'}"
      ]
     },
     "execution_count": 30,
     "metadata": {},
     "output_type": "execute_result"
    }
   ],
   "source": [
    "# charSet that's Camelcase another style\n",
    "char_set = set(textNoHead)\n",
    "char_set"
   ]
  },
  {
   "cell_type": "code",
   "execution_count": null,
   "metadata": {
    "id": "Xp10CK-dv3TC",
    "outputId": "ff458714-8112-4161-ed1a-47ae027d0d76"
   },
   "outputs": [
    {
     "data": {
      "text/plain": [
       "8230"
      ]
     },
     "execution_count": 23,
     "metadata": {},
     "output_type": "execute_result"
    }
   ],
   "source": [
    "ord(\"…\")"
   ]
  },
  {
   "cell_type": "code",
   "execution_count": null,
   "metadata": {
    "id": "hYtnzvbIv3TC",
    "outputId": "6583c618-ab40-4d1f-f10c-d8a123520a73"
   },
   "outputs": [
    {
     "data": {
      "text/plain": [
       "['Pēc', 'ideāliem', 'cenšas', 'lielie', 'gari']"
      ]
     },
     "execution_count": 31,
     "metadata": {},
     "output_type": "execute_result"
    }
   ],
   "source": [
    "words = textNoHead.split()\n",
    "words[:5]"
   ]
  },
  {
   "cell_type": "code",
   "execution_count": null,
   "metadata": {
    "id": "wx0ynv4Ev3TD",
    "outputId": "ab231a93-251c-48b7-e557-3fab08c6ab98"
   },
   "outputs": [
    {
     "data": {
      "text/plain": [
       "['pēc', 'ideāliem', 'cenšas', 'lielie', 'gari']"
      ]
     },
     "execution_count": 33,
     "metadata": {},
     "output_type": "execute_result"
    }
   ],
   "source": [
    "# we need to convert to lower case\n",
    "# for word in words:\n",
    "words_lower = [word.lower() for word in words]\n",
    "words_lower[:5]\n"
   ]
  },
  {
   "cell_type": "code",
   "execution_count": null,
   "metadata": {
    "id": "P_8T01nvv3TD",
    "outputId": "0f729685-3d2b-4d29-cc3e-ece26f24c170"
   },
   "outputs": [
    {
     "data": {
      "text/plain": [
       "1865"
      ]
     },
     "execution_count": 34,
     "metadata": {},
     "output_type": "execute_result"
    }
   ],
   "source": [
    "len(words_lower)"
   ]
  },
  {
   "cell_type": "code",
   "execution_count": null,
   "metadata": {
    "id": "byJNCEgGv3TD"
   },
   "outputs": [],
   "source": [
    "# if we want to do it ourselves\n",
    "# we could store it in a dictionary word and count\n",
    "# {'pēc':5, 'ideālie':1, 'cenšas':3}"
   ]
  },
  {
   "cell_type": "code",
   "execution_count": null,
   "metadata": {
    "id": "Tzu_3fGqv3TD",
    "outputId": "c111ee58-7d90-4524-f764-8bb1b0761d48"
   },
   "outputs": [
    {
     "data": {
      "text/plain": [
       "1064"
      ]
     },
     "execution_count": 35,
     "metadata": {},
     "output_type": "execute_result"
    }
   ],
   "source": [
    "unique_words = set(words_lower)\n",
    "len(unique_words)"
   ]
  },
  {
   "cell_type": "code",
   "execution_count": null,
   "metadata": {
    "id": "2B4cstZtv3TD",
    "outputId": "9720bbb8-4f36-4c61-dc6d-19b4efab7ccb"
   },
   "outputs": [
    {
     "data": {
      "text/plain": [
       "0"
      ]
     },
     "execution_count": 36,
     "metadata": {},
     "output_type": "execute_result"
    }
   ],
   "source": [
    "# i create a dictionary of unique words and set counter to 0\n",
    "my_counter_dict = {word:0 for word in list(unique_words)}\n",
    "my_counter_dict['pēc']"
   ]
  },
  {
   "cell_type": "code",
   "execution_count": null,
   "metadata": {
    "id": "aBTXZJRxv3TD"
   },
   "outputs": [],
   "source": [
    "for word in words_lower:\n",
    "    my_counter_dict[word] += 1 # each time i add 1 to right box(key)"
   ]
  },
  {
   "cell_type": "code",
   "execution_count": null,
   "metadata": {
    "id": "bb3xz8X-v3TD",
    "outputId": "73d7e282-a9f2-4189-fb49-d9d3536a2de2"
   },
   "outputs": [
    {
     "data": {
      "text/plain": [
       "11"
      ]
     },
     "execution_count": 52,
     "metadata": {},
     "output_type": "execute_result"
    }
   ],
   "source": [
    "my_counter_dict['pēc']"
   ]
  },
  {
   "cell_type": "code",
   "execution_count": null,
   "metadata": {
    "id": "nVlPlkW_v3TE",
    "outputId": "cd574137-8f60-4e11-b1a8-73a49ecda2ae"
   },
   "outputs": [
    {
     "data": {
      "text/plain": [
       "[('apkakli', 1), ('šūpulis', 1), ('aša', 1), ('līdz', 8), ('tiesas', 1)]"
      ]
     },
     "execution_count": 53,
     "metadata": {},
     "output_type": "execute_result"
    }
   ],
   "source": [
    "my_list_tuples = [(key, value) for key,value in my_counter_dict.items()]\n",
    "my_list_tuples[:5]"
   ]
  },
  {
   "cell_type": "code",
   "execution_count": null,
   "metadata": {
    "id": "85Qsf3RNv3TE",
    "outputId": "b620b0fd-678e-4396-b23f-27d393bf9679"
   },
   "outputs": [
    {
     "data": {
      "text/plain": [
       "[('acs', 1), ('agrāk', 1), ('aiz', 1), ('aizgāja', 1), ('aizmirsts', 1)]"
      ]
     },
     "execution_count": 54,
     "metadata": {},
     "output_type": "execute_result"
    }
   ],
   "source": [
    "sorted(my_list_tuples)[:5]\n",
    "# not quite what we need because it sorts by the first item alphabetically"
   ]
  },
  {
   "cell_type": "code",
   "execution_count": null,
   "metadata": {
    "id": "NkpI2rN5v3TE",
    "outputId": "94c32355-6953-4475-99bd-a276a9d3db92"
   },
   "outputs": [
    {
     "data": {
      "text/plain": [
       "[('un', 76),\n",
       " ('ir', 24),\n",
       " ('vēl', 22),\n",
       " ('tu', 21),\n",
       " ('tik', 21),\n",
       " ('bet', 15),\n",
       " ('kas', 15),\n",
       " ('nav', 14),\n",
       " ('man', 14),\n",
       " ('kā', 13)]"
      ]
     },
     "execution_count": 57,
     "metadata": {},
     "output_type": "execute_result"
    }
   ],
   "source": [
    "# solution we pass a function to show how to sort\n",
    "my_most_common = sorted(my_list_tuples,key=lambda mytuple: mytuple[1], reverse=True)\n",
    "my_most_common[:10]"
   ]
  },
  {
   "cell_type": "code",
   "execution_count": null,
   "metadata": {
    "id": "bNDLfS77v3TE"
   },
   "outputs": [],
   "source": [
    "# so sorting is possible but my recommendation is to use Counter"
   ]
  },
  {
   "cell_type": "code",
   "execution_count": null,
   "metadata": {
    "id": "ragMi5w1v3TE"
   },
   "outputs": [],
   "source": [
    "# well and now I would to like sort\n",
    "# its possible then I need to create a list from dictionary and then sort by key value\n",
    "# solution use a library"
   ]
  },
  {
   "cell_type": "code",
   "execution_count": null,
   "metadata": {
    "id": "BDETRNq3v3TE"
   },
   "outputs": [],
   "source": [
    "# Batteries are included no need to write our own counter\n",
    "from collections import Counter"
   ]
  },
  {
   "cell_type": "code",
   "execution_count": null,
   "metadata": {
    "id": "d5qrNHkXv3TE"
   },
   "outputs": [],
   "source": [
    "mycounter = Counter(words_lower)\n"
   ]
  },
  {
   "cell_type": "code",
   "execution_count": null,
   "metadata": {
    "id": "vqYfkWLiv3TE",
    "outputId": "5d859ccd-cc03-49d0-c556-968affc8853d"
   },
   "outputs": [
    {
     "data": {
      "text/plain": [
       "[('un', 76),\n",
       " ('ir', 24),\n",
       " ('vēl', 22),\n",
       " ('tik', 21),\n",
       " ('tu', 21),\n",
       " ('bet', 15),\n",
       " ('kas', 15),\n",
       " ('nav', 14),\n",
       " ('man', 14),\n",
       " ('par', 13)]"
      ]
     },
     "execution_count": 41,
     "metadata": {},
     "output_type": "execute_result"
    }
   ],
   "source": [
    "mycounter.most_common(10)"
   ]
  },
  {
   "cell_type": "code",
   "execution_count": null,
   "metadata": {
    "id": "nuaiTQ0Zv3TF",
    "outputId": "eb90bd9d-a7ba-4805-afea-7c789fd4d7c0"
   },
   "outputs": [
    {
     "data": {
      "text/plain": [
       "list"
      ]
     },
     "execution_count": 42,
     "metadata": {},
     "output_type": "execute_result"
    }
   ],
   "source": [
    "type(mycounter.most_common(10))"
   ]
  },
  {
   "cell_type": "code",
   "execution_count": null,
   "metadata": {
    "id": "2B1HM9Q9v3TF",
    "outputId": "5ef45cbb-6f9e-44d0-fab7-84f2db3bf47b"
   },
   "outputs": [
    {
     "data": {
      "text/plain": [
       "1283"
      ]
     },
     "execution_count": 44,
     "metadata": {},
     "output_type": "execute_result"
    }
   ],
   "source": [
    "# how to get only words 4 chars or longer ? :)\n",
    "long_words = [word for word in words_lower if len(word) >= 4 ]\n",
    "len(long_words)"
   ]
  },
  {
   "cell_type": "code",
   "execution_count": null,
   "metadata": {
    "id": "ARcgnBXkv3TF",
    "outputId": "fe8af05e-84f7-4741-a929-0af60ec09a70"
   },
   "outputs": [
    {
     "data": {
      "text/plain": [
       "[('reiz', 10),\n",
       " ('viss', 9),\n",
       " ('līdz', 8),\n",
       " ('mums', 7),\n",
       " ('sauc', 6),\n",
       " ('gars', 6),\n",
       " ('projām', 6),\n",
       " ('laiks', 5),\n",
       " ('sirds', 5),\n",
       " ('tomēr', 5)]"
      ]
     },
     "execution_count": 45,
     "metadata": {},
     "output_type": "execute_result"
    }
   ],
   "source": [
    "long_counter = Counter(long_words)\n",
    "long_counter.most_common(10)"
   ]
  },
  {
   "cell_type": "code",
   "execution_count": null,
   "metadata": {
    "id": "ap_EzlVsv3TF",
    "outputId": "3429fd35-9c49-42d7-a4ec-0adbbe2cd920"
   },
   "outputs": [
    {
     "data": {
      "text/plain": [
       "True"
      ]
     },
     "execution_count": 46,
     "metadata": {},
     "output_type": "execute_result"
    }
   ],
   "source": [
    "'alus' in long_counter"
   ]
  },
  {
   "cell_type": "code",
   "execution_count": null,
   "metadata": {
    "id": "meqNjfyDv3TF",
    "outputId": "bc6c0e6a-93c4-4810-dc4b-3cecfddbb22a"
   },
   "outputs": [
    {
     "data": {
      "text/plain": [
       "collections.Counter"
      ]
     },
     "execution_count": 47,
     "metadata": {},
     "output_type": "execute_result"
    }
   ],
   "source": [
    "type(long_counter)"
   ]
  },
  {
   "cell_type": "code",
   "execution_count": null,
   "metadata": {
    "id": "NBSvO0_3v3TF",
    "outputId": "e7ca24fc-6e56-4712-a47a-ac7ca5fd750f"
   },
   "outputs": [
    {
     "data": {
      "text/plain": [
       "(2, 2)"
      ]
     },
     "execution_count": 49,
     "metadata": {},
     "output_type": "execute_result"
    }
   ],
   "source": [
    "long_counter.get('alus'), long_counter['alus'] #2nd would throw error if no beer existed"
   ]
  },
  {
   "cell_type": "code",
   "execution_count": null,
   "metadata": {
    "id": "mVYNR2ODv3TF",
    "outputId": "f976918a-dbe7-4474-e0e6-789b25ddc177"
   },
   "outputs": [
    {
     "data": {
      "text/plain": [
       "[('laiks', 5),\n",
       " ('sirds', 5),\n",
       " ('tomēr', 5),\n",
       " ('likumīgi', 5),\n",
       " ('dzīves', 5),\n",
       " ('iedzer', 5)]"
      ]
     },
     "execution_count": 51,
     "metadata": {},
     "output_type": "execute_result"
    }
   ],
   "source": [
    "# we only get 5 letter words here\n",
    "word_counter_5 = [mytuple for mytuple in long_counter.most_common() if mytuple[1] == 5]\n",
    "word_counter_5"
   ]
  },
  {
   "cell_type": "code",
   "execution_count": null,
   "metadata": {
    "id": "Pnzltvvhv3TG"
   },
   "outputs": [],
   "source": [
    "import json"
   ]
  },
  {
   "cell_type": "code",
   "execution_count": null,
   "metadata": {
    "id": "Zqt3NPbov3TG"
   },
   "outputs": [],
   "source": [
    "with open('most_common.json', mode='w', encoding='utf-8') as fstream:\n",
    "    json.dump(mycounter.most_common(), fstream, indent=2)"
   ]
  },
  {
   "cell_type": "code",
   "execution_count": null,
   "metadata": {
    "id": "JS8vCpmzv3TG"
   },
   "outputs": [],
   "source": [
    "# if we want to save our Latvian or other languages besides ENglish we set\n",
    "# turn off ascii\n",
    "# https://stackoverflow.com/questions/18337407/saving-utf-8-texts-in-json-dumps-as-utf8-not-as-u-escape-sequence\n",
    "with open('most_common.json', mode='w', encoding='utf-8') as fstream:\n",
    "    json.dump(mycounter.most_common(), fstream, indent=2, ensure_ascii=False)"
   ]
  },
  {
   "cell_type": "code",
   "execution_count": null,
   "metadata": {
    "id": "poBh5EDSv3TG"
   },
   "outputs": [],
   "source": []
  }
 ],
 "metadata": {
  "colab": {
   "provenance": [],
   "toc_visible": true
  },
  "kernelspec": {
   "display_name": "Python 3",
   "language": "python",
   "name": "python3"
  },
  "language_info": {
   "codemirror_mode": {
    "name": "ipython",
    "version": 3
   },
   "file_extension": ".py",
   "mimetype": "text/x-python",
   "name": "python",
   "nbconvert_exporter": "python",
   "pygments_lexer": "ipython3",
   "version": "3.11.4"
  }
 },
 "nbformat": 4,
 "nbformat_minor": 0
}
