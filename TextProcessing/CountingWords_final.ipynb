{
  "cells": [
    {
      "cell_type": "code",
      "execution_count": null,
      "metadata": {
        "id": "6NuEjNf3v3Sm"
      },
      "outputs": [],
      "source": [
        "# Assignment: Count Most Frequently used words in Veidenbaums.txt\n",
        "# For English let's use Alice in Wonderland"
      ]
    },
    {
      "cell_type": "code",
      "execution_count": null,
      "metadata": {
        "id": "Xa96ou89v3Sp"
      },
      "outputs": [],
      "source": [
        "# Open File - Get Data\n",
        "# Read Text\n",
        "# Split Text into word tokens\n",
        "# Count these tokens (we need to figure out how to)\n",
        "# Save/Print Results"
      ]
    },
    {
      "cell_type": "code",
      "execution_count": null,
      "metadata": {
        "id": "eKJ3mftbv3Sp"
      },
      "outputs": [],
      "source": [
        "# File is under /data/Veidenbaums.txt\n",
        "# Alice is under /data/Alice_Wonderland.txt\n",
        "# we are under /TextProcessing/CountingWords.ipynb"
      ]
    },
    {
      "cell_type": "code",
      "execution_count": null,
      "metadata": {
        "id": "NCQJ1vBlv3Sq"
      },
      "outputs": [],
      "source": [
        "# This means one level up and then again down into data\n",
        "# \"../data/Veidenbaums.txt\"\n",
        "# So called relative path\n"
      ]
    },
    {
      "cell_type": "code",
      "source": [
        "import os\n",
        "current_path = os.getcwd()\n",
        "current_path"
      ],
      "metadata": {
        "id": "ZmjnfXSWxMjl",
        "outputId": "70ebb860-b1d8-42da-d311-215cbc8adcf5",
        "colab": {
          "base_uri": "https://localhost:8080/",
          "height": 35
        }
      },
      "execution_count": 1,
      "outputs": [
        {
          "output_type": "execute_result",
          "data": {
            "text/plain": [
              "'/content'"
            ],
            "application/vnd.google.colaboratory.intrinsic+json": {
              "type": "string"
            }
          },
          "metadata": {},
          "execution_count": 1
        }
      ]
    },
    {
      "cell_type": "code",
      "source": [
        "from pathlib import Path\n",
        "files = list([f for f in Path(\"./\").glob(\"*.txt\")])\n",
        "files"
      ],
      "metadata": {
        "id": "CisEgvnAxfAx",
        "outputId": "a79584be-6b1b-4c1d-f524-193990b49575",
        "colab": {
          "base_uri": "https://localhost:8080/"
        }
      },
      "execution_count": 3,
      "outputs": [
        {
          "output_type": "execute_result",
          "data": {
            "text/plain": [
              "[PosixPath('Alice_Wonderland.txt')]"
            ]
          },
          "metadata": {},
          "execution_count": 3
        }
      ]
    },
    {
      "cell_type": "code",
      "execution_count": 5,
      "metadata": {
        "id": "5-mxgogLv3Sr",
        "outputId": "f7ac16c1-91f3-445b-c762-1e3a1c9a385e",
        "colab": {
          "base_uri": "https://localhost:8080/"
        }
      },
      "outputs": [
        {
          "output_type": "execute_result",
          "data": {
            "text/plain": [
              "164410"
            ]
          },
          "metadata": {},
          "execution_count": 5
        }
      ],
      "source": [
        "# filePath = \"../data/Veidenbaums.txt\"\n",
        "# .. means one level up\n",
        "# data folder is a sibling of TextProcessing\n",
        "# filePath = \"../data/Alice_Wonderland.txt\"\n",
        "filePath = \"Alice_Wonderland.txt\" # this is relative to your current working directory\n",
        "# with is so called context manager\n",
        "# it will automatically close the file - otherwise you need to do it manually - which everyone forgets to do :)\n",
        "# with open(filePath, encoding=\"utf-8\") as fstream: # openign a filestream\n",
        "with open(\"Alice_Wonderland.txt\", encoding=\"utf-8\") as fstream: # openign a filestream\n",
        "    mytext = fstream.read() # here our textual data is read into memory\n",
        "    # as with most things in Python after : you need to indent\n",
        "    # fstream is still open here\n",
        "    # there are other ways to read files - but this is the most common one\n",
        "    # who said that you can't step into the same river twice?\n",
        "    # you can - but it will be a different river\n",
        "    # which Greek philosopher said that?\n",
        "    # Heraclitus - one of the pre-Socratics\n",
        "    # with file streams we can reset the pointer to the beginning of the file\n",
        "    # fstream.seek(0) - rare that you would need to do this\n",
        "    # usually you read the file once and then do something with it - like count words\n",
        "    # you do not need to read the file again - maybe you will want to write it again but that is a different story\n",
        "# once indentation ends here fstream is closed automatically for you\n",
        "len(mytext) # how many symbols are in our text"
      ]
    },
    {
      "cell_type": "code",
      "source": [
        "with open(\"sample_data/README.md\", encoding=\"utf-8\") as file_stream:\n",
        "    readme_text = file_stream.read() # so reads all of it into memory\n",
        "    # file_stream is still open but completely read here\n",
        "# here file is closed completely\n",
        "print(readme_text)"
      ],
      "metadata": {
        "id": "AkoibvcEye1z",
        "outputId": "c1022253-3443-4301-e3f1-a54d81801718",
        "colab": {
          "base_uri": "https://localhost:8080/"
        }
      },
      "execution_count": 6,
      "outputs": [
        {
          "output_type": "stream",
          "name": "stdout",
          "text": [
            "This directory includes a few sample datasets to get you started.\n",
            "\n",
            "*   `california_housing_data*.csv` is California housing data from the 1990 US\n",
            "    Census; more information is available at:\n",
            "    https://developers.google.com/machine-learning/crash-course/california-housing-data-description\n",
            "\n",
            "*   `mnist_*.csv` is a small sample of the\n",
            "    [MNIST database](https://en.wikipedia.org/wiki/MNIST_database), which is\n",
            "    described at: http://yann.lecun.com/exdb/mnist/\n",
            "\n",
            "*   `anscombe.json` contains a copy of\n",
            "    [Anscombe's quartet](https://en.wikipedia.org/wiki/Anscombe%27s_quartet); it\n",
            "    was originally described in\n",
            "\n",
            "    Anscombe, F. J. (1973). 'Graphs in Statistical Analysis'. American\n",
            "    Statistician. 27 (1): 17-21. JSTOR 2682899.\n",
            "\n",
            "    and our copy was prepared by the\n",
            "    [vega_datasets library](https://github.com/altair-viz/vega_datasets/blob/4f67bdaad10f45e3549984e17e1b3088c731503d/vega_datasets/_data/anscombe.json).\n",
            "\n"
          ]
        }
      ]
    },
    {
      "cell_type": "code",
      "execution_count": 14,
      "metadata": {
        "id": "Xrvb0AaFv3Ss",
        "outputId": "a8a42943-47f6-46cd-ecc5-255e4cbdf921",
        "colab": {
          "base_uri": "https://localhost:8080/",
          "height": 53
        }
      },
      "outputs": [
        {
          "output_type": "execute_result",
          "data": {
            "text/plain": [
              "'\\ufeffThe Project Gutenberg EBook of Alice’s Adventures in Wonderland, by Lewis Carroll\\n\\nThis eBook is for the use of anyone '"
            ],
            "application/vnd.google.colaboratory.intrinsic+json": {
              "type": "string"
            }
          },
          "metadata": {},
          "execution_count": 14
        }
      ],
      "source": [
        "mytext[:120] # first 120 symbols from our text"
      ]
    },
    {
      "cell_type": "code",
      "execution_count": 15,
      "metadata": {
        "id": "n2QUr7QRv3St",
        "outputId": "ff8a1400-86ce-4f17-a389-2e7d713d2856",
        "colab": {
          "base_uri": "https://localhost:8080/",
          "height": 53
        }
      },
      "outputs": [
        {
          "output_type": "execute_result",
          "data": {
            "text/plain": [
              "'-tm,\\nincluding how to make donations to the Project Gutenberg Literary\\nArchive Foundation, how to help produce our new eBooks, and how to\\nsubscribe to our email newsletter to hear about new eBooks.\\n\\n\\n'"
            ],
            "application/vnd.google.colaboratory.intrinsic+json": {
              "type": "string"
            }
          },
          "metadata": {},
          "execution_count": 15
        }
      ],
      "source": [
        "mytext[-200:] # last two hundred symbols of our text"
      ]
    },
    {
      "cell_type": "code",
      "execution_count": 16,
      "metadata": {
        "id": "XyB71vkev3St",
        "outputId": "844d06e2-c5b0-4a09-f333-8e2fb0aa7e3c",
        "colab": {
          "base_uri": "https://localhost:8080/"
        }
      },
      "outputs": [
        {
          "output_type": "stream",
          "name": "stdout",
          "text": [
            "﻿The Project Gutenberg EBook of Alice’s Adventures in Wonderland, by Lewis Carroll\n",
            "\n",
            "This eBook is for the use of anyone anywhere in the United States and most\n",
            "other parts of the world at no cost and with almost no restrictions\n",
            "whatsoever.  You may copy it, give it away or re-use it under the terms o\n"
          ]
        }
      ],
      "source": [
        "print(mytext[:300]) # print first 300 symbols\n",
        "# print gives your more human readable output than just typing the variable name - which is more suitable for debugging"
      ]
    },
    {
      "cell_type": "code",
      "execution_count": null,
      "metadata": {
        "id": "nXYmTzYbv3Su"
      },
      "outputs": [],
      "source": [
        "# so one issue is that pretty much any data source will need additional cleaning\n",
        "# here we have header and footer sections with some legal data\n",
        "# this meta-data would distort our analysis\n",
        "# for one we would get mentions of Mr. Gutenberg\n",
        "# which Mr. Lewis Carrol did not intend\n"
      ]
    },
    {
      "cell_type": "code",
      "execution_count": 17,
      "metadata": {
        "id": "Hy28VsWMv3Su",
        "outputId": "d5733fdb-974f-4d8e-b2ff-f280a080bfd6",
        "colab": {
          "base_uri": "https://localhost:8080/"
        }
      },
      "outputs": [
        {
          "output_type": "execute_result",
          "data": {
            "text/plain": [
              "str"
            ]
          },
          "metadata": {},
          "execution_count": 17
        }
      ],
      "source": [
        "# type of mytext is string\n",
        "type(mytext)"
      ]
    },
    {
      "cell_type": "code",
      "execution_count": 18,
      "metadata": {
        "id": "gXViJpY6v3Sv",
        "outputId": "b77be118-10b4-4641-c21f-27505894e3ee",
        "colab": {
          "base_uri": "https://localhost:8080/"
        }
      },
      "outputs": [
        {
          "output_type": "execute_result",
          "data": {
            "text/plain": [
              "145459"
            ]
          },
          "metadata": {},
          "execution_count": 18
        }
      ],
      "source": [
        "# so we need to do some cleaning first\n",
        "# ideas on getting rid of header and footer sections\n",
        "#\n",
        "mytext.index(\"End of Project Gutenberg\")\n",
        "#this will the index of the first mention of the string"
      ]
    },
    {
      "cell_type": "code",
      "execution_count": 19,
      "metadata": {
        "id": "H_am9W9Bv3Sv",
        "outputId": "c4d9d7da-05d4-4699-b85c-e931205ac7be",
        "colab": {
          "base_uri": "https://localhost:8080/"
        }
      },
      "outputs": [
        {
          "output_type": "execute_result",
          "data": {
            "text/plain": [
              "164410"
            ]
          },
          "metadata": {},
          "execution_count": 19
        }
      ],
      "source": [
        "len(mytext)"
      ]
    },
    {
      "cell_type": "code",
      "execution_count": null,
      "metadata": {
        "id": "Eh3X1q5Jv3Sv"
      },
      "outputs": [],
      "source": [
        "# so there are about 17000 symbols between the end of the book and the end of the file\n",
        "# we can use this to get rid of the footer\n",
        "# we can also use this to get rid of the header\n"
      ]
    },
    {
      "cell_type": "code",
      "source": [
        "mytext.index(\"NotEnd of Project Gutenberg\") # raises Error"
      ],
      "metadata": {
        "id": "_KRriyG20eQp",
        "outputId": "4bbbb518-2c87-4912-9e8a-87ae8f9d0635",
        "colab": {
          "base_uri": "https://localhost:8080/",
          "height": 178
        }
      },
      "execution_count": 24,
      "outputs": [
        {
          "output_type": "error",
          "ename": "ValueError",
          "evalue": "ignored",
          "traceback": [
            "\u001b[0;31m---------------------------------------------------------------------------\u001b[0m",
            "\u001b[0;31mValueError\u001b[0m                                Traceback (most recent call last)",
            "\u001b[0;32m<ipython-input-24-25747fe91969>\u001b[0m in \u001b[0;36m<cell line: 1>\u001b[0;34m()\u001b[0m\n\u001b[0;32m----> 1\u001b[0;31m \u001b[0mmytext\u001b[0m\u001b[0;34m.\u001b[0m\u001b[0mindex\u001b[0m\u001b[0;34m(\u001b[0m\u001b[0;34m\"NotEnd of Project Gutenberg\"\u001b[0m\u001b[0;34m)\u001b[0m \u001b[0;31m# raises Error\u001b[0m\u001b[0;34m\u001b[0m\u001b[0;34m\u001b[0m\u001b[0m\n\u001b[0m",
            "\u001b[0;31mValueError\u001b[0m: substring not found"
          ]
        }
      ]
    },
    {
      "cell_type": "code",
      "source": [
        "mytext.find(\"NotEnd of Project Gutenberg\") # gives you -1"
      ],
      "metadata": {
        "id": "ONMnHDQO0Xwa",
        "outputId": "17d009cf-cf37-4d8c-80c2-5aa0fcfb5652",
        "colab": {
          "base_uri": "https://localhost:8080/"
        }
      },
      "execution_count": 23,
      "outputs": [
        {
          "output_type": "execute_result",
          "data": {
            "text/plain": [
              "-1"
            ]
          },
          "metadata": {},
          "execution_count": 23
        }
      ]
    },
    {
      "cell_type": "code",
      "execution_count": 25,
      "metadata": {
        "id": "a5FXR8Umv3Sv",
        "outputId": "3f8309f7-e9be-457b-c003-d6d690bd5469",
        "colab": {
          "base_uri": "https://localhost:8080/"
        }
      },
      "outputs": [
        {
          "output_type": "execute_result",
          "data": {
            "text/plain": [
              "145459"
            ]
          },
          "metadata": {},
          "execution_count": 25
        }
      ],
      "source": [
        "# so cleanend will be a new string containing only the text of the book from the start of the book to the end of the book\n",
        "# we use slicing to get the text we want\n",
        "cleanend = mytext[:mytext.find(\"End of Project Gutenberg\")]\n",
        "# cleanend = mytext[:mytext.index(\"End of Project Gutenberg\")] # would raise error if not found\n",
        "\n",
        "# of course this assumes we know the sentinel value for our end of the book\n",
        "# so this will cut and save text to last character\n",
        "# before the above text is found\n",
        "len(cleanend)"
      ]
    },
    {
      "cell_type": "code",
      "execution_count": 26,
      "metadata": {
        "id": "iY4XnM2-v3Sv",
        "outputId": "b01deb28-042e-4073-d0b5-2b6f9cf2db38",
        "colab": {
          "base_uri": "https://localhost:8080/"
        }
      },
      "outputs": [
        {
          "output_type": "stream",
          "name": "stdout",
          "text": [
            "of Wonderland of long ago: and how she\n",
            "would feel with all their simple sorrows, and find a pleasure in all\n",
            "their simple joys, remembering her own child-life, and the happy summer\n",
            "days.\n",
            "\n",
            "THE END \n",
            "\n",
            "\n",
            "\n",
            "\n",
            "\n"
          ]
        }
      ],
      "source": [
        "print(cleanend[-200:]) # last 200 characters"
      ]
    },
    {
      "cell_type": "code",
      "execution_count": 28,
      "metadata": {
        "id": "kZcQyLzsv3Sw",
        "outputId": "ef30376b-14a3-455a-890e-1d73c35a832b",
        "colab": {
          "base_uri": "https://localhost:8080/"
        }
      },
      "outputs": [
        {
          "output_type": "execute_result",
          "data": {
            "text/plain": [
              "729"
            ]
          },
          "metadata": {},
          "execution_count": 28
        }
      ],
      "source": [
        "# first we find out where the header ends\n",
        "start_index = cleanend.index(\"START OF THIS PROJECT GUTENBERG EBOOK\")\n",
        "start_index"
      ]
    },
    {
      "cell_type": "code",
      "execution_count": 30,
      "metadata": {
        "id": "kTXcLNYWv3Sw",
        "outputId": "0f23f934-b3b0-4fb6-c8a0-adb8d10f7b3d",
        "colab": {
          "base_uri": "https://localhost:8080/"
        }
      },
      "outputs": [
        {
          "output_type": "execute_result",
          "data": {
            "text/plain": [
              "37"
            ]
          },
          "metadata": {},
          "execution_count": 30
        }
      ],
      "source": [
        "# we also need to know how many characters to skip\n",
        "skip = len(\"START OF THIS PROJECT GUTENBERG EBOOK\")\n",
        "skip"
      ]
    },
    {
      "cell_type": "code",
      "execution_count": 31,
      "metadata": {
        "id": "Lj_IveVRv3Sw",
        "outputId": "94bd97d2-e1b4-4939-e94b-3ae9fdee79ec",
        "colab": {
          "base_uri": "https://localhost:8080/"
        }
      },
      "outputs": [
        {
          "output_type": "stream",
          "name": "stdout",
          "text": [
            " ALICE’S ADVENTURES IN WONDERLAND ***\n",
            "\n",
            "\n",
            "\n",
            "Produced by Arthur DiBianca and David Widger\n",
            "\n",
            "[Illustration]\n",
            "\n",
            "\n",
            "\n",
            "\n",
            "Alice’s Adventures in Wonderland\n",
            "\n",
            "by Lewis Carroll\n",
            "\n",
            "THE MILLENNIUM FULCRUM EDITION 3.0\n",
            "\n",
            "Contents\n",
            "\n",
            " CHAPTER I.     Down the Rabbit-Hole\n",
            " CHAPTER \n"
          ]
        }
      ],
      "source": [
        "cleanall = cleanend[start_index+skip:] # so we want everything from the index+skip\n",
        "print(cleanall[:250]) # print first 250 characters of our cleaned text"
      ]
    },
    {
      "cell_type": "code",
      "source": [
        "cleanall.count(\"Illustration\")"
      ],
      "metadata": {
        "id": "QIlm3n-b1sZR",
        "outputId": "c41d9d6a-b81c-4926-fbfc-8de0bfa9cb7b",
        "colab": {
          "base_uri": "https://localhost:8080/"
        }
      },
      "execution_count": 32,
      "outputs": [
        {
          "output_type": "execute_result",
          "data": {
            "text/plain": [
              "1"
            ]
          },
          "metadata": {},
          "execution_count": 32
        }
      ]
    },
    {
      "cell_type": "code",
      "source": [
        "#reallyclean = cleanall[cleanall.find(\"Illustration\")+len(\"Illustration\")]\n",
        "def cut_off_start(text, sentinel):\n",
        "    if sentinel not in text:\n",
        "        print(f\"nothing to do no {sentinel} found!\")\n",
        "        return text # nothing to do\n",
        "    start = text.find(sentinel)\n",
        "    skip = len(sentinel)\n",
        "    new_text = text[start+skip:] # so new text is everything after start + skip number of characters\n",
        "    return new_text\n",
        ""
      ],
      "metadata": {
        "id": "7RBBbwjb2EWM"
      },
      "execution_count": 33,
      "outputs": []
    },
    {
      "cell_type": "code",
      "source": [
        "really_clean_text = cut_off_start(cleanall, \"Illustration\")\n",
        "len(really_clean_text)"
      ],
      "metadata": {
        "id": "BI03r6uh2_fY",
        "outputId": "2ef010d6-b476-44f6-95dd-4f88960f1784",
        "colab": {
          "base_uri": "https://localhost:8080/"
        }
      },
      "execution_count": 34,
      "outputs": [
        {
          "output_type": "execute_result",
          "data": {
            "text/plain": [
              "144593"
            ]
          },
          "metadata": {},
          "execution_count": 34
        }
      ]
    },
    {
      "cell_type": "code",
      "source": [
        "# remember strip method on strings, let's get rid of any whitespace in beginning and end\n",
        "trimmed_text = really_clean_text.strip()\n",
        "len(trimmed_text)"
      ],
      "metadata": {
        "id": "7pbnWl-33QlW",
        "outputId": "d83bd06c-6ae9-4b79-9da1-ee51644e3c73",
        "colab": {
          "base_uri": "https://localhost:8080/"
        }
      },
      "execution_count": 37,
      "outputs": [
        {
          "output_type": "execute_result",
          "data": {
            "text/plain": [
              "144587"
            ]
          },
          "metadata": {},
          "execution_count": 37
        }
      ]
    },
    {
      "cell_type": "code",
      "source": [],
      "metadata": {
        "id": "LkUNGy1J3fRu"
      },
      "execution_count": null,
      "outputs": []
    },
    {
      "cell_type": "code",
      "execution_count": 38,
      "metadata": {
        "id": "LstMF-q-v3Sw"
      },
      "outputs": [],
      "source": [
        "# i will open/create a new file with name Alice_cleaned.txt\n",
        "# notice it is in the same folder as current notebook\n",
        "# mode is w - which means write\n",
        "# encoding is utf-8 - we might have some non-ascii characters\n",
        "# file_out is arbitrary name for our filestream object\n",
        "with open('Alice_clean.txt', mode=\"w\", encoding=\"utf-8\") as file_out:\n",
        "    file_out.write(trimmed_text)\n",
        "# so this recipe will create/overwrite 'Alice_clean.txt'\n",
        "# using utf-8 encoding\n",
        "# will write ALL of the text that is in trimmed_text variable"
      ]
    },
    {
      "cell_type": "code",
      "execution_count": null,
      "metadata": {
        "id": "XV-t1WQxv3Sw"
      },
      "outputs": [],
      "source": [
        "# i could also save the file in a different folder in this case like data which is our sibling folder\n",
        "with open('../data/Alice_clean.txt', mode=\"w\", encoding=\"utf-8\") as file_out:\n",
        "    file_out.write(cleanall)\n",
        "# so this recipe will create/overwrite 'Alice_clean.txt' in data\n",
        "# using utf-8 encoding\n",
        "# will write ALL of the text that is in cleanall variable"
      ]
    },
    {
      "cell_type": "code",
      "execution_count": 39,
      "metadata": {
        "id": "xQrDK-TMv3Sw"
      },
      "outputs": [],
      "source": [
        "# how to create a folder if it does not exist?\n",
        "# we can use pathlib\n",
        "# pathlib is a new module in Python 3\n",
        "# it is a bit more advanced than os\n",
        "\n",
        "# we can use pathlib to create a folder if it does not exist\n",
        "# we can also use it to check if a folder exists\n",
        "\n",
        "# from pathlib import Path # import Path from pathlib module need to import only once\n",
        "# we can create a path object\n",
        "\n",
        "# create folder my_folder if it does not exist\n",
        "Path(\"my_folder\").mkdir(exist_ok=True) # exist_ok=True means do not throw an error if folder exists\n",
        "# in this case it will be a child folder of current folderb\n",
        "# next time i run it it will not throw an error"
      ]
    },
    {
      "cell_type": "code",
      "source": [
        "# so this is how I would copy the same data into a folder and then file name\n",
        "with open('my_folder/Alice_clean.txt', mode=\"w\", encoding=\"utf-8\") as file_out:\n",
        "    file_out.write(cleanall)"
      ],
      "metadata": {
        "id": "r-5Dp2cE4SUR"
      },
      "execution_count": 40,
      "outputs": []
    },
    {
      "cell_type": "code",
      "execution_count": null,
      "metadata": {
        "id": "9xodZJ7Vv3Sx",
        "outputId": "86486d88-c766-4dbe-a8dd-5f9ac7001e21"
      },
      "outputs": [
        {
          "name": "stdout",
          "output_type": "stream",
          "text": [
            "[' ALICE’S ADVENTURES IN WONDERLAND ***\\n', '\\n', '\\n', '\\n', 'Produced by Arthur DiBianca and David Widger\\n', '\\n', '[Illustration]\\n', '\\n', '\\n', '\\n', '\\n', 'Alice’s Adventures in Wonderland\\n', '\\n', 'by Lewis Carroll\\n', '\\n', 'THE MILLENNIUM FULCRUM EDITION 3.0\\n', '\\n', 'Contents\\n', '\\n', ' CHAPTER I.     Down the Rabbit-Hole\\n']\n"
          ]
        }
      ],
      "source": [
        "# lets pretend i do not have cleanall in memory\n",
        "# i can load text from my clean file\n",
        "# mode r is read which is default so not really needed\n",
        "with open('../data/Alice_clean.txt', mode=\"r\", encoding=\"utf-8\") as file:\n",
        "    # mytext = file.read() # so reads everything\n",
        "    # alterantively we can read line by line\n",
        "    # this is useful if we have a very large file\n",
        "    # we can read line by line and process it\n",
        "    text_lines = file.readlines() # this will read all lines into a list\n",
        "# print first 10 lines\n",
        "print(text_lines[:20])"
      ]
    },
    {
      "cell_type": "code",
      "execution_count": null,
      "metadata": {
        "id": "eq5ovdQLv3Sx"
      },
      "outputs": [],
      "source": []
    },
    {
      "cell_type": "code",
      "execution_count": null,
      "metadata": {
        "id": "GVNs311-v3Sx"
      },
      "outputs": [],
      "source": [
        "# so let's see about tokenization\n",
        "# one is to use split using white space"
      ]
    },
    {
      "cell_type": "code",
      "execution_count": null,
      "metadata": {
        "id": "ClIzzgLDv3Sx",
        "outputId": "94c714de-8ece-4268-b080-bb09901c7247"
      },
      "outputs": [
        {
          "name": "stdout",
          "output_type": "stream",
          "text": [
            "A quick brown fox    jumped \t over the   \n",
            " \n",
            " sleepy dog\n"
          ]
        }
      ],
      "source": [
        "mysentence = \"A quick brown fox    jumped \\t over the   \\n \\n sleepy dog\"\n",
        "# we have some newlines and some tabs in our sentence\n",
        "print(mysentence)"
      ]
    },
    {
      "cell_type": "code",
      "execution_count": null,
      "metadata": {
        "id": "PRhjXe7Sv3Sx",
        "outputId": "d4a44199-3f6f-4dfe-e2bd-6b73f59f51f2"
      },
      "outputs": [
        {
          "data": {
            "text/plain": [
              "['A', 'quick', 'brown', 'fox', 'jumped', 'over', 'the', 'sleepy', 'dog']"
            ]
          },
          "execution_count": 23,
          "metadata": {},
          "output_type": "execute_result"
        }
      ],
      "source": [
        "# Python string has a split method which will split a string into a list of strings\n",
        "mysentence.split()  # so we split by white space, including newlines and tabs\n",
        "# you can consider split a type of tokenization"
      ]
    },
    {
      "cell_type": "code",
      "execution_count": null,
      "metadata": {
        "id": "2qAZgHl0v3Sx",
        "outputId": "11a0342f-c43c-44db-ab4a-ed1dc4a9ba36"
      },
      "outputs": [
        {
          "data": {
            "text/plain": [
              "['A',\n",
              " 'quick',\n",
              " 'brown',\n",
              " 'fox',\n",
              " '',\n",
              " '',\n",
              " '',\n",
              " 'jumped',\n",
              " '\\t',\n",
              " 'over',\n",
              " 'the',\n",
              " '',\n",
              " '',\n",
              " '\\n',\n",
              " '\\n',\n",
              " 'sleepy',\n",
              " 'dog']"
            ]
          },
          "execution_count": 24,
          "metadata": {},
          "output_type": "execute_result"
        }
      ],
      "source": [
        "mysentence.split(\" \") # so we split by single white space, this might not be what we want"
      ]
    },
    {
      "cell_type": "code",
      "execution_count": null,
      "metadata": {
        "id": "jvtr3rxgv3Sx",
        "outputId": "cb236166-32cc-4fe9-f221-82d4df92663c"
      },
      "outputs": [
        {
          "data": {
            "text/plain": [
              "26537"
            ]
          },
          "execution_count": 28,
          "metadata": {},
          "output_type": "execute_result"
        }
      ],
      "source": [
        "# we could try splitting already but we will get dirty data(words)\n",
        "mywords = cleanall.split() # so any white space will be a delimiter\n",
        "len(mywords)"
      ]
    },
    {
      "cell_type": "code",
      "execution_count": null,
      "metadata": {
        "id": "gzZxziIGv3Sx",
        "outputId": "dfb2353c-de8b-4b82-d2a0-4a970d5f5d6d"
      },
      "outputs": [
        {
          "data": {
            "text/plain": [
              "['ALICE’S',\n",
              " 'ADVENTURES',\n",
              " 'IN',\n",
              " 'WONDERLAND',\n",
              " '***',\n",
              " 'Produced',\n",
              " 'by',\n",
              " 'Arthur',\n",
              " 'DiBianca',\n",
              " 'and',\n",
              " 'David',\n",
              " 'Widger',\n",
              " '[Illustration]',\n",
              " 'Alice’s',\n",
              " 'Adventures',\n",
              " 'in',\n",
              " 'Wonderland',\n",
              " 'by',\n",
              " 'Lewis',\n",
              " 'Carroll',\n",
              " 'THE',\n",
              " 'MILLENNIUM',\n",
              " 'FULCRUM',\n",
              " 'EDITION',\n",
              " '3.0']"
            ]
          },
          "execution_count": 29,
          "metadata": {},
          "output_type": "execute_result"
        }
      ],
      "source": [
        "mywords[:25]"
      ]
    },
    {
      "cell_type": "code",
      "execution_count": null,
      "metadata": {
        "id": "PmJ8VSeQv3Sy"
      },
      "outputs": [],
      "source": [
        "# so we need to get rid of some \\n which split did not\n",
        "# so how could we do this?\n",
        "# replace to rescue!\n"
      ]
    },
    {
      "cell_type": "code",
      "execution_count": null,
      "metadata": {
        "id": "2oDLinYfv3Sy",
        "outputId": "af15c8b8-c1bd-4218-99c6-8624f09392f1"
      },
      "outputs": [
        {
          "data": {
            "text/plain": [
              "' ALICE’S ADVENTURES IN WONDERLAND ***    Produced by Arthur DiBianca and David Widger  [Illustration'"
            ]
          },
          "execution_count": 24,
          "metadata": {},
          "output_type": "execute_result"
        }
      ],
      "source": [
        "clean_text = mytext.replace(\"\\n\", \" \") # why not nothing \"\"?\n",
        "# replacing with \"\" we run the risk of combining words across lines\n",
        "clean_text[:100]"
      ]
    },
    {
      "cell_type": "code",
      "execution_count": null,
      "metadata": {
        "id": "W5R-C-uuv3Sy",
        "outputId": "507a0302-4cdb-4b87-80b0-2ed698f9e015"
      },
      "outputs": [
        {
          "name": "stdout",
          "output_type": "stream",
          "text": [
            " BOB’S ADVENTURES IN WONDERLAND ***\n",
            "\n",
            "\n",
            "\n",
            "Produced by Arthur DiBianca and David Widger\n",
            "\n",
            "[Illustration]\n",
            "\n"
          ]
        }
      ],
      "source": [
        "# remember replace is a string method it returns a new string\n",
        "# so we need to assign it to a variable\n",
        "# we can use it to replace multiple characters or strings\n",
        "# we can also use it to replace with nothing\n",
        "\n",
        "# for example\n",
        "bob_adventures = cleanall.replace(\"ALICE\", \"BOB\").replace(\"Alice\", \"Bob\")\n",
        "# so for example we can replace all mentions of Alice with Bob\n",
        "print(bob_adventures[:100])"
      ]
    },
    {
      "cell_type": "code",
      "execution_count": null,
      "metadata": {
        "id": "4wew04Cov3Sy",
        "outputId": "10216ec3-0418-41b7-953c-3e6d5428f9fa"
      },
      "outputs": [
        {
          "data": {
            "text/plain": [
              "399"
            ]
          },
          "execution_count": 33,
          "metadata": {},
          "output_type": "execute_result"
        }
      ],
      "source": [
        "# count Bob\n",
        "bob_adventures.count(\"Bob\")"
      ]
    },
    {
      "cell_type": "code",
      "execution_count": null,
      "metadata": {
        "id": "XWzGWstnv3Sy",
        "outputId": "69e19eca-9a83-4edd-9d58-287cc4ea25b8"
      },
      "outputs": [
        {
          "data": {
            "text/plain": [
              "800"
            ]
          },
          "execution_count": 34,
          "metadata": {},
          "output_type": "execute_result"
        }
      ],
      "source": [
        "len(cleanall)-len(bob_adventures) # so we have lost some characters"
      ]
    },
    {
      "cell_type": "code",
      "execution_count": null,
      "metadata": {
        "id": "7Jlf5MUZv3Sy"
      },
      "outputs": [],
      "source": [
        "# TODO\n",
        "# before we split we might want to normalize our text - make it all lower case\n",
        "# we also might want to remove punctuation\n",
        "# we can use string.punctuation to get a list of punctuation symbols\n",
        "# also we can use string.whitespace to get a list of whitespace symbols"
      ]
    },
    {
      "cell_type": "code",
      "execution_count": null,
      "metadata": {
        "id": "bEarssJkv3Sy",
        "outputId": "b7168bd5-c1fc-4559-97d7-8fb32c14e000"
      },
      "outputs": [
        {
          "name": "stdout",
          "output_type": "stream",
          "text": [
            " alice’s adventures in wonderland ***\n",
            "\n",
            "\n",
            "\n",
            "produced by arthur dibianca and david widger\n",
            "\n",
            "[illustration\n"
          ]
        }
      ],
      "source": [
        "# normalize to lower case\n",
        "alice_lower = cleanall.lower()\n",
        "print(alice_lower[:100])\n",
        "# idea is to make all words lower case so that we do not count the same word twice\n",
        "# with lowercase you should be aware of some issues\n",
        "# for example in English we have words like \"I\" and \"i\"\n",
        "# in Latvia we have city Ogre and ogre the mythical creature"
      ]
    },
    {
      "cell_type": "code",
      "execution_count": null,
      "metadata": {
        "id": "IEUlXbcPv3Sy",
        "outputId": "ba9c284f-029e-4701-940b-4affc6b28aa0"
      },
      "outputs": [
        {
          "data": {
            "text/plain": [
              "'!\"#$%&\\'()*+,-./:;<=>?@[\\\\]^_`{|}~'"
            ]
          },
          "execution_count": 36,
          "metadata": {},
          "output_type": "execute_result"
        }
      ],
      "source": [
        "# next step is usually to remove punctuation\n",
        "# we can use string.punctuation to get a list of punctuation symbols\n",
        "import string\n",
        "string.punctuation"
      ]
    },
    {
      "cell_type": "code",
      "execution_count": null,
      "metadata": {
        "id": "cTTD5oSgv3Sz",
        "outputId": "c441c362-bd78-4779-e325-9a28a57b4423"
      },
      "outputs": [
        {
          "name": "stdout",
          "output_type": "stream",
          "text": [
            "!\"#$%&'()*+,-./:;<=>?@[\\]^_`{|}~“”‘’*\n"
          ]
        }
      ],
      "source": [
        "# i can make my own string of punctuation symbols\n",
        "my_punctuation = string.punctuation + \"“”‘’*\"\n",
        "print(my_punctuation)"
      ]
    },
    {
      "cell_type": "code",
      "execution_count": null,
      "metadata": {
        "id": "pVHFIXv9v3Sz",
        "outputId": "8feb5eb0-1d9f-4478-95e6-b0cb3be98162"
      },
      "outputs": [
        {
          "name": "stdout",
          "output_type": "stream",
          "text": [
            " alice s adventures in wonderland    \n",
            "\n",
            "\n",
            "\n",
            "produced by arthur dibianca and david widger\n",
            "\n",
            " illustration\n"
          ]
        }
      ],
      "source": [
        "# now we want to remove all symbols in my_punctuation from alice_lower\n",
        "# we can use translate method\n",
        "# we need to create a translation table\n",
        "# we can use maketrans method\n",
        "# we need to pass 3 arguments\n",
        "# first is a string of characters we want to replace\n",
        "# second is a string of characters we want to replace with\n",
        "# third is a string of characters we want to remove\n",
        "# so we want to replace all punctuation with nothing\n",
        "# we also want to remove all newlines\n",
        "\n",
        "# so we can create a translation table\n",
        "\n",
        "# translation_table = str.maketrans(my_punctuation, \" \"*len(my_punctuation), \"\\n\")\n",
        "translation_table = str.maketrans(my_punctuation, \" \"*len(my_punctuation), \"\")\n",
        "# use the translation table to translate alice_lower\n",
        "alice_clean_no_punct = alice_lower.translate(translation_table)\n",
        "print(alice_clean_no_punct[:100])"
      ]
    },
    {
      "cell_type": "code",
      "execution_count": null,
      "metadata": {
        "id": "HBW8t_38v3S3",
        "outputId": "526a5c52-8ff3-4fba-fc45-db9482c874e1"
      },
      "outputs": [
        {
          "name": "stdout",
          "output_type": "stream",
          "text": [
            "V\n",
            "a\n",
            "l\n",
            "d\n",
            "i\n",
            "s\n"
          ]
        }
      ],
      "source": [
        "# for loops let us iterate over a sequence\n",
        "for my_char in \"Valdis\":\n",
        "    print(my_char)"
      ]
    },
    {
      "cell_type": "code",
      "execution_count": null,
      "metadata": {
        "id": "2B0vFGmJv3S4",
        "outputId": "2a6cf7a0-c71c-4383-d0de-e789f665c40a"
      },
      "outputs": [
        {
          "name": "stdout",
          "output_type": "stream",
          "text": [
            "1\n",
            "2\n",
            "3\n",
            "4\n",
            "5\n"
          ]
        }
      ],
      "source": [
        "# similarly we can iterate any sequence\n",
        "for my_number in [1,2,3,4,5]:\n",
        "    print(my_number)"
      ]
    },
    {
      "cell_type": "code",
      "execution_count": null,
      "metadata": {
        "id": "IV_6jRtvv3S5",
        "outputId": "38a83972-e2a3-48cf-e31d-2cb353e98fbb"
      },
      "outputs": [
        {
          "name": "stdout",
          "output_type": "stream",
          "text": [
            "Replacing ! with nothing\n",
            "Replacing \" with nothing\n",
            "Replacing # with nothing\n",
            "Replacing $ with nothing\n",
            "Replacing % with nothing\n",
            "Replacing & with nothing\n",
            "Replacing ' with nothing\n",
            "Replacing ( with nothing\n",
            "Replacing ) with nothing\n",
            "Replacing * with nothing\n",
            "Replacing + with nothing\n",
            "Replacing , with nothing\n",
            "Replacing - with nothing\n",
            "Replacing . with nothing\n",
            "Replacing / with nothing\n",
            "Replacing : with nothing\n",
            "Replacing ; with nothing\n",
            "Replacing < with nothing\n",
            "Replacing = with nothing\n",
            "Replacing > with nothing\n",
            "Replacing ? with nothing\n",
            "Replacing @ with nothing\n",
            "Replacing [ with nothing\n",
            "Replacing \\ with nothing\n",
            "Replacing ] with nothing\n",
            "Replacing ^ with nothing\n",
            "Replacing _ with nothing\n",
            "Replacing ` with nothing\n",
            "Replacing { with nothing\n",
            "Replacing | with nothing\n",
            "Replacing } with nothing\n",
            "Replacing ~ with nothing\n",
            "Replacing “ with nothing\n",
            "Replacing ” with nothing\n",
            "Replacing ‘ with nothing\n",
            "Replacing ’ with nothing\n"
          ]
        }
      ],
      "source": [
        "for bad_char in my_punctuation:\n",
        "    print(f\"Replacing {bad_char} with nothing\")"
      ]
    },
    {
      "cell_type": "code",
      "execution_count": null,
      "metadata": {
        "id": "eO-dLB9Yv3S6",
        "outputId": "1e4b6c01-b517-4878-d0b3-9d02edaf12a2"
      },
      "outputs": [
        {
          "name": "stdout",
          "output_type": "stream",
          "text": [
            "Replacing ! with  \n",
            "Replacing \" with  \n",
            "Replacing # with  \n",
            "Replacing $ with  \n",
            "Replacing % with  \n",
            "Replacing & with  \n",
            "Replacing ' with  \n",
            "Replacing ( with  \n",
            "Replacing ) with  \n",
            "Replacing * with  \n",
            "Replacing + with  \n",
            "Replacing , with  \n",
            "Replacing - with  \n",
            "Replacing . with  \n",
            "Replacing / with  \n",
            "Replacing : with  \n",
            "Replacing ; with  \n",
            "Replacing < with  \n",
            "Replacing = with  \n",
            "Replacing > with  \n",
            "Replacing ? with  \n",
            "Replacing @ with  \n",
            "Replacing [ with  \n",
            "Replacing \\ with  \n",
            "Replacing ] with  \n",
            "Replacing ^ with  \n",
            "Replacing _ with  \n",
            "Replacing ` with  \n",
            "Replacing { with  \n",
            "Replacing | with  \n",
            "Replacing } with  \n",
            "Replacing ~ with  \n",
            "Replacing “ with  \n",
            "Replacing ” with  \n",
            "Replacing ‘ with  \n",
            "Replacing ’ with  \n",
            "Replacing * with  \n",
            "After cleaning we have 144693 characters\n"
          ]
        }
      ],
      "source": [
        "# instead we can use a loop\n",
        "# we can use a loop to remove all punctuation\n",
        "\n",
        "# we go through each symbol in my_punctuation and replace it with nothing in alice_lower\n",
        "REPLACE_CHAR = \" \" # you can change this to \"\" if you want to remove punctuation with nothing\n",
        "alice_clean_no_punct = alice_lower # we need to start with an alice_lower\n",
        "for symbol in my_punctuation:\n",
        "    print(f\"Replacing {symbol} with {REPLACE_CHAR}\")\n",
        "    alice_clean_no_punct = alice_clean_no_punct.replace(symbol, REPLACE_CHAR)\n",
        "print(f\"After cleaning we have {len(alice_clean_no_punct)} characters\")"
      ]
    },
    {
      "cell_type": "code",
      "execution_count": null,
      "metadata": {
        "id": "8_QZ5pAOv3S6",
        "outputId": "ba79879b-af4a-4f7e-c1dd-1cfff788a483"
      },
      "outputs": [
        {
          "data": {
            "text/plain": [
              "34"
            ]
          },
          "execution_count": 48,
          "metadata": {},
          "output_type": "execute_result"
        }
      ],
      "source": [
        "alice_clean_no_punct.find(\"*\")"
      ]
    },
    {
      "cell_type": "code",
      "execution_count": null,
      "metadata": {
        "id": "6HXizCGEv3S7"
      },
      "outputs": [],
      "source": [
        "# we could also remove all stop words\n",
        "# stop words are words that do not add much meaning to the text\n",
        "# for now we will leave them in"
      ]
    },
    {
      "cell_type": "code",
      "execution_count": null,
      "metadata": {
        "id": "T0xBemrMv3S7",
        "outputId": "ba226894-f437-499c-be2c-47c02dfc753f"
      },
      "outputs": [
        {
          "name": "stdout",
          "output_type": "stream",
          "text": [
            "We have 27337 words\n"
          ]
        }
      ],
      "source": [
        "# we can finally split\n",
        "alice_words = alice_clean_no_punct.split()\n",
        "print(f\"We have {len(alice_words)} words\")"
      ]
    },
    {
      "cell_type": "code",
      "execution_count": null,
      "metadata": {
        "id": "ohLB7tIlv3S7",
        "outputId": "03b80908-6e9f-46c9-accc-7e2a3b5a06a2"
      },
      "outputs": [
        {
          "data": {
            "text/plain": [
              "400"
            ]
          },
          "execution_count": 55,
          "metadata": {},
          "output_type": "execute_result"
        }
      ],
      "source": [
        "# alice_words is a list of strings\n",
        "# we can use list methods to work with it\n",
        "# we could count how many times each word appears\n",
        "alice_words.count(\"alice\") # 400 because ALICE and Alice merged into alice"
      ]
    },
    {
      "cell_type": "code",
      "execution_count": null,
      "metadata": {
        "id": "dYPnv4tMv3S8"
      },
      "outputs": [],
      "source": [
        "# here we could do additionalal cleaning by checking for maybe bad words\n",
        "# bad characters\n",
        "# unneeded words such stop words , meaning words which do not contribute to the meaning\n"
      ]
    },
    {
      "cell_type": "code",
      "execution_count": null,
      "metadata": {
        "id": "tKdB19Wrv3S8"
      },
      "outputs": [],
      "source": [
        "# so how could we count the occurences of each word?\n",
        "# we could use something like a dictionary with words being keys and value being\n",
        "# number of occurences"
      ]
    },
    {
      "cell_type": "code",
      "execution_count": null,
      "metadata": {
        "id": "SBXqGiIhv3S8",
        "outputId": "81984397-a781-4e49-ab24-f045d2cbc586"
      },
      "outputs": [
        {
          "data": {
            "text/plain": [
              "[('alice', 400),\n",
              " ('s', 203),\n",
              " ('adventures', 7),\n",
              " ('in', 370),\n",
              " ('wonderland', 4),\n",
              " ('produced', 2),\n",
              " ('by', 59),\n",
              " ('arthur', 1),\n",
              " ('dibianca', 1),\n",
              " ('and', 852),\n",
              " ('david', 1),\n",
              " ('widger', 1),\n",
              " ('illustration', 1),\n",
              " ('lewis', 1),\n",
              " ('carroll', 1),\n",
              " ('the', 1643),\n",
              " ('millennium', 1),\n",
              " ('fulcrum', 1),\n",
              " ('edition', 1),\n",
              " ('3', 1)]"
            ]
          },
          "execution_count": 56,
          "metadata": {},
          "output_type": "execute_result"
        }
      ],
      "source": [
        "\n",
        "word_dict = {} # {} is an empty dictionary\n",
        "# what is a dictionary?\n",
        "# a dictionary is a collection of key value pairs\n",
        "# each key is unique - usually a string or number(less common)\n",
        "# key idea is that we have near instant access to the value by key\n",
        "# values can be repeated\n",
        "# so we will loop/iterate over all words in alice_words\n",
        "# we will check if the word is in the dictionary\n",
        "# if it is we will increment the value by 1\n",
        "# if it is not we will add it to the dictionary with value 1\n",
        "\n",
        "for word in alice_words:\n",
        "    if word in word_dict.keys():\n",
        "        word_dict[word] += 1 # increase count for each occurence\n",
        "    else:\n",
        "        word_dict[word] = 1 # so first occurence you count as 1\n",
        "    # below is just a shorter version of the above\n",
        "#     word_dict[word] = word_dict.get(word, 0) + 1\n",
        "list(word_dict.items())[:20]"
      ]
    },
    {
      "cell_type": "code",
      "execution_count": null,
      "metadata": {
        "id": "ZsAWUv0qv3S8",
        "outputId": "50f6280b-dfe3-4c7a-e0ff-0f32965da757"
      },
      "outputs": [
        {
          "data": {
            "text/plain": [
              "[('the', 1643),\n",
              " ('and', 852),\n",
              " ('to', 724),\n",
              " ('a', 632),\n",
              " ('it', 588),\n",
              " ('she', 550),\n",
              " ('i', 534),\n",
              " ('of', 512),\n",
              " ('said', 459),\n",
              " ('you', 405),\n",
              " ('alice', 400),\n",
              " ('in', 370),\n",
              " ('was', 357),\n",
              " ('that', 311),\n",
              " ('as', 261),\n",
              " ('her', 248),\n",
              " ('t', 218),\n",
              " ('at', 209),\n",
              " ('s', 203),\n",
              " ('on', 193),\n",
              " ('with', 181),\n",
              " ('all', 180),\n",
              " ('had', 178),\n",
              " ('but', 163),\n",
              " ('for', 152)]"
            ]
          },
          "execution_count": 58,
          "metadata": {},
          "output_type": "execute_result"
        }
      ],
      "source": [
        "# since counting is so common we can use Counter from collections\n",
        "# you do not have to write loops yourself :)\n",
        "from collections import Counter # python already provides counter!\n",
        "word_count = Counter(alice_words) # give a list of tokens\n",
        "word_count.most_common(25) # and you can get results immediately"
      ]
    },
    {
      "cell_type": "code",
      "execution_count": null,
      "metadata": {
        "id": "PGR38nNbv3S8",
        "outputId": "24344884-6635-4136-f3d3-e10bd52d9fd9"
      },
      "outputs": [
        {
          "name": "stdout",
          "output_type": "stream",
          "text": [
            "We have 14236 words that are 4 letters or more\n"
          ]
        }
      ],
      "source": [
        "# how about most common words that are 4 letters or more?\n",
        "# we can use a list comprehension\n",
        "# list comprehension is a way to create a list from another list\n",
        "# we can use it to filter out words that are too short\n",
        "# we can also use it to convert all words to lower case\n",
        "# we can also use it to remove stop words\n",
        "\n",
        "# we can use a list comprehension to create a list of words that are 4 letters or more\n",
        "alice_4plus = [word for word in alice_words if len(word) >= 4]\n",
        "print(f\"We have {len(alice_4plus)} words that are 4 letters or more\")"
      ]
    },
    {
      "cell_type": "code",
      "execution_count": null,
      "metadata": {
        "id": "YCKgkaqov3S8"
      },
      "outputs": [],
      "source": [
        "# alternative would be to use a for loop\n",
        "alice_4plus = [] # create an empty list\n",
        "for word in alice_words:\n",
        "    if len(word) >= 4:\n",
        "        alice_4plus.append(word) # add word to the list\n",
        "# same result but more code\n",
        "# advantage of list comprehension is that it is more compact\n",
        "# advantage of loop is that you can add more code inside the loop"
      ]
    },
    {
      "cell_type": "code",
      "execution_count": null,
      "metadata": {
        "id": "5mn01I7tv3S9",
        "outputId": "84caae72-85b2-4860-863c-447c50d68cb3"
      },
      "outputs": [
        {
          "data": {
            "text/plain": [
              "[('said', 459),\n",
              " ('alice', 400),\n",
              " ('that', 311),\n",
              " ('with', 181),\n",
              " ('they', 149),\n",
              " ('very', 144),\n",
              " ('what', 141),\n",
              " ('this', 134),\n",
              " ('little', 129),\n",
              " ('down', 102),\n",
              " ('there', 99),\n",
              " ('about', 94),\n",
              " ('then', 92),\n",
              " ('like', 85),\n",
              " ('were', 85),\n",
              " ('would', 83),\n",
              " ('went', 83),\n",
              " ('herself', 83),\n",
              " ('them', 83),\n",
              " ('again', 82),\n",
              " ('know', 81),\n",
              " ('have', 80),\n",
              " ('when', 79),\n",
              " ('could', 77),\n",
              " ('queen', 76)]"
            ]
          },
          "execution_count": 60,
          "metadata": {},
          "output_type": "execute_result"
        }
      ],
      "source": [
        "# count the most common words\n",
        "alice_4plus_count = Counter(alice_4plus)\n",
        "alice_4plus_count.most_common(25)   # still a lot of stop words at least we have removed punctuation"
      ]
    },
    {
      "cell_type": "code",
      "execution_count": null,
      "metadata": {
        "id": "woRTmFbJv3S9"
      },
      "outputs": [],
      "source": [
        "# so Counters are dictionaries with benefits as I like to say\n",
        "# we can use them to get most common words\n",
        "\n",
        "\n"
      ]
    },
    {
      "cell_type": "code",
      "execution_count": null,
      "metadata": {
        "id": "e_cQQWT5v3S9"
      },
      "outputs": [],
      "source": [
        "# lets save all of the counter as a tsv file starting with most common\n",
        "# we can use a with statement to open a file\n",
        "# of course we could use another format like csv or json - json will be covered later\n",
        "\n",
        "# will save in current directory\n",
        "with open(\"alice_word_count.tsv\", \"w\", encoding=\"utf-8\") as f:\n",
        "    # first lets write a header\n",
        "    f.write(\"word\\tcount\\n\") # \\t is a tab character, \\n is a newline\n",
        "    # we go through all words and counts in alice_4plus_count starting with most common\n",
        "    for word, count in alice_4plus_count.most_common():\n",
        "        # then we write each word and count to the file\n",
        "        f.write(f\"{word}\\t{count}\\n\")"
      ]
    },
    {
      "cell_type": "code",
      "execution_count": null,
      "metadata": {
        "id": "0EVh7boBv3S9",
        "outputId": "17dca611-038d-4dd9-a612-fee33edcb82d"
      },
      "outputs": [
        {
          "data": {
            "image/png": "[encoded data removed]",
            "text/plain": [
              "<Figure size 720x720 with 1 Axes>"
            ]
          },
          "metadata": {
            "needs_background": "light"
          },
          "output_type": "display_data"
        }
      ],
      "source": [
        "# lets plot most common 50 words and their counts\n",
        "\n",
        "# we can use matplotlib to plot\n",
        "\n",
        "import matplotlib.pyplot as plt\n",
        "\n",
        "# we can use a list comprehension to get the counts and words separately\n",
        "counts = [count for word, count in alice_4plus_count.most_common(50)]\n",
        "words = [word for word, count in alice_4plus_count.most_common(50)]\n",
        "\n",
        "# alternative would be to use a for loop\n",
        "# counts = []\n",
        "# words = []\n",
        "# for word, count in alice_4plus_count.most_common(50):\n",
        "#     counts.append(count)\n",
        "#     words.append(word)\n",
        "\n",
        "# now we can plot\n",
        "\n",
        "plt.figure(figsize=(10,10)) # we can set the size of the figure\n",
        "plt.bar(words, counts) # vertical bar chart\n",
        "# add title and labels\n",
        "plt.title(\"Most common words in Alice in Wonderland\")\n",
        "plt.xlabel(\"Count\")\n",
        "plt.ylabel(\"Word\")\n",
        "\n",
        "plt.show()"
      ]
    },
    {
      "cell_type": "code",
      "execution_count": null,
      "metadata": {
        "id": "-PmuGySdv3S-",
        "outputId": "5d4b6767-afeb-4f25-d613-f183391334f3"
      },
      "outputs": [
        {
          "data": {
            "image/png": "[encoded data removed]",
            "text/plain": [
              "<Figure size 720x720 with 1 Axes>"
            ]
          },
          "metadata": {
            "needs_background": "light"
          },
          "output_type": "display_data"
        }
      ],
      "source": [
        "# plot top 20 words and their counts\n",
        "TOP_COUNT = 20\n",
        "plt.figure(figsize=(10,10)) # we can set the size of the figure\n",
        "plt.bar(words[:TOP_COUNT], counts[:TOP_COUNT]) # vertical bar chart\n",
        "# add title and labels\n",
        "plt.title(f\"Most common {TOP_COUNT} words in Alice in Wonderland\")\n",
        "plt.xlabel(\"Count\")\n",
        "plt.ylabel(\"Word\")\n",
        "\n",
        "plt.show()"
      ]
    },
    {
      "cell_type": "code",
      "execution_count": null,
      "metadata": {
        "id": "OX4rP60-v3S-"
      },
      "outputs": [],
      "source": [
        "# looks like Zipf's law is holding up\n",
        "# link to wikipedia https://en.wikipedia.org/wiki/Zipf%27s_law"
      ]
    },
    {
      "cell_type": "code",
      "execution_count": null,
      "metadata": {
        "id": "eEi2RyR9v3S-",
        "outputId": "b60ded05-fff0-4ca5-a839-9256fd0415a7"
      },
      "outputs": [
        {
          "data": {
            "text/plain": [
              "list"
            ]
          },
          "execution_count": 67,
          "metadata": {},
          "output_type": "execute_result"
        }
      ],
      "source": [
        "type(alice_4plus_count.most_common())"
      ]
    },
    {
      "cell_type": "code",
      "execution_count": null,
      "metadata": {
        "id": "oqHZP-bIv3S-"
      },
      "outputs": [],
      "source": [
        "# most common returns a list of tuples\n",
        "# what is a tuple?\n",
        "# a tuple is a list that is immutable\n",
        "# you can not change the values in a tuple, you can not add or remove values\n",
        "# so list of tuples is roughly analogous to a 2D array"
      ]
    },
    {
      "cell_type": "code",
      "execution_count": null,
      "metadata": {
        "id": "Cv97JH-mv3S-"
      },
      "outputs": [],
      "source": [
        "# so now that we have some prelimenary results in\n",
        "# we could start thinking about stripping stopwords\n",
        "# maybe getting rid of very short words"
      ]
    },
    {
      "cell_type": "code",
      "execution_count": null,
      "metadata": {
        "id": "ajlrZRbmv3S-",
        "outputId": "21ed2871-fcb3-4e47-b7c6-3622181c3de9"
      },
      "outputs": [
        {
          "data": {
            "text/plain": [
              "485"
            ]
          },
          "execution_count": 31,
          "metadata": {},
          "output_type": "execute_result"
        }
      ],
      "source": [
        "word_count[\"she\"] # turns out Counter is just a dictionary with some benefits"
      ]
    },
    {
      "cell_type": "code",
      "execution_count": null,
      "metadata": {
        "id": "0BZu2Jp5v3S_",
        "outputId": "673f8fac-cd72-4953-dbe7-93b8d4df1b8f"
      },
      "outputs": [
        {
          "data": {
            "text/plain": [
              "94"
            ]
          },
          "execution_count": 32,
          "metadata": {},
          "output_type": "execute_result"
        }
      ],
      "source": [
        "word_count[\"he\"]"
      ]
    },
    {
      "cell_type": "code",
      "execution_count": null,
      "metadata": {
        "id": "BhOGQJP0v3S_"
      },
      "outputs": [],
      "source": [
        "import csv"
      ]
    },
    {
      "cell_type": "code",
      "execution_count": null,
      "metadata": {
        "id": "Sl7JMmEgv3S_"
      },
      "outputs": [],
      "source": [
        "with open(\"word_count.tsv\", mode=\"w\", encoding=\"utf-8\") as f:\n",
        "    f.write(\"word\\tcount\\n\") # so we add newlines by hand\n",
        "    for word,count in word_count.most_common():\n",
        "        f.write(f\"{word}\\t{count}\\n\")"
      ]
    },
    {
      "cell_type": "code",
      "execution_count": null,
      "metadata": {
        "id": "b7wKJdnFv3S_"
      },
      "outputs": [],
      "source": [
        "# we can use libraries such as CSV and Pandas to take care of writing\n",
        "#"
      ]
    },
    {
      "cell_type": "code",
      "execution_count": null,
      "metadata": {
        "id": "GPzII11yv3S_"
      },
      "outputs": [],
      "source": [
        "# to continue we will need to perform some additional cleaning\n",
        "# maybe think about some visualization of some of this data"
      ]
    },
    {
      "cell_type": "code",
      "execution_count": null,
      "metadata": {
        "id": "G8Gqxw7av3S_"
      },
      "outputs": [],
      "source": [
        "# we will need to clean all lines which contain *** as ending characters\n",
        "# so lets try reading lines\n",
        "# filePath = \"../data/Veidenbaums.txt\"\n",
        "# with open(filePath, encoding=\"utf-8\") as fstream:\n",
        "#     mylines = fstream.readlines()\n",
        "# len(mylines)"
      ]
    },
    {
      "cell_type": "code",
      "execution_count": null,
      "metadata": {
        "id": "fAzhZi9qv3S_"
      },
      "outputs": [],
      "source": [
        "mylines[:15]"
      ]
    },
    {
      "cell_type": "code",
      "execution_count": null,
      "metadata": {
        "id": "xReXBb6Fv3S_"
      },
      "outputs": [],
      "source": [
        "cleanlines = [line for line in mylines if line[0]!='\\n']\n",
        "len(cleanlines)"
      ]
    },
    {
      "cell_type": "code",
      "execution_count": null,
      "metadata": {
        "id": "ns7zY31Hv3TA"
      },
      "outputs": [],
      "source": [
        "cleanlines[:5]"
      ]
    },
    {
      "cell_type": "code",
      "execution_count": null,
      "metadata": {
        "id": "bB7cnnMHv3TA"
      },
      "outputs": [],
      "source": [
        "# we do not want the lines which end with ***\\n\n",
        "headlines = [line for line in cleanlines if line.endswith(\"***\\n\")]\n",
        "headlines[:5]\n",
        "# we do not need the headlines!"
      ]
    },
    {
      "cell_type": "code",
      "execution_count": null,
      "metadata": {
        "id": "XqF6hQIxv3TA"
      },
      "outputs": [],
      "source": [
        "# we do not want the lines which end with ***\\n\n",
        "noheadlines = [line for line in cleanlines if not line.endswith(\"***\\n\")]\n",
        "noheadlines[:5]"
      ]
    },
    {
      "cell_type": "code",
      "execution_count": null,
      "metadata": {
        "id": "J3nRNruEv3TA"
      },
      "outputs": [],
      "source": [
        "# we could save the results\n",
        "savePath = \"../data/noHeadVeidenbaums.txt\"\n",
        "with open(savePath, mode=\"w\", encoding=\"utf-8\") as fstream:\n",
        "    fstream.writelines(noheadlines)"
      ]
    },
    {
      "cell_type": "code",
      "execution_count": null,
      "metadata": {
        "id": "o3dQEYiVv3TA",
        "outputId": "4a70f8f5-0f78-4e04-8b11-6f3d5babcfdd"
      },
      "outputs": [
        {
          "data": {
            "text/plain": [
              "366"
            ]
          },
          "execution_count": 1,
          "metadata": {},
          "output_type": "execute_result"
        }
      ],
      "source": [
        "# May 6th lets start with noheadlines\n",
        "myPath = \"../data/noHeadVeidenbaums.txt\"\n",
        "with open(myPath, encoding=\"utf-8\") as fstream:\n",
        "    noheadlines = fstream.readlines()\n",
        "len(noheadlines)"
      ]
    },
    {
      "cell_type": "code",
      "execution_count": null,
      "metadata": {
        "id": "MYMNaX_pv3TA",
        "outputId": "73cfd8d8-9008-4dd1-8d93-8c44d7bc687d"
      },
      "outputs": [
        {
          "data": {
            "text/plain": [
              "365"
            ]
          },
          "execution_count": 13,
          "metadata": {},
          "output_type": "execute_result"
        }
      ],
      "source": [
        "#\n",
        "noheadlines = [line for line in noheadlines if not \"Treimanim\" in line]\n",
        "len(noheadlines)"
      ]
    },
    {
      "cell_type": "code",
      "execution_count": null,
      "metadata": {
        "id": "ZqUn_LI-v3TB"
      },
      "outputs": [],
      "source": [
        "spaceChars = \"\\n-\"\n",
        "stopChars = \"\"\"!?.,\"':;()…\"\"\"\n"
      ]
    },
    {
      "cell_type": "code",
      "execution_count": null,
      "metadata": {
        "id": "MSbin1AIv3TB"
      },
      "outputs": [],
      "source": [
        "for char in stopChars:\n",
        "    print(char)"
      ]
    },
    {
      "cell_type": "code",
      "execution_count": null,
      "metadata": {
        "id": "vUxh57hnv3TB",
        "outputId": "84778af0-3767-4ac8-e686-18843ab03597"
      },
      "outputs": [
        {
          "data": {
            "text/plain": [
              "'Pēc ideāliem cenšas lielie gari,\\nBet dzīvē ieņemt vietu'"
            ]
          },
          "execution_count": 25,
          "metadata": {},
          "output_type": "execute_result"
        }
      ],
      "source": [
        "# One big text from many lines\n",
        "textNoHead = \"\".join(noheadlines) # we could have used fstream.read earlier\n",
        "textNoHead[:55]"
      ]
    },
    {
      "cell_type": "code",
      "execution_count": null,
      "metadata": {
        "id": "G0hwml-ov3TB",
        "outputId": "155eeab4-71b1-4008-f74a-99dc7596c830"
      },
      "outputs": [
        {
          "name": "stdout",
          "output_type": "stream",
          "text": [
            "Replacing \n",
            " with space\n",
            "Replacing - with space\n"
          ]
        },
        {
          "data": {
            "text/plain": [
              "'Pēc ideāliem cenšas lielie gari, Bet dzīvē ieņemt vietu pirmie Tie neiespēj'"
            ]
          },
          "execution_count": 26,
          "metadata": {},
          "output_type": "execute_result"
        }
      ],
      "source": [
        "# take off spacy Characters replace with space (why space ? :)\n",
        "for char in spaceChars:\n",
        "    print(f\"Replacing {char} with space\")\n",
        "    textNoHead = textNoHead.replace(char, \" \")\n",
        "#     print(textNoHead[:75])\n",
        "textNoHead[:75]"
      ]
    },
    {
      "cell_type": "code",
      "execution_count": null,
      "metadata": {
        "id": "wGb4U3N4v3TB"
      },
      "outputs": [],
      "source": []
    },
    {
      "cell_type": "code",
      "execution_count": null,
      "metadata": {
        "id": "kTZB1vlzv3TB",
        "outputId": "09958ef6-f5fb-4643-e462-0f120e8e2fab"
      },
      "outputs": [
        {
          "name": "stdout",
          "output_type": "stream",
          "text": [
            "Replacing ! with nothing\n",
            "Replacing ? with nothing\n",
            "Replacing . with nothing\n",
            "Replacing , with nothing\n",
            "Replacing \" with nothing\n",
            "Replacing ' with nothing\n",
            "Replacing : with nothing\n",
            "Replacing ; with nothing\n",
            "Replacing ( with nothing\n",
            "Replacing ) with nothing\n",
            "Replacing … with nothing\n"
          ]
        },
        {
          "data": {
            "text/plain": [
              "'Pēc ideāliem cenšas lielie gari Bet dzīvē ieņemt vietu '"
            ]
          },
          "execution_count": 27,
          "metadata": {},
          "output_type": "execute_result"
        }
      ],
      "source": [
        "for char in stopChars:\n",
        "    print(f\"Replacing {char} with nothing\")\n",
        "    textNoHead = textNoHead.replace(char, \"\")\n",
        "textNoHead[:55]"
      ]
    },
    {
      "cell_type": "code",
      "execution_count": null,
      "metadata": {
        "id": "0f46yRaqv3TC"
      },
      "outputs": [],
      "source": [
        "savePath = \"../data/noHeadVeidenbaumsOneLine.txt\"\n",
        "with open(savePath, mode=\"w\", encoding=\"utf-8\") as fstream:\n",
        "    fstream.write(textNoHead)"
      ]
    },
    {
      "cell_type": "code",
      "execution_count": null,
      "metadata": {
        "id": "lJjCgM9Xv3TC",
        "outputId": "e43b62fd-72b0-4933-9702-fd2f1c8a489a"
      },
      "outputs": [
        {
          "ename": "ValueError",
          "evalue": "substring not found",
          "output_type": "error",
          "traceback": [
            "\u001b[1;31m---------------------------------------------------------------------------\u001b[0m",
            "\u001b[1;31mValueError\u001b[0m                                Traceback (most recent call last)",
            "\u001b[1;32m<ipython-input-20-cadf8a59266b>\u001b[0m in \u001b[0;36m<module>\u001b[1;34m\u001b[0m\n\u001b[1;32m----> 1\u001b[1;33m \u001b[0mtextNoHead\u001b[0m\u001b[1;33m.\u001b[0m\u001b[0mindex\u001b[0m\u001b[1;33m(\u001b[0m\u001b[1;34m\"Vēstule\"\u001b[0m\u001b[1;33m)\u001b[0m\u001b[1;33m\u001b[0m\u001b[1;33m\u001b[0m\u001b[0m\n\u001b[0m\u001b[0;32m      2\u001b[0m \u001b[1;31m# nothing found thats good\u001b[0m\u001b[1;33m\u001b[0m\u001b[1;33m\u001b[0m\u001b[1;33m\u001b[0m\u001b[0m\n",
            "\u001b[1;31mValueError\u001b[0m: substring not found"
          ]
        }
      ],
      "source": [
        "textNoHead.index(\"Vēstule\")\n",
        "# nothing found thats good"
      ]
    },
    {
      "cell_type": "code",
      "execution_count": null,
      "metadata": {
        "id": "Qs9fwbQ6v3TC",
        "outputId": "208e9b42-3ece-44f1-b7dd-efe01a3e68e1"
      },
      "outputs": [
        {
          "data": {
            "text/plain": [
              "'eiz zaļoja jaunība cerības pla'"
            ]
          },
          "execution_count": 29,
          "metadata": {},
          "output_type": "execute_result"
        }
      ],
      "source": [
        "textNoHead[5400:5430]"
      ]
    },
    {
      "cell_type": "code",
      "execution_count": null,
      "metadata": {
        "id": "ctTwMH5Xv3TC",
        "outputId": "3afcdd16-8703-485d-e2a5-bd5bff3d9015"
      },
      "outputs": [
        {
          "data": {
            "text/plain": [
              "{' ',\n",
              " 'A',\n",
              " 'B',\n",
              " 'C',\n",
              " 'D',\n",
              " 'E',\n",
              " 'G',\n",
              " 'I',\n",
              " 'J',\n",
              " 'K',\n",
              " 'L',\n",
              " 'M',\n",
              " 'N',\n",
              " 'O',\n",
              " 'P',\n",
              " 'R',\n",
              " 'S',\n",
              " 'T',\n",
              " 'U',\n",
              " 'V',\n",
              " 'Z',\n",
              " 'a',\n",
              " 'b',\n",
              " 'c',\n",
              " 'd',\n",
              " 'e',\n",
              " 'f',\n",
              " 'g',\n",
              " 'i',\n",
              " 'j',\n",
              " 'k',\n",
              " 'l',\n",
              " 'm',\n",
              " 'n',\n",
              " 'o',\n",
              " 'p',\n",
              " 'r',\n",
              " 's',\n",
              " 't',\n",
              " 'u',\n",
              " 'v',\n",
              " 'z',\n",
              " 'Ā',\n",
              " 'ā',\n",
              " 'č',\n",
              " 'Ē',\n",
              " 'ē',\n",
              " 'ģ',\n",
              " 'Ī',\n",
              " 'ī',\n",
              " 'ķ',\n",
              " 'ļ',\n",
              " 'ņ',\n",
              " 'Š',\n",
              " 'š',\n",
              " 'ū',\n",
              " 'ž'}"
            ]
          },
          "execution_count": 30,
          "metadata": {},
          "output_type": "execute_result"
        }
      ],
      "source": [
        "# charSet that's Camelcase another style\n",
        "char_set = set(textNoHead)\n",
        "char_set"
      ]
    },
    {
      "cell_type": "code",
      "execution_count": null,
      "metadata": {
        "id": "Xp10CK-dv3TC",
        "outputId": "ff458714-8112-4161-ed1a-47ae027d0d76"
      },
      "outputs": [
        {
          "data": {
            "text/plain": [
              "8230"
            ]
          },
          "execution_count": 23,
          "metadata": {},
          "output_type": "execute_result"
        }
      ],
      "source": [
        "ord(\"…\")"
      ]
    },
    {
      "cell_type": "code",
      "execution_count": null,
      "metadata": {
        "id": "hYtnzvbIv3TC",
        "outputId": "6583c618-ab40-4d1f-f10c-d8a123520a73"
      },
      "outputs": [
        {
          "data": {
            "text/plain": [
              "['Pēc', 'ideāliem', 'cenšas', 'lielie', 'gari']"
            ]
          },
          "execution_count": 31,
          "metadata": {},
          "output_type": "execute_result"
        }
      ],
      "source": [
        "words = textNoHead.split()\n",
        "words[:5]"
      ]
    },
    {
      "cell_type": "code",
      "execution_count": null,
      "metadata": {
        "id": "wx0ynv4Ev3TD",
        "outputId": "ab231a93-251c-48b7-e557-3fab08c6ab98"
      },
      "outputs": [
        {
          "data": {
            "text/plain": [
              "['pēc', 'ideāliem', 'cenšas', 'lielie', 'gari']"
            ]
          },
          "execution_count": 33,
          "metadata": {},
          "output_type": "execute_result"
        }
      ],
      "source": [
        "# we need to convert to lower case\n",
        "# for word in words:\n",
        "words_lower = [word.lower() for word in words]\n",
        "words_lower[:5]\n"
      ]
    },
    {
      "cell_type": "code",
      "execution_count": null,
      "metadata": {
        "id": "P_8T01nvv3TD",
        "outputId": "0f729685-3d2b-4d29-cc3e-ece26f24c170"
      },
      "outputs": [
        {
          "data": {
            "text/plain": [
              "1865"
            ]
          },
          "execution_count": 34,
          "metadata": {},
          "output_type": "execute_result"
        }
      ],
      "source": [
        "len(words_lower)"
      ]
    },
    {
      "cell_type": "code",
      "execution_count": null,
      "metadata": {
        "id": "byJNCEgGv3TD"
      },
      "outputs": [],
      "source": [
        "# if we want to do it ourselves\n",
        "# we could store it in a dictionary word and count\n",
        "# {'pēc':5, 'ideālie':1, 'cenšas':3}"
      ]
    },
    {
      "cell_type": "code",
      "execution_count": null,
      "metadata": {
        "id": "Tzu_3fGqv3TD",
        "outputId": "c111ee58-7d90-4524-f764-8bb1b0761d48"
      },
      "outputs": [
        {
          "data": {
            "text/plain": [
              "1064"
            ]
          },
          "execution_count": 35,
          "metadata": {},
          "output_type": "execute_result"
        }
      ],
      "source": [
        "unique_words = set(words_lower)\n",
        "len(unique_words)"
      ]
    },
    {
      "cell_type": "code",
      "execution_count": null,
      "metadata": {
        "id": "2B4cstZtv3TD",
        "outputId": "9720bbb8-4f36-4c61-dc6d-19b4efab7ccb"
      },
      "outputs": [
        {
          "data": {
            "text/plain": [
              "0"
            ]
          },
          "execution_count": 36,
          "metadata": {},
          "output_type": "execute_result"
        }
      ],
      "source": [
        "# i create a dictionary of unique words and set counter to 0\n",
        "my_counter_dict = {word:0 for word in list(unique_words)}\n",
        "my_counter_dict['pēc']"
      ]
    },
    {
      "cell_type": "code",
      "execution_count": null,
      "metadata": {
        "id": "aBTXZJRxv3TD"
      },
      "outputs": [],
      "source": [
        "for word in words_lower:\n",
        "    my_counter_dict[word] += 1 # each time i add 1 to right box(key)"
      ]
    },
    {
      "cell_type": "code",
      "execution_count": null,
      "metadata": {
        "id": "bb3xz8X-v3TD",
        "outputId": "73d7e282-a9f2-4189-fb49-d9d3536a2de2"
      },
      "outputs": [
        {
          "data": {
            "text/plain": [
              "11"
            ]
          },
          "execution_count": 52,
          "metadata": {},
          "output_type": "execute_result"
        }
      ],
      "source": [
        "my_counter_dict['pēc']"
      ]
    },
    {
      "cell_type": "code",
      "execution_count": null,
      "metadata": {
        "id": "nVlPlkW_v3TE",
        "outputId": "cd574137-8f60-4e11-b1a8-73a49ecda2ae"
      },
      "outputs": [
        {
          "data": {
            "text/plain": [
              "[('apkakli', 1), ('šūpulis', 1), ('aša', 1), ('līdz', 8), ('tiesas', 1)]"
            ]
          },
          "execution_count": 53,
          "metadata": {},
          "output_type": "execute_result"
        }
      ],
      "source": [
        "my_list_tuples = [(key, value) for key,value in my_counter_dict.items()]\n",
        "my_list_tuples[:5]"
      ]
    },
    {
      "cell_type": "code",
      "execution_count": null,
      "metadata": {
        "id": "85Qsf3RNv3TE",
        "outputId": "b620b0fd-678e-4396-b23f-27d393bf9679"
      },
      "outputs": [
        {
          "data": {
            "text/plain": [
              "[('acs', 1), ('agrāk', 1), ('aiz', 1), ('aizgāja', 1), ('aizmirsts', 1)]"
            ]
          },
          "execution_count": 54,
          "metadata": {},
          "output_type": "execute_result"
        }
      ],
      "source": [
        "sorted(my_list_tuples)[:5]\n",
        "# not quite what we need because it sorts by the first item alphabetically"
      ]
    },
    {
      "cell_type": "code",
      "execution_count": null,
      "metadata": {
        "id": "NkpI2rN5v3TE",
        "outputId": "94c32355-6953-4475-99bd-a276a9d3db92"
      },
      "outputs": [
        {
          "data": {
            "text/plain": [
              "[('un', 76),\n",
              " ('ir', 24),\n",
              " ('vēl', 22),\n",
              " ('tu', 21),\n",
              " ('tik', 21),\n",
              " ('bet', 15),\n",
              " ('kas', 15),\n",
              " ('nav', 14),\n",
              " ('man', 14),\n",
              " ('kā', 13)]"
            ]
          },
          "execution_count": 57,
          "metadata": {},
          "output_type": "execute_result"
        }
      ],
      "source": [
        "# solution we pass a function to show how to sort\n",
        "my_most_common = sorted(my_list_tuples,key=lambda mytuple: mytuple[1], reverse=True)\n",
        "my_most_common[:10]"
      ]
    },
    {
      "cell_type": "code",
      "execution_count": null,
      "metadata": {
        "id": "bNDLfS77v3TE"
      },
      "outputs": [],
      "source": [
        "# so sorting is possible but my recommendation is to use Counter"
      ]
    },
    {
      "cell_type": "code",
      "execution_count": null,
      "metadata": {
        "id": "ragMi5w1v3TE"
      },
      "outputs": [],
      "source": [
        "# well and now I would to like sort\n",
        "# its possible then I need to create a list from dictionary and then sort by key value\n",
        "# solution use a library"
      ]
    },
    {
      "cell_type": "code",
      "execution_count": null,
      "metadata": {
        "id": "BDETRNq3v3TE"
      },
      "outputs": [],
      "source": [
        "# Batteries are included no need to write our own counter\n",
        "from collections import Counter"
      ]
    },
    {
      "cell_type": "code",
      "execution_count": null,
      "metadata": {
        "id": "d5qrNHkXv3TE"
      },
      "outputs": [],
      "source": [
        "mycounter = Counter(words_lower)\n"
      ]
    },
    {
      "cell_type": "code",
      "execution_count": null,
      "metadata": {
        "id": "vqYfkWLiv3TE",
        "outputId": "5d859ccd-cc03-49d0-c556-968affc8853d"
      },
      "outputs": [
        {
          "data": {
            "text/plain": [
              "[('un', 76),\n",
              " ('ir', 24),\n",
              " ('vēl', 22),\n",
              " ('tik', 21),\n",
              " ('tu', 21),\n",
              " ('bet', 15),\n",
              " ('kas', 15),\n",
              " ('nav', 14),\n",
              " ('man', 14),\n",
              " ('par', 13)]"
            ]
          },
          "execution_count": 41,
          "metadata": {},
          "output_type": "execute_result"
        }
      ],
      "source": [
        "mycounter.most_common(10)"
      ]
    },
    {
      "cell_type": "code",
      "execution_count": null,
      "metadata": {
        "id": "nuaiTQ0Zv3TF",
        "outputId": "eb90bd9d-a7ba-4805-afea-7c789fd4d7c0"
      },
      "outputs": [
        {
          "data": {
            "text/plain": [
              "list"
            ]
          },
          "execution_count": 42,
          "metadata": {},
          "output_type": "execute_result"
        }
      ],
      "source": [
        "type(mycounter.most_common(10))"
      ]
    },
    {
      "cell_type": "code",
      "execution_count": null,
      "metadata": {
        "id": "2B1HM9Q9v3TF",
        "outputId": "5ef45cbb-6f9e-44d0-fab7-84f2db3bf47b"
      },
      "outputs": [
        {
          "data": {
            "text/plain": [
              "1283"
            ]
          },
          "execution_count": 44,
          "metadata": {},
          "output_type": "execute_result"
        }
      ],
      "source": [
        "# how to get only words 4 chars or longer ? :)\n",
        "long_words = [word for word in words_lower if len(word) >= 4 ]\n",
        "len(long_words)"
      ]
    },
    {
      "cell_type": "code",
      "execution_count": null,
      "metadata": {
        "id": "ARcgnBXkv3TF",
        "outputId": "fe8af05e-84f7-4741-a929-0af60ec09a70"
      },
      "outputs": [
        {
          "data": {
            "text/plain": [
              "[('reiz', 10),\n",
              " ('viss', 9),\n",
              " ('līdz', 8),\n",
              " ('mums', 7),\n",
              " ('sauc', 6),\n",
              " ('gars', 6),\n",
              " ('projām', 6),\n",
              " ('laiks', 5),\n",
              " ('sirds', 5),\n",
              " ('tomēr', 5)]"
            ]
          },
          "execution_count": 45,
          "metadata": {},
          "output_type": "execute_result"
        }
      ],
      "source": [
        "long_counter = Counter(long_words)\n",
        "long_counter.most_common(10)"
      ]
    },
    {
      "cell_type": "code",
      "execution_count": null,
      "metadata": {
        "id": "ap_EzlVsv3TF",
        "outputId": "3429fd35-9c49-42d7-a4ec-0adbbe2cd920"
      },
      "outputs": [
        {
          "data": {
            "text/plain": [
              "True"
            ]
          },
          "execution_count": 46,
          "metadata": {},
          "output_type": "execute_result"
        }
      ],
      "source": [
        "'alus' in long_counter"
      ]
    },
    {
      "cell_type": "code",
      "execution_count": null,
      "metadata": {
        "id": "meqNjfyDv3TF",
        "outputId": "bc6c0e6a-93c4-4810-dc4b-3cecfddbb22a"
      },
      "outputs": [
        {
          "data": {
            "text/plain": [
              "collections.Counter"
            ]
          },
          "execution_count": 47,
          "metadata": {},
          "output_type": "execute_result"
        }
      ],
      "source": [
        "type(long_counter)"
      ]
    },
    {
      "cell_type": "code",
      "execution_count": null,
      "metadata": {
        "id": "NBSvO0_3v3TF",
        "outputId": "e7ca24fc-6e56-4712-a47a-ac7ca5fd750f"
      },
      "outputs": [
        {
          "data": {
            "text/plain": [
              "(2, 2)"
            ]
          },
          "execution_count": 49,
          "metadata": {},
          "output_type": "execute_result"
        }
      ],
      "source": [
        "long_counter.get('alus'), long_counter['alus'] #2nd would throw error if no beer existed"
      ]
    },
    {
      "cell_type": "code",
      "execution_count": null,
      "metadata": {
        "id": "mVYNR2ODv3TF",
        "outputId": "f976918a-dbe7-4474-e0e6-789b25ddc177"
      },
      "outputs": [
        {
          "data": {
            "text/plain": [
              "[('laiks', 5),\n",
              " ('sirds', 5),\n",
              " ('tomēr', 5),\n",
              " ('likumīgi', 5),\n",
              " ('dzīves', 5),\n",
              " ('iedzer', 5)]"
            ]
          },
          "execution_count": 51,
          "metadata": {},
          "output_type": "execute_result"
        }
      ],
      "source": [
        "# we only get 5 letter words here\n",
        "word_counter_5 = [mytuple for mytuple in long_counter.most_common() if mytuple[1] == 5]\n",
        "word_counter_5"
      ]
    },
    {
      "cell_type": "code",
      "execution_count": null,
      "metadata": {
        "id": "Pnzltvvhv3TG"
      },
      "outputs": [],
      "source": [
        "import json"
      ]
    },
    {
      "cell_type": "code",
      "execution_count": null,
      "metadata": {
        "id": "Zqt3NPbov3TG"
      },
      "outputs": [],
      "source": [
        "with open('most_common.json', mode='w', encoding='utf-8') as fstream:\n",
        "    json.dump(mycounter.most_common(), fstream, indent=2)"
      ]
    },
    {
      "cell_type": "code",
      "execution_count": null,
      "metadata": {
        "id": "JS8vCpmzv3TG"
      },
      "outputs": [],
      "source": [
        "# if we want to save our Latvian or other languages besides ENglish we set\n",
        "# turn off ascii\n",
        "# https://stackoverflow.com/questions/18337407/saving-utf-8-texts-in-json-dumps-as-utf8-not-as-u-escape-sequence\n",
        "with open('most_common.json', mode='w', encoding='utf-8') as fstream:\n",
        "    json.dump(mycounter.most_common(), fstream, indent=2, ensure_ascii=False)"
      ]
    },
    {
      "cell_type": "code",
      "execution_count": null,
      "metadata": {
        "id": "poBh5EDSv3TG"
      },
      "outputs": [],
      "source": []
    }
  ],
  "metadata": {
    "kernelspec": {
      "display_name": "Python 3.9.0 64-bit",
      "language": "python",
      "name": "python3"
    },
    "language_info": {
      "codemirror_mode": {
        "name": "ipython",
        "version": 3
      },
      "file_extension": ".py",
      "mimetype": "text/x-python",
      "name": "python",
      "nbconvert_exporter": "python",
      "pygments_lexer": "ipython3",
      "version": "3.9.0"
    },
    "vscode": {
      "interpreter": {
        "hash": "11938c6bc6919ae2720b4d5011047913343b08a43b18698fd82dedb0d4417594"
      }
    },
    "colab": {
      "provenance": []
    }
  },
  "nbformat": 4,
  "nbformat_minor": 0
}