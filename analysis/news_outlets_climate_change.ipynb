{
  "cells": [
    {
      "cell_type": "markdown",
      "metadata": {
        "id": "0sMhuaYZctP9"
      },
      "source": [
        "# 🌪️ Which news outlets are giving climate change the most coverage?\n",
        "\n",
        "This data set contains over 142,000 articles from 15 sources mostly from 2016 and 2017.\n",
        "\n",
        "One of the things that might be interesting to look at is the correlation, if any, between the characteristics of these news outlets and the proportion of climate-change-related articles they publish.  We might hypothesize that right-leaning **Breitbart**, for example, would have a lower proportion of climate related articles than, say, **NPR**. [Source](https://www.dataquest.io/blog/tutorial-text-analysis-python-test-hypothesis/)"
      ]
    },
    {
      "cell_type": "code",
      "execution_count": null,
      "metadata": {
        "id": "1NFmiqzWctQA"
      },
      "outputs": [],
      "source": [
        "# Data source https://www.kaggle.com/snapcrack/all-the-news\n",
        "# extract to directory kaggle which should be sibling to your current directory"
      ]
    },
    {
      "cell_type": "code",
      "execution_count": 1,
      "metadata": {
        "id": "GBKLrpqtctQB"
      },
      "outputs": [],
      "source": [
        "%matplotlib inline\n",
        "import pandas as pd\n",
        "import numpy as np\n",
        "import seaborn as sns\n",
        "import matplotlib.pyplot as plt\n",
        "import string\n",
        "import re\n",
        "from collections import Counter\n",
        "from nltk.corpus import stopwords # possiblye nltk might need installing,everything else is standard on Anaconda"
      ]
    },
    {
      "cell_type": "code",
      "source": [
        "import csv"
      ],
      "metadata": {
        "id": "KY9Xtmx8g9AO"
      },
      "execution_count": 5,
      "outputs": []
    },
    {
      "cell_type": "code",
      "source": [
        "pt1 = pd.read_csv('kaggle/articles1.csv', index_col=0, encoding=\"utf-8\",nrows=10000)\n",
        "pt1.head()"
      ],
      "metadata": {
        "id": "VDOTKQv6gARW",
        "outputId": "dc1e6038-4bb7-4cd3-e9eb-a7acdeb2a84f",
        "colab": {
          "base_uri": "https://localhost:8080/",
          "height": 293
        }
      },
      "execution_count": 22,
      "outputs": [
        {
          "output_type": "execute_result",
          "data": {
            "text/html": [
              "<div>\n",
              "<style scoped>\n",
              "    .dataframe tbody tr th:only-of-type {\n",
              "        vertical-align: middle;\n",
              "    }\n",
              "\n",
              "    .dataframe tbody tr th {\n",
              "        vertical-align: top;\n",
              "    }\n",
              "\n",
              "    .dataframe thead th {\n",
              "        text-align: right;\n",
              "    }\n",
              "</style>\n",
              "<table border=\"1\" class=\"dataframe\">\n",
              "  <thead>\n",
              "    <tr style=\"text-align: right;\">\n",
              "      <th></th>\n",
              "      <th>id</th>\n",
              "      <th>title</th>\n",
              "      <th>publication</th>\n",
              "      <th>author</th>\n",
              "      <th>date</th>\n",
              "      <th>year</th>\n",
              "      <th>month</th>\n",
              "      <th>url</th>\n",
              "      <th>content</th>\n",
              "    </tr>\n",
              "  </thead>\n",
              "  <tbody>\n",
              "    <tr>\n",
              "      <th>0</th>\n",
              "      <td>17283</td>\n",
              "      <td>House Republicans Fret About Winning Their Hea...</td>\n",
              "      <td>New York Times</td>\n",
              "      <td>Carl Hulse</td>\n",
              "      <td>2016-12-31</td>\n",
              "      <td>2016.0</td>\n",
              "      <td>12.0</td>\n",
              "      <td>NaN</td>\n",
              "      <td>WASHINGTON  —   Congressional Republicans have...</td>\n",
              "    </tr>\n",
              "    <tr>\n",
              "      <th>1</th>\n",
              "      <td>17284</td>\n",
              "      <td>Rift Between Officers and Residents as Killing...</td>\n",
              "      <td>New York Times</td>\n",
              "      <td>Benjamin Mueller and Al Baker</td>\n",
              "      <td>2017-06-19</td>\n",
              "      <td>2017.0</td>\n",
              "      <td>6.0</td>\n",
              "      <td>NaN</td>\n",
              "      <td>After the bullet shells get counted, the blood...</td>\n",
              "    </tr>\n",
              "    <tr>\n",
              "      <th>2</th>\n",
              "      <td>17285</td>\n",
              "      <td>Tyrus Wong, ‘Bambi’ Artist Thwarted by Racial ...</td>\n",
              "      <td>New York Times</td>\n",
              "      <td>Margalit Fox</td>\n",
              "      <td>2017-01-06</td>\n",
              "      <td>2017.0</td>\n",
              "      <td>1.0</td>\n",
              "      <td>NaN</td>\n",
              "      <td>When Walt Disney’s “Bambi” opened in 1942, cri...</td>\n",
              "    </tr>\n",
              "    <tr>\n",
              "      <th>3</th>\n",
              "      <td>17286</td>\n",
              "      <td>Among Deaths in 2016, a Heavy Toll in Pop Musi...</td>\n",
              "      <td>New York Times</td>\n",
              "      <td>William McDonald</td>\n",
              "      <td>2017-04-10</td>\n",
              "      <td>2017.0</td>\n",
              "      <td>4.0</td>\n",
              "      <td>NaN</td>\n",
              "      <td>Death may be the great equalizer, but it isn’t...</td>\n",
              "    </tr>\n",
              "    <tr>\n",
              "      <th>4</th>\n",
              "      <td>17287</td>\n",
              "      <td>Kim Jong-un Says North Korea Is Preparing to T...</td>\n",
              "      <td>New York Times</td>\n",
              "      <td>Choe Sang-Hun</td>\n",
              "      <td>2017-01-02</td>\n",
              "      <td>2017.0</td>\n",
              "      <td>1.0</td>\n",
              "      <td>NaN</td>\n",
              "      <td>SEOUL, South Korea  —   North Korea’s leader, ...</td>\n",
              "    </tr>\n",
              "  </tbody>\n",
              "</table>\n",
              "</div>"
            ],
            "text/plain": [
              "      id  ...                                            content\n",
              "0  17283  ...  WASHINGTON  —   Congressional Republicans have...\n",
              "1  17284  ...  After the bullet shells get counted, the blood...\n",
              "2  17285  ...  When Walt Disney’s “Bambi” opened in 1942, cri...\n",
              "3  17286  ...  Death may be the great equalizer, but it isn’t...\n",
              "4  17287  ...  SEOUL, South Korea  —   North Korea’s leader, ...\n",
              "\n",
              "[5 rows x 9 columns]"
            ]
          },
          "metadata": {},
          "execution_count": 22
        }
      ]
    },
    {
      "cell_type": "code",
      "source": [
        "pt1.info()"
      ],
      "metadata": {
        "id": "nagOf9M5iTg0",
        "outputId": "873186e9-606e-412f-cf26-89238d9d070e",
        "colab": {
          "base_uri": "https://localhost:8080/"
        }
      },
      "execution_count": 16,
      "outputs": [
        {
          "output_type": "stream",
          "name": "stdout",
          "text": [
            "<class 'pandas.core.frame.DataFrame'>\n",
            "Int64Index: 1000 entries, 0 to 999\n",
            "Data columns (total 9 columns):\n",
            " #   Column       Non-Null Count  Dtype  \n",
            "---  ------       --------------  -----  \n",
            " 0   id           1000 non-null   int64  \n",
            " 1   title        1000 non-null   object \n",
            " 2   publication  1000 non-null   object \n",
            " 3   author       993 non-null    object \n",
            " 4   date         1000 non-null   object \n",
            " 5   year         1000 non-null   float64\n",
            " 6   month        1000 non-null   float64\n",
            " 7   url          0 non-null      float64\n",
            " 8   content      1000 non-null   object \n",
            "dtypes: float64(3), int64(1), object(5)\n",
            "memory usage: 78.1+ KB\n"
          ]
        }
      ]
    },
    {
      "cell_type": "code",
      "source": [
        "pt2 = pd.read_csv('kaggle/articles2.csv', index_col=0, nrows=10000,  encoding=\"utf-8\")\n",
        "pt2.head()"
      ],
      "metadata": {
        "id": "PPgws1BohfU9",
        "outputId": "066a2eae-d327-4e4e-fefe-c3afe412f759",
        "colab": {
          "base_uri": "https://localhost:8080/",
          "height": 293
        }
      },
      "execution_count": 23,
      "outputs": [
        {
          "output_type": "execute_result",
          "data": {
            "text/html": [
              "<div>\n",
              "<style scoped>\n",
              "    .dataframe tbody tr th:only-of-type {\n",
              "        vertical-align: middle;\n",
              "    }\n",
              "\n",
              "    .dataframe tbody tr th {\n",
              "        vertical-align: top;\n",
              "    }\n",
              "\n",
              "    .dataframe thead th {\n",
              "        text-align: right;\n",
              "    }\n",
              "</style>\n",
              "<table border=\"1\" class=\"dataframe\">\n",
              "  <thead>\n",
              "    <tr style=\"text-align: right;\">\n",
              "      <th></th>\n",
              "      <th>id</th>\n",
              "      <th>title</th>\n",
              "      <th>publication</th>\n",
              "      <th>author</th>\n",
              "      <th>date</th>\n",
              "      <th>year</th>\n",
              "      <th>month</th>\n",
              "      <th>url</th>\n",
              "      <th>content</th>\n",
              "    </tr>\n",
              "  </thead>\n",
              "  <tbody>\n",
              "    <tr>\n",
              "      <th>53293</th>\n",
              "      <td>73471</td>\n",
              "      <td>Patriots Day Is Best When It Digs Past the Her...</td>\n",
              "      <td>Atlantic</td>\n",
              "      <td>David Sims</td>\n",
              "      <td>2017-01-11</td>\n",
              "      <td>2017.0</td>\n",
              "      <td>1.0</td>\n",
              "      <td>NaN</td>\n",
              "      <td>Patriots Day, Peter Berg’s new thriller that r...</td>\n",
              "    </tr>\n",
              "    <tr>\n",
              "      <th>53294</th>\n",
              "      <td>73472</td>\n",
              "      <td>A Break in the Search for the Origin of Comple...</td>\n",
              "      <td>Atlantic</td>\n",
              "      <td>Ed Yong</td>\n",
              "      <td>2017-01-11</td>\n",
              "      <td>2017.0</td>\n",
              "      <td>1.0</td>\n",
              "      <td>NaN</td>\n",
              "      <td>In Norse mythology, humans and our world were ...</td>\n",
              "    </tr>\n",
              "    <tr>\n",
              "      <th>53295</th>\n",
              "      <td>73474</td>\n",
              "      <td>Obama’s Ingenious Mention of Atticus Finch</td>\n",
              "      <td>Atlantic</td>\n",
              "      <td>Spencer Kornhaber</td>\n",
              "      <td>2017-01-11</td>\n",
              "      <td>2017.0</td>\n",
              "      <td>1.0</td>\n",
              "      <td>NaN</td>\n",
              "      <td>“If our democracy is to work in this increasin...</td>\n",
              "    </tr>\n",
              "    <tr>\n",
              "      <th>53296</th>\n",
              "      <td>73475</td>\n",
              "      <td>Donald Trump Meets, and Assails, the Press</td>\n",
              "      <td>Atlantic</td>\n",
              "      <td>David A. Graham</td>\n",
              "      <td>2017-01-11</td>\n",
              "      <td>2017.0</td>\n",
              "      <td>1.0</td>\n",
              "      <td>NaN</td>\n",
              "      <td>Updated on January 11 at 5:05 p. m. In his fir...</td>\n",
              "    </tr>\n",
              "    <tr>\n",
              "      <th>53297</th>\n",
              "      <td>73476</td>\n",
              "      <td>Trump: ’I Think’ Hacking Was Russian</td>\n",
              "      <td>Atlantic</td>\n",
              "      <td>Kaveh Waddell</td>\n",
              "      <td>2017-01-11</td>\n",
              "      <td>2017.0</td>\n",
              "      <td>1.0</td>\n",
              "      <td>NaN</td>\n",
              "      <td>Updated at 12:25 p. m. After months of equivoc...</td>\n",
              "    </tr>\n",
              "  </tbody>\n",
              "</table>\n",
              "</div>"
            ],
            "text/plain": [
              "          id  ...                                            content\n",
              "53293  73471  ...  Patriots Day, Peter Berg’s new thriller that r...\n",
              "53294  73472  ...  In Norse mythology, humans and our world were ...\n",
              "53295  73474  ...  “If our democracy is to work in this increasin...\n",
              "53296  73475  ...  Updated on January 11 at 5:05 p. m. In his fir...\n",
              "53297  73476  ...  Updated at 12:25 p. m. After months of equivoc...\n",
              "\n",
              "[5 rows x 9 columns]"
            ]
          },
          "metadata": {},
          "execution_count": 23
        }
      ]
    },
    {
      "cell_type": "code",
      "source": [
        "pt3 = pd.read_csv('kaggle/articles3.csv', index_col=0, encoding=\"utf-8\", nrows=10000)\n",
        "pt3.head()"
      ],
      "metadata": {
        "id": "ZGyoz6cbhp9j",
        "outputId": "95e870f3-3959-4ee8-f1cd-bee22b94fabc",
        "colab": {
          "base_uri": "https://localhost:8080/",
          "height": 379
        }
      },
      "execution_count": 24,
      "outputs": [
        {
          "output_type": "execute_result",
          "data": {
            "text/html": [
              "<div>\n",
              "<style scoped>\n",
              "    .dataframe tbody tr th:only-of-type {\n",
              "        vertical-align: middle;\n",
              "    }\n",
              "\n",
              "    .dataframe tbody tr th {\n",
              "        vertical-align: top;\n",
              "    }\n",
              "\n",
              "    .dataframe thead th {\n",
              "        text-align: right;\n",
              "    }\n",
              "</style>\n",
              "<table border=\"1\" class=\"dataframe\">\n",
              "  <thead>\n",
              "    <tr style=\"text-align: right;\">\n",
              "      <th></th>\n",
              "      <th>id</th>\n",
              "      <th>title</th>\n",
              "      <th>publication</th>\n",
              "      <th>author</th>\n",
              "      <th>date</th>\n",
              "      <th>year</th>\n",
              "      <th>month</th>\n",
              "      <th>url</th>\n",
              "      <th>content</th>\n",
              "    </tr>\n",
              "  </thead>\n",
              "  <tbody>\n",
              "    <tr>\n",
              "      <th>103459</th>\n",
              "      <td>151908</td>\n",
              "      <td>Alton Sterling’s son: ’Everyone needs to prote...</td>\n",
              "      <td>Guardian</td>\n",
              "      <td>Jessica Glenza</td>\n",
              "      <td>2016-07-13</td>\n",
              "      <td>2016.0</td>\n",
              "      <td>7.0</td>\n",
              "      <td>https://www.theguardian.com/us-news/2016/jul/1...</td>\n",
              "      <td>The son of a Louisiana man whose father was sh...</td>\n",
              "    </tr>\n",
              "    <tr>\n",
              "      <th>103460</th>\n",
              "      <td>151909</td>\n",
              "      <td>Shakespeare’s first four folios sell at auctio...</td>\n",
              "      <td>Guardian</td>\n",
              "      <td>NaN</td>\n",
              "      <td>2016-05-25</td>\n",
              "      <td>2016.0</td>\n",
              "      <td>5.0</td>\n",
              "      <td>https://www.theguardian.com/culture/2016/may/2...</td>\n",
              "      <td>Copies of William Shakespeare’s first four boo...</td>\n",
              "    </tr>\n",
              "    <tr>\n",
              "      <th>103461</th>\n",
              "      <td>151910</td>\n",
              "      <td>My grandmother’s death saved me from a life of...</td>\n",
              "      <td>Guardian</td>\n",
              "      <td>Robert Pendry</td>\n",
              "      <td>2016-10-31</td>\n",
              "      <td>2016.0</td>\n",
              "      <td>10.0</td>\n",
              "      <td>https://www.theguardian.com/commentisfree/2016...</td>\n",
              "      <td>Debt: $20, 000, Source: College, credit cards,...</td>\n",
              "    </tr>\n",
              "    <tr>\n",
              "      <th>103462</th>\n",
              "      <td>151911</td>\n",
              "      <td>I feared my life lacked meaning. Cancer pushed...</td>\n",
              "      <td>Guardian</td>\n",
              "      <td>Bradford Frost</td>\n",
              "      <td>2016-11-26</td>\n",
              "      <td>2016.0</td>\n",
              "      <td>11.0</td>\n",
              "      <td>https://www.theguardian.com/commentisfree/2016...</td>\n",
              "      <td>It was late. I was drunk, nearing my 35th birt...</td>\n",
              "    </tr>\n",
              "    <tr>\n",
              "      <th>103463</th>\n",
              "      <td>151912</td>\n",
              "      <td>Texas man serving life sentence innocent of do...</td>\n",
              "      <td>Guardian</td>\n",
              "      <td>NaN</td>\n",
              "      <td>2016-08-20</td>\n",
              "      <td>2016.0</td>\n",
              "      <td>8.0</td>\n",
              "      <td>https://www.theguardian.com/us-news/2016/aug/2...</td>\n",
              "      <td>A central Texas man serving a life sentence fo...</td>\n",
              "    </tr>\n",
              "  </tbody>\n",
              "</table>\n",
              "</div>"
            ],
            "text/plain": [
              "            id  ...                                            content\n",
              "103459  151908  ...  The son of a Louisiana man whose father was sh...\n",
              "103460  151909  ...  Copies of William Shakespeare’s first four boo...\n",
              "103461  151910  ...  Debt: $20, 000, Source: College, credit cards,...\n",
              "103462  151911  ...  It was late. I was drunk, nearing my 35th birt...\n",
              "103463  151912  ...  A central Texas man serving a life sentence fo...\n",
              "\n",
              "[5 rows x 9 columns]"
            ]
          },
          "metadata": {},
          "execution_count": 24
        }
      ]
    },
    {
      "cell_type": "code",
      "execution_count": 25,
      "metadata": {
        "_cell_guid": "79c7e3d0-c299-4dcb-8224-4455121ee9b0",
        "_kg_hide-input": true,
        "_uuid": "d629ff2d2480ee46fbb7e2d37f6b5fab8052498a",
        "id": "0wK1rPTZctQC",
        "outputId": "c378f8e9-46ad-48b5-bf3e-b51e92aa139a",
        "colab": {
          "base_uri": "https://localhost:8080/"
        }
      },
      "outputs": [
        {
          "output_type": "stream",
          "name": "stdout",
          "text": [
            "Dataset contains 30000 articles written between 2000 and 2017\n",
            "\n",
            "List of publications includes: ['New York Times', 'Breitbart', 'Atlantic', 'Fox News', 'Guardian', 'NPR']\n"
          ]
        }
      ],
      "source": [
        "\n",
        "# we already read the data\n",
        "# pt1 = pd.read_csv('../kaggle/articles1.csv', index_col=0)\n",
        "# pt2 = pd.read_csv('../kaggle/articles2.csv', index_col=0)\n",
        "# pt3 = pd.read_csv('../kaggle/articles3.csv', index_col=0)\n",
        "\n",
        "articles = pd.concat([pt1,pt2,pt3]) # so adding all 3 into one big dataframe with concatation\n",
        "print(f\"Dataset contains {len(articles)} articles written between {int(articles['year'].min())} and {int(articles['year'].max())}\")\n",
        "print(f\"\\nList of publications includes: {articles.publication.unique().tolist()}\")"
      ]
    },
    {
      "cell_type": "code",
      "execution_count": 26,
      "metadata": {
        "id": "SiuGbuVwctQD",
        "outputId": "653b8d0c-bb78-4003-b499-5aaaac8bdec7",
        "colab": {
          "base_uri": "https://localhost:8080/",
          "height": 293
        }
      },
      "outputs": [
        {
          "output_type": "execute_result",
          "data": {
            "text/html": [
              "<div>\n",
              "<style scoped>\n",
              "    .dataframe tbody tr th:only-of-type {\n",
              "        vertical-align: middle;\n",
              "    }\n",
              "\n",
              "    .dataframe tbody tr th {\n",
              "        vertical-align: top;\n",
              "    }\n",
              "\n",
              "    .dataframe thead th {\n",
              "        text-align: right;\n",
              "    }\n",
              "</style>\n",
              "<table border=\"1\" class=\"dataframe\">\n",
              "  <thead>\n",
              "    <tr style=\"text-align: right;\">\n",
              "      <th></th>\n",
              "      <th>id</th>\n",
              "      <th>title</th>\n",
              "      <th>publication</th>\n",
              "      <th>author</th>\n",
              "      <th>date</th>\n",
              "      <th>year</th>\n",
              "      <th>month</th>\n",
              "      <th>url</th>\n",
              "      <th>content</th>\n",
              "    </tr>\n",
              "  </thead>\n",
              "  <tbody>\n",
              "    <tr>\n",
              "      <th>0</th>\n",
              "      <td>17283</td>\n",
              "      <td>House Republicans Fret About Winning Their Hea...</td>\n",
              "      <td>New York Times</td>\n",
              "      <td>Carl Hulse</td>\n",
              "      <td>2016-12-31</td>\n",
              "      <td>2016.0</td>\n",
              "      <td>12.0</td>\n",
              "      <td>NaN</td>\n",
              "      <td>WASHINGTON  —   Congressional Republicans have...</td>\n",
              "    </tr>\n",
              "    <tr>\n",
              "      <th>1</th>\n",
              "      <td>17284</td>\n",
              "      <td>Rift Between Officers and Residents as Killing...</td>\n",
              "      <td>New York Times</td>\n",
              "      <td>Benjamin Mueller and Al Baker</td>\n",
              "      <td>2017-06-19</td>\n",
              "      <td>2017.0</td>\n",
              "      <td>6.0</td>\n",
              "      <td>NaN</td>\n",
              "      <td>After the bullet shells get counted, the blood...</td>\n",
              "    </tr>\n",
              "    <tr>\n",
              "      <th>2</th>\n",
              "      <td>17285</td>\n",
              "      <td>Tyrus Wong, ‘Bambi’ Artist Thwarted by Racial ...</td>\n",
              "      <td>New York Times</td>\n",
              "      <td>Margalit Fox</td>\n",
              "      <td>2017-01-06</td>\n",
              "      <td>2017.0</td>\n",
              "      <td>1.0</td>\n",
              "      <td>NaN</td>\n",
              "      <td>When Walt Disney’s “Bambi” opened in 1942, cri...</td>\n",
              "    </tr>\n",
              "    <tr>\n",
              "      <th>3</th>\n",
              "      <td>17286</td>\n",
              "      <td>Among Deaths in 2016, a Heavy Toll in Pop Musi...</td>\n",
              "      <td>New York Times</td>\n",
              "      <td>William McDonald</td>\n",
              "      <td>2017-04-10</td>\n",
              "      <td>2017.0</td>\n",
              "      <td>4.0</td>\n",
              "      <td>NaN</td>\n",
              "      <td>Death may be the great equalizer, but it isn’t...</td>\n",
              "    </tr>\n",
              "    <tr>\n",
              "      <th>4</th>\n",
              "      <td>17287</td>\n",
              "      <td>Kim Jong-un Says North Korea Is Preparing to T...</td>\n",
              "      <td>New York Times</td>\n",
              "      <td>Choe Sang-Hun</td>\n",
              "      <td>2017-01-02</td>\n",
              "      <td>2017.0</td>\n",
              "      <td>1.0</td>\n",
              "      <td>NaN</td>\n",
              "      <td>SEOUL, South Korea  —   North Korea’s leader, ...</td>\n",
              "    </tr>\n",
              "  </tbody>\n",
              "</table>\n",
              "</div>"
            ],
            "text/plain": [
              "      id  ...                                            content\n",
              "0  17283  ...  WASHINGTON  —   Congressional Republicans have...\n",
              "1  17284  ...  After the bullet shells get counted, the blood...\n",
              "2  17285  ...  When Walt Disney’s “Bambi” opened in 1942, cri...\n",
              "3  17286  ...  Death may be the great equalizer, but it isn’t...\n",
              "4  17287  ...  SEOUL, South Korea  —   North Korea’s leader, ...\n",
              "\n",
              "[5 rows x 9 columns]"
            ]
          },
          "metadata": {},
          "execution_count": 26
        }
      ],
      "source": [
        "articles.head()"
      ]
    },
    {
      "cell_type": "code",
      "source": [
        "articles.tail()"
      ],
      "metadata": {
        "id": "2a5oqsICjaEj",
        "outputId": "b5381bac-8dbb-40b5-e94e-d54e075dd51c",
        "colab": {
          "base_uri": "https://localhost:8080/",
          "height": 379
        }
      },
      "execution_count": 27,
      "outputs": [
        {
          "output_type": "execute_result",
          "data": {
            "text/html": [
              "<div>\n",
              "<style scoped>\n",
              "    .dataframe tbody tr th:only-of-type {\n",
              "        vertical-align: middle;\n",
              "    }\n",
              "\n",
              "    .dataframe tbody tr th {\n",
              "        vertical-align: top;\n",
              "    }\n",
              "\n",
              "    .dataframe thead th {\n",
              "        text-align: right;\n",
              "    }\n",
              "</style>\n",
              "<table border=\"1\" class=\"dataframe\">\n",
              "  <thead>\n",
              "    <tr style=\"text-align: right;\">\n",
              "      <th></th>\n",
              "      <th>id</th>\n",
              "      <th>title</th>\n",
              "      <th>publication</th>\n",
              "      <th>author</th>\n",
              "      <th>date</th>\n",
              "      <th>year</th>\n",
              "      <th>month</th>\n",
              "      <th>url</th>\n",
              "      <th>content</th>\n",
              "    </tr>\n",
              "  </thead>\n",
              "  <tbody>\n",
              "    <tr>\n",
              "      <th>113457</th>\n",
              "      <td>168220</td>\n",
              "      <td>In ’Everything Is Copy,’ Nora Ephron’s Son Tri...</td>\n",
              "      <td>NPR</td>\n",
              "      <td>NaN</td>\n",
              "      <td>2016-03-31</td>\n",
              "      <td>2016.0</td>\n",
              "      <td>3.0</td>\n",
              "      <td>http://www.npr.org/2016/03/31/472534582/in-eve...</td>\n",
              "      <td>The new documentary Everything Is Copy  —   ab...</td>\n",
              "    </tr>\n",
              "    <tr>\n",
              "      <th>113458</th>\n",
              "      <td>168221</td>\n",
              "      <td>Inside A Small Brick House At The Heart Of Ind...</td>\n",
              "      <td>NPR</td>\n",
              "      <td>NPR Staff</td>\n",
              "      <td>2016-03-31</td>\n",
              "      <td>2016.0</td>\n",
              "      <td>3.0</td>\n",
              "      <td>http://www.npr.org/sections/health-shots/2016/...</td>\n",
              "      <td>This story is part of NPR’s podcast Embedded, ...</td>\n",
              "    </tr>\n",
              "    <tr>\n",
              "      <th>113459</th>\n",
              "      <td>168222</td>\n",
              "      <td>All Songs +1: Explosions In The Sky Finds Its ...</td>\n",
              "      <td>NPR</td>\n",
              "      <td>Robin Hilton</td>\n",
              "      <td>2016-03-31</td>\n",
              "      <td>2016.0</td>\n",
              "      <td>3.0</td>\n",
              "      <td>http://www.npr.org/sections/allsongs/2016/03/3...</td>\n",
              "      <td>There’s adventurous new music from Explosions ...</td>\n",
              "    </tr>\n",
              "    <tr>\n",
              "      <th>113460</th>\n",
              "      <td>168223</td>\n",
              "      <td>A Diverse Teaching Force? This Search Firm Can...</td>\n",
              "      <td>NPR</td>\n",
              "      <td>Anya Kamenetz</td>\n",
              "      <td>2016-03-31</td>\n",
              "      <td>2016.0</td>\n",
              "      <td>3.0</td>\n",
              "      <td>http://www.npr.org/sections/ed/2016/03/31/4705...</td>\n",
              "      <td>More than half of public school students are m...</td>\n",
              "    </tr>\n",
              "    <tr>\n",
              "      <th>113461</th>\n",
              "      <td>168224</td>\n",
              "      <td>Renowned Architect Zaha Hadid Dies At 65</td>\n",
              "      <td>NPR</td>\n",
              "      <td>Camila Domonoske</td>\n",
              "      <td>2016-03-31</td>\n",
              "      <td>2016.0</td>\n",
              "      <td>3.0</td>\n",
              "      <td>http://www.npr.org/sections/thetwo-way/2016/03...</td>\n",
              "      <td>Zaha Hadid, the   architect whose designs  —  ...</td>\n",
              "    </tr>\n",
              "  </tbody>\n",
              "</table>\n",
              "</div>"
            ],
            "text/plain": [
              "            id  ...                                            content\n",
              "113457  168220  ...  The new documentary Everything Is Copy  —   ab...\n",
              "113458  168221  ...  This story is part of NPR’s podcast Embedded, ...\n",
              "113459  168222  ...  There’s adventurous new music from Explosions ...\n",
              "113460  168223  ...  More than half of public school students are m...\n",
              "113461  168224  ...  Zaha Hadid, the   architect whose designs  —  ...\n",
              "\n",
              "[5 rows x 9 columns]"
            ]
          },
          "metadata": {},
          "execution_count": 27
        }
      ]
    },
    {
      "cell_type": "code",
      "source": [
        "articles.index"
      ],
      "metadata": {
        "id": "9DvQlUT_jiHl",
        "outputId": "65bd736a-be0d-4ab7-e9c0-d67e70188d2c",
        "colab": {
          "base_uri": "https://localhost:8080/"
        }
      },
      "execution_count": 28,
      "outputs": [
        {
          "output_type": "execute_result",
          "data": {
            "text/plain": [
              "Int64Index([     0,      1,      2,      3,      4,      5,      6,      7,\n",
              "                 8,      9,\n",
              "            ...\n",
              "            113452, 113453, 113454, 113455, 113456, 113457, 113458, 113459,\n",
              "            113460, 113461],\n",
              "           dtype='int64', length=30000)"
            ]
          },
          "metadata": {},
          "execution_count": 28
        }
      ]
    },
    {
      "cell_type": "code",
      "source": [
        "articles.head(10)"
      ],
      "metadata": {
        "id": "F5TTC0HYjp4q",
        "outputId": "faedd555-fb06-4b1b-abf8-ce499af74534",
        "colab": {
          "base_uri": "https://localhost:8080/",
          "height": 536
        }
      },
      "execution_count": 29,
      "outputs": [
        {
          "output_type": "execute_result",
          "data": {
            "text/html": [
              "<div>\n",
              "<style scoped>\n",
              "    .dataframe tbody tr th:only-of-type {\n",
              "        vertical-align: middle;\n",
              "    }\n",
              "\n",
              "    .dataframe tbody tr th {\n",
              "        vertical-align: top;\n",
              "    }\n",
              "\n",
              "    .dataframe thead th {\n",
              "        text-align: right;\n",
              "    }\n",
              "</style>\n",
              "<table border=\"1\" class=\"dataframe\">\n",
              "  <thead>\n",
              "    <tr style=\"text-align: right;\">\n",
              "      <th></th>\n",
              "      <th>id</th>\n",
              "      <th>title</th>\n",
              "      <th>publication</th>\n",
              "      <th>author</th>\n",
              "      <th>date</th>\n",
              "      <th>year</th>\n",
              "      <th>month</th>\n",
              "      <th>url</th>\n",
              "      <th>content</th>\n",
              "    </tr>\n",
              "  </thead>\n",
              "  <tbody>\n",
              "    <tr>\n",
              "      <th>0</th>\n",
              "      <td>17283</td>\n",
              "      <td>House Republicans Fret About Winning Their Hea...</td>\n",
              "      <td>New York Times</td>\n",
              "      <td>Carl Hulse</td>\n",
              "      <td>2016-12-31</td>\n",
              "      <td>2016.0</td>\n",
              "      <td>12.0</td>\n",
              "      <td>NaN</td>\n",
              "      <td>WASHINGTON  —   Congressional Republicans have...</td>\n",
              "    </tr>\n",
              "    <tr>\n",
              "      <th>1</th>\n",
              "      <td>17284</td>\n",
              "      <td>Rift Between Officers and Residents as Killing...</td>\n",
              "      <td>New York Times</td>\n",
              "      <td>Benjamin Mueller and Al Baker</td>\n",
              "      <td>2017-06-19</td>\n",
              "      <td>2017.0</td>\n",
              "      <td>6.0</td>\n",
              "      <td>NaN</td>\n",
              "      <td>After the bullet shells get counted, the blood...</td>\n",
              "    </tr>\n",
              "    <tr>\n",
              "      <th>2</th>\n",
              "      <td>17285</td>\n",
              "      <td>Tyrus Wong, ‘Bambi’ Artist Thwarted by Racial ...</td>\n",
              "      <td>New York Times</td>\n",
              "      <td>Margalit Fox</td>\n",
              "      <td>2017-01-06</td>\n",
              "      <td>2017.0</td>\n",
              "      <td>1.0</td>\n",
              "      <td>NaN</td>\n",
              "      <td>When Walt Disney’s “Bambi” opened in 1942, cri...</td>\n",
              "    </tr>\n",
              "    <tr>\n",
              "      <th>3</th>\n",
              "      <td>17286</td>\n",
              "      <td>Among Deaths in 2016, a Heavy Toll in Pop Musi...</td>\n",
              "      <td>New York Times</td>\n",
              "      <td>William McDonald</td>\n",
              "      <td>2017-04-10</td>\n",
              "      <td>2017.0</td>\n",
              "      <td>4.0</td>\n",
              "      <td>NaN</td>\n",
              "      <td>Death may be the great equalizer, but it isn’t...</td>\n",
              "    </tr>\n",
              "    <tr>\n",
              "      <th>4</th>\n",
              "      <td>17287</td>\n",
              "      <td>Kim Jong-un Says North Korea Is Preparing to T...</td>\n",
              "      <td>New York Times</td>\n",
              "      <td>Choe Sang-Hun</td>\n",
              "      <td>2017-01-02</td>\n",
              "      <td>2017.0</td>\n",
              "      <td>1.0</td>\n",
              "      <td>NaN</td>\n",
              "      <td>SEOUL, South Korea  —   North Korea’s leader, ...</td>\n",
              "    </tr>\n",
              "    <tr>\n",
              "      <th>5</th>\n",
              "      <td>17288</td>\n",
              "      <td>Sick With a Cold, Queen Elizabeth Misses New Y...</td>\n",
              "      <td>New York Times</td>\n",
              "      <td>Sewell Chan</td>\n",
              "      <td>2017-01-02</td>\n",
              "      <td>2017.0</td>\n",
              "      <td>1.0</td>\n",
              "      <td>NaN</td>\n",
              "      <td>LONDON  —   Queen Elizabeth II, who has been b...</td>\n",
              "    </tr>\n",
              "    <tr>\n",
              "      <th>6</th>\n",
              "      <td>17289</td>\n",
              "      <td>Taiwan’s President Accuses China of Renewed In...</td>\n",
              "      <td>New York Times</td>\n",
              "      <td>Javier C. Hernández</td>\n",
              "      <td>2017-01-02</td>\n",
              "      <td>2017.0</td>\n",
              "      <td>1.0</td>\n",
              "      <td>NaN</td>\n",
              "      <td>BEIJING  —   President Tsai   of Taiwan sharpl...</td>\n",
              "    </tr>\n",
              "    <tr>\n",
              "      <th>7</th>\n",
              "      <td>17290</td>\n",
              "      <td>After ‘The Biggest Loser,’ Their Bodies Fought...</td>\n",
              "      <td>New York Times</td>\n",
              "      <td>Gina Kolata</td>\n",
              "      <td>2017-02-08</td>\n",
              "      <td>2017.0</td>\n",
              "      <td>2.0</td>\n",
              "      <td>NaN</td>\n",
              "      <td>Danny Cahill stood, slightly dazed, in a blizz...</td>\n",
              "    </tr>\n",
              "    <tr>\n",
              "      <th>8</th>\n",
              "      <td>17291</td>\n",
              "      <td>First, a Mixtape. Then a Romance. - The New Yo...</td>\n",
              "      <td>New York Times</td>\n",
              "      <td>Katherine Rosman</td>\n",
              "      <td>2016-12-31</td>\n",
              "      <td>2016.0</td>\n",
              "      <td>12.0</td>\n",
              "      <td>NaN</td>\n",
              "      <td>Just how   is Hillary Kerr, the    founder of ...</td>\n",
              "    </tr>\n",
              "    <tr>\n",
              "      <th>9</th>\n",
              "      <td>17292</td>\n",
              "      <td>Calling on Angels While Enduring the Trials of...</td>\n",
              "      <td>New York Times</td>\n",
              "      <td>Andy Newman</td>\n",
              "      <td>2016-12-31</td>\n",
              "      <td>2016.0</td>\n",
              "      <td>12.0</td>\n",
              "      <td>NaN</td>\n",
              "      <td>Angels are everywhere in the Muñiz family’s ap...</td>\n",
              "    </tr>\n",
              "  </tbody>\n",
              "</table>\n",
              "</div>"
            ],
            "text/plain": [
              "      id  ...                                            content\n",
              "0  17283  ...  WASHINGTON  —   Congressional Republicans have...\n",
              "1  17284  ...  After the bullet shells get counted, the blood...\n",
              "2  17285  ...  When Walt Disney’s “Bambi” opened in 1942, cri...\n",
              "3  17286  ...  Death may be the great equalizer, but it isn’t...\n",
              "4  17287  ...  SEOUL, South Korea  —   North Korea’s leader, ...\n",
              "5  17288  ...  LONDON  —   Queen Elizabeth II, who has been b...\n",
              "6  17289  ...  BEIJING  —   President Tsai   of Taiwan sharpl...\n",
              "7  17290  ...  Danny Cahill stood, slightly dazed, in a blizz...\n",
              "8  17291  ...  Just how   is Hillary Kerr, the    founder of ...\n",
              "9  17292  ...  Angels are everywhere in the Muñiz family’s ap...\n",
              "\n",
              "[10 rows x 9 columns]"
            ]
          },
          "metadata": {},
          "execution_count": 29
        }
      ]
    },
    {
      "cell_type": "code",
      "source": [
        "articles.sample(5)  # without random_state I will always have a fresh sample"
      ],
      "metadata": {
        "id": "ZGKCXALwkJrE",
        "outputId": "c4d71ab3-910d-46d9-cf84-3d3ce63c8e16",
        "colab": {
          "base_uri": "https://localhost:8080/",
          "height": 379
        }
      },
      "execution_count": 35,
      "outputs": [
        {
          "output_type": "execute_result",
          "data": {
            "text/html": [
              "<div>\n",
              "<style scoped>\n",
              "    .dataframe tbody tr th:only-of-type {\n",
              "        vertical-align: middle;\n",
              "    }\n",
              "\n",
              "    .dataframe tbody tr th {\n",
              "        vertical-align: top;\n",
              "    }\n",
              "\n",
              "    .dataframe thead th {\n",
              "        text-align: right;\n",
              "    }\n",
              "</style>\n",
              "<table border=\"1\" class=\"dataframe\">\n",
              "  <thead>\n",
              "    <tr style=\"text-align: right;\">\n",
              "      <th></th>\n",
              "      <th>id</th>\n",
              "      <th>title</th>\n",
              "      <th>publication</th>\n",
              "      <th>author</th>\n",
              "      <th>date</th>\n",
              "      <th>year</th>\n",
              "      <th>month</th>\n",
              "      <th>url</th>\n",
              "      <th>content</th>\n",
              "    </tr>\n",
              "  </thead>\n",
              "  <tbody>\n",
              "    <tr>\n",
              "      <th>105460</th>\n",
              "      <td>155774</td>\n",
              "      <td>DNA database brings scientists closer to pinpo...</td>\n",
              "      <td>Guardian</td>\n",
              "      <td>Nicola Davis</td>\n",
              "      <td>2016-08-17</td>\n",
              "      <td>2016.0</td>\n",
              "      <td>8.0</td>\n",
              "      <td>https://www.theguardian.com/science/2016/aug/1...</td>\n",
              "      <td>Scientists say they are closer to pinning down...</td>\n",
              "    </tr>\n",
              "    <tr>\n",
              "      <th>155</th>\n",
              "      <td>17462</td>\n",
              "      <td>Donald Trump, Golden Globes, Jerusalem: Your M...</td>\n",
              "      <td>New York Times</td>\n",
              "      <td>Patrick Boehler</td>\n",
              "      <td>2017-01-10</td>\n",
              "      <td>2017.0</td>\n",
              "      <td>1.0</td>\n",
              "      <td>NaN</td>\n",
              "      <td>Good morning. Here’s what you need to know: • ...</td>\n",
              "    </tr>\n",
              "    <tr>\n",
              "      <th>104293</th>\n",
              "      <td>153005</td>\n",
              "      <td>Experience: I survived a power cut in Antarctica</td>\n",
              "      <td>Guardian</td>\n",
              "      <td>NaN</td>\n",
              "      <td>2016-12-30</td>\n",
              "      <td>2016.0</td>\n",
              "      <td>12.0</td>\n",
              "      <td>https://www.theguardian.com/lifeandstyle/2016/...</td>\n",
              "      <td>I shouldn’t even have been there. Winter in An...</td>\n",
              "    </tr>\n",
              "    <tr>\n",
              "      <th>60286</th>\n",
              "      <td>82524</td>\n",
              "      <td>Remembering Carrie Fisher</td>\n",
              "      <td>Atlantic</td>\n",
              "      <td>David Sims</td>\n",
              "      <td>2016-12-27</td>\n",
              "      <td>2016.0</td>\n",
              "      <td>12.0</td>\n",
              "      <td>NaN</td>\n",
              "      <td>Carrie Fisher was the rarest kind of Hollywood...</td>\n",
              "    </tr>\n",
              "    <tr>\n",
              "      <th>111059</th>\n",
              "      <td>165443</td>\n",
              "      <td>Trump’s Infrastructure Plan Still Could Use Mo...</td>\n",
              "      <td>NPR</td>\n",
              "      <td>Danielle Kurtzleben</td>\n",
              "      <td>2017-06-09</td>\n",
              "      <td>2017.0</td>\n",
              "      <td>6.0</td>\n",
              "      <td>http://www.npr.org/2017/06/09/532078366/trumps...</td>\n",
              "      <td>Despite America’s rapt attention on former FBI...</td>\n",
              "    </tr>\n",
              "  </tbody>\n",
              "</table>\n",
              "</div>"
            ],
            "text/plain": [
              "            id  ...                                            content\n",
              "105460  155774  ...  Scientists say they are closer to pinning down...\n",
              "155      17462  ...  Good morning. Here’s what you need to know: • ...\n",
              "104293  153005  ...  I shouldn’t even have been there. Winter in An...\n",
              "60286    82524  ...  Carrie Fisher was the rarest kind of Hollywood...\n",
              "111059  165443  ...  Despite America’s rapt attention on former FBI...\n",
              "\n",
              "[5 rows x 9 columns]"
            ]
          },
          "metadata": {},
          "execution_count": 35
        }
      ]
    },
    {
      "cell_type": "code",
      "execution_count": 33,
      "metadata": {
        "_kg_hide-input": true,
        "scrolled": true,
        "colab": {
          "base_uri": "https://localhost:8080/",
          "height": 379
        },
        "id": "FapJtMdnctQD",
        "outputId": "fd4f0a9b-e3dd-45cd-d36c-3855ca5b2db7"
      },
      "outputs": [
        {
          "output_type": "execute_result",
          "data": {
            "text/html": [
              "<div>\n",
              "<style scoped>\n",
              "    .dataframe tbody tr th:only-of-type {\n",
              "        vertical-align: middle;\n",
              "    }\n",
              "\n",
              "    .dataframe tbody tr th {\n",
              "        vertical-align: top;\n",
              "    }\n",
              "\n",
              "    .dataframe thead th {\n",
              "        text-align: right;\n",
              "    }\n",
              "</style>\n",
              "<table border=\"1\" class=\"dataframe\">\n",
              "  <thead>\n",
              "    <tr style=\"text-align: right;\">\n",
              "      <th></th>\n",
              "      <th>id</th>\n",
              "      <th>title</th>\n",
              "      <th>publication</th>\n",
              "      <th>author</th>\n",
              "      <th>date</th>\n",
              "      <th>year</th>\n",
              "      <th>month</th>\n",
              "      <th>url</th>\n",
              "      <th>content</th>\n",
              "    </tr>\n",
              "  </thead>\n",
              "  <tbody>\n",
              "    <tr>\n",
              "      <th>4358</th>\n",
              "      <td>22119</td>\n",
              "      <td>Bob Dylan’s Nobel Prize: A Podcast Discussion ...</td>\n",
              "      <td>New York Times</td>\n",
              "      <td>Jon Pareles</td>\n",
              "      <td>2016-12-27</td>\n",
              "      <td>2016.0</td>\n",
              "      <td>12.0</td>\n",
              "      <td>NaN</td>\n",
              "      <td>Listen to this week’s podcast | Subscribe: iTu...</td>\n",
              "    </tr>\n",
              "    <tr>\n",
              "      <th>60413</th>\n",
              "      <td>82689</td>\n",
              "      <td>Key dates in Mexico’s pursuit of drug lord ’El...</td>\n",
              "      <td>Fox News</td>\n",
              "      <td>NaN</td>\n",
              "      <td>2016-01-08</td>\n",
              "      <td>2016.0</td>\n",
              "      <td>1.0</td>\n",
              "      <td>https://web.archive.org/web/20160109015845/htt...</td>\n",
              "      <td>Key dates in the various pursuits, captures a...</td>\n",
              "    </tr>\n",
              "    <tr>\n",
              "      <th>7541</th>\n",
              "      <td>26187</td>\n",
              "      <td>Paul Simon’s Ambition, and Inspiration, Never ...</td>\n",
              "      <td>New York Times</td>\n",
              "      <td>Jon Pareles</td>\n",
              "      <td>2016-11-03</td>\n",
              "      <td>2016.0</td>\n",
              "      <td>11.0</td>\n",
              "      <td>NaN</td>\n",
              "      <td>Sitting on the windowsill behind Paul Simon’s ...</td>\n",
              "    </tr>\n",
              "    <tr>\n",
              "      <th>4776</th>\n",
              "      <td>22586</td>\n",
              "      <td>U.S. Will Ban Smoking in Public Housing Nation...</td>\n",
              "      <td>New York Times</td>\n",
              "      <td>Mireya Navarro</td>\n",
              "      <td>2016-12-03</td>\n",
              "      <td>2016.0</td>\n",
              "      <td>12.0</td>\n",
              "      <td>NaN</td>\n",
              "      <td>Smoking will be prohibited in public housing r...</td>\n",
              "    </tr>\n",
              "    <tr>\n",
              "      <th>3549</th>\n",
              "      <td>21223</td>\n",
              "      <td>The Divorce Diet? Losing a Spouse and Some Pou...</td>\n",
              "      <td>New York Times</td>\n",
              "      <td>Hilary Howard</td>\n",
              "      <td>2016-08-22</td>\n",
              "      <td>2016.0</td>\n",
              "      <td>8.0</td>\n",
              "      <td>NaN</td>\n",
              "      <td>Wedding season is here, and many brides and gr...</td>\n",
              "    </tr>\n",
              "  </tbody>\n",
              "</table>\n",
              "</div>"
            ],
            "text/plain": [
              "          id  ...                                            content\n",
              "4358   22119  ...  Listen to this week’s podcast | Subscribe: iTu...\n",
              "60413  82689  ...   Key dates in the various pursuits, captures a...\n",
              "7541   26187  ...  Sitting on the windowsill behind Paul Simon’s ...\n",
              "4776   22586  ...  Smoking will be prohibited in public housing r...\n",
              "3549   21223  ...  Wedding season is here, and many brides and gr...\n",
              "\n",
              "[5 rows x 9 columns]"
            ]
          },
          "metadata": {},
          "execution_count": 33
        }
      ],
      "source": [
        "articles.sample(5, random_state=2021) # random_state means will we always get same dice rolls"
      ]
    },
    {
      "cell_type": "code",
      "source": [
        "articles.loc[105460]"
      ],
      "metadata": {
        "id": "Zb160O_WkGWv",
        "outputId": "f86b7326-128c-4c3a-9b70-0ad022f22e4c",
        "colab": {
          "base_uri": "https://localhost:8080/"
        }
      },
      "execution_count": 37,
      "outputs": [
        {
          "output_type": "execute_result",
          "data": {
            "text/plain": [
              "id                                                        155774\n",
              "title          DNA database brings scientists closer to pinpo...\n",
              "publication                                             Guardian\n",
              "author                                              Nicola Davis\n",
              "date                                                  2016-08-17\n",
              "year                                                        2016\n",
              "month                                                          8\n",
              "url            https://www.theguardian.com/science/2016/aug/1...\n",
              "content        Scientists say they are closer to pinning down...\n",
              "Name: 105460, dtype: object"
            ]
          },
          "metadata": {},
          "execution_count": 37
        }
      ]
    },
    {
      "cell_type": "code",
      "source": [
        "mytext = articles.loc[105460].content\n",
        "type(mytext)"
      ],
      "metadata": {
        "id": "YfSnXMZGkvXk",
        "outputId": "fd97a1f1-2a98-4638-f523-e9aade01fe3b",
        "colab": {
          "base_uri": "https://localhost:8080/"
        }
      },
      "execution_count": 41,
      "outputs": [
        {
          "output_type": "execute_result",
          "data": {
            "text/plain": [
              "str"
            ]
          },
          "metadata": {},
          "execution_count": 41
        }
      ]
    },
    {
      "cell_type": "code",
      "source": [
        "print(mytext)"
      ],
      "metadata": {
        "id": "ZlFASX7tk6FO",
        "outputId": "d5b03786-ed08-4f11-d0e4-d5a59ca304a9",
        "colab": {
          "base_uri": "https://localhost:8080/"
        }
      },
      "execution_count": 42,
      "outputs": [
        {
          "output_type": "stream",
          "name": "stdout",
          "text": [
            "Scientists say they are closer to pinning down the genetic causes of inherited diseases ranging from muscular dystrophy to certain types of heart disease after analysing the DNA of more than 60, 000 people. Researchers have discovered more than 3, 000 genes in which certain mutations are likely to play a role in disease, as well as more than 160 genetic mutations that have previously been linked to inherited conditions   but are in fact harmless. The findings will help to pin down whether genetic mutations seen in a patient are likely to be behind their disease.  “Researchers and clinicians need to be able to determine which DNA changes are important [in their patients],” said Dr Jane Gibson from the University of Southampton, who was not involved in the study. “Has a particular change been seen before in healthy individuals? This helps to prioritise the [genetic] changes and narrow down the likely cause of disease in their own patient. ” The new research is based on regions of DNA that encode information needed to make proteins  —   regions that account for just under 2% of the entire human genome. “Those protein coding regions contain the vast majority of the [genetic] variants that are known to cause severe rare diseases like muscular dystrophy,” said Daniel MacArthur, senior author of the research from the Broad Institute of MIT and Harvard. “So focusing on those regions really gives us a lot of bang for our buck in terms of understanding the genetic causes of severe diseases. ” The research is the fruit of an international collaboration, dubbed Exac, which pulled together data from around the world to produce the largest ever catalogue of variations in   regions of DNA, boasting data from 60, 706 individuals. Among their findings, the scientists discovered almost 7. 5million genetic variants in the database. “More than half of those are seen only once in 60, 000 people   that’s an incredibly rare frequency,” said MacArthur, adding that most of the mutations identified have never been seen before.  As well as highlighting the high degree of variation among humans, the finding has important implications. “These extremely rare variants are the ones that are most likely to be involved in very severe diseases like cystic fibrosis or muscular dystrophy,” he said. The research also revealed that there are 3, 230 genes which have fewer genetic variations that would inactivate the gene than expected, meaning that many of these genes are likely to be involved in essential processes in the cell. That, the scientists add, means that disruptive genetic mutations in these genes are likely to have adverse effects   although such impacts are at present unknown for more than 70% of these genes. “We know of some of the genes in the list already where gene disruptions cause very severe childhood onset diseases,” said MacArthur. The team were also able to overturn a number of links previously made between particular genetic mutations and a host of disorders, finding more than 160 genetic variants that had erroneously been linked to inherited conditions.  “Surprising findings like these allow us to get a better understanding of how the human genome works and how different changes might or might not affect our health,” said Gibson. While the Exac database has been freely available for use in clinical settings since late 2014, the new research, published in the journal Nature, marks the first analysis of the data.  By using the database to work out how common a patient’s genetic variant is, and comparing it to how common the patient’s disease is, researchers hope to be able to screen for   mutations. “If [a particular genetic variant occurs in] one in every 6, 000 people, it cannot be a fully causal variant for a disease that [affects] one in 100, 000,” said MacArthur. Ewan Birney,   of the European Bioinformatics Institute in Cambridge says the Exac database is extremely important. “Previously there would be a sense that if you had breast cancer, and you had a rare mutation in [genes known as] BRCA1 or BRCA2, then perhaps that rare mutation was the reason you got breast cancer,” he said. “We can now say for many of those variants, it is rare but it is not so rare and so it probably doesn’t cause breast cancer. ” In a separate study by researchers from the Royal Brompton Hospital and the University of Oxford, scientists describe how they used the Exac database to whittle down the number of genetic mutations linked to cardiomyopathy   diseases of the heart muscle that affect one in 500 people in the UK and are the most common cause of sudden death in young people who are otherwise in good health. Published in the journal Genetics in Medicine, the researchers reveal how they compared genetic information from almost 8, 000 patients to genetic variations found in the Exac database. The team found 40 of the 48 genes previously linked to one form of cardiomyopathy   and a third of the genes linked to another form   were unlikely to cause the disease. As well as increasing the accuracy of diagnosis, the findings are expected to be valuable for testing family members of those who have been diagnosed with an inherited disease. “When a mutation is identified you can cascade it around the family and you can say to other family members you are also at risk, ” said Birney. While the Exac database includes genetic information from individuals of many different ancestries, including Latino, African and East Asian, there are other populations, including those of Central Asian ancestry that are missing from the dataset. “For Europeans now we have this database that really helps to screen out what ends up being benign mutations,” said Birney. “We need that now for all populations. ”\n"
          ]
        }
      ]
    },
    {
      "cell_type": "code",
      "source": [
        "articles[articles.id == 155774] # . access to columns only works on single column names without spaces also with no conflict in pandas methods"
      ],
      "metadata": {
        "id": "G0Z9PH8dkqBp",
        "outputId": "98835a3a-775a-47f6-e21d-c4143fa1448c",
        "colab": {
          "base_uri": "https://localhost:8080/",
          "height": 115
        }
      },
      "execution_count": 38,
      "outputs": [
        {
          "output_type": "execute_result",
          "data": {
            "text/html": [
              "<div>\n",
              "<style scoped>\n",
              "    .dataframe tbody tr th:only-of-type {\n",
              "        vertical-align: middle;\n",
              "    }\n",
              "\n",
              "    .dataframe tbody tr th {\n",
              "        vertical-align: top;\n",
              "    }\n",
              "\n",
              "    .dataframe thead th {\n",
              "        text-align: right;\n",
              "    }\n",
              "</style>\n",
              "<table border=\"1\" class=\"dataframe\">\n",
              "  <thead>\n",
              "    <tr style=\"text-align: right;\">\n",
              "      <th></th>\n",
              "      <th>id</th>\n",
              "      <th>title</th>\n",
              "      <th>publication</th>\n",
              "      <th>author</th>\n",
              "      <th>date</th>\n",
              "      <th>year</th>\n",
              "      <th>month</th>\n",
              "      <th>url</th>\n",
              "      <th>content</th>\n",
              "    </tr>\n",
              "  </thead>\n",
              "  <tbody>\n",
              "    <tr>\n",
              "      <th>105460</th>\n",
              "      <td>155774</td>\n",
              "      <td>DNA database brings scientists closer to pinpo...</td>\n",
              "      <td>Guardian</td>\n",
              "      <td>Nicola Davis</td>\n",
              "      <td>2016-08-17</td>\n",
              "      <td>2016.0</td>\n",
              "      <td>8.0</td>\n",
              "      <td>https://www.theguardian.com/science/2016/aug/1...</td>\n",
              "      <td>Scientists say they are closer to pinning down...</td>\n",
              "    </tr>\n",
              "  </tbody>\n",
              "</table>\n",
              "</div>"
            ],
            "text/plain": [
              "            id  ...                                            content\n",
              "105460  155774  ...  Scientists say they are closer to pinning down...\n",
              "\n",
              "[1 rows x 9 columns]"
            ]
          },
          "metadata": {},
          "execution_count": 38
        }
      ]
    },
    {
      "cell_type": "code",
      "execution_count": null,
      "metadata": {
        "id": "falXuBvyctQE",
        "outputId": "f266581b-a27d-4d33-a177-5fb402caa6c2"
      },
      "outputs": [
        {
          "data": {
            "text/plain": [
              "id                                                        119414\n",
              "title          Fred Upton Should Not Cave on Mental-Illness Bill\n",
              "publication                                      National Review\n",
              "author                                               D. J. Jaffe\n",
              "date                                                  2016-06-01\n",
              "year                                                        2016\n",
              "month                                                          6\n",
              "url            http://www.nationalreview.com/article/436063/m...\n",
              "content        When it returns in June, house leadership has ...\n",
              "Name: 78768, dtype: object"
            ]
          },
          "execution_count": 12,
          "metadata": {},
          "output_type": "execute_result"
        }
      ],
      "source": [
        "articles.iloc[75317]"
      ]
    },
    {
      "cell_type": "code",
      "execution_count": 44,
      "metadata": {
        "id": "q9C8oe13ctQE",
        "outputId": "152ef69f-5939-4e62-94b7-60052de05257",
        "colab": {
          "base_uri": "https://localhost:8080/",
          "height": 115
        }
      },
      "outputs": [
        {
          "output_type": "execute_result",
          "data": {
            "text/html": [
              "<div>\n",
              "<style scoped>\n",
              "    .dataframe tbody tr th:only-of-type {\n",
              "        vertical-align: middle;\n",
              "    }\n",
              "\n",
              "    .dataframe tbody tr th {\n",
              "        vertical-align: top;\n",
              "    }\n",
              "\n",
              "    .dataframe thead th {\n",
              "        text-align: right;\n",
              "    }\n",
              "</style>\n",
              "<table border=\"1\" class=\"dataframe\">\n",
              "  <thead>\n",
              "    <tr style=\"text-align: right;\">\n",
              "      <th></th>\n",
              "      <th>id</th>\n",
              "      <th>title</th>\n",
              "      <th>publication</th>\n",
              "      <th>author</th>\n",
              "      <th>date</th>\n",
              "      <th>year</th>\n",
              "      <th>month</th>\n",
              "      <th>url</th>\n",
              "      <th>content</th>\n",
              "    </tr>\n",
              "  </thead>\n",
              "  <tbody>\n",
              "    <tr>\n",
              "      <th>105460</th>\n",
              "      <td>155774</td>\n",
              "      <td>DNA database brings scientists closer to pinpo...</td>\n",
              "      <td>Guardian</td>\n",
              "      <td>Nicola Davis</td>\n",
              "      <td>2016-08-17</td>\n",
              "      <td>2016.0</td>\n",
              "      <td>8.0</td>\n",
              "      <td>https://www.theguardian.com/science/2016/aug/1...</td>\n",
              "      <td>Scientists say they are closer to pinning down...</td>\n",
              "    </tr>\n",
              "  </tbody>\n",
              "</table>\n",
              "</div>"
            ],
            "text/plain": [
              "            id  ...                                            content\n",
              "105460  155774  ...  Scientists say they are closer to pinning down...\n",
              "\n",
              "[1 rows x 9 columns]"
            ]
          },
          "metadata": {},
          "execution_count": 44
        }
      ],
      "source": [
        "articles[articles[\"id\"] == 155774]  # this is the recommended approach using square brackes for column names"
      ]
    },
    {
      "cell_type": "code",
      "execution_count": 45,
      "metadata": {
        "id": "5zty6U8QctQF",
        "outputId": "fbecc262-7f92-4b7a-b73e-96ef9dfbc797",
        "colab": {
          "base_uri": "https://localhost:8080/"
        }
      },
      "outputs": [
        {
          "output_type": "execute_result",
          "data": {
            "text/plain": [
              "105460    https://www.theguardian.com/science/2016/aug/1...\n",
              "Name: url, dtype: object"
            ]
          },
          "metadata": {},
          "execution_count": 45
        }
      ],
      "source": [
        "articles[articles[\"id\"] == 155774].url"
      ]
    },
    {
      "cell_type": "code",
      "source": [
        "# some basic stats about our data"
      ],
      "metadata": {
        "id": "6G70N8jUljpk"
      },
      "execution_count": null,
      "outputs": []
    },
    {
      "cell_type": "code",
      "execution_count": 46,
      "metadata": {
        "id": "elvYhBiGctQG",
        "outputId": "298ccbad-fe5e-4721-ee89-22f7d1862ce0",
        "colab": {
          "base_uri": "https://localhost:8080/",
          "height": 300
        }
      },
      "outputs": [
        {
          "output_type": "execute_result",
          "data": {
            "text/html": [
              "<div>\n",
              "<style scoped>\n",
              "    .dataframe tbody tr th:only-of-type {\n",
              "        vertical-align: middle;\n",
              "    }\n",
              "\n",
              "    .dataframe tbody tr th {\n",
              "        vertical-align: top;\n",
              "    }\n",
              "\n",
              "    .dataframe thead th {\n",
              "        text-align: right;\n",
              "    }\n",
              "</style>\n",
              "<table border=\"1\" class=\"dataframe\">\n",
              "  <thead>\n",
              "    <tr style=\"text-align: right;\">\n",
              "      <th></th>\n",
              "      <th>id</th>\n",
              "      <th>year</th>\n",
              "      <th>month</th>\n",
              "    </tr>\n",
              "  </thead>\n",
              "  <tbody>\n",
              "    <tr>\n",
              "      <th>count</th>\n",
              "      <td>30000.000000</td>\n",
              "      <td>29983.000000</td>\n",
              "      <td>29983.000000</td>\n",
              "    </tr>\n",
              "    <tr>\n",
              "      <th>mean</th>\n",
              "      <td>87949.443367</td>\n",
              "      <td>2016.406864</td>\n",
              "      <td>5.396925</td>\n",
              "    </tr>\n",
              "    <tr>\n",
              "      <th>std</th>\n",
              "      <td>56735.769607</td>\n",
              "      <td>0.540214</td>\n",
              "      <td>3.343044</td>\n",
              "    </tr>\n",
              "    <tr>\n",
              "      <th>min</th>\n",
              "      <td>17283.000000</td>\n",
              "      <td>2000.000000</td>\n",
              "      <td>1.000000</td>\n",
              "    </tr>\n",
              "    <tr>\n",
              "      <th>25%</th>\n",
              "      <td>26130.750000</td>\n",
              "      <td>2016.000000</td>\n",
              "      <td>3.000000</td>\n",
              "    </tr>\n",
              "    <tr>\n",
              "      <th>50%</th>\n",
              "      <td>79954.500000</td>\n",
              "      <td>2016.000000</td>\n",
              "      <td>5.000000</td>\n",
              "    </tr>\n",
              "    <tr>\n",
              "      <th>75%</th>\n",
              "      <td>156457.250000</td>\n",
              "      <td>2017.000000</td>\n",
              "      <td>8.000000</td>\n",
              "    </tr>\n",
              "    <tr>\n",
              "      <th>max</th>\n",
              "      <td>168224.000000</td>\n",
              "      <td>2017.000000</td>\n",
              "      <td>12.000000</td>\n",
              "    </tr>\n",
              "  </tbody>\n",
              "</table>\n",
              "</div>"
            ],
            "text/plain": [
              "                  id          year         month\n",
              "count   30000.000000  29983.000000  29983.000000\n",
              "mean    87949.443367   2016.406864      5.396925\n",
              "std     56735.769607      0.540214      3.343044\n",
              "min     17283.000000   2000.000000      1.000000\n",
              "25%     26130.750000   2016.000000      3.000000\n",
              "50%     79954.500000   2016.000000      5.000000\n",
              "75%    156457.250000   2017.000000      8.000000\n",
              "max    168224.000000   2017.000000     12.000000"
            ]
          },
          "metadata": {},
          "execution_count": 46
        }
      ],
      "source": [
        "articles.describe()"
      ]
    },
    {
      "cell_type": "code",
      "execution_count": 47,
      "metadata": {
        "id": "xjoEG6pdctQG",
        "outputId": "62471b92-7525-4c2c-b9f1-6d945311444f",
        "colab": {
          "base_uri": "https://localhost:8080/",
          "height": 192
        }
      },
      "outputs": [
        {
          "output_type": "execute_result",
          "data": {
            "text/html": [
              "<div>\n",
              "<style scoped>\n",
              "    .dataframe tbody tr th:only-of-type {\n",
              "        vertical-align: middle;\n",
              "    }\n",
              "\n",
              "    .dataframe tbody tr th {\n",
              "        vertical-align: top;\n",
              "    }\n",
              "\n",
              "    .dataframe thead th {\n",
              "        text-align: right;\n",
              "    }\n",
              "</style>\n",
              "<table border=\"1\" class=\"dataframe\">\n",
              "  <thead>\n",
              "    <tr style=\"text-align: right;\">\n",
              "      <th></th>\n",
              "      <th>title</th>\n",
              "      <th>publication</th>\n",
              "      <th>author</th>\n",
              "      <th>date</th>\n",
              "      <th>url</th>\n",
              "      <th>content</th>\n",
              "    </tr>\n",
              "  </thead>\n",
              "  <tbody>\n",
              "    <tr>\n",
              "      <th>count</th>\n",
              "      <td>30000</td>\n",
              "      <td>30000</td>\n",
              "      <td>25919</td>\n",
              "      <td>29983</td>\n",
              "      <td>12990</td>\n",
              "      <td>30000</td>\n",
              "    </tr>\n",
              "    <tr>\n",
              "      <th>unique</th>\n",
              "      <td>29933</td>\n",
              "      <td>6</td>\n",
              "      <td>5074</td>\n",
              "      <td>638</td>\n",
              "      <td>12990</td>\n",
              "      <td>29958</td>\n",
              "    </tr>\n",
              "    <tr>\n",
              "      <th>top</th>\n",
              "      <td>The Atlantic’s Week in Culture</td>\n",
              "      <td>New York Times</td>\n",
              "      <td>David A. Graham</td>\n",
              "      <td>2016-08-22</td>\n",
              "      <td>https://web.archive.org/web/20160209000041/htt...</td>\n",
              "      <td>, I want to receive updates from partners and ...</td>\n",
              "    </tr>\n",
              "    <tr>\n",
              "      <th>freq</th>\n",
              "      <td>12</td>\n",
              "      <td>7803</td>\n",
              "      <td>339</td>\n",
              "      <td>203</td>\n",
              "      <td>1</td>\n",
              "      <td>11</td>\n",
              "    </tr>\n",
              "  </tbody>\n",
              "</table>\n",
              "</div>"
            ],
            "text/plain": [
              "                                 title  ...                                            content\n",
              "count                            30000  ...                                              30000\n",
              "unique                           29933  ...                                              29958\n",
              "top     The Atlantic’s Week in Culture  ...  , I want to receive updates from partners and ...\n",
              "freq                                12  ...                                                 11\n",
              "\n",
              "[4 rows x 6 columns]"
            ]
          },
          "metadata": {},
          "execution_count": 47
        }
      ],
      "source": [
        "# we might want to include objects (strings usually) in our basic stats\n",
        "articles.describe(include=\"O\")"
      ]
    },
    {
      "cell_type": "markdown",
      "metadata": {
        "id": "UYwiVK9IctQG"
      },
      "source": [
        "# 📰 Articles by Publications \n",
        "\n",
        "Breitbart leads the pack"
      ]
    },
    {
      "cell_type": "code",
      "execution_count": 48,
      "metadata": {
        "id": "L2m4ofdCctQH",
        "outputId": "d96c28b6-b830-4462-f89e-7b5b02532c6b",
        "colab": {
          "base_uri": "https://localhost:8080/"
        }
      },
      "outputs": [
        {
          "output_type": "execute_result",
          "data": {
            "text/plain": [
              "New York Times    7803\n",
              "Atlantic          7008\n",
              "NPR               6192\n",
              "Guardian          3808\n",
              "Fox News          2992\n",
              "Breitbart         2197\n",
              "Name: publication, dtype: int64"
            ]
          },
          "metadata": {},
          "execution_count": 48
        }
      ],
      "source": [
        "articles['publication'].value_counts() # this gives us counts for particular column"
      ]
    },
    {
      "cell_type": "code",
      "source": [
        "articles.to_excel(\"articles_30k.xlsx\")"
      ],
      "metadata": {
        "id": "gRXAk4FUmk5F"
      },
      "execution_count": 49,
      "outputs": []
    },
    {
      "cell_type": "code",
      "execution_count": 51,
      "metadata": {
        "_kg_hide-input": true,
        "id": "Hs4BK7V-ctQH",
        "outputId": "82733191-0082-421d-a385-f877d5b686df",
        "colab": {
          "base_uri": "https://localhost:8080/",
          "height": 585
        }
      },
      "outputs": [
        {
          "output_type": "display_data",
          "data": {
            "image/png": "[encoded data removed]",
            "text/plain": [
              "<Figure size 864x576 with 1 Axes>"
            ]
          },
          "metadata": {
            "needs_background": "light"
          }
        }
      ],
      "source": [
        "# ax = articles['publication'].value_counts().sort_index().plot(kind='bar', fontsize=14, figsize=(12,10))\n",
        "# ax.set_title('Article Count\\n', fontsize=20)\n",
        "# ax.set_xlabel('Publication', fontsize=18)\n",
        "# ax.set_ylabel('Count', fontsize=18)\n",
        "# plt.tight_layout()\n",
        "# sns.despine();\n",
        "\n",
        "ax = articles['publication'].value_counts().plot(kind='bar', fontsize=14, figsize=(12,8), color=\"green\")\n",
        "ax.set_title('Article Count \\n', fontsize=32)\n",
        "ax.set_xlabel('Publication', fontsize=18)\n",
        "ax.set_ylabel('Count', fontsize=18)\n",
        "plt.tight_layout()\n",
        "plt.savefig(\"publications.png\", format=\"png\")\n",
        "sns.despine();"
      ]
    },
    {
      "cell_type": "markdown",
      "metadata": {
        "id": "8L3Lg2_pctQI"
      },
      "source": [
        "# 🗞️ Length of articles"
      ]
    },
    {
      "cell_type": "code",
      "execution_count": null,
      "metadata": {
        "id": "qlys_WN4ctQI"
      },
      "outputs": [],
      "source": [
        "# preprocessing data"
      ]
    },
    {
      "cell_type": "code",
      "execution_count": 52,
      "metadata": {
        "id": "L1kgGRG0ctQI",
        "outputId": "493469e9-80b2-4737-c89f-c87b214630ab",
        "colab": {
          "base_uri": "https://localhost:8080/",
          "height": 35
        }
      },
      "outputs": [
        {
          "output_type": "execute_result",
          "data": {
            "application/vnd.google.colaboratory.intrinsic+json": {
              "type": "string"
            },
            "text/plain": [
              "'!\"#$%&\\'()*+,-./:;<=>?@[\\\\]^_`{|}~'"
            ]
          },
          "metadata": {},
          "execution_count": 52
        }
      ],
      "source": [
        "string.punctuation"
      ]
    },
    {
      "cell_type": "code",
      "execution_count": null,
      "metadata": {
        "id": "ta4f63HQctQI"
      },
      "outputs": [],
      "source": [
        "# so we want to strip out all punctuation, usually you have no need for punctuation for text analysis\n",
        "# unless you are analysis punctuation :)\n"
      ]
    },
    {
      "cell_type": "code",
      "execution_count": 53,
      "metadata": {
        "id": "YOttD-KictQI"
      },
      "outputs": [],
      "source": [
        "def clean_text(article):\n",
        "    # removes punctuation and converts all the text to lower case\n",
        "    clean1 = re.sub(r'['+string.punctuation + '’—”'+']', \"\", article.lower())\n",
        "    # so stripping all punctuation and making everything lowercase (for some analysis you might want to keep uppercase such as Named Entities)\n",
        "    return re.sub(r'\\W+', ' ', clean1)"
      ]
    },
    {
      "cell_type": "code",
      "source": [
        "txt = \"A quick Brown Bear jumped over a sleeping fox - wait what is this text?\"\n",
        "txtb"
      ],
      "metadata": {
        "id": "6seleFHWpZ9f",
        "outputId": "daa8858b-02d1-4afa-b180-05846d28fb64",
        "colab": {
          "base_uri": "https://localhost:8080/",
          "height": 35
        }
      },
      "execution_count": 54,
      "outputs": [
        {
          "output_type": "execute_result",
          "data": {
            "application/vnd.google.colaboratory.intrinsic+json": {
              "type": "string"
            },
            "text/plain": [
              "'A quick Brown Bear jumped over a sleeping fox - wait what is this text?'"
            ]
          },
          "metadata": {},
          "execution_count": 54
        }
      ]
    },
    {
      "cell_type": "code",
      "source": [
        "clean_text(txt) #testing the function"
      ],
      "metadata": {
        "id": "Qna2oai7pisl",
        "outputId": "b8eb41f7-c8e5-4266-f094-866bdd3e8903",
        "colab": {
          "base_uri": "https://localhost:8080/",
          "height": 35
        }
      },
      "execution_count": 55,
      "outputs": [
        {
          "output_type": "execute_result",
          "data": {
            "application/vnd.google.colaboratory.intrinsic+json": {
              "type": "string"
            },
            "text/plain": [
              "'a quick brown bear jumped over a sleeping fox wait what is this text'"
            ]
          },
          "metadata": {},
          "execution_count": 55
        }
      ]
    },
    {
      "cell_type": "code",
      "execution_count": 56,
      "metadata": {
        "id": "1cw4Rf-OctQJ",
        "outputId": "d5399b6b-f3b9-47b2-ff7d-193648a6d5c7",
        "colab": {
          "base_uri": "https://localhost:8080/",
          "height": 98
        }
      },
      "outputs": [
        {
          "output_type": "execute_result",
          "data": {
            "text/html": [
              "<div>\n",
              "<style scoped>\n",
              "    .dataframe tbody tr th:only-of-type {\n",
              "        vertical-align: middle;\n",
              "    }\n",
              "\n",
              "    .dataframe tbody tr th {\n",
              "        vertical-align: top;\n",
              "    }\n",
              "\n",
              "    .dataframe thead th {\n",
              "        text-align: right;\n",
              "    }\n",
              "</style>\n",
              "<table border=\"1\" class=\"dataframe\">\n",
              "  <thead>\n",
              "    <tr style=\"text-align: right;\">\n",
              "      <th></th>\n",
              "      <th>id</th>\n",
              "      <th>title</th>\n",
              "      <th>publication</th>\n",
              "      <th>author</th>\n",
              "      <th>date</th>\n",
              "      <th>year</th>\n",
              "      <th>month</th>\n",
              "      <th>url</th>\n",
              "      <th>content</th>\n",
              "    </tr>\n",
              "  </thead>\n",
              "  <tbody>\n",
              "    <tr>\n",
              "      <th>0</th>\n",
              "      <td>17283</td>\n",
              "      <td>House Republicans Fret About Winning Their Hea...</td>\n",
              "      <td>New York Times</td>\n",
              "      <td>Carl Hulse</td>\n",
              "      <td>2016-12-31</td>\n",
              "      <td>2016.0</td>\n",
              "      <td>12.0</td>\n",
              "      <td>NaN</td>\n",
              "      <td>WASHINGTON  —   Congressional Republicans have...</td>\n",
              "    </tr>\n",
              "  </tbody>\n",
              "</table>\n",
              "</div>"
            ],
            "text/plain": [
              "      id  ...                                            content\n",
              "0  17283  ...  WASHINGTON  —   Congressional Republicans have...\n",
              "\n",
              "[1 rows x 9 columns]"
            ]
          },
          "metadata": {},
          "execution_count": 56
        }
      ],
      "source": [
        "articles.head(1)"
      ]
    },
    {
      "cell_type": "code",
      "execution_count": 57,
      "metadata": {
        "id": "gvOSbobUctQJ",
        "outputId": "2617ece0-9723-4eae-942d-50abb2585c09",
        "colab": {
          "base_uri": "https://localhost:8080/"
        }
      },
      "outputs": [
        {
          "output_type": "stream",
          "name": "stdout",
          "text": [
            "0    WASHINGTON  —   Congressional Republicans have...\n",
            "Name: content, dtype: object\n"
          ]
        }
      ],
      "source": [
        "print(str(articles.head(1).content))"
      ]
    },
    {
      "cell_type": "code",
      "execution_count": 58,
      "metadata": {
        "id": "4DR5olzdctQJ",
        "outputId": "1419a651-d4b8-4624-926e-49ccbc3158ae",
        "colab": {
          "base_uri": "https://localhost:8080/",
          "height": 141
        }
      },
      "outputs": [
        {
          "output_type": "execute_result",
          "data": {
            "application/vnd.google.colaboratory.intrinsic+json": {
              "type": "string"
            },
            "text/plain": [
              "'WASHINGTON  —   Congressional Republicans have a new fear when it comes to their    health care lawsuit against the Obama administration: They might win. The incoming Trump administration could choose to no longer defend the executive branch against the suit, which challenges the administration’s authority to spend billions of dollars on health insurance subsidies for   and   Americans, handing House Republicans a big victory on    issues. But a sudden loss of the disputed subsidies could conceivably cause the health care program to implode, leaving millions of people without access to health insurance before Republicans have prepared a replacement. That could lead to chaos in the insurance market and spur a political backlash just as Republicans gain full control of the government. To stave off that outcome, Republicans could find themselves in the awkward position of appropriating huge sums to temporarily prop up the Obama health care law, angering conservative voters who have been demanding an end to the law for years. In another twist, Donald J. Trump’s administration, worried about preserving executive branch prerogatives, could choose to fight its Republican allies in the House on some central questions in the dispute. Eager to avoid an ugly political pileup, Republicans on Capitol Hill and the Trump transition team are gaming out how to handle the lawsuit, which, after the election, has been put in limbo until at least late February by the United States Court of Appeals for the District of Columbia Circuit. They are not yet ready to divulge their strategy. “Given that this pending litigation involves the Obama administration and Congress, it would be inappropriate to comment,” said Phillip J. Blando, a spokesman for the Trump transition effort. “Upon taking office, the Trump administration will evaluate this case and all related aspects of the Affordable Care Act. ” In a potentially   decision in 2015, Judge Rosemary M. Collyer ruled that House Republicans had the standing to sue the executive branch over a spending dispute and that the Obama administration had been distributing the health insurance subsidies, in violation of the Constitution, without approval from Congress. The Justice Department, confident that Judge Collyer’s decision would be reversed, quickly appealed, and the subsidies have remained in place during the appeal. In successfully seeking a temporary halt in the proceedings after Mr. Trump won, House Republicans last month told the court that they “and the  ’s transition team currently are discussing potential options for resolution of this matter, to take effect after the  ’s inauguration on Jan. 20, 2017. ” The suspension of the case, House lawyers said, will “provide the   and his future administration time to consider whether to continue prosecuting or to otherwise resolve this appeal. ” Republican leadership officials in the House acknowledge the possibility of “cascading effects” if the   payments, which have totaled an estimated $13 billion, are suddenly stopped. Insurers that receive the subsidies in exchange for paying    costs such as deductibles and   for eligible consumers could race to drop coverage since they would be losing money. Over all, the loss of the subsidies could destabilize the entire program and cause a lack of confidence that leads other insurers to seek a quick exit as well. Anticipating that the Trump administration might not be inclined to mount a vigorous fight against the House Republicans given the  ’s dim view of the health care law, a team of lawyers this month sought to intervene in the case on behalf of two participants in the health care program. In their request, the lawyers predicted that a deal between House Republicans and the new administration to dismiss or settle the case “will produce devastating consequences for the individuals who receive these reductions, as well as for the nation’s health insurance and health care systems generally. ” No matter what happens, House Republicans say, they want to prevail on two overarching concepts: the congressional power of the purse, and the right of Congress to sue the executive branch if it violates the Constitution regarding that spending power. House Republicans contend that Congress never appropriated the money for the subsidies, as required by the Constitution. In the suit, which was initially championed by John A. Boehner, the House speaker at the time, and later in House committee reports, Republicans asserted that the administration, desperate for the funding, had required the Treasury Department to provide it despite widespread internal skepticism that the spending was proper. The White House said that the spending was a permanent part of the law passed in 2010, and that no annual appropriation was required  —   even though the administration initially sought one. Just as important to House Republicans, Judge Collyer found that Congress had the standing to sue the White House on this issue  —   a ruling that many legal experts said was flawed  —   and they want that precedent to be set to restore congressional leverage over the executive branch. But on spending power and standing, the Trump administration may come under pressure from advocates of presidential authority to fight the House no matter their shared views on health care, since those precedents could have broad repercussions. It is a complicated set of dynamics illustrating how a quick legal victory for the House in the Trump era might come with costs that Republicans never anticipated when they took on the Obama White House.'"
            ]
          },
          "metadata": {},
          "execution_count": 58
        }
      ],
      "source": [
        "articles[\"content\"][0]"
      ]
    },
    {
      "cell_type": "code",
      "execution_count": 59,
      "metadata": {
        "id": "H5LOnEOhctQJ",
        "outputId": "3a1ab5ae-3613-4609-933a-d757a0c700c8",
        "colab": {
          "base_uri": "https://localhost:8080/",
          "height": 141
        }
      },
      "outputs": [
        {
          "output_type": "execute_result",
          "data": {
            "application/vnd.google.colaboratory.intrinsic+json": {
              "type": "string"
            },
            "text/plain": [
              "'washington congressional republicans have a new fear when it comes to their health care lawsuit against the obama administration they might win the incoming trump administration could choose to no longer defend the executive branch against the suit which challenges the administrations authority to spend billions of dollars on health insurance subsidies for and americans handing house republicans a big victory on issues but a sudden loss of the disputed subsidies could conceivably cause the health care program to implode leaving millions of people without access to health insurance before republicans have prepared a replacement that could lead to chaos in the insurance market and spur a political backlash just as republicans gain full control of the government to stave off that outcome republicans could find themselves in the awkward position of appropriating huge sums to temporarily prop up the obama health care law angering conservative voters who have been demanding an end to the law for years in another twist donald j trumps administration worried about preserving executive branch prerogatives could choose to fight its republican allies in the house on some central questions in the dispute eager to avoid an ugly political pileup republicans on capitol hill and the trump transition team are gaming out how to handle the lawsuit which after the election has been put in limbo until at least late february by the united states court of appeals for the district of columbia circuit they are not yet ready to divulge their strategy given that this pending litigation involves the obama administration and congress it would be inappropriate to comment said phillip j blando a spokesman for the trump transition effort upon taking office the trump administration will evaluate this case and all related aspects of the affordable care act in a potentially decision in 2015 judge rosemary m collyer ruled that house republicans had the standing to sue the executive branch over a spending dispute and that the obama administration had been distributing the health insurance subsidies in violation of the constitution without approval from congress the justice department confident that judge collyers decision would be reversed quickly appealed and the subsidies have remained in place during the appeal in successfully seeking a temporary halt in the proceedings after mr trump won house republicans last month told the court that they and the s transition team currently are discussing potential options for resolution of this matter to take effect after the s inauguration on jan 20 2017 the suspension of the case house lawyers said will provide the and his future administration time to consider whether to continue prosecuting or to otherwise resolve this appeal republican leadership officials in the house acknowledge the possibility of cascading effects if the payments which have totaled an estimated 13 billion are suddenly stopped insurers that receive the subsidies in exchange for paying costs such as deductibles and for eligible consumers could race to drop coverage since they would be losing money over all the loss of the subsidies could destabilize the entire program and cause a lack of confidence that leads other insurers to seek a quick exit as well anticipating that the trump administration might not be inclined to mount a vigorous fight against the house republicans given the s dim view of the health care law a team of lawyers this month sought to intervene in the case on behalf of two participants in the health care program in their request the lawyers predicted that a deal between house republicans and the new administration to dismiss or settle the case will produce devastating consequences for the individuals who receive these reductions as well as for the nations health insurance and health care systems generally no matter what happens house republicans say they want to prevail on two overarching concepts the congressional power of the purse and the right of congress to sue the executive branch if it violates the constitution regarding that spending power house republicans contend that congress never appropriated the money for the subsidies as required by the constitution in the suit which was initially championed by john a boehner the house speaker at the time and later in house committee reports republicans asserted that the administration desperate for the funding had required the treasury department to provide it despite widespread internal skepticism that the spending was proper the white house said that the spending was a permanent part of the law passed in 2010 and that no annual appropriation was required even though the administration initially sought one just as important to house republicans judge collyer found that congress had the standing to sue the white house on this issue a ruling that many legal experts said was flawed and they want that precedent to be set to restore congressional leverage over the executive branch but on spending power and standing the trump administration may come under pressure from advocates of presidential authority to fight the house no matter their shared views on health care since those precedents could have broad repercussions it is a complicated set of dynamics illustrating how a quick legal victory for the house in the trump era might come with costs that republicans never anticipated when they took on the obama white house'"
            ]
          },
          "metadata": {},
          "execution_count": 59
        }
      ],
      "source": [
        "clean_text(articles[\"content\"][0])"
      ]
    },
    {
      "cell_type": "code",
      "source": [
        "# our goal is to get rid of empty articles\n",
        "# empty articles are useless for our analysis\n",
        "\n",
        "# add a new column called tokenized using content and for each content row using clean_text function\n",
        "articles['tokenized'] = articles['content'].map(lambda x: clean_text(x))\n",
        "articles.head()"
      ],
      "metadata": {
        "id": "bTejZWJiqGGM",
        "outputId": "cdeb4e3f-0485-4a06-911f-fb35a66c5bdb",
        "colab": {
          "base_uri": "https://localhost:8080/",
          "height": 310
        }
      },
      "execution_count": 60,
      "outputs": [
        {
          "output_type": "execute_result",
          "data": {
            "text/html": [
              "<div>\n",
              "<style scoped>\n",
              "    .dataframe tbody tr th:only-of-type {\n",
              "        vertical-align: middle;\n",
              "    }\n",
              "\n",
              "    .dataframe tbody tr th {\n",
              "        vertical-align: top;\n",
              "    }\n",
              "\n",
              "    .dataframe thead th {\n",
              "        text-align: right;\n",
              "    }\n",
              "</style>\n",
              "<table border=\"1\" class=\"dataframe\">\n",
              "  <thead>\n",
              "    <tr style=\"text-align: right;\">\n",
              "      <th></th>\n",
              "      <th>id</th>\n",
              "      <th>title</th>\n",
              "      <th>publication</th>\n",
              "      <th>author</th>\n",
              "      <th>date</th>\n",
              "      <th>year</th>\n",
              "      <th>month</th>\n",
              "      <th>url</th>\n",
              "      <th>content</th>\n",
              "      <th>tokenized</th>\n",
              "    </tr>\n",
              "  </thead>\n",
              "  <tbody>\n",
              "    <tr>\n",
              "      <th>0</th>\n",
              "      <td>17283</td>\n",
              "      <td>House Republicans Fret About Winning Their Hea...</td>\n",
              "      <td>New York Times</td>\n",
              "      <td>Carl Hulse</td>\n",
              "      <td>2016-12-31</td>\n",
              "      <td>2016.0</td>\n",
              "      <td>12.0</td>\n",
              "      <td>NaN</td>\n",
              "      <td>WASHINGTON  —   Congressional Republicans have...</td>\n",
              "      <td>washington congressional republicans have a ne...</td>\n",
              "    </tr>\n",
              "    <tr>\n",
              "      <th>1</th>\n",
              "      <td>17284</td>\n",
              "      <td>Rift Between Officers and Residents as Killing...</td>\n",
              "      <td>New York Times</td>\n",
              "      <td>Benjamin Mueller and Al Baker</td>\n",
              "      <td>2017-06-19</td>\n",
              "      <td>2017.0</td>\n",
              "      <td>6.0</td>\n",
              "      <td>NaN</td>\n",
              "      <td>After the bullet shells get counted, the blood...</td>\n",
              "      <td>after the bullet shells get counted the blood ...</td>\n",
              "    </tr>\n",
              "    <tr>\n",
              "      <th>2</th>\n",
              "      <td>17285</td>\n",
              "      <td>Tyrus Wong, ‘Bambi’ Artist Thwarted by Racial ...</td>\n",
              "      <td>New York Times</td>\n",
              "      <td>Margalit Fox</td>\n",
              "      <td>2017-01-06</td>\n",
              "      <td>2017.0</td>\n",
              "      <td>1.0</td>\n",
              "      <td>NaN</td>\n",
              "      <td>When Walt Disney’s “Bambi” opened in 1942, cri...</td>\n",
              "      <td>when walt disneys bambi opened in 1942 critics...</td>\n",
              "    </tr>\n",
              "    <tr>\n",
              "      <th>3</th>\n",
              "      <td>17286</td>\n",
              "      <td>Among Deaths in 2016, a Heavy Toll in Pop Musi...</td>\n",
              "      <td>New York Times</td>\n",
              "      <td>William McDonald</td>\n",
              "      <td>2017-04-10</td>\n",
              "      <td>2017.0</td>\n",
              "      <td>4.0</td>\n",
              "      <td>NaN</td>\n",
              "      <td>Death may be the great equalizer, but it isn’t...</td>\n",
              "      <td>death may be the great equalizer but it isnt n...</td>\n",
              "    </tr>\n",
              "    <tr>\n",
              "      <th>4</th>\n",
              "      <td>17287</td>\n",
              "      <td>Kim Jong-un Says North Korea Is Preparing to T...</td>\n",
              "      <td>New York Times</td>\n",
              "      <td>Choe Sang-Hun</td>\n",
              "      <td>2017-01-02</td>\n",
              "      <td>2017.0</td>\n",
              "      <td>1.0</td>\n",
              "      <td>NaN</td>\n",
              "      <td>SEOUL, South Korea  —   North Korea’s leader, ...</td>\n",
              "      <td>seoul south korea north koreas leader kim said...</td>\n",
              "    </tr>\n",
              "  </tbody>\n",
              "</table>\n",
              "</div>"
            ],
            "text/plain": [
              "      id  ...                                          tokenized\n",
              "0  17283  ...  washington congressional republicans have a ne...\n",
              "1  17284  ...  after the bullet shells get counted the blood ...\n",
              "2  17285  ...  when walt disneys bambi opened in 1942 critics...\n",
              "3  17286  ...  death may be the great equalizer but it isnt n...\n",
              "4  17287  ...  seoul south korea north koreas leader kim said...\n",
              "\n",
              "[5 rows x 10 columns]"
            ]
          },
          "metadata": {},
          "execution_count": 60
        }
      ]
    },
    {
      "cell_type": "code",
      "source": [
        "# add a new column with word count for each article\n",
        "articles['num_wds'] = articles['tokenized'].apply(lambda x: len(x.split()))  # by default split splits by whitespace\n",
        "articles.head()"
      ],
      "metadata": {
        "id": "Xo0a2RZJqTif",
        "outputId": "191557a4-6f1f-412a-e6a6-91cce993a0f9",
        "colab": {
          "base_uri": "https://localhost:8080/",
          "height": 362
        }
      },
      "execution_count": 61,
      "outputs": [
        {
          "output_type": "execute_result",
          "data": {
            "text/html": [
              "<div>\n",
              "<style scoped>\n",
              "    .dataframe tbody tr th:only-of-type {\n",
              "        vertical-align: middle;\n",
              "    }\n",
              "\n",
              "    .dataframe tbody tr th {\n",
              "        vertical-align: top;\n",
              "    }\n",
              "\n",
              "    .dataframe thead th {\n",
              "        text-align: right;\n",
              "    }\n",
              "</style>\n",
              "<table border=\"1\" class=\"dataframe\">\n",
              "  <thead>\n",
              "    <tr style=\"text-align: right;\">\n",
              "      <th></th>\n",
              "      <th>id</th>\n",
              "      <th>title</th>\n",
              "      <th>publication</th>\n",
              "      <th>author</th>\n",
              "      <th>date</th>\n",
              "      <th>year</th>\n",
              "      <th>month</th>\n",
              "      <th>url</th>\n",
              "      <th>content</th>\n",
              "      <th>tokenized</th>\n",
              "      <th>num_wds</th>\n",
              "    </tr>\n",
              "  </thead>\n",
              "  <tbody>\n",
              "    <tr>\n",
              "      <th>0</th>\n",
              "      <td>17283</td>\n",
              "      <td>House Republicans Fret About Winning Their Hea...</td>\n",
              "      <td>New York Times</td>\n",
              "      <td>Carl Hulse</td>\n",
              "      <td>2016-12-31</td>\n",
              "      <td>2016.0</td>\n",
              "      <td>12.0</td>\n",
              "      <td>NaN</td>\n",
              "      <td>WASHINGTON  —   Congressional Republicans have...</td>\n",
              "      <td>washington congressional republicans have a ne...</td>\n",
              "      <td>876</td>\n",
              "    </tr>\n",
              "    <tr>\n",
              "      <th>1</th>\n",
              "      <td>17284</td>\n",
              "      <td>Rift Between Officers and Residents as Killing...</td>\n",
              "      <td>New York Times</td>\n",
              "      <td>Benjamin Mueller and Al Baker</td>\n",
              "      <td>2017-06-19</td>\n",
              "      <td>2017.0</td>\n",
              "      <td>6.0</td>\n",
              "      <td>NaN</td>\n",
              "      <td>After the bullet shells get counted, the blood...</td>\n",
              "      <td>after the bullet shells get counted the blood ...</td>\n",
              "      <td>4743</td>\n",
              "    </tr>\n",
              "    <tr>\n",
              "      <th>2</th>\n",
              "      <td>17285</td>\n",
              "      <td>Tyrus Wong, ‘Bambi’ Artist Thwarted by Racial ...</td>\n",
              "      <td>New York Times</td>\n",
              "      <td>Margalit Fox</td>\n",
              "      <td>2017-01-06</td>\n",
              "      <td>2017.0</td>\n",
              "      <td>1.0</td>\n",
              "      <td>NaN</td>\n",
              "      <td>When Walt Disney’s “Bambi” opened in 1942, cri...</td>\n",
              "      <td>when walt disneys bambi opened in 1942 critics...</td>\n",
              "      <td>2350</td>\n",
              "    </tr>\n",
              "    <tr>\n",
              "      <th>3</th>\n",
              "      <td>17286</td>\n",
              "      <td>Among Deaths in 2016, a Heavy Toll in Pop Musi...</td>\n",
              "      <td>New York Times</td>\n",
              "      <td>William McDonald</td>\n",
              "      <td>2017-04-10</td>\n",
              "      <td>2017.0</td>\n",
              "      <td>4.0</td>\n",
              "      <td>NaN</td>\n",
              "      <td>Death may be the great equalizer, but it isn’t...</td>\n",
              "      <td>death may be the great equalizer but it isnt n...</td>\n",
              "      <td>2104</td>\n",
              "    </tr>\n",
              "    <tr>\n",
              "      <th>4</th>\n",
              "      <td>17287</td>\n",
              "      <td>Kim Jong-un Says North Korea Is Preparing to T...</td>\n",
              "      <td>New York Times</td>\n",
              "      <td>Choe Sang-Hun</td>\n",
              "      <td>2017-01-02</td>\n",
              "      <td>2017.0</td>\n",
              "      <td>1.0</td>\n",
              "      <td>NaN</td>\n",
              "      <td>SEOUL, South Korea  —   North Korea’s leader, ...</td>\n",
              "      <td>seoul south korea north koreas leader kim said...</td>\n",
              "      <td>690</td>\n",
              "    </tr>\n",
              "  </tbody>\n",
              "</table>\n",
              "</div>"
            ],
            "text/plain": [
              "      id  ... num_wds\n",
              "0  17283  ...     876\n",
              "1  17284  ...    4743\n",
              "2  17285  ...    2350\n",
              "3  17286  ...    2104\n",
              "4  17287  ...     690\n",
              "\n",
              "[5 rows x 11 columns]"
            ]
          },
          "metadata": {},
          "execution_count": 61
        }
      ]
    },
    {
      "cell_type": "code",
      "source": [
        "articles.describe()"
      ],
      "metadata": {
        "id": "TwDmhwrVq-qP",
        "outputId": "206e8379-8070-479e-a90a-04b7838b6cb0",
        "colab": {
          "base_uri": "https://localhost:8080/",
          "height": 300
        }
      },
      "execution_count": 62,
      "outputs": [
        {
          "output_type": "execute_result",
          "data": {
            "text/html": [
              "<div>\n",
              "<style scoped>\n",
              "    .dataframe tbody tr th:only-of-type {\n",
              "        vertical-align: middle;\n",
              "    }\n",
              "\n",
              "    .dataframe tbody tr th {\n",
              "        vertical-align: top;\n",
              "    }\n",
              "\n",
              "    .dataframe thead th {\n",
              "        text-align: right;\n",
              "    }\n",
              "</style>\n",
              "<table border=\"1\" class=\"dataframe\">\n",
              "  <thead>\n",
              "    <tr style=\"text-align: right;\">\n",
              "      <th></th>\n",
              "      <th>id</th>\n",
              "      <th>year</th>\n",
              "      <th>month</th>\n",
              "      <th>num_wds</th>\n",
              "    </tr>\n",
              "  </thead>\n",
              "  <tbody>\n",
              "    <tr>\n",
              "      <th>count</th>\n",
              "      <td>30000.000000</td>\n",
              "      <td>29983.000000</td>\n",
              "      <td>29983.000000</td>\n",
              "      <td>30000.000000</td>\n",
              "    </tr>\n",
              "    <tr>\n",
              "      <th>mean</th>\n",
              "      <td>87949.443367</td>\n",
              "      <td>2016.406864</td>\n",
              "      <td>5.396925</td>\n",
              "      <td>961.798800</td>\n",
              "    </tr>\n",
              "    <tr>\n",
              "      <th>std</th>\n",
              "      <td>56735.769607</td>\n",
              "      <td>0.540214</td>\n",
              "      <td>3.343044</td>\n",
              "      <td>1020.243619</td>\n",
              "    </tr>\n",
              "    <tr>\n",
              "      <th>min</th>\n",
              "      <td>17283.000000</td>\n",
              "      <td>2000.000000</td>\n",
              "      <td>1.000000</td>\n",
              "      <td>0.000000</td>\n",
              "    </tr>\n",
              "    <tr>\n",
              "      <th>25%</th>\n",
              "      <td>26130.750000</td>\n",
              "      <td>2016.000000</td>\n",
              "      <td>3.000000</td>\n",
              "      <td>495.000000</td>\n",
              "    </tr>\n",
              "    <tr>\n",
              "      <th>50%</th>\n",
              "      <td>79954.500000</td>\n",
              "      <td>2016.000000</td>\n",
              "      <td>5.000000</td>\n",
              "      <td>789.000000</td>\n",
              "    </tr>\n",
              "    <tr>\n",
              "      <th>75%</th>\n",
              "      <td>156457.250000</td>\n",
              "      <td>2017.000000</td>\n",
              "      <td>8.000000</td>\n",
              "      <td>1153.000000</td>\n",
              "    </tr>\n",
              "    <tr>\n",
              "      <th>max</th>\n",
              "      <td>168224.000000</td>\n",
              "      <td>2017.000000</td>\n",
              "      <td>12.000000</td>\n",
              "      <td>28836.000000</td>\n",
              "    </tr>\n",
              "  </tbody>\n",
              "</table>\n",
              "</div>"
            ],
            "text/plain": [
              "                  id          year         month       num_wds\n",
              "count   30000.000000  29983.000000  29983.000000  30000.000000\n",
              "mean    87949.443367   2016.406864      5.396925    961.798800\n",
              "std     56735.769607      0.540214      3.343044   1020.243619\n",
              "min     17283.000000   2000.000000      1.000000      0.000000\n",
              "25%     26130.750000   2016.000000      3.000000    495.000000\n",
              "50%     79954.500000   2016.000000      5.000000    789.000000\n",
              "75%    156457.250000   2017.000000      8.000000   1153.000000\n",
              "max    168224.000000   2017.000000     12.000000  28836.000000"
            ]
          },
          "metadata": {},
          "execution_count": 62
        }
      ]
    },
    {
      "cell_type": "code",
      "execution_count": 63,
      "metadata": {
        "_kg_hide-input": true,
        "id": "FoiTbh_gctQK",
        "outputId": "67029332-c017-4474-e241-ed22c1146bcf",
        "colab": {
          "base_uri": "https://localhost:8080/"
        }
      },
      "outputs": [
        {
          "output_type": "stream",
          "name": "stdout",
          "text": [
            "Average number of words in an article: 961\n",
            "Longest article: 28836, Shortest: 0\n",
            "\n",
            "Removing 2 articles with 0 words.\n"
          ]
        }
      ],
      "source": [
        "\n",
        "# articles['tokenized'] = articles['content'].map(lambda x: clean_text(x))\n",
        "# articles['num_wds'] = articles['tokenized'].apply(lambda x: len(x.split()))\n",
        "\n",
        "print(f\"Average number of words in an article: {int(articles['num_wds'].mean())}\")\n",
        "print(f\"Longest article: {int(articles['num_wds'].max())}, Shortest: {int(articles['num_wds'].min())}\")\n",
        "\n",
        "print(f\"\\nRemoving {len(articles[articles['num_wds']==0])} articles with {int(articles['num_wds'].min())} words.\")\n",
        "articles = articles[articles['num_wds']>0] # we are saying here keep only articles which have num_wds column value over 0"
      ]
    },
    {
      "cell_type": "code",
      "execution_count": null,
      "metadata": {
        "id": "4ash904ZctQK"
      },
      "outputs": [],
      "source": [
        "articles.to_csv(\"../kaggle/articles_clean.csv\") #TODO look into compressing into zip, since 1.2GB takes a while"
      ]
    },
    {
      "cell_type": "code",
      "execution_count": 64,
      "metadata": {
        "id": "JHiyhbt4ctQK",
        "outputId": "a60cdf04-62aa-4fbb-f53a-b0ba1778db48",
        "colab": {
          "base_uri": "https://localhost:8080/",
          "height": 608
        }
      },
      "outputs": [
        {
          "output_type": "execute_result",
          "data": {
            "text/html": [
              "<div>\n",
              "<style scoped>\n",
              "    .dataframe tbody tr th:only-of-type {\n",
              "        vertical-align: middle;\n",
              "    }\n",
              "\n",
              "    .dataframe tbody tr th {\n",
              "        vertical-align: top;\n",
              "    }\n",
              "\n",
              "    .dataframe thead th {\n",
              "        text-align: right;\n",
              "    }\n",
              "</style>\n",
              "<table border=\"1\" class=\"dataframe\">\n",
              "  <thead>\n",
              "    <tr style=\"text-align: right;\">\n",
              "      <th></th>\n",
              "      <th>id</th>\n",
              "      <th>title</th>\n",
              "      <th>publication</th>\n",
              "      <th>author</th>\n",
              "      <th>date</th>\n",
              "      <th>year</th>\n",
              "      <th>month</th>\n",
              "      <th>url</th>\n",
              "      <th>content</th>\n",
              "      <th>tokenized</th>\n",
              "      <th>num_wds</th>\n",
              "    </tr>\n",
              "  </thead>\n",
              "  <tbody>\n",
              "    <tr>\n",
              "      <th>6558</th>\n",
              "      <td>24879</td>\n",
              "      <td>Rift Between Labor and Environmentalists Threa...</td>\n",
              "      <td>New York Times</td>\n",
              "      <td>Jonathan Martin</td>\n",
              "      <td>2016-05-17</td>\n",
              "      <td>2016.0</td>\n",
              "      <td>5.0</td>\n",
              "      <td>NaN</td>\n",
              "      <td>WASHINGTON  —   Two of the Democratic Party’s ...</td>\n",
              "      <td>washington two of the democratic partys most l...</td>\n",
              "      <td>840</td>\n",
              "    </tr>\n",
              "    <tr>\n",
              "      <th>7266</th>\n",
              "      <td>25810</td>\n",
              "      <td>Cockpit Recordings Retrieved in EgyptAir Fligh...</td>\n",
              "      <td>New York Times</td>\n",
              "      <td>Nicola Clark</td>\n",
              "      <td>2017-02-27</td>\n",
              "      <td>2017.0</td>\n",
              "      <td>2.0</td>\n",
              "      <td>NaN</td>\n",
              "      <td>PARIS  —   French technicians have successfull...</td>\n",
              "      <td>paris french technicians have successfully dow...</td>\n",
              "      <td>448</td>\n",
              "    </tr>\n",
              "    <tr>\n",
              "      <th>109931</th>\n",
              "      <td>163982</td>\n",
              "      <td>Review: Willie Nelson, ’God’s Problem Child’</td>\n",
              "      <td>NPR</td>\n",
              "      <td>Jewly Hight</td>\n",
              "      <td>2017-04-20</td>\n",
              "      <td>2017.0</td>\n",
              "      <td>4.0</td>\n",
              "      <td>http://www.npr.org/2017/04/20/524393534/first-...</td>\n",
              "      <td>Note: NPR’s First Listen audio comes down afte...</td>\n",
              "      <td>note nprs first listen audio comes down after ...</td>\n",
              "      <td>549</td>\n",
              "    </tr>\n",
              "    <tr>\n",
              "      <th>107075</th>\n",
              "      <td>158032</td>\n",
              "      <td>The Freddie Gray decision signals black people...</td>\n",
              "      <td>Guardian</td>\n",
              "      <td>Brittany Packnett</td>\n",
              "      <td>2016-07-27</td>\n",
              "      <td>2016.0</td>\n",
              "      <td>7.0</td>\n",
              "      <td>https://www.theguardian.com/commentisfree/2016...</td>\n",
              "      <td>Last night, I stood in a   arena as a multirac...</td>\n",
              "      <td>last night i stood in a arena as a multiracial...</td>\n",
              "      <td>592</td>\n",
              "    </tr>\n",
              "    <tr>\n",
              "      <th>55165</th>\n",
              "      <td>75869</td>\n",
              "      <td>Has Trump Kept His Campaign Promises?</td>\n",
              "      <td>Atlantic</td>\n",
              "      <td>David A. Graham</td>\n",
              "      <td>2017-04-28</td>\n",
              "      <td>2017.0</td>\n",
              "      <td>4.0</td>\n",
              "      <td>NaN</td>\n",
              "      <td>Among Trump’s most central promises, his borde...</td>\n",
              "      <td>among trumps most central promises his border ...</td>\n",
              "      <td>6137</td>\n",
              "    </tr>\n",
              "  </tbody>\n",
              "</table>\n",
              "</div>"
            ],
            "text/plain": [
              "            id  ... num_wds\n",
              "6558     24879  ...     840\n",
              "7266     25810  ...     448\n",
              "109931  163982  ...     549\n",
              "107075  158032  ...     592\n",
              "55165    75869  ...    6137\n",
              "\n",
              "[5 rows x 11 columns]"
            ]
          },
          "metadata": {},
          "execution_count": 64
        }
      ],
      "source": [
        "articles.sample(5)"
      ]
    },
    {
      "cell_type": "code",
      "execution_count": 65,
      "metadata": {
        "_kg_hide-input": true,
        "id": "QJkpg24ActQK",
        "outputId": "d502f1b7-4d8b-4c2c-deae-95f0764c19e8",
        "colab": {
          "base_uri": "https://localhost:8080/",
          "height": 441
        }
      },
      "outputs": [
        {
          "output_type": "display_data",
          "data": {
            "image/png": "[encoded data removed]",
            "text/plain": [
              "<Figure size 864x432 with 1 Axes>"
            ]
          },
          "metadata": {
            "needs_background": "light"
          }
        }
      ],
      "source": [
        "ax=articles['num_wds'].plot(kind='hist', bins=50, fontsize=14, figsize=(12,6), color=\"gray\")\n",
        "ax.set_title('Article Length in Words\\n', fontsize=20)\n",
        "ax.set_ylabel('Frequency', fontsize=18)\n",
        "ax.set_xlabel('Number of Words', fontsize=18)\n",
        "ax.set_yscale(\"log\") # we are using Log scale here\n",
        "plt.tight_layout()\n",
        "sns.despine();"
      ]
    },
    {
      "cell_type": "code",
      "execution_count": 66,
      "metadata": {
        "id": "T2ngyRO2ctQK",
        "outputId": "0abcd4f4-72bb-4452-ef16-7c8c0056a317",
        "colab": {
          "base_uri": "https://localhost:8080/"
        }
      },
      "outputs": [
        {
          "output_type": "execute_result",
          "data": {
            "text/plain": [
              "(3, 11)"
            ]
          },
          "metadata": {},
          "execution_count": 66
        }
      ],
      "source": [
        "long_reads = articles[articles.num_wds > 25_000]\n",
        "long_reads.shape"
      ]
    },
    {
      "cell_type": "code",
      "execution_count": 67,
      "metadata": {
        "id": "9C6sdU1VctQL",
        "outputId": "c7e2502a-d2c4-4ed3-895f-012d09ba3296",
        "colab": {
          "base_uri": "https://localhost:8080/"
        }
      },
      "outputs": [
        {
          "output_type": "execute_result",
          "data": {
            "text/plain": [
              "Index(['id', 'title', 'publication', 'author', 'date', 'year', 'month', 'url',\n",
              "       'content', 'tokenized', 'num_wds'],\n",
              "      dtype='object')"
            ]
          },
          "metadata": {},
          "execution_count": 67
        }
      ],
      "source": [
        "long_reads.columns"
      ]
    },
    {
      "cell_type": "code",
      "execution_count": 68,
      "metadata": {
        "id": "nu419bGDctQL",
        "outputId": "3aa0a058-c0fd-466e-c91f-c8acd7661561",
        "colab": {
          "base_uri": "https://localhost:8080/"
        }
      },
      "outputs": [
        {
          "output_type": "execute_result",
          "data": {
            "text/plain": [
              "57082    Atlantic readers from across the political spe...\n",
              "57087       Atlantic readers from across the political ...\n",
              "57099    Atlantic readers from across the political spe...\n",
              "Name: content, dtype: object"
            ]
          },
          "metadata": {},
          "execution_count": 68
        }
      ],
      "source": [
        "long_reads[\"content\"]"
      ]
    },
    {
      "cell_type": "code",
      "source": [
        "long_reads.head(1)"
      ],
      "metadata": {
        "id": "8CNymQalsOqy",
        "outputId": "cd2f4b17-d5a0-4f60-ac85-17fd7e90585f",
        "colab": {
          "base_uri": "https://localhost:8080/",
          "height": 98
        }
      },
      "execution_count": 75,
      "outputs": [
        {
          "output_type": "execute_result",
          "data": {
            "text/html": [
              "<div>\n",
              "<style scoped>\n",
              "    .dataframe tbody tr th:only-of-type {\n",
              "        vertical-align: middle;\n",
              "    }\n",
              "\n",
              "    .dataframe tbody tr th {\n",
              "        vertical-align: top;\n",
              "    }\n",
              "\n",
              "    .dataframe thead th {\n",
              "        text-align: right;\n",
              "    }\n",
              "</style>\n",
              "<table border=\"1\" class=\"dataframe\">\n",
              "  <thead>\n",
              "    <tr style=\"text-align: right;\">\n",
              "      <th></th>\n",
              "      <th>id</th>\n",
              "      <th>title</th>\n",
              "      <th>publication</th>\n",
              "      <th>author</th>\n",
              "      <th>date</th>\n",
              "      <th>year</th>\n",
              "      <th>month</th>\n",
              "      <th>url</th>\n",
              "      <th>content</th>\n",
              "      <th>tokenized</th>\n",
              "      <th>num_wds</th>\n",
              "    </tr>\n",
              "  </thead>\n",
              "  <tbody>\n",
              "    <tr>\n",
              "      <th>57082</th>\n",
              "      <td>78406</td>\n",
              "      <td>\\nWill the Liberal Bubble Burst? Your Thoughts\\n</td>\n",
              "      <td>Atlantic</td>\n",
              "      <td>Chris Bodenner</td>\n",
              "      <td>2016-11-21</td>\n",
              "      <td>2016.0</td>\n",
              "      <td>11.0</td>\n",
              "      <td>NaN</td>\n",
              "      <td>Atlantic readers from across the political spe...</td>\n",
              "      <td>atlantic readers from across the political spe...</td>\n",
              "      <td>28836</td>\n",
              "    </tr>\n",
              "  </tbody>\n",
              "</table>\n",
              "</div>"
            ],
            "text/plain": [
              "          id  ... num_wds\n",
              "57082  78406  ...   28836\n",
              "\n",
              "[1 rows x 11 columns]"
            ]
          },
          "metadata": {},
          "execution_count": 75
        }
      ]
    },
    {
      "cell_type": "code",
      "source": [
        "long_reads.loc[57082].content"
      ],
      "metadata": {
        "id": "tyhadNHKswF-",
        "outputId": "73a41fce-b4bd-4aa1-dc5f-bd7aa6a42c14",
        "colab": {
          "base_uri": "https://localhost:8080/",
          "height": 141
        }
      },
      "execution_count": 76,
      "outputs": [
        {
          "output_type": "execute_result",
          "data": {
            "application/vnd.google.colaboratory.intrinsic+json": {
              "type": "string"
            },
            "text/plain": [
              "'Atlantic readers from across the political spectrum discuss the results of the U. S. presidential election and what it means for the country. (The Atlantic’s overall stance on Donald Trump remains firm.) To join in, especially if you’re a Trump voter, please send us a note: hello@theatlantic. com. ’Saturday Night Live’ punctures the liberal bubble https:  .  pic. twitter.  My colleague Andrew McGill wrote a punchy piece over the weekend called “The U. S. Media’s Real Elitism Problem. ” An excerpt: In the aftermath [of Trump’s victory] many of the immediate   blamed a coastal bubble: Too many journalists had grown nearsighted in urban Democratic enclaves, the reasoning went, blinding them to what was taking place in Middle America. If more reporters actually spent time in   country, instead of jetting through for a rally, they’d understand why Donald Trump won voters over. [. ..] [T]here’s little question the journalistic class has diverged sharply from the country it covers. In 1960, nearly a third of reporters and editors had never attended a single year of college in 2015, only 8. 3 percent could say the same, according to Census figures extracted with the help of the University of Minnesota’s IPUMS project. That year, 46 percent of adults 25 and older nationwide had never attended a university. Andrew also made a great little graph showing how our fellow members of the media have congregated on the coasts: For a reader debate on the media’s role in this election, see “A Middle Finger to the Mainstream Media,” sparked by Lindsey, a   Republican. Brett responds: I’m a    teacher who grew up and attended college in Oklahoma, moved to Alaska for a few years after I got married, then moved to NM, where I currently reside. This narrative about how poorly Trump and his voters are treated by the media is   embarrassing. We have here a group of people that looked at the fact that every adult in the room was telling them that this was a terrible mistake and took that as a sign of their virtue. And it wasn’t just the usual suspects in the   liberal media conservative newspapers broke with hundreds of years of precedent to point out that —  despite their concerns with Clinton —  this was an election unlike any other and that it would be unwise to elect a temperamentally buffoonish man to the White House. And it didn’t make one iota of difference. Now, when everyone recoils in horror at the terrible damage that has been done, that is further evidence of the Trump voter’s righteousness? Another reader, Chris, thinks we’re missing a big point about the media’s role in this election: As preface, a brief synopsis of my background: I’m a   white, straight, Southern male. I was born in South Carolina, about 30 minutes from where they flew the Confederate flag, and I’ve there most of my life. I’m college educated, married, and   in Atlanta now. I’ve worked extensively in Republican politics, including for Congressman Joe Wilson (of You Lie! fame) and in various state and federal elections. I voted for Bush, McCain, Romney and in this election, Hillary Clinton. I’m fiscally conservative and socially liberal. Before this election I’d have called myself a Republican, but now I guess I’m a   Libertarian or maybe a   Democrat —  if either of those things are things.   Lindsey echoes much of what I see daily from friends, family, and acquaintances on my Facebook feed. Her point raises one I’d like to make, and that I don’t believe has been explicitly made on your site. “Mainstream media” is an oversimplified attempt to describe dozens of entities ranging the ideological spectrum. There are plenty of traditionally liberal    obviously, and there are a litany of conservative outlets across all platforms as well but they’re no more a collective than Glenn Beck and Rush Limbaugh or NPR are collectively talk radio. If there’s criticism to be levied at the mainstream media, it’s not for any specific political bias. Rather, such criticism should stem from the industry’s willingness to devolve, over the last decade or two, from information providers into infotainment peddlers. CNN and Fox and MSNBC keep a   stream of talking heads on their networks, and they do it to drive conflict and drama, and they do that to drive ratings and subsequently advertising revenue. As the amount of legitimate news that’s available to report is less than the airspace they have to sell, they have filled the gaps with commentary, opinion, and (in a lot of cases) drivel, and then called that news.   That commentary has become   on both sides, because in order to keep the eyes glued to the TV, you’re forced to forever ramp up the rhetoric, to call everything a crisis, to proclaim whatever it is you’re talking about to be the most important thing going on anywhere. It’s my belief that the American electorate has become largely incapable of distinguishing between legitimate news and   (pardon the phrasing) nonsense designed to rile up the   or produce     . In a society where we can’t tell the difference between news and entertainment, we treat everything as entertainment and thus feel no compunction in decrying the mainstream media wholesale, even when (especially when) that media does eventually attempt to provide what it believes to be objective truth. That’s why my Facebook feed treats angrypatriot. com as a legitimate news source. The people on it can’t tell the difference between hack websites and The New York Times, or else they’ve been convinced the difference doesn’t matter.   That’s why Lindsey explicitly says she doesn’t care what the mainstream media thinks, and why she hilariously calls on the media not to report the truth, but to advance a narrative more to her liking. She appears to believe there’s no longer an objective truth to report on, only   narratives to be advanced. Trump exacerbates this, of course, by actively attacking anyone who says anything negative about him and by lying pathologically. As such, we appear to have reached the point where the truth is no longer relevant to the discussion, where a great many of us don’t believe that truth exists at all. How much further before we get to Orwell? In the end the Party would announce that two and two made five, and you would have to believe it. It was inevitable that they should make that claim sooner or later: the logic of their position demanded it. Not merely the validity of experience, but the very existence of external reality, was tacitly denied by their philosophy. Andrew Simmons on our site yesterday addressed 1984 in the context of 2016. Update from reader Kevin, who points to another literary classic: Another, less obviously violent but no less repressive fictional dystopia applies better than 1984: the one invented by Aldous Huxley in Brave New World. As far back as 1985, when he published his prophetic screed Amusing Ourselves to Death, the late media critic Neil Postman wrote: We were keeping our eye on 1984. When the year came and the prophecy didn’t, thoughtful Americans sang softly in praise of themselves. The roots of liberal democracy had held. Wherever else the terror had happened, we, at least, had not been visited by Orwellian nightmares. But we had forgotten that alongside Orwell’s dark vision, there was another  —   slightly older, slightly less well known, equally chilling: Aldous Huxley’s Brave New World. Contrary to common belief even among the educated, Huxley and Orwell did not prophesy the same thing. Orwell warns that we will be overcome by an externally imposed oppression. But in Huxley’s vision, no Big Brother is required to deprive people of their autonomy, maturity and history. As he saw it, people will come to love their oppression, to adore the technologies that undo their capacities to think. What Orwell feared were those who would ban books. What Huxley feared was that there would be no reason to ban a book, for there would be no one who wanted to read one. Orwell feared those who would deprive us of information. Huxley feared those who would give us so much that we would be reduced to passivity and egoism. Orwell feared that the truth would be concealed from us. Huxley feared the truth would be drowned in a sea of irrelevance. Orwell feared we would become a captive culture. Huxley feared we would become a trivial culture . . .  [emphasis added] Postman’s description in my opinion captures the Trump phenomenon and the man’s essential power —  to a T. It’s that triviality and distraction, rather than violent oppression, that most of us Americans will experience. Pixar’s version: *** Outside the media bubble but still within the social bubble of big coastal cities, we posted “‘Confessions of a Liberal Urban Elitist’” and “‘Elite Doesn’t Mean Born With a Silver Spoon. ’” Both reader notes center on the theme of coastal professionals resenting being called “elitists” by rural Trump voters, especially when such professionals grew up in   communities themselves. Along those lines, here’s Daniel, a reader who began on the lower rungs of the economy: I am an immigrant who came to this country in 1995 as young adult with exactly $10 in my pocket. When we arrived to Seattle as refugees (see: Syria) —  and legally, I might add. My family went on welfare courtesy of some relief agency settling us —  yes, that stuff with food stamps and everything. It gave us a way to orient ourselves, and within seven months we were off it. My first job was working for minimal wage ($7 as I recall) with bunch of illegal Mexicans (who got $4. 50) in a machine shop, working a lathe and smelting lead —   a nasty toxic process. I was buzzed in and buzzed out, just like I suppose they   in steel mills. I still go by that place when I think my work is stressful, just to remind myself. So I think I started as    “white working class” and perhaps have a bit of insight into it. But then I very rapidly progressed out of that  . Fast forward 20+ years. I now have a solid job in software, a nice family, and a decent house of the least expensive part of Mercer Island. I did it without finishing my education I started in my home country. I must thank the   software industry for letting university dropouts prosper. I am not privileged in any way, except that I used my brains, worked hard, and didn’t sit around on my ass. My mother wound up being incredibly successful at real estate —  again, by working harder than anyone I know. So when I hear about people from the Great Middle or South sticking a finger to the “elites” in the coast cities, I have very similar reaction to that of Jon’s. Why? What have I done that you couldn’t have? It’s not like I even bothered with education —  although my kids are certainly going to go to university, if I have anything to do with it. I didn’t even chose to move to the coast myself my parents did. But when I came here, I applied all the resourcefulness and all the brains that I have and I did just fine both financially and morally! What in that behavior is making me “elitist” and worthy of disdain from the center of the country? Renie’s parents were also refugees: No one from the top of the elite world would ever see me as part of it. I may have a PhD my husband and I may have worked all our adult lives in universities we have lived for more than 45 years in one of the bluest enclaves in the U. S. but we are invisible to the elite that truly does govern our country. But to   whites, we appear as alien as any Goldman Sachs partner, and that is despite the fact that we now run a small ranch and interact often with people whose lives up to now appear to have been very different than theirs. A lot of that is assumptions: that people like us were born to the life we have lived that we have no clue about people whose lives are different than ours that we don’t respect them that our rejection of fundamentalist Christianity is because we have no moral grounding that we are somehow “others” and not real Americans because we are liberals. Remember that it’s not just liberals who scorn conservatives and ignore flyover country. I’ve had people I know afraid, literally afraid, to set foot in Boulder because they see it as so alien and scary. As for living an insulated and privileged life —  yes, I do know people whose lives were and are very privileged. But I come from parents who literally started with no money when they came to the U. S. as refugees. My dad’s CPA clients were small businessmen they owned kosher butcher shops, small clothing stores, bowling alleys, and beachfront businesses until I was a teenager and his company merged with a larger one. My husband’s father graduated from CCNY at the end of the Depression with a degree in electrical engineering. His first job was driving a laundry truck he took a step up when he drove an electrician’s truck. Eventually he got a job as an engineer for the federal government and he was on the way to a very successful career. Both of our families did bring ambition, education, and a belief that they could succeed. And after much hard work, frugality, and sacrifice, they did. Another immigrant story comes from Kavinder: I am a 25 year   medical student. I was originally a Republican and my politics was in great part (and still is) influenced by my father and his journey (documented here in Notes). After my time getting my undergraduate degree from NYU, my politics and ideology shifted (due to   inquiry, not some false PC indoctrination that Trump supporters believe is wide spread on college campuses). My politics also influenced my career choice of join into medicine. For the record, my policy choices aligned more with Bernie Sanders, but I supported Clinton (quietly) in the primary and more openly in the general election. Besides commenting online and getting my immediate family to vote for Clinton in my deep blue state, I did nothing else. [For a longer reader note along those lines, see “The Guilt and Pain of a Clinton Supporter. ”] Let me begin by saying that I will NEVER accept Trump as my president. I will also join the resistance against him (in the ballot box and on the streets). I will not take the Trumpian agenda lying down, nor I will accept the hate crimes being committed in Trump’s name. Nor will I compromise on my core values of a open democratic and inclusive society. At the same time, I do want to acknowledge that two bubbles exist in America, and one is made up of the Northeast and West Coast where liberal initiatives made gains. This is the bubble I live in, a progressive urban and cosmopolitan bubble. The other bubble is made up of the   and South, a backwards bubble (economically and socially). I want to believe that most Trump voters are not personally racist or motivated by hate of the “other” (evidence is proving to show otherwise). But at the same time I do want to reach out to   workers (people I grew up around my entire life) and understand why the think and believe what they believe. If I can go from being a conservative Republican to liberal Democrat as a result of   inquiry, then I believe other people can. I do not want to believe that half of our country is irredeemable, and I want to bridge the divide and work towards a progressive future. Lastly here’s Susan, a reader in Portland, Oregon (where most of my family ended up after living all over the Midwest and South): I guess I’m an elite, by Trump voters’ definition. I grew up in Grand Rapids, Mich. my dad worked in a factory. I went in the military, finished college on the GI bill and moved to the west coast. I remember bitterly finding out my    back in GR, a gate guard at an auto factory, made three times a year what I made as a college graduate and news reporter. My fault for picking a   profession, lower than teachers, with whom I used to commiserate. If people think THOSE jobs are coming back, well, I hope they hold Trump’s feet to the fire. They’ve been lied to, big league. If you have something notable to add to the thread, hello@theatlantic. com is always open. We’ve gotten hundreds and hundreds of emails since the election, and we can’t post all of them of course, but we’re doing our best to feature the smartest, most thoughtful,   arguments and personal stories. I’m truly awed by the quality of notes coming in —  the best I’ve seen since Notes launched more than a year ago. Update from yet another reader, Mike: I reject the notion of a “Liberal Bubble” as it has been described in the media recently. To me, it’s more indicative of liberals’ proclivity to hurry into the arms of defeat whenever they can. As our politics has seen over the last several decades, liberals seem to look for ways to surrender ground all the time. They seem to have taken to heart all the conservative tropes about how they’re somehow not #RealAmericans. This bubble talk is just one more instance of that. How is it the liberals who are in a bubble and not other factions of the country? We’re not getting that impression from the popular vote! If anything, we are a country of bubbles. The Trump supporters were deluded when they voted us into this mess. They bought into a massive con because they were conveniently insulated from a lot of important information. That’s by no means a unique feature to their cause, but that’s also kind of my point. Now, if we were to say there was a “Clinton Bubble,” then I would agree with that. But really, it’s a stretch to call her a liberal to begin with. But really, we’ve all just been divided into convenient demographics to make it easier to market to and exploit. Recent events should make that all the more evident. 😂😂 A photo posted by Daquan Gesese (@daquan) on Nov 13, 2016 at 5:59pm PST, I seriously can’t think of more   people and public figures than Donald J. Trump and Barack Hussein Obama. But the following two readers actually voted for both, so their perspectives are especially valuable right now to understand what drove so much support to the  . Here’s Aaron: First I’d like to thank Chris Bodenner and The Atlantic for allowing a genuine conversation between Trump and Clinton supporters to take place. In my opinion, discussing all sides of difficult issues is the most important thing that we can do, and more discourse like what I’ve seen on your website could have made this election cycle go in a very different direction. I’ve voted Democrat in every presidential election until this one. As the son of former hippies, I grew up respecting the environment, disliking unnecessary military action, and desiring equal rights for everyone. Over the years I came to realize that Democratic candidates provided a lot of   talk with very little meaningful action, but they still seemed better than the alternative. During the early stages of the election process, I began to notice a dramatic shift in public discourse. To me equal rights means an egalitarian meritocracy. I believe that everyone should be free to pursue happiness in their own way as long as it doesn’t harm others, and that everyone should be given an equal chance at success if they’re willing to work for it. In my mind, legalizing gay marriage was one of the last big hurdles in overcoming the unfair policies from our checkered past. But not everyone seems to think so. There’s a big difference between theoretical rights and actual results. The average woman still takes in significantly less income than the average man. Young   black men are still being killed and imprisoned at an alarming rate. Muslims are still distrusted and even feared by Christians. The reasons for each of these issues are extremely complex and difficult to fully address. But the narrative coming from Democrats and much of the mainstream media seemed to be that all of these issues and more were predominantly products of continuing systemic bigotry. It was an easy answer, but nowhere near good enough. And as the rhetoric on both sides became more heated, I began to see just how dangerous this simplistic way of thinking was. Shouting down political opponents is nothing new, but for people with modern sensibilities, being called a bigot when it’s unwarranted actually has an effect similar to a racial slur. It creates a sense of shame and anger, and it forces people to remind themselves that they’re fundamentally a good person. Like other slurs, it shuts down the conversation immediately and creates a mutual distrust. Add in the new culture of safe spaces and trigger warnings, and you create an ideological echo chamber. Little by little, the social justice movement seems to be morphing into an insidious and sometimes subtle form of oppression, where controversial ideas are expunged from the public dialogue —  by force of law if necessary. Donald Trump is a cartoon character of a man. He’s likely committed multiple acts of fraud, his political knowledge is suspect, and even when addressing thousands of people, he sometimes seems to blurt out whatever insensitive comment comes to mind. But the more his opponents exaggerated his evil nature and disregarded the legitimate policy concerns behind his questionable language, the more they turned him into a champion for all of those who the government had left behind. Both parties and the majority of the press unleashed all of their powers against him, but rather than backing down and providing the usual political doublespeak, he simply withstood the onslaught. Meanwhile, Hillary was basically a character from House of Cards, with numerous scandals, questionable ties to everyone from Wall Street to foreign governments, and a policy agenda pulled straight from the polling computers. When I failed to find an inspiring   candidate, the choice was easy. The silver lining is that this will be a shock to the system for many young liberals. In their confusion at the result, maybe they’ll take that extra step to start looking at the issues from all sides. Perhaps aspiring politicians will realize that the status quo in Washington simply isn’t good enough, and that a lot of people will vote for whomever provides the most believable case that they will change how things are done. As divisive as this campaign has been, I’m still hopeful that some good can come out of exploring that divide more deeply. The more people who realize that in many ways we’re more the same than different, the better off everyone will be. This video is a  : Clinton suffered her biggest losses in the places where Obama was strongest among white voters. It’s not a simple racism story, In fact, according to a poll from The Washington Post and GMU, nearly one in five Trump voters say they approve of Obama’s job performance. And the   has a 56 percent approval rating —  more than Reagan at the same point in his presidency. This next note, from Len, has a core reason for voting for Trump that I definitely haven’t seen yet: “I went Trump for his obvious LACK of principle, and pitched HRC due to her obvious religiosity. ” Len elaborates: I’m a   white male in Wisconsin. I am   for life and can’t afford more college at my age. It would be a waste of my money. My house, in a   area, is completely paid off, so that’s a plus: but the value of it, on the tax rolls, is about $45K. It’s a nice enough place. In 2012 I voted for Obama (although I disagree with the guy, I like him personally) in 2008 I voted Green. I wanted to vote for Jill Stein this year but got worried about Hillary Clinton actually being elected. I vote for Tammy Baldwin [for Senate]. I voted Trump because, while I was laid off four times in six years, I did a lot of jobs, and work of various kinds, and I think got a pretty good view of how people live here. Oddly, for around here, I am violently opposed to Protestant religion and its global view, and voted for Trump as I consider Clinton a religious zealot. I chose to vote for a guy with no discernible principles at all. But Clinton? Globally, I regard her as a complete religious  . I’ve read almost every issue of “motive” magazine, examined my own rural Xtian upbringing, and also hers, and there was No Way I was voting for HRC. One of the sponsors of the Family Entertainment Protection Act? No. F***ing. Way. Here’s the third   voter to write us, Kristin: My elderly mother and aunt were the biggest Trump supporters from the very beginning. As a   registered Independent woman and divorced mother of six (five daughters and one son) I stood by during most of the election. Presently, four of my children are grown, working under the weight of this economy. Three are in college.   A few years ago, as a   student, I finally completed my BS in Humanities (a minor English, with emphasis in Women’s Gender Studies) and went on to an MA in English Literature (two classes away). I have recently started an MFA in Creative Writing (Fiction) and this is where you and I meet: in a bulk   announcement that always happily begins “Hi Kristin. .. ” I watched, I listen, I researched —  a lot. Previously, I voted Obama. I celebrated Obama. This time I voted Trump.   I am not a Deplorable I am an American, and a couple of generations ago, all of my grandparents were immigrants. I have sent my voice forth, in the poems attached. Yet there is only anger from the other half that I didn’t know existed until Obama flew from city to city on taxpayer money and warned my friends that a Trump victory would be disaster from America.   I will let my poems speak. From the very bottom of my heart, I thank you for listening :) Here’s one of the pieces of writing she attached: Dear Protesters, I’m sorry you are hurt. I hurt too. In 2008 I voted for Obama. In 2012, I didn’t vote at all. Either way, it didn’t matter. Nothing changed. Protesters, I still didn’t have enough money to pay my mortgage, which had tripled. Neither did my family, my neighbors, my friends. And my job disappeared, over the Pacific, or the Atlantic. I forget. “It’s the right thing to do,” they said, those Third World countries that keep changing names deserve a better life for their people. But Protesters, I didn’t get it. I still don’t. I looked in my refrigerator and then I stood in line at the food bank where they gave me rancid cake mix —  did you know a cake mix can get rancid? I watched. I waited. Along with my family, my neighbors, and my friends. We held our breath as the Bail Out began. Protesters, something DID happen during the Bail Out. But it missed us. We lost our homes, our cars. Our marriages. Still, we prayed. We waited. And we learned a few things while we waited, too. We learned that one meal eaten late in the afternoon can be counted as lunch and dinner. We also learned that “help wanted” meant under 20 hours, and if you get sick and you can’t pay the rent on the 5th of the month, a   “Pay or Quit” Notice of Eviction will be hanging on your door. Then the daughter who can’t read will ask you what it says and the daughter that can read gets very quiet and without asking, does her homework. And takes out the trash. Protesters, I’m a woman, too, and I was so excited to see a woman candidate on this almost   anniversary of the Women’s Right to Vote! Sure, I had questions about Obama Care, about   and dead soldiers in Benghazi. And issues about Trump. War with Russia and Global Warming. But Protesters, as a   woman, I know that all guilt should be proven or else it’s all rhetoric. After all, this is America. I listened. Then my paycheck came in, direct deposit, and the bank   a $4. 00 gasoline purchase, a $3. 00 Safeway charge for milk, and a $3. 89 charge for tampons (can it already be that time of the month!) This triggered two $35. 00 charges and after I paid the water and the electricity I had two crisp dollar bills and a handful of change in the palm of my hand. And 14 days till payday. Protesters, that night, I listened one more time to Hillary speak. I really, really, really listened. Afterwards, I clicked off the television, tiptoed into my daughter’s bedroom and kissed her on the forehead. And I knew: something had to change. I also knew that Hillary would understand my choice NOT to vote for her this time around. After all, she’s a woman, too. Protesters, in the end, you’re not protesting President Trump. You’re protesting my cry for change. Your protesting ME. Once again, I apologize if I hurt you. With Love, Your Fellow American, If you’re also an Obama voter who voted for Trump and want to share your perspective, please drop us a note. Update from a   reader, Scott: First time I’ve emailed, but as a former subscriber to the Daily Dish, I have followed Notes with interest and appreciate the curated reader comments. Thank you for continuing to air these discussions with Trump voters. I am despairing over the notes from these   voters, Aaron and Kristin, who feel like the government let them down since 2009, or that the social justice movement was too aggressive. To Aaron, there is a big difference between describing systemic racism and injustice vs. labelling individual people as prejudiced. All of us work together to create these systems, even if individual people are free of animus toward African Americans, Muslims, etc. My interpretation is that many in positions of power, including white people, are having their eyes opened to the daily reality of people not like them, who have never been treated like full, equal members of the American community, and who are now asserting that equality. I do not believe in the need to have safe spaces to keep people from uncomfortable ideas, but at the same time, saying the rise of their use on college campuses somehow led to the expungement of controversial views, etc. from the national discourse is quite laughable. And tying that to assertions of equality for those our systems have prevented from being equal is a strange rhetorical leap indeed. I also wonder if Kristin has spent any time contemplating why she feels that “nothing changed” despite her vote for Obama in 2008. Perhaps it was a GOP Congress that from the outset refused to let anything pass proposed by President Obama that could have actually helped her situation or the situations of her family members?   *** Here’s one more reader note, from Vince —  an Obama voter who didn’t vote for Trump but relates to a lot of sentiment that elected him: Alan [the reader who voted for Trump mostly out of a disdain for identity politics] voiced exactly what I feel about this election. There seem to be many parallels between Alan and me: I too am a straight white male, raised Catholic. I have been married for 22 wonderful years to a black woman, and I adore my extended family. At 51 years of age, I have lived my entire adult life a stone’s throw from West Hollywood, the throbbing heart of the bluest state. I voted for Obama twice, and pretty much any analysis of my voting record for the past 30 years, or indeed my lifestyle and closest friendships, would reveal an     independent. Oh: and I’m a   professional employee of UCLA with a Master’s. The difference between Alan and me is that I just could not vote for Trump, as I saw him as too reckless. I voted for Gary Johnson, knowing that in a state that Hillary would win in a landslide, I was safe to cast this protest vote. However, I am thrilled to see the cynical, greedy Clinton machine finally smashed to bits. I am thrilled to see the arrogant cocoon of the news media, popular culture, Hollywood, liberal activists, DNC, identity politickers, and academia punctured by reality. I am thrilled to see the progressive juggernaut derailed. Trump could have replaced “Make America Great Again” with, “It’s the Authoritarianism, Stupid!” The progressive left seems to have grown more hysterical, more bullying than ever before. It has enacted an illiberal, punitive, terrifying form of politics where everyone is one wrong position or one misunderstanding from being   from the world of the decent. You’re either an Angel completely signed onto their endless quest for progressive utopia, or a Devil. While too many grope for the overheated “Marxist” to describe this kind of politics, it is far more apt than the totally inadequate “Political Correctness. ” It has obliterated any serious debate on a host of subjects by vilifying and demonizing some very good, decent people throughout the country. This cannot be stressed enough: While it has only gotten worse —  ironically, as big culture war battles like marriage equality have been settled —  it has been this way for decades. So has the vicious mocking and slandering of anyone who lives outside of the liberal elite urban hubs —  the demographic that put Trump over the top —  as hateful, ignorant rednecks, a stereotype that has been a liberal punchline for generations. The Democratic establishment has become as much of a   imperium as the Republicans’ and it too has totally failed this large and economically desperate swath of Americans as much as the GOP. The only difference is that as the Democrats hold these peoples’ heads under water they insult their intelligence by promising “job training” while a black Ivy Leaguer tells them to “check their privilege. ”   Liberals need to answer this question honestly: Even if the Republican candidate had not been a narcissistic, vulgar, bigoted clown, no matter how temperately he spoke about a need to control our borders, criticized Obamacare or questioned the wisdom of bringing tens of thousands of   Muslims into the U. S. would you not have tarred the candidate and his supporters as bigoted scum anyway? Of course you would have. How, in that respect, was 2016 any different?   This new progressive bullying lies too much, obfuscates too much, railroads too much, silences too much, divides by identity too much. And it is finally an unsustainable strategy in a democracy where everyone gets a voice at the ballot box. Ben, the reader who sparked our long and evolving discussion thread on the best ways for Trump voters and other Americans to engage, emails about a new flashpoint: the cast of Hamilton delivering a short speech to   Mike Pence, who attended a performance of the musical on Broadway last night. Here’s how CNN covered it: Here’s Ben (followed by a ton of reader pushback) I’m seeing an awful lot of social media commentary looking at Trump’s tweets regarding the cast’s message to Pence, and nearly all of it follows a certain pattern of “Boo Hoo, Trump doesn’t like it when actors exercise their first amendment rights? Cry me a river. ” On one hand, they are completely right: The   by cast member Brandon Dixon was protected speech, and political speech. It’s very, very important that people are able to do what the Hamilton cast did, and I think very few people will disagree with that. On the other hand, it’s pretty hard to be the least bit objective and not acknowledge that what happened was harassment, or at least something pretty close. The story is being presented near universally as “Trump is whining because Pence received a note! ,” but let’s break down the evening in dry terms and see if that holds up: To say Dixon’s speech “heavily implied that Pence was a racist planning to enact racist policies” seems like a stretch, but decide for yourself by reading the note’s contents here (as read aloud to the audience): Vice   Pence, we welcome you and we truly thank you for joining us at Hamilton: An American Musical, we really do. We, sir, we are the diverse America who are alarmed and anxious that your new administration will not protect us, our planet, our children, our parents, or defend us and uphold our inalienable rights, sir. But we truly hope that this show has inspired you to uphold our American values and to work on behalf all of us. All of us. This next part from Dixon seems improvised: “Again we truly thank you for [attending our] show —  this wonderful American story told be a diverse group of men and women of different colors, creeds, and orientations. ” (He also told the audience not to boo Pence.) That’s a strong but polite defense of pluralism. And it was objectively a very divisive election, with Trump’s campaign especially divisive, and his transition is already divisive, so defenses of pluralism can’t be made enough right now. It was probably in poor taste for Dixon to encourage “everybody to pull out your phones, tweet and post, because this message needs to be spread far and wide” (besides, that speech was bound to go viral anyway). But it doesn’t seem like harassment when it’s done politely at the end of the show —  a show about American history that’s inherently political and known precisely for its diverse cast there was no ambush here. But back to Ben, who insists “it isn’t really a question whether this is harassment or not”: If it were a   President Obama in the audience being grilled by people who were “worried he would strip the right to bear arms from   Americans” and who “hoped he would protect all the rights of all the Americans, not just the ones he felt were convenient to protect,” there would be a national uproar in the media at large. It would be universally decried, and that’s without calling implying anything half so personally negative as the Hamilton cast did to Pence. It’s possible and perhaps reasonable to say “well, it’s harassment, but he’s a very good target for it,” but that’s not the same thing as pretending this was a quiet note slipped into his hand for his consideration at a later date. Whether you think it justified or not, this was a pointed insulting message delivered to a captive audience in a hostile room. If the only thing that justifies it as acceptable (not just legal) behavior is that it’s OK to do it to “them” as it seems to be, then I’m not sure I can sign on. We just tried the “demonize everyone who disagrees with us and try to make it impossible for anyone with different views to exist in public society” tactic for six years, and I’m not sure the election indicates that it’s working out very well for us. What do you think? Disagree with Ben, as I do, or was it unfair to spring that speech on Pence the way it happened? If so, what should have been the best approach? Email your thoughts. Update from an anonymous reader: As a history teacher, I applaud the Hamilton cast and the way they took the opportunity to deepen the lessons of their show in a deliberate and direct way to Pence, our newly elected VP. It’s the epitome of speaking truth to power and it is our right as Americans. Kate would agree: I don’t see this as harassment. To speak in a civil tone, requesting  consideration of your concerns, after the completion of the performance seems like a good use of the “bully pulpit” you have as a performer, especially as a performer in a play about the complex tensions in creating our country. Harassment might include calling Pence names, interrupting the performance to say things like “But we won’t have freedom if Pence has his way,” inciting the audience to yell or boo Pence, or orchestrating a scheme so that Pence couldn’t leave until the cast had their say. None of these things happened. We haven’t heard that Pence was offended in any way. I’m sure it was unpleasant to be booed, but the cast didn’t do that the audience did. The cast asked for the booing to stop. Trump, who wasn’t there, seems like an inappropriate person to lecture others on the standards of harassment. Because if he believes that’s harassment, what about the things he’s said about Ted Cruz, Marco Rubio, Jeb Bush, Hillary Clinton, Alicia Machado, Rosie O’Donnell, Megyn Kelly, the Khan family, and the women who say he’s physically harassed them? Clearly they are all far beyond  respectful rebuke the cast made. Another reader adds, “I appreciate the nuanced debate, but I’m surprised that the litany of examples of Trump’s harassing people left out his multiple, actual incitements to physical violence against protesters at his rallies!” Stephen has the only solid dissent I’ve seen thus far, among the scores of emails streaming in: The question is not whether talking to Pence was harassment, but whether Pence and his supporters will perceive it as harassment —  the answer to which is rather obviously “yes. ” It simply reinforces their narrative: the snobs are out to get us, and nothing we can do will make them stop calling us names. So the question becomes: What are you trying to do? Have a real political impact, or just engage in emotional   and tribal bonding with people who already agree with you? Or to put it another way: Will this help flip Iowa? If it will, it’s politics. If it won’t, it’s narcissism and  . Here’s another reader,   who sees things much differently than Stephen: Mike Pence made the conscious decision to run for VP with Trump in a campaign filled with divisive language and rude remarks. He made the conscious decision to go to a show on Broadway where it is no secret that the LGBTQ community is strongly represented. He put himself in the public eye, pushed   legislation and policies [including conversion therapy] and then put himself in one of most famous places in the world that embraces fully the LGBTQ community. Getting asked by the cast to remember that they are people too, and that he should consider their rights when assuming office, is not only not harassment it’s the only tool they have to voice their concern. Louise looks back at some legit examples of harassment: Donald Trump demanding President Obama’s   birth certificate for several years was harassment. Rep. Joe Wilson shouting “You lie” to Obama during a State of the Union address was harassment. I don’t recall Rep. Pence castigating his colleague Rep. Wilson at the time. [Pence actually did say he was “disappointed” with Wilson’s outburst at the time.] He Nor do I recall Mr. Pence —  either while serving in the House or as governor of Indiana —  suggesting that Donald Trump refrain from casting absurd aspersions about President Obama’s place of birth. [Though Pence in early September did put pressure on Trump regarding birtherism by affirming Obama’s Hawaiian roots.] Along those lines, Shelley adds: Here’s a story about Michelle Obama and Jill Biden being booed at a NASCAR event. (Pay attention to the statement after the event.) I know Ben is complaining about the cast letter, but I offer this example as evidence of the way the Obama administration routinely met with boos and often still managed to make the message that seeing America united for shared causes —  in the NASCAR case, supporting veterans —  is more important than personal insult or affront. And good thing, because I can think of no single bigger affront against a President than the birther movement, with Trump at its helm, which implies that a black citizen is always suspect and is seen as less than legitimate, with no form of proof being ample enough to discount the accusation of illegitimate power grab. Ryan tackles the comparison that Ben makes with Obama: The problem with Ben’s logic is that   Obama never campaigned on a platform of “strip[ping] the right to bear arms from   Americans. ” Gun fanatics may believe he did just because there is a (D) next to Obama’s name, but there is nothing that Obama ever said that can be remotely equated with wanting to “strip the right to bear arms from   Americans. ” On the other hand, Pence’s boss has campaigned on stripping away freedoms. Trump has said he wants to ban Muslims from entering the United States. Trump has said he intends to “open up the libel laws” to go after journalists. Trump seems very willing to use his newly acquired power to quell dissent and punish detractors. This is a dangerous man to have in the White House and it is imperative to stand up and call it out. Another reader joins Ryan: Let’s look at Ben’s   example of Obama. Say Obama went to take in a Loretta Lynn concert in Nashville. If he ever took during his national campaign a similarly maximalist position on guns as Trump and Pence took (and have continued to take since the election in their appointments and lack of conciliation) on race and religion, then it would be within both Loretta Lynn’s and the crowd’s right to confront him (confront, not harass). Then in what objective observation of Obama’s behavior before or since his election would anyone think Obama demands an apology? This goes back to this respect that Ben and Trumpers seem to want. They do not get to dictate the manner, method, and location of being confronted by the real concerns of fellow citizens. They seem to forget respect goes both ways. They demand respect but seem to want unyielding deference. Demands of apology and fealty from their defeated opponents is no way to get respect. Elaine makes another good distinction between Obama and Trump: When Obama gets booed, he addresses it and engages. Trump and Pence won’t engage with people who disagree with them except on Twitter, so they are making us do desperate things in order to be heard. Here’s Beth on Trump’s lack of magnanimity: The bottom line is that this was a missed opportunity for the incoming   administration. It would have been the easiest thing in the world for Trump to tweet “Thank you for your voices! We love all Americans!” The fact that he can’t ignore it or pretend that he really cares about all Americans is horrifying. To recycle an old theme from his campaign: If he can’t handle his VP being potentially offended by people exercising their First Amendment rights, what will happen when he’s offended by someone like Kim  ? I hate to say I agree with George: My first reaction to hearing Trump’s reaction to the Hamilton cast’s message was outrage. This is the man who apologizes for nothing, and he expects the cast of Hamilton to apologize of this!? My second reaction was a slow realization that he’s just played us again. Trump is not really asking for an apology by asking for an apology. He knows full well the media reaction to such tweets. The blogosphere will erupt, it will get TV coverage, print coverage, radio coverage, water cooler coverage. And while those of us who cannot stand his hateful rhetoric will be talking about the double standard he is using, and assorted injustices, his real audience will be laughing and sharing memes on Facebook about this. My final reaction is sadness. This is how it’s going to be. Trump knows the system, and every time we argue with reasons and facts and specifics, careful pleas to sanity and American values, we are going to get burned. Our current media landscape is not set up to deal with this man. All we can really do is watch him shape his wings and wonder if he will, at some point, fly too close to the sun. It’s one thing to ignore a troll in the comments section or Twitter, but incredibly hard when we just elected one to be President of the United States. This is a genuinely depressing time. Update: In stark contrast to Trump: Okay one more email, for the sake of open discourse. Here’s a reader who prefers the anonymous attribution “had enough from both sides now”: Of course the cast of Hamilton had every right to reach out to Pence and exercise their First Amendment rights after the performance. Was it harassment? No. But was it the right thing to do? Pence was not there as a public servant, but was confronted and accused in an unfair arrangement in a public space. One held the stage and the microphone one did not. One had present a group of   supporters one did not. One had the element of surprise one did not. Perhaps the cast should have let their powerful piece of work and its message stand for itself. The fact that Pence even attended such a performance is interesting. Perhaps just a friendly acknowledgment from the cast, “Hey Mike, glad you could come, hope you liked the show” would have been a MUCH more powerful message. Such a friendly callout puts a bit of onus on Pence: “We see you here you are now a witness and accountable. ” Perhaps an open public letter the next day seeking Pence’s review of the performance, forcing him to air his views? Put him on the spot for respectful public discourse. That would have been much more effective and persuasive than what they actually said, what they accused. And it certainly would not have given any more ammo to the Man Behind the Tweet, who uses these digressions to fuel his rabid fans. Have we not yet learned that SHOUTING at someone or groups of people is wrong and counterproductive? That it actually has the exact opposite effect that we desire and causes people to retrench and hold tighter to their beliefs, even if misguided? It certainly doesn’t force the person to look at their views from a different perspective. We recently learned this hard lesson with the Black Lives Matter protest. What should have been a very powerful and important movement became polarizing and divisive and was used to fuel the horrible rhetoric of the Republican campaign. No one should be treated like this, even if the claims are true and they are made with just intentions. Until we can stop shouting AT each other and really start listening to each other’s differing points of view, we will be doomed to this endless spiral of pointed accusations with no end in sight. Myself with mother and father at New York Military Academy. See, I can be very military. High rank! #TBT #Trump, A photo posted by Donald J. Trump (@realdonaldtrump) on Aug 15, 2013 at 1:32pm PDT, A previous reader note from Jon (“Confessions of a Liberal Urban Elitist”) expressed resentment toward rural Trump voters who accuse him of snobbery for choosing to live in a big city on the East Coast and leading a “Don Draper” life in advertising. Another “elitist” reader, Alison, responds: Jon’s note rings all too true for me, in many aspects. I am viscerally opposed to classification of young liberals like myself as “privileged. ” I grew up in a very rural town in southern Alabama. My family —  a lovable bunch of traditional conservative Christian Republicans —  still lives in rural America. Now in my 30s, I am finishing a medical degree from a university in rural Ohio. My journey has taken me through poverty, unemployment, mental illness, and some generally awful times. While I cannot deny that I was born lucky to have the natural ability to understand science, capitalizing on that was not a privilege. It was tremendous work. Melissa can also relate: I have shared the thoughts of Jon during some of my darker moments since the election. I grew up in a   city (that went for Clinton, narrowly). My father was a drug addict and Mom worked hard to support us as a single mother. I didn’t have a lot of advantages, but I am smart. I graduated from college and worked in a clerical job instead of anything more. The election of President Obama actually motivated me to go back and get my law degree and a masters in public policy at the same time. Suddenly I was working in government. I wrote legislation and did a stint on the policy staff for the governor. I am one of those elites. Elite doesn’t mean born with a silver spoon. I’ve had a tough childhood, maybe tougher than some of those complaining about people like me. My relatives in more rural areas (aunts and uncles and cousins) seem proud of me. They tell their kids to stay in school so they can be like cousin Melissa. When they have legal problems, they will give me a call. Yet, they are also the ones posting about how we need to drain the swamp and get the elites out of government. They voted for a man with no experience to the highest office in the land. They seem to not understand why someone would need some specialization to know how to govern. It makes me feel like my life’s work is useless to them. I’ve come to realize that at least some of the anger they have is about the fact that   people have been told for decades that they are the backbone of America. We need them to sacrifice their health and safety on the factory floor or in the mines. They are the important ones, in the American narrative, not those guys in the city behind desks. The fact is, they were never that important. Oh, we needed workers, but we didn’t need to make   work sound like a religious calling. We did it because when you tell people that their work is important, they will do it for less money. This is a simple fact. It’s the same reason we say teachers have important jobs. Not that teaching isn’t important, but the deification of teaching is mostly grounded in keeping wages down. Yes, you are doing the most important work   …     which is why we can’t pay you. But please, keep coming to the office because your job is very important. The market should set wages for these jobs, but the political ritual of naming some groups as “important” can knock a good 10 grand off the prevailing wage. People will go into work because they want to feel important. They will accept less money with the idea the suffering is necessary. There’s a reason why nurses are called the backbone of the medical world instead of doctors, and it’s all about preventing certain employees from demanding their worth. Really, rural America bought the lie about being very important. And now that there aren’t enough jobs there to keep up the lie, they feel deceived. They want to think they are important again. Instead of realizing that they had been lied to by politicians for decades, they decided to throw in with the politician lying to them now. If you’d like to respond to that blunt assessment from Melissa, drop us a note and we’ll include. In the meantime, regarding her point about nursing, I emailed Melissa’s note to my mother —  a retired colonel in the U. S. Army Nurse Corps and whose sister has been an   nurse and nurse practitioner for nearly three decades —  and she offered this    reply: Nurses are the ones who actually take care of patients. They are the guardians against inappropriate or unsafe orders from physicians the ones who actually observe changes in patient conditions the ones who interpret to patients what the doctor says the ones who are there to watch the family dynamics and who the patient advocates are. Nurses are the ones who really know how the patients are doing, not just what their numbers say. An experienced nurse can know when a patient is about to crash and often save lives, because they are with the patients all day long —  not for a   visit, maybe once a day, by a physician.   And boy, do I agree with [Melissa] we have deified   workers. Since we have not made the entry level to nursing a bachelor degree, we continue to treat all of them as   workers. Since it can be a very physically demanding job, we need strong people as well. (Hence her backbone metaphor.) But we don’t have enough men in nursing. It is still considered women’s work. Same with professional child care we pay them so little but they have such an important role —  raising new humans. It is so back assward. Let me know if this is what you are looking for. Gotta go to earthquake training. She lives in Portland, Oregon, and just finished 24 total hours of certification training to lead a neighborhood response team when The Big One hits. Speaking of earthquakes, and the   divide of Jon’s note, don’t miss Ron Brownstein’s latest piece: The earthquake that elected Donald Trump has left the United States approaching 2020 with a political landscape reminiscent of 1920. Not since then has the cultural chasm between urban and   America shaped the struggle over the country’s direction as much as today. Of all the overlapping generational, racial, and educational divides that explained Trump’s stunning upset over Hillary Clinton last week, none proved more powerful than the distance between the Democrats’ continued dominance of the largest metropolitan areas, and the stampede toward the GOP almost everywhere else. His piece includes this graph —  “Of the Country’s 100 Largest Counties, These 25 Provided the Greatest Democratic Margin of Victory”: Update from Sam, a reader who grew up in rural white America, left it, is back now, but who’s torn about staying: I totally get where Jon is coming from. Like him I read the Cracked article, and the essays from Michael Moore, and there’s a lot of wisdom there about the     class divide. Another great analysis was in the Harvard Business Review and I mostly agreed with that article also. I was born in Middletown, OH, of Hillbilly Elegy fame. I grew up in Franklin, a smaller town next door, and lived in even smaller, more rural towns in Ohio and Indiana as I got older. As an adult I have lived in more diverse, densely populated areas but now live in an   suburb and work in an Indiana hospital getting people signed up for Medicaid. The economic and cultural neglect of these areas is real. The paper plant my father worked at for 30 years closed, taking all its employees’ pensions with it into bankruptcy, just one of many such stories. Small farms are disappearing and most of the jobs are   temp work in a warehouse if you have a vehicle, a fast food gig or nothing if you don’t. Like the author of the Harvard Business Review pointed out, paying somebody whose parents had social standing $15 an hour to work in McDonald’s is not going to make them feel better about their place in the world. The opiate epidemic has absolutely ravaged this area. Meth is a rural problem, but it doesn’t kill you instantly. Heroin does, and nobody is cooking it in their trailer it comes from outside the community. These issues don’t get the political attention they deserve, and while the people I help are better off than many of the   poor, they also don’t have the public transportation and high concentration of social service agencies the inner city has to help people, and many of the community institutions that served that function are in decline. So yes, I get why people voted for Trump. I was shocked at first, but given time to reflect, I understand where they’re coming from. And yet . .. When I was in the 7th grade I witnessed a gay black boy in my class get viciously bullied. Two older white boys were looming over him and calling him all the things a gay black boy can be called. I truly believe that if I hadn’t happened upon this scene, he would have been beaten. His family moved away shortly afterward. I’m 33 years old, so this was not so long ago, and if those white boys are voters now, well I think I know who they voted for. When I was 15 I became an atheist. All those people saying how bad our politically correct culture is, and how people feel silenced? Well you better believe I felt silenced as an atheist in small town America. I was told I was being disrespectful on occasions just for stating my beliefs. Not insulting religion or the religious, just saying I didn’t believe in it myself was considered offensive. In high school, emotionally sensitive boys were bullied.   boys were bullied. A quarterback tried to rape a girl at one school, was transferred to another school, to continue being a quarterback. Once I overheard another school athlete brag to one of his friends about how he’d forced his girlfriend to have anal sex. I had to sit next to him at graduation. I’ve been casually asked if I’m a Feminazi, like that’s the actual description for my beliefs instead of a hateful slur. When my husband was trying to become a history teacher, he was at a bar in his hometown once and got called “college boy” like it was an insult. Some of these bullies I know became cops. So excuse me if I feel a little damned superior sometimes. I loved living in a diverse area where I had undocumented Hispanic immigrant neighbors who offered me tequila and carne asada on the weekends. I loved having a Thai restaurant down the street and seeing Muslim African children at the playground with their veiled mothers chatting nearby. And yes, I love reading the news, and learning about the world, and helping people get government assistance. Now that I’ve returned to the rural white America of my youth, I miss diversity. And I can’t forget the traumas of being different, of being curious and progressive, and worldly in this place. Most of the people I interact with on a    basis are decent, good people, and it’s wrong to paint them with a broad brush. I’ve certainly rolled my eyes at the elitism and ignorance of urban professionals who don’t have the first clue about what life here is like. You can’t just erase the struggles of conservative,   Americans. Those struggles are real. But I don’t want to be erased either. I grew up here, but I don’t feel like I belong here. There are millions and millions of people like me who aren’t being mentioned in the think pieces about the denizens of Red State America. The author of that Cracked article talked about how even though he grew up in a rural town, he’s now urban and therefore liberal. Well what about those of us who are still rural, yet liberal? The advice now for Millennials is to colonize conservative areas, reverse the political segregation that is dividing this country. Well guess what, I can’t wait to be able to afford a home in the city again. I want Indian food and public transportation and cocktail parties. If I could have those things here, maybe I would stay. If I felt like my lifestyle and preferences weren’t sneered at, maybe I would stay. If I didn’t have to have awkward conversations with people who are racist on a regular basis, maybe I would stay. I want good things for the good people around me. But I often feel like they don’t want me. And why should I go where I’m not wanted? Cultural bigotry is a   street. It’s wrong when prissy elite professionals do it, and it’s wrong when coarse   workers do it. The liberal elites may own popular culture, but the conservatives owned my childhood. They have good cause to resent being treated with disdain, and so do I.   Here’s one more reader, Jacob, regarding his “liberal views forged in Appalachia”: I can related to Jon in some ways. I’ve seen the Trump voter in my childhood hometown in which I spent 18 years and still visit due to my parents living there. More than 75 percent of my home county voted Trump in the Appalachian mountains of North Carolina. It was never a surprise to me that a town like mine would be scared enough to vote for the most unstable presidential candidate most can remember. In many ways I understand exactly why they did. In fact, despite my liberal views, minority status, and opposition to Trump, I understand them. Rural NC saw significant change as I was growing up. It wasn’t much —  a Latino grocery store here, a few more Mexican immigrants in the elementary classrooms over there. Being in an agricultural town, our community depended on the labor of illegal immigrants that most individuals in our 95 percent white town refused to do. Even when the manufacturing jobs left the community, we were happy to take unemployment and blame the new faces in town. Being Latino myself, I was lucky that I had a white mother. My mother being a teacher, and having a slightly fairer complexion I was spared from most (but not all) taunts of “go back to Mexico” that many of my Latino friends had to endure.  My father was never so lucky: Death threat, and verbal abuse persist in his factory job to this day. “You can’t work in the factory like me” echo like the first words I every truly understood as a child. I did work hard. I graduated top 5 in my class, received a full scholarship to a private liberal arts college —  where again I felt like a minority, only this time it was poor, Latino, and with a lack of exposure to different cultures. I’d never interacted with African Americans, Asians, Muslims, Jews, or anyone else who wasn’t white, Baptist, and suspicious of foreigners.   You see, in my little hometown the people don’t go to college. If they do it’s often at   colleges where they rack up loans and start life multiple steps back.  They don’t trust outsiders, because quite frankly they had little access to them until the ’90s, and they had even less knowledge of what existed beyond “sinful” Asheville, NC. These are people who do work hard but fail to see how the industries and jobs they known their whole lives will soon no longer exist.   These people more than anything are terrified of losing what they have only ever known. Trump to them will help keep their community safe, keep their community from change, keep their community Christian —  and they might even get rich and have more jobs (or so they believe). Most times I wish the people in my hometown could do a cultural exchange program, to see that all blacks aren’t dangerous, that Muslims have family values just like they do, and that those illegal immigrants they see are working damn hard and against odds to hopefully have success for themselves and their children.   I write this as I sit on a bus late from work in Silicon Valley back to “the city. ”  I’m still working hard each day. The difference is now with Trump, I’m willing to work a little bit harder.  I’ll be more active in politics and continue voting for those I know can make the world better for ALL of us.   A reader, Jon, articulates in Notes what he probably doesn’t say in public: A lot of the   analysis has pointed to the deep divide between between   and country folk. An excellent essay in Cracked Magazine, the musings of Michael Moore, and people in the reader notes you’ve been compiling [namely the Southern Trump voter in “‘I Voted for the Middle Finger, the Wrecking Ball’”] have described the election of Donald Trump as a collective middle finger to us urban liberals who think we’re so superior. I could see exactly what they’re talking about in my own life. I grew up right on the edge of New York City’s sphere of influence, in Sussex County, New Jersey, just about where the suburbs end and the farms of greater Pennsylvania begin. I was raised in an Evangelical church where Republicanism was preached from the pulpit as God’s Word handed down from on high. And you might’ve found me among the   ranks had I not attended a little private school further East, closer to where my parents worked —  a school much more ethnically diverse than my public school, and much, much closer to New York City. Just to further fuel the allegations of urban snobbery, I was completely ashamed of where I grew up. The kids at school made fun of me for living in the boonies. I pestered my parents to move east. I didn’t want a quaint life on a pretty, little lake. I wanted to be where stuff was happening, where I could walk to convenience stores and play street basketball games, preferably with black people. That’s what was cool when I was a kid and that’s where I wanted to be. So on the one hand, I think that this explanation of a collective middle finger to The City and all it represents makes total, complete, and perfect sense. People in the country have struggled along while their jobs have disappeared and their communities have been forgotten —  all the while being written off and looked down upon by those in Washington and cities around America. I get it. It’s tough. But the other part of me wants to respond with a middle finger of my own. And I’m afraid it feeds right into the narrative of urban snobbery and elitism we’ve been hearing about. I want to reply angrily to rural Trump voters: “Well I hope it feels good. And I hope it still feels good four years from now, when you’re still as economically depressed, neglected and looked down upon as you are today, and meanwhile millions of undocumented workers, Syrian refugees, Ukrainians, NATO allies, and poor people from other countries who had better jobs thanks to free trade agreements have suffered through the first term of President Donald Trump. I hope that big Fuck You you delivered last Tuesday still makes you feel great. Like, you really stuck it to us. ” Then, with condescending sarcasm, I want to remind them, as they moan about machines and foreigners taking their good, secure jobs that pay decent living wages, that the American Dream is open to all people. And that if they just buckled down and worked harder, stayed out of trouble and laid off the meth, I’m sure as heck they’d get ahead and succeed, just like I have. This is my snobbery in full effect. Let’s just get it out there, as I continue to spew . .. These are the people who preach Capitalism and the value of Competition in the marketplace. And to them I want to open my arms and say, “COME. COMPETE. ” Come to The City and compete with us —  the doers and makers of this society. We make the movies you watch, the shows you stream, the video games you play, the Internet you surf. And I get that maybe they’re resentful, but I’ve got some resentments of my own. See, I left my nothing town full of nobodies. I moved to Boston, got a job at an ad agency and worked my way up to creative director, making a   salary and shooting commercials like a   Don Draper. It’s a pretty cool job by most people’s standards. And I didn’t get it because my parents knew somebody in the industry, or because I went to some elite college. I didn’t have an “In. ” I just had talent and desire and I worked at it and it eventually worked out. And working hard in my career isn’t where it all began. Before that I worked hard in school. And you know what? Most of the other kids I knew who worked hard in school are here in The City making stuff and making money. And maybe when we were working hard in school, you were making fun of us. And maybe it feels a little bit good to stick it to you. I practice what you preach. I worked hard and I succeeded. If I espoused conservatism, I’d be what they call a   Man, a big success story. But because I’d like my success to help buoy others who haven’t had the same chances, I’m called an Elitist. There’s a lot of generalizations here, of course. But a map of the United States divided into two colors is perhaps the greatest generalization of all. And I’m sure some will be offended by my words. This is not a scientific article, or even an   designed to offer a defensible position, but merely a memoir combined with a rant under the guise of a confession. But I wonder if some of it rings true for some of the folks reading this. And I wonder if a resentful person living in the country might see things from my point of view. If it rings true to you, let us know and we’ll include: hello@theatlantic. com. Personally I can relate to some of what Jon is saying. As an Army brat, I grew up all over the U. S. and a little abroad, but mostly in Kansas, where my dad retired to the countryside about 10 miles outside a town of just 5, 000 people. My high school in that small town was a big step backwards for me academically (no A. P. classes, for one) having come from a   public school in the Maryland suburbs. Socially the Kansas school was really isolating, because most of the students —  who grew up together in a   community —  didn’t relate to me much and didn’t really want to, especially given my awkward introversion at 14. I became miserable and resentful —  mostly toward myself —  and went to live with my mother, stationed in Georgia, for the second half of high school. After college, I went straight to New York City —  the extreme opposite of that Kansas town —  and I’ve lived there and DC ever since. Those big cities definitely have their flaws, and the smug attitude and myopic political views of many New Yorkers get insufferable at times, but overall, there’s no other place I would have wanted to spend the past decade. The biggest reason? The vast diversity of people living there —  diversity in all forms, but namely the array of places from which they came, across the U. S. and abroad. They came to the big city in their twenties to pursue a passion, work hard for an opportunity, and enjoy an endless stream of culture that extends well past Netflix. The people I most enjoy in NYC and DC aren’t from NYC and DC they’re the ones who got out of their sleepy towns and dreary suburbs, at least for a while. If you’ve lived in a small town your whole life, on the other hand, and you’d like to tell your story or vent your resentments to Jon, please drop us a note. Update from Susan: Yes, Jon, we get it. But your choice to leave and become Don Draper does not invalidate the issues at hand. I tried your route. I got my fancy degrees and worked in the big city for a while. God bless all of you who can do it. I sure couldn’t. I couldn’t drive by the poverty and see the violence on the news while listening to my coworkers complain that their neighbors refuse to control their dandelions. I tried reading Malcolm X and signing up for Big Sisters, but in the end, I could not figure out a way to make a meaningful difference there, and I couldn’t live with the cognitive dissonance of a suburban existence. So I moved back to northern Appalachia, on the opposite side of PA from you. This is Trump country. People want to work. They want to raise their kids, and in reality, most people can do that. Where it falls apart is with three main issues: The reason you get called a snobby elitist is that we shouldn’t have to choose between an intolerable existence in the city, or poverty in God’s Country. We don’t want your six figures. We just want to live and for our kids to have some options when it’s their turn to make these choices. Update from Paul: Susan’s frustrations are valid but her comments are about the causes are not. I’m not aware of any evidence that supports the idea that the rising cost of college is caused by the government, that the ACA is what is driving private healthcare insurance costs up (in fact there’s some evidence to suggest that the ACA is slowing the otherwise normal rate of price increases) or that the government (Republican or Democratic) is responsible for the collapse of privately funded   pensions. All of these are real problems, but none of them can be easily solved by direct government action. I definitely agree that free trade killed a lot of older manufacturing companies in businesses with high labor costs and lower value add. The solution isn’t getting rid of free trade, which makes everyone poorer, it’s much more generous help for those displaced as a result. If we want to reach common ground on our problems, it would help to have a more   discussion about the root causes.  This does not mean we’d reach complete agreement on all the root causes (ACA in particular is still too new to really deeply understand how it is affecting health care inflation rate) but I think it would certainly help. Here’s some help from Reason’s Robby Soave regarding Susan’s contention that the federal government has caused college to become so expensive: Long have liberals vowed to make higher education more affordable by offering ever more generous loan subsidies, and long have conservatives and libertarians argued that federal aid merely gives colleges license to drive up the price. A study by the New York Federal Reserve offers some new evidence that the latter group is correct. According to the study’s authors: We find that institutions more exposed to changes in the subsidized federal loan program increased their tuition disproportionately around these policy changes, with a sizable   effect on tuition of about 65 percent. We also find that Pell Grant aid and the unsubsidized federal loan program have   effects on tuition, although these are economically and statistically not as strong. The argument goes like this: Since government aid programs make it easier for students to pay the sticker price of admission, no matter how high that price rises, universities have every incentive to respond by charging more. The universities have little to worry about —  they get paid up front, regardless of how difficult it is for the students to repay the government (or the government’s actual creditors: the U. S. taxpayer). Here’s one more reader response, from Philip, who challenges both Jon and Susan: I don’t usually like to write in, especially in a thread that I figure will probably have more of me (urban, liberal, Clinton voter) than of the people like Susan who are writing in with their more   opinions. But I have issues with both the   liberal urban elitist and his respondent, so I might as well take the plunge. To Jon, I ask, as Susan does, why he assumes they want to come to the city. I think it’s entirely fair that they don’t. People should have an opportunity for a good life wherever they want to live, not just by coming to the city to “compete. ” And saying they’re all on meth (even if you acknowledge the condescending sarcasm) is really no better than Donald Trump calling Mexicans rapists. Both are hyperbole neither is particularly helpful. They have legitimate concerns, and we should address them. We should have even if Hillary had won. They matter. But that brings me to Susan. She points to three issues: health care (especially costs) higher education (especially costs) and retirement (and the lack of pensions nowadays). My question is where in the world she gets the idea that voting Republican will help on any of those points. OK, I see that she thinks the ACA is responsible for rising health care costs. I have two big issues with that. One is that health care costs have been going up far longer than the ACA has been around, and they’ve gone up less with ACA than without it. The other is that most of the mechanisms for reducing costs for individuals under the ACA have been gummed up by precisely those Republican politicians she just empowered (more on this in a moment). Medicaid expansion for the poorest? Blocked by Republican governors, who then sued to not have to do it. Subsidies for those making too little to afford the exchanges without them? Not funded by a Republican Congress, which is suing to prevent the administration from paying the money out of general funds. Which of these two parties is trying to help with the cost of insurance? And of course, that’s without mentioning all the people (many in that same part of the country she lives in) who now have health insurance who couldn’t get it before. On higher education: Susan is totally right that higher education costs are ridiculous. But what Republican policy does she think will help with that? Perhaps it’s true that the way the government currently runs educational grants inflates the price of college I think it is too! But there are ways to help a kid going to college if you’re barely making minimum wage (itself an idea that Republicans tend to oppose of course ): all those dang grants. And of course, if you go to some colleges —  elite and liberal and urban, mostly —  they’re cheap or free for those making very little money. On retirement: Those pensions aren’t coming back. But you know what’s still there? Social Security —  which the Republicans tried to privatize the very last time they had the presidency. I think she’s wrong to blame the lack of pensions on free trade (it’s probably more the fault of companies ceasing to prioritize corporate citizenship and the duty to their workers over the bottom line —  something our new   is somewhat of an expert on) but even if she does, the Republicans are the ones taking out the safety net beneath it. Speaker Ryan has already started to do this with his Medicare proposal —  which, by the way, he’s packaging as part of the ACA repeal. So the same people who riled up their base because they claimed the ACA would endanger Medicare are now endangering it themselves to get rid of the ACA. Basically, my problem with Susan’s perspective comes down to this: For the past eight years, the Republicans have spent every ounce of energy trying to stop Obama, and by extension the Democrats, from governing, and from actually doing anything for people like her. But her response is to empower them by voting the obstructionists into even more power. It’s like a team that needs a field goal looking at Lucy swiping the ball away from Charlie Brown before he can kick it and saying “you know, that Charlie Brown just can’t kick. Let’s put Lucy in charge. I’m sure she’ll put the ball through the uprights. ” So the liberal elitist, Jon, is wrong to imply we shouldn’t care about   and   voters. But the respondent, Susan, is claiming that the people who put us in this situation are the people we should trust to get us out. Update from Susan, who gets the final word here, if you’re still following along: This is fun! Thanks. A couple of clarifications, if it’s relevant. Here’s the graph showing how government caused tuition increases: What happened in 2010? Bankruptcy law was changed so that student loans can never be discharged. [Update from reader Darren: “I think the bankruptcy law change that she’s talking about is the one in 2005, and not 2010 like she states. Not sure where you’d want to put such a minor correction, but I thought it wouldn’t hurt to point that out to y’all.] This complements the Reason research showing that student loans drive college cost increases. Also, you will notice I never said that Republicans would or could fix any of these problems. The problem is that neither Republicans nor Democrats work for any of us out here in flyover country. They work for Wall Street, and Big Pharma, and Monsanto, and Big Oil, and the   complex. And I didn’t vote for Trump. (I went for Gary Johnson.) My personal opinion is that the problem is corruption and crony capitalism, and more laws favor those with more lawyers. As long as people think one of the parties or some politician is going to help “we the people,” then they’ve got you fooled. I understand why people voted for Trump they are hoping that maybe, just maybe, he won’t be a politician.   A familiar reader follows up. And his name is Pat: Chris, I have to tell you, I am a little shocked that you posted my note [“‘I Voted for the Middle Finger, the Wrecking Ball’”] and even more shocked by the responses it elicited. I know there is no way for me to effectively respond to all of the incredible and heartfelt feedback from your readers. Below is my lame effort. I have no idea if it is what you want, but it is at least honest, although far too many words. Do with it what you will. Wow, your job must be hard. Happy Thanksgiving. *** I am Southern. I am white. I am male. I voted for the wrecking ball and I wrote to Notes a rambling stream of consciousness email more for my own benefit than for anyone else to read, trying to figure out myself how Trump earned my vote —  if he really did earn it? —  and trying to explain that I don’t hate anyone or want to take away anyone else’s dreams of a better life in this great country.     I was amazed my note prompted as many questions and responses as it did.  I never expected it to even be seen. I wish I could address all of them and am sorry that I lack the intellect and time to do so. I think it’s too bad these conversations happen too often over the internet and not in the local pub. I expect my response to echo in silence and definitely to lack the clarity your readers seek. But I read them all and I hear their concerns. I think it sucks that a    Ivy League educated lawyer can’t make ends meet. I hear you.   I understand I have a limited view of how this election looks to the African American med student who refuses to let anyone or anything rob his or her humanity and dignity. I hear you.    I will likely never fully understand the struggles an immigrant family may face trying make a life, a better life, in a new country as crazy and complex and diverse as ours. I hear you.   I can only imagine how difficult it is for the small business owner who put her little retirement savings into a dream and through toil and talent made it work, and now deals with the government saying she has to provide health insurance to her employees whom she loves and employs   …     or else. I hear you. I know it isn’t easy being Muslim, or gay, or poor, or sick, or a woman, or a   or felon, or a college grad waiting tables in America. I hear you.   I know Trump said some crazy and   shit. I hear you. I know all of us wear both the scars and beauty marks of our history. We have saved the world but enslaved and murdered innocents. We have extended protections to the minority and pursued phantom threats with terrible consequences because people looked, thought, worshipped differently than our Founding Fathers did. We have been imperialistic and nativist, we have opposed authoritarianism, been the saving grace for immigrants, turned around at Plymouth Rock and said “Foreigner Go Home. ” We continue to ask our young and able bodied of all races, creeds, colors, and genders to die for our freedom.  We call each other names, put one another in boxes and label them: foreigner, redneck, racist, bleeding heart, gay,   conservative, liberal, progressive, extremist. We’re all guilty   …     and most of us are innocent. Our country is a beautiful, living, breathing mess of wonderful and amazing people all believing in the same lofty ideals but disagreeing on the way to achieve all of them. Our country is an enormous promise, an unthinkable undertaking, a miraculous contradiction of individualism, collectivism, voluntarism —  every  —  ism under the sun. What an incredible mess to be a part of it. Thank goodness for it.   I admit I vote based on my emotions as much if not more than I do my intellect at times. I admit my ballot and my worldview often clash and contradict one another. I admit I have never found a candidate who represented me fully and I probably couldn’t represent myself fully if I were ever to hold elected office. It is impossible to please everyone, unlikely to please even anyone fully, including yourself. Negotiation and compromise are part of every good romance, and so it goes with our democracy —  a passionate and rocky love affair if there ever was one. I admit I do not have all of the answers to all the responses to my note. What do I envision during and after a Trump administration? Maybe just a maverick bold (crazy?) enough to not stay put in his sandbox. What if he achieved something with both Elizabeth Warren and Paul Ryan? I think he is more likely to color outside the lines than Hillary would have, and most of us agree “the tree of liberty must be refreshed from time to time with the blood of patriots and tyrants. ” So I rolled the dice with the wrecking ball, the middle finger, the guy insensitive enough to not care who he pisses off trying to get something done. He might be a disaster. If he is, I’ll own my vote and learn from it. I’ll also admit my tyrants likely look different from someone else’s —  hell, maybe everyone else’s. Mine are no longer monarchs from foreign lands or angry rich white males or   professors, or even special interests’ influence, predictable career politicians, media and political elites of all shapes and colors, or the ones with the safe    fiascos that deny deliberative discourse, civil disagreement, and prohibit any gain of perspective by any party on either side of an issue. My tyrants expect something for nothing, offer excuses instead of solutions, and look to place blame instead of accept some responsibility. Will Trump be a tyrant? Perhaps. He certainly has shown some of that. But haven’t we all? When it gets right down to it, haven’t we all been a little guilty of my kind of tyranny? I know I have and I see it every day. My patriots, I fear, are too smart, too successful, too cynical, or too busy making it in America to run for office in this age of information and disinformation. Your patriots may be the         teenager protesting police brutality in Baltimore or the lawyer working pro bono to save the environment, but mine might be Trey Gowdy or the gay Latino woman managing an insurance office in El Paso and successfully raising three kids. So we vote from differing perspectives with different life experiences and differing ideas about how to move forward and whom to follow. Isn’t that what this is all about, living together peacefully knowing “elections have consequences” and agreeing to accept them?   I admit I voted for Obama in 2008 and against him in 2012. I did not vote straight ticket I never have. I honestly went to vote more for my neighbor running for town council than I did for either presidential candidate. I guess I still live in a small little world. For now, I think I choose to encourage. I encourage everyone to “eat the blue pill” from The Matrix. Just as I urged my conservative friends in 2008 to do so, see America the way it is and not the way the talking heads tell you to see it. See America for all of her beauty and promise and all of warts and failures. Have a little in faith in US —  we the people. Just as Obama is a patriot, wanting to make us better, so maybe is Trump, even if his map to get there looks different (because of all the crayons? ). We are all in the struggle wanting the same things that we can all have. There is no   game on what we want: a safe, open, honest, thriving, fair place to call home, to raise kids in, to enjoy life in, to push the ball forward in before we die. We should all get out of our zip code, off of our computer, out from our bubble once in a while and have frank, direct,    conversations with someone else about their perspective and agree that there is no way —  if we’re being honest —  no way we can’t find some common ground. Let’s look for more reasons to agree than reasons not to. Don’t take my middle finger personally I really want everyone fighting the good fight to find more success, enjoy more freedom, feel more welcome. I really do. I just ultimately thought we needed a good smack on the ass. I will have beers and wings with my best friend next week. He is a Bernie fanatic. We will argue all night, laugh all night, cuss and yell and get red faced and probably spit a little on each other accidentally in the heat of it all. And we’ll go home, stay buddies, agree to disagree on some of it and know it is a great thing to disagree with friends. Ours will be a staggering drunk walk much like this march of diverse democracy. We stumble ahead, fall forward, lean to the left, sway to the right, go backwards a few spaces, contract in one spot, expand in another.  We bitch and moan and yell and scream at one another for one another. We get things wrong, we get things right. We remember old scars and make fresh wounds. And somehow, when we wake up hungover and tired and wondering what the hell happened last night, we will all find ourselves in a better place in the morning and look forward to the next bar fight in 2020. I encourage everyone: Go have coffee or drinks with a friend who sees the world differently than you do. Meet somewhere in the middle. Persuade, convince, argue and do it passionately. Don’t call them names, label them, or put them in a box. Listen more than you speak. Find an excuse to say “we” more and decline to say “you” as often.  Let’s admit to our prejudices,   fears, ambitions, and failings, own our thoughts, our words, our actions, and deal with the consequences. Now is our chance to make Trump and the whole lot of them do the same.   The wrecking ball was my choice. It may not have been the right one. Time will tell. I did not choose it out of hate. I might not even be able to defend all of it. I might end up of prouder than ever for it, though I might end up wishing I could take it back. But I admit it. I own it. I accept the consequences. Can you hear me? Update from Ernest, a reader who disagrees with Pat: Oh, what a lovely picture. Let’s just hug this out after we pound a few cold ones in the bar. See, we’re really not too different, you and I. Yes, I hear you. I also hear the celebration of   and the KKK [link] at not only the election of our next president but his appointment of a   leader of the swamps of the   to be his chief strategist. I hear them. I hear the raging misogyny of Milo Yiannopoulos [link] who was hired and is employed by the  ’s chief strategist because he is a raging misogynist. I hear him. I hear Myron Ebell, a global warming denier, being appointed as head of the EPA transition team. I understand from him that the scientific consensus on anthropogenic climate change is really just political correctness run amok to increase governmental power [link]. I hear him. “Our country is a beautiful, living, breathing mess of wonderful and amazing people all believing in the same lofty ideals but disagreeing on the way to achieve all of them. ” Yeah, that’s what this is. I hear you, Pat, I really do. But your listening seems mightily selective. Maria keeps the disagreement going: I wanted to respond specifically to this quote from Pat and then briefly to the comment on the whole. My patriots, I fear, are too smart, too successful, too cynical, or too busy making it in America to run for office in this age of information and disinformation. Your patriots may be the         teenager protesting police brutality in Baltimore or the lawyer working pro bono to save the environment, but mine might be Trey Gowdy or the gay Latino woman managing an insurance office in El Paso and successfully raising three kids. Pat is wrong to suggest that any law abiding, honest, and   person is not “my patriot. ” In fact, shouldn’t someone who protests police brutality also be his patriot if he is who he says he is: a proud   American who wants the system to treat other   Americans fairly? Isn’t police brutality the antithesis what he believes is fair? I would also like to respond to his original note, where he states: I love working people who answer the alarm clock. I love parents who make sure their kids will have it better than they do. I respect people too busy paying the light bill to keep up with “the news. ” I am for a safety net for people when they fall on hard times. I am not for government handouts as a way of life. I want everyone —  of all kinds —  pulling on the same side of the damn rope. Pitch in, make this a better place for everybody that obeys the law, pull yourself up by your bootstraps everyday and do some form of honest work. Come here legally, adopt our way of life, learn our language and preserve yours, respect our legal and social traditions and observe yours freely, engage in deliberative thought and debate without risk of being labelled a bigot or a hater because you disagree. These things somehow suggest that people who did NOT vote for Trump are not themselves hard working people who get to work on time and care for their children, or are against pitching in, pulling themselves up by their bootstraps, or doing honest work. I would never in a million years vote for a troglodyte like Trump, but I too wish that people who move to this country respect our laws and customs. I’m willing to bet that more than a   of Trump’s voters are on some kind of government assistance (especially if they’re older —  Medicare anyone? ). Pat, I think your arguments are a stale stereotype of what it means to be a “liberal” (I despise that word, but it’s the best I can come up with). So to sum up, I still cannot get the logic that starts with “I want change” to voting for Trump. You can already see the people he is using to fill cabinet positions are very   into the Wall St. and Republican establishment. Arguably the only one who isn’t is Bannon, and he white nationalist. If you really wanted change, who did you vote for for Senate? Or your representative? Were they incumbents? What about writing to the Republican and Democratic parties that govern the Commission for Presidential Debates to challenge their stance on allowing third parties onto the debate stage? Are you for campaign finance reform? Tell me Pat, are these other “disruptive” actions too difficult for you to consider? I think it was just too easy for you to vote for Trump because all you had to do was go into a voting booth. I regret to inform you that you made a serious mistake, which is unfortunately going to injure someone else. I doubt it will affect you much, so you will probably never learn.   This reader note from Ron, a med student in Rhode Island, is incredibly moving and filled with grace: I hope you are well, Mr. Bodenner. Thank you for running this reader series engaging with Trump voters. I have been alternately heartened and dismayed by others’ contributions, but the insight has been invaluable either way. As a     male born and raised in the USA, recent days have seen me alternating between rage, sadness, and despair —  and I suspect there is much more to come. I feel unwanted by a nation that raised me, despised by my home. But as the paroxysms of rage and tears become less frequent, as the space for introspection and reflection becomes greater, I have had time to interrogate my soul about the man I want to be and the role I seek to play in the work to which I committed myself long before last Tuesday. And in that time, spent communing with the ones I love, I am grateful to God to have found at least the skeleton of a mindset, a plan, a path that I hope will sustain me through coming trials while allowing me to continue to be of the greatest service to the nation I love. I truly believe we are a great nation that desperately strives to be good. I truly believe that our differences are not something to fear and our disagreements are not something to flee from. And I want to do all in my power to fight for “us” and “them. ” As much as I have been disgusted by our  ’s rhetoric and behavior, as much as I condemn the conduct and indict the character of a great many of his voters, I would have to deny a large number of my life’s memories to pretend his constituents did not have legitimate grievances. This is not the way I wish we would address them. But when your message is littered with the dirty needles and pain pills that line the bottom of a seemingly bottomless chasm filled with the dreams you had for your descendants, it is somewhat understandable if it does not arrive wrapped in the prettiest package. And now that it has arrived, the worst decision we could make would be to ignore it once again. As a Black man who seeks to do his part to lift his people, I want to fight against the bigotry and hatred that has our melting pot bubbling over. But as the boy that Lima, Ohio, raised, I have seen, at least in part, the pain and suffering of many of the white working class —  the very same that many people would now call my natural enemy. As the man who spent a summer carting patients around the local hospital and was moved to pursue medicine by witnessing the devastating effects of painful illness on my neighbors who “used their strength of bone and sinew to provide,” I refuse to accept that these people are now my foes. Our differences are real our histories, our prejudices, and our nation’s successes and failures in addressing the former two prevent them from being anything but real. But a difference is not a defect, and I firmly believe if anyone thinks opposite, they are missing a large piece of the puzzle. When a white person struggling to overcome debt and disability points at a brown person just barely wriggling out of the chains of oppression and honestly believes they are the source of their struggles, or vice versa, and both those people pin all their hopes on a competition between billionaire families in ivory towers, I think we are all missing something much deeper. I will not ignore the prejudice and bigotry that my fellow citizens have showed over the course of this election cycle. I will not dismiss it as simple brainwashing or lack of education again, I know these people. I have broken bread with these people. And I will not do them the disservice of disregarding their   mind and soul by pretending they are mere puppets of probability they know better, and I bet more than one would admit as much in our quieter moments. But I will also not give into the temptations of simple narratives that ignore the bigotry present among even those who most vocally decried it through this election and even before. I will not pretend that differences in culture or opportunity or vision for one’s future do not have an effect on one’s ability to hew their speech and actions to a standard set by elites hundreds of miles away, who are living a lifestyle completely alien to their own and making the bare minimum effort, if even that, to bridge the gap. I will love. I will love in that difficult fashion, in that way that recognizes the complexities that make loving each other so rewarding are the same thing that makes it so damn hard. Many times I have wished, subconsciously or otherwise, that I could reduce the other side to a single dimension, that I might fall more easily into the role of multifaceted protagonist against a sea of racist drones. But as many times as I wish I could do that, I know I never will. Not only is it unfair to my   opponents, I would be robbing myself of the greatest gift humanity bestows on me: the ability to love fully, deeply, even under great duress. Microaggressions, racial epithets, even outright discrimination will all hurt me, but they could never steal my humanity. Only I can do that, by closing myself off to humanity’s most potent ability. To those to whom I have vented, raged, and even howled at over the past week, those words might appear like an outright lie. I have been gripped by anger at a level previously unknown to me since the election. But interrogating that anger and finding its origins is what has led me to this very path. As a medical student, over the past year, I have had the great privilege of rotating through the plethora of specialties that fall under American healthcare. I have helped deliver babies and reached into open abdomens. I have laughed with healthy children in for a   and stared in the unblinking eyes of the recently deceased elderly. Through my patients, I have experienced the breadth of life in a short year, been privy to humanity’s hopes and anxieties, dreams and fears, perseverance leading to success and failure alike. I have experienced humanity in a way very few are allowed and I have been transformed by it. I have seen how we are all so unique and different in so many ways, except for all the ones that really matter. Before medical school, I often wondered how God could love us. After this year, knowing that God sees all of this simultaneously, in all of us, always, I wonder how anyone, especially and including Him, could not. And the knowledge that I will continue to do so, continue to love unconditionally and work for the betterment of those who may or may not even acknowledge my humanity, hurts me and angers me deeply, even as it guides me to the path I know in my heart is right. I know what happened last Tuesday was significant. I recognize this election has exposed the fragility of our union in a way that few other moments in American history have. Our divisions are clear and intimidating. But I refuse to accept this is the end of us I remain resolute in my belief that there is a way forward for the United States of America. I know I may be wrong, but if there is even a chance, a single thread that can secure us to each other, it is worth fighting for. History may prove me a   cowardly idiot, but I would rather die proven wrong than live knowing I never pursued even the smallest chance of unity. I want to listen. If you are reading this message, you are the one for whom it is meant. I want to listen. If you’re a Trump voter and would like to respond to Ron, please send him a note: hello@theatlantic. com. Update from Catherine: “Dear Ron: I am not a Trump supporter but what you said was magnificent. Keep walking!” Another reader: Thank you for being loving person. Remember that love will alway triumph. I too am a physician, a healer, but much older than you. After evaluating the two presidential candidates, I couldn’t vote for either. I wrote in my president. In my humble opinion, Hillary wasn’t the answer. She is a crook. I truly believe she simply said what people wanted to hear. She couldn’t care less about you or me or any minority. She only cares about herself and the Clinton Machine (now defunct, thank God). I never liked Donald Trump. I always thought he was a narcissist and I still do. He is a egomaniacal, pompous man who from what we witnessed would crush anyone who gets in his way. My hope is that   Trump’s desire to be the best will drive him to be the best president he can be and govern wisely and fairly. I hear you, Ron, regarding the tensions in our Great Country. They are real. Coming together and uniting is the obvious fix. Doing that is the monumental task. To rid the divide we must first rid ourselves of ego and pride. You see you cannot love unconditionally when filled with ego and pride because ego and pride leads to anger and hate. We all have to believe that no one person is better than the other and that we are all children of the Almighty God. Even though that is my heart’s desire, I am not sure we can do it on our own. We need the Good Lord’s help. Ron, from your writing I can tell you are a caring loving man who accepted the privilege and honor of taking care of the sick. I pray you always feel the way you did when you wrote that letter. May God Bless. Update from Ron: It really does encourage me in no small measure to read these responses. And as for Anne Marie’s comment [sent privately via email and including the line, “Ron’s note was an inspiration in empathy and courage, beautifully expressed. ”] I honestly do not know how to reply to such high praise except to say thank you and I am truly glad she enjoyed the piece. I also enjoyed reading Pat’s response, as well as those of Ernest and Maria. Replying to Pat, I am glad to see him take ownership of his vote. My parents raised me with a strong sense of personal responsibility, one that I still work to cultivate within myself and look for in those with whom I expect to have significant interactions. So I respect that he recognizes the possible negative implications of his vote and takes full responsibility for them that is no small thing. I also want to say I agree wholeheartedly with his exhortations to have more conversations with those who disagree with us. I do not think I am making any sort of new radical statement when I say we need to do a better job of reaching across the aisle, having those difficult conversations, etc. I would just take it further by asking that we all make more of an effort to spend time with those unlike us during times when we aren’t having those difficult conversations. If our first or only interactions with those that disagree with us are when we’re arguing over the issue over which we disagree, we are all doing it wrong. At the end of the day, I am willing to believe Pat actually believes exactly as he says he does. I am willing to take him at his word that his vote was not motivated by hatred. Personally, I think our disagreements are more due to differences in exposure and education than any intractable, intrinsic character defects on his part or mine. I know on issues like the ones this election has brought to the fore, it can be hard to differentiate the two, but we must if we hope to bequeath anything resembling a united nation to the ones that come after us. I am not advocating either side goes along to get along I am asking we engage with each other fully and with a compassionate, forgiving nature before we write anyone off. I agree with Maria when she says it was “too easy” for Pat to make his choice in that voting booth his perspective, as he admits, is limited. So is mine. And there was a time when it was even more limited, by forces both outside and well within my control. And if I can be said to have improved at all, it is only through the compassion and efforts of so many others that took a chance on me when it was not clear I was a chance worth taking. And I’d be willing to bet this is true for the vast majority of us. This whole discussion merits a longer response, but in the spirit of listening more than talking, I will stop here in an attempt to be brief. Chris, if you opt not to update the response, would you mind sending my response to Pat in a private note? Since he made it clear that he had read my response, I would at least like him to know that I read his reply. I appreciate you hosting this conversation I have found it personally very helpful. Look forward to reading more of this discussion thread. A reader dissents over this Notes series trying to give a fair hearing to the views of Trump voters: How many more of these fucking notes? I get it. “Get to know Trump voters” is generating clicks. But at least publish something real in response. Reader Marco says, “It won’t fall because the U. S. government’s institutions are designed to prevent irrational outcomes to a good degree. Trust the system a little, if you learned anything from history. ” Really? We had Japanese internment upheld by the Supreme Court in the 1940s [a reader previously made this point] and   restrictions on Japanese people until the 1950s. We had   terrorism of black people in the South through the 1960s. [This reader and others previously invoked the history of slavery and white supremacy.] What someone who actually reads history, and pays attention to it, knows is that the values of liberal democracy are not universally held and when lost, recovered only at great cost. I don’t think these things will happen. I also don’t think there are 60 million racists. But I do think there are 60 million people who don’t really give a shit whether it does or doesn’t. If I’m wrong and they do give a shit, let them prove it with their own behavior and statements —  not just tell people to “rely on the institutions” that they say they voted for Trump to destroy. Another reader, James, lives in southern California and describes himself as a “White,   Christian,     Independent” who is sympathetic to the grievances of Trump supporters but couldn’t bring himself to vote for the guy. Now with Trump’s victory, James worries that the democratic norms and institutions of the U. S. won’t be able to withstand the dicey demagogue, and he fears that the country could veer down a painful path like that of Venezuela, Uruguay, and Peru during the late 20th century. Here’s James: Fascinating discussion, and I really appreciate the thoughtfulness of the responses on both sides and the courage of Trump voters to explain their reasoning. But like reader Pamela, I’m afraid I still don’t get it. I share many of the same concerns that other readers have brought up, but I feel like I must be missing a step. I am sympathetic to conservatives who felt that their voices were not being heard. I am a grad student, and I wish that conservatives were   in my discipline, political science. I also wish that conservative students at my university felt safer in expressing viewpoints that differ from those of the majority on campus. I think that some individuals are   in their political correctness, though I would hardly attribute this to “liberalism” as a whole any more than I would attribute racism to “conservatism. ” Most people I know —  whether on the Left or the Right —  want to live in a society like the one that Southern Guy described. I do, too. But I struggle to see how electing a demagogue who has put identity politics at the heart of his campaign and who has just chosen a white nationalist as his chief strategist is going to get us to that pluralistic, tolerant society. If you really want to see an end to identity politics [as reader Alan says he does] why stoke the flames? I am also sympathetic to voters who wanted to cast a protest vote. I myself cast a protest vote in this election, but my protest vote was for a   candidate who had zero chance of winning my state. If there were other options, why did you cast your protest vote for a competitive candidate, unless you also wanted him to win? I am all for protest, but like any other political act, protests have consequences. In deciding to vote for a candidate other than Clinton or Trump, I thought very carefully about what I was doing. I considered whether the election in my state was close enough that enough voters voting the same way as me could tip the balance between Clinton and Trump. I decided that there was a   probability of this happening, and in the end, Clinton won my state by a 30 point margin. I also considered whether I was ok with legitimizing my   candidate’s policies or party. I decided that while I did not agree with everything my candidate said or believed, I had no problem legitimizing those positions. Similarly, before I participated in my city’s (nonviolent)   protest this weekend, I spent several hours carefully considering whether I should be doing this. I do not take protests against   leaders lightly. I considered the possibility that my protest would make President Trump take a more hardline stance than he otherwise would have taken. I considered the possibility that protesting on the streets would undercut the position of moderate Republicans in Congress who will be one of Trump’s few institutional constraints during these next four years. I also considered the possibility that the 60 million people who voted for Trump would take offense at my protest and misinterpret it as an attack against them. But in the end, I decided that since the demonstration would happen in any case, it was better for all sides that it contain more White,   Christian,     Independents like me, so as to prevent the protest from being about “racial minorities versus Whites” or “Left versus Right. ” I knew that my   and   entailed costs and risks that I would not fully internalize, but I calculated that the benefits for society outweighed the costs. For those of you who voted for Trump out of protest, I would love to hear more about your calculation. You have said a lot about what you were voting against, but the other side of the equation is not completely clear to me yet. Did you think that Trump’s critics had exaggerated the harm that a Trump presidency might do to our country’s institutions? Did you think that Trump would abandon most of his policies and that nobody would get hurt? Or did you accept that some people might get hurt by his presidency, but conclude that it could do more good than harm for the country over all? [If you’re a Trump voter and would like to address any of those questions, send a note to hello@theatlantic. com.] No liberal or moderate I know thinks that all or even most Trump voters are racist. But many of us do worry that you have disregarded the risks that come with a Trump presidency, especially the risks that are concentrated on minority groups that Trump has spoken out against. I doubt that this was really the case, and I think you could make your position more understandable by telling us more about what you thought a Trump presidency would actually look like. Ok, so you drain the swamp what happens next? And that brings me to reader Marco. I’m not crazy about political dynasties or corruption either, and I have tried to learn from history. I have studied historical cases of populist and outsider candidates coming to power in presidential democracies, and that is part of the reason why I am so worried. Democracies often fail from within, and   leaders can dismantle democratic institutions, even in established democracies. Venezuela was a   consolidated democracy at the time of its 1998 election, even though its political system was facing a crisis of legitimacy. Within a couple years of that election, the elected populist president had rewritten the constitution, cemented his control over most other state institutions, and severely weakened the political opposition. Uruguay was a   consolidated democracy at the time of its 1971 election. Less than two years after that election, however, the elected “political outsider” president had expanded his emergency powers, arrested opposition leaders, and suspended the Congress. Peru was not quite a consolidated democracy at the time of its 1990 election, but nor was it a new democracy. A few years after a dark horse candidate assumed the presidency, he had closed the Congress, eliminated the independent judiciary, and established a security state. Nor were any of these presidencies paragons of clean government. I do not know that Trump will do any of these things, and I could come up with just as many examples of victorious populist candidates who turned out to have fairly quiet and “normal” presidencies. I can even come up with an example or two of populist presidents who really did make their country greater. But I do not share your optimism that our political institutions will save us, especially when our supposedly strong, democratic norms failed to prevent such a candidate from being elected in the first place. We have only so many safeguards left. Laughs, A video posted by Elliot Tebele (@fuckjerry. tv) on Nov 13, 2016 at 8:20am PST, So far in our reader series exploring the reasons why so many Americans voted for Donald Trump, we’ve heard from an array of perspectives: Lindsey is another reader who is upset by what she sees as the media’s posture against Trump: I’m a   female, lifelong Republican (who voted 3rd party this year) but I woke up the day after the election excited to see mea culpas from pop culture figures and mainstream media. “Finally,” I thought, “they are going to take responsibility for giving Trump a billion dollars of free exposure and for allowing Hillary to coast   through the primaries. ” Do you know what I found instead? A series of   meltdowns and a barrage of more of the same insults that my people have heard so often that they have lost their meanings. I kept a running list of all of the snotty headlines I saw from the “balanced” mainstream media sites on Wednesday, to help explain to my future children why Trump supporters did not CARE what mainstream says. (Kudos to the WSJ bucking the trend: “‘Deplorables’ Rise Up to Reshape America. ”) Try to read the following headlines from the perspective of a child who is 15 years removed from this week’s kerfuffle: Grief. Fear. Disturbing. Broken. Maniac. Disaster. Can you take a step back from nodding at those headlines to see their negative bias? If you can’t, here is a list of article topics I would have liked to see more of the day after the election, things I wish I could expect from responsible,   journalists: The ultimate form of tolerance is hearing people say negative things about you and ignoring it. The ultimate form of confidence is hearing every celebrity and mainstream media outlet in the nation insult your values and still create enough cognitive dissonance to like them and buy their products. These are the two great virtues of the average Trump voter. Disagree with Lindsey’s assessment here? Drop us a note and we’ll keep the debate going. Update from reader Bridgit: While there are plenty of reasons to critique the media after this election, and I believe considered skepticism is an admirable quality, Lindsey’s commentary illustrates two problems facing this country. First, it is unfortunate that a college educated person cannot differentiate between opinion and news pieces. Of the eight headlines Lindsey supplies, only two are actual news, and the rest are commentary pieces. Secondly, there is a complete lack of balance to her   “mainstream” (read: “liberal”) media is far from the only guilty party here. There are plenty of excited, opinionated, uncritical headlines praising Trump from the “alternative” (read: “conservative”) media websites. I am hopeful Lindsey saved some Fox News headlines from Obama’s 2008 campaign and election to show her children? I clearly remember the cable network calling a fist bump between the Obamas a “terrorist fist jab. ” That’s nothing compared to the perpetual propaganda campaign by Sean Hannity on behalf of Trump this election cycle (even to the point where Fox News had to tell Hannity to stop appearing in more campaign ads for Trump). One estimate —  all the way back in August —  put the dollar amount of free airtime for Trump on behalf of Hannity at $31 million. (All of the donations to the Clinton campaign by journalists combined didn’t even reach $400, 000.) Here’s just one of Hannity’s propagandist efforts, from a “town hall” with Trump in Wisconsin —  a traditionally solid blue state he ended up winning in the general election: Update from another reader: That clip you posted of mainstream journalists laughing at the prospect of Trump winning the nomination —  let alone the presidency —  made me think of this legendary act of media smugness, from The Huffington Post: After watching and listening to Donald Trump since he announced his candidacy for president, we have decided we won’t report on Trump’s campaign as part of The Huffington Post’s political coverage. Instead, we will cover his campaign as part of our Entertainment section. Our reason is simple: Trump’s campaign is a sideshow. We won’t take the bait. If you are interested in what The Donald has to say, you’ll find it next to our stories on the Kardashians and The Bachelorette. I noticed that one of the bylines on that announcement is Ryan Grimm, who days before the election went after Nate Silver for “unskewing polls —  all of them —  in favor of Donald Trump”: By monkeying around with the numbers like this, Silver is making a mockery of the very forecasting industry that he popularized. [. ..] I get why Silver wants to hedge. It’s not easy to sit here and tell you that Clinton has a 98 percent chance of winning. Everything inside us screams out that life is too full of uncertainty, that being so sure is just a fantasy. But that’s what the numbers say. What is the point of all the data entry, all the math, all the modeling, if when the moment of truth comes we throw our hands up and say, hey, anything can happen. If that’s how we feel, let’s scrap the entire political forecasting industry. Let’s indeed. Here’s Robert, a reader in Seattle, with another critique of the media, this time from the perspective of a Sanders supporter (“In both foresight and hindsight, Sanders would have been the candidate the country actually wanted most” —  defeating Trump). Robert continues with the kind of impassioned and deft criticism of elites that demonstrates how much of a crossover election this really was: The “liberal” media, as usual, being   is focusing on the trashy side of Trump support rather than take on the corporatist control of our government (and media) which both informed progressives and a large portion of Trump voters see as an existential threat. Why is the analysis seeming to be summed up as, “Gee, there sure are a lot of racists in here”? Racism is a real and significant problem, but it is not THE fundamental problem. Clinton lost because she epitomizes corrupt corporatist control of government. While the elite control the parties and the government, they will use racism, sexism, homophobia, issues of religion and any and everything else available to divide the public.   We are reacting in an oppositional way because we are allowing the corporate media to focus our attention away from the problem. We should be reaching out to our conservatively oriented brothers and sisters who also understand that the working class should be ascendant and not in decline. Who understand that our democracy should represent the people and not the elite. That is absolutely critical moving ahead. When people (read: angry, white, socially conservative,   people) are secure in their jobs and health and future, the negative ’isms tend to fall by the wayside. Those people want stronger Social Security, just like progressives. But their establishment Republican Party has always pushed strongly against that. These people are tired of the establishment. The GOP establishment will probably retain the upper hand and control the agenda in Congress. That will end up alienating the white   Trump voters yet again. It is critical that people of good will set the agenda in the Democratic Party —  or another one if control of the Democratic Party is irredeemably corporatist —  to accommodate and empower the overwhelming   sentiment of the vast majority of the people. To put it succinctly, the Democratic Party has to eject corporatists, Blue Dogs, and   neocons and genuinely reflect   people’s (low and middle income) interests as the   priority, or they will continue to be humiliated, as they have been by losses to W and now even more pathetically to Trump. Progressives need to wake up and clearly understand that a Trump victory is a huge opportunity. It means that there is awareness among conservative   whites that elite control is against their interests, same as informed progressives are aware. Those are our friends in finally throwing off the yoke of corporate rule. Let’s make our movement the rational and coherent and focused and aggressive one against corporate hegemony and for democracy, that they will see as a superior alternative to Trumpism, in spite of their misgivings about the liberal social stuff. Let’s frame the issue so it’s not about “big” government but “corrupt” government. This is a huge opportunity, despite the pain and destruction we will have to endure under Republican rule. In four years we could see real solid progressives representing the vast working middle and poor class. Get to work. Update from Lindsey: Thanks for the edits and the publication, Chris. Your reader Bridgit raised a few good points in her critique of my letter, and I would like to rebut them: Bridgit, I actually agree with you. Fox News delves into   resentful opinion pieces about Obama too often and for that reason, I refuse to watch it . .. just like I refuse to watch, say, The Rachel Maddow Show. The title of this series is, “Will Trump Voters and Clinton Voters Ever Relate? ,” and I hope you can look at the five story suggestions that I, as a conservative, would have liked to have read on Wednesday, November 9th and see not Fox   histrionics, but    coverage that simply colored in some finer details of what may happen as we transition from the Obama Administration to the Trump administration. This, to me, is what balanced journalism looks like, but I find we are far from it, even among the finest papers in the country. I selected mostly opinion pieces because those are what newspapers’ Facebook sites pushed to my feed the day after the election. [CB: Here’s just one piece of many about the awfulness of Facebook.] In my lone anecdotal observation, the ratio of negatively to positively (or neutrally) tinged headlines from the mainstream media was around 7:1 that day. I believe I have the right to expect a more balanced selection of opinions and stories about a   from renowned national journalism sources, even if solely out of respect for the office of the President itself and for the peaceful transition of power we in this country are blessed to experience every four years. Now, I prefer the smart journalism of The Washington Post, The Atlantic, the Times, the WSJ, etc. for my news, but many of my conservative compatriots, however, are not as patient as I am. Unfortunately, seeing so much negativity does not teach them a lesson it simply encourages them to look elsewhere for their information. I will continue to use my “clicks as cash” and reward only the journalism that I perceive gives me the fullest coverage of any given issue and allows me to draw my own political conclusions. I hope you will, too. We’ve gotten a ton of reader response to the long detailed note from the Southern white guy with a master’s degree who voted for Trump because he wanted to bring a “wrecking ball” to Washington. This first reader, Pamela, scratches her head: I read the Southern reader’s note with great curiosity and found his sentiments very familiar and heartening —  until I realized that I still couldn’t comprehend where a vote for Trump, or a wrecking ball, or a middle finger, fit in. I reread it and had the same reaction. Towards the end, where he references “crazy is,” I was unable to follow him to Trump versus Clinton —  it just didn’t jive with their policies. So, I am left wondering what his vision of the future is and how Trump fits that. It sounds like he leads a pretty decent life in a pretty decent place. Room for improvement, sure, but a wrecking ball? I still don’t get it. This next reader is more forceful in his criticism of the Southern Trump voter: Ok, this has been an interesting reader series, but time to push back. I don’t think all Trump voters, or even most Trump voters, are “racist” in some white supremacist sense. But I do think they are missing a pretty fundamental point. Southern Guy’s description of life paints a picture of a pretty nice world in which people of all colors and creeds have opportunities. I agree. I am a Clinton voter. I stand for the pledge, I decorate the graves of my veteran grandfathers on Memorial Day, and I fly the flag on the Fourth of July. We have a great country that has problems to fix (many of which are really hard issues arising from globalization) but it has also made enormous progress.   So then the question is, why take the “wrecking ball” to it? If these folks could look at their own positions from another perspective, they might realize why people suspect that racism motivated their decisions in whole or in part. It is because the results of wrecking things are a lot worse for nonwhites, women, and LGBT folks than they are straight white guys like Southern Guy and me. I work with a Muslim guy with whom I travel out of the U. S. regularly. He’s an American citizen. The  ’s website said —  in a press release (not a random question) which was not changed even when it was called out —  that he would ban my colleague’s   into the U. S. [CB: Though this morning, Trump surrogate Giuliani backed away from the Muslim ban, telling CNN it’s no longer operative.] If you don’t think that would be possible or legal, read Korematsu [the Supreme Court decision allowing for   internment camps during WWII]. Did Trump mean all that? I don’t know. Would he get away with it? Probably not. But guess what? I don’t really have to worry about it I get to come home either way. My Muslim colleague does have to worry. That is my privilege.    Another reader, Alex, expands on that idea of privilege —  but not in the clichéd way that is bandied about too often, to diminish one’s accomplishments or end a discussion: I am a Clinton voter. I imagine that your Trump voter and I have many different viewpoints, beliefs, and life experiences, but I also believe we would find many areas of agreement. I appreciate and do very much relate with his fairly nuanced views. When faced with the choice of bigotry and authoritarianism, a major factor in making that decision is privilege. (Let’s remember that a large portion of Trump voters are actually college educated with higher incomes, not just poor rural whites who were left behind. [According to exit polling, 49 percent of college grads voted for Clinton, 45 percent for Trump —  and he won the white   vote, 49 percent to Clinton’s 45 percent.) Based on your reader’s note, he seems to be aware of these advantages and does touch on them —  but then moves on. And I don’t just mean the typical liberal attack of “white privilege. ” Your reader is correct that it is used too freely and is not always a fair critique. I am speaking of generic privilege. He is a     white male. Part of the majority. Raised by two good parents. He is privileged. I do not say this in a derogatory sense. I myself am privileged in much the same way (educated Cuban male in a   city, born and raised in Miami). Being privileged, we both have the luxury of making a protest vote with limited consequences —  in all honesty, a protest vote I might have entertained with different candidates on the ballot. But not everyone has that luxury. They are rightly worried of increased discrimination, hate, and distrust directed towards them by their fellow citizens and their government. This next reader, Lauren, describes some of the people who are worried about increased hatred and discrimination in the wake of Trump’s election. She addresses the Southern Guy directly: Thanks for flipping me the bird. Because while you may have thought you were flipping off some corrupt politicians, what you were really doing is flipping off people like me who were voting for the progress you deemed unworthy. I’m not going to call you a racist, bigot,   misogynistic, or an uneducated redneck. There’s nothing in your piece that indicates you appear to be any of those things. But did you consider why those who hold those views have been emboldened by and found comfort with your candidate? Did it give you pause that Trump’s campaign chair was the CEO of Breitbart, a home to the   that often stokes the same gender and racial anxieties that are the lifeblood of white nationalists? Did it give you pause when Trump praised Alex Jones, a man that has denied Sandy Hook even happened causing incalculable pain to the parents that lost children that some now want to deny ever existed? Before you set that wrecking ball in motion, did you consider that many might feel the consequences far more deeply and significantly than you will when the house comes crashing down? You’re not the girls and women who woke up in the morning to realize 100 years after a hard fought right to vote was finally achieved, a woman will still not lead the country we love despite being eminently qualified and securing a majority of the votes —  losing to a man who bragged about sexually assaulting women. [See the new piece from my colleague Uri, “Why It’s So Hard for a Woman to Become President of the United States. ”] In 2016, we still only have less than 20 percent representation in Congress, only 4 percent of Fortune 500 CEOs are women, and we still make [$0. 79 to $0. 95] on the dollar. It’s nice that you appreciate that abortion isn’t going away just because we elected a Republican, but a woman’s legal right to a safe and legal abortion may. This may be something you can intellectually appreciate, but it won’t be you seeking an unsafe procedure or experience the fear of consequences of breaking the law. You will not be the woman who desperately wants a child only to be told that child has genetic abnormalities, and that instead of having a safe and legal medical procedure, you will be forced to maintain the pregnancy until you miscarry, deliver a stillborn or deliver a baby only to see that child die in hours, days or weeks. You won’t be the woman who has to wonder if her medical choice for contraception is going to be overridden by her employer’s religious beliefs. You’re not the Dreamer who was brought here as a child who now fears deportation to a country you’ve never known. Crazy is thinking that those who live in the country undocumented are not already experiencing consequences. Crazy is refusing to recognize that they are continuously paying restitution either by not being protected by labor laws or paying into a Social Security scheme they will never benefit from. Crazy is thinking a wall on our Southern border is going to fix the problem of illegal immigration or terrorism —  or that anyone is arguing for open borders in the first place. You’re not the disabled child who woke up to realize that sometimes bullies win. Another reader, Fleur, looks to the environment: I am an independent and always listen to both sides. I agree with almost everything this man is saying and I appreciate the time it took him to say it so well. But it is not true “that coal  still makes sense. ” It does not make sense. I don’t know how scientists have failed to convince the American citizenry of the extraordinary danger we are in   …     but we have failed. I know about Big Oil etc, but too much of our citizenry does not see the danger and it is getting more horrific by the day. And as always, it is going to hurt the little guys worst of all. Barry worries about the economy: Obama was disappointing on many fronts, but largely the disappointing effects facing wrecking ball man were the product of Republican obstructionism and the Fox News Pravda, Tea Party News Network, whiners such as Wrecking Ball man, who expected the worst economic disaster since the Great Depression, the result of the exact economic politics we have just reelected into power, to magically resolve itself back to 1955 —  all while half the nation was already jamming up the works with the same outlandishly hypocritical “I am not a racist” nonsense applauding inaction. I would believe characters like your reader had they likewise tossed out the   Congress and Senate on its ear   …     but no, not so.   Jonathan takes a conservative approach to the kind of radical change that a Trump wrecking ball could bring to institutions and the status quo: First off, I wanted to applaud you on sanctioning and hosting the sorely needed discussion to find common ground between the Clinton and Trump, left and right camps. To my white, male, Christian friend with the wrecking ball, I want to first express what a shame it is that he feels he has to preface his perspective with a repeated insistence that he is not prejudiced, and that he actively eschews discrimination. In a pluralistic society such as ours, we owe one another the presumption that we are   and tolerant until it is demonstrated otherwise, not the reverse. I would agree with him that our political system and its attendant institutions have grown extraordinarily perverse, and that swift and decisive intervention is necessary. The trouble with adjusting, let alone overhauling, such a monolithic structure is that any such societal paradigm perpetuates itself by convincing its constituent members that there is no viable alternative. Failing that, it menaces extremely adverse consequences to anyone who tries to replace it, and does its utmost to ensure this is the case. We have every reason to believe that our system will make good on its threat to take us all with it. To be sure, that unsettling possibility alone is not reason enough to shrink from confronting a social system, but my question to the Southern reader is what gives you or anyone else the right to indulge your desire to tear the system down at the expense of all those who will suffer immensely in its wake? I don’t mean that to rhetorically imply the absence of a rationale for this, but I ask this sincerely. I’ll update with a response from the Southern reader if he’s game. Beverly anticipates his response: Yes, I know that this is what you shudder to hear: the cry of guilty white liberals who must apologize for their own good fortune. However, a person who has the privilege of turning down Yale also has more responsibility than others for not only knowing, but also facing and interpreting, the history of the country in which he lives. He must know, and admit, that people came from across the sea, and, by virtue of their imagined authority of nation, sovereign, and flag, had the privilege —  yes, privilege, for it was not their right —  of appropriating another people’s land for their own. The past is prologue. He must know, and admit, that fortunes which have been preserved to this very day, were acquired from the forced labors of enslaved people. The past is prologue. He must know the history of   and de jure policies which artificially limit, and continue to limit, the lived spaces, employment, and educational prospects of so many Americans. After all, he admits to “reading a few history books. ” I don’t know what he’s read, but perhaps he’d like for me to recommend a few more. Here’s one more response from the wave of email that’s come into hello@ from Amanda: I respect people’s reasons for voting Trump. I empathize with the concerns of many of them, and I thought the “Wrecking Ball” reader’s essay provided another view into people who made this decision. Then I got to these lines and had to respond: Here’s the recipe for success and comfort in modern America: Stay in school, do your best, stay away from drugs, don’t have kids until you are no longer a kid, don’t break the law. That’s not the recipe for success at all. Talk to people in my generation. I’m 32, at the older age of the millennials. I went to a great, nationally ranked liberal arts college. My friends and I, we followed all your rules, and we do not have comfort and success in modern America. My friends from school don’t own houses, most of us don’t have children, and we’re all struggling to manage paycheck to paycheck. We have master’s degrees, because employers didn’t think our bachelor’s were enough. We stayed in school and then some. I have a J. D. from an Ivy League law school. I make my public sector salary work —  and let’s note that I work in the public sector because it provides me with reasonable hours. My chronic illnesses prevent me being able to work those   law jobs everyone always talks about. We stayed in school. We did our best. We have to put medical expenses on credit cards. I just had to have a tooth pulled because I could not afford the $1300 crown and root canal. I have a hole in my mouth. We didn’t exactly stay away from drugs, but, well, we weren’t addicted to them either. We were lucky, in retrospect. We were privileged here. As for the law, I think the extent of our   is related to the casual drug use, but I haven’t surveyed everyone on this part. You don’t have to worry about the kids part we can’t afford them, and we’re doing everything we can to keep from having them. Your opposition to abortion presumes that the only people who need abortions are careless, are doing something wrong somehow. I respect your views, but I want to point out that, with that line, you evidenced how you don’t understand what is happening in our economy and country. It is not just people mooching off of welfare, downtrodden coal miners, and people like you —  who aren’t rich! But are incredibly privileged. People with this privilege often don’t recognize it and don’t want to recognize it. Your letter indicates your parents probably did well for themselves, enough for them to be comfortable and help you out to. As Americans, we need to be frank and admit that working hard and doing your best are not enough in most cases if you do not come from a   or better background. It’s not just   folks who are getting set back months, or years, by a   car or a medical expense. We did everything (almost) to the letter. So why aren’t we seeing the results? My parents could never afford to help me. I took out loans, I got scholarships, I did what I was “supposed” to do to get ahead. I am drowning in medical debt because of the health insurance situation in this country. I am doing the very best I can and it is not enough. And I know that Donald Trump does not give a shit about any of this and doesn’t want to help people like me. After all, it must be that we didn’t work hard enough! If only I’d worked as hard as Trump and his kids. That’s how reader Ray describes himself in the subject line of the note he sent to hello@. The question Ray closes with is the most compelling: Should you take a gamble with a volatile candidate or one who’s predictably corrupt? I grew up on the West Coast, raised by Indian immigrants, went to a liberal university, and voted liberally on most stances until this election. I am currently working on a   professional degree, so I am not uneducated. My vote for Trump is a protest vote —  a protest that Sanders couldn’t provide. I’m tired of our country being whored out to the highest bidder. I’m tired of people coming into this country illegally, taking away the justice due to those who have waited in line for years to get into this great country. I’m tired of politics as usual. I’m tired of   safe spaces, and the general retreat on being confronted with opposing views. I’m tired of the sense of entitlement present in many of my peers. I’m tired of pretending that the U. S. is   while seeing my friends sipping their mochas in LA, SF, and NYC, ignoring the plight of the “flyover” states. I’m tired of accepting that U. S. politics is an inevitable palace of corruption, with trim made of corporate donations, a carpet of immunity, and a chandelier of complacency. I’m tired of accepting politics as the broken system we see today. As of very recently, I’m tired of   individuals grouping Trump supporters as ignorant, racist,   sexist. I was one of those people casting the judgement before the campaigns began. However, after having changed my opinion —  contrary to late night shows and other   political comedy —  now I’m just uninformed and racist. When I was trying to spread the Wikileaks revelations about the corruption of Clinton, I was wearing a tinfoil hat and was “unrealistic” about the nature of politics. The cognitive dissonance of former Sanders supporters was so strong it just about knocked me off my chair. The media response to Trump firmly solidified my position with Trump. The New York Times, The Atlantic, The New Yorker, and The Washington Post —  all my beloved bastions of journalism —  began a coordinated effort to turn their outlets into the the daily Trump takedown. They firmly stepped into the bubble of  : It is not possible for contradictory views of the 2016 election to exist without being racist or ignorant. Instead, they continued to perpetuate identity politics and wedge issues. Trump supporters couldn’t have legitimate views worthy of discussion, right? They obviously had to be bigots. If you feel that 50 million of your countrymen are racists and ignorant voters, I feel sorry for you. I implore those people to come on down from their towering high horse and talk to the simpletons, racists, and bigots outside of their society. Maybe when they’re trying to tell those simpletons how misguided they are, about how Kansas isn’t acting in its own best interest, the   society can take a moment to fairly consider the simpleton’s argument for but just a moment. That is, before they retreat to a place of intellectual and moral superiority —  again, telling Kansas what’s the matter with it. A political cartoon I saw last week captured my sentiment about the two major candidates in 2016. I view Clinton and Trump as a game of Russian roulette, with each candidate being a different revolver. Clinton’s is fully loaded with corruption, propaganda, and bad decisions as a leader. Trump’s is only half loaded. Which one should Lady Liberty spin and point at her head? This next reader, Nana, also had major qualms with both candidates but comes down on Trump the hardest: I am a cross between your reader Marco [“The Smell of Corruption Emanating From the Clinton Machine”] and your Southern reader [“I Voted for the Middle Finger, the Wrecking Ball”] and, except for a few differences here and there, I could have written the latter’s piece. I am an immigrant from Africa with a PhD in engineering. I have lived in Texas, the Midwest, and now live in a red state in the Southwest. I love this country and, no matter how one voted, I think it is important that we all accept Trump as our   and pray for his success. But I don’t think the primary issue that concerns people who did not vote for Trump is the usual divide between Democrats and Republicans, conservatives and liberals, Red and Blue that often shape our political discourse, although that is what this discussion seems to be devolving into. Like Marco, I abhor the corruption of our politicians and feel a bit queasy about dynastic politics, but I also recognize that dynastic successions are not that uncommon in other areas such sports, media, business, and religious institutions —  and they need not be corrupting. I could quibble with Marco on the extent to which “the smell of” Clinton’s political corruption is somehow worse than Trump’s   corruption in his business life. But I wouldn’t have a problem with Marco deciding to vote for Trump on the basis of those two issues, if those were all we have to consider in selecting a President. Similarly, I share your Southern reader’s frustrations about our inability to secure our borders, or have sensible immigration or health care policies. I understand his desire to vote for “the wrecking ball” to give us a kick. By most accounts, Trump’s victory is largely due to Americans with similar frustrations voting for him. I suspect Romney, John Kasich, the Bushes, and the Republicans that came out forcefully against Trump share much of the concerns of Marco, your Southern reader, and most Americans. Our elections are mostly about our preferences for addressing such concerns. The constant refrain from these Trump voters here is that people are judging them as uneducated, bigoted, xenophobes, or misogynists just because they voted for Trump. If this is happening, it is clearly wrong and we should all push back forcefully against that narrative. But I don’t think that is the issue here. The shock of those who did not vote for Trump, including Romney, Kasich and several Republicans, is about something entirely different, I suspect. People waste no time pointing to Obama’s single comment about some “bitterly clinging to their guns and religion” as ample evidence of his identity politicking or bigotry. Many were aghast at Clinton’s truly deplorable comment describing some of Trump supporters as irredeemable “deplorables. ” And who can forget Romney’s “47 percent” comment that likely contributed to his loss in 2012. Each comment, while deplorable, was made by a politician in an unguarded moment. That doesn’t excuse it. But you know what? Each of them apologized profusely and paid a price. More importantly, not one of them repeated or stood by those comments for the rest of their campaigns. If Trump had made a couple of such unfortunate comments, apologized, and moved on, I would hope we would too. But in Trump’s case something quite different happened. Right from day one, he seemed to have chosen purposefully to use xenophobia and bigotry as tools to sow division. Not only did he repeatedly do this, but based on the evidence we have all seen and heard, I feel comfortable describing Trump as a xenophobe, bigot, and misogynist. Unfathomably, Trump’s campaign seemed to condone support from   even though he has Jewish family members. If he is none of these things as some say, but chose to play a part to win this election, that is even more despicable. Again, it is preposterous to suggest that all Trump voters share these characteristics. However, a not insignificant segment of Trump supporters, by their words, deeds, clothing at campaign rallies, and associations with hate groups, do seem to share some of these characteristics with Trump. It is one thing to vote for a populist or even volatile candidate who rails at the usual suspects of corrupt politicians, out of touch elites, the media, big business, unions, opposing parties and the typical broad groups both sides attack in elections. What is different here is that clearly   and decent voters, some of whom voted for Obama in 2008 and 2012, voted for a candidate that explicitly used bigotry, xenophobia, and misogyny as campaign tools to sow division. Even if you want to blow up the system, you don’t throw your fellow Americans under the bus. That is what is disturbing. Update from Nana: I don’t know if it matters at this point, but here is a point of clarification. Reading my email, I can see how you might think this, but I really do not have any major qualms with Clinton. Moreover, the issues I think need addressing —  border security, immigration, health care —  are universal. Clinton voters also want to see those issues addressed but in a different way. My point to all of us —  and to push back a little at both Lindsey and Robert today —  who from either side seem to be resorting back to the usual “let’s blame the ‘media,’” this election was really about us and our values, regardless of what the “media” did or did not do. There is a larger point to be made to these Trump voters who bristle at being tagged with Trump’s sins of bigotry, xenophobia, and misogyny, and I agree they really shouldn’t be tagged with them. But, if you will notice, none ever say Trump himself is not guilty of those sins. Minus Trump’s bigotry, misogyny, and xenophobia and the willingness to use them in the election, I wouldn’t begrudge any voter for picking him, although I personally wouldn’t for a variety of other reasons. But the choices would not have been that different from your usual suspects. What I think is staring us right in the face but we seem unwilling to confront is the following: Now that he is president, we must move forward and determine how best to live with our collective decision. But picking the Trump we know with his bigotry, misogyny, and xenophobia, smacks of those voters saying, “I don’t commit those sins myself and abhor them, but I will condone them from Trump, wielded in my name against a large segment of my fellow citizens, because I like the benefits we saw from his campaign (e. g. Lindsey) and believe he can solve America’s problems for all our benefits (e. g. Marco and your Southern reader). ” Maybe it’s because of my immigrant perspective, but who wants benefits acquired by those means? What sins in our name will we be willing to accept next month, next year, or during the next election? So far we’ve heard from two Trump voters in great detail: Alan, who’s most animated by identity politics, and our Southern reader who wants to take a “wrecking ball” to Washington. But both readers also had major qualms with the Trump candidacy. Another reluctant Trump voter, Marco, describes his deep aversion to establishmentarianism and dynastic politics —  and he doesn’t spare the Republicans one bit: We shouldn’t be asking what happened with Trump. What happened to The Atlantic? I’ve been a reader for years, after abandoning Time and Newsweek because of their   superficiality. The appearance of considered thoughts at The Atlantic is what kept me there. But since you decided to take sides in the presidential election, strident hysterical writing is all I find, especially on November 9. That’s perhaps understandable The Day After, but, folks, the sky won’t fall. It won’t fall because the U. S. government’s institutions are designed to prevent irrational outcomes to a good degree. Trust the system a little, if you learned anything from history. I probably do not feel the pain to the same degree as you do, though I am concerned, and on pins and needles. I admit it: I voted for Trump —  at the limit of my tolerance for bad taste and unhinged statements. But I did so not because I am an undereducated, violent, intolerant,   xenophobe —  as the press has made habit of defining Trump supporters. I have an MBA. I refuse violence and support gun control. And I’m an immigrant, now a citizen after obtaining green cards twice, all by the legal process. I voted for Trump only because of the smell of corruption emanating from the Clinton Machine. That smell is well documented by Wikileaks and Podesta’s emails depicting the Clinton Foundation   State Department connections. To that you can add the past four decades of continuous scandals —  why only them with so many? You get my picture. But there is one more reason to fear their corruption: the history of ALL countries around the world, since WWII, where an immediate relative followed a president or PM (see my list below). In all cases, either the “succession” was made possible by endemic corruption, or advanced it as a result, or both. This is to be expected when the vested interests supporting one person get to take advantage of continued control of the government from behind the scenes by electing the relative. By the way, the Bushes fit that pattern too. I objected to Jeb Bush on those grounds. Democratic institutions can control visible political activity (and will control Trump’s extremes) but they cannot control the invisible quid pro quo that corruption brings. Trump’s lack of institutional backers is the attractive part. If he can just push and deliver term limits and limits on lobbying, as he promised, he will have drained enough of the swamp. Beyond that the Congress can handcuff him as necessary. So, perhaps the sky is not falling and a more reasoned discussion could help your readers, and recover the high editorial standards of The Atlantic. More importantly, you could help voters understand that women can and do make great leaders (Thatcher, Meir, Merkel) but we have to pick those that built their own career on their own ability, not those pushed along by private interests. Let’s hope for a better choice next time. Here’s the list of dynastic world leaders that Marco compiled (I added # ): Did the Democratic Party make a mistake backing another Clinton? Can you relate to reader Marco’s sentiments? If so, does it matter when it comes to backing Trump? Drop us a note if you’d like to respond to Marco. Update from another reader, Rick: “This is the first   argument that doesn’t scare me to death. ” Then let reader Mark try: I would like to point out the obvious: The Clinton dynasty is likely over whenever Hillary is done. The Bush dynasty still has some legs. But the Trump dynasty is just beginning. He gave his children large roles in his campaign and will either give them roles in his administration or will have them overseeing his business. To put it ungenerously, we now have our own Uday and Qusay. But don’t discount the Clinton dynasty yet there is widespread speculation that Chelsea is being groomed for a congressional run. Reader David, on the other hand, doesn’t see dynastic politics as necessarily a bad thing: “Well, I think we got pretty good stuff from the Roosevelt ‘dynasty’ —  Teddy and FDR!” Circling back to Marco, here’s a reader rebuttal from Emily: Thanks for your honesty, Marco. But are you having misgivings about   Trump’s hiring of his three children for his transition team at the same time that they are in charge of a blind trust that will manage his businesses? Are you concerned that this doesn’t meet the legal standard for blind trusts, and that Trump’s banks of record and businesses will undoubtedly be affected by his relationships with other foreign leaders? He acknowledged throughout the campaign that his children would run this “trust” it’s not a surprise. To me, this arrangement makes the issues around the Clinton Foundation look like running a lemonade stand. Here’s reader Martha with a longer rebuttal: I truly appreciate Marco’s thoughtfulness, but I can’t agree with his conclusions. I applaud his   arguments for Mr. Trump and appreciate his observations about the Clintons. I thought both of our choices this election were awful. Yet, a vote for Mr. Trump was a step too far. First, to respond to the observations about the Clintons: I agree there is a whiff of something unpleasant about them and I believe they have a history of walking up to the line —  and perhaps crossing it. However, I have to temper this observation with the years of their being pursued by a political paparazzi that, especially in the Internet age, states the most awful things about them as truth (murder anyone? ). A recent example is the furor over access of donors to the Clinton Foundation to the secretary of state, portrayed by certain Republicans and Clinton haters as   . There may be something there, but if so, I haven’t seen it yet. As someone who spent more than 30 years in a large federal department, I know that   officials DO meet with individuals they know and do sometimes meet with people who may, or whose families may, have contributed to a campaign or cause dear to the official’s heart. This does not mean that such contacts are    or inappropriate. I have not seen “results” stated that would demonstrate Secretary Clinton made inappropriate decisions based on these contacts. I feel much of what has been written about the Clintons is not corruption. I do agree that some of it gives the “appearance” of questionable behavior. And I have been disturbed that the Clintons seem to demonstrate questionable lapses time and again. They don’t seem to learn. But I have not seen proof of criminality or intent to harm or corrupt. Now, on to Mr. Trump: If I can see where Marco is coming from regarding the Clintons (though I don’t draw conclusions as harsh as his) then I ask he   Mr. Trump and his potential corruption. Like the Clintons, there is no direct proof, but his business dealings raise questions about his ethics. Did he really let his investors take the hits during his bankruptcies through some fancy legal and tax footwork? Has he really borrowed from Russian banks and had contact with Russian officials during the campaign? Does he really stiff contractors, architects, purveyors, etc.? The list goes on. So, I think neither candidate is free of questions concerning corruption, but they were the choices we had. Based on that, I selected Secretary Clinton for her foreign policy experience (even if too hawkish for my tastes) her support of climate change initiatives, her policy chops, her social agenda, her support of the environment, etc. And she conducts herself well. Mr. Trump’s language and behaviors are scary to me. Here’s Dorothy with another strong rebuttal —  directly addressing Marco here: I appreciate your willingness to share your thoughts about this since so many of us are trying to figure out why our fellow Americans think at Trump presidency could possibly be a good idea. And I really mean that I’m not being snarky. Given some of the hateful things that have occurred since Election Night [my colleague Emma collected some in Philly] it gives me comfort to hear from good, reasonable people like yourself. Nevertheless, I find some of what you have laid out puzzling, given how our system of government functions and the fact that one party is fully in charge of two of the three branches and in a position to shape the third for a generation. This statement, in particular, struck me: Trump’s lack of institutional backers is the attractive part. If he can just push and deliver term limits and limits on lobbying, as he promised, he will have drained enough of the swamp. Beyond that the Congress can handcuff him as necessary. I regret to inform you that he can do neither of those things without Congress, and a Congress finally out from under the yoke of a White House occupied by a different party is not going to take up either of those items. In fact, Senate Majority Leader Mitch McConnell already dismissed that out of hand this week, not wasting more than 30 seconds on it. And what incentive does Congress have to handcuff him? Except for the two things you would most like to see happen, they largely agree with Trump on the things that will be most hurtful to most Americans: repealing the ACA gutting the Clean Air and Clean Water Acts (perhaps abolishing the EPA altogether) deregulating the financial industry so that they can get back to the tricks that brought on the Great Recession, etc. And for at least two years there will be nobody or no mechanism of government (particularly after they pack the court with loonies) to put a check on a radical   Republican agenda. I can also say that I have A LOT of sympathy for your opinion of dynasties. One of the many reasons I was a devoted supporter of Barack Obama in 2008 was that if Hillary Clinton had won the nomination and gone on to win the general election that year, the sitting president would have had the surname Bush or Clinton for my entire voting life, and I was 41 years old at the time. But Donald Trump has appointed three of his children (and his   ) to his transition team while these same three children are running his business interests. His business dealings and his public office are already completely commingled. You find his lack of “institutional backers” attractive, but he has one institutional backer with unfettered access to the White House: THE TRUMP CORPORATION. I hope you’re right and that the sky doesn’t fall, because if it does the one thing that will unite those of us who did and didn’t vote for Trump is how screwed we will be.'"
            ]
          },
          "metadata": {},
          "execution_count": 76
        }
      ]
    },
    {
      "cell_type": "code",
      "execution_count": null,
      "metadata": {
        "id": "htPfTOhlctQL",
        "outputId": "cf1c6b07-67b0-4782-836e-ff1227523025"
      },
      "outputs": [
        {
          "data": {
            "text/html": [
              "<div>\n",
              "<style scoped>\n",
              "    .dataframe tbody tr th:only-of-type {\n",
              "        vertical-align: middle;\n",
              "    }\n",
              "\n",
              "    .dataframe tbody tr th {\n",
              "        vertical-align: top;\n",
              "    }\n",
              "\n",
              "    .dataframe thead th {\n",
              "        text-align: right;\n",
              "    }\n",
              "</style>\n",
              "<table border=\"1\" class=\"dataframe\">\n",
              "  <thead>\n",
              "    <tr style=\"text-align: right;\">\n",
              "      <th></th>\n",
              "      <th>id</th>\n",
              "      <th>title</th>\n",
              "      <th>publication</th>\n",
              "      <th>author</th>\n",
              "      <th>date</th>\n",
              "      <th>year</th>\n",
              "      <th>month</th>\n",
              "      <th>url</th>\n",
              "      <th>content</th>\n",
              "      <th>tokenized</th>\n",
              "      <th>num_wds</th>\n",
              "    </tr>\n",
              "  </thead>\n",
              "  <tbody>\n",
              "    <tr>\n",
              "      <th>57082</th>\n",
              "      <td>78406</td>\n",
              "      <td>\\nWill the Liberal Bubble Burst? Your Thoughts\\n</td>\n",
              "      <td>Atlantic</td>\n",
              "      <td>Chris Bodenner</td>\n",
              "      <td>2016-11-21</td>\n",
              "      <td>2016.0</td>\n",
              "      <td>11.0</td>\n",
              "      <td>NaN</td>\n",
              "      <td>Atlantic readers from across the political spe...</td>\n",
              "      <td>atlantic readers from across the political spe...</td>\n",
              "      <td>28836</td>\n",
              "    </tr>\n",
              "    <tr>\n",
              "      <th>57087</th>\n",
              "      <td>78411</td>\n",
              "      <td>\\nTake It From a ‘Liberal Redneck’\\n</td>\n",
              "      <td>Atlantic</td>\n",
              "      <td>Chris Bodenner</td>\n",
              "      <td>2016-11-22</td>\n",
              "      <td>2016.0</td>\n",
              "      <td>11.0</td>\n",
              "      <td>NaN</td>\n",
              "      <td>Atlantic readers from across the political ...</td>\n",
              "      <td>atlantic readers from across the political sp...</td>\n",
              "      <td>28430</td>\n",
              "    </tr>\n",
              "    <tr>\n",
              "      <th>57099</th>\n",
              "      <td>78426</td>\n",
              "      <td>\\nTrying to Avoid Politics Over Thanksgiving\\n</td>\n",
              "      <td>Atlantic</td>\n",
              "      <td>Rosa Inocencio Smith</td>\n",
              "      <td>2016-11-30</td>\n",
              "      <td>2016.0</td>\n",
              "      <td>11.0</td>\n",
              "      <td>NaN</td>\n",
              "      <td>Atlantic readers from across the political spe...</td>\n",
              "      <td>atlantic readers from across the political spe...</td>\n",
              "      <td>26813</td>\n",
              "    </tr>\n",
              "    <tr>\n",
              "      <th>136581</th>\n",
              "      <td>206095</td>\n",
              "      <td>Full transcript: FBI Director James Comey test...</td>\n",
              "      <td>Washington Post</td>\n",
              "      <td>Washington Post Staff</td>\n",
              "      <td>2017-03-20</td>\n",
              "      <td>2017.0</td>\n",
              "      <td>3.0</td>\n",
              "      <td>https://web.archive.org/web/20170321001527/htt...</td>\n",
              "      <td>Below is the full transcript from the...</td>\n",
              "      <td>below is the full transcript from the house i...</td>\n",
              "      <td>49902</td>\n",
              "    </tr>\n",
              "    <tr>\n",
              "      <th>137587</th>\n",
              "      <td>207354</td>\n",
              "      <td>Full transcript: Sally Yates and James Clapper...</td>\n",
              "      <td>Washington Post</td>\n",
              "      <td>Washington Post Staff</td>\n",
              "      <td>2017-05-08</td>\n",
              "      <td>2017.0</td>\n",
              "      <td>5.0</td>\n",
              "      <td>https://web.archive.org/web/20170509003603/htt...</td>\n",
              "      <td>Former acting attorney general Sally...</td>\n",
              "      <td>former acting attorney general sally yates an...</td>\n",
              "      <td>27485</td>\n",
              "    </tr>\n",
              "  </tbody>\n",
              "</table>\n",
              "</div>"
            ],
            "text/plain": [
              "            id                                              title  \\\n",
              "57082    78406   \\nWill the Liberal Bubble Burst? Your Thoughts\\n   \n",
              "57087    78411               \\nTake It From a ‘Liberal Redneck’\\n   \n",
              "57099    78426     \\nTrying to Avoid Politics Over Thanksgiving\\n   \n",
              "136581  206095  Full transcript: FBI Director James Comey test...   \n",
              "137587  207354  Full transcript: Sally Yates and James Clapper...   \n",
              "\n",
              "            publication                 author        date    year  month  \\\n",
              "57082          Atlantic         Chris Bodenner  2016-11-21  2016.0   11.0   \n",
              "57087          Atlantic         Chris Bodenner  2016-11-22  2016.0   11.0   \n",
              "57099          Atlantic   Rosa Inocencio Smith  2016-11-30  2016.0   11.0   \n",
              "136581  Washington Post  Washington Post Staff  2017-03-20  2017.0    3.0   \n",
              "137587  Washington Post  Washington Post Staff  2017-05-08  2017.0    5.0   \n",
              "\n",
              "                                                      url  \\\n",
              "57082                                                 NaN   \n",
              "57087                                                 NaN   \n",
              "57099                                                 NaN   \n",
              "136581  https://web.archive.org/web/20170321001527/htt...   \n",
              "137587  https://web.archive.org/web/20170509003603/htt...   \n",
              "\n",
              "                                                  content  \\\n",
              "57082   Atlantic readers from across the political spe...   \n",
              "57087      Atlantic readers from across the political ...   \n",
              "57099   Atlantic readers from across the political spe...   \n",
              "136581           Below is the full transcript from the...   \n",
              "137587            Former acting attorney general Sally...   \n",
              "\n",
              "                                                tokenized  num_wds  \n",
              "57082   atlantic readers from across the political spe...    28836  \n",
              "57087    atlantic readers from across the political sp...    28430  \n",
              "57099   atlantic readers from across the political spe...    26813  \n",
              "136581   below is the full transcript from the house i...    49902  \n",
              "137587   former acting attorney general sally yates an...    27485  "
            ]
          },
          "execution_count": 45,
          "metadata": {},
          "output_type": "execute_result"
        }
      ],
      "source": [
        "long_reads"
      ]
    },
    {
      "cell_type": "code",
      "execution_count": 77,
      "metadata": {
        "id": "6QGuUv8lctQL",
        "outputId": "00c13511-688e-477c-f6ec-4c889dcfae0e",
        "colab": {
          "base_uri": "https://localhost:8080/",
          "height": 230
        }
      },
      "outputs": [
        {
          "output_type": "execute_result",
          "data": {
            "text/html": [
              "<div>\n",
              "<style scoped>\n",
              "    .dataframe tbody tr th:only-of-type {\n",
              "        vertical-align: middle;\n",
              "    }\n",
              "\n",
              "    .dataframe tbody tr th {\n",
              "        vertical-align: top;\n",
              "    }\n",
              "\n",
              "    .dataframe thead th {\n",
              "        text-align: right;\n",
              "    }\n",
              "</style>\n",
              "<table border=\"1\" class=\"dataframe\">\n",
              "  <thead>\n",
              "    <tr style=\"text-align: right;\">\n",
              "      <th></th>\n",
              "      <th>id</th>\n",
              "      <th>title</th>\n",
              "      <th>publication</th>\n",
              "      <th>author</th>\n",
              "      <th>date</th>\n",
              "      <th>year</th>\n",
              "      <th>month</th>\n",
              "      <th>url</th>\n",
              "      <th>content</th>\n",
              "      <th>tokenized</th>\n",
              "      <th>num_wds</th>\n",
              "    </tr>\n",
              "  </thead>\n",
              "  <tbody>\n",
              "    <tr>\n",
              "      <th>57082</th>\n",
              "      <td>78406</td>\n",
              "      <td>\\nWill the Liberal Bubble Burst? Your Thoughts\\n</td>\n",
              "      <td>Atlantic</td>\n",
              "      <td>Chris Bodenner</td>\n",
              "      <td>2016-11-21</td>\n",
              "      <td>2016.0</td>\n",
              "      <td>11.0</td>\n",
              "      <td>NaN</td>\n",
              "      <td>Atlantic readers from across the political spe...</td>\n",
              "      <td>atlantic readers from across the political spe...</td>\n",
              "      <td>28836</td>\n",
              "    </tr>\n",
              "    <tr>\n",
              "      <th>57087</th>\n",
              "      <td>78411</td>\n",
              "      <td>\\nTake It From a ‘Liberal Redneck’\\n</td>\n",
              "      <td>Atlantic</td>\n",
              "      <td>Chris Bodenner</td>\n",
              "      <td>2016-11-22</td>\n",
              "      <td>2016.0</td>\n",
              "      <td>11.0</td>\n",
              "      <td>NaN</td>\n",
              "      <td>Atlantic readers from across the political ...</td>\n",
              "      <td>atlantic readers from across the political sp...</td>\n",
              "      <td>28430</td>\n",
              "    </tr>\n",
              "    <tr>\n",
              "      <th>57099</th>\n",
              "      <td>78426</td>\n",
              "      <td>\\nTrying to Avoid Politics Over Thanksgiving\\n</td>\n",
              "      <td>Atlantic</td>\n",
              "      <td>Rosa Inocencio Smith</td>\n",
              "      <td>2016-11-30</td>\n",
              "      <td>2016.0</td>\n",
              "      <td>11.0</td>\n",
              "      <td>NaN</td>\n",
              "      <td>Atlantic readers from across the political spe...</td>\n",
              "      <td>atlantic readers from across the political spe...</td>\n",
              "      <td>26813</td>\n",
              "    </tr>\n",
              "  </tbody>\n",
              "</table>\n",
              "</div>"
            ],
            "text/plain": [
              "          id  ... num_wds\n",
              "57082  78406  ...   28836\n",
              "57087  78411  ...   28430\n",
              "57099  78426  ...   26813\n",
              "\n",
              "[3 rows x 11 columns]"
            ]
          },
          "metadata": {},
          "execution_count": 77
        }
      ],
      "source": [
        "long_reads.sort_values(by=\"num_wds\", ascending=False)"
      ]
    },
    {
      "cell_type": "code",
      "execution_count": 78,
      "metadata": {
        "id": "1e0rS4rxctQL",
        "outputId": "86c5d7a0-59e0-4536-b708-11b0d129df40",
        "colab": {
          "base_uri": "https://localhost:8080/"
        }
      },
      "outputs": [
        {
          "output_type": "execute_result",
          "data": {
            "text/plain": [
              "array(['Atlantic readers from across the political spectrum discuss the results of the U. S. presidential election and what it means for the country. (The Atlantic’s overall stance on Donald Trump remains firm.) To join in, especially if you’re a Trump voter, please send us a note: hello@theatlantic. com. ’Saturday Night Live’ punctures the liberal bubble https:  .  pic. twitter.  My colleague Andrew McGill wrote a punchy piece over the weekend called “The U. S. Media’s Real Elitism Problem. ” An excerpt: In the aftermath [of Trump’s victory] many of the immediate   blamed a coastal bubble: Too many journalists had grown nearsighted in urban Democratic enclaves, the reasoning went, blinding them to what was taking place in Middle America. If more reporters actually spent time in   country, instead of jetting through for a rally, they’d understand why Donald Trump won voters over. [. ..] [T]here’s little question the journalistic class has diverged sharply from the country it covers. In 1960, nearly a third of reporters and editors had never attended a single year of college in 2015, only 8. 3 percent could say the same, according to Census figures extracted with the help of the University of Minnesota’s IPUMS project. That year, 46 percent of adults 25 and older nationwide had never attended a university. Andrew also made a great little graph showing how our fellow members of the media have congregated on the coasts: For a reader debate on the media’s role in this election, see “A Middle Finger to the Mainstream Media,” sparked by Lindsey, a   Republican. Brett responds: I’m a    teacher who grew up and attended college in Oklahoma, moved to Alaska for a few years after I got married, then moved to NM, where I currently reside. This narrative about how poorly Trump and his voters are treated by the media is   embarrassing. We have here a group of people that looked at the fact that every adult in the room was telling them that this was a terrible mistake and took that as a sign of their virtue. And it wasn’t just the usual suspects in the   liberal media conservative newspapers broke with hundreds of years of precedent to point out that —  despite their concerns with Clinton —  this was an election unlike any other and that it would be unwise to elect a temperamentally buffoonish man to the White House. And it didn’t make one iota of difference. Now, when everyone recoils in horror at the terrible damage that has been done, that is further evidence of the Trump voter’s righteousness? Another reader, Chris, thinks we’re missing a big point about the media’s role in this election: As preface, a brief synopsis of my background: I’m a   white, straight, Southern male. I was born in South Carolina, about 30 minutes from where they flew the Confederate flag, and I’ve there most of my life. I’m college educated, married, and   in Atlanta now. I’ve worked extensively in Republican politics, including for Congressman Joe Wilson (of You Lie! fame) and in various state and federal elections. I voted for Bush, McCain, Romney and in this election, Hillary Clinton. I’m fiscally conservative and socially liberal. Before this election I’d have called myself a Republican, but now I guess I’m a   Libertarian or maybe a   Democrat —  if either of those things are things.   Lindsey echoes much of what I see daily from friends, family, and acquaintances on my Facebook feed. Her point raises one I’d like to make, and that I don’t believe has been explicitly made on your site. “Mainstream media” is an oversimplified attempt to describe dozens of entities ranging the ideological spectrum. There are plenty of traditionally liberal    obviously, and there are a litany of conservative outlets across all platforms as well but they’re no more a collective than Glenn Beck and Rush Limbaugh or NPR are collectively talk radio. If there’s criticism to be levied at the mainstream media, it’s not for any specific political bias. Rather, such criticism should stem from the industry’s willingness to devolve, over the last decade or two, from information providers into infotainment peddlers. CNN and Fox and MSNBC keep a   stream of talking heads on their networks, and they do it to drive conflict and drama, and they do that to drive ratings and subsequently advertising revenue. As the amount of legitimate news that’s available to report is less than the airspace they have to sell, they have filled the gaps with commentary, opinion, and (in a lot of cases) drivel, and then called that news.   That commentary has become   on both sides, because in order to keep the eyes glued to the TV, you’re forced to forever ramp up the rhetoric, to call everything a crisis, to proclaim whatever it is you’re talking about to be the most important thing going on anywhere. It’s my belief that the American electorate has become largely incapable of distinguishing between legitimate news and   (pardon the phrasing) nonsense designed to rile up the   or produce     . In a society where we can’t tell the difference between news and entertainment, we treat everything as entertainment and thus feel no compunction in decrying the mainstream media wholesale, even when (especially when) that media does eventually attempt to provide what it believes to be objective truth. That’s why my Facebook feed treats angrypatriot. com as a legitimate news source. The people on it can’t tell the difference between hack websites and The New York Times, or else they’ve been convinced the difference doesn’t matter.   That’s why Lindsey explicitly says she doesn’t care what the mainstream media thinks, and why she hilariously calls on the media not to report the truth, but to advance a narrative more to her liking. She appears to believe there’s no longer an objective truth to report on, only   narratives to be advanced. Trump exacerbates this, of course, by actively attacking anyone who says anything negative about him and by lying pathologically. As such, we appear to have reached the point where the truth is no longer relevant to the discussion, where a great many of us don’t believe that truth exists at all. How much further before we get to Orwell? In the end the Party would announce that two and two made five, and you would have to believe it. It was inevitable that they should make that claim sooner or later: the logic of their position demanded it. Not merely the validity of experience, but the very existence of external reality, was tacitly denied by their philosophy. Andrew Simmons on our site yesterday addressed 1984 in the context of 2016. Update from reader Kevin, who points to another literary classic: Another, less obviously violent but no less repressive fictional dystopia applies better than 1984: the one invented by Aldous Huxley in Brave New World. As far back as 1985, when he published his prophetic screed Amusing Ourselves to Death, the late media critic Neil Postman wrote: We were keeping our eye on 1984. When the year came and the prophecy didn’t, thoughtful Americans sang softly in praise of themselves. The roots of liberal democracy had held. Wherever else the terror had happened, we, at least, had not been visited by Orwellian nightmares. But we had forgotten that alongside Orwell’s dark vision, there was another  —   slightly older, slightly less well known, equally chilling: Aldous Huxley’s Brave New World. Contrary to common belief even among the educated, Huxley and Orwell did not prophesy the same thing. Orwell warns that we will be overcome by an externally imposed oppression. But in Huxley’s vision, no Big Brother is required to deprive people of their autonomy, maturity and history. As he saw it, people will come to love their oppression, to adore the technologies that undo their capacities to think. What Orwell feared were those who would ban books. What Huxley feared was that there would be no reason to ban a book, for there would be no one who wanted to read one. Orwell feared those who would deprive us of information. Huxley feared those who would give us so much that we would be reduced to passivity and egoism. Orwell feared that the truth would be concealed from us. Huxley feared the truth would be drowned in a sea of irrelevance. Orwell feared we would become a captive culture. Huxley feared we would become a trivial culture . . .  [emphasis added] Postman’s description in my opinion captures the Trump phenomenon and the man’s essential power —  to a T. It’s that triviality and distraction, rather than violent oppression, that most of us Americans will experience. Pixar’s version: *** Outside the media bubble but still within the social bubble of big coastal cities, we posted “‘Confessions of a Liberal Urban Elitist’” and “‘Elite Doesn’t Mean Born With a Silver Spoon. ’” Both reader notes center on the theme of coastal professionals resenting being called “elitists” by rural Trump voters, especially when such professionals grew up in   communities themselves. Along those lines, here’s Daniel, a reader who began on the lower rungs of the economy: I am an immigrant who came to this country in 1995 as young adult with exactly $10 in my pocket. When we arrived to Seattle as refugees (see: Syria) —  and legally, I might add. My family went on welfare courtesy of some relief agency settling us —  yes, that stuff with food stamps and everything. It gave us a way to orient ourselves, and within seven months we were off it. My first job was working for minimal wage ($7 as I recall) with bunch of illegal Mexicans (who got $4. 50) in a machine shop, working a lathe and smelting lead —   a nasty toxic process. I was buzzed in and buzzed out, just like I suppose they   in steel mills. I still go by that place when I think my work is stressful, just to remind myself. So I think I started as    “white working class” and perhaps have a bit of insight into it. But then I very rapidly progressed out of that  . Fast forward 20+ years. I now have a solid job in software, a nice family, and a decent house of the least expensive part of Mercer Island. I did it without finishing my education I started in my home country. I must thank the   software industry for letting university dropouts prosper. I am not privileged in any way, except that I used my brains, worked hard, and didn’t sit around on my ass. My mother wound up being incredibly successful at real estate —  again, by working harder than anyone I know. So when I hear about people from the Great Middle or South sticking a finger to the “elites” in the coast cities, I have very similar reaction to that of Jon’s. Why? What have I done that you couldn’t have? It’s not like I even bothered with education —  although my kids are certainly going to go to university, if I have anything to do with it. I didn’t even chose to move to the coast myself my parents did. But when I came here, I applied all the resourcefulness and all the brains that I have and I did just fine both financially and morally! What in that behavior is making me “elitist” and worthy of disdain from the center of the country? Renie’s parents were also refugees: No one from the top of the elite world would ever see me as part of it. I may have a PhD my husband and I may have worked all our adult lives in universities we have lived for more than 45 years in one of the bluest enclaves in the U. S. but we are invisible to the elite that truly does govern our country. But to   whites, we appear as alien as any Goldman Sachs partner, and that is despite the fact that we now run a small ranch and interact often with people whose lives up to now appear to have been very different than theirs. A lot of that is assumptions: that people like us were born to the life we have lived that we have no clue about people whose lives are different than ours that we don’t respect them that our rejection of fundamentalist Christianity is because we have no moral grounding that we are somehow “others” and not real Americans because we are liberals. Remember that it’s not just liberals who scorn conservatives and ignore flyover country. I’ve had people I know afraid, literally afraid, to set foot in Boulder because they see it as so alien and scary. As for living an insulated and privileged life —  yes, I do know people whose lives were and are very privileged. But I come from parents who literally started with no money when they came to the U. S. as refugees. My dad’s CPA clients were small businessmen they owned kosher butcher shops, small clothing stores, bowling alleys, and beachfront businesses until I was a teenager and his company merged with a larger one. My husband’s father graduated from CCNY at the end of the Depression with a degree in electrical engineering. His first job was driving a laundry truck he took a step up when he drove an electrician’s truck. Eventually he got a job as an engineer for the federal government and he was on the way to a very successful career. Both of our families did bring ambition, education, and a belief that they could succeed. And after much hard work, frugality, and sacrifice, they did. Another immigrant story comes from Kavinder: I am a 25 year   medical student. I was originally a Republican and my politics was in great part (and still is) influenced by my father and his journey (documented here in Notes). After my time getting my undergraduate degree from NYU, my politics and ideology shifted (due to   inquiry, not some false PC indoctrination that Trump supporters believe is wide spread on college campuses). My politics also influenced my career choice of join into medicine. For the record, my policy choices aligned more with Bernie Sanders, but I supported Clinton (quietly) in the primary and more openly in the general election. Besides commenting online and getting my immediate family to vote for Clinton in my deep blue state, I did nothing else. [For a longer reader note along those lines, see “The Guilt and Pain of a Clinton Supporter. ”] Let me begin by saying that I will NEVER accept Trump as my president. I will also join the resistance against him (in the ballot box and on the streets). I will not take the Trumpian agenda lying down, nor I will accept the hate crimes being committed in Trump’s name. Nor will I compromise on my core values of a open democratic and inclusive society. At the same time, I do want to acknowledge that two bubbles exist in America, and one is made up of the Northeast and West Coast where liberal initiatives made gains. This is the bubble I live in, a progressive urban and cosmopolitan bubble. The other bubble is made up of the   and South, a backwards bubble (economically and socially). I want to believe that most Trump voters are not personally racist or motivated by hate of the “other” (evidence is proving to show otherwise). But at the same time I do want to reach out to   workers (people I grew up around my entire life) and understand why the think and believe what they believe. If I can go from being a conservative Republican to liberal Democrat as a result of   inquiry, then I believe other people can. I do not want to believe that half of our country is irredeemable, and I want to bridge the divide and work towards a progressive future. Lastly here’s Susan, a reader in Portland, Oregon (where most of my family ended up after living all over the Midwest and South): I guess I’m an elite, by Trump voters’ definition. I grew up in Grand Rapids, Mich. my dad worked in a factory. I went in the military, finished college on the GI bill and moved to the west coast. I remember bitterly finding out my    back in GR, a gate guard at an auto factory, made three times a year what I made as a college graduate and news reporter. My fault for picking a   profession, lower than teachers, with whom I used to commiserate. If people think THOSE jobs are coming back, well, I hope they hold Trump’s feet to the fire. They’ve been lied to, big league. If you have something notable to add to the thread, hello@theatlantic. com is always open. We’ve gotten hundreds and hundreds of emails since the election, and we can’t post all of them of course, but we’re doing our best to feature the smartest, most thoughtful,   arguments and personal stories. I’m truly awed by the quality of notes coming in —  the best I’ve seen since Notes launched more than a year ago. Update from yet another reader, Mike: I reject the notion of a “Liberal Bubble” as it has been described in the media recently. To me, it’s more indicative of liberals’ proclivity to hurry into the arms of defeat whenever they can. As our politics has seen over the last several decades, liberals seem to look for ways to surrender ground all the time. They seem to have taken to heart all the conservative tropes about how they’re somehow not #RealAmericans. This bubble talk is just one more instance of that. How is it the liberals who are in a bubble and not other factions of the country? We’re not getting that impression from the popular vote! If anything, we are a country of bubbles. The Trump supporters were deluded when they voted us into this mess. They bought into a massive con because they were conveniently insulated from a lot of important information. That’s by no means a unique feature to their cause, but that’s also kind of my point. Now, if we were to say there was a “Clinton Bubble,” then I would agree with that. But really, it’s a stretch to call her a liberal to begin with. But really, we’ve all just been divided into convenient demographics to make it easier to market to and exploit. Recent events should make that all the more evident. 😂😂 A photo posted by Daquan Gesese (@daquan) on Nov 13, 2016 at 5:59pm PST, I seriously can’t think of more   people and public figures than Donald J. Trump and Barack Hussein Obama. But the following two readers actually voted for both, so their perspectives are especially valuable right now to understand what drove so much support to the  . Here’s Aaron: First I’d like to thank Chris Bodenner and The Atlantic for allowing a genuine conversation between Trump and Clinton supporters to take place. In my opinion, discussing all sides of difficult issues is the most important thing that we can do, and more discourse like what I’ve seen on your website could have made this election cycle go in a very different direction. I’ve voted Democrat in every presidential election until this one. As the son of former hippies, I grew up respecting the environment, disliking unnecessary military action, and desiring equal rights for everyone. Over the years I came to realize that Democratic candidates provided a lot of   talk with very little meaningful action, but they still seemed better than the alternative. During the early stages of the election process, I began to notice a dramatic shift in public discourse. To me equal rights means an egalitarian meritocracy. I believe that everyone should be free to pursue happiness in their own way as long as it doesn’t harm others, and that everyone should be given an equal chance at success if they’re willing to work for it. In my mind, legalizing gay marriage was one of the last big hurdles in overcoming the unfair policies from our checkered past. But not everyone seems to think so. There’s a big difference between theoretical rights and actual results. The average woman still takes in significantly less income than the average man. Young   black men are still being killed and imprisoned at an alarming rate. Muslims are still distrusted and even feared by Christians. The reasons for each of these issues are extremely complex and difficult to fully address. But the narrative coming from Democrats and much of the mainstream media seemed to be that all of these issues and more were predominantly products of continuing systemic bigotry. It was an easy answer, but nowhere near good enough. And as the rhetoric on both sides became more heated, I began to see just how dangerous this simplistic way of thinking was. Shouting down political opponents is nothing new, but for people with modern sensibilities, being called a bigot when it’s unwarranted actually has an effect similar to a racial slur. It creates a sense of shame and anger, and it forces people to remind themselves that they’re fundamentally a good person. Like other slurs, it shuts down the conversation immediately and creates a mutual distrust. Add in the new culture of safe spaces and trigger warnings, and you create an ideological echo chamber. Little by little, the social justice movement seems to be morphing into an insidious and sometimes subtle form of oppression, where controversial ideas are expunged from the public dialogue —  by force of law if necessary. Donald Trump is a cartoon character of a man. He’s likely committed multiple acts of fraud, his political knowledge is suspect, and even when addressing thousands of people, he sometimes seems to blurt out whatever insensitive comment comes to mind. But the more his opponents exaggerated his evil nature and disregarded the legitimate policy concerns behind his questionable language, the more they turned him into a champion for all of those who the government had left behind. Both parties and the majority of the press unleashed all of their powers against him, but rather than backing down and providing the usual political doublespeak, he simply withstood the onslaught. Meanwhile, Hillary was basically a character from House of Cards, with numerous scandals, questionable ties to everyone from Wall Street to foreign governments, and a policy agenda pulled straight from the polling computers. When I failed to find an inspiring   candidate, the choice was easy. The silver lining is that this will be a shock to the system for many young liberals. In their confusion at the result, maybe they’ll take that extra step to start looking at the issues from all sides. Perhaps aspiring politicians will realize that the status quo in Washington simply isn’t good enough, and that a lot of people will vote for whomever provides the most believable case that they will change how things are done. As divisive as this campaign has been, I’m still hopeful that some good can come out of exploring that divide more deeply. The more people who realize that in many ways we’re more the same than different, the better off everyone will be. This video is a  : Clinton suffered her biggest losses in the places where Obama was strongest among white voters. It’s not a simple racism story, In fact, according to a poll from The Washington Post and GMU, nearly one in five Trump voters say they approve of Obama’s job performance. And the   has a 56 percent approval rating —  more than Reagan at the same point in his presidency. This next note, from Len, has a core reason for voting for Trump that I definitely haven’t seen yet: “I went Trump for his obvious LACK of principle, and pitched HRC due to her obvious religiosity. ” Len elaborates: I’m a   white male in Wisconsin. I am   for life and can’t afford more college at my age. It would be a waste of my money. My house, in a   area, is completely paid off, so that’s a plus: but the value of it, on the tax rolls, is about $45K. It’s a nice enough place. In 2012 I voted for Obama (although I disagree with the guy, I like him personally) in 2008 I voted Green. I wanted to vote for Jill Stein this year but got worried about Hillary Clinton actually being elected. I vote for Tammy Baldwin [for Senate]. I voted Trump because, while I was laid off four times in six years, I did a lot of jobs, and work of various kinds, and I think got a pretty good view of how people live here. Oddly, for around here, I am violently opposed to Protestant religion and its global view, and voted for Trump as I consider Clinton a religious zealot. I chose to vote for a guy with no discernible principles at all. But Clinton? Globally, I regard her as a complete religious  . I’ve read almost every issue of “motive” magazine, examined my own rural Xtian upbringing, and also hers, and there was No Way I was voting for HRC. One of the sponsors of the Family Entertainment Protection Act? No. F***ing. Way. Here’s the third   voter to write us, Kristin: My elderly mother and aunt were the biggest Trump supporters from the very beginning. As a   registered Independent woman and divorced mother of six (five daughters and one son) I stood by during most of the election. Presently, four of my children are grown, working under the weight of this economy. Three are in college.   A few years ago, as a   student, I finally completed my BS in Humanities (a minor English, with emphasis in Women’s Gender Studies) and went on to an MA in English Literature (two classes away). I have recently started an MFA in Creative Writing (Fiction) and this is where you and I meet: in a bulk   announcement that always happily begins “Hi Kristin. .. ” I watched, I listen, I researched —  a lot. Previously, I voted Obama. I celebrated Obama. This time I voted Trump.   I am not a Deplorable I am an American, and a couple of generations ago, all of my grandparents were immigrants. I have sent my voice forth, in the poems attached. Yet there is only anger from the other half that I didn’t know existed until Obama flew from city to city on taxpayer money and warned my friends that a Trump victory would be disaster from America.   I will let my poems speak. From the very bottom of my heart, I thank you for listening :) Here’s one of the pieces of writing she attached: Dear Protesters, I’m sorry you are hurt. I hurt too. In 2008 I voted for Obama. In 2012, I didn’t vote at all. Either way, it didn’t matter. Nothing changed. Protesters, I still didn’t have enough money to pay my mortgage, which had tripled. Neither did my family, my neighbors, my friends. And my job disappeared, over the Pacific, or the Atlantic. I forget. “It’s the right thing to do,” they said, those Third World countries that keep changing names deserve a better life for their people. But Protesters, I didn’t get it. I still don’t. I looked in my refrigerator and then I stood in line at the food bank where they gave me rancid cake mix —  did you know a cake mix can get rancid? I watched. I waited. Along with my family, my neighbors, and my friends. We held our breath as the Bail Out began. Protesters, something DID happen during the Bail Out. But it missed us. We lost our homes, our cars. Our marriages. Still, we prayed. We waited. And we learned a few things while we waited, too. We learned that one meal eaten late in the afternoon can be counted as lunch and dinner. We also learned that “help wanted” meant under 20 hours, and if you get sick and you can’t pay the rent on the 5th of the month, a   “Pay or Quit” Notice of Eviction will be hanging on your door. Then the daughter who can’t read will ask you what it says and the daughter that can read gets very quiet and without asking, does her homework. And takes out the trash. Protesters, I’m a woman, too, and I was so excited to see a woman candidate on this almost   anniversary of the Women’s Right to Vote! Sure, I had questions about Obama Care, about   and dead soldiers in Benghazi. And issues about Trump. War with Russia and Global Warming. But Protesters, as a   woman, I know that all guilt should be proven or else it’s all rhetoric. After all, this is America. I listened. Then my paycheck came in, direct deposit, and the bank   a $4. 00 gasoline purchase, a $3. 00 Safeway charge for milk, and a $3. 89 charge for tampons (can it already be that time of the month!) This triggered two $35. 00 charges and after I paid the water and the electricity I had two crisp dollar bills and a handful of change in the palm of my hand. And 14 days till payday. Protesters, that night, I listened one more time to Hillary speak. I really, really, really listened. Afterwards, I clicked off the television, tiptoed into my daughter’s bedroom and kissed her on the forehead. And I knew: something had to change. I also knew that Hillary would understand my choice NOT to vote for her this time around. After all, she’s a woman, too. Protesters, in the end, you’re not protesting President Trump. You’re protesting my cry for change. Your protesting ME. Once again, I apologize if I hurt you. With Love, Your Fellow American, If you’re also an Obama voter who voted for Trump and want to share your perspective, please drop us a note. Update from a   reader, Scott: First time I’ve emailed, but as a former subscriber to the Daily Dish, I have followed Notes with interest and appreciate the curated reader comments. Thank you for continuing to air these discussions with Trump voters. I am despairing over the notes from these   voters, Aaron and Kristin, who feel like the government let them down since 2009, or that the social justice movement was too aggressive. To Aaron, there is a big difference between describing systemic racism and injustice vs. labelling individual people as prejudiced. All of us work together to create these systems, even if individual people are free of animus toward African Americans, Muslims, etc. My interpretation is that many in positions of power, including white people, are having their eyes opened to the daily reality of people not like them, who have never been treated like full, equal members of the American community, and who are now asserting that equality. I do not believe in the need to have safe spaces to keep people from uncomfortable ideas, but at the same time, saying the rise of their use on college campuses somehow led to the expungement of controversial views, etc. from the national discourse is quite laughable. And tying that to assertions of equality for those our systems have prevented from being equal is a strange rhetorical leap indeed. I also wonder if Kristin has spent any time contemplating why she feels that “nothing changed” despite her vote for Obama in 2008. Perhaps it was a GOP Congress that from the outset refused to let anything pass proposed by President Obama that could have actually helped her situation or the situations of her family members?   *** Here’s one more reader note, from Vince —  an Obama voter who didn’t vote for Trump but relates to a lot of sentiment that elected him: Alan [the reader who voted for Trump mostly out of a disdain for identity politics] voiced exactly what I feel about this election. There seem to be many parallels between Alan and me: I too am a straight white male, raised Catholic. I have been married for 22 wonderful years to a black woman, and I adore my extended family. At 51 years of age, I have lived my entire adult life a stone’s throw from West Hollywood, the throbbing heart of the bluest state. I voted for Obama twice, and pretty much any analysis of my voting record for the past 30 years, or indeed my lifestyle and closest friendships, would reveal an     independent. Oh: and I’m a   professional employee of UCLA with a Master’s. The difference between Alan and me is that I just could not vote for Trump, as I saw him as too reckless. I voted for Gary Johnson, knowing that in a state that Hillary would win in a landslide, I was safe to cast this protest vote. However, I am thrilled to see the cynical, greedy Clinton machine finally smashed to bits. I am thrilled to see the arrogant cocoon of the news media, popular culture, Hollywood, liberal activists, DNC, identity politickers, and academia punctured by reality. I am thrilled to see the progressive juggernaut derailed. Trump could have replaced “Make America Great Again” with, “It’s the Authoritarianism, Stupid!” The progressive left seems to have grown more hysterical, more bullying than ever before. It has enacted an illiberal, punitive, terrifying form of politics where everyone is one wrong position or one misunderstanding from being   from the world of the decent. You’re either an Angel completely signed onto their endless quest for progressive utopia, or a Devil. While too many grope for the overheated “Marxist” to describe this kind of politics, it is far more apt than the totally inadequate “Political Correctness. ” It has obliterated any serious debate on a host of subjects by vilifying and demonizing some very good, decent people throughout the country. This cannot be stressed enough: While it has only gotten worse —  ironically, as big culture war battles like marriage equality have been settled —  it has been this way for decades. So has the vicious mocking and slandering of anyone who lives outside of the liberal elite urban hubs —  the demographic that put Trump over the top —  as hateful, ignorant rednecks, a stereotype that has been a liberal punchline for generations. The Democratic establishment has become as much of a   imperium as the Republicans’ and it too has totally failed this large and economically desperate swath of Americans as much as the GOP. The only difference is that as the Democrats hold these peoples’ heads under water they insult their intelligence by promising “job training” while a black Ivy Leaguer tells them to “check their privilege. ”   Liberals need to answer this question honestly: Even if the Republican candidate had not been a narcissistic, vulgar, bigoted clown, no matter how temperately he spoke about a need to control our borders, criticized Obamacare or questioned the wisdom of bringing tens of thousands of   Muslims into the U. S. would you not have tarred the candidate and his supporters as bigoted scum anyway? Of course you would have. How, in that respect, was 2016 any different?   This new progressive bullying lies too much, obfuscates too much, railroads too much, silences too much, divides by identity too much. And it is finally an unsustainable strategy in a democracy where everyone gets a voice at the ballot box. Ben, the reader who sparked our long and evolving discussion thread on the best ways for Trump voters and other Americans to engage, emails about a new flashpoint: the cast of Hamilton delivering a short speech to   Mike Pence, who attended a performance of the musical on Broadway last night. Here’s how CNN covered it: Here’s Ben (followed by a ton of reader pushback) I’m seeing an awful lot of social media commentary looking at Trump’s tweets regarding the cast’s message to Pence, and nearly all of it follows a certain pattern of “Boo Hoo, Trump doesn’t like it when actors exercise their first amendment rights? Cry me a river. ” On one hand, they are completely right: The   by cast member Brandon Dixon was protected speech, and political speech. It’s very, very important that people are able to do what the Hamilton cast did, and I think very few people will disagree with that. On the other hand, it’s pretty hard to be the least bit objective and not acknowledge that what happened was harassment, or at least something pretty close. The story is being presented near universally as “Trump is whining because Pence received a note! ,” but let’s break down the evening in dry terms and see if that holds up: To say Dixon’s speech “heavily implied that Pence was a racist planning to enact racist policies” seems like a stretch, but decide for yourself by reading the note’s contents here (as read aloud to the audience): Vice   Pence, we welcome you and we truly thank you for joining us at Hamilton: An American Musical, we really do. We, sir, we are the diverse America who are alarmed and anxious that your new administration will not protect us, our planet, our children, our parents, or defend us and uphold our inalienable rights, sir. But we truly hope that this show has inspired you to uphold our American values and to work on behalf all of us. All of us. This next part from Dixon seems improvised: “Again we truly thank you for [attending our] show —  this wonderful American story told be a diverse group of men and women of different colors, creeds, and orientations. ” (He also told the audience not to boo Pence.) That’s a strong but polite defense of pluralism. And it was objectively a very divisive election, with Trump’s campaign especially divisive, and his transition is already divisive, so defenses of pluralism can’t be made enough right now. It was probably in poor taste for Dixon to encourage “everybody to pull out your phones, tweet and post, because this message needs to be spread far and wide” (besides, that speech was bound to go viral anyway). But it doesn’t seem like harassment when it’s done politely at the end of the show —  a show about American history that’s inherently political and known precisely for its diverse cast there was no ambush here. But back to Ben, who insists “it isn’t really a question whether this is harassment or not”: If it were a   President Obama in the audience being grilled by people who were “worried he would strip the right to bear arms from   Americans” and who “hoped he would protect all the rights of all the Americans, not just the ones he felt were convenient to protect,” there would be a national uproar in the media at large. It would be universally decried, and that’s without calling implying anything half so personally negative as the Hamilton cast did to Pence. It’s possible and perhaps reasonable to say “well, it’s harassment, but he’s a very good target for it,” but that’s not the same thing as pretending this was a quiet note slipped into his hand for his consideration at a later date. Whether you think it justified or not, this was a pointed insulting message delivered to a captive audience in a hostile room. If the only thing that justifies it as acceptable (not just legal) behavior is that it’s OK to do it to “them” as it seems to be, then I’m not sure I can sign on. We just tried the “demonize everyone who disagrees with us and try to make it impossible for anyone with different views to exist in public society” tactic for six years, and I’m not sure the election indicates that it’s working out very well for us. What do you think? Disagree with Ben, as I do, or was it unfair to spring that speech on Pence the way it happened? If so, what should have been the best approach? Email your thoughts. Update from an anonymous reader: As a history teacher, I applaud the Hamilton cast and the way they took the opportunity to deepen the lessons of their show in a deliberate and direct way to Pence, our newly elected VP. It’s the epitome of speaking truth to power and it is our right as Americans. Kate would agree: I don’t see this as harassment. To speak in a civil tone, requesting  consideration of your concerns, after the completion of the performance seems like a good use of the “bully pulpit” you have as a performer, especially as a performer in a play about the complex tensions in creating our country. Harassment might include calling Pence names, interrupting the performance to say things like “But we won’t have freedom if Pence has his way,” inciting the audience to yell or boo Pence, or orchestrating a scheme so that Pence couldn’t leave until the cast had their say. None of these things happened. We haven’t heard that Pence was offended in any way. I’m sure it was unpleasant to be booed, but the cast didn’t do that the audience did. The cast asked for the booing to stop. Trump, who wasn’t there, seems like an inappropriate person to lecture others on the standards of harassment. Because if he believes that’s harassment, what about the things he’s said about Ted Cruz, Marco Rubio, Jeb Bush, Hillary Clinton, Alicia Machado, Rosie O’Donnell, Megyn Kelly, the Khan family, and the women who say he’s physically harassed them? Clearly they are all far beyond  respectful rebuke the cast made. Another reader adds, “I appreciate the nuanced debate, but I’m surprised that the litany of examples of Trump’s harassing people left out his multiple, actual incitements to physical violence against protesters at his rallies!” Stephen has the only solid dissent I’ve seen thus far, among the scores of emails streaming in: The question is not whether talking to Pence was harassment, but whether Pence and his supporters will perceive it as harassment —  the answer to which is rather obviously “yes. ” It simply reinforces their narrative: the snobs are out to get us, and nothing we can do will make them stop calling us names. So the question becomes: What are you trying to do? Have a real political impact, or just engage in emotional   and tribal bonding with people who already agree with you? Or to put it another way: Will this help flip Iowa? If it will, it’s politics. If it won’t, it’s narcissism and  . Here’s another reader,   who sees things much differently than Stephen: Mike Pence made the conscious decision to run for VP with Trump in a campaign filled with divisive language and rude remarks. He made the conscious decision to go to a show on Broadway where it is no secret that the LGBTQ community is strongly represented. He put himself in the public eye, pushed   legislation and policies [including conversion therapy] and then put himself in one of most famous places in the world that embraces fully the LGBTQ community. Getting asked by the cast to remember that they are people too, and that he should consider their rights when assuming office, is not only not harassment it’s the only tool they have to voice their concern. Louise looks back at some legit examples of harassment: Donald Trump demanding President Obama’s   birth certificate for several years was harassment. Rep. Joe Wilson shouting “You lie” to Obama during a State of the Union address was harassment. I don’t recall Rep. Pence castigating his colleague Rep. Wilson at the time. [Pence actually did say he was “disappointed” with Wilson’s outburst at the time.] He Nor do I recall Mr. Pence —  either while serving in the House or as governor of Indiana —  suggesting that Donald Trump refrain from casting absurd aspersions about President Obama’s place of birth. [Though Pence in early September did put pressure on Trump regarding birtherism by affirming Obama’s Hawaiian roots.] Along those lines, Shelley adds: Here’s a story about Michelle Obama and Jill Biden being booed at a NASCAR event. (Pay attention to the statement after the event.) I know Ben is complaining about the cast letter, but I offer this example as evidence of the way the Obama administration routinely met with boos and often still managed to make the message that seeing America united for shared causes —  in the NASCAR case, supporting veterans —  is more important than personal insult or affront. And good thing, because I can think of no single bigger affront against a President than the birther movement, with Trump at its helm, which implies that a black citizen is always suspect and is seen as less than legitimate, with no form of proof being ample enough to discount the accusation of illegitimate power grab. Ryan tackles the comparison that Ben makes with Obama: The problem with Ben’s logic is that   Obama never campaigned on a platform of “strip[ping] the right to bear arms from   Americans. ” Gun fanatics may believe he did just because there is a (D) next to Obama’s name, but there is nothing that Obama ever said that can be remotely equated with wanting to “strip the right to bear arms from   Americans. ” On the other hand, Pence’s boss has campaigned on stripping away freedoms. Trump has said he wants to ban Muslims from entering the United States. Trump has said he intends to “open up the libel laws” to go after journalists. Trump seems very willing to use his newly acquired power to quell dissent and punish detractors. This is a dangerous man to have in the White House and it is imperative to stand up and call it out. Another reader joins Ryan: Let’s look at Ben’s   example of Obama. Say Obama went to take in a Loretta Lynn concert in Nashville. If he ever took during his national campaign a similarly maximalist position on guns as Trump and Pence took (and have continued to take since the election in their appointments and lack of conciliation) on race and religion, then it would be within both Loretta Lynn’s and the crowd’s right to confront him (confront, not harass). Then in what objective observation of Obama’s behavior before or since his election would anyone think Obama demands an apology? This goes back to this respect that Ben and Trumpers seem to want. They do not get to dictate the manner, method, and location of being confronted by the real concerns of fellow citizens. They seem to forget respect goes both ways. They demand respect but seem to want unyielding deference. Demands of apology and fealty from their defeated opponents is no way to get respect. Elaine makes another good distinction between Obama and Trump: When Obama gets booed, he addresses it and engages. Trump and Pence won’t engage with people who disagree with them except on Twitter, so they are making us do desperate things in order to be heard. Here’s Beth on Trump’s lack of magnanimity: The bottom line is that this was a missed opportunity for the incoming   administration. It would have been the easiest thing in the world for Trump to tweet “Thank you for your voices! We love all Americans!” The fact that he can’t ignore it or pretend that he really cares about all Americans is horrifying. To recycle an old theme from his campaign: If he can’t handle his VP being potentially offended by people exercising their First Amendment rights, what will happen when he’s offended by someone like Kim  ? I hate to say I agree with George: My first reaction to hearing Trump’s reaction to the Hamilton cast’s message was outrage. This is the man who apologizes for nothing, and he expects the cast of Hamilton to apologize of this!? My second reaction was a slow realization that he’s just played us again. Trump is not really asking for an apology by asking for an apology. He knows full well the media reaction to such tweets. The blogosphere will erupt, it will get TV coverage, print coverage, radio coverage, water cooler coverage. And while those of us who cannot stand his hateful rhetoric will be talking about the double standard he is using, and assorted injustices, his real audience will be laughing and sharing memes on Facebook about this. My final reaction is sadness. This is how it’s going to be. Trump knows the system, and every time we argue with reasons and facts and specifics, careful pleas to sanity and American values, we are going to get burned. Our current media landscape is not set up to deal with this man. All we can really do is watch him shape his wings and wonder if he will, at some point, fly too close to the sun. It’s one thing to ignore a troll in the comments section or Twitter, but incredibly hard when we just elected one to be President of the United States. This is a genuinely depressing time. Update: In stark contrast to Trump: Okay one more email, for the sake of open discourse. Here’s a reader who prefers the anonymous attribution “had enough from both sides now”: Of course the cast of Hamilton had every right to reach out to Pence and exercise their First Amendment rights after the performance. Was it harassment? No. But was it the right thing to do? Pence was not there as a public servant, but was confronted and accused in an unfair arrangement in a public space. One held the stage and the microphone one did not. One had present a group of   supporters one did not. One had the element of surprise one did not. Perhaps the cast should have let their powerful piece of work and its message stand for itself. The fact that Pence even attended such a performance is interesting. Perhaps just a friendly acknowledgment from the cast, “Hey Mike, glad you could come, hope you liked the show” would have been a MUCH more powerful message. Such a friendly callout puts a bit of onus on Pence: “We see you here you are now a witness and accountable. ” Perhaps an open public letter the next day seeking Pence’s review of the performance, forcing him to air his views? Put him on the spot for respectful public discourse. That would have been much more effective and persuasive than what they actually said, what they accused. And it certainly would not have given any more ammo to the Man Behind the Tweet, who uses these digressions to fuel his rabid fans. Have we not yet learned that SHOUTING at someone or groups of people is wrong and counterproductive? That it actually has the exact opposite effect that we desire and causes people to retrench and hold tighter to their beliefs, even if misguided? It certainly doesn’t force the person to look at their views from a different perspective. We recently learned this hard lesson with the Black Lives Matter protest. What should have been a very powerful and important movement became polarizing and divisive and was used to fuel the horrible rhetoric of the Republican campaign. No one should be treated like this, even if the claims are true and they are made with just intentions. Until we can stop shouting AT each other and really start listening to each other’s differing points of view, we will be doomed to this endless spiral of pointed accusations with no end in sight. Myself with mother and father at New York Military Academy. See, I can be very military. High rank! #TBT #Trump, A photo posted by Donald J. Trump (@realdonaldtrump) on Aug 15, 2013 at 1:32pm PDT, A previous reader note from Jon (“Confessions of a Liberal Urban Elitist”) expressed resentment toward rural Trump voters who accuse him of snobbery for choosing to live in a big city on the East Coast and leading a “Don Draper” life in advertising. Another “elitist” reader, Alison, responds: Jon’s note rings all too true for me, in many aspects. I am viscerally opposed to classification of young liberals like myself as “privileged. ” I grew up in a very rural town in southern Alabama. My family —  a lovable bunch of traditional conservative Christian Republicans —  still lives in rural America. Now in my 30s, I am finishing a medical degree from a university in rural Ohio. My journey has taken me through poverty, unemployment, mental illness, and some generally awful times. While I cannot deny that I was born lucky to have the natural ability to understand science, capitalizing on that was not a privilege. It was tremendous work. Melissa can also relate: I have shared the thoughts of Jon during some of my darker moments since the election. I grew up in a   city (that went for Clinton, narrowly). My father was a drug addict and Mom worked hard to support us as a single mother. I didn’t have a lot of advantages, but I am smart. I graduated from college and worked in a clerical job instead of anything more. The election of President Obama actually motivated me to go back and get my law degree and a masters in public policy at the same time. Suddenly I was working in government. I wrote legislation and did a stint on the policy staff for the governor. I am one of those elites. Elite doesn’t mean born with a silver spoon. I’ve had a tough childhood, maybe tougher than some of those complaining about people like me. My relatives in more rural areas (aunts and uncles and cousins) seem proud of me. They tell their kids to stay in school so they can be like cousin Melissa. When they have legal problems, they will give me a call. Yet, they are also the ones posting about how we need to drain the swamp and get the elites out of government. They voted for a man with no experience to the highest office in the land. They seem to not understand why someone would need some specialization to know how to govern. It makes me feel like my life’s work is useless to them. I’ve come to realize that at least some of the anger they have is about the fact that   people have been told for decades that they are the backbone of America. We need them to sacrifice their health and safety on the factory floor or in the mines. They are the important ones, in the American narrative, not those guys in the city behind desks. The fact is, they were never that important. Oh, we needed workers, but we didn’t need to make   work sound like a religious calling. We did it because when you tell people that their work is important, they will do it for less money. This is a simple fact. It’s the same reason we say teachers have important jobs. Not that teaching isn’t important, but the deification of teaching is mostly grounded in keeping wages down. Yes, you are doing the most important work   …     which is why we can’t pay you. But please, keep coming to the office because your job is very important. The market should set wages for these jobs, but the political ritual of naming some groups as “important” can knock a good 10 grand off the prevailing wage. People will go into work because they want to feel important. They will accept less money with the idea the suffering is necessary. There’s a reason why nurses are called the backbone of the medical world instead of doctors, and it’s all about preventing certain employees from demanding their worth. Really, rural America bought the lie about being very important. And now that there aren’t enough jobs there to keep up the lie, they feel deceived. They want to think they are important again. Instead of realizing that they had been lied to by politicians for decades, they decided to throw in with the politician lying to them now. If you’d like to respond to that blunt assessment from Melissa, drop us a note and we’ll include. In the meantime, regarding her point about nursing, I emailed Melissa’s note to my mother —  a retired colonel in the U. S. Army Nurse Corps and whose sister has been an   nurse and nurse practitioner for nearly three decades —  and she offered this    reply: Nurses are the ones who actually take care of patients. They are the guardians against inappropriate or unsafe orders from physicians the ones who actually observe changes in patient conditions the ones who interpret to patients what the doctor says the ones who are there to watch the family dynamics and who the patient advocates are. Nurses are the ones who really know how the patients are doing, not just what their numbers say. An experienced nurse can know when a patient is about to crash and often save lives, because they are with the patients all day long —  not for a   visit, maybe once a day, by a physician.   And boy, do I agree with [Melissa] we have deified   workers. Since we have not made the entry level to nursing a bachelor degree, we continue to treat all of them as   workers. Since it can be a very physically demanding job, we need strong people as well. (Hence her backbone metaphor.) But we don’t have enough men in nursing. It is still considered women’s work. Same with professional child care we pay them so little but they have such an important role —  raising new humans. It is so back assward. Let me know if this is what you are looking for. Gotta go to earthquake training. She lives in Portland, Oregon, and just finished 24 total hours of certification training to lead a neighborhood response team when The Big One hits. Speaking of earthquakes, and the   divide of Jon’s note, don’t miss Ron Brownstein’s latest piece: The earthquake that elected Donald Trump has left the United States approaching 2020 with a political landscape reminiscent of 1920. Not since then has the cultural chasm between urban and   America shaped the struggle over the country’s direction as much as today. Of all the overlapping generational, racial, and educational divides that explained Trump’s stunning upset over Hillary Clinton last week, none proved more powerful than the distance between the Democrats’ continued dominance of the largest metropolitan areas, and the stampede toward the GOP almost everywhere else. His piece includes this graph —  “Of the Country’s 100 Largest Counties, These 25 Provided the Greatest Democratic Margin of Victory”: Update from Sam, a reader who grew up in rural white America, left it, is back now, but who’s torn about staying: I totally get where Jon is coming from. Like him I read the Cracked article, and the essays from Michael Moore, and there’s a lot of wisdom there about the     class divide. Another great analysis was in the Harvard Business Review and I mostly agreed with that article also. I was born in Middletown, OH, of Hillbilly Elegy fame. I grew up in Franklin, a smaller town next door, and lived in even smaller, more rural towns in Ohio and Indiana as I got older. As an adult I have lived in more diverse, densely populated areas but now live in an   suburb and work in an Indiana hospital getting people signed up for Medicaid. The economic and cultural neglect of these areas is real. The paper plant my father worked at for 30 years closed, taking all its employees’ pensions with it into bankruptcy, just one of many such stories. Small farms are disappearing and most of the jobs are   temp work in a warehouse if you have a vehicle, a fast food gig or nothing if you don’t. Like the author of the Harvard Business Review pointed out, paying somebody whose parents had social standing $15 an hour to work in McDonald’s is not going to make them feel better about their place in the world. The opiate epidemic has absolutely ravaged this area. Meth is a rural problem, but it doesn’t kill you instantly. Heroin does, and nobody is cooking it in their trailer it comes from outside the community. These issues don’t get the political attention they deserve, and while the people I help are better off than many of the   poor, they also don’t have the public transportation and high concentration of social service agencies the inner city has to help people, and many of the community institutions that served that function are in decline. So yes, I get why people voted for Trump. I was shocked at first, but given time to reflect, I understand where they’re coming from. And yet . .. When I was in the 7th grade I witnessed a gay black boy in my class get viciously bullied. Two older white boys were looming over him and calling him all the things a gay black boy can be called. I truly believe that if I hadn’t happened upon this scene, he would have been beaten. His family moved away shortly afterward. I’m 33 years old, so this was not so long ago, and if those white boys are voters now, well I think I know who they voted for. When I was 15 I became an atheist. All those people saying how bad our politically correct culture is, and how people feel silenced? Well you better believe I felt silenced as an atheist in small town America. I was told I was being disrespectful on occasions just for stating my beliefs. Not insulting religion or the religious, just saying I didn’t believe in it myself was considered offensive. In high school, emotionally sensitive boys were bullied.   boys were bullied. A quarterback tried to rape a girl at one school, was transferred to another school, to continue being a quarterback. Once I overheard another school athlete brag to one of his friends about how he’d forced his girlfriend to have anal sex. I had to sit next to him at graduation. I’ve been casually asked if I’m a Feminazi, like that’s the actual description for my beliefs instead of a hateful slur. When my husband was trying to become a history teacher, he was at a bar in his hometown once and got called “college boy” like it was an insult. Some of these bullies I know became cops. So excuse me if I feel a little damned superior sometimes. I loved living in a diverse area where I had undocumented Hispanic immigrant neighbors who offered me tequila and carne asada on the weekends. I loved having a Thai restaurant down the street and seeing Muslim African children at the playground with their veiled mothers chatting nearby. And yes, I love reading the news, and learning about the world, and helping people get government assistance. Now that I’ve returned to the rural white America of my youth, I miss diversity. And I can’t forget the traumas of being different, of being curious and progressive, and worldly in this place. Most of the people I interact with on a    basis are decent, good people, and it’s wrong to paint them with a broad brush. I’ve certainly rolled my eyes at the elitism and ignorance of urban professionals who don’t have the first clue about what life here is like. You can’t just erase the struggles of conservative,   Americans. Those struggles are real. But I don’t want to be erased either. I grew up here, but I don’t feel like I belong here. There are millions and millions of people like me who aren’t being mentioned in the think pieces about the denizens of Red State America. The author of that Cracked article talked about how even though he grew up in a rural town, he’s now urban and therefore liberal. Well what about those of us who are still rural, yet liberal? The advice now for Millennials is to colonize conservative areas, reverse the political segregation that is dividing this country. Well guess what, I can’t wait to be able to afford a home in the city again. I want Indian food and public transportation and cocktail parties. If I could have those things here, maybe I would stay. If I felt like my lifestyle and preferences weren’t sneered at, maybe I would stay. If I didn’t have to have awkward conversations with people who are racist on a regular basis, maybe I would stay. I want good things for the good people around me. But I often feel like they don’t want me. And why should I go where I’m not wanted? Cultural bigotry is a   street. It’s wrong when prissy elite professionals do it, and it’s wrong when coarse   workers do it. The liberal elites may own popular culture, but the conservatives owned my childhood. They have good cause to resent being treated with disdain, and so do I.   Here’s one more reader, Jacob, regarding his “liberal views forged in Appalachia”: I can related to Jon in some ways. I’ve seen the Trump voter in my childhood hometown in which I spent 18 years and still visit due to my parents living there. More than 75 percent of my home county voted Trump in the Appalachian mountains of North Carolina. It was never a surprise to me that a town like mine would be scared enough to vote for the most unstable presidential candidate most can remember. In many ways I understand exactly why they did. In fact, despite my liberal views, minority status, and opposition to Trump, I understand them. Rural NC saw significant change as I was growing up. It wasn’t much —  a Latino grocery store here, a few more Mexican immigrants in the elementary classrooms over there. Being in an agricultural town, our community depended on the labor of illegal immigrants that most individuals in our 95 percent white town refused to do. Even when the manufacturing jobs left the community, we were happy to take unemployment and blame the new faces in town. Being Latino myself, I was lucky that I had a white mother. My mother being a teacher, and having a slightly fairer complexion I was spared from most (but not all) taunts of “go back to Mexico” that many of my Latino friends had to endure.  My father was never so lucky: Death threat, and verbal abuse persist in his factory job to this day. “You can’t work in the factory like me” echo like the first words I every truly understood as a child. I did work hard. I graduated top 5 in my class, received a full scholarship to a private liberal arts college —  where again I felt like a minority, only this time it was poor, Latino, and with a lack of exposure to different cultures. I’d never interacted with African Americans, Asians, Muslims, Jews, or anyone else who wasn’t white, Baptist, and suspicious of foreigners.   You see, in my little hometown the people don’t go to college. If they do it’s often at   colleges where they rack up loans and start life multiple steps back.  They don’t trust outsiders, because quite frankly they had little access to them until the ’90s, and they had even less knowledge of what existed beyond “sinful” Asheville, NC. These are people who do work hard but fail to see how the industries and jobs they known their whole lives will soon no longer exist.   These people more than anything are terrified of losing what they have only ever known. Trump to them will help keep their community safe, keep their community from change, keep their community Christian —  and they might even get rich and have more jobs (or so they believe). Most times I wish the people in my hometown could do a cultural exchange program, to see that all blacks aren’t dangerous, that Muslims have family values just like they do, and that those illegal immigrants they see are working damn hard and against odds to hopefully have success for themselves and their children.   I write this as I sit on a bus late from work in Silicon Valley back to “the city. ”  I’m still working hard each day. The difference is now with Trump, I’m willing to work a little bit harder.  I’ll be more active in politics and continue voting for those I know can make the world better for ALL of us.   A reader, Jon, articulates in Notes what he probably doesn’t say in public: A lot of the   analysis has pointed to the deep divide between between   and country folk. An excellent essay in Cracked Magazine, the musings of Michael Moore, and people in the reader notes you’ve been compiling [namely the Southern Trump voter in “‘I Voted for the Middle Finger, the Wrecking Ball’”] have described the election of Donald Trump as a collective middle finger to us urban liberals who think we’re so superior. I could see exactly what they’re talking about in my own life. I grew up right on the edge of New York City’s sphere of influence, in Sussex County, New Jersey, just about where the suburbs end and the farms of greater Pennsylvania begin. I was raised in an Evangelical church where Republicanism was preached from the pulpit as God’s Word handed down from on high. And you might’ve found me among the   ranks had I not attended a little private school further East, closer to where my parents worked —  a school much more ethnically diverse than my public school, and much, much closer to New York City. Just to further fuel the allegations of urban snobbery, I was completely ashamed of where I grew up. The kids at school made fun of me for living in the boonies. I pestered my parents to move east. I didn’t want a quaint life on a pretty, little lake. I wanted to be where stuff was happening, where I could walk to convenience stores and play street basketball games, preferably with black people. That’s what was cool when I was a kid and that’s where I wanted to be. So on the one hand, I think that this explanation of a collective middle finger to The City and all it represents makes total, complete, and perfect sense. People in the country have struggled along while their jobs have disappeared and their communities have been forgotten —  all the while being written off and looked down upon by those in Washington and cities around America. I get it. It’s tough. But the other part of me wants to respond with a middle finger of my own. And I’m afraid it feeds right into the narrative of urban snobbery and elitism we’ve been hearing about. I want to reply angrily to rural Trump voters: “Well I hope it feels good. And I hope it still feels good four years from now, when you’re still as economically depressed, neglected and looked down upon as you are today, and meanwhile millions of undocumented workers, Syrian refugees, Ukrainians, NATO allies, and poor people from other countries who had better jobs thanks to free trade agreements have suffered through the first term of President Donald Trump. I hope that big Fuck You you delivered last Tuesday still makes you feel great. Like, you really stuck it to us. ” Then, with condescending sarcasm, I want to remind them, as they moan about machines and foreigners taking their good, secure jobs that pay decent living wages, that the American Dream is open to all people. And that if they just buckled down and worked harder, stayed out of trouble and laid off the meth, I’m sure as heck they’d get ahead and succeed, just like I have. This is my snobbery in full effect. Let’s just get it out there, as I continue to spew . .. These are the people who preach Capitalism and the value of Competition in the marketplace. And to them I want to open my arms and say, “COME. COMPETE. ” Come to The City and compete with us —  the doers and makers of this society. We make the movies you watch, the shows you stream, the video games you play, the Internet you surf. And I get that maybe they’re resentful, but I’ve got some resentments of my own. See, I left my nothing town full of nobodies. I moved to Boston, got a job at an ad agency and worked my way up to creative director, making a   salary and shooting commercials like a   Don Draper. It’s a pretty cool job by most people’s standards. And I didn’t get it because my parents knew somebody in the industry, or because I went to some elite college. I didn’t have an “In. ” I just had talent and desire and I worked at it and it eventually worked out. And working hard in my career isn’t where it all began. Before that I worked hard in school. And you know what? Most of the other kids I knew who worked hard in school are here in The City making stuff and making money. And maybe when we were working hard in school, you were making fun of us. And maybe it feels a little bit good to stick it to you. I practice what you preach. I worked hard and I succeeded. If I espoused conservatism, I’d be what they call a   Man, a big success story. But because I’d like my success to help buoy others who haven’t had the same chances, I’m called an Elitist. There’s a lot of generalizations here, of course. But a map of the United States divided into two colors is perhaps the greatest generalization of all. And I’m sure some will be offended by my words. This is not a scientific article, or even an   designed to offer a defensible position, but merely a memoir combined with a rant under the guise of a confession. But I wonder if some of it rings true for some of the folks reading this. And I wonder if a resentful person living in the country might see things from my point of view. If it rings true to you, let us know and we’ll include: hello@theatlantic. com. Personally I can relate to some of what Jon is saying. As an Army brat, I grew up all over the U. S. and a little abroad, but mostly in Kansas, where my dad retired to the countryside about 10 miles outside a town of just 5, 000 people. My high school in that small town was a big step backwards for me academically (no A. P. classes, for one) having come from a   public school in the Maryland suburbs. Socially the Kansas school was really isolating, because most of the students —  who grew up together in a   community —  didn’t relate to me much and didn’t really want to, especially given my awkward introversion at 14. I became miserable and resentful —  mostly toward myself —  and went to live with my mother, stationed in Georgia, for the second half of high school. After college, I went straight to New York City —  the extreme opposite of that Kansas town —  and I’ve lived there and DC ever since. Those big cities definitely have their flaws, and the smug attitude and myopic political views of many New Yorkers get insufferable at times, but overall, there’s no other place I would have wanted to spend the past decade. The biggest reason? The vast diversity of people living there —  diversity in all forms, but namely the array of places from which they came, across the U. S. and abroad. They came to the big city in their twenties to pursue a passion, work hard for an opportunity, and enjoy an endless stream of culture that extends well past Netflix. The people I most enjoy in NYC and DC aren’t from NYC and DC they’re the ones who got out of their sleepy towns and dreary suburbs, at least for a while. If you’ve lived in a small town your whole life, on the other hand, and you’d like to tell your story or vent your resentments to Jon, please drop us a note. Update from Susan: Yes, Jon, we get it. But your choice to leave and become Don Draper does not invalidate the issues at hand. I tried your route. I got my fancy degrees and worked in the big city for a while. God bless all of you who can do it. I sure couldn’t. I couldn’t drive by the poverty and see the violence on the news while listening to my coworkers complain that their neighbors refuse to control their dandelions. I tried reading Malcolm X and signing up for Big Sisters, but in the end, I could not figure out a way to make a meaningful difference there, and I couldn’t live with the cognitive dissonance of a suburban existence. So I moved back to northern Appalachia, on the opposite side of PA from you. This is Trump country. People want to work. They want to raise their kids, and in reality, most people can do that. Where it falls apart is with three main issues: The reason you get called a snobby elitist is that we shouldn’t have to choose between an intolerable existence in the city, or poverty in God’s Country. We don’t want your six figures. We just want to live and for our kids to have some options when it’s their turn to make these choices. Update from Paul: Susan’s frustrations are valid but her comments are about the causes are not. I’m not aware of any evidence that supports the idea that the rising cost of college is caused by the government, that the ACA is what is driving private healthcare insurance costs up (in fact there’s some evidence to suggest that the ACA is slowing the otherwise normal rate of price increases) or that the government (Republican or Democratic) is responsible for the collapse of privately funded   pensions. All of these are real problems, but none of them can be easily solved by direct government action. I definitely agree that free trade killed a lot of older manufacturing companies in businesses with high labor costs and lower value add. The solution isn’t getting rid of free trade, which makes everyone poorer, it’s much more generous help for those displaced as a result. If we want to reach common ground on our problems, it would help to have a more   discussion about the root causes.  This does not mean we’d reach complete agreement on all the root causes (ACA in particular is still too new to really deeply understand how it is affecting health care inflation rate) but I think it would certainly help. Here’s some help from Reason’s Robby Soave regarding Susan’s contention that the federal government has caused college to become so expensive: Long have liberals vowed to make higher education more affordable by offering ever more generous loan subsidies, and long have conservatives and libertarians argued that federal aid merely gives colleges license to drive up the price. A study by the New York Federal Reserve offers some new evidence that the latter group is correct. According to the study’s authors: We find that institutions more exposed to changes in the subsidized federal loan program increased their tuition disproportionately around these policy changes, with a sizable   effect on tuition of about 65 percent. We also find that Pell Grant aid and the unsubsidized federal loan program have   effects on tuition, although these are economically and statistically not as strong. The argument goes like this: Since government aid programs make it easier for students to pay the sticker price of admission, no matter how high that price rises, universities have every incentive to respond by charging more. The universities have little to worry about —  they get paid up front, regardless of how difficult it is for the students to repay the government (or the government’s actual creditors: the U. S. taxpayer). Here’s one more reader response, from Philip, who challenges both Jon and Susan: I don’t usually like to write in, especially in a thread that I figure will probably have more of me (urban, liberal, Clinton voter) than of the people like Susan who are writing in with their more   opinions. But I have issues with both the   liberal urban elitist and his respondent, so I might as well take the plunge. To Jon, I ask, as Susan does, why he assumes they want to come to the city. I think it’s entirely fair that they don’t. People should have an opportunity for a good life wherever they want to live, not just by coming to the city to “compete. ” And saying they’re all on meth (even if you acknowledge the condescending sarcasm) is really no better than Donald Trump calling Mexicans rapists. Both are hyperbole neither is particularly helpful. They have legitimate concerns, and we should address them. We should have even if Hillary had won. They matter. But that brings me to Susan. She points to three issues: health care (especially costs) higher education (especially costs) and retirement (and the lack of pensions nowadays). My question is where in the world she gets the idea that voting Republican will help on any of those points. OK, I see that she thinks the ACA is responsible for rising health care costs. I have two big issues with that. One is that health care costs have been going up far longer than the ACA has been around, and they’ve gone up less with ACA than without it. The other is that most of the mechanisms for reducing costs for individuals under the ACA have been gummed up by precisely those Republican politicians she just empowered (more on this in a moment). Medicaid expansion for the poorest? Blocked by Republican governors, who then sued to not have to do it. Subsidies for those making too little to afford the exchanges without them? Not funded by a Republican Congress, which is suing to prevent the administration from paying the money out of general funds. Which of these two parties is trying to help with the cost of insurance? And of course, that’s without mentioning all the people (many in that same part of the country she lives in) who now have health insurance who couldn’t get it before. On higher education: Susan is totally right that higher education costs are ridiculous. But what Republican policy does she think will help with that? Perhaps it’s true that the way the government currently runs educational grants inflates the price of college I think it is too! But there are ways to help a kid going to college if you’re barely making minimum wage (itself an idea that Republicans tend to oppose of course ): all those dang grants. And of course, if you go to some colleges —  elite and liberal and urban, mostly —  they’re cheap or free for those making very little money. On retirement: Those pensions aren’t coming back. But you know what’s still there? Social Security —  which the Republicans tried to privatize the very last time they had the presidency. I think she’s wrong to blame the lack of pensions on free trade (it’s probably more the fault of companies ceasing to prioritize corporate citizenship and the duty to their workers over the bottom line —  something our new   is somewhat of an expert on) but even if she does, the Republicans are the ones taking out the safety net beneath it. Speaker Ryan has already started to do this with his Medicare proposal —  which, by the way, he’s packaging as part of the ACA repeal. So the same people who riled up their base because they claimed the ACA would endanger Medicare are now endangering it themselves to get rid of the ACA. Basically, my problem with Susan’s perspective comes down to this: For the past eight years, the Republicans have spent every ounce of energy trying to stop Obama, and by extension the Democrats, from governing, and from actually doing anything for people like her. But her response is to empower them by voting the obstructionists into even more power. It’s like a team that needs a field goal looking at Lucy swiping the ball away from Charlie Brown before he can kick it and saying “you know, that Charlie Brown just can’t kick. Let’s put Lucy in charge. I’m sure she’ll put the ball through the uprights. ” So the liberal elitist, Jon, is wrong to imply we shouldn’t care about   and   voters. But the respondent, Susan, is claiming that the people who put us in this situation are the people we should trust to get us out. Update from Susan, who gets the final word here, if you’re still following along: This is fun! Thanks. A couple of clarifications, if it’s relevant. Here’s the graph showing how government caused tuition increases: What happened in 2010? Bankruptcy law was changed so that student loans can never be discharged. [Update from reader Darren: “I think the bankruptcy law change that she’s talking about is the one in 2005, and not 2010 like she states. Not sure where you’d want to put such a minor correction, but I thought it wouldn’t hurt to point that out to y’all.] This complements the Reason research showing that student loans drive college cost increases. Also, you will notice I never said that Republicans would or could fix any of these problems. The problem is that neither Republicans nor Democrats work for any of us out here in flyover country. They work for Wall Street, and Big Pharma, and Monsanto, and Big Oil, and the   complex. And I didn’t vote for Trump. (I went for Gary Johnson.) My personal opinion is that the problem is corruption and crony capitalism, and more laws favor those with more lawyers. As long as people think one of the parties or some politician is going to help “we the people,” then they’ve got you fooled. I understand why people voted for Trump they are hoping that maybe, just maybe, he won’t be a politician.   A familiar reader follows up. And his name is Pat: Chris, I have to tell you, I am a little shocked that you posted my note [“‘I Voted for the Middle Finger, the Wrecking Ball’”] and even more shocked by the responses it elicited. I know there is no way for me to effectively respond to all of the incredible and heartfelt feedback from your readers. Below is my lame effort. I have no idea if it is what you want, but it is at least honest, although far too many words. Do with it what you will. Wow, your job must be hard. Happy Thanksgiving. *** I am Southern. I am white. I am male. I voted for the wrecking ball and I wrote to Notes a rambling stream of consciousness email more for my own benefit than for anyone else to read, trying to figure out myself how Trump earned my vote —  if he really did earn it? —  and trying to explain that I don’t hate anyone or want to take away anyone else’s dreams of a better life in this great country.     I was amazed my note prompted as many questions and responses as it did.  I never expected it to even be seen. I wish I could address all of them and am sorry that I lack the intellect and time to do so. I think it’s too bad these conversations happen too often over the internet and not in the local pub. I expect my response to echo in silence and definitely to lack the clarity your readers seek. But I read them all and I hear their concerns. I think it sucks that a    Ivy League educated lawyer can’t make ends meet. I hear you.   I understand I have a limited view of how this election looks to the African American med student who refuses to let anyone or anything rob his or her humanity and dignity. I hear you.    I will likely never fully understand the struggles an immigrant family may face trying make a life, a better life, in a new country as crazy and complex and diverse as ours. I hear you.   I can only imagine how difficult it is for the small business owner who put her little retirement savings into a dream and through toil and talent made it work, and now deals with the government saying she has to provide health insurance to her employees whom she loves and employs   …     or else. I hear you. I know it isn’t easy being Muslim, or gay, or poor, or sick, or a woman, or a   or felon, or a college grad waiting tables in America. I hear you.   I know Trump said some crazy and   shit. I hear you. I know all of us wear both the scars and beauty marks of our history. We have saved the world but enslaved and murdered innocents. We have extended protections to the minority and pursued phantom threats with terrible consequences because people looked, thought, worshipped differently than our Founding Fathers did. We have been imperialistic and nativist, we have opposed authoritarianism, been the saving grace for immigrants, turned around at Plymouth Rock and said “Foreigner Go Home. ” We continue to ask our young and able bodied of all races, creeds, colors, and genders to die for our freedom.  We call each other names, put one another in boxes and label them: foreigner, redneck, racist, bleeding heart, gay,   conservative, liberal, progressive, extremist. We’re all guilty   …     and most of us are innocent. Our country is a beautiful, living, breathing mess of wonderful and amazing people all believing in the same lofty ideals but disagreeing on the way to achieve all of them. Our country is an enormous promise, an unthinkable undertaking, a miraculous contradiction of individualism, collectivism, voluntarism —  every  —  ism under the sun. What an incredible mess to be a part of it. Thank goodness for it.   I admit I vote based on my emotions as much if not more than I do my intellect at times. I admit my ballot and my worldview often clash and contradict one another. I admit I have never found a candidate who represented me fully and I probably couldn’t represent myself fully if I were ever to hold elected office. It is impossible to please everyone, unlikely to please even anyone fully, including yourself. Negotiation and compromise are part of every good romance, and so it goes with our democracy —  a passionate and rocky love affair if there ever was one. I admit I do not have all of the answers to all the responses to my note. What do I envision during and after a Trump administration? Maybe just a maverick bold (crazy?) enough to not stay put in his sandbox. What if he achieved something with both Elizabeth Warren and Paul Ryan? I think he is more likely to color outside the lines than Hillary would have, and most of us agree “the tree of liberty must be refreshed from time to time with the blood of patriots and tyrants. ” So I rolled the dice with the wrecking ball, the middle finger, the guy insensitive enough to not care who he pisses off trying to get something done. He might be a disaster. If he is, I’ll own my vote and learn from it. I’ll also admit my tyrants likely look different from someone else’s —  hell, maybe everyone else’s. Mine are no longer monarchs from foreign lands or angry rich white males or   professors, or even special interests’ influence, predictable career politicians, media and political elites of all shapes and colors, or the ones with the safe    fiascos that deny deliberative discourse, civil disagreement, and prohibit any gain of perspective by any party on either side of an issue. My tyrants expect something for nothing, offer excuses instead of solutions, and look to place blame instead of accept some responsibility. Will Trump be a tyrant? Perhaps. He certainly has shown some of that. But haven’t we all? When it gets right down to it, haven’t we all been a little guilty of my kind of tyranny? I know I have and I see it every day. My patriots, I fear, are too smart, too successful, too cynical, or too busy making it in America to run for office in this age of information and disinformation. Your patriots may be the         teenager protesting police brutality in Baltimore or the lawyer working pro bono to save the environment, but mine might be Trey Gowdy or the gay Latino woman managing an insurance office in El Paso and successfully raising three kids. So we vote from differing perspectives with different life experiences and differing ideas about how to move forward and whom to follow. Isn’t that what this is all about, living together peacefully knowing “elections have consequences” and agreeing to accept them?   I admit I voted for Obama in 2008 and against him in 2012. I did not vote straight ticket I never have. I honestly went to vote more for my neighbor running for town council than I did for either presidential candidate. I guess I still live in a small little world. For now, I think I choose to encourage. I encourage everyone to “eat the blue pill” from The Matrix. Just as I urged my conservative friends in 2008 to do so, see America the way it is and not the way the talking heads tell you to see it. See America for all of her beauty and promise and all of warts and failures. Have a little in faith in US —  we the people. Just as Obama is a patriot, wanting to make us better, so maybe is Trump, even if his map to get there looks different (because of all the crayons? ). We are all in the struggle wanting the same things that we can all have. There is no   game on what we want: a safe, open, honest, thriving, fair place to call home, to raise kids in, to enjoy life in, to push the ball forward in before we die. We should all get out of our zip code, off of our computer, out from our bubble once in a while and have frank, direct,    conversations with someone else about their perspective and agree that there is no way —  if we’re being honest —  no way we can’t find some common ground. Let’s look for more reasons to agree than reasons not to. Don’t take my middle finger personally I really want everyone fighting the good fight to find more success, enjoy more freedom, feel more welcome. I really do. I just ultimately thought we needed a good smack on the ass. I will have beers and wings with my best friend next week. He is a Bernie fanatic. We will argue all night, laugh all night, cuss and yell and get red faced and probably spit a little on each other accidentally in the heat of it all. And we’ll go home, stay buddies, agree to disagree on some of it and know it is a great thing to disagree with friends. Ours will be a staggering drunk walk much like this march of diverse democracy. We stumble ahead, fall forward, lean to the left, sway to the right, go backwards a few spaces, contract in one spot, expand in another.  We bitch and moan and yell and scream at one another for one another. We get things wrong, we get things right. We remember old scars and make fresh wounds. And somehow, when we wake up hungover and tired and wondering what the hell happened last night, we will all find ourselves in a better place in the morning and look forward to the next bar fight in 2020. I encourage everyone: Go have coffee or drinks with a friend who sees the world differently than you do. Meet somewhere in the middle. Persuade, convince, argue and do it passionately. Don’t call them names, label them, or put them in a box. Listen more than you speak. Find an excuse to say “we” more and decline to say “you” as often.  Let’s admit to our prejudices,   fears, ambitions, and failings, own our thoughts, our words, our actions, and deal with the consequences. Now is our chance to make Trump and the whole lot of them do the same.   The wrecking ball was my choice. It may not have been the right one. Time will tell. I did not choose it out of hate. I might not even be able to defend all of it. I might end up of prouder than ever for it, though I might end up wishing I could take it back. But I admit it. I own it. I accept the consequences. Can you hear me? Update from Ernest, a reader who disagrees with Pat: Oh, what a lovely picture. Let’s just hug this out after we pound a few cold ones in the bar. See, we’re really not too different, you and I. Yes, I hear you. I also hear the celebration of   and the KKK [link] at not only the election of our next president but his appointment of a   leader of the swamps of the   to be his chief strategist. I hear them. I hear the raging misogyny of Milo Yiannopoulos [link] who was hired and is employed by the  ’s chief strategist because he is a raging misogynist. I hear him. I hear Myron Ebell, a global warming denier, being appointed as head of the EPA transition team. I understand from him that the scientific consensus on anthropogenic climate change is really just political correctness run amok to increase governmental power [link]. I hear him. “Our country is a beautiful, living, breathing mess of wonderful and amazing people all believing in the same lofty ideals but disagreeing on the way to achieve all of them. ” Yeah, that’s what this is. I hear you, Pat, I really do. But your listening seems mightily selective. Maria keeps the disagreement going: I wanted to respond specifically to this quote from Pat and then briefly to the comment on the whole. My patriots, I fear, are too smart, too successful, too cynical, or too busy making it in America to run for office in this age of information and disinformation. Your patriots may be the         teenager protesting police brutality in Baltimore or the lawyer working pro bono to save the environment, but mine might be Trey Gowdy or the gay Latino woman managing an insurance office in El Paso and successfully raising three kids. Pat is wrong to suggest that any law abiding, honest, and   person is not “my patriot. ” In fact, shouldn’t someone who protests police brutality also be his patriot if he is who he says he is: a proud   American who wants the system to treat other   Americans fairly? Isn’t police brutality the antithesis what he believes is fair? I would also like to respond to his original note, where he states: I love working people who answer the alarm clock. I love parents who make sure their kids will have it better than they do. I respect people too busy paying the light bill to keep up with “the news. ” I am for a safety net for people when they fall on hard times. I am not for government handouts as a way of life. I want everyone —  of all kinds —  pulling on the same side of the damn rope. Pitch in, make this a better place for everybody that obeys the law, pull yourself up by your bootstraps everyday and do some form of honest work. Come here legally, adopt our way of life, learn our language and preserve yours, respect our legal and social traditions and observe yours freely, engage in deliberative thought and debate without risk of being labelled a bigot or a hater because you disagree. These things somehow suggest that people who did NOT vote for Trump are not themselves hard working people who get to work on time and care for their children, or are against pitching in, pulling themselves up by their bootstraps, or doing honest work. I would never in a million years vote for a troglodyte like Trump, but I too wish that people who move to this country respect our laws and customs. I’m willing to bet that more than a   of Trump’s voters are on some kind of government assistance (especially if they’re older —  Medicare anyone? ). Pat, I think your arguments are a stale stereotype of what it means to be a “liberal” (I despise that word, but it’s the best I can come up with). So to sum up, I still cannot get the logic that starts with “I want change” to voting for Trump. You can already see the people he is using to fill cabinet positions are very   into the Wall St. and Republican establishment. Arguably the only one who isn’t is Bannon, and he white nationalist. If you really wanted change, who did you vote for for Senate? Or your representative? Were they incumbents? What about writing to the Republican and Democratic parties that govern the Commission for Presidential Debates to challenge their stance on allowing third parties onto the debate stage? Are you for campaign finance reform? Tell me Pat, are these other “disruptive” actions too difficult for you to consider? I think it was just too easy for you to vote for Trump because all you had to do was go into a voting booth. I regret to inform you that you made a serious mistake, which is unfortunately going to injure someone else. I doubt it will affect you much, so you will probably never learn.   This reader note from Ron, a med student in Rhode Island, is incredibly moving and filled with grace: I hope you are well, Mr. Bodenner. Thank you for running this reader series engaging with Trump voters. I have been alternately heartened and dismayed by others’ contributions, but the insight has been invaluable either way. As a     male born and raised in the USA, recent days have seen me alternating between rage, sadness, and despair —  and I suspect there is much more to come. I feel unwanted by a nation that raised me, despised by my home. But as the paroxysms of rage and tears become less frequent, as the space for introspection and reflection becomes greater, I have had time to interrogate my soul about the man I want to be and the role I seek to play in the work to which I committed myself long before last Tuesday. And in that time, spent communing with the ones I love, I am grateful to God to have found at least the skeleton of a mindset, a plan, a path that I hope will sustain me through coming trials while allowing me to continue to be of the greatest service to the nation I love. I truly believe we are a great nation that desperately strives to be good. I truly believe that our differences are not something to fear and our disagreements are not something to flee from. And I want to do all in my power to fight for “us” and “them. ” As much as I have been disgusted by our  ’s rhetoric and behavior, as much as I condemn the conduct and indict the character of a great many of his voters, I would have to deny a large number of my life’s memories to pretend his constituents did not have legitimate grievances. This is not the way I wish we would address them. But when your message is littered with the dirty needles and pain pills that line the bottom of a seemingly bottomless chasm filled with the dreams you had for your descendants, it is somewhat understandable if it does not arrive wrapped in the prettiest package. And now that it has arrived, the worst decision we could make would be to ignore it once again. As a Black man who seeks to do his part to lift his people, I want to fight against the bigotry and hatred that has our melting pot bubbling over. But as the boy that Lima, Ohio, raised, I have seen, at least in part, the pain and suffering of many of the white working class —  the very same that many people would now call my natural enemy. As the man who spent a summer carting patients around the local hospital and was moved to pursue medicine by witnessing the devastating effects of painful illness on my neighbors who “used their strength of bone and sinew to provide,” I refuse to accept that these people are now my foes. Our differences are real our histories, our prejudices, and our nation’s successes and failures in addressing the former two prevent them from being anything but real. But a difference is not a defect, and I firmly believe if anyone thinks opposite, they are missing a large piece of the puzzle. When a white person struggling to overcome debt and disability points at a brown person just barely wriggling out of the chains of oppression and honestly believes they are the source of their struggles, or vice versa, and both those people pin all their hopes on a competition between billionaire families in ivory towers, I think we are all missing something much deeper. I will not ignore the prejudice and bigotry that my fellow citizens have showed over the course of this election cycle. I will not dismiss it as simple brainwashing or lack of education again, I know these people. I have broken bread with these people. And I will not do them the disservice of disregarding their   mind and soul by pretending they are mere puppets of probability they know better, and I bet more than one would admit as much in our quieter moments. But I will also not give into the temptations of simple narratives that ignore the bigotry present among even those who most vocally decried it through this election and even before. I will not pretend that differences in culture or opportunity or vision for one’s future do not have an effect on one’s ability to hew their speech and actions to a standard set by elites hundreds of miles away, who are living a lifestyle completely alien to their own and making the bare minimum effort, if even that, to bridge the gap. I will love. I will love in that difficult fashion, in that way that recognizes the complexities that make loving each other so rewarding are the same thing that makes it so damn hard. Many times I have wished, subconsciously or otherwise, that I could reduce the other side to a single dimension, that I might fall more easily into the role of multifaceted protagonist against a sea of racist drones. But as many times as I wish I could do that, I know I never will. Not only is it unfair to my   opponents, I would be robbing myself of the greatest gift humanity bestows on me: the ability to love fully, deeply, even under great duress. Microaggressions, racial epithets, even outright discrimination will all hurt me, but they could never steal my humanity. Only I can do that, by closing myself off to humanity’s most potent ability. To those to whom I have vented, raged, and even howled at over the past week, those words might appear like an outright lie. I have been gripped by anger at a level previously unknown to me since the election. But interrogating that anger and finding its origins is what has led me to this very path. As a medical student, over the past year, I have had the great privilege of rotating through the plethora of specialties that fall under American healthcare. I have helped deliver babies and reached into open abdomens. I have laughed with healthy children in for a   and stared in the unblinking eyes of the recently deceased elderly. Through my patients, I have experienced the breadth of life in a short year, been privy to humanity’s hopes and anxieties, dreams and fears, perseverance leading to success and failure alike. I have experienced humanity in a way very few are allowed and I have been transformed by it. I have seen how we are all so unique and different in so many ways, except for all the ones that really matter. Before medical school, I often wondered how God could love us. After this year, knowing that God sees all of this simultaneously, in all of us, always, I wonder how anyone, especially and including Him, could not. And the knowledge that I will continue to do so, continue to love unconditionally and work for the betterment of those who may or may not even acknowledge my humanity, hurts me and angers me deeply, even as it guides me to the path I know in my heart is right. I know what happened last Tuesday was significant. I recognize this election has exposed the fragility of our union in a way that few other moments in American history have. Our divisions are clear and intimidating. But I refuse to accept this is the end of us I remain resolute in my belief that there is a way forward for the United States of America. I know I may be wrong, but if there is even a chance, a single thread that can secure us to each other, it is worth fighting for. History may prove me a   cowardly idiot, but I would rather die proven wrong than live knowing I never pursued even the smallest chance of unity. I want to listen. If you are reading this message, you are the one for whom it is meant. I want to listen. If you’re a Trump voter and would like to respond to Ron, please send him a note: hello@theatlantic. com. Update from Catherine: “Dear Ron: I am not a Trump supporter but what you said was magnificent. Keep walking!” Another reader: Thank you for being loving person. Remember that love will alway triumph. I too am a physician, a healer, but much older than you. After evaluating the two presidential candidates, I couldn’t vote for either. I wrote in my president. In my humble opinion, Hillary wasn’t the answer. She is a crook. I truly believe she simply said what people wanted to hear. She couldn’t care less about you or me or any minority. She only cares about herself and the Clinton Machine (now defunct, thank God). I never liked Donald Trump. I always thought he was a narcissist and I still do. He is a egomaniacal, pompous man who from what we witnessed would crush anyone who gets in his way. My hope is that   Trump’s desire to be the best will drive him to be the best president he can be and govern wisely and fairly. I hear you, Ron, regarding the tensions in our Great Country. They are real. Coming together and uniting is the obvious fix. Doing that is the monumental task. To rid the divide we must first rid ourselves of ego and pride. You see you cannot love unconditionally when filled with ego and pride because ego and pride leads to anger and hate. We all have to believe that no one person is better than the other and that we are all children of the Almighty God. Even though that is my heart’s desire, I am not sure we can do it on our own. We need the Good Lord’s help. Ron, from your writing I can tell you are a caring loving man who accepted the privilege and honor of taking care of the sick. I pray you always feel the way you did when you wrote that letter. May God Bless. Update from Ron: It really does encourage me in no small measure to read these responses. And as for Anne Marie’s comment [sent privately via email and including the line, “Ron’s note was an inspiration in empathy and courage, beautifully expressed. ”] I honestly do not know how to reply to such high praise except to say thank you and I am truly glad she enjoyed the piece. I also enjoyed reading Pat’s response, as well as those of Ernest and Maria. Replying to Pat, I am glad to see him take ownership of his vote. My parents raised me with a strong sense of personal responsibility, one that I still work to cultivate within myself and look for in those with whom I expect to have significant interactions. So I respect that he recognizes the possible negative implications of his vote and takes full responsibility for them that is no small thing. I also want to say I agree wholeheartedly with his exhortations to have more conversations with those who disagree with us. I do not think I am making any sort of new radical statement when I say we need to do a better job of reaching across the aisle, having those difficult conversations, etc. I would just take it further by asking that we all make more of an effort to spend time with those unlike us during times when we aren’t having those difficult conversations. If our first or only interactions with those that disagree with us are when we’re arguing over the issue over which we disagree, we are all doing it wrong. At the end of the day, I am willing to believe Pat actually believes exactly as he says he does. I am willing to take him at his word that his vote was not motivated by hatred. Personally, I think our disagreements are more due to differences in exposure and education than any intractable, intrinsic character defects on his part or mine. I know on issues like the ones this election has brought to the fore, it can be hard to differentiate the two, but we must if we hope to bequeath anything resembling a united nation to the ones that come after us. I am not advocating either side goes along to get along I am asking we engage with each other fully and with a compassionate, forgiving nature before we write anyone off. I agree with Maria when she says it was “too easy” for Pat to make his choice in that voting booth his perspective, as he admits, is limited. So is mine. And there was a time when it was even more limited, by forces both outside and well within my control. And if I can be said to have improved at all, it is only through the compassion and efforts of so many others that took a chance on me when it was not clear I was a chance worth taking. And I’d be willing to bet this is true for the vast majority of us. This whole discussion merits a longer response, but in the spirit of listening more than talking, I will stop here in an attempt to be brief. Chris, if you opt not to update the response, would you mind sending my response to Pat in a private note? Since he made it clear that he had read my response, I would at least like him to know that I read his reply. I appreciate you hosting this conversation I have found it personally very helpful. Look forward to reading more of this discussion thread. A reader dissents over this Notes series trying to give a fair hearing to the views of Trump voters: How many more of these fucking notes? I get it. “Get to know Trump voters” is generating clicks. But at least publish something real in response. Reader Marco says, “It won’t fall because the U. S. government’s institutions are designed to prevent irrational outcomes to a good degree. Trust the system a little, if you learned anything from history. ” Really? We had Japanese internment upheld by the Supreme Court in the 1940s [a reader previously made this point] and   restrictions on Japanese people until the 1950s. We had   terrorism of black people in the South through the 1960s. [This reader and others previously invoked the history of slavery and white supremacy.] What someone who actually reads history, and pays attention to it, knows is that the values of liberal democracy are not universally held and when lost, recovered only at great cost. I don’t think these things will happen. I also don’t think there are 60 million racists. But I do think there are 60 million people who don’t really give a shit whether it does or doesn’t. If I’m wrong and they do give a shit, let them prove it with their own behavior and statements —  not just tell people to “rely on the institutions” that they say they voted for Trump to destroy. Another reader, James, lives in southern California and describes himself as a “White,   Christian,     Independent” who is sympathetic to the grievances of Trump supporters but couldn’t bring himself to vote for the guy. Now with Trump’s victory, James worries that the democratic norms and institutions of the U. S. won’t be able to withstand the dicey demagogue, and he fears that the country could veer down a painful path like that of Venezuela, Uruguay, and Peru during the late 20th century. Here’s James: Fascinating discussion, and I really appreciate the thoughtfulness of the responses on both sides and the courage of Trump voters to explain their reasoning. But like reader Pamela, I’m afraid I still don’t get it. I share many of the same concerns that other readers have brought up, but I feel like I must be missing a step. I am sympathetic to conservatives who felt that their voices were not being heard. I am a grad student, and I wish that conservatives were   in my discipline, political science. I also wish that conservative students at my university felt safer in expressing viewpoints that differ from those of the majority on campus. I think that some individuals are   in their political correctness, though I would hardly attribute this to “liberalism” as a whole any more than I would attribute racism to “conservatism. ” Most people I know —  whether on the Left or the Right —  want to live in a society like the one that Southern Guy described. I do, too. But I struggle to see how electing a demagogue who has put identity politics at the heart of his campaign and who has just chosen a white nationalist as his chief strategist is going to get us to that pluralistic, tolerant society. If you really want to see an end to identity politics [as reader Alan says he does] why stoke the flames? I am also sympathetic to voters who wanted to cast a protest vote. I myself cast a protest vote in this election, but my protest vote was for a   candidate who had zero chance of winning my state. If there were other options, why did you cast your protest vote for a competitive candidate, unless you also wanted him to win? I am all for protest, but like any other political act, protests have consequences. In deciding to vote for a candidate other than Clinton or Trump, I thought very carefully about what I was doing. I considered whether the election in my state was close enough that enough voters voting the same way as me could tip the balance between Clinton and Trump. I decided that there was a   probability of this happening, and in the end, Clinton won my state by a 30 point margin. I also considered whether I was ok with legitimizing my   candidate’s policies or party. I decided that while I did not agree with everything my candidate said or believed, I had no problem legitimizing those positions. Similarly, before I participated in my city’s (nonviolent)   protest this weekend, I spent several hours carefully considering whether I should be doing this. I do not take protests against   leaders lightly. I considered the possibility that my protest would make President Trump take a more hardline stance than he otherwise would have taken. I considered the possibility that protesting on the streets would undercut the position of moderate Republicans in Congress who will be one of Trump’s few institutional constraints during these next four years. I also considered the possibility that the 60 million people who voted for Trump would take offense at my protest and misinterpret it as an attack against them. But in the end, I decided that since the demonstration would happen in any case, it was better for all sides that it contain more White,   Christian,     Independents like me, so as to prevent the protest from being about “racial minorities versus Whites” or “Left versus Right. ” I knew that my   and   entailed costs and risks that I would not fully internalize, but I calculated that the benefits for society outweighed the costs. For those of you who voted for Trump out of protest, I would love to hear more about your calculation. You have said a lot about what you were voting against, but the other side of the equation is not completely clear to me yet. Did you think that Trump’s critics had exaggerated the harm that a Trump presidency might do to our country’s institutions? Did you think that Trump would abandon most of his policies and that nobody would get hurt? Or did you accept that some people might get hurt by his presidency, but conclude that it could do more good than harm for the country over all? [If you’re a Trump voter and would like to address any of those questions, send a note to hello@theatlantic. com.] No liberal or moderate I know thinks that all or even most Trump voters are racist. But many of us do worry that you have disregarded the risks that come with a Trump presidency, especially the risks that are concentrated on minority groups that Trump has spoken out against. I doubt that this was really the case, and I think you could make your position more understandable by telling us more about what you thought a Trump presidency would actually look like. Ok, so you drain the swamp what happens next? And that brings me to reader Marco. I’m not crazy about political dynasties or corruption either, and I have tried to learn from history. I have studied historical cases of populist and outsider candidates coming to power in presidential democracies, and that is part of the reason why I am so worried. Democracies often fail from within, and   leaders can dismantle democratic institutions, even in established democracies. Venezuela was a   consolidated democracy at the time of its 1998 election, even though its political system was facing a crisis of legitimacy. Within a couple years of that election, the elected populist president had rewritten the constitution, cemented his control over most other state institutions, and severely weakened the political opposition. Uruguay was a   consolidated democracy at the time of its 1971 election. Less than two years after that election, however, the elected “political outsider” president had expanded his emergency powers, arrested opposition leaders, and suspended the Congress. Peru was not quite a consolidated democracy at the time of its 1990 election, but nor was it a new democracy. A few years after a dark horse candidate assumed the presidency, he had closed the Congress, eliminated the independent judiciary, and established a security state. Nor were any of these presidencies paragons of clean government. I do not know that Trump will do any of these things, and I could come up with just as many examples of victorious populist candidates who turned out to have fairly quiet and “normal” presidencies. I can even come up with an example or two of populist presidents who really did make their country greater. But I do not share your optimism that our political institutions will save us, especially when our supposedly strong, democratic norms failed to prevent such a candidate from being elected in the first place. We have only so many safeguards left. Laughs, A video posted by Elliot Tebele (@fuckjerry. tv) on Nov 13, 2016 at 8:20am PST, So far in our reader series exploring the reasons why so many Americans voted for Donald Trump, we’ve heard from an array of perspectives: Lindsey is another reader who is upset by what she sees as the media’s posture against Trump: I’m a   female, lifelong Republican (who voted 3rd party this year) but I woke up the day after the election excited to see mea culpas from pop culture figures and mainstream media. “Finally,” I thought, “they are going to take responsibility for giving Trump a billion dollars of free exposure and for allowing Hillary to coast   through the primaries. ” Do you know what I found instead? A series of   meltdowns and a barrage of more of the same insults that my people have heard so often that they have lost their meanings. I kept a running list of all of the snotty headlines I saw from the “balanced” mainstream media sites on Wednesday, to help explain to my future children why Trump supporters did not CARE what mainstream says. (Kudos to the WSJ bucking the trend: “‘Deplorables’ Rise Up to Reshape America. ”) Try to read the following headlines from the perspective of a child who is 15 years removed from this week’s kerfuffle: Grief. Fear. Disturbing. Broken. Maniac. Disaster. Can you take a step back from nodding at those headlines to see their negative bias? If you can’t, here is a list of article topics I would have liked to see more of the day after the election, things I wish I could expect from responsible,   journalists: The ultimate form of tolerance is hearing people say negative things about you and ignoring it. The ultimate form of confidence is hearing every celebrity and mainstream media outlet in the nation insult your values and still create enough cognitive dissonance to like them and buy their products. These are the two great virtues of the average Trump voter. Disagree with Lindsey’s assessment here? Drop us a note and we’ll keep the debate going. Update from reader Bridgit: While there are plenty of reasons to critique the media after this election, and I believe considered skepticism is an admirable quality, Lindsey’s commentary illustrates two problems facing this country. First, it is unfortunate that a college educated person cannot differentiate between opinion and news pieces. Of the eight headlines Lindsey supplies, only two are actual news, and the rest are commentary pieces. Secondly, there is a complete lack of balance to her   “mainstream” (read: “liberal”) media is far from the only guilty party here. There are plenty of excited, opinionated, uncritical headlines praising Trump from the “alternative” (read: “conservative”) media websites. I am hopeful Lindsey saved some Fox News headlines from Obama’s 2008 campaign and election to show her children? I clearly remember the cable network calling a fist bump between the Obamas a “terrorist fist jab. ” That’s nothing compared to the perpetual propaganda campaign by Sean Hannity on behalf of Trump this election cycle (even to the point where Fox News had to tell Hannity to stop appearing in more campaign ads for Trump). One estimate —  all the way back in August —  put the dollar amount of free airtime for Trump on behalf of Hannity at $31 million. (All of the donations to the Clinton campaign by journalists combined didn’t even reach $400, 000.) Here’s just one of Hannity’s propagandist efforts, from a “town hall” with Trump in Wisconsin —  a traditionally solid blue state he ended up winning in the general election: Update from another reader: That clip you posted of mainstream journalists laughing at the prospect of Trump winning the nomination —  let alone the presidency —  made me think of this legendary act of media smugness, from The Huffington Post: After watching and listening to Donald Trump since he announced his candidacy for president, we have decided we won’t report on Trump’s campaign as part of The Huffington Post’s political coverage. Instead, we will cover his campaign as part of our Entertainment section. Our reason is simple: Trump’s campaign is a sideshow. We won’t take the bait. If you are interested in what The Donald has to say, you’ll find it next to our stories on the Kardashians and The Bachelorette. I noticed that one of the bylines on that announcement is Ryan Grimm, who days before the election went after Nate Silver for “unskewing polls —  all of them —  in favor of Donald Trump”: By monkeying around with the numbers like this, Silver is making a mockery of the very forecasting industry that he popularized. [. ..] I get why Silver wants to hedge. It’s not easy to sit here and tell you that Clinton has a 98 percent chance of winning. Everything inside us screams out that life is too full of uncertainty, that being so sure is just a fantasy. But that’s what the numbers say. What is the point of all the data entry, all the math, all the modeling, if when the moment of truth comes we throw our hands up and say, hey, anything can happen. If that’s how we feel, let’s scrap the entire political forecasting industry. Let’s indeed. Here’s Robert, a reader in Seattle, with another critique of the media, this time from the perspective of a Sanders supporter (“In both foresight and hindsight, Sanders would have been the candidate the country actually wanted most” —  defeating Trump). Robert continues with the kind of impassioned and deft criticism of elites that demonstrates how much of a crossover election this really was: The “liberal” media, as usual, being   is focusing on the trashy side of Trump support rather than take on the corporatist control of our government (and media) which both informed progressives and a large portion of Trump voters see as an existential threat. Why is the analysis seeming to be summed up as, “Gee, there sure are a lot of racists in here”? Racism is a real and significant problem, but it is not THE fundamental problem. Clinton lost because she epitomizes corrupt corporatist control of government. While the elite control the parties and the government, they will use racism, sexism, homophobia, issues of religion and any and everything else available to divide the public.   We are reacting in an oppositional way because we are allowing the corporate media to focus our attention away from the problem. We should be reaching out to our conservatively oriented brothers and sisters who also understand that the working class should be ascendant and not in decline. Who understand that our democracy should represent the people and not the elite. That is absolutely critical moving ahead. When people (read: angry, white, socially conservative,   people) are secure in their jobs and health and future, the negative ’isms tend to fall by the wayside. Those people want stronger Social Security, just like progressives. But their establishment Republican Party has always pushed strongly against that. These people are tired of the establishment. The GOP establishment will probably retain the upper hand and control the agenda in Congress. That will end up alienating the white   Trump voters yet again. It is critical that people of good will set the agenda in the Democratic Party —  or another one if control of the Democratic Party is irredeemably corporatist —  to accommodate and empower the overwhelming   sentiment of the vast majority of the people. To put it succinctly, the Democratic Party has to eject corporatists, Blue Dogs, and   neocons and genuinely reflect   people’s (low and middle income) interests as the   priority, or they will continue to be humiliated, as they have been by losses to W and now even more pathetically to Trump. Progressives need to wake up and clearly understand that a Trump victory is a huge opportunity. It means that there is awareness among conservative   whites that elite control is against their interests, same as informed progressives are aware. Those are our friends in finally throwing off the yoke of corporate rule. Let’s make our movement the rational and coherent and focused and aggressive one against corporate hegemony and for democracy, that they will see as a superior alternative to Trumpism, in spite of their misgivings about the liberal social stuff. Let’s frame the issue so it’s not about “big” government but “corrupt” government. This is a huge opportunity, despite the pain and destruction we will have to endure under Republican rule. In four years we could see real solid progressives representing the vast working middle and poor class. Get to work. Update from Lindsey: Thanks for the edits and the publication, Chris. Your reader Bridgit raised a few good points in her critique of my letter, and I would like to rebut them: Bridgit, I actually agree with you. Fox News delves into   resentful opinion pieces about Obama too often and for that reason, I refuse to watch it . .. just like I refuse to watch, say, The Rachel Maddow Show. The title of this series is, “Will Trump Voters and Clinton Voters Ever Relate? ,” and I hope you can look at the five story suggestions that I, as a conservative, would have liked to have read on Wednesday, November 9th and see not Fox   histrionics, but    coverage that simply colored in some finer details of what may happen as we transition from the Obama Administration to the Trump administration. This, to me, is what balanced journalism looks like, but I find we are far from it, even among the finest papers in the country. I selected mostly opinion pieces because those are what newspapers’ Facebook sites pushed to my feed the day after the election. [CB: Here’s just one piece of many about the awfulness of Facebook.] In my lone anecdotal observation, the ratio of negatively to positively (or neutrally) tinged headlines from the mainstream media was around 7:1 that day. I believe I have the right to expect a more balanced selection of opinions and stories about a   from renowned national journalism sources, even if solely out of respect for the office of the President itself and for the peaceful transition of power we in this country are blessed to experience every four years. Now, I prefer the smart journalism of The Washington Post, The Atlantic, the Times, the WSJ, etc. for my news, but many of my conservative compatriots, however, are not as patient as I am. Unfortunately, seeing so much negativity does not teach them a lesson it simply encourages them to look elsewhere for their information. I will continue to use my “clicks as cash” and reward only the journalism that I perceive gives me the fullest coverage of any given issue and allows me to draw my own political conclusions. I hope you will, too. We’ve gotten a ton of reader response to the long detailed note from the Southern white guy with a master’s degree who voted for Trump because he wanted to bring a “wrecking ball” to Washington. This first reader, Pamela, scratches her head: I read the Southern reader’s note with great curiosity and found his sentiments very familiar and heartening —  until I realized that I still couldn’t comprehend where a vote for Trump, or a wrecking ball, or a middle finger, fit in. I reread it and had the same reaction. Towards the end, where he references “crazy is,” I was unable to follow him to Trump versus Clinton —  it just didn’t jive with their policies. So, I am left wondering what his vision of the future is and how Trump fits that. It sounds like he leads a pretty decent life in a pretty decent place. Room for improvement, sure, but a wrecking ball? I still don’t get it. This next reader is more forceful in his criticism of the Southern Trump voter: Ok, this has been an interesting reader series, but time to push back. I don’t think all Trump voters, or even most Trump voters, are “racist” in some white supremacist sense. But I do think they are missing a pretty fundamental point. Southern Guy’s description of life paints a picture of a pretty nice world in which people of all colors and creeds have opportunities. I agree. I am a Clinton voter. I stand for the pledge, I decorate the graves of my veteran grandfathers on Memorial Day, and I fly the flag on the Fourth of July. We have a great country that has problems to fix (many of which are really hard issues arising from globalization) but it has also made enormous progress.   So then the question is, why take the “wrecking ball” to it? If these folks could look at their own positions from another perspective, they might realize why people suspect that racism motivated their decisions in whole or in part. It is because the results of wrecking things are a lot worse for nonwhites, women, and LGBT folks than they are straight white guys like Southern Guy and me. I work with a Muslim guy with whom I travel out of the U. S. regularly. He’s an American citizen. The  ’s website said —  in a press release (not a random question) which was not changed even when it was called out —  that he would ban my colleague’s   into the U. S. [CB: Though this morning, Trump surrogate Giuliani backed away from the Muslim ban, telling CNN it’s no longer operative.] If you don’t think that would be possible or legal, read Korematsu [the Supreme Court decision allowing for   internment camps during WWII]. Did Trump mean all that? I don’t know. Would he get away with it? Probably not. But guess what? I don’t really have to worry about it I get to come home either way. My Muslim colleague does have to worry. That is my privilege.    Another reader, Alex, expands on that idea of privilege —  but not in the clichéd way that is bandied about too often, to diminish one’s accomplishments or end a discussion: I am a Clinton voter. I imagine that your Trump voter and I have many different viewpoints, beliefs, and life experiences, but I also believe we would find many areas of agreement. I appreciate and do very much relate with his fairly nuanced views. When faced with the choice of bigotry and authoritarianism, a major factor in making that decision is privilege. (Let’s remember that a large portion of Trump voters are actually college educated with higher incomes, not just poor rural whites who were left behind. [According to exit polling, 49 percent of college grads voted for Clinton, 45 percent for Trump —  and he won the white   vote, 49 percent to Clinton’s 45 percent.) Based on your reader’s note, he seems to be aware of these advantages and does touch on them —  but then moves on. And I don’t just mean the typical liberal attack of “white privilege. ” Your reader is correct that it is used too freely and is not always a fair critique. I am speaking of generic privilege. He is a     white male. Part of the majority. Raised by two good parents. He is privileged. I do not say this in a derogatory sense. I myself am privileged in much the same way (educated Cuban male in a   city, born and raised in Miami). Being privileged, we both have the luxury of making a protest vote with limited consequences —  in all honesty, a protest vote I might have entertained with different candidates on the ballot. But not everyone has that luxury. They are rightly worried of increased discrimination, hate, and distrust directed towards them by their fellow citizens and their government. This next reader, Lauren, describes some of the people who are worried about increased hatred and discrimination in the wake of Trump’s election. She addresses the Southern Guy directly: Thanks for flipping me the bird. Because while you may have thought you were flipping off some corrupt politicians, what you were really doing is flipping off people like me who were voting for the progress you deemed unworthy. I’m not going to call you a racist, bigot,   misogynistic, or an uneducated redneck. There’s nothing in your piece that indicates you appear to be any of those things. But did you consider why those who hold those views have been emboldened by and found comfort with your candidate? Did it give you pause that Trump’s campaign chair was the CEO of Breitbart, a home to the   that often stokes the same gender and racial anxieties that are the lifeblood of white nationalists? Did it give you pause when Trump praised Alex Jones, a man that has denied Sandy Hook even happened causing incalculable pain to the parents that lost children that some now want to deny ever existed? Before you set that wrecking ball in motion, did you consider that many might feel the consequences far more deeply and significantly than you will when the house comes crashing down? You’re not the girls and women who woke up in the morning to realize 100 years after a hard fought right to vote was finally achieved, a woman will still not lead the country we love despite being eminently qualified and securing a majority of the votes —  losing to a man who bragged about sexually assaulting women. [See the new piece from my colleague Uri, “Why It’s So Hard for a Woman to Become President of the United States. ”] In 2016, we still only have less than 20 percent representation in Congress, only 4 percent of Fortune 500 CEOs are women, and we still make [$0. 79 to $0. 95] on the dollar. It’s nice that you appreciate that abortion isn’t going away just because we elected a Republican, but a woman’s legal right to a safe and legal abortion may. This may be something you can intellectually appreciate, but it won’t be you seeking an unsafe procedure or experience the fear of consequences of breaking the law. You will not be the woman who desperately wants a child only to be told that child has genetic abnormalities, and that instead of having a safe and legal medical procedure, you will be forced to maintain the pregnancy until you miscarry, deliver a stillborn or deliver a baby only to see that child die in hours, days or weeks. You won’t be the woman who has to wonder if her medical choice for contraception is going to be overridden by her employer’s religious beliefs. You’re not the Dreamer who was brought here as a child who now fears deportation to a country you’ve never known. Crazy is thinking that those who live in the country undocumented are not already experiencing consequences. Crazy is refusing to recognize that they are continuously paying restitution either by not being protected by labor laws or paying into a Social Security scheme they will never benefit from. Crazy is thinking a wall on our Southern border is going to fix the problem of illegal immigration or terrorism —  or that anyone is arguing for open borders in the first place. You’re not the disabled child who woke up to realize that sometimes bullies win. Another reader, Fleur, looks to the environment: I am an independent and always listen to both sides. I agree with almost everything this man is saying and I appreciate the time it took him to say it so well. But it is not true “that coal  still makes sense. ” It does not make sense. I don’t know how scientists have failed to convince the American citizenry of the extraordinary danger we are in   …     but we have failed. I know about Big Oil etc, but too much of our citizenry does not see the danger and it is getting more horrific by the day. And as always, it is going to hurt the little guys worst of all. Barry worries about the economy: Obama was disappointing on many fronts, but largely the disappointing effects facing wrecking ball man were the product of Republican obstructionism and the Fox News Pravda, Tea Party News Network, whiners such as Wrecking Ball man, who expected the worst economic disaster since the Great Depression, the result of the exact economic politics we have just reelected into power, to magically resolve itself back to 1955 —  all while half the nation was already jamming up the works with the same outlandishly hypocritical “I am not a racist” nonsense applauding inaction. I would believe characters like your reader had they likewise tossed out the   Congress and Senate on its ear   …     but no, not so.   Jonathan takes a conservative approach to the kind of radical change that a Trump wrecking ball could bring to institutions and the status quo: First off, I wanted to applaud you on sanctioning and hosting the sorely needed discussion to find common ground between the Clinton and Trump, left and right camps. To my white, male, Christian friend with the wrecking ball, I want to first express what a shame it is that he feels he has to preface his perspective with a repeated insistence that he is not prejudiced, and that he actively eschews discrimination. In a pluralistic society such as ours, we owe one another the presumption that we are   and tolerant until it is demonstrated otherwise, not the reverse. I would agree with him that our political system and its attendant institutions have grown extraordinarily perverse, and that swift and decisive intervention is necessary. The trouble with adjusting, let alone overhauling, such a monolithic structure is that any such societal paradigm perpetuates itself by convincing its constituent members that there is no viable alternative. Failing that, it menaces extremely adverse consequences to anyone who tries to replace it, and does its utmost to ensure this is the case. We have every reason to believe that our system will make good on its threat to take us all with it. To be sure, that unsettling possibility alone is not reason enough to shrink from confronting a social system, but my question to the Southern reader is what gives you or anyone else the right to indulge your desire to tear the system down at the expense of all those who will suffer immensely in its wake? I don’t mean that to rhetorically imply the absence of a rationale for this, but I ask this sincerely. I’ll update with a response from the Southern reader if he’s game. Beverly anticipates his response: Yes, I know that this is what you shudder to hear: the cry of guilty white liberals who must apologize for their own good fortune. However, a person who has the privilege of turning down Yale also has more responsibility than others for not only knowing, but also facing and interpreting, the history of the country in which he lives. He must know, and admit, that people came from across the sea, and, by virtue of their imagined authority of nation, sovereign, and flag, had the privilege —  yes, privilege, for it was not their right —  of appropriating another people’s land for their own. The past is prologue. He must know, and admit, that fortunes which have been preserved to this very day, were acquired from the forced labors of enslaved people. The past is prologue. He must know the history of   and de jure policies which artificially limit, and continue to limit, the lived spaces, employment, and educational prospects of so many Americans. After all, he admits to “reading a few history books. ” I don’t know what he’s read, but perhaps he’d like for me to recommend a few more. Here’s one more response from the wave of email that’s come into hello@ from Amanda: I respect people’s reasons for voting Trump. I empathize with the concerns of many of them, and I thought the “Wrecking Ball” reader’s essay provided another view into people who made this decision. Then I got to these lines and had to respond: Here’s the recipe for success and comfort in modern America: Stay in school, do your best, stay away from drugs, don’t have kids until you are no longer a kid, don’t break the law. That’s not the recipe for success at all. Talk to people in my generation. I’m 32, at the older age of the millennials. I went to a great, nationally ranked liberal arts college. My friends and I, we followed all your rules, and we do not have comfort and success in modern America. My friends from school don’t own houses, most of us don’t have children, and we’re all struggling to manage paycheck to paycheck. We have master’s degrees, because employers didn’t think our bachelor’s were enough. We stayed in school and then some. I have a J. D. from an Ivy League law school. I make my public sector salary work —  and let’s note that I work in the public sector because it provides me with reasonable hours. My chronic illnesses prevent me being able to work those   law jobs everyone always talks about. We stayed in school. We did our best. We have to put medical expenses on credit cards. I just had to have a tooth pulled because I could not afford the $1300 crown and root canal. I have a hole in my mouth. We didn’t exactly stay away from drugs, but, well, we weren’t addicted to them either. We were lucky, in retrospect. We were privileged here. As for the law, I think the extent of our   is related to the casual drug use, but I haven’t surveyed everyone on this part. You don’t have to worry about the kids part we can’t afford them, and we’re doing everything we can to keep from having them. Your opposition to abortion presumes that the only people who need abortions are careless, are doing something wrong somehow. I respect your views, but I want to point out that, with that line, you evidenced how you don’t understand what is happening in our economy and country. It is not just people mooching off of welfare, downtrodden coal miners, and people like you —  who aren’t rich! But are incredibly privileged. People with this privilege often don’t recognize it and don’t want to recognize it. Your letter indicates your parents probably did well for themselves, enough for them to be comfortable and help you out to. As Americans, we need to be frank and admit that working hard and doing your best are not enough in most cases if you do not come from a   or better background. It’s not just   folks who are getting set back months, or years, by a   car or a medical expense. We did everything (almost) to the letter. So why aren’t we seeing the results? My parents could never afford to help me. I took out loans, I got scholarships, I did what I was “supposed” to do to get ahead. I am drowning in medical debt because of the health insurance situation in this country. I am doing the very best I can and it is not enough. And I know that Donald Trump does not give a shit about any of this and doesn’t want to help people like me. After all, it must be that we didn’t work hard enough! If only I’d worked as hard as Trump and his kids. That’s how reader Ray describes himself in the subject line of the note he sent to hello@. The question Ray closes with is the most compelling: Should you take a gamble with a volatile candidate or one who’s predictably corrupt? I grew up on the West Coast, raised by Indian immigrants, went to a liberal university, and voted liberally on most stances until this election. I am currently working on a   professional degree, so I am not uneducated. My vote for Trump is a protest vote —  a protest that Sanders couldn’t provide. I’m tired of our country being whored out to the highest bidder. I’m tired of people coming into this country illegally, taking away the justice due to those who have waited in line for years to get into this great country. I’m tired of politics as usual. I’m tired of   safe spaces, and the general retreat on being confronted with opposing views. I’m tired of the sense of entitlement present in many of my peers. I’m tired of pretending that the U. S. is   while seeing my friends sipping their mochas in LA, SF, and NYC, ignoring the plight of the “flyover” states. I’m tired of accepting that U. S. politics is an inevitable palace of corruption, with trim made of corporate donations, a carpet of immunity, and a chandelier of complacency. I’m tired of accepting politics as the broken system we see today. As of very recently, I’m tired of   individuals grouping Trump supporters as ignorant, racist,   sexist. I was one of those people casting the judgement before the campaigns began. However, after having changed my opinion —  contrary to late night shows and other   political comedy —  now I’m just uninformed and racist. When I was trying to spread the Wikileaks revelations about the corruption of Clinton, I was wearing a tinfoil hat and was “unrealistic” about the nature of politics. The cognitive dissonance of former Sanders supporters was so strong it just about knocked me off my chair. The media response to Trump firmly solidified my position with Trump. The New York Times, The Atlantic, The New Yorker, and The Washington Post —  all my beloved bastions of journalism —  began a coordinated effort to turn their outlets into the the daily Trump takedown. They firmly stepped into the bubble of  : It is not possible for contradictory views of the 2016 election to exist without being racist or ignorant. Instead, they continued to perpetuate identity politics and wedge issues. Trump supporters couldn’t have legitimate views worthy of discussion, right? They obviously had to be bigots. If you feel that 50 million of your countrymen are racists and ignorant voters, I feel sorry for you. I implore those people to come on down from their towering high horse and talk to the simpletons, racists, and bigots outside of their society. Maybe when they’re trying to tell those simpletons how misguided they are, about how Kansas isn’t acting in its own best interest, the   society can take a moment to fairly consider the simpleton’s argument for but just a moment. That is, before they retreat to a place of intellectual and moral superiority —  again, telling Kansas what’s the matter with it. A political cartoon I saw last week captured my sentiment about the two major candidates in 2016. I view Clinton and Trump as a game of Russian roulette, with each candidate being a different revolver. Clinton’s is fully loaded with corruption, propaganda, and bad decisions as a leader. Trump’s is only half loaded. Which one should Lady Liberty spin and point at her head? This next reader, Nana, also had major qualms with both candidates but comes down on Trump the hardest: I am a cross between your reader Marco [“The Smell of Corruption Emanating From the Clinton Machine”] and your Southern reader [“I Voted for the Middle Finger, the Wrecking Ball”] and, except for a few differences here and there, I could have written the latter’s piece. I am an immigrant from Africa with a PhD in engineering. I have lived in Texas, the Midwest, and now live in a red state in the Southwest. I love this country and, no matter how one voted, I think it is important that we all accept Trump as our   and pray for his success. But I don’t think the primary issue that concerns people who did not vote for Trump is the usual divide between Democrats and Republicans, conservatives and liberals, Red and Blue that often shape our political discourse, although that is what this discussion seems to be devolving into. Like Marco, I abhor the corruption of our politicians and feel a bit queasy about dynastic politics, but I also recognize that dynastic successions are not that uncommon in other areas such sports, media, business, and religious institutions —  and they need not be corrupting. I could quibble with Marco on the extent to which “the smell of” Clinton’s political corruption is somehow worse than Trump’s   corruption in his business life. But I wouldn’t have a problem with Marco deciding to vote for Trump on the basis of those two issues, if those were all we have to consider in selecting a President. Similarly, I share your Southern reader’s frustrations about our inability to secure our borders, or have sensible immigration or health care policies. I understand his desire to vote for “the wrecking ball” to give us a kick. By most accounts, Trump’s victory is largely due to Americans with similar frustrations voting for him. I suspect Romney, John Kasich, the Bushes, and the Republicans that came out forcefully against Trump share much of the concerns of Marco, your Southern reader, and most Americans. Our elections are mostly about our preferences for addressing such concerns. The constant refrain from these Trump voters here is that people are judging them as uneducated, bigoted, xenophobes, or misogynists just because they voted for Trump. If this is happening, it is clearly wrong and we should all push back forcefully against that narrative. But I don’t think that is the issue here. The shock of those who did not vote for Trump, including Romney, Kasich and several Republicans, is about something entirely different, I suspect. People waste no time pointing to Obama’s single comment about some “bitterly clinging to their guns and religion” as ample evidence of his identity politicking or bigotry. Many were aghast at Clinton’s truly deplorable comment describing some of Trump supporters as irredeemable “deplorables. ” And who can forget Romney’s “47 percent” comment that likely contributed to his loss in 2012. Each comment, while deplorable, was made by a politician in an unguarded moment. That doesn’t excuse it. But you know what? Each of them apologized profusely and paid a price. More importantly, not one of them repeated or stood by those comments for the rest of their campaigns. If Trump had made a couple of such unfortunate comments, apologized, and moved on, I would hope we would too. But in Trump’s case something quite different happened. Right from day one, he seemed to have chosen purposefully to use xenophobia and bigotry as tools to sow division. Not only did he repeatedly do this, but based on the evidence we have all seen and heard, I feel comfortable describing Trump as a xenophobe, bigot, and misogynist. Unfathomably, Trump’s campaign seemed to condone support from   even though he has Jewish family members. If he is none of these things as some say, but chose to play a part to win this election, that is even more despicable. Again, it is preposterous to suggest that all Trump voters share these characteristics. However, a not insignificant segment of Trump supporters, by their words, deeds, clothing at campaign rallies, and associations with hate groups, do seem to share some of these characteristics with Trump. It is one thing to vote for a populist or even volatile candidate who rails at the usual suspects of corrupt politicians, out of touch elites, the media, big business, unions, opposing parties and the typical broad groups both sides attack in elections. What is different here is that clearly   and decent voters, some of whom voted for Obama in 2008 and 2012, voted for a candidate that explicitly used bigotry, xenophobia, and misogyny as campaign tools to sow division. Even if you want to blow up the system, you don’t throw your fellow Americans under the bus. That is what is disturbing. Update from Nana: I don’t know if it matters at this point, but here is a point of clarification. Reading my email, I can see how you might think this, but I really do not have any major qualms with Clinton. Moreover, the issues I think need addressing —  border security, immigration, health care —  are universal. Clinton voters also want to see those issues addressed but in a different way. My point to all of us —  and to push back a little at both Lindsey and Robert today —  who from either side seem to be resorting back to the usual “let’s blame the ‘media,’” this election was really about us and our values, regardless of what the “media” did or did not do. There is a larger point to be made to these Trump voters who bristle at being tagged with Trump’s sins of bigotry, xenophobia, and misogyny, and I agree they really shouldn’t be tagged with them. But, if you will notice, none ever say Trump himself is not guilty of those sins. Minus Trump’s bigotry, misogyny, and xenophobia and the willingness to use them in the election, I wouldn’t begrudge any voter for picking him, although I personally wouldn’t for a variety of other reasons. But the choices would not have been that different from your usual suspects. What I think is staring us right in the face but we seem unwilling to confront is the following: Now that he is president, we must move forward and determine how best to live with our collective decision. But picking the Trump we know with his bigotry, misogyny, and xenophobia, smacks of those voters saying, “I don’t commit those sins myself and abhor them, but I will condone them from Trump, wielded in my name against a large segment of my fellow citizens, because I like the benefits we saw from his campaign (e. g. Lindsey) and believe he can solve America’s problems for all our benefits (e. g. Marco and your Southern reader). ” Maybe it’s because of my immigrant perspective, but who wants benefits acquired by those means? What sins in our name will we be willing to accept next month, next year, or during the next election? So far we’ve heard from two Trump voters in great detail: Alan, who’s most animated by identity politics, and our Southern reader who wants to take a “wrecking ball” to Washington. But both readers also had major qualms with the Trump candidacy. Another reluctant Trump voter, Marco, describes his deep aversion to establishmentarianism and dynastic politics —  and he doesn’t spare the Republicans one bit: We shouldn’t be asking what happened with Trump. What happened to The Atlantic? I’ve been a reader for years, after abandoning Time and Newsweek because of their   superficiality. The appearance of considered thoughts at The Atlantic is what kept me there. But since you decided to take sides in the presidential election, strident hysterical writing is all I find, especially on November 9. That’s perhaps understandable The Day After, but, folks, the sky won’t fall. It won’t fall because the U. S. government’s institutions are designed to prevent irrational outcomes to a good degree. Trust the system a little, if you learned anything from history. I probably do not feel the pain to the same degree as you do, though I am concerned, and on pins and needles. I admit it: I voted for Trump —  at the limit of my tolerance for bad taste and unhinged statements. But I did so not because I am an undereducated, violent, intolerant,   xenophobe —  as the press has made habit of defining Trump supporters. I have an MBA. I refuse violence and support gun control. And I’m an immigrant, now a citizen after obtaining green cards twice, all by the legal process. I voted for Trump only because of the smell of corruption emanating from the Clinton Machine. That smell is well documented by Wikileaks and Podesta’s emails depicting the Clinton Foundation   State Department connections. To that you can add the past four decades of continuous scandals —  why only them with so many? You get my picture. But there is one more reason to fear their corruption: the history of ALL countries around the world, since WWII, where an immediate relative followed a president or PM (see my list below). In all cases, either the “succession” was made possible by endemic corruption, or advanced it as a result, or both. This is to be expected when the vested interests supporting one person get to take advantage of continued control of the government from behind the scenes by electing the relative. By the way, the Bushes fit that pattern too. I objected to Jeb Bush on those grounds. Democratic institutions can control visible political activity (and will control Trump’s extremes) but they cannot control the invisible quid pro quo that corruption brings. Trump’s lack of institutional backers is the attractive part. If he can just push and deliver term limits and limits on lobbying, as he promised, he will have drained enough of the swamp. Beyond that the Congress can handcuff him as necessary. So, perhaps the sky is not falling and a more reasoned discussion could help your readers, and recover the high editorial standards of The Atlantic. More importantly, you could help voters understand that women can and do make great leaders (Thatcher, Meir, Merkel) but we have to pick those that built their own career on their own ability, not those pushed along by private interests. Let’s hope for a better choice next time. Here’s the list of dynastic world leaders that Marco compiled (I added # ): Did the Democratic Party make a mistake backing another Clinton? Can you relate to reader Marco’s sentiments? If so, does it matter when it comes to backing Trump? Drop us a note if you’d like to respond to Marco. Update from another reader, Rick: “This is the first   argument that doesn’t scare me to death. ” Then let reader Mark try: I would like to point out the obvious: The Clinton dynasty is likely over whenever Hillary is done. The Bush dynasty still has some legs. But the Trump dynasty is just beginning. He gave his children large roles in his campaign and will either give them roles in his administration or will have them overseeing his business. To put it ungenerously, we now have our own Uday and Qusay. But don’t discount the Clinton dynasty yet there is widespread speculation that Chelsea is being groomed for a congressional run. Reader David, on the other hand, doesn’t see dynastic politics as necessarily a bad thing: “Well, I think we got pretty good stuff from the Roosevelt ‘dynasty’ —  Teddy and FDR!” Circling back to Marco, here’s a reader rebuttal from Emily: Thanks for your honesty, Marco. But are you having misgivings about   Trump’s hiring of his three children for his transition team at the same time that they are in charge of a blind trust that will manage his businesses? Are you concerned that this doesn’t meet the legal standard for blind trusts, and that Trump’s banks of record and businesses will undoubtedly be affected by his relationships with other foreign leaders? He acknowledged throughout the campaign that his children would run this “trust” it’s not a surprise. To me, this arrangement makes the issues around the Clinton Foundation look like running a lemonade stand. Here’s reader Martha with a longer rebuttal: I truly appreciate Marco’s thoughtfulness, but I can’t agree with his conclusions. I applaud his   arguments for Mr. Trump and appreciate his observations about the Clintons. I thought both of our choices this election were awful. Yet, a vote for Mr. Trump was a step too far. First, to respond to the observations about the Clintons: I agree there is a whiff of something unpleasant about them and I believe they have a history of walking up to the line —  and perhaps crossing it. However, I have to temper this observation with the years of their being pursued by a political paparazzi that, especially in the Internet age, states the most awful things about them as truth (murder anyone? ). A recent example is the furor over access of donors to the Clinton Foundation to the secretary of state, portrayed by certain Republicans and Clinton haters as   . There may be something there, but if so, I haven’t seen it yet. As someone who spent more than 30 years in a large federal department, I know that   officials DO meet with individuals they know and do sometimes meet with people who may, or whose families may, have contributed to a campaign or cause dear to the official’s heart. This does not mean that such contacts are    or inappropriate. I have not seen “results” stated that would demonstrate Secretary Clinton made inappropriate decisions based on these contacts. I feel much of what has been written about the Clintons is not corruption. I do agree that some of it gives the “appearance” of questionable behavior. And I have been disturbed that the Clintons seem to demonstrate questionable lapses time and again. They don’t seem to learn. But I have not seen proof of criminality or intent to harm or corrupt. Now, on to Mr. Trump: If I can see where Marco is coming from regarding the Clintons (though I don’t draw conclusions as harsh as his) then I ask he   Mr. Trump and his potential corruption. Like the Clintons, there is no direct proof, but his business dealings raise questions about his ethics. Did he really let his investors take the hits during his bankruptcies through some fancy legal and tax footwork? Has he really borrowed from Russian banks and had contact with Russian officials during the campaign? Does he really stiff contractors, architects, purveyors, etc.? The list goes on. So, I think neither candidate is free of questions concerning corruption, but they were the choices we had. Based on that, I selected Secretary Clinton for her foreign policy experience (even if too hawkish for my tastes) her support of climate change initiatives, her policy chops, her social agenda, her support of the environment, etc. And she conducts herself well. Mr. Trump’s language and behaviors are scary to me. Here’s Dorothy with another strong rebuttal —  directly addressing Marco here: I appreciate your willingness to share your thoughts about this since so many of us are trying to figure out why our fellow Americans think at Trump presidency could possibly be a good idea. And I really mean that I’m not being snarky. Given some of the hateful things that have occurred since Election Night [my colleague Emma collected some in Philly] it gives me comfort to hear from good, reasonable people like yourself. Nevertheless, I find some of what you have laid out puzzling, given how our system of government functions and the fact that one party is fully in charge of two of the three branches and in a position to shape the third for a generation. This statement, in particular, struck me: Trump’s lack of institutional backers is the attractive part. If he can just push and deliver term limits and limits on lobbying, as he promised, he will have drained enough of the swamp. Beyond that the Congress can handcuff him as necessary. I regret to inform you that he can do neither of those things without Congress, and a Congress finally out from under the yoke of a White House occupied by a different party is not going to take up either of those items. In fact, Senate Majority Leader Mitch McConnell already dismissed that out of hand this week, not wasting more than 30 seconds on it. And what incentive does Congress have to handcuff him? Except for the two things you would most like to see happen, they largely agree with Trump on the things that will be most hurtful to most Americans: repealing the ACA gutting the Clean Air and Clean Water Acts (perhaps abolishing the EPA altogether) deregulating the financial industry so that they can get back to the tricks that brought on the Great Recession, etc. And for at least two years there will be nobody or no mechanism of government (particularly after they pack the court with loonies) to put a check on a radical   Republican agenda. I can also say that I have A LOT of sympathy for your opinion of dynasties. One of the many reasons I was a devoted supporter of Barack Obama in 2008 was that if Hillary Clinton had won the nomination and gone on to win the general election that year, the sitting president would have had the surname Bush or Clinton for my entire voting life, and I was 41 years old at the time. But Donald Trump has appointed three of his children (and his   ) to his transition team while these same three children are running his business interests. His business dealings and his public office are already completely commingled. You find his lack of “institutional backers” attractive, but he has one institutional backer with unfettered access to the White House: THE TRUMP CORPORATION. I hope you’re right and that the sky doesn’t fall, because if it does the one thing that will unite those of us who did and didn’t vote for Trump is how screwed we will be.'],\n",
              "      dtype=object)"
            ]
          },
          "metadata": {},
          "execution_count": 78
        }
      ],
      "source": [
        "long_reads[long_reads[\"id\"] == 78406][\"content\"].values"
      ]
    },
    {
      "cell_type": "markdown",
      "metadata": {
        "id": "-6_P4ZggctQL"
      },
      "source": [
        "# 💬 Unique words"
      ]
    },
    {
      "cell_type": "code",
      "execution_count": 79,
      "metadata": {
        "id": "F4kRMYGqctQM",
        "outputId": "ea87cc91-1061-489b-8987-8541747b0be7",
        "colab": {
          "base_uri": "https://localhost:8080/"
        }
      },
      "outputs": [
        {
          "output_type": "execute_result",
          "data": {
            "text/plain": [
              "(9, 7)"
            ]
          },
          "metadata": {},
          "execution_count": 79
        }
      ],
      "source": [
        "txt = \"a quick brown fox jumped over a sleeping fox\"\n",
        "tokens = txt.split()\n",
        "len(tokens), len(set(tokens))"
      ]
    },
    {
      "cell_type": "code",
      "execution_count": 84,
      "metadata": {
        "id": "FpeufQMPctQM",
        "outputId": "2e4cae09-0992-4ba1-96c9-620657dc183b",
        "colab": {
          "base_uri": "https://localhost:8080/"
        }
      },
      "outputs": [
        {
          "output_type": "execute_result",
          "data": {
            "text/plain": [
              "datetime.datetime(2021, 12, 8, 15, 42, 41, 846124)"
            ]
          },
          "metadata": {},
          "execution_count": 84
        }
      ],
      "source": [
        "from datetime import datetime as dt\n",
        "now = dt.now()\n",
        "now"
      ]
    },
    {
      "cell_type": "code",
      "execution_count": 85,
      "metadata": {
        "_kg_hide-input": true,
        "id": "FOq6ZuMuctQM",
        "outputId": "f0e176cc-0e90-47c4-ab97-f70fca4183a0",
        "colab": {
          "base_uri": "https://localhost:8080/"
        }
      },
      "outputs": [
        {
          "output_type": "stream",
          "name": "stdout",
          "text": [
            "Spent 0:00:07.366354 ms on processing\n",
            "Average number of unique words in an article: 418\n",
            "Maximum unique word: 4692, Minimum: 1\n"
          ]
        }
      ],
      "source": [
        "# number of unique words in each article\n",
        "start = dt.now()\n",
        "articles['uniq_wds'] = articles['tokenized'].str.split().apply(lambda x: len(set(x))) # see above cell for example\n",
        "end = dt.now()\n",
        "print(f\"Spent {end-start} ms on processing\")\n",
        "print(f\"Average number of unique words in an article: {int(articles['uniq_wds'].mean())}\")\n",
        "print(f\"Maximum unique word: {int(articles['uniq_wds'].max())}, Minimum: {int(articles['uniq_wds'].min())}\")"
      ]
    },
    {
      "cell_type": "code",
      "execution_count": 86,
      "metadata": {
        "id": "RUYc7hodctQM",
        "outputId": "637610c5-9e0e-476d-a294-e24603d9e20d",
        "colab": {
          "base_uri": "https://localhost:8080/",
          "height": 397
        }
      },
      "outputs": [
        {
          "output_type": "execute_result",
          "data": {
            "text/html": [
              "<div>\n",
              "<style scoped>\n",
              "    .dataframe tbody tr th:only-of-type {\n",
              "        vertical-align: middle;\n",
              "    }\n",
              "\n",
              "    .dataframe tbody tr th {\n",
              "        vertical-align: top;\n",
              "    }\n",
              "\n",
              "    .dataframe thead th {\n",
              "        text-align: right;\n",
              "    }\n",
              "</style>\n",
              "<table border=\"1\" class=\"dataframe\">\n",
              "  <thead>\n",
              "    <tr style=\"text-align: right;\">\n",
              "      <th></th>\n",
              "      <th>id</th>\n",
              "      <th>title</th>\n",
              "      <th>publication</th>\n",
              "      <th>author</th>\n",
              "      <th>date</th>\n",
              "      <th>year</th>\n",
              "      <th>month</th>\n",
              "      <th>url</th>\n",
              "      <th>content</th>\n",
              "      <th>tokenized</th>\n",
              "      <th>num_wds</th>\n",
              "      <th>uniq_wds</th>\n",
              "    </tr>\n",
              "  </thead>\n",
              "  <tbody>\n",
              "    <tr>\n",
              "      <th>0</th>\n",
              "      <td>17283</td>\n",
              "      <td>House Republicans Fret About Winning Their Hea...</td>\n",
              "      <td>New York Times</td>\n",
              "      <td>Carl Hulse</td>\n",
              "      <td>2016-12-31</td>\n",
              "      <td>2016.0</td>\n",
              "      <td>12.0</td>\n",
              "      <td>NaN</td>\n",
              "      <td>WASHINGTON  —   Congressional Republicans have...</td>\n",
              "      <td>washington congressional republicans have a ne...</td>\n",
              "      <td>876</td>\n",
              "      <td>389</td>\n",
              "    </tr>\n",
              "    <tr>\n",
              "      <th>1</th>\n",
              "      <td>17284</td>\n",
              "      <td>Rift Between Officers and Residents as Killing...</td>\n",
              "      <td>New York Times</td>\n",
              "      <td>Benjamin Mueller and Al Baker</td>\n",
              "      <td>2017-06-19</td>\n",
              "      <td>2017.0</td>\n",
              "      <td>6.0</td>\n",
              "      <td>NaN</td>\n",
              "      <td>After the bullet shells get counted, the blood...</td>\n",
              "      <td>after the bullet shells get counted the blood ...</td>\n",
              "      <td>4743</td>\n",
              "      <td>1403</td>\n",
              "    </tr>\n",
              "    <tr>\n",
              "      <th>2</th>\n",
              "      <td>17285</td>\n",
              "      <td>Tyrus Wong, ‘Bambi’ Artist Thwarted by Racial ...</td>\n",
              "      <td>New York Times</td>\n",
              "      <td>Margalit Fox</td>\n",
              "      <td>2017-01-06</td>\n",
              "      <td>2017.0</td>\n",
              "      <td>1.0</td>\n",
              "      <td>NaN</td>\n",
              "      <td>When Walt Disney’s “Bambi” opened in 1942, cri...</td>\n",
              "      <td>when walt disneys bambi opened in 1942 critics...</td>\n",
              "      <td>2350</td>\n",
              "      <td>920</td>\n",
              "    </tr>\n",
              "    <tr>\n",
              "      <th>3</th>\n",
              "      <td>17286</td>\n",
              "      <td>Among Deaths in 2016, a Heavy Toll in Pop Musi...</td>\n",
              "      <td>New York Times</td>\n",
              "      <td>William McDonald</td>\n",
              "      <td>2017-04-10</td>\n",
              "      <td>2017.0</td>\n",
              "      <td>4.0</td>\n",
              "      <td>NaN</td>\n",
              "      <td>Death may be the great equalizer, but it isn’t...</td>\n",
              "      <td>death may be the great equalizer but it isnt n...</td>\n",
              "      <td>2104</td>\n",
              "      <td>1037</td>\n",
              "    </tr>\n",
              "    <tr>\n",
              "      <th>4</th>\n",
              "      <td>17287</td>\n",
              "      <td>Kim Jong-un Says North Korea Is Preparing to T...</td>\n",
              "      <td>New York Times</td>\n",
              "      <td>Choe Sang-Hun</td>\n",
              "      <td>2017-01-02</td>\n",
              "      <td>2017.0</td>\n",
              "      <td>1.0</td>\n",
              "      <td>NaN</td>\n",
              "      <td>SEOUL, South Korea  —   North Korea’s leader, ...</td>\n",
              "      <td>seoul south korea north koreas leader kim said...</td>\n",
              "      <td>690</td>\n",
              "      <td>307</td>\n",
              "    </tr>\n",
              "  </tbody>\n",
              "</table>\n",
              "</div>"
            ],
            "text/plain": [
              "      id                                              title  ... num_wds uniq_wds\n",
              "0  17283  House Republicans Fret About Winning Their Hea...  ...     876      389\n",
              "1  17284  Rift Between Officers and Residents as Killing...  ...    4743     1403\n",
              "2  17285  Tyrus Wong, ‘Bambi’ Artist Thwarted by Racial ...  ...    2350      920\n",
              "3  17286  Among Deaths in 2016, a Heavy Toll in Pop Musi...  ...    2104     1037\n",
              "4  17287  Kim Jong-un Says North Korea Is Preparing to T...  ...     690      307\n",
              "\n",
              "[5 rows x 12 columns]"
            ]
          },
          "metadata": {},
          "execution_count": 86
        }
      ],
      "source": [
        "articles.head()"
      ]
    },
    {
      "cell_type": "code",
      "execution_count": 88,
      "metadata": {
        "_kg_hide-input": true,
        "id": "fM1m27ChctQM",
        "outputId": "4f953111-778e-4d2a-857d-4fedf0a7fa7c",
        "colab": {
          "base_uri": "https://localhost:8080/",
          "height": 441
        }
      },
      "outputs": [
        {
          "output_type": "display_data",
          "data": {
            "image/png": "[encoded data removed]",
            "text/plain": [
              "<Figure size 864x432 with 1 Axes>"
            ]
          },
          "metadata": {
            "needs_background": "light"
          }
        }
      ],
      "source": [
        "ax=articles['uniq_wds'].plot(kind='hist', bins=50, fontsize=14, figsize=(12,6), color=\"green\")\n",
        "ax.set_title('Unique Words Per Article\\n', fontsize=20)\n",
        "ax.set_ylabel('Frequency (log scale)', fontsize=18)\n",
        "ax.set_xlabel('Number of Unique Words', fontsize=18)\n",
        "ax.set_yscale(\"log\")\n",
        "plt.tight_layout()\n",
        "sns.despine();"
      ]
    },
    {
      "cell_type": "code",
      "source": [
        "ax=articles['uniq_wds'].plot(kind='hist', bins=50, fontsize=14, figsize=(12,6), color=\"green\")\n",
        "ax.set_title('Unique Words Per Article\\n', fontsize=20)\n",
        "ax.set_ylabel('Frequency', fontsize=18)\n",
        "ax.set_xlabel('Number of Unique Words', fontsize=18)\n",
        "# ax.set_yscale(\"log\")\n",
        "plt.tight_layout()\n",
        "sns.despine();"
      ],
      "metadata": {
        "id": "QnUjpNv3tx9h",
        "outputId": "ef3d6275-ed6d-4513-edcd-07c47a1fc01c",
        "colab": {
          "base_uri": "https://localhost:8080/",
          "height": 441
        }
      },
      "execution_count": 89,
      "outputs": [
        {
          "output_type": "display_data",
          "data": {
            "image/png": "[encoded data removed]",
            "text/plain": [
              "<Figure size 864x432 with 1 Axes>"
            ]
          },
          "metadata": {
            "needs_background": "light"
          }
        }
      ]
    },
    {
      "cell_type": "markdown",
      "metadata": {
        "id": "ViStk7E0ctQM"
      },
      "source": [
        "# 🥊 Vox vs. Business Insider. You decide"
      ]
    },
    {
      "cell_type": "code",
      "execution_count": 90,
      "metadata": {
        "scrolled": true,
        "id": "G7Qew1V6ctQM",
        "outputId": "09accff9-e10f-4db3-e52b-8786d422af3c",
        "colab": {
          "base_uri": "https://localhost:8080/",
          "height": 337
        }
      },
      "outputs": [
        {
          "output_type": "execute_result",
          "data": {
            "text/html": [
              "<div>\n",
              "<style scoped>\n",
              "    .dataframe tbody tr th:only-of-type {\n",
              "        vertical-align: middle;\n",
              "    }\n",
              "\n",
              "    .dataframe tbody tr th {\n",
              "        vertical-align: top;\n",
              "    }\n",
              "\n",
              "    .dataframe thead tr th {\n",
              "        text-align: left;\n",
              "    }\n",
              "\n",
              "    .dataframe thead tr:last-of-type th {\n",
              "        text-align: right;\n",
              "    }\n",
              "</style>\n",
              "<table border=\"1\" class=\"dataframe\">\n",
              "  <thead>\n",
              "    <tr>\n",
              "      <th></th>\n",
              "      <th colspan=\"8\" halign=\"left\">id</th>\n",
              "      <th colspan=\"8\" halign=\"left\">year</th>\n",
              "      <th colspan=\"8\" halign=\"left\">month</th>\n",
              "      <th colspan=\"8\" halign=\"left\">num_wds</th>\n",
              "      <th colspan=\"8\" halign=\"left\">uniq_wds</th>\n",
              "    </tr>\n",
              "    <tr>\n",
              "      <th></th>\n",
              "      <th>count</th>\n",
              "      <th>mean</th>\n",
              "      <th>std</th>\n",
              "      <th>min</th>\n",
              "      <th>25%</th>\n",
              "      <th>50%</th>\n",
              "      <th>75%</th>\n",
              "      <th>max</th>\n",
              "      <th>count</th>\n",
              "      <th>mean</th>\n",
              "      <th>std</th>\n",
              "      <th>min</th>\n",
              "      <th>25%</th>\n",
              "      <th>50%</th>\n",
              "      <th>75%</th>\n",
              "      <th>max</th>\n",
              "      <th>count</th>\n",
              "      <th>mean</th>\n",
              "      <th>std</th>\n",
              "      <th>min</th>\n",
              "      <th>25%</th>\n",
              "      <th>50%</th>\n",
              "      <th>75%</th>\n",
              "      <th>max</th>\n",
              "      <th>count</th>\n",
              "      <th>mean</th>\n",
              "      <th>std</th>\n",
              "      <th>min</th>\n",
              "      <th>25%</th>\n",
              "      <th>50%</th>\n",
              "      <th>75%</th>\n",
              "      <th>max</th>\n",
              "      <th>count</th>\n",
              "      <th>mean</th>\n",
              "      <th>std</th>\n",
              "      <th>min</th>\n",
              "      <th>25%</th>\n",
              "      <th>50%</th>\n",
              "      <th>75%</th>\n",
              "      <th>max</th>\n",
              "    </tr>\n",
              "    <tr>\n",
              "      <th>publication</th>\n",
              "      <th></th>\n",
              "      <th></th>\n",
              "      <th></th>\n",
              "      <th></th>\n",
              "      <th></th>\n",
              "      <th></th>\n",
              "      <th></th>\n",
              "      <th></th>\n",
              "      <th></th>\n",
              "      <th></th>\n",
              "      <th></th>\n",
              "      <th></th>\n",
              "      <th></th>\n",
              "      <th></th>\n",
              "      <th></th>\n",
              "      <th></th>\n",
              "      <th></th>\n",
              "      <th></th>\n",
              "      <th></th>\n",
              "      <th></th>\n",
              "      <th></th>\n",
              "      <th></th>\n",
              "      <th></th>\n",
              "      <th></th>\n",
              "      <th></th>\n",
              "      <th></th>\n",
              "      <th></th>\n",
              "      <th></th>\n",
              "      <th></th>\n",
              "      <th></th>\n",
              "      <th></th>\n",
              "      <th></th>\n",
              "      <th></th>\n",
              "      <th></th>\n",
              "      <th></th>\n",
              "      <th></th>\n",
              "      <th></th>\n",
              "      <th></th>\n",
              "      <th></th>\n",
              "      <th></th>\n",
              "    </tr>\n",
              "  </thead>\n",
              "  <tbody>\n",
              "    <tr>\n",
              "      <th>Atlantic</th>\n",
              "      <td>7007.0</td>\n",
              "      <td>78035.506922</td>\n",
              "      <td>2613.763676</td>\n",
              "      <td>73471.0</td>\n",
              "      <td>75732.50</td>\n",
              "      <td>78078.0</td>\n",
              "      <td>80296.50</td>\n",
              "      <td>82579.0</td>\n",
              "      <td>7007.0</td>\n",
              "      <td>2016.268303</td>\n",
              "      <td>0.443108</td>\n",
              "      <td>2016.0</td>\n",
              "      <td>2016.0</td>\n",
              "      <td>2016.0</td>\n",
              "      <td>2017.0</td>\n",
              "      <td>2017.0</td>\n",
              "      <td>7007.0</td>\n",
              "      <td>6.277294</td>\n",
              "      <td>3.346704</td>\n",
              "      <td>1.0</td>\n",
              "      <td>3.0</td>\n",
              "      <td>6.0</td>\n",
              "      <td>9.0</td>\n",
              "      <td>12.0</td>\n",
              "      <td>7007.0</td>\n",
              "      <td>1314.612530</td>\n",
              "      <td>1687.067352</td>\n",
              "      <td>6.0</td>\n",
              "      <td>642.00</td>\n",
              "      <td>951.0</td>\n",
              "      <td>1417.5</td>\n",
              "      <td>28836.0</td>\n",
              "      <td>7007.0</td>\n",
              "      <td>524.438990</td>\n",
              "      <td>375.005017</td>\n",
              "      <td>6.0</td>\n",
              "      <td>340.0</td>\n",
              "      <td>459.0</td>\n",
              "      <td>603.00</td>\n",
              "      <td>4692.0</td>\n",
              "    </tr>\n",
              "    <tr>\n",
              "      <th>Breitbart</th>\n",
              "      <td>2197.0</td>\n",
              "      <td>27637.000000</td>\n",
              "      <td>634.363592</td>\n",
              "      <td>26539.0</td>\n",
              "      <td>27088.00</td>\n",
              "      <td>27637.0</td>\n",
              "      <td>28186.00</td>\n",
              "      <td>28735.0</td>\n",
              "      <td>2197.0</td>\n",
              "      <td>2016.990897</td>\n",
              "      <td>0.094998</td>\n",
              "      <td>2016.0</td>\n",
              "      <td>2017.0</td>\n",
              "      <td>2017.0</td>\n",
              "      <td>2017.0</td>\n",
              "      <td>2017.0</td>\n",
              "      <td>2197.0</td>\n",
              "      <td>3.448339</td>\n",
              "      <td>1.831890</td>\n",
              "      <td>1.0</td>\n",
              "      <td>2.0</td>\n",
              "      <td>3.0</td>\n",
              "      <td>5.0</td>\n",
              "      <td>12.0</td>\n",
              "      <td>2197.0</td>\n",
              "      <td>461.519800</td>\n",
              "      <td>398.902913</td>\n",
              "      <td>20.0</td>\n",
              "      <td>247.00</td>\n",
              "      <td>366.0</td>\n",
              "      <td>545.0</td>\n",
              "      <td>5332.0</td>\n",
              "      <td>2197.0</td>\n",
              "      <td>230.544379</td>\n",
              "      <td>137.854991</td>\n",
              "      <td>18.0</td>\n",
              "      <td>145.0</td>\n",
              "      <td>204.0</td>\n",
              "      <td>275.00</td>\n",
              "      <td>1434.0</td>\n",
              "    </tr>\n",
              "    <tr>\n",
              "      <th>Fox News</th>\n",
              "      <td>2991.0</td>\n",
              "      <td>84289.088265</td>\n",
              "      <td>976.839802</td>\n",
              "      <td>82591.0</td>\n",
              "      <td>83444.50</td>\n",
              "      <td>84281.0</td>\n",
              "      <td>85139.50</td>\n",
              "      <td>85981.0</td>\n",
              "      <td>2989.0</td>\n",
              "      <td>2015.984610</td>\n",
              "      <td>0.260837</td>\n",
              "      <td>2004.0</td>\n",
              "      <td>2016.0</td>\n",
              "      <td>2016.0</td>\n",
              "      <td>2016.0</td>\n",
              "      <td>2016.0</td>\n",
              "      <td>2989.0</td>\n",
              "      <td>4.908331</td>\n",
              "      <td>2.503470</td>\n",
              "      <td>1.0</td>\n",
              "      <td>3.0</td>\n",
              "      <td>5.0</td>\n",
              "      <td>7.0</td>\n",
              "      <td>12.0</td>\n",
              "      <td>2991.0</td>\n",
              "      <td>520.085590</td>\n",
              "      <td>340.791268</td>\n",
              "      <td>14.0</td>\n",
              "      <td>298.50</td>\n",
              "      <td>469.0</td>\n",
              "      <td>691.5</td>\n",
              "      <td>9261.0</td>\n",
              "      <td>2991.0</td>\n",
              "      <td>265.113340</td>\n",
              "      <td>128.038305</td>\n",
              "      <td>12.0</td>\n",
              "      <td>174.0</td>\n",
              "      <td>249.0</td>\n",
              "      <td>341.00</td>\n",
              "      <td>1649.0</td>\n",
              "    </tr>\n",
              "    <tr>\n",
              "      <th>Guardian</th>\n",
              "      <td>3808.0</td>\n",
              "      <td>155089.069328</td>\n",
              "      <td>2040.023259</td>\n",
              "      <td>151908.0</td>\n",
              "      <td>153157.75</td>\n",
              "      <td>155642.5</td>\n",
              "      <td>156956.25</td>\n",
              "      <td>158566.0</td>\n",
              "      <td>3793.0</td>\n",
              "      <td>2016.011864</td>\n",
              "      <td>0.173742</td>\n",
              "      <td>2010.0</td>\n",
              "      <td>2016.0</td>\n",
              "      <td>2016.0</td>\n",
              "      <td>2016.0</td>\n",
              "      <td>2017.0</td>\n",
              "      <td>3793.0</td>\n",
              "      <td>8.905352</td>\n",
              "      <td>2.124613</td>\n",
              "      <td>1.0</td>\n",
              "      <td>7.0</td>\n",
              "      <td>9.0</td>\n",
              "      <td>11.0</td>\n",
              "      <td>12.0</td>\n",
              "      <td>3808.0</td>\n",
              "      <td>907.251838</td>\n",
              "      <td>706.930452</td>\n",
              "      <td>8.0</td>\n",
              "      <td>515.75</td>\n",
              "      <td>765.0</td>\n",
              "      <td>1059.0</td>\n",
              "      <td>15686.0</td>\n",
              "      <td>3808.0</td>\n",
              "      <td>410.416229</td>\n",
              "      <td>219.299188</td>\n",
              "      <td>8.0</td>\n",
              "      <td>275.0</td>\n",
              "      <td>376.0</td>\n",
              "      <td>485.00</td>\n",
              "      <td>2669.0</td>\n",
              "    </tr>\n",
              "    <tr>\n",
              "      <th>NPR</th>\n",
              "      <td>6192.0</td>\n",
              "      <td>164513.251453</td>\n",
              "      <td>2218.087434</td>\n",
              "      <td>160641.0</td>\n",
              "      <td>162594.75</td>\n",
              "      <td>164528.5</td>\n",
              "      <td>166480.25</td>\n",
              "      <td>168224.0</td>\n",
              "      <td>6192.0</td>\n",
              "      <td>2016.642119</td>\n",
              "      <td>0.648661</td>\n",
              "      <td>2000.0</td>\n",
              "      <td>2016.0</td>\n",
              "      <td>2017.0</td>\n",
              "      <td>2017.0</td>\n",
              "      <td>2017.0</td>\n",
              "      <td>6192.0</td>\n",
              "      <td>3.186047</td>\n",
              "      <td>2.002650</td>\n",
              "      <td>1.0</td>\n",
              "      <td>2.0</td>\n",
              "      <td>3.0</td>\n",
              "      <td>4.0</td>\n",
              "      <td>12.0</td>\n",
              "      <td>6192.0</td>\n",
              "      <td>750.405362</td>\n",
              "      <td>480.660361</td>\n",
              "      <td>11.0</td>\n",
              "      <td>473.75</td>\n",
              "      <td>664.0</td>\n",
              "      <td>923.0</td>\n",
              "      <td>8948.0</td>\n",
              "      <td>6192.0</td>\n",
              "      <td>347.761628</td>\n",
              "      <td>159.920882</td>\n",
              "      <td>11.0</td>\n",
              "      <td>251.0</td>\n",
              "      <td>328.0</td>\n",
              "      <td>418.25</td>\n",
              "      <td>2837.0</td>\n",
              "    </tr>\n",
              "    <tr>\n",
              "      <th>New York Times</th>\n",
              "      <td>7803.0</td>\n",
              "      <td>21717.094707</td>\n",
              "      <td>2628.599139</td>\n",
              "      <td>17283.0</td>\n",
              "      <td>19476.50</td>\n",
              "      <td>21608.0</td>\n",
              "      <td>23926.50</td>\n",
              "      <td>26538.0</td>\n",
              "      <td>7803.0</td>\n",
              "      <td>2016.533897</td>\n",
              "      <td>0.500421</td>\n",
              "      <td>2014.0</td>\n",
              "      <td>2016.0</td>\n",
              "      <td>2017.0</td>\n",
              "      <td>2017.0</td>\n",
              "      <td>2017.0</td>\n",
              "      <td>7803.0</td>\n",
              "      <td>5.392029</td>\n",
              "      <td>3.527782</td>\n",
              "      <td>1.0</td>\n",
              "      <td>2.0</td>\n",
              "      <td>4.0</td>\n",
              "      <td>8.0</td>\n",
              "      <td>12.0</td>\n",
              "      <td>7803.0</td>\n",
              "      <td>1149.764706</td>\n",
              "      <td>774.879521</td>\n",
              "      <td>1.0</td>\n",
              "      <td>777.00</td>\n",
              "      <td>1063.0</td>\n",
              "      <td>1314.5</td>\n",
              "      <td>16979.0</td>\n",
              "      <td>7803.0</td>\n",
              "      <td>494.963091</td>\n",
              "      <td>223.794745</td>\n",
              "      <td>1.0</td>\n",
              "      <td>368.0</td>\n",
              "      <td>479.0</td>\n",
              "      <td>575.00</td>\n",
              "      <td>3414.0</td>\n",
              "    </tr>\n",
              "  </tbody>\n",
              "</table>\n",
              "</div>"
            ],
            "text/plain": [
              "                    id                              ... uniq_wds                \n",
              "                 count           mean          std  ...      50%     75%     max\n",
              "publication                                         ...                         \n",
              "Atlantic        7007.0   78035.506922  2613.763676  ...    459.0  603.00  4692.0\n",
              "Breitbart       2197.0   27637.000000   634.363592  ...    204.0  275.00  1434.0\n",
              "Fox News        2991.0   84289.088265   976.839802  ...    249.0  341.00  1649.0\n",
              "Guardian        3808.0  155089.069328  2040.023259  ...    376.0  485.00  2669.0\n",
              "NPR             6192.0  164513.251453  2218.087434  ...    328.0  418.25  2837.0\n",
              "New York Times  7803.0   21717.094707  2628.599139  ...    479.0  575.00  3414.0\n",
              "\n",
              "[6 rows x 40 columns]"
            ]
          },
          "metadata": {},
          "execution_count": 90
        }
      ],
      "source": [
        "# you are grouping by each individual publication in publication column\n",
        "articles.groupby('publication').describe()"
      ]
    },
    {
      "cell_type": "code",
      "execution_count": 91,
      "metadata": {
        "id": "J-xCj3uBctQN",
        "outputId": "8c6d8427-efec-42ef-ae42-ef6e41e9390e",
        "colab": {
          "base_uri": "https://localhost:8080/",
          "height": 1000
        }
      },
      "outputs": [
        {
          "output_type": "execute_result",
          "data": {
            "text/html": [
              "<div>\n",
              "<style scoped>\n",
              "    .dataframe tbody tr th:only-of-type {\n",
              "        vertical-align: middle;\n",
              "    }\n",
              "\n",
              "    .dataframe tbody tr th {\n",
              "        vertical-align: top;\n",
              "    }\n",
              "\n",
              "    .dataframe thead th {\n",
              "        text-align: right;\n",
              "    }\n",
              "</style>\n",
              "<table border=\"1\" class=\"dataframe\">\n",
              "  <thead>\n",
              "    <tr style=\"text-align: right;\">\n",
              "      <th></th>\n",
              "      <th>publication</th>\n",
              "      <th>Atlantic</th>\n",
              "      <th>Breitbart</th>\n",
              "      <th>Fox News</th>\n",
              "      <th>Guardian</th>\n",
              "      <th>NPR</th>\n",
              "      <th>New York Times</th>\n",
              "    </tr>\n",
              "  </thead>\n",
              "  <tbody>\n",
              "    <tr>\n",
              "      <th rowspan=\"8\" valign=\"top\">id</th>\n",
              "      <th>count</th>\n",
              "      <td>7007.000000</td>\n",
              "      <td>2197.000000</td>\n",
              "      <td>2991.000000</td>\n",
              "      <td>3808.000000</td>\n",
              "      <td>6192.000000</td>\n",
              "      <td>7803.000000</td>\n",
              "    </tr>\n",
              "    <tr>\n",
              "      <th>mean</th>\n",
              "      <td>78035.506922</td>\n",
              "      <td>27637.000000</td>\n",
              "      <td>84289.088265</td>\n",
              "      <td>155089.069328</td>\n",
              "      <td>164513.251453</td>\n",
              "      <td>21717.094707</td>\n",
              "    </tr>\n",
              "    <tr>\n",
              "      <th>std</th>\n",
              "      <td>2613.763676</td>\n",
              "      <td>634.363592</td>\n",
              "      <td>976.839802</td>\n",
              "      <td>2040.023259</td>\n",
              "      <td>2218.087434</td>\n",
              "      <td>2628.599139</td>\n",
              "    </tr>\n",
              "    <tr>\n",
              "      <th>min</th>\n",
              "      <td>73471.000000</td>\n",
              "      <td>26539.000000</td>\n",
              "      <td>82591.000000</td>\n",
              "      <td>151908.000000</td>\n",
              "      <td>160641.000000</td>\n",
              "      <td>17283.000000</td>\n",
              "    </tr>\n",
              "    <tr>\n",
              "      <th>25%</th>\n",
              "      <td>75732.500000</td>\n",
              "      <td>27088.000000</td>\n",
              "      <td>83444.500000</td>\n",
              "      <td>153157.750000</td>\n",
              "      <td>162594.750000</td>\n",
              "      <td>19476.500000</td>\n",
              "    </tr>\n",
              "    <tr>\n",
              "      <th>50%</th>\n",
              "      <td>78078.000000</td>\n",
              "      <td>27637.000000</td>\n",
              "      <td>84281.000000</td>\n",
              "      <td>155642.500000</td>\n",
              "      <td>164528.500000</td>\n",
              "      <td>21608.000000</td>\n",
              "    </tr>\n",
              "    <tr>\n",
              "      <th>75%</th>\n",
              "      <td>80296.500000</td>\n",
              "      <td>28186.000000</td>\n",
              "      <td>85139.500000</td>\n",
              "      <td>156956.250000</td>\n",
              "      <td>166480.250000</td>\n",
              "      <td>23926.500000</td>\n",
              "    </tr>\n",
              "    <tr>\n",
              "      <th>max</th>\n",
              "      <td>82579.000000</td>\n",
              "      <td>28735.000000</td>\n",
              "      <td>85981.000000</td>\n",
              "      <td>158566.000000</td>\n",
              "      <td>168224.000000</td>\n",
              "      <td>26538.000000</td>\n",
              "    </tr>\n",
              "    <tr>\n",
              "      <th rowspan=\"8\" valign=\"top\">year</th>\n",
              "      <th>count</th>\n",
              "      <td>7007.000000</td>\n",
              "      <td>2197.000000</td>\n",
              "      <td>2989.000000</td>\n",
              "      <td>3793.000000</td>\n",
              "      <td>6192.000000</td>\n",
              "      <td>7803.000000</td>\n",
              "    </tr>\n",
              "    <tr>\n",
              "      <th>mean</th>\n",
              "      <td>2016.268303</td>\n",
              "      <td>2016.990897</td>\n",
              "      <td>2015.984610</td>\n",
              "      <td>2016.011864</td>\n",
              "      <td>2016.642119</td>\n",
              "      <td>2016.533897</td>\n",
              "    </tr>\n",
              "    <tr>\n",
              "      <th>std</th>\n",
              "      <td>0.443108</td>\n",
              "      <td>0.094998</td>\n",
              "      <td>0.260837</td>\n",
              "      <td>0.173742</td>\n",
              "      <td>0.648661</td>\n",
              "      <td>0.500421</td>\n",
              "    </tr>\n",
              "    <tr>\n",
              "      <th>min</th>\n",
              "      <td>2016.000000</td>\n",
              "      <td>2016.000000</td>\n",
              "      <td>2004.000000</td>\n",
              "      <td>2010.000000</td>\n",
              "      <td>2000.000000</td>\n",
              "      <td>2014.000000</td>\n",
              "    </tr>\n",
              "    <tr>\n",
              "      <th>25%</th>\n",
              "      <td>2016.000000</td>\n",
              "      <td>2017.000000</td>\n",
              "      <td>2016.000000</td>\n",
              "      <td>2016.000000</td>\n",
              "      <td>2016.000000</td>\n",
              "      <td>2016.000000</td>\n",
              "    </tr>\n",
              "    <tr>\n",
              "      <th>50%</th>\n",
              "      <td>2016.000000</td>\n",
              "      <td>2017.000000</td>\n",
              "      <td>2016.000000</td>\n",
              "      <td>2016.000000</td>\n",
              "      <td>2017.000000</td>\n",
              "      <td>2017.000000</td>\n",
              "    </tr>\n",
              "    <tr>\n",
              "      <th>75%</th>\n",
              "      <td>2017.000000</td>\n",
              "      <td>2017.000000</td>\n",
              "      <td>2016.000000</td>\n",
              "      <td>2016.000000</td>\n",
              "      <td>2017.000000</td>\n",
              "      <td>2017.000000</td>\n",
              "    </tr>\n",
              "    <tr>\n",
              "      <th>max</th>\n",
              "      <td>2017.000000</td>\n",
              "      <td>2017.000000</td>\n",
              "      <td>2016.000000</td>\n",
              "      <td>2017.000000</td>\n",
              "      <td>2017.000000</td>\n",
              "      <td>2017.000000</td>\n",
              "    </tr>\n",
              "    <tr>\n",
              "      <th rowspan=\"8\" valign=\"top\">month</th>\n",
              "      <th>count</th>\n",
              "      <td>7007.000000</td>\n",
              "      <td>2197.000000</td>\n",
              "      <td>2989.000000</td>\n",
              "      <td>3793.000000</td>\n",
              "      <td>6192.000000</td>\n",
              "      <td>7803.000000</td>\n",
              "    </tr>\n",
              "    <tr>\n",
              "      <th>mean</th>\n",
              "      <td>6.277294</td>\n",
              "      <td>3.448339</td>\n",
              "      <td>4.908331</td>\n",
              "      <td>8.905352</td>\n",
              "      <td>3.186047</td>\n",
              "      <td>5.392029</td>\n",
              "    </tr>\n",
              "    <tr>\n",
              "      <th>std</th>\n",
              "      <td>3.346704</td>\n",
              "      <td>1.831890</td>\n",
              "      <td>2.503470</td>\n",
              "      <td>2.124613</td>\n",
              "      <td>2.002650</td>\n",
              "      <td>3.527782</td>\n",
              "    </tr>\n",
              "    <tr>\n",
              "      <th>min</th>\n",
              "      <td>1.000000</td>\n",
              "      <td>1.000000</td>\n",
              "      <td>1.000000</td>\n",
              "      <td>1.000000</td>\n",
              "      <td>1.000000</td>\n",
              "      <td>1.000000</td>\n",
              "    </tr>\n",
              "    <tr>\n",
              "      <th>25%</th>\n",
              "      <td>3.000000</td>\n",
              "      <td>2.000000</td>\n",
              "      <td>3.000000</td>\n",
              "      <td>7.000000</td>\n",
              "      <td>2.000000</td>\n",
              "      <td>2.000000</td>\n",
              "    </tr>\n",
              "    <tr>\n",
              "      <th>50%</th>\n",
              "      <td>6.000000</td>\n",
              "      <td>3.000000</td>\n",
              "      <td>5.000000</td>\n",
              "      <td>9.000000</td>\n",
              "      <td>3.000000</td>\n",
              "      <td>4.000000</td>\n",
              "    </tr>\n",
              "    <tr>\n",
              "      <th>75%</th>\n",
              "      <td>9.000000</td>\n",
              "      <td>5.000000</td>\n",
              "      <td>7.000000</td>\n",
              "      <td>11.000000</td>\n",
              "      <td>4.000000</td>\n",
              "      <td>8.000000</td>\n",
              "    </tr>\n",
              "    <tr>\n",
              "      <th>max</th>\n",
              "      <td>12.000000</td>\n",
              "      <td>12.000000</td>\n",
              "      <td>12.000000</td>\n",
              "      <td>12.000000</td>\n",
              "      <td>12.000000</td>\n",
              "      <td>12.000000</td>\n",
              "    </tr>\n",
              "    <tr>\n",
              "      <th rowspan=\"8\" valign=\"top\">num_wds</th>\n",
              "      <th>count</th>\n",
              "      <td>7007.000000</td>\n",
              "      <td>2197.000000</td>\n",
              "      <td>2991.000000</td>\n",
              "      <td>3808.000000</td>\n",
              "      <td>6192.000000</td>\n",
              "      <td>7803.000000</td>\n",
              "    </tr>\n",
              "    <tr>\n",
              "      <th>mean</th>\n",
              "      <td>1314.612530</td>\n",
              "      <td>461.519800</td>\n",
              "      <td>520.085590</td>\n",
              "      <td>907.251838</td>\n",
              "      <td>750.405362</td>\n",
              "      <td>1149.764706</td>\n",
              "    </tr>\n",
              "    <tr>\n",
              "      <th>std</th>\n",
              "      <td>1687.067352</td>\n",
              "      <td>398.902913</td>\n",
              "      <td>340.791268</td>\n",
              "      <td>706.930452</td>\n",
              "      <td>480.660361</td>\n",
              "      <td>774.879521</td>\n",
              "    </tr>\n",
              "    <tr>\n",
              "      <th>min</th>\n",
              "      <td>6.000000</td>\n",
              "      <td>20.000000</td>\n",
              "      <td>14.000000</td>\n",
              "      <td>8.000000</td>\n",
              "      <td>11.000000</td>\n",
              "      <td>1.000000</td>\n",
              "    </tr>\n",
              "    <tr>\n",
              "      <th>25%</th>\n",
              "      <td>642.000000</td>\n",
              "      <td>247.000000</td>\n",
              "      <td>298.500000</td>\n",
              "      <td>515.750000</td>\n",
              "      <td>473.750000</td>\n",
              "      <td>777.000000</td>\n",
              "    </tr>\n",
              "    <tr>\n",
              "      <th>50%</th>\n",
              "      <td>951.000000</td>\n",
              "      <td>366.000000</td>\n",
              "      <td>469.000000</td>\n",
              "      <td>765.000000</td>\n",
              "      <td>664.000000</td>\n",
              "      <td>1063.000000</td>\n",
              "    </tr>\n",
              "    <tr>\n",
              "      <th>75%</th>\n",
              "      <td>1417.500000</td>\n",
              "      <td>545.000000</td>\n",
              "      <td>691.500000</td>\n",
              "      <td>1059.000000</td>\n",
              "      <td>923.000000</td>\n",
              "      <td>1314.500000</td>\n",
              "    </tr>\n",
              "    <tr>\n",
              "      <th>max</th>\n",
              "      <td>28836.000000</td>\n",
              "      <td>5332.000000</td>\n",
              "      <td>9261.000000</td>\n",
              "      <td>15686.000000</td>\n",
              "      <td>8948.000000</td>\n",
              "      <td>16979.000000</td>\n",
              "    </tr>\n",
              "    <tr>\n",
              "      <th rowspan=\"8\" valign=\"top\">uniq_wds</th>\n",
              "      <th>count</th>\n",
              "      <td>7007.000000</td>\n",
              "      <td>2197.000000</td>\n",
              "      <td>2991.000000</td>\n",
              "      <td>3808.000000</td>\n",
              "      <td>6192.000000</td>\n",
              "      <td>7803.000000</td>\n",
              "    </tr>\n",
              "    <tr>\n",
              "      <th>mean</th>\n",
              "      <td>524.438990</td>\n",
              "      <td>230.544379</td>\n",
              "      <td>265.113340</td>\n",
              "      <td>410.416229</td>\n",
              "      <td>347.761628</td>\n",
              "      <td>494.963091</td>\n",
              "    </tr>\n",
              "    <tr>\n",
              "      <th>std</th>\n",
              "      <td>375.005017</td>\n",
              "      <td>137.854991</td>\n",
              "      <td>128.038305</td>\n",
              "      <td>219.299188</td>\n",
              "      <td>159.920882</td>\n",
              "      <td>223.794745</td>\n",
              "    </tr>\n",
              "    <tr>\n",
              "      <th>min</th>\n",
              "      <td>6.000000</td>\n",
              "      <td>18.000000</td>\n",
              "      <td>12.000000</td>\n",
              "      <td>8.000000</td>\n",
              "      <td>11.000000</td>\n",
              "      <td>1.000000</td>\n",
              "    </tr>\n",
              "    <tr>\n",
              "      <th>25%</th>\n",
              "      <td>340.000000</td>\n",
              "      <td>145.000000</td>\n",
              "      <td>174.000000</td>\n",
              "      <td>275.000000</td>\n",
              "      <td>251.000000</td>\n",
              "      <td>368.000000</td>\n",
              "    </tr>\n",
              "    <tr>\n",
              "      <th>50%</th>\n",
              "      <td>459.000000</td>\n",
              "      <td>204.000000</td>\n",
              "      <td>249.000000</td>\n",
              "      <td>376.000000</td>\n",
              "      <td>328.000000</td>\n",
              "      <td>479.000000</td>\n",
              "    </tr>\n",
              "    <tr>\n",
              "      <th>75%</th>\n",
              "      <td>603.000000</td>\n",
              "      <td>275.000000</td>\n",
              "      <td>341.000000</td>\n",
              "      <td>485.000000</td>\n",
              "      <td>418.250000</td>\n",
              "      <td>575.000000</td>\n",
              "    </tr>\n",
              "    <tr>\n",
              "      <th>max</th>\n",
              "      <td>4692.000000</td>\n",
              "      <td>1434.000000</td>\n",
              "      <td>1649.000000</td>\n",
              "      <td>2669.000000</td>\n",
              "      <td>2837.000000</td>\n",
              "      <td>3414.000000</td>\n",
              "    </tr>\n",
              "  </tbody>\n",
              "</table>\n",
              "</div>"
            ],
            "text/plain": [
              "publication         Atlantic     Breitbart  ...            NPR  New York Times\n",
              "id       count   7007.000000   2197.000000  ...    6192.000000     7803.000000\n",
              "         mean   78035.506922  27637.000000  ...  164513.251453    21717.094707\n",
              "         std     2613.763676    634.363592  ...    2218.087434     2628.599139\n",
              "         min    73471.000000  26539.000000  ...  160641.000000    17283.000000\n",
              "         25%    75732.500000  27088.000000  ...  162594.750000    19476.500000\n",
              "         50%    78078.000000  27637.000000  ...  164528.500000    21608.000000\n",
              "         75%    80296.500000  28186.000000  ...  166480.250000    23926.500000\n",
              "         max    82579.000000  28735.000000  ...  168224.000000    26538.000000\n",
              "year     count   7007.000000   2197.000000  ...    6192.000000     7803.000000\n",
              "         mean    2016.268303   2016.990897  ...    2016.642119     2016.533897\n",
              "         std        0.443108      0.094998  ...       0.648661        0.500421\n",
              "         min     2016.000000   2016.000000  ...    2000.000000     2014.000000\n",
              "         25%     2016.000000   2017.000000  ...    2016.000000     2016.000000\n",
              "         50%     2016.000000   2017.000000  ...    2017.000000     2017.000000\n",
              "         75%     2017.000000   2017.000000  ...    2017.000000     2017.000000\n",
              "         max     2017.000000   2017.000000  ...    2017.000000     2017.000000\n",
              "month    count   7007.000000   2197.000000  ...    6192.000000     7803.000000\n",
              "         mean       6.277294      3.448339  ...       3.186047        5.392029\n",
              "         std        3.346704      1.831890  ...       2.002650        3.527782\n",
              "         min        1.000000      1.000000  ...       1.000000        1.000000\n",
              "         25%        3.000000      2.000000  ...       2.000000        2.000000\n",
              "         50%        6.000000      3.000000  ...       3.000000        4.000000\n",
              "         75%        9.000000      5.000000  ...       4.000000        8.000000\n",
              "         max       12.000000     12.000000  ...      12.000000       12.000000\n",
              "num_wds  count   7007.000000   2197.000000  ...    6192.000000     7803.000000\n",
              "         mean    1314.612530    461.519800  ...     750.405362     1149.764706\n",
              "         std     1687.067352    398.902913  ...     480.660361      774.879521\n",
              "         min        6.000000     20.000000  ...      11.000000        1.000000\n",
              "         25%      642.000000    247.000000  ...     473.750000      777.000000\n",
              "         50%      951.000000    366.000000  ...     664.000000     1063.000000\n",
              "         75%     1417.500000    545.000000  ...     923.000000     1314.500000\n",
              "         max    28836.000000   5332.000000  ...    8948.000000    16979.000000\n",
              "uniq_wds count   7007.000000   2197.000000  ...    6192.000000     7803.000000\n",
              "         mean     524.438990    230.544379  ...     347.761628      494.963091\n",
              "         std      375.005017    137.854991  ...     159.920882      223.794745\n",
              "         min        6.000000     18.000000  ...      11.000000        1.000000\n",
              "         25%      340.000000    145.000000  ...     251.000000      368.000000\n",
              "         50%      459.000000    204.000000  ...     328.000000      479.000000\n",
              "         75%      603.000000    275.000000  ...     418.250000      575.000000\n",
              "         max     4692.000000   1434.000000  ...    2837.000000     3414.000000\n",
              "\n",
              "[40 rows x 6 columns]"
            ]
          },
          "metadata": {},
          "execution_count": 91
        }
      ],
      "source": [
        "articles.groupby('publication').describe().T # transposing data for better visibility"
      ]
    },
    {
      "cell_type": "code",
      "execution_count": 92,
      "metadata": {
        "id": "4nDfAEKPctQN"
      },
      "outputs": [],
      "source": [
        "# we can save the results if we wish of ours stats\n",
        "articles.groupby('publication').describe().T.to_excel(\"publication_stats.xlsx\")"
      ]
    },
    {
      "cell_type": "code",
      "execution_count": 93,
      "metadata": {
        "_kg_hide-input": true,
        "id": "FYl1PiSkctQN",
        "outputId": "0454ad5b-77bd-463e-e1b1-56addef59f75",
        "colab": {
          "base_uri": "https://localhost:8080/",
          "height": 441
        }
      },
      "outputs": [
        {
          "output_type": "display_data",
          "data": {
            "image/png": "[encoded data removed]",
            "text/plain": [
              "<Figure size 864x432 with 2 Axes>"
            ]
          },
          "metadata": {
            "needs_background": "light"
          }
        }
      ],
      "source": [
        "# Data\n",
        "art_grps = articles.groupby('publication')\n",
        "\n",
        "publications = art_grps['num_wds'].aggregate(np.mean).index.tolist()\n",
        "avg_words = art_grps['num_wds'].aggregate(np.mean).values\n",
        "unique_words = art_grps['uniq_wds'].aggregate(np.mean).values\n",
        "\n",
        "# Sort by number of avg_words\n",
        "idx = avg_words.argsort()\n",
        "publications, avg_words, unique_words = [np.take(x, idx) for x in [publications, avg_words, unique_words]]\n",
        "\n",
        "y = np.arange(unique_words.size)\n",
        "\n",
        "fig, axes = plt.subplots(ncols=2, sharey=True, figsize=(12,6))\n",
        "axes[0].barh(y, unique_words, align='center', color='orange', zorder=10)\n",
        "axes[0].set_title('Mean Number of Unique Words', fontsize=18)\n",
        "axes[1].barh(y, avg_words, align='center', color='blue', zorder=10)\n",
        "axes[1].set_title('Mean Number of Words', fontsize=18)\n",
        "\n",
        "axes[0].invert_xaxis()\n",
        "axes[0].set_yticks(y)\n",
        "axes[0].set_yticklabels(publications, fontsize=14)\n",
        "axes[0].yaxis.tick_left()\n",
        "\n",
        "axes[1].yaxis.tick_right()\n",
        "\n",
        "for ax in axes.flat:\n",
        "    ax.margins(0.03)\n",
        "    ax.grid(False)\n",
        "\n",
        "fig.tight_layout()\n",
        "fig.subplots_adjust(wspace=0)\n",
        "plt.savefig(\"publications_word_use.png\")\n",
        "plt.tight_layout();"
      ]
    },
    {
      "cell_type": "markdown",
      "metadata": {
        "id": "VS8ZD480ctQN"
      },
      "source": [
        "# 👄 Most common words"
      ]
    },
    {
      "cell_type": "code",
      "execution_count": 100,
      "metadata": {
        "id": "AVxftVSmctQN",
        "outputId": "ae0c05e5-522b-47d2-a677-f8371af9afb2",
        "colab": {
          "base_uri": "https://localhost:8080/"
        }
      },
      "outputs": [
        {
          "output_type": "stream",
          "name": "stdout",
          "text": [
            "[nltk_data] Downloading package stopwords to /root/nltk_data...\n",
            "[nltk_data]   Package stopwords is already up-to-date!\n"
          ]
        },
        {
          "output_type": "execute_result",
          "data": {
            "text/plain": [
              "True"
            ]
          },
          "metadata": {},
          "execution_count": 100
        }
      ],
      "source": [
        "import nltk\n",
        "nltk.download('stopwords')"
      ]
    },
    {
      "cell_type": "code",
      "source": [
        "stopwords.words('spanish')"
      ],
      "metadata": {
        "id": "tsVhqM4hulAN",
        "outputId": "b0b85cec-7284-404e-884b-28cc1009efb5",
        "colab": {
          "base_uri": "https://localhost:8080/"
        }
      },
      "execution_count": 102,
      "outputs": [
        {
          "output_type": "execute_result",
          "data": {
            "text/plain": [
              "['de',\n",
              " 'la',\n",
              " 'que',\n",
              " 'el',\n",
              " 'en',\n",
              " 'y',\n",
              " 'a',\n",
              " 'los',\n",
              " 'del',\n",
              " 'se',\n",
              " 'las',\n",
              " 'por',\n",
              " 'un',\n",
              " 'para',\n",
              " 'con',\n",
              " 'no',\n",
              " 'una',\n",
              " 'su',\n",
              " 'al',\n",
              " 'lo',\n",
              " 'como',\n",
              " 'más',\n",
              " 'pero',\n",
              " 'sus',\n",
              " 'le',\n",
              " 'ya',\n",
              " 'o',\n",
              " 'este',\n",
              " 'sí',\n",
              " 'porque',\n",
              " 'esta',\n",
              " 'entre',\n",
              " 'cuando',\n",
              " 'muy',\n",
              " 'sin',\n",
              " 'sobre',\n",
              " 'también',\n",
              " 'me',\n",
              " 'hasta',\n",
              " 'hay',\n",
              " 'donde',\n",
              " 'quien',\n",
              " 'desde',\n",
              " 'todo',\n",
              " 'nos',\n",
              " 'durante',\n",
              " 'todos',\n",
              " 'uno',\n",
              " 'les',\n",
              " 'ni',\n",
              " 'contra',\n",
              " 'otros',\n",
              " 'ese',\n",
              " 'eso',\n",
              " 'ante',\n",
              " 'ellos',\n",
              " 'e',\n",
              " 'esto',\n",
              " 'mí',\n",
              " 'antes',\n",
              " 'algunos',\n",
              " 'qué',\n",
              " 'unos',\n",
              " 'yo',\n",
              " 'otro',\n",
              " 'otras',\n",
              " 'otra',\n",
              " 'él',\n",
              " 'tanto',\n",
              " 'esa',\n",
              " 'estos',\n",
              " 'mucho',\n",
              " 'quienes',\n",
              " 'nada',\n",
              " 'muchos',\n",
              " 'cual',\n",
              " 'poco',\n",
              " 'ella',\n",
              " 'estar',\n",
              " 'estas',\n",
              " 'algunas',\n",
              " 'algo',\n",
              " 'nosotros',\n",
              " 'mi',\n",
              " 'mis',\n",
              " 'tú',\n",
              " 'te',\n",
              " 'ti',\n",
              " 'tu',\n",
              " 'tus',\n",
              " 'ellas',\n",
              " 'nosotras',\n",
              " 'vosotros',\n",
              " 'vosotras',\n",
              " 'os',\n",
              " 'mío',\n",
              " 'mía',\n",
              " 'míos',\n",
              " 'mías',\n",
              " 'tuyo',\n",
              " 'tuya',\n",
              " 'tuyos',\n",
              " 'tuyas',\n",
              " 'suyo',\n",
              " 'suya',\n",
              " 'suyos',\n",
              " 'suyas',\n",
              " 'nuestro',\n",
              " 'nuestra',\n",
              " 'nuestros',\n",
              " 'nuestras',\n",
              " 'vuestro',\n",
              " 'vuestra',\n",
              " 'vuestros',\n",
              " 'vuestras',\n",
              " 'esos',\n",
              " 'esas',\n",
              " 'estoy',\n",
              " 'estás',\n",
              " 'está',\n",
              " 'estamos',\n",
              " 'estáis',\n",
              " 'están',\n",
              " 'esté',\n",
              " 'estés',\n",
              " 'estemos',\n",
              " 'estéis',\n",
              " 'estén',\n",
              " 'estaré',\n",
              " 'estarás',\n",
              " 'estará',\n",
              " 'estaremos',\n",
              " 'estaréis',\n",
              " 'estarán',\n",
              " 'estaría',\n",
              " 'estarías',\n",
              " 'estaríamos',\n",
              " 'estaríais',\n",
              " 'estarían',\n",
              " 'estaba',\n",
              " 'estabas',\n",
              " 'estábamos',\n",
              " 'estabais',\n",
              " 'estaban',\n",
              " 'estuve',\n",
              " 'estuviste',\n",
              " 'estuvo',\n",
              " 'estuvimos',\n",
              " 'estuvisteis',\n",
              " 'estuvieron',\n",
              " 'estuviera',\n",
              " 'estuvieras',\n",
              " 'estuviéramos',\n",
              " 'estuvierais',\n",
              " 'estuvieran',\n",
              " 'estuviese',\n",
              " 'estuvieses',\n",
              " 'estuviésemos',\n",
              " 'estuvieseis',\n",
              " 'estuviesen',\n",
              " 'estando',\n",
              " 'estado',\n",
              " 'estada',\n",
              " 'estados',\n",
              " 'estadas',\n",
              " 'estad',\n",
              " 'he',\n",
              " 'has',\n",
              " 'ha',\n",
              " 'hemos',\n",
              " 'habéis',\n",
              " 'han',\n",
              " 'haya',\n",
              " 'hayas',\n",
              " 'hayamos',\n",
              " 'hayáis',\n",
              " 'hayan',\n",
              " 'habré',\n",
              " 'habrás',\n",
              " 'habrá',\n",
              " 'habremos',\n",
              " 'habréis',\n",
              " 'habrán',\n",
              " 'habría',\n",
              " 'habrías',\n",
              " 'habríamos',\n",
              " 'habríais',\n",
              " 'habrían',\n",
              " 'había',\n",
              " 'habías',\n",
              " 'habíamos',\n",
              " 'habíais',\n",
              " 'habían',\n",
              " 'hube',\n",
              " 'hubiste',\n",
              " 'hubo',\n",
              " 'hubimos',\n",
              " 'hubisteis',\n",
              " 'hubieron',\n",
              " 'hubiera',\n",
              " 'hubieras',\n",
              " 'hubiéramos',\n",
              " 'hubierais',\n",
              " 'hubieran',\n",
              " 'hubiese',\n",
              " 'hubieses',\n",
              " 'hubiésemos',\n",
              " 'hubieseis',\n",
              " 'hubiesen',\n",
              " 'habiendo',\n",
              " 'habido',\n",
              " 'habida',\n",
              " 'habidos',\n",
              " 'habidas',\n",
              " 'soy',\n",
              " 'eres',\n",
              " 'es',\n",
              " 'somos',\n",
              " 'sois',\n",
              " 'son',\n",
              " 'sea',\n",
              " 'seas',\n",
              " 'seamos',\n",
              " 'seáis',\n",
              " 'sean',\n",
              " 'seré',\n",
              " 'serás',\n",
              " 'será',\n",
              " 'seremos',\n",
              " 'seréis',\n",
              " 'serán',\n",
              " 'sería',\n",
              " 'serías',\n",
              " 'seríamos',\n",
              " 'seríais',\n",
              " 'serían',\n",
              " 'era',\n",
              " 'eras',\n",
              " 'éramos',\n",
              " 'erais',\n",
              " 'eran',\n",
              " 'fui',\n",
              " 'fuiste',\n",
              " 'fue',\n",
              " 'fuimos',\n",
              " 'fuisteis',\n",
              " 'fueron',\n",
              " 'fuera',\n",
              " 'fueras',\n",
              " 'fuéramos',\n",
              " 'fuerais',\n",
              " 'fueran',\n",
              " 'fuese',\n",
              " 'fueses',\n",
              " 'fuésemos',\n",
              " 'fueseis',\n",
              " 'fuesen',\n",
              " 'sintiendo',\n",
              " 'sentido',\n",
              " 'sentida',\n",
              " 'sentidos',\n",
              " 'sentidas',\n",
              " 'siente',\n",
              " 'sentid',\n",
              " 'tengo',\n",
              " 'tienes',\n",
              " 'tiene',\n",
              " 'tenemos',\n",
              " 'tenéis',\n",
              " 'tienen',\n",
              " 'tenga',\n",
              " 'tengas',\n",
              " 'tengamos',\n",
              " 'tengáis',\n",
              " 'tengan',\n",
              " 'tendré',\n",
              " 'tendrás',\n",
              " 'tendrá',\n",
              " 'tendremos',\n",
              " 'tendréis',\n",
              " 'tendrán',\n",
              " 'tendría',\n",
              " 'tendrías',\n",
              " 'tendríamos',\n",
              " 'tendríais',\n",
              " 'tendrían',\n",
              " 'tenía',\n",
              " 'tenías',\n",
              " 'teníamos',\n",
              " 'teníais',\n",
              " 'tenían',\n",
              " 'tuve',\n",
              " 'tuviste',\n",
              " 'tuvo',\n",
              " 'tuvimos',\n",
              " 'tuvisteis',\n",
              " 'tuvieron',\n",
              " 'tuviera',\n",
              " 'tuvieras',\n",
              " 'tuviéramos',\n",
              " 'tuvierais',\n",
              " 'tuvieran',\n",
              " 'tuviese',\n",
              " 'tuvieses',\n",
              " 'tuviésemos',\n",
              " 'tuvieseis',\n",
              " 'tuviesen',\n",
              " 'teniendo',\n",
              " 'tenido',\n",
              " 'tenida',\n",
              " 'tenidos',\n",
              " 'tenidas',\n",
              " 'tened']"
            ]
          },
          "metadata": {},
          "execution_count": 102
        }
      ]
    },
    {
      "cell_type": "code",
      "execution_count": 101,
      "metadata": {
        "id": "ewyBANQqctQN",
        "outputId": "75a84fec-ce3a-49c4-f1c1-754317f92ab7",
        "colab": {
          "base_uri": "https://localhost:8080/"
        }
      },
      "outputs": [
        {
          "output_type": "execute_result",
          "data": {
            "text/plain": [
              "['i',\n",
              " 'me',\n",
              " 'my',\n",
              " 'myself',\n",
              " 'we',\n",
              " 'our',\n",
              " 'ours',\n",
              " 'ourselves',\n",
              " 'you',\n",
              " \"you're\",\n",
              " \"you've\",\n",
              " \"you'll\",\n",
              " \"you'd\",\n",
              " 'your',\n",
              " 'yours',\n",
              " 'yourself',\n",
              " 'yourselves',\n",
              " 'he',\n",
              " 'him',\n",
              " 'his',\n",
              " 'himself',\n",
              " 'she',\n",
              " \"she's\",\n",
              " 'her',\n",
              " 'hers',\n",
              " 'herself',\n",
              " 'it',\n",
              " \"it's\",\n",
              " 'its',\n",
              " 'itself',\n",
              " 'they',\n",
              " 'them',\n",
              " 'their',\n",
              " 'theirs',\n",
              " 'themselves',\n",
              " 'what',\n",
              " 'which',\n",
              " 'who',\n",
              " 'whom',\n",
              " 'this',\n",
              " 'that',\n",
              " \"that'll\",\n",
              " 'these',\n",
              " 'those',\n",
              " 'am',\n",
              " 'is',\n",
              " 'are',\n",
              " 'was',\n",
              " 'were',\n",
              " 'be',\n",
              " 'been',\n",
              " 'being',\n",
              " 'have',\n",
              " 'has',\n",
              " 'had',\n",
              " 'having',\n",
              " 'do',\n",
              " 'does',\n",
              " 'did',\n",
              " 'doing',\n",
              " 'a',\n",
              " 'an',\n",
              " 'the',\n",
              " 'and',\n",
              " 'but',\n",
              " 'if',\n",
              " 'or',\n",
              " 'because',\n",
              " 'as',\n",
              " 'until',\n",
              " 'while',\n",
              " 'of',\n",
              " 'at',\n",
              " 'by',\n",
              " 'for',\n",
              " 'with',\n",
              " 'about',\n",
              " 'against',\n",
              " 'between',\n",
              " 'into',\n",
              " 'through',\n",
              " 'during',\n",
              " 'before',\n",
              " 'after',\n",
              " 'above',\n",
              " 'below',\n",
              " 'to',\n",
              " 'from',\n",
              " 'up',\n",
              " 'down',\n",
              " 'in',\n",
              " 'out',\n",
              " 'on',\n",
              " 'off',\n",
              " 'over',\n",
              " 'under',\n",
              " 'again',\n",
              " 'further',\n",
              " 'then',\n",
              " 'once',\n",
              " 'here',\n",
              " 'there',\n",
              " 'when',\n",
              " 'where',\n",
              " 'why',\n",
              " 'how',\n",
              " 'all',\n",
              " 'any',\n",
              " 'both',\n",
              " 'each',\n",
              " 'few',\n",
              " 'more',\n",
              " 'most',\n",
              " 'other',\n",
              " 'some',\n",
              " 'such',\n",
              " 'no',\n",
              " 'nor',\n",
              " 'not',\n",
              " 'only',\n",
              " 'own',\n",
              " 'same',\n",
              " 'so',\n",
              " 'than',\n",
              " 'too',\n",
              " 'very',\n",
              " 's',\n",
              " 't',\n",
              " 'can',\n",
              " 'will',\n",
              " 'just',\n",
              " 'don',\n",
              " \"don't\",\n",
              " 'should',\n",
              " \"should've\",\n",
              " 'now',\n",
              " 'd',\n",
              " 'll',\n",
              " 'm',\n",
              " 'o',\n",
              " 're',\n",
              " 've',\n",
              " 'y',\n",
              " 'ain',\n",
              " 'aren',\n",
              " \"aren't\",\n",
              " 'couldn',\n",
              " \"couldn't\",\n",
              " 'didn',\n",
              " \"didn't\",\n",
              " 'doesn',\n",
              " \"doesn't\",\n",
              " 'hadn',\n",
              " \"hadn't\",\n",
              " 'hasn',\n",
              " \"hasn't\",\n",
              " 'haven',\n",
              " \"haven't\",\n",
              " 'isn',\n",
              " \"isn't\",\n",
              " 'ma',\n",
              " 'mightn',\n",
              " \"mightn't\",\n",
              " 'mustn',\n",
              " \"mustn't\",\n",
              " 'needn',\n",
              " \"needn't\",\n",
              " 'shan',\n",
              " \"shan't\",\n",
              " 'shouldn',\n",
              " \"shouldn't\",\n",
              " 'wasn',\n",
              " \"wasn't\",\n",
              " 'weren',\n",
              " \"weren't\",\n",
              " 'won',\n",
              " \"won't\",\n",
              " 'wouldn',\n",
              " \"wouldn't\"]"
            ]
          },
          "metadata": {},
          "execution_count": 101
        }
      ],
      "source": [
        "stopwords.words('english')"
      ]
    },
    {
      "cell_type": "code",
      "execution_count": 103,
      "metadata": {
        "id": "diKSdbVwctQO",
        "outputId": "9eabe920-ace0-425c-a08d-ca48d97b0d53",
        "colab": {
          "base_uri": "https://localhost:8080/"
        }
      },
      "outputs": [
        {
          "output_type": "execute_result",
          "data": {
            "text/plain": [
              "179"
            ]
          },
          "metadata": {},
          "execution_count": 103
        }
      ],
      "source": [
        "len(stopwords.words('english'))"
      ]
    },
    {
      "cell_type": "code",
      "execution_count": 104,
      "metadata": {
        "id": "XD9dK192ctQO",
        "outputId": "8a823512-c389-43fb-d52c-fcd3f47c33c6",
        "colab": {
          "base_uri": "https://localhost:8080/"
        }
      },
      "outputs": [
        {
          "output_type": "execute_result",
          "data": {
            "text/plain": [
              "['и',\n",
              " 'в',\n",
              " 'во',\n",
              " 'не',\n",
              " 'что',\n",
              " 'он',\n",
              " 'на',\n",
              " 'я',\n",
              " 'с',\n",
              " 'со',\n",
              " 'как',\n",
              " 'а',\n",
              " 'то',\n",
              " 'все',\n",
              " 'она',\n",
              " 'так',\n",
              " 'его',\n",
              " 'но',\n",
              " 'да',\n",
              " 'ты',\n",
              " 'к',\n",
              " 'у',\n",
              " 'же',\n",
              " 'вы',\n",
              " 'за',\n",
              " 'бы',\n",
              " 'по',\n",
              " 'только',\n",
              " 'ее',\n",
              " 'мне',\n",
              " 'было',\n",
              " 'вот',\n",
              " 'от',\n",
              " 'меня',\n",
              " 'еще',\n",
              " 'нет',\n",
              " 'о',\n",
              " 'из',\n",
              " 'ему',\n",
              " 'теперь',\n",
              " 'когда',\n",
              " 'даже',\n",
              " 'ну',\n",
              " 'вдруг',\n",
              " 'ли',\n",
              " 'если',\n",
              " 'уже',\n",
              " 'или',\n",
              " 'ни',\n",
              " 'быть',\n",
              " 'был',\n",
              " 'него',\n",
              " 'до',\n",
              " 'вас',\n",
              " 'нибудь',\n",
              " 'опять',\n",
              " 'уж',\n",
              " 'вам',\n",
              " 'ведь',\n",
              " 'там',\n",
              " 'потом',\n",
              " 'себя',\n",
              " 'ничего',\n",
              " 'ей',\n",
              " 'может',\n",
              " 'они',\n",
              " 'тут',\n",
              " 'где',\n",
              " 'есть',\n",
              " 'надо',\n",
              " 'ней',\n",
              " 'для',\n",
              " 'мы',\n",
              " 'тебя',\n",
              " 'их',\n",
              " 'чем',\n",
              " 'была',\n",
              " 'сам',\n",
              " 'чтоб',\n",
              " 'без',\n",
              " 'будто',\n",
              " 'чего',\n",
              " 'раз',\n",
              " 'тоже',\n",
              " 'себе',\n",
              " 'под',\n",
              " 'будет',\n",
              " 'ж',\n",
              " 'тогда',\n",
              " 'кто',\n",
              " 'этот',\n",
              " 'того',\n",
              " 'потому',\n",
              " 'этого',\n",
              " 'какой',\n",
              " 'совсем',\n",
              " 'ним',\n",
              " 'здесь',\n",
              " 'этом',\n",
              " 'один',\n",
              " 'почти',\n",
              " 'мой',\n",
              " 'тем',\n",
              " 'чтобы',\n",
              " 'нее',\n",
              " 'сейчас',\n",
              " 'были',\n",
              " 'куда',\n",
              " 'зачем',\n",
              " 'всех',\n",
              " 'никогда',\n",
              " 'можно',\n",
              " 'при',\n",
              " 'наконец',\n",
              " 'два',\n",
              " 'об',\n",
              " 'другой',\n",
              " 'хоть',\n",
              " 'после',\n",
              " 'над',\n",
              " 'больше',\n",
              " 'тот',\n",
              " 'через',\n",
              " 'эти',\n",
              " 'нас',\n",
              " 'про',\n",
              " 'всего',\n",
              " 'них',\n",
              " 'какая',\n",
              " 'много',\n",
              " 'разве',\n",
              " 'три',\n",
              " 'эту',\n",
              " 'моя',\n",
              " 'впрочем',\n",
              " 'хорошо',\n",
              " 'свою',\n",
              " 'этой',\n",
              " 'перед',\n",
              " 'иногда',\n",
              " 'лучше',\n",
              " 'чуть',\n",
              " 'том',\n",
              " 'нельзя',\n",
              " 'такой',\n",
              " 'им',\n",
              " 'более',\n",
              " 'всегда',\n",
              " 'конечно',\n",
              " 'всю',\n",
              " 'между']"
            ]
          },
          "metadata": {},
          "execution_count": 104
        }
      ],
      "source": [
        "stopwords.words('russian')"
      ]
    },
    {
      "cell_type": "code",
      "execution_count": 105,
      "metadata": {
        "_kg_hide-input": true,
        "id": "PSrIQ9YBctQO",
        "outputId": "cc1eeba9-80ee-4907-ff1f-400c80a0206f",
        "colab": {
          "base_uri": "https://localhost:8080/"
        }
      },
      "outputs": [
        {
          "output_type": "execute_result",
          "data": {
            "text/plain": [
              "[('the', 1691911),\n",
              " ('to', 798753),\n",
              " ('of', 767085),\n",
              " ('a', 738462),\n",
              " ('and', 711436),\n",
              " ('in', 601262),\n",
              " ('that', 404699),\n",
              " ('for', 276869),\n",
              " ('is', 266888),\n",
              " ('on', 239042),\n",
              " ('it', 207205),\n",
              " ('was', 205198),\n",
              " ('he', 200873),\n",
              " ('with', 195230),\n",
              " ('as', 187046),\n",
              " ('i', 160159),\n",
              " ('his', 150200),\n",
              " ('said', 146253),\n",
              " ('at', 144488),\n",
              " ('but', 142592)]"
            ]
          },
          "metadata": {},
          "execution_count": 105
        }
      ],
      "source": [
        "wd_counts = Counter()\n",
        "for i, row in articles.iterrows(): # iterrows is how we go row by row in Pandas Dataframe # this is slow way\n",
        "    wd_counts.update(row['tokenized'].split()) # for each row we count the words in tokenized column\n",
        "\n",
        "# we will delete stopwords later\n",
        "# for sw in stopwords.words('english'):\n",
        "#     del wd_counts[sw]\n",
        "\n",
        "    \n",
        "wd_counts.most_common(20)"
      ]
    },
    {
      "cell_type": "code",
      "execution_count": 106,
      "metadata": {
        "id": "M8tKlNWtctQO",
        "outputId": "54793169-7178-41bf-d1ca-e4ef9869d589",
        "colab": {
          "base_uri": "https://localhost:8080/"
        }
      },
      "outputs": [
        {
          "output_type": "execute_result",
          "data": {
            "text/plain": [
              "[('said', 146253),\n",
              " ('trump', 89050),\n",
              " ('mr', 83118),\n",
              " ('one', 77320),\n",
              " ('would', 70551),\n",
              " ('people', 68594),\n",
              " ('new', 57350),\n",
              " ('like', 57246),\n",
              " ('also', 50390),\n",
              " ('time', 41944),\n",
              " ('could', 40041),\n",
              " ('years', 39652),\n",
              " ('president', 39436),\n",
              " ('first', 37680),\n",
              " ('says', 37500),\n",
              " ('many', 36635),\n",
              " ('even', 36510),\n",
              " ('two', 35015),\n",
              " ('last', 30958),\n",
              " ('state', 30164)]"
            ]
          },
          "metadata": {},
          "execution_count": 106
        }
      ],
      "source": [
        "# so stopwords could be useful to analyzie style of authors but \n",
        "# here they will not help a topic analysis - in our case climate change\n",
        "for sw in stopwords.words('english'):\n",
        "    del wd_counts[sw]\n",
        "wd_counts.most_common(20)"
      ]
    },
    {
      "cell_type": "markdown",
      "metadata": {
        "id": "gAyrbiSrctQO"
      },
      "source": [
        "# 🌂 How many articles are talking about climate change? \n",
        "\n",
        "Let's identify keywords that might correlate with the topic, and search for them in the articles. \n",
        "\n",
        "We want the string **`chang`** followed by the string **`climate`** within 1 to 5 words (in regular expressions, `\\w+` matches one or more word characters, and `\\W+` matches one or more nonword characters)."
      ]
    },
    {
      "cell_type": "code",
      "execution_count": 108,
      "metadata": {
        "_kg_hide-input": true,
        "id": "RMM3OFutctQO",
        "outputId": "8958d964-c62d-4396-dfda-e89f780b0213",
        "colab": {
          "base_uri": "https://localhost:8080/"
        }
      },
      "outputs": [
        {
          "output_type": "stream",
          "name": "stdout",
          "text": [
            "The proportion of climate coverage over all articles is 3.8%\n"
          ]
        }
      ],
      "source": [
        "def find_cc_wds(content, cc_wds=['climate change','global warming', 'extreme weather', 'greenhouse gas'\n",
        "                                 'clean energy', 'clean tech', 'renewable energy','kyoto agreement']\n",
        "):\n",
        "    found = False\n",
        "    for w in cc_wds:\n",
        "        if w in content:\n",
        "            found = True\n",
        "            break\n",
        "\n",
        "    # this might take a while\n",
        "    if not found:\n",
        "        disj = re.compile(r'(chang\\w+\\W+(?:\\w+\\W+){1,5}?climate) | (climate\\W+(?:\\w+\\W+){1,5}?chang)')\n",
        "        if disj.match(content):\n",
        "            found = True\n",
        "    return found\n",
        "\n",
        "articles['cc_wds'] = articles['tokenized'].apply(find_cc_wds)\n",
        "\n",
        "print(f\"The proportion of climate coverage over all articles is {np.round(100*articles['cc_wds'].sum() / len(articles), 1)}%\")"
      ]
    },
    {
      "cell_type": "code",
      "execution_count": 109,
      "metadata": {
        "_kg_hide-input": true,
        "id": "_Q6ouN06ctQO",
        "outputId": "ae0c490e-a6b3-4afd-c2ca-6f32250bd4e6",
        "colab": {
          "base_uri": "https://localhost:8080/",
          "height": 585
        }
      },
      "outputs": [
        {
          "output_type": "display_data",
          "data": {
            "image/png": "[encoded data removed]",
            "text/plain": [
              "<Figure size 864x576 with 1 Axes>"
            ]
          },
          "metadata": {
            "needs_background": "light"
          }
        }
      ],
      "source": [
        "proportions = art_grps['cc_wds'].sum() / art_grps['cc_wds'].count()\n",
        "proportions.sort_values(ascending=True)\n",
        "\n",
        "ax=proportions.sort_values(ascending=False).plot(kind='bar', fontsize=14, figsize=(12,8), color=\"gray\")\n",
        "ax.set_title('Mean Proportion of Climate Change Related Articles per Publication\\n', fontsize=20)\n",
        "ax.set_ylabel('Mean Proportion', fontsize=18)\n",
        "ax.set_xlabel('Publication', fontsize=18)\n",
        "plt.tight_layout()\n",
        "sns.despine();"
      ]
    },
    {
      "cell_type": "markdown",
      "metadata": {
        "id": "ZoYSZ6kPctQP"
      },
      "source": [
        "# 🧑🏿‍🤝‍🧑🏿 Is a certain political group more prominent"
      ]
    },
    {
      "cell_type": "code",
      "execution_count": 110,
      "metadata": {
        "_kg_hide-input": true,
        "id": "WaLhlv1QctQP",
        "outputId": "8b118f7f-9b2b-4b06-8eb9-35df09c60fc4",
        "colab": {
          "base_uri": "https://localhost:8080/",
          "height": 441
        }
      },
      "outputs": [
        {
          "output_type": "display_data",
          "data": {
            "image/png": "[encoded data removed]",
            "text/plain": [
              "<Figure size 864x432 with 1 Axes>"
            ]
          },
          "metadata": {
            "needs_background": "light"
          }
        }
      ],
      "source": [
        "# The assignment of publications to bias slant is somewhat subjective\n",
        "#liberal, conservative, and center\n",
        "bias_assigns = {'Atlantic': 'left', 'Breitbart': 'right', 'Business Insider': 'left', 'Buzzfeed News': 'left', 'CNN': 'left', 'Fox News': 'right',\n",
        "                'Guardian': 'left', 'National Review': 'right', 'New York Post': 'right', 'New York Times': 'left',\n",
        "                'NPR': 'left', 'Reuters': 'center', 'Talking Points Memo': 'left', 'Washington Post': 'left', 'Vox': 'left'}\n",
        "articles['bias'] = articles['publication'].apply(lambda x: bias_assigns[x])\n",
        "\n",
        "bias_groups = articles.groupby('bias')\n",
        "bias_proportions = bias_groups['cc_wds'].sum() / bias_groups['cc_wds'].count()\n",
        "\n",
        "ax=bias_proportions.plot(kind='bar', fontsize=14, figsize=(12,6), color=\"gray\")\n",
        "ax.set_title('Proportion of climate change articles by Political Bias\\n', fontsize=20)\n",
        "ax.set_xlabel('Bias', fontsize=18)\n",
        "ax.set_ylabel('Proportion', fontsize=18)\n",
        "plt.tight_layout()\n",
        "sns.despine();"
      ]
    },
    {
      "cell_type": "code",
      "execution_count": null,
      "metadata": {
        "_kg_hide-input": true,
        "id": "uCicANYBctQP",
        "outputId": "3e30c41b-451a-415c-d0e5-d10f34dabe99"
      },
      "outputs": [
        {
          "name": "stdout",
          "output_type": "stream",
          "text": [
            "left vs. right: \t 1.7000000000000002% to 2.1%\n",
            "center vs. left: \t 1.3% to 2.1%\n",
            "center vs. right: \t 3.2% to 4.1000000000000005%\n"
          ]
        }
      ],
      "source": [
        "def standard_err(p1, n1, p2, n2):\n",
        "    return np.sqrt((p1* (1-p1) / n1) + (p2 * (1-p2) / n2))\n",
        "\n",
        "def ci_range(diff, std_err, cv=1.96):\n",
        "    return (diff - cv * std_err, diff + cv * std_err)\n",
        "\n",
        "def calc_ci_range(p1, n1, p2, n2):\n",
        "    std_err = standard_err(p1, n1, p2, n2)\n",
        "    diff = p1-p2\n",
        "    return ci_range(diff, std_err)\n",
        "\n",
        "center = bias_groups.get_group('center')\n",
        "left = bias_groups.get_group('left')\n",
        "right = bias_groups.get_group('right')\n",
        "\n",
        "# Confidence interval is \n",
        "_ = np.round(calc_ci_range(bias_proportions['left'], len(left), bias_proportions['right'], len(right)), 3)*100\n",
        "print(f\"left vs. right: \\t {_[0]}% to {_[1]}%\")\n",
        "\n",
        "_ = np.round(calc_ci_range(bias_proportions['center'], len(center), bias_proportions['left'], len(left)), 3)*100\n",
        "print(f\"center vs. left: \\t {_[0]}% to {_[1]}%\")\n",
        "\n",
        "_ = np.round(calc_ci_range(bias_proportions['center'], len(center), bias_proportions['right'], len(right)), 3)*100\n",
        "print(f\"center vs. right: \\t {_[0]}% to {_[1]}%\")"
      ]
    },
    {
      "cell_type": "markdown",
      "metadata": {
        "id": "b65q2WFCctQP"
      },
      "source": [
        "Next, we can look at publication ownership, using the same approach. We divide our population into four groups, LLC, corporation, non-profit, and private."
      ]
    },
    {
      "cell_type": "code",
      "execution_count": null,
      "metadata": {
        "_kg_hide-input": true,
        "id": "5FaTxkd4ctQP",
        "outputId": "03518659-222b-4be1-abbf-9748d5f0a70d"
      },
      "outputs": [
        {
          "data": {
            "image/png": "[encoded data removed]",
            "text/plain": [
              "<Figure size 864x432 with 1 Axes>"
            ]
          },
          "metadata": {
            "needs_background": "light"
          },
          "output_type": "display_data"
        }
      ],
      "source": [
        "own_assigns = {'Atlantic': 'non-profit', 'Breitbart': 'LLC', 'Business Insider': 'corp', 'Buzzfeed News': 'private',\n",
        "               'CNN': 'corp', 'Fox News': 'corp',\n",
        "                'Guardian': 'LLC', 'National Review': 'non-profit', 'New York Post': 'corp', 'New York Times': 'corp',\n",
        "                'NPR': 'non-profit', 'Reuters': 'corp', 'Talking Points Memo': 'private', 'Washington Post': 'LLC', 'Vox': 'private'}\n",
        "articles['ownership'] = articles['publication'].apply(lambda x: own_assigns[x])\n",
        "owner_groups = articles.groupby('ownership')\n",
        "owner_proportions = owner_groups['cc_wds'].sum() / owner_groups['cc_wds'].count()\n",
        "\n",
        "ax=owner_proportions.plot(kind='bar', fontsize=14, figsize=(12,6), color=\"gray\")\n",
        "ax.set_title('Proportion of climate change articles by Ownership Group\\n', fontsize=20)\n",
        "ax.set_xlabel('Ownership', fontsize=18)\n",
        "ax.set_ylabel('Proportion', fontsize=18)\n",
        "plt.tight_layout()\n",
        "sns.despine();"
      ]
    },
    {
      "cell_type": "code",
      "execution_count": null,
      "metadata": {
        "_kg_hide-input": true,
        "id": "rT6mDAZLctQP",
        "outputId": "69785162-e2ce-4076-c0f2-ae8b58e3405b"
      },
      "outputs": [
        {
          "name": "stdout",
          "output_type": "stream",
          "text": [
            "LLC vs. corp: \t\t\t 0.3% to 0.7000000000000001%\n",
            "non-profit vs. LLC \t\t 0.6% to 1.2%\n",
            "private vs. non-profit: \t -0.3% to 0.5%, (not significant)\n"
          ]
        }
      ],
      "source": [
        "llc = owner_groups.get_group('LLC')\n",
        "corp = owner_groups.get_group('corp')\n",
        "non_profit = owner_groups.get_group('non-profit')\n",
        "private = owner_groups.get_group('private')\n",
        "\n",
        "\n",
        "_ = np.round(calc_ci_range(owner_proportions['LLC'], len(llc), owner_proportions['corp'], len(corp)), 3)*100\n",
        "print(f\"LLC vs. corp: \\t\\t\\t {_[0]}% to {_[1]}%\")\n",
        "\n",
        "_ = np.round(calc_ci_range(owner_proportions['non-profit'], len(non_profit), owner_proportions['LLC'], len(llc)), 3)*100\n",
        "print(f\"non-profit vs. LLC \\t\\t {_[0]}% to {_[1]}%\")\n",
        "\n",
        "_ = np.round(calc_ci_range(owner_proportions['private'], len(private), owner_proportions['non-profit'], len(non_profit)), 3)*100\n",
        "print(f\"private vs. non-profit: \\t {_[0]}% to {_[1]}%, (not significant)\")"
      ]
    },
    {
      "cell_type": "markdown",
      "metadata": {
        "id": "4e_uGbVSctQQ"
      },
      "source": [
        "# Nicer Plots with PLOTLY"
      ]
    },
    {
      "cell_type": "code",
      "execution_count": null,
      "metadata": {
        "id": "hdL3jAS6ctQQ"
      },
      "outputs": [],
      "source": [
        "# https://plotly.com/python/bar-charts/\n",
        "# if you do not have plotly you can install via conda enviroments just place checkmark to plotly"
      ]
    },
    {
      "cell_type": "code",
      "execution_count": 111,
      "metadata": {
        "id": "5VLLY_DgctQQ",
        "outputId": "1664e814-bd7d-4403-b455-aa797956b97c",
        "colab": {
          "base_uri": "https://localhost:8080/",
          "height": 237
        }
      },
      "outputs": [
        {
          "output_type": "execute_result",
          "data": {
            "text/html": [
              "<div>\n",
              "<style scoped>\n",
              "    .dataframe tbody tr th:only-of-type {\n",
              "        vertical-align: middle;\n",
              "    }\n",
              "\n",
              "    .dataframe tbody tr th {\n",
              "        vertical-align: top;\n",
              "    }\n",
              "\n",
              "    .dataframe thead th {\n",
              "        text-align: right;\n",
              "    }\n",
              "</style>\n",
              "<table border=\"1\" class=\"dataframe\">\n",
              "  <thead>\n",
              "    <tr style=\"text-align: right;\">\n",
              "      <th></th>\n",
              "      <th>publication</th>\n",
              "    </tr>\n",
              "  </thead>\n",
              "  <tbody>\n",
              "    <tr>\n",
              "      <th>New York Times</th>\n",
              "      <td>7803</td>\n",
              "    </tr>\n",
              "    <tr>\n",
              "      <th>Atlantic</th>\n",
              "      <td>7007</td>\n",
              "    </tr>\n",
              "    <tr>\n",
              "      <th>NPR</th>\n",
              "      <td>6192</td>\n",
              "    </tr>\n",
              "    <tr>\n",
              "      <th>Guardian</th>\n",
              "      <td>3808</td>\n",
              "    </tr>\n",
              "    <tr>\n",
              "      <th>Fox News</th>\n",
              "      <td>2991</td>\n",
              "    </tr>\n",
              "    <tr>\n",
              "      <th>Breitbart</th>\n",
              "      <td>2197</td>\n",
              "    </tr>\n",
              "  </tbody>\n",
              "</table>\n",
              "</div>"
            ],
            "text/plain": [
              "                publication\n",
              "New York Times         7803\n",
              "Atlantic               7007\n",
              "NPR                    6192\n",
              "Guardian               3808\n",
              "Fox News               2991\n",
              "Breitbart              2197"
            ]
          },
          "metadata": {},
          "execution_count": 111
        }
      ],
      "source": [
        "pub_count = articles['publication'].value_counts().to_frame()\n",
        "pub_count"
      ]
    },
    {
      "cell_type": "code",
      "execution_count": 112,
      "metadata": {
        "id": "Yfs9lkkEctQQ",
        "outputId": "48c6a46d-2453-4c52-c17b-12fb27da85cf",
        "colab": {
          "base_uri": "https://localhost:8080/"
        }
      },
      "outputs": [
        {
          "output_type": "execute_result",
          "data": {
            "text/plain": [
              "pandas.core.frame.DataFrame"
            ]
          },
          "metadata": {},
          "execution_count": 112
        }
      ],
      "source": [
        "type(pub_count)"
      ]
    },
    {
      "cell_type": "code",
      "execution_count": 113,
      "metadata": {
        "id": "HVOvE_VhctQQ"
      },
      "outputs": [],
      "source": [
        "import plotly.express as px"
      ]
    },
    {
      "cell_type": "code",
      "execution_count": 115,
      "metadata": {
        "id": "D3-RLvlEctQQ",
        "outputId": "6c93ef72-eacb-4a02-b246-63eb46669144",
        "colab": {
          "base_uri": "https://localhost:8080/"
        }
      },
      "outputs": [
        {
          "output_type": "execute_result",
          "data": {
            "text/plain": [
              "publication    int64\n",
              "dtype: object"
            ]
          },
          "metadata": {},
          "execution_count": 115
        }
      ],
      "source": [
        "pub_count.dtypes"
      ]
    },
    {
      "cell_type": "code",
      "execution_count": 116,
      "metadata": {
        "id": "_0ET1SSJctQQ",
        "outputId": "307c914b-fb7a-425e-fa73-6a36ae420875",
        "colab": {
          "base_uri": "https://localhost:8080/",
          "height": 542
        }
      },
      "outputs": [
        {
          "output_type": "display_data",
          "data": {
            "text/html": [
              "<html>\n",
              "<head><meta charset=\"utf-8\" /></head>\n",
              "<body>\n",
              "    <div>\n",
              "            <script src=\"https://cdnjs.cloudflare.com/ajax/libs/mathjax/2.7.5/MathJax.js?config=TeX-AMS-MML_SVG\"></script><script type=\"text/javascript\">if (window.MathJax) {MathJax.Hub.Config({SVG: {font: \"STIX-Web\"}});}</script>\n",
              "                <script type=\"text/javascript\">window.PlotlyConfig = {MathJaxConfig: 'local'};</script>\n",
              "        <script src=\"https://cdn.plot.ly/plotly-latest.min.js\"></script>    \n",
              "            <div id=\"6530de6d-fe80-4574-8aa2-6b93b43adde9\" class=\"plotly-graph-div\" style=\"height:525px; width:100%;\"></div>\n",
              "            <script type=\"text/javascript\">\n",
              "                \n",
              "                    window.PLOTLYENV=window.PLOTLYENV || {};\n",
              "                    \n",
              "                if (document.getElementById(\"6530de6d-fe80-4574-8aa2-6b93b43adde9\")) {\n",
              "                    Plotly.newPlot(\n",
              "                        '6530de6d-fe80-4574-8aa2-6b93b43adde9',\n",
              "                        [{\"alignmentgroup\": \"True\", \"hoverlabel\": {\"namelength\": 0}, \"hovertemplate\": \"x=%{x}<br>publication=%{y}\", \"legendgroup\": \"\", \"marker\": {\"color\": \"#636efa\"}, \"name\": \"\", \"offsetgroup\": \"\", \"orientation\": \"v\", \"showlegend\": false, \"textposition\": \"auto\", \"type\": \"bar\", \"x\": [\"New York Times\", \"Atlantic\", \"NPR\", \"Guardian\", \"Fox News\", \"Breitbart\"], \"xaxis\": \"x\", \"y\": [7803, 7007, 6192, 3808, 2991, 2197], \"yaxis\": \"y\"}],\n",
              "                        {\"barmode\": \"relative\", \"legend\": {\"tracegroupgap\": 0}, \"margin\": {\"t\": 60}, \"template\": {\"data\": {\"bar\": [{\"error_x\": {\"color\": \"#2a3f5f\"}, \"error_y\": {\"color\": \"#2a3f5f\"}, \"marker\": {\"line\": {\"color\": \"#E5ECF6\", \"width\": 0.5}}, \"type\": \"bar\"}], \"barpolar\": [{\"marker\": {\"line\": {\"color\": \"#E5ECF6\", \"width\": 0.5}}, \"type\": \"barpolar\"}], \"carpet\": [{\"aaxis\": {\"endlinecolor\": \"#2a3f5f\", \"gridcolor\": \"white\", \"linecolor\": \"white\", \"minorgridcolor\": \"white\", \"startlinecolor\": \"#2a3f5f\"}, \"baxis\": {\"endlinecolor\": \"#2a3f5f\", \"gridcolor\": \"white\", \"linecolor\": \"white\", \"minorgridcolor\": \"white\", \"startlinecolor\": \"#2a3f5f\"}, \"type\": \"carpet\"}], \"choropleth\": [{\"colorbar\": {\"outlinewidth\": 0, \"ticks\": \"\"}, \"type\": \"choropleth\"}], \"contour\": [{\"colorbar\": {\"outlinewidth\": 0, \"ticks\": \"\"}, \"colorscale\": [[0.0, \"#0d0887\"], [0.1111111111111111, \"#46039f\"], [0.2222222222222222, \"#7201a8\"], [0.3333333333333333, \"#9c179e\"], [0.4444444444444444, \"#bd3786\"], [0.5555555555555556, \"#d8576b\"], [0.6666666666666666, \"#ed7953\"], [0.7777777777777778, \"#fb9f3a\"], [0.8888888888888888, \"#fdca26\"], [1.0, \"#f0f921\"]], \"type\": \"contour\"}], \"contourcarpet\": [{\"colorbar\": {\"outlinewidth\": 0, \"ticks\": \"\"}, \"type\": \"contourcarpet\"}], \"heatmap\": [{\"colorbar\": {\"outlinewidth\": 0, \"ticks\": \"\"}, \"colorscale\": [[0.0, \"#0d0887\"], [0.1111111111111111, \"#46039f\"], [0.2222222222222222, \"#7201a8\"], [0.3333333333333333, \"#9c179e\"], [0.4444444444444444, \"#bd3786\"], [0.5555555555555556, \"#d8576b\"], [0.6666666666666666, \"#ed7953\"], [0.7777777777777778, \"#fb9f3a\"], [0.8888888888888888, \"#fdca26\"], [1.0, \"#f0f921\"]], \"type\": \"heatmap\"}], \"heatmapgl\": [{\"colorbar\": {\"outlinewidth\": 0, \"ticks\": \"\"}, \"colorscale\": [[0.0, \"#0d0887\"], [0.1111111111111111, \"#46039f\"], [0.2222222222222222, \"#7201a8\"], [0.3333333333333333, \"#9c179e\"], [0.4444444444444444, \"#bd3786\"], [0.5555555555555556, \"#d8576b\"], [0.6666666666666666, \"#ed7953\"], [0.7777777777777778, \"#fb9f3a\"], [0.8888888888888888, \"#fdca26\"], [1.0, \"#f0f921\"]], \"type\": \"heatmapgl\"}], \"histogram\": [{\"marker\": {\"colorbar\": {\"outlinewidth\": 0, \"ticks\": \"\"}}, \"type\": \"histogram\"}], \"histogram2d\": [{\"colorbar\": {\"outlinewidth\": 0, \"ticks\": \"\"}, \"colorscale\": [[0.0, \"#0d0887\"], [0.1111111111111111, \"#46039f\"], [0.2222222222222222, \"#7201a8\"], [0.3333333333333333, \"#9c179e\"], [0.4444444444444444, \"#bd3786\"], [0.5555555555555556, \"#d8576b\"], [0.6666666666666666, \"#ed7953\"], [0.7777777777777778, \"#fb9f3a\"], [0.8888888888888888, \"#fdca26\"], [1.0, \"#f0f921\"]], \"type\": \"histogram2d\"}], \"histogram2dcontour\": [{\"colorbar\": {\"outlinewidth\": 0, \"ticks\": \"\"}, \"colorscale\": [[0.0, \"#0d0887\"], [0.1111111111111111, \"#46039f\"], [0.2222222222222222, \"#7201a8\"], [0.3333333333333333, \"#9c179e\"], [0.4444444444444444, \"#bd3786\"], [0.5555555555555556, \"#d8576b\"], [0.6666666666666666, \"#ed7953\"], [0.7777777777777778, \"#fb9f3a\"], [0.8888888888888888, \"#fdca26\"], [1.0, \"#f0f921\"]], \"type\": \"histogram2dcontour\"}], \"mesh3d\": [{\"colorbar\": {\"outlinewidth\": 0, \"ticks\": \"\"}, \"type\": \"mesh3d\"}], \"parcoords\": [{\"line\": {\"colorbar\": {\"outlinewidth\": 0, \"ticks\": \"\"}}, \"type\": \"parcoords\"}], \"pie\": [{\"automargin\": true, \"type\": \"pie\"}], \"scatter\": [{\"marker\": {\"colorbar\": {\"outlinewidth\": 0, \"ticks\": \"\"}}, \"type\": \"scatter\"}], \"scatter3d\": [{\"line\": {\"colorbar\": {\"outlinewidth\": 0, \"ticks\": \"\"}}, \"marker\": {\"colorbar\": {\"outlinewidth\": 0, \"ticks\": \"\"}}, \"type\": \"scatter3d\"}], \"scattercarpet\": [{\"marker\": {\"colorbar\": {\"outlinewidth\": 0, \"ticks\": \"\"}}, \"type\": \"scattercarpet\"}], \"scattergeo\": [{\"marker\": {\"colorbar\": {\"outlinewidth\": 0, \"ticks\": \"\"}}, \"type\": \"scattergeo\"}], \"scattergl\": [{\"marker\": {\"colorbar\": {\"outlinewidth\": 0, \"ticks\": \"\"}}, \"type\": \"scattergl\"}], \"scattermapbox\": [{\"marker\": {\"colorbar\": {\"outlinewidth\": 0, \"ticks\": \"\"}}, \"type\": \"scattermapbox\"}], \"scatterpolar\": [{\"marker\": {\"colorbar\": {\"outlinewidth\": 0, \"ticks\": \"\"}}, \"type\": \"scatterpolar\"}], \"scatterpolargl\": [{\"marker\": {\"colorbar\": {\"outlinewidth\": 0, \"ticks\": \"\"}}, \"type\": \"scatterpolargl\"}], \"scatterternary\": [{\"marker\": {\"colorbar\": {\"outlinewidth\": 0, \"ticks\": \"\"}}, \"type\": \"scatterternary\"}], \"surface\": [{\"colorbar\": {\"outlinewidth\": 0, \"ticks\": \"\"}, \"colorscale\": [[0.0, \"#0d0887\"], [0.1111111111111111, \"#46039f\"], [0.2222222222222222, \"#7201a8\"], [0.3333333333333333, \"#9c179e\"], [0.4444444444444444, \"#bd3786\"], [0.5555555555555556, \"#d8576b\"], [0.6666666666666666, \"#ed7953\"], [0.7777777777777778, \"#fb9f3a\"], [0.8888888888888888, \"#fdca26\"], [1.0, \"#f0f921\"]], \"type\": \"surface\"}], \"table\": [{\"cells\": {\"fill\": {\"color\": \"#EBF0F8\"}, \"line\": {\"color\": \"white\"}}, \"header\": {\"fill\": {\"color\": \"#C8D4E3\"}, \"line\": {\"color\": \"white\"}}, \"type\": \"table\"}]}, \"layout\": {\"annotationdefaults\": {\"arrowcolor\": \"#2a3f5f\", \"arrowhead\": 0, \"arrowwidth\": 1}, \"coloraxis\": {\"colorbar\": {\"outlinewidth\": 0, \"ticks\": \"\"}}, \"colorscale\": {\"diverging\": [[0, \"#8e0152\"], [0.1, \"#c51b7d\"], [0.2, \"#de77ae\"], [0.3, \"#f1b6da\"], [0.4, \"#fde0ef\"], [0.5, \"#f7f7f7\"], [0.6, \"#e6f5d0\"], [0.7, \"#b8e186\"], [0.8, \"#7fbc41\"], [0.9, \"#4d9221\"], [1, \"#276419\"]], \"sequential\": [[0.0, \"#0d0887\"], [0.1111111111111111, \"#46039f\"], [0.2222222222222222, \"#7201a8\"], [0.3333333333333333, \"#9c179e\"], [0.4444444444444444, \"#bd3786\"], [0.5555555555555556, \"#d8576b\"], [0.6666666666666666, \"#ed7953\"], [0.7777777777777778, \"#fb9f3a\"], [0.8888888888888888, \"#fdca26\"], [1.0, \"#f0f921\"]], \"sequentialminus\": [[0.0, \"#0d0887\"], [0.1111111111111111, \"#46039f\"], [0.2222222222222222, \"#7201a8\"], [0.3333333333333333, \"#9c179e\"], [0.4444444444444444, \"#bd3786\"], [0.5555555555555556, \"#d8576b\"], [0.6666666666666666, \"#ed7953\"], [0.7777777777777778, \"#fb9f3a\"], [0.8888888888888888, \"#fdca26\"], [1.0, \"#f0f921\"]]}, \"colorway\": [\"#636efa\", \"#EF553B\", \"#00cc96\", \"#ab63fa\", \"#FFA15A\", \"#19d3f3\", \"#FF6692\", \"#B6E880\", \"#FF97FF\", \"#FECB52\"], \"font\": {\"color\": \"#2a3f5f\"}, \"geo\": {\"bgcolor\": \"white\", \"lakecolor\": \"white\", \"landcolor\": \"#E5ECF6\", \"showlakes\": true, \"showland\": true, \"subunitcolor\": \"white\"}, \"hoverlabel\": {\"align\": \"left\"}, \"hovermode\": \"closest\", \"mapbox\": {\"style\": \"light\"}, \"paper_bgcolor\": \"white\", \"plot_bgcolor\": \"#E5ECF6\", \"polar\": {\"angularaxis\": {\"gridcolor\": \"white\", \"linecolor\": \"white\", \"ticks\": \"\"}, \"bgcolor\": \"#E5ECF6\", \"radialaxis\": {\"gridcolor\": \"white\", \"linecolor\": \"white\", \"ticks\": \"\"}}, \"scene\": {\"xaxis\": {\"backgroundcolor\": \"#E5ECF6\", \"gridcolor\": \"white\", \"gridwidth\": 2, \"linecolor\": \"white\", \"showbackground\": true, \"ticks\": \"\", \"zerolinecolor\": \"white\"}, \"yaxis\": {\"backgroundcolor\": \"#E5ECF6\", \"gridcolor\": \"white\", \"gridwidth\": 2, \"linecolor\": \"white\", \"showbackground\": true, \"ticks\": \"\", \"zerolinecolor\": \"white\"}, \"zaxis\": {\"backgroundcolor\": \"#E5ECF6\", \"gridcolor\": \"white\", \"gridwidth\": 2, \"linecolor\": \"white\", \"showbackground\": true, \"ticks\": \"\", \"zerolinecolor\": \"white\"}}, \"shapedefaults\": {\"line\": {\"color\": \"#2a3f5f\"}}, \"ternary\": {\"aaxis\": {\"gridcolor\": \"white\", \"linecolor\": \"white\", \"ticks\": \"\"}, \"baxis\": {\"gridcolor\": \"white\", \"linecolor\": \"white\", \"ticks\": \"\"}, \"bgcolor\": \"#E5ECF6\", \"caxis\": {\"gridcolor\": \"white\", \"linecolor\": \"white\", \"ticks\": \"\"}}, \"title\": {\"x\": 0.05}, \"xaxis\": {\"automargin\": true, \"gridcolor\": \"white\", \"linecolor\": \"white\", \"ticks\": \"\", \"title\": {\"standoff\": 15}, \"zerolinecolor\": \"white\", \"zerolinewidth\": 2}, \"yaxis\": {\"automargin\": true, \"gridcolor\": \"white\", \"linecolor\": \"white\", \"ticks\": \"\", \"title\": {\"standoff\": 15}, \"zerolinecolor\": \"white\", \"zerolinewidth\": 2}}}, \"xaxis\": {\"anchor\": \"y\", \"domain\": [0.0, 1.0], \"title\": {\"text\": \"x\"}}, \"yaxis\": {\"anchor\": \"x\", \"domain\": [0.0, 1.0], \"title\": {\"text\": \"publication\"}}},\n",
              "                        {\"responsive\": true}\n",
              "                    ).then(function(){\n",
              "                            \n",
              "var gd = document.getElementById('6530de6d-fe80-4574-8aa2-6b93b43adde9');\n",
              "var x = new MutationObserver(function (mutations, observer) {{\n",
              "        var display = window.getComputedStyle(gd).display;\n",
              "        if (!display || display === 'none') {{\n",
              "            console.log([gd, 'removed!']);\n",
              "            Plotly.purge(gd);\n",
              "            observer.disconnect();\n",
              "        }}\n",
              "}});\n",
              "\n",
              "// Listen for the removal of the full notebook cells\n",
              "var notebookContainer = gd.closest('#notebook-container');\n",
              "if (notebookContainer) {{\n",
              "    x.observe(notebookContainer, {childList: true});\n",
              "}}\n",
              "\n",
              "// Listen for the clearing of the current output cell\n",
              "var outputEl = gd.closest('.output');\n",
              "if (outputEl) {{\n",
              "    x.observe(outputEl, {childList: true});\n",
              "}}\n",
              "\n",
              "                        })\n",
              "                };\n",
              "                \n",
              "            </script>\n",
              "        </div>\n",
              "</body>\n",
              "</html>"
            ]
          },
          "metadata": {}
        }
      ],
      "source": [
        "fig = px.bar(pub_count, x=pub_count.index, y=\"publication\")\n",
        "fig.show()"
      ]
    }
  ],
  "metadata": {
    "kernelspec": {
      "display_name": "Python 3",
      "language": "python",
      "name": "python3"
    },
    "language_info": {
      "codemirror_mode": {
        "name": "ipython",
        "version": 3
      },
      "file_extension": ".py",
      "mimetype": "text/x-python",
      "name": "python",
      "nbconvert_exporter": "python",
      "pygments_lexer": "ipython3",
      "version": "3.8.3"
    },
    "colab": {
      "name": "news-outlets-climate-change.ipynb",
      "provenance": []
    }
  },
  "nbformat": 4,
  "nbformat_minor": 0
}