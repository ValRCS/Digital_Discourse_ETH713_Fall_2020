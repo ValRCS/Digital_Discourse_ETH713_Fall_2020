{
 "cells": [
  {
   "cell_type": "markdown",
   "metadata": {},
   "source": [
    "# Jupyter Tips and Tricks\n",
    "\n",
    "Jupyter notebooks has become a popular tool for data scientists and researchers. It is a great tool for prototyping and sharing code. In this notebook,let's see some tips and tricks that can make your Jupyter notebook experience more enjoyable and productive."
   ]
  },
  {
   "cell_type": "code",
   "execution_count": 3,
   "metadata": {},
   "outputs": [
    {
     "name": "stdout",
     "output_type": "stream",
     "text": [
      " Volume in drive D is Data\n",
      " Volume Serial Number is 72A3-8E69\n",
      "\n",
      " Directory of d:\\Github\\Digital_Discourse_ETH713_Fall_2020\n",
      "\n",
      "11/08/2024  07:27 PM    <DIR>          .\n",
      "11/08/2024  07:27 PM    <DIR>          ..\n",
      "11/30/2022  06:12 PM             1,356 .gitignore\n",
      "01/29/2023  07:32 PM    <DIR>          .idea\n",
      "01/29/2023  07:32 PM    <DIR>          .ipynb_checkpoints\n",
      "11/08/2024  06:35 PM    <DIR>          analysis\n",
      "05/13/2021  03:41 PM               277 Cool_Python_Libraries.md\n",
      "01/29/2023  07:32 PM    <DIR>          data\n",
      "11/02/2021  06:00 PM             5,206 Digital Discourse Final Project.ipynb\n",
      "11/03/2021  05:23 PM                21 hello.py\n",
      "11/08/2024  07:14 PM    <DIR>          img\n",
      "11/08/2024  06:35 PM    <DIR>          JSON_APIs\n",
      "11/08/2024  07:27 PM                 0 Jupyter_tips.ipynb\n",
      "01/29/2023  07:32 PM    <DIR>          kaggle\n",
      "11/02/2021  06:00 PM             1,084 LICENSE\n",
      "11/08/2024  06:35 PM    <DIR>          OpenAI\n",
      "05/13/2021  03:41 PM             4,119 Python Learning Resources.ipynb\n",
      "05/13/2021  03:41 PM             1,693 Python Learning Resources.md\n",
      "11/08/2024  07:20 PM           218,778 Python_Introduction.ipynb\n",
      "11/08/2024  06:35 PM             1,025 README.md\n",
      "11/08/2024  06:35 PM    <DIR>          TextProcessing\n",
      "05/13/2021  03:41 PM             3,084 Using Libraries and Notebooks.ipynb\n",
      "11/08/2024  06:35 PM    <DIR>          WebScraping\n",
      "              11 File(s)        236,643 bytes\n",
      "              12 Dir(s)  16,835,829,760 bytes free\n"
     ]
    }
   ],
   "source": [
    "# so you can run any terminal command from Jupyter code cells\n",
    "# ! will run any command that you would run in the terminal\n",
    "!dir"
   ]
  },
  {
   "cell_type": "code",
   "execution_count": null,
   "metadata": {},
   "outputs": [],
   "source": [
    "# we can use some Jupyter magic commands such as timeit to measure the time it takes to run a cell\n",
    "# this is useful when you want to compare the performance of different code snippets"
   ]
  },
  {
   "cell_type": "code",
   "execution_count": null,
   "metadata": {},
   "outputs": [
    {
     "name": "stdout",
     "output_type": "stream",
     "text": [
      "754 ns ± 14.9 ns per loop (mean ± std. dev. of 7 runs, 1,000,000 loops each)\n"
     ]
    }
   ],
   "source": [
    "%%timeit \n",
    "2**1000 # so Jupyter will run this code snippet multiple times and measure the time it takes to run it"
   ]
  },
  {
   "cell_type": "code",
   "execution_count": null,
   "metadata": {},
   "outputs": [
    {
     "data": {
      "text/plain": [
       "'apple'"
      ]
     },
     "execution_count": 7,
     "metadata": {},
     "output_type": "execute_result"
    }
   ],
   "source": [
    "# it could your function or any code snippet that you want to measure its performance\n",
    "# let's make a function that calculates the most common element in a list\n",
    "def most_common(lst):\n",
    "    return max(set(lst), key=lst.count)\n",
    "\n",
    "# first let's test if this function works\n",
    "words = ['apple', 'banana', 'apple', 'banana', 'apple', 'apple', 'apple', 'banana', 'apple', 'banana', \"grape\", \"orange\"]\n",
    "most_common(words) # it should return 'apple'\n",
    "# alternative would be to use the Counter class from the collections module\n",
    "from collections import Counter\n",
    "def most_common_counter(lst):\n",
    "    return Counter(lst).most_common(1)[0][0] # [0][1] would be the count of the most common element\n",
    "# [0][0] is used to get the most common element from the list of tuples returned by most_common method\n",
    "# test that it works\n",
    "most_common_counter(words) # it should return 'apple'"
   ]
  },
  {
   "cell_type": "code",
   "execution_count": 9,
   "metadata": {},
   "outputs": [
    {
     "data": {
      "text/plain": [
       "('vanilla', 'vanilla')"
      ]
     },
     "execution_count": 9,
     "metadata": {},
     "output_type": "execute_result"
    }
   ],
   "source": [
    "# now let's test which function is better in terms of performance\n",
    "# first let's generate 1000 random words from 26 words\n",
    "# \"apple\", \"banana\", \"citrus\", \"date\", \"elderberry\", \"fig\", \"grape\", \"honeydew\", \"kiwi\", \"lemon\", \"mango\", \"nectarine\", \"orange\", \"papaya\", \"quince\", \"raspberry\", \"strawberry\", \"tangerine\", \"ugli\", \"vanilla\", \"watermelon\", \"ximenia\", \"yuzu\", \"zucchini\"\n",
    "import random\n",
    "fruits = [\"apple\", \"banana\", \"citrus\", \"date\", \"elderberry\", \"fig\", \"grape\", \"honeydew\", \"kiwi\", \"lemon\", \"mango\", \"nectarine\", \"orange\", \"papaya\", \"quince\", \"raspberry\", \"strawberry\", \"tangerine\", \"ugli\", \"vanilla\", \"watermelon\", \"ximenia\", \"yuzu\", \"zucchini\"]\n",
    "random_words = [random.choice(fruits) for _ in range(1000)]\n",
    "# we have 1000 random words in the list random_words\n",
    "# now let's measure the performance of our functions\n",
    "# first check that they work\n",
    "most_common(random_words), most_common_counter(random_words) # they should return the same result"
   ]
  },
  {
   "cell_type": "code",
   "execution_count": 10,
   "metadata": {},
   "outputs": [
    {
     "name": "stdout",
     "output_type": "stream",
     "text": [
      "259 µs ± 13 µs per loop (mean ± std. dev. of 7 runs, 1,000 loops each)\n"
     ]
    }
   ],
   "source": [
    "%%timeit\n",
    "most_common(random_words)"
   ]
  },
  {
   "cell_type": "code",
   "execution_count": 11,
   "metadata": {},
   "outputs": [
    {
     "name": "stdout",
     "output_type": "stream",
     "text": [
      "31.6 µs ± 884 ns per loop (mean ± std. dev. of 7 runs, 10,000 loops each)\n"
     ]
    }
   ],
   "source": [
    "%%timeit\n",
    "most_common_counter(random_words)"
   ]
  },
  {
   "cell_type": "markdown",
   "metadata": {},
   "source": [
    "## Takeaway from timeit\n",
    "\n",
    "%%timeit can be useful to measure performance\n",
    "\n",
    "However, if one function takes 250ms and another takes 50ms, it is not going to make much difference if you can't see the difference in the output. \n",
    "\n",
    "One trick is to see the time taken by each cell. Simply see that the cell is executed and the time taken to execute the cell is displayed. \n",
    "\n"
   ]
  },
  {
   "cell_type": "code",
   "execution_count": 12,
   "metadata": {},
   "outputs": [],
   "source": [
    "# let's run a simple loop and measure the time it takes to run it\n",
    "for _ in range(100_000_000):\n",
    "    pass # running on empty loop"
   ]
  },
  {
   "cell_type": "markdown",
   "metadata": {},
   "source": [
    "## Output and print\n",
    "\n",
    "So by default Jupyter shows output of the last line of the cell. However, if you want to see the output of multiple lines, you can use print statement. \n",
    "\n"
   ]
  },
  {
   "cell_type": "code",
   "execution_count": null,
   "metadata": {},
   "outputs": [
    {
     "data": {
      "text/plain": [
       "'Hello, World!\\n'"
      ]
     },
     "execution_count": 13,
     "metadata": {},
     "output_type": "execute_result"
    }
   ],
   "source": [
    "# so let's see the difference between print and output of the last line cell\n",
    "my_text = \"Hello, World!\\n\"\n",
    "my_text # this will print the text, technically it will print the repr of the object not the str"
   ]
  },
  {
   "cell_type": "code",
   "execution_count": null,
   "metadata": {},
   "outputs": [
    {
     "name": "stdout",
     "output_type": "stream",
     "text": [
      "Hello, World!\n",
      "\n"
     ]
    }
   ],
   "source": [
    "# compare with regular print\n",
    "print(my_text) # this will print the text as it is\n",
    "\n",
    "# so last line of cell is more technical and it will print the repr of the object\n",
    "# print will be more user friendly and it will print the str of the object"
   ]
  },
  {
   "cell_type": "code",
   "execution_count": 17,
   "metadata": {},
   "outputs": [
    {
     "data": {
      "text/plain": [
       "'VALDIS'"
      ]
     },
     "execution_count": 17,
     "metadata": {},
     "output_type": "execute_result"
    }
   ],
   "source": [
    "# again for each code cell execution, the last line will be printed\n",
    "\"Valdis\".upper() # this will print VALDIS"
   ]
  },
  {
   "cell_type": "markdown",
   "metadata": {},
   "source": [
    "## Running python code from a different file\n",
    "\n",
    "Usually we have all our code in a single notebook. However, if you want to run code from a different file, you can use the magic command %run followed by the file name.\n",
    "\n",
    "So let's run hello.py file which has the following code:\n",
    "\n",
    "```python\n",
    "print(\"Hello World\")\n",
    "```\n",
    "\n",
    "```python\n",
    "%run hello.py\n",
    "```"
   ]
  },
  {
   "cell_type": "code",
   "execution_count": 19,
   "metadata": {},
   "outputs": [
    {
     "name": "stdout",
     "output_type": "stream",
     "text": [
      "Hello world!\n"
     ]
    }
   ],
   "source": [
    "%run hello.py # this will run the hello.py script in the same directory as this notebook"
   ]
  },
  {
   "cell_type": "code",
   "execution_count": null,
   "metadata": {},
   "outputs": [
    {
     "data": {
      "text/plain": [
       "'Hello, Discourse!'"
      ]
     },
     "execution_count": 20,
     "metadata": {},
     "output_type": "execute_result"
    }
   ],
   "source": [
    "my_greeting # so the variable from the script is available here!"
   ]
  }
 ],
 "metadata": {
  "kernelspec": {
   "display_name": "Python 3",
   "language": "python",
   "name": "python3"
  },
  "language_info": {
   "codemirror_mode": {
    "name": "ipython",
    "version": 3
   },
   "file_extension": ".py",
   "mimetype": "text/x-python",
   "name": "python",
   "nbconvert_exporter": "python",
   "pygments_lexer": "ipython3",
   "version": "3.11.4"
  }
 },
 "nbformat": 4,
 "nbformat_minor": 2
}
